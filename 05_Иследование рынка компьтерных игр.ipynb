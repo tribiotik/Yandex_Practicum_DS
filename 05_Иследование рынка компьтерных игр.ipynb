{
 "cells": [
  {
   "cell_type": "markdown",
   "metadata": {},
   "source": [
    "Привет, Андрей! \n",
    "\n",
    "Меня зовут Ольга и я буду проверять твою работу. Предлагаю продолжить общение на «ты». Но, если это не удобно, - дай знать, и мы перейдем на \"вы\". \n",
    "\n",
    "Моя основная цель — не указать на совершенные тобою ошибки, а поделиться своим опытом и помочь тебе стать аналитиком данных. Ты уже проделала большую работу над проектом, но давай сделаем его еще лучше. \n",
    "\n",
    "Ниже ты найдешь мои комментарии - **пожалуйста, не перемещай, не изменяй и не удаляй их**. \n",
    "\n",
    "Увидев у тебя ошибку, в первый раз я лишь укажу на ее наличие и дам тебе возможность самостоятельно найти и исправить ее. На реальной работе твой начальник будет поступать так же, а я пытаюсь подготовить тебя именно к работе аналитиком. Но, если ты пока не справишься с такой задачей - при следующей проверке я дам более точную подсказку. \n",
    "\n",
    "Мои комментарии выглядят так:\n",
    "        \n",
    "<div class=\"alert alert-block alert-success\">\n",
    "<b>Комментарий от ревьюера</b>\n",
    "\n",
    "Таким цветом отмечены правильные решения.\n",
    "\n",
    "</div>\n",
    "\n",
    "<div class=\"alert alert-block alert-warning\">\n",
    "<b>Комментарий от ревьюера</b>\n",
    "\n",
    "Таким цветом отмечены дополнения как сделать работу еще лучше.\n",
    "\n",
    "</div>\n",
    "\n",
    "<div class=\"alert alert-block alert-danger\">\n",
    "<b>Комментарий от ревьюера</b>\n",
    "\n",
    "Таким цветом отмечены неудачные решения\n",
    "\n",
    "</div>\n",
    "\n",
    "\n",
    "Ты можешь оставлять свои комментарии под моими, отметь их каким-нибудь цветом или просто выдели отдельную ячейку.\n",
    "Например, так:\n",
    "\n",
    "<div class=\"alert alert-block alert-info\">\n",
    "<b>Комментарий от студента</b> <a class=\"tocSkip\"></a>\n",
    "    \n",
    "Текст комментария\n",
    "</div>"
   ]
  },
  {
   "cell_type": "markdown",
   "metadata": {},
   "source": [
    "<div class=\"alert alert-block alert-success\">\n",
    "<b>Общий комментарий от ревьюера</b>\n",
    "    \n",
    "Андрей, спасибо большое за присланную работу!  Извини, что вышла такая большая задержка с проверкой, я думаю, ты уже в курсе ситуации. Мы стараемся сократить время, надеюсь, скоро всё получится.\n",
    "    \n",
    "Проект получился ооочень классным! Ты строишь очень хорошие графики, они понятные и красивые. Отдельное спасибо за подробные комментарии в течении всего проекта. Они очень хорошо помогают структурировать работу. \n",
    "    \n",
    "<span class=\"text-danger\"> Есть несколько мелких ошибок, которые ты легко поправишь. Я написала комментарии, посмотри, пожалуйста.</span>\n",
    "    \n",
    "Жду обновленную версию. :) \n",
    "</div>\n",
    "\n",
    "<div class=\"alert alert-block alert-success\">\n",
    "<b>Общий комментарий от ревьюера. V.2.</b>\n",
    "    \n",
    "Привет, Андрей! Спасибо за быстрые правки! Всё получилось прекрасно!\n",
    "    \n",
    "Надеюсь,следующий проект будет быстрее! Удачи! :)\n",
    "</div>\n",
    "\n",
    "<div class=\"alert alert-block alert-warning\">\n",
    "<b>Для будущих проектов</b>\n",
    "    \n",
    "- лучше давать переменным осмысленные имена (cars, credits, events). df=dataframe. Представь, что у нас будет df1,df2,df3. Сложновато будет сразу понять, где нужные данные.\n",
    "    \n",
    "\n",
    "</div>"
   ]
  },
  {
   "cell_type": "markdown",
   "metadata": {},
   "source": [
    "# Сборный проект-1"
   ]
  },
  {
   "cell_type": "markdown",
   "metadata": {},
   "source": [
    "# Описание проекта"
   ]
  },
  {
   "cell_type": "markdown",
   "metadata": {},
   "source": [
    "Вы работаете в интернет-магазине «Стримчик», который продаёт по всему миру компьютерные игры. Из открытых источников доступны исторические данные о продажах игр, оценки пользователей и экспертов, жанры и платформы (например, Xbox или PlayStation). Вам нужно выявить определяющие успешность игры закономерности. Это позволит сделать ставку на потенциально популярный продукт и спланировать рекламные кампании.\n",
    "Перед вами данные до 2016 года. Представим, что сейчас декабрь 2016 г., и вы планируете кампанию на 2017-й. Нужно отработать принцип работы с данными. Неважно, прогнозируете ли вы продажи на 2017 год по данным 2016-го или же 2027-й — по данным 2026 года.\n",
    "В наборе данных попадается аббревиатура ESRB (Entertainment Software Rating Board) — это ассоциация, определяющая возрастной рейтинг компьютерных игр. ESRB оценивает игровой контент и присваивает ему подходящую возрастную категорию, например, «Для взрослых», «Для детей младшего возраста» или «Для подростков».\n"
   ]
  },
  {
   "cell_type": "markdown",
   "metadata": {},
   "source": [
    "<div class=\"alert alert-block alert-success\">\n",
    "<b>Комментарий от ревьюера</b>\n",
    "\n",
    "Супер, что есть вступление!\n",
    "</div>"
   ]
  },
  {
   "cell_type": "markdown",
   "metadata": {},
   "source": [
    "##  Импорт библиотек"
   ]
  },
  {
   "cell_type": "code",
   "execution_count": 1,
   "metadata": {},
   "outputs": [],
   "source": [
    "import pandas as pd\n",
    "import numpy as np\n",
    "import matplotlib.pyplot as plt\n",
    "import seaborn as sns\n",
    "import scipy.stats as st"
   ]
  },
  {
   "cell_type": "markdown",
   "metadata": {},
   "source": [
    "## Изучение файла с данными"
   ]
  },
  {
   "cell_type": "code",
   "execution_count": 2,
   "metadata": {},
   "outputs": [
    {
     "name": "stdout",
     "output_type": "stream",
     "text": [
      "<class 'pandas.core.frame.DataFrame'>\n",
      "RangeIndex: 16715 entries, 0 to 16714\n",
      "Data columns (total 11 columns):\n",
      "Name               16713 non-null object\n",
      "Platform           16715 non-null object\n",
      "Year_of_Release    16446 non-null float64\n",
      "Genre              16713 non-null object\n",
      "NA_sales           16715 non-null float64\n",
      "EU_sales           16715 non-null float64\n",
      "JP_sales           16715 non-null float64\n",
      "Other_sales        16715 non-null float64\n",
      "Critic_Score       8137 non-null float64\n",
      "User_Score         10014 non-null object\n",
      "Rating             9949 non-null object\n",
      "dtypes: float64(6), object(5)\n",
      "memory usage: 1.4+ MB\n"
     ]
    },
    {
     "data": {
      "text/plain": [
       "None"
      ]
     },
     "metadata": {},
     "output_type": "display_data"
    },
    {
     "data": {
      "text/html": [
       "<div>\n",
       "<style scoped>\n",
       "    .dataframe tbody tr th:only-of-type {\n",
       "        vertical-align: middle;\n",
       "    }\n",
       "\n",
       "    .dataframe tbody tr th {\n",
       "        vertical-align: top;\n",
       "    }\n",
       "\n",
       "    .dataframe thead th {\n",
       "        text-align: right;\n",
       "    }\n",
       "</style>\n",
       "<table border=\"1\" class=\"dataframe\">\n",
       "  <thead>\n",
       "    <tr style=\"text-align: right;\">\n",
       "      <th></th>\n",
       "      <th>Name</th>\n",
       "      <th>Platform</th>\n",
       "      <th>Year_of_Release</th>\n",
       "      <th>Genre</th>\n",
       "      <th>NA_sales</th>\n",
       "      <th>EU_sales</th>\n",
       "      <th>JP_sales</th>\n",
       "      <th>Other_sales</th>\n",
       "      <th>Critic_Score</th>\n",
       "      <th>User_Score</th>\n",
       "      <th>Rating</th>\n",
       "    </tr>\n",
       "  </thead>\n",
       "  <tbody>\n",
       "    <tr>\n",
       "      <td>0</td>\n",
       "      <td>Wii Sports</td>\n",
       "      <td>Wii</td>\n",
       "      <td>2006.0</td>\n",
       "      <td>Sports</td>\n",
       "      <td>41.36</td>\n",
       "      <td>28.96</td>\n",
       "      <td>3.77</td>\n",
       "      <td>8.45</td>\n",
       "      <td>76.0</td>\n",
       "      <td>8</td>\n",
       "      <td>E</td>\n",
       "    </tr>\n",
       "    <tr>\n",
       "      <td>1</td>\n",
       "      <td>Super Mario Bros.</td>\n",
       "      <td>NES</td>\n",
       "      <td>1985.0</td>\n",
       "      <td>Platform</td>\n",
       "      <td>29.08</td>\n",
       "      <td>3.58</td>\n",
       "      <td>6.81</td>\n",
       "      <td>0.77</td>\n",
       "      <td>NaN</td>\n",
       "      <td>NaN</td>\n",
       "      <td>NaN</td>\n",
       "    </tr>\n",
       "    <tr>\n",
       "      <td>2</td>\n",
       "      <td>Mario Kart Wii</td>\n",
       "      <td>Wii</td>\n",
       "      <td>2008.0</td>\n",
       "      <td>Racing</td>\n",
       "      <td>15.68</td>\n",
       "      <td>12.76</td>\n",
       "      <td>3.79</td>\n",
       "      <td>3.29</td>\n",
       "      <td>82.0</td>\n",
       "      <td>8.3</td>\n",
       "      <td>E</td>\n",
       "    </tr>\n",
       "    <tr>\n",
       "      <td>3</td>\n",
       "      <td>Wii Sports Resort</td>\n",
       "      <td>Wii</td>\n",
       "      <td>2009.0</td>\n",
       "      <td>Sports</td>\n",
       "      <td>15.61</td>\n",
       "      <td>10.93</td>\n",
       "      <td>3.28</td>\n",
       "      <td>2.95</td>\n",
       "      <td>80.0</td>\n",
       "      <td>8</td>\n",
       "      <td>E</td>\n",
       "    </tr>\n",
       "    <tr>\n",
       "      <td>4</td>\n",
       "      <td>Pokemon Red/Pokemon Blue</td>\n",
       "      <td>GB</td>\n",
       "      <td>1996.0</td>\n",
       "      <td>Role-Playing</td>\n",
       "      <td>11.27</td>\n",
       "      <td>8.89</td>\n",
       "      <td>10.22</td>\n",
       "      <td>1.00</td>\n",
       "      <td>NaN</td>\n",
       "      <td>NaN</td>\n",
       "      <td>NaN</td>\n",
       "    </tr>\n",
       "    <tr>\n",
       "      <td>5</td>\n",
       "      <td>Tetris</td>\n",
       "      <td>GB</td>\n",
       "      <td>1989.0</td>\n",
       "      <td>Puzzle</td>\n",
       "      <td>23.20</td>\n",
       "      <td>2.26</td>\n",
       "      <td>4.22</td>\n",
       "      <td>0.58</td>\n",
       "      <td>NaN</td>\n",
       "      <td>NaN</td>\n",
       "      <td>NaN</td>\n",
       "    </tr>\n",
       "    <tr>\n",
       "      <td>6</td>\n",
       "      <td>New Super Mario Bros.</td>\n",
       "      <td>DS</td>\n",
       "      <td>2006.0</td>\n",
       "      <td>Platform</td>\n",
       "      <td>11.28</td>\n",
       "      <td>9.14</td>\n",
       "      <td>6.50</td>\n",
       "      <td>2.88</td>\n",
       "      <td>89.0</td>\n",
       "      <td>8.5</td>\n",
       "      <td>E</td>\n",
       "    </tr>\n",
       "    <tr>\n",
       "      <td>7</td>\n",
       "      <td>Wii Play</td>\n",
       "      <td>Wii</td>\n",
       "      <td>2006.0</td>\n",
       "      <td>Misc</td>\n",
       "      <td>13.96</td>\n",
       "      <td>9.18</td>\n",
       "      <td>2.93</td>\n",
       "      <td>2.84</td>\n",
       "      <td>58.0</td>\n",
       "      <td>6.6</td>\n",
       "      <td>E</td>\n",
       "    </tr>\n",
       "    <tr>\n",
       "      <td>8</td>\n",
       "      <td>New Super Mario Bros. Wii</td>\n",
       "      <td>Wii</td>\n",
       "      <td>2009.0</td>\n",
       "      <td>Platform</td>\n",
       "      <td>14.44</td>\n",
       "      <td>6.94</td>\n",
       "      <td>4.70</td>\n",
       "      <td>2.24</td>\n",
       "      <td>87.0</td>\n",
       "      <td>8.4</td>\n",
       "      <td>E</td>\n",
       "    </tr>\n",
       "    <tr>\n",
       "      <td>9</td>\n",
       "      <td>Duck Hunt</td>\n",
       "      <td>NES</td>\n",
       "      <td>1984.0</td>\n",
       "      <td>Shooter</td>\n",
       "      <td>26.93</td>\n",
       "      <td>0.63</td>\n",
       "      <td>0.28</td>\n",
       "      <td>0.47</td>\n",
       "      <td>NaN</td>\n",
       "      <td>NaN</td>\n",
       "      <td>NaN</td>\n",
       "    </tr>\n",
       "  </tbody>\n",
       "</table>\n",
       "</div>"
      ],
      "text/plain": [
       "                        Name Platform  Year_of_Release         Genre  \\\n",
       "0                 Wii Sports      Wii           2006.0        Sports   \n",
       "1          Super Mario Bros.      NES           1985.0      Platform   \n",
       "2             Mario Kart Wii      Wii           2008.0        Racing   \n",
       "3          Wii Sports Resort      Wii           2009.0        Sports   \n",
       "4   Pokemon Red/Pokemon Blue       GB           1996.0  Role-Playing   \n",
       "5                     Tetris       GB           1989.0        Puzzle   \n",
       "6      New Super Mario Bros.       DS           2006.0      Platform   \n",
       "7                   Wii Play      Wii           2006.0          Misc   \n",
       "8  New Super Mario Bros. Wii      Wii           2009.0      Platform   \n",
       "9                  Duck Hunt      NES           1984.0       Shooter   \n",
       "\n",
       "   NA_sales  EU_sales  JP_sales  Other_sales  Critic_Score User_Score Rating  \n",
       "0     41.36     28.96      3.77         8.45          76.0          8      E  \n",
       "1     29.08      3.58      6.81         0.77           NaN        NaN    NaN  \n",
       "2     15.68     12.76      3.79         3.29          82.0        8.3      E  \n",
       "3     15.61     10.93      3.28         2.95          80.0          8      E  \n",
       "4     11.27      8.89     10.22         1.00           NaN        NaN    NaN  \n",
       "5     23.20      2.26      4.22         0.58           NaN        NaN    NaN  \n",
       "6     11.28      9.14      6.50         2.88          89.0        8.5      E  \n",
       "7     13.96      9.18      2.93         2.84          58.0        6.6      E  \n",
       "8     14.44      6.94      4.70         2.24          87.0        8.4      E  \n",
       "9     26.93      0.63      0.28         0.47           NaN        NaN    NaN  "
      ]
     },
     "metadata": {},
     "output_type": "display_data"
    },
    {
     "data": {
      "text/plain": [
       "Name                  2\n",
       "Platform              0\n",
       "Year_of_Release     269\n",
       "Genre                 2\n",
       "NA_sales              0\n",
       "EU_sales              0\n",
       "JP_sales              0\n",
       "Other_sales           0\n",
       "Critic_Score       8578\n",
       "User_Score         6701\n",
       "Rating             6766\n",
       "dtype: int64"
      ]
     },
     "metadata": {},
     "output_type": "display_data"
    },
    {
     "data": {
      "text/plain": [
       "0"
      ]
     },
     "metadata": {},
     "output_type": "display_data"
    }
   ],
   "source": [
    "# Загрузка данных\n",
    "df = pd.read_csv('/datasets/games.csv')\n",
    "# Вывод общей информации\n",
    "display(df.info())\n",
    "# Знакомство с данными\n",
    "display(df.head(10))\n",
    "# Подсчет пропусков\n",
    "display(df.isna().sum())\n",
    "# Подсчет дубликатов\n",
    "display(df.duplicated().sum())"
   ]
  },
  {
   "cell_type": "markdown",
   "metadata": {},
   "source": [
    "### Вывод"
   ]
  },
  {
   "cell_type": "markdown",
   "metadata": {},
   "source": [
    "Имеем датасет 11 столбцов и 16715 строк. Названия столбцов записаны не змеиным регистром. Для 269 игр не представлен год релиза. Столбцы с рейтингом имеют большое количество пропусков. Дубликаты отсутствуют."
   ]
  },
  {
   "cell_type": "markdown",
   "metadata": {},
   "source": [
    "<div class=\"alert alert-block alert-success\">\n",
    "<b>Комментарий от ревьюера</b>\n",
    "\n",
    "Отлично, есть базовая информация. Можно начинать!</div>\n",
    "\n",
    "<div class=\"alert alert-block alert-warning\">\n",
    "<b>Комментарий от ревьюера</b>\n",
    "\n",
    "Дубликаты тоже лучше смотреть через sum(). Иначе придется отсматривать все строки на наличие True.</div>"
   ]
  },
  {
   "cell_type": "markdown",
   "metadata": {},
   "source": [
    "<div class=\"alert alert-block alert-info\">\n",
    "<b>Комментарий от студента</b> <a class=\"tocSkip\"></a>\n",
    "    \n",
    "Полностью с тобой согласен. Просто скобки куда то уплыли. Исправил\n",
    "</div>"
   ]
  },
  {
   "cell_type": "markdown",
   "metadata": {},
   "source": [
    "<div class=\"alert alert-block alert-success\">\n",
    "<b>Комментарий от ревьюера. V.2.</b>\n",
    "\n",
    "Супер!\n",
    "</div>"
   ]
  },
  {
   "cell_type": "markdown",
   "metadata": {},
   "source": [
    "## Подготовка данных"
   ]
  },
  {
   "cell_type": "markdown",
   "metadata": {},
   "source": [
    "### Приведение названия столбцов к нижнему регистру"
   ]
  },
  {
   "cell_type": "code",
   "execution_count": 3,
   "metadata": {},
   "outputs": [
    {
     "data": {
      "text/html": [
       "<div>\n",
       "<style scoped>\n",
       "    .dataframe tbody tr th:only-of-type {\n",
       "        vertical-align: middle;\n",
       "    }\n",
       "\n",
       "    .dataframe tbody tr th {\n",
       "        vertical-align: top;\n",
       "    }\n",
       "\n",
       "    .dataframe thead th {\n",
       "        text-align: right;\n",
       "    }\n",
       "</style>\n",
       "<table border=\"1\" class=\"dataframe\">\n",
       "  <thead>\n",
       "    <tr style=\"text-align: right;\">\n",
       "      <th></th>\n",
       "      <th>name</th>\n",
       "      <th>platform</th>\n",
       "      <th>year_of_release</th>\n",
       "      <th>genre</th>\n",
       "      <th>na_sales</th>\n",
       "      <th>eu_sales</th>\n",
       "      <th>jp_sales</th>\n",
       "      <th>other_sales</th>\n",
       "      <th>critic_score</th>\n",
       "      <th>user_score</th>\n",
       "      <th>rating</th>\n",
       "    </tr>\n",
       "  </thead>\n",
       "  <tbody>\n",
       "    <tr>\n",
       "      <td>0</td>\n",
       "      <td>Wii Sports</td>\n",
       "      <td>Wii</td>\n",
       "      <td>2006.0</td>\n",
       "      <td>Sports</td>\n",
       "      <td>41.36</td>\n",
       "      <td>28.96</td>\n",
       "      <td>3.77</td>\n",
       "      <td>8.45</td>\n",
       "      <td>76.0</td>\n",
       "      <td>8</td>\n",
       "      <td>E</td>\n",
       "    </tr>\n",
       "  </tbody>\n",
       "</table>\n",
       "</div>"
      ],
      "text/plain": [
       "         name platform  year_of_release   genre  na_sales  eu_sales  jp_sales  \\\n",
       "0  Wii Sports      Wii           2006.0  Sports     41.36     28.96      3.77   \n",
       "\n",
       "   other_sales  critic_score user_score rating  \n",
       "0         8.45          76.0          8      E  "
      ]
     },
     "execution_count": 3,
     "metadata": {},
     "output_type": "execute_result"
    }
   ],
   "source": [
    "# Для удобства приведем названия столбцов к нижнену регистру.\n",
    "df.rename(\n",
    "    columns={'Name':'name',\n",
    "    'Platform':'platform',\n",
    "    'Year_of_Release':'year_of_release',\n",
    "    'Genre':'genre',\n",
    "    'NA_sales':'na_sales',\n",
    "    'EU_sales':'eu_sales', \n",
    "    'JP_sales':'jp_sales', \n",
    "    'Other_sales':'other_sales', \n",
    "    'Critic_Score':'critic_score', \n",
    "    'User_Score':'user_score', \n",
    "    'Rating':'rating'}, \n",
    "    inplace=True\n",
    ")\n",
    "df.head(1)"
   ]
  },
  {
   "cell_type": "markdown",
   "metadata": {},
   "source": [
    "Названия в порядке!"
   ]
  },
  {
   "cell_type": "markdown",
   "metadata": {},
   "source": [
    "<div class=\"alert alert-block alert-success\">\n",
    "<b>Комментарий от ревьюера</b>\n",
    "\n",
    "Ура!</div>"
   ]
  },
  {
   "cell_type": "markdown",
   "metadata": {},
   "source": [
    "### Приведение данных в нужные типы"
   ]
  },
  {
   "cell_type": "code",
   "execution_count": 4,
   "metadata": {},
   "outputs": [
    {
     "data": {
      "text/html": [
       "<div>\n",
       "<style scoped>\n",
       "    .dataframe tbody tr th:only-of-type {\n",
       "        vertical-align: middle;\n",
       "    }\n",
       "\n",
       "    .dataframe tbody tr th {\n",
       "        vertical-align: top;\n",
       "    }\n",
       "\n",
       "    .dataframe thead th {\n",
       "        text-align: right;\n",
       "    }\n",
       "</style>\n",
       "<table border=\"1\" class=\"dataframe\">\n",
       "  <thead>\n",
       "    <tr style=\"text-align: right;\">\n",
       "      <th></th>\n",
       "      <th>name</th>\n",
       "      <th>platform</th>\n",
       "      <th>year_of_release</th>\n",
       "      <th>genre</th>\n",
       "      <th>na_sales</th>\n",
       "      <th>eu_sales</th>\n",
       "      <th>jp_sales</th>\n",
       "      <th>other_sales</th>\n",
       "      <th>critic_score</th>\n",
       "      <th>user_score</th>\n",
       "      <th>rating</th>\n",
       "    </tr>\n",
       "  </thead>\n",
       "  <tbody>\n",
       "    <tr>\n",
       "      <td>0</td>\n",
       "      <td>Wii Sports</td>\n",
       "      <td>Wii</td>\n",
       "      <td>2006</td>\n",
       "      <td>Sports</td>\n",
       "      <td>41.36</td>\n",
       "      <td>28.96</td>\n",
       "      <td>3.77</td>\n",
       "      <td>8.45</td>\n",
       "      <td>76.0</td>\n",
       "      <td>8</td>\n",
       "      <td>E</td>\n",
       "    </tr>\n",
       "    <tr>\n",
       "      <td>1</td>\n",
       "      <td>Super Mario Bros.</td>\n",
       "      <td>NES</td>\n",
       "      <td>1985</td>\n",
       "      <td>Platform</td>\n",
       "      <td>29.08</td>\n",
       "      <td>3.58</td>\n",
       "      <td>6.81</td>\n",
       "      <td>0.77</td>\n",
       "      <td>NaN</td>\n",
       "      <td>NaN</td>\n",
       "      <td>NaN</td>\n",
       "    </tr>\n",
       "    <tr>\n",
       "      <td>2</td>\n",
       "      <td>Mario Kart Wii</td>\n",
       "      <td>Wii</td>\n",
       "      <td>2008</td>\n",
       "      <td>Racing</td>\n",
       "      <td>15.68</td>\n",
       "      <td>12.76</td>\n",
       "      <td>3.79</td>\n",
       "      <td>3.29</td>\n",
       "      <td>82.0</td>\n",
       "      <td>8.3</td>\n",
       "      <td>E</td>\n",
       "    </tr>\n",
       "    <tr>\n",
       "      <td>3</td>\n",
       "      <td>Wii Sports Resort</td>\n",
       "      <td>Wii</td>\n",
       "      <td>2009</td>\n",
       "      <td>Sports</td>\n",
       "      <td>15.61</td>\n",
       "      <td>10.93</td>\n",
       "      <td>3.28</td>\n",
       "      <td>2.95</td>\n",
       "      <td>80.0</td>\n",
       "      <td>8</td>\n",
       "      <td>E</td>\n",
       "    </tr>\n",
       "    <tr>\n",
       "      <td>4</td>\n",
       "      <td>Pokemon Red/Pokemon Blue</td>\n",
       "      <td>GB</td>\n",
       "      <td>1996</td>\n",
       "      <td>Role-Playing</td>\n",
       "      <td>11.27</td>\n",
       "      <td>8.89</td>\n",
       "      <td>10.22</td>\n",
       "      <td>1.00</td>\n",
       "      <td>NaN</td>\n",
       "      <td>NaN</td>\n",
       "      <td>NaN</td>\n",
       "    </tr>\n",
       "  </tbody>\n",
       "</table>\n",
       "</div>"
      ],
      "text/plain": [
       "                       name platform  year_of_release         genre  na_sales  \\\n",
       "0                Wii Sports      Wii             2006        Sports     41.36   \n",
       "1         Super Mario Bros.      NES             1985      Platform     29.08   \n",
       "2            Mario Kart Wii      Wii             2008        Racing     15.68   \n",
       "3         Wii Sports Resort      Wii             2009        Sports     15.61   \n",
       "4  Pokemon Red/Pokemon Blue       GB             1996  Role-Playing     11.27   \n",
       "\n",
       "   eu_sales  jp_sales  other_sales  critic_score user_score rating  \n",
       "0     28.96      3.77         8.45          76.0          8      E  \n",
       "1      3.58      6.81         0.77           NaN        NaN    NaN  \n",
       "2     12.76      3.79         3.29          82.0        8.3      E  \n",
       "3     10.93      3.28         2.95          80.0          8      E  \n",
       "4      8.89     10.22         1.00           NaN        NaN    NaN  "
      ]
     },
     "execution_count": 4,
     "metadata": {},
     "output_type": "execute_result"
    }
   ],
   "source": [
    "#df['year_of_release'] = pd.to_datetime(df['year_of_release'], format='%Y')\n",
    "#для преобразования столбца год релиза избавлюсь от пропусков. их всего 269 на иследование в целом не окажут сильного влияния.\n",
    "df.dropna(subset=['year_of_release'], inplace = True)\n",
    "df['year_of_release'] = df['year_of_release'].astype(int)\n",
    "\n",
    "df.head(5)\n"
   ]
  },
  {
   "cell_type": "markdown",
   "metadata": {},
   "source": [
    "Столбеб год релиза решил привести к типу данных int т.к. при приведении к формату datetime автоматически создаются месяц и день в иследовании они не участвуют, а вытаскивать потом год в отдельный столбец не вижу смысла."
   ]
  },
  {
   "cell_type": "markdown",
   "metadata": {},
   "source": [
    "<div class=\"alert alert-block alert-success\">\n",
    "<b>Комментарий от ревьюера</b>\n",
    "\n",
    "Хорошая идея!</div>"
   ]
  },
  {
   "cell_type": "markdown",
   "metadata": {},
   "source": [
    "С остальными столбцами на первый взгляд все хорошо. Возможно в будущем что то исправлю."
   ]
  },
  {
   "cell_type": "markdown",
   "metadata": {},
   "source": [
    "### Обработка пропусков"
   ]
  },
  {
   "cell_type": "code",
   "execution_count": 5,
   "metadata": {},
   "outputs": [
    {
     "data": {
      "text/plain": [
       "array([76., nan, 82., 80., 89., 58., 87., 91., 61., 97., 95., 77., 88.,\n",
       "       83., 94., 93., 85., 86., 98., 96., 90., 84., 73., 74., 78., 92.,\n",
       "       71., 72., 68., 62., 49., 67., 81., 66., 56., 79., 70., 59., 64.,\n",
       "       75., 60., 63., 69., 50., 25., 42., 44., 55., 48., 57., 29., 47.,\n",
       "       65., 54., 20., 53., 37., 38., 33., 52., 30., 32., 43., 45., 51.,\n",
       "       40., 46., 39., 34., 41., 36., 31., 27., 35., 26., 19., 28., 23.,\n",
       "       24., 21., 17., 13.])"
      ]
     },
     "metadata": {},
     "output_type": "display_data"
    },
    {
     "data": {
      "text/plain": [
       "array(['8', nan, '8.3', '8.5', '6.6', '8.4', '8.6', '7.7', '6.3', '7.4',\n",
       "       '8.2', '9', '7.9', '8.1', '8.7', '7.1', '3.4', '5.3', '4.8', '3.2',\n",
       "       '8.9', '6.4', '7.8', '7.5', '2.6', '7.2', '9.2', '7', '7.3', '4.3',\n",
       "       '7.6', '5.7', '5', '9.1', '6.5', 'tbd', '8.8', '6.9', '9.4', '6.8',\n",
       "       '6.1', '6.7', '5.4', '4', '4.9', '4.5', '9.3', '6.2', '4.2', '6',\n",
       "       '3.7', '4.1', '5.8', '5.6', '5.5', '4.4', '4.6', '5.9', '3.9',\n",
       "       '3.1', '2.9', '5.2', '3.3', '4.7', '5.1', '3.5', '2.5', '1.9', '3',\n",
       "       '2.7', '2.2', '2', '9.5', '2.1', '3.6', '2.8', '1.8', '3.8', '0',\n",
       "       '1.6', '9.6', '2.4', '1.7', '1.1', '0.3', '1.5', '0.7', '1.2',\n",
       "       '2.3', '0.5', '1.3', '0.2', '0.6', '1.4', '0.9', '1', '9.7'],\n",
       "      dtype=object)"
      ]
     },
     "metadata": {},
     "output_type": "display_data"
    },
    {
     "data": {
      "text/plain": [
       "array(['E', nan, 'M', 'T', 'E10+', 'K-A', 'AO', 'EC', 'RP'], dtype=object)"
      ]
     },
     "metadata": {},
     "output_type": "display_data"
    }
   ],
   "source": [
    "display(df['critic_score'].unique())\n",
    "display(df['user_score'].unique())\n",
    "display(df['rating'].unique())"
   ]
  },
  {
   "cell_type": "markdown",
   "metadata": {},
   "source": [
    "Поскольку оценки колеблятся от минимальных до максимальных значений считаю не уместным заполнять пропуски средним или медианным значением т.к. это не отразит сути. Пока пропуски оставлю.\n",
    "\n"
   ]
  },
  {
   "cell_type": "markdown",
   "metadata": {},
   "source": [
    "В столбце user_score  присутствует значение tbd что предположительно означает \"будет определено\" т.е. по сути отсутствует. заменю tbd на NaN"
   ]
  },
  {
   "cell_type": "code",
   "execution_count": 6,
   "metadata": {},
   "outputs": [
    {
     "data": {
      "text/plain": [
       "dtype('float64')"
      ]
     },
     "execution_count": 6,
     "metadata": {},
     "output_type": "execute_result"
    }
   ],
   "source": [
    "df['user_score'] = df['user_score'].replace('tbd', np.nan, regex=True)\n",
    "# приведем столбец user_score к типу данных float\n",
    "df['user_score'] = df['user_score'].astype(float)\n",
    "df['user_score'].dtype"
   ]
  },
  {
   "cell_type": "markdown",
   "metadata": {},
   "source": [
    "tbd заменено, столбец с правильным типом данных"
   ]
  },
  {
   "cell_type": "markdown",
   "metadata": {},
   "source": [
    "<div class=\"alert alert-block alert-success\">\n",
    "<b>Комментарий от ревьюера</b>\n",
    "\n",
    "Верные решения!</div>\n",
    "\n",
    "<div class=\"alert alert-block alert-warning\">\n",
    "<b>Комментарий от ревьюера</b>\n",
    "\n",
    "С рейтингом можно было что-нибудь сделать.Некоторые из них редкие, можно с каким-нибудь объединить. А nan заменить на unknown. Кто знает,можно он где-то популярен. :)\n",
    "</div>\n",
    "\n",
    "<div class=\"alert alert-block alert-danger\">\n",
    "<s><b>Комментарий от ревьюера</b>\n",
    "\n",
    "Давай еще проверим неявные дубликаты. У нас есть название, платформа,год и жанр. Есть ли там совпадающие строки?</div>\n",
    "    \n",
    "    \n",
    "<div class=\"alert alert-block alert-warning\">\n",
    "<b>Комментарий от ревьюера. V.2.</b>\n",
    "\n",
    "Сразу по 4 колонкам. Написала тебе пример ниже. :)\n",
    "</div>    "
   ]
  },
  {
   "cell_type": "code",
   "execution_count": 40,
   "metadata": {},
   "outputs": [
    {
     "data": {
      "text/plain": [
       "2"
      ]
     },
     "execution_count": 40,
     "metadata": {},
     "output_type": "execute_result"
    }
   ],
   "source": [
    "#код ревьюера\n",
    "df.duplicated(subset=['name', 'platform', 'year_of_release', 'genre']).sum()"
   ]
  },
  {
   "cell_type": "markdown",
   "metadata": {},
   "source": [
    "### Проверка на неявные дубликаты"
   ]
  },
  {
   "cell_type": "code",
   "execution_count": 7,
   "metadata": {},
   "outputs": [
    {
     "data": {
      "text/plain": [
       "array(['Wii Sports', 'Super Mario Bros.', 'Mario Kart Wii', ...,\n",
       "       'Woody Woodpecker in Crazy Castle 5', 'LMA Manager 2007',\n",
       "       'Haitaka no Psychedelica'], dtype=object)"
      ]
     },
     "execution_count": 7,
     "metadata": {},
     "output_type": "execute_result"
    }
   ],
   "source": [
    "df['name'].unique()"
   ]
  },
  {
   "cell_type": "code",
   "execution_count": 8,
   "metadata": {},
   "outputs": [
    {
     "data": {
      "text/plain": [
       "array(['Wii', 'NES', 'GB', 'DS', 'X360', 'PS3', 'PS2', 'SNES', 'GBA',\n",
       "       'PS4', '3DS', 'N64', 'PS', 'XB', 'PC', '2600', 'PSP', 'XOne',\n",
       "       'WiiU', 'GC', 'GEN', 'DC', 'PSV', 'SAT', 'SCD', 'WS', 'NG', 'TG16',\n",
       "       '3DO', 'GG', 'PCFX'], dtype=object)"
      ]
     },
     "execution_count": 8,
     "metadata": {},
     "output_type": "execute_result"
    }
   ],
   "source": [
    "df['platform'].unique()"
   ]
  },
  {
   "cell_type": "markdown",
   "metadata": {},
   "source": [
    "Прверка столбца показала , что неявных дубликатов нет\n"
   ]
  },
  {
   "cell_type": "code",
   "execution_count": 9,
   "metadata": {},
   "outputs": [
    {
     "data": {
      "text/plain": [
       "array([2006, 1985, 2008, 2009, 1996, 1989, 1984, 2005, 1999, 2007, 2010,\n",
       "       2013, 2004, 1990, 1988, 2002, 2001, 2011, 1998, 2015, 2012, 2014,\n",
       "       1992, 1997, 1993, 1994, 1982, 2016, 2003, 1986, 2000, 1995, 1991,\n",
       "       1981, 1987, 1980, 1983])"
      ]
     },
     "execution_count": 9,
     "metadata": {},
     "output_type": "execute_result"
    }
   ],
   "source": [
    "df['year_of_release'].unique()"
   ]
  },
  {
   "cell_type": "markdown",
   "metadata": {},
   "source": [
    "Не совсем понял зачем проверять столбец год релиза на неявные дубликаты ведь год может совпадать."
   ]
  },
  {
   "cell_type": "code",
   "execution_count": 10,
   "metadata": {},
   "outputs": [
    {
     "data": {
      "text/plain": [
       "array(['Sports', 'Platform', 'Racing', 'Role-Playing', 'Puzzle', 'Misc',\n",
       "       'Shooter', 'Simulation', 'Action', 'Fighting', 'Adventure',\n",
       "       'Strategy', nan], dtype=object)"
      ]
     },
     "execution_count": 10,
     "metadata": {},
     "output_type": "execute_result"
    }
   ],
   "source": [
    "df['genre'].unique()"
   ]
  },
  {
   "cell_type": "markdown",
   "metadata": {},
   "source": [
    "Прверка столбца показала , что неявных дубликатов нет"
   ]
  },
  {
   "cell_type": "markdown",
   "metadata": {},
   "source": [
    "### Посчет суммарных продаж во всех регионах и запишись подсчетов в отдельный столбец"
   ]
  },
  {
   "cell_type": "code",
   "execution_count": 11,
   "metadata": {
    "scrolled": true
   },
   "outputs": [
    {
     "data": {
      "text/html": [
       "<div>\n",
       "<style scoped>\n",
       "    .dataframe tbody tr th:only-of-type {\n",
       "        vertical-align: middle;\n",
       "    }\n",
       "\n",
       "    .dataframe tbody tr th {\n",
       "        vertical-align: top;\n",
       "    }\n",
       "\n",
       "    .dataframe thead th {\n",
       "        text-align: right;\n",
       "    }\n",
       "</style>\n",
       "<table border=\"1\" class=\"dataframe\">\n",
       "  <thead>\n",
       "    <tr style=\"text-align: right;\">\n",
       "      <th></th>\n",
       "      <th>name</th>\n",
       "      <th>platform</th>\n",
       "      <th>year_of_release</th>\n",
       "      <th>genre</th>\n",
       "      <th>na_sales</th>\n",
       "      <th>eu_sales</th>\n",
       "      <th>jp_sales</th>\n",
       "      <th>other_sales</th>\n",
       "      <th>critic_score</th>\n",
       "      <th>user_score</th>\n",
       "      <th>rating</th>\n",
       "      <th>total_sales</th>\n",
       "    </tr>\n",
       "  </thead>\n",
       "  <tbody>\n",
       "    <tr>\n",
       "      <td>0</td>\n",
       "      <td>Wii Sports</td>\n",
       "      <td>Wii</td>\n",
       "      <td>2006</td>\n",
       "      <td>Sports</td>\n",
       "      <td>41.36</td>\n",
       "      <td>28.96</td>\n",
       "      <td>3.77</td>\n",
       "      <td>8.45</td>\n",
       "      <td>76.0</td>\n",
       "      <td>8.0</td>\n",
       "      <td>E</td>\n",
       "      <td>82.54</td>\n",
       "    </tr>\n",
       "    <tr>\n",
       "      <td>1</td>\n",
       "      <td>Super Mario Bros.</td>\n",
       "      <td>NES</td>\n",
       "      <td>1985</td>\n",
       "      <td>Platform</td>\n",
       "      <td>29.08</td>\n",
       "      <td>3.58</td>\n",
       "      <td>6.81</td>\n",
       "      <td>0.77</td>\n",
       "      <td>NaN</td>\n",
       "      <td>NaN</td>\n",
       "      <td>NaN</td>\n",
       "      <td>40.24</td>\n",
       "    </tr>\n",
       "    <tr>\n",
       "      <td>2</td>\n",
       "      <td>Mario Kart Wii</td>\n",
       "      <td>Wii</td>\n",
       "      <td>2008</td>\n",
       "      <td>Racing</td>\n",
       "      <td>15.68</td>\n",
       "      <td>12.76</td>\n",
       "      <td>3.79</td>\n",
       "      <td>3.29</td>\n",
       "      <td>82.0</td>\n",
       "      <td>8.3</td>\n",
       "      <td>E</td>\n",
       "      <td>35.52</td>\n",
       "    </tr>\n",
       "    <tr>\n",
       "      <td>3</td>\n",
       "      <td>Wii Sports Resort</td>\n",
       "      <td>Wii</td>\n",
       "      <td>2009</td>\n",
       "      <td>Sports</td>\n",
       "      <td>15.61</td>\n",
       "      <td>10.93</td>\n",
       "      <td>3.28</td>\n",
       "      <td>2.95</td>\n",
       "      <td>80.0</td>\n",
       "      <td>8.0</td>\n",
       "      <td>E</td>\n",
       "      <td>32.77</td>\n",
       "    </tr>\n",
       "    <tr>\n",
       "      <td>4</td>\n",
       "      <td>Pokemon Red/Pokemon Blue</td>\n",
       "      <td>GB</td>\n",
       "      <td>1996</td>\n",
       "      <td>Role-Playing</td>\n",
       "      <td>11.27</td>\n",
       "      <td>8.89</td>\n",
       "      <td>10.22</td>\n",
       "      <td>1.00</td>\n",
       "      <td>NaN</td>\n",
       "      <td>NaN</td>\n",
       "      <td>NaN</td>\n",
       "      <td>31.38</td>\n",
       "    </tr>\n",
       "  </tbody>\n",
       "</table>\n",
       "</div>"
      ],
      "text/plain": [
       "                       name platform  year_of_release         genre  na_sales  \\\n",
       "0                Wii Sports      Wii             2006        Sports     41.36   \n",
       "1         Super Mario Bros.      NES             1985      Platform     29.08   \n",
       "2            Mario Kart Wii      Wii             2008        Racing     15.68   \n",
       "3         Wii Sports Resort      Wii             2009        Sports     15.61   \n",
       "4  Pokemon Red/Pokemon Blue       GB             1996  Role-Playing     11.27   \n",
       "\n",
       "   eu_sales  jp_sales  other_sales  critic_score  user_score rating  \\\n",
       "0     28.96      3.77         8.45          76.0         8.0      E   \n",
       "1      3.58      6.81         0.77           NaN         NaN    NaN   \n",
       "2     12.76      3.79         3.29          82.0         8.3      E   \n",
       "3     10.93      3.28         2.95          80.0         8.0      E   \n",
       "4      8.89     10.22         1.00           NaN         NaN    NaN   \n",
       "\n",
       "   total_sales  \n",
       "0        82.54  \n",
       "1        40.24  \n",
       "2        35.52  \n",
       "3        32.77  \n",
       "4        31.38  "
      ]
     },
     "execution_count": 11,
     "metadata": {},
     "output_type": "execute_result"
    }
   ],
   "source": [
    "# Создаю отдельный столбец и записываю в него сумму столбцов продаж по регионам\n",
    "df['total_sales'] = df['na_sales'] + df['eu_sales'] + df['jp_sales'] + df['other_sales']\n",
    "df.head(5)"
   ]
  },
  {
   "cell_type": "markdown",
   "metadata": {},
   "source": [
    "<div class=\"alert alert-block alert-success\">\n",
    "<b>Комментарий от ревьюера</b>\n",
    "\n",
    "Начниаем то, ради чего мы тут собрались! :) </div>"
   ]
  },
  {
   "cell_type": "markdown",
   "metadata": {},
   "source": [
    "## Иследовательский анализ"
   ]
  },
  {
   "cell_type": "markdown",
   "metadata": {},
   "source": [
    "### Cколько игр выпускалось в разные годы"
   ]
  },
  {
   "cell_type": "code",
   "execution_count": 12,
   "metadata": {},
   "outputs": [
    {
     "data": {
      "text/plain": [
       "'Количество выпускаемых игр в зависимости от года'"
      ]
     },
     "execution_count": 12,
     "metadata": {},
     "output_type": "execute_result"
    },
    {
     "data": {
      "image/png": "[encoded data removed]",
      "text/plain": [
       "<Figure size 1152x360 with 1 Axes>"
      ]
     },
     "metadata": {
      "needs_background": "light"
     },
     "output_type": "display_data"
    }
   ],
   "source": [
    "df.groupby('year_of_release')['name'].count().plot(kind='bar', grid=True, figsize=(16,5))\n",
    "plt.xlabel('год релиза')\n",
    "plt.ylabel('количество игр')\n",
    "plt.title;('Количество выпускаемых игр в зависимости от года')"
   ]
  },
  {
   "cell_type": "markdown",
   "metadata": {},
   "source": [
    "Из графика видно что в 80-е и в начале 90-ч игр выпускалось очень мало. ПРимерно с середины 90-х пошел резкий рост индустрии игр. Второй скачек наблюдается в начале 0-х и достигает пика к 2008 году. В 2012 наблюдается резкий спад выпуска игр возможно это связано со сменой тренда в индустрии видео игр. Примерно в это время был сделан упор не на выпуск новых игр, а на различные обновления и плюшки в виде новых режимов локаций и т.д. "
   ]
  },
  {
   "cell_type": "markdown",
   "metadata": {},
   "source": [
    "Считаю что данные с 1980 по 1997 неважны по причине их малочисленности"
   ]
  },
  {
   "cell_type": "markdown",
   "metadata": {},
   "source": [
    "<div class=\"alert alert-block alert-success\">\n",
    "<b>Комментарий от ревьюера</b>\n",
    "\n",
    "Можно было и по 2000 отрезать. :) </div>"
   ]
  },
  {
   "cell_type": "markdown",
   "metadata": {},
   "source": [
    "### Изменения продаж в зависимости от платформы. Выбор платформ с наибольшими суммарными продажами. "
   ]
  },
  {
   "cell_type": "code",
   "execution_count": 13,
   "metadata": {},
   "outputs": [
    {
     "data": {
      "text/plain": [
       "'Количество продаж в зависимости от платформы'"
      ]
     },
     "execution_count": 13,
     "metadata": {},
     "output_type": "execute_result"
    },
    {
     "data": {
      "image/png": "[encoded data removed]",
      "text/plain": [
       "<Figure size 1152x360 with 1 Axes>"
      ]
     },
     "metadata": {
      "needs_background": "light"
     },
     "output_type": "display_data"
    }
   ],
   "source": [
    "# Постррою график для определения уровня продаж на игровых платформах\n",
    "df.groupby('platform')['total_sales'].count().sort_values(ascending=False).plot(kind='bar', grid=True, figsize=(16,5))\n",
    "plt.xlabel('Название платформы')\n",
    "plt.ylabel('количество продаж')\n",
    "plt.title;('Количество продаж в зависимости от платформы')"
   ]
  },
  {
   "cell_type": "markdown",
   "metadata": {},
   "source": [
    "Лидируют по числу продаж такие платформы как PS2 и DS. Далее идут, уступая лидерам почти в два раза, такие платформы как PS3, Wii, X360, PSP, PS и PC. PC немного выделяется из ряда, возможно это связано с высокой доступность пиратского контента для этой платформы. Так же обращу внимание, что не заметил таких платформ как android и IOS а они занимают не малую часть рынка видеоигр. Остальные платформы либо безнадежно устарели либо наоборот новые по причине чего дорогостоящие и мало распространенные."
   ]
  },
  {
   "cell_type": "markdown",
   "metadata": {},
   "source": [
    "<div class=\"alert alert-block alert-success\">\n",
    "<b>Комментарий от ревьюера</b>\n",
    "\n",
    "android и IOS - мобильные платформы. У нас их тут просто нет. :) \n",
    "</div>"
   ]
  },
  {
   "cell_type": "markdown",
   "metadata": {},
   "source": [
    "### Строю распределение по годам. За какой характерный срок появляются новые и исчезают старые платформы?"
   ]
  },
  {
   "cell_type": "code",
   "execution_count": 14,
   "metadata": {},
   "outputs": [
    {
     "data": {
      "image/png": "[encoded data removed]",
      "text/plain": [
       "<Figure size 1152x288 with 1 Axes>"
      ]
     },
     "metadata": {
      "needs_background": "light"
     },
     "output_type": "display_data"
    },
    {
     "data": {
      "image/png": "[encoded data removed]",
      "text/plain": [
       "<Figure size 1152x288 with 1 Axes>"
      ]
     },
     "metadata": {
      "needs_background": "light"
     },
     "output_type": "display_data"
    },
    {
     "data": {
      "image/png": "[encoded data removed]",
      "text/plain": [
       "<Figure size 1152x288 with 1 Axes>"
      ]
     },
     "metadata": {
      "needs_background": "light"
     },
     "output_type": "display_data"
    },
    {
     "data": {
      "image/png": "[encoded data removed]",
      "text/plain": [
       "<Figure size 1152x288 with 1 Axes>"
      ]
     },
     "metadata": {
      "needs_background": "light"
     },
     "output_type": "display_data"
    },
    {
     "data": {
      "image/png": "[encoded data removed]",
      "text/plain": [
       "<Figure size 1152x288 with 1 Axes>"
      ]
     },
     "metadata": {
      "needs_background": "light"
     },
     "output_type": "display_data"
    },
    {
     "data": {
      "image/png": "[encoded data removed]",
      "text/plain": [
       "<Figure size 1152x288 with 1 Axes>"
      ]
     },
     "metadata": {
      "needs_background": "light"
     },
     "output_type": "display_data"
    },
    {
     "data": {
      "image/png": "[encoded data removed]",
      "text/plain": [
       "<Figure size 1152x288 with 1 Axes>"
      ]
     },
     "metadata": {
      "needs_background": "light"
     },
     "output_type": "display_data"
    },
    {
     "data": {
      "image/png": "[encoded data removed]",
      "text/plain": [
       "<Figure size 1152x288 with 1 Axes>"
      ]
     },
     "metadata": {
      "needs_background": "light"
     },
     "output_type": "display_data"
    }
   ],
   "source": [
    "top_platforms_list = {'PS2', 'DS', 'PS3', 'Wii', 'X360', 'PSP', 'PS', 'PC'}\n",
    "#Построим распределения по годам для каждой платформы.\n",
    "for i in top_platforms_list:\n",
    "    df[df['platform'] == i].pivot_table(\n",
    "        index='year_of_release', \n",
    "        values='total_sales', \n",
    "        aggfunc='sum').plot(\n",
    "        kind='bar', \n",
    "        figsize=(16,4)\n",
    "    )\n",
    "    plt.title(i)\n"
   ]
  },
  {
   "cell_type": "markdown",
   "metadata": {},
   "source": [
    "Исходя из графиков можно сделать вывод, что цикл жизни современной ирговой платформы около 10-ти лет. Обусловлен в основном появлением обновленной игровой платформы ну и конечно же за такой срок \"железо\" морально устаревает. По скольку платформа PC не имеет индексов и усовершенствуется непрерывно ее срок жизни стремиться к бесконечности."
   ]
  },
  {
   "cell_type": "markdown",
   "metadata": {},
   "source": [
    "Не смог разобраться как сделать что бы графики отображались не в окне по одному, а все сразу что бы не надо было прокручивать. Может быть есть какой-то способ?"
   ]
  },
  {
   "cell_type": "markdown",
   "metadata": {},
   "source": [
    "<div class=\"alert alert-block alert-success\">\n",
    "<b>Комментарий от ревьюера</b>\n",
    "\n",
    "Если два раза кликнуть мышкой, то графики отобразятся все сразу. :) </div>\n",
    "\n",
    "<div class=\"alert alert-block alert-danger\">\n",
    "<s><b>Комментарий от ревьюера</b>\n",
    "\n",
    "А что ты думаешь про пики и спады? Сколько длится реальная популярность?\n",
    "</div>"
   ]
  },
  {
   "cell_type": "markdown",
   "metadata": {},
   "source": [
    "<div class=\"alert alert-block alert-info\">\n",
    "<b>Комментарий от студента</b> <a class=\"tocSkip\"></a>\n",
    "    \n",
    "В первые пару лет после выхода игровые платформы плавно набираю продажи, думаю не высокие продажи на старте обусловленны дороговизной платформ и тем что предыдущие модели еще не сильно устарели и пользователи не спешат их менять. Через некоторое время (около 2х лет) приставки выходят на пик популярности. Далее идет спад который скорее всего обусловлен выходом обновленной версие приставки. На мой взгляд реальная популярность длится не более 5ти лет.\n",
    "</div>"
   ]
  },
  {
   "cell_type": "markdown",
   "metadata": {},
   "source": [
    "<div class=\"alert alert-block alert-success\">\n",
    "<b>Комментарий от ревьюера. V.2.</b>\n",
    "\n",
    "Очень классный вывод! \n",
    "</div>    "
   ]
  },
  {
   "cell_type": "markdown",
   "metadata": {},
   "source": [
    "### Определение актуального периода для прогноза на 2017 год"
   ]
  },
  {
   "cell_type": "markdown",
   "metadata": {},
   "source": [
    "ранее я определил данные по 1997 как не нужные. Поскольку по условию строим прогноз на 2017 год считаю, что для прогноза оптимально использовать данные с 2012 года"
   ]
  },
  {
   "cell_type": "code",
   "execution_count": 15,
   "metadata": {},
   "outputs": [
    {
     "data": {
      "text/html": [
       "<div>\n",
       "<style scoped>\n",
       "    .dataframe tbody tr th:only-of-type {\n",
       "        vertical-align: middle;\n",
       "    }\n",
       "\n",
       "    .dataframe tbody tr th {\n",
       "        vertical-align: top;\n",
       "    }\n",
       "\n",
       "    .dataframe thead th {\n",
       "        text-align: right;\n",
       "    }\n",
       "</style>\n",
       "<table border=\"1\" class=\"dataframe\">\n",
       "  <thead>\n",
       "    <tr style=\"text-align: right;\">\n",
       "      <th></th>\n",
       "      <th>name</th>\n",
       "      <th>platform</th>\n",
       "      <th>year_of_release</th>\n",
       "      <th>genre</th>\n",
       "      <th>na_sales</th>\n",
       "      <th>eu_sales</th>\n",
       "      <th>jp_sales</th>\n",
       "      <th>other_sales</th>\n",
       "      <th>critic_score</th>\n",
       "      <th>user_score</th>\n",
       "      <th>rating</th>\n",
       "      <th>total_sales</th>\n",
       "    </tr>\n",
       "  </thead>\n",
       "  <tbody>\n",
       "    <tr>\n",
       "      <td>31</td>\n",
       "      <td>Call of Duty: Black Ops 3</td>\n",
       "      <td>PS4</td>\n",
       "      <td>2015</td>\n",
       "      <td>Shooter</td>\n",
       "      <td>6.03</td>\n",
       "      <td>5.86</td>\n",
       "      <td>0.36</td>\n",
       "      <td>2.38</td>\n",
       "      <td>NaN</td>\n",
       "      <td>NaN</td>\n",
       "      <td>NaN</td>\n",
       "      <td>14.63</td>\n",
       "    </tr>\n",
       "    <tr>\n",
       "      <td>42</td>\n",
       "      <td>Grand Theft Auto V</td>\n",
       "      <td>PS4</td>\n",
       "      <td>2014</td>\n",
       "      <td>Action</td>\n",
       "      <td>3.96</td>\n",
       "      <td>6.31</td>\n",
       "      <td>0.38</td>\n",
       "      <td>1.97</td>\n",
       "      <td>97.0</td>\n",
       "      <td>8.3</td>\n",
       "      <td>M</td>\n",
       "      <td>12.62</td>\n",
       "    </tr>\n",
       "    <tr>\n",
       "      <td>47</td>\n",
       "      <td>Pokemon Omega Ruby/Pokemon Alpha Sapphire</td>\n",
       "      <td>3DS</td>\n",
       "      <td>2014</td>\n",
       "      <td>Role-Playing</td>\n",
       "      <td>4.35</td>\n",
       "      <td>3.49</td>\n",
       "      <td>3.10</td>\n",
       "      <td>0.74</td>\n",
       "      <td>NaN</td>\n",
       "      <td>NaN</td>\n",
       "      <td>NaN</td>\n",
       "      <td>11.68</td>\n",
       "    </tr>\n",
       "    <tr>\n",
       "      <td>77</td>\n",
       "      <td>FIFA 16</td>\n",
       "      <td>PS4</td>\n",
       "      <td>2015</td>\n",
       "      <td>Sports</td>\n",
       "      <td>1.12</td>\n",
       "      <td>6.12</td>\n",
       "      <td>0.06</td>\n",
       "      <td>1.28</td>\n",
       "      <td>82.0</td>\n",
       "      <td>4.3</td>\n",
       "      <td>E</td>\n",
       "      <td>8.58</td>\n",
       "    </tr>\n",
       "    <tr>\n",
       "      <td>87</td>\n",
       "      <td>Star Wars Battlefront (2015)</td>\n",
       "      <td>PS4</td>\n",
       "      <td>2015</td>\n",
       "      <td>Shooter</td>\n",
       "      <td>2.99</td>\n",
       "      <td>3.49</td>\n",
       "      <td>0.22</td>\n",
       "      <td>1.28</td>\n",
       "      <td>NaN</td>\n",
       "      <td>NaN</td>\n",
       "      <td>NaN</td>\n",
       "      <td>7.98</td>\n",
       "    </tr>\n",
       "    <tr>\n",
       "      <td>...</td>\n",
       "      <td>...</td>\n",
       "      <td>...</td>\n",
       "      <td>...</td>\n",
       "      <td>...</td>\n",
       "      <td>...</td>\n",
       "      <td>...</td>\n",
       "      <td>...</td>\n",
       "      <td>...</td>\n",
       "      <td>...</td>\n",
       "      <td>...</td>\n",
       "      <td>...</td>\n",
       "      <td>...</td>\n",
       "    </tr>\n",
       "    <tr>\n",
       "      <td>16703</td>\n",
       "      <td>Strawberry Nauts</td>\n",
       "      <td>PSV</td>\n",
       "      <td>2016</td>\n",
       "      <td>Adventure</td>\n",
       "      <td>0.00</td>\n",
       "      <td>0.00</td>\n",
       "      <td>0.01</td>\n",
       "      <td>0.00</td>\n",
       "      <td>NaN</td>\n",
       "      <td>NaN</td>\n",
       "      <td>NaN</td>\n",
       "      <td>0.01</td>\n",
       "    </tr>\n",
       "    <tr>\n",
       "      <td>16707</td>\n",
       "      <td>Aiyoku no Eustia</td>\n",
       "      <td>PSV</td>\n",
       "      <td>2014</td>\n",
       "      <td>Misc</td>\n",
       "      <td>0.00</td>\n",
       "      <td>0.00</td>\n",
       "      <td>0.01</td>\n",
       "      <td>0.00</td>\n",
       "      <td>NaN</td>\n",
       "      <td>NaN</td>\n",
       "      <td>NaN</td>\n",
       "      <td>0.01</td>\n",
       "    </tr>\n",
       "    <tr>\n",
       "      <td>16710</td>\n",
       "      <td>Samurai Warriors: Sanada Maru</td>\n",
       "      <td>PS3</td>\n",
       "      <td>2016</td>\n",
       "      <td>Action</td>\n",
       "      <td>0.00</td>\n",
       "      <td>0.00</td>\n",
       "      <td>0.01</td>\n",
       "      <td>0.00</td>\n",
       "      <td>NaN</td>\n",
       "      <td>NaN</td>\n",
       "      <td>NaN</td>\n",
       "      <td>0.01</td>\n",
       "    </tr>\n",
       "    <tr>\n",
       "      <td>16712</td>\n",
       "      <td>Haitaka no Psychedelica</td>\n",
       "      <td>PSV</td>\n",
       "      <td>2016</td>\n",
       "      <td>Adventure</td>\n",
       "      <td>0.00</td>\n",
       "      <td>0.00</td>\n",
       "      <td>0.01</td>\n",
       "      <td>0.00</td>\n",
       "      <td>NaN</td>\n",
       "      <td>NaN</td>\n",
       "      <td>NaN</td>\n",
       "      <td>0.01</td>\n",
       "    </tr>\n",
       "    <tr>\n",
       "      <td>16714</td>\n",
       "      <td>Winning Post 8 2016</td>\n",
       "      <td>PSV</td>\n",
       "      <td>2016</td>\n",
       "      <td>Simulation</td>\n",
       "      <td>0.00</td>\n",
       "      <td>0.00</td>\n",
       "      <td>0.01</td>\n",
       "      <td>0.00</td>\n",
       "      <td>NaN</td>\n",
       "      <td>NaN</td>\n",
       "      <td>NaN</td>\n",
       "      <td>0.01</td>\n",
       "    </tr>\n",
       "  </tbody>\n",
       "</table>\n",
       "<p>1689 rows × 12 columns</p>\n",
       "</div>"
      ],
      "text/plain": [
       "                                            name platform  year_of_release  \\\n",
       "31                     Call of Duty: Black Ops 3      PS4             2015   \n",
       "42                            Grand Theft Auto V      PS4             2014   \n",
       "47     Pokemon Omega Ruby/Pokemon Alpha Sapphire      3DS             2014   \n",
       "77                                       FIFA 16      PS4             2015   \n",
       "87                  Star Wars Battlefront (2015)      PS4             2015   \n",
       "...                                          ...      ...              ...   \n",
       "16703                           Strawberry Nauts      PSV             2016   \n",
       "16707                           Aiyoku no Eustia      PSV             2014   \n",
       "16710              Samurai Warriors: Sanada Maru      PS3             2016   \n",
       "16712                    Haitaka no Psychedelica      PSV             2016   \n",
       "16714                        Winning Post 8 2016      PSV             2016   \n",
       "\n",
       "              genre  na_sales  eu_sales  jp_sales  other_sales  critic_score  \\\n",
       "31          Shooter      6.03      5.86      0.36         2.38           NaN   \n",
       "42           Action      3.96      6.31      0.38         1.97          97.0   \n",
       "47     Role-Playing      4.35      3.49      3.10         0.74           NaN   \n",
       "77           Sports      1.12      6.12      0.06         1.28          82.0   \n",
       "87          Shooter      2.99      3.49      0.22         1.28           NaN   \n",
       "...             ...       ...       ...       ...          ...           ...   \n",
       "16703     Adventure      0.00      0.00      0.01         0.00           NaN   \n",
       "16707          Misc      0.00      0.00      0.01         0.00           NaN   \n",
       "16710        Action      0.00      0.00      0.01         0.00           NaN   \n",
       "16712     Adventure      0.00      0.00      0.01         0.00           NaN   \n",
       "16714    Simulation      0.00      0.00      0.01         0.00           NaN   \n",
       "\n",
       "       user_score rating  total_sales  \n",
       "31            NaN    NaN        14.63  \n",
       "42            8.3      M        12.62  \n",
       "47            NaN    NaN        11.68  \n",
       "77            4.3      E         8.58  \n",
       "87            NaN    NaN         7.98  \n",
       "...           ...    ...          ...  \n",
       "16703         NaN    NaN         0.01  \n",
       "16707         NaN    NaN         0.01  \n",
       "16710         NaN    NaN         0.01  \n",
       "16712         NaN    NaN         0.01  \n",
       "16714         NaN    NaN         0.01  \n",
       "\n",
       "[1689 rows x 12 columns]"
      ]
     },
     "execution_count": 15,
     "metadata": {},
     "output_type": "execute_result"
    }
   ],
   "source": [
    "# создаю таблицу с актуальным периодом\n",
    "current_period = df[df['year_of_release'] > 2013]\n",
    "current_period"
   ]
  },
  {
   "cell_type": "markdown",
   "metadata": {},
   "source": [
    "<div class=\"alert alert-block alert-danger\">\n",
    "<s><b>Комментарий от ревьюера</b>\n",
    "\n",
    "Давай чуть-чуть урежем. Во-первых, тут поможет предыдущий пункт,когда ты ответишь на мой вопрос. Во-вторых,можно посмотреть какая платформа популярна в 2016 и посмотреть когда она вышла. \n",
    "\n",
    "Я проверютвой проект после изменения акутального периода. Напомню, что повторная проверка укладывается в 24 часа, не нужно ждать кучу дней. :) \n",
    "\n",
    "\n",
    "P.S. На всякий случай посмотрела твой проект дальше. Давай в шаге 5 построим круговые диаграммы с процентами для каждого топ-5? Буде удобно делать выводы и получится очень наглядно. :) </div>"
   ]
  },
  {
   "cell_type": "markdown",
   "metadata": {},
   "source": [
    "<div class=\"alert alert-block alert-info\">\n",
    "<b>Комментарий от студента</b> <a class=\"tocSkip\"></a>\n",
    "    \n",
    "По условию проекта мы имеем не полные данные за 2016 год поэтому считаю не очень корретным строить проект по не полным данным. Попробую актуальный период сократил и взял данные с 2014 года\n",
    "</div>"
   ]
  },
  {
   "cell_type": "markdown",
   "metadata": {},
   "source": [
    "<div class=\"alert alert-block alert-info\">\n",
    "<b>Комментарий от студента</b> <a class=\"tocSkip\"></a>\n",
    "    \n",
    "Пункт 5 переделал на круговую диаграмму. Не смог разобраться с параметром explode, что бы он автоматически отделял самый большой кусок. Так же не понял как избавиться от уlabel, если эту строку убрать совсем то на графике появляется название столбца. Так же прошу подсказать возможно ли построить графики так что бы они были в ряд. Т.е. например три диграмы по популярности платформ в разных регионах. Мне кажется так анализировать легче да и наглядней.\n",
    "</div>"
   ]
  },
  {
   "cell_type": "markdown",
   "metadata": {},
   "source": [
    "<div class=\"alert alert-block alert-warning\">\n",
    "<b>Комментарий от ревьюера. V.2.</b>\n",
    "\n",
    "Ну 2016 мы не можем откинуть точно,поэтомуон тоже участвует.Пусть и неполный. 2014-отличный выбор!\n",
    "\n",
    "\n",
    "На работе чаще делают таблицу. Она пригодится для отчетов. И прям по ней строят график.</div>    "
   ]
  },
  {
   "cell_type": "code",
   "execution_count": 41,
   "metadata": {},
   "outputs": [
    {
     "data": {
      "text/html": [
       "<div>\n",
       "<style scoped>\n",
       "    .dataframe tbody tr th:only-of-type {\n",
       "        vertical-align: middle;\n",
       "    }\n",
       "\n",
       "    .dataframe tbody tr th {\n",
       "        vertical-align: top;\n",
       "    }\n",
       "\n",
       "    .dataframe thead th {\n",
       "        text-align: right;\n",
       "    }\n",
       "</style>\n",
       "<table border=\"1\" class=\"dataframe\">\n",
       "  <thead>\n",
       "    <tr style=\"text-align: right;\">\n",
       "      <th></th>\n",
       "      <th>platform</th>\n",
       "      <th>na_sales_sum</th>\n",
       "    </tr>\n",
       "  </thead>\n",
       "  <tbody>\n",
       "    <tr>\n",
       "      <td>3</td>\n",
       "      <td>PS4</td>\n",
       "      <td>98.61</td>\n",
       "    </tr>\n",
       "    <tr>\n",
       "      <td>9</td>\n",
       "      <td>XOne</td>\n",
       "      <td>81.27</td>\n",
       "    </tr>\n",
       "    <tr>\n",
       "      <td>8</td>\n",
       "      <td>X360</td>\n",
       "      <td>28.30</td>\n",
       "    </tr>\n",
       "    <tr>\n",
       "      <td>0</td>\n",
       "      <td>3DS</td>\n",
       "      <td>22.64</td>\n",
       "    </tr>\n",
       "    <tr>\n",
       "      <td>2</td>\n",
       "      <td>PS3</td>\n",
       "      <td>22.05</td>\n",
       "    </tr>\n",
       "  </tbody>\n",
       "</table>\n",
       "</div>"
      ],
      "text/plain": [
       "  platform  na_sales_sum\n",
       "3      PS4         98.61\n",
       "9     XOne         81.27\n",
       "8     X360         28.30\n",
       "0      3DS         22.64\n",
       "2      PS3         22.05"
      ]
     },
     "metadata": {},
     "output_type": "display_data"
    }
   ],
   "source": [
    "#cамые популярные платформы NA, таблица\n",
    "top_na_platform1 = current_period.groupby(['platform'])[['na_sales']].agg(['sum']).reset_index()\n",
    "top_na_platform1.columns = ['platform', 'na_sales_sum']\n",
    "top_na_platform = top_na_platform1.sort_values(by='na_sales_sum', ascending=False).head()\n",
    "display(top_na_platform)"
   ]
  },
  {
   "cell_type": "code",
   "execution_count": 43,
   "metadata": {},
   "outputs": [
    {
     "data": {
      "image/png": "[encoded data removed]",
      "text/plain": [
       "<Figure size 432x288 with 1 Axes>"
      ]
     },
     "metadata": {},
     "output_type": "display_data"
    }
   ],
   "source": [
    "#cамые популярные платформы NA, график\n",
    "vals = top_na_platform.na_sales_sum\n",
    "labels = top_na_platform.platform\n",
    "fig, ax = plt.subplots()\n",
    "ax.pie(vals, labels=labels, autopct='%1.1f%%')\n",
    "ax.axis(\"equal\");"
   ]
  },
  {
   "cell_type": "markdown",
   "metadata": {},
   "source": [
    "### Какие платформы лидируют по продажам, растут или падают? "
   ]
  },
  {
   "cell_type": "code",
   "execution_count": 16,
   "metadata": {},
   "outputs": [
    {
     "data": {
      "text/plain": [
       "'Количество продаж в зависимости от платформы'"
      ]
     },
     "execution_count": 16,
     "metadata": {},
     "output_type": "execute_result"
    },
    {
     "data": {
      "image/png": "[encoded data removed]",
      "text/plain": [
       "<Figure size 1152x360 with 1 Axes>"
      ]
     },
     "metadata": {
      "needs_background": "light"
     },
     "output_type": "display_data"
    }
   ],
   "source": [
    "# Постррою график для определения уровня продаж на игровых платформах в актуальный период\n",
    "current_period.groupby('platform')['total_sales'].count().sort_values(ascending=False).plot(kind='bar', grid=True, figsize=(16,5))\n",
    "plt.xlabel('Название платформы')\n",
    "plt.ylabel('количество продаж')\n",
    "plt.title;('Количество продаж в зависимости от платформы')\n",
    "\n"
   ]
  },
  {
   "cell_type": "markdown",
   "metadata": {},
   "source": [
    "График показал, что в актуальном периоде растановка сил немного изменилась. необхожимо создать новый список топ 6."
   ]
  },
  {
   "cell_type": "markdown",
   "metadata": {},
   "source": [
    "По продажам лидирую следующие платформы 'PS3', 'PSV', '3DS', 'PS4', 'X360', 'PC' и 'XOne'."
   ]
  },
  {
   "cell_type": "code",
   "execution_count": 17,
   "metadata": {},
   "outputs": [
    {
     "data": {
      "image/png": "[encoded data removed]",
      "text/plain": [
       "<Figure size 1152x288 with 1 Axes>"
      ]
     },
     "metadata": {
      "needs_background": "light"
     },
     "output_type": "display_data"
    },
    {
     "data": {
      "image/png": "[encoded data removed]",
      "text/plain": [
       "<Figure size 1152x288 with 1 Axes>"
      ]
     },
     "metadata": {
      "needs_background": "light"
     },
     "output_type": "display_data"
    },
    {
     "data": {
      "image/png": "[encoded data removed]",
      "text/plain": [
       "<Figure size 1152x288 with 1 Axes>"
      ]
     },
     "metadata": {
      "needs_background": "light"
     },
     "output_type": "display_data"
    },
    {
     "data": {
      "image/png": "[encoded data removed]",
      "text/plain": [
       "<Figure size 1152x288 with 1 Axes>"
      ]
     },
     "metadata": {
      "needs_background": "light"
     },
     "output_type": "display_data"
    },
    {
     "data": {
      "image/png": "[encoded data removed]",
      "text/plain": [
       "<Figure size 1152x288 with 1 Axes>"
      ]
     },
     "metadata": {
      "needs_background": "light"
     },
     "output_type": "display_data"
    },
    {
     "data": {
      "image/png": "[encoded data removed]",
      "text/plain": [
       "<Figure size 1152x288 with 1 Axes>"
      ]
     },
     "metadata": {
      "needs_background": "light"
     },
     "output_type": "display_data"
    },
    {
     "data": {
      "image/png": "[encoded data removed]",
      "text/plain": [
       "<Figure size 1152x288 with 1 Axes>"
      ]
     },
     "metadata": {
      "needs_background": "light"
     },
     "output_type": "display_data"
    }
   ],
   "source": [
    "top7_platforms_list = {'PS3', 'PSV', '3DS', 'PS4', 'X360', 'PC', 'XOne'}\n",
    "#Построим распределения по годам для каждой платформы.\n",
    "for i in top7_platforms_list:\n",
    "    current_period[current_period['platform'] == i].pivot_table(\n",
    "        index='year_of_release', \n",
    "        values='total_sales', \n",
    "        aggfunc='sum').plot(\n",
    "        kind='bar', \n",
    "        figsize=(16,4)\n",
    "    )\n",
    "    plt.grid()\n",
    "    plt.title(i)"
   ]
  },
  {
   "cell_type": "markdown",
   "metadata": {},
   "source": [
    "Из графика видно, что PS3 c 2013 показывает стремительное падение по продажам, пологаю что это обусловлено выходом новой платформы."
   ]
  },
  {
   "cell_type": "markdown",
   "metadata": {},
   "source": [
    "PS Vita показывает стабильное падение продаж, но не столь стремительное как PS3. PS Vita все еще на плаву."
   ]
  },
  {
   "cell_type": "markdown",
   "metadata": {},
   "source": [
    "Продажи игр к Nintendo 3DS по показывают стабильное падение"
   ]
  },
  {
   "cell_type": "markdown",
   "metadata": {},
   "source": [
    "XOne в 2016 показал резкое падение, пологаю это связанно с тем что мы имеем данные не за полный 2016."
   ]
  },
  {
   "cell_type": "markdown",
   "metadata": {},
   "source": [
    "X360 с 2013 года стабильно падает связываю это с выходом XOne"
   ]
  },
  {
   "cell_type": "markdown",
   "metadata": {},
   "source": [
    "PC на мой взгяд стабилен по всему временному диапазону."
   ]
  },
  {
   "cell_type": "markdown",
   "metadata": {},
   "source": [
    "PS4 самая популярная в то время игровая платформа."
   ]
  },
  {
   "cell_type": "markdown",
   "metadata": {},
   "source": [
    "<div class=\"alert alert-block alert-success\">\n",
    "<b>Комментарий от ревьюера. V.2.</b>\n",
    "\n",
    "Прекрасный раздел!</div>    "
   ]
  },
  {
   "cell_type": "markdown",
   "metadata": {},
   "source": [
    "### Выбор несколько потенциально прибыльных платформ."
   ]
  },
  {
   "cell_type": "markdown",
   "metadata": {},
   "source": [
    "Исходя из графиков можно предположить, что в 2017 году потенциально прибыльными окажутся PS4, XOne и PC"
   ]
  },
  {
   "cell_type": "markdown",
   "metadata": {},
   "source": [
    "### Построю график «ящик с усами» по глобальным продажам игр в разбивке по платформам"
   ]
  },
  {
   "cell_type": "code",
   "execution_count": 18,
   "metadata": {},
   "outputs": [
    {
     "data": {
      "text/html": [
       "<div>\n",
       "<style scoped>\n",
       "    .dataframe tbody tr th:only-of-type {\n",
       "        vertical-align: middle;\n",
       "    }\n",
       "\n",
       "    .dataframe tbody tr th {\n",
       "        vertical-align: top;\n",
       "    }\n",
       "\n",
       "    .dataframe thead th {\n",
       "        text-align: right;\n",
       "    }\n",
       "</style>\n",
       "<table border=\"1\" class=\"dataframe\">\n",
       "  <thead>\n",
       "    <tr style=\"text-align: right;\">\n",
       "      <th></th>\n",
       "      <th>name</th>\n",
       "      <th>platform</th>\n",
       "      <th>year_of_release</th>\n",
       "      <th>genre</th>\n",
       "      <th>na_sales</th>\n",
       "      <th>eu_sales</th>\n",
       "      <th>jp_sales</th>\n",
       "      <th>other_sales</th>\n",
       "      <th>critic_score</th>\n",
       "      <th>user_score</th>\n",
       "      <th>rating</th>\n",
       "      <th>total_sales</th>\n",
       "    </tr>\n",
       "  </thead>\n",
       "  <tbody>\n",
       "    <tr>\n",
       "      <td>31</td>\n",
       "      <td>Call of Duty: Black Ops 3</td>\n",
       "      <td>PS4</td>\n",
       "      <td>2015</td>\n",
       "      <td>Shooter</td>\n",
       "      <td>6.03</td>\n",
       "      <td>5.86</td>\n",
       "      <td>0.36</td>\n",
       "      <td>2.38</td>\n",
       "      <td>NaN</td>\n",
       "      <td>NaN</td>\n",
       "      <td>NaN</td>\n",
       "      <td>14.63</td>\n",
       "    </tr>\n",
       "    <tr>\n",
       "      <td>42</td>\n",
       "      <td>Grand Theft Auto V</td>\n",
       "      <td>PS4</td>\n",
       "      <td>2014</td>\n",
       "      <td>Action</td>\n",
       "      <td>3.96</td>\n",
       "      <td>6.31</td>\n",
       "      <td>0.38</td>\n",
       "      <td>1.97</td>\n",
       "      <td>97.0</td>\n",
       "      <td>8.3</td>\n",
       "      <td>M</td>\n",
       "      <td>12.62</td>\n",
       "    </tr>\n",
       "    <tr>\n",
       "      <td>47</td>\n",
       "      <td>Pokemon Omega Ruby/Pokemon Alpha Sapphire</td>\n",
       "      <td>3DS</td>\n",
       "      <td>2014</td>\n",
       "      <td>Role-Playing</td>\n",
       "      <td>4.35</td>\n",
       "      <td>3.49</td>\n",
       "      <td>3.10</td>\n",
       "      <td>0.74</td>\n",
       "      <td>NaN</td>\n",
       "      <td>NaN</td>\n",
       "      <td>NaN</td>\n",
       "      <td>11.68</td>\n",
       "    </tr>\n",
       "    <tr>\n",
       "      <td>77</td>\n",
       "      <td>FIFA 16</td>\n",
       "      <td>PS4</td>\n",
       "      <td>2015</td>\n",
       "      <td>Sports</td>\n",
       "      <td>1.12</td>\n",
       "      <td>6.12</td>\n",
       "      <td>0.06</td>\n",
       "      <td>1.28</td>\n",
       "      <td>82.0</td>\n",
       "      <td>4.3</td>\n",
       "      <td>E</td>\n",
       "      <td>8.58</td>\n",
       "    </tr>\n",
       "    <tr>\n",
       "      <td>87</td>\n",
       "      <td>Star Wars Battlefront (2015)</td>\n",
       "      <td>PS4</td>\n",
       "      <td>2015</td>\n",
       "      <td>Shooter</td>\n",
       "      <td>2.99</td>\n",
       "      <td>3.49</td>\n",
       "      <td>0.22</td>\n",
       "      <td>1.28</td>\n",
       "      <td>NaN</td>\n",
       "      <td>NaN</td>\n",
       "      <td>NaN</td>\n",
       "      <td>7.98</td>\n",
       "    </tr>\n",
       "    <tr>\n",
       "      <td>...</td>\n",
       "      <td>...</td>\n",
       "      <td>...</td>\n",
       "      <td>...</td>\n",
       "      <td>...</td>\n",
       "      <td>...</td>\n",
       "      <td>...</td>\n",
       "      <td>...</td>\n",
       "      <td>...</td>\n",
       "      <td>...</td>\n",
       "      <td>...</td>\n",
       "      <td>...</td>\n",
       "      <td>...</td>\n",
       "    </tr>\n",
       "    <tr>\n",
       "      <td>1948</td>\n",
       "      <td>Overwatch</td>\n",
       "      <td>XOne</td>\n",
       "      <td>2016</td>\n",
       "      <td>Shooter</td>\n",
       "      <td>0.63</td>\n",
       "      <td>0.33</td>\n",
       "      <td>0.00</td>\n",
       "      <td>0.10</td>\n",
       "      <td>91.0</td>\n",
       "      <td>5.6</td>\n",
       "      <td>T</td>\n",
       "      <td>1.06</td>\n",
       "    </tr>\n",
       "    <tr>\n",
       "      <td>1978</td>\n",
       "      <td>EA Sports UFC</td>\n",
       "      <td>PS4</td>\n",
       "      <td>2014</td>\n",
       "      <td>Sports</td>\n",
       "      <td>0.46</td>\n",
       "      <td>0.41</td>\n",
       "      <td>0.01</td>\n",
       "      <td>0.17</td>\n",
       "      <td>70.0</td>\n",
       "      <td>6.1</td>\n",
       "      <td>T</td>\n",
       "      <td>1.05</td>\n",
       "    </tr>\n",
       "    <tr>\n",
       "      <td>2024</td>\n",
       "      <td>NBA 2K17</td>\n",
       "      <td>XOne</td>\n",
       "      <td>2016</td>\n",
       "      <td>Sports</td>\n",
       "      <td>0.86</td>\n",
       "      <td>0.06</td>\n",
       "      <td>0.00</td>\n",
       "      <td>0.11</td>\n",
       "      <td>90.0</td>\n",
       "      <td>6.2</td>\n",
       "      <td>E</td>\n",
       "      <td>1.03</td>\n",
       "    </tr>\n",
       "    <tr>\n",
       "      <td>2050</td>\n",
       "      <td>Assassin's Creed: Rogue</td>\n",
       "      <td>X360</td>\n",
       "      <td>2014</td>\n",
       "      <td>Action</td>\n",
       "      <td>0.58</td>\n",
       "      <td>0.34</td>\n",
       "      <td>0.00</td>\n",
       "      <td>0.09</td>\n",
       "      <td>72.0</td>\n",
       "      <td>7.3</td>\n",
       "      <td>M</td>\n",
       "      <td>1.01</td>\n",
       "    </tr>\n",
       "    <tr>\n",
       "      <td>2051</td>\n",
       "      <td>Rayman Legends</td>\n",
       "      <td>PS4</td>\n",
       "      <td>2014</td>\n",
       "      <td>Platform</td>\n",
       "      <td>0.22</td>\n",
       "      <td>0.64</td>\n",
       "      <td>0.00</td>\n",
       "      <td>0.16</td>\n",
       "      <td>90.0</td>\n",
       "      <td>8.5</td>\n",
       "      <td>E10+</td>\n",
       "      <td>1.02</td>\n",
       "    </tr>\n",
       "  </tbody>\n",
       "</table>\n",
       "<p>159 rows × 12 columns</p>\n",
       "</div>"
      ],
      "text/plain": [
       "                                           name platform  year_of_release  \\\n",
       "31                    Call of Duty: Black Ops 3      PS4             2015   \n",
       "42                           Grand Theft Auto V      PS4             2014   \n",
       "47    Pokemon Omega Ruby/Pokemon Alpha Sapphire      3DS             2014   \n",
       "77                                      FIFA 16      PS4             2015   \n",
       "87                 Star Wars Battlefront (2015)      PS4             2015   \n",
       "...                                         ...      ...              ...   \n",
       "1948                                  Overwatch     XOne             2016   \n",
       "1978                              EA Sports UFC      PS4             2014   \n",
       "2024                                   NBA 2K17     XOne             2016   \n",
       "2050                    Assassin's Creed: Rogue     X360             2014   \n",
       "2051                             Rayman Legends      PS4             2014   \n",
       "\n",
       "             genre  na_sales  eu_sales  jp_sales  other_sales  critic_score  \\\n",
       "31         Shooter      6.03      5.86      0.36         2.38           NaN   \n",
       "42          Action      3.96      6.31      0.38         1.97          97.0   \n",
       "47    Role-Playing      4.35      3.49      3.10         0.74           NaN   \n",
       "77          Sports      1.12      6.12      0.06         1.28          82.0   \n",
       "87         Shooter      2.99      3.49      0.22         1.28           NaN   \n",
       "...            ...       ...       ...       ...          ...           ...   \n",
       "1948       Shooter      0.63      0.33      0.00         0.10          91.0   \n",
       "1978        Sports      0.46      0.41      0.01         0.17          70.0   \n",
       "2024        Sports      0.86      0.06      0.00         0.11          90.0   \n",
       "2050        Action      0.58      0.34      0.00         0.09          72.0   \n",
       "2051      Platform      0.22      0.64      0.00         0.16          90.0   \n",
       "\n",
       "      user_score rating  total_sales  \n",
       "31           NaN    NaN        14.63  \n",
       "42           8.3      M        12.62  \n",
       "47           NaN    NaN        11.68  \n",
       "77           4.3      E         8.58  \n",
       "87           NaN    NaN         7.98  \n",
       "...          ...    ...          ...  \n",
       "1948         5.6      T         1.06  \n",
       "1978         6.1      T         1.05  \n",
       "2024         6.2      E         1.03  \n",
       "2050         7.3      M         1.01  \n",
       "2051         8.5   E10+         1.02  \n",
       "\n",
       "[159 rows x 12 columns]"
      ]
     },
     "execution_count": 18,
     "metadata": {},
     "output_type": "execute_result"
    }
   ],
   "source": [
    "# для построения усов создам таблицу с топ платформами в актуальный период\n",
    "top_7_platforms = current_period[current_period['platform'].isin(top7_platforms_list)]\n",
    "# избавлюсь от выбросов в стольбце total_sales\n",
    "top_7_platforms = top_7_platforms[top_7_platforms['total_sales']>1]\n",
    "top_7_platforms"
   ]
  },
  {
   "cell_type": "code",
   "execution_count": 19,
   "metadata": {},
   "outputs": [
    {
     "data": {
      "text/plain": [
       "'Ящик с усами'"
      ]
     },
     "execution_count": 19,
     "metadata": {},
     "output_type": "execute_result"
    },
    {
     "data": {
      "image/png": "[encoded data removed]",
      "text/plain": [
       "<Figure size 1152x720 with 1 Axes>"
      ]
     },
     "metadata": {
      "needs_background": "light"
     },
     "output_type": "display_data"
    }
   ],
   "source": [
    "#Отрисуем ящики с усами \n",
    "plt.figure(figsize=(16,10))\n",
    "sns.boxplot(data=top_7_platforms, x='platform', y='total_sales')\n",
    "plt.xlabel('Платформа')\n",
    "plt.ylabel('Глобальные продажи')\n",
    "plt.title;('Ящик с усами')"
   ]
  },
  {
   "cell_type": "markdown",
   "metadata": {},
   "source": [
    "Минимум продаж у всех одинаковый за счет избавления от выбросов. Нижний квартиль так же примерно одинаков у всех платформ. Лидером по продажам оказался PS4."
   ]
  },
  {
   "cell_type": "markdown",
   "metadata": {},
   "source": [
    "<div class=\"alert alert-block alert-success\">\n",
    "<b>Комментарий от ревьюера. V.2.</b>\n",
    "\n",
    "Ожидаемо. :) </div>    "
   ]
  },
  {
   "cell_type": "markdown",
   "metadata": {},
   "source": [
    "### Посмотрю, как влияют на продажи внутри одной популярной платформы отзывы пользователей и критиков. Постройте диаграмму рассеяния и посчитайте корреляцию между отзывами и продажами. "
   ]
  },
  {
   "cell_type": "code",
   "execution_count": 20,
   "metadata": {},
   "outputs": [
    {
     "data": {
      "text/plain": [
       "'Зависимоть продаж от оценки пользователей'"
      ]
     },
     "execution_count": 20,
     "metadata": {},
     "output_type": "execute_result"
    },
    {
     "data": {
      "image/png": "[encoded data removed]",
      "text/plain": [
       "<Figure size 720x360 with 1 Axes>"
      ]
     },
     "metadata": {
      "needs_background": "light"
     },
     "output_type": "display_data"
    }
   ],
   "source": [
    "#Построим диаграмму зависимости продаж от оценок пользователей\n",
    "plt.figure(figsize=(10,5))\n",
    "sns.scatterplot(x='user_score', y='total_sales', data= df[df['platform']=='PS4'],)\n",
    "plt.xlabel('Оценка пользователей')\n",
    "plt.ylabel('Глобальные продажи')\n",
    "plt.grid()\n",
    "plt.title;('Зависимоть продаж от оценки пользователей')"
   ]
  },
  {
   "cell_type": "code",
   "execution_count": 21,
   "metadata": {},
   "outputs": [
    {
     "name": "stdout",
     "output_type": "stream",
     "text": [
      "Коэфициент корреляции Пирсона равен  -0.03\n"
     ]
    }
   ],
   "source": [
    "#Корреляция между оценками пользователей и продажами \n",
    "ps4 = df[df['platform']=='PS4'] # не хотел создавать лишнюю переменную, но не смог разобраться как посчитать корреляцию\n",
    "# без создания.\n",
    "print('Коэфициент корреляции Пирсона равен ', round(ps4['user_score'].corr(ps4['total_sales']), 2))\n"
   ]
  },
  {
   "cell_type": "markdown",
   "metadata": {},
   "source": [
    "Из диаграммы рассеяния видно что с увеличением оценки пользователей продажи не увеличиваются  этом так же говорит коэффициент корреляции Пирсона который составил -0.03, что свидетельствует об отсутствии корреляционной связи"
   ]
  },
  {
   "cell_type": "code",
   "execution_count": 22,
   "metadata": {},
   "outputs": [
    {
     "data": {
      "text/plain": [
       "'Зависимоть продаж от оценки пользователей'"
      ]
     },
     "execution_count": 22,
     "metadata": {},
     "output_type": "execute_result"
    },
    {
     "data": {
      "image/png": "[encoded data removed]",
      "text/plain": [
       "<Figure size 720x360 with 1 Axes>"
      ]
     },
     "metadata": {
      "needs_background": "light"
     },
     "output_type": "display_data"
    }
   ],
   "source": [
    "plt.figure(figsize=(10,5))\n",
    "sns.scatterplot(x='critic_score', y='total_sales', data= df[df['platform']=='PS4'])\n",
    "plt.xlabel('Оценка критиков')\n",
    "plt.ylabel('Глобальные продажи')\n",
    "plt.grid()\n",
    "plt.title;('Зависимоть продаж от оценки пользователей')"
   ]
  },
  {
   "cell_type": "code",
   "execution_count": 23,
   "metadata": {},
   "outputs": [
    {
     "name": "stdout",
     "output_type": "stream",
     "text": [
      "Коэфициент корреляции Пирсона равен  0.41\n"
     ]
    }
   ],
   "source": [
    "print('Коэфициент корреляции Пирсона равен ', round(ps4['critic_score'].corr(ps4['total_sales']), 2))"
   ]
  },
  {
   "cell_type": "markdown",
   "metadata": {},
   "source": [
    "Из диаграммы рассеяния видно что с увеличением оценки критиков продажи увеличиваются не значительно об этом так же говорит коэффициент корреляции Пирсона который составил 0.41, что свидетельствует об умеренной силе корреляционной связи"
   ]
  },
  {
   "cell_type": "markdown",
   "metadata": {},
   "source": [
    "### Соотнесение выводов платформы PS4 с продажами игр на других платформах."
   ]
  },
  {
   "cell_type": "code",
   "execution_count": 24,
   "metadata": {},
   "outputs": [],
   "source": [
    "def other_platform(name_of_platform):\n",
    "    platform = df[df['platform']==name_of_platform]\n",
    "    fig, ax = plt.subplots(1 ,2, figsize=(15,5))\n",
    "    sns.scatterplot(x='user_score', y='total_sales', data=platform, ax=ax[0])\n",
    "    sns.scatterplot(x='critic_score', y='total_sales', data=platform, ax=ax[1])\n",
    "    fig.suptitle(name_of_platform)\n",
    "    ax[0].set(xlabel='Оценка пользователей')\n",
    "    ax[1].set(xlabel='Оценка критиков')\n",
    "    ax[0].set(ylabel='Количество продаж')\n",
    "    ax[1].set(ylabel='Количество продаж')\n",
    "    plt.show()\n",
    "    \n",
    "    correl = platform['user_score'].corr(platform['total_sales'])\n",
    "    critic_correl = platform['critic_score'].corr(platform['total_sales'])\n",
    "    if 0.3 >= critic_correl >= 0.1:\n",
    "        print('Корреляция Пирсона между отзывами критиков и продажами ', name_of_platform.upper(), ': Слабая', critic_correl)\n",
    "    if 0.5 >= critic_correl >= 0.3:\n",
    "        print('Корреляция Пирсона между отзывами критиков и продажами ', name_of_platform.upper(), ': Умеренная', critic_correl)\n",
    "    if 0.7 >= critic_correl >= 0.5:\n",
    "        print('Корреляция между отзывами критиков и продажами ', name_of_platform.upper(), ': Высокая', critic_correl)\n",
    "    if 0.9 >= critic_correl >= 0.7:\n",
    "        print('Корреляция между отзывами критиков и продажами ', name_of_platform.upper(), ': Весьма высокая', critic_correl)\n",
    "    if 1 >= critic_correl >= 0.9:\n",
    "        print('Коэфициент корреляции Пирсона между отзывами критиков и продажами ', name_of_platform.upper(), ': Сильная', critic_correl)\n",
    "    \n",
    "    if 0.3 >= correl >= 0.1:\n",
    "        print('Корреляция Пирсона между отзывами пользователей и продажами ', name_of_platform.upper(), ': Слабая', correl)\n",
    "    if 0.5 >= correl >= 0.3:\n",
    "        print('Корреляция Пирсона между отзывами пользователей и продажами ', name_of_platform.upper(), ': Умеренная', correl)\n",
    "    if 0.7 >= correl >= 0.5:\n",
    "        print('Корреляция Пирсона между отзывами пользователей и продажами ', name_of_platform.upper(), ': Высокая', correl)\n",
    "    if 0.9 >= correl >= 0.7:\n",
    "        print('Корреляция Пирсона между отзывами пользователей и продажами ', name_of_platform.upper(), ': Весьма высокая', correl)\n",
    "    if 1 >= correl >= 0.9:\n",
    "        print('Корреляция Пирсона между отзывами пользователей и продажами ', name_of_platform.upper(), ': Сильная', correl)\n",
    "    print('\\n')\n",
    "    \n",
    "    if 0.1 >= correl >= -0.1:\n",
    "        print('Корреляция Пирсона между отзывами пользователей и продажами ', name_of_platform.upper(), ': Корреляция не выявлена', correl)\n",
    "    if -0.1 >= correl >= -0.3:\n",
    "        print('Корреляция Пирсона между отзывами пользователей и продажами ', name_of_platform.upper(), ': Слабая обратная', correl)\n",
    "    if -0.3 >= correl >= -0.5:\n",
    "        print('Корреляция Пирсона между отзывами пользователей и продажами ', name_of_platform.upper(), ': Умеренная обратная', correl)\n",
    "    if -0.5 >= correl >= -0.7:\n",
    "        print('Корреляция Пирсона между отзывами пользователей и продажами ', name_of_platform.upper(), ': Высокая обратная', correl)\n",
    "    if -0.7 >= correl >= -0.9:\n",
    "        print('Корреляция Пирсона между отзывами пользователей и продажами ', name_of_platform.upper(), ': Весьма высокая обратная', correl)\n",
    "    if -0.9 >= correl >= -1:\n",
    "        print('Корреляция Пирсона между отзывами пользователей и продажами ', name_of_platform.upper(), ': Сильная обратная', correl)\n",
    "    print('\\n')"
   ]
  },
  {
   "cell_type": "code",
   "execution_count": 25,
   "metadata": {},
   "outputs": [
    {
     "data": {
      "image/png": "[encoded data removed]",
      "text/plain": [
       "<Figure size 1080x360 with 2 Axes>"
      ]
     },
     "metadata": {
      "needs_background": "light"
     },
     "output_type": "display_data"
    },
    {
     "name": "stdout",
     "output_type": "stream",
     "text": [
      "Корреляция Пирсона между отзывами критиков и продажами  PSV : Слабая 0.13176292727608935\n",
      "\n",
      "\n",
      "Корреляция Пирсона между отзывами пользователей и продажами  PSV : Корреляция не выявлена 0.0134887568358865\n",
      "\n",
      "\n"
     ]
    },
    {
     "data": {
      "image/png": "[encoded data removed]",
      "text/plain": [
       "<Figure size 1080x360 with 2 Axes>"
      ]
     },
     "metadata": {
      "needs_background": "light"
     },
     "output_type": "display_data"
    },
    {
     "name": "stdout",
     "output_type": "stream",
     "text": [
      "Корреляция Пирсона между отзывами критиков и продажами  PC : Слабая 0.2573947184009851\n",
      "\n",
      "\n",
      "Корреляция Пирсона между отзывами пользователей и продажами  PC : Корреляция не выявлена 0.012904741611451193\n",
      "\n",
      "\n"
     ]
    },
    {
     "data": {
      "image/png": "[encoded data removed]",
      "text/plain": [
       "<Figure size 1080x360 with 2 Axes>"
      ]
     },
     "metadata": {
      "needs_background": "light"
     },
     "output_type": "display_data"
    },
    {
     "name": "stdout",
     "output_type": "stream",
     "text": [
      "Корреляция Пирсона между отзывами критиков и продажами  PS4 : Умеренная 0.40656790206178095\n",
      "\n",
      "\n",
      "Корреляция Пирсона между отзывами пользователей и продажами  PS4 : Корреляция не выявлена -0.031957110204556424\n",
      "\n",
      "\n"
     ]
    },
    {
     "data": {
      "image/png": "[encoded data removed]",
      "text/plain": [
       "<Figure size 1080x360 with 2 Axes>"
      ]
     },
     "metadata": {
      "needs_background": "light"
     },
     "output_type": "display_data"
    },
    {
     "name": "stdout",
     "output_type": "stream",
     "text": [
      "Корреляция Пирсона между отзывами критиков и продажами  PS3 : Умеренная 0.4327589578997135\n",
      "Корреляция Пирсона между отзывами пользователей и продажами  PS3 : Слабая 0.12841562938563028\n",
      "\n",
      "\n",
      "\n",
      "\n"
     ]
    },
    {
     "data": {
      "image/png": "[encoded data removed]",
      "text/plain": [
       "<Figure size 1080x360 with 2 Axes>"
      ]
     },
     "metadata": {
      "needs_background": "light"
     },
     "output_type": "display_data"
    },
    {
     "name": "stdout",
     "output_type": "stream",
     "text": [
      "Корреляция Пирсона между отзывами критиков и продажами  XONE : Умеренная 0.4169983280084017\n",
      "\n",
      "\n",
      "Корреляция Пирсона между отзывами пользователей и продажами  XONE : Корреляция не выявлена -0.06892505328279414\n",
      "\n",
      "\n"
     ]
    },
    {
     "data": {
      "image/png": "[encoded data removed]",
      "text/plain": [
       "<Figure size 1080x360 with 2 Axes>"
      ]
     },
     "metadata": {
      "needs_background": "light"
     },
     "output_type": "display_data"
    },
    {
     "name": "stdout",
     "output_type": "stream",
     "text": [
      "Корреляция Пирсона между отзывами критиков и продажами  X360 : Умеренная 0.39286589254006965\n",
      "Корреляция Пирсона между отзывами пользователей и продажами  X360 : Слабая 0.11418661214018044\n",
      "\n",
      "\n",
      "\n",
      "\n"
     ]
    },
    {
     "data": {
      "image/png": "[encoded data removed]",
      "text/plain": [
       "<Figure size 1080x360 with 2 Axes>"
      ]
     },
     "metadata": {
      "needs_background": "light"
     },
     "output_type": "display_data"
    },
    {
     "name": "stdout",
     "output_type": "stream",
     "text": [
      "Корреляция Пирсона между отзывами критиков и продажами  3DS : Умеренная 0.3487397305984834\n",
      "Корреляция Пирсона между отзывами пользователей и продажами  3DS : Слабая 0.22207843643390882\n",
      "\n",
      "\n",
      "\n",
      "\n"
     ]
    }
   ],
   "source": [
    "#Вывод графиков\n",
    "for platform in top7_platforms_list:\n",
    "    other_platform(platform)"
   ]
  },
  {
   "cell_type": "markdown",
   "metadata": {},
   "source": [
    "Анализ графиков и коэфициента корреляции Пирсона показали, что зависимости продаж от оценок пользователей практически нет. Покупатели больше доверяют критикам, но и тут зависимость не высокая."
   ]
  },
  {
   "cell_type": "markdown",
   "metadata": {},
   "source": [
    "<div class=\"alert alert-block alert-success\">\n",
    "<b>Комментарий от ревьюера. V.2.</b>\n",
    "\n",
    "Очень крутые графики!</div>    "
   ]
  },
  {
   "cell_type": "code",
   "execution_count": 26,
   "metadata": {},
   "outputs": [
    {
     "data": {
      "text/plain": [
       "'Зависимость продаж от жанра игры '"
      ]
     },
     "execution_count": 26,
     "metadata": {},
     "output_type": "execute_result"
    },
    {
     "data": {
      "image/png": "[encoded data removed]",
      "text/plain": [
       "<Figure size 720x360 with 1 Axes>"
      ]
     },
     "metadata": {
      "needs_background": "light"
     },
     "output_type": "display_data"
    }
   ],
   "source": [
    "plt.figure(figsize=(10,5))\n",
    "sns.barplot(data=top_7_platforms.pivot_table(index='genre', values='total_sales', aggfunc='sum').sort_values(\n",
    "    by='total_sales', \n",
    "    ascending=False).reset_index().rename_axis(None, axis=1), \n",
    "    x='genre', \n",
    "    y='total_sales',\n",
    ")\n",
    "plt.xlabel('Жанр игры')\n",
    "plt.ylabel('Продажи')\n",
    "plt.grid()\n",
    "plt.title;('Зависимость продаж от жанра игры ')\n"
   ]
  },
  {
   "cell_type": "markdown",
   "metadata": {},
   "source": [
    "В лидерах 4 жанра причем Экшн и шутеры с двух кратным преимуществом. В аутсайдерах стретегии и приключения. "
   ]
  },
  {
   "cell_type": "markdown",
   "metadata": {},
   "source": [
    "<div class=\"alert alert-block alert-warning\">\n",
    "<b>Комментарий от ревьюера. V.2.</b>\n",
    "\n",
    "Тут бы тоже боксплот построить. Увидели бы распределение. :)</div>    "
   ]
  },
  {
   "cell_type": "markdown",
   "metadata": {},
   "source": [
    "### Вывод"
   ]
  },
  {
   "cell_type": "markdown",
   "metadata": {},
   "source": [
    "1. В 80-е и в начале 90-х игр выпускалось очень мало. Примерно с середины 90-х пошел резкий рост индустрии игр. Второй скачек наблюдается в начале 0-х и достигает пика к 2008 году. В 2012 наблюдается резкий спад выпуска игр возможно это связано со сменой тренда в индустрии видео игр. Примерно в это время был сделан упор не на выпуск новых игр, а на различные обновления и плюшки в виде новых режимов локаций и т.д. "
   ]
  },
  {
   "cell_type": "markdown",
   "metadata": {},
   "source": [
    "2. Цикл жизни современной ирговой платформы около 10-ти лет. Обусловлен в основном появлением обновленной игровой платформы ну и конечно же за такой срок \"железо\" морально устаревает."
   ]
  },
  {
   "cell_type": "markdown",
   "metadata": {},
   "source": [
    "3. За весь период лидируют по числу продаж такие платформы как PS2 и DS. Далее идут, уступая лидерам почти в два раза, такие платформы как PS3, Wii, X360, PSP, PS и PC. "
   ]
  },
  {
   "cell_type": "markdown",
   "metadata": {},
   "source": [
    "4. Поскольку по условию строим прогноз на 2017 год  для прогноза оптимально использовать данные с 2012 года."
   ]
  },
  {
   "cell_type": "markdown",
   "metadata": {},
   "source": [
    " 5. В актуальном периоде по продажам лидируют следующие платформы 'PS3', 'PSV', '3DS', 'PS4', 'X360', 'PC' и 'XOne"
   ]
  },
  {
   "cell_type": "markdown",
   "metadata": {},
   "source": [
    "6. Исходя из графиков можно предположить, что в 2017 году потенциально прибыльными окажутся PS4, XOne и PC"
   ]
  },
  {
   "cell_type": "markdown",
   "metadata": {},
   "source": [
    "7. Отзывы игроков ни как не влияют на продажи. В случае с отзывами критиков наблюдается умеренная корреляционная связь."
   ]
  },
  {
   "cell_type": "markdown",
   "metadata": {},
   "source": [
    "8. Лидерами по продажам являются такие жанры как экшн, шутеры, ролевые игры и спорт."
   ]
  },
  {
   "cell_type": "markdown",
   "metadata": {},
   "source": [
    "<div class=\"alert alert-block alert-success\">\n",
    "<b>Комментарий от ревьюера. V.2.</b>\n",
    "\n",
    "Хорошо,когда есть вывод между разделами. Сразу всё вспоминаешь. :)</div>    "
   ]
  },
  {
   "cell_type": "markdown",
   "metadata": {},
   "source": [
    "## Составление портрета пользователя по регионам"
   ]
  },
  {
   "cell_type": "markdown",
   "metadata": {},
   "source": [
    "### Портрет пользователя из Северной Америки"
   ]
  },
  {
   "cell_type": "code",
   "execution_count": 45,
   "metadata": {},
   "outputs": [
    {
     "data": {
      "text/plain": [
       "'Топ 5 платформ  региона NA'"
      ]
     },
     "execution_count": 45,
     "metadata": {},
     "output_type": "execute_result"
    },
    {
     "data": {
      "image/png": "[encoded data removed]",
      "text/plain": [
       "<Figure size 360x360 with 1 Axes>"
      ]
     },
     "metadata": {},
     "output_type": "display_data"
    }
   ],
   "source": [
    "# Построю график топ 5 платформ в NA\n",
    "#df.groupby('platform')['na_sales'].sum().sort_values(ascending=False).head(5).plot(kind='bar', grid=True, figsize=(16,5))\n",
    "#plt.xlabel('Название платформы')\n",
    "#plt.ylabel('Продажи')\n",
    "#plt.title;('Топ 5 платформ  региона NA')\n",
    "\n",
    "df.groupby('platform')['na_sales'].sum().sort_values(ascending=False).head(5).plot(kind='pie', figsize=(5,5), autopct='%1.1f%%')\n",
    "plt.ylabel('Продажи приставок в процентном соотношении')\n",
    "plt.title;('Топ 5 платформ  региона NA')\n",
    "\n",
    "\n",
    "\n",
    "#plt.show()\n"
   ]
  },
  {
   "cell_type": "markdown",
   "metadata": {},
   "source": [
    "В северной Америке по прадажам лидирует Х360 (что не удивительно ведь она производится в США), на втором месте идет PS2 также в пятерке есть PS3 это объясняется тем, что play station самая популярная приставка в мире."
   ]
  },
  {
   "cell_type": "code",
   "execution_count": 28,
   "metadata": {},
   "outputs": [
    {
     "data": {
      "text/plain": [
       "'Топ 5 жанров  региона NA'"
      ]
     },
     "execution_count": 28,
     "metadata": {},
     "output_type": "execute_result"
    },
    {
     "data": {
      "image/png": "[encoded data removed]",
      "text/plain": [
       "<Figure size 360x360 with 1 Axes>"
      ]
     },
     "metadata": {},
     "output_type": "display_data"
    }
   ],
   "source": [
    "#df.groupby('genre')['na_sales'].sum().sort_values(ascending=False).head(5).plot(kind='bar', grid=True, figsize=(16,5))\n",
    "#plt.xlabel('Название жанра')\n",
    "#plt.ylabel('Продажи')\n",
    "#plt.title;('Топ 5 жанров  региона NA')\n",
    "\n",
    "df.groupby('genre')['na_sales'].sum().sort_values(ascending=False).head(5).plot(kind='pie', figsize=(5,5), autopct='%1.1f%%')\n",
    "plt.ylabel('Популярность жанров в процентном соотношении')\n",
    "plt.title;('Топ 5 жанров  региона NA')\n"
   ]
  },
  {
   "cell_type": "markdown",
   "metadata": {},
   "source": [
    "Самым популярны жанром оказался Action, Sports и Shooter немного отстают."
   ]
  },
  {
   "cell_type": "code",
   "execution_count": 29,
   "metadata": {},
   "outputs": [
    {
     "data": {
      "text/plain": [
       "'Влияние рейтинга на продажи региона NA'"
      ]
     },
     "execution_count": 29,
     "metadata": {},
     "output_type": "execute_result"
    },
    {
     "data": {
      "image/png": "[encoded data removed]",
      "text/plain": [
       "<Figure size 360x360 with 1 Axes>"
      ]
     },
     "metadata": {},
     "output_type": "display_data"
    }
   ],
   "source": [
    "#df.groupby('rating')['na_sales'].sum().sort_values(ascending=False).head(5).plot(kind='bar', grid=True, figsize=(16,5))\n",
    "#plt.xlabel('Рейтинг')\n",
    "#plt.ylabel('Продажи')\n",
    "#plt.title;('Влияние рейтинга на продажи региона NA')\n",
    "\n",
    "df.groupby('rating')['na_sales'].sum().sort_values(ascending=False).head(5).plot(kind='pie', figsize=(5,5), autopct='%1.1f%%')\n",
    "plt.ylabel('Продажи в процентном соотношении')\n",
    "plt.title;('Влияние рейтинга на продажи региона NA')"
   ]
  },
  {
   "cell_type": "markdown",
   "metadata": {},
   "source": [
    "Рейтинг ESRB влияет на продажи"
   ]
  },
  {
   "cell_type": "markdown",
   "metadata": {},
   "source": [
    "### Составление портрета пользователя из Европейского союза"
   ]
  },
  {
   "cell_type": "code",
   "execution_count": 30,
   "metadata": {},
   "outputs": [
    {
     "data": {
      "text/plain": [
       "'Топ 5 платформ  региона EU'"
      ]
     },
     "execution_count": 30,
     "metadata": {},
     "output_type": "execute_result"
    },
    {
     "data": {
      "image/png": "[encoded data removed]",
      "text/plain": [
       "<Figure size 360x360 with 1 Axes>"
      ]
     },
     "metadata": {},
     "output_type": "display_data"
    }
   ],
   "source": [
    "#df.groupby('platform')['eu_sales'].sum().sort_values(ascending=False).head(5).plot(kind='bar', grid=True, figsize=(16,5))\n",
    "#plt.xlabel('Название платформы')\n",
    "#plt.ylabel('Продажи')\n",
    "#plt.title;('Топ 5 платформ региона EU')\n",
    "\n",
    "df.groupby('platform')['eu_sales'].sum().sort_values(ascending=False).head(5).plot(kind='pie', figsize=(5,5), autopct='%1.1f%%')\n",
    "plt.ylabel('Продажи приставок в процентном соотношении')\n",
    "plt.title;('Топ 5 платформ  региона EU')"
   ]
  },
  {
   "cell_type": "markdown",
   "metadata": {},
   "source": [
    "Для европы характерно преобладание PS, X360 в отстающих"
   ]
  },
  {
   "cell_type": "code",
   "execution_count": 31,
   "metadata": {},
   "outputs": [
    {
     "data": {
      "text/plain": [
       "'Топ 5 жанров  региона EU'"
      ]
     },
     "execution_count": 31,
     "metadata": {},
     "output_type": "execute_result"
    },
    {
     "data": {
      "image/png": "[encoded data removed]",
      "text/plain": [
       "<Figure size 360x360 with 1 Axes>"
      ]
     },
     "metadata": {},
     "output_type": "display_data"
    }
   ],
   "source": [
    "#df.groupby('genre')['eu_sales'].sum().sort_values(ascending=False).head(5).plot(kind='bar', grid=True, figsize=(16,5))\n",
    "#plt.xlabel('Название жанра')\n",
    "#plt.ylabel('Продажи')\n",
    "#plt.title;('Топ 5 жанров  региона EU')\n",
    "\n",
    "df.groupby('genre')['eu_sales'].sum().sort_values(ascending=False).head(5).plot(kind='pie', figsize=(5,5), autopct='%1.1f%%')\n",
    "plt.ylabel('Популярность жанров в процентном соотношении')\n",
    "plt.title;('Топ 5 жанров  региона EU')"
   ]
  },
  {
   "cell_type": "markdown",
   "metadata": {},
   "source": [
    "Распределение продаж по жанрам в приципе повторяет NA"
   ]
  },
  {
   "cell_type": "code",
   "execution_count": 32,
   "metadata": {},
   "outputs": [
    {
     "data": {
      "text/plain": [
       "'Влияние рейтинга на продажи региона EU'"
      ]
     },
     "execution_count": 32,
     "metadata": {},
     "output_type": "execute_result"
    },
    {
     "data": {
      "image/png": "[encoded data removed]",
      "text/plain": [
       "<Figure size 360x360 with 1 Axes>"
      ]
     },
     "metadata": {},
     "output_type": "display_data"
    }
   ],
   "source": [
    "#df.groupby('rating')['eu_sales'].sum().sort_values(ascending=False).head(5).plot(kind='bar', grid=True, figsize=(16,5))\n",
    "#plt.xlabel('Рейтинг')\n",
    "#plt.ylabel('Продажи')\n",
    "#plt.title;('Влияние рейтинга на продажи  региона EU')\n",
    "\n",
    "\n",
    "df.groupby('rating')['eu_sales'].sum().sort_values(ascending=False).head(5).plot(kind='pie', figsize=(5,5), autopct='%1.1f%%')\n",
    "plt.ylabel('Продажи в процентном соотношении')\n",
    "plt.title;('Влияние рейтинга на продажи региона EU')"
   ]
  },
  {
   "cell_type": "markdown",
   "metadata": {},
   "source": [
    "Рейтинг ESRB влияет на продажи"
   ]
  },
  {
   "cell_type": "markdown",
   "metadata": {},
   "source": [
    "### Составление портрета пользователя из Японии"
   ]
  },
  {
   "cell_type": "code",
   "execution_count": 33,
   "metadata": {},
   "outputs": [
    {
     "data": {
      "text/plain": [
       "'Топ 5 платформ  региона JP'"
      ]
     },
     "execution_count": 33,
     "metadata": {},
     "output_type": "execute_result"
    },
    {
     "data": {
      "image/png": "[encoded data removed]",
      "text/plain": [
       "<Figure size 360x360 with 1 Axes>"
      ]
     },
     "metadata": {},
     "output_type": "display_data"
    }
   ],
   "source": [
    "#df.groupby('platform')['jp_sales'].sum().sort_values(ascending=False).head(5).plot(kind='bar', grid=True, figsize=(16,5))\n",
    "#plt.xlabel('Название платформы')\n",
    "#plt.ylabel('Продажи')\n",
    "#plt.title;('Топ 5 платформ  региона JP')\n",
    "\n",
    "df.groupby('platform')['jp_sales'].sum().sort_values(ascending=False).head(5).plot(kind='pie', figsize=(5,5), autopct='%1.1f%%')\n",
    "plt.ylabel('Продажи приставок в процентном соотношении')\n",
    "plt.title;('Топ 5 платформ  региона JP')"
   ]
  },
  {
   "cell_type": "markdown",
   "metadata": {},
   "source": [
    "В Японии отдают предпочтение отечественным платформам Nintendo и PS. Х360 не попал в топ 5"
   ]
  },
  {
   "cell_type": "code",
   "execution_count": 34,
   "metadata": {},
   "outputs": [
    {
     "data": {
      "text/plain": [
       "'Топ 5 жанров  региона JP'"
      ]
     },
     "execution_count": 34,
     "metadata": {},
     "output_type": "execute_result"
    },
    {
     "data": {
      "image/png": "[encoded data removed]",
      "text/plain": [
       "<Figure size 360x360 with 1 Axes>"
      ]
     },
     "metadata": {},
     "output_type": "display_data"
    }
   ],
   "source": [
    "#df.groupby('genre')['jp_sales'].sum().sort_values(ascending=False).head(5).plot(kind='bar', grid=True, figsize=(16,5))\n",
    "#plt.xlabel('Название жанра')\n",
    "#plt.ylabel('Продажи')\n",
    "#plt.title;('Топ 5 жанров  региона JP')\n",
    "\n",
    "df.groupby('genre')['jp_sales'].sum().sort_values(ascending=False).head(5).plot(kind='pie', figsize=(5,5), autopct='%1.1f%%')\n",
    "plt.ylabel('Популярность жанров в процентном соотношении')\n",
    "plt.title;('Топ 5 жанров  региона JP')"
   ]
  },
  {
   "cell_type": "markdown",
   "metadata": {},
   "source": [
    "В Японии явное предпочтение отдают ролевым играм. По остальным жанрам паритет."
   ]
  },
  {
   "cell_type": "code",
   "execution_count": 35,
   "metadata": {},
   "outputs": [
    {
     "data": {
      "text/plain": [
       "'Влияние рейтинга на продажи региона JP'"
      ]
     },
     "execution_count": 35,
     "metadata": {},
     "output_type": "execute_result"
    },
    {
     "data": {
      "image/png": "[encoded data removed]",
      "text/plain": [
       "<Figure size 360x360 with 1 Axes>"
      ]
     },
     "metadata": {},
     "output_type": "display_data"
    }
   ],
   "source": [
    "#df.groupby('rating')['jp_sales'].sum().sort_values(ascending=False).head(5).plot(kind='bar', grid=True, figsize=(16,5))\n",
    "#plt.xlabel('Рейтинг')\n",
    "#plt.ylabel('Продажи')\n",
    "#plt.title;('Зависимость продаж от рейтинга')\n",
    "\n",
    "df.groupby('rating')['jp_sales'].sum().sort_values(ascending=False).head(5).plot(kind='pie', figsize=(5,5), autopct='%1.1f%%')\n",
    "plt.ylabel('Продажи в процентном соотношении')\n",
    "plt.title;('Влияние рейтинга на продажи региона JP')"
   ]
  },
  {
   "cell_type": "markdown",
   "metadata": {},
   "source": [
    "Рейтинг ESRB влияет на продажи"
   ]
  },
  {
   "cell_type": "markdown",
   "metadata": {},
   "source": [
    "### Вывод"
   ]
  },
  {
   "cell_type": "markdown",
   "metadata": {},
   "source": [
    "1. В Северной Америке предпочитают играть на X360 что не удивительно ведь это родина приставки. В европе же больше предпочитают PS но  Х360 также держится в лидерах. Япония стоит особняком рубятся только на отечественных приставках X360 не попал в топ 5"
   ]
  },
  {
   "cell_type": "markdown",
   "metadata": {},
   "source": [
    "2. В NA и EU по жанрам паритет между Action, shooter и sports, а вот япония и тут выделилась с явным приимуществом лидируют ролевые игры."
   ]
  },
  {
   "cell_type": "markdown",
   "metadata": {},
   "source": [
    "3. Рейтинг ESRB это скорее не рейтинг, а деление игр возрастные группы. И оценивать его влияние на продажи наверное не корректно. Так как например игр 18+ заведомо меньше выпускается."
   ]
  },
  {
   "cell_type": "markdown",
   "metadata": {},
   "source": [
    "<div class=\"alert alert-block alert-success\">\n",
    "<b>Комментарий от ревьюера. V.2.</b>\n",
    "\n",
    "Япония другая планета у нас. Это нормально. Отличные графики и выводы. :) </div>    "
   ]
  },
  {
   "cell_type": "markdown",
   "metadata": {},
   "source": [
    "## Проверка гипотез"
   ]
  },
  {
   "cell_type": "markdown",
   "metadata": {},
   "source": [
    "### Средние пользовательские рейтинги платформ Xbox One и PC одинаковые"
   ]
  },
  {
   "cell_type": "markdown",
   "metadata": {},
   "source": [
    "Сформулируем гипотезы:\n",
    "\n",
    "H0: Средние пользовательские рейтинги платформ Xbox One и PC одинаковые;\n",
    "\n",
    "H1: Средние пользовательские рейтинги платформ Xbox One и PC различаются\n",
    "\n",
    "Критический уровень статистической значимости 5%, чтобы вероятность правильности вывода была 95% и больше.."
   ]
  },
  {
   "cell_type": "code",
   "execution_count": 36,
   "metadata": {},
   "outputs": [],
   "source": [
    "# Создаю выборки для проверки гипотез\n",
    "xone = df[df['platform']== 'XOne']\n",
    "pc = df[df['platform']== 'PC']\n",
    "\n"
   ]
  },
  {
   "cell_type": "code",
   "execution_count": 37,
   "metadata": {},
   "outputs": [
    {
     "name": "stdout",
     "output_type": "stream",
     "text": [
      "p-value: 1.3037979620149106e-05\n",
      "Отвергаем нулевую гипотезу\n"
     ]
    }
   ],
   "source": [
    "alpha = 0.05 \n",
    "results = st.ttest_ind(\n",
    "    xone['user_score'].dropna(), \n",
    "    pc['user_score'].dropna()\n",
    ")\n",
    "\n",
    "print('p-value:', results.pvalue)\n",
    "\n",
    "if (results.pvalue < alpha):\n",
    "    print(\"Отвергаем нулевую гипотезу\")\n",
    "else:\n",
    "    print(\"Не получилось отвергнуть нулевую гипотезу\")"
   ]
  },
  {
   "cell_type": "markdown",
   "metadata": {},
   "source": [
    "### Средние пользовательские рейтинги жанров Action  и Sports разные"
   ]
  },
  {
   "cell_type": "markdown",
   "metadata": {},
   "source": [
    "Сформулируем гипотезы:\n",
    "\n",
    "H0: Средние пользовательские рейтинги жанров Action и Sports различаются.\n",
    "\n",
    "H1: Средние пользовательские рейтинги жанров Action и Sports одинаковые.\n",
    "\n",
    "Критический уровень статистической значимости 5%, чтобы вероятность правильности вывода была 95% и больше"
   ]
  },
  {
   "cell_type": "code",
   "execution_count": 38,
   "metadata": {},
   "outputs": [],
   "source": [
    "# Создаю выборки для проверки гипотез\n",
    "action = df[df['genre']== 'Action']\n",
    "sports = df[df['genre']== 'Sports']\n"
   ]
  },
  {
   "cell_type": "code",
   "execution_count": 39,
   "metadata": {
    "scrolled": true
   },
   "outputs": [
    {
     "name": "stdout",
     "output_type": "stream",
     "text": [
      "p-value: 0.06480928064420527\n",
      "Не получилось отвергнуть нулевую гипотезу\n"
     ]
    }
   ],
   "source": [
    "alpha = 0.05 \n",
    "results = st.ttest_ind(\n",
    "    action['user_score'].dropna(), \n",
    "    sports['user_score'].dropna()\n",
    ")\n",
    "\n",
    "print('p-value:', results.pvalue)\n",
    "\n",
    "if (results.pvalue < alpha):\n",
    "    print(\"Отвергаем нулевую гипотезу\")\n",
    "else:\n",
    "    print(\"Не получилось отвергнуть нулевую гипотезу\")"
   ]
  },
  {
   "cell_type": "markdown",
   "metadata": {},
   "source": [
    "<div class=\"alert alert-block alert-success\">\n",
    "<b>Комментарий от ревьюера. V.2.</b>\n",
    "\n",
    "Верные формулировки и ты не забыл про удаление. Всё прекрасно!</div>    "
   ]
  },
  {
   "cell_type": "markdown",
   "metadata": {},
   "source": [
    "## Общий вывод"
   ]
  },
  {
   "cell_type": "markdown",
   "metadata": {},
   "source": [
    "1. В 80-е и в начале 90-х игр выпускалось очень мало. Примерно с середины 90-х пошел резкий рост индустрии игр. Второй скачек наблюдается в начале 0-х и достигает пика к 2008 году. В 2012 наблюдается резкий спад выпуска игр возможно это связано со сменой тренда в индустрии видео игр. Примерно в это время был сделан упор не на выпуск новых игр, а на различные обновления и плюшки в виде новых режимов локаций и т.д. \n",
    "\n",
    "2. Цикл жизни современной ирговой платформы около 10-ти лет. Обусловлен в основном появлением обновленной игровой платформы ну и конечно же за такой срок \"железо\" морально устаревает.\n",
    "\n",
    "3. За весь период лидируют по числу продаж такие платформы как PS2 и DS. Далее идут, уступая лидерам почти в два раза, такие платформы как PS3, Wii, X360, PSP, PS и PC. \n",
    "\n",
    "4. В актуальном периоде по продажам лидируют следующие платформы 'PS3', 'PSV', '3DS', 'PS4', 'X360', 'PC' и 'XOne\n",
    "\n",
    "5. Исходя из графиков можно предположить, что в 2017 году потенциально прибыльными окажутся PS4, XOne и PC\n",
    "\n",
    "6. Отзывы игроков ни как не влияют на продажи. В случае с отзывами критиков наблюдается умеренная корреляционная связь.\n",
    "\n",
    "7. Лидерами по продажам являются такие жанры как экшн, шутеры, ролевые игры и спорт.\n",
    "\n",
    "8. В Северной Америке предпочитают играть на X360 что не удивительно ведь это родина приставки. В европе же больше предпочитают PS но  Х360 также держится в лидерах. Япония стоит особняком рубятся только на отечественных приставках X360 не попал в топ 5\n",
    "\n",
    "9. В NA и EU по жанрам паритет между Action, shooter и sports, а вот япония и тут выделилась с явным приимуществом лидируют ролевые игры.\n",
    "\n",
    "10. Рейтинг ESRB это скорее не рейтинг, а деление игр возрастные группы. И оценивать его влияние на продажи наверное не корректно. Так как например игр 18+ заведомо меньше выпускается.\n",
    "\n",
    "11. Проверка гипотез показала, что:\n",
    "\n",
    "    1. Средние пользовательские рейтинги платформ Xbox One и PC различаются.\n",
    "\n",
    "    2. Средние пользовательские рейтинги жанров Action и Sports одинаковые."
   ]
  },
  {
   "cell_type": "markdown",
   "metadata": {},
   "source": [
    "<div class=\"alert alert-block alert-success\">\n",
    "<b>Комментарий от ревьюера. V.2.</b>\n",
    "\n",
    "Очень хороший и ёмкий вывод. Менеджер быдет ему очень рад. :) </div>    "
   ]
  }
 ],
 "metadata": {
  "ExecuteTimeLog": [
   {
    "duration": 566,
    "start_time": "2022-02-01T08:30:33.049Z"
   },
   {
    "duration": 47,
    "start_time": "2022-02-01T08:31:20.423Z"
   },
   {
    "duration": 41,
    "start_time": "2022-02-01T08:31:34.487Z"
   },
   {
    "duration": 70,
    "start_time": "2022-02-01T08:35:10.321Z"
   },
   {
    "duration": 67,
    "start_time": "2022-02-01T08:37:04.793Z"
   },
   {
    "duration": 11,
    "start_time": "2022-02-01T08:49:40.159Z"
   },
   {
    "duration": 11,
    "start_time": "2022-02-01T08:49:52.900Z"
   },
   {
    "duration": 12,
    "start_time": "2022-02-01T08:55:33.266Z"
   },
   {
    "duration": 12,
    "start_time": "2022-02-01T08:55:50.764Z"
   },
   {
    "duration": 20,
    "start_time": "2022-02-01T08:57:59.967Z"
   },
   {
    "duration": 15,
    "start_time": "2022-02-01T09:01:21.466Z"
   },
   {
    "duration": 105,
    "start_time": "2022-02-01T09:02:16.408Z"
   },
   {
    "duration": 12,
    "start_time": "2022-02-01T09:02:32.845Z"
   },
   {
    "duration": 15,
    "start_time": "2022-02-01T09:03:33.405Z"
   },
   {
    "duration": 15,
    "start_time": "2022-02-01T09:03:50.749Z"
   },
   {
    "duration": 16,
    "start_time": "2022-02-01T09:04:16.173Z"
   },
   {
    "duration": 14,
    "start_time": "2022-02-01T09:04:25.445Z"
   },
   {
    "duration": 16,
    "start_time": "2022-02-01T09:05:05.971Z"
   },
   {
    "duration": 13,
    "start_time": "2022-02-01T09:05:39.467Z"
   },
   {
    "duration": 12,
    "start_time": "2022-02-01T09:05:58.842Z"
   },
   {
    "duration": 3,
    "start_time": "2022-02-01T09:06:11.573Z"
   },
   {
    "duration": 67,
    "start_time": "2022-02-01T09:06:11.577Z"
   },
   {
    "duration": 13,
    "start_time": "2022-02-01T09:06:11.645Z"
   },
   {
    "duration": 12,
    "start_time": "2022-02-01T09:06:11.659Z"
   },
   {
    "duration": 5,
    "start_time": "2022-02-01T09:06:11.673Z"
   },
   {
    "duration": 14,
    "start_time": "2022-02-01T09:07:36.490Z"
   },
   {
    "duration": 11,
    "start_time": "2022-02-01T09:08:31.465Z"
   },
   {
    "duration": 2,
    "start_time": "2022-02-01T09:08:52.679Z"
   },
   {
    "duration": 69,
    "start_time": "2022-02-01T09:08:52.683Z"
   },
   {
    "duration": 12,
    "start_time": "2022-02-01T09:08:52.753Z"
   },
   {
    "duration": 11,
    "start_time": "2022-02-01T09:08:52.767Z"
   },
   {
    "duration": 2,
    "start_time": "2022-02-01T09:08:52.779Z"
   },
   {
    "duration": 339,
    "start_time": "2022-02-01T09:08:59.887Z"
   },
   {
    "duration": 14,
    "start_time": "2022-02-01T09:12:01.141Z"
   },
   {
    "duration": 15,
    "start_time": "2022-02-01T09:12:11.643Z"
   },
   {
    "duration": 4,
    "start_time": "2022-02-01T09:18:13.232Z"
   },
   {
    "duration": 8,
    "start_time": "2022-02-01T09:41:08.570Z"
   },
   {
    "duration": 89,
    "start_time": "2022-02-01T09:52:48.869Z"
   },
   {
    "duration": 10,
    "start_time": "2022-02-01T09:52:54.003Z"
   },
   {
    "duration": 7,
    "start_time": "2022-02-01T09:53:05.467Z"
   },
   {
    "duration": 8,
    "start_time": "2022-02-01T09:54:03.132Z"
   },
   {
    "duration": 92,
    "start_time": "2022-02-01T09:56:37.896Z"
   },
   {
    "duration": 272,
    "start_time": "2022-02-01T10:01:26.004Z"
   },
   {
    "duration": 2,
    "start_time": "2022-02-01T10:02:29.027Z"
   },
   {
    "duration": 69,
    "start_time": "2022-02-01T10:02:29.030Z"
   },
   {
    "duration": 11,
    "start_time": "2022-02-01T10:02:29.101Z"
   },
   {
    "duration": 25,
    "start_time": "2022-02-01T10:02:29.113Z"
   },
   {
    "duration": 7,
    "start_time": "2022-02-01T10:02:29.139Z"
   },
   {
    "duration": 10,
    "start_time": "2022-02-01T10:02:29.147Z"
   },
   {
    "duration": 4,
    "start_time": "2022-02-01T10:02:29.158Z"
   },
   {
    "duration": 12,
    "start_time": "2022-02-01T10:02:47.001Z"
   },
   {
    "duration": 17,
    "start_time": "2022-02-01T10:04:21.051Z"
   },
   {
    "duration": 2,
    "start_time": "2022-02-01T10:05:05.666Z"
   },
   {
    "duration": 67,
    "start_time": "2022-02-01T10:05:05.672Z"
   },
   {
    "duration": 10,
    "start_time": "2022-02-01T10:05:05.741Z"
   },
   {
    "duration": 324,
    "start_time": "2022-02-01T10:05:05.753Z"
   },
   {
    "duration": 1121,
    "start_time": "2022-02-01T10:05:04.958Z"
   },
   {
    "duration": 1121,
    "start_time": "2022-02-01T10:05:04.959Z"
   },
   {
    "duration": 1119,
    "start_time": "2022-02-01T10:05:04.962Z"
   },
   {
    "duration": 2,
    "start_time": "2022-02-01T10:05:49.470Z"
   },
   {
    "duration": 66,
    "start_time": "2022-02-01T10:05:49.475Z"
   },
   {
    "duration": 11,
    "start_time": "2022-02-01T10:05:49.543Z"
   },
   {
    "duration": 19,
    "start_time": "2022-02-01T10:05:49.555Z"
   },
   {
    "duration": 7,
    "start_time": "2022-02-01T10:05:49.575Z"
   },
   {
    "duration": 12,
    "start_time": "2022-02-01T10:05:49.583Z"
   },
   {
    "duration": 3,
    "start_time": "2022-02-01T10:05:49.596Z"
   },
   {
    "duration": 17,
    "start_time": "2022-02-01T10:06:17.550Z"
   },
   {
    "duration": 17,
    "start_time": "2022-02-01T10:06:32.870Z"
   },
   {
    "duration": 306,
    "start_time": "2022-02-01T10:06:44.847Z"
   },
   {
    "duration": 25,
    "start_time": "2022-02-01T10:06:51.409Z"
   },
   {
    "duration": 15,
    "start_time": "2022-02-01T10:07:14.589Z"
   },
   {
    "duration": 16,
    "start_time": "2022-02-01T10:09:20.725Z"
   },
   {
    "duration": 17,
    "start_time": "2022-02-01T10:11:59.873Z"
   },
   {
    "duration": 18,
    "start_time": "2022-02-01T10:13:44.480Z"
   },
   {
    "duration": 65,
    "start_time": "2022-02-01T10:17:47.701Z"
   },
   {
    "duration": 67,
    "start_time": "2022-02-01T10:17:47.768Z"
   },
   {
    "duration": 12,
    "start_time": "2022-02-01T10:17:47.837Z"
   },
   {
    "duration": 14,
    "start_time": "2022-02-01T10:17:47.850Z"
   },
   {
    "duration": 9,
    "start_time": "2022-02-01T10:17:47.866Z"
   },
   {
    "duration": 12,
    "start_time": "2022-02-01T10:17:47.876Z"
   },
   {
    "duration": 39,
    "start_time": "2022-02-01T10:17:47.889Z"
   },
   {
    "duration": 236,
    "start_time": "2022-02-01T10:17:47.930Z"
   },
   {
    "duration": 2,
    "start_time": "2022-02-01T10:17:48.168Z"
   },
   {
    "duration": 1123,
    "start_time": "2022-02-01T10:20:09.552Z"
   },
   {
    "duration": 339,
    "start_time": "2022-02-01T10:21:48.600Z"
   },
   {
    "duration": 347,
    "start_time": "2022-02-01T10:24:29.397Z"
   },
   {
    "duration": 14,
    "start_time": "2022-02-01T10:33:18.075Z"
   },
   {
    "duration": 12971,
    "start_time": "2022-02-01T10:34:40.868Z"
   },
   {
    "duration": 11333,
    "start_time": "2022-02-01T10:35:01.666Z"
   },
   {
    "duration": 308,
    "start_time": "2022-02-01T10:35:29.106Z"
   },
   {
    "duration": 625,
    "start_time": "2022-02-01T10:36:37.331Z"
   },
   {
    "duration": 944,
    "start_time": "2022-02-01T10:36:51.083Z"
   },
   {
    "duration": 319,
    "start_time": "2022-02-01T10:37:30.097Z"
   },
   {
    "duration": 565,
    "start_time": "2022-02-01T10:37:52.495Z"
   },
   {
    "duration": 309,
    "start_time": "2022-02-01T10:38:05.818Z"
   },
   {
    "duration": 304,
    "start_time": "2022-02-01T10:38:43.158Z"
   },
   {
    "duration": 317,
    "start_time": "2022-02-01T10:41:25.411Z"
   },
   {
    "duration": 226,
    "start_time": "2022-02-01T10:52:21.181Z"
   },
   {
    "duration": 298,
    "start_time": "2022-02-01T11:11:02.839Z"
   },
   {
    "duration": 469,
    "start_time": "2022-02-01T11:11:14.433Z"
   },
   {
    "duration": 630,
    "start_time": "2022-02-01T11:15:26.730Z"
   },
   {
    "duration": 73,
    "start_time": "2022-02-01T11:15:27.362Z"
   },
   {
    "duration": 12,
    "start_time": "2022-02-01T11:15:27.437Z"
   },
   {
    "duration": 16,
    "start_time": "2022-02-01T11:15:27.451Z"
   },
   {
    "duration": 8,
    "start_time": "2022-02-01T11:15:27.468Z"
   },
   {
    "duration": 12,
    "start_time": "2022-02-01T11:15:27.477Z"
   },
   {
    "duration": 39,
    "start_time": "2022-02-01T11:15:27.491Z"
   },
   {
    "duration": 354,
    "start_time": "2022-02-01T11:15:27.531Z"
   },
   {
    "duration": 320,
    "start_time": "2022-02-01T11:15:27.887Z"
   },
   {
    "duration": 5,
    "start_time": "2022-02-01T11:15:28.209Z"
   },
   {
    "duration": 6194,
    "start_time": "2022-02-01T11:16:11.490Z"
   },
   {
    "duration": 332,
    "start_time": "2022-02-01T11:17:48.203Z"
   },
   {
    "duration": 594,
    "start_time": "2022-02-01T11:20:27.909Z"
   },
   {
    "duration": 1908,
    "start_time": "2022-02-01T11:27:23.327Z"
   },
   {
    "duration": 1874,
    "start_time": "2022-02-01T11:28:13.814Z"
   },
   {
    "duration": 3,
    "start_time": "2022-02-01T11:33:07.873Z"
   },
   {
    "duration": 69,
    "start_time": "2022-02-01T11:33:07.879Z"
   },
   {
    "duration": 12,
    "start_time": "2022-02-01T11:33:07.949Z"
   },
   {
    "duration": 21,
    "start_time": "2022-02-01T11:33:07.963Z"
   },
   {
    "duration": 8,
    "start_time": "2022-02-01T11:33:07.986Z"
   },
   {
    "duration": 33,
    "start_time": "2022-02-01T11:33:07.995Z"
   },
   {
    "duration": 14,
    "start_time": "2022-02-01T11:33:08.029Z"
   },
   {
    "duration": 346,
    "start_time": "2022-02-01T11:33:08.044Z"
   },
   {
    "duration": 320,
    "start_time": "2022-02-01T11:33:08.392Z"
   },
   {
    "duration": 1830,
    "start_time": "2022-02-01T11:33:08.714Z"
   },
   {
    "duration": 19,
    "start_time": "2022-02-01T13:11:51.483Z"
   },
   {
    "duration": 212,
    "start_time": "2022-02-01T13:15:51.549Z"
   },
   {
    "duration": 223,
    "start_time": "2022-02-01T13:18:00.068Z"
   },
   {
    "duration": 2,
    "start_time": "2022-02-01T13:18:11.012Z"
   },
   {
    "duration": 73,
    "start_time": "2022-02-01T13:18:11.016Z"
   },
   {
    "duration": 12,
    "start_time": "2022-02-01T13:18:11.091Z"
   },
   {
    "duration": 30,
    "start_time": "2022-02-01T13:18:11.105Z"
   },
   {
    "duration": 10,
    "start_time": "2022-02-01T13:18:11.137Z"
   },
   {
    "duration": 13,
    "start_time": "2022-02-01T13:18:11.148Z"
   },
   {
    "duration": 13,
    "start_time": "2022-02-01T13:18:11.163Z"
   },
   {
    "duration": 483,
    "start_time": "2022-02-01T13:18:11.178Z"
   },
   {
    "duration": 325,
    "start_time": "2022-02-01T13:18:11.662Z"
   },
   {
    "duration": 1859,
    "start_time": "2022-02-01T13:18:11.989Z"
   },
   {
    "duration": 20,
    "start_time": "2022-02-01T13:18:13.849Z"
   },
   {
    "duration": 231,
    "start_time": "2022-02-01T13:18:13.870Z"
   },
   {
    "duration": 217,
    "start_time": "2022-02-01T13:19:31.241Z"
   },
   {
    "duration": 202,
    "start_time": "2022-02-01T13:20:42.298Z"
   },
   {
    "duration": 207,
    "start_time": "2022-02-01T13:20:47.689Z"
   },
   {
    "duration": 211,
    "start_time": "2022-02-01T13:20:58.841Z"
   },
   {
    "duration": 2,
    "start_time": "2022-02-01T13:22:48.169Z"
   },
   {
    "duration": 71,
    "start_time": "2022-02-01T13:22:48.173Z"
   },
   {
    "duration": 11,
    "start_time": "2022-02-01T13:22:48.246Z"
   },
   {
    "duration": 15,
    "start_time": "2022-02-01T13:22:48.259Z"
   },
   {
    "duration": 8,
    "start_time": "2022-02-01T13:22:48.275Z"
   },
   {
    "duration": 11,
    "start_time": "2022-02-01T13:22:48.285Z"
   },
   {
    "duration": 43,
    "start_time": "2022-02-01T13:22:48.298Z"
   },
   {
    "duration": 350,
    "start_time": "2022-02-01T13:22:48.342Z"
   },
   {
    "duration": 387,
    "start_time": "2022-02-01T13:22:48.694Z"
   },
   {
    "duration": 1916,
    "start_time": "2022-02-01T13:22:49.082Z"
   },
   {
    "duration": 19,
    "start_time": "2022-02-01T13:22:50.999Z"
   },
   {
    "duration": 223,
    "start_time": "2022-02-01T13:22:51.027Z"
   },
   {
    "duration": 607,
    "start_time": "2022-02-01T13:23:08.856Z"
   },
   {
    "duration": 71,
    "start_time": "2022-02-01T13:23:09.464Z"
   },
   {
    "duration": 12,
    "start_time": "2022-02-01T13:23:09.539Z"
   },
   {
    "duration": 14,
    "start_time": "2022-02-01T13:23:09.553Z"
   },
   {
    "duration": 8,
    "start_time": "2022-02-01T13:23:09.569Z"
   },
   {
    "duration": 11,
    "start_time": "2022-02-01T13:23:09.579Z"
   },
   {
    "duration": 13,
    "start_time": "2022-02-01T13:23:09.628Z"
   },
   {
    "duration": 365,
    "start_time": "2022-02-01T13:23:09.643Z"
   },
   {
    "duration": 318,
    "start_time": "2022-02-01T13:23:10.010Z"
   },
   {
    "duration": 1753,
    "start_time": "2022-02-01T13:23:10.330Z"
   },
   {
    "duration": 18,
    "start_time": "2022-02-01T13:23:12.084Z"
   },
   {
    "duration": 223,
    "start_time": "2022-02-01T13:23:12.104Z"
   },
   {
    "duration": 325,
    "start_time": "2022-02-01T13:26:21.389Z"
   },
   {
    "duration": 212,
    "start_time": "2022-02-01T13:26:43.215Z"
   },
   {
    "duration": 804,
    "start_time": "2022-02-01T13:32:42.839Z"
   },
   {
    "duration": 1116,
    "start_time": "2022-02-01T13:34:00.254Z"
   },
   {
    "duration": 359,
    "start_time": "2022-02-01T13:35:42.947Z"
   },
   {
    "duration": 1244,
    "start_time": "2022-02-01T13:36:54.819Z"
   },
   {
    "duration": 93,
    "start_time": "2022-02-01T13:47:40.710Z"
   },
   {
    "duration": 6,
    "start_time": "2022-02-01T14:06:13.541Z"
   },
   {
    "duration": 19,
    "start_time": "2022-02-01T14:06:21.639Z"
   },
   {
    "duration": 19,
    "start_time": "2022-02-01T14:06:57.710Z"
   },
   {
    "duration": 19,
    "start_time": "2022-02-01T14:08:08.652Z"
   },
   {
    "duration": 3,
    "start_time": "2022-02-01T14:11:02.939Z"
   },
   {
    "duration": 69,
    "start_time": "2022-02-01T14:11:02.943Z"
   },
   {
    "duration": 11,
    "start_time": "2022-02-01T14:11:03.014Z"
   },
   {
    "duration": 19,
    "start_time": "2022-02-01T14:11:03.026Z"
   },
   {
    "duration": 9,
    "start_time": "2022-02-01T14:11:03.046Z"
   },
   {
    "duration": 12,
    "start_time": "2022-02-01T14:11:03.056Z"
   },
   {
    "duration": 12,
    "start_time": "2022-02-01T14:11:03.070Z"
   },
   {
    "duration": 363,
    "start_time": "2022-02-01T14:11:03.084Z"
   },
   {
    "duration": 323,
    "start_time": "2022-02-01T14:11:03.448Z"
   },
   {
    "duration": 1826,
    "start_time": "2022-02-01T14:11:03.772Z"
   },
   {
    "duration": 18,
    "start_time": "2022-02-01T14:11:05.599Z"
   },
   {
    "duration": 220,
    "start_time": "2022-02-01T14:11:05.619Z"
   },
   {
    "duration": 1210,
    "start_time": "2022-02-01T14:11:05.840Z"
   },
   {
    "duration": 19,
    "start_time": "2022-02-01T14:11:07.052Z"
   },
   {
    "duration": 286,
    "start_time": "2022-02-01T14:11:07.073Z"
   },
   {
    "duration": 481,
    "start_time": "2022-02-01T14:11:51.123Z"
   },
   {
    "duration": 67,
    "start_time": "2022-02-01T14:11:51.606Z"
   },
   {
    "duration": 12,
    "start_time": "2022-02-01T14:11:51.674Z"
   },
   {
    "duration": 16,
    "start_time": "2022-02-01T14:11:51.687Z"
   },
   {
    "duration": 24,
    "start_time": "2022-02-01T14:11:51.705Z"
   },
   {
    "duration": 11,
    "start_time": "2022-02-01T14:11:51.731Z"
   },
   {
    "duration": 14,
    "start_time": "2022-02-01T14:11:51.743Z"
   },
   {
    "duration": 371,
    "start_time": "2022-02-01T14:11:51.758Z"
   },
   {
    "duration": 323,
    "start_time": "2022-02-01T14:11:52.131Z"
   },
   {
    "duration": 1855,
    "start_time": "2022-02-01T14:11:52.455Z"
   },
   {
    "duration": 29,
    "start_time": "2022-02-01T14:11:54.312Z"
   },
   {
    "duration": 247,
    "start_time": "2022-02-01T14:11:54.343Z"
   },
   {
    "duration": 1259,
    "start_time": "2022-02-01T14:11:54.591Z"
   },
   {
    "duration": 19,
    "start_time": "2022-02-01T14:11:55.851Z"
   },
   {
    "duration": 315,
    "start_time": "2022-02-01T14:11:55.872Z"
   },
   {
    "duration": 111,
    "start_time": "2022-02-01T14:12:14.825Z"
   },
   {
    "duration": 99,
    "start_time": "2022-02-01T14:12:29.535Z"
   },
   {
    "duration": 289,
    "start_time": "2022-02-01T14:13:21.389Z"
   },
   {
    "duration": 381,
    "start_time": "2022-02-01T14:13:38.933Z"
   },
   {
    "duration": 291,
    "start_time": "2022-02-01T14:13:51.383Z"
   },
   {
    "duration": 288,
    "start_time": "2022-02-01T14:27:49.378Z"
   },
   {
    "duration": 310,
    "start_time": "2022-02-01T14:28:09.458Z"
   },
   {
    "duration": 20,
    "start_time": "2022-02-01T14:43:27.254Z"
   },
   {
    "duration": 324,
    "start_time": "2022-02-01T14:43:32.116Z"
   },
   {
    "duration": 20,
    "start_time": "2022-02-01T14:43:46.805Z"
   },
   {
    "duration": 320,
    "start_time": "2022-02-01T14:43:50.386Z"
   },
   {
    "duration": 314,
    "start_time": "2022-02-01T14:52:05.132Z"
   },
   {
    "duration": 283,
    "start_time": "2022-02-01T14:52:17.171Z"
   },
   {
    "duration": 303,
    "start_time": "2022-02-01T14:53:31.034Z"
   },
   {
    "duration": 300,
    "start_time": "2022-02-01T14:55:38.329Z"
   },
   {
    "duration": 440,
    "start_time": "2022-02-01T14:55:57.487Z"
   },
   {
    "duration": 304,
    "start_time": "2022-02-01T15:00:26.903Z"
   },
   {
    "duration": 374,
    "start_time": "2022-02-01T15:01:16.146Z"
   },
   {
    "duration": 7,
    "start_time": "2022-02-01T15:05:31.055Z"
   },
   {
    "duration": 7,
    "start_time": "2022-02-01T15:06:50.251Z"
   },
   {
    "duration": 88,
    "start_time": "2022-02-01T15:07:47.308Z"
   },
   {
    "duration": 7,
    "start_time": "2022-02-01T15:07:58.195Z"
   },
   {
    "duration": 6,
    "start_time": "2022-02-01T15:08:07.372Z"
   },
   {
    "duration": 6,
    "start_time": "2022-02-01T15:12:22.567Z"
   },
   {
    "duration": 281,
    "start_time": "2022-02-01T15:16:56.554Z"
   },
   {
    "duration": 4,
    "start_time": "2022-02-01T15:17:29.723Z"
   },
   {
    "duration": 6,
    "start_time": "2022-02-01T15:25:16.635Z"
   },
   {
    "duration": 290,
    "start_time": "2022-02-01T15:25:17.889Z"
   },
   {
    "duration": 3520,
    "start_time": "2022-02-01T15:26:04.928Z"
   },
   {
    "duration": 10,
    "start_time": "2022-02-01T15:28:33.984Z"
   },
   {
    "duration": 3359,
    "start_time": "2022-02-01T15:28:42.590Z"
   },
   {
    "duration": 10,
    "start_time": "2022-02-01T15:32:30.117Z"
   },
   {
    "duration": 3454,
    "start_time": "2022-02-01T15:32:32.892Z"
   },
   {
    "duration": 218,
    "start_time": "2022-02-01T15:47:11.436Z"
   },
   {
    "duration": 204,
    "start_time": "2022-02-01T15:49:26.155Z"
   },
   {
    "duration": 215,
    "start_time": "2022-02-01T15:49:56.969Z"
   },
   {
    "duration": 443,
    "start_time": "2022-02-01T15:51:01.137Z"
   },
   {
    "duration": 322,
    "start_time": "2022-02-01T15:51:16.848Z"
   },
   {
    "duration": 461,
    "start_time": "2022-02-01T15:51:34.809Z"
   },
   {
    "duration": 223,
    "start_time": "2022-02-01T15:52:47.583Z"
   },
   {
    "duration": 103,
    "start_time": "2022-02-01T15:53:12.376Z"
   },
   {
    "duration": 3429,
    "start_time": "2022-02-01T15:53:15.248Z"
   },
   {
    "duration": 12,
    "start_time": "2022-02-01T15:53:53.278Z"
   },
   {
    "duration": 1170,
    "start_time": "2022-02-01T15:53:56.549Z"
   },
   {
    "duration": 10,
    "start_time": "2022-02-01T15:54:17.191Z"
   },
   {
    "duration": 3453,
    "start_time": "2022-02-01T15:54:18.996Z"
   },
   {
    "duration": 305,
    "start_time": "2022-02-01T15:54:34.125Z"
   },
   {
    "duration": 313,
    "start_time": "2022-02-01T15:54:43.190Z"
   },
   {
    "duration": 99,
    "start_time": "2022-02-01T15:55:06.909Z"
   },
   {
    "duration": 730,
    "start_time": "2022-02-01T15:55:18.851Z"
   },
   {
    "duration": 1316,
    "start_time": "2022-02-01T15:55:40.372Z"
   },
   {
    "duration": 1437,
    "start_time": "2022-02-02T06:37:31.380Z"
   },
   {
    "duration": 146,
    "start_time": "2022-02-02T06:37:32.820Z"
   },
   {
    "duration": 30,
    "start_time": "2022-02-02T06:37:32.971Z"
   },
   {
    "duration": 62,
    "start_time": "2022-02-02T06:37:33.004Z"
   },
   {
    "duration": 18,
    "start_time": "2022-02-02T06:37:33.069Z"
   },
   {
    "duration": 61,
    "start_time": "2022-02-02T06:37:33.090Z"
   },
   {
    "duration": 33,
    "start_time": "2022-02-02T06:37:33.154Z"
   },
   {
    "duration": 984,
    "start_time": "2022-02-02T06:37:33.193Z"
   },
   {
    "duration": 868,
    "start_time": "2022-02-02T06:37:34.181Z"
   },
   {
    "duration": 3493,
    "start_time": "2022-02-02T06:37:35.051Z"
   },
   {
    "duration": 32,
    "start_time": "2022-02-02T06:37:38.549Z"
   },
   {
    "duration": 413,
    "start_time": "2022-02-02T06:37:38.583Z"
   },
   {
    "duration": 450,
    "start_time": "2022-02-02T06:37:38.998Z"
   },
   {
    "duration": 2850,
    "start_time": "2022-02-02T06:37:36.602Z"
   },
   {
    "duration": 2848,
    "start_time": "2022-02-02T06:37:36.606Z"
   },
   {
    "duration": 2848,
    "start_time": "2022-02-02T06:37:36.609Z"
   },
   {
    "duration": 2846,
    "start_time": "2022-02-02T06:37:36.613Z"
   },
   {
    "duration": 2840,
    "start_time": "2022-02-02T06:37:36.622Z"
   },
   {
    "duration": 2842,
    "start_time": "2022-02-02T06:37:36.626Z"
   },
   {
    "duration": 2841,
    "start_time": "2022-02-02T06:37:36.630Z"
   },
   {
    "duration": 2835,
    "start_time": "2022-02-02T06:37:36.638Z"
   },
   {
    "duration": 2835,
    "start_time": "2022-02-02T06:37:36.641Z"
   },
   {
    "duration": 4,
    "start_time": "2022-02-02T06:38:59.416Z"
   },
   {
    "duration": 125,
    "start_time": "2022-02-02T06:38:59.425Z"
   },
   {
    "duration": 19,
    "start_time": "2022-02-02T06:38:59.553Z"
   },
   {
    "duration": 27,
    "start_time": "2022-02-02T06:38:59.575Z"
   },
   {
    "duration": 46,
    "start_time": "2022-02-02T06:38:59.605Z"
   },
   {
    "duration": 19,
    "start_time": "2022-02-02T06:38:59.654Z"
   },
   {
    "duration": 28,
    "start_time": "2022-02-02T06:38:59.675Z"
   },
   {
    "duration": 629,
    "start_time": "2022-02-02T06:38:59.706Z"
   },
   {
    "duration": 567,
    "start_time": "2022-02-02T06:39:00.339Z"
   },
   {
    "duration": 3593,
    "start_time": "2022-02-02T06:39:00.909Z"
   },
   {
    "duration": 45,
    "start_time": "2022-02-02T06:39:04.505Z"
   },
   {
    "duration": 398,
    "start_time": "2022-02-02T06:39:04.553Z"
   },
   {
    "duration": 2303,
    "start_time": "2022-02-02T06:39:04.954Z"
   },
   {
    "duration": 37,
    "start_time": "2022-02-02T06:39:07.260Z"
   },
   {
    "duration": 635,
    "start_time": "2022-02-02T06:39:07.300Z"
   },
   {
    "duration": 454,
    "start_time": "2022-02-02T06:39:07.937Z"
   },
   {
    "duration": 10,
    "start_time": "2022-02-02T06:39:08.394Z"
   },
   {
    "duration": 499,
    "start_time": "2022-02-02T06:39:08.406Z"
   },
   {
    "duration": 6,
    "start_time": "2022-02-02T06:39:08.907Z"
   },
   {
    "duration": 40,
    "start_time": "2022-02-02T06:39:08.916Z"
   },
   {
    "duration": 5960,
    "start_time": "2022-02-02T06:39:08.958Z"
   },
   {
    "duration": 397,
    "start_time": "2022-02-02T06:39:14.920Z"
   },
   {
    "duration": 17,
    "start_time": "2022-02-02T06:40:48.958Z"
   },
   {
    "duration": 15,
    "start_time": "2022-02-02T06:41:13.912Z"
   },
   {
    "duration": 4,
    "start_time": "2022-02-02T06:41:25.511Z"
   },
   {
    "duration": 104,
    "start_time": "2022-02-02T06:41:25.518Z"
   },
   {
    "duration": 51,
    "start_time": "2022-02-02T06:41:25.626Z"
   },
   {
    "duration": 29,
    "start_time": "2022-02-02T06:41:25.680Z"
   },
   {
    "duration": 42,
    "start_time": "2022-02-02T06:41:25.712Z"
   },
   {
    "duration": 23,
    "start_time": "2022-02-02T06:41:25.757Z"
   },
   {
    "duration": 27,
    "start_time": "2022-02-02T06:41:25.784Z"
   },
   {
    "duration": 659,
    "start_time": "2022-02-02T06:41:25.814Z"
   },
   {
    "duration": 674,
    "start_time": "2022-02-02T06:41:26.475Z"
   },
   {
    "duration": 3101,
    "start_time": "2022-02-02T06:41:27.152Z"
   },
   {
    "duration": 34,
    "start_time": "2022-02-02T06:41:30.256Z"
   },
   {
    "duration": 420,
    "start_time": "2022-02-02T06:41:30.293Z"
   },
   {
    "duration": 2283,
    "start_time": "2022-02-02T06:41:30.716Z"
   },
   {
    "duration": 52,
    "start_time": "2022-02-02T06:41:33.002Z"
   },
   {
    "duration": 782,
    "start_time": "2022-02-02T06:41:33.057Z"
   },
   {
    "duration": 453,
    "start_time": "2022-02-02T06:41:33.849Z"
   },
   {
    "duration": 12,
    "start_time": "2022-02-02T06:41:34.305Z"
   },
   {
    "duration": 461,
    "start_time": "2022-02-02T06:41:34.319Z"
   },
   {
    "duration": 6,
    "start_time": "2022-02-02T06:41:34.786Z"
   },
   {
    "duration": 18,
    "start_time": "2022-02-02T06:41:34.795Z"
   },
   {
    "duration": 1008,
    "start_time": "2022-02-02T06:41:34.816Z"
   },
   {
    "duration": 2860,
    "start_time": "2022-02-02T06:41:32.968Z"
   },
   {
    "duration": 19,
    "start_time": "2022-02-02T06:42:02.556Z"
   },
   {
    "duration": 4,
    "start_time": "2022-02-02T06:42:06.464Z"
   },
   {
    "duration": 112,
    "start_time": "2022-02-02T06:42:06.472Z"
   },
   {
    "duration": 19,
    "start_time": "2022-02-02T06:42:06.587Z"
   },
   {
    "duration": 54,
    "start_time": "2022-02-02T06:42:06.609Z"
   },
   {
    "duration": 13,
    "start_time": "2022-02-02T06:42:06.666Z"
   },
   {
    "duration": 22,
    "start_time": "2022-02-02T06:42:06.682Z"
   },
   {
    "duration": 56,
    "start_time": "2022-02-02T06:42:06.709Z"
   },
   {
    "duration": 653,
    "start_time": "2022-02-02T06:42:06.769Z"
   },
   {
    "duration": 582,
    "start_time": "2022-02-02T06:42:07.424Z"
   },
   {
    "duration": 3304,
    "start_time": "2022-02-02T06:42:08.008Z"
   },
   {
    "duration": 47,
    "start_time": "2022-02-02T06:42:11.316Z"
   },
   {
    "duration": 388,
    "start_time": "2022-02-02T06:42:11.365Z"
   },
   {
    "duration": 2420,
    "start_time": "2022-02-02T06:42:11.755Z"
   },
   {
    "duration": 31,
    "start_time": "2022-02-02T06:42:14.177Z"
   },
   {
    "duration": 623,
    "start_time": "2022-02-02T06:42:14.211Z"
   },
   {
    "duration": 466,
    "start_time": "2022-02-02T06:42:14.837Z"
   },
   {
    "duration": 10,
    "start_time": "2022-02-02T06:42:15.306Z"
   },
   {
    "duration": 465,
    "start_time": "2022-02-02T06:42:15.320Z"
   },
   {
    "duration": 7,
    "start_time": "2022-02-02T06:42:15.791Z"
   },
   {
    "duration": 46,
    "start_time": "2022-02-02T06:42:15.802Z"
   },
   {
    "duration": 5675,
    "start_time": "2022-02-02T06:42:15.852Z"
   },
   {
    "duration": 392,
    "start_time": "2022-02-02T06:42:21.530Z"
   },
   {
    "duration": 7,
    "start_time": "2022-02-02T06:42:43.738Z"
   },
   {
    "duration": 4,
    "start_time": "2022-02-02T06:43:13.196Z"
   },
   {
    "duration": 113,
    "start_time": "2022-02-02T06:43:13.203Z"
   },
   {
    "duration": 48,
    "start_time": "2022-02-02T06:43:13.319Z"
   },
   {
    "duration": 29,
    "start_time": "2022-02-02T06:43:13.371Z"
   },
   {
    "duration": 50,
    "start_time": "2022-02-02T06:43:13.403Z"
   },
   {
    "duration": 29,
    "start_time": "2022-02-02T06:43:13.457Z"
   },
   {
    "duration": 58,
    "start_time": "2022-02-02T06:43:13.492Z"
   },
   {
    "duration": 732,
    "start_time": "2022-02-02T06:43:13.554Z"
   },
   {
    "duration": 578,
    "start_time": "2022-02-02T06:43:14.289Z"
   },
   {
    "duration": 3310,
    "start_time": "2022-02-02T06:43:14.870Z"
   },
   {
    "duration": 35,
    "start_time": "2022-02-02T06:43:18.182Z"
   },
   {
    "duration": 552,
    "start_time": "2022-02-02T06:43:18.220Z"
   },
   {
    "duration": 3395,
    "start_time": "2022-02-02T06:43:18.776Z"
   },
   {
    "duration": 61,
    "start_time": "2022-02-02T06:43:22.174Z"
   },
   {
    "duration": 903,
    "start_time": "2022-02-02T06:43:22.250Z"
   },
   {
    "duration": 439,
    "start_time": "2022-02-02T06:43:23.156Z"
   },
   {
    "duration": 10,
    "start_time": "2022-02-02T06:43:23.598Z"
   },
   {
    "duration": 471,
    "start_time": "2022-02-02T06:43:23.610Z"
   },
   {
    "duration": 7,
    "start_time": "2022-02-02T06:43:24.085Z"
   },
   {
    "duration": 16,
    "start_time": "2022-02-02T06:43:24.095Z"
   },
   {
    "duration": 5415,
    "start_time": "2022-02-02T06:43:24.114Z"
   },
   {
    "duration": 405,
    "start_time": "2022-02-02T06:43:29.532Z"
   },
   {
    "duration": 11,
    "start_time": "2022-02-02T06:46:32.566Z"
   },
   {
    "duration": 453,
    "start_time": "2022-02-02T06:46:39.495Z"
   },
   {
    "duration": 9,
    "start_time": "2022-02-02T06:46:45.736Z"
   },
   {
    "duration": 12,
    "start_time": "2022-02-02T06:47:03.829Z"
   },
   {
    "duration": 13,
    "start_time": "2022-02-02T06:47:22.063Z"
   },
   {
    "duration": 604,
    "start_time": "2022-02-02T06:47:25.623Z"
   },
   {
    "duration": 11,
    "start_time": "2022-02-02T06:47:39.349Z"
   },
   {
    "duration": 5,
    "start_time": "2022-02-02T06:47:52.478Z"
   },
   {
    "duration": 104,
    "start_time": "2022-02-02T06:47:52.487Z"
   },
   {
    "duration": 21,
    "start_time": "2022-02-02T06:47:52.594Z"
   },
   {
    "duration": 65,
    "start_time": "2022-02-02T06:47:52.618Z"
   },
   {
    "duration": 14,
    "start_time": "2022-02-02T06:47:52.686Z"
   },
   {
    "duration": 48,
    "start_time": "2022-02-02T06:47:52.702Z"
   },
   {
    "duration": 24,
    "start_time": "2022-02-02T06:47:52.753Z"
   },
   {
    "duration": 813,
    "start_time": "2022-02-02T06:47:52.782Z"
   },
   {
    "duration": 612,
    "start_time": "2022-02-02T06:47:53.599Z"
   },
   {
    "duration": 3827,
    "start_time": "2022-02-02T06:47:54.214Z"
   },
   {
    "duration": 32,
    "start_time": "2022-02-02T06:47:58.048Z"
   },
   {
    "duration": 396,
    "start_time": "2022-02-02T06:47:58.083Z"
   },
   {
    "duration": 2321,
    "start_time": "2022-02-02T06:47:58.482Z"
   },
   {
    "duration": 48,
    "start_time": "2022-02-02T06:48:00.805Z"
   },
   {
    "duration": 611,
    "start_time": "2022-02-02T06:48:00.856Z"
   },
   {
    "duration": 630,
    "start_time": "2022-02-02T06:48:01.470Z"
   },
   {
    "duration": 12,
    "start_time": "2022-02-02T06:48:02.103Z"
   },
   {
    "duration": 583,
    "start_time": "2022-02-02T06:48:02.118Z"
   },
   {
    "duration": 7,
    "start_time": "2022-02-02T06:48:02.704Z"
   },
   {
    "duration": 39,
    "start_time": "2022-02-02T06:48:02.715Z"
   },
   {
    "duration": 5366,
    "start_time": "2022-02-02T06:48:02.757Z"
   },
   {
    "duration": 473,
    "start_time": "2022-02-02T06:48:08.125Z"
   },
   {
    "duration": 10,
    "start_time": "2022-02-02T06:48:50.716Z"
   },
   {
    "duration": 7,
    "start_time": "2022-02-02T06:49:40.241Z"
   },
   {
    "duration": 4,
    "start_time": "2022-02-02T06:49:59.323Z"
   },
   {
    "duration": 141,
    "start_time": "2022-02-02T06:49:59.331Z"
   },
   {
    "duration": 21,
    "start_time": "2022-02-02T06:49:59.475Z"
   },
   {
    "duration": 46,
    "start_time": "2022-02-02T06:49:59.499Z"
   },
   {
    "duration": 19,
    "start_time": "2022-02-02T06:49:59.549Z"
   },
   {
    "duration": 58,
    "start_time": "2022-02-02T06:49:59.571Z"
   },
   {
    "duration": 38,
    "start_time": "2022-02-02T06:49:59.634Z"
   },
   {
    "duration": 645,
    "start_time": "2022-02-02T06:49:59.676Z"
   },
   {
    "duration": 687,
    "start_time": "2022-02-02T06:50:00.323Z"
   },
   {
    "duration": 3273,
    "start_time": "2022-02-02T06:50:01.013Z"
   },
   {
    "duration": 33,
    "start_time": "2022-02-02T06:50:04.290Z"
   },
   {
    "duration": 384,
    "start_time": "2022-02-02T06:50:04.349Z"
   },
   {
    "duration": 2373,
    "start_time": "2022-02-02T06:50:04.735Z"
   },
   {
    "duration": 48,
    "start_time": "2022-02-02T06:50:07.111Z"
   },
   {
    "duration": 633,
    "start_time": "2022-02-02T06:50:07.162Z"
   },
   {
    "duration": 496,
    "start_time": "2022-02-02T06:50:07.797Z"
   },
   {
    "duration": 10,
    "start_time": "2022-02-02T06:50:08.295Z"
   },
   {
    "duration": 485,
    "start_time": "2022-02-02T06:50:08.307Z"
   },
   {
    "duration": 6,
    "start_time": "2022-02-02T06:50:08.796Z"
   },
   {
    "duration": 19,
    "start_time": "2022-02-02T06:50:08.806Z"
   },
   {
    "duration": 5969,
    "start_time": "2022-02-02T06:50:08.849Z"
   },
   {
    "duration": 390,
    "start_time": "2022-02-02T06:50:14.820Z"
   },
   {
    "duration": 31,
    "start_time": "2022-02-02T07:46:19.257Z"
   },
   {
    "duration": 3432,
    "start_time": "2022-02-02T07:49:19.969Z"
   },
   {
    "duration": 3374,
    "start_time": "2022-02-02T07:49:27.834Z"
   },
   {
    "duration": 941,
    "start_time": "2022-02-02T07:50:45.023Z"
   },
   {
    "duration": 410,
    "start_time": "2022-02-02T07:51:14.542Z"
   },
   {
    "duration": 516,
    "start_time": "2022-02-02T07:51:49.574Z"
   },
   {
    "duration": 4,
    "start_time": "2022-02-02T07:52:08.828Z"
   },
   {
    "duration": 121,
    "start_time": "2022-02-02T07:52:08.835Z"
   },
   {
    "duration": 21,
    "start_time": "2022-02-02T07:52:08.959Z"
   },
   {
    "duration": 29,
    "start_time": "2022-02-02T07:52:08.983Z"
   },
   {
    "duration": 45,
    "start_time": "2022-02-02T07:52:09.014Z"
   },
   {
    "duration": 19,
    "start_time": "2022-02-02T07:52:09.061Z"
   },
   {
    "duration": 22,
    "start_time": "2022-02-02T07:52:09.084Z"
   },
   {
    "duration": 664,
    "start_time": "2022-02-02T07:52:09.109Z"
   },
   {
    "duration": 582,
    "start_time": "2022-02-02T07:52:09.776Z"
   },
   {
    "duration": 3595,
    "start_time": "2022-02-02T07:52:10.361Z"
   },
   {
    "duration": 34,
    "start_time": "2022-02-02T07:52:13.959Z"
   },
   {
    "duration": 401,
    "start_time": "2022-02-02T07:52:13.996Z"
   },
   {
    "duration": 2286,
    "start_time": "2022-02-02T07:52:14.399Z"
   },
   {
    "duration": 60,
    "start_time": "2022-02-02T07:52:16.688Z"
   },
   {
    "duration": 655,
    "start_time": "2022-02-02T07:52:16.751Z"
   },
   {
    "duration": 525,
    "start_time": "2022-02-02T07:52:17.409Z"
   },
   {
    "duration": 14,
    "start_time": "2022-02-02T07:52:17.936Z"
   },
   {
    "duration": 478,
    "start_time": "2022-02-02T07:52:17.953Z"
   },
   {
    "duration": 14,
    "start_time": "2022-02-02T07:52:18.438Z"
   },
   {
    "duration": 141,
    "start_time": "2022-02-02T07:52:18.456Z"
   },
   {
    "duration": 5710,
    "start_time": "2022-02-02T07:52:18.601Z"
   },
   {
    "duration": 414,
    "start_time": "2022-02-02T07:52:24.314Z"
   },
   {
    "duration": 572,
    "start_time": "2022-02-02T07:52:24.730Z"
   },
   {
    "duration": 473,
    "start_time": "2022-02-02T07:52:25.305Z"
   },
   {
    "duration": 384,
    "start_time": "2022-02-02T07:52:25.780Z"
   },
   {
    "duration": 383,
    "start_time": "2022-02-02T07:57:24.143Z"
   },
   {
    "duration": 456,
    "start_time": "2022-02-02T07:57:39.007Z"
   },
   {
    "duration": 370,
    "start_time": "2022-02-02T08:00:02.045Z"
   },
   {
    "duration": 352,
    "start_time": "2022-02-02T08:01:12.238Z"
   },
   {
    "duration": 342,
    "start_time": "2022-02-02T08:02:07.564Z"
   },
   {
    "duration": 350,
    "start_time": "2022-02-02T08:02:23.274Z"
   },
   {
    "duration": 9,
    "start_time": "2022-02-02T08:04:36.562Z"
   },
   {
    "duration": 11,
    "start_time": "2022-02-02T08:04:41.960Z"
   },
   {
    "duration": 6,
    "start_time": "2022-02-02T08:04:48.856Z"
   },
   {
    "duration": 514,
    "start_time": "2022-02-02T08:06:11.337Z"
   },
   {
    "duration": 515,
    "start_time": "2022-02-02T08:06:58.846Z"
   },
   {
    "duration": 373,
    "start_time": "2022-02-02T08:07:10.870Z"
   },
   {
    "duration": 448,
    "start_time": "2022-02-02T08:07:23.303Z"
   },
   {
    "duration": 350,
    "start_time": "2022-02-02T08:09:47.893Z"
   },
   {
    "duration": 364,
    "start_time": "2022-02-02T08:12:32.930Z"
   },
   {
    "duration": 513,
    "start_time": "2022-02-02T08:13:32.506Z"
   },
   {
    "duration": 390,
    "start_time": "2022-02-02T08:14:52.537Z"
   },
   {
    "duration": 421,
    "start_time": "2022-02-02T08:15:01.449Z"
   },
   {
    "duration": 714,
    "start_time": "2022-02-02T08:18:55.684Z"
   },
   {
    "duration": 763,
    "start_time": "2022-02-02T08:19:20.986Z"
   },
   {
    "duration": 369,
    "start_time": "2022-02-02T08:33:54.038Z"
   },
   {
    "duration": 533,
    "start_time": "2022-02-02T08:33:57.172Z"
   },
   {
    "duration": 4,
    "start_time": "2022-02-02T08:37:08.092Z"
   },
   {
    "duration": 156,
    "start_time": "2022-02-02T08:37:08.100Z"
   },
   {
    "duration": 20,
    "start_time": "2022-02-02T08:37:08.259Z"
   },
   {
    "duration": 37,
    "start_time": "2022-02-02T08:37:08.283Z"
   },
   {
    "duration": 39,
    "start_time": "2022-02-02T08:37:08.324Z"
   },
   {
    "duration": 19,
    "start_time": "2022-02-02T08:37:08.365Z"
   },
   {
    "duration": 35,
    "start_time": "2022-02-02T08:37:08.387Z"
   },
   {
    "duration": 865,
    "start_time": "2022-02-02T08:37:08.448Z"
   },
   {
    "duration": 715,
    "start_time": "2022-02-02T08:37:09.317Z"
   },
   {
    "duration": 3924,
    "start_time": "2022-02-02T08:37:10.035Z"
   },
   {
    "duration": 36,
    "start_time": "2022-02-02T08:37:13.962Z"
   },
   {
    "duration": 487,
    "start_time": "2022-02-02T08:37:14.000Z"
   },
   {
    "duration": 2500,
    "start_time": "2022-02-02T08:37:14.489Z"
   },
   {
    "duration": 33,
    "start_time": "2022-02-02T08:37:16.991Z"
   },
   {
    "duration": 934,
    "start_time": "2022-02-02T08:37:17.026Z"
   },
   {
    "duration": 575,
    "start_time": "2022-02-02T08:37:17.962Z"
   },
   {
    "duration": 15,
    "start_time": "2022-02-02T08:37:18.539Z"
   },
   {
    "duration": 619,
    "start_time": "2022-02-02T08:37:18.557Z"
   },
   {
    "duration": 6,
    "start_time": "2022-02-02T08:37:19.179Z"
   },
   {
    "duration": 16,
    "start_time": "2022-02-02T08:37:19.188Z"
   },
   {
    "duration": 7958,
    "start_time": "2022-02-02T08:37:19.207Z"
   },
   {
    "duration": 520,
    "start_time": "2022-02-02T08:37:27.169Z"
   },
   {
    "duration": 376,
    "start_time": "2022-02-02T08:37:27.692Z"
   },
   {
    "duration": 401,
    "start_time": "2022-02-02T08:37:28.071Z"
   },
   {
    "duration": 441,
    "start_time": "2022-02-02T08:37:28.475Z"
   },
   {
    "duration": 395,
    "start_time": "2022-02-02T08:37:28.918Z"
   },
   {
    "duration": 377,
    "start_time": "2022-02-02T08:37:29.318Z"
   },
   {
    "duration": 459,
    "start_time": "2022-02-02T08:37:29.698Z"
   },
   {
    "duration": 393,
    "start_time": "2022-02-02T08:37:30.160Z"
   },
   {
    "duration": 11,
    "start_time": "2022-02-02T08:37:30.556Z"
   },
   {
    "duration": 33,
    "start_time": "2022-02-02T08:37:30.571Z"
   },
   {
    "duration": 556,
    "start_time": "2022-02-02T08:38:42.586Z"
   },
   {
    "duration": 5,
    "start_time": "2022-02-02T08:40:39.179Z"
   },
   {
    "duration": 115,
    "start_time": "2022-02-02T08:40:39.187Z"
   },
   {
    "duration": 55,
    "start_time": "2022-02-02T08:40:39.305Z"
   },
   {
    "duration": 28,
    "start_time": "2022-02-02T08:40:39.363Z"
   },
   {
    "duration": 54,
    "start_time": "2022-02-02T08:40:39.394Z"
   },
   {
    "duration": 22,
    "start_time": "2022-02-02T08:40:39.451Z"
   },
   {
    "duration": 23,
    "start_time": "2022-02-02T08:40:39.478Z"
   },
   {
    "duration": 893,
    "start_time": "2022-02-02T08:40:39.504Z"
   },
   {
    "duration": 1101,
    "start_time": "2022-02-02T08:40:40.400Z"
   },
   {
    "duration": 5307,
    "start_time": "2022-02-02T08:40:41.504Z"
   },
   {
    "duration": 44,
    "start_time": "2022-02-02T08:40:46.813Z"
   },
   {
    "duration": 568,
    "start_time": "2022-02-02T08:40:46.859Z"
   },
   {
    "duration": 2477,
    "start_time": "2022-02-02T08:40:47.430Z"
   },
   {
    "duration": 50,
    "start_time": "2022-02-02T08:40:49.910Z"
   },
   {
    "duration": 659,
    "start_time": "2022-02-02T08:40:49.962Z"
   },
   {
    "duration": 627,
    "start_time": "2022-02-02T08:40:50.624Z"
   },
   {
    "duration": 9,
    "start_time": "2022-02-02T08:40:51.253Z"
   },
   {
    "duration": 604,
    "start_time": "2022-02-02T08:40:51.264Z"
   },
   {
    "duration": 6,
    "start_time": "2022-02-02T08:40:51.873Z"
   },
   {
    "duration": 17,
    "start_time": "2022-02-02T08:40:51.882Z"
   },
   {
    "duration": 7615,
    "start_time": "2022-02-02T08:40:51.901Z"
   },
   {
    "duration": 443,
    "start_time": "2022-02-02T08:40:59.519Z"
   },
   {
    "duration": 395,
    "start_time": "2022-02-02T08:40:59.964Z"
   },
   {
    "duration": 502,
    "start_time": "2022-02-02T08:41:00.362Z"
   },
   {
    "duration": 429,
    "start_time": "2022-02-02T08:41:00.867Z"
   },
   {
    "duration": 394,
    "start_time": "2022-02-02T08:41:01.299Z"
   },
   {
    "duration": 558,
    "start_time": "2022-02-02T08:41:01.695Z"
   },
   {
    "duration": 530,
    "start_time": "2022-02-02T08:41:02.256Z"
   },
   {
    "duration": 386,
    "start_time": "2022-02-02T08:41:02.788Z"
   },
   {
    "duration": 387,
    "start_time": "2022-02-02T08:41:03.177Z"
   },
   {
    "duration": 387,
    "start_time": "2022-02-02T08:46:20.220Z"
   },
   {
    "duration": 363,
    "start_time": "2022-02-02T08:46:37.505Z"
   },
   {
    "duration": 385,
    "start_time": "2022-02-02T08:47:14.804Z"
   },
   {
    "duration": 13,
    "start_time": "2022-02-02T09:19:19.315Z"
   },
   {
    "duration": 451,
    "start_time": "2022-02-02T09:19:54.781Z"
   },
   {
    "duration": 5,
    "start_time": "2022-02-02T09:20:26.072Z"
   },
   {
    "duration": 121,
    "start_time": "2022-02-02T09:20:26.080Z"
   },
   {
    "duration": 58,
    "start_time": "2022-02-02T09:20:26.204Z"
   },
   {
    "duration": 43,
    "start_time": "2022-02-02T09:20:26.265Z"
   },
   {
    "duration": 23,
    "start_time": "2022-02-02T09:20:26.311Z"
   },
   {
    "duration": 30,
    "start_time": "2022-02-02T09:20:26.336Z"
   },
   {
    "duration": 38,
    "start_time": "2022-02-02T09:20:26.371Z"
   },
   {
    "duration": 1117,
    "start_time": "2022-02-02T09:20:26.412Z"
   },
   {
    "duration": 720,
    "start_time": "2022-02-02T09:20:27.532Z"
   },
   {
    "duration": 3896,
    "start_time": "2022-02-02T09:20:28.256Z"
   },
   {
    "duration": 33,
    "start_time": "2022-02-02T09:20:32.155Z"
   },
   {
    "duration": 503,
    "start_time": "2022-02-02T09:20:32.191Z"
   },
   {
    "duration": 3595,
    "start_time": "2022-02-02T09:20:32.697Z"
   },
   {
    "duration": 68,
    "start_time": "2022-02-02T09:20:36.295Z"
   },
   {
    "duration": 1136,
    "start_time": "2022-02-02T09:20:36.367Z"
   },
   {
    "duration": 646,
    "start_time": "2022-02-02T09:20:37.506Z"
   },
   {
    "duration": 10,
    "start_time": "2022-02-02T09:20:38.155Z"
   },
   {
    "duration": 584,
    "start_time": "2022-02-02T09:20:38.168Z"
   },
   {
    "duration": 6,
    "start_time": "2022-02-02T09:20:38.758Z"
   },
   {
    "duration": 18,
    "start_time": "2022-02-02T09:20:38.768Z"
   },
   {
    "duration": 8702,
    "start_time": "2022-02-02T09:20:38.788Z"
   },
   {
    "duration": 459,
    "start_time": "2022-02-02T09:20:47.492Z"
   },
   {
    "duration": 369,
    "start_time": "2022-02-02T09:20:47.953Z"
   },
   {
    "duration": 378,
    "start_time": "2022-02-02T09:20:48.324Z"
   },
   {
    "duration": 436,
    "start_time": "2022-02-02T09:20:48.705Z"
   },
   {
    "duration": 387,
    "start_time": "2022-02-02T09:20:49.148Z"
   },
   {
    "duration": 388,
    "start_time": "2022-02-02T09:20:49.538Z"
   },
   {
    "duration": 466,
    "start_time": "2022-02-02T09:20:49.929Z"
   },
   {
    "duration": 380,
    "start_time": "2022-02-02T09:20:50.398Z"
   },
   {
    "duration": 425,
    "start_time": "2022-02-02T09:20:50.781Z"
   },
   {
    "duration": 507,
    "start_time": "2022-02-02T09:20:51.209Z"
   },
   {
    "duration": 12,
    "start_time": "2022-02-02T09:20:51.720Z"
   },
   {
    "duration": 6178,
    "start_time": "2022-02-02T09:20:51.735Z"
   },
   {
    "duration": 15,
    "start_time": "2022-02-02T09:23:49.727Z"
   },
   {
    "duration": 6750,
    "start_time": "2022-02-02T09:24:20.894Z"
   },
   {
    "duration": 18,
    "start_time": "2022-02-02T09:24:44.091Z"
   },
   {
    "duration": 24,
    "start_time": "2022-02-02T09:25:19.494Z"
   },
   {
    "duration": 182,
    "start_time": "2022-02-02T09:25:50.394Z"
   },
   {
    "duration": 22,
    "start_time": "2022-02-02T09:27:48.842Z"
   },
   {
    "duration": 11,
    "start_time": "2022-02-02T09:28:03.329Z"
   },
   {
    "duration": 24,
    "start_time": "2022-02-02T09:29:55.096Z"
   },
   {
    "duration": 8,
    "start_time": "2022-02-02T09:32:16.733Z"
   },
   {
    "duration": 5,
    "start_time": "2022-02-02T09:32:32.224Z"
   },
   {
    "duration": 151,
    "start_time": "2022-02-02T09:32:32.232Z"
   },
   {
    "duration": 23,
    "start_time": "2022-02-02T09:32:32.387Z"
   },
   {
    "duration": 65,
    "start_time": "2022-02-02T09:32:32.414Z"
   },
   {
    "duration": 15,
    "start_time": "2022-02-02T09:32:32.482Z"
   },
   {
    "duration": 58,
    "start_time": "2022-02-02T09:32:32.500Z"
   },
   {
    "duration": 36,
    "start_time": "2022-02-02T09:32:32.563Z"
   },
   {
    "duration": 845,
    "start_time": "2022-02-02T09:32:32.603Z"
   },
   {
    "duration": 918,
    "start_time": "2022-02-02T09:32:33.452Z"
   },
   {
    "duration": 4801,
    "start_time": "2022-02-02T09:32:34.372Z"
   },
   {
    "duration": 72,
    "start_time": "2022-02-02T09:32:39.176Z"
   },
   {
    "duration": 517,
    "start_time": "2022-02-02T09:32:39.252Z"
   },
   {
    "duration": 2926,
    "start_time": "2022-02-02T09:32:39.772Z"
   },
   {
    "duration": 51,
    "start_time": "2022-02-02T09:32:42.701Z"
   },
   {
    "duration": 1000,
    "start_time": "2022-02-02T09:32:42.755Z"
   },
   {
    "duration": 596,
    "start_time": "2022-02-02T09:32:43.758Z"
   },
   {
    "duration": 12,
    "start_time": "2022-02-02T09:32:44.357Z"
   },
   {
    "duration": 987,
    "start_time": "2022-02-02T09:32:44.372Z"
   },
   {
    "duration": 31,
    "start_time": "2022-02-02T09:32:45.372Z"
   },
   {
    "duration": 108,
    "start_time": "2022-02-02T09:32:45.417Z"
   },
   {
    "duration": 9108,
    "start_time": "2022-02-02T09:32:45.541Z"
   },
   {
    "duration": 649,
    "start_time": "2022-02-02T09:32:54.652Z"
   },
   {
    "duration": 574,
    "start_time": "2022-02-02T09:32:55.305Z"
   },
   {
    "duration": 395,
    "start_time": "2022-02-02T09:32:55.882Z"
   },
   {
    "duration": 458,
    "start_time": "2022-02-02T09:32:56.281Z"
   },
   {
    "duration": 416,
    "start_time": "2022-02-02T09:32:56.742Z"
   },
   {
    "duration": 528,
    "start_time": "2022-02-02T09:32:57.161Z"
   },
   {
    "duration": 431,
    "start_time": "2022-02-02T09:32:57.692Z"
   },
   {
    "duration": 403,
    "start_time": "2022-02-02T09:32:58.126Z"
   },
   {
    "duration": 519,
    "start_time": "2022-02-02T09:32:58.532Z"
   },
   {
    "duration": 444,
    "start_time": "2022-02-02T09:32:59.054Z"
   },
   {
    "duration": 9,
    "start_time": "2022-02-02T09:32:59.501Z"
   },
   {
    "duration": 44,
    "start_time": "2022-02-02T09:32:59.513Z"
   },
   {
    "duration": 14398,
    "start_time": "2022-02-02T09:32:59.560Z"
   },
   {
    "duration": 661,
    "start_time": "2022-02-02T09:34:31.615Z"
   },
   {
    "duration": 24,
    "start_time": "2022-02-02T09:34:43.660Z"
   },
   {
    "duration": 14,
    "start_time": "2022-02-02T09:39:16.160Z"
   },
   {
    "duration": 1488,
    "start_time": "2022-02-02T09:39:27.672Z"
   },
   {
    "duration": 118,
    "start_time": "2022-02-02T09:39:29.162Z"
   },
   {
    "duration": 21,
    "start_time": "2022-02-02T09:39:29.286Z"
   },
   {
    "duration": 63,
    "start_time": "2022-02-02T09:39:29.311Z"
   },
   {
    "duration": 13,
    "start_time": "2022-02-02T09:39:29.377Z"
   },
   {
    "duration": 19,
    "start_time": "2022-02-02T09:39:29.393Z"
   },
   {
    "duration": 24,
    "start_time": "2022-02-02T09:39:29.450Z"
   },
   {
    "duration": 636,
    "start_time": "2022-02-02T09:39:29.477Z"
   },
   {
    "duration": 974,
    "start_time": "2022-02-02T09:39:30.116Z"
   },
   {
    "duration": 3243,
    "start_time": "2022-02-02T09:39:31.093Z"
   },
   {
    "duration": 38,
    "start_time": "2022-02-02T09:39:34.339Z"
   },
   {
    "duration": 410,
    "start_time": "2022-02-02T09:39:34.380Z"
   },
   {
    "duration": 2260,
    "start_time": "2022-02-02T09:39:34.792Z"
   },
   {
    "duration": 36,
    "start_time": "2022-02-02T09:39:37.055Z"
   },
   {
    "duration": 616,
    "start_time": "2022-02-02T09:39:37.094Z"
   },
   {
    "duration": 514,
    "start_time": "2022-02-02T09:39:37.713Z"
   },
   {
    "duration": 9,
    "start_time": "2022-02-02T09:39:38.230Z"
   },
   {
    "duration": 466,
    "start_time": "2022-02-02T09:39:38.249Z"
   },
   {
    "duration": 6,
    "start_time": "2022-02-02T09:39:38.718Z"
   },
   {
    "duration": 32,
    "start_time": "2022-02-02T09:39:38.727Z"
   },
   {
    "duration": 5589,
    "start_time": "2022-02-02T09:39:38.762Z"
   },
   {
    "duration": 386,
    "start_time": "2022-02-02T09:39:44.357Z"
   },
   {
    "duration": 345,
    "start_time": "2022-02-02T09:39:44.750Z"
   },
   {
    "duration": 443,
    "start_time": "2022-02-02T09:39:45.098Z"
   },
   {
    "duration": 353,
    "start_time": "2022-02-02T09:39:45.548Z"
   },
   {
    "duration": 346,
    "start_time": "2022-02-02T09:39:45.905Z"
   },
   {
    "duration": 357,
    "start_time": "2022-02-02T09:39:46.254Z"
   },
   {
    "duration": 354,
    "start_time": "2022-02-02T09:39:46.614Z"
   },
   {
    "duration": 530,
    "start_time": "2022-02-02T09:39:46.972Z"
   },
   {
    "duration": 516,
    "start_time": "2022-02-02T09:39:47.505Z"
   },
   {
    "duration": 359,
    "start_time": "2022-02-02T09:39:48.024Z"
   },
   {
    "duration": 10,
    "start_time": "2022-02-02T09:39:48.386Z"
   },
   {
    "duration": 22,
    "start_time": "2022-02-02T09:39:48.399Z"
   },
   {
    "duration": 43,
    "start_time": "2022-02-02T09:39:48.423Z"
   },
   {
    "duration": 7542,
    "start_time": "2022-02-02T09:39:48.469Z"
   },
   {
    "duration": 19,
    "start_time": "2022-02-02T09:40:33.659Z"
   },
   {
    "duration": 82,
    "start_time": "2022-02-02T09:42:32.018Z"
   },
   {
    "duration": 119,
    "start_time": "2022-02-02T09:42:52.521Z"
   },
   {
    "duration": 8,
    "start_time": "2022-02-02T09:43:44.258Z"
   },
   {
    "duration": 5,
    "start_time": "2022-02-02T09:47:25.712Z"
   },
   {
    "duration": 144,
    "start_time": "2022-02-02T09:47:25.721Z"
   },
   {
    "duration": 22,
    "start_time": "2022-02-02T09:47:25.868Z"
   },
   {
    "duration": 65,
    "start_time": "2022-02-02T09:47:25.893Z"
   },
   {
    "duration": 15,
    "start_time": "2022-02-02T09:47:25.961Z"
   },
   {
    "duration": 21,
    "start_time": "2022-02-02T09:47:25.978Z"
   },
   {
    "duration": 64,
    "start_time": "2022-02-02T09:47:26.003Z"
   },
   {
    "duration": 649,
    "start_time": "2022-02-02T09:47:26.070Z"
   },
   {
    "duration": 709,
    "start_time": "2022-02-02T09:47:26.723Z"
   },
   {
    "duration": 4293,
    "start_time": "2022-02-02T09:47:27.434Z"
   },
   {
    "duration": 44,
    "start_time": "2022-02-02T09:47:31.731Z"
   },
   {
    "duration": 415,
    "start_time": "2022-02-02T09:47:31.778Z"
   },
   {
    "duration": 2410,
    "start_time": "2022-02-02T09:47:32.196Z"
   },
   {
    "duration": 52,
    "start_time": "2022-02-02T09:47:34.610Z"
   },
   {
    "duration": 612,
    "start_time": "2022-02-02T09:47:34.665Z"
   },
   {
    "duration": 570,
    "start_time": "2022-02-02T09:47:35.280Z"
   },
   {
    "duration": 9,
    "start_time": "2022-02-02T09:47:35.854Z"
   },
   {
    "duration": 469,
    "start_time": "2022-02-02T09:47:35.866Z"
   },
   {
    "duration": 6,
    "start_time": "2022-02-02T09:47:36.348Z"
   },
   {
    "duration": 16,
    "start_time": "2022-02-02T09:47:36.357Z"
   },
   {
    "duration": 5763,
    "start_time": "2022-02-02T09:47:36.376Z"
   },
   {
    "duration": 489,
    "start_time": "2022-02-02T09:47:42.142Z"
   },
   {
    "duration": 344,
    "start_time": "2022-02-02T09:47:42.634Z"
   },
   {
    "duration": 349,
    "start_time": "2022-02-02T09:47:42.980Z"
   },
   {
    "duration": 344,
    "start_time": "2022-02-02T09:47:43.332Z"
   },
   {
    "duration": 337,
    "start_time": "2022-02-02T09:47:43.679Z"
   },
   {
    "duration": 351,
    "start_time": "2022-02-02T09:47:44.019Z"
   },
   {
    "duration": 348,
    "start_time": "2022-02-02T09:47:44.373Z"
   },
   {
    "duration": 347,
    "start_time": "2022-02-02T09:47:44.724Z"
   },
   {
    "duration": 396,
    "start_time": "2022-02-02T09:47:45.073Z"
   },
   {
    "duration": 387,
    "start_time": "2022-02-02T09:47:45.472Z"
   },
   {
    "duration": 10,
    "start_time": "2022-02-02T09:47:45.861Z"
   },
   {
    "duration": 87,
    "start_time": "2022-02-02T09:47:45.874Z"
   },
   {
    "duration": 2657,
    "start_time": "2022-02-02T09:47:43.307Z"
   },
   {
    "duration": 255,
    "start_time": "2022-02-02T09:48:14.141Z"
   },
   {
    "duration": 9244,
    "start_time": "2022-02-02T09:51:38.363Z"
   },
   {
    "duration": 405,
    "start_time": "2022-02-02T09:52:28.401Z"
   },
   {
    "duration": 10,
    "start_time": "2022-02-02T09:52:42.359Z"
   },
   {
    "duration": 36,
    "start_time": "2022-02-02T09:52:53.336Z"
   },
   {
    "duration": 12,
    "start_time": "2022-02-02T09:54:22.704Z"
   },
   {
    "duration": 13,
    "start_time": "2022-02-02T09:56:02.642Z"
   },
   {
    "duration": 12,
    "start_time": "2022-02-02T09:56:08.149Z"
   },
   {
    "duration": 41,
    "start_time": "2022-02-02T09:56:18.655Z"
   },
   {
    "duration": 41,
    "start_time": "2022-02-02T09:56:33.215Z"
   },
   {
    "duration": 11,
    "start_time": "2022-02-02T09:57:44.819Z"
   },
   {
    "duration": 9,
    "start_time": "2022-02-02T09:57:55.084Z"
   },
   {
    "duration": 54,
    "start_time": "2022-02-02T09:58:18.214Z"
   },
   {
    "duration": 8,
    "start_time": "2022-02-02T09:58:22.467Z"
   },
   {
    "duration": 13,
    "start_time": "2022-02-02T09:58:56.298Z"
   },
   {
    "duration": 11,
    "start_time": "2022-02-02T09:59:03.252Z"
   },
   {
    "duration": 10,
    "start_time": "2022-02-02T10:03:26.086Z"
   },
   {
    "duration": 698,
    "start_time": "2022-02-02T10:03:28.101Z"
   },
   {
    "duration": 11,
    "start_time": "2022-02-02T10:04:08.334Z"
   },
   {
    "duration": 10,
    "start_time": "2022-02-02T10:07:09.555Z"
   },
   {
    "duration": 11,
    "start_time": "2022-02-02T10:07:11.250Z"
   },
   {
    "duration": 1413,
    "start_time": "2022-02-11T22:27:41.986Z"
   },
   {
    "duration": 105,
    "start_time": "2022-02-11T22:27:43.402Z"
   },
   {
    "duration": 19,
    "start_time": "2022-02-11T22:27:43.511Z"
   },
   {
    "duration": 50,
    "start_time": "2022-02-11T22:27:43.532Z"
   },
   {
    "duration": 12,
    "start_time": "2022-02-11T22:27:43.585Z"
   },
   {
    "duration": 18,
    "start_time": "2022-02-11T22:27:43.600Z"
   },
   {
    "duration": 59,
    "start_time": "2022-02-11T22:27:43.621Z"
   },
   {
    "duration": 623,
    "start_time": "2022-02-11T22:27:43.683Z"
   },
   {
    "duration": 798,
    "start_time": "2022-02-11T22:27:44.309Z"
   },
   {
    "duration": 3757,
    "start_time": "2022-02-11T22:27:45.110Z"
   },
   {
    "duration": 33,
    "start_time": "2022-02-11T22:27:48.869Z"
   },
   {
    "duration": 403,
    "start_time": "2022-02-11T22:27:48.905Z"
   },
   {
    "duration": 2256,
    "start_time": "2022-02-11T22:27:49.311Z"
   },
   {
    "duration": 33,
    "start_time": "2022-02-11T22:27:51.570Z"
   },
   {
    "duration": 629,
    "start_time": "2022-02-11T22:27:51.605Z"
   },
   {
    "duration": 488,
    "start_time": "2022-02-11T22:27:52.236Z"
   },
   {
    "duration": 8,
    "start_time": "2022-02-11T22:27:52.726Z"
   },
   {
    "duration": 495,
    "start_time": "2022-02-11T22:27:52.736Z"
   },
   {
    "duration": 6,
    "start_time": "2022-02-11T22:27:53.233Z"
   },
   {
    "duration": 30,
    "start_time": "2022-02-11T22:27:53.242Z"
   },
   {
    "duration": 5668,
    "start_time": "2022-02-11T22:27:53.275Z"
   },
   {
    "duration": 487,
    "start_time": "2022-02-11T22:27:58.946Z"
   },
   {
    "duration": 344,
    "start_time": "2022-02-11T22:27:59.440Z"
   },
   {
    "duration": 429,
    "start_time": "2022-02-11T22:27:59.787Z"
   },
   {
    "duration": 358,
    "start_time": "2022-02-11T22:28:00.218Z"
   },
   {
    "duration": 349,
    "start_time": "2022-02-11T22:28:00.579Z"
   },
   {
    "duration": 362,
    "start_time": "2022-02-11T22:28:00.931Z"
   },
   {
    "duration": 355,
    "start_time": "2022-02-11T22:28:01.295Z"
   },
   {
    "duration": 355,
    "start_time": "2022-02-11T22:28:01.654Z"
   },
   {
    "duration": 365,
    "start_time": "2022-02-11T22:28:02.012Z"
   },
   {
    "duration": 364,
    "start_time": "2022-02-11T22:28:02.379Z"
   },
   {
    "duration": 20,
    "start_time": "2022-02-11T22:28:02.746Z"
   },
   {
    "duration": 13,
    "start_time": "2022-02-11T22:28:02.769Z"
   },
   {
    "duration": 11,
    "start_time": "2022-02-11T22:28:02.785Z"
   },
   {
    "duration": 10,
    "start_time": "2022-02-11T22:28:02.799Z"
   },
   {
    "duration": 1485,
    "start_time": "2022-02-14T07:11:44.281Z"
   },
   {
    "duration": 109,
    "start_time": "2022-02-14T07:11:45.769Z"
   },
   {
    "duration": 21,
    "start_time": "2022-02-14T07:11:45.880Z"
   },
   {
    "duration": 26,
    "start_time": "2022-02-14T07:11:45.903Z"
   },
   {
    "duration": 36,
    "start_time": "2022-02-14T07:11:45.931Z"
   },
   {
    "duration": 22,
    "start_time": "2022-02-14T07:11:45.969Z"
   },
   {
    "duration": 23,
    "start_time": "2022-02-14T07:11:45.994Z"
   },
   {
    "duration": 642,
    "start_time": "2022-02-14T07:11:46.060Z"
   },
   {
    "duration": 583,
    "start_time": "2022-02-14T07:11:46.705Z"
   },
   {
    "duration": 3236,
    "start_time": "2022-02-14T07:11:47.290Z"
   },
   {
    "duration": 44,
    "start_time": "2022-02-14T07:11:50.529Z"
   },
   {
    "duration": 391,
    "start_time": "2022-02-14T07:11:50.576Z"
   },
   {
    "duration": 2239,
    "start_time": "2022-02-14T07:11:50.969Z"
   },
   {
    "duration": 50,
    "start_time": "2022-02-14T07:11:53.211Z"
   },
   {
    "duration": 606,
    "start_time": "2022-02-14T07:11:53.263Z"
   },
   {
    "duration": 454,
    "start_time": "2022-02-14T07:11:53.872Z"
   },
   {
    "duration": 9,
    "start_time": "2022-02-14T07:11:54.328Z"
   },
   {
    "duration": 478,
    "start_time": "2022-02-14T07:11:54.339Z"
   },
   {
    "duration": 6,
    "start_time": "2022-02-14T07:11:54.819Z"
   },
   {
    "duration": 32,
    "start_time": "2022-02-14T07:11:54.828Z"
   },
   {
    "duration": 5864,
    "start_time": "2022-02-14T07:11:54.862Z"
   },
   {
    "duration": 423,
    "start_time": "2022-02-14T07:12:00.729Z"
   },
   {
    "duration": 354,
    "start_time": "2022-02-14T07:12:01.161Z"
   },
   {
    "duration": 441,
    "start_time": "2022-02-14T07:12:01.518Z"
   },
   {
    "duration": 349,
    "start_time": "2022-02-14T07:12:01.961Z"
   },
   {
    "duration": 347,
    "start_time": "2022-02-14T07:12:02.312Z"
   },
   {
    "duration": 355,
    "start_time": "2022-02-14T07:12:02.661Z"
   },
   {
    "duration": 350,
    "start_time": "2022-02-14T07:12:03.018Z"
   },
   {
    "duration": 357,
    "start_time": "2022-02-14T07:12:03.370Z"
   },
   {
    "duration": 378,
    "start_time": "2022-02-14T07:12:03.730Z"
   },
   {
    "duration": 366,
    "start_time": "2022-02-14T07:12:04.111Z"
   },
   {
    "duration": 12,
    "start_time": "2022-02-14T07:12:04.480Z"
   },
   {
    "duration": 13,
    "start_time": "2022-02-14T07:12:04.494Z"
   },
   {
    "duration": 49,
    "start_time": "2022-02-14T07:12:04.510Z"
   },
   {
    "duration": 11,
    "start_time": "2022-02-14T07:12:04.562Z"
   },
   {
    "duration": 6,
    "start_time": "2022-02-14T07:36:23.985Z"
   },
   {
    "duration": 6,
    "start_time": "2022-02-14T07:37:31.914Z"
   },
   {
    "duration": 6,
    "start_time": "2022-02-14T07:40:10.743Z"
   },
   {
    "duration": 8,
    "start_time": "2022-02-14T07:42:36.094Z"
   },
   {
    "duration": 5,
    "start_time": "2022-02-14T07:47:10.087Z"
   },
   {
    "duration": 5,
    "start_time": "2022-02-14T07:47:43.079Z"
   },
   {
    "duration": 4,
    "start_time": "2022-02-14T07:47:46.708Z"
   },
   {
    "duration": 107,
    "start_time": "2022-02-14T07:47:46.715Z"
   },
   {
    "duration": 45,
    "start_time": "2022-02-14T07:47:46.826Z"
   },
   {
    "duration": 26,
    "start_time": "2022-02-14T07:47:46.874Z"
   },
   {
    "duration": 59,
    "start_time": "2022-02-14T07:47:46.902Z"
   },
   {
    "duration": 21,
    "start_time": "2022-02-14T07:47:46.964Z"
   },
   {
    "duration": 8,
    "start_time": "2022-02-14T07:47:46.989Z"
   },
   {
    "duration": 4,
    "start_time": "2022-02-14T07:47:47.000Z"
   },
   {
    "duration": 6,
    "start_time": "2022-02-14T07:47:47.007Z"
   },
   {
    "duration": 6,
    "start_time": "2022-02-14T07:47:47.060Z"
   },
   {
    "duration": 25,
    "start_time": "2022-02-14T07:47:47.069Z"
   },
   {
    "duration": 707,
    "start_time": "2022-02-14T07:47:47.097Z"
   },
   {
    "duration": 602,
    "start_time": "2022-02-14T07:47:47.807Z"
   },
   {
    "duration": 3286,
    "start_time": "2022-02-14T07:47:48.412Z"
   },
   {
    "duration": 35,
    "start_time": "2022-02-14T07:47:51.700Z"
   },
   {
    "duration": 429,
    "start_time": "2022-02-14T07:47:51.737Z"
   },
   {
    "duration": 2415,
    "start_time": "2022-02-14T07:47:52.168Z"
   },
   {
    "duration": 34,
    "start_time": "2022-02-14T07:47:54.586Z"
   },
   {
    "duration": 652,
    "start_time": "2022-02-14T07:47:54.625Z"
   },
   {
    "duration": 548,
    "start_time": "2022-02-14T07:47:55.280Z"
   },
   {
    "duration": 9,
    "start_time": "2022-02-14T07:47:55.830Z"
   },
   {
    "duration": 485,
    "start_time": "2022-02-14T07:47:55.841Z"
   },
   {
    "duration": 6,
    "start_time": "2022-02-14T07:47:56.328Z"
   },
   {
    "duration": 34,
    "start_time": "2022-02-14T07:47:56.337Z"
   },
   {
    "duration": 5666,
    "start_time": "2022-02-14T07:47:56.373Z"
   },
   {
    "duration": 489,
    "start_time": "2022-02-14T07:48:02.042Z"
   },
   {
    "duration": 356,
    "start_time": "2022-02-14T07:48:02.534Z"
   },
   {
    "duration": 393,
    "start_time": "2022-02-14T07:48:02.893Z"
   },
   {
    "duration": 412,
    "start_time": "2022-02-14T07:48:03.289Z"
   },
   {
    "duration": 458,
    "start_time": "2022-02-14T07:48:03.704Z"
   },
   {
    "duration": 478,
    "start_time": "2022-02-14T07:48:04.166Z"
   },
   {
    "duration": 352,
    "start_time": "2022-02-14T07:48:04.646Z"
   },
   {
    "duration": 369,
    "start_time": "2022-02-14T07:48:05.001Z"
   },
   {
    "duration": 377,
    "start_time": "2022-02-14T07:48:05.372Z"
   },
   {
    "duration": 360,
    "start_time": "2022-02-14T07:48:05.751Z"
   },
   {
    "duration": 10,
    "start_time": "2022-02-14T07:48:06.114Z"
   },
   {
    "duration": 33,
    "start_time": "2022-02-14T07:48:06.126Z"
   },
   {
    "duration": 11,
    "start_time": "2022-02-14T07:48:06.162Z"
   },
   {
    "duration": 11,
    "start_time": "2022-02-14T07:48:06.175Z"
   },
   {
    "duration": 8,
    "start_time": "2022-02-14T07:48:17.238Z"
   },
   {
    "duration": 118,
    "start_time": "2022-02-14T07:48:45.952Z"
   },
   {
    "duration": 474,
    "start_time": "2022-02-14T07:48:51.568Z"
   },
   {
    "duration": 353,
    "start_time": "2022-02-14T07:52:02.485Z"
   },
   {
    "duration": 6,
    "start_time": "2022-02-14T07:52:35.651Z"
   },
   {
    "duration": 31,
    "start_time": "2022-02-14T08:10:30.466Z"
   },
   {
    "duration": 47,
    "start_time": "2022-02-14T08:11:54.151Z"
   },
   {
    "duration": 390,
    "start_time": "2022-02-14T08:11:58.189Z"
   },
   {
    "duration": 2285,
    "start_time": "2022-02-14T08:12:04.357Z"
   },
   {
    "duration": 4,
    "start_time": "2022-02-14T08:12:43.598Z"
   },
   {
    "duration": 97,
    "start_time": "2022-02-14T08:12:43.607Z"
   },
   {
    "duration": 53,
    "start_time": "2022-02-14T08:12:43.707Z"
   },
   {
    "duration": 37,
    "start_time": "2022-02-14T08:12:43.763Z"
   },
   {
    "duration": 16,
    "start_time": "2022-02-14T08:12:43.804Z"
   },
   {
    "duration": 56,
    "start_time": "2022-02-14T08:12:43.823Z"
   },
   {
    "duration": 8,
    "start_time": "2022-02-14T08:12:43.881Z"
   },
   {
    "duration": 6,
    "start_time": "2022-02-14T08:12:43.892Z"
   },
   {
    "duration": 6,
    "start_time": "2022-02-14T08:12:43.902Z"
   },
   {
    "duration": 53,
    "start_time": "2022-02-14T08:12:43.911Z"
   },
   {
    "duration": 24,
    "start_time": "2022-02-14T08:12:43.967Z"
   },
   {
    "duration": 685,
    "start_time": "2022-02-14T08:12:43.993Z"
   },
   {
    "duration": 618,
    "start_time": "2022-02-14T08:12:44.681Z"
   },
   {
    "duration": 3711,
    "start_time": "2022-02-14T08:12:45.302Z"
   },
   {
    "duration": 45,
    "start_time": "2022-02-14T08:12:49.016Z"
   },
   {
    "duration": 411,
    "start_time": "2022-02-14T08:12:49.063Z"
   },
   {
    "duration": 2279,
    "start_time": "2022-02-14T08:12:49.476Z"
   },
   {
    "duration": 34,
    "start_time": "2022-02-14T08:12:51.757Z"
   },
   {
    "duration": 647,
    "start_time": "2022-02-14T08:12:51.794Z"
   },
   {
    "duration": 492,
    "start_time": "2022-02-14T08:12:52.444Z"
   },
   {
    "duration": 20,
    "start_time": "2022-02-14T08:12:52.939Z"
   },
   {
    "duration": 457,
    "start_time": "2022-02-14T08:12:52.962Z"
   },
   {
    "duration": 6,
    "start_time": "2022-02-14T08:12:53.422Z"
   },
   {
    "duration": 33,
    "start_time": "2022-02-14T08:12:53.434Z"
   },
   {
    "duration": 5871,
    "start_time": "2022-02-14T08:12:53.470Z"
   },
   {
    "duration": 417,
    "start_time": "2022-02-14T08:12:59.344Z"
   },
   {
    "duration": 343,
    "start_time": "2022-02-14T08:12:59.763Z"
   },
   {
    "duration": 433,
    "start_time": "2022-02-14T08:13:00.109Z"
   },
   {
    "duration": 354,
    "start_time": "2022-02-14T08:13:00.545Z"
   },
   {
    "duration": 453,
    "start_time": "2022-02-14T08:13:00.901Z"
   },
   {
    "duration": 380,
    "start_time": "2022-02-14T08:13:01.360Z"
   },
   {
    "duration": 350,
    "start_time": "2022-02-14T08:13:01.742Z"
   },
   {
    "duration": 360,
    "start_time": "2022-02-14T08:13:02.095Z"
   },
   {
    "duration": 374,
    "start_time": "2022-02-14T08:13:02.460Z"
   },
   {
    "duration": 373,
    "start_time": "2022-02-14T08:13:02.837Z"
   },
   {
    "duration": 11,
    "start_time": "2022-02-14T08:13:03.213Z"
   },
   {
    "duration": 34,
    "start_time": "2022-02-14T08:13:03.227Z"
   },
   {
    "duration": 12,
    "start_time": "2022-02-14T08:13:03.264Z"
   },
   {
    "duration": 10,
    "start_time": "2022-02-14T08:13:03.279Z"
   },
   {
    "duration": 582,
    "start_time": "2022-02-14T08:23:34.388Z"
   },
   {
    "duration": 526,
    "start_time": "2022-02-14T08:29:04.535Z"
   },
   {
    "duration": 502,
    "start_time": "2022-02-14T08:29:04.560Z"
   },
   {
    "duration": 499,
    "start_time": "2022-02-14T08:29:04.565Z"
   },
   {
    "duration": 496,
    "start_time": "2022-02-14T08:29:04.569Z"
   },
   {
    "duration": 491,
    "start_time": "2022-02-14T08:29:04.575Z"
   },
   {
    "duration": 489,
    "start_time": "2022-02-14T08:29:04.579Z"
   },
   {
    "duration": 485,
    "start_time": "2022-02-14T08:29:04.584Z"
   },
   {
    "duration": 481,
    "start_time": "2022-02-14T08:29:04.589Z"
   },
   {
    "duration": 478,
    "start_time": "2022-02-14T08:29:04.594Z"
   },
   {
    "duration": 474,
    "start_time": "2022-02-14T08:29:04.599Z"
   },
   {
    "duration": 462,
    "start_time": "2022-02-14T08:29:04.612Z"
   },
   {
    "duration": 459,
    "start_time": "2022-02-14T08:29:04.617Z"
   },
   {
    "duration": 455,
    "start_time": "2022-02-14T08:29:04.623Z"
   },
   {
    "duration": 451,
    "start_time": "2022-02-14T08:29:04.628Z"
   },
   {
    "duration": 447,
    "start_time": "2022-02-14T08:29:04.633Z"
   },
   {
    "duration": 444,
    "start_time": "2022-02-14T08:29:04.638Z"
   },
   {
    "duration": 440,
    "start_time": "2022-02-14T08:29:04.643Z"
   },
   {
    "duration": 429,
    "start_time": "2022-02-14T08:29:04.655Z"
   },
   {
    "duration": 425,
    "start_time": "2022-02-14T08:29:04.661Z"
   },
   {
    "duration": 421,
    "start_time": "2022-02-14T08:29:04.666Z"
   },
   {
    "duration": 416,
    "start_time": "2022-02-14T08:29:04.672Z"
   },
   {
    "duration": 413,
    "start_time": "2022-02-14T08:29:04.677Z"
   },
   {
    "duration": 408,
    "start_time": "2022-02-14T08:29:04.683Z"
   },
   {
    "duration": 389,
    "start_time": "2022-02-14T08:29:04.704Z"
   },
   {
    "duration": 384,
    "start_time": "2022-02-14T08:29:04.710Z"
   },
   {
    "duration": 380,
    "start_time": "2022-02-14T08:29:04.715Z"
   },
   {
    "duration": 378,
    "start_time": "2022-02-14T08:29:04.720Z"
   },
   {
    "duration": 362,
    "start_time": "2022-02-14T08:29:04.737Z"
   },
   {
    "duration": 356,
    "start_time": "2022-02-14T08:29:04.744Z"
   },
   {
    "duration": 353,
    "start_time": "2022-02-14T08:29:04.748Z"
   },
   {
    "duration": 407,
    "start_time": "2022-02-14T08:29:04.753Z"
   },
   {
    "duration": 403,
    "start_time": "2022-02-14T08:29:04.758Z"
   },
   {
    "duration": 398,
    "start_time": "2022-02-14T08:29:04.764Z"
   },
   {
    "duration": 388,
    "start_time": "2022-02-14T08:29:04.776Z"
   },
   {
    "duration": 384,
    "start_time": "2022-02-14T08:29:04.781Z"
   },
   {
    "duration": 382,
    "start_time": "2022-02-14T08:29:04.785Z"
   },
   {
    "duration": 374,
    "start_time": "2022-02-14T08:29:04.794Z"
   },
   {
    "duration": 368,
    "start_time": "2022-02-14T08:29:04.801Z"
   },
   {
    "duration": 364,
    "start_time": "2022-02-14T08:29:04.807Z"
   },
   {
    "duration": 243,
    "start_time": "2022-02-14T08:29:36.500Z"
   },
   {
    "duration": 266,
    "start_time": "2022-02-14T08:30:33.019Z"
   },
   {
    "duration": 255,
    "start_time": "2022-02-14T08:31:55.067Z"
   },
   {
    "duration": 262,
    "start_time": "2022-02-14T08:34:12.176Z"
   },
   {
    "duration": 267,
    "start_time": "2022-02-14T08:34:19.848Z"
   },
   {
    "duration": 316,
    "start_time": "2022-02-14T08:35:11.471Z"
   },
   {
    "duration": 277,
    "start_time": "2022-02-14T08:35:29.953Z"
   },
   {
    "duration": 288,
    "start_time": "2022-02-14T08:36:00.239Z"
   },
   {
    "duration": 274,
    "start_time": "2022-02-14T08:36:12.316Z"
   },
   {
    "duration": 323,
    "start_time": "2022-02-14T08:36:36.436Z"
   },
   {
    "duration": 669,
    "start_time": "2022-02-14T08:38:26.244Z"
   },
   {
    "duration": 616,
    "start_time": "2022-02-14T08:38:35.996Z"
   },
   {
    "duration": 276,
    "start_time": "2022-02-14T08:39:27.457Z"
   },
   {
    "duration": 640,
    "start_time": "2022-02-14T08:40:34.864Z"
   },
   {
    "duration": 263,
    "start_time": "2022-02-14T08:40:41.969Z"
   },
   {
    "duration": 273,
    "start_time": "2022-02-14T08:42:16.863Z"
   },
   {
    "duration": 144,
    "start_time": "2022-02-14T08:42:42.047Z"
   },
   {
    "duration": 146,
    "start_time": "2022-02-14T08:42:59.078Z"
   },
   {
    "duration": 158,
    "start_time": "2022-02-14T08:43:12.317Z"
   },
   {
    "duration": 142,
    "start_time": "2022-02-14T08:44:03.687Z"
   },
   {
    "duration": 169,
    "start_time": "2022-02-14T08:45:01.620Z"
   },
   {
    "duration": 181,
    "start_time": "2022-02-14T08:46:36.348Z"
   },
   {
    "duration": 139,
    "start_time": "2022-02-14T08:46:43.914Z"
   },
   {
    "duration": 142,
    "start_time": "2022-02-14T08:47:29.483Z"
   },
   {
    "duration": 175,
    "start_time": "2022-02-14T08:47:56.066Z"
   },
   {
    "duration": 154,
    "start_time": "2022-02-14T08:48:37.768Z"
   },
   {
    "duration": 148,
    "start_time": "2022-02-14T08:49:49.464Z"
   },
   {
    "duration": 1530,
    "start_time": "2022-02-14T21:35:34.713Z"
   },
   {
    "duration": 72,
    "start_time": "2022-02-14T21:35:36.245Z"
   },
   {
    "duration": 12,
    "start_time": "2022-02-14T21:35:36.321Z"
   },
   {
    "duration": 17,
    "start_time": "2022-02-14T21:35:36.334Z"
   },
   {
    "duration": 8,
    "start_time": "2022-02-14T21:35:36.352Z"
   },
   {
    "duration": 12,
    "start_time": "2022-02-14T21:35:36.362Z"
   },
   {
    "duration": 40,
    "start_time": "2022-02-14T21:35:36.376Z"
   },
   {
    "duration": 5,
    "start_time": "2022-02-14T21:35:36.419Z"
   },
   {
    "duration": 4,
    "start_time": "2022-02-14T21:35:36.425Z"
   },
   {
    "duration": 5,
    "start_time": "2022-02-14T21:35:36.431Z"
   },
   {
    "duration": 18,
    "start_time": "2022-02-14T21:35:36.437Z"
   },
   {
    "duration": 419,
    "start_time": "2022-02-14T21:35:36.457Z"
   },
   {
    "duration": 354,
    "start_time": "2022-02-14T21:35:36.878Z"
   },
   {
    "duration": 2002,
    "start_time": "2022-02-14T21:35:37.234Z"
   },
   {
    "duration": 20,
    "start_time": "2022-02-14T21:35:39.237Z"
   },
   {
    "duration": 246,
    "start_time": "2022-02-14T21:35:39.258Z"
   },
   {
    "duration": 1346,
    "start_time": "2022-02-14T21:35:39.506Z"
   },
   {
    "duration": 21,
    "start_time": "2022-02-14T21:35:40.853Z"
   },
   {
    "duration": 379,
    "start_time": "2022-02-14T21:35:40.876Z"
   },
   {
    "duration": 350,
    "start_time": "2022-02-14T21:35:41.257Z"
   },
   {
    "duration": 6,
    "start_time": "2022-02-14T21:35:41.609Z"
   },
   {
    "duration": 362,
    "start_time": "2022-02-14T21:35:41.618Z"
   },
   {
    "duration": 4,
    "start_time": "2022-02-14T21:35:41.982Z"
   },
   {
    "duration": 24,
    "start_time": "2022-02-14T21:35:41.988Z"
   },
   {
    "duration": 3749,
    "start_time": "2022-02-14T21:35:42.014Z"
   },
   {
    "duration": 242,
    "start_time": "2022-02-14T21:35:45.765Z"
   },
   {
    "duration": 103,
    "start_time": "2022-02-14T21:35:46.009Z"
   },
   {
    "duration": 164,
    "start_time": "2022-02-14T21:35:46.113Z"
   },
   {
    "duration": 98,
    "start_time": "2022-02-14T21:35:46.279Z"
   },
   {
    "duration": 98,
    "start_time": "2022-02-14T21:35:46.379Z"
   },
   {
    "duration": 106,
    "start_time": "2022-02-14T21:35:46.478Z"
   },
   {
    "duration": 93,
    "start_time": "2022-02-14T21:35:46.586Z"
   },
   {
    "duration": 101,
    "start_time": "2022-02-14T21:35:46.681Z"
   },
   {
    "duration": 109,
    "start_time": "2022-02-14T21:35:46.784Z"
   },
   {
    "duration": 96,
    "start_time": "2022-02-14T21:35:46.895Z"
   },
   {
    "duration": 22,
    "start_time": "2022-02-14T21:35:46.992Z"
   },
   {
    "duration": 8,
    "start_time": "2022-02-14T21:35:47.015Z"
   },
   {
    "duration": 9,
    "start_time": "2022-02-14T21:35:47.024Z"
   },
   {
    "duration": 6,
    "start_time": "2022-02-14T21:35:47.034Z"
   },
   {
    "duration": 1333,
    "start_time": "2022-02-15T08:30:49.326Z"
   },
   {
    "duration": 101,
    "start_time": "2022-02-15T08:30:50.661Z"
   },
   {
    "duration": 12,
    "start_time": "2022-02-15T08:30:50.764Z"
   },
   {
    "duration": 16,
    "start_time": "2022-02-15T08:30:50.777Z"
   },
   {
    "duration": 38,
    "start_time": "2022-02-15T08:30:50.795Z"
   },
   {
    "duration": 13,
    "start_time": "2022-02-15T08:30:50.834Z"
   },
   {
    "duration": 7,
    "start_time": "2022-02-15T08:30:50.848Z"
   },
   {
    "duration": 5,
    "start_time": "2022-02-15T08:30:50.857Z"
   },
   {
    "duration": 20,
    "start_time": "2022-02-15T08:30:50.864Z"
   },
   {
    "duration": 13,
    "start_time": "2022-02-15T08:30:50.885Z"
   },
   {
    "duration": 15,
    "start_time": "2022-02-15T08:30:50.900Z"
   },
   {
    "duration": 366,
    "start_time": "2022-02-15T08:30:50.917Z"
   },
   {
    "duration": 323,
    "start_time": "2022-02-15T08:30:51.285Z"
   },
   {
    "duration": 2292,
    "start_time": "2022-02-15T08:30:51.610Z"
   },
   {
    "duration": 29,
    "start_time": "2022-02-15T08:30:53.903Z"
   },
   {
    "duration": 229,
    "start_time": "2022-02-15T08:30:53.934Z"
   },
   {
    "duration": 1219,
    "start_time": "2022-02-15T08:30:54.165Z"
   },
   {
    "duration": 20,
    "start_time": "2022-02-15T08:30:55.385Z"
   },
   {
    "duration": 342,
    "start_time": "2022-02-15T08:30:55.407Z"
   },
   {
    "duration": 325,
    "start_time": "2022-02-15T08:30:55.750Z"
   },
   {
    "duration": 6,
    "start_time": "2022-02-15T08:30:56.077Z"
   },
   {
    "duration": 322,
    "start_time": "2022-02-15T08:30:56.085Z"
   },
   {
    "duration": 4,
    "start_time": "2022-02-15T08:30:56.411Z"
   },
   {
    "duration": 22,
    "start_time": "2022-02-15T08:30:56.417Z"
   },
   {
    "duration": 3733,
    "start_time": "2022-02-15T08:30:56.441Z"
   },
   {
    "duration": 231,
    "start_time": "2022-02-15T08:31:00.176Z"
   },
   {
    "duration": 89,
    "start_time": "2022-02-15T08:31:00.409Z"
   },
   {
    "duration": 169,
    "start_time": "2022-02-15T08:31:00.500Z"
   },
   {
    "duration": 92,
    "start_time": "2022-02-15T08:31:00.670Z"
   },
   {
    "duration": 95,
    "start_time": "2022-02-15T08:31:00.763Z"
   },
   {
    "duration": 97,
    "start_time": "2022-02-15T08:31:00.860Z"
   },
   {
    "duration": 105,
    "start_time": "2022-02-15T08:31:00.959Z"
   },
   {
    "duration": 88,
    "start_time": "2022-02-15T08:31:01.065Z"
   },
   {
    "duration": 101,
    "start_time": "2022-02-15T08:31:01.155Z"
   },
   {
    "duration": 97,
    "start_time": "2022-02-15T08:31:01.257Z"
   },
   {
    "duration": 6,
    "start_time": "2022-02-15T08:31:01.355Z"
   },
   {
    "duration": 33,
    "start_time": "2022-02-15T08:31:01.363Z"
   },
   {
    "duration": 26,
    "start_time": "2022-02-15T08:31:01.397Z"
   },
   {
    "duration": 12,
    "start_time": "2022-02-15T08:31:01.424Z"
   },
   {
    "duration": 10,
    "start_time": "2022-02-15T08:31:27.647Z"
   },
   {
    "duration": 14,
    "start_time": "2022-02-15T08:35:35.758Z"
   },
   {
    "duration": 71,
    "start_time": "2022-02-15T08:35:47.096Z"
   },
   {
    "duration": 67,
    "start_time": "2022-02-15T08:35:51.561Z"
   },
   {
    "duration": 86,
    "start_time": "2022-02-15T08:43:14.828Z"
   },
   {
    "duration": 79,
    "start_time": "2022-02-15T08:43:53.260Z"
   },
   {
    "duration": 79,
    "start_time": "2022-02-15T08:45:48.329Z"
   }
  ],
  "kernelspec": {
   "display_name": "Python 3 (ipykernel)",
   "language": "python",
   "name": "python3"
  },
  "language_info": {
   "codemirror_mode": {
    "name": "ipython",
    "version": 3
   },
   "file_extension": ".py",
   "mimetype": "text/x-python",
   "name": "python",
   "nbconvert_exporter": "python",
   "pygments_lexer": "ipython3",
   "version": "3.9.5"
  },
  "toc": {
   "base_numbering": 1,
   "nav_menu": {
    "height": "89px",
    "width": "160px"
   },
   "number_sections": true,
   "sideBar": true,
   "skip_h1_title": true,
   "title_cell": "Table of Contents",
   "title_sidebar": "Contents",
   "toc_cell": false,
   "toc_position": {
    "height": "calc(100% - 180px)",
    "left": "10px",
    "top": "150px",
    "width": "366.391px"
   },
   "toc_section_display": true,
   "toc_window_display": true
  }
 },
 "nbformat": 4,
 "nbformat_minor": 2
}
