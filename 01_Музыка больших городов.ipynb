{
 "cells": [
  {
   "cell_type": "markdown",
   "metadata": {
    "id": "E0vqbgi9ay0H"
   },
   "source": [
    "# Яндекс.Музыка"
   ]
  },
  {
   "cell_type": "markdown",
   "metadata": {},
   "source": [
    "Андрей, привет! 👋\n",
    "\n",
    "Меня зовут Артем Пиляй. Я буду проверять твой проект. Со мной можно на «ты».\n",
    " \n",
    "В тетрадке ты найдешь комментарии к проекту, они будут в отдельных ячейках Markdown с заголовком «Ревьюер», если проверок будет несколько, то «Ревьюер v_».  \n",
    "Твои проекты станут еще круче, если ты воспользуешься комментариями в дальнейших проектах.\n",
    " \n",
    "На заметку: Повторная проверка пройдет быстрее если ты не будешь перемещать, изменять и удалять мои комментарии. Еще ускорить повторную проверку можно если ты будешь писать о внесенных изменениях в синих ячейках Markdown, заготовку я тебе приготовил ниже. =)\n",
    "\n",
    "\n",
    "<div class=\"alert alert-danger\">\n",
    "\n",
    "<b>Ревьюер: ✋</b> Такой комментарий нужно исправить обязательно, он критически влияет на удачное выполнение проекта.\n",
    "\n",
    "</div>\n",
    "\n",
    "<div class=\"alert alert-warning\">\n",
    "\n",
    "<b>Ревьюер: 👉</b> Такой комментарий является рекомендацией или советом. Можешь использовать их на своё усмотрение.\n",
    "\n",
    "</div>\n",
    "\n",
    "<div class=\"alert alert-success\">\n",
    "\n",
    "<b>Ревьюер: 👍</b> Такой комментарий в начале проекта означает, что работа принята. В основной части работы комментарии такого цвета говорят о том, что было сделано что-то качественное и правильное. 😉\n",
    "\n",
    "</div>\n",
    "\n",
    "<div class=\"alert alert-info\">\n",
    "\n",
    "<b>Студент:</b> Такой комментарий можно будет быстро найти.\n",
    "\n",
    "</div>\n",
    "\n",
    "---"
   ]
  },
  {
   "cell_type": "markdown",
   "metadata": {},
   "source": [
    "<div class=\"alert alert-danger\">\n",
    "\n",
    "<b>Ревьюер: ✋</b> Андрей, из-за того, что в датафрейме (таблице) остались дубликаты, в дальнейших вычислениях будут ошибки. Исправь их, пожалуйста. \n",
    "    \n",
    "Будет здорово, если задашь интересующие тебя вопросы. Буду рад помочь! 🙂\n",
    "\n",
    "</div>"
   ]
  },
  {
   "cell_type": "markdown",
   "metadata": {},
   "source": [
    "<div class=\"alert alert-danger\">\n",
    "\n",
    "<b>Ревьюер v2:</b> Проект еще не принят, осталось исправить несколько ошибок.\n",
    "    \n",
    "Жду правок 🙂\n",
    "\n",
    "</div>"
   ]
  },
  {
   "cell_type": "markdown",
   "metadata": {},
   "source": [
    "<div class=\"alert alert-danger\">\n",
    "\n",
    "<b>Ревьюер v3:</b> Андрей, осталось чуть-чуть и проект будет принят!\n",
    "    \n",
    "Жду правок 😉\n",
    "\n",
    "</div>"
   ]
  },
  {
   "cell_type": "markdown",
   "metadata": {},
   "source": [
    "<div class=\"alert alert-success\">\n",
    "\n",
    "<b>Ревьюер v4: ✌️</b> Андрей, упорства тебе не занимать, ты крут! А это залог успеха. \n",
    "    \n",
    "Только увидел, что ты оставлял комментарии в коде. На вопросы ответил, и твой ответ на вопрос нашел. На будущее оставляй комментарии так чтобы их было видно.\n",
    "\n",
    "Желаю тебе успехов в дальнейшем обучении и во всех твоих начинаниях, поздравляю **проект принят**! 🥳 🎉\n",
    "\n",
    "</div>"
   ]
  },
  {
   "cell_type": "markdown",
   "metadata": {
    "id": "VUC88oWjTJw2"
   },
   "source": [
    "Сравнение Москвы и Петербурга окружено мифами. Например:\n",
    " * Москва — мегаполис, подчинённый жёсткому ритму рабочей недели;\n",
    " * Петербург — культурная столица, со своими вкусами.\n",
    "\n",
    "На данных Яндекс.Музыки вы сравните поведение пользователей двух столиц.\n",
    "\n",
    "**Цель исследования** — проверьте три гипотезы:\n",
    "1. Активность пользователей зависит от дня недели. Причём в Москве и Петербурге это проявляется по-разному.\n",
    "2. В понедельник утром в Москве преобладают одни жанры, а в Петербурге — другие. Так же и вечером пятницы преобладают разные жанры — в зависимости от города. \n",
    "3. Москва и Петербург предпочитают разные жанры музыки. В Москве чаще слушают поп-музыку, в Петербурге — русский рэп.\n",
    "\n",
    "**Ход исследования**\n",
    "\n",
    "Данные о поведении пользователей вы получите из файла `yandex_music_project.csv`. О качестве данных ничего не известно. Поэтому перед проверкой гипотез понадобится обзор данных. \n",
    "\n",
    "Вы проверите данные на ошибки и оцените их влияние на исследование. Затем, на этапе предобработки вы поищете возможность исправить самые критичные ошибки данных.\n",
    " \n",
    "Таким образом, исследование пройдёт в три этапа:\n",
    " 1. Обзор данных.\n",
    " 2. Предобработка данных.\n",
    " 3. Проверка гипотез.\n",
    "\n"
   ]
  },
  {
   "cell_type": "markdown",
   "metadata": {
    "id": "Ml1hmfXC_Zcs"
   },
   "source": [
    "## Обзор данных\n",
    "\n",
    "Составьте первое представление о данных Яндекс.Музыки.\n",
    "\n",
    "\n"
   ]
  },
  {
   "cell_type": "markdown",
   "metadata": {
    "id": "57eAOGIz_Zcs"
   },
   "source": [
    "Основной инструмент аналитика — `pandas`. Импортируйте эту библиотеку."
   ]
  },
  {
   "cell_type": "code",
   "execution_count": 1,
   "metadata": {
    "id": "AXN7PHPN_Zcs"
   },
   "outputs": [],
   "source": [
    "# импорт библиотеки pandas\n",
    "import pandas as pd"
   ]
  },
  {
   "cell_type": "markdown",
   "metadata": {},
   "source": [
    "<div class=\"alert alert-success\">\n",
    "\n",
    "<b>Ревьюер: 👍</b> Молодец, что используешь сокращение `pd` для библиотеки Pandas. Это общепринятое сокращение для этой библиотеки, и делает твой код более понятным для другого аналитика. \n",
    "\n",
    "</div>"
   ]
  },
  {
   "cell_type": "markdown",
   "metadata": {},
   "source": [
    "<div class=\"alert alert-success\">\n",
    "\n",
    "<b>Ревьюер: 👍</b> Верное решенье оставлять комментарий над кодом. Во-первых, его так удобнее читать, во-вторых, он не останется за пределами ячейки. \n",
    "\n",
    "</div>"
   ]
  },
  {
   "cell_type": "markdown",
   "metadata": {
    "id": "SG23P8tt_Zcs"
   },
   "source": [
    "Прочитайте файл `yandex_music_project.csv` из папки `/datasets` и сохраните его в переменной `df`:"
   ]
  },
  {
   "cell_type": "code",
   "execution_count": 2,
   "metadata": {
    "id": "fFVu7vqh_Zct"
   },
   "outputs": [],
   "source": [
    "# чтение файла с данными и сохранение в df\n",
    "df = pd.read_csv('/datasets/yandex_music_project.csv')"
   ]
  },
  {
   "cell_type": "markdown",
   "metadata": {},
   "source": [
    "<div class=\"alert alert-success\">\n",
    "\n",
    "<b>Ревьюер: 👍</b> Этот шаг тоже выполнен правильно. Важно указать верный путь к файлу с данными.\n",
    "* На заметку: \n",
    "    * Слэш в начале пути указывает, что нужно искать файл в папке.\n",
    "    * Если будешь выполнять проекты локально, не забывай проверять их работоспособность после заливки в JupyterHub, это сэкономит твое время.\n",
    "\n",
    "</div>"
   ]
  },
  {
   "cell_type": "markdown",
   "metadata": {
    "id": "rDoOMd3uTqnZ"
   },
   "source": [
    "Выведите на экран первые десять строк таблицы:"
   ]
  },
  {
   "cell_type": "code",
   "execution_count": 3,
   "metadata": {
    "id": "oWTVX3gW_Zct"
   },
   "outputs": [
    {
     "data": {
      "text/html": [
       "<div>\n",
       "<style scoped>\n",
       "    .dataframe tbody tr th:only-of-type {\n",
       "        vertical-align: middle;\n",
       "    }\n",
       "\n",
       "    .dataframe tbody tr th {\n",
       "        vertical-align: top;\n",
       "    }\n",
       "\n",
       "    .dataframe thead th {\n",
       "        text-align: right;\n",
       "    }\n",
       "</style>\n",
       "<table border=\"1\" class=\"dataframe\">\n",
       "  <thead>\n",
       "    <tr style=\"text-align: right;\">\n",
       "      <th></th>\n",
       "      <th>userID</th>\n",
       "      <th>Track</th>\n",
       "      <th>artist</th>\n",
       "      <th>genre</th>\n",
       "      <th>City</th>\n",
       "      <th>time</th>\n",
       "      <th>Day</th>\n",
       "    </tr>\n",
       "  </thead>\n",
       "  <tbody>\n",
       "    <tr>\n",
       "      <td>0</td>\n",
       "      <td>FFB692EC</td>\n",
       "      <td>Kamigata To Boots</td>\n",
       "      <td>The Mass Missile</td>\n",
       "      <td>rock</td>\n",
       "      <td>Saint-Petersburg</td>\n",
       "      <td>20:28:33</td>\n",
       "      <td>Wednesday</td>\n",
       "    </tr>\n",
       "    <tr>\n",
       "      <td>1</td>\n",
       "      <td>55204538</td>\n",
       "      <td>Delayed Because of Accident</td>\n",
       "      <td>Andreas Rönnberg</td>\n",
       "      <td>rock</td>\n",
       "      <td>Moscow</td>\n",
       "      <td>14:07:09</td>\n",
       "      <td>Friday</td>\n",
       "    </tr>\n",
       "    <tr>\n",
       "      <td>2</td>\n",
       "      <td>20EC38</td>\n",
       "      <td>Funiculì funiculà</td>\n",
       "      <td>Mario Lanza</td>\n",
       "      <td>pop</td>\n",
       "      <td>Saint-Petersburg</td>\n",
       "      <td>20:58:07</td>\n",
       "      <td>Wednesday</td>\n",
       "    </tr>\n",
       "    <tr>\n",
       "      <td>3</td>\n",
       "      <td>A3DD03C9</td>\n",
       "      <td>Dragons in the Sunset</td>\n",
       "      <td>Fire + Ice</td>\n",
       "      <td>folk</td>\n",
       "      <td>Saint-Petersburg</td>\n",
       "      <td>08:37:09</td>\n",
       "      <td>Monday</td>\n",
       "    </tr>\n",
       "    <tr>\n",
       "      <td>4</td>\n",
       "      <td>E2DC1FAE</td>\n",
       "      <td>Soul People</td>\n",
       "      <td>Space Echo</td>\n",
       "      <td>dance</td>\n",
       "      <td>Moscow</td>\n",
       "      <td>08:34:34</td>\n",
       "      <td>Monday</td>\n",
       "    </tr>\n",
       "    <tr>\n",
       "      <td>5</td>\n",
       "      <td>842029A1</td>\n",
       "      <td>Преданная</td>\n",
       "      <td>IMPERVTOR</td>\n",
       "      <td>rusrap</td>\n",
       "      <td>Saint-Petersburg</td>\n",
       "      <td>13:09:41</td>\n",
       "      <td>Friday</td>\n",
       "    </tr>\n",
       "    <tr>\n",
       "      <td>6</td>\n",
       "      <td>4CB90AA5</td>\n",
       "      <td>True</td>\n",
       "      <td>Roman Messer</td>\n",
       "      <td>dance</td>\n",
       "      <td>Moscow</td>\n",
       "      <td>13:00:07</td>\n",
       "      <td>Wednesday</td>\n",
       "    </tr>\n",
       "    <tr>\n",
       "      <td>7</td>\n",
       "      <td>F03E1C1F</td>\n",
       "      <td>Feeling This Way</td>\n",
       "      <td>Polina Griffith</td>\n",
       "      <td>dance</td>\n",
       "      <td>Moscow</td>\n",
       "      <td>20:47:49</td>\n",
       "      <td>Wednesday</td>\n",
       "    </tr>\n",
       "    <tr>\n",
       "      <td>8</td>\n",
       "      <td>8FA1D3BE</td>\n",
       "      <td>И вновь продолжается бой</td>\n",
       "      <td>NaN</td>\n",
       "      <td>ruspop</td>\n",
       "      <td>Moscow</td>\n",
       "      <td>09:17:40</td>\n",
       "      <td>Friday</td>\n",
       "    </tr>\n",
       "    <tr>\n",
       "      <td>9</td>\n",
       "      <td>E772D5C0</td>\n",
       "      <td>Pessimist</td>\n",
       "      <td>NaN</td>\n",
       "      <td>dance</td>\n",
       "      <td>Saint-Petersburg</td>\n",
       "      <td>21:20:49</td>\n",
       "      <td>Wednesday</td>\n",
       "    </tr>\n",
       "  </tbody>\n",
       "</table>\n",
       "</div>"
      ],
      "text/plain": [
       "     userID                        Track            artist   genre  \\\n",
       "0  FFB692EC            Kamigata To Boots  The Mass Missile    rock   \n",
       "1  55204538  Delayed Because of Accident  Andreas Rönnberg    rock   \n",
       "2    20EC38            Funiculì funiculà       Mario Lanza     pop   \n",
       "3  A3DD03C9        Dragons in the Sunset        Fire + Ice    folk   \n",
       "4  E2DC1FAE                  Soul People        Space Echo   dance   \n",
       "5  842029A1                    Преданная         IMPERVTOR  rusrap   \n",
       "6  4CB90AA5                         True      Roman Messer   dance   \n",
       "7  F03E1C1F             Feeling This Way   Polina Griffith   dance   \n",
       "8  8FA1D3BE     И вновь продолжается бой               NaN  ruspop   \n",
       "9  E772D5C0                    Pessimist               NaN   dance   \n",
       "\n",
       "             City        time        Day  \n",
       "0  Saint-Petersburg  20:28:33  Wednesday  \n",
       "1            Moscow  14:07:09     Friday  \n",
       "2  Saint-Petersburg  20:58:07  Wednesday  \n",
       "3  Saint-Petersburg  08:37:09     Monday  \n",
       "4            Moscow  08:34:34     Monday  \n",
       "5  Saint-Petersburg  13:09:41     Friday  \n",
       "6            Moscow  13:00:07  Wednesday  \n",
       "7            Moscow  20:47:49  Wednesday  \n",
       "8            Moscow  09:17:40     Friday  \n",
       "9  Saint-Petersburg  21:20:49  Wednesday  "
      ]
     },
     "execution_count": 3,
     "metadata": {},
     "output_type": "execute_result"
    }
   ],
   "source": [
    "# получение первых 10 строк таблицы df\n",
    "df.head(10)"
   ]
  },
  {
   "cell_type": "markdown",
   "metadata": {},
   "source": [
    "<div class=\"alert alert-success\">\n",
    "\n",
    "<b>Ревьюер: 👍</b> Теперь мы познакомились с данными и сделали это аккуратно, осмотрев первые десять строк. Метод `print()` или `display()` ненужно использовать, когда код находится в последней строчке ячейки, Юпитер выведет информацию и без них.\n",
    "* На заметку: Посмотреть «хвост» можно методом `tail()`, а вывести в случайном порядке можно методом `sample()`.\n",
    "\n",
    "</div>"
   ]
  },
  {
   "cell_type": "markdown",
   "metadata": {
    "id": "EO73Kwic_Zct"
   },
   "source": [
    "Одной командой получить общую информацию о таблице:"
   ]
  },
  {
   "cell_type": "code",
   "execution_count": 4,
   "metadata": {
    "id": "DSf2kIb-_Zct"
   },
   "outputs": [
    {
     "name": "stdout",
     "output_type": "stream",
     "text": [
      "<class 'pandas.core.frame.DataFrame'>\n",
      "RangeIndex: 65079 entries, 0 to 65078\n",
      "Data columns (total 7 columns):\n",
      "  userID    65079 non-null object\n",
      "Track       63848 non-null object\n",
      "artist      57876 non-null object\n",
      "genre       63881 non-null object\n",
      "  City      65079 non-null object\n",
      "time        65079 non-null object\n",
      "Day         65079 non-null object\n",
      "dtypes: object(7)\n",
      "memory usage: 3.5+ MB\n"
     ]
    }
   ],
   "source": [
    "# получение общей информации о данных в таблице df\n",
    "df.info()\n",
    "\n",
    "\n",
    "\n",
    "#столбец userID необходимо написать в змеином регистре\n",
    "#  я не понимаю как и где нужно описать\n"
   ]
  },
  {
   "cell_type": "markdown",
   "metadata": {},
   "source": [
    "<div class=\"alert alert-success\">\n",
    "\n",
    "<b>Ревьюер: 👍</b> Хорошо. Метод `info()`, как и следует из названия очень информативен. 🙂 ~`display()`~\n",
    "\n",
    "</div>"
   ]
  },
  {
   "cell_type": "markdown",
   "metadata": {
    "id": "TaQ2Iwbr_Zct"
   },
   "source": [
    "Итак, в таблице семь столбцов. Тип данных во всех столбцах — `object`.\n",
    "\n",
    "Согласно документации к данным:\n",
    "* `userID` — идентификатор пользователя;\n",
    "* `Track` — название трека;  \n",
    "* `artist` — имя исполнителя;\n",
    "* `genre` — название жанра;\n",
    "* `City` — город пользователя;\n",
    "* `time` — время начала прослушивания;\n",
    "* `Day` — день недели.\n",
    "\n",
    "В названиях колонок видны три нарушения стиля:\n",
    "1. Строчные буквы сочетаются с прописными.\n",
    "2. Встречаются пробелы.\n",
    "3. Найдите ещё одну проблему в названии колонок и опишите её в этом пункте.\n",
    "\n",
    "\n",
    "\n",
    "Количество значений в столбцах различается. Значит, в данных есть пропущенные значения.\n"
   ]
  },
  {
   "cell_type": "markdown",
   "metadata": {},
   "source": [
    "<a id=\"error_1\"></a> \n",
    "<div class=\"alert alert-danger\">\n",
    "\n",
    "<b>Ревьюер: ✋</b> В предыдущей ячейке надо ответить на третий вопрос.\n",
    "\n",
    "</div>"
   ]
  },
  {
   "cell_type": "markdown",
   "metadata": {},
   "source": [
    "<a id=\"error_2_1\"></a> \n",
    "<div class=\"alert alert-danger\">\n",
    "\n",
    "<b>Ревьюер v2: ✋</b> В предыдущей ячейке надо ответить на третий вопрос.\n",
    "\n",
    "</div>"
   ]
  },
  {
   "cell_type": "markdown",
   "metadata": {},
   "source": [
    "<a id=\"error_3_1\"></a> \n",
    "<div class=\"alert alert-danger\">\n",
    "\n",
    "<b>Ревьюер v3: ✋</b> Ответь на вопрос: \"Найдите ещё одну проблему в названии колонок и опишите её в этом пункте.\" \n",
    "    \n",
    "Подсказка: 🐪 или 🐍?\n",
    "\n",
    "</div>"
   ]
  },
  {
   "cell_type": "markdown",
   "metadata": {},
   "source": [
    "<div class=\"alert alert-success\">\n",
    "\n",
    "<b>Ревьюер v4: 👍</b> Оставляй пожалуйста комментарии так, чтобы их было видно. Пробежался глазами по всем комментариям в коде и нашел ответ на вопрос. Просто видел, что ты стараешься и все делаешь хорошо и мне было непонятно почему ты игнорируешь этот пункт. 🙂\n",
    "\n",
    "</div>"
   ]
  },
  {
   "cell_type": "markdown",
   "metadata": {
    "id": "MCB6-dXG_Zct"
   },
   "source": [
    "**Выводы**\n",
    "\n",
    "В каждой строке таблицы — данные о прослушанном треке. Часть колонок описывает саму композицию: название, исполнителя и жанр. Остальные данные рассказывают о пользователе: из какого он города, когда он слушал музыку. \n",
    "\n",
    "Предварительно можно утверждать, что, данных достаточно для проверки гипотез. Но встречаются пропуски в данных, а в названиях колонок — расхождения с хорошим стилем.\n",
    "\n",
    "Чтобы двигаться дальше, нужно устранить проблемы в данных."
   ]
  },
  {
   "cell_type": "markdown",
   "metadata": {
    "id": "SjYF6Ub9_Zct"
   },
   "source": [
    "## Предобработка данных\n",
    "Исправьте стиль в заголовках столбцов, исключите пропуски. Затем проверьте данные на дубликаты."
   ]
  },
  {
   "cell_type": "markdown",
   "metadata": {
    "id": "dIaKXr29_Zct"
   },
   "source": [
    "### Стиль заголовков\n",
    "Выведите на экран названия столбцов:"
   ]
  },
  {
   "cell_type": "code",
   "execution_count": 5,
   "metadata": {
    "id": "oKOTdF_Q_Zct"
   },
   "outputs": [
    {
     "data": {
      "text/plain": [
       "Index(['  userID', 'Track', 'artist', 'genre', '  City  ', 'time', 'Day'], dtype='object')"
      ]
     },
     "execution_count": 5,
     "metadata": {},
     "output_type": "execute_result"
    }
   ],
   "source": [
    "# перечень названий столбцов таблицы df\n",
    "df.columns"
   ]
  },
  {
   "cell_type": "markdown",
   "metadata": {},
   "source": [
    "<div class=\"alert alert-warning\">\n",
    "\n",
    "<b>Ревьюер: 👉</b> Метод `columns` выбран верно, но функция `display()` здесь не нужна, потому что это последняя/единственная строка. Поэтому Юпитер выведет информацию без использования функций `display()` или `print()`.\n",
    "\n",
    "</div>"
   ]
  },
  {
   "cell_type": "markdown",
   "metadata": {},
   "source": [
    "<div class=\"alert alert-success\">\n",
    "\n",
    "<b>Ревьюер v2: 👍</b> Классно, что ты исправляешь не только «красные» комментарии, но и «желтые»!\n",
    "\n",
    "</div>"
   ]
  },
  {
   "cell_type": "markdown",
   "metadata": {
    "id": "zj5534cv_Zct"
   },
   "source": [
    "Приведите названия в соответствие с хорошим стилем:\n",
    "* несколько слов в названии запишите в «змеином_регистре»,\n",
    "* все символы сделайте строчными,\n",
    "* устраните пробелы.\n",
    "\n",
    "Для этого переименуйте колонки так:\n",
    "* `'  userID'` → `'user_id'`;\n",
    "* `'Track'` → `'track'`;\n",
    "* `'  City  '` → `'city'`;\n",
    "* `'Day'` → `'day'`."
   ]
  },
  {
   "cell_type": "code",
   "execution_count": 6,
   "metadata": {
    "id": "ISlFqs5y_Zct"
   },
   "outputs": [],
   "source": [
    "# переименование столбцов\n",
    "df = df.rename(columns={'  userID': 'user_id', 'Track': 'track', '  City  ': 'city', 'Day': 'day'})"
   ]
  },
  {
   "cell_type": "markdown",
   "metadata": {},
   "source": [
    "<div class=\"alert alert-success\">\n",
    "\n",
    "<b>Ревьюер: 👍</b> Молодец! Верно, выбран метод переименования. Он удобен тем, что сработает без ошибок, даже если изменится порядок столбцов.\n",
    "\n",
    "</div>"
   ]
  },
  {
   "cell_type": "markdown",
   "metadata": {
    "id": "1dqbh00J_Zct"
   },
   "source": [
    "Проверьте результат. Для этого ещё раз выведите на экран названия столбцов:"
   ]
  },
  {
   "cell_type": "code",
   "execution_count": 7,
   "metadata": {
    "id": "d4NOAmTW_Zct"
   },
   "outputs": [
    {
     "data": {
      "text/plain": [
       "Index(['user_id', 'track', 'artist', 'genre', 'city', 'time', 'day'], dtype='object')"
      ]
     },
     "execution_count": 7,
     "metadata": {},
     "output_type": "execute_result"
    }
   ],
   "source": [
    "# проверка результатов - перечень названий столбцов\n",
    "df.columns\n",
    "# когда вижу слово выведите автоматически пишу display"
   ]
  },
  {
   "cell_type": "markdown",
   "metadata": {},
   "source": [
    "<div class=\"alert alert-warning\">\n",
    "\n",
    "<b>Ревьюер: 👉</b> Здесь тоже не нужна функция `display()`, только  `df.columns` и все. 🙂\n",
    "\n",
    "</div>"
   ]
  },
  {
   "cell_type": "markdown",
   "metadata": {},
   "source": [
    "<div class=\"alert alert-success\">\n",
    "\n",
    "<b>Ревьюер v2: 👍</b> Вижу, молодец!\n",
    "\n",
    "</div>"
   ]
  },
  {
   "cell_type": "markdown",
   "metadata": {
    "id": "5ISfbcfY_Zct"
   },
   "source": [
    "### Пропуски значений\n",
    "Сначала посчитайте, сколько в таблице пропущенных значений. Для этого достаточно двух методов `pandas`:"
   ]
  },
  {
   "cell_type": "code",
   "execution_count": 8,
   "metadata": {
    "id": "RskX29qr_Zct"
   },
   "outputs": [
    {
     "data": {
      "text/plain": [
       "user_id       0\n",
       "track      1231\n",
       "artist     7203\n",
       "genre      1198\n",
       "city          0\n",
       "time          0\n",
       "day           0\n",
       "dtype: int64"
      ]
     },
     "execution_count": 8,
     "metadata": {},
     "output_type": "execute_result"
    }
   ],
   "source": [
    "# подсчёт пропусков\n",
    "df.isna().sum()"
   ]
  },
  {
   "cell_type": "markdown",
   "metadata": {},
   "source": [
    "<div class=\"alert alert-success\">\n",
    "\n",
    "<b>Ревьюер: 👍</b> Все правильно.\n",
    "\n",
    "</div>"
   ]
  },
  {
   "cell_type": "markdown",
   "metadata": {
    "id": "qubhgnlO_Zct"
   },
   "source": [
    "Не все пропущенные значения влияют на исследование. Так в `track` и `artist` пропуски не важны для вашей работы. Достаточно заменить их явными обозначениями.\n",
    "\n",
    "Но пропуски в `genre` могут помешать сравнению музыкальных вкусов в Москве и Санкт-Петербурге. На практике было бы правильно установить причину пропусков и восстановить данные. Такой возможности нет в учебном проекте. Придётся:\n",
    "* заполнить и эти пропуски явными обозначениями,\n",
    "* оценить, насколько они повредят расчётам. "
   ]
  },
  {
   "cell_type": "markdown",
   "metadata": {
    "id": "fSv2laPA_Zct"
   },
   "source": [
    "Замените пропущенные значения в столбцах `track`, `artist` и `genre` на строку `'unknown'`. Для этого создайте список `columns_to_replace`, переберите его элементы циклом `for` и для каждого столбца выполните замену пропущенных значений:"
   ]
  },
  {
   "cell_type": "code",
   "execution_count": 9,
   "metadata": {
    "id": "KplB5qWs_Zct"
   },
   "outputs": [],
   "source": [
    "# перебор названий столбцов в цикле и замена пропущенных значений на 'unknown'\n",
    "\n",
    "columns_to_replace = ['track', 'artist','genre']\n",
    "\n",
    "for i in columns_to_replace:\n",
    "    df[i] = df[i].fillna('unknown') \n"
   ]
  },
  {
   "cell_type": "markdown",
   "metadata": {},
   "source": [
    "<div class=\"alert alert-success\">\n",
    "\n",
    "<b>Ревьюер: 👍</b> Круто, что ты формируешь список, а затем используешь его в цикле `for`. Такой код удобно читать, за счет списка и он не занимает много строк, за счет цикла.\n",
    "\n",
    "</div>"
   ]
  },
  {
   "cell_type": "markdown",
   "metadata": {
    "id": "Ilsm-MZo_Zct"
   },
   "source": [
    "Убедитесь, что в таблице не осталось пропусков. Для этого ещё раз посчитайте пропущенные значения."
   ]
  },
  {
   "cell_type": "code",
   "execution_count": 10,
   "metadata": {
    "id": "Tq4nYRX4_Zct"
   },
   "outputs": [
    {
     "data": {
      "text/plain": [
       "user_id    0\n",
       "track      0\n",
       "artist     0\n",
       "genre      0\n",
       "city       0\n",
       "time       0\n",
       "day        0\n",
       "dtype: int64"
      ]
     },
     "execution_count": 10,
     "metadata": {},
     "output_type": "execute_result"
    }
   ],
   "source": [
    "# подсчёт пропусков\n",
    "df.isna().sum()"
   ]
  },
  {
   "cell_type": "markdown",
   "metadata": {},
   "source": [
    "<div class=\"alert alert-success\">\n",
    "\n",
    "<b>Ревьюер: 👍</b> Верно. На самом деле, `isnull()` и `isna()` делают одно и то же, но использование `isna()` предпочтительнее, потому что `isnull()` – это псевдоним `isna()`.\n",
    "\n",
    "</div>"
   ]
  },
  {
   "cell_type": "markdown",
   "metadata": {
    "id": "BWKRtBJ3_Zct"
   },
   "source": [
    "### Дубликаты\n",
    "Посчитайте явные дубликаты в таблице одной командой:"
   ]
  },
  {
   "cell_type": "code",
   "execution_count": 11,
   "metadata": {
    "id": "36eES_S0_Zct"
   },
   "outputs": [
    {
     "data": {
      "text/plain": [
       "3826"
      ]
     },
     "execution_count": 11,
     "metadata": {},
     "output_type": "execute_result"
    }
   ],
   "source": [
    "# подсчёт явных дубликатов\n",
    "df.duplicated().sum()"
   ]
  },
  {
   "cell_type": "markdown",
   "metadata": {},
   "source": [
    "<div class=\"alert alert-success\">\n",
    "\n",
    "<b>Ревьюер: 👍</b> Хорошо. Ты используешь оптимальный метод для подсчета дубликатов.\n",
    "\n",
    "</div>"
   ]
  },
  {
   "cell_type": "markdown",
   "metadata": {
    "id": "Ot25h6XR_Zct"
   },
   "source": [
    "Вызовите специальный метод `pandas`, чтобы удалить явные дубликаты:"
   ]
  },
  {
   "cell_type": "code",
   "execution_count": 12,
   "metadata": {
    "id": "exFHq6tt_Zct"
   },
   "outputs": [],
   "source": [
    "# удаление явных дубликатов (с удалением старых индексов и формированием новых)\n",
    "df = df.drop_duplicates().reset_index(drop = True)\n",
    "# я видел, что метод не сработал, но хотел потом вернуться к этому моменту и забыл. Спасибо!"
   ]
  },
  {
   "cell_type": "markdown",
   "metadata": {},
   "source": [
    "<a id=\"error_2\"></a> \n",
    "<div class=\"alert alert-danger\">\n",
    "\n",
    "<b>Ревьюер: ✋</b> Методы использованы правильно, но нужно было сохранить обновленный датафрейм. Посмотри, в следующей ячейки ты делаешь проверку на дубликаты, результатом должен быть `0`. Подсказка:\n",
    "\n",
    "```py\n",
    "data.loc[data[‘column’] == value] # вывод на экран\n",
    "data  = data.loc[data[‘column’] == value] # присваивание нового значения датафрейму\n",
    "```\n",
    "\n",
    "</div>"
   ]
  },
  {
   "cell_type": "markdown",
   "metadata": {},
   "source": [
    "<div class=\"alert alert-success\">\n",
    "\n",
    "<b>Ревьюер v2: 👍</b> Все верно.\n",
    "\n",
    "</div>"
   ]
  },
  {
   "cell_type": "markdown",
   "metadata": {
    "id": "Im2YwBEG_Zct"
   },
   "source": [
    "Ещё раз посчитайте явные дубликаты в таблице — убедитесь, что полностью от них избавились:"
   ]
  },
  {
   "cell_type": "code",
   "execution_count": 13,
   "metadata": {
    "id": "-8PuNWQ0_Zct"
   },
   "outputs": [
    {
     "data": {
      "text/plain": [
       "0"
      ]
     },
     "execution_count": 13,
     "metadata": {},
     "output_type": "execute_result"
    }
   ],
   "source": [
    "# проверка на отсутствие дубликатов\n",
    "df.duplicated().sum()"
   ]
  },
  {
   "cell_type": "markdown",
   "metadata": {
    "id": "QlFBsxAr_Zct"
   },
   "source": [
    "Теперь избавьтесь от неявных дубликатов в колонке `genre`. Например, название одного и того же жанра может быть записано немного по-разному. Такие ошибки тоже повлияют на результат исследования."
   ]
  },
  {
   "cell_type": "markdown",
   "metadata": {
    "id": "eSjWwsOh_Zct"
   },
   "source": [
    "Выведите на экран список уникальных названий жанров, отсортированный в алфавитном порядке. Для этого:\n",
    "* извлеките нужный столбец датафрейма, \n",
    "* примените к нему метод сортировки,\n",
    "* для отсортированного столбца вызовите метод, который вернёт уникальные значения из столбца."
   ]
  },
  {
   "cell_type": "code",
   "execution_count": 14,
   "metadata": {
    "id": "JIUcqzZN_Zct"
   },
   "outputs": [
    {
     "data": {
      "text/plain": [
       "array(['acid', 'acoustic', 'action', 'adult', 'africa', 'afrikaans',\n",
       "       'alternative', 'alternativepunk', 'ambient', 'americana',\n",
       "       'animated', 'anime', 'arabesk', 'arabic', 'arena',\n",
       "       'argentinetango', 'art', 'audiobook', 'author', 'avantgarde',\n",
       "       'axé', 'baile', 'balkan', 'beats', 'bigroom', 'black', 'bluegrass',\n",
       "       'blues', 'bollywood', 'bossa', 'brazilian', 'breakbeat', 'breaks',\n",
       "       'broadway', 'cantautori', 'cantopop', 'canzone', 'caribbean',\n",
       "       'caucasian', 'celtic', 'chamber', 'chanson', 'children', 'chill',\n",
       "       'chinese', 'choral', 'christian', 'christmas', 'classical',\n",
       "       'classicmetal', 'club', 'colombian', 'comedy', 'conjazz',\n",
       "       'contemporary', 'country', 'cuban', 'dance', 'dancehall',\n",
       "       'dancepop', 'dark', 'death', 'deep', 'deutschrock', 'deutschspr',\n",
       "       'dirty', 'disco', 'dnb', 'documentary', 'downbeat', 'downtempo',\n",
       "       'drum', 'dub', 'dubstep', 'eastern', 'easy', 'electronic',\n",
       "       'electropop', 'emo', 'entehno', 'epicmetal', 'estrada', 'ethnic',\n",
       "       'eurofolk', 'european', 'experimental', 'extrememetal', 'fado',\n",
       "       'fairytail', 'film', 'fitness', 'flamenco', 'folk', 'folklore',\n",
       "       'folkmetal', 'folkrock', 'folktronica', 'forró', 'frankreich',\n",
       "       'französisch', 'french', 'funk', 'future', 'gangsta', 'garage',\n",
       "       'german', 'ghazal', 'gitarre', 'glitch', 'gospel', 'gothic',\n",
       "       'grime', 'grunge', 'gypsy', 'handsup', \"hard'n'heavy\", 'hardcore',\n",
       "       'hardstyle', 'hardtechno', 'hip', 'hip-hop', 'hiphop',\n",
       "       'historisch', 'holiday', 'hop', 'horror', 'house', 'hymn', 'idm',\n",
       "       'independent', 'indian', 'indie', 'indipop', 'industrial',\n",
       "       'inspirational', 'instrumental', 'international', 'irish', 'jam',\n",
       "       'japanese', 'jazz', 'jewish', 'jpop', 'jungle', 'k-pop',\n",
       "       'karadeniz', 'karaoke', 'kayokyoku', 'korean', 'laiko', 'latin',\n",
       "       'latino', 'leftfield', 'local', 'lounge', 'loungeelectronic',\n",
       "       'lovers', 'malaysian', 'mandopop', 'marschmusik', 'meditative',\n",
       "       'mediterranean', 'melodic', 'metal', 'metalcore', 'mexican',\n",
       "       'middle', 'minimal', 'miscellaneous', 'modern', 'mood', 'mpb',\n",
       "       'muslim', 'native', 'neoklassik', 'neue', 'new', 'newage',\n",
       "       'newwave', 'nu', 'nujazz', 'numetal', 'oceania', 'old', 'opera',\n",
       "       'orchestral', 'other', 'piano', 'podcasts', 'pop', 'popdance',\n",
       "       'popelectronic', 'popeurodance', 'poprussian', 'post',\n",
       "       'posthardcore', 'postrock', 'power', 'progmetal', 'progressive',\n",
       "       'psychedelic', 'punjabi', 'punk', 'quebecois', 'ragga', 'ram',\n",
       "       'rancheras', 'rap', 'rave', 'reggae', 'reggaeton', 'regional',\n",
       "       'relax', 'religious', 'retro', 'rhythm', 'rnb', 'rnr', 'rock',\n",
       "       'rockabilly', 'rockalternative', 'rockindie', 'rockother',\n",
       "       'romance', 'roots', 'ruspop', 'rusrap', 'rusrock', 'russian',\n",
       "       'salsa', 'samba', 'scenic', 'schlager', 'self', 'sertanejo',\n",
       "       'shanson', 'shoegazing', 'showtunes', 'singer', 'ska', 'skarock',\n",
       "       'slow', 'smooth', 'soft', 'soul', 'soulful', 'sound', 'soundtrack',\n",
       "       'southern', 'specialty', 'speech', 'spiritual', 'sport',\n",
       "       'stonerrock', 'surf', 'swing', 'synthpop', 'synthrock',\n",
       "       'sängerportrait', 'tango', 'tanzorchester', 'taraftar', 'tatar',\n",
       "       'tech', 'techno', 'teen', 'thrash', 'top', 'traditional',\n",
       "       'tradjazz', 'trance', 'tribal', 'trip', 'triphop', 'tropical',\n",
       "       'türk', 'türkçe', 'ukrrock', 'unknown', 'urban', 'uzbek',\n",
       "       'variété', 'vi', 'videogame', 'vocal', 'western', 'world',\n",
       "       'worldbeat', 'ïîï', 'электроника'], dtype=object)"
      ]
     },
     "execution_count": 14,
     "metadata": {},
     "output_type": "execute_result"
    }
   ],
   "source": [
    "# Просмотр уникальных названий жанров\n",
    "df['genre'].sort_values().unique()\n",
    "# не заметил что сперва нужно было отсортировать. Исправлено."
   ]
  },
  {
   "cell_type": "markdown",
   "metadata": {},
   "source": [
    "<a id=\"error_3\"></a> \n",
    "<div class=\"alert alert-danger\">\n",
    "\n",
    "<b>Ревьюер: ✋</b> Здесь нужно было применить метод, сортирующий значения. Подсказка:\n",
    "    \n",
    "Для сортировки датафрейма используется метод ` sort_values()`.\n",
    "\n",
    "</div>"
   ]
  },
  {
   "cell_type": "markdown",
   "metadata": {},
   "source": [
    "<div class=\"alert alert-success\">\n",
    "\n",
    "<b>Ревьюер v2: 👍</b> Супер.\n",
    "\n",
    "</div>"
   ]
  },
  {
   "cell_type": "markdown",
   "metadata": {
    "id": "qej-Qmuo_Zct"
   },
   "source": [
    "Просмотрите список и найдите неявные дубликаты названия `hiphop`. Это могут быть названия с ошибками или альтернативные названия того же жанра.\n",
    "\n",
    "Вы увидите следующие неявные дубликаты:\n",
    "* *hip*,\n",
    "* *hop*,\n",
    "* *hip-hop*.\n",
    "\n",
    "Чтобы очистить от них таблицу, напишите функцию `replace_wrong_genres()` с двумя параметрами: \n",
    "* `wrong_genres` — список дубликатов,\n",
    "* `correct_genre` — строка с правильным значением.\n",
    "\n",
    "Функция должна исправить колонку `genre` в таблице `df`: заменить каждое значение из списка `wrong_genres` на значение из `correct_genre`."
   ]
  },
  {
   "cell_type": "code",
   "execution_count": 15,
   "metadata": {
    "id": "ErNDkmns_Zct"
   },
   "outputs": [],
   "source": [
    "# Функция для замены неявных дубликатов\n",
    "\n",
    "def replace_wrong_genres(wrong_genres, correct_genre):\n",
    "    for wrong_genre in wrong_genres:\n",
    "        df['genre']=df['genre'].replace(wrong_genres, correct_genre) \n",
    "# внимательность не мой конек (. Подскажи почему цикл работал не смотря на неправильную переменную?\n",
    "# Исправлено!\n"
   ]
  },
  {
   "cell_type": "markdown",
   "metadata": {},
   "source": [
    "<div class=\"alert alert-success\">\n",
    "\n",
    "<b>Ревьюер v4: 👍</b> О, нашел вопрос!\n",
    "\n",
    "Цикл работал некорректно, но работал потому что `wrong_genres` конечно были в `wrong_genres`, ведь это одно и тоже. Например, `а` есть в `абвгд` и `абвгд` есть в `абвгд`.\n",
    "\n",
    "\n",
    "</div>"
   ]
  },
  {
   "cell_type": "markdown",
   "metadata": {},
   "source": [
    "<a id=\"error_4\"></a> \n",
    "<div class=\"alert alert-danger\">\n",
    "\n",
    "<b>Ревьюер: ✋</b> В цикле есть ошибка, смотри:\n",
    "\n",
    "```py\n",
    "...\n",
    "for значение in значениях:\n",
    "...\n",
    "```\n",
    "\n",
    "</div>"
   ]
  },
  {
   "cell_type": "markdown",
   "metadata": {},
   "source": [
    "<div class=\"alert alert-success\">\n",
    "\n",
    "<b>Ревьюер v2: 👍</b> Ты понял в чем ошибка, отлично.\n",
    "\n",
    "</div>"
   ]
  },
  {
   "cell_type": "markdown",
   "metadata": {},
   "source": [
    "<div class=\"alert alert-danger\">\n",
    "\n",
    "<b>Ревьюер: ✋</b> Андрей, из-за того, что в датафрейме (таблице) остались дубликаты, в дальнейших вычислениях будут ошибки. Исправь критические ошибки и продолжим исследование. Для удобства поиска я добавил тебе ссылки.\n",
    "\n",
    "* [Ответь на вопрос](#error_1)\n",
    "* [Сохрани обновленный датафрейм](#error_2)\n",
    "* [Отсортируй уникальные значения](#error_3)\n",
    "* [Переименуй переменную в цикле](#error_4)\n",
    "    \n",
    "Будет здорово, если задашь интересующие тебя вопросы. Буду рад помочь!\n",
    "\n",
    "</div>\n"
   ]
  },
  {
   "cell_type": "markdown",
   "metadata": {
    "id": "aDoBJxbA_Zct"
   },
   "source": [
    "Вызовите `replace_wrong_genres()` и передайте ей такие аргументы, чтобы она устранила неявные дубликаты: вместо `hip`, `hop` и `hip-hop` в таблице должно быть значение `hiphop`:"
   ]
  },
  {
   "cell_type": "code",
   "execution_count": 16,
   "metadata": {
    "id": "YN5i2hpmSo09"
   },
   "outputs": [],
   "source": [
    "# Устранение неявных дубликатов\n",
    "wrong_genres = ['hip', 'hop','hip-hop']\n",
    "correct_genre = 'hiphop'\n",
    "replace_wrong_genres(wrong_genres, correct_genre)"
   ]
  },
  {
   "cell_type": "markdown",
   "metadata": {
    "id": "zQKF16_RG15m"
   },
   "source": [
    "Проверьте, что заменили неправильные названия:\n",
    "\n",
    "*   hip\n",
    "*   hop\n",
    "*   hip-hop\n",
    "\n",
    "Выведите отсортированный список уникальных значений столбца `genre`:"
   ]
  },
  {
   "cell_type": "code",
   "execution_count": 17,
   "metadata": {
    "id": "wvixALnFG15m"
   },
   "outputs": [
    {
     "data": {
      "text/plain": [
       "array(['acid', 'acoustic', 'action', 'adult', 'africa', 'afrikaans',\n",
       "       'alternative', 'alternativepunk', 'ambient', 'americana',\n",
       "       'animated', 'anime', 'arabesk', 'arabic', 'arena',\n",
       "       'argentinetango', 'art', 'audiobook', 'author', 'avantgarde',\n",
       "       'axé', 'baile', 'balkan', 'beats', 'bigroom', 'black', 'bluegrass',\n",
       "       'blues', 'bollywood', 'bossa', 'brazilian', 'breakbeat', 'breaks',\n",
       "       'broadway', 'cantautori', 'cantopop', 'canzone', 'caribbean',\n",
       "       'caucasian', 'celtic', 'chamber', 'chanson', 'children', 'chill',\n",
       "       'chinese', 'choral', 'christian', 'christmas', 'classical',\n",
       "       'classicmetal', 'club', 'colombian', 'comedy', 'conjazz',\n",
       "       'contemporary', 'country', 'cuban', 'dance', 'dancehall',\n",
       "       'dancepop', 'dark', 'death', 'deep', 'deutschrock', 'deutschspr',\n",
       "       'dirty', 'disco', 'dnb', 'documentary', 'downbeat', 'downtempo',\n",
       "       'drum', 'dub', 'dubstep', 'eastern', 'easy', 'electronic',\n",
       "       'electropop', 'emo', 'entehno', 'epicmetal', 'estrada', 'ethnic',\n",
       "       'eurofolk', 'european', 'experimental', 'extrememetal', 'fado',\n",
       "       'fairytail', 'film', 'fitness', 'flamenco', 'folk', 'folklore',\n",
       "       'folkmetal', 'folkrock', 'folktronica', 'forró', 'frankreich',\n",
       "       'französisch', 'french', 'funk', 'future', 'gangsta', 'garage',\n",
       "       'german', 'ghazal', 'gitarre', 'glitch', 'gospel', 'gothic',\n",
       "       'grime', 'grunge', 'gypsy', 'handsup', \"hard'n'heavy\", 'hardcore',\n",
       "       'hardstyle', 'hardtechno', 'hiphop', 'historisch', 'holiday',\n",
       "       'horror', 'house', 'hymn', 'idm', 'independent', 'indian', 'indie',\n",
       "       'indipop', 'industrial', 'inspirational', 'instrumental',\n",
       "       'international', 'irish', 'jam', 'japanese', 'jazz', 'jewish',\n",
       "       'jpop', 'jungle', 'k-pop', 'karadeniz', 'karaoke', 'kayokyoku',\n",
       "       'korean', 'laiko', 'latin', 'latino', 'leftfield', 'local',\n",
       "       'lounge', 'loungeelectronic', 'lovers', 'malaysian', 'mandopop',\n",
       "       'marschmusik', 'meditative', 'mediterranean', 'melodic', 'metal',\n",
       "       'metalcore', 'mexican', 'middle', 'minimal', 'miscellaneous',\n",
       "       'modern', 'mood', 'mpb', 'muslim', 'native', 'neoklassik', 'neue',\n",
       "       'new', 'newage', 'newwave', 'nu', 'nujazz', 'numetal', 'oceania',\n",
       "       'old', 'opera', 'orchestral', 'other', 'piano', 'podcasts', 'pop',\n",
       "       'popdance', 'popelectronic', 'popeurodance', 'poprussian', 'post',\n",
       "       'posthardcore', 'postrock', 'power', 'progmetal', 'progressive',\n",
       "       'psychedelic', 'punjabi', 'punk', 'quebecois', 'ragga', 'ram',\n",
       "       'rancheras', 'rap', 'rave', 'reggae', 'reggaeton', 'regional',\n",
       "       'relax', 'religious', 'retro', 'rhythm', 'rnb', 'rnr', 'rock',\n",
       "       'rockabilly', 'rockalternative', 'rockindie', 'rockother',\n",
       "       'romance', 'roots', 'ruspop', 'rusrap', 'rusrock', 'russian',\n",
       "       'salsa', 'samba', 'scenic', 'schlager', 'self', 'sertanejo',\n",
       "       'shanson', 'shoegazing', 'showtunes', 'singer', 'ska', 'skarock',\n",
       "       'slow', 'smooth', 'soft', 'soul', 'soulful', 'sound', 'soundtrack',\n",
       "       'southern', 'specialty', 'speech', 'spiritual', 'sport',\n",
       "       'stonerrock', 'surf', 'swing', 'synthpop', 'synthrock',\n",
       "       'sängerportrait', 'tango', 'tanzorchester', 'taraftar', 'tatar',\n",
       "       'tech', 'techno', 'teen', 'thrash', 'top', 'traditional',\n",
       "       'tradjazz', 'trance', 'tribal', 'trip', 'triphop', 'tropical',\n",
       "       'türk', 'türkçe', 'ukrrock', 'unknown', 'urban', 'uzbek',\n",
       "       'variété', 'vi', 'videogame', 'vocal', 'western', 'world',\n",
       "       'worldbeat', 'ïîï', 'электроника'], dtype=object)"
      ]
     },
     "execution_count": 17,
     "metadata": {},
     "output_type": "execute_result"
    }
   ],
   "source": [
    "# Проверка на неявные дубликаты\n",
    "df['genre'].sort_values().unique()"
   ]
  },
  {
   "cell_type": "markdown",
   "metadata": {},
   "source": [
    "<div class=\"alert alert-success\">\n",
    "\n",
    "<b>Ревьюер v2: 👍</b> Нет дубликатов – нет проблем.\n",
    "\n",
    "</div>"
   ]
  },
  {
   "cell_type": "markdown",
   "metadata": {
    "id": "jz6a9-7HQUDd"
   },
   "source": [
    "**Выводы**\n",
    "\n",
    "Предобработка обнаружила три проблемы в данных:\n",
    "\n",
    "- нарушения в стиле заголовков,\n",
    "- пропущенные значения,\n",
    "- дубликаты — явные и неявные.\n",
    "\n",
    "Вы исправили заголовки, чтобы упростить работу с таблицей. Без дубликатов исследование станет более точным.\n",
    "\n",
    "Пропущенные значения вы заменили на `'unknown'`. Ещё предстоит увидеть, не повредят ли исследованию пропуски в колонке `genre`.\n",
    "\n",
    "Теперь можно перейти к проверке гипотез. "
   ]
  },
  {
   "cell_type": "markdown",
   "metadata": {
    "id": "WttZHXH0SqKk"
   },
   "source": [
    "## Проверка гипотез"
   ]
  },
  {
   "cell_type": "markdown",
   "metadata": {
    "id": "Im936VVi_Zcu"
   },
   "source": [
    "### Сравнение поведения пользователей двух столиц"
   ]
  },
  {
   "cell_type": "markdown",
   "metadata": {
    "id": "nwt_MuaL_Zcu"
   },
   "source": [
    "Первая гипотеза утверждает, что пользователи по-разному слушают музыку в Москве и Санкт-Петербурге. Проверьте это предположение по данным о трёх днях недели — понедельнике, среде и пятнице. Для этого:\n",
    "\n",
    "* Разделите пользователей Москвы и Санкт-Петербурга\n",
    "* Сравните, сколько треков послушала каждая группа пользователей в понедельник, среду и пятницу.\n"
   ]
  },
  {
   "cell_type": "markdown",
   "metadata": {
    "id": "8Dw_YMmT_Zcu"
   },
   "source": [
    "Для тренировки сначала выполните каждый из расчётов по отдельности. \n",
    "\n",
    "Оцените активность пользователей в каждом городе. Сгруппируйте данные по городу и посчитайте прослушивания в каждой группе.\n",
    "\n"
   ]
  },
  {
   "cell_type": "code",
   "execution_count": 18,
   "metadata": {
    "id": "0_Qs96oh_Zcu"
   },
   "outputs": [
    {
     "data": {
      "text/plain": [
       "city\n",
       "Moscow              42741\n",
       "Saint-Petersburg    18512\n",
       "Name: genre, dtype: int64"
      ]
     },
     "execution_count": 18,
     "metadata": {},
     "output_type": "execute_result"
    }
   ],
   "source": [
    "# Подсчёт прослушиваний в каждом городе\n",
    "df.groupby('city')['genre'].count()\n",
    "\n"
   ]
  },
  {
   "cell_type": "markdown",
   "metadata": {},
   "source": [
    "<a id=\"error_2_2\"></a> \n",
    "<div class=\"alert alert-danger\">\n",
    "    \n",
    "<b>Ревьюер v2: ✋</b> Здесь нужно сгруппировать данные по городу воспользовавшись методом `groupby()`.\n",
    "    \n",
    "</div>"
   ]
  },
  {
   "cell_type": "markdown",
   "metadata": {},
   "source": [
    "<a id=\"error_3_2\"></a> \n",
    "<div class=\"alert alert-danger\">\n",
    "    \n",
    "<b>Ревьюер v3: ✋</b> Между группировкой по столбцу `city` и вызовом метода `count()` нужно выбрать какой-нибудь из столбцов получившегося сгруппированного объекта, иначе в итоговой таблице будет несколько одинаковых столбцов.\n",
    "\n",
    "Например: `df.groupby('day')['genre'].count()`\n",
    "</div>"
   ]
  },
  {
   "cell_type": "markdown",
   "metadata": {},
   "source": [
    "<div class=\"alert alert-success\">\n",
    "\n",
    "<b>Ревьюер v4: 👍</b> Отлично!\n",
    "\n",
    "</div>"
   ]
  },
  {
   "cell_type": "markdown",
   "metadata": {
    "id": "dzli3w8o_Zcu"
   },
   "source": [
    "В Москве прослушиваний больше, чем в Петербурге. Из этого не следует, что московские пользователи чаще слушают музыку. Просто самих пользователей в Москве больше.\n",
    "\n",
    "Теперь сгруппируйте данные по дню недели и подсчитайте прослушивания в понедельник, среду и пятницу. Учтите, что в данных есть информация только о прослушиваниях только за эти дни.\n"
   ]
  },
  {
   "cell_type": "code",
   "execution_count": 19,
   "metadata": {
    "id": "uZMKjiJz_Zcu"
   },
   "outputs": [
    {
     "data": {
      "text/plain": [
       "day\n",
       "Friday       21840\n",
       "Monday       21354\n",
       "Wednesday    18059\n",
       "Name: genre, dtype: int64"
      ]
     },
     "execution_count": 19,
     "metadata": {},
     "output_type": "execute_result"
    }
   ],
   "source": [
    "# Подсчёт прослушиваний в каждый из трёх дней\n",
    "df.groupby('day')['genre'].count()\n",
    "#Исправил"
   ]
  },
  {
   "cell_type": "markdown",
   "metadata": {},
   "source": [
    "<a id=\"error_2_3\"></a> \n",
    "<div class=\"alert alert-danger\">\n",
    "    \n",
    "<b>Ревьюер v2: ✋</b> В этой ячейке тоже используй `groupby()`.\n",
    "    \n",
    "</div>"
   ]
  },
  {
   "cell_type": "markdown",
   "metadata": {},
   "source": [
    "<a id=\"error_3_3\"></a> \n",
    "<div class=\"alert alert-danger\">\n",
    "    \n",
    "<b>Ревьюер v3: ✋</b> Между группировкой по столбцу `day` и вызовом метода `count()` нужно выбрать какой-нибудь из столбцов получившегося сгруппированного объекта, иначе в итоговой таблице будет несколько одинаковых столбцов.\n",
    "    \n",
    "</div>"
   ]
  },
  {
   "cell_type": "markdown",
   "metadata": {},
   "source": [
    "<div class=\"alert alert-success\">\n",
    "\n",
    "<b>Ревьюер v4: 👍</b> Отлично v2!\n",
    "\n",
    "</div>"
   ]
  },
  {
   "cell_type": "markdown",
   "metadata": {
    "id": "cC2tNrlL_Zcu"
   },
   "source": [
    "В среднем пользователи из двух городов менее активны по средам. Но картина может измениться, если рассмотреть каждый город в отдельности."
   ]
  },
  {
   "cell_type": "markdown",
   "metadata": {
    "id": "POzs8bGa_Zcu"
   },
   "source": [
    "Вы видели, как работает группировка по городу и по дням недели. Теперь напишите функцию, которая объединит два эти расчёта.\n",
    "\n",
    "Создайте функцию `number_tracks()`, которая посчитает прослушивания для заданного дня и города. Ей понадобятся два параметра:\n",
    "* день недели,\n",
    "* название города.\n",
    "\n",
    "В функции сохраните в переменную строки исходной таблицы, у которых значение:\n",
    "  * в колонке `day` равно параметру `day`,\n",
    "  * в колонке `city` равно параметру `city`.\n",
    "\n",
    "Для этого примените последовательную фильтрацию с логической индексацией.\n",
    "\n",
    "Затем посчитайте значения в столбце `user_id` получившейся таблицы. Результат сохраните в новую переменную. Верните эту переменную из функции."
   ]
  },
  {
   "cell_type": "code",
   "execution_count": 20,
   "metadata": {
    "id": "Nz3GdQB1_Zcu"
   },
   "outputs": [],
   "source": [
    "# <создание функции number_tracks()>\n",
    "\n",
    "# Объявляется функция с двумя параметрами: day, city.\n",
    "def number_tracks(day, city):      \n",
    "  \n",
    "# В переменной track_list сохраняются те строки таблицы df, для которых \n",
    "# значение в столбце 'day' равно параметру day и одновременно значение\n",
    "# в столбце 'city' равно параметру city (используйте последовательную фильтрацию\n",
    "# с помощью логической индексации).\n",
    "    track_list = df[(df['day'] == day) & (df['city'] == city)]\n",
    "    \n",
    "# В переменной track_list_count сохраняется число значений столбца 'user_id',\n",
    "# рассчитанное методом count() для таблицы track_list.\n",
    "    track_list_count = track_list['user_id'].count()\n",
    "    \n",
    "# Функция возвращает число - значение track_list_count.\n",
    "    return track_list_count\n",
    " \n",
    "#Функция для подсчёта прослушиваний для конкретного города и дня.\n",
    "##сначала получит из исходной таблицы строки с нужным днём,\n",
    "#затем из результата отфильтрует строки с нужным городом,\n",
    "#методом count() посчитает количество значений в колонке user_id. \n",
    "#Это количество функция вернёт в качестве результата\n"
   ]
  },
  {
   "cell_type": "markdown",
   "metadata": {},
   "source": [
    "<div class=\"alert alert-success\">\n",
    "\n",
    "<b>Ревьюер: 👍</b> Функция полностью выполняет поставленную перед ней задачу.  \n",
    "Хорошо, что остался комментарий к своей функции. Это поможет не только другим аналитикам узнать, что она делает, но и тебе, спустя время вспомнить. Ниже я привел пример, как комментировать функции.  \n",
    "```py\n",
    "def number_tracks(day, city):\n",
    "\n",
    "    \"\"\"\n",
    "    Функция для подсчёта прослушиваний для конкретного города и дня.\n",
    "    С помощью последовательной фильтрации с логической индексацией она…\n",
    "    \"\"\"\n",
    "    \n",
    "    track_list = df[df['day'] == day]\n",
    "    ...\n",
    "```\n",
    "\n",
    "</div>"
   ]
  },
  {
   "cell_type": "markdown",
   "metadata": {
    "id": "ytf7xFrFJQ2r"
   },
   "source": [
    "Вызовите `number_tracks()` шесть раз, меняя значение параметров — так, чтобы получить данные для каждого города в каждый из трёх дней."
   ]
  },
  {
   "cell_type": "code",
   "execution_count": 21,
   "metadata": {
    "id": "rJcRATNQ_Zcu"
   },
   "outputs": [
    {
     "data": {
      "text/plain": [
       "15740"
      ]
     },
     "execution_count": 21,
     "metadata": {},
     "output_type": "execute_result"
    }
   ],
   "source": [
    "# количество прослушиваний в Москве по понедельникам\n",
    "number_tracks('Monday', 'Moscow')"
   ]
  },
  {
   "cell_type": "code",
   "execution_count": 22,
   "metadata": {
    "id": "hq_ncZ5T_Zcu"
   },
   "outputs": [
    {
     "data": {
      "text/plain": [
       "5614"
      ]
     },
     "execution_count": 22,
     "metadata": {},
     "output_type": "execute_result"
    }
   ],
   "source": [
    "# количество прослушиваний в Санкт-Петербурге по понедельникам\n",
    "number_tracks('Monday', 'Saint-Petersburg')"
   ]
  },
  {
   "cell_type": "code",
   "execution_count": 23,
   "metadata": {
    "id": "_NTy2VPU_Zcu"
   },
   "outputs": [
    {
     "data": {
      "text/plain": [
       "11056"
      ]
     },
     "execution_count": 23,
     "metadata": {},
     "output_type": "execute_result"
    }
   ],
   "source": [
    "# количество прослушиваний в Москве по средам\n",
    "number_tracks('Wednesday', 'Moscow')"
   ]
  },
  {
   "cell_type": "code",
   "execution_count": 24,
   "metadata": {
    "id": "j2y3TAwo_Zcu"
   },
   "outputs": [
    {
     "data": {
      "text/plain": [
       "7003"
      ]
     },
     "execution_count": 24,
     "metadata": {},
     "output_type": "execute_result"
    }
   ],
   "source": [
    "# количество прослушиваний в Санкт-Петербурге по средам\n",
    "number_tracks('Wednesday', 'Saint-Petersburg')"
   ]
  },
  {
   "cell_type": "code",
   "execution_count": 25,
   "metadata": {
    "id": "vYDw5u_K_Zcu"
   },
   "outputs": [
    {
     "data": {
      "text/plain": [
       "15945"
      ]
     },
     "execution_count": 25,
     "metadata": {},
     "output_type": "execute_result"
    }
   ],
   "source": [
    "# количество прослушиваний в Москве по пятницам\n",
    "number_tracks('Friday', 'Moscow')"
   ]
  },
  {
   "cell_type": "code",
   "execution_count": 26,
   "metadata": {
    "id": "8_yzFtW3_Zcu"
   },
   "outputs": [
    {
     "data": {
      "text/plain": [
       "5895"
      ]
     },
     "execution_count": 26,
     "metadata": {},
     "output_type": "execute_result"
    }
   ],
   "source": [
    "# количество прослушиваний в Санкт-Петербурге по пятницам\n",
    "number_tracks('Friday', 'Saint-Petersburg')"
   ]
  },
  {
   "cell_type": "markdown",
   "metadata": {},
   "source": [
    "<div class=\"alert alert-success\">\n",
    "\n",
    "<b>Ревьюер: 👍</b> Круто, данных для финального вывода становится больше. Пазл складывается в картинку!\n",
    "\n",
    "</div>"
   ]
  },
  {
   "cell_type": "markdown",
   "metadata": {
    "id": "7QXffbO-_Zcu"
   },
   "source": [
    "Создайте c помощью конструктора `pd.DataFrame` таблицу, где\n",
    "* названия колонок — `['city', 'monday', 'wednesday', 'friday']`;\n",
    "* данные — результаты, которые вы получили с помощью `number_tracks`."
   ]
  },
  {
   "cell_type": "code",
   "execution_count": 27,
   "metadata": {
    "id": "APAcLpOr_Zcu"
   },
   "outputs": [
    {
     "data": {
      "text/html": [
       "<div>\n",
       "<style scoped>\n",
       "    .dataframe tbody tr th:only-of-type {\n",
       "        vertical-align: middle;\n",
       "    }\n",
       "\n",
       "    .dataframe tbody tr th {\n",
       "        vertical-align: top;\n",
       "    }\n",
       "\n",
       "    .dataframe thead th {\n",
       "        text-align: right;\n",
       "    }\n",
       "</style>\n",
       "<table border=\"1\" class=\"dataframe\">\n",
       "  <thead>\n",
       "    <tr style=\"text-align: right;\">\n",
       "      <th></th>\n",
       "      <th>city</th>\n",
       "      <th>monday</th>\n",
       "      <th>wednesday</th>\n",
       "      <th>friday</th>\n",
       "    </tr>\n",
       "  </thead>\n",
       "  <tbody>\n",
       "    <tr>\n",
       "      <td>0</td>\n",
       "      <td>Moscow</td>\n",
       "      <td>15740</td>\n",
       "      <td>11056</td>\n",
       "      <td>15945</td>\n",
       "    </tr>\n",
       "    <tr>\n",
       "      <td>1</td>\n",
       "      <td>Saint-Petersburg</td>\n",
       "      <td>5614</td>\n",
       "      <td>7003</td>\n",
       "      <td>5895</td>\n",
       "    </tr>\n",
       "  </tbody>\n",
       "</table>\n",
       "</div>"
      ],
      "text/plain": [
       "               city  monday  wednesday  friday\n",
       "0            Moscow   15740      11056   15945\n",
       "1  Saint-Petersburg    5614       7003    5895"
      ]
     },
     "metadata": {},
     "output_type": "display_data"
    }
   ],
   "source": [
    "# Таблица с результатами\n",
    "columns = ['city', 'monday', 'wednesday', 'friday']\n",
    "data = [['Moscow', 15740, 11056, 15945],['Saint-Petersburg', 5614, 7003, 5895]]\n",
    "table = pd.DataFrame(data = data, columns = columns)\n",
    "display(table)\n",
    "#таблица создана с учетом того, что дубликаты были удалены"
   ]
  },
  {
   "cell_type": "markdown",
   "metadata": {},
   "source": [
    "<div class=\"alert alert-success\">\n",
    "\n",
    "<b>Ревьюер: 👍</b> Хорошо, что ты умеешь объявлять датафрейм, а еще что пишешь код, который удобно читать.\n",
    "\n",
    "</div>"
   ]
  },
  {
   "cell_type": "markdown",
   "metadata": {
    "id": "-EgPIHYu_Zcu"
   },
   "source": [
    "**Выводы**\n",
    "\n",
    "Данные показывают разницу поведения пользователей:\n",
    "\n",
    "- В Москве пик прослушиваний приходится на понедельник и пятницу, а в среду заметен спад.\n",
    "- В Петербурге, наоборот, больше слушают музыку по средам. Активность в понедельник и пятницу здесь почти в равной мере уступает среде.\n",
    "\n",
    "Значит, данные говорят в пользу первой гипотезы."
   ]
  },
  {
   "cell_type": "markdown",
   "metadata": {
    "id": "atZAxtq4_Zcu"
   },
   "source": [
    "### Музыка в начале и в конце недели"
   ]
  },
  {
   "cell_type": "markdown",
   "metadata": {
    "id": "eXrQqXFH_Zcu"
   },
   "source": [
    "Согласно второй гипотезе, утром в понедельник в Москве преобладают одни жанры, а в Петербурге — другие. Так же и вечером пятницы преобладают разные жанры — в зависимости от города."
   ]
  },
  {
   "cell_type": "markdown",
   "metadata": {
    "id": "S8UcW6Hw_Zcu"
   },
   "source": [
    "Сохраните таблицы с данными в две переменные:\n",
    "* по Москве — в `moscow_general`;\n",
    "* по Санкт-Петербургу — в `spb_general`."
   ]
  },
  {
   "cell_type": "code",
   "execution_count": 28,
   "metadata": {
    "id": "qeaFfM_P_Zcu"
   },
   "outputs": [],
   "source": [
    "# получение таблицы moscow_general из тех строк таблицы df, \n",
    "# для которых значение в столбце 'city' равно 'Moscow'\n",
    "moscow_general = df[df['city'] == 'Moscow']\n"
   ]
  },
  {
   "cell_type": "code",
   "execution_count": 29,
   "metadata": {
    "id": "ORaVRKto_Zcu"
   },
   "outputs": [],
   "source": [
    "# получение таблицы spb_general из тех строк таблицы df,\n",
    "# для которых значение в столбце 'city' равно 'Saint-Petersburg'\n",
    "spb_general = df[df['city'] == 'Saint-Petersburg']\n"
   ]
  },
  {
   "cell_type": "markdown",
   "metadata": {},
   "source": [
    "<div class=\"alert alert-success\">\n",
    "\n",
    "<b>Ревьюер: 👍</b> Правильно. Логическая индексация в деле. 😉\n",
    "\n",
    "</div>"
   ]
  },
  {
   "cell_type": "markdown",
   "metadata": {
    "id": "MEJV-CX2_Zcu"
   },
   "source": [
    "Создайте функцию `genre_weekday()` с четырьмя параметрами:\n",
    "* таблица (датафрейм) с данными,\n",
    "* день недели,\n",
    "* начальная временная метка в формате 'hh:mm', \n",
    "* последняя временная метка в формате 'hh:mm'.\n",
    "\n",
    "Функция должна вернуть информацию о топ-10 жанров тех треков, которые прослушивали в указанный день, в промежутке между двумя отметками времени."
   ]
  },
  {
   "cell_type": "code",
   "execution_count": 30,
   "metadata": {
    "id": "laJT9BYl_Zcu"
   },
   "outputs": [],
   "source": [
    "# Объявление функции genre_weekday() с параметрами table, day, time1, time2,\n",
    "# которая возвращает информацию о самых популярных жанрах в указанный день в\n",
    "# заданное время:\n",
    "def genre_weekday(table, day, time1, time2):\n",
    "    \n",
    "# 1) в переменную genre_df сохраняются те строки переданного датафрейма table, для\n",
    "#    которых одновременно: \n",
    "#    - значение в столбце day равно значению аргумента day\n",
    "#    - значение в столбце time больше значения аргумента time1 \n",
    "#    - значение в столбце time меньше значения аргумента time2\n",
    "#    Используйте последовательную фильтрацию с помощью логической индексации.\n",
    "    genre_df = table[(table['day']==day) & (table['time']>time1) & (table['time']<time2)]\n",
    "    \n",
    "\n",
    "# 2) сгруппировать датафрейм genre_df по столбцу genre, взять один из его\n",
    "#    столбцов и посчитать методом count() количество записей для каждого из\n",
    "#    присутствующих жанров, получившийся Series записать в переменную\n",
    "#    genre_df_count\n",
    "    genre_df_count = genre_df.groupby('genre')['genre'].count()\n",
    "    \n",
    "# 3) отсортировать genre_df_count по убыванию встречаемости и сохранить\n",
    "#    в переменную genre_df_sorted\n",
    "    genre_df_sorted = genre_df_count.sort_values(ascending = False)\n",
    "# 4) вернуть Series из 10 первых значений genre_df_sorted, это будут топ-10\n",
    "#    популярных жанров (в указанный день, в заданное время)\n",
    "    return genre_df_sorted.head(10)\n",
    "\n",
    "\n",
    "# Исправлено\n",
    "\n"
   ]
  },
  {
   "cell_type": "markdown",
   "metadata": {},
   "source": [
    "<a id=\"error_2_4\"></a>\n",
    "<div class=\"alert alert-danger\">\n",
    "\n",
    "<b>Ревьюер: ✋</b> Между группировкой по столбцу и вызовом метода `count()` нужно выбрать какой-нибудь из столбцов получившегося сгруппированного объекта, иначе в итоговой таблице будет несколько одинаковых столбцов.\n",
    "    \n",
    "А поскольку группировку мы сделали по одному столбцу, то и аргумент `by = 'genre'` нужно убрать.\n",
    "    \n",
    "Подсказка:\n",
    "```py\n",
    "    genre_df_count = genre_df.groupby('genre')['genre'].count()\n",
    "    genre_df_sorted = genre_df_count.sort_values(ascending = False)\n",
    "```\n",
    "\n",
    "</div>"
   ]
  },
  {
   "cell_type": "markdown",
   "metadata": {
    "id": "la2s2_PF_Zcu"
   },
   "source": [
    "Cравните результаты функции `genre_weekday()` для Москвы и Санкт-Петербурга в понедельник утром (с 7:00 до 11:00) и в пятницу вечером (с 17:00 до 23:00):"
   ]
  },
  {
   "cell_type": "code",
   "execution_count": 31,
   "metadata": {
    "id": "yz7itPUQ_Zcu"
   },
   "outputs": [
    {
     "data": {
      "text/plain": [
       "genre\n",
       "pop            781\n",
       "dance          549\n",
       "electronic     480\n",
       "rock           474\n",
       "hiphop         286\n",
       "ruspop         186\n",
       "world          181\n",
       "rusrap         175\n",
       "alternative    164\n",
       "unknown        161\n",
       "Name: genre, dtype: int64"
      ]
     },
     "execution_count": 31,
     "metadata": {},
     "output_type": "execute_result"
    }
   ],
   "source": [
    "# вызов функции для утра понедельника в Москве (вместо df — таблица moscow_general)\n",
    "# объекты, хранящие время, являются строками и сравниваются как строки\n",
    "# пример вызова: genre_weekday(moscow_general, 'Monday', '07:00', '11:00')\n",
    "#Cравниваем полученные результаты по таблице для Москвы и Санкт-Петербурга в понедельник утром (с 7 до 11) и в пятницу вечером (с 17 до 23).\n",
    "genre_weekday(moscow_general, 'Monday', '07:00:00', '11:00:00')"
   ]
  },
  {
   "cell_type": "code",
   "execution_count": 32,
   "metadata": {
    "id": "kwUcHPdy_Zcu"
   },
   "outputs": [
    {
     "data": {
      "text/plain": [
       "genre\n",
       "pop            218\n",
       "dance          182\n",
       "rock           162\n",
       "electronic     147\n",
       "hiphop          80\n",
       "ruspop          64\n",
       "alternative     58\n",
       "rusrap          55\n",
       "jazz            44\n",
       "classical       40\n",
       "Name: genre, dtype: int64"
      ]
     },
     "execution_count": 32,
     "metadata": {},
     "output_type": "execute_result"
    }
   ],
   "source": [
    "# вызов функции для утра понедельника в Петербурге (вместо df — таблица spb_general)\n",
    "genre_weekday(spb_general, 'Monday', '07:00:00', '11:00:00')"
   ]
  },
  {
   "cell_type": "code",
   "execution_count": 33,
   "metadata": {
    "id": "EzXVRE1o_Zcu"
   },
   "outputs": [
    {
     "data": {
      "text/plain": [
       "genre\n",
       "pop            713\n",
       "rock           517\n",
       "dance          495\n",
       "electronic     482\n",
       "hiphop         273\n",
       "world          208\n",
       "ruspop         170\n",
       "alternative    163\n",
       "classical      163\n",
       "rusrap         142\n",
       "Name: genre, dtype: int64"
      ]
     },
     "execution_count": 33,
     "metadata": {},
     "output_type": "execute_result"
    }
   ],
   "source": [
    "# вызов функции для вечера пятницы в Москве\n",
    "genre_weekday(moscow_general, 'Friday', '17:00:00', '23:00:00')"
   ]
  },
  {
   "cell_type": "code",
   "execution_count": 34,
   "metadata": {
    "id": "JZaEKu5v_Zcu"
   },
   "outputs": [
    {
     "data": {
      "text/plain": [
       "genre\n",
       "pop            256\n",
       "rock           216\n",
       "electronic     216\n",
       "dance          210\n",
       "hiphop          97\n",
       "alternative     63\n",
       "jazz            61\n",
       "classical       60\n",
       "rusrap          59\n",
       "world           54\n",
       "Name: genre, dtype: int64"
      ]
     },
     "execution_count": 34,
     "metadata": {},
     "output_type": "execute_result"
    }
   ],
   "source": [
    "# вызов функции для вечера пятницы в Петербурге\n",
    "genre_weekday(spb_general, 'Friday', '17:00:00', '23:00:00')"
   ]
  },
  {
   "cell_type": "markdown",
   "metadata": {
    "id": "wrCe4MNX_Zcu"
   },
   "source": [
    "**Выводы**\n",
    "\n",
    "Если сравнить топ-10 жанров в понедельник утром, можно сделать такие выводы:\n",
    "\n",
    "1. В Москве и Петербурге слушают похожую музыку. Единственное отличие — в московский рейтинг вошёл жанр “world”, а в петербургский — джаз и классика.\n",
    "\n",
    "2. В Москве пропущенных значений оказалось так много, что значение `'unknown'` заняло десятое место среди самых популярных жанров. Значит, пропущенные значения занимают существенную долю в данных и угрожают достоверности исследования.\n",
    "\n",
    "Вечер пятницы не меняет эту картину. Некоторые жанры поднимаются немного выше, другие спускаются, но в целом топ-10 остаётся тем же самым.\n",
    "\n",
    "Таким образом, вторая гипотеза подтвердилась лишь частично:\n",
    "* Пользователи слушают похожую музыку в начале недели и в конце.\n",
    "* Разница между Москвой и Петербургом не слишком выражена. В Москве чаще слушают русскую популярную музыку, в Петербурге — джаз.\n",
    "\n",
    "Однако пропуски в данных ставят под сомнение этот результат. В Москве их так много, что рейтинг топ-10 мог бы выглядеть иначе, если бы не утерянные  данные о жанрах."
   ]
  },
  {
   "cell_type": "markdown",
   "metadata": {
    "id": "JolODAqr_Zcu"
   },
   "source": [
    "### Жанровые предпочтения в Москве и Петербурге\n",
    "\n",
    "Гипотеза: Петербург — столица рэпа, музыку этого жанра там слушают чаще, чем в Москве.  А Москва — город контрастов, в котором, тем не менее, преобладает поп-музыка."
   ]
  },
  {
   "cell_type": "markdown",
   "metadata": {
    "id": "DlegSvaT_Zcu"
   },
   "source": [
    "Сгруппируйте таблицу `moscow_general` по жанру и посчитайте прослушивания треков каждого жанра методом `count()`. Затем отсортируйте результат в порядке убывания и сохраните его в таблице `moscow_genres`."
   ]
  },
  {
   "cell_type": "code",
   "execution_count": 35,
   "metadata": {
    "id": "r19lIPke_Zcu"
   },
   "outputs": [
    {
     "data": {
      "text/plain": [
       "\"\\nпочему в некоторых случаях достаточно написать genre_df.groupby('genre').count(), а в других как например \\nв этой ячейке необходимо добавлять значение столбца в квадратных скобках?\\n\""
      ]
     },
     "execution_count": 35,
     "metadata": {},
     "output_type": "execute_result"
    }
   ],
   "source": [
    "# одной строкой: группировка таблицы moscow_general по столбцу 'genre', \n",
    "# подсчёт числа значений 'genre' в этой группировке методом count(), \n",
    "# сортировка получившегося Series в порядке убывания и сохранение в moscow_genres\n",
    "moscow_genres = moscow_general.groupby('genre')['genre'].count().sort_values(ascending = False)\n",
    "'''\n",
    "почему в некоторых случаях достаточно написать genre_df.groupby('genre').count(), а в других как например \n",
    "в этой ячейке необходимо добавлять значение столбца в квадратных скобках?\n",
    "'''"
   ]
  },
  {
   "cell_type": "markdown",
   "metadata": {},
   "source": [
    "<div class=\"alert alert-success\">\n",
    "\n",
    "<b>Ревьюер v4: 👍</b> Если бы мы искали сумму `sum()` или первое вхождение `first()` и так далее, то ненужно указывать столбец для группировки у нас бы вышла сгруппированная таблица с разными значениями. В принципе, подсчет количества `count()` тоже можно производить таким образом, но тогда у нас будет выходить таблица с одинаковыми значениями. В случае подсчета количества принято добавлять любой столбец, чтобы данные было удобнее воспринимать.\n",
    "\n",
    "\n",
    "```py\n",
    "df.groupby('city').first()\n",
    "```\n",
    "\n",
    "| city | user_id |\ttrack |\tartist | genre | time |\tday |\n",
    "|---|-----|-------|--------|-------|------|-----|\n",
    "| Moscow |\t55204538 |\tDelayed Because of Accident |\tAndreas Rönnberg |\trock |\t14:07:09 |\tFriday |\n",
    "| Saint-Petersburg |\tFFB692EC |\tKamigata To Boots |\tThe Mass Missile |\trock |\t20:28:33 |\tWednesday |\n",
    "\n",
    "```py\n",
    "df.groupby('city').count()\n",
    "```\n",
    "\n",
    "| city | user_id |\ttrack |\tartist | genre | time |\tday |\n",
    "|---|-----|-------|--------|-------|------|-----|\n",
    "| Moscow |\t42741 | 42741 |\t42741 |\t42741 |\t42741 |\t42741 |\n",
    "| Saint-Petersburg |\t18512 | \t18512 |\t18512 |\t18512 | 18512 |\t18512 |\n",
    "    \n",
    "</div>"
   ]
  },
  {
   "cell_type": "markdown",
   "metadata": {
    "id": "6kMuomxTiIr8"
   },
   "source": [
    "Выведите на экран первые десять строк `moscow_genres`:"
   ]
  },
  {
   "cell_type": "code",
   "execution_count": 36,
   "metadata": {
    "id": "WhCSooF8_Zcv"
   },
   "outputs": [
    {
     "data": {
      "text/plain": [
       "genre\n",
       "pop            5892\n",
       "dance          4435\n",
       "rock           3965\n",
       "electronic     3786\n",
       "hiphop         2096\n",
       "classical      1616\n",
       "world          1432\n",
       "alternative    1379\n",
       "ruspop         1372\n",
       "rusrap         1161\n",
       "Name: genre, dtype: int64"
      ]
     },
     "execution_count": 36,
     "metadata": {},
     "output_type": "execute_result"
    }
   ],
   "source": [
    "# просмотр первых 10 строк moscow_genres\n",
    "moscow_genres.head(10)"
   ]
  },
  {
   "cell_type": "markdown",
   "metadata": {},
   "source": [
    "<div class=\"alert alert-success\">\n",
    "\n",
    "<b>Ревьюер v2: 👍</b> Данные для анализа предпочтений в Москве получены.\n",
    "\n",
    "</div>"
   ]
  },
  {
   "cell_type": "markdown",
   "metadata": {
    "id": "cnPG2vnN_Zcv"
   },
   "source": [
    "Теперь повторите то же и для Петербурга.\n",
    "\n",
    "Сгруппируйте таблицу `spb_general` по жанру. Посчитайте прослушивания треков каждого жанра. Результат отсортируйте в порядке убывания и сохраните в таблице `spb_genres`:\n"
   ]
  },
  {
   "cell_type": "code",
   "execution_count": 37,
   "metadata": {
    "id": "gluLIpE7_Zcv"
   },
   "outputs": [],
   "source": [
    "# одной строкой: группировка таблицы spb_general по столбцу 'genre', \n",
    "# подсчёт числа значений 'genre' в этой группировке методом count(), \n",
    "# сортировка получившегося Series в порядке убывания и сохранение в spb_genres\n",
    "spb_genres = spb_general.groupby('genre')['genre'].count().sort_values(ascending = False)"
   ]
  },
  {
   "cell_type": "markdown",
   "metadata": {
    "id": "5Doha_ODgyQ8"
   },
   "source": [
    "Выведите на экран первые десять строк `spb_genres`:"
   ]
  },
  {
   "cell_type": "code",
   "execution_count": 38,
   "metadata": {
    "id": "uaGJHjVU_Zcv"
   },
   "outputs": [
    {
     "data": {
      "text/plain": [
       "genre\n",
       "pop            2431\n",
       "dance          1932\n",
       "rock           1879\n",
       "electronic     1736\n",
       "hiphop          960\n",
       "alternative     649\n",
       "classical       646\n",
       "rusrap          564\n",
       "ruspop          538\n",
       "world           515\n",
       "Name: genre, dtype: int64"
      ]
     },
     "execution_count": 38,
     "metadata": {},
     "output_type": "execute_result"
    }
   ],
   "source": [
    "# просмотр первых 10 строк spb_genres\n",
    "spb_genres.head(10)"
   ]
  },
  {
   "cell_type": "markdown",
   "metadata": {},
   "source": [
    "<div class=\"alert alert-success\">\n",
    "\n",
    "<b>Ревьюер v2: 👍</b> По Питеру тоже данные есть.\n",
    "\n",
    "</div>"
   ]
  },
  {
   "cell_type": "markdown",
   "metadata": {
    "id": "RY51YJYu_Zcv"
   },
   "source": [
    "**Выводы**"
   ]
  },
  {
   "cell_type": "markdown",
   "metadata": {
    "id": "nVhnJEm__Zcv"
   },
   "source": [
    "Гипотеза частично подтвердилась:\n",
    "* Поп-музыка — самый популярный жанр в Москве, как и предполагала гипотеза. Более того, в топ-10 жанров встречается близкий жанр — русская популярная музыка.\n",
    "* Вопреки ожиданиям, рэп одинаково популярен в Москве и Петербурге. \n"
   ]
  },
  {
   "cell_type": "markdown",
   "metadata": {
    "id": "ykKQ0N65_Zcv"
   },
   "source": [
    "## Итоги исследования"
   ]
  },
  {
   "cell_type": "markdown",
   "metadata": {
    "id": "tjUwbHb3_Zcv"
   },
   "source": [
    "Вы проверили три гипотезы и установили:\n",
    "\n",
    "1. День недели по-разному влияет на активность пользователей в Москве и Петербурге. \n",
    "\n",
    "Первая гипотеза полностью подтвердилась.\n",
    "\n",
    "2. Музыкальные предпочтения не сильно меняются в течение недели — будь то Москва или Петербург. Небольшие различия заметны в начале недели, по понедельникам:\n",
    "* в Москве слушают музыку жанра “world”,\n",
    "* в Петербурге — джаз и классику.\n",
    "\n",
    "Таким образом, вторая гипотеза подтвердилась лишь отчасти. Этот результат мог оказаться иным, если бы не пропуски в данных.\n",
    "\n",
    "3. Во вкусах пользователей Москвы и Петербурга больше общего чем различий. Вопреки ожиданиям, предпочтения жанров в Петербурге напоминают московские.\n",
    "\n",
    "Третья гипотеза не подтвердилась. Если различия в предпочтениях и существуют, на основной массе пользователей они незаметны.\n",
    "\n",
    "**На практике исследования содержат проверки статистических гипотез.**\n",
    "Из данных одного сервиса не всегда можно сделать вывод о всех жителях города.\n",
    "Проверки статистических гипотез покажут, насколько они достоверны, исходя из имеющихся данных. \n",
    "С методами проверок гипотез вы ещё познакомитесь в следующих темах."
   ]
  },
  {
   "cell_type": "markdown",
   "metadata": {},
   "source": [
    "<div class=\"alert alert-success\">\n",
    "\n",
    "<b>Ревьюер v2: 👍</b> С итоговыми выводами все верно!\n",
    "\n",
    "</div>"
   ]
  },
  {
   "cell_type": "markdown",
   "metadata": {},
   "source": [
    "<div class=\"alert alert-danger\">\n",
    "\n",
    "<b>Ревьюер v2:</b> Проект еще не принят, осталось исправить несколько ошибок.\n",
    "* Для удобства поиска я добавил тебе ссылки.\n",
    "\n",
    "    * [Ответь на вопрос в пункте три](#error_2_1)\n",
    "    * [Примени groupby() 1](#error_2_2)\n",
    "    * [Примени groupby() 2](#error_2_3)\n",
    "    * [Измени функцию](#error_2_4)\n",
    "    \n",
    "Жду правок 🙂\n",
    "\n",
    "</div>"
   ]
  },
  {
   "cell_type": "markdown",
   "metadata": {},
   "source": [
    "<div class=\"alert alert-danger\">\n",
    "\n",
    "<b>Ревьюер v3:</b> Андрей, осталось чуть-чуть и проект будет принят!\n",
    "\n",
    "* [Ответь на вопрос](#error_3_1)\n",
    "* [Вывод groupby() 1](#error_3_2)\n",
    "* [Вывод groupby() 2](#error_3_3)\n",
    "    \n",
    "Жду правок 😉\n",
    "\n",
    "</div>"
   ]
  },
  {
   "cell_type": "markdown",
   "metadata": {},
   "source": [
    "<div class=\"alert alert-success\">\n",
    "\n",
    "<b>Ревьюер v4: ✌️</b> Андрей, упорства тебе не занимать, ты крут! А это залог успеха. \n",
    "    \n",
    "Только увидел, что ты оставлял комментарии в коде. На вопросы ответил, и твой ответ на вопрос нашел. На будущее оставляй комментарии так чтобы их было видно.\n",
    "\n",
    "Желаю тебе успехов в дальнейшем обучении и во всех твоих начинаниях, поздравляю **проект принят**! 🥳 🎉\n",
    "\n",
    "</div>"
   ]
  },
  {
   "cell_type": "code",
   "execution_count": null,
   "metadata": {},
   "outputs": [],
   "source": []
  }
 ],
 "metadata": {
  "ExecuteTimeLog": [
   {
    "duration": 247,
    "start_time": "2021-11-26T11:00:52.425Z"
   },
   {
    "duration": 520,
    "start_time": "2021-11-26T11:01:07.053Z"
   },
   {
    "duration": 2,
    "start_time": "2021-11-26T11:01:09.026Z"
   },
   {
    "duration": 193,
    "start_time": "2021-11-26T11:01:40.654Z"
   },
   {
    "duration": 2,
    "start_time": "2021-11-26T11:03:01.140Z"
   },
   {
    "duration": 152,
    "start_time": "2021-11-26T11:03:01.146Z"
   },
   {
    "duration": 2,
    "start_time": "2021-11-26T11:03:01.300Z"
   },
   {
    "duration": 15,
    "start_time": "2021-11-26T11:03:01.304Z"
   },
   {
    "duration": 20,
    "start_time": "2021-11-26T11:03:01.320Z"
   },
   {
    "duration": 7,
    "start_time": "2021-11-26T11:03:01.342Z"
   },
   {
    "duration": 7,
    "start_time": "2021-11-26T11:03:01.350Z"
   },
   {
    "duration": 6,
    "start_time": "2021-11-26T11:03:01.359Z"
   },
   {
    "duration": 7,
    "start_time": "2021-11-26T11:03:01.366Z"
   },
   {
    "duration": 14,
    "start_time": "2021-11-26T11:03:01.375Z"
   },
   {
    "duration": 7,
    "start_time": "2021-11-26T11:03:01.391Z"
   },
   {
    "duration": 13,
    "start_time": "2021-11-26T11:03:01.399Z"
   },
   {
    "duration": 20,
    "start_time": "2021-11-26T11:03:01.413Z"
   },
   {
    "duration": 17,
    "start_time": "2021-11-26T11:03:01.435Z"
   },
   {
    "duration": 8,
    "start_time": "2021-11-26T11:03:01.454Z"
   },
   {
    "duration": 8,
    "start_time": "2021-11-26T11:03:01.463Z"
   },
   {
    "duration": 12,
    "start_time": "2021-11-26T11:03:01.472Z"
   },
   {
    "duration": 11,
    "start_time": "2021-11-26T11:03:01.485Z"
   },
   {
    "duration": 12,
    "start_time": "2021-11-26T11:03:01.497Z"
   },
   {
    "duration": 39,
    "start_time": "2021-11-26T11:03:01.510Z"
   },
   {
    "duration": 14,
    "start_time": "2021-11-26T11:03:01.551Z"
   },
   {
    "duration": 7,
    "start_time": "2021-11-26T11:03:01.566Z"
   },
   {
    "duration": 10,
    "start_time": "2021-11-26T11:03:01.575Z"
   },
   {
    "duration": 13,
    "start_time": "2021-11-26T11:03:01.586Z"
   },
   {
    "duration": 14,
    "start_time": "2021-11-26T11:03:01.601Z"
   },
   {
    "duration": 19,
    "start_time": "2021-11-26T11:03:01.616Z"
   },
   {
    "duration": 13,
    "start_time": "2021-11-26T11:03:01.637Z"
   },
   {
    "duration": 7,
    "start_time": "2021-11-26T11:03:01.653Z"
   },
   {
    "duration": 11,
    "start_time": "2021-11-26T11:03:01.662Z"
   },
   {
    "duration": 8,
    "start_time": "2021-11-26T11:03:01.674Z"
   },
   {
    "duration": 15,
    "start_time": "2021-11-26T11:03:01.683Z"
   },
   {
    "duration": 25,
    "start_time": "2021-11-26T11:03:01.700Z"
   },
   {
    "duration": 29,
    "start_time": "2021-11-26T11:03:01.727Z"
   },
   {
    "duration": 9,
    "start_time": "2021-11-26T11:03:01.758Z"
   },
   {
    "duration": 9,
    "start_time": "2021-11-26T11:03:01.769Z"
   },
   {
    "duration": 6,
    "start_time": "2021-11-26T11:03:01.780Z"
   },
   {
    "duration": 7,
    "start_time": "2021-11-26T11:03:01.787Z"
   },
   {
    "duration": 11,
    "start_time": "2021-11-26T11:03:01.796Z"
   },
   {
    "duration": 30,
    "start_time": "2021-11-26T11:06:28.481Z"
   },
   {
    "duration": 11,
    "start_time": "2021-11-26T11:06:36.015Z"
   },
   {
    "duration": 4,
    "start_time": "2021-11-26T11:12:59.383Z"
   },
   {
    "duration": 66,
    "start_time": "2021-11-26T11:15:44.870Z"
   },
   {
    "duration": 70,
    "start_time": "2021-11-26T11:20:59.672Z"
   },
   {
    "duration": 23,
    "start_time": "2021-11-26T11:21:17.773Z"
   },
   {
    "duration": 21,
    "start_time": "2021-11-26T11:21:24.024Z"
   },
   {
    "duration": 4,
    "start_time": "2021-11-26T11:21:44.388Z"
   },
   {
    "duration": 29,
    "start_time": "2021-11-26T11:22:41.259Z"
   },
   {
    "duration": 24,
    "start_time": "2021-11-26T11:23:09.666Z"
   },
   {
    "duration": 164,
    "start_time": "2021-11-26T11:55:54.234Z"
   },
   {
    "duration": 173,
    "start_time": "2021-11-26T11:56:25.820Z"
   },
   {
    "duration": 171,
    "start_time": "2021-11-26T11:57:05.392Z"
   },
   {
    "duration": 129,
    "start_time": "2021-11-26T11:57:23.217Z"
   },
   {
    "duration": 23,
    "start_time": "2021-11-26T11:57:42.537Z"
   },
   {
    "duration": 17,
    "start_time": "2021-11-26T12:00:52.657Z"
   },
   {
    "duration": 25,
    "start_time": "2021-11-26T12:00:56.282Z"
   },
   {
    "duration": 169,
    "start_time": "2021-11-26T12:02:18.815Z"
   },
   {
    "duration": 56,
    "start_time": "2021-11-26T12:03:49.710Z"
   },
   {
    "duration": 91,
    "start_time": "2021-11-26T12:05:10.995Z"
   },
   {
    "duration": 64,
    "start_time": "2021-11-26T12:05:36.256Z"
   },
   {
    "duration": 66,
    "start_time": "2021-11-26T12:06:07.020Z"
   },
   {
    "duration": 58,
    "start_time": "2021-11-26T12:06:10.421Z"
   },
   {
    "duration": 72,
    "start_time": "2021-11-26T12:07:43.005Z"
   },
   {
    "duration": 61,
    "start_time": "2021-11-26T12:07:46.826Z"
   },
   {
    "duration": 64,
    "start_time": "2021-11-26T12:10:54.480Z"
   },
   {
    "duration": 62,
    "start_time": "2021-11-26T12:11:12.503Z"
   },
   {
    "duration": 62,
    "start_time": "2021-11-26T12:11:26.371Z"
   },
   {
    "duration": 70,
    "start_time": "2021-11-26T12:14:36.225Z"
   },
   {
    "duration": 70,
    "start_time": "2021-11-26T12:14:49.018Z"
   },
   {
    "duration": 85,
    "start_time": "2021-11-26T12:15:20.047Z"
   },
   {
    "duration": 168,
    "start_time": "2021-11-26T12:28:52.844Z"
   },
   {
    "duration": 7,
    "start_time": "2021-11-26T12:29:30.310Z"
   },
   {
    "duration": 3,
    "start_time": "2021-11-26T13:19:56.833Z"
   },
   {
    "duration": 3,
    "start_time": "2021-11-26T13:24:38.624Z"
   },
   {
    "duration": 3,
    "start_time": "2021-11-26T13:24:41.969Z"
   },
   {
    "duration": 322,
    "start_time": "2021-11-26T13:43:38.076Z"
   },
   {
    "duration": 4,
    "start_time": "2021-11-26T13:46:38.642Z"
   },
   {
    "duration": 30,
    "start_time": "2021-11-26T13:46:43.115Z"
   },
   {
    "duration": 8,
    "start_time": "2021-11-26T13:47:54.496Z"
   },
   {
    "duration": 3,
    "start_time": "2021-11-26T13:50:06.917Z"
   },
   {
    "duration": 25,
    "start_time": "2021-11-26T13:50:10.056Z"
   },
   {
    "duration": 8,
    "start_time": "2021-11-26T13:50:14.087Z"
   },
   {
    "duration": 3,
    "start_time": "2021-11-26T13:51:02.865Z"
   },
   {
    "duration": 168,
    "start_time": "2021-11-26T13:51:02.873Z"
   },
   {
    "duration": 10,
    "start_time": "2021-11-26T13:51:03.043Z"
   },
   {
    "duration": 42,
    "start_time": "2021-11-26T13:51:03.055Z"
   },
   {
    "duration": 5,
    "start_time": "2021-11-26T13:51:03.099Z"
   },
   {
    "duration": 21,
    "start_time": "2021-11-26T13:51:03.106Z"
   },
   {
    "duration": 4,
    "start_time": "2021-11-26T13:51:03.129Z"
   },
   {
    "duration": 63,
    "start_time": "2021-11-26T13:51:03.135Z"
   },
   {
    "duration": 27,
    "start_time": "2021-11-26T13:51:03.201Z"
   },
   {
    "duration": 46,
    "start_time": "2021-11-26T13:51:03.232Z"
   },
   {
    "duration": 84,
    "start_time": "2021-11-26T13:51:03.280Z"
   },
   {
    "duration": 77,
    "start_time": "2021-11-26T13:51:03.366Z"
   },
   {
    "duration": 60,
    "start_time": "2021-11-26T13:51:03.446Z"
   },
   {
    "duration": 7,
    "start_time": "2021-11-26T13:51:03.508Z"
   },
   {
    "duration": 4,
    "start_time": "2021-11-26T13:51:03.516Z"
   },
   {
    "duration": 28,
    "start_time": "2021-11-26T13:51:03.522Z"
   },
   {
    "duration": 7,
    "start_time": "2021-11-26T13:51:03.551Z"
   },
   {
    "duration": 3,
    "start_time": "2021-11-26T13:51:03.560Z"
   },
   {
    "duration": 2,
    "start_time": "2021-11-26T13:51:03.592Z"
   },
   {
    "duration": 6,
    "start_time": "2021-11-26T13:51:03.596Z"
   },
   {
    "duration": 9,
    "start_time": "2021-11-26T13:51:03.604Z"
   },
   {
    "duration": 6,
    "start_time": "2021-11-26T13:51:03.615Z"
   },
   {
    "duration": 7,
    "start_time": "2021-11-26T13:51:03.622Z"
   },
   {
    "duration": 6,
    "start_time": "2021-11-26T13:51:03.630Z"
   },
   {
    "duration": 7,
    "start_time": "2021-11-26T13:51:03.637Z"
   },
   {
    "duration": 8,
    "start_time": "2021-11-26T13:51:03.646Z"
   },
   {
    "duration": 9,
    "start_time": "2021-11-26T13:51:03.655Z"
   },
   {
    "duration": 3,
    "start_time": "2021-11-26T13:51:03.667Z"
   },
   {
    "duration": 6,
    "start_time": "2021-11-26T13:51:03.672Z"
   },
   {
    "duration": 7,
    "start_time": "2021-11-26T13:51:03.679Z"
   },
   {
    "duration": 4,
    "start_time": "2021-11-26T13:51:03.691Z"
   },
   {
    "duration": 5,
    "start_time": "2021-11-26T13:51:03.697Z"
   },
   {
    "duration": 12,
    "start_time": "2021-11-26T13:51:03.704Z"
   },
   {
    "duration": 6,
    "start_time": "2021-11-26T13:51:03.718Z"
   },
   {
    "duration": 7,
    "start_time": "2021-11-26T13:51:03.726Z"
   },
   {
    "duration": 6,
    "start_time": "2021-11-26T13:51:03.734Z"
   },
   {
    "duration": 5,
    "start_time": "2021-11-26T13:51:03.742Z"
   },
   {
    "duration": 5,
    "start_time": "2021-11-26T13:51:03.748Z"
   },
   {
    "duration": 7,
    "start_time": "2021-11-26T14:00:01.170Z"
   },
   {
    "duration": 281,
    "start_time": "2021-11-29T08:00:15.105Z"
   },
   {
    "duration": 3,
    "start_time": "2021-11-29T08:00:27.288Z"
   },
   {
    "duration": 572,
    "start_time": "2021-11-29T08:00:32.978Z"
   },
   {
    "duration": 118,
    "start_time": "2021-11-29T08:00:33.552Z"
   },
   {
    "duration": 18,
    "start_time": "2021-11-29T08:00:33.672Z"
   },
   {
    "duration": 33,
    "start_time": "2021-11-29T08:00:33.692Z"
   },
   {
    "duration": 10,
    "start_time": "2021-11-29T08:00:33.727Z"
   },
   {
    "duration": 47,
    "start_time": "2021-11-29T08:00:33.739Z"
   },
   {
    "duration": 25,
    "start_time": "2021-11-29T08:00:33.787Z"
   },
   {
    "duration": 65,
    "start_time": "2021-11-29T08:00:33.814Z"
   },
   {
    "duration": 30,
    "start_time": "2021-11-29T08:00:33.881Z"
   },
   {
    "duration": 30,
    "start_time": "2021-11-29T08:00:33.912Z"
   },
   {
    "duration": 76,
    "start_time": "2021-11-29T08:00:33.943Z"
   },
   {
    "duration": 75,
    "start_time": "2021-11-29T08:00:34.021Z"
   },
   {
    "duration": 48,
    "start_time": "2021-11-29T08:00:34.098Z"
   },
   {
    "duration": 7,
    "start_time": "2021-11-29T08:00:34.147Z"
   },
   {
    "duration": 8,
    "start_time": "2021-11-29T08:00:34.155Z"
   },
   {
    "duration": 33,
    "start_time": "2021-11-29T08:00:34.164Z"
   },
   {
    "duration": 22,
    "start_time": "2021-11-29T08:00:34.199Z"
   },
   {
    "duration": 2,
    "start_time": "2021-11-29T08:00:34.223Z"
   },
   {
    "duration": 4,
    "start_time": "2021-11-29T08:00:34.227Z"
   },
   {
    "duration": 6,
    "start_time": "2021-11-29T08:00:34.232Z"
   },
   {
    "duration": 6,
    "start_time": "2021-11-29T08:00:34.239Z"
   },
   {
    "duration": 5,
    "start_time": "2021-11-29T08:00:34.246Z"
   },
   {
    "duration": 3,
    "start_time": "2021-11-29T08:00:34.254Z"
   },
   {
    "duration": 8,
    "start_time": "2021-11-29T08:00:34.259Z"
   },
   {
    "duration": 4,
    "start_time": "2021-11-29T08:00:34.268Z"
   },
   {
    "duration": 6,
    "start_time": "2021-11-29T08:00:34.273Z"
   },
   {
    "duration": 4,
    "start_time": "2021-11-29T08:00:34.281Z"
   },
   {
    "duration": 4,
    "start_time": "2021-11-29T08:00:34.286Z"
   },
   {
    "duration": 5,
    "start_time": "2021-11-29T08:00:34.291Z"
   },
   {
    "duration": 8,
    "start_time": "2021-11-29T08:00:34.297Z"
   },
   {
    "duration": 7,
    "start_time": "2021-11-29T08:00:34.306Z"
   },
   {
    "duration": 4,
    "start_time": "2021-11-29T08:00:34.314Z"
   },
   {
    "duration": 6,
    "start_time": "2021-11-29T08:00:34.320Z"
   },
   {
    "duration": 4,
    "start_time": "2021-11-29T08:00:34.328Z"
   },
   {
    "duration": 8,
    "start_time": "2021-11-29T08:00:34.333Z"
   },
   {
    "duration": 6,
    "start_time": "2021-11-29T08:00:34.342Z"
   },
   {
    "duration": 5,
    "start_time": "2021-11-29T08:00:34.349Z"
   },
   {
    "duration": 5,
    "start_time": "2021-11-29T08:00:34.355Z"
   },
   {
    "duration": 15,
    "start_time": "2021-11-29T09:42:06.362Z"
   },
   {
    "duration": 20,
    "start_time": "2021-11-29T09:42:49.817Z"
   },
   {
    "duration": 21,
    "start_time": "2021-11-29T09:42:59.607Z"
   },
   {
    "duration": 14,
    "start_time": "2021-11-29T09:43:26.632Z"
   },
   {
    "duration": 13,
    "start_time": "2021-11-29T09:47:01.937Z"
   },
   {
    "duration": 4,
    "start_time": "2021-11-29T10:00:08.378Z"
   },
   {
    "duration": 4,
    "start_time": "2021-11-29T10:00:15.395Z"
   },
   {
    "duration": 479,
    "start_time": "2021-11-29T10:18:59.525Z"
   },
   {
    "duration": 515,
    "start_time": "2021-11-29T10:23:17.955Z"
   },
   {
    "duration": 275,
    "start_time": "2021-11-29T10:25:15.638Z"
   },
   {
    "duration": 530,
    "start_time": "2021-11-29T10:25:50.052Z"
   },
   {
    "duration": 640,
    "start_time": "2021-11-29T10:29:55.099Z"
   },
   {
    "duration": 497,
    "start_time": "2021-11-29T10:30:27.615Z"
   },
   {
    "duration": 611,
    "start_time": "2021-11-29T10:34:54.079Z"
   },
   {
    "duration": 492,
    "start_time": "2021-11-29T10:43:01.653Z"
   },
   {
    "duration": 516,
    "start_time": "2021-11-29T10:43:35.838Z"
   },
   {
    "duration": 4,
    "start_time": "2021-11-29T10:46:04.266Z"
   },
   {
    "duration": 239,
    "start_time": "2021-11-29T10:46:08.390Z"
   },
   {
    "duration": 3,
    "start_time": "2021-11-29T10:46:32.069Z"
   },
   {
    "duration": 15,
    "start_time": "2021-11-29T10:46:35.198Z"
   },
   {
    "duration": 16,
    "start_time": "2021-11-29T10:47:29.413Z"
   },
   {
    "duration": 15,
    "start_time": "2021-11-29T10:47:32.416Z"
   },
   {
    "duration": 13,
    "start_time": "2021-11-29T10:52:47.333Z"
   },
   {
    "duration": 20,
    "start_time": "2021-11-29T10:52:49.593Z"
   },
   {
    "duration": 50,
    "start_time": "2021-11-29T10:52:53.085Z"
   },
   {
    "duration": 14,
    "start_time": "2021-11-29T10:53:06.181Z"
   },
   {
    "duration": 222,
    "start_time": "2021-11-29T10:53:27.306Z"
   },
   {
    "duration": 235,
    "start_time": "2021-11-29T10:55:33.851Z"
   },
   {
    "duration": 5,
    "start_time": "2021-11-29T10:59:06.068Z"
   },
   {
    "duration": 4,
    "start_time": "2021-11-29T10:59:12.625Z"
   },
   {
    "duration": 8,
    "start_time": "2021-11-29T10:59:51.578Z"
   },
   {
    "duration": 15,
    "start_time": "2021-11-29T11:00:41.450Z"
   },
   {
    "duration": 3,
    "start_time": "2021-11-29T11:00:52.570Z"
   },
   {
    "duration": 133,
    "start_time": "2021-11-29T11:00:52.577Z"
   },
   {
    "duration": 10,
    "start_time": "2021-11-29T11:00:52.712Z"
   },
   {
    "duration": 23,
    "start_time": "2021-11-29T11:00:52.725Z"
   },
   {
    "duration": 3,
    "start_time": "2021-11-29T11:00:52.750Z"
   },
   {
    "duration": 45,
    "start_time": "2021-11-29T11:00:52.755Z"
   },
   {
    "duration": 4,
    "start_time": "2021-11-29T11:00:52.801Z"
   },
   {
    "duration": 22,
    "start_time": "2021-11-29T11:00:52.806Z"
   },
   {
    "duration": 15,
    "start_time": "2021-11-29T11:00:52.830Z"
   },
   {
    "duration": 19,
    "start_time": "2021-11-29T11:00:52.848Z"
   },
   {
    "duration": 72,
    "start_time": "2021-11-29T11:00:52.869Z"
   },
   {
    "duration": 76,
    "start_time": "2021-11-29T11:00:52.943Z"
   },
   {
    "duration": 47,
    "start_time": "2021-11-29T11:00:53.021Z"
   },
   {
    "duration": 18,
    "start_time": "2021-11-29T11:00:53.070Z"
   },
   {
    "duration": 2,
    "start_time": "2021-11-29T11:00:53.090Z"
   },
   {
    "duration": 14,
    "start_time": "2021-11-29T11:00:53.094Z"
   },
   {
    "duration": 6,
    "start_time": "2021-11-29T11:00:53.110Z"
   },
   {
    "duration": 12,
    "start_time": "2021-11-29T11:00:53.118Z"
   },
   {
    "duration": 24,
    "start_time": "2021-11-29T11:00:53.131Z"
   },
   {
    "duration": 3,
    "start_time": "2021-11-29T11:00:53.156Z"
   },
   {
    "duration": 13,
    "start_time": "2021-11-29T11:00:53.188Z"
   },
   {
    "duration": 12,
    "start_time": "2021-11-29T11:00:53.203Z"
   },
   {
    "duration": 12,
    "start_time": "2021-11-29T11:00:53.217Z"
   },
   {
    "duration": 12,
    "start_time": "2021-11-29T11:00:53.230Z"
   },
   {
    "duration": 13,
    "start_time": "2021-11-29T11:00:53.243Z"
   },
   {
    "duration": 42,
    "start_time": "2021-11-29T11:00:53.257Z"
   },
   {
    "duration": 7,
    "start_time": "2021-11-29T11:00:53.300Z"
   },
   {
    "duration": 4,
    "start_time": "2021-11-29T11:00:53.310Z"
   },
   {
    "duration": 3,
    "start_time": "2021-11-29T11:00:53.316Z"
   },
   {
    "duration": 4,
    "start_time": "2021-11-29T11:00:53.321Z"
   },
   {
    "duration": 10,
    "start_time": "2021-11-29T11:00:53.327Z"
   },
   {
    "duration": 5,
    "start_time": "2021-11-29T11:00:53.338Z"
   },
   {
    "duration": 6,
    "start_time": "2021-11-29T11:00:53.344Z"
   },
   {
    "duration": 4,
    "start_time": "2021-11-29T11:00:53.351Z"
   },
   {
    "duration": 4,
    "start_time": "2021-11-29T11:00:53.357Z"
   },
   {
    "duration": 7,
    "start_time": "2021-11-29T11:00:53.362Z"
   },
   {
    "duration": 18,
    "start_time": "2021-11-29T11:00:53.370Z"
   },
   {
    "duration": 2,
    "start_time": "2021-11-29T11:00:53.389Z"
   },
   {
    "duration": 9,
    "start_time": "2021-11-29T11:02:17.500Z"
   },
   {
    "duration": 11,
    "start_time": "2021-11-29T12:21:33.090Z"
   },
   {
    "duration": 6608,
    "start_time": "2021-11-29T12:22:18.556Z"
   },
   {
    "duration": 9,
    "start_time": "2021-11-29T12:22:49.952Z"
   },
   {
    "duration": 83,
    "start_time": "2021-11-29T13:49:14.034Z"
   },
   {
    "duration": 4,
    "start_time": "2021-11-29T13:50:26.783Z"
   },
   {
    "duration": 4,
    "start_time": "2021-11-29T13:56:12.455Z"
   },
   {
    "duration": 82,
    "start_time": "2021-11-29T14:03:04.013Z"
   },
   {
    "duration": 3382,
    "start_time": "2021-11-29T14:03:18.820Z"
   },
   {
    "duration": 3280,
    "start_time": "2021-11-29T14:03:22.582Z"
   },
   {
    "duration": 3349,
    "start_time": "2021-11-29T14:03:31.802Z"
   },
   {
    "duration": 6,
    "start_time": "2021-11-29T14:05:16.983Z"
   },
   {
    "duration": 94,
    "start_time": "2021-11-29T14:05:22.319Z"
   },
   {
    "duration": 3868,
    "start_time": "2021-11-29T14:05:55.233Z"
   },
   {
    "duration": 1678,
    "start_time": "2021-11-29T14:05:57.424Z"
   },
   {
    "duration": 3364,
    "start_time": "2021-11-29T14:06:07.549Z"
   },
   {
    "duration": 4,
    "start_time": "2021-11-29T14:08:14.917Z"
   },
   {
    "duration": 4,
    "start_time": "2021-11-29T14:08:20.100Z"
   },
   {
    "duration": 132,
    "start_time": "2021-11-29T14:08:20.106Z"
   },
   {
    "duration": 9,
    "start_time": "2021-11-29T14:08:20.240Z"
   },
   {
    "duration": 27,
    "start_time": "2021-11-29T14:08:20.251Z"
   },
   {
    "duration": 4,
    "start_time": "2021-11-29T14:08:20.288Z"
   },
   {
    "duration": 18,
    "start_time": "2021-11-29T14:08:20.293Z"
   },
   {
    "duration": 5,
    "start_time": "2021-11-29T14:08:20.313Z"
   },
   {
    "duration": 27,
    "start_time": "2021-11-29T14:08:20.319Z"
   },
   {
    "duration": 14,
    "start_time": "2021-11-29T14:08:20.348Z"
   },
   {
    "duration": 41,
    "start_time": "2021-11-29T14:08:20.365Z"
   },
   {
    "duration": 57,
    "start_time": "2021-11-29T14:08:20.408Z"
   },
   {
    "duration": 64,
    "start_time": "2021-11-29T14:08:20.466Z"
   },
   {
    "duration": 56,
    "start_time": "2021-11-29T14:08:20.532Z"
   },
   {
    "duration": 6,
    "start_time": "2021-11-29T14:08:20.590Z"
   },
   {
    "duration": 3,
    "start_time": "2021-11-29T14:08:20.598Z"
   },
   {
    "duration": 14,
    "start_time": "2021-11-29T14:08:20.602Z"
   },
   {
    "duration": 6,
    "start_time": "2021-11-29T14:08:20.618Z"
   },
   {
    "duration": 17,
    "start_time": "2021-11-29T14:08:20.625Z"
   },
   {
    "duration": 53,
    "start_time": "2021-11-29T14:08:20.644Z"
   },
   {
    "duration": 3,
    "start_time": "2021-11-29T14:08:20.698Z"
   },
   {
    "duration": 18,
    "start_time": "2021-11-29T14:08:20.703Z"
   },
   {
    "duration": 13,
    "start_time": "2021-11-29T14:08:20.722Z"
   },
   {
    "duration": 16,
    "start_time": "2021-11-29T14:08:20.736Z"
   },
   {
    "duration": 13,
    "start_time": "2021-11-29T14:08:20.754Z"
   },
   {
    "duration": 14,
    "start_time": "2021-11-29T14:08:20.788Z"
   },
   {
    "duration": 11,
    "start_time": "2021-11-29T14:08:20.803Z"
   },
   {
    "duration": 9,
    "start_time": "2021-11-29T14:08:20.816Z"
   },
   {
    "duration": 9,
    "start_time": "2021-11-29T14:08:20.829Z"
   },
   {
    "duration": 9,
    "start_time": "2021-11-29T14:08:20.840Z"
   },
   {
    "duration": 5,
    "start_time": "2021-11-29T14:08:20.850Z"
   },
   {
    "duration": 86,
    "start_time": "2021-11-29T14:08:20.856Z"
   },
   {
    "duration": 1715,
    "start_time": "2021-11-29T14:08:19.229Z"
   },
   {
    "duration": 1706,
    "start_time": "2021-11-29T14:08:19.239Z"
   },
   {
    "duration": 1705,
    "start_time": "2021-11-29T14:08:19.241Z"
   },
   {
    "duration": 1704,
    "start_time": "2021-11-29T14:08:19.243Z"
   },
   {
    "duration": 1703,
    "start_time": "2021-11-29T14:08:19.245Z"
   },
   {
    "duration": 1701,
    "start_time": "2021-11-29T14:08:19.247Z"
   },
   {
    "duration": 1676,
    "start_time": "2021-11-29T14:08:19.273Z"
   },
   {
    "duration": 4,
    "start_time": "2021-11-29T14:10:17.114Z"
   },
   {
    "duration": 81,
    "start_time": "2021-11-29T14:10:21.416Z"
   },
   {
    "duration": 3342,
    "start_time": "2021-11-29T14:10:46.190Z"
   },
   {
    "duration": 4,
    "start_time": "2021-11-29T14:11:59.746Z"
   },
   {
    "duration": 90,
    "start_time": "2021-11-29T14:12:03.690Z"
   },
   {
    "duration": 795,
    "start_time": "2021-11-30T07:39:24.643Z"
   },
   {
    "duration": 199,
    "start_time": "2021-11-30T07:39:25.441Z"
   },
   {
    "duration": 32,
    "start_time": "2021-11-30T07:39:25.643Z"
   },
   {
    "duration": 36,
    "start_time": "2021-11-30T07:39:25.677Z"
   },
   {
    "duration": 6,
    "start_time": "2021-11-30T07:39:25.715Z"
   },
   {
    "duration": 74,
    "start_time": "2021-11-30T07:39:25.724Z"
   },
   {
    "duration": 8,
    "start_time": "2021-11-30T07:39:25.801Z"
   },
   {
    "duration": 33,
    "start_time": "2021-11-30T07:39:25.813Z"
   },
   {
    "duration": 24,
    "start_time": "2021-11-30T07:39:25.868Z"
   },
   {
    "duration": 31,
    "start_time": "2021-11-30T07:39:25.894Z"
   },
   {
    "duration": 124,
    "start_time": "2021-11-30T07:39:25.928Z"
   },
   {
    "duration": 145,
    "start_time": "2021-11-30T07:39:26.055Z"
   },
   {
    "duration": 104,
    "start_time": "2021-11-30T07:39:26.203Z"
   },
   {
    "duration": 10,
    "start_time": "2021-11-30T07:39:26.310Z"
   },
   {
    "duration": 4,
    "start_time": "2021-11-30T07:39:26.322Z"
   },
   {
    "duration": 46,
    "start_time": "2021-11-30T07:39:26.328Z"
   },
   {
    "duration": 10,
    "start_time": "2021-11-30T07:39:26.377Z"
   },
   {
    "duration": 25,
    "start_time": "2021-11-30T07:39:26.389Z"
   },
   {
    "duration": 81,
    "start_time": "2021-11-30T07:39:26.416Z"
   },
   {
    "duration": 5,
    "start_time": "2021-11-30T07:39:26.500Z"
   },
   {
    "duration": 31,
    "start_time": "2021-11-30T07:39:26.507Z"
   },
   {
    "duration": 21,
    "start_time": "2021-11-30T07:39:26.568Z"
   },
   {
    "duration": 23,
    "start_time": "2021-11-30T07:39:26.595Z"
   },
   {
    "duration": 58,
    "start_time": "2021-11-30T07:39:26.622Z"
   },
   {
    "duration": 28,
    "start_time": "2021-11-30T07:39:26.683Z"
   },
   {
    "duration": 54,
    "start_time": "2021-11-30T07:39:26.714Z"
   },
   {
    "duration": 14,
    "start_time": "2021-11-30T07:39:26.772Z"
   },
   {
    "duration": 21,
    "start_time": "2021-11-30T07:39:26.789Z"
   },
   {
    "duration": 15,
    "start_time": "2021-11-30T07:39:26.812Z"
   },
   {
    "duration": 40,
    "start_time": "2021-11-30T07:39:26.829Z"
   },
   {
    "duration": 104,
    "start_time": "2021-11-30T07:39:26.871Z"
   },
   {
    "duration": 3521,
    "start_time": "2021-11-30T07:39:23.457Z"
   },
   {
    "duration": 3517,
    "start_time": "2021-11-30T07:39:23.462Z"
   },
   {
    "duration": 3513,
    "start_time": "2021-11-30T07:39:23.468Z"
   },
   {
    "duration": 3510,
    "start_time": "2021-11-30T07:39:23.472Z"
   },
   {
    "duration": 3507,
    "start_time": "2021-11-30T07:39:23.476Z"
   },
   {
    "duration": 3505,
    "start_time": "2021-11-30T07:39:23.480Z"
   },
   {
    "duration": 3504,
    "start_time": "2021-11-30T07:39:23.482Z"
   },
   {
    "duration": 6,
    "start_time": "2021-11-30T07:40:53.017Z"
   },
   {
    "duration": 6,
    "start_time": "2021-11-30T07:40:57.862Z"
   },
   {
    "duration": 194,
    "start_time": "2021-11-30T07:41:00.532Z"
   },
   {
    "duration": 693,
    "start_time": "2021-11-30T07:47:21.657Z"
   },
   {
    "duration": 9,
    "start_time": "2021-11-30T07:51:07.229Z"
   },
   {
    "duration": 606,
    "start_time": "2021-11-30T07:51:10.515Z"
   },
   {
    "duration": 7,
    "start_time": "2021-11-30T07:55:07.305Z"
   },
   {
    "duration": 40,
    "start_time": "2021-11-30T07:55:09.626Z"
   },
   {
    "duration": 43,
    "start_time": "2021-11-30T07:55:15.724Z"
   },
   {
    "duration": 38,
    "start_time": "2021-11-30T07:55:18.883Z"
   },
   {
    "duration": 46,
    "start_time": "2021-11-30T07:55:22.102Z"
   },
   {
    "duration": 13,
    "start_time": "2021-11-30T07:57:32.634Z"
   },
   {
    "duration": 16,
    "start_time": "2021-11-30T07:57:35.895Z"
   },
   {
    "duration": 3,
    "start_time": "2021-11-30T07:57:39.301Z"
   },
   {
    "duration": 204,
    "start_time": "2021-11-30T07:57:39.311Z"
   },
   {
    "duration": 16,
    "start_time": "2021-11-30T07:57:39.517Z"
   },
   {
    "duration": 50,
    "start_time": "2021-11-30T07:57:39.536Z"
   },
   {
    "duration": 5,
    "start_time": "2021-11-30T07:57:39.589Z"
   },
   {
    "duration": 30,
    "start_time": "2021-11-30T07:57:39.596Z"
   },
   {
    "duration": 5,
    "start_time": "2021-11-30T07:57:39.628Z"
   },
   {
    "duration": 60,
    "start_time": "2021-11-30T07:57:39.635Z"
   },
   {
    "duration": 25,
    "start_time": "2021-11-30T07:57:39.698Z"
   },
   {
    "duration": 51,
    "start_time": "2021-11-30T07:57:39.727Z"
   },
   {
    "duration": 105,
    "start_time": "2021-11-30T07:57:39.781Z"
   },
   {
    "duration": 111,
    "start_time": "2021-11-30T07:57:39.889Z"
   },
   {
    "duration": 95,
    "start_time": "2021-11-30T07:57:40.003Z"
   },
   {
    "duration": 10,
    "start_time": "2021-11-30T07:57:40.100Z"
   },
   {
    "duration": 9,
    "start_time": "2021-11-30T07:57:40.112Z"
   },
   {
    "duration": 21,
    "start_time": "2021-11-30T07:57:40.124Z"
   },
   {
    "duration": 10,
    "start_time": "2021-11-30T07:57:40.167Z"
   },
   {
    "duration": 22,
    "start_time": "2021-11-30T07:57:40.180Z"
   },
   {
    "duration": 72,
    "start_time": "2021-11-30T07:57:40.204Z"
   },
   {
    "duration": 4,
    "start_time": "2021-11-30T07:57:40.278Z"
   },
   {
    "duration": 29,
    "start_time": "2021-11-30T07:57:40.284Z"
   },
   {
    "duration": 19,
    "start_time": "2021-11-30T07:57:40.315Z"
   },
   {
    "duration": 43,
    "start_time": "2021-11-30T07:57:40.337Z"
   },
   {
    "duration": 20,
    "start_time": "2021-11-30T07:57:40.383Z"
   },
   {
    "duration": 21,
    "start_time": "2021-11-30T07:57:40.405Z"
   },
   {
    "duration": 55,
    "start_time": "2021-11-30T07:57:40.428Z"
   },
   {
    "duration": 12,
    "start_time": "2021-11-30T07:57:40.485Z"
   },
   {
    "duration": 22,
    "start_time": "2021-11-30T07:57:40.501Z"
   },
   {
    "duration": 43,
    "start_time": "2021-11-30T07:57:40.526Z"
   },
   {
    "duration": 6,
    "start_time": "2021-11-30T07:57:40.571Z"
   },
   {
    "duration": 45,
    "start_time": "2021-11-30T07:57:40.579Z"
   },
   {
    "duration": 54,
    "start_time": "2021-11-30T07:57:40.627Z"
   },
   {
    "duration": 40,
    "start_time": "2021-11-30T07:57:40.684Z"
   },
   {
    "duration": 71,
    "start_time": "2021-11-30T07:57:40.727Z"
   },
   {
    "duration": 3,
    "start_time": "2021-11-30T07:57:40.802Z"
   },
   {
    "duration": 14,
    "start_time": "2021-11-30T07:57:40.808Z"
   },
   {
    "duration": 11,
    "start_time": "2021-11-30T07:57:40.825Z"
   },
   {
    "duration": 10,
    "start_time": "2021-11-30T07:57:40.838Z"
   },
   {
    "duration": 287,
    "start_time": "2021-11-30T08:10:23.537Z"
   },
   {
    "duration": 12,
    "start_time": "2021-11-30T08:10:54.962Z"
   },
   {
    "duration": 7,
    "start_time": "2021-11-30T08:11:25.017Z"
   },
   {
    "duration": 7,
    "start_time": "2021-11-30T08:12:29.966Z"
   },
   {
    "duration": 7,
    "start_time": "2021-11-30T08:12:46.174Z"
   },
   {
    "duration": 4,
    "start_time": "2021-11-30T08:43:43.013Z"
   },
   {
    "duration": 212,
    "start_time": "2021-11-30T08:43:43.020Z"
   },
   {
    "duration": 16,
    "start_time": "2021-11-30T08:43:43.235Z"
   },
   {
    "duration": 47,
    "start_time": "2021-11-30T08:43:43.254Z"
   },
   {
    "duration": 6,
    "start_time": "2021-11-30T08:43:43.304Z"
   },
   {
    "duration": 55,
    "start_time": "2021-11-30T08:43:43.312Z"
   },
   {
    "duration": 5,
    "start_time": "2021-11-30T08:43:43.370Z"
   },
   {
    "duration": 33,
    "start_time": "2021-11-30T08:43:43.377Z"
   },
   {
    "duration": 24,
    "start_time": "2021-11-30T08:43:43.413Z"
   },
   {
    "duration": 55,
    "start_time": "2021-11-30T08:43:43.440Z"
   },
   {
    "duration": 109,
    "start_time": "2021-11-30T08:43:43.498Z"
   },
   {
    "duration": 127,
    "start_time": "2021-11-30T08:43:43.610Z"
   },
   {
    "duration": 101,
    "start_time": "2021-11-30T08:43:43.740Z"
   },
   {
    "duration": 23,
    "start_time": "2021-11-30T08:43:43.847Z"
   },
   {
    "duration": 4,
    "start_time": "2021-11-30T08:43:43.873Z"
   },
   {
    "duration": 18,
    "start_time": "2021-11-30T08:43:43.880Z"
   },
   {
    "duration": 15,
    "start_time": "2021-11-30T08:43:43.900Z"
   },
   {
    "duration": 61,
    "start_time": "2021-11-30T08:43:43.919Z"
   },
   {
    "duration": 45,
    "start_time": "2021-11-30T08:43:43.983Z"
   },
   {
    "duration": 6,
    "start_time": "2021-11-30T08:43:44.031Z"
   },
   {
    "duration": 25,
    "start_time": "2021-11-30T08:43:44.068Z"
   },
   {
    "duration": 20,
    "start_time": "2021-11-30T08:43:44.096Z"
   },
   {
    "duration": 54,
    "start_time": "2021-11-30T08:43:44.120Z"
   },
   {
    "duration": 23,
    "start_time": "2021-11-30T08:43:44.177Z"
   },
   {
    "duration": 22,
    "start_time": "2021-11-30T08:43:44.203Z"
   },
   {
    "duration": 52,
    "start_time": "2021-11-30T08:43:44.228Z"
   },
   {
    "duration": 13,
    "start_time": "2021-11-30T08:43:44.283Z"
   },
   {
    "duration": 22,
    "start_time": "2021-11-30T08:43:44.299Z"
   },
   {
    "duration": 48,
    "start_time": "2021-11-30T08:43:44.324Z"
   },
   {
    "duration": 6,
    "start_time": "2021-11-30T08:43:44.374Z"
   },
   {
    "duration": 49,
    "start_time": "2021-11-30T08:43:44.383Z"
   },
   {
    "duration": 46,
    "start_time": "2021-11-30T08:43:44.435Z"
   },
   {
    "duration": 34,
    "start_time": "2021-11-30T08:43:44.484Z"
   },
   {
    "duration": 55,
    "start_time": "2021-11-30T08:43:44.520Z"
   },
   {
    "duration": 12,
    "start_time": "2021-11-30T08:43:44.577Z"
   },
   {
    "duration": 7,
    "start_time": "2021-11-30T08:43:44.592Z"
   },
   {
    "duration": 13,
    "start_time": "2021-11-30T08:43:44.602Z"
   },
   {
    "duration": 48,
    "start_time": "2021-11-30T08:43:44.619Z"
   },
   {
    "duration": 622,
    "start_time": "2021-11-30T18:54:47.636Z"
   },
   {
    "duration": 134,
    "start_time": "2021-11-30T18:54:48.260Z"
   },
   {
    "duration": 17,
    "start_time": "2021-11-30T18:54:48.396Z"
   },
   {
    "duration": 25,
    "start_time": "2021-11-30T18:54:48.415Z"
   },
   {
    "duration": 11,
    "start_time": "2021-11-30T18:54:48.441Z"
   },
   {
    "duration": 28,
    "start_time": "2021-11-30T18:54:48.454Z"
   },
   {
    "duration": 8,
    "start_time": "2021-11-30T18:54:48.484Z"
   },
   {
    "duration": 25,
    "start_time": "2021-11-30T18:54:48.495Z"
   },
   {
    "duration": 17,
    "start_time": "2021-11-30T18:54:48.522Z"
   },
   {
    "duration": 44,
    "start_time": "2021-11-30T18:54:48.540Z"
   },
   {
    "duration": 57,
    "start_time": "2021-11-30T18:54:48.585Z"
   },
   {
    "duration": 88,
    "start_time": "2021-11-30T18:54:48.643Z"
   },
   {
    "duration": 69,
    "start_time": "2021-11-30T18:54:48.732Z"
   },
   {
    "duration": 7,
    "start_time": "2021-11-30T18:54:48.802Z"
   },
   {
    "duration": 5,
    "start_time": "2021-11-30T18:54:48.810Z"
   },
   {
    "duration": 15,
    "start_time": "2021-11-30T18:54:48.817Z"
   },
   {
    "duration": 10,
    "start_time": "2021-11-30T18:54:48.834Z"
   },
   {
    "duration": 27,
    "start_time": "2021-11-30T18:54:48.846Z"
   },
   {
    "duration": 30,
    "start_time": "2021-11-30T18:54:48.875Z"
   },
   {
    "duration": 4,
    "start_time": "2021-11-30T18:54:48.907Z"
   },
   {
    "duration": 26,
    "start_time": "2021-11-30T18:54:48.913Z"
   },
   {
    "duration": 34,
    "start_time": "2021-11-30T18:54:48.941Z"
   },
   {
    "duration": 17,
    "start_time": "2021-11-30T18:54:48.979Z"
   },
   {
    "duration": 15,
    "start_time": "2021-11-30T18:54:48.998Z"
   },
   {
    "duration": 18,
    "start_time": "2021-11-30T18:54:49.014Z"
   },
   {
    "duration": 16,
    "start_time": "2021-11-30T18:54:49.063Z"
   },
   {
    "duration": 8,
    "start_time": "2021-11-30T18:54:49.080Z"
   },
   {
    "duration": 15,
    "start_time": "2021-11-30T18:54:49.090Z"
   },
   {
    "duration": 10,
    "start_time": "2021-11-30T18:54:49.107Z"
   },
   {
    "duration": 8,
    "start_time": "2021-11-30T18:54:49.118Z"
   },
   {
    "duration": 49,
    "start_time": "2021-11-30T18:54:49.127Z"
   },
   {
    "duration": 19,
    "start_time": "2021-11-30T18:54:49.177Z"
   },
   {
    "duration": 43,
    "start_time": "2021-11-30T18:54:49.197Z"
   },
   {
    "duration": 16,
    "start_time": "2021-11-30T18:54:49.241Z"
   },
   {
    "duration": 8,
    "start_time": "2021-11-30T18:54:49.259Z"
   },
   {
    "duration": 7,
    "start_time": "2021-11-30T18:54:49.269Z"
   },
   {
    "duration": 12,
    "start_time": "2021-11-30T18:54:49.277Z"
   },
   {
    "duration": 16,
    "start_time": "2021-11-30T18:54:49.290Z"
   },
   {
    "duration": 89,
    "start_time": "2021-11-30T19:50:36.929Z"
   },
   {
    "duration": 605,
    "start_time": "2021-11-30T19:56:46.063Z"
   },
   {
    "duration": 143,
    "start_time": "2021-11-30T19:56:46.670Z"
   },
   {
    "duration": 18,
    "start_time": "2021-11-30T19:56:46.819Z"
   },
   {
    "duration": 43,
    "start_time": "2021-11-30T19:56:46.839Z"
   },
   {
    "duration": 23,
    "start_time": "2021-11-30T19:56:46.883Z"
   },
   {
    "duration": 46,
    "start_time": "2021-11-30T19:56:46.908Z"
   },
   {
    "duration": 24,
    "start_time": "2021-11-30T19:56:46.955Z"
   },
   {
    "duration": 67,
    "start_time": "2021-11-30T19:56:46.982Z"
   },
   {
    "duration": 19,
    "start_time": "2021-11-30T19:56:47.052Z"
   },
   {
    "duration": 25,
    "start_time": "2021-11-30T19:56:47.073Z"
   },
   {
    "duration": 74,
    "start_time": "2021-11-30T19:56:47.100Z"
   },
   {
    "duration": 87,
    "start_time": "2021-11-30T19:56:47.176Z"
   },
   {
    "duration": 53,
    "start_time": "2021-11-30T19:56:47.265Z"
   },
   {
    "duration": 8,
    "start_time": "2021-11-30T19:56:47.320Z"
   },
   {
    "duration": 4,
    "start_time": "2021-11-30T19:56:47.329Z"
   },
   {
    "duration": 33,
    "start_time": "2021-11-30T19:56:47.335Z"
   },
   {
    "duration": 8,
    "start_time": "2021-11-30T19:56:47.371Z"
   },
   {
    "duration": 18,
    "start_time": "2021-11-30T19:56:47.381Z"
   },
   {
    "duration": 30,
    "start_time": "2021-11-30T19:56:47.400Z"
   },
   {
    "duration": 33,
    "start_time": "2021-11-30T19:56:47.431Z"
   },
   {
    "duration": 31,
    "start_time": "2021-11-30T19:56:47.465Z"
   },
   {
    "duration": 14,
    "start_time": "2021-11-30T19:56:47.498Z"
   },
   {
    "duration": 15,
    "start_time": "2021-11-30T19:56:47.514Z"
   },
   {
    "duration": 14,
    "start_time": "2021-11-30T19:56:47.531Z"
   },
   {
    "duration": 17,
    "start_time": "2021-11-30T19:56:47.563Z"
   },
   {
    "duration": 14,
    "start_time": "2021-11-30T19:56:47.583Z"
   },
   {
    "duration": 8,
    "start_time": "2021-11-30T19:56:47.599Z"
   },
   {
    "duration": 23,
    "start_time": "2021-11-30T19:56:47.608Z"
   },
   {
    "duration": 31,
    "start_time": "2021-11-30T19:56:47.634Z"
   },
   {
    "duration": 4,
    "start_time": "2021-11-30T19:56:47.668Z"
   },
   {
    "duration": 32,
    "start_time": "2021-11-30T19:56:47.674Z"
   },
   {
    "duration": 23,
    "start_time": "2021-11-30T19:56:47.708Z"
   },
   {
    "duration": 52,
    "start_time": "2021-11-30T19:56:47.733Z"
   },
   {
    "duration": 18,
    "start_time": "2021-11-30T19:56:47.787Z"
   },
   {
    "duration": 9,
    "start_time": "2021-11-30T19:56:47.807Z"
   },
   {
    "duration": 4,
    "start_time": "2021-11-30T19:56:47.817Z"
   },
   {
    "duration": 8,
    "start_time": "2021-11-30T19:56:47.823Z"
   },
   {
    "duration": 33,
    "start_time": "2021-11-30T19:56:47.832Z"
   },
   {
    "duration": 608,
    "start_time": "2021-12-01T07:28:52.524Z"
   },
   {
    "duration": 155,
    "start_time": "2021-12-01T07:28:53.134Z"
   },
   {
    "duration": 17,
    "start_time": "2021-12-01T07:28:53.291Z"
   },
   {
    "duration": 25,
    "start_time": "2021-12-01T07:28:53.310Z"
   },
   {
    "duration": 4,
    "start_time": "2021-12-01T07:28:53.336Z"
   },
   {
    "duration": 28,
    "start_time": "2021-12-01T07:28:53.363Z"
   },
   {
    "duration": 4,
    "start_time": "2021-12-01T07:28:53.393Z"
   },
   {
    "duration": 31,
    "start_time": "2021-12-01T07:28:53.399Z"
   },
   {
    "duration": 40,
    "start_time": "2021-12-01T07:28:53.432Z"
   },
   {
    "duration": 30,
    "start_time": "2021-12-01T07:28:53.475Z"
   },
   {
    "duration": 74,
    "start_time": "2021-12-01T07:28:53.507Z"
   },
   {
    "duration": 82,
    "start_time": "2021-12-01T07:28:53.583Z"
   },
   {
    "duration": 62,
    "start_time": "2021-12-01T07:28:53.667Z"
   },
   {
    "duration": 6,
    "start_time": "2021-12-01T07:28:53.731Z"
   },
   {
    "duration": 23,
    "start_time": "2021-12-01T07:28:53.739Z"
   },
   {
    "duration": 31,
    "start_time": "2021-12-01T07:28:53.765Z"
   },
   {
    "duration": 26,
    "start_time": "2021-12-01T07:28:53.798Z"
   },
   {
    "duration": 26,
    "start_time": "2021-12-01T07:28:53.826Z"
   },
   {
    "duration": 46,
    "start_time": "2021-12-01T07:28:53.854Z"
   },
   {
    "duration": 4,
    "start_time": "2021-12-01T07:28:53.901Z"
   },
   {
    "duration": 43,
    "start_time": "2021-12-01T07:28:53.906Z"
   },
   {
    "duration": 22,
    "start_time": "2021-12-01T07:28:53.951Z"
   },
   {
    "duration": 59,
    "start_time": "2021-12-01T07:28:53.976Z"
   },
   {
    "duration": 26,
    "start_time": "2021-12-01T07:28:54.038Z"
   },
   {
    "duration": 32,
    "start_time": "2021-12-01T07:28:54.066Z"
   },
   {
    "duration": 26,
    "start_time": "2021-12-01T07:28:54.100Z"
   },
   {
    "duration": 8,
    "start_time": "2021-12-01T07:28:54.127Z"
   },
   {
    "duration": 15,
    "start_time": "2021-12-01T07:28:54.137Z"
   },
   {
    "duration": 17,
    "start_time": "2021-12-01T07:28:54.153Z"
   },
   {
    "duration": 5,
    "start_time": "2021-12-01T07:28:54.172Z"
   },
   {
    "duration": 30,
    "start_time": "2021-12-01T07:28:54.179Z"
   },
   {
    "duration": 17,
    "start_time": "2021-12-01T07:28:54.211Z"
   },
   {
    "duration": 48,
    "start_time": "2021-12-01T07:28:54.230Z"
   },
   {
    "duration": 17,
    "start_time": "2021-12-01T07:28:54.280Z"
   },
   {
    "duration": 23,
    "start_time": "2021-12-01T07:28:54.299Z"
   },
   {
    "duration": 9,
    "start_time": "2021-12-01T07:28:54.324Z"
   },
   {
    "duration": 15,
    "start_time": "2021-12-01T07:28:54.335Z"
   },
   {
    "duration": 20,
    "start_time": "2021-12-01T07:28:54.351Z"
   },
   {
    "duration": 4,
    "start_time": "2021-12-01T07:34:54.696Z"
   },
   {
    "duration": 4,
    "start_time": "2021-12-01T07:35:37.236Z"
   },
   {
    "duration": 78,
    "start_time": "2021-12-01T07:39:13.238Z"
   },
   {
    "duration": 62,
    "start_time": "2021-12-01T07:39:18.761Z"
   },
   {
    "duration": 40,
    "start_time": "2021-12-01T07:40:58.417Z"
   },
   {
    "duration": 46,
    "start_time": "2021-12-01T07:47:13.503Z"
   },
   {
    "duration": 3,
    "start_time": "2021-12-01T07:54:36.233Z"
   },
   {
    "duration": 4,
    "start_time": "2021-12-01T07:54:37.652Z"
   },
   {
    "duration": 3,
    "start_time": "2021-12-01T07:55:09.261Z"
   },
   {
    "duration": 152,
    "start_time": "2021-12-01T07:55:09.268Z"
   },
   {
    "duration": 11,
    "start_time": "2021-12-01T07:55:09.422Z"
   },
   {
    "duration": 43,
    "start_time": "2021-12-01T07:55:09.435Z"
   },
   {
    "duration": 27,
    "start_time": "2021-12-01T07:55:09.480Z"
   },
   {
    "duration": 35,
    "start_time": "2021-12-01T07:55:09.508Z"
   },
   {
    "duration": 15,
    "start_time": "2021-12-01T07:55:09.544Z"
   },
   {
    "duration": 27,
    "start_time": "2021-12-01T07:55:09.560Z"
   },
   {
    "duration": 17,
    "start_time": "2021-12-01T07:55:09.589Z"
   },
   {
    "duration": 21,
    "start_time": "2021-12-01T07:55:09.610Z"
   },
   {
    "duration": 74,
    "start_time": "2021-12-01T07:55:09.633Z"
   },
   {
    "duration": 73,
    "start_time": "2021-12-01T07:55:09.709Z"
   },
   {
    "duration": 51,
    "start_time": "2021-12-01T07:55:09.784Z"
   },
   {
    "duration": 52,
    "start_time": "2021-12-01T07:55:09.836Z"
   },
   {
    "duration": 3,
    "start_time": "2021-12-01T07:55:09.890Z"
   },
   {
    "duration": 19,
    "start_time": "2021-12-01T07:55:09.895Z"
   },
   {
    "duration": 7,
    "start_time": "2021-12-01T07:55:09.916Z"
   },
   {
    "duration": 25,
    "start_time": "2021-12-01T07:55:09.925Z"
   },
   {
    "duration": 37,
    "start_time": "2021-12-01T07:55:09.952Z"
   },
   {
    "duration": 3,
    "start_time": "2021-12-01T07:55:09.991Z"
   },
   {
    "duration": 24,
    "start_time": "2021-12-01T07:55:09.996Z"
   },
   {
    "duration": 25,
    "start_time": "2021-12-01T07:55:10.022Z"
   },
   {
    "duration": 33,
    "start_time": "2021-12-01T07:55:10.048Z"
   },
   {
    "duration": 15,
    "start_time": "2021-12-01T07:55:10.083Z"
   },
   {
    "duration": 20,
    "start_time": "2021-12-01T07:55:10.100Z"
   },
   {
    "duration": 16,
    "start_time": "2021-12-01T07:55:10.122Z"
   },
   {
    "duration": 28,
    "start_time": "2021-12-01T07:55:10.140Z"
   },
   {
    "duration": 13,
    "start_time": "2021-12-01T07:55:10.172Z"
   },
   {
    "duration": 10,
    "start_time": "2021-12-01T07:55:10.187Z"
   },
   {
    "duration": 7,
    "start_time": "2021-12-01T07:55:10.199Z"
   },
   {
    "duration": 42,
    "start_time": "2021-12-01T07:55:10.208Z"
   },
   {
    "duration": 25,
    "start_time": "2021-12-01T07:55:10.251Z"
   },
   {
    "duration": 24,
    "start_time": "2021-12-01T07:55:10.278Z"
   },
   {
    "duration": 18,
    "start_time": "2021-12-01T07:55:10.304Z"
   },
   {
    "duration": 8,
    "start_time": "2021-12-01T07:55:10.323Z"
   },
   {
    "duration": 31,
    "start_time": "2021-12-01T07:55:10.333Z"
   },
   {
    "duration": 6,
    "start_time": "2021-12-01T07:55:10.366Z"
   },
   {
    "duration": 24,
    "start_time": "2021-12-01T07:55:10.373Z"
   },
   {
    "duration": 18,
    "start_time": "2021-12-01T08:01:45.006Z"
   },
   {
    "duration": 40,
    "start_time": "2021-12-01T08:04:47.200Z"
   },
   {
    "duration": 16,
    "start_time": "2021-12-01T08:30:16.501Z"
   },
   {
    "duration": 34,
    "start_time": "2021-12-01T08:30:20.277Z"
   },
   {
    "duration": 3,
    "start_time": "2021-12-01T08:33:37.478Z"
   },
   {
    "duration": 17,
    "start_time": "2021-12-01T08:33:52.035Z"
   },
   {
    "duration": 15,
    "start_time": "2021-12-01T08:33:54.767Z"
   },
   {
    "duration": 16,
    "start_time": "2021-12-01T08:33:57.825Z"
   },
   {
    "duration": 15,
    "start_time": "2021-12-01T08:34:01.124Z"
   },
   {
    "duration": 18,
    "start_time": "2021-12-01T08:34:04.295Z"
   },
   {
    "duration": 17,
    "start_time": "2021-12-01T08:34:08.639Z"
   },
   {
    "duration": 9,
    "start_time": "2021-12-01T08:35:56.138Z"
   },
   {
    "duration": 13,
    "start_time": "2021-12-01T08:37:32.420Z"
   },
   {
    "duration": 10,
    "start_time": "2021-12-01T08:37:34.817Z"
   },
   {
    "duration": 4,
    "start_time": "2021-12-01T08:38:10.150Z"
   },
   {
    "duration": 23,
    "start_time": "2021-12-01T08:38:22.827Z"
   },
   {
    "duration": 18,
    "start_time": "2021-12-01T08:38:46.369Z"
   },
   {
    "duration": 23,
    "start_time": "2021-12-01T08:38:49.540Z"
   },
   {
    "duration": 18,
    "start_time": "2021-12-01T08:38:52.444Z"
   },
   {
    "duration": 5,
    "start_time": "2021-12-01T08:39:15.123Z"
   },
   {
    "duration": 3,
    "start_time": "2021-12-01T08:43:40.851Z"
   },
   {
    "duration": 171,
    "start_time": "2021-12-01T08:43:40.859Z"
   },
   {
    "duration": 11,
    "start_time": "2021-12-01T08:43:41.032Z"
   },
   {
    "duration": 37,
    "start_time": "2021-12-01T08:43:41.045Z"
   },
   {
    "duration": 3,
    "start_time": "2021-12-01T08:43:41.084Z"
   },
   {
    "duration": 31,
    "start_time": "2021-12-01T08:43:41.089Z"
   },
   {
    "duration": 4,
    "start_time": "2021-12-01T08:43:41.122Z"
   },
   {
    "duration": 41,
    "start_time": "2021-12-01T08:43:41.127Z"
   },
   {
    "duration": 21,
    "start_time": "2021-12-01T08:43:41.170Z"
   },
   {
    "duration": 32,
    "start_time": "2021-12-01T08:43:41.194Z"
   },
   {
    "duration": 77,
    "start_time": "2021-12-01T08:43:41.228Z"
   },
   {
    "duration": 85,
    "start_time": "2021-12-01T08:43:41.306Z"
   },
   {
    "duration": 57,
    "start_time": "2021-12-01T08:43:41.393Z"
   },
   {
    "duration": 53,
    "start_time": "2021-12-01T08:43:41.452Z"
   },
   {
    "duration": 4,
    "start_time": "2021-12-01T08:43:41.508Z"
   },
   {
    "duration": 21,
    "start_time": "2021-12-01T08:43:41.513Z"
   },
   {
    "duration": 66,
    "start_time": "2021-12-01T08:43:41.535Z"
   },
   {
    "duration": 17,
    "start_time": "2021-12-01T08:43:41.602Z"
   },
   {
    "duration": 51,
    "start_time": "2021-12-01T08:43:41.620Z"
   },
   {
    "duration": 4,
    "start_time": "2021-12-01T08:43:41.673Z"
   },
   {
    "duration": 24,
    "start_time": "2021-12-01T08:43:41.678Z"
   },
   {
    "duration": 16,
    "start_time": "2021-12-01T08:43:41.704Z"
   },
   {
    "duration": 21,
    "start_time": "2021-12-01T08:43:41.722Z"
   },
   {
    "duration": 17,
    "start_time": "2021-12-01T08:43:41.763Z"
   },
   {
    "duration": 17,
    "start_time": "2021-12-01T08:43:41.782Z"
   },
   {
    "duration": 16,
    "start_time": "2021-12-01T08:43:41.801Z"
   },
   {
    "duration": 9,
    "start_time": "2021-12-01T08:43:41.819Z"
   },
   {
    "duration": 45,
    "start_time": "2021-12-01T08:43:41.832Z"
   },
   {
    "duration": 17,
    "start_time": "2021-12-01T08:43:41.879Z"
   },
   {
    "duration": 6,
    "start_time": "2021-12-01T08:43:41.898Z"
   },
   {
    "duration": 33,
    "start_time": "2021-12-01T08:43:41.906Z"
   },
   {
    "duration": 17,
    "start_time": "2021-12-01T08:43:41.963Z"
   },
   {
    "duration": 27,
    "start_time": "2021-12-01T08:43:41.982Z"
   },
   {
    "duration": 18,
    "start_time": "2021-12-01T08:43:42.011Z"
   },
   {
    "duration": 34,
    "start_time": "2021-12-01T08:43:42.030Z"
   },
   {
    "duration": 15,
    "start_time": "2021-12-01T08:43:42.066Z"
   },
   {
    "duration": 37,
    "start_time": "2021-12-01T08:43:42.083Z"
   },
   {
    "duration": 37,
    "start_time": "2021-12-01T08:43:42.122Z"
   },
   {
    "duration": 54,
    "start_time": "2021-12-01T21:04:17.335Z"
   },
   {
    "duration": 558,
    "start_time": "2021-12-01T21:14:23.100Z"
   },
   {
    "duration": 147,
    "start_time": "2021-12-01T21:14:23.660Z"
   },
   {
    "duration": 15,
    "start_time": "2021-12-01T21:14:23.809Z"
   },
   {
    "duration": 26,
    "start_time": "2021-12-01T21:14:23.826Z"
   },
   {
    "duration": 4,
    "start_time": "2021-12-01T21:14:23.853Z"
   },
   {
    "duration": 59,
    "start_time": "2021-12-01T21:14:23.858Z"
   },
   {
    "duration": 13,
    "start_time": "2021-12-01T21:14:23.920Z"
   },
   {
    "duration": 53,
    "start_time": "2021-12-01T21:14:23.936Z"
   },
   {
    "duration": 40,
    "start_time": "2021-12-01T21:14:23.992Z"
   },
   {
    "duration": 43,
    "start_time": "2021-12-01T21:14:24.035Z"
   },
   {
    "duration": 69,
    "start_time": "2021-12-01T21:14:24.080Z"
   },
   {
    "duration": 79,
    "start_time": "2021-12-01T21:14:24.150Z"
   },
   {
    "duration": 51,
    "start_time": "2021-12-01T21:14:24.230Z"
   },
   {
    "duration": 41,
    "start_time": "2021-12-01T21:14:24.290Z"
   },
   {
    "duration": 3,
    "start_time": "2021-12-01T21:14:24.333Z"
   },
   {
    "duration": 17,
    "start_time": "2021-12-01T21:14:24.337Z"
   },
   {
    "duration": 55,
    "start_time": "2021-12-01T21:14:24.356Z"
   },
   {
    "duration": 15,
    "start_time": "2021-12-01T21:14:24.413Z"
   },
   {
    "duration": 29,
    "start_time": "2021-12-01T21:14:24.429Z"
   },
   {
    "duration": 4,
    "start_time": "2021-12-01T21:14:24.459Z"
   },
   {
    "duration": 39,
    "start_time": "2021-12-01T21:14:24.465Z"
   },
   {
    "duration": 14,
    "start_time": "2021-12-01T21:14:24.506Z"
   },
   {
    "duration": 14,
    "start_time": "2021-12-01T21:14:24.524Z"
   },
   {
    "duration": 13,
    "start_time": "2021-12-01T21:14:24.540Z"
   },
   {
    "duration": 45,
    "start_time": "2021-12-01T21:14:24.554Z"
   },
   {
    "duration": 13,
    "start_time": "2021-12-01T21:14:24.601Z"
   },
   {
    "duration": 13,
    "start_time": "2021-12-01T21:14:24.616Z"
   },
   {
    "duration": 18,
    "start_time": "2021-12-01T21:14:24.631Z"
   },
   {
    "duration": 9,
    "start_time": "2021-12-01T21:14:24.651Z"
   },
   {
    "duration": 4,
    "start_time": "2021-12-01T21:14:24.661Z"
   },
   {
    "duration": 24,
    "start_time": "2021-12-01T21:14:24.692Z"
   },
   {
    "duration": 19,
    "start_time": "2021-12-01T21:14:24.717Z"
   },
   {
    "duration": 23,
    "start_time": "2021-12-01T21:14:24.737Z"
   },
   {
    "duration": 41,
    "start_time": "2021-12-01T21:14:24.762Z"
   },
   {
    "duration": 8,
    "start_time": "2021-12-01T21:14:24.805Z"
   },
   {
    "duration": 5,
    "start_time": "2021-12-01T21:14:24.814Z"
   },
   {
    "duration": 8,
    "start_time": "2021-12-01T21:14:24.821Z"
   },
   {
    "duration": 7,
    "start_time": "2021-12-01T21:14:24.830Z"
   },
   {
    "duration": 4,
    "start_time": "2021-12-01T21:15:57.163Z"
   },
   {
    "duration": 399,
    "start_time": "2021-12-01T21:15:58.848Z"
   },
   {
    "duration": 4,
    "start_time": "2021-12-01T21:16:21.750Z"
   },
   {
    "duration": 18,
    "start_time": "2021-12-01T21:16:23.177Z"
   },
   {
    "duration": 4,
    "start_time": "2021-12-01T21:16:50.574Z"
   },
   {
    "duration": 24,
    "start_time": "2021-12-01T21:16:52.739Z"
   },
   {
    "duration": 589,
    "start_time": "2021-12-01T21:29:53.719Z"
   },
   {
    "duration": 134,
    "start_time": "2021-12-01T21:29:54.310Z"
   },
   {
    "duration": 16,
    "start_time": "2021-12-01T21:29:54.446Z"
   },
   {
    "duration": 32,
    "start_time": "2021-12-01T21:29:54.464Z"
   },
   {
    "duration": 4,
    "start_time": "2021-12-01T21:29:54.497Z"
   },
   {
    "duration": 29,
    "start_time": "2021-12-01T21:29:54.502Z"
   },
   {
    "duration": 5,
    "start_time": "2021-12-01T21:29:54.533Z"
   },
   {
    "duration": 23,
    "start_time": "2021-12-01T21:29:54.540Z"
   },
   {
    "duration": 38,
    "start_time": "2021-12-01T21:29:54.565Z"
   },
   {
    "duration": 23,
    "start_time": "2021-12-01T21:29:54.605Z"
   },
   {
    "duration": 74,
    "start_time": "2021-12-01T21:29:54.630Z"
   },
   {
    "duration": 66,
    "start_time": "2021-12-01T21:29:54.706Z"
   },
   {
    "duration": 64,
    "start_time": "2021-12-01T21:29:54.774Z"
   },
   {
    "duration": 57,
    "start_time": "2021-12-01T21:29:54.840Z"
   },
   {
    "duration": 3,
    "start_time": "2021-12-01T21:29:54.899Z"
   },
   {
    "duration": 16,
    "start_time": "2021-12-01T21:29:54.904Z"
   },
   {
    "duration": 39,
    "start_time": "2021-12-01T21:29:54.922Z"
   },
   {
    "duration": 41,
    "start_time": "2021-12-01T21:29:54.963Z"
   },
   {
    "duration": 28,
    "start_time": "2021-12-01T21:29:55.006Z"
   },
   {
    "duration": 3,
    "start_time": "2021-12-01T21:29:55.036Z"
   },
   {
    "duration": 25,
    "start_time": "2021-12-01T21:29:55.041Z"
   },
   {
    "duration": 31,
    "start_time": "2021-12-01T21:29:55.068Z"
   },
   {
    "duration": 15,
    "start_time": "2021-12-01T21:29:55.103Z"
   },
   {
    "duration": 14,
    "start_time": "2021-12-01T21:29:55.121Z"
   },
   {
    "duration": 15,
    "start_time": "2021-12-01T21:29:55.136Z"
   },
   {
    "duration": 44,
    "start_time": "2021-12-01T21:29:55.153Z"
   },
   {
    "duration": 8,
    "start_time": "2021-12-01T21:29:55.199Z"
   },
   {
    "duration": 15,
    "start_time": "2021-12-01T21:29:55.208Z"
   },
   {
    "duration": 8,
    "start_time": "2021-12-01T21:29:55.224Z"
   },
   {
    "duration": 4,
    "start_time": "2021-12-01T21:29:55.234Z"
   },
   {
    "duration": 28,
    "start_time": "2021-12-01T21:29:55.239Z"
   },
   {
    "duration": 38,
    "start_time": "2021-12-01T21:29:55.268Z"
   },
   {
    "duration": 22,
    "start_time": "2021-12-01T21:29:55.307Z"
   },
   {
    "duration": 16,
    "start_time": "2021-12-01T21:29:55.330Z"
   },
   {
    "duration": 7,
    "start_time": "2021-12-01T21:29:55.347Z"
   },
   {
    "duration": 37,
    "start_time": "2021-12-01T21:29:55.355Z"
   },
   {
    "duration": 6,
    "start_time": "2021-12-01T21:29:55.394Z"
   },
   {
    "duration": 5,
    "start_time": "2021-12-01T21:29:55.402Z"
   },
   {
    "duration": 4,
    "start_time": "2021-12-02T07:44:43.550Z"
   },
   {
    "duration": 304,
    "start_time": "2021-12-02T07:49:44.250Z"
   },
   {
    "duration": 537,
    "start_time": "2021-12-02T07:49:52.288Z"
   },
   {
    "duration": 130,
    "start_time": "2021-12-02T07:49:52.827Z"
   },
   {
    "duration": 15,
    "start_time": "2021-12-02T07:49:52.959Z"
   },
   {
    "duration": 24,
    "start_time": "2021-12-02T07:49:52.976Z"
   },
   {
    "duration": 6,
    "start_time": "2021-12-02T07:49:53.002Z"
   },
   {
    "duration": 43,
    "start_time": "2021-12-02T07:49:53.009Z"
   },
   {
    "duration": 7,
    "start_time": "2021-12-02T07:49:53.054Z"
   },
   {
    "duration": 23,
    "start_time": "2021-12-02T07:49:53.064Z"
   },
   {
    "duration": 19,
    "start_time": "2021-12-02T07:49:53.090Z"
   },
   {
    "duration": 43,
    "start_time": "2021-12-02T07:49:53.111Z"
   },
   {
    "duration": 56,
    "start_time": "2021-12-02T07:49:53.156Z"
   },
   {
    "duration": 74,
    "start_time": "2021-12-02T07:49:53.214Z"
   },
   {
    "duration": 58,
    "start_time": "2021-12-02T07:49:53.290Z"
   },
   {
    "duration": 41,
    "start_time": "2021-12-02T07:49:53.349Z"
   },
   {
    "duration": 3,
    "start_time": "2021-12-02T07:49:53.392Z"
   },
   {
    "duration": 17,
    "start_time": "2021-12-02T07:49:53.396Z"
   },
   {
    "duration": 60,
    "start_time": "2021-12-02T07:49:53.414Z"
   },
   {
    "duration": 28,
    "start_time": "2021-12-02T07:49:53.475Z"
   },
   {
    "duration": 42,
    "start_time": "2021-12-02T07:49:53.505Z"
   },
   {
    "duration": 4,
    "start_time": "2021-12-02T07:49:53.549Z"
   },
   {
    "duration": 27,
    "start_time": "2021-12-02T07:49:53.555Z"
   },
   {
    "duration": 14,
    "start_time": "2021-12-02T07:49:53.583Z"
   },
   {
    "duration": 13,
    "start_time": "2021-12-02T07:49:53.600Z"
   },
   {
    "duration": 33,
    "start_time": "2021-12-02T07:49:53.614Z"
   },
   {
    "duration": 15,
    "start_time": "2021-12-02T07:49:53.648Z"
   },
   {
    "duration": 13,
    "start_time": "2021-12-02T07:49:53.664Z"
   },
   {
    "duration": 13,
    "start_time": "2021-12-02T07:49:53.678Z"
   },
   {
    "duration": 11,
    "start_time": "2021-12-02T07:49:53.692Z"
   },
   {
    "duration": 11,
    "start_time": "2021-12-02T07:49:53.704Z"
   },
   {
    "duration": 28,
    "start_time": "2021-12-02T07:49:53.717Z"
   },
   {
    "duration": 26,
    "start_time": "2021-12-02T07:49:53.747Z"
   },
   {
    "duration": 12,
    "start_time": "2021-12-02T07:49:53.775Z"
   },
   {
    "duration": 17,
    "start_time": "2021-12-02T07:49:53.788Z"
   },
   {
    "duration": 13,
    "start_time": "2021-12-02T07:49:53.807Z"
   },
   {
    "duration": 29,
    "start_time": "2021-12-02T07:49:53.821Z"
   },
   {
    "duration": 5,
    "start_time": "2021-12-02T07:49:53.852Z"
   },
   {
    "duration": 9,
    "start_time": "2021-12-02T07:49:53.858Z"
   },
   {
    "duration": 8,
    "start_time": "2021-12-02T07:49:53.868Z"
   },
   {
    "duration": 322,
    "start_time": "2021-12-02T07:51:43.059Z"
   },
   {
    "duration": 342,
    "start_time": "2021-12-02T07:52:48.808Z"
   },
   {
    "duration": 25,
    "start_time": "2021-12-02T07:53:23.650Z"
   },
   {
    "duration": 29,
    "start_time": "2021-12-02T07:54:45.411Z"
   },
   {
    "duration": 27,
    "start_time": "2021-12-02T07:55:18.151Z"
   },
   {
    "duration": 31,
    "start_time": "2021-12-02T07:55:36.120Z"
   },
   {
    "duration": 2,
    "start_time": "2021-12-02T07:56:22.106Z"
   },
   {
    "duration": 156,
    "start_time": "2021-12-02T07:56:22.115Z"
   },
   {
    "duration": 10,
    "start_time": "2021-12-02T07:56:22.272Z"
   },
   {
    "duration": 41,
    "start_time": "2021-12-02T07:56:22.284Z"
   },
   {
    "duration": 27,
    "start_time": "2021-12-02T07:56:22.327Z"
   },
   {
    "duration": 46,
    "start_time": "2021-12-02T07:56:22.356Z"
   },
   {
    "duration": 4,
    "start_time": "2021-12-02T07:56:22.403Z"
   },
   {
    "duration": 30,
    "start_time": "2021-12-02T07:56:22.409Z"
   },
   {
    "duration": 39,
    "start_time": "2021-12-02T07:56:22.441Z"
   },
   {
    "duration": 24,
    "start_time": "2021-12-02T07:56:22.483Z"
   },
   {
    "duration": 69,
    "start_time": "2021-12-02T07:56:22.509Z"
   },
   {
    "duration": 67,
    "start_time": "2021-12-02T07:56:22.580Z"
   },
   {
    "duration": 50,
    "start_time": "2021-12-02T07:56:22.648Z"
   },
   {
    "duration": 52,
    "start_time": "2021-12-02T07:56:22.699Z"
   },
   {
    "duration": 7,
    "start_time": "2021-12-02T07:56:22.753Z"
   },
   {
    "duration": 38,
    "start_time": "2021-12-02T07:56:22.761Z"
   },
   {
    "duration": 45,
    "start_time": "2021-12-02T07:56:22.800Z"
   },
   {
    "duration": 29,
    "start_time": "2021-12-02T07:56:22.847Z"
   },
   {
    "duration": 30,
    "start_time": "2021-12-02T07:56:22.878Z"
   },
   {
    "duration": 5,
    "start_time": "2021-12-02T07:56:22.910Z"
   },
   {
    "duration": 35,
    "start_time": "2021-12-02T07:56:22.916Z"
   },
   {
    "duration": 13,
    "start_time": "2021-12-02T07:56:22.952Z"
   },
   {
    "duration": 30,
    "start_time": "2021-12-02T07:56:22.966Z"
   },
   {
    "duration": 12,
    "start_time": "2021-12-02T07:56:22.997Z"
   },
   {
    "duration": 23,
    "start_time": "2021-12-02T07:56:23.010Z"
   },
   {
    "duration": 17,
    "start_time": "2021-12-02T07:56:23.035Z"
   },
   {
    "duration": 7,
    "start_time": "2021-12-02T07:56:23.054Z"
   },
   {
    "duration": 13,
    "start_time": "2021-12-02T07:56:23.064Z"
   },
   {
    "duration": 8,
    "start_time": "2021-12-02T07:56:23.079Z"
   },
   {
    "duration": 4,
    "start_time": "2021-12-02T07:56:23.089Z"
   },
   {
    "duration": 19,
    "start_time": "2021-12-02T07:56:23.094Z"
   },
   {
    "duration": 37,
    "start_time": "2021-12-02T07:56:23.115Z"
   },
   {
    "duration": 23,
    "start_time": "2021-12-02T07:56:23.154Z"
   },
   {
    "duration": 11,
    "start_time": "2021-12-02T07:56:23.179Z"
   },
   {
    "duration": 7,
    "start_time": "2021-12-02T07:56:23.192Z"
   },
   {
    "duration": 5,
    "start_time": "2021-12-02T07:56:23.201Z"
   },
   {
    "duration": 8,
    "start_time": "2021-12-02T07:56:23.207Z"
   },
   {
    "duration": 30,
    "start_time": "2021-12-02T07:56:23.216Z"
   },
   {
    "duration": 5,
    "start_time": "2021-12-02T07:58:00.366Z"
   },
   {
    "duration": 86,
    "start_time": "2021-12-02T07:58:35.724Z"
   },
   {
    "duration": 4,
    "start_time": "2021-12-02T07:59:47.086Z"
   },
   {
    "duration": 3,
    "start_time": "2021-12-02T08:15:00.686Z"
   },
   {
    "duration": 153,
    "start_time": "2021-12-02T08:15:00.696Z"
   },
   {
    "duration": 10,
    "start_time": "2021-12-02T08:15:00.851Z"
   },
   {
    "duration": 29,
    "start_time": "2021-12-02T08:15:00.863Z"
   },
   {
    "duration": 13,
    "start_time": "2021-12-02T08:15:00.894Z"
   },
   {
    "duration": 28,
    "start_time": "2021-12-02T08:15:00.908Z"
   },
   {
    "duration": 4,
    "start_time": "2021-12-02T08:15:00.937Z"
   },
   {
    "duration": 24,
    "start_time": "2021-12-02T08:15:00.943Z"
   },
   {
    "duration": 24,
    "start_time": "2021-12-02T08:15:00.969Z"
   },
   {
    "duration": 29,
    "start_time": "2021-12-02T08:15:00.996Z"
   },
   {
    "duration": 62,
    "start_time": "2021-12-02T08:15:01.027Z"
   },
   {
    "duration": 70,
    "start_time": "2021-12-02T08:15:01.090Z"
   },
   {
    "duration": 50,
    "start_time": "2021-12-02T08:15:01.162Z"
   },
   {
    "duration": 56,
    "start_time": "2021-12-02T08:15:01.214Z"
   },
   {
    "duration": 2,
    "start_time": "2021-12-02T08:15:01.272Z"
   },
   {
    "duration": 20,
    "start_time": "2021-12-02T08:15:01.276Z"
   },
   {
    "duration": 52,
    "start_time": "2021-12-02T08:15:01.298Z"
   },
   {
    "duration": 32,
    "start_time": "2021-12-02T08:15:01.351Z"
   },
   {
    "duration": 30,
    "start_time": "2021-12-02T08:15:01.385Z"
   },
   {
    "duration": 3,
    "start_time": "2021-12-02T08:15:01.417Z"
   },
   {
    "duration": 36,
    "start_time": "2021-12-02T08:15:01.422Z"
   },
   {
    "duration": 31,
    "start_time": "2021-12-02T08:15:01.459Z"
   },
   {
    "duration": 15,
    "start_time": "2021-12-02T08:15:01.492Z"
   },
   {
    "duration": 32,
    "start_time": "2021-12-02T08:15:01.509Z"
   },
   {
    "duration": 15,
    "start_time": "2021-12-02T08:15:01.543Z"
   },
   {
    "duration": 17,
    "start_time": "2021-12-02T08:15:01.560Z"
   },
   {
    "duration": 22,
    "start_time": "2021-12-02T08:15:01.579Z"
   },
   {
    "duration": 17,
    "start_time": "2021-12-02T08:15:01.604Z"
   },
   {
    "duration": 9,
    "start_time": "2021-12-02T08:15:01.624Z"
   },
   {
    "duration": 10,
    "start_time": "2021-12-02T08:15:01.635Z"
   },
   {
    "duration": 31,
    "start_time": "2021-12-02T08:15:01.647Z"
   },
   {
    "duration": 15,
    "start_time": "2021-12-02T08:15:01.680Z"
   },
   {
    "duration": 21,
    "start_time": "2021-12-02T08:15:01.696Z"
   },
   {
    "duration": 26,
    "start_time": "2021-12-02T08:15:01.718Z"
   },
   {
    "duration": 8,
    "start_time": "2021-12-02T08:15:01.746Z"
   },
   {
    "duration": 4,
    "start_time": "2021-12-02T08:15:01.756Z"
   },
   {
    "duration": 10,
    "start_time": "2021-12-02T08:15:01.761Z"
   },
   {
    "duration": 8,
    "start_time": "2021-12-02T08:15:01.773Z"
   },
   {
    "duration": 562,
    "start_time": "2021-12-02T20:59:21.683Z"
   },
   {
    "duration": 119,
    "start_time": "2021-12-02T20:59:22.246Z"
   },
   {
    "duration": 15,
    "start_time": "2021-12-02T20:59:22.367Z"
   },
   {
    "duration": 75,
    "start_time": "2021-12-02T20:59:22.383Z"
   },
   {
    "duration": 48,
    "start_time": "2021-12-02T20:59:22.413Z"
   },
   {
    "duration": 44,
    "start_time": "2021-12-02T20:59:22.418Z"
   },
   {
    "duration": 39,
    "start_time": "2021-12-02T20:59:22.423Z"
   },
   {
    "duration": 36,
    "start_time": "2021-12-02T20:59:22.427Z"
   },
   {
    "duration": 34,
    "start_time": "2021-12-02T20:59:22.430Z"
   },
   {
    "duration": 31,
    "start_time": "2021-12-02T20:59:22.434Z"
   },
   {
    "duration": 29,
    "start_time": "2021-12-02T20:59:22.437Z"
   },
   {
    "duration": 26,
    "start_time": "2021-12-02T20:59:22.441Z"
   },
   {
    "duration": 23,
    "start_time": "2021-12-02T20:59:22.444Z"
   },
   {
    "duration": 20,
    "start_time": "2021-12-02T20:59:22.448Z"
   },
   {
    "duration": 18,
    "start_time": "2021-12-02T20:59:22.451Z"
   },
   {
    "duration": 14,
    "start_time": "2021-12-02T20:59:22.455Z"
   },
   {
    "duration": 11,
    "start_time": "2021-12-02T20:59:22.459Z"
   },
   {
    "duration": 9,
    "start_time": "2021-12-02T20:59:22.462Z"
   },
   {
    "duration": 6,
    "start_time": "2021-12-02T20:59:22.466Z"
   },
   {
    "duration": 3,
    "start_time": "2021-12-02T20:59:22.470Z"
   },
   {
    "duration": 1,
    "start_time": "2021-12-02T20:59:22.473Z"
   },
   {
    "duration": -3,
    "start_time": "2021-12-02T20:59:22.477Z"
   },
   {
    "duration": -6,
    "start_time": "2021-12-02T20:59:22.481Z"
   },
   {
    "duration": -9,
    "start_time": "2021-12-02T20:59:22.485Z"
   },
   {
    "duration": -11,
    "start_time": "2021-12-02T20:59:22.488Z"
   },
   {
    "duration": -15,
    "start_time": "2021-12-02T20:59:22.492Z"
   },
   {
    "duration": -17,
    "start_time": "2021-12-02T20:59:22.495Z"
   },
   {
    "duration": -20,
    "start_time": "2021-12-02T20:59:22.499Z"
   },
   {
    "duration": -23,
    "start_time": "2021-12-02T20:59:22.502Z"
   },
   {
    "duration": -26,
    "start_time": "2021-12-02T20:59:22.506Z"
   },
   {
    "duration": -28,
    "start_time": "2021-12-02T20:59:22.509Z"
   },
   {
    "duration": -31,
    "start_time": "2021-12-02T20:59:22.513Z"
   },
   {
    "duration": -33,
    "start_time": "2021-12-02T20:59:22.516Z"
   },
   {
    "duration": -36,
    "start_time": "2021-12-02T20:59:22.520Z"
   },
   {
    "duration": -40,
    "start_time": "2021-12-02T20:59:22.524Z"
   },
   {
    "duration": -44,
    "start_time": "2021-12-02T20:59:22.529Z"
   },
   {
    "duration": -57,
    "start_time": "2021-12-02T20:59:22.543Z"
   },
   {
    "duration": -60,
    "start_time": "2021-12-02T20:59:22.547Z"
   },
   {
    "duration": 141,
    "start_time": "2021-12-03T07:45:16.297Z"
   },
   {
    "duration": 106,
    "start_time": "2021-12-03T07:45:27.908Z"
   },
   {
    "duration": 369,
    "start_time": "2021-12-03T07:45:46.773Z"
   },
   {
    "duration": 783,
    "start_time": "2021-12-03T07:46:10.637Z"
   },
   {
    "duration": 145,
    "start_time": "2021-12-03T07:46:11.422Z"
   },
   {
    "duration": 17,
    "start_time": "2021-12-03T07:46:11.569Z"
   },
   {
    "duration": 108,
    "start_time": "2021-12-03T07:46:11.588Z"
   },
   {
    "duration": -80,
    "start_time": "2021-12-03T07:46:11.778Z"
   },
   {
    "duration": -84,
    "start_time": "2021-12-03T07:46:11.783Z"
   },
   {
    "duration": -87,
    "start_time": "2021-12-03T07:46:11.787Z"
   },
   {
    "duration": -89,
    "start_time": "2021-12-03T07:46:11.790Z"
   },
   {
    "duration": -93,
    "start_time": "2021-12-03T07:46:11.795Z"
   },
   {
    "duration": -95,
    "start_time": "2021-12-03T07:46:11.798Z"
   },
   {
    "duration": -98,
    "start_time": "2021-12-03T07:46:11.802Z"
   },
   {
    "duration": -100,
    "start_time": "2021-12-03T07:46:11.805Z"
   },
   {
    "duration": -112,
    "start_time": "2021-12-03T07:46:11.818Z"
   },
   {
    "duration": -114,
    "start_time": "2021-12-03T07:46:11.821Z"
   },
   {
    "duration": -116,
    "start_time": "2021-12-03T07:46:11.824Z"
   },
   {
    "duration": -118,
    "start_time": "2021-12-03T07:46:11.827Z"
   },
   {
    "duration": -121,
    "start_time": "2021-12-03T07:46:11.830Z"
   },
   {
    "duration": -122,
    "start_time": "2021-12-03T07:46:11.832Z"
   },
   {
    "duration": -125,
    "start_time": "2021-12-03T07:46:11.836Z"
   },
   {
    "duration": -133,
    "start_time": "2021-12-03T07:46:11.845Z"
   },
   {
    "duration": -136,
    "start_time": "2021-12-03T07:46:11.849Z"
   },
   {
    "duration": -138,
    "start_time": "2021-12-03T07:46:11.852Z"
   },
   {
    "duration": -140,
    "start_time": "2021-12-03T07:46:11.855Z"
   },
   {
    "duration": -143,
    "start_time": "2021-12-03T07:46:11.859Z"
   },
   {
    "duration": -148,
    "start_time": "2021-12-03T07:46:11.865Z"
   },
   {
    "duration": -151,
    "start_time": "2021-12-03T07:46:11.868Z"
   },
   {
    "duration": -155,
    "start_time": "2021-12-03T07:46:11.873Z"
   },
   {
    "duration": -158,
    "start_time": "2021-12-03T07:46:11.877Z"
   },
   {
    "duration": -162,
    "start_time": "2021-12-03T07:46:11.882Z"
   },
   {
    "duration": -165,
    "start_time": "2021-12-03T07:46:11.886Z"
   },
   {
    "duration": -167,
    "start_time": "2021-12-03T07:46:11.889Z"
   },
   {
    "duration": -168,
    "start_time": "2021-12-03T07:46:11.891Z"
   },
   {
    "duration": -170,
    "start_time": "2021-12-03T07:46:11.894Z"
   },
   {
    "duration": -173,
    "start_time": "2021-12-03T07:46:11.897Z"
   },
   {
    "duration": -175,
    "start_time": "2021-12-03T07:46:11.900Z"
   },
   {
    "duration": -177,
    "start_time": "2021-12-03T07:46:11.903Z"
   },
   {
    "duration": -180,
    "start_time": "2021-12-03T07:46:11.907Z"
   },
   {
    "duration": -181,
    "start_time": "2021-12-03T07:46:11.909Z"
   },
   {
    "duration": 387,
    "start_time": "2021-12-03T07:48:48.050Z"
   },
   {
    "duration": 323,
    "start_time": "2021-12-03T07:49:25.495Z"
   },
   {
    "duration": 351,
    "start_time": "2021-12-03T07:49:52.629Z"
   },
   {
    "duration": 338,
    "start_time": "2021-12-03T07:50:04.786Z"
   },
   {
    "duration": 359,
    "start_time": "2021-12-03T07:50:53.021Z"
   },
   {
    "duration": 2,
    "start_time": "2021-12-03T07:51:00.983Z"
   },
   {
    "duration": 164,
    "start_time": "2021-12-03T07:51:00.995Z"
   },
   {
    "duration": 11,
    "start_time": "2021-12-03T07:51:01.161Z"
   },
   {
    "duration": 39,
    "start_time": "2021-12-03T07:51:01.174Z"
   },
   {
    "duration": 4,
    "start_time": "2021-12-03T07:51:01.215Z"
   },
   {
    "duration": 36,
    "start_time": "2021-12-03T07:51:01.221Z"
   },
   {
    "duration": 14,
    "start_time": "2021-12-03T07:51:01.259Z"
   },
   {
    "duration": 33,
    "start_time": "2021-12-03T07:51:01.274Z"
   },
   {
    "duration": 30,
    "start_time": "2021-12-03T07:51:01.309Z"
   },
   {
    "duration": 24,
    "start_time": "2021-12-03T07:51:01.342Z"
   },
   {
    "duration": 73,
    "start_time": "2021-12-03T07:51:01.368Z"
   },
   {
    "duration": 82,
    "start_time": "2021-12-03T07:51:01.443Z"
   },
   {
    "duration": 54,
    "start_time": "2021-12-03T07:51:01.527Z"
   },
   {
    "duration": 56,
    "start_time": "2021-12-03T07:51:01.583Z"
   },
   {
    "duration": 4,
    "start_time": "2021-12-03T07:51:01.641Z"
   },
   {
    "duration": 18,
    "start_time": "2021-12-03T07:51:01.646Z"
   },
   {
    "duration": 59,
    "start_time": "2021-12-03T07:51:01.667Z"
   },
   {
    "duration": 12,
    "start_time": "2021-12-03T07:51:01.727Z"
   },
   {
    "duration": 17,
    "start_time": "2021-12-03T07:51:01.740Z"
   },
   {
    "duration": 3,
    "start_time": "2021-12-03T07:51:01.759Z"
   },
   {
    "duration": 22,
    "start_time": "2021-12-03T07:51:01.763Z"
   },
   {
    "duration": 15,
    "start_time": "2021-12-03T07:51:01.806Z"
   },
   {
    "duration": 14,
    "start_time": "2021-12-03T07:51:01.823Z"
   },
   {
    "duration": 14,
    "start_time": "2021-12-03T07:51:01.839Z"
   },
   {
    "duration": 16,
    "start_time": "2021-12-03T07:51:01.855Z"
   },
   {
    "duration": 43,
    "start_time": "2021-12-03T07:51:01.873Z"
   },
   {
    "duration": 11,
    "start_time": "2021-12-03T07:51:01.918Z"
   },
   {
    "duration": 13,
    "start_time": "2021-12-03T07:51:01.932Z"
   },
   {
    "duration": 9,
    "start_time": "2021-12-03T07:51:01.947Z"
   },
   {
    "duration": 4,
    "start_time": "2021-12-03T07:51:01.957Z"
   },
   {
    "duration": 53,
    "start_time": "2021-12-03T07:51:01.963Z"
   },
   {
    "duration": 12,
    "start_time": "2021-12-03T07:51:02.018Z"
   },
   {
    "duration": 18,
    "start_time": "2021-12-03T07:51:02.032Z"
   },
   {
    "duration": 14,
    "start_time": "2021-12-03T07:51:02.052Z"
   },
   {
    "duration": 43,
    "start_time": "2021-12-03T07:51:02.068Z"
   },
   {
    "duration": 5,
    "start_time": "2021-12-03T07:51:02.112Z"
   },
   {
    "duration": 7,
    "start_time": "2021-12-03T07:51:02.119Z"
   },
   {
    "duration": 6,
    "start_time": "2021-12-03T07:51:02.127Z"
   },
   {
    "duration": 3,
    "start_time": "2021-12-03T07:52:02.500Z"
   },
   {
    "duration": 163,
    "start_time": "2021-12-03T07:52:02.510Z"
   },
   {
    "duration": 11,
    "start_time": "2021-12-03T07:52:02.675Z"
   },
   {
    "duration": 38,
    "start_time": "2021-12-03T07:52:02.688Z"
   },
   {
    "duration": 4,
    "start_time": "2021-12-03T07:52:02.728Z"
   },
   {
    "duration": 21,
    "start_time": "2021-12-03T07:52:02.733Z"
   },
   {
    "duration": 4,
    "start_time": "2021-12-03T07:52:02.756Z"
   },
   {
    "duration": 49,
    "start_time": "2021-12-03T07:52:02.761Z"
   },
   {
    "duration": 18,
    "start_time": "2021-12-03T07:52:02.812Z"
   },
   {
    "duration": 24,
    "start_time": "2021-12-03T07:52:02.832Z"
   },
   {
    "duration": 83,
    "start_time": "2021-12-03T07:52:02.859Z"
   },
   {
    "duration": 72,
    "start_time": "2021-12-03T07:52:02.943Z"
   },
   {
    "duration": 50,
    "start_time": "2021-12-03T07:52:03.017Z"
   },
   {
    "duration": 49,
    "start_time": "2021-12-03T07:52:03.069Z"
   },
   {
    "duration": 3,
    "start_time": "2021-12-03T07:52:03.119Z"
   },
   {
    "duration": 18,
    "start_time": "2021-12-03T07:52:03.124Z"
   },
   {
    "duration": 63,
    "start_time": "2021-12-03T07:52:03.143Z"
   },
   {
    "duration": 11,
    "start_time": "2021-12-03T07:52:03.208Z"
   },
   {
    "duration": 11,
    "start_time": "2021-12-03T07:52:03.220Z"
   },
   {
    "duration": 3,
    "start_time": "2021-12-03T07:52:03.232Z"
   },
   {
    "duration": 24,
    "start_time": "2021-12-03T07:52:03.237Z"
   },
   {
    "duration": 15,
    "start_time": "2021-12-03T07:52:03.263Z"
   },
   {
    "duration": 15,
    "start_time": "2021-12-03T07:52:03.307Z"
   },
   {
    "duration": 13,
    "start_time": "2021-12-03T07:52:03.324Z"
   },
   {
    "duration": 16,
    "start_time": "2021-12-03T07:52:03.339Z"
   },
   {
    "duration": 16,
    "start_time": "2021-12-03T07:52:03.356Z"
   },
   {
    "duration": 10,
    "start_time": "2021-12-03T07:52:03.407Z"
   },
   {
    "duration": 14,
    "start_time": "2021-12-03T07:52:03.422Z"
   },
   {
    "duration": 12,
    "start_time": "2021-12-03T07:52:03.438Z"
   },
   {
    "duration": 5,
    "start_time": "2021-12-03T07:52:03.452Z"
   },
   {
    "duration": 56,
    "start_time": "2021-12-03T07:52:03.460Z"
   },
   {
    "duration": 13,
    "start_time": "2021-12-03T07:52:03.518Z"
   },
   {
    "duration": 17,
    "start_time": "2021-12-03T07:52:03.533Z"
   },
   {
    "duration": 13,
    "start_time": "2021-12-03T07:52:03.552Z"
   },
   {
    "duration": 10,
    "start_time": "2021-12-03T07:52:03.566Z"
   },
   {
    "duration": 5,
    "start_time": "2021-12-03T07:52:03.607Z"
   },
   {
    "duration": 10,
    "start_time": "2021-12-03T07:52:03.614Z"
   },
   {
    "duration": 5,
    "start_time": "2021-12-03T07:52:03.626Z"
   },
   {
    "duration": 427,
    "start_time": "2021-12-03T23:50:27.792Z"
   },
   {
    "duration": 1000,
    "start_time": "2021-12-03T23:50:35.951Z"
   },
   {
    "duration": 254,
    "start_time": "2021-12-03T23:50:36.954Z"
   },
   {
    "duration": 35,
    "start_time": "2021-12-03T23:50:37.212Z"
   },
   {
    "duration": 63,
    "start_time": "2021-12-03T23:50:37.250Z"
   },
   {
    "duration": 5,
    "start_time": "2021-12-03T23:50:37.316Z"
   },
   {
    "duration": 29,
    "start_time": "2021-12-03T23:50:37.323Z"
   },
   {
    "duration": 32,
    "start_time": "2021-12-03T23:50:37.354Z"
   },
   {
    "duration": 35,
    "start_time": "2021-12-03T23:50:37.392Z"
   },
   {
    "duration": 23,
    "start_time": "2021-12-03T23:50:37.430Z"
   },
   {
    "duration": 62,
    "start_time": "2021-12-03T23:50:37.455Z"
   },
   {
    "duration": 120,
    "start_time": "2021-12-03T23:50:37.519Z"
   },
   {
    "duration": 113,
    "start_time": "2021-12-03T23:50:37.641Z"
   },
   {
    "duration": 96,
    "start_time": "2021-12-03T23:50:37.756Z"
   },
   {
    "duration": 83,
    "start_time": "2021-12-03T23:50:37.855Z"
   },
   {
    "duration": 4,
    "start_time": "2021-12-03T23:50:37.942Z"
   },
   {
    "duration": 44,
    "start_time": "2021-12-03T23:50:37.950Z"
   },
   {
    "duration": 62,
    "start_time": "2021-12-03T23:50:37.997Z"
   },
   {
    "duration": 34,
    "start_time": "2021-12-03T23:50:38.061Z"
   },
   {
    "duration": 20,
    "start_time": "2021-12-03T23:50:38.097Z"
   },
   {
    "duration": 5,
    "start_time": "2021-12-03T23:50:38.119Z"
   },
   {
    "duration": 29,
    "start_time": "2021-12-03T23:50:38.126Z"
   },
   {
    "duration": 30,
    "start_time": "2021-12-03T23:50:38.181Z"
   },
   {
    "duration": 29,
    "start_time": "2021-12-03T23:50:38.218Z"
   },
   {
    "duration": 57,
    "start_time": "2021-12-03T23:50:38.251Z"
   },
   {
    "duration": 30,
    "start_time": "2021-12-03T23:50:38.311Z"
   },
   {
    "duration": 51,
    "start_time": "2021-12-03T23:50:38.344Z"
   },
   {
    "duration": 13,
    "start_time": "2021-12-03T23:50:38.399Z"
   },
   {
    "duration": 16,
    "start_time": "2021-12-03T23:50:38.414Z"
   },
   {
    "duration": 12,
    "start_time": "2021-12-03T23:50:38.432Z"
   },
   {
    "duration": 10,
    "start_time": "2021-12-03T23:50:38.482Z"
   },
   {
    "duration": 30,
    "start_time": "2021-12-03T23:50:38.495Z"
   },
   {
    "duration": 18,
    "start_time": "2021-12-03T23:50:38.527Z"
   },
   {
    "duration": 61,
    "start_time": "2021-12-03T23:50:38.547Z"
   },
   {
    "duration": 17,
    "start_time": "2021-12-03T23:50:38.610Z"
   },
   {
    "duration": 15,
    "start_time": "2021-12-03T23:50:38.629Z"
   },
   {
    "duration": 471,
    "start_time": "2021-12-03T23:50:38.647Z"
   },
   {
    "duration": 156,
    "start_time": "2021-12-03T23:50:38.964Z"
   },
   {
    "duration": 151,
    "start_time": "2021-12-03T23:50:38.971Z"
   },
   {
    "duration": 147,
    "start_time": "2021-12-03T23:50:38.976Z"
   },
   {
    "duration": 51,
    "start_time": "2021-12-03T23:51:23.104Z"
   },
   {
    "duration": 6,
    "start_time": "2021-12-03T23:51:50.677Z"
   },
   {
    "duration": 6,
    "start_time": "2021-12-03T23:52:00.675Z"
   },
   {
    "duration": 6,
    "start_time": "2021-12-03T23:52:07.508Z"
   },
   {
    "duration": 16,
    "start_time": "2021-12-03T23:52:46.099Z"
   },
   {
    "duration": 1581,
    "start_time": "2021-12-03T23:54:01.348Z"
   },
   {
    "duration": 81,
    "start_time": "2021-12-03T23:54:16.114Z"
   },
   {
    "duration": 6,
    "start_time": "2021-12-03T23:58:23.567Z"
   },
   {
    "duration": 47,
    "start_time": "2021-12-03T23:58:29.513Z"
   },
   {
    "duration": 49,
    "start_time": "2021-12-03T23:58:44.390Z"
   },
   {
    "duration": 49,
    "start_time": "2021-12-03T23:58:48.029Z"
   },
   {
    "duration": 17,
    "start_time": "2021-12-04T00:01:39.401Z"
   },
   {
    "duration": 6,
    "start_time": "2021-12-04T00:03:26.490Z"
   },
   {
    "duration": 414,
    "start_time": "2021-12-04T00:03:33.454Z"
   },
   {
    "duration": 73,
    "start_time": "2021-12-04T00:03:40.686Z"
   },
   {
    "duration": 74,
    "start_time": "2021-12-04T00:03:56.254Z"
   },
   {
    "duration": 44,
    "start_time": "2021-12-04T00:04:07.679Z"
   },
   {
    "duration": 1045,
    "start_time": "2021-12-04T00:19:44.954Z"
   },
   {
    "duration": 271,
    "start_time": "2021-12-04T00:19:46.003Z"
   },
   {
    "duration": 40,
    "start_time": "2021-12-04T00:19:46.278Z"
   },
   {
    "duration": 65,
    "start_time": "2021-12-04T00:19:46.322Z"
   },
   {
    "duration": 6,
    "start_time": "2021-12-04T00:19:46.390Z"
   },
   {
    "duration": 33,
    "start_time": "2021-12-04T00:19:46.399Z"
   },
   {
    "duration": 10,
    "start_time": "2021-12-04T00:19:46.435Z"
   },
   {
    "duration": 31,
    "start_time": "2021-12-04T00:19:46.483Z"
   },
   {
    "duration": 24,
    "start_time": "2021-12-04T00:19:46.518Z"
   },
   {
    "duration": 55,
    "start_time": "2021-12-04T00:19:46.544Z"
   },
   {
    "duration": 94,
    "start_time": "2021-12-04T00:19:46.602Z"
   },
   {
    "duration": 104,
    "start_time": "2021-12-04T00:19:46.698Z"
   },
   {
    "duration": 85,
    "start_time": "2021-12-04T00:19:46.805Z"
   },
   {
    "duration": 58,
    "start_time": "2021-12-04T00:19:46.893Z"
   },
   {
    "duration": 4,
    "start_time": "2021-12-04T00:19:46.953Z"
   },
   {
    "duration": 41,
    "start_time": "2021-12-04T00:19:46.959Z"
   },
   {
    "duration": 58,
    "start_time": "2021-12-04T00:19:47.002Z"
   },
   {
    "duration": 14,
    "start_time": "2021-12-04T00:19:47.083Z"
   },
   {
    "duration": 14,
    "start_time": "2021-12-04T00:19:47.099Z"
   },
   {
    "duration": 4,
    "start_time": "2021-12-04T00:19:47.115Z"
   },
   {
    "duration": 27,
    "start_time": "2021-12-04T00:19:47.122Z"
   },
   {
    "duration": 19,
    "start_time": "2021-12-04T00:19:47.182Z"
   },
   {
    "duration": 19,
    "start_time": "2021-12-04T00:19:47.207Z"
   },
   {
    "duration": 55,
    "start_time": "2021-12-04T00:19:47.229Z"
   },
   {
    "duration": 23,
    "start_time": "2021-12-04T00:19:47.286Z"
   },
   {
    "duration": 19,
    "start_time": "2021-12-04T00:19:47.311Z"
   },
   {
    "duration": 12,
    "start_time": "2021-12-04T00:19:47.333Z"
   },
   {
    "duration": 47,
    "start_time": "2021-12-04T00:19:47.347Z"
   },
   {
    "duration": 12,
    "start_time": "2021-12-04T00:19:47.397Z"
   },
   {
    "duration": 6,
    "start_time": "2021-12-04T00:19:47.412Z"
   },
   {
    "duration": 36,
    "start_time": "2021-12-04T00:19:47.420Z"
   },
   {
    "duration": 22,
    "start_time": "2021-12-04T00:19:47.482Z"
   },
   {
    "duration": 25,
    "start_time": "2021-12-04T00:19:47.507Z"
   },
   {
    "duration": 51,
    "start_time": "2021-12-04T00:19:47.534Z"
   },
   {
    "duration": 13,
    "start_time": "2021-12-04T00:19:47.587Z"
   },
   {
    "duration": 5,
    "start_time": "2021-12-04T00:19:47.603Z"
   },
   {
    "duration": 11,
    "start_time": "2021-12-04T00:19:47.611Z"
   },
   {
    "duration": 8,
    "start_time": "2021-12-04T00:19:47.624Z"
   }
  ],
  "colab": {
   "collapsed_sections": [
    "E0vqbgi9ay0H",
    "VUC88oWjTJw2"
   ],
   "name": "yandex_music_project_2021.2.ipynb",
   "provenance": []
  },
  "kernelspec": {
   "display_name": "Python 3 (ipykernel)",
   "language": "python",
   "name": "python3"
  },
  "language_info": {
   "codemirror_mode": {
    "name": "ipython",
    "version": 3
   },
   "file_extension": ".py",
   "mimetype": "text/x-python",
   "name": "python",
   "nbconvert_exporter": "python",
   "pygments_lexer": "ipython3",
   "version": "3.9.5"
  },
  "toc": {
   "base_numbering": 1,
   "nav_menu": {},
   "number_sections": true,
   "sideBar": true,
   "skip_h1_title": true,
   "title_cell": "Table of Contents",
   "title_sidebar": "Contents",
   "toc_cell": false,
   "toc_position": {},
   "toc_section_display": true,
   "toc_window_display": true
  }
 },
 "nbformat": 4,
 "nbformat_minor": 1
}
