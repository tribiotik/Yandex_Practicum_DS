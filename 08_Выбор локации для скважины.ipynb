{
 "cells": [
  {
   "cell_type": "markdown",
   "metadata": {},
   "source": [
    "Привет, меня зовут Артем Хуршудов. Сегодня я проверю твой проект.\n",
    "<br> Дальнейшее общение будет происходить на \"ты\" если это не вызывает никаких проблем.\n",
    "<br> Желательно реагировать на каждый мой комментарий ('исправил', 'не понятно как исправить ошибку', ...)\n",
    "<br> Пожалуйста, не удаляй комментарии ревьюера, так как они повышают качество повторного ревью.\n",
    "\n",
    "Комментарии будут в <font color='green'>зеленой</font>, <font color='blue'>синей</font> или <font color='red'>красной</font> рамках:\n",
    "\n",
    "<div class=\"alert alert-block alert-success\">\n",
    "<b>Успех:</b> Если все сделано отлично\n",
    "</div>\n",
    "\n",
    "<div class=\"alert alert-block alert-info\">\n",
    "<b>Совет: </b> Если можно немного улучшить\n",
    "</div>\n",
    "\n",
    "<div class=\"alert alert-block alert-danger\">\n",
    "<b>Ошибка:</b> Если требуются исправления. Работа не может быть принята с красными комментариями.\n",
    "</div>\n",
    "\n",
    "-------------------\n",
    "\n",
    "Будет очень хорошо, если ты будешь помечать свои действия следующим образом:\n",
    "<div class=\"alert alert-block alert-warning\">\n",
    "<b>Комментарий студента:</b> ...\n",
    "</div>\n",
    "\n",
    "<div class=\"alert alert-block alert-warning\">\n",
    "<b>Изменения:</b> Были внесены следующие изменения ...\n",
    "</div>\n",
    "\n",
    "### <font color='orange'>Общее впечатление</font>\n",
    "* Большое спасибо за проделанную работу. Видно, что приложено много усилий.\n",
    "* Выводы и рассуждения получились содержательными, их было интересно читать.\n",
    "* Радует, что тебе удалось разобраться с техникой бутстрапа.\n",
    "* Отлично, что доверительный интервал и риск убытков посчитаны верно.\n",
    "* Я оставил несколько советов, надеюсь, что они будут учтены в будущих проектах.\n",
    "* Редко, кто сдает эту работу с первого раза, молодец!\n",
    "* Проект может быть зачтен, но я его отправлю назад, чтобы у тебя была возможность задать вопросы и внести правки, при желании. Однако, ты можешь просто вернуть проект в таком же виде и я его зачту."
   ]
  },
  {
   "cell_type": "markdown",
   "metadata": {},
   "source": [
    "### <font color='orange'>Общее впечатление (ревью 2)</font>\n",
    "* Проект зачтен!\n",
    "* Для удобства все новые комментарии обозначены фразой \"ревью 2\".\n",
    "* Удачи в дальнейшем обучении и следующих работах!"
   ]
  },
  {
   "cell_type": "markdown",
   "metadata": {},
   "source": [
    "# Выбор локации для скважины"
   ]
  },
  {
   "cell_type": "markdown",
   "metadata": {},
   "source": [
    "Допустим, вы работаете в добывающей компании «ГлавРосГосНефть». Нужно решить, где бурить новую скважину.\n",
    "\n",
    "Вам предоставлены пробы нефти в трёх регионах: в каждом 10 000 месторождений, где измерили качество нефти и объём её запасов. Постройте модель машинного обучения, которая поможет определить регион, где добыча принесёт наибольшую прибыль. Проанализируйте возможную прибыль и риски техникой *Bootstrap.*\n",
    "\n",
    "Шаги для выбора локации:\n",
    "\n",
    "- В избранном регионе ищут месторождения, для каждого определяют значения признаков;\n",
    "- Строят модель и оценивают объём запасов;\n",
    "- Выбирают месторождения с самым высокими оценками значений. Количество месторождений зависит от бюджета компании и стоимости разработки одной скважины;\n",
    "- Прибыль равна суммарной прибыли отобранных месторождений."
   ]
  },
  {
   "cell_type": "markdown",
   "metadata": {},
   "source": [
    "## Загрузка и подготовка данных"
   ]
  },
  {
   "cell_type": "markdown",
   "metadata": {},
   "source": [
    "### Импорт библиотек"
   ]
  },
  {
   "cell_type": "code",
   "execution_count": 1,
   "metadata": {},
   "outputs": [],
   "source": [
    "import pandas as pd\n",
    "from sklearn.model_selection import train_test_split\n",
    "from sklearn.linear_model import LinearRegression\n",
    "from sklearn.metrics import mean_squared_error\n",
    "import numpy as np\n"
   ]
  },
  {
   "cell_type": "markdown",
   "metadata": {},
   "source": [
    "<div class=\"alert alert-block alert-success\">\n",
    "<b>Успех:</b> Отлично, что все импорты собраны в первой ячейке ноутбука! Если у того, кто будет запускать твой ноутбук будут отсутствовать некоторые библиотеки, то он это увидит сразу, а не в процессе!\n",
    "</div>"
   ]
  },
  {
   "cell_type": "markdown",
   "metadata": {},
   "source": [
    "### Загрузка датасетов"
   ]
  },
  {
   "cell_type": "code",
   "execution_count": null,
   "metadata": {},
   "outputs": [],
   "source": [
    "region_0 = pd.read_csv('/datasets/geo_data_0.csv')\n",
    "region_1 = pd.read_csv('/datasets/geo_data_1.csv')\n",
    "region_2 = pd.read_csv('/datasets/geo_data_2.csv')\n",
    "\n",
    "#функция для наглядного разделения выводов\n",
    "def line():\n",
    "    print('________________________________________')\n",
    "regions = [region_0, region_1, region_2]    \n",
    "for i in regions:\n",
    "    print(i.info()) \n",
    "    line()"
   ]
  },
  {
   "cell_type": "markdown",
   "metadata": {},
   "source": [
    "### Предобработка данных"
   ]
  },
  {
   "cell_type": "code",
   "execution_count": null,
   "metadata": {},
   "outputs": [],
   "source": [
    "for i in regions:\n",
    "    line()\n",
    "    print(i.duplicated().sum())\n",
    "    line()\n",
    "    print(i.isnull().sum())"
   ]
  },
  {
   "cell_type": "code",
   "execution_count": null,
   "metadata": {},
   "outputs": [],
   "source": [
    "#Удаляю столбец за ненадобностью\n",
    "region_0 = region_0.drop(['id'], axis=1)\n",
    "region_1 = region_1.drop(['id'], axis=1)\n",
    "region_2 = region_2.drop(['id'], axis=1)\n",
    "region_2.head()"
   ]
  },
  {
   "cell_type": "markdown",
   "metadata": {},
   "source": [
    "### Вывод"
   ]
  },
  {
   "cell_type": "markdown",
   "metadata": {},
   "source": [
    "Для иследования предоставленны 3 таблицы. В каждой таблице по 5 столбцов и по 100 000 строк. Пропуски и дубликаты отсутствуют. Столбец id удален т.к. не пригодится в иследовании."
   ]
  },
  {
   "cell_type": "markdown",
   "metadata": {},
   "source": [
    "<div class=\"alert alert-block alert-success\">\n",
    "<b>Успех:</b> Данные загружены корректно, первичный осмотр проведен.\n",
    "</div>"
   ]
  },
  {
   "cell_type": "markdown",
   "metadata": {},
   "source": [
    "## Обучение и проверка модели"
   ]
  },
  {
   "cell_type": "code",
   "execution_count": null,
   "metadata": {},
   "outputs": [],
   "source": [
    "def predictictions (data):\n",
    "    features = data.drop(['product'], axis = 1)\n",
    "    target = data['product']\n",
    "    features_train, features_valid, target_train, target_valid = train_test_split(features, \n",
    "                                                                                  target, test_size=.25, random_state=12345)\n",
    "    model = LinearRegression()\n",
    "    model.fit(features_train, target_train)\n",
    "    return pd.Series(model.predict(features_valid)), target_valid"
   ]
  },
  {
   "cell_type": "code",
   "execution_count": null,
   "metadata": {},
   "outputs": [],
   "source": [
    "predicted_0, target_0 = predictictions(region_0)\n",
    "predicted_1, target_1 = predictictions(region_1)\n",
    "predicted_2, target_2 = predictictions(region_2)"
   ]
  },
  {
   "cell_type": "code",
   "execution_count": null,
   "metadata": {},
   "outputs": [],
   "source": [
    "#Функция для вывода RMSE\n",
    "def rmse (answers, predictions):\n",
    "    mse = mean_squared_error(answers, predictions)\n",
    "    print('Средний запас сырья, тыс. баррелей:', predictions.mean())\n",
    "    print('RMSE:', mse ** 0.5)\n",
    "\n"
   ]
  },
  {
   "cell_type": "code",
   "execution_count": null,
   "metadata": {},
   "outputs": [],
   "source": [
    "print('Регион №0')\n",
    "rmse(target_0, predicted_0)\n",
    "line()\n",
    "print('Регион №1')\n",
    "rmse(target_1, predicted_1)\n",
    "line()\n",
    "print('Регион №2')\n",
    "rmse(target_2, predicted_2)"
   ]
  },
  {
   "cell_type": "markdown",
   "metadata": {},
   "source": [
    "### Вывод"
   ]
  },
  {
   "cell_type": "markdown",
   "metadata": {},
   "source": [
    "Самые высокие запасы сырья в Регионе №2, но и Регион №0 не сильно отстает. Самая низкая RMSE в Регионе №1"
   ]
  },
  {
   "cell_type": "markdown",
   "metadata": {},
   "source": [
    "<div class=\"alert alert-block alert-success\">\n",
    "<b>Успех:</b> Модели обучены корректно. Радует, что ты активно используешь функции. Это помогает избежать дублирования кода, а значит уменьшает вероятность совершить ошибку/опечатку!\n",
    "</div>"
   ]
  },
  {
   "cell_type": "markdown",
   "metadata": {},
   "source": [
    "## Подготовка к расчёту прибыли"
   ]
  },
  {
   "cell_type": "code",
   "execution_count": null,
   "metadata": {},
   "outputs": [],
   "source": [
    "BOOTHSTR_SAMPLS = 1000\n",
    "BUDGET = 10**10\n",
    "PER_1K_BARRELL = 450000\n",
    "N_SAMPLS = 500\n",
    "WELLS_NUMBER = 200\n",
    "\n",
    "# Достаточное количество добычи нефти, для безубыточности\n",
    "\n",
    "sufficient_volume = BUDGET / PER_1K_BARRELL / WELLS_NUMBER\n",
    "\n",
    "print('Минимальный объем сырья при котором разработка месторождения не будет убыточной не менее:', round(sufficient_volume + 1), 'тыс. баррелей \\n')\n",
    "\n"
   ]
  },
  {
   "cell_type": "markdown",
   "metadata": {},
   "source": [
    "Исследуя средний запас сырья в регионах, разработка месторождений в любом регионе будет убыточной."
   ]
  },
  {
   "cell_type": "markdown",
   "metadata": {},
   "source": [
    "<div class=\"alert alert-block alert-info\">\n",
    "\n",
    "<b>Совет: </b> В названиях константных переменных лучше использовать только БОЛЬШИЕ буквы. Это соглашение между программистами: https://pythonworld.ru/osnovy/pep-8-rukovodstvo-po-napisaniyu-koda-na-python.html#id29 .\n",
    "</div>\n",
    "\n",
    "<div class=\"alert alert-block alert-success\">\n",
    "<b>Успех:</b> Точка безубыточности найдена верно, сравнение проведено!\n",
    "</div>"
   ]
  },
  {
   "cell_type": "markdown",
   "metadata": {},
   "source": [
    "<div class=\"alert alert-block alert-warning\">\n",
    "<b>Изменения:</b> Благодарю за подсказку не знал, что нкжно записывать большими буквами.\n",
    "</div>"
   ]
  },
  {
   "cell_type": "markdown",
   "metadata": {},
   "source": [
    "<div class=\"alert alert-block alert-success\">\n",
    "<b>Успех (ревью 2):</b> ОК.\n",
    "</div>"
   ]
  },
  {
   "cell_type": "markdown",
   "metadata": {},
   "source": [
    "## Расчёт прибыли и рисков "
   ]
  },
  {
   "cell_type": "markdown",
   "metadata": {},
   "source": [
    "<div class=\"alert alert-block alert-info\">\n",
    "<b>Совет: </b> А зачем ты переопределил константы?\n",
    "</div>"
   ]
  },
  {
   "cell_type": "markdown",
   "metadata": {},
   "source": [
    "<div class=\"alert alert-block alert-warning\">\n",
    "<b>Изменения:</b> Сам не понял как так так вышло.\n",
    "</div>"
   ]
  },
  {
   "cell_type": "code",
   "execution_count": null,
   "metadata": {},
   "outputs": [],
   "source": [
    "def profit(target, probabilities):\n",
    "    target = pd.Series(target).reset_index(drop=True)\n",
    "    probabilities = pd.Series(probabilities).reset_index(drop=True)\n",
    "    probs_sorted = probabilities.sort_values(ascending=False)\n",
    "    selected = target[probs_sorted.index][:WELLS_NUMBER]\n",
    "    mlrd = 1000000000\n",
    "    return ((PER_1K_BARRELL * selected.sum()) - BUDGET) / mlrd"
   ]
  },
  {
   "cell_type": "markdown",
   "metadata": {},
   "source": [
    "<div class=\"alert alert-block alert-info\">\n",
    "<b>Совет: </b> Эту функцию лучше было бы назвать profit, так как revenue – это выручка.\n",
    "</div>"
   ]
  },
  {
   "cell_type": "markdown",
   "metadata": {},
   "source": [
    "<div class=\"alert alert-block alert-warning\">\n",
    "<b>Изменения:</b> Спасибо.Исправил\n",
    "</div>"
   ]
  },
  {
   "cell_type": "markdown",
   "metadata": {},
   "source": [
    "<div class=\"alert alert-block alert-success\">\n",
    "<b>Успех (ревью 2):</b> Спасибо!\n",
    "</div>"
   ]
  },
  {
   "cell_type": "markdown",
   "metadata": {},
   "source": [
    "<div class=\"alert alert-block alert-info\">\n",
    "<b>Совет (ревью 2): </b> Не забывай, что везде далее нужно поменять название функции.\n",
    "</div>"
   ]
  },
  {
   "cell_type": "code",
   "execution_count": null,
   "metadata": {},
   "outputs": [],
   "source": [
    "print('Прибыль в Регионе №0')\n",
    "profit(target_0, predicted_0)"
   ]
  },
  {
   "cell_type": "code",
   "execution_count": null,
   "metadata": {},
   "outputs": [],
   "source": [
    "print('Прибыль в Регионе №1')\n",
    "profit(target_1, predicted_1)"
   ]
  },
  {
   "cell_type": "code",
   "execution_count": null,
   "metadata": {},
   "outputs": [],
   "source": [
    "print('Прибыль в Регионе №2')\n",
    "profit(target_2, predicted_2)"
   ]
  },
  {
   "cell_type": "markdown",
   "metadata": {},
   "source": [
    "Исходя из их произведенных расчетов самым прибыльным является Регион №0"
   ]
  },
  {
   "cell_type": "markdown",
   "metadata": {},
   "source": [
    "## Bootstrap"
   ]
  },
  {
   "cell_type": "code",
   "execution_count": null,
   "metadata": {},
   "outputs": [],
   "source": [
    "\n",
    "\n",
    "def bootstrap (target, predictions):\n",
    "    values = []\n",
    "    for i in range(BOOTHSTR_SAMPLS):\n",
    "        target_subsample = target.reset_index(drop=True).sample(n=N_SAMPLS, replace=True, random_state=12345)\n",
    "        probs_subsample = predictions[target_subsample.index]\n",
    "        rev = profit(target_subsample, probs_subsample)\n",
    "        values.append(rev)\n",
    "    risk = 0.025\n",
    "    values = pd.Series(values)\n",
    "    lower = values.quantile(risk)\n",
    "    confidence_interval = (values.quantile(0.025), values.quantile(0.975))\n",
    "    mean = values.mean()\n",
    "\n",
    "    print(\"Средняя выручка:\", mean)\n",
    "    print(\"2.5%-квантиль:\", lower)\n",
    "    print(\"Доверительный интервал:\", confidence_interval)\n",
    "    print(\"Риск убытка {:.2%}\".format((values < 0).mean()))\n"
   ]
  },
  {
   "cell_type": "markdown",
   "metadata": {},
   "source": [
    "<div class=\"alert alert-block alert-success\">\n",
    "<b>Успех:</b> Отлично, что для подсчета доверительного интервала использовался именно метод квантилей.\n",
    "</div>\n",
    "\n",
    "<div class=\"alert alert-block alert-success\">\n",
    "<b>Успех:</b> Риск найден очень элегантно.\n",
    "</div>"
   ]
  },
  {
   "cell_type": "code",
   "execution_count": null,
   "metadata": {},
   "outputs": [],
   "source": [
    "print('Регион №0')\n",
    "bootstrap(target_0, predicted_0)\n",
    "line()\n",
    "print('Регион №1')\n",
    "bootstrap(target_1, predicted_1)\n",
    "line()\n",
    "print('Регион №2')\n",
    "bootstrap(target_2, predicted_2)\n",
    "line()"
   ]
  },
  {
   "cell_type": "markdown",
   "metadata": {},
   "source": [
    "Самый низкий риск убытка в первом регионе, хотя и самая низкая прибыль тоже была посчитана для этого региона. ДЛя регионов №0 и №2 риск убытка одинаковый."
   ]
  },
  {
   "cell_type": "markdown",
   "metadata": {},
   "source": [
    "<div class=\"alert alert-block alert-success\">\n",
    "<b>Успех:</b> Все статистики посчитаны правильно. С выбором региона согласен.\n",
    "</div>"
   ]
  },
  {
   "cell_type": "markdown",
   "metadata": {},
   "source": [
    "## Чек-лист готовности проекта"
   ]
  },
  {
   "cell_type": "markdown",
   "metadata": {},
   "source": [
    "Поставьте 'x' в выполненных пунктах. Далее нажмите Shift+Enter."
   ]
  },
  {
   "cell_type": "markdown",
   "metadata": {},
   "source": [
    "- [x]  Jupyter Notebook открыт\n",
    "- [ ]  Весь код выполняется без ошибок\n",
    "- [ ]  Ячейки с кодом расположены в порядке исполнения\n",
    "- [ ]  Выполнен шаг 1: данные подготовлены\n",
    "- [ ]  Выполнен шаг 2: модели обучены и проверены\n",
    "    - [ ]  Данные корректно разбиты на обучающую и валидационную выборки\n",
    "    - [ ]  Модели обучены, предсказания сделаны\n",
    "    - [ ]  Предсказания и правильные ответы на валидационной выборке сохранены\n",
    "    - [ ]  На экране напечатаны результаты\n",
    "    - [ ]  Сделаны выводы\n",
    "- [ ]  Выполнен шаг 3: проведена подготовка к расчёту прибыли\n",
    "    - [ ]  Для всех ключевых значений созданы константы Python\n",
    "    - [ ]  Посчитано минимальное среднее количество продукта в месторождениях региона, достаточное для разработки\n",
    "    - [ ]  По предыдущему пункту сделаны выводы\n",
    "    - [ ]  Написана функция расчёта прибыли\n",
    "- [ ]  Выполнен шаг 4: посчитаны риски и прибыль\n",
    "    - [ ]  Проведена процедура *Bootstrap*\n",
    "    - [ ]  Все параметры бутстрепа соответствуют условию\n",
    "    - [ ]  Найдены все нужные величины\n",
    "    - [ ]  Предложен регион для разработки месторождения\n",
    "    - [ ]  Выбор региона обоснован"
   ]
  },
  {
   "cell_type": "code",
   "execution_count": null,
   "metadata": {},
   "outputs": [],
   "source": []
  }
 ],
 "metadata": {
  "ExecuteTimeLog": [
   {
    "duration": 293,
    "start_time": "2022-03-10T13:19:13.727Z"
   },
   {
    "duration": 584,
    "start_time": "2022-03-10T13:19:21.810Z"
   },
   {
    "duration": 2837,
    "start_time": "2022-03-10T13:19:22.395Z"
   },
   {
    "duration": 376,
    "start_time": "2022-03-10T13:22:53.276Z"
   },
   {
    "duration": 388,
    "start_time": "2022-03-10T13:23:37.576Z"
   },
   {
    "duration": 280,
    "start_time": "2022-03-10T13:26:54.276Z"
   },
   {
    "duration": 390,
    "start_time": "2022-03-10T13:27:39.775Z"
   },
   {
    "duration": 113,
    "start_time": "2022-03-10T13:27:56.346Z"
   },
   {
    "duration": 119,
    "start_time": "2022-03-10T13:31:36.329Z"
   },
   {
    "duration": 123,
    "start_time": "2022-03-10T13:31:52.503Z"
   },
   {
    "duration": 93,
    "start_time": "2022-03-10T13:42:11.499Z"
   },
   {
    "duration": 271,
    "start_time": "2022-03-10T13:42:18.061Z"
   },
   {
    "duration": 10,
    "start_time": "2022-03-10T13:42:33.723Z"
   },
   {
    "duration": 9,
    "start_time": "2022-03-10T13:43:16.387Z"
   },
   {
    "duration": 10,
    "start_time": "2022-03-10T13:43:23.218Z"
   },
   {
    "duration": 15,
    "start_time": "2022-03-10T13:45:25.705Z"
   },
   {
    "duration": 364,
    "start_time": "2022-03-10T13:45:42.058Z"
   },
   {
    "duration": 3,
    "start_time": "2022-03-10T13:47:35.597Z"
   },
   {
    "duration": 394,
    "start_time": "2022-03-10T13:47:35.603Z"
   },
   {
    "duration": 127,
    "start_time": "2022-03-10T13:47:35.999Z"
   },
   {
    "duration": 17,
    "start_time": "2022-03-10T13:47:36.128Z"
   },
   {
    "duration": 3,
    "start_time": "2022-03-10T13:59:45.180Z"
   },
   {
    "duration": 245,
    "start_time": "2022-03-10T14:02:35.511Z"
   },
   {
    "duration": 409,
    "start_time": "2022-03-10T14:04:21.938Z"
   },
   {
    "duration": 554,
    "start_time": "2022-03-10T14:04:54.891Z"
   },
   {
    "duration": 471,
    "start_time": "2022-03-10T14:05:31.211Z"
   },
   {
    "duration": 371,
    "start_time": "2022-03-10T14:05:31.684Z"
   },
   {
    "duration": 115,
    "start_time": "2022-03-10T14:05:32.057Z"
   },
   {
    "duration": 11,
    "start_time": "2022-03-10T14:05:32.174Z"
   },
   {
    "duration": 14,
    "start_time": "2022-03-10T14:05:32.187Z"
   },
   {
    "duration": 614,
    "start_time": "2022-03-10T14:05:32.203Z"
   },
   {
    "duration": 3,
    "start_time": "2022-03-10T14:05:54.156Z"
   },
   {
    "duration": 3,
    "start_time": "2022-03-10T14:06:02.734Z"
   },
   {
    "duration": 394,
    "start_time": "2022-03-10T14:06:02.739Z"
   },
   {
    "duration": 116,
    "start_time": "2022-03-10T14:06:03.135Z"
   },
   {
    "duration": 11,
    "start_time": "2022-03-10T14:06:03.253Z"
   },
   {
    "duration": 5,
    "start_time": "2022-03-10T14:06:03.266Z"
   },
   {
    "duration": 522,
    "start_time": "2022-03-10T14:06:03.272Z"
   },
   {
    "duration": 959,
    "start_time": "2022-03-10T14:06:53.956Z"
   },
   {
    "duration": 371,
    "start_time": "2022-03-10T14:06:54.918Z"
   },
   {
    "duration": 126,
    "start_time": "2022-03-10T14:06:55.291Z"
   },
   {
    "duration": 23,
    "start_time": "2022-03-10T14:06:55.419Z"
   },
   {
    "duration": 4,
    "start_time": "2022-03-10T14:06:55.444Z"
   },
   {
    "duration": 358,
    "start_time": "2022-03-10T14:06:55.449Z"
   },
   {
    "duration": 8,
    "start_time": "2022-03-10T14:10:44.322Z"
   },
   {
    "duration": 17,
    "start_time": "2022-03-10T14:11:10.904Z"
   },
   {
    "duration": 428,
    "start_time": "2022-03-10T14:12:33.682Z"
   },
   {
    "duration": 8,
    "start_time": "2022-03-10T14:14:53.029Z"
   },
   {
    "duration": 3,
    "start_time": "2022-03-10T14:15:09.062Z"
   },
   {
    "duration": 359,
    "start_time": "2022-03-10T14:15:09.067Z"
   },
   {
    "duration": 115,
    "start_time": "2022-03-10T14:15:09.428Z"
   },
   {
    "duration": 15,
    "start_time": "2022-03-10T14:15:09.545Z"
   },
   {
    "duration": 6,
    "start_time": "2022-03-10T14:15:09.562Z"
   },
   {
    "duration": 453,
    "start_time": "2022-03-10T14:15:09.569Z"
   },
   {
    "duration": 6,
    "start_time": "2022-03-10T14:15:10.103Z"
   },
   {
    "duration": 97,
    "start_time": "2022-03-10T14:15:10.112Z"
   },
   {
    "duration": 88,
    "start_time": "2022-03-10T14:29:03.122Z"
   },
   {
    "duration": 8,
    "start_time": "2022-03-10T14:37:15.519Z"
   },
   {
    "duration": 8,
    "start_time": "2022-03-10T14:41:29.177Z"
   },
   {
    "duration": 4,
    "start_time": "2022-03-10T14:42:05.944Z"
   },
   {
    "duration": 247,
    "start_time": "2022-03-10T14:45:55.788Z"
   },
   {
    "duration": 269,
    "start_time": "2022-03-10T14:48:02.962Z"
   },
   {
    "duration": 261,
    "start_time": "2022-03-10T14:48:36.649Z"
   },
   {
    "duration": 4,
    "start_time": "2022-03-10T14:52:03.192Z"
   },
   {
    "duration": 437,
    "start_time": "2022-03-10T14:54:01.527Z"
   },
   {
    "duration": 451,
    "start_time": "2022-03-10T14:56:01.638Z"
   },
   {
    "duration": 417,
    "start_time": "2022-03-10T14:56:12.679Z"
   },
   {
    "duration": 4,
    "start_time": "2022-03-10T14:56:29.476Z"
   },
   {
    "duration": 370,
    "start_time": "2022-03-10T14:56:29.482Z"
   },
   {
    "duration": 105,
    "start_time": "2022-03-10T14:56:29.854Z"
   },
   {
    "duration": 11,
    "start_time": "2022-03-10T14:56:29.961Z"
   },
   {
    "duration": 4,
    "start_time": "2022-03-10T14:56:29.974Z"
   },
   {
    "duration": 324,
    "start_time": "2022-03-10T14:56:29.980Z"
   },
   {
    "duration": 4,
    "start_time": "2022-03-10T14:56:30.306Z"
   },
   {
    "duration": 199,
    "start_time": "2022-03-10T14:56:30.313Z"
   },
   {
    "duration": 6,
    "start_time": "2022-03-10T14:56:30.514Z"
   },
   {
    "duration": 452,
    "start_time": "2022-03-10T14:56:30.522Z"
   },
   {
    "duration": 411,
    "start_time": "2022-03-10T14:57:13.093Z"
   },
   {
    "duration": 255,
    "start_time": "2022-03-10T14:57:58.819Z"
   },
   {
    "duration": 1305,
    "start_time": "2022-03-10T15:01:30.865Z"
   },
   {
    "duration": 379,
    "start_time": "2022-03-10T15:01:32.172Z"
   },
   {
    "duration": 119,
    "start_time": "2022-03-10T15:01:32.555Z"
   },
   {
    "duration": 33,
    "start_time": "2022-03-10T15:01:32.676Z"
   },
   {
    "duration": 4,
    "start_time": "2022-03-10T15:01:32.711Z"
   },
   {
    "duration": 483,
    "start_time": "2022-03-10T15:01:32.717Z"
   },
   {
    "duration": 7,
    "start_time": "2022-03-10T15:01:33.203Z"
   },
   {
    "duration": 408,
    "start_time": "2022-03-10T15:01:33.214Z"
   },
   {
    "duration": 1132,
    "start_time": "2022-03-10T15:01:32.492Z"
   },
   {
    "duration": 1124,
    "start_time": "2022-03-10T15:01:32.501Z"
   },
   {
    "duration": 1123,
    "start_time": "2022-03-10T15:01:32.503Z"
   },
   {
    "duration": 3,
    "start_time": "2022-03-10T15:02:27.501Z"
   },
   {
    "duration": 396,
    "start_time": "2022-03-10T15:02:27.505Z"
   },
   {
    "duration": 112,
    "start_time": "2022-03-10T15:02:27.903Z"
   },
   {
    "duration": 17,
    "start_time": "2022-03-10T15:02:28.016Z"
   },
   {
    "duration": 7,
    "start_time": "2022-03-10T15:02:28.035Z"
   },
   {
    "duration": 359,
    "start_time": "2022-03-10T15:02:28.044Z"
   },
   {
    "duration": 4,
    "start_time": "2022-03-10T15:02:28.405Z"
   },
   {
    "duration": 194,
    "start_time": "2022-03-10T15:02:28.411Z"
   },
   {
    "duration": 3,
    "start_time": "2022-03-10T15:02:28.608Z"
   },
   {
    "duration": 31,
    "start_time": "2022-03-10T15:02:28.613Z"
   },
   {
    "duration": 475,
    "start_time": "2022-03-10T15:02:28.646Z"
   },
   {
    "duration": 523,
    "start_time": "2022-03-10T15:03:16.656Z"
   },
   {
    "duration": 19,
    "start_time": "2022-03-10T15:12:04.559Z"
   },
   {
    "duration": 20,
    "start_time": "2022-03-10T15:14:24.035Z"
   },
   {
    "duration": 453,
    "start_time": "2022-03-11T08:05:08.527Z"
   },
   {
    "duration": 1399,
    "start_time": "2022-03-11T08:05:43.518Z"
   },
   {
    "duration": 494,
    "start_time": "2022-03-11T08:05:44.920Z"
   },
   {
    "duration": 225,
    "start_time": "2022-03-11T08:05:45.417Z"
   },
   {
    "duration": 54,
    "start_time": "2022-03-11T08:05:45.644Z"
   },
   {
    "duration": 5,
    "start_time": "2022-03-11T08:05:45.701Z"
   },
   {
    "duration": 392,
    "start_time": "2022-03-11T08:05:45.709Z"
   },
   {
    "duration": 95,
    "start_time": "2022-03-11T08:05:46.104Z"
   },
   {
    "duration": 103,
    "start_time": "2022-03-11T08:05:46.203Z"
   },
   {
    "duration": 5,
    "start_time": "2022-03-11T08:05:46.309Z"
   },
   {
    "duration": 37,
    "start_time": "2022-03-11T08:05:46.317Z"
   },
   {
    "duration": 7685,
    "start_time": "2022-03-11T08:05:46.357Z"
   },
   {
    "duration": 6,
    "start_time": "2022-03-11T08:06:44.783Z"
   },
   {
    "duration": 528,
    "start_time": "2022-03-11T08:06:44.801Z"
   },
   {
    "duration": 230,
    "start_time": "2022-03-11T08:06:45.332Z"
   },
   {
    "duration": 40,
    "start_time": "2022-03-11T08:06:45.566Z"
   },
   {
    "duration": 31,
    "start_time": "2022-03-11T08:06:45.608Z"
   },
   {
    "duration": 455,
    "start_time": "2022-03-11T08:06:45.642Z"
   },
   {
    "duration": 93,
    "start_time": "2022-03-11T08:06:46.101Z"
   },
   {
    "duration": 27,
    "start_time": "2022-03-11T08:06:46.286Z"
   },
   {
    "duration": 8,
    "start_time": "2022-03-11T08:06:46.315Z"
   },
   {
    "duration": 52,
    "start_time": "2022-03-11T08:06:46.326Z"
   },
   {
    "duration": 6476,
    "start_time": "2022-03-11T08:06:46.385Z"
   },
   {
    "duration": 6,
    "start_time": "2022-03-11T08:07:29.310Z"
   },
   {
    "duration": 540,
    "start_time": "2022-03-11T08:07:29.320Z"
   },
   {
    "duration": 246,
    "start_time": "2022-03-11T08:07:29.863Z"
   },
   {
    "duration": 20,
    "start_time": "2022-03-11T08:07:30.112Z"
   },
   {
    "duration": 18,
    "start_time": "2022-03-11T08:07:30.135Z"
   },
   {
    "duration": 348,
    "start_time": "2022-03-11T08:07:30.156Z"
   },
   {
    "duration": 6,
    "start_time": "2022-03-11T08:07:30.585Z"
   },
   {
    "duration": 97,
    "start_time": "2022-03-11T08:07:30.596Z"
   },
   {
    "duration": 10,
    "start_time": "2022-03-11T08:07:30.696Z"
   },
   {
    "duration": 71,
    "start_time": "2022-03-11T08:07:30.708Z"
   },
   {
    "duration": 19417,
    "start_time": "2022-03-11T08:07:30.781Z"
   },
   {
    "duration": 4,
    "start_time": "2022-03-11T08:08:47.621Z"
   },
   {
    "duration": 513,
    "start_time": "2022-03-11T08:08:47.629Z"
   },
   {
    "duration": 217,
    "start_time": "2022-03-11T08:08:48.145Z"
   },
   {
    "duration": 40,
    "start_time": "2022-03-11T08:08:48.366Z"
   },
   {
    "duration": 12,
    "start_time": "2022-03-11T08:08:48.409Z"
   },
   {
    "duration": 385,
    "start_time": "2022-03-11T08:08:48.424Z"
   },
   {
    "duration": 92,
    "start_time": "2022-03-11T08:08:48.894Z"
   },
   {
    "duration": 22,
    "start_time": "2022-03-11T08:08:48.991Z"
   },
   {
    "duration": 6,
    "start_time": "2022-03-11T08:08:49.016Z"
   },
   {
    "duration": 59,
    "start_time": "2022-03-11T08:08:49.025Z"
   },
   {
    "duration": 19103,
    "start_time": "2022-03-11T08:08:49.087Z"
   },
   {
    "duration": 9,
    "start_time": "2022-03-11T08:12:33.530Z"
   },
   {
    "duration": 467,
    "start_time": "2022-03-11T08:13:05.046Z"
   },
   {
    "duration": 8,
    "start_time": "2022-03-11T08:15:41.279Z"
   },
   {
    "duration": 531,
    "start_time": "2022-03-11T08:15:41.291Z"
   },
   {
    "duration": 260,
    "start_time": "2022-03-11T08:15:41.826Z"
   },
   {
    "duration": 23,
    "start_time": "2022-03-11T08:15:42.091Z"
   },
   {
    "duration": 5,
    "start_time": "2022-03-11T08:15:42.117Z"
   },
   {
    "duration": 365,
    "start_time": "2022-03-11T08:15:42.124Z"
   },
   {
    "duration": 8,
    "start_time": "2022-03-11T08:15:42.495Z"
   },
   {
    "duration": 123,
    "start_time": "2022-03-11T08:15:42.584Z"
   },
   {
    "duration": 12,
    "start_time": "2022-03-11T08:15:42.711Z"
   },
   {
    "duration": 29,
    "start_time": "2022-03-11T08:15:42.726Z"
   },
   {
    "duration": 9,
    "start_time": "2022-03-11T08:15:42.758Z"
   },
   {
    "duration": 5765,
    "start_time": "2022-03-11T08:15:42.782Z"
   },
   {
    "duration": 316,
    "start_time": "2022-03-11T08:15:48.550Z"
   },
   {
    "duration": 79,
    "start_time": "2022-03-11T08:18:04.477Z"
   },
   {
    "duration": 15892,
    "start_time": "2022-03-11T08:18:21.418Z"
   },
   {
    "duration": 1447,
    "start_time": "2022-03-11T08:18:54.184Z"
   },
   {
    "duration": 511,
    "start_time": "2022-03-11T08:18:55.634Z"
   },
   {
    "duration": 260,
    "start_time": "2022-03-11T08:18:56.149Z"
   },
   {
    "duration": 42,
    "start_time": "2022-03-11T08:18:56.413Z"
   },
   {
    "duration": 32,
    "start_time": "2022-03-11T08:18:56.458Z"
   },
   {
    "duration": 416,
    "start_time": "2022-03-11T08:18:56.493Z"
   },
   {
    "duration": 75,
    "start_time": "2022-03-11T08:18:56.912Z"
   },
   {
    "duration": 110,
    "start_time": "2022-03-11T08:18:57.002Z"
   },
   {
    "duration": 15,
    "start_time": "2022-03-11T08:18:57.114Z"
   },
   {
    "duration": 52,
    "start_time": "2022-03-11T08:18:57.132Z"
   },
   {
    "duration": 34,
    "start_time": "2022-03-11T08:18:57.187Z"
   },
   {
    "duration": 16235,
    "start_time": "2022-03-11T08:18:57.223Z"
   },
   {
    "duration": 388,
    "start_time": "2022-03-11T08:19:13.461Z"
   },
   {
    "duration": 7,
    "start_time": "2022-03-11T08:25:33.853Z"
   },
   {
    "duration": 226,
    "start_time": "2022-03-11T08:25:50.630Z"
   },
   {
    "duration": 10,
    "start_time": "2022-03-11T08:30:51.122Z"
   },
   {
    "duration": 16756,
    "start_time": "2022-03-11T08:30:52.865Z"
   },
   {
    "duration": 40,
    "start_time": "2022-03-11T08:34:42.215Z"
   },
   {
    "duration": 5,
    "start_time": "2022-03-11T08:35:02.998Z"
   },
   {
    "duration": 506,
    "start_time": "2022-03-11T08:35:03.006Z"
   },
   {
    "duration": 217,
    "start_time": "2022-03-11T08:35:03.516Z"
   },
   {
    "duration": 20,
    "start_time": "2022-03-11T08:35:03.736Z"
   },
   {
    "duration": 32,
    "start_time": "2022-03-11T08:35:03.758Z"
   },
   {
    "duration": 406,
    "start_time": "2022-03-11T08:35:03.795Z"
   },
   {
    "duration": 17,
    "start_time": "2022-03-11T08:35:04.284Z"
   },
   {
    "duration": 33,
    "start_time": "2022-03-11T08:35:04.384Z"
   },
   {
    "duration": 28,
    "start_time": "2022-03-11T08:35:04.421Z"
   },
   {
    "duration": 62,
    "start_time": "2022-03-11T08:35:04.452Z"
   },
   {
    "duration": 8,
    "start_time": "2022-03-11T08:35:04.517Z"
   },
   {
    "duration": 51,
    "start_time": "2022-03-11T08:35:04.528Z"
   },
   {
    "duration": 10,
    "start_time": "2022-03-11T08:35:04.590Z"
   },
   {
    "duration": 16139,
    "start_time": "2022-03-11T08:35:04.603Z"
   },
   {
    "duration": 16,
    "start_time": "2022-03-11T08:36:10.131Z"
   },
   {
    "duration": 14,
    "start_time": "2022-03-11T08:36:12.508Z"
   },
   {
    "duration": 18,
    "start_time": "2022-03-11T08:36:14.770Z"
   },
   {
    "duration": 7,
    "start_time": "2022-03-11T08:40:40.071Z"
   },
   {
    "duration": 16250,
    "start_time": "2022-03-11T08:40:44.485Z"
   },
   {
    "duration": 7,
    "start_time": "2022-03-11T08:42:36.020Z"
   },
   {
    "duration": 16292,
    "start_time": "2022-03-11T08:42:39.163Z"
   },
   {
    "duration": 6,
    "start_time": "2022-03-11T08:43:09.724Z"
   },
   {
    "duration": 16274,
    "start_time": "2022-03-11T08:43:11.075Z"
   },
   {
    "duration": 13,
    "start_time": "2022-03-11T08:46:01.226Z"
   },
   {
    "duration": 22,
    "start_time": "2022-03-11T08:46:03.288Z"
   },
   {
    "duration": 15,
    "start_time": "2022-03-11T08:46:05.136Z"
   },
   {
    "duration": 1088,
    "start_time": "2022-03-14T09:35:37.125Z"
   },
   {
    "duration": 400,
    "start_time": "2022-03-14T09:35:38.215Z"
   },
   {
    "duration": 148,
    "start_time": "2022-03-14T09:35:38.618Z"
   },
   {
    "duration": 39,
    "start_time": "2022-03-14T09:35:38.769Z"
   },
   {
    "duration": 5,
    "start_time": "2022-03-14T09:35:38.810Z"
   },
   {
    "duration": 397,
    "start_time": "2022-03-14T09:35:38.817Z"
   },
   {
    "duration": 4,
    "start_time": "2022-03-14T09:35:39.216Z"
   },
   {
    "duration": 108,
    "start_time": "2022-03-14T09:35:39.304Z"
   },
   {
    "duration": 6,
    "start_time": "2022-03-14T09:35:39.414Z"
   },
   {
    "duration": 20,
    "start_time": "2022-03-14T09:35:39.421Z"
   },
   {
    "duration": 392,
    "start_time": "2022-03-14T09:35:39.443Z"
   },
   {
    "duration": 4142,
    "start_time": "2022-03-14T09:35:35.695Z"
   },
   {
    "duration": 4141,
    "start_time": "2022-03-14T09:35:35.697Z"
   },
   {
    "duration": 4132,
    "start_time": "2022-03-14T09:35:35.707Z"
   },
   {
    "duration": 4130,
    "start_time": "2022-03-14T09:35:35.710Z"
   },
   {
    "duration": 977,
    "start_time": "2022-03-16T08:17:10.096Z"
   },
   {
    "duration": 356,
    "start_time": "2022-03-16T08:17:11.075Z"
   },
   {
    "duration": 106,
    "start_time": "2022-03-16T08:17:11.433Z"
   },
   {
    "duration": 23,
    "start_time": "2022-03-16T08:17:11.540Z"
   },
   {
    "duration": 17,
    "start_time": "2022-03-16T08:17:11.564Z"
   },
   {
    "duration": 400,
    "start_time": "2022-03-16T08:17:11.582Z"
   },
   {
    "duration": 4,
    "start_time": "2022-03-16T08:17:11.984Z"
   },
   {
    "duration": 102,
    "start_time": "2022-03-16T08:17:11.990Z"
   },
   {
    "duration": 3,
    "start_time": "2022-03-16T08:17:12.094Z"
   },
   {
    "duration": 11,
    "start_time": "2022-03-16T08:17:12.099Z"
   },
   {
    "duration": 12,
    "start_time": "2022-03-16T08:17:12.111Z"
   },
   {
    "duration": 9,
    "start_time": "2022-03-16T08:17:12.124Z"
   },
   {
    "duration": 9,
    "start_time": "2022-03-16T08:17:12.134Z"
   },
   {
    "duration": 4,
    "start_time": "2022-03-16T08:17:12.145Z"
   },
   {
    "duration": 725,
    "start_time": "2022-03-16T08:17:12.150Z"
   },
   {
    "duration": 970,
    "start_time": "2022-03-16T08:18:03.912Z"
   },
   {
    "duration": 371,
    "start_time": "2022-03-16T08:18:04.884Z"
   },
   {
    "duration": 117,
    "start_time": "2022-03-16T08:18:05.256Z"
   },
   {
    "duration": 26,
    "start_time": "2022-03-16T08:18:05.375Z"
   },
   {
    "duration": 13,
    "start_time": "2022-03-16T08:18:05.403Z"
   },
   {
    "duration": 366,
    "start_time": "2022-03-16T08:18:05.418Z"
   },
   {
    "duration": 4,
    "start_time": "2022-03-16T08:18:05.787Z"
   },
   {
    "duration": 198,
    "start_time": "2022-03-16T08:18:05.792Z"
   },
   {
    "duration": 5,
    "start_time": "2022-03-16T08:18:05.992Z"
   },
   {
    "duration": 6,
    "start_time": "2022-03-16T08:18:05.999Z"
   },
   {
    "duration": 14,
    "start_time": "2022-03-16T08:18:06.007Z"
   },
   {
    "duration": 9,
    "start_time": "2022-03-16T08:18:06.022Z"
   },
   {
    "duration": 9,
    "start_time": "2022-03-16T08:18:06.033Z"
   },
   {
    "duration": 37,
    "start_time": "2022-03-16T08:18:06.044Z"
   },
   {
    "duration": 660,
    "start_time": "2022-03-16T08:18:06.083Z"
   },
   {
    "duration": 4,
    "start_time": "2022-03-16T08:18:59.944Z"
   },
   {
    "duration": 9078,
    "start_time": "2022-03-16T08:19:03.360Z"
   },
   {
    "duration": 988,
    "start_time": "2022-03-16T08:19:44.488Z"
   }
  ],
  "kernelspec": {
   "display_name": "Python 3 (ipykernel)",
   "language": "python",
   "name": "python3"
  },
  "language_info": {
   "codemirror_mode": {
    "name": "ipython",
    "version": 3
   },
   "file_extension": ".py",
   "mimetype": "text/x-python",
   "name": "python",
   "nbconvert_exporter": "python",
   "pygments_lexer": "ipython3",
   "version": "3.9.5"
  },
  "toc": {
   "base_numbering": 1,
   "nav_menu": {},
   "number_sections": true,
   "sideBar": true,
   "skip_h1_title": true,
   "title_cell": "Table of Contents",
   "title_sidebar": "Contents",
   "toc_cell": false,
   "toc_position": {
    "height": "calc(100% - 180px)",
    "left": "10px",
    "top": "150px",
    "width": "366.391px"
   },
   "toc_section_display": true,
   "toc_window_display": true
  }
 },
 "nbformat": 4,
 "nbformat_minor": 2
}
