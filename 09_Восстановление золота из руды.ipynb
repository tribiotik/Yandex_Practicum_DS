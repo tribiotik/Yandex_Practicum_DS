{
 "cells": [
  {
   "cell_type": "markdown",
   "metadata": {},
   "source": [
    "<font color='blue' size=5><b>Комментарий ревьюера</b></font>\n",
    "\n",
    "<font color='blue'>Привет! Меня зовут Никита Бережнов, и я буду проверять твой проект. Спасибо за проделанную работу! Предлагаю общаться на «ты». Моя основная цель поделиться своим опытом и помочь тебе стать профессионалом в IT сфере.</font>\n",
    "\n",
    "<font color='blue'>Я буду использовать различные цвета, чтобы было удобнее воспринимать мои комментарии:</font>\n",
    "\n",
    "\n",
    "---\n",
    "\n",
    "<div class=\"alert alert-block alert-success\">\n",
    "<b>✔️ Комментарий ревьюера: </b> Все отлично\n",
    "</div>\n",
    "\n",
    "<div class=\"alert alert-block alert-warning\">\n",
    "<b>⚠️ Комментарий ревьюера: </b> Сделано все правильно, однако есть рекомендации, на что стоит обратить внимание\n",
    "</div>\n",
    "\n",
    "<div class=\"alert alert-block alert-danger\">\n",
    "<b>❌ Комментарий ревьюера: </b> Есть недочеты, без их отработки проект не будет принят\n",
    "</div>\n",
    "\n",
    "---\n",
    "\n",
    "<font color='blue'>Пожалуйста, не удаляй мои комментарии в случае возврата работы, так будет проще разобраться, какие были недочеты, а также сразу увидеть исправленное. </font>\n",
    "\n",
    "<font color='blue'>Давай работать над проектом в диалоге: если ты что-то меняешь в проекте или отвечаешь на мои комментарии - пиши об этом. Мне будет легче отследить изменения, если ты выделишь свои комментарии:</font>\n",
    "\n",
    "<div class=\"alert alert-block alert-info\">\n",
    "<b>Комментарий студента:</b> Например, вот так.\n",
    "</div>\n",
    "\n",
    "<font color='blue'><b>Давай смотреть, что получилось!</b></font>"
   ]
  },
  {
   "cell_type": "markdown",
   "metadata": {},
   "source": [
    "<div class=\"alert alert-block alert-success\">\n",
    "<b>✔️ Комментарий ревьюера: </b> Хорошая работа. Удачно подобраны визуализации. Использованы различные модели машинного обучения и проведено их сравнение. Увидел выводы к каждому этапу работы. Но есть маленькие недочёты. Их нужно исправить. \n",
    "Осталось совсем чуть-чуть. Всегда готов ответить на твои вопросы.\n",
    "</div>\n"
   ]
  },
  {
   "cell_type": "markdown",
   "metadata": {},
   "source": [
    "<div class=\"alert alert-block alert-success\">\n",
    "<b>✔️ Комментарий ревьюера v3: </b>Спасибо за интерес к проекту. Работа принята. Желаю дальнейших успехов и карьерного роста!\n",
    "</div>"
   ]
  },
  {
   "cell_type": "markdown",
   "metadata": {
    "toc": true
   },
   "source": [
    "<h1>Содержание<span class=\"tocSkip\"></span></h1>\n",
    "<div class=\"toc\"><ul class=\"toc-item\"><li><span><a href=\"#Импорт-библиотек\" data-toc-modified-id=\"Импорт-библиотек-1\"><span class=\"toc-item-num\">1&nbsp;&nbsp;</span>Импорт библиотек</a></span></li><li><span><a href=\"#Подготовка-данных\" data-toc-modified-id=\"Подготовка-данных-2\"><span class=\"toc-item-num\">2&nbsp;&nbsp;</span>Подготовка данных</a></span><ul class=\"toc-item\"><li><span><a href=\"#Изучение-данных\" data-toc-modified-id=\"Изучение-данных-2.1\"><span class=\"toc-item-num\">2.1&nbsp;&nbsp;</span>Изучение данных</a></span></li><li><span><a href=\"#Проверка-правильности-расчета-эффективности-обогащения-на-обучающей-выборке-для-признака-rougher.output.recovery\" data-toc-modified-id=\"Проверка-правильности-расчета-эффективности-обогащения-на-обучающей-выборке-для-признака-rougher.output.recovery-2.2\"><span class=\"toc-item-num\">2.2&nbsp;&nbsp;</span>Проверка правильности расчета эффективности обогащения на обучающей выборке для признака rougher.output.recovery</a></span></li><li><span><a href=\"#Анализ-признаков-недоступных-в-тестовой-выборке\" data-toc-modified-id=\"Анализ-признаков-недоступных-в-тестовой-выборке-2.3\"><span class=\"toc-item-num\">2.3&nbsp;&nbsp;</span>Анализ признаков недоступных в тестовой выборке</a></span></li><li><span><a href=\"#Предобработка-данных\" data-toc-modified-id=\"Предобработка-данных-2.4\"><span class=\"toc-item-num\">2.4&nbsp;&nbsp;</span>Предобработка данных</a></span></li></ul></li><li><span><a href=\"#Анализ-данных\" data-toc-modified-id=\"Анализ-данных-3\"><span class=\"toc-item-num\">3&nbsp;&nbsp;</span>Анализ данных</a></span><ul class=\"toc-item\"><li><span><a href=\"#Рассмотрим-изменение-концентрации-метеллов-на-различных-этапах-обработки\" data-toc-modified-id=\"Рассмотрим-изменение-концентрации-метеллов-на-различных-этапах-обработки-3.1\"><span class=\"toc-item-num\">3.1&nbsp;&nbsp;</span>Рассмотрим изменение концентрации метеллов на различных этапах обработки</a></span></li><li><span><a href=\"#Сравним-распределения-размеров-гранул-сырья\" data-toc-modified-id=\"Сравним-распределения-размеров-гранул-сырья-3.2\"><span class=\"toc-item-num\">3.2&nbsp;&nbsp;</span>Сравним распределения размеров гранул сырья</a></span></li><li><span><a href=\"#Иследование-суммарной-концентрации-всех-веществ-на-разных-стадиях-обработки\" data-toc-modified-id=\"Иследование-суммарной-концентрации-всех-веществ-на-разных-стадиях-обработки-3.3\"><span class=\"toc-item-num\">3.3&nbsp;&nbsp;</span>Иследование суммарной концентрации всех веществ на разных стадиях обработки</a></span></li></ul></li><li><span><a href=\"#Модель\" data-toc-modified-id=\"Модель-4\"><span class=\"toc-item-num\">4&nbsp;&nbsp;</span>Модель</a></span><ul class=\"toc-item\"><li><span><a href=\"#sMAPE\" data-toc-modified-id=\"sMAPE-4.1\"><span class=\"toc-item-num\">4.1&nbsp;&nbsp;</span>sMAPE</a></span></li><li><span><a href=\"#Линейная-регресия\" data-toc-modified-id=\"Линейная-регресия-4.2\"><span class=\"toc-item-num\">4.2&nbsp;&nbsp;</span>Линейная регресия</a></span></li><li><span><a href=\"#Глубина-решающего-дерева\" data-toc-modified-id=\"Глубина-решающего-дерева-4.3\"><span class=\"toc-item-num\">4.3&nbsp;&nbsp;</span>Глубина решающего дерева</a></span></li><li><span><a href=\"#Случайный-лес\" data-toc-modified-id=\"Случайный-лес-4.4\"><span class=\"toc-item-num\">4.4&nbsp;&nbsp;</span>Случайный лес</a></span></li><li><span><a href=\"#Вывод\" data-toc-modified-id=\"Вывод-4.5\"><span class=\"toc-item-num\">4.5&nbsp;&nbsp;</span>Вывод</a></span></li></ul></li><li><span><a href=\"#Чек-лист-готовности-проекта\" data-toc-modified-id=\"Чек-лист-готовности-проекта-5\"><span class=\"toc-item-num\">5&nbsp;&nbsp;</span>Чек-лист готовности проекта</a></span></li></ul></div>"
   ]
  },
  {
   "cell_type": "markdown",
   "metadata": {},
   "source": [
    "# Восстановление золота из руды"
   ]
  },
  {
   "cell_type": "markdown",
   "metadata": {},
   "source": [
    "Подготовьте прототип модели машинного обучения для «Цифры». Компания разрабатывает решения для эффективной работы промышленных предприятий.\n",
    "\n",
    "Модель должна предсказать коэффициент восстановления золота из золотосодержащей руды. Используйте данные с параметрами добычи и очистки. \n",
    "\n",
    "Модель поможет оптимизировать производство, чтобы не запускать предприятие с убыточными характеристиками.\n",
    "\n",
    "Вам нужно:\n",
    "\n",
    "1. Подготовить данные;\n",
    "2. Провести исследовательский анализ данных;\n",
    "3. Построить и обучить модель.\n",
    "\n",
    "Чтобы выполнить проект, обращайтесь к библиотекам *pandas*, *matplotlib* и *sklearn.* Вам поможет их документация."
   ]
  },
  {
   "cell_type": "markdown",
   "metadata": {},
   "source": [
    "<div class=\"alert alert-block alert-success\">\n",
    "<b>✔️ Комментарий ревьюера:</b> Цель работы понятна\n",
    "</div>"
   ]
  },
  {
   "cell_type": "markdown",
   "metadata": {},
   "source": [
    "<div class=\"alert alert-block alert-success\">\n",
    "<b>✔️ Комментарий ревьюера v2: </b> Осталось тестирование, объяснил ошибку\n",
    "</div>"
   ]
  },
  {
   "cell_type": "markdown",
   "metadata": {},
   "source": [
    "## Импорт библиотек"
   ]
  },
  {
   "cell_type": "code",
   "execution_count": 1,
   "metadata": {},
   "outputs": [],
   "source": [
    "import pandas as pd\n",
    "from sklearn.metrics import mean_absolute_error as mae\n",
    "import matplotlib.pyplot as plt\n",
    "\n",
    "from sklearn.linear_model import LinearRegression\n",
    "from sklearn.tree import DecisionTreeRegressor\n",
    "from sklearn.ensemble import RandomForestRegressor\n",
    "from sklearn.model_selection import train_test_split\n",
    "from sklearn.model_selection import cross_val_score\n",
    "from sklearn.preprocessing import StandardScaler, MinMaxScaler"
   ]
  },
  {
   "cell_type": "markdown",
   "metadata": {},
   "source": [
    "## Подготовка данных"
   ]
  },
  {
   "cell_type": "code",
   "execution_count": 2,
   "metadata": {},
   "outputs": [],
   "source": [
    "# загрузка датасетов\n",
    "train = pd.read_csv('/datasets/gold_recovery_train_new.csv')\n",
    "test = pd.read_csv('/datasets/gold_recovery_test_new.csv')\n",
    "full = pd.read_csv('/datasets/gold_recovery_full_new.csv')\n",
    "datasets = [train, test,full]\n"
   ]
  },
  {
   "cell_type": "markdown",
   "metadata": {},
   "source": [
    "### Изучение данных"
   ]
  },
  {
   "cell_type": "code",
   "execution_count": 3,
   "metadata": {},
   "outputs": [
    {
     "name": "stdout",
     "output_type": "stream",
     "text": [
      "<class 'pandas.core.frame.DataFrame'>\n",
      "RangeIndex: 14149 entries, 0 to 14148\n",
      "Data columns (total 87 columns):\n",
      " #   Column                                              Non-Null Count  Dtype  \n",
      "---  ------                                              --------------  -----  \n",
      " 0   date                                                14149 non-null  object \n",
      " 1   final.output.concentrate_ag                         14148 non-null  float64\n",
      " 2   final.output.concentrate_pb                         14148 non-null  float64\n",
      " 3   final.output.concentrate_sol                        13938 non-null  float64\n",
      " 4   final.output.concentrate_au                         14149 non-null  float64\n",
      " 5   final.output.recovery                               14149 non-null  float64\n",
      " 6   final.output.tail_ag                                14149 non-null  float64\n",
      " 7   final.output.tail_pb                                14049 non-null  float64\n",
      " 8   final.output.tail_sol                               14144 non-null  float64\n",
      " 9   final.output.tail_au                                14149 non-null  float64\n",
      " 10  primary_cleaner.input.sulfate                       14129 non-null  float64\n",
      " 11  primary_cleaner.input.depressant                    14117 non-null  float64\n",
      " 12  primary_cleaner.input.feed_size                     14149 non-null  float64\n",
      " 13  primary_cleaner.input.xanthate                      14049 non-null  float64\n",
      " 14  primary_cleaner.output.concentrate_ag               14149 non-null  float64\n",
      " 15  primary_cleaner.output.concentrate_pb               14063 non-null  float64\n",
      " 16  primary_cleaner.output.concentrate_sol              13863 non-null  float64\n",
      " 17  primary_cleaner.output.concentrate_au               14149 non-null  float64\n",
      " 18  primary_cleaner.output.tail_ag                      14148 non-null  float64\n",
      " 19  primary_cleaner.output.tail_pb                      14134 non-null  float64\n",
      " 20  primary_cleaner.output.tail_sol                     14103 non-null  float64\n",
      " 21  primary_cleaner.output.tail_au                      14149 non-null  float64\n",
      " 22  primary_cleaner.state.floatbank8_a_air              14145 non-null  float64\n",
      " 23  primary_cleaner.state.floatbank8_a_level            14148 non-null  float64\n",
      " 24  primary_cleaner.state.floatbank8_b_air              14145 non-null  float64\n",
      " 25  primary_cleaner.state.floatbank8_b_level            14148 non-null  float64\n",
      " 26  primary_cleaner.state.floatbank8_c_air              14147 non-null  float64\n",
      " 27  primary_cleaner.state.floatbank8_c_level            14148 non-null  float64\n",
      " 28  primary_cleaner.state.floatbank8_d_air              14146 non-null  float64\n",
      " 29  primary_cleaner.state.floatbank8_d_level            14148 non-null  float64\n",
      " 30  rougher.calculation.sulfate_to_au_concentrate       14148 non-null  float64\n",
      " 31  rougher.calculation.floatbank10_sulfate_to_au_feed  14148 non-null  float64\n",
      " 32  rougher.calculation.floatbank11_sulfate_to_au_feed  14148 non-null  float64\n",
      " 33  rougher.calculation.au_pb_ratio                     14149 non-null  float64\n",
      " 34  rougher.input.feed_ag                               14149 non-null  float64\n",
      " 35  rougher.input.feed_pb                               14049 non-null  float64\n",
      " 36  rougher.input.feed_rate                             14141 non-null  float64\n",
      " 37  rougher.input.feed_size                             14005 non-null  float64\n",
      " 38  rougher.input.feed_sol                              14071 non-null  float64\n",
      " 39  rougher.input.feed_au                               14149 non-null  float64\n",
      " 40  rougher.input.floatbank10_sulfate                   14120 non-null  float64\n",
      " 41  rougher.input.floatbank10_xanthate                  14141 non-null  float64\n",
      " 42  rougher.input.floatbank11_sulfate                   14113 non-null  float64\n",
      " 43  rougher.input.floatbank11_xanthate                  13721 non-null  float64\n",
      " 44  rougher.output.concentrate_ag                       14149 non-null  float64\n",
      " 45  rougher.output.concentrate_pb                       14149 non-null  float64\n",
      " 46  rougher.output.concentrate_sol                      14127 non-null  float64\n",
      " 47  rougher.output.concentrate_au                       14149 non-null  float64\n",
      " 48  rougher.output.recovery                             14149 non-null  float64\n",
      " 49  rougher.output.tail_ag                              14148 non-null  float64\n",
      " 50  rougher.output.tail_pb                              14149 non-null  float64\n",
      " 51  rougher.output.tail_sol                             14149 non-null  float64\n",
      " 52  rougher.output.tail_au                              14149 non-null  float64\n",
      " 53  rougher.state.floatbank10_a_air                     14148 non-null  float64\n",
      " 54  rougher.state.floatbank10_a_level                   14148 non-null  float64\n",
      " 55  rougher.state.floatbank10_b_air                     14148 non-null  float64\n",
      " 56  rougher.state.floatbank10_b_level                   14148 non-null  float64\n",
      " 57  rougher.state.floatbank10_c_air                     14148 non-null  float64\n",
      " 58  rougher.state.floatbank10_c_level                   14148 non-null  float64\n",
      " 59  rougher.state.floatbank10_d_air                     14149 non-null  float64\n",
      " 60  rougher.state.floatbank10_d_level                   14149 non-null  float64\n",
      " 61  rougher.state.floatbank10_e_air                     13713 non-null  float64\n",
      " 62  rougher.state.floatbank10_e_level                   14149 non-null  float64\n",
      " 63  rougher.state.floatbank10_f_air                     14149 non-null  float64\n",
      " 64  rougher.state.floatbank10_f_level                   14149 non-null  float64\n",
      " 65  secondary_cleaner.output.tail_ag                    14147 non-null  float64\n",
      " 66  secondary_cleaner.output.tail_pb                    14139 non-null  float64\n",
      " 67  secondary_cleaner.output.tail_sol                   12544 non-null  float64\n",
      " 68  secondary_cleaner.output.tail_au                    14149 non-null  float64\n",
      " 69  secondary_cleaner.state.floatbank2_a_air            13932 non-null  float64\n",
      " 70  secondary_cleaner.state.floatbank2_a_level          14148 non-null  float64\n",
      " 71  secondary_cleaner.state.floatbank2_b_air            14128 non-null  float64\n",
      " 72  secondary_cleaner.state.floatbank2_b_level          14148 non-null  float64\n",
      " 73  secondary_cleaner.state.floatbank3_a_air            14145 non-null  float64\n",
      " 74  secondary_cleaner.state.floatbank3_a_level          14148 non-null  float64\n",
      " 75  secondary_cleaner.state.floatbank3_b_air            14148 non-null  float64\n",
      " 76  secondary_cleaner.state.floatbank3_b_level          14148 non-null  float64\n",
      " 77  secondary_cleaner.state.floatbank4_a_air            14143 non-null  float64\n",
      " 78  secondary_cleaner.state.floatbank4_a_level          14148 non-null  float64\n",
      " 79  secondary_cleaner.state.floatbank4_b_air            14148 non-null  float64\n",
      " 80  secondary_cleaner.state.floatbank4_b_level          14148 non-null  float64\n",
      " 81  secondary_cleaner.state.floatbank5_a_air            14148 non-null  float64\n",
      " 82  secondary_cleaner.state.floatbank5_a_level          14148 non-null  float64\n",
      " 83  secondary_cleaner.state.floatbank5_b_air            14148 non-null  float64\n",
      " 84  secondary_cleaner.state.floatbank5_b_level          14148 non-null  float64\n",
      " 85  secondary_cleaner.state.floatbank6_a_air            14147 non-null  float64\n",
      " 86  secondary_cleaner.state.floatbank6_a_level          14148 non-null  float64\n",
      "dtypes: float64(86), object(1)\n",
      "memory usage: 9.4+ MB\n",
      "None\n",
      "___________________________________________________________________________\n",
      "<class 'pandas.core.frame.DataFrame'>\n",
      "RangeIndex: 5290 entries, 0 to 5289\n",
      "Data columns (total 53 columns):\n",
      " #   Column                                      Non-Null Count  Dtype  \n",
      "---  ------                                      --------------  -----  \n",
      " 0   date                                        5290 non-null   object \n",
      " 1   primary_cleaner.input.sulfate               5286 non-null   float64\n",
      " 2   primary_cleaner.input.depressant            5285 non-null   float64\n",
      " 3   primary_cleaner.input.feed_size             5290 non-null   float64\n",
      " 4   primary_cleaner.input.xanthate              5286 non-null   float64\n",
      " 5   primary_cleaner.state.floatbank8_a_air      5290 non-null   float64\n",
      " 6   primary_cleaner.state.floatbank8_a_level    5290 non-null   float64\n",
      " 7   primary_cleaner.state.floatbank8_b_air      5290 non-null   float64\n",
      " 8   primary_cleaner.state.floatbank8_b_level    5290 non-null   float64\n",
      " 9   primary_cleaner.state.floatbank8_c_air      5290 non-null   float64\n",
      " 10  primary_cleaner.state.floatbank8_c_level    5290 non-null   float64\n",
      " 11  primary_cleaner.state.floatbank8_d_air      5290 non-null   float64\n",
      " 12  primary_cleaner.state.floatbank8_d_level    5290 non-null   float64\n",
      " 13  rougher.input.feed_ag                       5290 non-null   float64\n",
      " 14  rougher.input.feed_pb                       5290 non-null   float64\n",
      " 15  rougher.input.feed_rate                     5287 non-null   float64\n",
      " 16  rougher.input.feed_size                     5289 non-null   float64\n",
      " 17  rougher.input.feed_sol                      5269 non-null   float64\n",
      " 18  rougher.input.feed_au                       5290 non-null   float64\n",
      " 19  rougher.input.floatbank10_sulfate           5285 non-null   float64\n",
      " 20  rougher.input.floatbank10_xanthate          5290 non-null   float64\n",
      " 21  rougher.input.floatbank11_sulfate           5282 non-null   float64\n",
      " 22  rougher.input.floatbank11_xanthate          5265 non-null   float64\n",
      " 23  rougher.state.floatbank10_a_air             5290 non-null   float64\n",
      " 24  rougher.state.floatbank10_a_level           5290 non-null   float64\n",
      " 25  rougher.state.floatbank10_b_air             5290 non-null   float64\n",
      " 26  rougher.state.floatbank10_b_level           5290 non-null   float64\n",
      " 27  rougher.state.floatbank10_c_air             5290 non-null   float64\n",
      " 28  rougher.state.floatbank10_c_level           5290 non-null   float64\n",
      " 29  rougher.state.floatbank10_d_air             5290 non-null   float64\n",
      " 30  rougher.state.floatbank10_d_level           5290 non-null   float64\n",
      " 31  rougher.state.floatbank10_e_air             5290 non-null   float64\n",
      " 32  rougher.state.floatbank10_e_level           5290 non-null   float64\n",
      " 33  rougher.state.floatbank10_f_air             5290 non-null   float64\n",
      " 34  rougher.state.floatbank10_f_level           5290 non-null   float64\n",
      " 35  secondary_cleaner.state.floatbank2_a_air    5287 non-null   float64\n",
      " 36  secondary_cleaner.state.floatbank2_a_level  5290 non-null   float64\n",
      " 37  secondary_cleaner.state.floatbank2_b_air    5288 non-null   float64\n",
      " 38  secondary_cleaner.state.floatbank2_b_level  5290 non-null   float64\n",
      " 39  secondary_cleaner.state.floatbank3_a_air    5281 non-null   float64\n",
      " 40  secondary_cleaner.state.floatbank3_a_level  5290 non-null   float64\n",
      " 41  secondary_cleaner.state.floatbank3_b_air    5290 non-null   float64\n",
      " 42  secondary_cleaner.state.floatbank3_b_level  5290 non-null   float64\n",
      " 43  secondary_cleaner.state.floatbank4_a_air    5290 non-null   float64\n",
      " 44  secondary_cleaner.state.floatbank4_a_level  5290 non-null   float64\n",
      " 45  secondary_cleaner.state.floatbank4_b_air    5290 non-null   float64\n",
      " 46  secondary_cleaner.state.floatbank4_b_level  5290 non-null   float64\n",
      " 47  secondary_cleaner.state.floatbank5_a_air    5290 non-null   float64\n",
      " 48  secondary_cleaner.state.floatbank5_a_level  5290 non-null   float64\n",
      " 49  secondary_cleaner.state.floatbank5_b_air    5290 non-null   float64\n",
      " 50  secondary_cleaner.state.floatbank5_b_level  5290 non-null   float64\n",
      " 51  secondary_cleaner.state.floatbank6_a_air    5290 non-null   float64\n",
      " 52  secondary_cleaner.state.floatbank6_a_level  5290 non-null   float64\n",
      "dtypes: float64(52), object(1)\n",
      "memory usage: 2.1+ MB\n",
      "None\n",
      "___________________________________________________________________________\n",
      "<class 'pandas.core.frame.DataFrame'>\n",
      "RangeIndex: 19439 entries, 0 to 19438\n",
      "Data columns (total 87 columns):\n",
      " #   Column                                              Non-Null Count  Dtype  \n",
      "---  ------                                              --------------  -----  \n",
      " 0   date                                                19439 non-null  object \n",
      " 1   final.output.concentrate_ag                         19438 non-null  float64\n",
      " 2   final.output.concentrate_pb                         19438 non-null  float64\n",
      " 3   final.output.concentrate_sol                        19228 non-null  float64\n",
      " 4   final.output.concentrate_au                         19439 non-null  float64\n",
      " 5   final.output.recovery                               19439 non-null  float64\n",
      " 6   final.output.tail_ag                                19438 non-null  float64\n",
      " 7   final.output.tail_pb                                19338 non-null  float64\n",
      " 8   final.output.tail_sol                               19433 non-null  float64\n",
      " 9   final.output.tail_au                                19439 non-null  float64\n",
      " 10  primary_cleaner.input.sulfate                       19415 non-null  float64\n",
      " 11  primary_cleaner.input.depressant                    19402 non-null  float64\n",
      " 12  primary_cleaner.input.feed_size                     19439 non-null  float64\n",
      " 13  primary_cleaner.input.xanthate                      19335 non-null  float64\n",
      " 14  primary_cleaner.output.concentrate_ag               19439 non-null  float64\n",
      " 15  primary_cleaner.output.concentrate_pb               19323 non-null  float64\n",
      " 16  primary_cleaner.output.concentrate_sol              19069 non-null  float64\n",
      " 17  primary_cleaner.output.concentrate_au               19439 non-null  float64\n",
      " 18  primary_cleaner.output.tail_ag                      19435 non-null  float64\n",
      " 19  primary_cleaner.output.tail_pb                      19418 non-null  float64\n",
      " 20  primary_cleaner.output.tail_sol                     19377 non-null  float64\n",
      " 21  primary_cleaner.output.tail_au                      19439 non-null  float64\n",
      " 22  primary_cleaner.state.floatbank8_a_air              19435 non-null  float64\n",
      " 23  primary_cleaner.state.floatbank8_a_level            19438 non-null  float64\n",
      " 24  primary_cleaner.state.floatbank8_b_air              19435 non-null  float64\n",
      " 25  primary_cleaner.state.floatbank8_b_level            19438 non-null  float64\n",
      " 26  primary_cleaner.state.floatbank8_c_air              19437 non-null  float64\n",
      " 27  primary_cleaner.state.floatbank8_c_level            19438 non-null  float64\n",
      " 28  primary_cleaner.state.floatbank8_d_air              19436 non-null  float64\n",
      " 29  primary_cleaner.state.floatbank8_d_level            19438 non-null  float64\n",
      " 30  rougher.calculation.sulfate_to_au_concentrate       19437 non-null  float64\n",
      " 31  rougher.calculation.floatbank10_sulfate_to_au_feed  19437 non-null  float64\n",
      " 32  rougher.calculation.floatbank11_sulfate_to_au_feed  19437 non-null  float64\n",
      " 33  rougher.calculation.au_pb_ratio                     19439 non-null  float64\n",
      " 34  rougher.input.feed_ag                               19439 non-null  float64\n",
      " 35  rougher.input.feed_pb                               19339 non-null  float64\n",
      " 36  rougher.input.feed_rate                             19428 non-null  float64\n",
      " 37  rougher.input.feed_size                             19294 non-null  float64\n",
      " 38  rougher.input.feed_sol                              19340 non-null  float64\n",
      " 39  rougher.input.feed_au                               19439 non-null  float64\n",
      " 40  rougher.input.floatbank10_sulfate                   19405 non-null  float64\n",
      " 41  rougher.input.floatbank10_xanthate                  19431 non-null  float64\n",
      " 42  rougher.input.floatbank11_sulfate                   19395 non-null  float64\n",
      " 43  rougher.input.floatbank11_xanthate                  18986 non-null  float64\n",
      " 44  rougher.output.concentrate_ag                       19439 non-null  float64\n",
      " 45  rougher.output.concentrate_pb                       19439 non-null  float64\n",
      " 46  rougher.output.concentrate_sol                      19416 non-null  float64\n",
      " 47  rougher.output.concentrate_au                       19439 non-null  float64\n",
      " 48  rougher.output.recovery                             19439 non-null  float64\n",
      " 49  rougher.output.tail_ag                              19438 non-null  float64\n",
      " 50  rougher.output.tail_pb                              19439 non-null  float64\n",
      " 51  rougher.output.tail_sol                             19439 non-null  float64\n",
      " 52  rougher.output.tail_au                              19439 non-null  float64\n",
      " 53  rougher.state.floatbank10_a_air                     19438 non-null  float64\n",
      " 54  rougher.state.floatbank10_a_level                   19438 non-null  float64\n",
      " 55  rougher.state.floatbank10_b_air                     19438 non-null  float64\n",
      " 56  rougher.state.floatbank10_b_level                   19438 non-null  float64\n",
      " 57  rougher.state.floatbank10_c_air                     19438 non-null  float64\n",
      " 58  rougher.state.floatbank10_c_level                   19438 non-null  float64\n",
      " 59  rougher.state.floatbank10_d_air                     19439 non-null  float64\n",
      " 60  rougher.state.floatbank10_d_level                   19439 non-null  float64\n",
      " 61  rougher.state.floatbank10_e_air                     19003 non-null  float64\n",
      " 62  rougher.state.floatbank10_e_level                   19439 non-null  float64\n",
      " 63  rougher.state.floatbank10_f_air                     19439 non-null  float64\n",
      " 64  rougher.state.floatbank10_f_level                   19439 non-null  float64\n",
      " 65  secondary_cleaner.output.tail_ag                    19437 non-null  float64\n",
      " 66  secondary_cleaner.output.tail_pb                    19427 non-null  float64\n",
      " 67  secondary_cleaner.output.tail_sol                   17691 non-null  float64\n",
      " 68  secondary_cleaner.output.tail_au                    19439 non-null  float64\n",
      " 69  secondary_cleaner.state.floatbank2_a_air            19219 non-null  float64\n",
      " 70  secondary_cleaner.state.floatbank2_a_level          19438 non-null  float64\n",
      " 71  secondary_cleaner.state.floatbank2_b_air            19416 non-null  float64\n",
      " 72  secondary_cleaner.state.floatbank2_b_level          19438 non-null  float64\n",
      " 73  secondary_cleaner.state.floatbank3_a_air            19426 non-null  float64\n",
      " 74  secondary_cleaner.state.floatbank3_a_level          19438 non-null  float64\n",
      " 75  secondary_cleaner.state.floatbank3_b_air            19438 non-null  float64\n",
      " 76  secondary_cleaner.state.floatbank3_b_level          19438 non-null  float64\n",
      " 77  secondary_cleaner.state.floatbank4_a_air            19433 non-null  float64\n",
      " 78  secondary_cleaner.state.floatbank4_a_level          19438 non-null  float64\n",
      " 79  secondary_cleaner.state.floatbank4_b_air            19438 non-null  float64\n",
      " 80  secondary_cleaner.state.floatbank4_b_level          19438 non-null  float64\n",
      " 81  secondary_cleaner.state.floatbank5_a_air            19438 non-null  float64\n",
      " 82  secondary_cleaner.state.floatbank5_a_level          19438 non-null  float64\n",
      " 83  secondary_cleaner.state.floatbank5_b_air            19438 non-null  float64\n",
      " 84  secondary_cleaner.state.floatbank5_b_level          19438 non-null  float64\n",
      " 85  secondary_cleaner.state.floatbank6_a_air            19437 non-null  float64\n",
      " 86  secondary_cleaner.state.floatbank6_a_level          19438 non-null  float64\n",
      "dtypes: float64(86), object(1)\n",
      "memory usage: 12.9+ MB\n",
      "None\n",
      "___________________________________________________________________________\n"
     ]
    }
   ],
   "source": [
    "# Вывод информации по датасетам\n",
    "\n",
    "# функия для разделения выводов\n",
    "def line():\n",
    "    print('___________________________________________________________________________')\n",
    "    \n",
    "# Цикл для вывода инфо    \n",
    "for data in datasets:\n",
    "    print(data.info())\n",
    "    line()\n",
    "    "
   ]
  },
  {
   "cell_type": "code",
   "execution_count": 4,
   "metadata": {},
   "outputs": [
    {
     "name": "stdout",
     "output_type": "stream",
     "text": [
      "0\n",
      "___________________________________________________________________________\n",
      "0\n",
      "___________________________________________________________________________\n",
      "0\n",
      "___________________________________________________________________________\n"
     ]
    }
   ],
   "source": [
    "# Проверка на дубликаты\n",
    "for data in datasets:\n",
    "    print(data.duplicated().sum())\n",
    "    line()"
   ]
  },
  {
   "cell_type": "code",
   "execution_count": 5,
   "metadata": {},
   "outputs": [
    {
     "data": {
      "text/plain": [
       "date                                            0\n",
       "final.output.concentrate_ag                     1\n",
       "final.output.concentrate_pb                     1\n",
       "final.output.concentrate_sol                  211\n",
       "final.output.concentrate_au                     0\n",
       "                                             ... \n",
       "secondary_cleaner.state.floatbank5_a_level      1\n",
       "secondary_cleaner.state.floatbank5_b_air        1\n",
       "secondary_cleaner.state.floatbank5_b_level      1\n",
       "secondary_cleaner.state.floatbank6_a_air        2\n",
       "secondary_cleaner.state.floatbank6_a_level      1\n",
       "Length: 87, dtype: int64"
      ]
     },
     "metadata": {},
     "output_type": "display_data"
    },
    {
     "name": "stdout",
     "output_type": "stream",
     "text": [
      "___________________________________________________________________________\n"
     ]
    },
    {
     "data": {
      "text/plain": [
       "date                                           0\n",
       "primary_cleaner.input.sulfate                  4\n",
       "primary_cleaner.input.depressant               5\n",
       "primary_cleaner.input.feed_size                0\n",
       "primary_cleaner.input.xanthate                 4\n",
       "primary_cleaner.state.floatbank8_a_air         0\n",
       "primary_cleaner.state.floatbank8_a_level       0\n",
       "primary_cleaner.state.floatbank8_b_air         0\n",
       "primary_cleaner.state.floatbank8_b_level       0\n",
       "primary_cleaner.state.floatbank8_c_air         0\n",
       "primary_cleaner.state.floatbank8_c_level       0\n",
       "primary_cleaner.state.floatbank8_d_air         0\n",
       "primary_cleaner.state.floatbank8_d_level       0\n",
       "rougher.input.feed_ag                          0\n",
       "rougher.input.feed_pb                          0\n",
       "rougher.input.feed_rate                        3\n",
       "rougher.input.feed_size                        1\n",
       "rougher.input.feed_sol                        21\n",
       "rougher.input.feed_au                          0\n",
       "rougher.input.floatbank10_sulfate              5\n",
       "rougher.input.floatbank10_xanthate             0\n",
       "rougher.input.floatbank11_sulfate              8\n",
       "rougher.input.floatbank11_xanthate            25\n",
       "rougher.state.floatbank10_a_air                0\n",
       "rougher.state.floatbank10_a_level              0\n",
       "rougher.state.floatbank10_b_air                0\n",
       "rougher.state.floatbank10_b_level              0\n",
       "rougher.state.floatbank10_c_air                0\n",
       "rougher.state.floatbank10_c_level              0\n",
       "rougher.state.floatbank10_d_air                0\n",
       "rougher.state.floatbank10_d_level              0\n",
       "rougher.state.floatbank10_e_air                0\n",
       "rougher.state.floatbank10_e_level              0\n",
       "rougher.state.floatbank10_f_air                0\n",
       "rougher.state.floatbank10_f_level              0\n",
       "secondary_cleaner.state.floatbank2_a_air       3\n",
       "secondary_cleaner.state.floatbank2_a_level     0\n",
       "secondary_cleaner.state.floatbank2_b_air       2\n",
       "secondary_cleaner.state.floatbank2_b_level     0\n",
       "secondary_cleaner.state.floatbank3_a_air       9\n",
       "secondary_cleaner.state.floatbank3_a_level     0\n",
       "secondary_cleaner.state.floatbank3_b_air       0\n",
       "secondary_cleaner.state.floatbank3_b_level     0\n",
       "secondary_cleaner.state.floatbank4_a_air       0\n",
       "secondary_cleaner.state.floatbank4_a_level     0\n",
       "secondary_cleaner.state.floatbank4_b_air       0\n",
       "secondary_cleaner.state.floatbank4_b_level     0\n",
       "secondary_cleaner.state.floatbank5_a_air       0\n",
       "secondary_cleaner.state.floatbank5_a_level     0\n",
       "secondary_cleaner.state.floatbank5_b_air       0\n",
       "secondary_cleaner.state.floatbank5_b_level     0\n",
       "secondary_cleaner.state.floatbank6_a_air       0\n",
       "secondary_cleaner.state.floatbank6_a_level     0\n",
       "dtype: int64"
      ]
     },
     "metadata": {},
     "output_type": "display_data"
    },
    {
     "name": "stdout",
     "output_type": "stream",
     "text": [
      "___________________________________________________________________________\n"
     ]
    },
    {
     "data": {
      "text/plain": [
       "date                                            0\n",
       "final.output.concentrate_ag                     1\n",
       "final.output.concentrate_pb                     1\n",
       "final.output.concentrate_sol                  211\n",
       "final.output.concentrate_au                     0\n",
       "                                             ... \n",
       "secondary_cleaner.state.floatbank5_a_level      1\n",
       "secondary_cleaner.state.floatbank5_b_air        1\n",
       "secondary_cleaner.state.floatbank5_b_level      1\n",
       "secondary_cleaner.state.floatbank6_a_air        2\n",
       "secondary_cleaner.state.floatbank6_a_level      1\n",
       "Length: 87, dtype: int64"
      ]
     },
     "metadata": {},
     "output_type": "display_data"
    },
    {
     "name": "stdout",
     "output_type": "stream",
     "text": [
      "___________________________________________________________________________\n"
     ]
    }
   ],
   "source": [
    "for data in datasets:\n",
    "    display(data.isna().sum())\n",
    "    line()"
   ]
  },
  {
   "cell_type": "code",
   "execution_count": 6,
   "metadata": {},
   "outputs": [
    {
     "data": {
      "text/html": [
       "<div>\n",
       "<style scoped>\n",
       "    .dataframe tbody tr th:only-of-type {\n",
       "        vertical-align: middle;\n",
       "    }\n",
       "\n",
       "    .dataframe tbody tr th {\n",
       "        vertical-align: top;\n",
       "    }\n",
       "\n",
       "    .dataframe thead th {\n",
       "        text-align: right;\n",
       "    }\n",
       "</style>\n",
       "<table border=\"1\" class=\"dataframe\">\n",
       "  <thead>\n",
       "    <tr style=\"text-align: right;\">\n",
       "      <th></th>\n",
       "      <th>date</th>\n",
       "      <th>final.output.concentrate_ag</th>\n",
       "      <th>final.output.concentrate_pb</th>\n",
       "      <th>final.output.concentrate_sol</th>\n",
       "      <th>final.output.concentrate_au</th>\n",
       "      <th>final.output.recovery</th>\n",
       "      <th>final.output.tail_ag</th>\n",
       "      <th>final.output.tail_pb</th>\n",
       "      <th>final.output.tail_sol</th>\n",
       "      <th>final.output.tail_au</th>\n",
       "      <th>...</th>\n",
       "      <th>secondary_cleaner.state.floatbank4_a_air</th>\n",
       "      <th>secondary_cleaner.state.floatbank4_a_level</th>\n",
       "      <th>secondary_cleaner.state.floatbank4_b_air</th>\n",
       "      <th>secondary_cleaner.state.floatbank4_b_level</th>\n",
       "      <th>secondary_cleaner.state.floatbank5_a_air</th>\n",
       "      <th>secondary_cleaner.state.floatbank5_a_level</th>\n",
       "      <th>secondary_cleaner.state.floatbank5_b_air</th>\n",
       "      <th>secondary_cleaner.state.floatbank5_b_level</th>\n",
       "      <th>secondary_cleaner.state.floatbank6_a_air</th>\n",
       "      <th>secondary_cleaner.state.floatbank6_a_level</th>\n",
       "    </tr>\n",
       "  </thead>\n",
       "  <tbody>\n",
       "    <tr>\n",
       "      <th>0</th>\n",
       "      <td>2016-01-15 00:00:00</td>\n",
       "      <td>6.055403</td>\n",
       "      <td>9.889648</td>\n",
       "      <td>5.507324</td>\n",
       "      <td>42.192020</td>\n",
       "      <td>70.541216</td>\n",
       "      <td>10.411962</td>\n",
       "      <td>0.895447</td>\n",
       "      <td>16.904297</td>\n",
       "      <td>2.143149</td>\n",
       "      <td>...</td>\n",
       "      <td>14.016835</td>\n",
       "      <td>-502.488007</td>\n",
       "      <td>12.099931</td>\n",
       "      <td>-504.715942</td>\n",
       "      <td>9.925633</td>\n",
       "      <td>-498.310211</td>\n",
       "      <td>8.079666</td>\n",
       "      <td>-500.470978</td>\n",
       "      <td>14.151341</td>\n",
       "      <td>-605.841980</td>\n",
       "    </tr>\n",
       "    <tr>\n",
       "      <th>1</th>\n",
       "      <td>2016-01-15 01:00:00</td>\n",
       "      <td>6.029369</td>\n",
       "      <td>9.968944</td>\n",
       "      <td>5.257781</td>\n",
       "      <td>42.701629</td>\n",
       "      <td>69.266198</td>\n",
       "      <td>10.462676</td>\n",
       "      <td>0.927452</td>\n",
       "      <td>16.634514</td>\n",
       "      <td>2.224930</td>\n",
       "      <td>...</td>\n",
       "      <td>13.992281</td>\n",
       "      <td>-505.503262</td>\n",
       "      <td>11.950531</td>\n",
       "      <td>-501.331529</td>\n",
       "      <td>10.039245</td>\n",
       "      <td>-500.169983</td>\n",
       "      <td>7.984757</td>\n",
       "      <td>-500.582168</td>\n",
       "      <td>13.998353</td>\n",
       "      <td>-599.787184</td>\n",
       "    </tr>\n",
       "  </tbody>\n",
       "</table>\n",
       "<p>2 rows × 87 columns</p>\n",
       "</div>"
      ],
      "text/plain": [
       "                  date  final.output.concentrate_ag  \\\n",
       "0  2016-01-15 00:00:00                     6.055403   \n",
       "1  2016-01-15 01:00:00                     6.029369   \n",
       "\n",
       "   final.output.concentrate_pb  final.output.concentrate_sol  \\\n",
       "0                     9.889648                      5.507324   \n",
       "1                     9.968944                      5.257781   \n",
       "\n",
       "   final.output.concentrate_au  final.output.recovery  final.output.tail_ag  \\\n",
       "0                    42.192020              70.541216             10.411962   \n",
       "1                    42.701629              69.266198             10.462676   \n",
       "\n",
       "   final.output.tail_pb  final.output.tail_sol  final.output.tail_au  ...  \\\n",
       "0              0.895447              16.904297              2.143149  ...   \n",
       "1              0.927452              16.634514              2.224930  ...   \n",
       "\n",
       "   secondary_cleaner.state.floatbank4_a_air  \\\n",
       "0                                 14.016835   \n",
       "1                                 13.992281   \n",
       "\n",
       "   secondary_cleaner.state.floatbank4_a_level  \\\n",
       "0                                 -502.488007   \n",
       "1                                 -505.503262   \n",
       "\n",
       "   secondary_cleaner.state.floatbank4_b_air  \\\n",
       "0                                 12.099931   \n",
       "1                                 11.950531   \n",
       "\n",
       "   secondary_cleaner.state.floatbank4_b_level  \\\n",
       "0                                 -504.715942   \n",
       "1                                 -501.331529   \n",
       "\n",
       "   secondary_cleaner.state.floatbank5_a_air  \\\n",
       "0                                  9.925633   \n",
       "1                                 10.039245   \n",
       "\n",
       "   secondary_cleaner.state.floatbank5_a_level  \\\n",
       "0                                 -498.310211   \n",
       "1                                 -500.169983   \n",
       "\n",
       "   secondary_cleaner.state.floatbank5_b_air  \\\n",
       "0                                  8.079666   \n",
       "1                                  7.984757   \n",
       "\n",
       "   secondary_cleaner.state.floatbank5_b_level  \\\n",
       "0                                 -500.470978   \n",
       "1                                 -500.582168   \n",
       "\n",
       "   secondary_cleaner.state.floatbank6_a_air  \\\n",
       "0                                 14.151341   \n",
       "1                                 13.998353   \n",
       "\n",
       "   secondary_cleaner.state.floatbank6_a_level  \n",
       "0                                 -605.841980  \n",
       "1                                 -599.787184  \n",
       "\n",
       "[2 rows x 87 columns]"
      ]
     },
     "metadata": {},
     "output_type": "display_data"
    },
    {
     "data": {
      "text/html": [
       "<div>\n",
       "<style scoped>\n",
       "    .dataframe tbody tr th:only-of-type {\n",
       "        vertical-align: middle;\n",
       "    }\n",
       "\n",
       "    .dataframe tbody tr th {\n",
       "        vertical-align: top;\n",
       "    }\n",
       "\n",
       "    .dataframe thead th {\n",
       "        text-align: right;\n",
       "    }\n",
       "</style>\n",
       "<table border=\"1\" class=\"dataframe\">\n",
       "  <thead>\n",
       "    <tr style=\"text-align: right;\">\n",
       "      <th></th>\n",
       "      <th>date</th>\n",
       "      <th>primary_cleaner.input.sulfate</th>\n",
       "      <th>primary_cleaner.input.depressant</th>\n",
       "      <th>primary_cleaner.input.feed_size</th>\n",
       "      <th>primary_cleaner.input.xanthate</th>\n",
       "      <th>primary_cleaner.state.floatbank8_a_air</th>\n",
       "      <th>primary_cleaner.state.floatbank8_a_level</th>\n",
       "      <th>primary_cleaner.state.floatbank8_b_air</th>\n",
       "      <th>primary_cleaner.state.floatbank8_b_level</th>\n",
       "      <th>primary_cleaner.state.floatbank8_c_air</th>\n",
       "      <th>...</th>\n",
       "      <th>secondary_cleaner.state.floatbank4_a_air</th>\n",
       "      <th>secondary_cleaner.state.floatbank4_a_level</th>\n",
       "      <th>secondary_cleaner.state.floatbank4_b_air</th>\n",
       "      <th>secondary_cleaner.state.floatbank4_b_level</th>\n",
       "      <th>secondary_cleaner.state.floatbank5_a_air</th>\n",
       "      <th>secondary_cleaner.state.floatbank5_a_level</th>\n",
       "      <th>secondary_cleaner.state.floatbank5_b_air</th>\n",
       "      <th>secondary_cleaner.state.floatbank5_b_level</th>\n",
       "      <th>secondary_cleaner.state.floatbank6_a_air</th>\n",
       "      <th>secondary_cleaner.state.floatbank6_a_level</th>\n",
       "    </tr>\n",
       "  </thead>\n",
       "  <tbody>\n",
       "    <tr>\n",
       "      <th>0</th>\n",
       "      <td>2016-09-01 00:59:59</td>\n",
       "      <td>210.800909</td>\n",
       "      <td>14.993118</td>\n",
       "      <td>8.08</td>\n",
       "      <td>1.005021</td>\n",
       "      <td>1398.981301</td>\n",
       "      <td>-500.225577</td>\n",
       "      <td>1399.144926</td>\n",
       "      <td>-499.919735</td>\n",
       "      <td>1400.102998</td>\n",
       "      <td>...</td>\n",
       "      <td>12.023554</td>\n",
       "      <td>-497.795834</td>\n",
       "      <td>8.016656</td>\n",
       "      <td>-501.289139</td>\n",
       "      <td>7.946562</td>\n",
       "      <td>-432.317850</td>\n",
       "      <td>4.872511</td>\n",
       "      <td>-500.037437</td>\n",
       "      <td>26.705889</td>\n",
       "      <td>-499.709414</td>\n",
       "    </tr>\n",
       "    <tr>\n",
       "      <th>1</th>\n",
       "      <td>2016-09-01 01:59:59</td>\n",
       "      <td>215.392455</td>\n",
       "      <td>14.987471</td>\n",
       "      <td>8.08</td>\n",
       "      <td>0.990469</td>\n",
       "      <td>1398.777912</td>\n",
       "      <td>-500.057435</td>\n",
       "      <td>1398.055362</td>\n",
       "      <td>-499.778182</td>\n",
       "      <td>1396.151033</td>\n",
       "      <td>...</td>\n",
       "      <td>12.058140</td>\n",
       "      <td>-498.695773</td>\n",
       "      <td>8.130979</td>\n",
       "      <td>-499.634209</td>\n",
       "      <td>7.958270</td>\n",
       "      <td>-525.839648</td>\n",
       "      <td>4.878850</td>\n",
       "      <td>-500.162375</td>\n",
       "      <td>25.019940</td>\n",
       "      <td>-499.819438</td>\n",
       "    </tr>\n",
       "  </tbody>\n",
       "</table>\n",
       "<p>2 rows × 53 columns</p>\n",
       "</div>"
      ],
      "text/plain": [
       "                  date  primary_cleaner.input.sulfate  \\\n",
       "0  2016-09-01 00:59:59                     210.800909   \n",
       "1  2016-09-01 01:59:59                     215.392455   \n",
       "\n",
       "   primary_cleaner.input.depressant  primary_cleaner.input.feed_size  \\\n",
       "0                         14.993118                             8.08   \n",
       "1                         14.987471                             8.08   \n",
       "\n",
       "   primary_cleaner.input.xanthate  primary_cleaner.state.floatbank8_a_air  \\\n",
       "0                        1.005021                             1398.981301   \n",
       "1                        0.990469                             1398.777912   \n",
       "\n",
       "   primary_cleaner.state.floatbank8_a_level  \\\n",
       "0                               -500.225577   \n",
       "1                               -500.057435   \n",
       "\n",
       "   primary_cleaner.state.floatbank8_b_air  \\\n",
       "0                             1399.144926   \n",
       "1                             1398.055362   \n",
       "\n",
       "   primary_cleaner.state.floatbank8_b_level  \\\n",
       "0                               -499.919735   \n",
       "1                               -499.778182   \n",
       "\n",
       "   primary_cleaner.state.floatbank8_c_air  ...  \\\n",
       "0                             1400.102998  ...   \n",
       "1                             1396.151033  ...   \n",
       "\n",
       "   secondary_cleaner.state.floatbank4_a_air  \\\n",
       "0                                 12.023554   \n",
       "1                                 12.058140   \n",
       "\n",
       "   secondary_cleaner.state.floatbank4_a_level  \\\n",
       "0                                 -497.795834   \n",
       "1                                 -498.695773   \n",
       "\n",
       "   secondary_cleaner.state.floatbank4_b_air  \\\n",
       "0                                  8.016656   \n",
       "1                                  8.130979   \n",
       "\n",
       "   secondary_cleaner.state.floatbank4_b_level  \\\n",
       "0                                 -501.289139   \n",
       "1                                 -499.634209   \n",
       "\n",
       "   secondary_cleaner.state.floatbank5_a_air  \\\n",
       "0                                  7.946562   \n",
       "1                                  7.958270   \n",
       "\n",
       "   secondary_cleaner.state.floatbank5_a_level  \\\n",
       "0                                 -432.317850   \n",
       "1                                 -525.839648   \n",
       "\n",
       "   secondary_cleaner.state.floatbank5_b_air  \\\n",
       "0                                  4.872511   \n",
       "1                                  4.878850   \n",
       "\n",
       "   secondary_cleaner.state.floatbank5_b_level  \\\n",
       "0                                 -500.037437   \n",
       "1                                 -500.162375   \n",
       "\n",
       "   secondary_cleaner.state.floatbank6_a_air  \\\n",
       "0                                 26.705889   \n",
       "1                                 25.019940   \n",
       "\n",
       "   secondary_cleaner.state.floatbank6_a_level  \n",
       "0                                 -499.709414  \n",
       "1                                 -499.819438  \n",
       "\n",
       "[2 rows x 53 columns]"
      ]
     },
     "metadata": {},
     "output_type": "display_data"
    },
    {
     "data": {
      "text/html": [
       "<div>\n",
       "<style scoped>\n",
       "    .dataframe tbody tr th:only-of-type {\n",
       "        vertical-align: middle;\n",
       "    }\n",
       "\n",
       "    .dataframe tbody tr th {\n",
       "        vertical-align: top;\n",
       "    }\n",
       "\n",
       "    .dataframe thead th {\n",
       "        text-align: right;\n",
       "    }\n",
       "</style>\n",
       "<table border=\"1\" class=\"dataframe\">\n",
       "  <thead>\n",
       "    <tr style=\"text-align: right;\">\n",
       "      <th></th>\n",
       "      <th>date</th>\n",
       "      <th>final.output.concentrate_ag</th>\n",
       "      <th>final.output.concentrate_pb</th>\n",
       "      <th>final.output.concentrate_sol</th>\n",
       "      <th>final.output.concentrate_au</th>\n",
       "      <th>final.output.recovery</th>\n",
       "      <th>final.output.tail_ag</th>\n",
       "      <th>final.output.tail_pb</th>\n",
       "      <th>final.output.tail_sol</th>\n",
       "      <th>final.output.tail_au</th>\n",
       "      <th>...</th>\n",
       "      <th>secondary_cleaner.state.floatbank4_a_air</th>\n",
       "      <th>secondary_cleaner.state.floatbank4_a_level</th>\n",
       "      <th>secondary_cleaner.state.floatbank4_b_air</th>\n",
       "      <th>secondary_cleaner.state.floatbank4_b_level</th>\n",
       "      <th>secondary_cleaner.state.floatbank5_a_air</th>\n",
       "      <th>secondary_cleaner.state.floatbank5_a_level</th>\n",
       "      <th>secondary_cleaner.state.floatbank5_b_air</th>\n",
       "      <th>secondary_cleaner.state.floatbank5_b_level</th>\n",
       "      <th>secondary_cleaner.state.floatbank6_a_air</th>\n",
       "      <th>secondary_cleaner.state.floatbank6_a_level</th>\n",
       "    </tr>\n",
       "  </thead>\n",
       "  <tbody>\n",
       "    <tr>\n",
       "      <th>0</th>\n",
       "      <td>2016-01-15 00:00:00</td>\n",
       "      <td>6.055403</td>\n",
       "      <td>9.889648</td>\n",
       "      <td>5.507324</td>\n",
       "      <td>42.192020</td>\n",
       "      <td>70.541216</td>\n",
       "      <td>10.411962</td>\n",
       "      <td>0.895447</td>\n",
       "      <td>16.904297</td>\n",
       "      <td>2.143149</td>\n",
       "      <td>...</td>\n",
       "      <td>14.016835</td>\n",
       "      <td>-502.488007</td>\n",
       "      <td>12.099931</td>\n",
       "      <td>-504.715942</td>\n",
       "      <td>9.925633</td>\n",
       "      <td>-498.310211</td>\n",
       "      <td>8.079666</td>\n",
       "      <td>-500.470978</td>\n",
       "      <td>14.151341</td>\n",
       "      <td>-605.841980</td>\n",
       "    </tr>\n",
       "    <tr>\n",
       "      <th>1</th>\n",
       "      <td>2016-01-15 01:00:00</td>\n",
       "      <td>6.029369</td>\n",
       "      <td>9.968944</td>\n",
       "      <td>5.257781</td>\n",
       "      <td>42.701629</td>\n",
       "      <td>69.266198</td>\n",
       "      <td>10.462676</td>\n",
       "      <td>0.927452</td>\n",
       "      <td>16.634514</td>\n",
       "      <td>2.224930</td>\n",
       "      <td>...</td>\n",
       "      <td>13.992281</td>\n",
       "      <td>-505.503262</td>\n",
       "      <td>11.950531</td>\n",
       "      <td>-501.331529</td>\n",
       "      <td>10.039245</td>\n",
       "      <td>-500.169983</td>\n",
       "      <td>7.984757</td>\n",
       "      <td>-500.582168</td>\n",
       "      <td>13.998353</td>\n",
       "      <td>-599.787184</td>\n",
       "    </tr>\n",
       "  </tbody>\n",
       "</table>\n",
       "<p>2 rows × 87 columns</p>\n",
       "</div>"
      ],
      "text/plain": [
       "                  date  final.output.concentrate_ag  \\\n",
       "0  2016-01-15 00:00:00                     6.055403   \n",
       "1  2016-01-15 01:00:00                     6.029369   \n",
       "\n",
       "   final.output.concentrate_pb  final.output.concentrate_sol  \\\n",
       "0                     9.889648                      5.507324   \n",
       "1                     9.968944                      5.257781   \n",
       "\n",
       "   final.output.concentrate_au  final.output.recovery  final.output.tail_ag  \\\n",
       "0                    42.192020              70.541216             10.411962   \n",
       "1                    42.701629              69.266198             10.462676   \n",
       "\n",
       "   final.output.tail_pb  final.output.tail_sol  final.output.tail_au  ...  \\\n",
       "0              0.895447              16.904297              2.143149  ...   \n",
       "1              0.927452              16.634514              2.224930  ...   \n",
       "\n",
       "   secondary_cleaner.state.floatbank4_a_air  \\\n",
       "0                                 14.016835   \n",
       "1                                 13.992281   \n",
       "\n",
       "   secondary_cleaner.state.floatbank4_a_level  \\\n",
       "0                                 -502.488007   \n",
       "1                                 -505.503262   \n",
       "\n",
       "   secondary_cleaner.state.floatbank4_b_air  \\\n",
       "0                                 12.099931   \n",
       "1                                 11.950531   \n",
       "\n",
       "   secondary_cleaner.state.floatbank4_b_level  \\\n",
       "0                                 -504.715942   \n",
       "1                                 -501.331529   \n",
       "\n",
       "   secondary_cleaner.state.floatbank5_a_air  \\\n",
       "0                                  9.925633   \n",
       "1                                 10.039245   \n",
       "\n",
       "   secondary_cleaner.state.floatbank5_a_level  \\\n",
       "0                                 -498.310211   \n",
       "1                                 -500.169983   \n",
       "\n",
       "   secondary_cleaner.state.floatbank5_b_air  \\\n",
       "0                                  8.079666   \n",
       "1                                  7.984757   \n",
       "\n",
       "   secondary_cleaner.state.floatbank5_b_level  \\\n",
       "0                                 -500.470978   \n",
       "1                                 -500.582168   \n",
       "\n",
       "   secondary_cleaner.state.floatbank6_a_air  \\\n",
       "0                                 14.151341   \n",
       "1                                 13.998353   \n",
       "\n",
       "   secondary_cleaner.state.floatbank6_a_level  \n",
       "0                                 -605.841980  \n",
       "1                                 -599.787184  \n",
       "\n",
       "[2 rows x 87 columns]"
      ]
     },
     "metadata": {},
     "output_type": "display_data"
    }
   ],
   "source": [
    "for data in datasets:\n",
    "    display(data.head(2))\n",
    "   "
   ]
  },
  {
   "cell_type": "markdown",
   "metadata": {},
   "source": [
    "### Проверка правильности расчета эффективности обогащения на обучающей выборке для признака rougher.output.recovery"
   ]
  },
  {
   "cell_type": "code",
   "execution_count": 7,
   "metadata": {},
   "outputs": [
    {
     "name": "stdout",
     "output_type": "stream",
     "text": [
      "MAE =  9.73512347450521e-15\n"
     ]
    }
   ],
   "source": [
    "columns_for_mae = ['rougher.output.recovery',\n",
    "           'rougher.output.concentrate_au',\n",
    "           'rougher.input.feed_au',\n",
    "           'rougher.output.tail_au']\n",
    "\n",
    "data_check = train[columns_for_mae].dropna()\n",
    "\n",
    "C = data_check['rougher.output.concentrate_au']\n",
    "F = data_check['rougher.input.feed_au']\n",
    "T = data_check['rougher.output.tail_au']\n",
    "recovery = (C * (F-T)) / (F * (C - T)) * 100\n",
    "\n",
    "print('MAE = ', mae(data_check['rougher.output.recovery'], recovery))\n"
   ]
  },
  {
   "cell_type": "markdown",
   "metadata": {},
   "source": [
    "Расчитанный показатель MAE говорит нам о том, что от истинных значений в среднем мы отклоняемся на незначительную величину.  Что говорит о том, что эффективность обогащения рассчитана коректно."
   ]
  },
  {
   "cell_type": "markdown",
   "metadata": {},
   "source": [
    "<div class=\"alert alert-block alert-success\">\n",
    "<b>✔️ Комментарий ревьюера:</b> Да, согласен\n",
    "</div>"
   ]
  },
  {
   "cell_type": "markdown",
   "metadata": {},
   "source": [
    "### Анализ признаков недоступных в тестовой выборке"
   ]
  },
  {
   "cell_type": "code",
   "execution_count": 8,
   "metadata": {},
   "outputs": [
    {
     "data": {
      "text/plain": [
       "{'final.output.concentrate_ag',\n",
       " 'final.output.concentrate_au',\n",
       " 'final.output.concentrate_pb',\n",
       " 'final.output.concentrate_sol',\n",
       " 'final.output.recovery',\n",
       " 'final.output.tail_ag',\n",
       " 'final.output.tail_au',\n",
       " 'final.output.tail_pb',\n",
       " 'final.output.tail_sol',\n",
       " 'primary_cleaner.output.concentrate_ag',\n",
       " 'primary_cleaner.output.concentrate_au',\n",
       " 'primary_cleaner.output.concentrate_pb',\n",
       " 'primary_cleaner.output.concentrate_sol',\n",
       " 'primary_cleaner.output.tail_ag',\n",
       " 'primary_cleaner.output.tail_au',\n",
       " 'primary_cleaner.output.tail_pb',\n",
       " 'primary_cleaner.output.tail_sol',\n",
       " 'rougher.calculation.au_pb_ratio',\n",
       " 'rougher.calculation.floatbank10_sulfate_to_au_feed',\n",
       " 'rougher.calculation.floatbank11_sulfate_to_au_feed',\n",
       " 'rougher.calculation.sulfate_to_au_concentrate',\n",
       " 'rougher.output.concentrate_ag',\n",
       " 'rougher.output.concentrate_au',\n",
       " 'rougher.output.concentrate_pb',\n",
       " 'rougher.output.concentrate_sol',\n",
       " 'rougher.output.recovery',\n",
       " 'rougher.output.tail_ag',\n",
       " 'rougher.output.tail_au',\n",
       " 'rougher.output.tail_pb',\n",
       " 'rougher.output.tail_sol',\n",
       " 'secondary_cleaner.output.tail_ag',\n",
       " 'secondary_cleaner.output.tail_au',\n",
       " 'secondary_cleaner.output.tail_pb',\n",
       " 'secondary_cleaner.output.tail_sol'}"
      ]
     },
     "execution_count": 8,
     "metadata": {},
     "output_type": "execute_result"
    }
   ],
   "source": [
    "missing_columns = set(full.columns) - set(test.columns)\n",
    "missing_columns\n"
   ]
  },
  {
   "cell_type": "markdown",
   "metadata": {},
   "source": [
    "Данные столбцы показывают состояние продукта после этапов флотации и очисток. Как было сказано в условии задачи эти столбцы получены после обработки и нужны для рассчета."
   ]
  },
  {
   "cell_type": "markdown",
   "metadata": {},
   "source": [
    "<div class=\"alert alert-block alert-success\">\n",
    "<b>✔️ Комментарий ревьюера:</b> Да, так\n",
    "</div>"
   ]
  },
  {
   "cell_type": "markdown",
   "metadata": {},
   "source": [
    "### Предобработка данных"
   ]
  },
  {
   "cell_type": "code",
   "execution_count": 9,
   "metadata": {
    "scrolled": true
   },
   "outputs": [
    {
     "data": {
      "text/plain": [
       "0"
      ]
     },
     "metadata": {},
     "output_type": "display_data"
    },
    {
     "data": {
      "text/plain": [
       "0"
      ]
     },
     "metadata": {},
     "output_type": "display_data"
    },
    {
     "data": {
      "text/plain": [
       "0"
      ]
     },
     "metadata": {},
     "output_type": "display_data"
    }
   ],
   "source": [
    "# Удаление пропусков\n",
    "\n",
    "#train = train.dropna().reset_index(drop = True)\n",
    "#test = test.dropna().reset_index(drop = True)\n",
    "#full = full.dropna().reset_index(drop = True)\n",
    "# 4629\n",
    "#display(full.isna().sum().sum())\n",
    "# 90\n",
    "#display(test.isna().sum().sum())\n",
    "#4100\n",
    "#display(train.isna().sum().sum())\n",
    "train = train.ffill()\n",
    "test = test.ffill()\n",
    "full = full.ffill()\n",
    "\n",
    "display(full.isna().sum().sum())\n",
    "display(test.isna().sum().sum())\n",
    "display(train.isna().sum().sum())"
   ]
  },
  {
   "cell_type": "markdown",
   "metadata": {},
   "source": [
    "<div class=\"alert alert-block alert-danger\">\n",
    "<b>❌ Комментарий ревьюера:</b> Удаляешь слишком много данных. Стоит удалять не более 10 процентов от изначального количества данных. В условии задания дана подсказка. Удаление столь большого количества данных может исказить их начальное распределение. В реальных задачах исследователи обычно сталкиваются с нехваткой данных, поэтому их удаление может также усилить проблему переобучения.\n",
    "</div>"
   ]
  },
  {
   "cell_type": "markdown",
   "metadata": {},
   "source": [
    "<div class=\"alert alert-block alert-info\">\n",
    "<b>Комментарий студента:</b> Посчитал пропуски вкруг и действительно их очень много, около 20%. Поэтому решил пропуски не удалять совсем, а использовать метод ffill т.к. данные в нашем случае индексируются датой и временем получения информации (столбец date), а соседние по времени параметры часто похожи. Как бы ты решил в этом случае проблему с пропусками?\n",
    "</div>"
   ]
  },
  {
   "cell_type": "markdown",
   "metadata": {},
   "source": [
    "<div class=\"alert alert-block alert-success\">\n",
    "<b>✔️ Комментарий ревьюера v2: </b> Я бы решил её также, через ffill. Он лучше всего он здесь подходит\n",
    "</div>"
   ]
  },
  {
   "cell_type": "markdown",
   "metadata": {},
   "source": [
    "## Анализ данных"
   ]
  },
  {
   "cell_type": "markdown",
   "metadata": {},
   "source": [
    "### Рассмотрим изменение концентрации метеллов на различных этапах обработки"
   ]
  },
  {
   "cell_type": "code",
   "execution_count": 10,
   "metadata": {},
   "outputs": [
    {
     "data": {
      "image/png": "[encoded data removed]",
      "text/plain": [
       "<Figure size 432x288 with 1 Axes>"
      ]
     },
     "metadata": {
      "needs_background": "light"
     },
     "output_type": "display_data"
    },
    {
     "data": {
      "image/png": "[encoded data removed]",
      "text/plain": [
       "<Figure size 432x288 with 1 Axes>"
      ]
     },
     "metadata": {
      "needs_background": "light"
     },
     "output_type": "display_data"
    },
    {
     "data": {
      "image/png": "[encoded data removed]",
      "text/plain": [
       "<Figure size 432x288 with 1 Axes>"
      ]
     },
     "metadata": {
      "needs_background": "light"
     },
     "output_type": "display_data"
    }
   ],
   "source": [
    "metall = [ 'au', 'ag', 'pb']\n",
    "i = 0\n",
    "\n",
    "for element in metall:\n",
    "       \n",
    "    fig = plt.figure()\n",
    "    ax = fig.add_axes([0,0,1,1])\n",
    "    ax.grid()\n",
    "    ax.set_xlabel('Концентрация металла')\n",
    "    ax.set_ylabel('Количество попаданий')\n",
    "    \n",
    "    plt.suptitle('Концентрация ' + metall[i].upper() + ' на различных этапах очистки' , x=0.5, y=1.1, ha='center', fontsize='x-large')\n",
    "    plt.hist(full['rougher.input.feed_' + element], alpha=0.7,  bins = 100)\n",
    "    plt.hist(full['rougher.output.concentrate_' + element], alpha=0.7, bins = 100)\n",
    "    plt.hist(full['primary_cleaner.output.concentrate_' + element], alpha=0.7, bins = 100)\n",
    "    plt.hist(full['final.output.concentrate_' + element], alpha=0.7, bins = 100)\n",
    "    \n",
    "    plt.legend(['Сырье', 'Флотация', 'Первичная очистка', 'Вторичная очистка'])\n",
    "    plt.show()\n",
    "    \n",
    "    i += 1"
   ]
  },
  {
   "cell_type": "markdown",
   "metadata": {},
   "source": [
    "<div class=\"alert alert-block alert-success\">\n",
    "<b>✔️ Комментарий ревьюера:</b> Супер, классные графики\n",
    "</div>"
   ]
  },
  {
   "cell_type": "markdown",
   "metadata": {},
   "source": [
    "# Вывод"
   ]
  },
  {
   "cell_type": "markdown",
   "metadata": {},
   "source": [
    "Концентрация золота увеличивается после каждого этапа очистки\n",
    "\n",
    "Концентрация серебра увеличивается после флотации и уменьшается после следующих этапов\n",
    "\n",
    "Концентрация свинца увеличивается после первого этапа очистки и незначительно изменяется в дальнейшем"
   ]
  },
  {
   "cell_type": "markdown",
   "metadata": {},
   "source": [
    "### Сравним распределения размеров гранул сырья "
   ]
  },
  {
   "cell_type": "code",
   "execution_count": 11,
   "metadata": {},
   "outputs": [
    {
     "data": {
      "image/png": "[encoded data removed]",
      "text/plain": [
       "<Figure size 432x288 with 1 Axes>"
      ]
     },
     "metadata": {
      "needs_background": "light"
     },
     "output_type": "display_data"
    },
    {
     "data": {
      "image/png": "[encoded data removed]",
      "text/plain": [
       "<Figure size 432x288 with 1 Axes>"
      ]
     },
     "metadata": {
      "needs_background": "light"
     },
     "output_type": "display_data"
    }
   ],
   "source": [
    "fig = plt.figure()\n",
    "ax = fig.add_axes([0,0,1,1])\n",
    "ax.grid()\n",
    "ax.set_xlabel('Размер гранул')\n",
    "ax.set_ylabel('Количество попаданий')\n",
    "plt.suptitle('Первичная очистка', x=0.5, y=1.1, ha='center', fontsize='xx-large')\n",
    "\n",
    "train['primary_cleaner.input.feed_size'].hist(alpha=0.7, density=True, bins = 50, range = (4, 12))\n",
    "test['primary_cleaner.input.feed_size'].hist(alpha=0.5, density=True, bins = 50, range = (4, 12))\n",
    "\n",
    "plt.legend(['тренировочная', 'тестовая'])\n",
    "plt.show()\n",
    "\n",
    "fig = plt.figure()\n",
    "ax = fig.add_axes([0,0,1,1])\n",
    "ax.grid()\n",
    "ax.set_xlabel('Размер гранул')\n",
    "ax.set_ylabel('Количество попаданий')\n",
    "plt.suptitle('Флотация', x=0.5, y=1.1, ha='center', fontsize='x-large')\n",
    "\n",
    "train['rougher.input.feed_size'].hist(alpha=0.7, density=True, bins = 50, range = (0, 150))\n",
    "test['rougher.input.feed_size'].hist(alpha=0.5, density=True, bins = 50, range = (0, 150))\n",
    "\n",
    "plt.legend(['тренировочная', 'тестовая'])\n",
    "plt.show()"
   ]
  },
  {
   "cell_type": "markdown",
   "metadata": {},
   "source": [
    "# Вывод"
   ]
  },
  {
   "cell_type": "markdown",
   "metadata": {},
   "source": [
    "Размеры гранул  распределены примерно одинаково на обоих выборках."
   ]
  },
  {
   "cell_type": "markdown",
   "metadata": {},
   "source": [
    "<div class=\"alert alert-block alert-success\">\n",
    "<b>✔️ Комментарий ревьюера:</b> Да, согласен\n",
    "</div>"
   ]
  },
  {
   "cell_type": "markdown",
   "metadata": {},
   "source": [
    "### Иследование суммарной концентрации всех веществ на разных стадиях обработки"
   ]
  },
  {
   "cell_type": "code",
   "execution_count": 12,
   "metadata": {},
   "outputs": [],
   "source": [
    "metals = ['au', 'ag', 'pb', 'sol']\n",
    "steps = ['rougher.input.feed_',\n",
    "         'rougher.output.concentrate_', \n",
    "         'final.output.concentrate_']\n",
    "for step in steps:\n",
    "    full[step] = full[step + metals[0]] + full[step + metals[1]] + full[step + metals[2]] + full[step + metals[3]]"
   ]
  },
  {
   "cell_type": "code",
   "execution_count": 13,
   "metadata": {},
   "outputs": [
    {
     "data": {
      "image/png": "[encoded data removed]",
      "text/plain": [
       "<Figure size 720x432 with 1 Axes>"
      ]
     },
     "metadata": {
      "needs_background": "light"
     },
     "output_type": "display_data"
    }
   ],
   "source": [
    "x0 = full['rougher.input.feed_'].dropna()\n",
    "x1 = full['rougher.output.concentrate_'].dropna()\n",
    "x2 = full['final.output.concentrate_'].dropna()\n",
    "\n",
    "plt.figure(figsize=(10, 6))\n",
    "\n",
    "x0.hist(alpha=0.7, density=True, bins = 50, range = (0, 100))\n",
    "x1.hist(alpha=0.7, density=True, bins = 50, range = (0, 100))\n",
    "x2.hist(alpha=0.7, density=True, bins = 50, range = (0, 100))\n",
    "\n",
    "plt.legend(['сырье', 'черновой концентрат', 'финальный концентрат'], loc='upper left')\n",
    "plt.xlabel('Концентрация')\n",
    "plt.ylabel('Количество попаданий')\n",
    "plt.title(label='Концентрация всех веществ на разных стадиях очистки', x=0.5, y=1.05, ha='center', fontsize='xx-large')\n",
    "plt.show()"
   ]
  },
  {
   "cell_type": "markdown",
   "metadata": {},
   "source": [
    "# Вывод"
   ]
  },
  {
   "cell_type": "markdown",
   "metadata": {},
   "source": [
    "При анализе гистограммы обнаружены выбросы с концентрацией веществ 0. Перед проверкой модели от выбросов необходимо избавиться."
   ]
  },
  {
   "cell_type": "markdown",
   "metadata": {},
   "source": [
    "## Модель"
   ]
  },
  {
   "cell_type": "code",
   "execution_count": 14,
   "metadata": {},
   "outputs": [],
   "source": [
    "# избавлюсь от выбросов\n",
    "full = full[(full['rougher.input.feed_'] != 0) &\n",
    "         (full['rougher.output.concentrate_'] != 0) & \n",
    "         (full['final.output.concentrate_'] != 0)]"
   ]
  },
  {
   "cell_type": "markdown",
   "metadata": {},
   "source": [
    "<div class=\"alert alert-block alert-success\">\n",
    "<b>✔️ Комментарий ревьюера:</b> Верно, аномалии можно удалить\n",
    "</div>"
   ]
  },
  {
   "cell_type": "markdown",
   "metadata": {},
   "source": [
    "### sMAPE"
   ]
  },
  {
   "cell_type": "code",
   "execution_count": 15,
   "metadata": {},
   "outputs": [],
   "source": [
    "targets_train = (\n",
    "    pd.DataFrame({'rougher': train['rougher.output.recovery'],\n",
    "                  'final': train['final.output.recovery']\n",
    "                  })\n",
    "                )\n",
    "\n",
    "targets_test = test.merge(full[['date', 'rougher.output.recovery', 'final.output.recovery']], on = 'date', how='left')\n",
    "targets_test = (\n",
    "    pd.DataFrame({'rougher': targets_test['rougher.output.recovery'],\n",
    "                  'final': targets_test['final.output.recovery']\n",
    "                  })\n",
    "                )\n"
   ]
  },
  {
   "cell_type": "code",
   "execution_count": 16,
   "metadata": {},
   "outputs": [],
   "source": [
    "#test = pd.merge(test, train)\n",
    "#test.info()\n",
    "#test = pd.concat([test, train]).drop_duplicates(keep=False)\n",
    "#test.info()\n",
    "\n",
    "#missing_columns = set(train.columns) - set(test.columns)\n",
    "#print(missing_columns)\n",
    "\n",
    "train = train.drop(columns = ['final.output.recovery', 'secondary_cleaner.output.tail_ag', 'final.output.concentrate_au', \n",
    "                  'rougher.output.tail_sol', 'final.output.tail_au', 'final.output.concentrate_ag', 'final.output.tail_sol', \n",
    "                  'rougher.output.concentrate_sol', 'primary_cleaner.output.concentrate_ag', 'primary_cleaner.output.tail_pb', \n",
    "                  'rougher.calculation.sulfate_to_au_concentrate', 'primary_cleaner.output.tail_sol', \n",
    "                  'rougher.calculation.floatbank10_sulfate_to_au_feed', 'secondary_cleaner.output.tail_pb', \n",
    "                  'primary_cleaner.output.tail_au', 'rougher.output.concentrate_au', 'final.output.tail_ag', \n",
    "                  'rougher.output.tail_ag', 'primary_cleaner.output.concentrate_au', 'final.output.tail_pb', \n",
    "                  'rougher.output.recovery', 'primary_cleaner.output.concentrate_pb', 'rougher.output.concentrate_ag', \n",
    "                  'final.output.concentrate_sol', 'secondary_cleaner.output.tail_au', 'secondary_cleaner.output.tail_sol', \n",
    "                  'rougher.output.concentrate_pb', 'rougher.output.tail_au', 'rougher.output.tail_pb', \n",
    "                  'final.output.concentrate_pb', 'primary_cleaner.output.tail_ag', 'rougher.calculation.au_pb_ratio', \n",
    "                  'rougher.calculation.floatbank11_sulfate_to_au_feed', 'primary_cleaner.output.concentrate_sol'])\n",
    "#train.info()"
   ]
  },
  {
   "cell_type": "code",
   "execution_count": 17,
   "metadata": {},
   "outputs": [],
   "source": [
    "train = train.drop(['date'], axis = 1)\n",
    "test = test.drop(['date'], axis = 1)\n",
    "\n",
    "def sMAPE(target, predict):\n",
    "    result = (\n",
    "            \n",
    "        (abs(target - predict) / \n",
    "        ((abs(target) + abs(predict)) / 2)) * 100\n",
    "        \n",
    "    )\n",
    "    \n",
    "    return result.sum() / len(target)\n",
    "\n"
   ]
  },
  {
   "cell_type": "markdown",
   "metadata": {},
   "source": [
    "<div class=\"alert alert-block alert-warning\">\n",
    "<b>⚠️ Комментарий ревьюера: </b> Есть метод mean(), его можно использовать вместо sum и len\n",
    "</div>"
   ]
  },
  {
   "cell_type": "markdown",
   "metadata": {},
   "source": [
    "### Линейная регресия"
   ]
  },
  {
   "cell_type": "code",
   "execution_count": 18,
   "metadata": {},
   "outputs": [
    {
     "name": "stdout",
     "output_type": "stream",
     "text": [
      "Итоговый sMAPE 8.58892872666998\n"
     ]
    }
   ],
   "source": [
    "size_sample = int(len(train) / 5)\n",
    "scores = []\n",
    "\n",
    "ss = StandardScaler()\n",
    "ss.fit(train)\n",
    "train = ss.transform(train)\n",
    "test = ss.transform(test)\n",
    "\n",
    "for step in range(0, len(train), size_sample):\n",
    "    \n",
    "#    ss = StandardScaler()\n",
    "#    ss.fit(train)\n",
    "#    train = ss.transform(train)\n",
    "#    test = ss.transform(test)    \n",
    "    \n",
    "    valid_f = train[step: step + size_sample]\n",
    "    train_f = train\n",
    "\n",
    "    valid_t = targets_train[step: step + size_sample]\n",
    "    train_t = targets_train\n",
    "    \n",
    "\n",
    "    \n",
    "    model_LR = LinearRegression()\n",
    "    model_LR.fit(train_f, train_t)\n",
    "\n",
    "    predict = model_LR.predict(valid_f)\n",
    "\n",
    "    scores.append(sMAPE(valid_t, predict))\n",
    "\n",
    "print('Итоговый sMAPE', (sum(scores) / len(scores))[0] * 0.25 + (sum(scores) / len(scores))[1] * 0.75)\n"
   ]
  },
  {
   "cell_type": "markdown",
   "metadata": {},
   "source": [
    "Был до выравнивания сборок Итоговый sMAPE 1.3874160481607587"
   ]
  },
  {
   "cell_type": "markdown",
   "metadata": {},
   "source": [
    "<div class=\"alert alert-block alert-success\">\n",
    "<b>✔️ Комментарий ревьюера️ v2:</b> Да, был такой низкий, потому что выборки пересекались\n",
    "</div>"
   ]
  },
  {
   "cell_type": "markdown",
   "metadata": {},
   "source": [
    "<div class=\"alert alert-block alert-danger\">\n",
    "<b>❌ Комментарий ревьюера: </b> Необходимо выполнить масштабирование признаков. Во-первых, это увеличивает сходимость модели. \n",
    "Во-вторых, есть много алгоритмов, для которых масштабирование является критичным и даёт существенный прирост в точности. Поэтому стоит его добавить, хуже оно не сделает. Кидаю несколько полезных ссылок на эту тему:\n",
    "    \n",
    "https://russianblogs.com/article/93721294400/\n",
    "    \n",
    "https://scikit-learn.ru/6-3-preprocessing-data/\n",
    "    \n",
    "</div>"
   ]
  },
  {
   "cell_type": "markdown",
   "metadata": {},
   "source": [
    "<div class=\"alert alert-block alert-info\">\n",
    "<b>Комментарий студента:</b> Маштабирование добавил\n",
    "</div>\n"
   ]
  },
  {
   "cell_type": "markdown",
   "metadata": {},
   "source": [
    "<div class=\"alert alert-block alert-warning\">\n",
    "<b>⚠️ Комментарий ревьюера v2: </b> Масштабирование делается один раз. ss.fit(train) в цикле каждый раз будет давать одинаковый результат\n",
    "</div>"
   ]
  },
  {
   "cell_type": "markdown",
   "metadata": {},
   "source": [
    "<div class=\"alert alert-block alert-info\">\n",
    "<b>Комментарий студента V2:</b> Маштабирование вывел из цикла. Надеюсь я правильно понял замечание.\n",
    "</div>\n"
   ]
  },
  {
   "cell_type": "markdown",
   "metadata": {},
   "source": [
    "<div class=\"alert alert-block alert-success\">\n",
    "<b>✔️ Комментарий ревьюера️ v3:</b> Да, только transform надо также раскомментировать\n",
    "</div>"
   ]
  },
  {
   "cell_type": "markdown",
   "metadata": {},
   "source": [
    "<div class=\"alert alert-block alert-warning\">\n",
    "<b>⚠️ Комментарий ревьюера: </b> Ок, однако можно использовать готовую кросс-валидацию в sklearn.\n",
    "    \n",
    "https://scikit-learn.org/stable/modules/generated/sklearn.model_selection.cross_validate.html\n",
    "\n",
    "https://scikit-learn.org/0.16/modules/generated/sklearn.cross_validation.cross_val_score.html\n",
    "</div>"
   ]
  },
  {
   "cell_type": "markdown",
   "metadata": {},
   "source": [
    "### Глубина решающего дерева"
   ]
  },
  {
   "cell_type": "code",
   "execution_count": null,
   "metadata": {},
   "outputs": [],
   "source": []
  },
  {
   "cell_type": "code",
   "execution_count": 19,
   "metadata": {},
   "outputs": [
    {
     "name": "stdout",
     "output_type": "stream",
     "text": [
      "Итоговый sMAPE при depth = 10: 5.8506666093612285\n",
      "Итоговый sMAPE при depth = 11: 5.800863632561184\n",
      "Итоговый sMAPE при depth = 12: 5.563491289296453\n",
      "Итоговый sMAPE при depth = 13: 5.358251761786611\n",
      "Итоговый sMAPE при depth = 14: 5.1717009831645555\n"
     ]
    }
   ],
   "source": [
    "scores = []\n",
    "\n",
    "for depth in range(10,15):\n",
    "    for step in range(0, len(train), size_sample):\n",
    "        valid_f = train[step: step + size_sample]\n",
    "        train_f = train\n",
    "\n",
    "        valid_t = targets_train[step: step + size_sample]\n",
    "        train_t = targets_train\n",
    "\n",
    "        model_DTR = DecisionTreeRegressor(random_state = 12345, max_depth=depth)\n",
    "        model_DTR.fit(train_f, train_t)\n",
    "\n",
    "        predict = model_DTR.predict(valid_f)\n",
    "\n",
    "        scores.append(sMAPE(valid_t, predict))\n",
    "    \n",
    "    result = (sum(scores) / len(scores))[0] * 0.25 + (sum(scores) / len(scores))[1] * 0.75\n",
    "    print('Итоговый sMAPE при depth =', str(depth) + ':', result)"
   ]
  },
  {
   "cell_type": "markdown",
   "metadata": {},
   "source": [
    "<div class=\"alert alert-block alert-success\">\n",
    "<b>✔️ Комментарий ревьюера:</b> Отлично. Перебор параметров лучше осуществлять через GridSearchCV в библиотеке sklearn, заодно и кросс-валидация там есть\n",
    "https://vc.ru/ml/147132-kak-avtomaticheski-podobrat-parametry-dlya-modeli-mashinnogo-obucheniya-ispolzuem-gridsearchcv\n",
    "</div>"
   ]
  },
  {
   "cell_type": "markdown",
   "metadata": {},
   "source": [
    "<div class=\"alert alert-block alert-info\">\n",
    "<b>Комментарий студента:</b> через GridSearchCV ооооооочень долго. В прошлом проекте так делал сильно нервничал)\n",
    "</div>\n"
   ]
  },
  {
   "cell_type": "markdown",
   "metadata": {},
   "source": [
    "<div class=\"alert alert-block alert-success\">\n",
    "<b>✔️ Комментарий ревьюера️ v2:</b> У GridSearchCV есть параметр verbose, чтобы отслеживать процесс выполнения. Также можно сократить перебираемые диапазоны или же использовать вместо него RandomizedSearchCV\n",
    "</div>"
   ]
  },
  {
   "cell_type": "markdown",
   "metadata": {},
   "source": [
    "### Случайный лес"
   ]
  },
  {
   "cell_type": "code",
   "execution_count": null,
   "metadata": {},
   "outputs": [
    {
     "name": "stdout",
     "output_type": "stream",
     "text": [
      "Итоговый sMAPE при depth = 10: и est = 30: 6.372783847562068\n",
      "Итоговый sMAPE при depth = 11: и est = 30: 6.252406510627085\n",
      "Итоговый sMAPE при depth = 12: и est = 30: 6.119024433163465\n",
      "Итоговый sMAPE при depth = 13: и est = 30: 5.9900972457157655\n",
      "___________________________________________________________________________\n",
      "Итоговый sMAPE при depth = 10: и est = 40: 6.073187329022325\n"
     ]
    }
   ],
   "source": [
    "scores = []\n",
    "\n",
    "\n",
    "for est in range(30, 51, 10):\n",
    "    for depth in range (10, 14):\n",
    "        for step in range(0, len(train), size_sample):\n",
    "\n",
    "            valid_f = train[step: step + size_sample]\n",
    "            train_f = train\n",
    "\n",
    "            valid_t = targets_train[step: step + size_sample]\n",
    "            train_t = targets_train\n",
    "           \n",
    "            model_RFR = RandomForestRegressor(random_state=12345, n_estimators=est, max_depth=depth)\n",
    "            model_RFR.fit(train_f, train_t)\n",
    "    \n",
    "            predict = model_RFR.predict(valid_f)\n",
    "\n",
    "            scores.append(sMAPE(valid_t, predict))\n",
    "\n",
    "        print('Итоговый sMAPE при depth =', str(depth) + ':', 'и est =', str(est) + ':', (sum(scores) / len(scores))[0] * 0.25 + (sum(scores) / len(scores))[1] * 0.75)\n",
    "    line()"
   ]
  },
  {
   "cell_type": "code",
   "execution_count": null,
   "metadata": {
    "scrolled": true
   },
   "outputs": [],
   "source": [
    "\n",
    "predict = model_RFR.predict(test)\n",
    "result = sMAPE(targets_test, predict)\n",
    "print('Итоговый sMAPE', result[0] * 0.25 + result[1] * 0.75)"
   ]
  },
  {
   "cell_type": "markdown",
   "metadata": {},
   "source": [
    "<div class=\"alert alert-block alert-danger\">\n",
    "<b>❌ Комментарий ревьюера: </b> Ошибку нужно устранить. Для этого необходимо либо добавить колонки в тестовую выборку, либо удалить из обучающей\n",
    "</div>"
   ]
  },
  {
   "cell_type": "markdown",
   "metadata": {},
   "source": [
    "<div class=\"alert alert-block alert-info\">\n",
    "<b>Комментарий студента:</b> Удалил признаки из обучающей выборки, но теперь другая ошибка. Как то получилось что в test 5290 строк, а в target_test 5154. не понимаю как так получилось и как это исправить. Подскажи, пожалуйста. Я уже окончательно запутался:(\n",
    "</div>\n"
   ]
  },
  {
   "cell_type": "markdown",
   "metadata": {},
   "source": [
    "<div class=\"alert alert-block alert-success\">\n",
    "<b>✔️ Комментарий ревьюера️ v2:</b> В full избавился от выбросов, а в test нет. В merge по умолчанию параметр how=inner. Следовательно, выбирается пересечение двух датафреймов и часть данных из test не попадёт в конечный dataframe. Отсюда количество таргетов меньше, чем количество признаков. Получается, что будут отсутствовать таргеты для выбросов.\n",
    "    \n",
    "Два способа решения проблемы: \n",
    "удалить выбросы из тестовой выборки\n",
    "или поставить how='left'\n",
    "    \n",
    "https://yandex.ru/images/search?from=tabbar&text=inner%2C%20left%20pandas&pos=2&img_url=https%3A%2F%2Fi.stack.imgur.com%2Fp5hvX.jpg&rpt=simage\n",
    "</div>"
   ]
  },
  {
   "cell_type": "markdown",
   "metadata": {},
   "source": [
    "<div class=\"alert alert-block alert-info\">\n",
    "<b>Комментарий студента V2:</b> Большое сапасибо за подсказку. Ошибку исправил добавлением параметра how='left'.\n",
    "    В прошлый раз забыл спросить. Нет ли какого нибудь более изящного способа удаления столбцов чем перечисление их имен в drop? \n",
    "</div>\n"
   ]
  },
  {
   "cell_type": "markdown",
   "metadata": {},
   "source": [
    "<div class=\"alert alert-block alert-success\">\n",
    "<b>✔️ Комментарий ревьюера️ v3:</b> Если столбцы располагаются в датафрейме, то можно указать их в drop так: df.columns[a:b]\n",
    "Есть и другие способы. Кидаю ссылку на статью:\n",
    "    \n",
    "https://pythonpip.ru/pandas/kak-udalit-stolbtsy-v-pandas\n",
    "</div>"
   ]
  },
  {
   "cell_type": "markdown",
   "metadata": {},
   "source": [
    "### Вывод"
   ]
  },
  {
   "cell_type": "markdown",
   "metadata": {},
   "source": [
    "Лучше всего себя показала модель RandomForest.   sMAPE на тестовой выборке = 7.8%"
   ]
  },
  {
   "cell_type": "markdown",
   "metadata": {},
   "source": [
    "<div class=\"alert alert-block alert-success\">\n",
    "<b>✔️ Комментарий ревьюера️:</b> Круто. Спасибо за вывод!\n",
    "</div>"
   ]
  },
  {
   "cell_type": "markdown",
   "metadata": {},
   "source": [
    "<font color='blue'><b>Итоговый комментарий ревьюера</b></font>\n",
    "<div class=\"alert alert-block alert-success\">\n",
    "<b>✔️ Комментарий ревьюера:</b>\n",
    "Мне очень понравилась твоя работа. Спасибо тебе большое, за хорошее оформление проекта и выводы к каждому этапу работы.\n",
    "Чувствуется уверенное знание материала и владение питоном в целом. \n",
    "</div>\n",
    "<font color='blue'><b>Но нужно кое-что поправить:</b></font>:\n",
    "<div class=\"alert alert-block alert-danger\">\n",
    "<ul>1) Масштабирование</ul>\n",
    "<ul>2) Не удалять такое большое количество данных</ul>\n",
    "<ul>3) Исправить ошибку</ul>\n",
    "</div>\n",
    "\n",
    "<font color='blue'><b>Осталось совсем немного, буду ждать твою работу на повторное ревью 🙂</b></font>"
   ]
  },
  {
   "cell_type": "markdown",
   "metadata": {},
   "source": [
    "<div class=\"alert alert-block alert-success\">\n",
    "<b>✔️ Комментарий ревьюера v2: </b> Осталось тестирование, объяснил ошибку\n",
    "</div>"
   ]
  },
  {
   "cell_type": "markdown",
   "metadata": {},
   "source": [
    "<div class=\"alert alert-block alert-success\">\n",
    "<b>✔️ Комментарий ревьюера v3: </b>Спасибо за интерес к проекту. Работа принята. Желаю дальнейших успехов и карьерного роста!\n",
    "</div>"
   ]
  },
  {
   "cell_type": "markdown",
   "metadata": {},
   "source": [
    "## Чек-лист готовности проекта"
   ]
  },
  {
   "cell_type": "markdown",
   "metadata": {},
   "source": [
    "- [x]  Jupyter Notebook открыт\n",
    "- [ ]  Весь код выполняется без ошибок\n",
    "- [ ]  Ячейки с кодом расположены в порядке выполнения\n",
    "- [ ]  Выполнен шаг 1: данные подготовлены\n",
    "    - [ ]  Проверена формула вычисления эффективности обогащения\n",
    "    - [ ]  Проанализированы признаки, недоступные в тестовой выборке\n",
    "    - [ ]  Проведена предобработка данных\n",
    "- [ ]  Выполнен шаг 2: данные проанализированы\n",
    "    - [ ]  Исследовано изменение концентрации элементов на каждом этапе\n",
    "    - [ ]  Проанализированы распределения размеров гранул на обучающей и тестовой выборках\n",
    "    - [ ]  Исследованы суммарные концентрации\n",
    "- [ ]  Выполнен шаг 3: построена модель прогнозирования\n",
    "    - [ ]  Написана функция для вычисления итогового *sMAPE*\n",
    "    - [ ]  Обучено и проверено несколько моделей\n",
    "    - [ ]  Выбрана лучшая модель, её качество проверено на тестовой выборке"
   ]
  },
  {
   "cell_type": "code",
   "execution_count": null,
   "metadata": {},
   "outputs": [],
   "source": []
  }
 ],
 "metadata": {
  "ExecuteTimeLog": [
   {
    "duration": 400,
    "start_time": "2022-03-23T12:36:28.019Z"
   },
   {
    "duration": 614,
    "start_time": "2022-03-23T12:43:59.298Z"
   },
   {
    "duration": 42,
    "start_time": "2022-03-23T12:48:05.040Z"
   },
   {
    "duration": 34,
    "start_time": "2022-03-23T12:48:32.010Z"
   },
   {
    "duration": 41,
    "start_time": "2022-03-23T12:48:48.989Z"
   },
   {
    "duration": 62,
    "start_time": "2022-03-23T12:49:25.429Z"
   },
   {
    "duration": 75,
    "start_time": "2022-03-23T12:50:22.716Z"
   },
   {
    "duration": 32,
    "start_time": "2022-03-23T12:52:07.506Z"
   },
   {
    "duration": 33,
    "start_time": "2022-03-23T12:52:15.755Z"
   },
   {
    "duration": 245,
    "start_time": "2022-03-23T12:55:12.280Z"
   },
   {
    "duration": 226,
    "start_time": "2022-03-23T12:55:23.905Z"
   },
   {
    "duration": 16,
    "start_time": "2022-03-23T12:59:51.357Z"
   },
   {
    "duration": 3,
    "start_time": "2022-03-23T13:00:56.084Z"
   },
   {
    "duration": 639,
    "start_time": "2022-03-23T13:00:56.089Z"
   },
   {
    "duration": 41,
    "start_time": "2022-03-23T13:00:56.729Z"
   },
   {
    "duration": 225,
    "start_time": "2022-03-23T13:00:56.771Z"
   },
   {
    "duration": 15,
    "start_time": "2022-03-23T13:00:56.998Z"
   },
   {
    "duration": 20,
    "start_time": "2022-03-23T13:01:58.853Z"
   },
   {
    "duration": 3,
    "start_time": "2022-03-23T13:02:03.965Z"
   },
   {
    "duration": 652,
    "start_time": "2022-03-23T13:02:03.970Z"
   },
   {
    "duration": 43,
    "start_time": "2022-03-23T13:02:04.623Z"
   },
   {
    "duration": 225,
    "start_time": "2022-03-23T13:02:04.668Z"
   },
   {
    "duration": 19,
    "start_time": "2022-03-23T13:02:04.896Z"
   },
   {
    "duration": 57,
    "start_time": "2022-03-23T13:03:47.434Z"
   },
   {
    "duration": 48,
    "start_time": "2022-03-23T13:03:55.310Z"
   },
   {
    "duration": 51,
    "start_time": "2022-03-23T13:04:03.954Z"
   },
   {
    "duration": 833,
    "start_time": "2022-03-23T13:19:53.214Z"
   },
   {
    "duration": 638,
    "start_time": "2022-03-23T13:19:54.049Z"
   },
   {
    "duration": 40,
    "start_time": "2022-03-23T13:19:54.689Z"
   },
   {
    "duration": 228,
    "start_time": "2022-03-23T13:19:54.731Z"
   },
   {
    "duration": 19,
    "start_time": "2022-03-23T13:19:54.964Z"
   },
   {
    "duration": 46,
    "start_time": "2022-03-23T13:19:54.985Z"
   },
   {
    "duration": 43,
    "start_time": "2022-03-23T13:19:55.033Z"
   },
   {
    "duration": 42,
    "start_time": "2022-03-23T13:20:19.931Z"
   },
   {
    "duration": 10,
    "start_time": "2022-03-23T13:21:07.955Z"
   },
   {
    "duration": 21,
    "start_time": "2022-03-23T13:21:31.233Z"
   },
   {
    "duration": 8,
    "start_time": "2022-03-23T13:22:19.766Z"
   },
   {
    "duration": 11,
    "start_time": "2022-03-23T13:23:02.489Z"
   },
   {
    "duration": 10,
    "start_time": "2022-03-23T13:33:31.115Z"
   },
   {
    "duration": 4,
    "start_time": "2022-03-23T13:33:57.915Z"
   },
   {
    "duration": 5,
    "start_time": "2022-03-23T13:34:17.353Z"
   },
   {
    "duration": 4,
    "start_time": "2022-03-23T13:34:39.597Z"
   },
   {
    "duration": 127,
    "start_time": "2022-03-23T13:37:40.309Z"
   },
   {
    "duration": 9,
    "start_time": "2022-03-23T13:37:45.654Z"
   },
   {
    "duration": 6,
    "start_time": "2022-03-23T13:37:55.711Z"
   },
   {
    "duration": 4,
    "start_time": "2022-03-23T13:38:19.942Z"
   },
   {
    "duration": 5,
    "start_time": "2022-03-23T13:38:32.245Z"
   },
   {
    "duration": 5,
    "start_time": "2022-03-23T13:38:41.710Z"
   },
   {
    "duration": 48,
    "start_time": "2022-03-23T14:43:48.407Z"
   },
   {
    "duration": 45,
    "start_time": "2022-03-23T14:45:15.125Z"
   },
   {
    "duration": 52,
    "start_time": "2022-03-23T14:47:01.723Z"
   },
   {
    "duration": 49,
    "start_time": "2022-03-23T14:49:37.168Z"
   },
   {
    "duration": 3,
    "start_time": "2022-03-23T14:49:59.394Z"
   },
   {
    "duration": 632,
    "start_time": "2022-03-23T14:49:59.399Z"
   },
   {
    "duration": 53,
    "start_time": "2022-03-23T14:50:00.033Z"
   },
   {
    "duration": 223,
    "start_time": "2022-03-23T14:50:00.089Z"
   },
   {
    "duration": 19,
    "start_time": "2022-03-23T14:50:00.314Z"
   },
   {
    "duration": 64,
    "start_time": "2022-03-23T14:50:00.335Z"
   },
   {
    "duration": 8,
    "start_time": "2022-03-23T14:50:00.401Z"
   },
   {
    "duration": 38,
    "start_time": "2022-03-23T14:50:00.410Z"
   },
   {
    "duration": 59,
    "start_time": "2022-03-23T14:50:00.451Z"
   },
   {
    "duration": 56,
    "start_time": "2022-03-23T14:52:16.067Z"
   },
   {
    "duration": 46,
    "start_time": "2022-03-23T14:54:02.487Z"
   },
   {
    "duration": 19,
    "start_time": "2022-03-23T14:59:46.520Z"
   },
   {
    "duration": 1898,
    "start_time": "2022-03-23T15:00:49.379Z"
   },
   {
    "duration": 7,
    "start_time": "2022-03-23T15:07:19.084Z"
   },
   {
    "duration": 3,
    "start_time": "2022-03-23T15:08:19.277Z"
   },
   {
    "duration": 642,
    "start_time": "2022-03-23T15:08:19.282Z"
   },
   {
    "duration": 53,
    "start_time": "2022-03-23T15:08:19.926Z"
   },
   {
    "duration": 232,
    "start_time": "2022-03-23T15:08:19.981Z"
   },
   {
    "duration": 23,
    "start_time": "2022-03-23T15:08:20.216Z"
   },
   {
    "duration": 68,
    "start_time": "2022-03-23T15:08:20.241Z"
   },
   {
    "duration": 11,
    "start_time": "2022-03-23T15:08:20.311Z"
   },
   {
    "duration": 7,
    "start_time": "2022-03-23T15:08:20.323Z"
   },
   {
    "duration": 77,
    "start_time": "2022-03-23T15:08:20.332Z"
   },
   {
    "duration": 7,
    "start_time": "2022-03-23T15:08:20.411Z"
   },
   {
    "duration": 12,
    "start_time": "2022-03-23T15:09:36.503Z"
   },
   {
    "duration": 11,
    "start_time": "2022-03-23T15:09:43.832Z"
   },
   {
    "duration": 11,
    "start_time": "2022-03-23T15:09:58.024Z"
   },
   {
    "duration": 452,
    "start_time": "2022-03-23T15:10:30.569Z"
   },
   {
    "duration": 672,
    "start_time": "2022-03-23T15:10:31.024Z"
   },
   {
    "duration": 41,
    "start_time": "2022-03-23T15:10:31.698Z"
   },
   {
    "duration": 240,
    "start_time": "2022-03-23T15:10:31.741Z"
   },
   {
    "duration": 21,
    "start_time": "2022-03-23T15:10:31.984Z"
   },
   {
    "duration": 73,
    "start_time": "2022-03-23T15:10:32.007Z"
   },
   {
    "duration": 10,
    "start_time": "2022-03-23T15:10:32.082Z"
   },
   {
    "duration": 9,
    "start_time": "2022-03-23T15:10:32.094Z"
   },
   {
    "duration": 71,
    "start_time": "2022-03-23T15:10:32.105Z"
   },
   {
    "duration": 7,
    "start_time": "2022-03-23T15:10:32.178Z"
   },
   {
    "duration": 169,
    "start_time": "2022-03-23T15:10:32.187Z"
   },
   {
    "duration": 2020,
    "start_time": "2022-03-23T15:11:31.624Z"
   },
   {
    "duration": 1124,
    "start_time": "2022-03-23T15:12:47.846Z"
   },
   {
    "duration": 473,
    "start_time": "2022-03-23T15:14:40.267Z"
   },
   {
    "duration": 58,
    "start_time": "2022-03-23T15:15:23.374Z"
   },
   {
    "duration": 619,
    "start_time": "2022-03-23T15:15:23.435Z"
   },
   {
    "duration": 47,
    "start_time": "2022-03-23T15:15:24.056Z"
   },
   {
    "duration": 230,
    "start_time": "2022-03-23T15:15:24.105Z"
   },
   {
    "duration": 35,
    "start_time": "2022-03-23T15:15:24.337Z"
   },
   {
    "duration": 47,
    "start_time": "2022-03-23T15:15:24.373Z"
   },
   {
    "duration": 10,
    "start_time": "2022-03-23T15:15:24.422Z"
   },
   {
    "duration": 32,
    "start_time": "2022-03-23T15:15:24.434Z"
   },
   {
    "duration": 51,
    "start_time": "2022-03-23T15:15:24.468Z"
   },
   {
    "duration": 7,
    "start_time": "2022-03-23T15:15:24.520Z"
   },
   {
    "duration": 384,
    "start_time": "2022-03-23T15:15:24.529Z"
   },
   {
    "duration": 119,
    "start_time": "2022-03-23T15:18:50.241Z"
   },
   {
    "duration": 115,
    "start_time": "2022-03-23T15:23:11.538Z"
   },
   {
    "duration": 1544,
    "start_time": "2022-03-23T15:25:24.872Z"
   },
   {
    "duration": 113,
    "start_time": "2022-03-23T15:27:43.615Z"
   },
   {
    "duration": 3,
    "start_time": "2022-03-23T15:27:57.906Z"
   },
   {
    "duration": 626,
    "start_time": "2022-03-23T15:27:57.911Z"
   },
   {
    "duration": 46,
    "start_time": "2022-03-23T15:27:58.539Z"
   },
   {
    "duration": 223,
    "start_time": "2022-03-23T15:27:58.586Z"
   },
   {
    "duration": 20,
    "start_time": "2022-03-23T15:27:58.812Z"
   },
   {
    "duration": 71,
    "start_time": "2022-03-23T15:27:58.834Z"
   },
   {
    "duration": 10,
    "start_time": "2022-03-23T15:27:58.906Z"
   },
   {
    "duration": 13,
    "start_time": "2022-03-23T15:27:58.917Z"
   },
   {
    "duration": 62,
    "start_time": "2022-03-23T15:27:58.931Z"
   },
   {
    "duration": 7,
    "start_time": "2022-03-23T15:27:58.994Z"
   },
   {
    "duration": 109,
    "start_time": "2022-03-23T15:27:59.003Z"
   },
   {
    "duration": 2188,
    "start_time": "2022-03-23T15:28:35.315Z"
   },
   {
    "duration": 116,
    "start_time": "2022-03-23T15:30:07.358Z"
   },
   {
    "duration": 2516,
    "start_time": "2022-03-23T15:32:09.313Z"
   },
   {
    "duration": 2224,
    "start_time": "2022-03-23T15:34:46.742Z"
   },
   {
    "duration": 1682,
    "start_time": "2022-03-23T15:35:17.611Z"
   },
   {
    "duration": 11268,
    "start_time": "2022-03-23T15:35:25.008Z"
   },
   {
    "duration": 1485,
    "start_time": "2022-03-23T15:35:47.453Z"
   },
   {
    "duration": 1647,
    "start_time": "2022-03-23T15:36:09.174Z"
   },
   {
    "duration": 71,
    "start_time": "2022-03-24T08:06:02.254Z"
   },
   {
    "duration": 2083,
    "start_time": "2022-03-24T08:06:10.522Z"
   },
   {
    "duration": 758,
    "start_time": "2022-03-24T08:06:12.608Z"
   },
   {
    "duration": 65,
    "start_time": "2022-03-24T08:06:13.368Z"
   },
   {
    "duration": 378,
    "start_time": "2022-03-24T08:06:13.435Z"
   },
   {
    "duration": 33,
    "start_time": "2022-03-24T08:06:13.817Z"
   },
   {
    "duration": 108,
    "start_time": "2022-03-24T08:06:13.852Z"
   },
   {
    "duration": 34,
    "start_time": "2022-03-24T08:06:13.962Z"
   },
   {
    "duration": 15,
    "start_time": "2022-03-24T08:06:13.998Z"
   },
   {
    "duration": 88,
    "start_time": "2022-03-24T08:06:14.015Z"
   },
   {
    "duration": 9,
    "start_time": "2022-03-24T08:06:14.106Z"
   },
   {
    "duration": 2346,
    "start_time": "2022-03-24T08:06:14.117Z"
   },
   {
    "duration": 4,
    "start_time": "2022-03-24T08:06:16.466Z"
   },
   {
    "duration": 2437,
    "start_time": "2022-03-24T08:07:34.488Z"
   },
   {
    "duration": 2328,
    "start_time": "2022-03-24T08:08:04.830Z"
   },
   {
    "duration": 4201,
    "start_time": "2022-03-24T08:08:43.615Z"
   },
   {
    "duration": 2209,
    "start_time": "2022-03-24T08:11:17.564Z"
   },
   {
    "duration": 2439,
    "start_time": "2022-03-24T08:12:38.236Z"
   },
   {
    "duration": 2545,
    "start_time": "2022-03-24T08:12:48.195Z"
   },
   {
    "duration": 2080,
    "start_time": "2022-03-24T08:13:54.314Z"
   },
   {
    "duration": 2427,
    "start_time": "2022-03-24T08:14:00.234Z"
   },
   {
    "duration": 2581,
    "start_time": "2022-03-24T08:26:35.606Z"
   },
   {
    "duration": 2785,
    "start_time": "2022-03-24T08:27:09.765Z"
   },
   {
    "duration": 2382,
    "start_time": "2022-03-24T08:28:07.284Z"
   },
   {
    "duration": 4029,
    "start_time": "2022-03-24T08:28:24.908Z"
   },
   {
    "duration": 4100,
    "start_time": "2022-03-24T08:29:05.554Z"
   },
   {
    "duration": 3913,
    "start_time": "2022-03-24T08:32:13.176Z"
   },
   {
    "duration": 3902,
    "start_time": "2022-03-24T08:32:43.606Z"
   },
   {
    "duration": 4094,
    "start_time": "2022-03-24T08:32:54.430Z"
   },
   {
    "duration": 3837,
    "start_time": "2022-03-24T08:33:06.728Z"
   },
   {
    "duration": 4472,
    "start_time": "2022-03-24T08:33:17.877Z"
   },
   {
    "duration": 3873,
    "start_time": "2022-03-24T08:33:27.904Z"
   },
   {
    "duration": 842,
    "start_time": "2022-03-24T08:45:17.021Z"
   },
   {
    "duration": 815,
    "start_time": "2022-03-24T08:45:41.211Z"
   },
   {
    "duration": 931,
    "start_time": "2022-03-24T08:45:57.212Z"
   },
   {
    "duration": 816,
    "start_time": "2022-03-24T08:47:55.417Z"
   },
   {
    "duration": 815,
    "start_time": "2022-03-24T08:49:53.992Z"
   },
   {
    "duration": 943,
    "start_time": "2022-03-24T08:50:36.534Z"
   },
   {
    "duration": 969,
    "start_time": "2022-03-24T08:51:48.366Z"
   },
   {
    "duration": 965,
    "start_time": "2022-03-24T08:52:23.934Z"
   },
   {
    "duration": 1123,
    "start_time": "2022-03-24T08:52:39.636Z"
   },
   {
    "duration": 961,
    "start_time": "2022-03-24T08:52:53.862Z"
   },
   {
    "duration": 1201,
    "start_time": "2022-03-24T08:57:01.411Z"
   },
   {
    "duration": 1013,
    "start_time": "2022-03-24T08:57:35.424Z"
   },
   {
    "duration": 966,
    "start_time": "2022-03-24T08:58:17.845Z"
   },
   {
    "duration": 17,
    "start_time": "2022-03-24T09:23:17.096Z"
   },
   {
    "duration": 10,
    "start_time": "2022-03-24T09:24:09.886Z"
   },
   {
    "duration": 1515,
    "start_time": "2022-03-24T09:24:11.913Z"
   },
   {
    "duration": 14,
    "start_time": "2022-03-24T09:28:08.451Z"
   },
   {
    "duration": 558,
    "start_time": "2022-03-24T09:28:24.851Z"
   },
   {
    "duration": 1073,
    "start_time": "2022-03-24T09:31:36.426Z"
   },
   {
    "duration": 686,
    "start_time": "2022-03-24T09:31:51.429Z"
   },
   {
    "duration": 848,
    "start_time": "2022-03-24T09:35:16.807Z"
   },
   {
    "duration": 669,
    "start_time": "2022-03-24T09:35:45.644Z"
   },
   {
    "duration": 648,
    "start_time": "2022-03-24T09:37:58.300Z"
   },
   {
    "duration": 208,
    "start_time": "2022-03-24T09:41:55.096Z"
   },
   {
    "duration": 50,
    "start_time": "2022-03-24T11:53:13.047Z"
   },
   {
    "duration": 1546,
    "start_time": "2022-03-24T11:53:18.084Z"
   },
   {
    "duration": 634,
    "start_time": "2022-03-24T11:53:19.632Z"
   },
   {
    "duration": 46,
    "start_time": "2022-03-24T11:53:20.268Z"
   },
   {
    "duration": 245,
    "start_time": "2022-03-24T11:53:20.316Z"
   },
   {
    "duration": 23,
    "start_time": "2022-03-24T11:53:20.563Z"
   },
   {
    "duration": 54,
    "start_time": "2022-03-24T11:53:20.608Z"
   },
   {
    "duration": 11,
    "start_time": "2022-03-24T11:53:20.664Z"
   },
   {
    "duration": 6,
    "start_time": "2022-03-24T11:53:20.677Z"
   },
   {
    "duration": 57,
    "start_time": "2022-03-24T11:53:20.708Z"
   },
   {
    "duration": 7,
    "start_time": "2022-03-24T11:53:20.766Z"
   },
   {
    "duration": 2535,
    "start_time": "2022-03-24T11:53:20.775Z"
   },
   {
    "duration": 639,
    "start_time": "2022-03-24T11:53:23.312Z"
   },
   {
    "duration": 7,
    "start_time": "2022-03-24T11:53:23.953Z"
   },
   {
    "duration": 361,
    "start_time": "2022-03-24T11:53:23.963Z"
   },
   {
    "duration": 742,
    "start_time": "2022-03-24T11:53:50.811Z"
   },
   {
    "duration": 388,
    "start_time": "2022-03-24T11:54:18.333Z"
   },
   {
    "duration": 359,
    "start_time": "2022-03-24T11:54:30.610Z"
   },
   {
    "duration": 340,
    "start_time": "2022-03-24T11:54:42.297Z"
   },
   {
    "duration": 447,
    "start_time": "2022-03-24T11:54:52.337Z"
   },
   {
    "duration": 20,
    "start_time": "2022-03-24T11:59:13.428Z"
   },
   {
    "duration": 69,
    "start_time": "2022-03-24T12:06:59.764Z"
   },
   {
    "duration": 17,
    "start_time": "2022-03-24T12:08:06.642Z"
   },
   {
    "duration": 3,
    "start_time": "2022-03-24T12:09:09.169Z"
   },
   {
    "duration": 704,
    "start_time": "2022-03-24T12:09:09.174Z"
   },
   {
    "duration": 46,
    "start_time": "2022-03-24T12:09:09.880Z"
   },
   {
    "duration": 229,
    "start_time": "2022-03-24T12:09:09.927Z"
   },
   {
    "duration": 21,
    "start_time": "2022-03-24T12:09:10.158Z"
   },
   {
    "duration": 70,
    "start_time": "2022-03-24T12:09:10.181Z"
   },
   {
    "duration": 9,
    "start_time": "2022-03-24T12:09:10.253Z"
   },
   {
    "duration": 4,
    "start_time": "2022-03-24T12:09:10.264Z"
   },
   {
    "duration": 83,
    "start_time": "2022-03-24T12:09:10.270Z"
   },
   {
    "duration": 6,
    "start_time": "2022-03-24T12:09:10.354Z"
   },
   {
    "duration": 2448,
    "start_time": "2022-03-24T12:09:10.362Z"
   },
   {
    "duration": 751,
    "start_time": "2022-03-24T12:09:12.811Z"
   },
   {
    "duration": 8,
    "start_time": "2022-03-24T12:09:13.564Z"
   },
   {
    "duration": 372,
    "start_time": "2022-03-24T12:09:13.573Z"
   },
   {
    "duration": 18,
    "start_time": "2022-03-24T12:09:13.948Z"
   },
   {
    "duration": 17,
    "start_time": "2022-03-24T12:09:13.968Z"
   },
   {
    "duration": 0,
    "start_time": "2022-03-24T12:09:13.987Z"
   },
   {
    "duration": 48,
    "start_time": "2022-03-24T12:10:29.317Z"
   },
   {
    "duration": 633,
    "start_time": "2022-03-24T12:10:29.367Z"
   },
   {
    "duration": 48,
    "start_time": "2022-03-24T12:10:30.002Z"
   },
   {
    "duration": 231,
    "start_time": "2022-03-24T12:10:30.052Z"
   },
   {
    "duration": 34,
    "start_time": "2022-03-24T12:10:30.286Z"
   },
   {
    "duration": 49,
    "start_time": "2022-03-24T12:10:30.322Z"
   },
   {
    "duration": 36,
    "start_time": "2022-03-24T12:10:30.373Z"
   },
   {
    "duration": 5,
    "start_time": "2022-03-24T12:10:30.411Z"
   },
   {
    "duration": 55,
    "start_time": "2022-03-24T12:10:30.418Z"
   },
   {
    "duration": 7,
    "start_time": "2022-03-24T12:10:30.475Z"
   },
   {
    "duration": 2595,
    "start_time": "2022-03-24T12:10:30.483Z"
   },
   {
    "duration": 625,
    "start_time": "2022-03-24T12:10:33.079Z"
   },
   {
    "duration": 8,
    "start_time": "2022-03-24T12:10:33.705Z"
   },
   {
    "duration": 357,
    "start_time": "2022-03-24T12:10:33.716Z"
   },
   {
    "duration": 14,
    "start_time": "2022-03-24T12:10:34.075Z"
   },
   {
    "duration": 37,
    "start_time": "2022-03-24T12:10:34.091Z"
   },
   {
    "duration": 0,
    "start_time": "2022-03-24T12:10:34.130Z"
   },
   {
    "duration": 17,
    "start_time": "2022-03-24T12:13:13.168Z"
   },
   {
    "duration": 3,
    "start_time": "2022-03-24T12:14:36.540Z"
   },
   {
    "duration": 10,
    "start_time": "2022-03-24T12:15:20.402Z"
   },
   {
    "duration": 12,
    "start_time": "2022-03-24T12:15:29.698Z"
   },
   {
    "duration": 13,
    "start_time": "2022-03-24T12:15:40.058Z"
   },
   {
    "duration": 3,
    "start_time": "2022-03-24T12:20:56.279Z"
   },
   {
    "duration": 691,
    "start_time": "2022-03-24T12:20:56.285Z"
   },
   {
    "duration": 46,
    "start_time": "2022-03-24T12:20:56.977Z"
   },
   {
    "duration": 218,
    "start_time": "2022-03-24T12:20:57.024Z"
   },
   {
    "duration": 20,
    "start_time": "2022-03-24T12:20:57.244Z"
   },
   {
    "duration": 68,
    "start_time": "2022-03-24T12:20:57.266Z"
   },
   {
    "duration": 9,
    "start_time": "2022-03-24T12:20:57.335Z"
   },
   {
    "duration": 4,
    "start_time": "2022-03-24T12:20:57.346Z"
   },
   {
    "duration": 70,
    "start_time": "2022-03-24T12:20:57.351Z"
   },
   {
    "duration": 6,
    "start_time": "2022-03-24T12:20:57.423Z"
   },
   {
    "duration": 2425,
    "start_time": "2022-03-24T12:20:57.430Z"
   },
   {
    "duration": 774,
    "start_time": "2022-03-24T12:20:59.856Z"
   },
   {
    "duration": 7,
    "start_time": "2022-03-24T12:21:00.633Z"
   },
   {
    "duration": 388,
    "start_time": "2022-03-24T12:21:00.642Z"
   },
   {
    "duration": 11,
    "start_time": "2022-03-24T12:21:01.032Z"
   },
   {
    "duration": 5,
    "start_time": "2022-03-24T12:21:01.045Z"
   },
   {
    "duration": 15,
    "start_time": "2022-03-24T12:21:01.052Z"
   },
   {
    "duration": 0,
    "start_time": "2022-03-24T12:21:01.068Z"
   },
   {
    "duration": 12,
    "start_time": "2022-03-24T12:21:20.476Z"
   },
   {
    "duration": 16,
    "start_time": "2022-03-24T12:21:36.652Z"
   },
   {
    "duration": 4,
    "start_time": "2022-03-24T12:24:07.664Z"
   },
   {
    "duration": 619,
    "start_time": "2022-03-24T12:24:07.670Z"
   },
   {
    "duration": 46,
    "start_time": "2022-03-24T12:24:08.291Z"
   },
   {
    "duration": 238,
    "start_time": "2022-03-24T12:24:08.338Z"
   },
   {
    "duration": 43,
    "start_time": "2022-03-24T12:24:08.579Z"
   },
   {
    "duration": 51,
    "start_time": "2022-03-24T12:24:08.624Z"
   },
   {
    "duration": 31,
    "start_time": "2022-03-24T12:24:08.678Z"
   },
   {
    "duration": 5,
    "start_time": "2022-03-24T12:24:08.710Z"
   },
   {
    "duration": 46,
    "start_time": "2022-03-24T12:24:08.717Z"
   },
   {
    "duration": 3,
    "start_time": "2022-03-24T12:24:08.764Z"
   },
   {
    "duration": 2604,
    "start_time": "2022-03-24T12:24:08.768Z"
   },
   {
    "duration": 762,
    "start_time": "2022-03-24T12:24:11.374Z"
   },
   {
    "duration": 8,
    "start_time": "2022-03-24T12:24:12.138Z"
   },
   {
    "duration": 383,
    "start_time": "2022-03-24T12:24:12.148Z"
   },
   {
    "duration": 12,
    "start_time": "2022-03-24T12:24:12.533Z"
   },
   {
    "duration": 3,
    "start_time": "2022-03-24T12:24:12.547Z"
   },
   {
    "duration": 17,
    "start_time": "2022-03-24T12:24:12.551Z"
   },
   {
    "duration": 83,
    "start_time": "2022-03-24T12:24:12.570Z"
   },
   {
    "duration": 2,
    "start_time": "2022-03-24T12:30:56.092Z"
   },
   {
    "duration": 4,
    "start_time": "2022-03-24T12:31:56.984Z"
   },
   {
    "duration": 630,
    "start_time": "2022-03-24T12:31:56.990Z"
   },
   {
    "duration": 38,
    "start_time": "2022-03-24T12:31:57.622Z"
   },
   {
    "duration": 231,
    "start_time": "2022-03-24T12:31:57.661Z"
   },
   {
    "duration": 29,
    "start_time": "2022-03-24T12:31:57.894Z"
   },
   {
    "duration": 46,
    "start_time": "2022-03-24T12:31:57.924Z"
   },
   {
    "duration": 9,
    "start_time": "2022-03-24T12:31:57.972Z"
   },
   {
    "duration": 4,
    "start_time": "2022-03-24T12:31:58.008Z"
   },
   {
    "duration": 47,
    "start_time": "2022-03-24T12:31:58.014Z"
   },
   {
    "duration": 2,
    "start_time": "2022-03-24T12:31:58.063Z"
   },
   {
    "duration": 2527,
    "start_time": "2022-03-24T12:31:58.067Z"
   },
   {
    "duration": 628,
    "start_time": "2022-03-24T12:32:00.595Z"
   },
   {
    "duration": 7,
    "start_time": "2022-03-24T12:32:01.226Z"
   },
   {
    "duration": 360,
    "start_time": "2022-03-24T12:32:01.235Z"
   },
   {
    "duration": 20,
    "start_time": "2022-03-24T12:32:01.596Z"
   },
   {
    "duration": 2,
    "start_time": "2022-03-24T12:32:01.618Z"
   },
   {
    "duration": 16,
    "start_time": "2022-03-24T12:32:01.621Z"
   },
   {
    "duration": 9,
    "start_time": "2022-03-24T12:32:01.638Z"
   },
   {
    "duration": 51,
    "start_time": "2022-03-24T12:32:01.648Z"
   },
   {
    "duration": 13,
    "start_time": "2022-03-25T07:21:51.047Z"
   },
   {
    "duration": 2150,
    "start_time": "2022-03-25T07:22:11.727Z"
   },
   {
    "duration": 798,
    "start_time": "2022-03-25T07:22:13.880Z"
   },
   {
    "duration": 67,
    "start_time": "2022-03-25T07:22:14.680Z"
   },
   {
    "duration": 406,
    "start_time": "2022-03-25T07:22:14.749Z"
   },
   {
    "duration": 43,
    "start_time": "2022-03-25T07:22:15.158Z"
   },
   {
    "duration": 103,
    "start_time": "2022-03-25T07:22:15.203Z"
   },
   {
    "duration": 17,
    "start_time": "2022-03-25T07:22:15.308Z"
   },
   {
    "duration": 9,
    "start_time": "2022-03-25T07:22:15.327Z"
   },
   {
    "duration": 105,
    "start_time": "2022-03-25T07:22:15.338Z"
   },
   {
    "duration": 3,
    "start_time": "2022-03-25T07:22:15.445Z"
   },
   {
    "duration": 4041,
    "start_time": "2022-03-25T07:22:15.450Z"
   },
   {
    "duration": 1034,
    "start_time": "2022-03-25T07:22:19.493Z"
   },
   {
    "duration": 11,
    "start_time": "2022-03-25T07:22:20.529Z"
   },
   {
    "duration": 605,
    "start_time": "2022-03-25T07:22:20.545Z"
   },
   {
    "duration": 40,
    "start_time": "2022-03-25T07:22:21.152Z"
   },
   {
    "duration": 6,
    "start_time": "2022-03-25T07:22:21.195Z"
   },
   {
    "duration": 5,
    "start_time": "2022-03-25T07:23:02.760Z"
   },
   {
    "duration": 4,
    "start_time": "2022-03-25T07:23:24.017Z"
   },
   {
    "duration": 6,
    "start_time": "2022-03-25T07:23:34.161Z"
   },
   {
    "duration": 896,
    "start_time": "2022-03-25T07:23:34.170Z"
   },
   {
    "duration": 69,
    "start_time": "2022-03-25T07:23:35.068Z"
   },
   {
    "duration": 376,
    "start_time": "2022-03-25T07:23:35.140Z"
   },
   {
    "duration": 30,
    "start_time": "2022-03-25T07:23:35.519Z"
   },
   {
    "duration": 108,
    "start_time": "2022-03-25T07:23:35.552Z"
   },
   {
    "duration": 31,
    "start_time": "2022-03-25T07:23:35.662Z"
   },
   {
    "duration": 13,
    "start_time": "2022-03-25T07:23:35.696Z"
   },
   {
    "duration": 100,
    "start_time": "2022-03-25T07:23:35.711Z"
   },
   {
    "duration": 3,
    "start_time": "2022-03-25T07:23:35.813Z"
   },
   {
    "duration": 3969,
    "start_time": "2022-03-25T07:23:35.819Z"
   },
   {
    "duration": 1026,
    "start_time": "2022-03-25T07:23:39.791Z"
   },
   {
    "duration": 10,
    "start_time": "2022-03-25T07:23:40.819Z"
   },
   {
    "duration": 813,
    "start_time": "2022-03-25T07:23:40.832Z"
   },
   {
    "duration": 39,
    "start_time": "2022-03-25T07:23:41.648Z"
   },
   {
    "duration": 7,
    "start_time": "2022-03-25T07:23:41.690Z"
   },
   {
    "duration": 9,
    "start_time": "2022-03-25T07:23:41.700Z"
   },
   {
    "duration": 8,
    "start_time": "2022-03-25T07:31:20.328Z"
   },
   {
    "duration": 197,
    "start_time": "2022-03-25T07:32:09.839Z"
   },
   {
    "duration": 18,
    "start_time": "2022-03-25T07:33:21.815Z"
   },
   {
    "duration": 4,
    "start_time": "2022-03-25T07:34:31.452Z"
   },
   {
    "duration": 9,
    "start_time": "2022-03-25T07:34:35.909Z"
   },
   {
    "duration": 12,
    "start_time": "2022-03-25T07:34:47.237Z"
   },
   {
    "duration": 4,
    "start_time": "2022-03-25T07:35:09.686Z"
   },
   {
    "duration": 13,
    "start_time": "2022-03-25T07:35:13.342Z"
   },
   {
    "duration": 10,
    "start_time": "2022-03-25T07:35:48.597Z"
   },
   {
    "duration": 7,
    "start_time": "2022-03-25T07:36:11.282Z"
   },
   {
    "duration": 10,
    "start_time": "2022-03-25T07:36:27.987Z"
   },
   {
    "duration": 6,
    "start_time": "2022-03-25T07:36:54.778Z"
   },
   {
    "duration": 13,
    "start_time": "2022-03-25T07:38:09.698Z"
   },
   {
    "duration": 5,
    "start_time": "2022-03-25T07:38:15.115Z"
   },
   {
    "duration": 13,
    "start_time": "2022-03-25T07:38:16.568Z"
   },
   {
    "duration": 6,
    "start_time": "2022-03-25T07:38:32.241Z"
   },
   {
    "duration": 4,
    "start_time": "2022-03-25T08:01:10.778Z"
   },
   {
    "duration": 7,
    "start_time": "2022-03-25T08:03:14.752Z"
   },
   {
    "duration": 777,
    "start_time": "2022-03-25T08:03:14.761Z"
   },
   {
    "duration": 70,
    "start_time": "2022-03-25T08:03:15.541Z"
   },
   {
    "duration": 376,
    "start_time": "2022-03-25T08:03:15.615Z"
   },
   {
    "duration": 28,
    "start_time": "2022-03-25T08:03:15.993Z"
   },
   {
    "duration": 108,
    "start_time": "2022-03-25T08:03:16.023Z"
   },
   {
    "duration": 14,
    "start_time": "2022-03-25T08:03:16.135Z"
   },
   {
    "duration": 37,
    "start_time": "2022-03-25T08:03:16.152Z"
   },
   {
    "duration": 96,
    "start_time": "2022-03-25T08:03:16.192Z"
   },
   {
    "duration": 3,
    "start_time": "2022-03-25T08:03:16.292Z"
   },
   {
    "duration": 4039,
    "start_time": "2022-03-25T08:03:16.297Z"
   },
   {
    "duration": 1244,
    "start_time": "2022-03-25T08:03:20.339Z"
   },
   {
    "duration": 11,
    "start_time": "2022-03-25T08:03:21.585Z"
   },
   {
    "duration": 590,
    "start_time": "2022-03-25T08:03:21.599Z"
   },
   {
    "duration": 3,
    "start_time": "2022-03-25T08:03:22.192Z"
   },
   {
    "duration": 10,
    "start_time": "2022-03-25T08:03:22.197Z"
   },
   {
    "duration": 12,
    "start_time": "2022-03-25T08:03:22.211Z"
   },
   {
    "duration": 15,
    "start_time": "2022-03-25T08:03:22.226Z"
   },
   {
    "duration": 13,
    "start_time": "2022-03-25T08:03:22.243Z"
   },
   {
    "duration": 29,
    "start_time": "2022-03-25T08:03:22.258Z"
   },
   {
    "duration": 7,
    "start_time": "2022-03-25T08:03:22.289Z"
   },
   {
    "duration": 10,
    "start_time": "2022-03-25T08:03:22.299Z"
   },
   {
    "duration": 12,
    "start_time": "2022-03-25T08:03:22.312Z"
   },
   {
    "duration": 20,
    "start_time": "2022-03-25T08:03:22.327Z"
   },
   {
    "duration": 6,
    "start_time": "2022-03-25T08:03:31.535Z"
   },
   {
    "duration": 261,
    "start_time": "2022-03-25T08:05:27.388Z"
   },
   {
    "duration": 5,
    "start_time": "2022-03-25T08:05:47.686Z"
   },
   {
    "duration": 934,
    "start_time": "2022-03-25T08:05:47.694Z"
   },
   {
    "duration": 93,
    "start_time": "2022-03-25T08:05:48.631Z"
   },
   {
    "duration": 394,
    "start_time": "2022-03-25T08:05:48.727Z"
   },
   {
    "duration": 65,
    "start_time": "2022-03-25T08:05:49.125Z"
   },
   {
    "duration": 122,
    "start_time": "2022-03-25T08:05:49.193Z"
   },
   {
    "duration": 14,
    "start_time": "2022-03-25T08:05:49.318Z"
   },
   {
    "duration": 25,
    "start_time": "2022-03-25T08:05:49.335Z"
   },
   {
    "duration": 91,
    "start_time": "2022-03-25T08:05:49.363Z"
   },
   {
    "duration": 3,
    "start_time": "2022-03-25T08:05:49.457Z"
   },
   {
    "duration": 5728,
    "start_time": "2022-03-25T08:05:49.463Z"
   },
   {
    "duration": 1443,
    "start_time": "2022-03-25T08:05:55.194Z"
   },
   {
    "duration": 13,
    "start_time": "2022-03-25T08:05:56.639Z"
   },
   {
    "duration": 834,
    "start_time": "2022-03-25T08:05:56.657Z"
   },
   {
    "duration": 4,
    "start_time": "2022-03-25T08:05:57.493Z"
   },
   {
    "duration": 10,
    "start_time": "2022-03-25T08:05:57.499Z"
   },
   {
    "duration": 16,
    "start_time": "2022-03-25T08:05:57.511Z"
   },
   {
    "duration": 15,
    "start_time": "2022-03-25T08:05:57.529Z"
   },
   {
    "duration": 11,
    "start_time": "2022-03-25T08:05:57.546Z"
   },
   {
    "duration": 28,
    "start_time": "2022-03-25T08:05:57.560Z"
   },
   {
    "duration": 9,
    "start_time": "2022-03-25T08:05:57.590Z"
   },
   {
    "duration": 153,
    "start_time": "2022-03-25T08:05:57.601Z"
   },
   {
    "duration": 0,
    "start_time": "2022-03-25T08:05:57.757Z"
   },
   {
    "duration": 2941,
    "start_time": "2022-03-25T08:06:34.042Z"
   },
   {
    "duration": 3070,
    "start_time": "2022-03-25T08:07:03.315Z"
   },
   {
    "duration": 2113,
    "start_time": "2022-03-25T08:14:23.299Z"
   },
   {
    "duration": 1195,
    "start_time": "2022-03-25T08:14:25.415Z"
   },
   {
    "duration": 107,
    "start_time": "2022-03-25T08:14:26.613Z"
   },
   {
    "duration": 389,
    "start_time": "2022-03-25T08:14:26.724Z"
   },
   {
    "duration": 36,
    "start_time": "2022-03-25T08:14:27.116Z"
   },
   {
    "duration": 134,
    "start_time": "2022-03-25T08:14:27.155Z"
   },
   {
    "duration": 24,
    "start_time": "2022-03-25T08:14:27.292Z"
   },
   {
    "duration": 12,
    "start_time": "2022-03-25T08:14:27.318Z"
   },
   {
    "duration": 130,
    "start_time": "2022-03-25T08:14:27.333Z"
   },
   {
    "duration": 17,
    "start_time": "2022-03-25T08:14:27.468Z"
   },
   {
    "duration": 4192,
    "start_time": "2022-03-25T08:14:27.488Z"
   },
   {
    "duration": 1069,
    "start_time": "2022-03-25T08:14:31.685Z"
   },
   {
    "duration": 27,
    "start_time": "2022-03-25T08:14:32.757Z"
   },
   {
    "duration": 616,
    "start_time": "2022-03-25T08:14:32.786Z"
   },
   {
    "duration": 4,
    "start_time": "2022-03-25T08:14:33.404Z"
   },
   {
    "duration": 10,
    "start_time": "2022-03-25T08:14:33.410Z"
   },
   {
    "duration": 15,
    "start_time": "2022-03-25T08:14:33.422Z"
   },
   {
    "duration": 12,
    "start_time": "2022-03-25T08:14:33.440Z"
   },
   {
    "duration": 30,
    "start_time": "2022-03-25T08:14:33.455Z"
   },
   {
    "duration": 16,
    "start_time": "2022-03-25T08:14:33.488Z"
   },
   {
    "duration": 20,
    "start_time": "2022-03-25T08:14:33.507Z"
   },
   {
    "duration": 3754,
    "start_time": "2022-03-25T08:14:33.530Z"
   },
   {
    "duration": 3797,
    "start_time": "2022-03-25T08:14:37.288Z"
   },
   {
    "duration": 231805,
    "start_time": "2022-03-25T08:14:41.088Z"
   },
   {
    "duration": 69506,
    "start_time": "2022-03-25T08:18:32.983Z"
   },
   {
    "duration": 2296,
    "start_time": "2022-03-25T08:29:27.705Z"
   },
   {
    "duration": 800,
    "start_time": "2022-03-25T08:29:30.004Z"
   },
   {
    "duration": 78,
    "start_time": "2022-03-25T08:29:30.806Z"
   },
   {
    "duration": 381,
    "start_time": "2022-03-25T08:29:30.886Z"
   },
   {
    "duration": 42,
    "start_time": "2022-03-25T08:29:31.270Z"
   },
   {
    "duration": 114,
    "start_time": "2022-03-25T08:29:31.314Z"
   },
   {
    "duration": 26,
    "start_time": "2022-03-25T08:29:31.430Z"
   },
   {
    "duration": 25,
    "start_time": "2022-03-25T08:29:31.459Z"
   },
   {
    "duration": 117,
    "start_time": "2022-03-25T08:29:31.487Z"
   },
   {
    "duration": 4,
    "start_time": "2022-03-25T08:29:31.608Z"
   },
   {
    "duration": 4093,
    "start_time": "2022-03-25T08:29:31.615Z"
   },
   {
    "duration": 1033,
    "start_time": "2022-03-25T08:29:35.710Z"
   },
   {
    "duration": 12,
    "start_time": "2022-03-25T08:29:36.745Z"
   },
   {
    "duration": 610,
    "start_time": "2022-03-25T08:29:36.761Z"
   },
   {
    "duration": 12,
    "start_time": "2022-03-25T08:29:37.373Z"
   },
   {
    "duration": 178,
    "start_time": "2022-03-25T08:29:37.387Z"
   },
   {
    "duration": 0,
    "start_time": "2022-03-25T08:29:37.568Z"
   },
   {
    "duration": 108,
    "start_time": "2022-03-25T09:06:10.270Z"
   },
   {
    "duration": 28,
    "start_time": "2022-03-25T09:18:52.198Z"
   },
   {
    "duration": 17,
    "start_time": "2022-03-25T09:20:18.100Z"
   },
   {
    "duration": 21,
    "start_time": "2022-03-25T09:20:29.700Z"
   },
   {
    "duration": 2366,
    "start_time": "2022-03-25T09:21:32.492Z"
   },
   {
    "duration": 6,
    "start_time": "2022-03-25T09:21:53.298Z"
   },
   {
    "duration": 809,
    "start_time": "2022-03-25T09:21:53.307Z"
   },
   {
    "duration": 70,
    "start_time": "2022-03-25T09:21:54.118Z"
   },
   {
    "duration": 374,
    "start_time": "2022-03-25T09:21:54.191Z"
   },
   {
    "duration": 40,
    "start_time": "2022-03-25T09:21:54.568Z"
   },
   {
    "duration": 130,
    "start_time": "2022-03-25T09:21:54.611Z"
   },
   {
    "duration": 13,
    "start_time": "2022-03-25T09:21:54.744Z"
   },
   {
    "duration": 6,
    "start_time": "2022-03-25T09:21:54.784Z"
   },
   {
    "duration": 97,
    "start_time": "2022-03-25T09:21:54.792Z"
   },
   {
    "duration": 3,
    "start_time": "2022-03-25T09:21:54.891Z"
   },
   {
    "duration": 4040,
    "start_time": "2022-03-25T09:21:54.896Z"
   },
   {
    "duration": 1017,
    "start_time": "2022-03-25T09:21:58.939Z"
   },
   {
    "duration": 25,
    "start_time": "2022-03-25T09:21:59.959Z"
   },
   {
    "duration": 591,
    "start_time": "2022-03-25T09:21:59.987Z"
   },
   {
    "duration": 4,
    "start_time": "2022-03-25T09:22:00.584Z"
   },
   {
    "duration": 34,
    "start_time": "2022-03-25T09:22:00.590Z"
   },
   {
    "duration": 0,
    "start_time": "2022-03-25T09:22:00.627Z"
   },
   {
    "duration": 41,
    "start_time": "2022-03-25T09:24:15.282Z"
   },
   {
    "duration": 252,
    "start_time": "2022-03-25T09:24:22.992Z"
   },
   {
    "duration": 40,
    "start_time": "2022-03-25T09:27:25.565Z"
   },
   {
    "duration": 46,
    "start_time": "2022-03-25T12:49:30.430Z"
   },
   {
    "duration": 1564,
    "start_time": "2022-03-25T12:49:35.301Z"
   },
   {
    "duration": 604,
    "start_time": "2022-03-25T12:49:36.867Z"
   },
   {
    "duration": 43,
    "start_time": "2022-03-25T12:49:37.473Z"
   },
   {
    "duration": 217,
    "start_time": "2022-03-25T12:49:37.517Z"
   },
   {
    "duration": 22,
    "start_time": "2022-03-25T12:49:37.737Z"
   },
   {
    "duration": 43,
    "start_time": "2022-03-25T12:49:37.781Z"
   },
   {
    "duration": 11,
    "start_time": "2022-03-25T12:49:37.826Z"
   },
   {
    "duration": 4,
    "start_time": "2022-03-25T12:49:37.838Z"
   },
   {
    "duration": 74,
    "start_time": "2022-03-25T12:49:37.844Z"
   },
   {
    "duration": 2,
    "start_time": "2022-03-25T12:49:37.920Z"
   },
   {
    "duration": 2100,
    "start_time": "2022-03-25T12:49:37.924Z"
   },
   {
    "duration": 536,
    "start_time": "2022-03-25T12:49:40.026Z"
   },
   {
    "duration": 17,
    "start_time": "2022-03-25T12:49:40.564Z"
   },
   {
    "duration": 306,
    "start_time": "2022-03-25T12:49:40.583Z"
   },
   {
    "duration": 2,
    "start_time": "2022-03-25T12:49:40.891Z"
   },
   {
    "duration": 36,
    "start_time": "2022-03-25T12:49:40.895Z"
   },
   {
    "duration": 188,
    "start_time": "2022-03-25T12:49:40.932Z"
   },
   {
    "duration": 7,
    "start_time": "2022-03-25T12:51:16.186Z"
   },
   {
    "duration": 29,
    "start_time": "2022-03-25T12:51:44.306Z"
   },
   {
    "duration": 45,
    "start_time": "2022-03-25T12:52:13.482Z"
   },
   {
    "duration": 22,
    "start_time": "2022-03-25T12:52:31.435Z"
   },
   {
    "duration": 5,
    "start_time": "2022-03-25T12:53:37.334Z"
   },
   {
    "duration": 780,
    "start_time": "2022-03-25T12:53:37.341Z"
   },
   {
    "duration": 47,
    "start_time": "2022-03-25T12:53:38.123Z"
   },
   {
    "duration": 291,
    "start_time": "2022-03-25T12:53:38.181Z"
   },
   {
    "duration": 21,
    "start_time": "2022-03-25T12:53:38.475Z"
   },
   {
    "duration": 72,
    "start_time": "2022-03-25T12:53:38.498Z"
   },
   {
    "duration": 14,
    "start_time": "2022-03-25T12:53:38.572Z"
   },
   {
    "duration": 7,
    "start_time": "2022-03-25T12:53:38.587Z"
   },
   {
    "duration": 52,
    "start_time": "2022-03-25T12:53:38.595Z"
   },
   {
    "duration": 6,
    "start_time": "2022-03-25T12:53:38.648Z"
   },
   {
    "duration": 2222,
    "start_time": "2022-03-25T12:53:38.655Z"
   },
   {
    "duration": 790,
    "start_time": "2022-03-25T12:53:40.878Z"
   },
   {
    "duration": 18,
    "start_time": "2022-03-25T12:53:41.670Z"
   },
   {
    "duration": 437,
    "start_time": "2022-03-25T12:53:41.690Z"
   },
   {
    "duration": 3,
    "start_time": "2022-03-25T12:53:42.128Z"
   },
   {
    "duration": 16,
    "start_time": "2022-03-25T12:53:42.133Z"
   },
   {
    "duration": 0,
    "start_time": "2022-03-25T12:53:42.151Z"
   },
   {
    "duration": 13,
    "start_time": "2022-03-25T12:54:38.928Z"
   },
   {
    "duration": 4,
    "start_time": "2022-03-25T12:54:43.898Z"
   },
   {
    "duration": 647,
    "start_time": "2022-03-25T12:54:43.904Z"
   },
   {
    "duration": 44,
    "start_time": "2022-03-25T12:54:44.552Z"
   },
   {
    "duration": 304,
    "start_time": "2022-03-25T12:54:44.598Z"
   },
   {
    "duration": 21,
    "start_time": "2022-03-25T12:54:44.905Z"
   },
   {
    "duration": 67,
    "start_time": "2022-03-25T12:54:44.927Z"
   },
   {
    "duration": 10,
    "start_time": "2022-03-25T12:54:44.996Z"
   },
   {
    "duration": 32,
    "start_time": "2022-03-25T12:54:45.008Z"
   },
   {
    "duration": 46,
    "start_time": "2022-03-25T12:54:45.042Z"
   },
   {
    "duration": 2,
    "start_time": "2022-03-25T12:54:45.090Z"
   },
   {
    "duration": 2083,
    "start_time": "2022-03-25T12:54:45.094Z"
   },
   {
    "duration": 894,
    "start_time": "2022-03-25T12:54:47.178Z"
   },
   {
    "duration": 12,
    "start_time": "2022-03-25T12:54:48.074Z"
   },
   {
    "duration": 318,
    "start_time": "2022-03-25T12:54:48.088Z"
   },
   {
    "duration": 2,
    "start_time": "2022-03-25T12:54:48.408Z"
   },
   {
    "duration": 34,
    "start_time": "2022-03-25T12:54:48.411Z"
   },
   {
    "duration": 91,
    "start_time": "2022-03-25T12:54:48.446Z"
   },
   {
    "duration": 2782,
    "start_time": "2022-03-25T12:54:59.000Z"
   },
   {
    "duration": 4,
    "start_time": "2022-03-25T12:55:53.273Z"
   },
   {
    "duration": 866,
    "start_time": "2022-03-25T12:55:53.279Z"
   },
   {
    "duration": 59,
    "start_time": "2022-03-25T12:55:54.147Z"
   },
   {
    "duration": 255,
    "start_time": "2022-03-25T12:55:54.209Z"
   },
   {
    "duration": 27,
    "start_time": "2022-03-25T12:55:54.466Z"
   },
   {
    "duration": 62,
    "start_time": "2022-03-25T12:55:54.495Z"
   },
   {
    "duration": 31,
    "start_time": "2022-03-25T12:55:54.559Z"
   },
   {
    "duration": 34,
    "start_time": "2022-03-25T12:55:54.591Z"
   },
   {
    "duration": 72,
    "start_time": "2022-03-25T12:55:54.626Z"
   },
   {
    "duration": 3,
    "start_time": "2022-03-25T12:55:54.701Z"
   },
   {
    "duration": 3485,
    "start_time": "2022-03-25T12:55:54.706Z"
   },
   {
    "duration": 874,
    "start_time": "2022-03-25T12:55:58.193Z"
   },
   {
    "duration": 13,
    "start_time": "2022-03-25T12:55:59.069Z"
   },
   {
    "duration": 497,
    "start_time": "2022-03-25T12:55:59.084Z"
   },
   {
    "duration": 14,
    "start_time": "2022-03-25T12:55:59.583Z"
   },
   {
    "duration": 23,
    "start_time": "2022-03-25T12:55:59.599Z"
   },
   {
    "duration": 3058,
    "start_time": "2022-03-25T12:55:59.624Z"
   },
   {
    "duration": 9,
    "start_time": "2022-03-25T12:56:34.669Z"
   },
   {
    "duration": 9491,
    "start_time": "2022-03-25T13:11:07.655Z"
   },
   {
    "duration": 14,
    "start_time": "2022-03-25T13:12:22.891Z"
   },
   {
    "duration": 3,
    "start_time": "2022-03-25T13:13:39.440Z"
   },
   {
    "duration": 585,
    "start_time": "2022-03-25T13:13:39.445Z"
   },
   {
    "duration": 57,
    "start_time": "2022-03-25T13:13:40.032Z"
   },
   {
    "duration": 297,
    "start_time": "2022-03-25T13:13:40.091Z"
   },
   {
    "duration": 24,
    "start_time": "2022-03-25T13:13:40.390Z"
   },
   {
    "duration": 69,
    "start_time": "2022-03-25T13:13:40.416Z"
   },
   {
    "duration": 12,
    "start_time": "2022-03-25T13:13:40.486Z"
   },
   {
    "duration": 5,
    "start_time": "2022-03-25T13:13:40.499Z"
   },
   {
    "duration": 41,
    "start_time": "2022-03-25T13:13:40.506Z"
   },
   {
    "duration": 2,
    "start_time": "2022-03-25T13:13:40.549Z"
   },
   {
    "duration": 2111,
    "start_time": "2022-03-25T13:13:40.581Z"
   },
   {
    "duration": 546,
    "start_time": "2022-03-25T13:13:42.693Z"
   },
   {
    "duration": 9,
    "start_time": "2022-03-25T13:13:43.240Z"
   },
   {
    "duration": 611,
    "start_time": "2022-03-25T13:13:43.251Z"
   },
   {
    "duration": 24,
    "start_time": "2022-03-25T13:13:43.864Z"
   },
   {
    "duration": 24,
    "start_time": "2022-03-25T13:13:43.890Z"
   },
   {
    "duration": 2280,
    "start_time": "2022-03-25T13:13:43.916Z"
   },
   {
    "duration": 7513,
    "start_time": "2022-03-25T13:13:46.201Z"
   },
   {
    "duration": 11,
    "start_time": "2022-03-25T13:13:53.715Z"
   },
   {
    "duration": 69190,
    "start_time": "2022-03-25T13:14:54.938Z"
   },
   {
    "duration": 1440,
    "start_time": "2022-03-25T14:12:32.285Z"
   },
   {
    "duration": 605,
    "start_time": "2022-03-25T14:12:33.726Z"
   },
   {
    "duration": 48,
    "start_time": "2022-03-25T14:12:34.333Z"
   },
   {
    "duration": 209,
    "start_time": "2022-03-25T14:12:34.383Z"
   },
   {
    "duration": 20,
    "start_time": "2022-03-25T14:12:34.593Z"
   },
   {
    "duration": 68,
    "start_time": "2022-03-25T14:12:34.614Z"
   },
   {
    "duration": 11,
    "start_time": "2022-03-25T14:12:34.684Z"
   },
   {
    "duration": 7,
    "start_time": "2022-03-25T14:12:34.696Z"
   },
   {
    "duration": 48,
    "start_time": "2022-03-25T14:12:34.705Z"
   },
   {
    "duration": 2,
    "start_time": "2022-03-25T14:12:34.756Z"
   },
   {
    "duration": 2200,
    "start_time": "2022-03-25T14:12:34.781Z"
   },
   {
    "duration": 535,
    "start_time": "2022-03-25T14:12:36.982Z"
   },
   {
    "duration": 7,
    "start_time": "2022-03-25T14:12:37.518Z"
   },
   {
    "duration": 301,
    "start_time": "2022-03-25T14:12:37.526Z"
   },
   {
    "duration": 19,
    "start_time": "2022-03-25T14:12:37.828Z"
   },
   {
    "duration": 37,
    "start_time": "2022-03-25T14:12:37.848Z"
   },
   {
    "duration": 2194,
    "start_time": "2022-03-25T14:12:37.886Z"
   },
   {
    "duration": 25221,
    "start_time": "2022-03-25T14:12:40.082Z"
   },
   {
    "duration": 1407,
    "start_time": "2022-03-25T14:22:19.392Z"
   },
   {
    "duration": 611,
    "start_time": "2022-03-25T14:22:20.801Z"
   },
   {
    "duration": 36,
    "start_time": "2022-03-25T14:22:21.414Z"
   },
   {
    "duration": 221,
    "start_time": "2022-03-25T14:22:21.452Z"
   },
   {
    "duration": 22,
    "start_time": "2022-03-25T14:22:21.675Z"
   },
   {
    "duration": 44,
    "start_time": "2022-03-25T14:22:21.699Z"
   },
   {
    "duration": 36,
    "start_time": "2022-03-25T14:22:21.745Z"
   },
   {
    "duration": 5,
    "start_time": "2022-03-25T14:22:21.783Z"
   },
   {
    "duration": 58,
    "start_time": "2022-03-25T14:22:21.790Z"
   },
   {
    "duration": 2,
    "start_time": "2022-03-25T14:22:21.851Z"
   },
   {
    "duration": 2088,
    "start_time": "2022-03-25T14:22:21.880Z"
   },
   {
    "duration": 560,
    "start_time": "2022-03-25T14:22:23.970Z"
   },
   {
    "duration": 7,
    "start_time": "2022-03-25T14:22:24.532Z"
   },
   {
    "duration": 317,
    "start_time": "2022-03-25T14:22:24.541Z"
   },
   {
    "duration": 27,
    "start_time": "2022-03-25T14:22:24.859Z"
   },
   {
    "duration": 18,
    "start_time": "2022-03-25T14:22:24.888Z"
   },
   {
    "duration": 2576,
    "start_time": "2022-03-25T14:22:24.907Z"
   },
   {
    "duration": 30625,
    "start_time": "2022-03-25T14:22:27.485Z"
   },
   {
    "duration": 1447,
    "start_time": "2022-03-25T14:47:05.036Z"
   },
   {
    "duration": 654,
    "start_time": "2022-03-25T14:47:06.484Z"
   },
   {
    "duration": 48,
    "start_time": "2022-03-25T14:47:07.140Z"
   },
   {
    "duration": 239,
    "start_time": "2022-03-25T14:47:07.191Z"
   },
   {
    "duration": 24,
    "start_time": "2022-03-25T14:47:07.432Z"
   },
   {
    "duration": 63,
    "start_time": "2022-03-25T14:47:07.458Z"
   },
   {
    "duration": 14,
    "start_time": "2022-03-25T14:47:07.523Z"
   },
   {
    "duration": 6,
    "start_time": "2022-03-25T14:47:07.539Z"
   },
   {
    "duration": 73,
    "start_time": "2022-03-25T14:47:07.546Z"
   },
   {
    "duration": 3,
    "start_time": "2022-03-25T14:47:07.621Z"
   },
   {
    "duration": 2176,
    "start_time": "2022-03-25T14:47:07.625Z"
   },
   {
    "duration": 547,
    "start_time": "2022-03-25T14:47:09.803Z"
   },
   {
    "duration": 9,
    "start_time": "2022-03-25T14:47:10.351Z"
   },
   {
    "duration": 309,
    "start_time": "2022-03-25T14:47:10.361Z"
   },
   {
    "duration": 24,
    "start_time": "2022-03-25T14:47:10.672Z"
   },
   {
    "duration": 20,
    "start_time": "2022-03-25T14:47:10.698Z"
   },
   {
    "duration": 2364,
    "start_time": "2022-03-25T14:47:10.720Z"
   },
   {
    "duration": 25816,
    "start_time": "2022-03-25T14:47:13.087Z"
   },
   {
    "duration": 2246,
    "start_time": "2022-03-28T06:32:33.154Z"
   },
   {
    "duration": 1699,
    "start_time": "2022-03-28T06:32:35.404Z"
   },
   {
    "duration": 63,
    "start_time": "2022-03-28T06:32:37.105Z"
   },
   {
    "duration": 375,
    "start_time": "2022-03-28T06:32:37.183Z"
   },
   {
    "duration": 55,
    "start_time": "2022-03-28T06:32:37.562Z"
   },
   {
    "duration": 102,
    "start_time": "2022-03-28T06:32:37.619Z"
   },
   {
    "duration": 17,
    "start_time": "2022-03-28T06:32:37.723Z"
   },
   {
    "duration": 7,
    "start_time": "2022-03-28T06:32:37.743Z"
   },
   {
    "duration": 75,
    "start_time": "2022-03-28T06:32:37.781Z"
   },
   {
    "duration": 25,
    "start_time": "2022-03-28T06:32:37.858Z"
   },
   {
    "duration": 4001,
    "start_time": "2022-03-28T06:32:37.886Z"
   },
   {
    "duration": 978,
    "start_time": "2022-03-28T06:32:41.890Z"
   },
   {
    "duration": 16,
    "start_time": "2022-03-28T06:32:42.871Z"
   },
   {
    "duration": 667,
    "start_time": "2022-03-28T06:32:42.891Z"
   },
   {
    "duration": 43,
    "start_time": "2022-03-28T06:32:43.560Z"
   },
   {
    "duration": 25,
    "start_time": "2022-03-28T06:32:43.605Z"
   },
   {
    "duration": 2451,
    "start_time": "2022-03-28T06:32:43.633Z"
   },
   {
    "duration": 32470,
    "start_time": "2022-03-28T06:32:46.087Z"
   },
   {
    "duration": 293714,
    "start_time": "2022-03-28T06:33:18.560Z"
   },
   {
    "duration": 172,
    "start_time": "2022-03-28T06:38:12.276Z"
   },
   {
    "duration": 22,
    "start_time": "2022-03-28T06:48:35.393Z"
   },
   {
    "duration": 26,
    "start_time": "2022-03-28T06:49:11.603Z"
   },
   {
    "duration": 1697,
    "start_time": "2022-03-28T06:56:37.411Z"
   },
   {
    "duration": 743,
    "start_time": "2022-03-28T06:56:39.111Z"
   },
   {
    "duration": 70,
    "start_time": "2022-03-28T06:56:39.856Z"
   },
   {
    "duration": 366,
    "start_time": "2022-03-28T06:56:39.929Z"
   },
   {
    "duration": 30,
    "start_time": "2022-03-28T06:56:40.297Z"
   },
   {
    "duration": 108,
    "start_time": "2022-03-28T06:56:40.329Z"
   },
   {
    "duration": 16,
    "start_time": "2022-03-28T06:56:40.439Z"
   },
   {
    "duration": 29,
    "start_time": "2022-03-28T06:56:40.457Z"
   },
   {
    "duration": 96,
    "start_time": "2022-03-28T06:56:40.488Z"
   },
   {
    "duration": 4,
    "start_time": "2022-03-28T06:56:40.587Z"
   },
   {
    "duration": 3767,
    "start_time": "2022-03-28T06:56:40.592Z"
   },
   {
    "duration": 1005,
    "start_time": "2022-03-28T06:56:44.362Z"
   },
   {
    "duration": 20,
    "start_time": "2022-03-28T06:56:45.369Z"
   },
   {
    "duration": 546,
    "start_time": "2022-03-28T06:56:45.391Z"
   },
   {
    "duration": 44,
    "start_time": "2022-03-28T06:56:45.940Z"
   },
   {
    "duration": 25,
    "start_time": "2022-03-28T06:56:45.987Z"
   },
   {
    "duration": 3170,
    "start_time": "2022-03-28T06:56:46.014Z"
   },
   {
    "duration": 31559,
    "start_time": "2022-03-28T06:56:49.187Z"
   },
   {
    "duration": 725094,
    "start_time": "2022-03-28T06:57:20.749Z"
   },
   {
    "duration": 213,
    "start_time": "2022-03-28T07:09:25.845Z"
   },
   {
    "duration": 25,
    "start_time": "2022-03-28T07:47:54.686Z"
   },
   {
    "duration": 25,
    "start_time": "2022-03-28T07:48:27.036Z"
   },
   {
    "duration": 1648,
    "start_time": "2022-03-28T21:27:12.790Z"
   },
   {
    "duration": 635,
    "start_time": "2022-03-28T21:27:14.440Z"
   },
   {
    "duration": 37,
    "start_time": "2022-03-28T21:27:15.077Z"
   },
   {
    "duration": 211,
    "start_time": "2022-03-28T21:27:15.116Z"
   },
   {
    "duration": 20,
    "start_time": "2022-03-28T21:27:15.328Z"
   },
   {
    "duration": 64,
    "start_time": "2022-03-28T21:27:15.349Z"
   },
   {
    "duration": 11,
    "start_time": "2022-03-28T21:27:15.415Z"
   },
   {
    "duration": 4,
    "start_time": "2022-03-28T21:27:15.427Z"
   },
   {
    "duration": 67,
    "start_time": "2022-03-28T21:27:15.433Z"
   },
   {
    "duration": 2,
    "start_time": "2022-03-28T21:27:15.502Z"
   },
   {
    "duration": 2069,
    "start_time": "2022-03-28T21:27:15.506Z"
   },
   {
    "duration": 533,
    "start_time": "2022-03-28T21:27:17.580Z"
   },
   {
    "duration": 8,
    "start_time": "2022-03-28T21:27:18.114Z"
   },
   {
    "duration": 307,
    "start_time": "2022-03-28T21:27:18.123Z"
   },
   {
    "duration": 18,
    "start_time": "2022-03-28T21:27:18.432Z"
   },
   {
    "duration": 30,
    "start_time": "2022-03-28T21:27:18.451Z"
   },
   {
    "duration": 9,
    "start_time": "2022-03-28T21:27:18.482Z"
   },
   {
    "duration": 1889,
    "start_time": "2022-03-28T21:27:18.492Z"
   },
   {
    "duration": 25059,
    "start_time": "2022-03-28T21:27:20.383Z"
   },
   {
    "duration": 563062,
    "start_time": "2022-03-28T21:27:45.444Z"
   },
   {
    "duration": 114,
    "start_time": "2022-03-28T21:37:08.507Z"
   },
   {
    "duration": 0,
    "start_time": "2022-03-28T21:37:08.623Z"
   },
   {
    "duration": 4,
    "start_time": "2022-03-28T21:38:39.056Z"
   },
   {
    "duration": 3,
    "start_time": "2022-03-28T21:40:43.493Z"
   },
   {
    "duration": 62,
    "start_time": "2022-03-29T07:06:47.787Z"
   },
   {
    "duration": 2123,
    "start_time": "2022-03-29T07:06:52.235Z"
   },
   {
    "duration": 986,
    "start_time": "2022-03-29T07:06:54.361Z"
   },
   {
    "duration": 88,
    "start_time": "2022-03-29T07:06:55.349Z"
   },
   {
    "duration": 368,
    "start_time": "2022-03-29T07:06:55.441Z"
   },
   {
    "duration": 34,
    "start_time": "2022-03-29T07:06:55.812Z"
   },
   {
    "duration": 107,
    "start_time": "2022-03-29T07:06:55.848Z"
   },
   {
    "duration": 16,
    "start_time": "2022-03-29T07:06:55.957Z"
   },
   {
    "duration": 5,
    "start_time": "2022-03-29T07:06:55.975Z"
   },
   {
    "duration": 29,
    "start_time": "2022-03-29T07:06:56.004Z"
   },
   {
    "duration": 208,
    "start_time": "2022-03-29T07:06:56.037Z"
   },
   {
    "duration": 0,
    "start_time": "2022-03-29T07:06:56.247Z"
   },
   {
    "duration": 0,
    "start_time": "2022-03-29T07:06:56.250Z"
   },
   {
    "duration": 0,
    "start_time": "2022-03-29T07:06:56.251Z"
   },
   {
    "duration": 0,
    "start_time": "2022-03-29T07:06:56.253Z"
   },
   {
    "duration": 0,
    "start_time": "2022-03-29T07:06:56.255Z"
   },
   {
    "duration": 0,
    "start_time": "2022-03-29T07:06:56.256Z"
   },
   {
    "duration": 0,
    "start_time": "2022-03-29T07:06:56.258Z"
   },
   {
    "duration": 0,
    "start_time": "2022-03-29T07:06:56.260Z"
   },
   {
    "duration": 0,
    "start_time": "2022-03-29T07:06:56.262Z"
   },
   {
    "duration": 0,
    "start_time": "2022-03-29T07:06:56.263Z"
   },
   {
    "duration": 0,
    "start_time": "2022-03-29T07:06:56.265Z"
   },
   {
    "duration": 0,
    "start_time": "2022-03-29T07:06:56.267Z"
   },
   {
    "duration": 12,
    "start_time": "2022-03-29T07:07:22.925Z"
   },
   {
    "duration": 28,
    "start_time": "2022-03-29T07:07:49.365Z"
   },
   {
    "duration": 17,
    "start_time": "2022-03-29T07:08:53.260Z"
   },
   {
    "duration": 150,
    "start_time": "2022-03-29T08:01:58.520Z"
   },
   {
    "duration": 294,
    "start_time": "2022-03-29T08:02:21.074Z"
   },
   {
    "duration": 7,
    "start_time": "2022-03-29T08:02:27.558Z"
   },
   {
    "duration": 8,
    "start_time": "2022-03-29T08:02:40.797Z"
   },
   {
    "duration": 14,
    "start_time": "2022-03-29T08:03:00.846Z"
   },
   {
    "duration": 18,
    "start_time": "2022-03-29T08:27:54.753Z"
   },
   {
    "duration": 24,
    "start_time": "2022-03-29T08:39:49.783Z"
   },
   {
    "duration": 36,
    "start_time": "2022-03-29T08:40:13.941Z"
   },
   {
    "duration": 2251,
    "start_time": "2022-03-29T08:40:43.719Z"
   },
   {
    "duration": 623,
    "start_time": "2022-03-29T08:41:17.695Z"
   },
   {
    "duration": 7,
    "start_time": "2022-03-29T08:41:39.589Z"
   },
   {
    "duration": 451,
    "start_time": "2022-03-29T08:41:41.475Z"
   },
   {
    "duration": 8,
    "start_time": "2022-03-29T08:45:05.347Z"
   },
   {
    "duration": 20,
    "start_time": "2022-03-29T08:45:08.291Z"
   },
   {
    "duration": 4,
    "start_time": "2022-03-29T08:45:24.536Z"
   },
   {
    "duration": 669,
    "start_time": "2022-03-29T08:45:24.543Z"
   },
   {
    "duration": 46,
    "start_time": "2022-03-29T08:45:25.214Z"
   },
   {
    "duration": 228,
    "start_time": "2022-03-29T08:45:25.263Z"
   },
   {
    "duration": 45,
    "start_time": "2022-03-29T08:45:25.494Z"
   },
   {
    "duration": 46,
    "start_time": "2022-03-29T08:45:25.541Z"
   },
   {
    "duration": 9,
    "start_time": "2022-03-29T08:45:25.588Z"
   },
   {
    "duration": 34,
    "start_time": "2022-03-29T08:45:25.599Z"
   },
   {
    "duration": 36,
    "start_time": "2022-03-29T08:45:25.635Z"
   },
   {
    "duration": 2534,
    "start_time": "2022-03-29T08:45:25.672Z"
   },
   {
    "duration": 872,
    "start_time": "2022-03-29T08:45:28.208Z"
   },
   {
    "duration": 10,
    "start_time": "2022-03-29T08:45:29.082Z"
   },
   {
    "duration": 341,
    "start_time": "2022-03-29T08:45:29.095Z"
   },
   {
    "duration": 19,
    "start_time": "2022-03-29T08:45:29.438Z"
   },
   {
    "duration": 16,
    "start_time": "2022-03-29T08:45:29.459Z"
   },
   {
    "duration": 8,
    "start_time": "2022-03-29T08:45:29.477Z"
   },
   {
    "duration": 2253,
    "start_time": "2022-03-29T08:45:29.487Z"
   },
   {
    "duration": 0,
    "start_time": "2022-03-29T09:19:26.190Z"
   },
   {
    "duration": 0,
    "start_time": "2022-03-29T09:19:26.192Z"
   },
   {
    "duration": 0,
    "start_time": "2022-03-29T09:19:26.194Z"
   },
   {
    "duration": 0,
    "start_time": "2022-03-29T09:19:26.196Z"
   },
   {
    "duration": 0,
    "start_time": "2022-03-29T09:19:26.197Z"
   },
   {
    "duration": 0,
    "start_time": "2022-03-29T09:19:26.199Z"
   },
   {
    "duration": 0,
    "start_time": "2022-03-29T09:19:26.201Z"
   },
   {
    "duration": 0,
    "start_time": "2022-03-29T09:19:26.203Z"
   },
   {
    "duration": 0,
    "start_time": "2022-03-29T09:19:26.205Z"
   },
   {
    "duration": 0,
    "start_time": "2022-03-29T09:19:26.207Z"
   },
   {
    "duration": 0,
    "start_time": "2022-03-29T09:19:26.208Z"
   },
   {
    "duration": 0,
    "start_time": "2022-03-29T09:19:26.210Z"
   },
   {
    "duration": 0,
    "start_time": "2022-03-29T09:19:26.212Z"
   },
   {
    "duration": 0,
    "start_time": "2022-03-29T09:19:26.213Z"
   },
   {
    "duration": 0,
    "start_time": "2022-03-29T09:19:26.215Z"
   },
   {
    "duration": 0,
    "start_time": "2022-03-29T09:19:26.217Z"
   },
   {
    "duration": 0,
    "start_time": "2022-03-29T09:19:26.218Z"
   },
   {
    "duration": 0,
    "start_time": "2022-03-29T09:19:26.219Z"
   },
   {
    "duration": 0,
    "start_time": "2022-03-29T09:19:26.233Z"
   },
   {
    "duration": 0,
    "start_time": "2022-03-29T09:19:26.235Z"
   },
   {
    "duration": 1375,
    "start_time": "2022-03-29T09:30:12.260Z"
   },
   {
    "duration": 670,
    "start_time": "2022-03-29T09:30:13.637Z"
   },
   {
    "duration": 45,
    "start_time": "2022-03-29T09:30:14.309Z"
   },
   {
    "duration": 238,
    "start_time": "2022-03-29T09:30:14.355Z"
   },
   {
    "duration": 21,
    "start_time": "2022-03-29T09:30:14.594Z"
   },
   {
    "duration": 63,
    "start_time": "2022-03-29T09:30:14.616Z"
   },
   {
    "duration": 10,
    "start_time": "2022-03-29T09:30:14.680Z"
   },
   {
    "duration": 13,
    "start_time": "2022-03-29T09:30:14.692Z"
   },
   {
    "duration": 57,
    "start_time": "2022-03-29T09:30:14.707Z"
   },
   {
    "duration": 2274,
    "start_time": "2022-03-29T09:30:14.767Z"
   },
   {
    "duration": 612,
    "start_time": "2022-03-29T09:30:17.043Z"
   },
   {
    "duration": 7,
    "start_time": "2022-03-29T09:30:17.657Z"
   },
   {
    "duration": 337,
    "start_time": "2022-03-29T09:30:17.666Z"
   },
   {
    "duration": 33,
    "start_time": "2022-03-29T09:30:18.005Z"
   },
   {
    "duration": 17,
    "start_time": "2022-03-29T09:30:18.040Z"
   },
   {
    "duration": 12,
    "start_time": "2022-03-29T09:30:18.058Z"
   },
   {
    "duration": 2168,
    "start_time": "2022-03-29T09:30:18.071Z"
   },
   {
    "duration": 34593,
    "start_time": "2022-03-29T09:30:20.241Z"
   },
   {
    "duration": 781562,
    "start_time": "2022-03-29T09:30:54.836Z"
   },
   {
    "duration": 120,
    "start_time": "2022-03-29T09:43:56.400Z"
   },
   {
    "duration": 1698,
    "start_time": "2022-03-29T12:48:36.098Z"
   },
   {
    "duration": 3,
    "start_time": "2022-03-29T12:50:41.600Z"
   },
   {
    "duration": 98,
    "start_time": "2022-03-29T12:55:54.582Z"
   },
   {
    "duration": 4,
    "start_time": "2022-03-29T12:56:53.627Z"
   },
   {
    "duration": 616,
    "start_time": "2022-03-29T12:56:53.633Z"
   },
   {
    "duration": 38,
    "start_time": "2022-03-29T12:56:54.251Z"
   },
   {
    "duration": 226,
    "start_time": "2022-03-29T12:56:54.291Z"
   },
   {
    "duration": 20,
    "start_time": "2022-03-29T12:56:54.518Z"
   },
   {
    "duration": 64,
    "start_time": "2022-03-29T12:56:54.540Z"
   },
   {
    "duration": 12,
    "start_time": "2022-03-29T12:56:54.606Z"
   },
   {
    "duration": 4,
    "start_time": "2022-03-29T12:56:54.620Z"
   },
   {
    "duration": 38,
    "start_time": "2022-03-29T12:56:54.625Z"
   },
   {
    "duration": 2126,
    "start_time": "2022-03-29T12:56:54.664Z"
   },
   {
    "duration": 559,
    "start_time": "2022-03-29T12:56:56.800Z"
   },
   {
    "duration": 8,
    "start_time": "2022-03-29T12:56:57.360Z"
   },
   {
    "duration": 326,
    "start_time": "2022-03-29T12:56:57.369Z"
   },
   {
    "duration": 25,
    "start_time": "2022-03-29T12:56:57.697Z"
   },
   {
    "duration": 18,
    "start_time": "2022-03-29T12:56:57.723Z"
   },
   {
    "duration": 37,
    "start_time": "2022-03-29T12:56:57.743Z"
   },
   {
    "duration": 20,
    "start_time": "2022-03-29T12:56:57.781Z"
   },
   {
    "duration": 0,
    "start_time": "2022-03-29T12:56:57.803Z"
   },
   {
    "duration": 0,
    "start_time": "2022-03-29T12:56:57.804Z"
   },
   {
    "duration": 0,
    "start_time": "2022-03-29T12:56:57.805Z"
   },
   {
    "duration": 36,
    "start_time": "2022-03-29T12:57:22.048Z"
   },
   {
    "duration": 40,
    "start_time": "2022-03-29T12:58:10.384Z"
   },
   {
    "duration": 3,
    "start_time": "2022-03-29T12:58:21.207Z"
   },
   {
    "duration": 656,
    "start_time": "2022-03-29T12:58:21.212Z"
   },
   {
    "duration": 48,
    "start_time": "2022-03-29T12:58:21.870Z"
   },
   {
    "duration": 234,
    "start_time": "2022-03-29T12:58:21.920Z"
   },
   {
    "duration": 22,
    "start_time": "2022-03-29T12:58:22.156Z"
   },
   {
    "duration": 65,
    "start_time": "2022-03-29T12:58:22.180Z"
   },
   {
    "duration": 8,
    "start_time": "2022-03-29T12:58:22.247Z"
   },
   {
    "duration": 19,
    "start_time": "2022-03-29T12:58:22.257Z"
   },
   {
    "duration": 50,
    "start_time": "2022-03-29T12:58:22.277Z"
   },
   {
    "duration": 2194,
    "start_time": "2022-03-29T12:58:22.328Z"
   },
   {
    "duration": 553,
    "start_time": "2022-03-29T12:58:24.523Z"
   },
   {
    "duration": 7,
    "start_time": "2022-03-29T12:58:25.078Z"
   },
   {
    "duration": 415,
    "start_time": "2022-03-29T12:58:25.088Z"
   },
   {
    "duration": 20,
    "start_time": "2022-03-29T12:58:25.504Z"
   },
   {
    "duration": 14,
    "start_time": "2022-03-29T12:58:25.525Z"
   },
   {
    "duration": 8,
    "start_time": "2022-03-29T12:58:25.541Z"
   },
   {
    "duration": 51,
    "start_time": "2022-03-29T12:58:25.551Z"
   },
   {
    "duration": 0,
    "start_time": "2022-03-29T12:58:25.603Z"
   },
   {
    "duration": 0,
    "start_time": "2022-03-29T12:58:25.605Z"
   },
   {
    "duration": 0,
    "start_time": "2022-03-29T12:58:25.605Z"
   },
   {
    "duration": 9,
    "start_time": "2022-03-29T13:00:19.859Z"
   },
   {
    "duration": 4,
    "start_time": "2022-03-29T13:00:38.133Z"
   },
   {
    "duration": 610,
    "start_time": "2022-03-29T13:00:38.139Z"
   },
   {
    "duration": 39,
    "start_time": "2022-03-29T13:00:38.751Z"
   },
   {
    "duration": 231,
    "start_time": "2022-03-29T13:00:38.801Z"
   },
   {
    "duration": 20,
    "start_time": "2022-03-29T13:00:39.034Z"
   },
   {
    "duration": 66,
    "start_time": "2022-03-29T13:00:39.056Z"
   },
   {
    "duration": 8,
    "start_time": "2022-03-29T13:00:39.124Z"
   },
   {
    "duration": 4,
    "start_time": "2022-03-29T13:00:39.134Z"
   },
   {
    "duration": 31,
    "start_time": "2022-03-29T13:00:39.140Z"
   },
   {
    "duration": 2128,
    "start_time": "2022-03-29T13:00:39.173Z"
   },
   {
    "duration": 645,
    "start_time": "2022-03-29T13:00:41.303Z"
   },
   {
    "duration": 8,
    "start_time": "2022-03-29T13:00:41.949Z"
   },
   {
    "duration": 318,
    "start_time": "2022-03-29T13:00:41.960Z"
   },
   {
    "duration": 24,
    "start_time": "2022-03-29T13:00:42.279Z"
   },
   {
    "duration": 14,
    "start_time": "2022-03-29T13:00:42.305Z"
   },
   {
    "duration": 8,
    "start_time": "2022-03-29T13:00:42.321Z"
   },
   {
    "duration": 2276,
    "start_time": "2022-03-29T13:00:42.330Z"
   },
   {
    "duration": 93,
    "start_time": "2022-03-29T13:00:44.608Z"
   },
   {
    "duration": 4,
    "start_time": "2022-03-29T13:00:44.703Z"
   },
   {
    "duration": 13,
    "start_time": "2022-03-29T13:00:44.709Z"
   },
   {
    "duration": 287,
    "start_time": "2022-03-29T13:08:03.216Z"
   },
   {
    "duration": 9,
    "start_time": "2022-03-29T13:08:59.436Z"
   },
   {
    "duration": 11,
    "start_time": "2022-03-29T13:10:19.961Z"
   },
   {
    "duration": 3,
    "start_time": "2022-03-29T13:10:35.248Z"
   },
   {
    "duration": 622,
    "start_time": "2022-03-29T13:10:35.253Z"
   },
   {
    "duration": 47,
    "start_time": "2022-03-29T13:10:35.877Z"
   },
   {
    "duration": 220,
    "start_time": "2022-03-29T13:10:35.925Z"
   },
   {
    "duration": 19,
    "start_time": "2022-03-29T13:10:36.147Z"
   },
   {
    "duration": 59,
    "start_time": "2022-03-29T13:10:36.168Z"
   },
   {
    "duration": 8,
    "start_time": "2022-03-29T13:10:36.228Z"
   },
   {
    "duration": 7,
    "start_time": "2022-03-29T13:10:36.238Z"
   },
   {
    "duration": 55,
    "start_time": "2022-03-29T13:10:36.246Z"
   },
   {
    "duration": 2251,
    "start_time": "2022-03-29T13:10:36.303Z"
   },
   {
    "duration": 574,
    "start_time": "2022-03-29T13:10:38.557Z"
   },
   {
    "duration": 7,
    "start_time": "2022-03-29T13:10:39.133Z"
   },
   {
    "duration": 320,
    "start_time": "2022-03-29T13:10:39.141Z"
   },
   {
    "duration": 13,
    "start_time": "2022-03-29T13:10:39.463Z"
   },
   {
    "duration": 27,
    "start_time": "2022-03-29T13:10:39.478Z"
   },
   {
    "duration": 7,
    "start_time": "2022-03-29T13:10:39.507Z"
   },
   {
    "duration": 38,
    "start_time": "2022-03-29T13:10:39.516Z"
   },
   {
    "duration": 0,
    "start_time": "2022-03-29T13:10:39.555Z"
   },
   {
    "duration": 0,
    "start_time": "2022-03-29T13:10:39.556Z"
   },
   {
    "duration": 0,
    "start_time": "2022-03-29T13:10:39.557Z"
   },
   {
    "duration": 5,
    "start_time": "2022-03-29T13:11:14.383Z"
   },
   {
    "duration": 648,
    "start_time": "2022-03-29T13:11:14.390Z"
   },
   {
    "duration": 39,
    "start_time": "2022-03-29T13:11:15.040Z"
   },
   {
    "duration": 228,
    "start_time": "2022-03-29T13:11:15.081Z"
   },
   {
    "duration": 20,
    "start_time": "2022-03-29T13:11:15.311Z"
   },
   {
    "duration": 75,
    "start_time": "2022-03-29T13:11:15.333Z"
   },
   {
    "duration": 9,
    "start_time": "2022-03-29T13:11:15.410Z"
   },
   {
    "duration": 5,
    "start_time": "2022-03-29T13:11:15.420Z"
   },
   {
    "duration": 35,
    "start_time": "2022-03-29T13:11:15.426Z"
   },
   {
    "duration": 2408,
    "start_time": "2022-03-29T13:11:15.463Z"
   },
   {
    "duration": 639,
    "start_time": "2022-03-29T13:11:17.873Z"
   },
   {
    "duration": 9,
    "start_time": "2022-03-29T13:11:18.514Z"
   },
   {
    "duration": 343,
    "start_time": "2022-03-29T13:11:18.526Z"
   },
   {
    "duration": 15,
    "start_time": "2022-03-29T13:11:18.870Z"
   },
   {
    "duration": 30,
    "start_time": "2022-03-29T13:11:18.886Z"
   },
   {
    "duration": 9,
    "start_time": "2022-03-29T13:11:18.918Z"
   },
   {
    "duration": 2274,
    "start_time": "2022-03-29T13:11:18.929Z"
   },
   {
    "duration": 3,
    "start_time": "2022-03-29T13:11:21.205Z"
   },
   {
    "duration": 822215,
    "start_time": "2022-03-29T13:11:21.210Z"
   },
   {
    "duration": 15,
    "start_time": "2022-03-29T13:25:03.426Z"
   },
   {
    "duration": 42,
    "start_time": "2022-03-29T14:38:44.215Z"
   },
   {
    "duration": 7,
    "start_time": "2022-03-29T14:38:53.553Z"
   },
   {
    "duration": 1556,
    "start_time": "2022-03-29T14:38:57.729Z"
   },
   {
    "duration": 614,
    "start_time": "2022-03-29T14:39:00.417Z"
   },
   {
    "duration": 38,
    "start_time": "2022-03-29T14:39:03.047Z"
   },
   {
    "duration": 67,
    "start_time": "2022-03-29T14:39:08.033Z"
   },
   {
    "duration": 3,
    "start_time": "2022-03-29T14:40:54.394Z"
   },
   {
    "duration": 477,
    "start_time": "2022-03-29T14:57:01.422Z"
   },
   {
    "duration": 349,
    "start_time": "2022-03-29T14:57:35.974Z"
   },
   {
    "duration": 338,
    "start_time": "2022-03-29T14:58:00.357Z"
   },
   {
    "duration": 8,
    "start_time": "2022-03-29T15:01:37.091Z"
   },
   {
    "duration": 5,
    "start_time": "2022-03-29T15:02:02.706Z"
   },
   {
    "duration": 13,
    "start_time": "2022-03-29T15:02:10.936Z"
   },
   {
    "duration": 4,
    "start_time": "2022-03-29T15:02:25.856Z"
   },
   {
    "duration": 4,
    "start_time": "2022-03-29T15:06:44.639Z"
   },
   {
    "duration": 616,
    "start_time": "2022-03-29T15:06:44.645Z"
   },
   {
    "duration": 42,
    "start_time": "2022-03-29T15:06:45.263Z"
   },
   {
    "duration": 3,
    "start_time": "2022-03-29T15:06:45.307Z"
   },
   {
    "duration": 214,
    "start_time": "2022-03-29T15:06:45.312Z"
   },
   {
    "duration": 19,
    "start_time": "2022-03-29T15:06:45.528Z"
   },
   {
    "duration": 66,
    "start_time": "2022-03-29T15:06:45.548Z"
   },
   {
    "duration": 12,
    "start_time": "2022-03-29T15:06:45.615Z"
   },
   {
    "duration": 5,
    "start_time": "2022-03-29T15:06:45.628Z"
   },
   {
    "duration": 57,
    "start_time": "2022-03-29T15:06:45.635Z"
   },
   {
    "duration": 2203,
    "start_time": "2022-03-29T15:06:45.695Z"
   },
   {
    "duration": 534,
    "start_time": "2022-03-29T15:06:47.900Z"
   },
   {
    "duration": 7,
    "start_time": "2022-03-29T15:06:48.436Z"
   },
   {
    "duration": 303,
    "start_time": "2022-03-29T15:06:48.444Z"
   },
   {
    "duration": 19,
    "start_time": "2022-03-29T15:06:48.748Z"
   },
   {
    "duration": 16,
    "start_time": "2022-03-29T15:06:48.781Z"
   },
   {
    "duration": 9,
    "start_time": "2022-03-29T15:06:48.799Z"
   },
   {
    "duration": 2380,
    "start_time": "2022-03-29T15:06:48.809Z"
   },
   {
    "duration": 4,
    "start_time": "2022-03-29T15:06:51.191Z"
   },
   {
    "duration": 1481,
    "start_time": "2022-03-29T15:11:02.810Z"
   },
   {
    "duration": 622,
    "start_time": "2022-03-29T15:11:04.293Z"
   },
   {
    "duration": 37,
    "start_time": "2022-03-29T15:11:04.917Z"
   },
   {
    "duration": 150,
    "start_time": "2022-03-29T15:11:04.956Z"
   },
   {
    "duration": 227,
    "start_time": "2022-03-29T15:11:05.108Z"
   },
   {
    "duration": 21,
    "start_time": "2022-03-29T15:11:05.337Z"
   },
   {
    "duration": 66,
    "start_time": "2022-03-29T15:11:05.360Z"
   },
   {
    "duration": 11,
    "start_time": "2022-03-29T15:11:05.428Z"
   },
   {
    "duration": 4,
    "start_time": "2022-03-29T15:11:05.441Z"
   },
   {
    "duration": 64,
    "start_time": "2022-03-29T15:11:05.448Z"
   },
   {
    "duration": 2109,
    "start_time": "2022-03-29T15:11:05.513Z"
   },
   {
    "duration": 559,
    "start_time": "2022-03-29T15:11:07.623Z"
   },
   {
    "duration": 7,
    "start_time": "2022-03-29T15:11:08.184Z"
   },
   {
    "duration": 311,
    "start_time": "2022-03-29T15:11:08.192Z"
   },
   {
    "duration": 21,
    "start_time": "2022-03-29T15:11:08.505Z"
   },
   {
    "duration": 13,
    "start_time": "2022-03-29T15:11:08.528Z"
   },
   {
    "duration": 7,
    "start_time": "2022-03-29T15:11:08.543Z"
   },
   {
    "duration": 2230,
    "start_time": "2022-03-29T15:11:08.552Z"
   },
   {
    "duration": 6,
    "start_time": "2022-03-29T15:11:10.784Z"
   },
   {
    "duration": 1904,
    "start_time": "2022-03-29T15:12:18.362Z"
   },
   {
    "duration": 626,
    "start_time": "2022-03-29T15:12:20.268Z"
   },
   {
    "duration": 35,
    "start_time": "2022-03-29T15:12:20.896Z"
   },
   {
    "duration": 141,
    "start_time": "2022-03-29T15:12:20.934Z"
   },
   {
    "duration": 208,
    "start_time": "2022-03-29T15:12:21.080Z"
   },
   {
    "duration": 24,
    "start_time": "2022-03-29T15:12:21.289Z"
   },
   {
    "duration": 78,
    "start_time": "2022-03-29T15:12:21.316Z"
   },
   {
    "duration": 13,
    "start_time": "2022-03-29T15:12:21.395Z"
   },
   {
    "duration": 116,
    "start_time": "2022-03-29T15:12:21.410Z"
   },
   {
    "duration": 0,
    "start_time": "2022-03-29T15:12:21.528Z"
   },
   {
    "duration": 0,
    "start_time": "2022-03-29T15:12:21.529Z"
   },
   {
    "duration": 0,
    "start_time": "2022-03-29T15:12:21.530Z"
   },
   {
    "duration": 0,
    "start_time": "2022-03-29T15:12:21.531Z"
   },
   {
    "duration": 0,
    "start_time": "2022-03-29T15:12:21.532Z"
   },
   {
    "duration": 0,
    "start_time": "2022-03-29T15:12:21.533Z"
   },
   {
    "duration": 0,
    "start_time": "2022-03-29T15:12:21.534Z"
   },
   {
    "duration": 0,
    "start_time": "2022-03-29T15:12:21.535Z"
   },
   {
    "duration": 0,
    "start_time": "2022-03-29T15:12:21.535Z"
   },
   {
    "duration": 0,
    "start_time": "2022-03-29T15:12:21.537Z"
   },
   {
    "duration": 0,
    "start_time": "2022-03-29T15:12:21.538Z"
   },
   {
    "duration": 0,
    "start_time": "2022-03-29T15:12:21.538Z"
   },
   {
    "duration": 152,
    "start_time": "2022-03-29T15:12:51.749Z"
   },
   {
    "duration": 116,
    "start_time": "2022-03-29T15:12:57.905Z"
   },
   {
    "duration": 114,
    "start_time": "2022-03-29T15:13:10.370Z"
   },
   {
    "duration": 111,
    "start_time": "2022-03-29T15:15:02.919Z"
   },
   {
    "duration": 39,
    "start_time": "2022-03-29T15:15:24.342Z"
   },
   {
    "duration": 83,
    "start_time": "2022-03-29T15:16:17.022Z"
   },
   {
    "duration": 2607,
    "start_time": "2022-03-29T15:16:57.075Z"
   },
   {
    "duration": 0,
    "start_time": "2022-03-29T15:16:59.683Z"
   },
   {
    "duration": 3,
    "start_time": "2022-03-29T15:17:15.955Z"
   },
   {
    "duration": 1578,
    "start_time": "2022-03-29T15:17:15.960Z"
   },
   {
    "duration": 41,
    "start_time": "2022-03-29T15:17:17.540Z"
   },
   {
    "duration": 130,
    "start_time": "2022-03-29T15:17:17.582Z"
   },
   {
    "duration": 211,
    "start_time": "2022-03-29T15:17:17.714Z"
   },
   {
    "duration": 18,
    "start_time": "2022-03-29T15:17:17.927Z"
   },
   {
    "duration": 63,
    "start_time": "2022-03-29T15:17:17.946Z"
   },
   {
    "duration": 8,
    "start_time": "2022-03-29T15:17:18.010Z"
   },
   {
    "duration": 4,
    "start_time": "2022-03-29T15:17:18.020Z"
   },
   {
    "duration": 67,
    "start_time": "2022-03-29T15:17:18.025Z"
   },
   {
    "duration": 2135,
    "start_time": "2022-03-29T15:17:18.095Z"
   },
   {
    "duration": 555,
    "start_time": "2022-03-29T15:17:20.231Z"
   },
   {
    "duration": 10,
    "start_time": "2022-03-29T15:17:20.788Z"
   },
   {
    "duration": 384,
    "start_time": "2022-03-29T15:17:20.800Z"
   },
   {
    "duration": 23,
    "start_time": "2022-03-29T15:17:21.186Z"
   },
   {
    "duration": 2693,
    "start_time": "2022-03-29T15:17:21.211Z"
   },
   {
    "duration": 0,
    "start_time": "2022-03-29T15:17:23.905Z"
   },
   {
    "duration": 0,
    "start_time": "2022-03-29T15:17:23.907Z"
   },
   {
    "duration": 0,
    "start_time": "2022-03-29T15:17:23.908Z"
   },
   {
    "duration": 0,
    "start_time": "2022-03-29T15:17:23.909Z"
   },
   {
    "duration": 0,
    "start_time": "2022-03-29T15:17:23.910Z"
   },
   {
    "duration": 9,
    "start_time": "2022-03-29T15:19:11.010Z"
   },
   {
    "duration": 14,
    "start_time": "2022-03-29T15:19:24.874Z"
   },
   {
    "duration": 122,
    "start_time": "2022-03-29T15:27:53.775Z"
   },
   {
    "duration": 4,
    "start_time": "2022-03-29T15:50:57.806Z"
   },
   {
    "duration": 313,
    "start_time": "2022-03-29T15:51:00.540Z"
   },
   {
    "duration": 5,
    "start_time": "2022-03-29T15:51:03.910Z"
   },
   {
    "duration": 590,
    "start_time": "2022-03-29T15:51:03.916Z"
   },
   {
    "duration": 37,
    "start_time": "2022-03-29T15:51:04.508Z"
   },
   {
    "duration": 4,
    "start_time": "2022-03-29T15:51:04.547Z"
   },
   {
    "duration": 231,
    "start_time": "2022-03-29T15:51:04.553Z"
   },
   {
    "duration": 18,
    "start_time": "2022-03-29T15:51:04.786Z"
   },
   {
    "duration": 42,
    "start_time": "2022-03-29T15:51:04.806Z"
   },
   {
    "duration": 10,
    "start_time": "2022-03-29T15:51:04.881Z"
   },
   {
    "duration": 6,
    "start_time": "2022-03-29T15:51:04.892Z"
   },
   {
    "duration": 33,
    "start_time": "2022-03-29T15:51:04.899Z"
   },
   {
    "duration": 2142,
    "start_time": "2022-03-29T15:51:04.933Z"
   },
   {
    "duration": 540,
    "start_time": "2022-03-29T15:51:07.080Z"
   },
   {
    "duration": 8,
    "start_time": "2022-03-29T15:51:07.623Z"
   },
   {
    "duration": 440,
    "start_time": "2022-03-29T15:51:07.632Z"
   },
   {
    "duration": 18,
    "start_time": "2022-03-29T15:51:08.073Z"
   },
   {
    "duration": 15,
    "start_time": "2022-03-29T15:51:08.093Z"
   },
   {
    "duration": 13,
    "start_time": "2022-03-29T15:51:08.110Z"
   },
   {
    "duration": 7,
    "start_time": "2022-03-29T15:51:08.125Z"
   },
   {
    "duration": 74,
    "start_time": "2022-03-29T15:51:08.134Z"
   },
   {
    "duration": 0,
    "start_time": "2022-03-29T15:51:08.209Z"
   },
   {
    "duration": 0,
    "start_time": "2022-03-29T15:51:08.211Z"
   },
   {
    "duration": 0,
    "start_time": "2022-03-29T15:51:08.211Z"
   },
   {
    "duration": 27,
    "start_time": "2022-03-29T15:52:56.900Z"
   },
   {
    "duration": 10,
    "start_time": "2022-03-29T15:56:38.641Z"
   },
   {
    "duration": 12,
    "start_time": "2022-03-29T15:56:49.201Z"
   },
   {
    "duration": 4,
    "start_time": "2022-03-29T15:56:56.670Z"
   },
   {
    "duration": 594,
    "start_time": "2022-03-29T15:56:56.676Z"
   },
   {
    "duration": 36,
    "start_time": "2022-03-29T15:56:57.272Z"
   },
   {
    "duration": 10,
    "start_time": "2022-03-29T15:56:57.310Z"
   },
   {
    "duration": 0,
    "start_time": "2022-03-29T15:56:57.322Z"
   },
   {
    "duration": 0,
    "start_time": "2022-03-29T15:56:57.323Z"
   },
   {
    "duration": 0,
    "start_time": "2022-03-29T15:56:57.325Z"
   },
   {
    "duration": 0,
    "start_time": "2022-03-29T15:56:57.326Z"
   },
   {
    "duration": 0,
    "start_time": "2022-03-29T15:56:57.327Z"
   },
   {
    "duration": 0,
    "start_time": "2022-03-29T15:56:57.329Z"
   },
   {
    "duration": 0,
    "start_time": "2022-03-29T15:56:57.329Z"
   },
   {
    "duration": 0,
    "start_time": "2022-03-29T15:56:57.330Z"
   },
   {
    "duration": 0,
    "start_time": "2022-03-29T15:56:57.331Z"
   },
   {
    "duration": 0,
    "start_time": "2022-03-29T15:56:57.333Z"
   },
   {
    "duration": 0,
    "start_time": "2022-03-29T15:56:57.333Z"
   },
   {
    "duration": 1,
    "start_time": "2022-03-29T15:56:57.334Z"
   },
   {
    "duration": 0,
    "start_time": "2022-03-29T15:56:57.335Z"
   },
   {
    "duration": 0,
    "start_time": "2022-03-29T15:56:57.336Z"
   },
   {
    "duration": 0,
    "start_time": "2022-03-29T15:56:57.337Z"
   },
   {
    "duration": 0,
    "start_time": "2022-03-29T15:56:57.339Z"
   },
   {
    "duration": 0,
    "start_time": "2022-03-29T15:56:57.340Z"
   },
   {
    "duration": 0,
    "start_time": "2022-03-29T15:56:57.380Z"
   },
   {
    "duration": 12,
    "start_time": "2022-03-29T16:01:17.091Z"
   },
   {
    "duration": 16,
    "start_time": "2022-03-29T16:01:26.107Z"
   },
   {
    "duration": 4,
    "start_time": "2022-03-29T16:01:47.105Z"
   },
   {
    "duration": 563,
    "start_time": "2022-03-29T16:01:47.111Z"
   },
   {
    "duration": 39,
    "start_time": "2022-03-29T16:01:47.676Z"
   },
   {
    "duration": 16,
    "start_time": "2022-03-29T16:01:47.717Z"
   },
   {
    "duration": 232,
    "start_time": "2022-03-29T16:01:47.735Z"
   },
   {
    "duration": 30,
    "start_time": "2022-03-29T16:01:47.969Z"
   },
   {
    "duration": 41,
    "start_time": "2022-03-29T16:01:48.001Z"
   },
   {
    "duration": 12,
    "start_time": "2022-03-29T16:01:48.044Z"
   },
   {
    "duration": 0,
    "start_time": "2022-03-29T16:01:48.081Z"
   },
   {
    "duration": 0,
    "start_time": "2022-03-29T16:01:48.082Z"
   },
   {
    "duration": 0,
    "start_time": "2022-03-29T16:01:48.083Z"
   },
   {
    "duration": 0,
    "start_time": "2022-03-29T16:01:48.084Z"
   },
   {
    "duration": 0,
    "start_time": "2022-03-29T16:01:48.085Z"
   },
   {
    "duration": 0,
    "start_time": "2022-03-29T16:01:48.086Z"
   },
   {
    "duration": 0,
    "start_time": "2022-03-29T16:01:48.087Z"
   },
   {
    "duration": 0,
    "start_time": "2022-03-29T16:01:48.088Z"
   },
   {
    "duration": 0,
    "start_time": "2022-03-29T16:01:48.088Z"
   },
   {
    "duration": 0,
    "start_time": "2022-03-29T16:01:48.089Z"
   },
   {
    "duration": 0,
    "start_time": "2022-03-29T16:01:48.090Z"
   },
   {
    "duration": 0,
    "start_time": "2022-03-29T16:01:48.091Z"
   },
   {
    "duration": 0,
    "start_time": "2022-03-29T16:01:48.092Z"
   },
   {
    "duration": 0,
    "start_time": "2022-03-29T16:01:48.093Z"
   },
   {
    "duration": 51,
    "start_time": "2022-03-29T16:02:06.539Z"
   },
   {
    "duration": 3,
    "start_time": "2022-03-29T16:02:12.757Z"
   },
   {
    "duration": 602,
    "start_time": "2022-03-29T16:02:12.762Z"
   },
   {
    "duration": 44,
    "start_time": "2022-03-29T16:02:13.366Z"
   },
   {
    "duration": 15,
    "start_time": "2022-03-29T16:02:13.412Z"
   },
   {
    "duration": 226,
    "start_time": "2022-03-29T16:02:13.429Z"
   },
   {
    "duration": 31,
    "start_time": "2022-03-29T16:02:13.657Z"
   },
   {
    "duration": 41,
    "start_time": "2022-03-29T16:02:13.689Z"
   },
   {
    "duration": 18,
    "start_time": "2022-03-29T16:02:13.731Z"
   },
   {
    "duration": 0,
    "start_time": "2022-03-29T16:02:13.752Z"
   },
   {
    "duration": 0,
    "start_time": "2022-03-29T16:02:13.782Z"
   },
   {
    "duration": 0,
    "start_time": "2022-03-29T16:02:13.783Z"
   },
   {
    "duration": 0,
    "start_time": "2022-03-29T16:02:13.784Z"
   },
   {
    "duration": 0,
    "start_time": "2022-03-29T16:02:13.786Z"
   },
   {
    "duration": 0,
    "start_time": "2022-03-29T16:02:13.787Z"
   },
   {
    "duration": 0,
    "start_time": "2022-03-29T16:02:13.788Z"
   },
   {
    "duration": 0,
    "start_time": "2022-03-29T16:02:13.789Z"
   },
   {
    "duration": 0,
    "start_time": "2022-03-29T16:02:13.790Z"
   },
   {
    "duration": 0,
    "start_time": "2022-03-29T16:02:13.791Z"
   },
   {
    "duration": 0,
    "start_time": "2022-03-29T16:02:13.792Z"
   },
   {
    "duration": 0,
    "start_time": "2022-03-29T16:02:13.793Z"
   },
   {
    "duration": 0,
    "start_time": "2022-03-29T16:02:13.794Z"
   },
   {
    "duration": 0,
    "start_time": "2022-03-29T16:02:13.795Z"
   },
   {
    "duration": 47,
    "start_time": "2022-03-29T16:02:22.609Z"
   },
   {
    "duration": 8,
    "start_time": "2022-03-29T16:03:46.966Z"
   },
   {
    "duration": 15,
    "start_time": "2022-03-29T16:03:58.222Z"
   },
   {
    "duration": 1407,
    "start_time": "2022-03-29T16:04:31.858Z"
   },
   {
    "duration": 612,
    "start_time": "2022-03-29T16:04:33.267Z"
   },
   {
    "duration": 39,
    "start_time": "2022-03-29T16:04:33.881Z"
   },
   {
    "duration": 25,
    "start_time": "2022-03-29T16:04:33.921Z"
   },
   {
    "duration": 359,
    "start_time": "2022-03-29T16:04:33.949Z"
   },
   {
    "duration": 32,
    "start_time": "2022-03-29T16:04:34.310Z"
   },
   {
    "duration": 104,
    "start_time": "2022-03-29T16:04:34.344Z"
   },
   {
    "duration": 204,
    "start_time": "2022-03-29T16:04:34.450Z"
   },
   {
    "duration": 0,
    "start_time": "2022-03-29T16:04:34.657Z"
   },
   {
    "duration": 0,
    "start_time": "2022-03-29T16:04:34.659Z"
   },
   {
    "duration": 0,
    "start_time": "2022-03-29T16:04:34.661Z"
   },
   {
    "duration": 0,
    "start_time": "2022-03-29T16:04:34.663Z"
   },
   {
    "duration": 0,
    "start_time": "2022-03-29T16:04:34.681Z"
   },
   {
    "duration": 0,
    "start_time": "2022-03-29T16:04:34.683Z"
   },
   {
    "duration": 0,
    "start_time": "2022-03-29T16:04:34.685Z"
   },
   {
    "duration": 0,
    "start_time": "2022-03-29T16:04:34.687Z"
   },
   {
    "duration": 0,
    "start_time": "2022-03-29T16:04:34.688Z"
   },
   {
    "duration": 0,
    "start_time": "2022-03-29T16:04:34.690Z"
   },
   {
    "duration": 0,
    "start_time": "2022-03-29T16:04:34.692Z"
   },
   {
    "duration": 0,
    "start_time": "2022-03-29T16:04:34.694Z"
   },
   {
    "duration": 0,
    "start_time": "2022-03-29T16:04:34.695Z"
   },
   {
    "duration": 0,
    "start_time": "2022-03-29T16:04:34.697Z"
   },
   {
    "duration": 1371,
    "start_time": "2022-03-29T16:06:24.304Z"
   },
   {
    "duration": 620,
    "start_time": "2022-03-29T16:06:25.677Z"
   },
   {
    "duration": 36,
    "start_time": "2022-03-29T16:06:26.299Z"
   },
   {
    "duration": 223,
    "start_time": "2022-03-29T16:06:26.337Z"
   },
   {
    "duration": 33,
    "start_time": "2022-03-29T16:06:26.561Z"
   },
   {
    "duration": 43,
    "start_time": "2022-03-29T16:06:26.596Z"
   },
   {
    "duration": 40,
    "start_time": "2022-03-29T16:06:26.640Z"
   },
   {
    "duration": 4,
    "start_time": "2022-03-29T16:06:26.682Z"
   },
   {
    "duration": 39,
    "start_time": "2022-03-29T16:06:26.687Z"
   },
   {
    "duration": 2352,
    "start_time": "2022-03-29T16:06:26.729Z"
   },
   {
    "duration": 839,
    "start_time": "2022-03-29T16:06:29.082Z"
   },
   {
    "duration": 8,
    "start_time": "2022-03-29T16:06:29.922Z"
   },
   {
    "duration": 326,
    "start_time": "2022-03-29T16:06:29.931Z"
   },
   {
    "duration": 31,
    "start_time": "2022-03-29T16:06:30.259Z"
   },
   {
    "duration": 18,
    "start_time": "2022-03-29T16:06:30.291Z"
   },
   {
    "duration": 16,
    "start_time": "2022-03-29T16:06:30.311Z"
   },
   {
    "duration": 9,
    "start_time": "2022-03-29T16:06:30.329Z"
   },
   {
    "duration": 160,
    "start_time": "2022-03-29T16:06:30.340Z"
   },
   {
    "duration": 0,
    "start_time": "2022-03-29T16:06:30.503Z"
   },
   {
    "duration": 0,
    "start_time": "2022-03-29T16:06:30.506Z"
   },
   {
    "duration": 0,
    "start_time": "2022-03-29T16:06:30.507Z"
   },
   {
    "duration": 10,
    "start_time": "2022-03-29T16:06:48.472Z"
   },
   {
    "duration": 3,
    "start_time": "2022-03-29T16:07:10.861Z"
   },
   {
    "duration": 955,
    "start_time": "2022-03-29T16:07:10.867Z"
   },
   {
    "duration": 39,
    "start_time": "2022-03-29T16:07:11.825Z"
   },
   {
    "duration": 208,
    "start_time": "2022-03-29T16:07:11.866Z"
   },
   {
    "duration": 18,
    "start_time": "2022-03-29T16:07:12.081Z"
   },
   {
    "duration": 40,
    "start_time": "2022-03-29T16:07:12.101Z"
   },
   {
    "duration": 38,
    "start_time": "2022-03-29T16:07:12.143Z"
   },
   {
    "duration": 4,
    "start_time": "2022-03-29T16:07:12.183Z"
   },
   {
    "duration": 30,
    "start_time": "2022-03-29T16:07:12.189Z"
   },
   {
    "duration": 2194,
    "start_time": "2022-03-29T16:07:12.222Z"
   },
   {
    "duration": 530,
    "start_time": "2022-03-29T16:07:14.418Z"
   },
   {
    "duration": 7,
    "start_time": "2022-03-29T16:07:14.950Z"
   },
   {
    "duration": 422,
    "start_time": "2022-03-29T16:07:14.959Z"
   },
   {
    "duration": 20,
    "start_time": "2022-03-29T16:07:15.382Z"
   },
   {
    "duration": 16,
    "start_time": "2022-03-29T16:07:15.404Z"
   },
   {
    "duration": 21,
    "start_time": "2022-03-29T16:07:15.421Z"
   },
   {
    "duration": 10,
    "start_time": "2022-03-29T16:07:15.445Z"
   },
   {
    "duration": 25,
    "start_time": "2022-03-29T16:07:15.482Z"
   },
   {
    "duration": 41,
    "start_time": "2022-03-29T16:07:15.510Z"
   },
   {
    "duration": 0,
    "start_time": "2022-03-29T16:07:15.554Z"
   },
   {
    "duration": 0,
    "start_time": "2022-03-29T16:07:15.556Z"
   },
   {
    "duration": 0,
    "start_time": "2022-03-29T16:07:15.580Z"
   },
   {
    "duration": 3,
    "start_time": "2022-03-29T16:09:32.552Z"
   },
   {
    "duration": 588,
    "start_time": "2022-03-29T16:09:32.557Z"
   },
   {
    "duration": 44,
    "start_time": "2022-03-29T16:09:33.147Z"
   },
   {
    "duration": 217,
    "start_time": "2022-03-29T16:09:33.193Z"
   },
   {
    "duration": 19,
    "start_time": "2022-03-29T16:09:33.411Z"
   },
   {
    "duration": 60,
    "start_time": "2022-03-29T16:09:33.431Z"
   },
   {
    "duration": 8,
    "start_time": "2022-03-29T16:09:33.492Z"
   },
   {
    "duration": 10,
    "start_time": "2022-03-29T16:09:33.502Z"
   },
   {
    "duration": 47,
    "start_time": "2022-03-29T16:09:33.513Z"
   },
   {
    "duration": 1985,
    "start_time": "2022-03-29T16:09:33.562Z"
   },
   {
    "duration": 670,
    "start_time": "2022-03-29T16:09:35.548Z"
   },
   {
    "duration": 6,
    "start_time": "2022-03-29T16:09:36.220Z"
   },
   {
    "duration": 303,
    "start_time": "2022-03-29T16:09:36.228Z"
   },
   {
    "duration": 17,
    "start_time": "2022-03-29T16:09:36.532Z"
   },
   {
    "duration": 14,
    "start_time": "2022-03-29T16:09:36.551Z"
   },
   {
    "duration": 26,
    "start_time": "2022-03-29T16:09:36.566Z"
   },
   {
    "duration": 8,
    "start_time": "2022-03-29T16:09:36.593Z"
   },
   {
    "duration": 2284,
    "start_time": "2022-03-29T16:09:36.603Z"
   },
   {
    "duration": 3,
    "start_time": "2022-03-29T16:09:38.889Z"
   },
   {
    "duration": 93,
    "start_time": "2022-03-29T16:09:38.894Z"
   },
   {
    "duration": 18,
    "start_time": "2022-03-29T16:09:38.989Z"
   },
   {
    "duration": 3,
    "start_time": "2022-03-29T16:09:39.009Z"
   },
   {
    "duration": 5,
    "start_time": "2022-03-29T16:10:25.891Z"
   },
   {
    "duration": 607,
    "start_time": "2022-03-29T16:10:25.898Z"
   },
   {
    "duration": 35,
    "start_time": "2022-03-29T16:10:26.507Z"
   },
   {
    "duration": 205,
    "start_time": "2022-03-29T16:10:26.544Z"
   },
   {
    "duration": 41,
    "start_time": "2022-03-29T16:10:26.751Z"
   },
   {
    "duration": 44,
    "start_time": "2022-03-29T16:10:26.794Z"
   },
   {
    "duration": 42,
    "start_time": "2022-03-29T16:10:26.839Z"
   },
   {
    "duration": 4,
    "start_time": "2022-03-29T16:10:26.883Z"
   },
   {
    "duration": 66,
    "start_time": "2022-03-29T16:10:26.888Z"
   },
   {
    "duration": 2151,
    "start_time": "2022-03-29T16:10:26.956Z"
   },
   {
    "duration": 540,
    "start_time": "2022-03-29T16:10:29.109Z"
   },
   {
    "duration": 7,
    "start_time": "2022-03-29T16:10:29.650Z"
   },
   {
    "duration": 311,
    "start_time": "2022-03-29T16:10:29.658Z"
   },
   {
    "duration": 24,
    "start_time": "2022-03-29T16:10:29.970Z"
   },
   {
    "duration": 30,
    "start_time": "2022-03-29T16:10:29.996Z"
   },
   {
    "duration": 22,
    "start_time": "2022-03-29T16:10:30.029Z"
   },
   {
    "duration": 31,
    "start_time": "2022-03-29T16:10:30.054Z"
   },
   {
    "duration": 2299,
    "start_time": "2022-03-29T16:10:30.088Z"
   },
   {
    "duration": 43652,
    "start_time": "2022-03-29T16:10:32.389Z"
   },
   {
    "duration": 805078,
    "start_time": "2022-03-29T16:11:16.043Z"
   },
   {
    "duration": 15,
    "start_time": "2022-03-29T16:24:41.122Z"
   },
   {
    "duration": 13,
    "start_time": "2022-03-29T16:24:41.139Z"
   },
   {
    "duration": 5,
    "start_time": "2022-03-29T16:29:58.446Z"
   },
   {
    "duration": 603,
    "start_time": "2022-03-29T16:29:58.453Z"
   },
   {
    "duration": 147,
    "start_time": "2022-03-29T16:29:59.058Z"
   },
   {
    "duration": 216,
    "start_time": "2022-03-29T16:29:59.206Z"
   },
   {
    "duration": 20,
    "start_time": "2022-03-29T16:29:59.424Z"
   },
   {
    "duration": 62,
    "start_time": "2022-03-29T16:29:59.445Z"
   },
   {
    "duration": 8,
    "start_time": "2022-03-29T16:29:59.509Z"
   },
   {
    "duration": 3,
    "start_time": "2022-03-29T16:29:59.519Z"
   },
   {
    "duration": 58,
    "start_time": "2022-03-29T16:29:59.524Z"
   },
   {
    "duration": 3429,
    "start_time": "2022-03-29T16:29:59.584Z"
   },
   {
    "duration": 821,
    "start_time": "2022-03-29T16:30:03.016Z"
   },
   {
    "duration": 9,
    "start_time": "2022-03-29T16:30:03.839Z"
   },
   {
    "duration": 609,
    "start_time": "2022-03-29T16:30:03.849Z"
   },
   {
    "duration": 25,
    "start_time": "2022-03-29T16:30:04.460Z"
   },
   {
    "duration": 20,
    "start_time": "2022-03-29T16:30:04.487Z"
   },
   {
    "duration": 18,
    "start_time": "2022-03-29T16:30:04.509Z"
   },
   {
    "duration": 9,
    "start_time": "2022-03-29T16:30:04.529Z"
   },
   {
    "duration": 2442,
    "start_time": "2022-03-29T16:30:04.540Z"
   },
   {
    "duration": 11,
    "start_time": "2022-03-29T16:30:06.985Z"
   },
   {
    "duration": 22320,
    "start_time": "2022-03-29T16:30:07.082Z"
   },
   {
    "duration": 2322,
    "start_time": "2022-03-30T07:48:37.527Z"
   },
   {
    "duration": 763,
    "start_time": "2022-03-30T07:48:39.853Z"
   },
   {
    "duration": 73,
    "start_time": "2022-03-30T07:48:40.618Z"
   },
   {
    "duration": 389,
    "start_time": "2022-03-30T07:48:40.693Z"
   },
   {
    "duration": 33,
    "start_time": "2022-03-30T07:48:41.086Z"
   },
   {
    "duration": 117,
    "start_time": "2022-03-30T07:48:41.123Z"
   },
   {
    "duration": 17,
    "start_time": "2022-03-30T07:48:41.242Z"
   },
   {
    "duration": 22,
    "start_time": "2022-03-30T07:48:41.261Z"
   },
   {
    "duration": 44,
    "start_time": "2022-03-30T07:48:41.286Z"
   },
   {
    "duration": 5261,
    "start_time": "2022-03-30T07:48:41.332Z"
   },
   {
    "duration": 1454,
    "start_time": "2022-03-30T07:48:46.595Z"
   },
   {
    "duration": 13,
    "start_time": "2022-03-30T07:48:48.052Z"
   },
   {
    "duration": 1003,
    "start_time": "2022-03-30T07:48:48.083Z"
   },
   {
    "duration": 37,
    "start_time": "2022-03-30T07:48:49.091Z"
   },
   {
    "duration": 54,
    "start_time": "2022-03-30T07:48:49.131Z"
   },
   {
    "duration": 30,
    "start_time": "2022-03-30T07:48:49.188Z"
   },
   {
    "duration": 17,
    "start_time": "2022-03-30T07:48:49.222Z"
   },
   {
    "duration": 3243,
    "start_time": "2022-03-30T07:48:49.241Z"
   },
   {
    "duration": 96,
    "start_time": "2022-03-30T07:48:52.486Z"
   },
   {
    "duration": 28181,
    "start_time": "2022-03-30T07:48:52.585Z"
   },
   {
    "duration": 733734,
    "start_time": "2022-03-30T07:49:20.768Z"
   },
   {
    "duration": 338,
    "start_time": "2022-03-30T08:01:34.505Z"
   },
   {
    "duration": 2201,
    "start_time": "2022-03-30T08:20:40.336Z"
   },
   {
    "duration": 24,
    "start_time": "2022-03-30T08:21:00.438Z"
   },
   {
    "duration": 21,
    "start_time": "2022-03-30T08:21:20.981Z"
   },
   {
    "duration": 29,
    "start_time": "2022-03-30T08:21:52.220Z"
   },
   {
    "duration": 2190,
    "start_time": "2022-03-30T08:37:33.116Z"
   },
   {
    "duration": 838,
    "start_time": "2022-03-30T08:37:35.309Z"
   },
   {
    "duration": 72,
    "start_time": "2022-03-30T08:37:36.149Z"
   },
   {
    "duration": 376,
    "start_time": "2022-03-30T08:37:36.223Z"
   },
   {
    "duration": 33,
    "start_time": "2022-03-30T08:37:36.601Z"
   },
   {
    "duration": 106,
    "start_time": "2022-03-30T08:37:36.636Z"
   },
   {
    "duration": 32,
    "start_time": "2022-03-30T08:37:36.744Z"
   },
   {
    "duration": 16,
    "start_time": "2022-03-30T08:37:36.778Z"
   },
   {
    "duration": 63,
    "start_time": "2022-03-30T08:37:36.796Z"
   },
   {
    "duration": 4129,
    "start_time": "2022-03-30T08:37:36.862Z"
   },
   {
    "duration": 1064,
    "start_time": "2022-03-30T08:37:40.993Z"
   },
   {
    "duration": 19,
    "start_time": "2022-03-30T08:37:42.059Z"
   },
   {
    "duration": 574,
    "start_time": "2022-03-30T08:37:42.081Z"
   },
   {
    "duration": 39,
    "start_time": "2022-03-30T08:37:42.657Z"
   },
   {
    "duration": 25,
    "start_time": "2022-03-30T08:37:42.698Z"
   },
   {
    "duration": 11,
    "start_time": "2022-03-30T08:37:42.726Z"
   },
   {
    "duration": 2007,
    "start_time": "2022-03-30T08:37:42.739Z"
   },
   {
    "duration": 0,
    "start_time": "2022-03-30T08:37:44.748Z"
   },
   {
    "duration": 0,
    "start_time": "2022-03-30T08:37:44.750Z"
   },
   {
    "duration": 0,
    "start_time": "2022-03-30T08:37:44.752Z"
   },
   {
    "duration": 0,
    "start_time": "2022-03-30T08:37:44.753Z"
   },
   {
    "duration": 0,
    "start_time": "2022-03-30T08:37:44.755Z"
   },
   {
    "duration": 0,
    "start_time": "2022-03-30T08:37:44.757Z"
   },
   {
    "duration": 1841,
    "start_time": "2022-03-30T08:38:16.306Z"
   },
   {
    "duration": 802,
    "start_time": "2022-03-30T08:38:18.149Z"
   },
   {
    "duration": 70,
    "start_time": "2022-03-30T08:38:18.953Z"
   },
   {
    "duration": 390,
    "start_time": "2022-03-30T08:38:19.025Z"
   },
   {
    "duration": 56,
    "start_time": "2022-03-30T08:38:19.418Z"
   },
   {
    "duration": 104,
    "start_time": "2022-03-30T08:38:19.476Z"
   },
   {
    "duration": 23,
    "start_time": "2022-03-30T08:38:19.582Z"
   },
   {
    "duration": 6,
    "start_time": "2022-03-30T08:38:19.608Z"
   },
   {
    "duration": 71,
    "start_time": "2022-03-30T08:38:19.616Z"
   },
   {
    "duration": 4354,
    "start_time": "2022-03-30T08:38:19.689Z"
   },
   {
    "duration": 1059,
    "start_time": "2022-03-30T08:38:24.046Z"
   },
   {
    "duration": 11,
    "start_time": "2022-03-30T08:38:25.107Z"
   },
   {
    "duration": 611,
    "start_time": "2022-03-30T08:38:25.120Z"
   },
   {
    "duration": 44,
    "start_time": "2022-03-30T08:38:25.735Z"
   },
   {
    "duration": 25,
    "start_time": "2022-03-30T08:38:25.781Z"
   },
   {
    "duration": 11,
    "start_time": "2022-03-30T08:38:25.808Z"
   },
   {
    "duration": 1979,
    "start_time": "2022-03-30T08:38:25.822Z"
   },
   {
    "duration": 0,
    "start_time": "2022-03-30T08:38:27.804Z"
   },
   {
    "duration": 0,
    "start_time": "2022-03-30T08:38:27.806Z"
   },
   {
    "duration": 0,
    "start_time": "2022-03-30T08:38:27.807Z"
   },
   {
    "duration": 0,
    "start_time": "2022-03-30T08:38:27.809Z"
   },
   {
    "duration": 0,
    "start_time": "2022-03-30T08:38:27.811Z"
   },
   {
    "duration": 0,
    "start_time": "2022-03-30T08:38:27.812Z"
   },
   {
    "duration": 6,
    "start_time": "2022-03-30T08:39:44.776Z"
   },
   {
    "duration": 844,
    "start_time": "2022-03-30T08:39:44.785Z"
   },
   {
    "duration": 74,
    "start_time": "2022-03-30T08:39:45.632Z"
   },
   {
    "duration": 382,
    "start_time": "2022-03-30T08:39:45.709Z"
   },
   {
    "duration": 32,
    "start_time": "2022-03-30T08:39:46.093Z"
   },
   {
    "duration": 163,
    "start_time": "2022-03-30T08:39:46.127Z"
   },
   {
    "duration": 14,
    "start_time": "2022-03-30T08:39:46.293Z"
   },
   {
    "duration": 7,
    "start_time": "2022-03-30T08:39:46.310Z"
   },
   {
    "duration": 73,
    "start_time": "2022-03-30T08:39:46.321Z"
   },
   {
    "duration": 4621,
    "start_time": "2022-03-30T08:39:46.397Z"
   },
   {
    "duration": 1191,
    "start_time": "2022-03-30T08:39:51.020Z"
   },
   {
    "duration": 12,
    "start_time": "2022-03-30T08:39:52.214Z"
   },
   {
    "duration": 1117,
    "start_time": "2022-03-30T08:39:52.229Z"
   },
   {
    "duration": 49,
    "start_time": "2022-03-30T08:39:53.349Z"
   },
   {
    "duration": 35,
    "start_time": "2022-03-30T08:39:53.401Z"
   },
   {
    "duration": 44,
    "start_time": "2022-03-30T08:39:53.439Z"
   },
   {
    "duration": 24,
    "start_time": "2022-03-30T08:39:53.486Z"
   },
   {
    "duration": 39,
    "start_time": "2022-03-30T08:39:53.512Z"
   },
   {
    "duration": 11,
    "start_time": "2022-03-30T08:39:53.553Z"
   },
   {
    "duration": 4201,
    "start_time": "2022-03-30T08:39:53.574Z"
   },
   {
    "duration": 720,
    "start_time": "2022-03-30T08:39:57.779Z"
   },
   {
    "duration": 781,
    "start_time": "2022-03-30T08:39:58.502Z"
   },
   {
    "duration": 26,
    "start_time": "2022-03-30T08:39:59.285Z"
   },
   {
    "duration": 36,
    "start_time": "2022-03-30T08:41:18.803Z"
   },
   {
    "duration": 41,
    "start_time": "2022-03-30T08:42:48.633Z"
   },
   {
    "duration": 1862,
    "start_time": "2022-03-30T08:43:35.713Z"
   },
   {
    "duration": 5,
    "start_time": "2022-03-30T08:44:57.770Z"
   },
   {
    "duration": 848,
    "start_time": "2022-03-30T08:44:57.778Z"
   },
   {
    "duration": 74,
    "start_time": "2022-03-30T08:44:58.629Z"
   },
   {
    "duration": 377,
    "start_time": "2022-03-30T08:44:58.706Z"
   },
   {
    "duration": 29,
    "start_time": "2022-03-30T08:44:59.085Z"
   },
   {
    "duration": 104,
    "start_time": "2022-03-30T08:44:59.116Z"
   },
   {
    "duration": 14,
    "start_time": "2022-03-30T08:44:59.223Z"
   },
   {
    "duration": 34,
    "start_time": "2022-03-30T08:44:59.240Z"
   },
   {
    "duration": 40,
    "start_time": "2022-03-30T08:44:59.278Z"
   },
   {
    "duration": 4188,
    "start_time": "2022-03-30T08:44:59.320Z"
   },
   {
    "duration": 1317,
    "start_time": "2022-03-30T08:45:03.510Z"
   },
   {
    "duration": 11,
    "start_time": "2022-03-30T08:45:04.830Z"
   },
   {
    "duration": 618,
    "start_time": "2022-03-30T08:45:04.844Z"
   },
   {
    "duration": 27,
    "start_time": "2022-03-30T08:45:05.464Z"
   },
   {
    "duration": 24,
    "start_time": "2022-03-30T08:45:05.493Z"
   },
   {
    "duration": 21,
    "start_time": "2022-03-30T08:45:05.519Z"
   },
   {
    "duration": 38,
    "start_time": "2022-03-30T08:45:05.543Z"
   },
   {
    "duration": 26,
    "start_time": "2022-03-30T08:45:05.584Z"
   },
   {
    "duration": 13,
    "start_time": "2022-03-30T08:45:05.612Z"
   },
   {
    "duration": 2455,
    "start_time": "2022-03-30T08:45:05.628Z"
   },
   {
    "duration": 102,
    "start_time": "2022-03-30T08:45:08.086Z"
   },
   {
    "duration": 0,
    "start_time": "2022-03-30T08:45:08.190Z"
   },
   {
    "duration": 0,
    "start_time": "2022-03-30T08:45:08.191Z"
   },
   {
    "duration": 6,
    "start_time": "2022-03-30T08:45:49.508Z"
   },
   {
    "duration": 826,
    "start_time": "2022-03-30T08:45:49.517Z"
   },
   {
    "duration": 76,
    "start_time": "2022-03-30T08:45:50.346Z"
   },
   {
    "duration": 407,
    "start_time": "2022-03-30T08:45:50.425Z"
   },
   {
    "duration": 62,
    "start_time": "2022-03-30T08:45:50.836Z"
   },
   {
    "duration": 100,
    "start_time": "2022-03-30T08:45:50.900Z"
   },
   {
    "duration": 17,
    "start_time": "2022-03-30T08:45:51.003Z"
   },
   {
    "duration": 9,
    "start_time": "2022-03-30T08:45:51.023Z"
   },
   {
    "duration": 75,
    "start_time": "2022-03-30T08:45:51.034Z"
   },
   {
    "duration": 4447,
    "start_time": "2022-03-30T08:45:51.111Z"
   },
   {
    "duration": 1095,
    "start_time": "2022-03-30T08:45:55.560Z"
   },
   {
    "duration": 21,
    "start_time": "2022-03-30T08:45:56.658Z"
   },
   {
    "duration": 609,
    "start_time": "2022-03-30T08:45:56.684Z"
   },
   {
    "duration": 21,
    "start_time": "2022-03-30T08:45:57.296Z"
   },
   {
    "duration": 54,
    "start_time": "2022-03-30T08:45:57.320Z"
   },
   {
    "duration": 24,
    "start_time": "2022-03-30T08:45:57.376Z"
   },
   {
    "duration": 9,
    "start_time": "2022-03-30T08:45:57.403Z"
   },
   {
    "duration": 31,
    "start_time": "2022-03-30T08:45:57.414Z"
   },
   {
    "duration": 13,
    "start_time": "2022-03-30T08:45:57.475Z"
   },
   {
    "duration": 1794,
    "start_time": "2022-03-30T08:45:57.491Z"
   },
   {
    "duration": 779,
    "start_time": "2022-03-30T08:45:59.288Z"
   },
   {
    "duration": 18,
    "start_time": "2022-03-30T08:46:00.070Z"
   },
   {
    "duration": 0,
    "start_time": "2022-03-30T08:46:00.090Z"
   },
   {
    "duration": 5,
    "start_time": "2022-03-30T08:46:37.312Z"
   },
   {
    "duration": 778,
    "start_time": "2022-03-30T08:46:37.320Z"
   },
   {
    "duration": 80,
    "start_time": "2022-03-30T08:46:38.101Z"
   },
   {
    "duration": 375,
    "start_time": "2022-03-30T08:46:38.183Z"
   },
   {
    "duration": 38,
    "start_time": "2022-03-30T08:46:38.561Z"
   },
   {
    "duration": 111,
    "start_time": "2022-03-30T08:46:38.601Z"
   },
   {
    "duration": 14,
    "start_time": "2022-03-30T08:46:38.715Z"
   },
   {
    "duration": 8,
    "start_time": "2022-03-30T08:46:38.731Z"
   },
   {
    "duration": 57,
    "start_time": "2022-03-30T08:46:38.775Z"
   },
   {
    "duration": 6346,
    "start_time": "2022-03-30T08:46:38.834Z"
   },
   {
    "duration": 1072,
    "start_time": "2022-03-30T08:46:45.183Z"
   },
   {
    "duration": 21,
    "start_time": "2022-03-30T08:46:46.258Z"
   },
   {
    "duration": 737,
    "start_time": "2022-03-30T08:46:46.283Z"
   },
   {
    "duration": 21,
    "start_time": "2022-03-30T08:46:47.023Z"
   },
   {
    "duration": 51,
    "start_time": "2022-03-30T08:46:47.047Z"
   },
   {
    "duration": 24,
    "start_time": "2022-03-30T08:46:47.101Z"
   },
   {
    "duration": 9,
    "start_time": "2022-03-30T08:46:47.127Z"
   },
   {
    "duration": 48,
    "start_time": "2022-03-30T08:46:47.139Z"
   },
   {
    "duration": 11,
    "start_time": "2022-03-30T08:46:47.189Z"
   },
   {
    "duration": 2172,
    "start_time": "2022-03-30T08:46:47.203Z"
   },
   {
    "duration": 1035,
    "start_time": "2022-03-30T08:46:49.379Z"
   },
   {
    "duration": 1233,
    "start_time": "2022-03-30T08:46:50.417Z"
   },
   {
    "duration": 125,
    "start_time": "2022-03-30T08:46:51.654Z"
   },
   {
    "duration": 0,
    "start_time": "2022-03-30T08:46:51.781Z"
   },
   {
    "duration": 25,
    "start_time": "2022-03-30T08:48:13.937Z"
   },
   {
    "duration": 14,
    "start_time": "2022-03-30T08:56:16.565Z"
   },
   {
    "duration": 22,
    "start_time": "2022-03-30T08:57:15.494Z"
   },
   {
    "duration": 22,
    "start_time": "2022-03-30T08:57:35.045Z"
   },
   {
    "duration": 21,
    "start_time": "2022-03-30T08:57:38.054Z"
   },
   {
    "duration": 6,
    "start_time": "2022-03-30T08:58:16.860Z"
   },
   {
    "duration": 817,
    "start_time": "2022-03-30T08:58:16.869Z"
   },
   {
    "duration": 67,
    "start_time": "2022-03-30T08:58:17.688Z"
   },
   {
    "duration": 514,
    "start_time": "2022-03-30T08:58:17.773Z"
   },
   {
    "duration": 42,
    "start_time": "2022-03-30T08:58:18.291Z"
   },
   {
    "duration": 106,
    "start_time": "2022-03-30T08:58:18.336Z"
   },
   {
    "duration": 35,
    "start_time": "2022-03-30T08:58:18.445Z"
   },
   {
    "duration": 6,
    "start_time": "2022-03-30T08:58:18.482Z"
   },
   {
    "duration": 44,
    "start_time": "2022-03-30T08:58:18.490Z"
   },
   {
    "duration": 5725,
    "start_time": "2022-03-30T08:58:18.536Z"
   },
   {
    "duration": 1815,
    "start_time": "2022-03-30T08:58:24.264Z"
   },
   {
    "duration": 11,
    "start_time": "2022-03-30T08:58:26.081Z"
   },
   {
    "duration": 635,
    "start_time": "2022-03-30T08:58:26.094Z"
   },
   {
    "duration": 21,
    "start_time": "2022-03-30T08:58:26.733Z"
   },
   {
    "duration": 37,
    "start_time": "2022-03-30T08:58:26.757Z"
   },
   {
    "duration": 22,
    "start_time": "2022-03-30T08:58:26.797Z"
   },
   {
    "duration": 9,
    "start_time": "2022-03-30T08:58:26.822Z"
   },
   {
    "duration": 56,
    "start_time": "2022-03-30T08:58:26.834Z"
   },
   {
    "duration": 10,
    "start_time": "2022-03-30T08:58:26.892Z"
   },
   {
    "duration": 2971,
    "start_time": "2022-03-30T08:58:26.905Z"
   },
   {
    "duration": 793,
    "start_time": "2022-03-30T08:58:29.879Z"
   },
   {
    "duration": 887,
    "start_time": "2022-03-30T08:58:30.674Z"
   },
   {
    "duration": 32,
    "start_time": "2022-03-30T08:58:31.563Z"
   },
   {
    "duration": 0,
    "start_time": "2022-03-30T08:58:31.598Z"
   },
   {
    "duration": 16,
    "start_time": "2022-03-30T09:01:14.736Z"
   },
   {
    "duration": 25,
    "start_time": "2022-03-30T09:02:18.096Z"
   },
   {
    "duration": 2042,
    "start_time": "2022-03-30T22:07:37.724Z"
   },
   {
    "duration": 927,
    "start_time": "2022-03-30T22:07:39.769Z"
   },
   {
    "duration": 64,
    "start_time": "2022-03-30T22:07:40.698Z"
   },
   {
    "duration": 405,
    "start_time": "2022-03-30T22:07:40.764Z"
   },
   {
    "duration": 41,
    "start_time": "2022-03-30T22:07:41.172Z"
   },
   {
    "duration": 116,
    "start_time": "2022-03-30T22:07:41.216Z"
   },
   {
    "duration": 18,
    "start_time": "2022-03-30T22:07:41.335Z"
   },
   {
    "duration": 29,
    "start_time": "2022-03-30T22:07:41.356Z"
   },
   {
    "duration": 52,
    "start_time": "2022-03-30T22:07:41.388Z"
   },
   {
    "duration": 4090,
    "start_time": "2022-03-30T22:07:41.442Z"
   },
   {
    "duration": 1041,
    "start_time": "2022-03-30T22:07:45.535Z"
   },
   {
    "duration": 12,
    "start_time": "2022-03-30T22:07:46.578Z"
   },
   {
    "duration": 620,
    "start_time": "2022-03-30T22:07:46.592Z"
   },
   {
    "duration": 36,
    "start_time": "2022-03-30T22:07:47.216Z"
   },
   {
    "duration": 47,
    "start_time": "2022-03-30T22:07:47.254Z"
   },
   {
    "duration": 11,
    "start_time": "2022-03-30T22:07:47.304Z"
   },
   {
    "duration": 23,
    "start_time": "2022-03-30T22:07:47.317Z"
   },
   {
    "duration": 13,
    "start_time": "2022-03-30T22:07:47.343Z"
   },
   {
    "duration": 1800,
    "start_time": "2022-03-30T22:11:12.284Z"
   },
   {
    "duration": 5,
    "start_time": "2022-03-30T22:12:48.056Z"
   },
   {
    "duration": 852,
    "start_time": "2022-03-30T22:12:48.064Z"
   },
   {
    "duration": 77,
    "start_time": "2022-03-30T22:12:48.918Z"
   },
   {
    "duration": 395,
    "start_time": "2022-03-30T22:12:48.997Z"
   },
   {
    "duration": 30,
    "start_time": "2022-03-30T22:12:49.394Z"
   },
   {
    "duration": 108,
    "start_time": "2022-03-30T22:12:49.426Z"
   },
   {
    "duration": 12,
    "start_time": "2022-03-30T22:12:49.537Z"
   },
   {
    "duration": 32,
    "start_time": "2022-03-30T22:12:49.551Z"
   },
   {
    "duration": 49,
    "start_time": "2022-03-30T22:12:49.588Z"
   },
   {
    "duration": 4045,
    "start_time": "2022-03-30T22:12:49.639Z"
   },
   {
    "duration": 1049,
    "start_time": "2022-03-30T22:12:53.687Z"
   },
   {
    "duration": 14,
    "start_time": "2022-03-30T22:12:54.738Z"
   },
   {
    "duration": 747,
    "start_time": "2022-03-30T22:12:54.754Z"
   },
   {
    "duration": 33,
    "start_time": "2022-03-30T22:12:55.504Z"
   },
   {
    "duration": 50,
    "start_time": "2022-03-30T22:12:55.539Z"
   },
   {
    "duration": 11,
    "start_time": "2022-03-30T22:12:55.592Z"
   },
   {
    "duration": 36,
    "start_time": "2022-03-30T22:12:55.605Z"
   },
   {
    "duration": 16,
    "start_time": "2022-03-30T22:12:55.644Z"
   },
   {
    "duration": 1877,
    "start_time": "2022-03-30T22:13:05.910Z"
   },
   {
    "duration": 1923,
    "start_time": "2022-03-30T22:13:28.006Z"
   },
   {
    "duration": 843,
    "start_time": "2022-03-30T22:13:29.932Z"
   },
   {
    "duration": 73,
    "start_time": "2022-03-30T22:13:30.777Z"
   },
   {
    "duration": 401,
    "start_time": "2022-03-30T22:13:30.852Z"
   },
   {
    "duration": 48,
    "start_time": "2022-03-30T22:13:31.256Z"
   },
   {
    "duration": 106,
    "start_time": "2022-03-30T22:13:31.306Z"
   },
   {
    "duration": 17,
    "start_time": "2022-03-30T22:13:31.414Z"
   },
   {
    "duration": 21,
    "start_time": "2022-03-30T22:13:31.433Z"
   },
   {
    "duration": 65,
    "start_time": "2022-03-30T22:13:31.457Z"
   },
   {
    "duration": 4145,
    "start_time": "2022-03-30T22:13:31.525Z"
   },
   {
    "duration": 1055,
    "start_time": "2022-03-30T22:13:35.672Z"
   },
   {
    "duration": 11,
    "start_time": "2022-03-30T22:13:36.730Z"
   },
   {
    "duration": 714,
    "start_time": "2022-03-30T22:13:36.744Z"
   },
   {
    "duration": 45,
    "start_time": "2022-03-30T22:13:37.461Z"
   },
   {
    "duration": 24,
    "start_time": "2022-03-30T22:13:37.509Z"
   },
   {
    "duration": 11,
    "start_time": "2022-03-30T22:13:37.535Z"
   },
   {
    "duration": 36,
    "start_time": "2022-03-30T22:13:37.548Z"
   },
   {
    "duration": 12,
    "start_time": "2022-03-30T22:13:37.586Z"
   },
   {
    "duration": 2084,
    "start_time": "2022-03-30T22:13:37.600Z"
   },
   {
    "duration": 836,
    "start_time": "2022-03-30T22:13:39.686Z"
   },
   {
    "duration": 926,
    "start_time": "2022-03-30T22:13:40.524Z"
   },
   {
    "duration": 196,
    "start_time": "2022-03-30T22:13:41.452Z"
   },
   {
    "duration": 2074,
    "start_time": "2022-03-30T22:15:36.425Z"
   },
   {
    "duration": 834,
    "start_time": "2022-03-30T22:15:38.501Z"
   },
   {
    "duration": 76,
    "start_time": "2022-03-30T22:15:39.337Z"
   },
   {
    "duration": 391,
    "start_time": "2022-03-30T22:15:39.416Z"
   },
   {
    "duration": 31,
    "start_time": "2022-03-30T22:15:39.809Z"
   },
   {
    "duration": 108,
    "start_time": "2022-03-30T22:15:39.842Z"
   },
   {
    "duration": 33,
    "start_time": "2022-03-30T22:15:39.952Z"
   },
   {
    "duration": 9,
    "start_time": "2022-03-30T22:15:39.987Z"
   },
   {
    "duration": 87,
    "start_time": "2022-03-30T22:15:39.998Z"
   },
   {
    "duration": 4101,
    "start_time": "2022-03-30T22:15:40.090Z"
   },
   {
    "duration": 1130,
    "start_time": "2022-03-30T22:15:44.193Z"
   },
   {
    "duration": 11,
    "start_time": "2022-03-30T22:15:45.325Z"
   },
   {
    "duration": 601,
    "start_time": "2022-03-30T22:15:45.338Z"
   },
   {
    "duration": 45,
    "start_time": "2022-03-30T22:15:45.942Z"
   },
   {
    "duration": 24,
    "start_time": "2022-03-30T22:15:45.990Z"
   },
   {
    "duration": 13,
    "start_time": "2022-03-30T22:15:46.016Z"
   },
   {
    "duration": 37,
    "start_time": "2022-03-30T22:15:46.031Z"
   },
   {
    "duration": 18,
    "start_time": "2022-03-30T22:15:46.070Z"
   },
   {
    "duration": 1995,
    "start_time": "2022-03-30T22:15:46.090Z"
   },
   {
    "duration": 752,
    "start_time": "2022-03-30T22:15:48.088Z"
   },
   {
    "duration": 885,
    "start_time": "2022-03-30T22:15:48.842Z"
   },
   {
    "duration": 282,
    "start_time": "2022-03-30T22:15:49.730Z"
   },
   {
    "duration": 6,
    "start_time": "2022-03-30T22:16:48.360Z"
   },
   {
    "duration": 5,
    "start_time": "2022-03-30T22:17:09.084Z"
   },
   {
    "duration": 2044,
    "start_time": "2022-03-30T22:18:27.169Z"
   },
   {
    "duration": 833,
    "start_time": "2022-03-30T22:18:29.215Z"
   },
   {
    "duration": 71,
    "start_time": "2022-03-30T22:18:30.051Z"
   },
   {
    "duration": 398,
    "start_time": "2022-03-30T22:18:30.124Z"
   },
   {
    "duration": 31,
    "start_time": "2022-03-30T22:18:30.525Z"
   },
   {
    "duration": 99,
    "start_time": "2022-03-30T22:18:30.558Z"
   },
   {
    "duration": 37,
    "start_time": "2022-03-30T22:18:30.659Z"
   },
   {
    "duration": 6,
    "start_time": "2022-03-30T22:18:30.698Z"
   },
   {
    "duration": 62,
    "start_time": "2022-03-30T22:18:30.706Z"
   },
   {
    "duration": 3918,
    "start_time": "2022-03-30T22:18:30.770Z"
   },
   {
    "duration": 1033,
    "start_time": "2022-03-30T22:18:34.691Z"
   },
   {
    "duration": 11,
    "start_time": "2022-03-30T22:18:35.726Z"
   },
   {
    "duration": 603,
    "start_time": "2022-03-30T22:18:35.739Z"
   },
   {
    "duration": 45,
    "start_time": "2022-03-30T22:18:36.346Z"
   },
   {
    "duration": 25,
    "start_time": "2022-03-30T22:18:36.393Z"
   },
   {
    "duration": 13,
    "start_time": "2022-03-30T22:18:36.420Z"
   },
   {
    "duration": 22,
    "start_time": "2022-03-30T22:18:36.436Z"
   },
   {
    "duration": 12,
    "start_time": "2022-03-30T22:18:36.484Z"
   },
   {
    "duration": 8,
    "start_time": "2022-03-30T22:18:36.498Z"
   },
   {
    "duration": 6,
    "start_time": "2022-03-30T22:18:36.508Z"
   },
   {
    "duration": 1970,
    "start_time": "2022-03-30T22:18:36.516Z"
   },
   {
    "duration": 880,
    "start_time": "2022-03-30T22:18:38.490Z"
   },
   {
    "duration": 885,
    "start_time": "2022-03-30T22:18:39.372Z"
   },
   {
    "duration": 181,
    "start_time": "2022-03-30T22:18:40.259Z"
   },
   {
    "duration": 1958,
    "start_time": "2022-03-30T22:20:38.785Z"
   },
   {
    "duration": 851,
    "start_time": "2022-03-30T22:20:40.746Z"
   },
   {
    "duration": 68,
    "start_time": "2022-03-30T22:20:41.599Z"
   },
   {
    "duration": 406,
    "start_time": "2022-03-30T22:20:41.669Z"
   },
   {
    "duration": 34,
    "start_time": "2022-03-30T22:20:42.078Z"
   },
   {
    "duration": 116,
    "start_time": "2022-03-30T22:20:42.114Z"
   },
   {
    "duration": 18,
    "start_time": "2022-03-30T22:20:42.232Z"
   },
   {
    "duration": 6,
    "start_time": "2022-03-30T22:20:42.252Z"
   },
   {
    "duration": 68,
    "start_time": "2022-03-30T22:20:42.291Z"
   },
   {
    "duration": 4325,
    "start_time": "2022-03-30T22:20:42.361Z"
   },
   {
    "duration": 1117,
    "start_time": "2022-03-30T22:20:46.689Z"
   },
   {
    "duration": 10,
    "start_time": "2022-03-30T22:20:47.808Z"
   },
   {
    "duration": 610,
    "start_time": "2022-03-30T22:20:47.821Z"
   },
   {
    "duration": 50,
    "start_time": "2022-03-30T22:20:48.435Z"
   },
   {
    "duration": 169,
    "start_time": "2022-03-30T22:20:48.487Z"
   },
   {
    "duration": 0,
    "start_time": "2022-03-30T22:20:48.659Z"
   },
   {
    "duration": 0,
    "start_time": "2022-03-30T22:20:48.660Z"
   },
   {
    "duration": 0,
    "start_time": "2022-03-30T22:20:48.663Z"
   },
   {
    "duration": 0,
    "start_time": "2022-03-30T22:20:48.664Z"
   },
   {
    "duration": 0,
    "start_time": "2022-03-30T22:20:48.684Z"
   },
   {
    "duration": 0,
    "start_time": "2022-03-30T22:20:48.686Z"
   },
   {
    "duration": 0,
    "start_time": "2022-03-30T22:20:48.688Z"
   },
   {
    "duration": 0,
    "start_time": "2022-03-30T22:20:48.689Z"
   },
   {
    "duration": 0,
    "start_time": "2022-03-30T22:20:48.691Z"
   },
   {
    "duration": 5,
    "start_time": "2022-03-30T22:21:03.869Z"
   },
   {
    "duration": 2189,
    "start_time": "2022-03-31T08:41:30.539Z"
   },
   {
    "duration": 732,
    "start_time": "2022-03-31T08:41:32.730Z"
   },
   {
    "duration": 61,
    "start_time": "2022-03-31T08:41:33.464Z"
   },
   {
    "duration": 373,
    "start_time": "2022-03-31T08:41:33.529Z"
   },
   {
    "duration": 63,
    "start_time": "2022-03-31T08:41:33.905Z"
   },
   {
    "duration": 75,
    "start_time": "2022-03-31T08:41:33.971Z"
   },
   {
    "duration": 17,
    "start_time": "2022-03-31T08:41:34.069Z"
   },
   {
    "duration": 7,
    "start_time": "2022-03-31T08:41:34.089Z"
   },
   {
    "duration": 87,
    "start_time": "2022-03-31T08:41:34.098Z"
   },
   {
    "duration": 4432,
    "start_time": "2022-03-31T08:41:34.190Z"
   },
   {
    "duration": 1205,
    "start_time": "2022-03-31T08:41:38.625Z"
   },
   {
    "duration": 10,
    "start_time": "2022-03-31T08:41:39.833Z"
   },
   {
    "duration": 558,
    "start_time": "2022-03-31T08:41:39.845Z"
   },
   {
    "duration": 31,
    "start_time": "2022-03-31T08:41:40.406Z"
   },
   {
    "duration": 42,
    "start_time": "2022-03-31T08:41:40.440Z"
   },
   {
    "duration": 9,
    "start_time": "2022-03-31T08:41:40.484Z"
   },
   {
    "duration": 16,
    "start_time": "2022-03-31T08:41:40.496Z"
   },
   {
    "duration": 11,
    "start_time": "2022-03-31T08:41:40.514Z"
   },
   {
    "duration": 1842,
    "start_time": "2022-03-31T08:41:40.527Z"
   },
   {
    "duration": 682,
    "start_time": "2022-03-31T08:41:42.371Z"
   },
   {
    "duration": 801,
    "start_time": "2022-03-31T08:41:43.055Z"
   },
   {
    "duration": 15,
    "start_time": "2022-03-31T08:41:43.858Z"
   },
   {
    "duration": 2167,
    "start_time": "2022-03-31T08:48:40.801Z"
   },
   {
    "duration": 5,
    "start_time": "2022-03-31T08:50:35.029Z"
   },
   {
    "duration": 804,
    "start_time": "2022-03-31T08:50:35.036Z"
   },
   {
    "duration": 69,
    "start_time": "2022-03-31T08:50:35.842Z"
   },
   {
    "duration": 372,
    "start_time": "2022-03-31T08:50:35.915Z"
   },
   {
    "duration": 34,
    "start_time": "2022-03-31T08:50:36.291Z"
   },
   {
    "duration": 116,
    "start_time": "2022-03-31T08:50:36.327Z"
   },
   {
    "duration": 17,
    "start_time": "2022-03-31T08:50:36.466Z"
   },
   {
    "duration": 7,
    "start_time": "2022-03-31T08:50:36.486Z"
   },
   {
    "duration": 76,
    "start_time": "2022-03-31T08:50:36.496Z"
   },
   {
    "duration": 3643,
    "start_time": "2022-03-31T08:50:36.575Z"
   },
   {
    "duration": 961,
    "start_time": "2022-03-31T08:50:40.219Z"
   },
   {
    "duration": 10,
    "start_time": "2022-03-31T08:50:41.182Z"
   },
   {
    "duration": 656,
    "start_time": "2022-03-31T08:50:41.196Z"
   },
   {
    "duration": 38,
    "start_time": "2022-03-31T08:50:41.855Z"
   },
   {
    "duration": 21,
    "start_time": "2022-03-31T08:50:41.896Z"
   },
   {
    "duration": 11,
    "start_time": "2022-03-31T08:50:41.920Z"
   },
   {
    "duration": 39,
    "start_time": "2022-03-31T08:50:41.933Z"
   },
   {
    "duration": 26,
    "start_time": "2022-03-31T08:50:41.974Z"
   },
   {
    "duration": 1972,
    "start_time": "2022-03-31T08:50:42.002Z"
   },
   {
    "duration": 32495,
    "start_time": "2022-03-31T08:50:43.976Z"
   },
   {
    "duration": 1843,
    "start_time": "2022-03-31T08:54:25.892Z"
   },
   {
    "duration": 737,
    "start_time": "2022-03-31T08:54:27.738Z"
   },
   {
    "duration": 61,
    "start_time": "2022-03-31T08:54:28.477Z"
   },
   {
    "duration": 380,
    "start_time": "2022-03-31T08:54:28.541Z"
   },
   {
    "duration": 51,
    "start_time": "2022-03-31T08:54:28.923Z"
   },
   {
    "duration": 93,
    "start_time": "2022-03-31T08:54:28.976Z"
   },
   {
    "duration": 17,
    "start_time": "2022-03-31T08:54:29.071Z"
   },
   {
    "duration": 6,
    "start_time": "2022-03-31T08:54:29.090Z"
   },
   {
    "duration": 77,
    "start_time": "2022-03-31T08:54:29.098Z"
   },
   {
    "duration": 3778,
    "start_time": "2022-03-31T08:54:29.179Z"
   },
   {
    "duration": 981,
    "start_time": "2022-03-31T08:54:32.959Z"
   },
   {
    "duration": 26,
    "start_time": "2022-03-31T08:54:33.942Z"
   },
   {
    "duration": 590,
    "start_time": "2022-03-31T08:54:33.970Z"
   },
   {
    "duration": 34,
    "start_time": "2022-03-31T08:54:34.562Z"
   },
   {
    "duration": 26,
    "start_time": "2022-03-31T08:54:34.598Z"
   },
   {
    "duration": 12,
    "start_time": "2022-03-31T08:54:34.626Z"
   },
   {
    "duration": 16,
    "start_time": "2022-03-31T08:54:34.669Z"
   },
   {
    "duration": 14,
    "start_time": "2022-03-31T08:54:34.687Z"
   },
   {
    "duration": 2672,
    "start_time": "2022-03-31T08:54:34.704Z"
   },
   {
    "duration": 33629,
    "start_time": "2022-03-31T08:54:37.378Z"
   },
   {
    "duration": 172,
    "start_time": "2022-03-31T11:04:00.315Z"
   },
   {
    "duration": 1600,
    "start_time": "2022-03-31T11:11:46.491Z"
   },
   {
    "duration": 693,
    "start_time": "2022-03-31T11:11:48.093Z"
   },
   {
    "duration": 50,
    "start_time": "2022-03-31T11:11:48.787Z"
   },
   {
    "duration": 239,
    "start_time": "2022-03-31T11:11:48.839Z"
   },
   {
    "duration": 23,
    "start_time": "2022-03-31T11:11:49.080Z"
   },
   {
    "duration": 80,
    "start_time": "2022-03-31T11:11:49.105Z"
   },
   {
    "duration": 12,
    "start_time": "2022-03-31T11:11:49.186Z"
   },
   {
    "duration": 4,
    "start_time": "2022-03-31T11:11:49.200Z"
   },
   {
    "duration": 61,
    "start_time": "2022-03-31T11:11:49.205Z"
   },
   {
    "duration": 2603,
    "start_time": "2022-03-31T11:11:49.268Z"
   },
   {
    "duration": 659,
    "start_time": "2022-03-31T11:11:51.873Z"
   },
   {
    "duration": 8,
    "start_time": "2022-03-31T11:11:52.534Z"
   },
   {
    "duration": 373,
    "start_time": "2022-03-31T11:11:52.544Z"
   },
   {
    "duration": 30,
    "start_time": "2022-03-31T11:11:52.919Z"
   },
   {
    "duration": 17,
    "start_time": "2022-03-31T11:11:52.951Z"
   },
   {
    "duration": 8,
    "start_time": "2022-03-31T11:11:52.970Z"
   },
   {
    "duration": 14,
    "start_time": "2022-03-31T11:11:52.979Z"
   },
   {
    "duration": 1839,
    "start_time": "2022-03-31T11:11:52.994Z"
   },
   {
    "duration": 43398,
    "start_time": "2022-03-31T11:11:54.838Z"
   },
   {
    "duration": 2639527,
    "start_time": "2022-03-31T11:12:38.238Z"
   },
   {
    "duration": 79,
    "start_time": "2022-03-31T11:56:37.940Z"
   },
   {
    "duration": 10,
    "start_time": "2022-03-31T12:00:47.610Z"
   },
   {
    "duration": 80,
    "start_time": "2022-03-31T12:00:57.571Z"
   },
   {
    "duration": 28201,
    "start_time": "2022-03-31T12:01:24.921Z"
   },
   {
    "duration": 316719,
    "start_time": "2022-03-31T12:02:21.947Z"
   },
   {
    "duration": 1754,
    "start_time": "2022-03-31T18:07:57.767Z"
   },
   {
    "duration": 820,
    "start_time": "2022-03-31T18:07:59.523Z"
   },
   {
    "duration": 45,
    "start_time": "2022-03-31T18:08:00.345Z"
   },
   {
    "duration": 268,
    "start_time": "2022-03-31T18:08:00.393Z"
   },
   {
    "duration": 25,
    "start_time": "2022-03-31T18:08:00.662Z"
   },
   {
    "duration": 78,
    "start_time": "2022-03-31T18:08:00.689Z"
   },
   {
    "duration": 11,
    "start_time": "2022-03-31T18:08:00.769Z"
   },
   {
    "duration": 6,
    "start_time": "2022-03-31T18:08:00.782Z"
   },
   {
    "duration": 62,
    "start_time": "2022-03-31T18:08:00.791Z"
   },
   {
    "duration": 2523,
    "start_time": "2022-03-31T18:08:00.856Z"
   },
   {
    "duration": 612,
    "start_time": "2022-03-31T18:08:03.381Z"
   },
   {
    "duration": 9,
    "start_time": "2022-03-31T18:08:03.994Z"
   },
   {
    "duration": 342,
    "start_time": "2022-03-31T18:08:04.004Z"
   },
   {
    "duration": 27,
    "start_time": "2022-03-31T18:08:04.348Z"
   },
   {
    "duration": 18,
    "start_time": "2022-03-31T18:08:04.376Z"
   },
   {
    "duration": 9,
    "start_time": "2022-03-31T18:08:04.396Z"
   },
   {
    "duration": 10,
    "start_time": "2022-03-31T18:08:04.433Z"
   },
   {
    "duration": 1495,
    "start_time": "2022-03-31T18:08:04.445Z"
   },
   {
    "duration": 24463,
    "start_time": "2022-03-31T18:08:05.942Z"
   }
  ],
  "kernelspec": {
   "display_name": "Python 3 (ipykernel)",
   "language": "python",
   "name": "python3"
  },
  "language_info": {
   "codemirror_mode": {
    "name": "ipython",
    "version": 3
   },
   "file_extension": ".py",
   "mimetype": "text/x-python",
   "name": "python",
   "nbconvert_exporter": "python",
   "pygments_lexer": "ipython3",
   "version": "3.9.5"
  },
  "toc": {
   "base_numbering": 1,
   "nav_menu": {},
   "number_sections": true,
   "sideBar": true,
   "skip_h1_title": true,
   "title_cell": "Содержание",
   "title_sidebar": "Contents",
   "toc_cell": true,
   "toc_position": {
    "height": "calc(100% - 180px)",
    "left": "10px",
    "top": "150px",
    "width": "366.391px"
   },
   "toc_section_display": true,
   "toc_window_display": true
  }
 },
 "nbformat": 4,
 "nbformat_minor": 2
}
