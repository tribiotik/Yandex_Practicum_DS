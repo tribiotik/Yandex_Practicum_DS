{
 "cells": [
  {
   "cell_type": "markdown",
   "metadata": {},
   "source": [
    "# Определение стоимости автомобилей"
   ]
  },
  {
   "cell_type": "markdown",
   "metadata": {},
   "source": [
    "<div style=\"border:solid blue 2px; padding: 20px\">\n",
    "Привет Андрей! Меня зовут Андрей Петрушин, я буду проверять твой проект. Предлагаю общаться на «ты», это упрощает коммуникацию :) Но если это некомфортно - можем перейти на “Вы”.\n",
    "\n",
    "Вижу, что ты много работал над проектом и он выполнен на хорошем уровне. Моя основная цель при проверке работы — помочь сделать проект лучше и возможно, поделиться своим опытом решения подобных задач.\n",
    "\n",
    "Я буду делать комментарии четырьмя цветами:\n",
    "\n",
    "<font color='blue'>Комментарий ревьювера синий текст - просто текст комментария</font>\n",
    "    \n",
    "<font color=\"green\">Комментарий ревьювера    \n",
    "✔️ зеленый текст - все отлично, хорошее решение</font>\n",
    "    \n",
    "<font color=\"brown\">Комментарий ревьювера    \n",
    "⚠️ Коричневый текст - есть рекомендации, в другой раз можно сделать иначе</font>\n",
    "    \n",
    "<font color=\"red\">Комментарий ревьювера   \n",
    "❌ красный текст - есть недочеты, их нужно исправить и проект будет принят</font>\n",
    "    \n",
    "Пожалуйста, не удаляй мои комментарии, нам обоим будет проще разобраться в недочетах, что и как исправлено. Желательно реагировать на каждый оранжевый и красный комментарии. Свои комментарии тоже отмечай, например другим цветом или надписью “Комментарий студента”. \n",
    "\n",
    "\\<font color='darkblue'> Этот код позволяет менять цвет текста. \\</font>\n",
    "</div>\n"
   ]
  },
  {
   "cell_type": "markdown",
   "metadata": {},
   "source": [
    "Сервис по продаже автомобилей с пробегом «Не бит, не крашен» разрабатывает приложение для привлечения новых клиентов. В нём можно быстро узнать рыночную стоимость своего автомобиля. В вашем распоряжении исторические данные: технические характеристики, комплектации и цены автомобилей. Вам нужно построить модель для определения стоимости. \n",
    "\n",
    "Заказчику важны:\n",
    "\n",
    "- качество предсказания;\n",
    "- скорость предсказания;\n",
    "- время обучения.\n",
    "\n",
    "Описание даных:\n",
    "- DateCrawled — дата скачивания анкеты из базы\n",
    "- VehicleType — тип автомобильного кузова\n",
    "- RegistrationYear — год регистрации автомобиля\n",
    "- Gearbox — тип коробки передач\n",
    "- Power — мощность (л. с.)\n",
    "- Model — модель автомобиля\n",
    "- Kilometer — пробег (км)\n",
    "- RegistrationMonth — месяц регистрации автомобиля\n",
    "- FuelType — тип топлива\n",
    "- Brand — марка автомобиля\n",
    "- NotRepaired — была машина в ремонте или нет\n",
    "- DateCreated — дата создания анкеты\n",
    "- NumberOfPictures — количество фотографий автомобиля\n",
    "- PostalCode — почтовый индекс владельца анкеты (пользователя)\n",
    "- LastSeen — дата последней активности пользователя"
   ]
  },
  {
   "cell_type": "markdown",
   "metadata": {},
   "source": [
    "<font color=\"green\">Комментарий ревьювера   \n",
    "✔️ Отлично, что приведено описание задачи - это очень важная часть любого проекта.</font>\n",
    "\n",
    "<font color=\"brown\">Комментарий ревьювера   \n",
    "⚠️ Желательно еще приводить описание данных. Не всегда из названий колонок очевидно, какие данных в них находятся :) </font>\n"
   ]
  },
  {
   "cell_type": "markdown",
   "metadata": {},
   "source": [
    "<div class=\"alert alert-info\"> <b>Комментарий студента:</b> Описание данных добавил. </div>  \n",
    " "
   ]
  },
  {
   "cell_type": "markdown",
   "metadata": {},
   "source": [
    "<font color=\"green\">Комментарий ревьювера 2    \n",
    "✔️ Хорошо!</font>"
   ]
  },
  {
   "cell_type": "markdown",
   "metadata": {},
   "source": [
    "## Импорт библиотек"
   ]
  },
  {
   "cell_type": "code",
   "execution_count": 127,
   "metadata": {},
   "outputs": [],
   "source": [
    "import pandas as pd\n",
    "\n",
    "from sklearn.model_selection import train_test_split, GridSearchCV\n",
    "from sklearn.preprocessing import StandardScaler\n",
    "from lightgbm import LGBMRegressor\n",
    "from catboost import CatBoostRegressor\n",
    "from xgboost import XGBRegressor\n",
    "\n",
    "\n",
    "from sklearn.model_selection import cross_val_score\n",
    "from sklearn.metrics import mean_squared_error as mse \n",
    "\n",
    "import time\n",
    "import datetime\n",
    "from pandas.core.common import SettingWithCopyWarning\n",
    "import warnings\n",
    "warnings.filterwarnings('ignore')\n",
    "warnings.simplefilter(action=\"ignore\", category=SettingWithCopyWarning)\n",
    "def line():\n",
    "    print('________________________________________________')\n",
    "\n",
    "\n",
    "from sklearn.ensemble import AdaBoostClassifier\n",
    "from sklearn.ensemble import GradientBoostingClassifier\n",
    "\n",
    "import matplotlib.pyplot as plt\n",
    "import seaborn as sns\n",
    "import numpy as np\n",
    "\n",
    "\n",
    "RND = 12345"
   ]
  },
  {
   "cell_type": "markdown",
   "metadata": {},
   "source": [
    "<font color=\"green\">Комментарий ревьювера   \n",
    "✔️ Верно -  весь импорт библиотек в начале проекта</font>\n"
   ]
  },
  {
   "cell_type": "markdown",
   "metadata": {},
   "source": [
    "## Подготовка данных"
   ]
  },
  {
   "cell_type": "code",
   "execution_count": 128,
   "metadata": {
    "scrolled": false
   },
   "outputs": [
    {
     "data": {
      "text/html": [
       "<div>\n",
       "<style scoped>\n",
       "    .dataframe tbody tr th:only-of-type {\n",
       "        vertical-align: middle;\n",
       "    }\n",
       "\n",
       "    .dataframe tbody tr th {\n",
       "        vertical-align: top;\n",
       "    }\n",
       "\n",
       "    .dataframe thead th {\n",
       "        text-align: right;\n",
       "    }\n",
       "</style>\n",
       "<table border=\"1\" class=\"dataframe\">\n",
       "  <thead>\n",
       "    <tr style=\"text-align: right;\">\n",
       "      <th></th>\n",
       "      <th>DateCrawled</th>\n",
       "      <th>Price</th>\n",
       "      <th>VehicleType</th>\n",
       "      <th>RegistrationYear</th>\n",
       "      <th>Gearbox</th>\n",
       "      <th>Power</th>\n",
       "      <th>Model</th>\n",
       "      <th>Kilometer</th>\n",
       "      <th>RegistrationMonth</th>\n",
       "      <th>FuelType</th>\n",
       "      <th>Brand</th>\n",
       "      <th>NotRepaired</th>\n",
       "      <th>DateCreated</th>\n",
       "      <th>NumberOfPictures</th>\n",
       "      <th>PostalCode</th>\n",
       "      <th>LastSeen</th>\n",
       "    </tr>\n",
       "  </thead>\n",
       "  <tbody>\n",
       "    <tr>\n",
       "      <th>0</th>\n",
       "      <td>2016-03-24 11:52:17</td>\n",
       "      <td>480</td>\n",
       "      <td>NaN</td>\n",
       "      <td>1993</td>\n",
       "      <td>manual</td>\n",
       "      <td>0</td>\n",
       "      <td>golf</td>\n",
       "      <td>150000</td>\n",
       "      <td>0</td>\n",
       "      <td>petrol</td>\n",
       "      <td>volkswagen</td>\n",
       "      <td>NaN</td>\n",
       "      <td>2016-03-24 00:00:00</td>\n",
       "      <td>0</td>\n",
       "      <td>70435</td>\n",
       "      <td>2016-04-07 03:16:57</td>\n",
       "    </tr>\n",
       "    <tr>\n",
       "      <th>1</th>\n",
       "      <td>2016-03-24 10:58:45</td>\n",
       "      <td>18300</td>\n",
       "      <td>coupe</td>\n",
       "      <td>2011</td>\n",
       "      <td>manual</td>\n",
       "      <td>190</td>\n",
       "      <td>NaN</td>\n",
       "      <td>125000</td>\n",
       "      <td>5</td>\n",
       "      <td>gasoline</td>\n",
       "      <td>audi</td>\n",
       "      <td>yes</td>\n",
       "      <td>2016-03-24 00:00:00</td>\n",
       "      <td>0</td>\n",
       "      <td>66954</td>\n",
       "      <td>2016-04-07 01:46:50</td>\n",
       "    </tr>\n",
       "    <tr>\n",
       "      <th>2</th>\n",
       "      <td>2016-03-14 12:52:21</td>\n",
       "      <td>9800</td>\n",
       "      <td>suv</td>\n",
       "      <td>2004</td>\n",
       "      <td>auto</td>\n",
       "      <td>163</td>\n",
       "      <td>grand</td>\n",
       "      <td>125000</td>\n",
       "      <td>8</td>\n",
       "      <td>gasoline</td>\n",
       "      <td>jeep</td>\n",
       "      <td>NaN</td>\n",
       "      <td>2016-03-14 00:00:00</td>\n",
       "      <td>0</td>\n",
       "      <td>90480</td>\n",
       "      <td>2016-04-05 12:47:46</td>\n",
       "    </tr>\n",
       "    <tr>\n",
       "      <th>3</th>\n",
       "      <td>2016-03-17 16:54:04</td>\n",
       "      <td>1500</td>\n",
       "      <td>small</td>\n",
       "      <td>2001</td>\n",
       "      <td>manual</td>\n",
       "      <td>75</td>\n",
       "      <td>golf</td>\n",
       "      <td>150000</td>\n",
       "      <td>6</td>\n",
       "      <td>petrol</td>\n",
       "      <td>volkswagen</td>\n",
       "      <td>no</td>\n",
       "      <td>2016-03-17 00:00:00</td>\n",
       "      <td>0</td>\n",
       "      <td>91074</td>\n",
       "      <td>2016-03-17 17:40:17</td>\n",
       "    </tr>\n",
       "    <tr>\n",
       "      <th>4</th>\n",
       "      <td>2016-03-31 17:25:20</td>\n",
       "      <td>3600</td>\n",
       "      <td>small</td>\n",
       "      <td>2008</td>\n",
       "      <td>manual</td>\n",
       "      <td>69</td>\n",
       "      <td>fabia</td>\n",
       "      <td>90000</td>\n",
       "      <td>7</td>\n",
       "      <td>gasoline</td>\n",
       "      <td>skoda</td>\n",
       "      <td>no</td>\n",
       "      <td>2016-03-31 00:00:00</td>\n",
       "      <td>0</td>\n",
       "      <td>60437</td>\n",
       "      <td>2016-04-06 10:17:21</td>\n",
       "    </tr>\n",
       "  </tbody>\n",
       "</table>\n",
       "</div>"
      ],
      "text/plain": [
       "           DateCrawled  Price VehicleType  RegistrationYear Gearbox  Power  \\\n",
       "0  2016-03-24 11:52:17    480         NaN              1993  manual      0   \n",
       "1  2016-03-24 10:58:45  18300       coupe              2011  manual    190   \n",
       "2  2016-03-14 12:52:21   9800         suv              2004    auto    163   \n",
       "3  2016-03-17 16:54:04   1500       small              2001  manual     75   \n",
       "4  2016-03-31 17:25:20   3600       small              2008  manual     69   \n",
       "\n",
       "   Model  Kilometer  RegistrationMonth  FuelType       Brand NotRepaired  \\\n",
       "0   golf     150000                  0    petrol  volkswagen         NaN   \n",
       "1    NaN     125000                  5  gasoline        audi         yes   \n",
       "2  grand     125000                  8  gasoline        jeep         NaN   \n",
       "3   golf     150000                  6    petrol  volkswagen          no   \n",
       "4  fabia      90000                  7  gasoline       skoda          no   \n",
       "\n",
       "           DateCreated  NumberOfPictures  PostalCode             LastSeen  \n",
       "0  2016-03-24 00:00:00                 0       70435  2016-04-07 03:16:57  \n",
       "1  2016-03-24 00:00:00                 0       66954  2016-04-07 01:46:50  \n",
       "2  2016-03-14 00:00:00                 0       90480  2016-04-05 12:47:46  \n",
       "3  2016-03-17 00:00:00                 0       91074  2016-03-17 17:40:17  \n",
       "4  2016-03-31 00:00:00                 0       60437  2016-04-06 10:17:21  "
      ]
     },
     "metadata": {},
     "output_type": "display_data"
    },
    {
     "name": "stdout",
     "output_type": "stream",
     "text": [
      "________________________________________________\n",
      "<class 'pandas.core.frame.DataFrame'>\n",
      "RangeIndex: 354369 entries, 0 to 354368\n",
      "Data columns (total 16 columns):\n",
      " #   Column             Non-Null Count   Dtype \n",
      "---  ------             --------------   ----- \n",
      " 0   DateCrawled        354369 non-null  object\n",
      " 1   Price              354369 non-null  int64 \n",
      " 2   VehicleType        316879 non-null  object\n",
      " 3   RegistrationYear   354369 non-null  int64 \n",
      " 4   Gearbox            334536 non-null  object\n",
      " 5   Power              354369 non-null  int64 \n",
      " 6   Model              334664 non-null  object\n",
      " 7   Kilometer          354369 non-null  int64 \n",
      " 8   RegistrationMonth  354369 non-null  int64 \n",
      " 9   FuelType           321474 non-null  object\n",
      " 10  Brand              354369 non-null  object\n",
      " 11  NotRepaired        283215 non-null  object\n",
      " 12  DateCreated        354369 non-null  object\n",
      " 13  NumberOfPictures   354369 non-null  int64 \n",
      " 14  PostalCode         354369 non-null  int64 \n",
      " 15  LastSeen           354369 non-null  object\n",
      "dtypes: int64(7), object(9)\n",
      "memory usage: 43.3+ MB\n"
     ]
    }
   ],
   "source": [
    "data = pd.read_csv('/datasets/autos.csv')\n",
    "display(data.head(5))\n",
    "line()\n",
    "data.info()"
   ]
  },
  {
   "cell_type": "code",
   "execution_count": 129,
   "metadata": {},
   "outputs": [],
   "source": [
    "#названия столбцов в нижний регистр\n",
    "new_columns = data.columns.str.lower()\n",
    "data.set_axis(new_columns, axis = 'columns', inplace = True)"
   ]
  },
  {
   "cell_type": "markdown",
   "metadata": {},
   "source": [
    "<font color=\"green\">Комментарий ревьювера   \n",
    "✔️ Хорошо, что приводишь к нижнему регистру. </font>\n",
    "    \n",
    "<font color=\"brown\">Комментарий ревьювера   \n",
    "⚠️ Еще можно разделить слова нижним подчёркиванием, чтобы совсем по PEP-8.</font>"
   ]
  },
  {
   "cell_type": "markdown",
   "metadata": {},
   "source": [
    "<div class=\"alert alert-info\"> <b>Комментарий студента:</b> Согласен с тобой, но если честно какого то красивого способа я не знаю, а переименовывать в ручную поленился </div>  "
   ]
  },
  {
   "cell_type": "markdown",
   "metadata": {},
   "source": [
    "<font color=\"green\">Комментарий ревьювера 2    \n",
    "✔️ Хорошо\n",
    "</font>"
   ]
  },
  {
   "cell_type": "code",
   "execution_count": 130,
   "metadata": {},
   "outputs": [
    {
     "name": "stdout",
     "output_type": "stream",
     "text": [
      "Количество пропусков :\n",
      "datecrawled              0\n",
      "price                    0\n",
      "vehicletype          37490\n",
      "registrationyear         0\n",
      "gearbox              19833\n",
      "power                    0\n",
      "model                19705\n",
      "kilometer                0\n",
      "registrationmonth        0\n",
      "fueltype             32895\n",
      "brand                    0\n",
      "notrepaired          71154\n",
      "datecreated              0\n",
      "numberofpictures         0\n",
      "postalcode               0\n",
      "lastseen                 0\n",
      "dtype: int64\n",
      "________________________________________________\n",
      "Количество дубликатов : 4\n"
     ]
    }
   ],
   "source": [
    "print('Количество пропусков :', data.isnull().sum(), sep=\"\\n\")\n",
    "line()\n",
    "print('Количество дубликатов :', data.duplicated().sum())"
   ]
  },
  {
   "cell_type": "markdown",
   "metadata": {},
   "source": [
    "Данные загружены.\n",
    "- Имеем датасет 16 столбцов и 354369 строк\n",
    "- Дубликатов 4 штуки. Удалим.\n",
    "- Очень много пропусков. В столбце notrepaired 71154 пропуска. Осмелюсь предположить что пропуск означает, что авто не ремонтировалось. Заменю пропуски на no. От остальных пропусков избавлюсь."
   ]
  },
  {
   "cell_type": "code",
   "execution_count": 131,
   "metadata": {},
   "outputs": [
    {
     "data": {
      "text/html": [
       "<div>\n",
       "<style scoped>\n",
       "    .dataframe tbody tr th:only-of-type {\n",
       "        vertical-align: middle;\n",
       "    }\n",
       "\n",
       "    .dataframe tbody tr th {\n",
       "        vertical-align: top;\n",
       "    }\n",
       "\n",
       "    .dataframe thead th {\n",
       "        text-align: right;\n",
       "    }\n",
       "</style>\n",
       "<table border=\"1\" class=\"dataframe\">\n",
       "  <thead>\n",
       "    <tr style=\"text-align: right;\">\n",
       "      <th></th>\n",
       "      <th>price</th>\n",
       "      <th>registrationyear</th>\n",
       "      <th>power</th>\n",
       "      <th>kilometer</th>\n",
       "      <th>registrationmonth</th>\n",
       "      <th>numberofpictures</th>\n",
       "      <th>postalcode</th>\n",
       "    </tr>\n",
       "  </thead>\n",
       "  <tbody>\n",
       "    <tr>\n",
       "      <th>count</th>\n",
       "      <td>354369.000000</td>\n",
       "      <td>354369.000000</td>\n",
       "      <td>354369.000000</td>\n",
       "      <td>354369.000000</td>\n",
       "      <td>354369.000000</td>\n",
       "      <td>354369.0</td>\n",
       "      <td>354369.000000</td>\n",
       "    </tr>\n",
       "    <tr>\n",
       "      <th>mean</th>\n",
       "      <td>4416.656776</td>\n",
       "      <td>2004.234448</td>\n",
       "      <td>110.094337</td>\n",
       "      <td>128211.172535</td>\n",
       "      <td>5.714645</td>\n",
       "      <td>0.0</td>\n",
       "      <td>50508.689087</td>\n",
       "    </tr>\n",
       "    <tr>\n",
       "      <th>std</th>\n",
       "      <td>4514.158514</td>\n",
       "      <td>90.227958</td>\n",
       "      <td>189.850405</td>\n",
       "      <td>37905.341530</td>\n",
       "      <td>3.726421</td>\n",
       "      <td>0.0</td>\n",
       "      <td>25783.096248</td>\n",
       "    </tr>\n",
       "    <tr>\n",
       "      <th>min</th>\n",
       "      <td>0.000000</td>\n",
       "      <td>1000.000000</td>\n",
       "      <td>0.000000</td>\n",
       "      <td>5000.000000</td>\n",
       "      <td>0.000000</td>\n",
       "      <td>0.0</td>\n",
       "      <td>1067.000000</td>\n",
       "    </tr>\n",
       "    <tr>\n",
       "      <th>25%</th>\n",
       "      <td>1050.000000</td>\n",
       "      <td>1999.000000</td>\n",
       "      <td>69.000000</td>\n",
       "      <td>125000.000000</td>\n",
       "      <td>3.000000</td>\n",
       "      <td>0.0</td>\n",
       "      <td>30165.000000</td>\n",
       "    </tr>\n",
       "    <tr>\n",
       "      <th>50%</th>\n",
       "      <td>2700.000000</td>\n",
       "      <td>2003.000000</td>\n",
       "      <td>105.000000</td>\n",
       "      <td>150000.000000</td>\n",
       "      <td>6.000000</td>\n",
       "      <td>0.0</td>\n",
       "      <td>49413.000000</td>\n",
       "    </tr>\n",
       "    <tr>\n",
       "      <th>75%</th>\n",
       "      <td>6400.000000</td>\n",
       "      <td>2008.000000</td>\n",
       "      <td>143.000000</td>\n",
       "      <td>150000.000000</td>\n",
       "      <td>9.000000</td>\n",
       "      <td>0.0</td>\n",
       "      <td>71083.000000</td>\n",
       "    </tr>\n",
       "    <tr>\n",
       "      <th>max</th>\n",
       "      <td>20000.000000</td>\n",
       "      <td>9999.000000</td>\n",
       "      <td>20000.000000</td>\n",
       "      <td>150000.000000</td>\n",
       "      <td>12.000000</td>\n",
       "      <td>0.0</td>\n",
       "      <td>99998.000000</td>\n",
       "    </tr>\n",
       "  </tbody>\n",
       "</table>\n",
       "</div>"
      ],
      "text/plain": [
       "               price  registrationyear          power      kilometer  \\\n",
       "count  354369.000000     354369.000000  354369.000000  354369.000000   \n",
       "mean     4416.656776       2004.234448     110.094337  128211.172535   \n",
       "std      4514.158514         90.227958     189.850405   37905.341530   \n",
       "min         0.000000       1000.000000       0.000000    5000.000000   \n",
       "25%      1050.000000       1999.000000      69.000000  125000.000000   \n",
       "50%      2700.000000       2003.000000     105.000000  150000.000000   \n",
       "75%      6400.000000       2008.000000     143.000000  150000.000000   \n",
       "max     20000.000000       9999.000000   20000.000000  150000.000000   \n",
       "\n",
       "       registrationmonth  numberofpictures     postalcode  \n",
       "count      354369.000000          354369.0  354369.000000  \n",
       "mean            5.714645               0.0   50508.689087  \n",
       "std             3.726421               0.0   25783.096248  \n",
       "min             0.000000               0.0    1067.000000  \n",
       "25%             3.000000               0.0   30165.000000  \n",
       "50%             6.000000               0.0   49413.000000  \n",
       "75%             9.000000               0.0   71083.000000  \n",
       "max            12.000000               0.0   99998.000000  "
      ]
     },
     "metadata": {},
     "output_type": "display_data"
    },
    {
     "data": {
      "text/html": [
       "<div>\n",
       "<style scoped>\n",
       "    .dataframe tbody tr th:only-of-type {\n",
       "        vertical-align: middle;\n",
       "    }\n",
       "\n",
       "    .dataframe tbody tr th {\n",
       "        vertical-align: top;\n",
       "    }\n",
       "\n",
       "    .dataframe thead th {\n",
       "        text-align: right;\n",
       "    }\n",
       "</style>\n",
       "<table border=\"1\" class=\"dataframe\">\n",
       "  <thead>\n",
       "    <tr style=\"text-align: right;\">\n",
       "      <th></th>\n",
       "      <th>datecrawled</th>\n",
       "      <th>price</th>\n",
       "      <th>vehicletype</th>\n",
       "      <th>registrationyear</th>\n",
       "      <th>gearbox</th>\n",
       "      <th>power</th>\n",
       "      <th>model</th>\n",
       "      <th>kilometer</th>\n",
       "      <th>registrationmonth</th>\n",
       "      <th>fueltype</th>\n",
       "      <th>brand</th>\n",
       "      <th>notrepaired</th>\n",
       "      <th>datecreated</th>\n",
       "      <th>numberofpictures</th>\n",
       "      <th>postalcode</th>\n",
       "      <th>lastseen</th>\n",
       "    </tr>\n",
       "  </thead>\n",
       "  <tbody>\n",
       "    <tr>\n",
       "      <th>count</th>\n",
       "      <td>354369</td>\n",
       "      <td>354369.000000</td>\n",
       "      <td>316879</td>\n",
       "      <td>354369.000000</td>\n",
       "      <td>334536</td>\n",
       "      <td>354369.000000</td>\n",
       "      <td>334664</td>\n",
       "      <td>354369.000000</td>\n",
       "      <td>354369.000000</td>\n",
       "      <td>321474</td>\n",
       "      <td>354369</td>\n",
       "      <td>283215</td>\n",
       "      <td>354369</td>\n",
       "      <td>354369.0</td>\n",
       "      <td>354369.000000</td>\n",
       "      <td>354369</td>\n",
       "    </tr>\n",
       "    <tr>\n",
       "      <th>unique</th>\n",
       "      <td>271174</td>\n",
       "      <td>NaN</td>\n",
       "      <td>8</td>\n",
       "      <td>NaN</td>\n",
       "      <td>2</td>\n",
       "      <td>NaN</td>\n",
       "      <td>250</td>\n",
       "      <td>NaN</td>\n",
       "      <td>NaN</td>\n",
       "      <td>7</td>\n",
       "      <td>40</td>\n",
       "      <td>2</td>\n",
       "      <td>109</td>\n",
       "      <td>NaN</td>\n",
       "      <td>NaN</td>\n",
       "      <td>179150</td>\n",
       "    </tr>\n",
       "    <tr>\n",
       "      <th>top</th>\n",
       "      <td>2016-03-24 14:49:47</td>\n",
       "      <td>NaN</td>\n",
       "      <td>sedan</td>\n",
       "      <td>NaN</td>\n",
       "      <td>manual</td>\n",
       "      <td>NaN</td>\n",
       "      <td>golf</td>\n",
       "      <td>NaN</td>\n",
       "      <td>NaN</td>\n",
       "      <td>petrol</td>\n",
       "      <td>volkswagen</td>\n",
       "      <td>no</td>\n",
       "      <td>2016-04-03 00:00:00</td>\n",
       "      <td>NaN</td>\n",
       "      <td>NaN</td>\n",
       "      <td>2016-04-06 13:45:54</td>\n",
       "    </tr>\n",
       "    <tr>\n",
       "      <th>freq</th>\n",
       "      <td>7</td>\n",
       "      <td>NaN</td>\n",
       "      <td>91457</td>\n",
       "      <td>NaN</td>\n",
       "      <td>268251</td>\n",
       "      <td>NaN</td>\n",
       "      <td>29232</td>\n",
       "      <td>NaN</td>\n",
       "      <td>NaN</td>\n",
       "      <td>216352</td>\n",
       "      <td>77013</td>\n",
       "      <td>247161</td>\n",
       "      <td>13719</td>\n",
       "      <td>NaN</td>\n",
       "      <td>NaN</td>\n",
       "      <td>17</td>\n",
       "    </tr>\n",
       "    <tr>\n",
       "      <th>mean</th>\n",
       "      <td>NaN</td>\n",
       "      <td>4416.656776</td>\n",
       "      <td>NaN</td>\n",
       "      <td>2004.234448</td>\n",
       "      <td>NaN</td>\n",
       "      <td>110.094337</td>\n",
       "      <td>NaN</td>\n",
       "      <td>128211.172535</td>\n",
       "      <td>5.714645</td>\n",
       "      <td>NaN</td>\n",
       "      <td>NaN</td>\n",
       "      <td>NaN</td>\n",
       "      <td>NaN</td>\n",
       "      <td>0.0</td>\n",
       "      <td>50508.689087</td>\n",
       "      <td>NaN</td>\n",
       "    </tr>\n",
       "    <tr>\n",
       "      <th>std</th>\n",
       "      <td>NaN</td>\n",
       "      <td>4514.158514</td>\n",
       "      <td>NaN</td>\n",
       "      <td>90.227958</td>\n",
       "      <td>NaN</td>\n",
       "      <td>189.850405</td>\n",
       "      <td>NaN</td>\n",
       "      <td>37905.341530</td>\n",
       "      <td>3.726421</td>\n",
       "      <td>NaN</td>\n",
       "      <td>NaN</td>\n",
       "      <td>NaN</td>\n",
       "      <td>NaN</td>\n",
       "      <td>0.0</td>\n",
       "      <td>25783.096248</td>\n",
       "      <td>NaN</td>\n",
       "    </tr>\n",
       "    <tr>\n",
       "      <th>min</th>\n",
       "      <td>NaN</td>\n",
       "      <td>0.000000</td>\n",
       "      <td>NaN</td>\n",
       "      <td>1000.000000</td>\n",
       "      <td>NaN</td>\n",
       "      <td>0.000000</td>\n",
       "      <td>NaN</td>\n",
       "      <td>5000.000000</td>\n",
       "      <td>0.000000</td>\n",
       "      <td>NaN</td>\n",
       "      <td>NaN</td>\n",
       "      <td>NaN</td>\n",
       "      <td>NaN</td>\n",
       "      <td>0.0</td>\n",
       "      <td>1067.000000</td>\n",
       "      <td>NaN</td>\n",
       "    </tr>\n",
       "    <tr>\n",
       "      <th>25%</th>\n",
       "      <td>NaN</td>\n",
       "      <td>1050.000000</td>\n",
       "      <td>NaN</td>\n",
       "      <td>1999.000000</td>\n",
       "      <td>NaN</td>\n",
       "      <td>69.000000</td>\n",
       "      <td>NaN</td>\n",
       "      <td>125000.000000</td>\n",
       "      <td>3.000000</td>\n",
       "      <td>NaN</td>\n",
       "      <td>NaN</td>\n",
       "      <td>NaN</td>\n",
       "      <td>NaN</td>\n",
       "      <td>0.0</td>\n",
       "      <td>30165.000000</td>\n",
       "      <td>NaN</td>\n",
       "    </tr>\n",
       "    <tr>\n",
       "      <th>50%</th>\n",
       "      <td>NaN</td>\n",
       "      <td>2700.000000</td>\n",
       "      <td>NaN</td>\n",
       "      <td>2003.000000</td>\n",
       "      <td>NaN</td>\n",
       "      <td>105.000000</td>\n",
       "      <td>NaN</td>\n",
       "      <td>150000.000000</td>\n",
       "      <td>6.000000</td>\n",
       "      <td>NaN</td>\n",
       "      <td>NaN</td>\n",
       "      <td>NaN</td>\n",
       "      <td>NaN</td>\n",
       "      <td>0.0</td>\n",
       "      <td>49413.000000</td>\n",
       "      <td>NaN</td>\n",
       "    </tr>\n",
       "    <tr>\n",
       "      <th>75%</th>\n",
       "      <td>NaN</td>\n",
       "      <td>6400.000000</td>\n",
       "      <td>NaN</td>\n",
       "      <td>2008.000000</td>\n",
       "      <td>NaN</td>\n",
       "      <td>143.000000</td>\n",
       "      <td>NaN</td>\n",
       "      <td>150000.000000</td>\n",
       "      <td>9.000000</td>\n",
       "      <td>NaN</td>\n",
       "      <td>NaN</td>\n",
       "      <td>NaN</td>\n",
       "      <td>NaN</td>\n",
       "      <td>0.0</td>\n",
       "      <td>71083.000000</td>\n",
       "      <td>NaN</td>\n",
       "    </tr>\n",
       "    <tr>\n",
       "      <th>max</th>\n",
       "      <td>NaN</td>\n",
       "      <td>20000.000000</td>\n",
       "      <td>NaN</td>\n",
       "      <td>9999.000000</td>\n",
       "      <td>NaN</td>\n",
       "      <td>20000.000000</td>\n",
       "      <td>NaN</td>\n",
       "      <td>150000.000000</td>\n",
       "      <td>12.000000</td>\n",
       "      <td>NaN</td>\n",
       "      <td>NaN</td>\n",
       "      <td>NaN</td>\n",
       "      <td>NaN</td>\n",
       "      <td>0.0</td>\n",
       "      <td>99998.000000</td>\n",
       "      <td>NaN</td>\n",
       "    </tr>\n",
       "  </tbody>\n",
       "</table>\n",
       "</div>"
      ],
      "text/plain": [
       "                datecrawled          price vehicletype  registrationyear  \\\n",
       "count                354369  354369.000000      316879     354369.000000   \n",
       "unique               271174            NaN           8               NaN   \n",
       "top     2016-03-24 14:49:47            NaN       sedan               NaN   \n",
       "freq                      7            NaN       91457               NaN   \n",
       "mean                    NaN    4416.656776         NaN       2004.234448   \n",
       "std                     NaN    4514.158514         NaN         90.227958   \n",
       "min                     NaN       0.000000         NaN       1000.000000   \n",
       "25%                     NaN    1050.000000         NaN       1999.000000   \n",
       "50%                     NaN    2700.000000         NaN       2003.000000   \n",
       "75%                     NaN    6400.000000         NaN       2008.000000   \n",
       "max                     NaN   20000.000000         NaN       9999.000000   \n",
       "\n",
       "       gearbox          power   model      kilometer  registrationmonth  \\\n",
       "count   334536  354369.000000  334664  354369.000000      354369.000000   \n",
       "unique       2            NaN     250            NaN                NaN   \n",
       "top     manual            NaN    golf            NaN                NaN   \n",
       "freq    268251            NaN   29232            NaN                NaN   \n",
       "mean       NaN     110.094337     NaN  128211.172535           5.714645   \n",
       "std        NaN     189.850405     NaN   37905.341530           3.726421   \n",
       "min        NaN       0.000000     NaN    5000.000000           0.000000   \n",
       "25%        NaN      69.000000     NaN  125000.000000           3.000000   \n",
       "50%        NaN     105.000000     NaN  150000.000000           6.000000   \n",
       "75%        NaN     143.000000     NaN  150000.000000           9.000000   \n",
       "max        NaN   20000.000000     NaN  150000.000000          12.000000   \n",
       "\n",
       "       fueltype       brand notrepaired          datecreated  \\\n",
       "count    321474      354369      283215               354369   \n",
       "unique        7          40           2                  109   \n",
       "top      petrol  volkswagen          no  2016-04-03 00:00:00   \n",
       "freq     216352       77013      247161                13719   \n",
       "mean        NaN         NaN         NaN                  NaN   \n",
       "std         NaN         NaN         NaN                  NaN   \n",
       "min         NaN         NaN         NaN                  NaN   \n",
       "25%         NaN         NaN         NaN                  NaN   \n",
       "50%         NaN         NaN         NaN                  NaN   \n",
       "75%         NaN         NaN         NaN                  NaN   \n",
       "max         NaN         NaN         NaN                  NaN   \n",
       "\n",
       "        numberofpictures     postalcode             lastseen  \n",
       "count           354369.0  354369.000000               354369  \n",
       "unique               NaN            NaN               179150  \n",
       "top                  NaN            NaN  2016-04-06 13:45:54  \n",
       "freq                 NaN            NaN                   17  \n",
       "mean                 0.0   50508.689087                  NaN  \n",
       "std                  0.0   25783.096248                  NaN  \n",
       "min                  0.0    1067.000000                  NaN  \n",
       "25%                  0.0   30165.000000                  NaN  \n",
       "50%                  0.0   49413.000000                  NaN  \n",
       "75%                  0.0   71083.000000                  NaN  \n",
       "max                  0.0   99998.000000                  NaN  "
      ]
     },
     "metadata": {},
     "output_type": "display_data"
    }
   ],
   "source": [
    "display(data.describe())\n",
    "display(data.describe(include=['object', 'float', 'int']))"
   ]
  },
  {
   "cell_type": "code",
   "execution_count": 132,
   "metadata": {},
   "outputs": [],
   "source": [
    "#cars_for_free = data.query('price == 0')\n",
    "#cars_for_free.shape"
   ]
  },
  {
   "cell_type": "code",
   "execution_count": 133,
   "metadata": {},
   "outputs": [],
   "source": [
    "# наврятли автомобиль может стоить меньше 300 евро. Удалю выбросы.\n",
    "data = data.query('price >= 300') \n"
   ]
  },
  {
   "cell_type": "code",
   "execution_count": 139,
   "metadata": {},
   "outputs": [
    {
     "data": {
      "text/plain": [
       "Text(0, 0.5, 'Количество')"
      ]
     },
     "execution_count": 139,
     "metadata": {},
     "output_type": "execute_result"
    },
    {
     "data": {
      "image/png": "[encoded data removed]",
      "text/plain": [
       "<Figure size 864x432 with 1 Axes>"
      ]
     },
     "metadata": {
      "needs_background": "light"
     },
     "output_type": "display_data"
    }
   ],
   "source": [
    "fig, ax = plt.subplots()\n",
    "data['price'].plot(kind = 'hist', bins = 100, grid = True, range =(250, 21000), figsize = (12, 6))\n",
    "ax.set_xlabel('Цена')\n",
    "ax.set_ylabel('Количество')"
   ]
  },
  {
   "cell_type": "code",
   "execution_count": 140,
   "metadata": {},
   "outputs": [],
   "source": [
    "# значения меньше 30 не совсем реальны как и значения 20000, отфильтрую.\n",
    "data = data.query('30 < power < 400')"
   ]
  },
  {
   "cell_type": "code",
   "execution_count": 141,
   "metadata": {},
   "outputs": [
    {
     "data": {
      "text/plain": [
       "(297668, 16)"
      ]
     },
     "execution_count": 141,
     "metadata": {},
     "output_type": "execute_result"
    }
   ],
   "source": [
    "#cars_zero_power = data.query('power == 0')\n",
    "#cars_zero_power.shape\n",
    "data.shape"
   ]
  },
  {
   "cell_type": "code",
   "execution_count": 143,
   "metadata": {},
   "outputs": [
    {
     "data": {
      "text/plain": [
       "Text(0, 0.5, 'Количество')"
      ]
     },
     "execution_count": 143,
     "metadata": {},
     "output_type": "execute_result"
    },
    {
     "data": {
      "image/png": "[encoded data removed]",
      "text/plain": [
       "<Figure size 864x432 with 1 Axes>"
      ]
     },
     "metadata": {
      "needs_background": "light"
     },
     "output_type": "display_data"
    }
   ],
   "source": [
    "\n",
    "fig, ax = plt.subplots()\n",
    "data['power'].plot(kind = 'hist', bins = 100, grid = True, range =(25, 400), figsize = (12, 6))\n",
    "ax.set_xlabel('Мощность')\n",
    "ax.set_ylabel('Количество')"
   ]
  },
  {
   "cell_type": "code",
   "execution_count": 144,
   "metadata": {},
   "outputs": [],
   "source": [
    "#Определение периода регистрации авто\n",
    "#d=data['registrationyear'].unique()\n",
    "#d.sort()\n",
    "#d\n"
   ]
  },
  {
   "cell_type": "code",
   "execution_count": 145,
   "metadata": {},
   "outputs": [],
   "source": [
    "#Фильтрация столбца регистрации авто\n",
    "data = data.query('1960 < registrationyear < 2020')"
   ]
  },
  {
   "cell_type": "code",
   "execution_count": 147,
   "metadata": {},
   "outputs": [
    {
     "data": {
      "text/plain": [
       "Text(0, 0.5, 'Количество')"
      ]
     },
     "execution_count": 147,
     "metadata": {},
     "output_type": "execute_result"
    },
    {
     "data": {
      "image/png": "[encoded data removed]",
      "text/plain": [
       "<Figure size 864x432 with 1 Axes>"
      ]
     },
     "metadata": {
      "needs_background": "light"
     },
     "output_type": "display_data"
    }
   ],
   "source": [
    "fig, ax = plt.subplots()\n",
    "data['registrationyear'].plot(kind = 'hist', bins = 100, grid = True, range =(1960, 2020), figsize = (12, 6))\n",
    "ax.set_xlabel('Год регистрации авто')\n",
    "ax.set_ylabel('Количество')"
   ]
  },
  {
   "cell_type": "markdown",
   "metadata": {},
   "source": [
    "<font color=\"green\">Комментарий ревьювера   \n",
    "✔️ Молодец, хорошие выводы. Согласен с заменой пропусков в NotRepaired на 'no', хотя чаще используют 'unknown'</font>\n",
    "\n",
    "<font color=\"brown\">Комментарий ревьювера   \n",
    "⚠️ Не всегда стоит удалять пропуски, это потеря данных в других колонках. Возможно, лучше заменить на 'unknown' или проверить оба варианта :)   </font>\n",
    "    \n",
    "<font color=\"red\">Комментарий ревьювера   \n",
    "❌ Еще очень рекомендую посмотреть данные с помощью функции describe(). Возможно, ты пропустил аномалии, странные значения (точно пропустил).   \n",
    "Причем при обычном применении без параметров она покажет описание только числовых значений, но если написать c параметром, то увидешь все типы данных :)    \n",
    "df.describe(include = ['object', 'float', 'int'])   \n",
    "Хорошее описание тут http://espressocode.top/python-pandas-dataframe-describe-method/</font>\n"
   ]
  },
  {
   "cell_type": "markdown",
   "metadata": {},
   "source": [
    "<div class=\"alert alert-info\"> <b>Комментарий студента:</b> Ты прав! в столбцах мощность и цена есть выбросы. Постарался от них избавиться. Потерялось моного данных. Хотел эти нули заменить как ниже заменял пропуски по совпадениям из соседних столбцов, но у меня не получилось </div>  "
   ]
  },
  {
   "cell_type": "markdown",
   "metadata": {},
   "source": [
    "<font color=\"brown\">Комментарий ревьювера 2   \n",
    "⚠️ Здесь еще с годом RegistrationYear проблемы...    </font>"
   ]
  },
  {
   "cell_type": "markdown",
   "metadata": {},
   "source": [
    "<div class=\"alert alert-info\"> <b>Комментарий студента 2:</b> Год регистрации поправил </div>  "
   ]
  },
  {
   "cell_type": "markdown",
   "metadata": {},
   "source": [
    "<font color=\"green\">Комментарий ревьювера 3   \n",
    "✔️ Отлично.</font>"
   ]
  },
  {
   "cell_type": "code",
   "execution_count": 96,
   "metadata": {},
   "outputs": [],
   "source": [
    "#удаление дубликатов\n",
    "data.drop_duplicates(inplace = True)\n",
    "#замена значений в столбце notrepaired\n",
    "data['notrepaired'] = data['notrepaired'].fillna('no')\n"
   ]
  },
  {
   "cell_type": "code",
   "execution_count": 97,
   "metadata": {},
   "outputs": [],
   "source": [
    "#удаление пропусков\n",
    "#data = data.dropna().reset_index(drop=True)"
   ]
  },
  {
   "cell_type": "code",
   "execution_count": 98,
   "metadata": {},
   "outputs": [],
   "source": [
    "# в интернете нашел способ заполнения пропусков  по значениям других столбцов. \n",
    "#С виду все работает. поэтому удалениe пропусков предварительно закоментил.\n",
    "def fill_with_mode(column, column1, column2):\n",
    "    data[column] = data.groupby([column1, column2])[column].transform(lambda x: x.fillna((x.mode()[0] if not x.mode().empty else \"Empty\")))"
   ]
  },
  {
   "cell_type": "markdown",
   "metadata": {},
   "source": [
    "<font color=\"green\">Комментарий ревьювера   \n",
    "✔️ Молодец, отличное решение! Функция mode() особенно удобна для категориальных признаков - оно дает значение, которое чаще всего встречается в наборе данных</font>"
   ]
  },
  {
   "cell_type": "code",
   "execution_count": 99,
   "metadata": {},
   "outputs": [],
   "source": [
    "fill_with_mode('model', 'brand', 'registrationyear')\n",
    "fill_with_mode('fueltype', 'brand', 'model')\n",
    "fill_with_mode('vehicletype', 'brand', 'model')\n",
    "fill_with_mode('gearbox', 'brand', 'model')"
   ]
  },
  {
   "cell_type": "code",
   "execution_count": 100,
   "metadata": {},
   "outputs": [],
   "source": [
    "#print(data.isna().sum())\n",
    "#display(data.info())"
   ]
  },
  {
   "cell_type": "code",
   "execution_count": 148,
   "metadata": {},
   "outputs": [
    {
     "data": {
      "text/html": [
       "<div>\n",
       "<style scoped>\n",
       "    .dataframe tbody tr th:only-of-type {\n",
       "        vertical-align: middle;\n",
       "    }\n",
       "\n",
       "    .dataframe tbody tr th {\n",
       "        vertical-align: top;\n",
       "    }\n",
       "\n",
       "    .dataframe thead th {\n",
       "        text-align: right;\n",
       "    }\n",
       "</style>\n",
       "<table border=\"1\" class=\"dataframe\">\n",
       "  <thead>\n",
       "    <tr style=\"text-align: right;\">\n",
       "      <th></th>\n",
       "      <th>price</th>\n",
       "      <th>registrationyear</th>\n",
       "      <th>power</th>\n",
       "      <th>kilometer</th>\n",
       "      <th>registrationmonth</th>\n",
       "      <th>numberofpictures</th>\n",
       "      <th>postalcode</th>\n",
       "    </tr>\n",
       "  </thead>\n",
       "  <tbody>\n",
       "    <tr>\n",
       "      <th>price</th>\n",
       "      <td>1.000000</td>\n",
       "      <td>0.437035</td>\n",
       "      <td>0.503915</td>\n",
       "      <td>-0.394855</td>\n",
       "      <td>0.063395</td>\n",
       "      <td>NaN</td>\n",
       "      <td>0.063183</td>\n",
       "    </tr>\n",
       "    <tr>\n",
       "      <th>registrationyear</th>\n",
       "      <td>0.437035</td>\n",
       "      <td>1.000000</td>\n",
       "      <td>0.090841</td>\n",
       "      <td>-0.283017</td>\n",
       "      <td>0.018760</td>\n",
       "      <td>NaN</td>\n",
       "      <td>0.016945</td>\n",
       "    </tr>\n",
       "    <tr>\n",
       "      <th>power</th>\n",
       "      <td>0.503915</td>\n",
       "      <td>0.090841</td>\n",
       "      <td>1.000000</td>\n",
       "      <td>0.105356</td>\n",
       "      <td>0.037370</td>\n",
       "      <td>NaN</td>\n",
       "      <td>0.054170</td>\n",
       "    </tr>\n",
       "    <tr>\n",
       "      <th>kilometer</th>\n",
       "      <td>-0.394855</td>\n",
       "      <td>-0.283017</td>\n",
       "      <td>0.105356</td>\n",
       "      <td>1.000000</td>\n",
       "      <td>-0.015939</td>\n",
       "      <td>NaN</td>\n",
       "      <td>-0.012288</td>\n",
       "    </tr>\n",
       "    <tr>\n",
       "      <th>registrationmonth</th>\n",
       "      <td>0.063395</td>\n",
       "      <td>0.018760</td>\n",
       "      <td>0.037370</td>\n",
       "      <td>-0.015939</td>\n",
       "      <td>1.000000</td>\n",
       "      <td>NaN</td>\n",
       "      <td>0.002137</td>\n",
       "    </tr>\n",
       "    <tr>\n",
       "      <th>numberofpictures</th>\n",
       "      <td>NaN</td>\n",
       "      <td>NaN</td>\n",
       "      <td>NaN</td>\n",
       "      <td>NaN</td>\n",
       "      <td>NaN</td>\n",
       "      <td>NaN</td>\n",
       "      <td>NaN</td>\n",
       "    </tr>\n",
       "    <tr>\n",
       "      <th>postalcode</th>\n",
       "      <td>0.063183</td>\n",
       "      <td>0.016945</td>\n",
       "      <td>0.054170</td>\n",
       "      <td>-0.012288</td>\n",
       "      <td>0.002137</td>\n",
       "      <td>NaN</td>\n",
       "      <td>1.000000</td>\n",
       "    </tr>\n",
       "  </tbody>\n",
       "</table>\n",
       "</div>"
      ],
      "text/plain": [
       "                      price  registrationyear     power  kilometer  \\\n",
       "price              1.000000          0.437035  0.503915  -0.394855   \n",
       "registrationyear   0.437035          1.000000  0.090841  -0.283017   \n",
       "power              0.503915          0.090841  1.000000   0.105356   \n",
       "kilometer         -0.394855         -0.283017  0.105356   1.000000   \n",
       "registrationmonth  0.063395          0.018760  0.037370  -0.015939   \n",
       "numberofpictures        NaN               NaN       NaN        NaN   \n",
       "postalcode         0.063183          0.016945  0.054170  -0.012288   \n",
       "\n",
       "                   registrationmonth  numberofpictures  postalcode  \n",
       "price                       0.063395               NaN    0.063183  \n",
       "registrationyear            0.018760               NaN    0.016945  \n",
       "power                       0.037370               NaN    0.054170  \n",
       "kilometer                  -0.015939               NaN   -0.012288  \n",
       "registrationmonth           1.000000               NaN    0.002137  \n",
       "numberofpictures                 NaN               NaN         NaN  \n",
       "postalcode                  0.002137               NaN    1.000000  "
      ]
     },
     "metadata": {},
     "output_type": "display_data"
    },
    {
     "name": "stdout",
     "output_type": "stream",
     "text": [
      "________________________________________________\n"
     ]
    },
    {
     "data": {
      "image/png": "[encoded data removed]",
      "text/plain": [
       "<Figure size 720x720 with 2 Axes>"
      ]
     },
     "metadata": {},
     "output_type": "display_data"
    }
   ],
   "source": [
    "data_corr = data.corr()\n",
    "display(data_corr)\n",
    "line()\n",
    "mask = np.zeros_like(data_corr)\n",
    "mask[np.triu_indices_from(mask)] = True\n",
    "with sns.axes_style(\"white\"):\n",
    "    f, ax = plt.subplots(figsize=(10, 10))\n",
    "    ax = sns.heatmap(data_corr, mask=mask, square=True,annot=True)\n",
    "    plt.title(\"All columns\", fontsize =8)\n",
    "\n"
   ]
  },
  {
   "cell_type": "markdown",
   "metadata": {},
   "source": [
    "Данные обработаны. Дубликаты удалены, пропуски заполнены."
   ]
  },
  {
   "cell_type": "markdown",
   "metadata": {},
   "source": [
    "<font color=\"brown\">Комментарий ревьювера ⚠️   \n",
    "Хорошо бы еще проверить корреляцию столбцов</font>\n",
    "\n",
    "<font color=\"red\">Комментарий ревьювера ❌  \n",
    "Еще смутили месяцы, которые изменяются от 0 до 12 :)</font>\n"
   ]
  },
  {
   "cell_type": "markdown",
   "metadata": {},
   "source": [
    "<div class=\"alert alert-info\"> <b>Комментарий студента:</b> Корреляцию проверил, вроде все ок </div>  "
   ]
  },
  {
   "cell_type": "markdown",
   "metadata": {},
   "source": [
    "<div class=\"alert alert-info\"> <b>Комментарий студента:</b> С месяцами беда случилась. Могу предположить, что для части данных использовался диапазон 0-11 а для другой части 1-12 как это исправить я не понимаю. </div>  "
   ]
  },
  {
   "cell_type": "markdown",
   "metadata": {},
   "source": [
    "<font color=\"brown\">Комментарий ревьювера 2 ⚠️   \n",
    "Да. Можно просто отметить этот факт и удалить :)</font>"
   ]
  },
  {
   "cell_type": "markdown",
   "metadata": {},
   "source": [
    "<div class=\"alert alert-info\"> <b>Комментарий студента 2:</b> Ты имеешь ввиду удалисть весь столбец? </div>  "
   ]
  },
  {
   "cell_type": "markdown",
   "metadata": {},
   "source": [
    "<font color=\"green\">Комментарий ревьювера 3   \n",
    "✔️ Да, можно удалить месяцы. Эта информация никак не влияет на результат :)(.</font>"
   ]
  },
  {
   "cell_type": "markdown",
   "metadata": {},
   "source": [
    "## Обучение моделей"
   ]
  },
  {
   "cell_type": "markdown",
   "metadata": {},
   "source": [
    "### Подготовка выборок и признаков"
   ]
  },
  {
   "cell_type": "markdown",
   "metadata": {},
   "source": [
    "Признаки:\n",
    "- 'vehicletype'\n",
    "- 'registrationyear'\n",
    "- 'gearbox'\n",
    "- 'model'\n",
    "- 'fueltype'\n",
    "- 'brand'\n",
    "- 'notrepaired'\n",
    "- 'power'\n",
    "- 'kilometer'\n",
    "\n",
    "Целевой признак:\n",
    "- 'price'"
   ]
  },
  {
   "cell_type": "code",
   "execution_count": 102,
   "metadata": {},
   "outputs": [],
   "source": [
    "# удаление не нужных столбцов\n",
    "data = data.drop(['datecrawled', 'datecreated', 'numberofpictures', 'postalcode', 'lastseen'], axis=1)"
   ]
  },
  {
   "cell_type": "markdown",
   "metadata": {},
   "source": [
    "Эти стобцы решил удалить так как они не несут информации, влияющей на решение нашей задачи\n",
    "- DateCrawled — дата скачивания анкеты из базы\n",
    "- DateCreated — дата создания анкеты\n",
    "- NumberOfPictures — количество фотографий автомобиля\n",
    "- PostalCode — почтовый индекс владельца анкеты (пользователя)\n",
    "- LastSeen — дата последней активности пользователя"
   ]
  },
  {
   "cell_type": "markdown",
   "metadata": {},
   "source": [
    "<font color=\"brown\">Комментарий ревьювера   \n",
    "⚠️ Согласен, но всегда желательно  пояснять, почему ты считаешь эти столбцы не нужными. Например - их данные не несут информации, влияющей на решение нашей задачи</font>\n"
   ]
  },
  {
   "cell_type": "markdown",
   "metadata": {},
   "source": [
    "<div class=\"alert alert-info\"> <b>Комментарий студента:</b> Исправил. </div> "
   ]
  },
  {
   "cell_type": "markdown",
   "metadata": {},
   "source": [
    "<font color=\"green\">Комментарий ревьювера 2   \n",
    "✔️ Хорошо!</font>"
   ]
  },
  {
   "cell_type": "code",
   "execution_count": 103,
   "metadata": {
    "scrolled": true
   },
   "outputs": [
    {
     "data": {
      "text/html": [
       "<div>\n",
       "<style scoped>\n",
       "    .dataframe tbody tr th:only-of-type {\n",
       "        vertical-align: middle;\n",
       "    }\n",
       "\n",
       "    .dataframe tbody tr th {\n",
       "        vertical-align: top;\n",
       "    }\n",
       "\n",
       "    .dataframe thead th {\n",
       "        text-align: right;\n",
       "    }\n",
       "</style>\n",
       "<table border=\"1\" class=\"dataframe\">\n",
       "  <thead>\n",
       "    <tr style=\"text-align: right;\">\n",
       "      <th></th>\n",
       "      <th>price</th>\n",
       "      <th>registrationyear</th>\n",
       "      <th>power</th>\n",
       "      <th>kilometer</th>\n",
       "      <th>registrationmonth</th>\n",
       "      <th>vehicletype_convertible</th>\n",
       "      <th>vehicletype_coupe</th>\n",
       "      <th>vehicletype_other</th>\n",
       "      <th>vehicletype_sedan</th>\n",
       "      <th>vehicletype_small</th>\n",
       "      <th>...</th>\n",
       "      <th>brand_skoda</th>\n",
       "      <th>brand_smart</th>\n",
       "      <th>brand_sonstige_autos</th>\n",
       "      <th>brand_subaru</th>\n",
       "      <th>brand_suzuki</th>\n",
       "      <th>brand_toyota</th>\n",
       "      <th>brand_trabant</th>\n",
       "      <th>brand_volkswagen</th>\n",
       "      <th>brand_volvo</th>\n",
       "      <th>notrepaired_yes</th>\n",
       "    </tr>\n",
       "  </thead>\n",
       "  <tbody>\n",
       "    <tr>\n",
       "      <th>1</th>\n",
       "      <td>18300</td>\n",
       "      <td>2011</td>\n",
       "      <td>190</td>\n",
       "      <td>125000</td>\n",
       "      <td>5</td>\n",
       "      <td>0</td>\n",
       "      <td>1</td>\n",
       "      <td>0</td>\n",
       "      <td>0</td>\n",
       "      <td>0</td>\n",
       "      <td>...</td>\n",
       "      <td>0</td>\n",
       "      <td>0</td>\n",
       "      <td>0</td>\n",
       "      <td>0</td>\n",
       "      <td>0</td>\n",
       "      <td>0</td>\n",
       "      <td>0</td>\n",
       "      <td>0</td>\n",
       "      <td>0</td>\n",
       "      <td>1</td>\n",
       "    </tr>\n",
       "    <tr>\n",
       "      <th>2</th>\n",
       "      <td>9800</td>\n",
       "      <td>2004</td>\n",
       "      <td>163</td>\n",
       "      <td>125000</td>\n",
       "      <td>8</td>\n",
       "      <td>0</td>\n",
       "      <td>0</td>\n",
       "      <td>0</td>\n",
       "      <td>0</td>\n",
       "      <td>0</td>\n",
       "      <td>...</td>\n",
       "      <td>0</td>\n",
       "      <td>0</td>\n",
       "      <td>0</td>\n",
       "      <td>0</td>\n",
       "      <td>0</td>\n",
       "      <td>0</td>\n",
       "      <td>0</td>\n",
       "      <td>0</td>\n",
       "      <td>0</td>\n",
       "      <td>0</td>\n",
       "    </tr>\n",
       "    <tr>\n",
       "      <th>3</th>\n",
       "      <td>1500</td>\n",
       "      <td>2001</td>\n",
       "      <td>75</td>\n",
       "      <td>150000</td>\n",
       "      <td>6</td>\n",
       "      <td>0</td>\n",
       "      <td>0</td>\n",
       "      <td>0</td>\n",
       "      <td>0</td>\n",
       "      <td>1</td>\n",
       "      <td>...</td>\n",
       "      <td>0</td>\n",
       "      <td>0</td>\n",
       "      <td>0</td>\n",
       "      <td>0</td>\n",
       "      <td>0</td>\n",
       "      <td>0</td>\n",
       "      <td>0</td>\n",
       "      <td>1</td>\n",
       "      <td>0</td>\n",
       "      <td>0</td>\n",
       "    </tr>\n",
       "    <tr>\n",
       "      <th>4</th>\n",
       "      <td>3600</td>\n",
       "      <td>2008</td>\n",
       "      <td>69</td>\n",
       "      <td>90000</td>\n",
       "      <td>7</td>\n",
       "      <td>0</td>\n",
       "      <td>0</td>\n",
       "      <td>0</td>\n",
       "      <td>0</td>\n",
       "      <td>1</td>\n",
       "      <td>...</td>\n",
       "      <td>1</td>\n",
       "      <td>0</td>\n",
       "      <td>0</td>\n",
       "      <td>0</td>\n",
       "      <td>0</td>\n",
       "      <td>0</td>\n",
       "      <td>0</td>\n",
       "      <td>0</td>\n",
       "      <td>0</td>\n",
       "      <td>0</td>\n",
       "    </tr>\n",
       "    <tr>\n",
       "      <th>5</th>\n",
       "      <td>650</td>\n",
       "      <td>1995</td>\n",
       "      <td>102</td>\n",
       "      <td>150000</td>\n",
       "      <td>10</td>\n",
       "      <td>0</td>\n",
       "      <td>0</td>\n",
       "      <td>0</td>\n",
       "      <td>1</td>\n",
       "      <td>0</td>\n",
       "      <td>...</td>\n",
       "      <td>0</td>\n",
       "      <td>0</td>\n",
       "      <td>0</td>\n",
       "      <td>0</td>\n",
       "      <td>0</td>\n",
       "      <td>0</td>\n",
       "      <td>0</td>\n",
       "      <td>0</td>\n",
       "      <td>0</td>\n",
       "      <td>1</td>\n",
       "    </tr>\n",
       "  </tbody>\n",
       "</table>\n",
       "<p>5 rows × 308 columns</p>\n",
       "</div>"
      ],
      "text/plain": [
       "   price  registrationyear  power  kilometer  registrationmonth  \\\n",
       "1  18300              2011    190     125000                  5   \n",
       "2   9800              2004    163     125000                  8   \n",
       "3   1500              2001     75     150000                  6   \n",
       "4   3600              2008     69      90000                  7   \n",
       "5    650              1995    102     150000                 10   \n",
       "\n",
       "   vehicletype_convertible  vehicletype_coupe  vehicletype_other  \\\n",
       "1                        0                  1                  0   \n",
       "2                        0                  0                  0   \n",
       "3                        0                  0                  0   \n",
       "4                        0                  0                  0   \n",
       "5                        0                  0                  0   \n",
       "\n",
       "   vehicletype_sedan  vehicletype_small  ...  brand_skoda  brand_smart  \\\n",
       "1                  0                  0  ...            0            0   \n",
       "2                  0                  0  ...            0            0   \n",
       "3                  0                  1  ...            0            0   \n",
       "4                  0                  1  ...            1            0   \n",
       "5                  1                  0  ...            0            0   \n",
       "\n",
       "   brand_sonstige_autos  brand_subaru  brand_suzuki  brand_toyota  \\\n",
       "1                     0             0             0             0   \n",
       "2                     0             0             0             0   \n",
       "3                     0             0             0             0   \n",
       "4                     0             0             0             0   \n",
       "5                     0             0             0             0   \n",
       "\n",
       "   brand_trabant  brand_volkswagen  brand_volvo  notrepaired_yes  \n",
       "1              0                 0            0                1  \n",
       "2              0                 0            0                0  \n",
       "3              0                 1            0                0  \n",
       "4              0                 0            0                0  \n",
       "5              0                 0            0                1  \n",
       "\n",
       "[5 rows x 308 columns]"
      ]
     },
     "execution_count": 103,
     "metadata": {},
     "output_type": "execute_result"
    }
   ],
   "source": [
    "#прямое кодирование\n",
    "\n",
    "data_ohe = (\n",
    "    pd.get_dummies(data, drop_first = True, \n",
    "    columns =['vehicletype', 'gearbox', 'model', 'fueltype', 'brand', 'notrepaired'])\n",
    ")\n",
    "data_ohe.head(5)\n",
    "\n"
   ]
  },
  {
   "cell_type": "code",
   "execution_count": 104,
   "metadata": {},
   "outputs": [
    {
     "name": "stdout",
     "output_type": "stream",
     "text": [
      "<class 'pandas.core.frame.DataFrame'>\n",
      "Int64Index: 297503 entries, 1 to 354368\n",
      "Columns: 308 entries, price to notrepaired_yes\n",
      "dtypes: int64(5), uint8(303)\n",
      "memory usage: 99.6 MB\n"
     ]
    }
   ],
   "source": [
    "data_ohe.info()"
   ]
  },
  {
   "cell_type": "markdown",
   "metadata": {},
   "source": [
    "<font color=\"green\">Комментарий ревьювера   \n",
    "✔️ Хорошо, столбцы для категорирования выбраны верно.</font>\n"
   ]
  },
  {
   "cell_type": "markdown",
   "metadata": {},
   "source": [
    "cats_cols = list(data.select_dtypes(include='object').columns)\n",
    "label_encode = LabelEncoder()\n",
    "for column in cats_cols:\n",
    "    label_encode.fit(data[column].astype('str'))\n",
    "    data[column] = label_encode.transform(data[column].astype('str'))"
   ]
  },
  {
   "cell_type": "code",
   "execution_count": 105,
   "metadata": {},
   "outputs": [],
   "source": [
    "#разделение выборки на обучающу, валидационную и тестовую\n",
    "#определение признаков\n",
    "features = data_ohe.drop('price', axis=1)\n",
    "target = data_ohe['price']\n",
    "\n",
    "# Получение пропорции 60:40\n",
    "\n",
    "features_train, features_40, target_train, target_40 = train_test_split(\n",
    "    features, target, test_size = 0.40, random_state = 12345)\n",
    "\n",
    "# Разделение 40 % на две части\n",
    "\n",
    "features_valid, features_test, target_valid, target_test = train_test_split(\n",
    "    features_40, target_40, test_size = 0.50, random_state = 12345)\n",
    "\n",
    "\n"
   ]
  },
  {
   "cell_type": "code",
   "execution_count": 106,
   "metadata": {},
   "outputs": [],
   "source": [
    "# Масштабирование признаков\n",
    "numeric = (\n",
    "    ['registrationyear', 'power', 'kilometer', 'registrationmonth']\n",
    ")\n",
    "\n",
    "scaler = StandardScaler()\n",
    "scaler.fit(features_train[numeric])\n",
    "\n",
    "features_train[numeric] = scaler.transform(features_train[numeric])\n",
    "features_valid[numeric] = scaler.transform(features_valid[numeric])\n",
    "features_test[numeric] = scaler.transform(features_test[numeric])"
   ]
  },
  {
   "cell_type": "markdown",
   "metadata": {},
   "source": [
    "<font color=\"green\">Комментарий ревьювера   \n",
    "✔️ Масштабирование правильное. Хорошо, что используешь его после разбиения на выборки, это позволяет избежать утечек данных и \"подглядывание в будущее\".</font>\n",
    "\n"
   ]
  },
  {
   "cell_type": "code",
   "execution_count": 107,
   "metadata": {},
   "outputs": [
    {
     "name": "stdout",
     "output_type": "stream",
     "text": [
      "<class 'pandas.core.frame.DataFrame'>\n",
      "Int64Index: 297503 entries, 1 to 354368\n",
      "Columns: 307 entries, registrationyear to notrepaired_yes\n",
      "dtypes: int64(4), uint8(303)\n",
      "memory usage: 97.3 MB\n"
     ]
    }
   ],
   "source": [
    "features.info()"
   ]
  },
  {
   "cell_type": "markdown",
   "metadata": {},
   "source": [
    "### LightGBM регресия"
   ]
  },
  {
   "cell_type": "code",
   "execution_count": 108,
   "metadata": {},
   "outputs": [],
   "source": [
    "#%%time\n",
    "\n",
    "#regressor = LGBMRegressor() \n",
    "#hyperparams = [{'num_leaves':[31, 100, 200], \n",
    "#                'learning_rate':[0.1, 0.3, 0.5],\n",
    "#                'random_state':[RND]}]\n",
    "\n",
    "#print('# Подбор гиперпараметров для получения лучшей метрики')\n",
    "#line()\n",
    "#clf = GridSearchCV(regressor, hyperparams, scoring='neg_mean_squared_error')\n",
    "#clf.fit(features_train, target_train)\n",
    "#print(\"Лучший RMSE получается при следуюших параметрах:\")\n",
    "#print(clf.best_params_)\n",
    "#line()\n",
    "#print(\"Проверенные параметры:\")\n",
    "#means = clf.cv_results_['mean_test_score']\n",
    "#stds = clf.cv_results_['std_test_score']\n",
    "#for mean, std, params in zip(means, stds, clf.cv_results_['params']):\n",
    "#    print(\"%0.6f for %r\"% ((mean*-1)** 0.5, params))\n",
    "#print()\n",
    "\n",
    "#cv_RMSE_LGBMR = (max(means)*-1) ** 0.5\n",
    "cv_RMSE_LGBMR = 1570"
   ]
  },
  {
   "cell_type": "markdown",
   "metadata": {},
   "source": [
    " Подбор гиперпараметров для получения лучшей метрики\n",
    "________________________________________________\n",
    "Лучший RMSE получается при следуюших параметрах:\n",
    "\n",
    "{'learning_rate': 0.3, 'num_leaves': 200, 'random_state': 12345}\n",
    "________________________________________________\n",
    "Проверенные параметры:\n",
    "\n",
    "1694.887033 for {'learning_rate': 0.1, 'num_leaves': 31, 'random_state': 12345}\n",
    "\n",
    "1607.104554 for {'learning_rate': 0.1, 'num_leaves': 100, 'random_state': 12345}\n",
    "\n",
    "1570.812330 for {'learning_rate': 0.1, 'num_leaves': 200, 'random_state': 12345}\n",
    "\n",
    "1639.761839 for {'learning_rate': 0.3, 'num_leaves': 31, 'random_state': 12345}\n",
    "\n",
    "1579.845849 for {'learning_rate': 0.3, 'num_leaves': 100, 'random_state': 12345}\n",
    "\n",
    "1570.727501 for {'learning_rate': 0.3, 'num_leaves': 200, 'random_state': 12345}\n",
    "\n",
    "1632.229214 for {'learning_rate': 0.5, 'num_leaves': 31, 'random_state': 12345}\n",
    "\n",
    "1607.801277 for {'learning_rate': 0.5, 'num_leaves': 100, 'random_state': 12345}\n",
    "\n",
    "1609.251316 for {'learning_rate': 0.5, 'num_leaves': 200, 'random_state': 12345}\n",
    "\n",
    "CPU times: user 50min 19s, sys: 25.7 s, total: 50min 45s\n",
    "\n",
    "Wall time: 51min 3s\n"
   ]
  },
  {
   "cell_type": "markdown",
   "metadata": {},
   "source": [
    "<font color=\"green\">Комментарий ревьювера 2   \n",
    "✔️ Верно! Хорошо, что ты умеешь применть cv_results_ (словарь всех метрик оценки из gridsearch)</font>\n",
    "\n",
    "<font color=\"brown\">Комментарий ревьювера    \n",
    "⚠️ Желательно заменить признаки со значениями типа object на category   \n",
    "Желательно вынести random_state в константы\n",
    "\n",
    "Еще совет. Ревьюверы перезапускают проекты и если есть GridSearchCV - выполнение кода может затянуться на часы, как здесь и вышло. На будущее - лучше закомментировать GridSearchCV и вручную указать полученные тобой лучше параметры :)</font> "
   ]
  },
  {
   "cell_type": "markdown",
   "metadata": {},
   "source": [
    "<div class=\"alert alert-info\"> <b>Комментарий студента:</b> вывел random_state в константы. dtypes: int64(4), uint8(306) не совсем понял что нужно изменить. Все закоментил извиняюсь) </div> "
   ]
  },
  {
   "cell_type": "markdown",
   "metadata": {},
   "source": [
    "<font color=\"green\">Комментарий ревьювера 2     \n",
    "✔️ Хорошо. Порядковое кодирование работает лучше с данными типа \"category\"</font>\n",
    "\n"
   ]
  },
  {
   "cell_type": "markdown",
   "metadata": {},
   "source": [
    "### CatBoost регресия"
   ]
  },
  {
   "cell_type": "code",
   "execution_count": 109,
   "metadata": {},
   "outputs": [],
   "source": [
    "#%%time\n",
    "\n",
    "#regressor = CatBoostRegressor() \n",
    "#hyperparams = [{'learning_rate':[0.1, 0.5, 0.8],\n",
    "#                'random_state':[RND],\n",
    "#                'verbose':[False]}]\n",
    "\n",
    "#print('# Подбор гиперпараметров для получения лучшей метрики')\n",
    "#line()\n",
    "#clf = GridSearchCV(regressor, hyperparams, scoring='neg_mean_squared_error')\n",
    "#clf.fit(features_train, target_train)\n",
    "#print(\"Лучший RMSE получается при следуюших параметрах:\")\n",
    "#print(clf.best_params_)\n",
    "#line()\n",
    "#print(\"Проверенные параметры::\")\n",
    "#means = clf.cv_results_['mean_test_score']\n",
    "#stds = clf.cv_results_['std_test_score']\n",
    "#for mean, std, params in zip(means, stds, clf.cv_results_['params']):\n",
    "#    print(\"%0.6f for %r\"% ((mean*-1)** 0.5, params))\n",
    "\n",
    "\n",
    "#cv_RMSE_CBR = (max(means)*-1) ** 0.5\n",
    "cv_RMSE_CBR = 1577"
   ]
  },
  {
   "cell_type": "markdown",
   "metadata": {},
   "source": [
    " Подбор гиперпараметров для получения лучшей метрики\n",
    "________________________________________________\n",
    "Лучший RMSE получается при следуюших параметрах:\n",
    "\n",
    "{'learning_rate': 0.5, 'random_state': 12345, 'verbose': False}\n",
    "________________________________________________\n",
    "Проверенные параметры::\n",
    "1605.475215 for {'learning_rate': 0.1, 'random_state': 12345, 'verbose': False}\n",
    "\n",
    "1577.107882 for {'learning_rate': 0.5, 'random_state': 12345, 'verbose': False}\n",
    "\n",
    "1606.051665 for {'learning_rate': 0.8, 'random_state': 12345, 'verbose': False}\n",
    "\n",
    "CPU times: user 9min 56s, sys: 3.13 s, total: 10min\n",
    "\n",
    "Wall time: 10min 32s"
   ]
  },
  {
   "cell_type": "markdown",
   "metadata": {},
   "source": [
    "<font color=\"green\">Комментарий ревьювера   \n",
    "✔️ Хорошо</font>\n"
   ]
  },
  {
   "cell_type": "markdown",
   "metadata": {},
   "source": [
    "### XGBRegressor"
   ]
  },
  {
   "cell_type": "code",
   "execution_count": 110,
   "metadata": {},
   "outputs": [],
   "source": [
    "#%%time\n",
    "\n",
    "#regressor = XGBRegressor() \n",
    "#hyperparams = [{'learning_rate':[0.1, 0.5, 0.8],\n",
    "#                'random_state':[RND]}]\n",
    "\n",
    "#print('# Tuning hyper-parameters for root_mean_squared_error')\n",
    "#print()\n",
    "#clf = GridSearchCV(regressor, hyperparams, scoring='neg_mean_squared_error')\n",
    "#clf.fit(features_train, target_train)\n",
    "#print(\"Best parameters set found on development set:\")\n",
    "#print()\n",
    "#print(clf.best_params_)\n",
    "#print()\n",
    "#print(\"Grid scores on development set:\")\n",
    "#print()\n",
    "#means = clf.cv_results_['mean_test_score']\n",
    "#stds = clf.cv_results_['std_test_score']\n",
    "#for mean, std, params in zip(means, stds, clf.cv_results_['params']):\n",
    "#    print(\"%0.6f for %r\"% ((mean*-1)** 0.5, params))\n",
    "#print()\n",
    "\n",
    "#cv_RMSE_XGBR = (max(means)*-1) ** 0.5\n",
    "\n",
    "cv_RMSE_XGBR = 1646\n"
   ]
  },
  {
   "cell_type": "markdown",
   "metadata": {},
   "source": [
    " Tuning hyper-parameters for root_mean_squared_error\n",
    "\n",
    "Best parameters set found on development set:\n",
    "\n",
    "{'learning_rate': 0.5, 'random_state': 12345}\n",
    "\n",
    "Grid scores on development set:\n",
    "\n",
    "1708.767804 for {'learning_rate': 0.1, 'random_state': 12345}\n",
    "\n",
    "1646.474289 for {'learning_rate': 0.5, 'random_state': 12345}\n",
    "\n",
    "1673.735786 for {'learning_rate': 0.8, 'random_state': 12345}\n",
    "\n",
    "CPU times: user 2h 47s, sys: 20 s, total: 2h 1min 7s\n",
    "\n",
    "Wall time: 2h 1min 22s"
   ]
  },
  {
   "cell_type": "markdown",
   "metadata": {},
   "source": [
    "<font color=\"brown\">Комментарий ревьювера   \n",
    "⚠️ В целом хорошо, но для LightGBM, CatBoost, и XGBRegressor обычно лучше применять порядковое кодирование (OrdinalEncoder). \n",
    "    \n",
    "Также еще удобно бывает использовать cross_val_score с scoring='neg_root_mean_squared_error'.</font>"
   ]
  },
  {
   "cell_type": "markdown",
   "metadata": {},
   "source": [
    "## Анализ моделей"
   ]
  },
  {
   "cell_type": "markdown",
   "metadata": {},
   "source": [
    "Для анализа моделей проведу обучение с лучшими гиперпараметрами"
   ]
  },
  {
   "cell_type": "markdown",
   "metadata": {},
   "source": [
    "### LightGBM"
   ]
  },
  {
   "cell_type": "code",
   "execution_count": 111,
   "metadata": {},
   "outputs": [],
   "source": [
    "#%%time\n",
    "start = time.time()\n",
    "model = LGBMRegressor(learning_rate=0.3, \n",
    "                      num_leaves=200, \n",
    "                      random_state=RND)\n",
    "model.fit(features_train, target_train)\n",
    "end = time.time()\n",
    "time_l_LGBMR = end - start"
   ]
  },
  {
   "cell_type": "code",
   "execution_count": 112,
   "metadata": {},
   "outputs": [],
   "source": [
    "#%%time\n",
    "start = time.time()\n",
    "predict_valid = model.predict(features_valid)\n",
    "end = time.time()\n",
    "time_pred_LGBMR = end - start"
   ]
  },
  {
   "cell_type": "code",
   "execution_count": 113,
   "metadata": {},
   "outputs": [],
   "source": [
    "final_RMSE_LGBMR = mse(target_valid, predict_valid, squared=False)\n"
   ]
  },
  {
   "cell_type": "markdown",
   "metadata": {},
   "source": [
    "<font color='brown'><font color=\"brown\">Комментарий ревьювера   \n",
    "⚠️ MSE ** 0.5 выглядит странно, там же есть параметр squared=False.</font><br>\n",
    "    \n",
    "\n",
    "<font color=\"red\">Комментарий ревьювера   \n",
    "❌ RMSE на тестовой выборке не делают, нужно на валидационной. Или можно задать кросс-валидацию в гридсёрч scoring='neg_root_mean_squared_error' и взял best_score_.    \n",
    "Посмотри внимательно на выборки - у тебя их 3, а ты используешь везде только 2 :)  Я бы рекомендовал на тестовой потом проверить итоговые данные</font>"
   ]
  },
  {
   "cell_type": "markdown",
   "metadata": {},
   "source": [
    "<div class=\"alert alert-info\"> <b>Комментарий студента:</b> Исправил на валидационную выборку.\n",
    "\n",
    "Не совсем понял как проверитьна тестовой выборке итоговые данные?\n",
    "</div> "
   ]
  },
  {
   "cell_type": "markdown",
   "metadata": {},
   "source": [
    "<font color=\"red\">Комментарий ревьювера 2   \n",
    "❌ Вспомни раздел \"Обучение с учителем\" :) Просто загоняешь в предсказание модели тестовые данные и смотришь - измменились результаты относительно обучения или нет. Только надо сверять и таргет и предикт - тестовые :)</font>\n",
    "\n"
   ]
  },
  {
   "cell_type": "markdown",
   "metadata": {},
   "source": [
    "<div class=\"alert alert-info\"> <b>Комментарий студента 2:</b> Вроде бы разобрался и все исправил.\n",
    "</div> "
   ]
  },
  {
   "cell_type": "markdown",
   "metadata": {},
   "source": [
    "<font color=\"green\">Комментарий ревьювера 3   \n",
    "✔️ Отлично.</font>"
   ]
  },
  {
   "cell_type": "code",
   "execution_count": 114,
   "metadata": {},
   "outputs": [],
   "source": [
    "predict_test = model.predict(features_test)\n",
    "t_RMSE_LGBMR = mse(target_test, predict_test, squared=False)"
   ]
  },
  {
   "cell_type": "markdown",
   "metadata": {},
   "source": [
    "### CatBoost"
   ]
  },
  {
   "cell_type": "code",
   "execution_count": 115,
   "metadata": {},
   "outputs": [],
   "source": [
    "#%%time\n",
    "start = time.time()\n",
    "model = CatBoostRegressor(learning_rate=0.5, \n",
    "                          random_state=RND, \n",
    "                          verbose=False) \n",
    "model.fit(features_train, target_train)\n",
    "end = time.time()\n",
    "time_l_CBR = end - start"
   ]
  },
  {
   "cell_type": "code",
   "execution_count": 116,
   "metadata": {},
   "outputs": [],
   "source": [
    "#%%time\n",
    "start = time.time()\n",
    "predict_valid = model.predict(features_valid)\n",
    "end = time.time()\n",
    "time_pred_CBR = end - start\n"
   ]
  },
  {
   "cell_type": "code",
   "execution_count": 117,
   "metadata": {},
   "outputs": [],
   "source": [
    "final_RMSE_CBR = mse(target_valid, predict_valid, squared=False)"
   ]
  },
  {
   "cell_type": "code",
   "execution_count": 118,
   "metadata": {},
   "outputs": [],
   "source": [
    "predict_test = model.predict(features_test)\n",
    "t_RMSE_CBR = mse(target_test, predict_test, squared=False)"
   ]
  },
  {
   "cell_type": "markdown",
   "metadata": {},
   "source": [
    "### XGBRegressor"
   ]
  },
  {
   "cell_type": "code",
   "execution_count": 119,
   "metadata": {},
   "outputs": [],
   "source": [
    "#%%time\n",
    "start = time.time()\n",
    "model = XGBRegressor(learning_rate=0.5, \n",
    "                          random_state=RND) \n",
    "model.fit(features_train, target_train)\n",
    "end = time.time()\n",
    "time_l_XGBR = end - start"
   ]
  },
  {
   "cell_type": "code",
   "execution_count": 120,
   "metadata": {},
   "outputs": [],
   "source": [
    "#%%time\n",
    "start = time.time()\n",
    "predict_valid = model.predict(features_valid)\n",
    "end = time.time()\n",
    "time_pred_XGBR = end - start"
   ]
  },
  {
   "cell_type": "code",
   "execution_count": 121,
   "metadata": {},
   "outputs": [],
   "source": [
    "final_RMSE_XGBR = mse(target_valid, predict_valid, squared=False)"
   ]
  },
  {
   "cell_type": "code",
   "execution_count": 122,
   "metadata": {},
   "outputs": [],
   "source": [
    "predict_test = model.predict(features_test)\n",
    "t_RMSE_XGBR = mse(target_test, predict_test, squared=False)"
   ]
  },
  {
   "cell_type": "markdown",
   "metadata": {},
   "source": [
    "### Сравнительная таблица"
   ]
  },
  {
   "cell_type": "code",
   "execution_count": 123,
   "metadata": {},
   "outputs": [
    {
     "data": {
      "text/html": [
       "<div>\n",
       "<style scoped>\n",
       "    .dataframe tbody tr th:only-of-type {\n",
       "        vertical-align: middle;\n",
       "    }\n",
       "\n",
       "    .dataframe tbody tr th {\n",
       "        vertical-align: top;\n",
       "    }\n",
       "\n",
       "    .dataframe thead th {\n",
       "        text-align: right;\n",
       "    }\n",
       "</style>\n",
       "<table border=\"1\" class=\"dataframe\">\n",
       "  <thead>\n",
       "    <tr style=\"text-align: right;\">\n",
       "      <th></th>\n",
       "      <th>RMSE на CV</th>\n",
       "      <th>Время обучения на CV, мин</th>\n",
       "      <th>RMSE модели на валидационной выборке</th>\n",
       "      <th>Время обучения модели, сек</th>\n",
       "      <th>Время предсказания модели, сек</th>\n",
       "      <th>RMSE модели на тестовой выборке</th>\n",
       "    </tr>\n",
       "  </thead>\n",
       "  <tbody>\n",
       "    <tr>\n",
       "      <th>LGBMRegressor</th>\n",
       "      <td>1570</td>\n",
       "      <td>51</td>\n",
       "      <td>1548.969034</td>\n",
       "      <td>287.558214</td>\n",
       "      <td>0.801394</td>\n",
       "      <td>1559.001025</td>\n",
       "    </tr>\n",
       "    <tr>\n",
       "      <th>CatBoostRegressor</th>\n",
       "      <td>1577</td>\n",
       "      <td>10</td>\n",
       "      <td>1558.623015</td>\n",
       "      <td>25.543824</td>\n",
       "      <td>0.115901</td>\n",
       "      <td>1554.620034</td>\n",
       "    </tr>\n",
       "    <tr>\n",
       "      <th>XGBRegressor</th>\n",
       "      <td>1646</td>\n",
       "      <td>121</td>\n",
       "      <td>1634.123614</td>\n",
       "      <td>354.418941</td>\n",
       "      <td>0.869751</td>\n",
       "      <td>1633.351994</td>\n",
       "    </tr>\n",
       "  </tbody>\n",
       "</table>\n",
       "</div>"
      ],
      "text/plain": [
       "                   RMSE на CV  Время обучения на CV, мин  \\\n",
       "LGBMRegressor            1570                         51   \n",
       "CatBoostRegressor        1577                         10   \n",
       "XGBRegressor             1646                        121   \n",
       "\n",
       "                   RMSE модели на валидационной выборке  \\\n",
       "LGBMRegressor                               1548.969034   \n",
       "CatBoostRegressor                           1558.623015   \n",
       "XGBRegressor                                1634.123614   \n",
       "\n",
       "                   Время обучения модели, сек  Время предсказания модели, сек  \\\n",
       "LGBMRegressor                      287.558214                        0.801394   \n",
       "CatBoostRegressor                   25.543824                        0.115901   \n",
       "XGBRegressor                       354.418941                        0.869751   \n",
       "\n",
       "                   RMSE модели на тестовой выборке  \n",
       "LGBMRegressor                          1559.001025  \n",
       "CatBoostRegressor                      1554.620034  \n",
       "XGBRegressor                           1633.351994  "
      ]
     },
     "execution_count": 123,
     "metadata": {},
     "output_type": "execute_result"
    }
   ],
   "source": [
    "index = ['LGBMRegressor', \n",
    "         'CatBoostRegressor', \n",
    "         'XGBRegressor']\n",
    "data = {'RMSE на CV':[cv_RMSE_LGBMR, \n",
    "                      cv_RMSE_CBR, \n",
    "                      cv_RMSE_XGBR],\n",
    "        'Время обучения на CV, мин':[51, \n",
    "                                     10, \n",
    "                                     121],\n",
    "        'RMSE модели на валидационной выборке':[final_RMSE_LGBMR,\n",
    "                                           final_RMSE_CBR,\n",
    "                                           final_RMSE_XGBR],\n",
    "        'Время обучения модели, сек':[time_l_LGBMR,\n",
    "                                      time_l_CBR,\n",
    "                                      time_l_XGBR],\n",
    "        'Время предсказания модели, сек':[time_pred_LGBMR,\n",
    "                                          time_pred_CBR,\n",
    "                                          time_pred_XGBR],\n",
    "        'RMSE модели на тестовой выборке':[t_RMSE_LGBMR,\n",
    "                                           t_RMSE_CBR,\n",
    "                                           t_RMSE_XGBR]}\n",
    "\n",
    "scores_data = pd.DataFrame(data=data, index=index)\n",
    "scores_data"
   ]
  },
  {
   "cell_type": "markdown",
   "metadata": {},
   "source": [
    "### Вывод"
   ]
  },
  {
   "cell_type": "markdown",
   "metadata": {},
   "source": [
    "Лучший показатель RMSE  на валидационной выборке получился на модели LGBMRegressor\t с learning_rate=0.3, num_leaves=200, random_state=12345.\n",
    "\n",
    "Лучший показатель RMSE модели на тестовой выборке получился на модели CatBoostRegressor, так же данная модель является самой быстрой.\n",
    "\n",
    "Хуже всего себя проявила модель XGBRegressor. Худший показатель RMSE и долгое время обучения и предсказания\n",
    "\n",
    "RMSE модели LGBMRegressor ухудшилось на тестовой выбокре по сравнению с валидационной."
   ]
  },
  {
   "cell_type": "markdown",
   "metadata": {},
   "source": [
    "<font color=\"brown\">Комментарий ревьювера   \n",
    "⚠️ Ввод времени вручную - не самый лучший способ. Я понимаю, что использование %%time - удобно. Но лучше все-таки автоматизироваnь. Можно с помощью простого start_time = datetime.now()</font>\n",
    "\n",
    "<font color=\"red\">Комментарий ревьювера   \n",
    "❌ Хорошо бы написать окончательный вывод - какой метод лучше всего сработал и с какими параметрами\n",
    "\n",
    "Посмотри еще раз на данные. Там точно еще есть аномалии :)\n",
    "</font>"
   ]
  },
  {
   "cell_type": "markdown",
   "metadata": {},
   "source": [
    "<div class=\"alert alert-info\"> <b>Комментарий студента:</b> Вывод добавил, от аномалий избавился.\n",
    "\n",
    "Ввод времени автоматизировал, но гридсерч не стал так делать не хватает терпения ждать еще раз.\n",
    "\n",
    "Не могу сообразить почему  RMSE модели на валидационной выборке получается  в несколько раз хуже?\n",
    "    \n",
    "Время обучения на гридсерч выросло примерно в 1.5 раза после избавления от выбросов. Почему?\n",
    "    \n",
    "\n",
    "</div> "
   ]
  },
  {
   "cell_type": "markdown",
   "metadata": {},
   "source": [
    "<font color='brown'><font color=\"brown\">Комментарий ревьювера 2  \n",
    "⚠️ Написал в начале раздела 4  Анализ моделей. Все будет нормально :)"
   ]
  },
  {
   "cell_type": "markdown",
   "metadata": {},
   "source": [
    "<div class=\"alert alert-info\"> <b>Комментарий студента 2:</b> Подскажи, пожалуйста, почему при вторичном прогоне кода время обучения модели LGBMRegressor уменьшается в два раза, а на других моделях время остается неизменным? при первичном прогоне 800 сек и при вторичном 290.\n",
    "</div> "
   ]
  },
  {
   "cell_type": "markdown",
   "metadata": {},
   "source": [
    "<font color=\"green\">Комментарий ревьювера 3   \n",
    "✔️ Вижу, данные RMSE теперь верные, ок.\n",
    "\n",
    "По времени сказать не смогу, нужно перезапустить код для экспериментов, но это странно. Т.к. обучение очень длинное, то можно попробовать поэкспериментировать -  сделай игрушечный датасет из 100 строк. Например можешь взять от сюда самые важные столбцы - цену, мощность и год регистрации и проверить :)"
   ]
  },
  {
   "cell_type": "markdown",
   "metadata": {},
   "source": [
    "## Чек-лист проверки"
   ]
  },
  {
   "cell_type": "markdown",
   "metadata": {},
   "source": [
    "Поставьте 'x' в выполненных пунктах. Далее нажмите Shift+Enter."
   ]
  },
  {
   "cell_type": "markdown",
   "metadata": {},
   "source": [
    "- [x]  Jupyter Notebook открыт\n",
    "- [ ]  Весь код выполняется без ошибок\n",
    "- [ ]  Ячейки с кодом расположены в порядке исполнения\n",
    "- [ ]  Выполнена загрузка и подготовка данных\n",
    "- [ ]  Выполнено обучение моделей\n",
    "- [ ]  Есть анализ скорости работы и качества моделей"
   ]
  },
  {
   "cell_type": "markdown",
   "metadata": {},
   "source": [
    "<font color='green'>Молодец, хорошая работа над проектом, выполнены все пункты задания. Хорошая работа с моделями, применены полезные и удобные функции. Есть небольшие замечания, но это ничего страшного, их исправление позволит сделать проект лучше и хорошо разобраться в теме. </font>"
   ]
  },
  {
   "cell_type": "markdown",
   "metadata": {},
   "source": [
    "Принимаем!"
   ]
  },
  {
   "cell_type": "code",
   "execution_count": null,
   "metadata": {},
   "outputs": [],
   "source": []
  }
 ],
 "metadata": {
  "ExecuteTimeLog": [
   {
    "duration": 392,
    "start_time": "2022-04-21T10:01:12.863Z"
   },
   {
    "duration": 2,
    "start_time": "2022-04-21T10:03:00.749Z"
   },
   {
    "duration": 921,
    "start_time": "2022-04-21T10:03:02.300Z"
   },
   {
    "duration": 931,
    "start_time": "2022-04-21T10:15:10.960Z"
   },
   {
    "duration": 62,
    "start_time": "2022-04-21T10:16:35.252Z"
   },
   {
    "duration": 3,
    "start_time": "2022-04-21T10:16:43.872Z"
   },
   {
    "duration": 909,
    "start_time": "2022-04-21T10:16:43.877Z"
   },
   {
    "duration": 7,
    "start_time": "2022-04-21T10:16:44.787Z"
   },
   {
    "duration": 15,
    "start_time": "2022-04-21T10:16:56.813Z"
   },
   {
    "duration": 121,
    "start_time": "2022-04-21T10:17:51.691Z"
   },
   {
    "duration": 25,
    "start_time": "2022-04-21T10:23:06.045Z"
   },
   {
    "duration": 6,
    "start_time": "2022-04-21T10:23:35.403Z"
   },
   {
    "duration": 7,
    "start_time": "2022-04-21T10:24:14.960Z"
   },
   {
    "duration": 4,
    "start_time": "2022-04-21T10:24:23.184Z"
   },
   {
    "duration": 931,
    "start_time": "2022-04-21T10:24:23.189Z"
   },
   {
    "duration": 28,
    "start_time": "2022-04-21T10:24:24.122Z"
   },
   {
    "duration": 28,
    "start_time": "2022-04-21T10:24:24.155Z"
   },
   {
    "duration": 0,
    "start_time": "2022-04-21T10:24:24.184Z"
   },
   {
    "duration": 6,
    "start_time": "2022-04-21T10:25:17.337Z"
   },
   {
    "duration": 7,
    "start_time": "2022-04-21T10:25:23.397Z"
   },
   {
    "duration": 7,
    "start_time": "2022-04-21T10:25:35.527Z"
   },
   {
    "duration": 929,
    "start_time": "2022-04-21T10:26:07.371Z"
   },
   {
    "duration": 366,
    "start_time": "2022-04-21T10:26:29.888Z"
   },
   {
    "duration": 941,
    "start_time": "2022-04-21T10:26:30.257Z"
   },
   {
    "duration": 3,
    "start_time": "2022-04-21T10:26:31.200Z"
   },
   {
    "duration": 32,
    "start_time": "2022-04-21T10:26:31.205Z"
   },
   {
    "duration": 576,
    "start_time": "2022-04-21T10:32:20.040Z"
   },
   {
    "duration": 537,
    "start_time": "2022-04-21T10:35:13.772Z"
   },
   {
    "duration": 531,
    "start_time": "2022-04-21T10:35:34.251Z"
   },
   {
    "duration": 524,
    "start_time": "2022-04-21T10:37:13.610Z"
   },
   {
    "duration": 454,
    "start_time": "2022-04-21T10:43:59.106Z"
   },
   {
    "duration": 502,
    "start_time": "2022-04-21T10:44:25.129Z"
   },
   {
    "duration": 14,
    "start_time": "2022-04-21T10:44:31.341Z"
   },
   {
    "duration": 526,
    "start_time": "2022-04-21T10:44:52.328Z"
   },
   {
    "duration": 522,
    "start_time": "2022-04-21T10:45:12.961Z"
   },
   {
    "duration": 557,
    "start_time": "2022-04-21T10:45:32.066Z"
   },
   {
    "duration": 3,
    "start_time": "2022-04-21T10:45:41.091Z"
   },
   {
    "duration": 866,
    "start_time": "2022-04-21T10:45:41.096Z"
   },
   {
    "duration": 3,
    "start_time": "2022-04-21T10:45:41.964Z"
   },
   {
    "duration": 520,
    "start_time": "2022-04-21T10:45:41.969Z"
   },
   {
    "duration": 441,
    "start_time": "2022-04-21T10:45:42.491Z"
   },
   {
    "duration": 534,
    "start_time": "2022-04-21T10:45:42.933Z"
   },
   {
    "duration": 2248,
    "start_time": "2022-04-21T10:47:20.090Z"
   },
   {
    "duration": 126,
    "start_time": "2022-04-21T10:47:39.934Z"
   },
   {
    "duration": 240,
    "start_time": "2022-04-21T10:48:39.750Z"
   },
   {
    "duration": 122,
    "start_time": "2022-04-21T10:48:53.735Z"
   },
   {
    "duration": 166,
    "start_time": "2022-04-21T10:49:05.152Z"
   },
   {
    "duration": 164,
    "start_time": "2022-04-21T10:50:15.736Z"
   },
   {
    "duration": 187,
    "start_time": "2022-04-21T10:50:24.436Z"
   },
   {
    "duration": 51,
    "start_time": "2022-04-21T10:50:28.851Z"
   },
   {
    "duration": 126,
    "start_time": "2022-04-21T10:50:30.084Z"
   },
   {
    "duration": 39,
    "start_time": "2022-04-21T10:52:02.697Z"
   },
   {
    "duration": 115,
    "start_time": "2022-04-21T10:52:05.803Z"
   },
   {
    "duration": 39,
    "start_time": "2022-04-21T10:56:44.605Z"
   },
   {
    "duration": 119,
    "start_time": "2022-04-21T10:56:47.252Z"
   },
   {
    "duration": 205,
    "start_time": "2022-04-21T11:03:46.029Z"
   },
   {
    "duration": 423,
    "start_time": "2022-04-21T11:03:48.395Z"
   },
   {
    "duration": 3,
    "start_time": "2022-04-21T11:12:44.347Z"
   },
   {
    "duration": 1711,
    "start_time": "2022-04-21T11:12:45.746Z"
   },
   {
    "duration": 3,
    "start_time": "2022-04-21T11:12:53.170Z"
   },
   {
    "duration": 97,
    "start_time": "2022-04-21T11:12:55.922Z"
   },
   {
    "duration": 3,
    "start_time": "2022-04-21T11:13:28.290Z"
   },
   {
    "duration": 882,
    "start_time": "2022-04-21T11:13:28.295Z"
   },
   {
    "duration": 4,
    "start_time": "2022-04-21T11:13:29.179Z"
   },
   {
    "duration": 579,
    "start_time": "2022-04-21T11:13:29.185Z"
   },
   {
    "duration": 508,
    "start_time": "2022-04-21T11:13:29.766Z"
   },
   {
    "duration": 3,
    "start_time": "2022-04-21T11:13:30.276Z"
   },
   {
    "duration": 641,
    "start_time": "2022-04-21T11:13:30.280Z"
   },
   {
    "duration": 3,
    "start_time": "2022-04-21T11:13:30.922Z"
   },
   {
    "duration": 2029,
    "start_time": "2022-04-21T11:13:30.927Z"
   },
   {
    "duration": 2,
    "start_time": "2022-04-21T11:13:32.959Z"
   },
   {
    "duration": 137,
    "start_time": "2022-04-21T11:13:32.963Z"
   },
   {
    "duration": 132,
    "start_time": "2022-04-21T11:13:56.611Z"
   },
   {
    "duration": 140,
    "start_time": "2022-04-21T11:14:04.402Z"
   },
   {
    "duration": 4,
    "start_time": "2022-04-21T11:19:11.741Z"
   },
   {
    "duration": 267,
    "start_time": "2022-04-21T11:21:27.249Z"
   },
   {
    "duration": 3,
    "start_time": "2022-04-21T11:46:16.133Z"
   },
   {
    "duration": 1441,
    "start_time": "2022-04-21T11:46:16.138Z"
   },
   {
    "duration": 4,
    "start_time": "2022-04-21T11:46:17.581Z"
   },
   {
    "duration": 682,
    "start_time": "2022-04-21T11:46:17.587Z"
   },
   {
    "duration": 488,
    "start_time": "2022-04-21T11:46:18.271Z"
   },
   {
    "duration": 3,
    "start_time": "2022-04-21T11:46:18.760Z"
   },
   {
    "duration": 6,
    "start_time": "2022-04-21T11:46:18.764Z"
   },
   {
    "duration": 2029,
    "start_time": "2022-04-21T11:46:18.771Z"
   },
   {
    "duration": 484,
    "start_time": "2022-04-21T11:46:20.801Z"
   },
   {
    "duration": 381,
    "start_time": "2022-04-21T11:46:31.174Z"
   },
   {
    "duration": 900,
    "start_time": "2022-04-21T11:46:31.557Z"
   },
   {
    "duration": 3,
    "start_time": "2022-04-21T11:46:32.459Z"
   },
   {
    "duration": 558,
    "start_time": "2022-04-21T11:46:32.464Z"
   },
   {
    "duration": 496,
    "start_time": "2022-04-21T11:46:33.023Z"
   },
   {
    "duration": 3,
    "start_time": "2022-04-21T11:46:33.520Z"
   },
   {
    "duration": 8,
    "start_time": "2022-04-21T11:46:33.524Z"
   },
   {
    "duration": 2050,
    "start_time": "2022-04-21T11:46:33.533Z"
   },
   {
    "duration": 267,
    "start_time": "2022-04-21T11:46:35.585Z"
   },
   {
    "duration": 3,
    "start_time": "2022-04-21T11:47:01.478Z"
   },
   {
    "duration": 982,
    "start_time": "2022-04-21T11:47:01.483Z"
   },
   {
    "duration": 4,
    "start_time": "2022-04-21T11:47:02.467Z"
   },
   {
    "duration": 534,
    "start_time": "2022-04-21T11:47:02.473Z"
   },
   {
    "duration": 20,
    "start_time": "2022-04-21T11:47:03.010Z"
   },
   {
    "duration": 2,
    "start_time": "2022-04-21T11:47:03.032Z"
   },
   {
    "duration": 20,
    "start_time": "2022-04-21T11:47:03.035Z"
   },
   {
    "duration": 2120,
    "start_time": "2022-04-21T11:47:03.057Z"
   },
   {
    "duration": 248,
    "start_time": "2022-04-21T11:47:05.179Z"
   },
   {
    "duration": 36,
    "start_time": "2022-04-21T11:49:32.071Z"
   },
   {
    "duration": 70,
    "start_time": "2022-04-21T11:53:42.346Z"
   },
   {
    "duration": 3,
    "start_time": "2022-04-21T11:54:08.882Z"
   },
   {
    "duration": 928,
    "start_time": "2022-04-21T11:54:08.887Z"
   },
   {
    "duration": 4,
    "start_time": "2022-04-21T11:54:09.816Z"
   },
   {
    "duration": 559,
    "start_time": "2022-04-21T11:54:09.821Z"
   },
   {
    "duration": 22,
    "start_time": "2022-04-21T11:54:10.383Z"
   },
   {
    "duration": 5,
    "start_time": "2022-04-21T11:54:10.407Z"
   },
   {
    "duration": 10,
    "start_time": "2022-04-21T11:54:10.414Z"
   },
   {
    "duration": 2061,
    "start_time": "2022-04-21T11:54:10.426Z"
   },
   {
    "duration": 254,
    "start_time": "2022-04-21T11:54:12.489Z"
   },
   {
    "duration": 44,
    "start_time": "2022-04-21T11:54:12.744Z"
   },
   {
    "duration": 133,
    "start_time": "2022-04-21T11:54:38.567Z"
   },
   {
    "duration": 1025,
    "start_time": "2022-04-21T11:56:52.439Z"
   },
   {
    "duration": 13,
    "start_time": "2022-04-21T11:56:54.821Z"
   },
   {
    "duration": 3,
    "start_time": "2022-04-21T11:57:06.581Z"
   },
   {
    "duration": 890,
    "start_time": "2022-04-21T11:57:06.586Z"
   },
   {
    "duration": 3,
    "start_time": "2022-04-21T11:57:07.478Z"
   },
   {
    "duration": 560,
    "start_time": "2022-04-21T11:57:07.483Z"
   },
   {
    "duration": 27,
    "start_time": "2022-04-21T11:57:08.044Z"
   },
   {
    "duration": 20,
    "start_time": "2022-04-21T11:57:08.072Z"
   },
   {
    "duration": 23,
    "start_time": "2022-04-21T11:57:08.094Z"
   },
   {
    "duration": 2136,
    "start_time": "2022-04-21T11:57:08.119Z"
   },
   {
    "duration": 251,
    "start_time": "2022-04-21T11:57:10.256Z"
   },
   {
    "duration": 46,
    "start_time": "2022-04-21T11:57:10.509Z"
   },
   {
    "duration": 826,
    "start_time": "2022-04-21T11:57:10.557Z"
   },
   {
    "duration": 13,
    "start_time": "2022-04-21T11:57:11.385Z"
   },
   {
    "duration": 0,
    "start_time": "2022-04-21T11:57:11.400Z"
   },
   {
    "duration": 499,
    "start_time": "2022-04-21T11:57:34.828Z"
   },
   {
    "duration": 1440,
    "start_time": "2022-04-21T11:57:35.329Z"
   },
   {
    "duration": 4,
    "start_time": "2022-04-21T11:57:36.771Z"
   },
   {
    "duration": 902,
    "start_time": "2022-04-21T11:57:36.777Z"
   },
   {
    "duration": 38,
    "start_time": "2022-04-21T11:57:37.681Z"
   },
   {
    "duration": 2,
    "start_time": "2022-04-21T11:57:37.722Z"
   },
   {
    "duration": 5,
    "start_time": "2022-04-21T11:57:37.726Z"
   },
   {
    "duration": 2391,
    "start_time": "2022-04-21T11:57:37.733Z"
   },
   {
    "duration": 265,
    "start_time": "2022-04-21T11:57:40.125Z"
   },
   {
    "duration": 48,
    "start_time": "2022-04-21T11:57:40.393Z"
   },
   {
    "duration": 912,
    "start_time": "2022-04-21T11:57:40.455Z"
   },
   {
    "duration": 70,
    "start_time": "2022-04-21T11:57:41.369Z"
   },
   {
    "duration": 0,
    "start_time": "2022-04-21T11:57:41.440Z"
   },
   {
    "duration": 14,
    "start_time": "2022-04-21T12:00:39.455Z"
   },
   {
    "duration": 3,
    "start_time": "2022-04-21T12:00:51.625Z"
   },
   {
    "duration": 1367,
    "start_time": "2022-04-21T12:00:51.630Z"
   },
   {
    "duration": 4,
    "start_time": "2022-04-21T12:00:52.999Z"
   },
   {
    "duration": 610,
    "start_time": "2022-04-21T12:00:53.005Z"
   },
   {
    "duration": 23,
    "start_time": "2022-04-21T12:00:53.617Z"
   },
   {
    "duration": 16,
    "start_time": "2022-04-21T12:00:53.641Z"
   },
   {
    "duration": 6,
    "start_time": "2022-04-21T12:00:53.659Z"
   },
   {
    "duration": 2156,
    "start_time": "2022-04-21T12:00:53.667Z"
   },
   {
    "duration": 255,
    "start_time": "2022-04-21T12:00:55.825Z"
   },
   {
    "duration": 38,
    "start_time": "2022-04-21T12:00:56.083Z"
   },
   {
    "duration": 1055,
    "start_time": "2022-04-21T12:00:56.123Z"
   },
   {
    "duration": 14,
    "start_time": "2022-04-21T12:00:57.179Z"
   },
   {
    "duration": 0,
    "start_time": "2022-04-21T12:00:57.194Z"
   },
   {
    "duration": 15,
    "start_time": "2022-04-21T12:01:41.045Z"
   },
   {
    "duration": 3,
    "start_time": "2022-04-21T12:01:51.285Z"
   },
   {
    "duration": 926,
    "start_time": "2022-04-21T12:01:51.291Z"
   },
   {
    "duration": 3,
    "start_time": "2022-04-21T12:01:52.219Z"
   },
   {
    "duration": 569,
    "start_time": "2022-04-21T12:01:52.224Z"
   },
   {
    "duration": 21,
    "start_time": "2022-04-21T12:01:52.795Z"
   },
   {
    "duration": 16,
    "start_time": "2022-04-21T12:01:52.818Z"
   },
   {
    "duration": 10,
    "start_time": "2022-04-21T12:01:52.836Z"
   },
   {
    "duration": 3022,
    "start_time": "2022-04-21T12:01:52.848Z"
   },
   {
    "duration": 459,
    "start_time": "2022-04-21T12:01:55.872Z"
   },
   {
    "duration": 50,
    "start_time": "2022-04-21T12:01:56.334Z"
   },
   {
    "duration": 954,
    "start_time": "2022-04-21T12:01:56.385Z"
   },
   {
    "duration": 24,
    "start_time": "2022-04-21T12:01:57.342Z"
   },
   {
    "duration": 0,
    "start_time": "2022-04-21T12:01:57.368Z"
   },
   {
    "duration": 402,
    "start_time": "2022-04-21T12:02:26.377Z"
   },
   {
    "duration": 913,
    "start_time": "2022-04-21T12:02:26.781Z"
   },
   {
    "duration": 4,
    "start_time": "2022-04-21T12:02:27.696Z"
   },
   {
    "duration": 606,
    "start_time": "2022-04-21T12:02:27.702Z"
   },
   {
    "duration": 25,
    "start_time": "2022-04-21T12:02:28.310Z"
   },
   {
    "duration": 3,
    "start_time": "2022-04-21T12:02:28.336Z"
   },
   {
    "duration": 16,
    "start_time": "2022-04-21T12:02:28.340Z"
   },
   {
    "duration": 2376,
    "start_time": "2022-04-21T12:02:28.357Z"
   },
   {
    "duration": 257,
    "start_time": "2022-04-21T12:02:30.734Z"
   },
   {
    "duration": 47,
    "start_time": "2022-04-21T12:02:30.994Z"
   },
   {
    "duration": 977,
    "start_time": "2022-04-21T12:02:31.042Z"
   },
   {
    "duration": 76,
    "start_time": "2022-04-21T12:02:32.021Z"
   },
   {
    "duration": 0,
    "start_time": "2022-04-21T12:02:32.099Z"
   },
   {
    "duration": 2343,
    "start_time": "2022-04-21T12:04:54.998Z"
   },
   {
    "duration": 7,
    "start_time": "2022-04-21T12:05:33.554Z"
   },
   {
    "duration": 968,
    "start_time": "2022-04-21T12:05:33.566Z"
   },
   {
    "duration": 4,
    "start_time": "2022-04-21T12:05:34.536Z"
   },
   {
    "duration": 608,
    "start_time": "2022-04-21T12:05:34.543Z"
   },
   {
    "duration": 31,
    "start_time": "2022-04-21T12:05:35.154Z"
   },
   {
    "duration": 3,
    "start_time": "2022-04-21T12:05:35.187Z"
   },
   {
    "duration": 5,
    "start_time": "2022-04-21T12:05:35.192Z"
   },
   {
    "duration": 3180,
    "start_time": "2022-04-21T12:05:35.198Z"
   },
   {
    "duration": 459,
    "start_time": "2022-04-21T12:05:38.380Z"
   },
   {
    "duration": 51,
    "start_time": "2022-04-21T12:05:38.842Z"
   },
   {
    "duration": 1063,
    "start_time": "2022-04-21T12:05:38.895Z"
   },
   {
    "duration": 16,
    "start_time": "2022-04-21T12:05:39.961Z"
   },
   {
    "duration": 0,
    "start_time": "2022-04-21T12:05:39.979Z"
   },
   {
    "duration": 3,
    "start_time": "2022-04-21T12:05:51.294Z"
   },
   {
    "duration": 925,
    "start_time": "2022-04-21T12:05:51.302Z"
   },
   {
    "duration": 3,
    "start_time": "2022-04-21T12:05:52.229Z"
   },
   {
    "duration": 592,
    "start_time": "2022-04-21T12:05:52.234Z"
   },
   {
    "duration": 32,
    "start_time": "2022-04-21T12:05:52.829Z"
   },
   {
    "duration": 3,
    "start_time": "2022-04-21T12:05:52.866Z"
   },
   {
    "duration": 11,
    "start_time": "2022-04-21T12:05:52.871Z"
   },
   {
    "duration": 2148,
    "start_time": "2022-04-21T12:05:52.883Z"
   },
   {
    "duration": 273,
    "start_time": "2022-04-21T12:05:55.032Z"
   },
   {
    "duration": 36,
    "start_time": "2022-04-21T12:05:55.307Z"
   },
   {
    "duration": 906,
    "start_time": "2022-04-21T12:05:55.344Z"
   },
   {
    "duration": 212,
    "start_time": "2022-04-21T12:05:56.254Z"
   },
   {
    "duration": 0,
    "start_time": "2022-04-21T12:05:56.468Z"
   },
   {
    "duration": 813,
    "start_time": "2022-04-21T12:07:22.742Z"
   },
   {
    "duration": 1054,
    "start_time": "2022-04-21T12:07:23.558Z"
   },
   {
    "duration": 4,
    "start_time": "2022-04-21T12:07:24.614Z"
   },
   {
    "duration": 683,
    "start_time": "2022-04-21T12:07:24.620Z"
   },
   {
    "duration": 22,
    "start_time": "2022-04-21T12:07:25.305Z"
   },
   {
    "duration": 15,
    "start_time": "2022-04-21T12:07:25.329Z"
   },
   {
    "duration": 30,
    "start_time": "2022-04-21T12:07:25.346Z"
   },
   {
    "duration": 2427,
    "start_time": "2022-04-21T12:07:25.377Z"
   },
   {
    "duration": 265,
    "start_time": "2022-04-21T12:07:27.806Z"
   },
   {
    "duration": 34,
    "start_time": "2022-04-21T12:07:28.073Z"
   },
   {
    "duration": 911,
    "start_time": "2022-04-21T12:07:28.109Z"
   },
   {
    "duration": 821,
    "start_time": "2022-04-21T12:07:29.022Z"
   },
   {
    "duration": 100,
    "start_time": "2022-04-21T12:07:29.845Z"
   },
   {
    "duration": 556,
    "start_time": "2022-04-21T12:08:07.599Z"
   },
   {
    "duration": 17,
    "start_time": "2022-04-21T12:14:08.850Z"
   },
   {
    "duration": 4,
    "start_time": "2022-04-21T12:14:15.992Z"
   },
   {
    "duration": 10,
    "start_time": "2022-04-21T12:14:17.964Z"
   },
   {
    "duration": 58,
    "start_time": "2022-04-21T12:15:39.182Z"
   },
   {
    "duration": 515,
    "start_time": "2022-04-21T12:19:48.410Z"
   },
   {
    "duration": 4,
    "start_time": "2022-04-21T12:19:51.170Z"
   },
   {
    "duration": 13,
    "start_time": "2022-04-21T12:19:52.184Z"
   },
   {
    "duration": 4,
    "start_time": "2022-04-21T12:20:17.828Z"
   },
   {
    "duration": 916,
    "start_time": "2022-04-21T12:20:17.834Z"
   },
   {
    "duration": 5,
    "start_time": "2022-04-21T12:20:18.755Z"
   },
   {
    "duration": 682,
    "start_time": "2022-04-21T12:20:18.762Z"
   },
   {
    "duration": 26,
    "start_time": "2022-04-21T12:20:19.446Z"
   },
   {
    "duration": 14,
    "start_time": "2022-04-21T12:20:19.474Z"
   },
   {
    "duration": 6,
    "start_time": "2022-04-21T12:20:19.490Z"
   },
   {
    "duration": 2507,
    "start_time": "2022-04-21T12:20:19.498Z"
   },
   {
    "duration": 268,
    "start_time": "2022-04-21T12:20:22.008Z"
   },
   {
    "duration": 36,
    "start_time": "2022-04-21T12:20:22.278Z"
   },
   {
    "duration": 1184,
    "start_time": "2022-04-21T12:20:22.316Z"
   },
   {
    "duration": 753,
    "start_time": "2022-04-21T12:20:23.503Z"
   },
   {
    "duration": 5,
    "start_time": "2022-04-21T12:20:24.258Z"
   },
   {
    "duration": 27,
    "start_time": "2022-04-21T12:20:24.264Z"
   },
   {
    "duration": 0,
    "start_time": "2022-04-21T12:20:24.293Z"
   },
   {
    "duration": 4,
    "start_time": "2022-04-21T12:21:12.042Z"
   },
   {
    "duration": 852,
    "start_time": "2022-04-21T12:21:12.049Z"
   },
   {
    "duration": 4,
    "start_time": "2022-04-21T12:21:12.903Z"
   },
   {
    "duration": 833,
    "start_time": "2022-04-21T12:21:12.910Z"
   },
   {
    "duration": 43,
    "start_time": "2022-04-21T12:21:13.745Z"
   },
   {
    "duration": 4,
    "start_time": "2022-04-21T12:21:13.790Z"
   },
   {
    "duration": 12,
    "start_time": "2022-04-21T12:21:13.795Z"
   },
   {
    "duration": 3080,
    "start_time": "2022-04-21T12:21:13.809Z"
   },
   {
    "duration": 478,
    "start_time": "2022-04-21T12:21:16.891Z"
   },
   {
    "duration": 44,
    "start_time": "2022-04-21T12:21:17.372Z"
   },
   {
    "duration": 1067,
    "start_time": "2022-04-21T12:21:17.418Z"
   },
   {
    "duration": 603,
    "start_time": "2022-04-21T12:21:18.487Z"
   },
   {
    "duration": 4,
    "start_time": "2022-04-21T12:21:19.093Z"
   },
   {
    "duration": 279,
    "start_time": "2022-04-21T12:21:19.099Z"
   },
   {
    "duration": 26,
    "start_time": "2022-04-21T12:21:19.381Z"
   },
   {
    "duration": 9,
    "start_time": "2022-04-21T12:22:04.839Z"
   },
   {
    "duration": 0,
    "start_time": "2022-04-21T12:22:04.850Z"
   },
   {
    "duration": 0,
    "start_time": "2022-04-21T12:22:04.852Z"
   },
   {
    "duration": 0,
    "start_time": "2022-04-21T12:22:04.853Z"
   },
   {
    "duration": 0,
    "start_time": "2022-04-21T12:22:04.854Z"
   },
   {
    "duration": 0,
    "start_time": "2022-04-21T12:22:04.855Z"
   },
   {
    "duration": 0,
    "start_time": "2022-04-21T12:22:04.856Z"
   },
   {
    "duration": 0,
    "start_time": "2022-04-21T12:22:04.857Z"
   },
   {
    "duration": 197,
    "start_time": "2022-04-21T12:22:04.858Z"
   },
   {
    "duration": 16,
    "start_time": "2022-04-21T12:22:05.058Z"
   },
   {
    "duration": 0,
    "start_time": "2022-04-21T12:22:05.075Z"
   },
   {
    "duration": 0,
    "start_time": "2022-04-21T12:22:05.076Z"
   },
   {
    "duration": 0,
    "start_time": "2022-04-21T12:22:05.077Z"
   },
   {
    "duration": 0,
    "start_time": "2022-04-21T12:22:05.078Z"
   },
   {
    "duration": 0,
    "start_time": "2022-04-21T12:22:05.079Z"
   },
   {
    "duration": 11,
    "start_time": "2022-04-21T12:22:26.118Z"
   },
   {
    "duration": 170,
    "start_time": "2022-04-21T12:22:29.086Z"
   },
   {
    "duration": 9,
    "start_time": "2022-04-21T12:22:52.806Z"
   },
   {
    "duration": 1279,
    "start_time": "2022-04-21T12:23:03.150Z"
   },
   {
    "duration": 0,
    "start_time": "2022-04-21T12:23:04.431Z"
   },
   {
    "duration": 0,
    "start_time": "2022-04-21T12:23:04.433Z"
   },
   {
    "duration": 0,
    "start_time": "2022-04-21T12:23:04.434Z"
   },
   {
    "duration": 0,
    "start_time": "2022-04-21T12:23:04.436Z"
   },
   {
    "duration": 0,
    "start_time": "2022-04-21T12:23:04.437Z"
   },
   {
    "duration": 0,
    "start_time": "2022-04-21T12:23:04.439Z"
   },
   {
    "duration": 0,
    "start_time": "2022-04-21T12:23:04.440Z"
   },
   {
    "duration": 0,
    "start_time": "2022-04-21T12:23:04.442Z"
   },
   {
    "duration": 0,
    "start_time": "2022-04-21T12:23:04.443Z"
   },
   {
    "duration": 0,
    "start_time": "2022-04-21T12:23:04.455Z"
   },
   {
    "duration": 0,
    "start_time": "2022-04-21T12:23:04.456Z"
   },
   {
    "duration": 0,
    "start_time": "2022-04-21T12:23:04.457Z"
   },
   {
    "duration": 0,
    "start_time": "2022-04-21T12:23:04.459Z"
   },
   {
    "duration": 0,
    "start_time": "2022-04-21T12:23:04.460Z"
   },
   {
    "duration": 4,
    "start_time": "2022-04-21T12:24:52.596Z"
   },
   {
    "duration": 4,
    "start_time": "2022-04-21T12:25:12.505Z"
   },
   {
    "duration": 1357,
    "start_time": "2022-04-21T12:25:12.512Z"
   },
   {
    "duration": 4,
    "start_time": "2022-04-21T12:25:13.871Z"
   },
   {
    "duration": 922,
    "start_time": "2022-04-21T12:25:13.877Z"
   },
   {
    "duration": 21,
    "start_time": "2022-04-21T12:25:14.802Z"
   },
   {
    "duration": 14,
    "start_time": "2022-04-21T12:25:14.825Z"
   },
   {
    "duration": 14,
    "start_time": "2022-04-21T12:25:14.840Z"
   },
   {
    "duration": 2236,
    "start_time": "2022-04-21T12:25:14.856Z"
   },
   {
    "duration": 255,
    "start_time": "2022-04-21T12:25:17.094Z"
   },
   {
    "duration": 44,
    "start_time": "2022-04-21T12:25:17.355Z"
   },
   {
    "duration": 875,
    "start_time": "2022-04-21T12:25:17.400Z"
   },
   {
    "duration": 824,
    "start_time": "2022-04-21T12:25:18.277Z"
   },
   {
    "duration": 0,
    "start_time": "2022-04-21T12:25:19.103Z"
   },
   {
    "duration": 0,
    "start_time": "2022-04-21T12:25:19.104Z"
   },
   {
    "duration": 0,
    "start_time": "2022-04-21T12:25:19.106Z"
   },
   {
    "duration": 5,
    "start_time": "2022-04-21T12:28:20.135Z"
   },
   {
    "duration": 864,
    "start_time": "2022-04-21T12:28:20.142Z"
   },
   {
    "duration": 4,
    "start_time": "2022-04-21T12:28:21.007Z"
   },
   {
    "duration": 553,
    "start_time": "2022-04-21T12:28:21.013Z"
   },
   {
    "duration": 21,
    "start_time": "2022-04-21T12:28:21.568Z"
   },
   {
    "duration": 3,
    "start_time": "2022-04-21T12:28:21.592Z"
   },
   {
    "duration": 14,
    "start_time": "2022-04-21T12:28:21.597Z"
   },
   {
    "duration": 2078,
    "start_time": "2022-04-21T12:28:21.612Z"
   },
   {
    "duration": 249,
    "start_time": "2022-04-21T12:28:23.692Z"
   },
   {
    "duration": 41,
    "start_time": "2022-04-21T12:28:23.943Z"
   },
   {
    "duration": 851,
    "start_time": "2022-04-21T12:28:23.986Z"
   },
   {
    "duration": 585,
    "start_time": "2022-04-21T12:28:24.839Z"
   },
   {
    "duration": 4,
    "start_time": "2022-04-21T12:28:25.426Z"
   },
   {
    "duration": 179,
    "start_time": "2022-04-21T12:28:25.431Z"
   },
   {
    "duration": 27,
    "start_time": "2022-04-21T12:28:25.612Z"
   },
   {
    "duration": 43,
    "start_time": "2022-04-21T12:29:56.806Z"
   },
   {
    "duration": 5,
    "start_time": "2022-04-21T12:31:27.087Z"
   },
   {
    "duration": 361,
    "start_time": "2022-04-21T12:31:28.295Z"
   },
   {
    "duration": 39,
    "start_time": "2022-04-21T12:31:29.360Z"
   },
   {
    "duration": 2,
    "start_time": "2022-04-21T12:32:34.693Z"
   },
   {
    "duration": 6,
    "start_time": "2022-04-21T12:36:11.297Z"
   },
   {
    "duration": 147,
    "start_time": "2022-04-21T12:36:29.112Z"
   },
   {
    "duration": 197,
    "start_time": "2022-04-21T12:37:12.010Z"
   },
   {
    "duration": 140,
    "start_time": "2022-04-21T12:37:20.225Z"
   },
   {
    "duration": 5,
    "start_time": "2022-04-21T12:37:31.359Z"
   },
   {
    "duration": 4,
    "start_time": "2022-04-21T12:37:34.744Z"
   },
   {
    "duration": 115,
    "start_time": "2022-04-21T12:37:36.272Z"
   },
   {
    "duration": 5,
    "start_time": "2022-04-21T12:39:21.184Z"
   },
   {
    "duration": 123,
    "start_time": "2022-04-21T12:39:25.600Z"
   },
   {
    "duration": 112,
    "start_time": "2022-04-21T12:41:32.997Z"
   },
   {
    "duration": 4,
    "start_time": "2022-04-21T12:42:01.209Z"
   },
   {
    "duration": 963,
    "start_time": "2022-04-21T12:42:01.214Z"
   },
   {
    "duration": 3,
    "start_time": "2022-04-21T12:42:02.179Z"
   },
   {
    "duration": 579,
    "start_time": "2022-04-21T12:42:02.183Z"
   },
   {
    "duration": 22,
    "start_time": "2022-04-21T12:42:02.764Z"
   },
   {
    "duration": 2,
    "start_time": "2022-04-21T12:42:02.788Z"
   },
   {
    "duration": 10,
    "start_time": "2022-04-21T12:42:02.792Z"
   },
   {
    "duration": 2189,
    "start_time": "2022-04-21T12:42:02.804Z"
   },
   {
    "duration": 256,
    "start_time": "2022-04-21T12:42:04.995Z"
   },
   {
    "duration": 35,
    "start_time": "2022-04-21T12:42:05.255Z"
   },
   {
    "duration": 918,
    "start_time": "2022-04-21T12:42:05.291Z"
   },
   {
    "duration": 617,
    "start_time": "2022-04-21T12:42:06.211Z"
   },
   {
    "duration": 4,
    "start_time": "2022-04-21T12:42:06.829Z"
   },
   {
    "duration": 250,
    "start_time": "2022-04-21T12:42:06.836Z"
   },
   {
    "duration": 3,
    "start_time": "2022-04-21T12:42:07.089Z"
   },
   {
    "duration": 135,
    "start_time": "2022-04-21T12:42:07.094Z"
   },
   {
    "duration": 2950,
    "start_time": "2022-04-21T12:42:07.231Z"
   },
   {
    "duration": 33,
    "start_time": "2022-04-21T12:44:14.938Z"
   },
   {
    "duration": 4,
    "start_time": "2022-04-21T12:45:09.146Z"
   },
   {
    "duration": 927,
    "start_time": "2022-04-21T12:45:09.153Z"
   },
   {
    "duration": 4,
    "start_time": "2022-04-21T12:45:10.082Z"
   },
   {
    "duration": 647,
    "start_time": "2022-04-21T12:45:10.089Z"
   },
   {
    "duration": 39,
    "start_time": "2022-04-21T12:45:10.738Z"
   },
   {
    "duration": 20,
    "start_time": "2022-04-21T12:45:10.779Z"
   },
   {
    "duration": 14,
    "start_time": "2022-04-21T12:45:10.801Z"
   },
   {
    "duration": 2415,
    "start_time": "2022-04-21T12:45:10.817Z"
   },
   {
    "duration": 304,
    "start_time": "2022-04-21T12:45:13.236Z"
   },
   {
    "duration": 46,
    "start_time": "2022-04-21T12:45:13.542Z"
   },
   {
    "duration": 685,
    "start_time": "2022-04-21T12:45:13.590Z"
   },
   {
    "duration": 533,
    "start_time": "2022-04-21T12:45:14.277Z"
   },
   {
    "duration": 4,
    "start_time": "2022-04-21T12:45:14.813Z"
   },
   {
    "duration": 258,
    "start_time": "2022-04-21T12:45:14.819Z"
   },
   {
    "duration": 2,
    "start_time": "2022-04-21T12:45:15.079Z"
   },
   {
    "duration": 23,
    "start_time": "2022-04-21T12:45:15.083Z"
   },
   {
    "duration": 2850,
    "start_time": "2022-04-21T12:45:15.107Z"
   },
   {
    "duration": 1632,
    "start_time": "2022-04-21T12:45:49.614Z"
   },
   {
    "duration": 1514,
    "start_time": "2022-04-21T12:45:51.249Z"
   },
   {
    "duration": 5,
    "start_time": "2022-04-21T12:45:52.766Z"
   },
   {
    "duration": 1012,
    "start_time": "2022-04-21T12:45:52.774Z"
   },
   {
    "duration": 32,
    "start_time": "2022-04-21T12:45:53.789Z"
   },
   {
    "duration": 3,
    "start_time": "2022-04-21T12:45:53.823Z"
   },
   {
    "duration": 11,
    "start_time": "2022-04-21T12:45:53.828Z"
   },
   {
    "duration": 2355,
    "start_time": "2022-04-21T12:45:53.855Z"
   },
   {
    "duration": 263,
    "start_time": "2022-04-21T12:45:56.211Z"
   },
   {
    "duration": 50,
    "start_time": "2022-04-21T12:45:56.476Z"
   },
   {
    "duration": 502,
    "start_time": "2022-04-21T12:45:56.527Z"
   },
   {
    "duration": 120,
    "start_time": "2022-04-21T12:45:57.031Z"
   },
   {
    "duration": 3,
    "start_time": "2022-04-21T12:45:57.153Z"
   },
   {
    "duration": 292,
    "start_time": "2022-04-21T12:45:57.158Z"
   },
   {
    "duration": 3,
    "start_time": "2022-04-21T12:45:57.452Z"
   },
   {
    "duration": 6,
    "start_time": "2022-04-21T12:45:57.456Z"
   },
   {
    "duration": 213,
    "start_time": "2022-04-21T12:45:57.463Z"
   },
   {
    "duration": 4,
    "start_time": "2022-04-21T12:52:02.547Z"
   },
   {
    "duration": 159673,
    "start_time": "2022-04-21T12:52:05.548Z"
   },
   {
    "duration": 3,
    "start_time": "2022-04-21T12:55:02.880Z"
   },
   {
    "duration": 4,
    "start_time": "2022-04-21T12:55:07.350Z"
   },
   {
    "duration": 1006,
    "start_time": "2022-04-21T12:55:07.356Z"
   },
   {
    "duration": 5,
    "start_time": "2022-04-21T12:55:08.364Z"
   },
   {
    "duration": 614,
    "start_time": "2022-04-21T12:55:08.372Z"
   },
   {
    "duration": 23,
    "start_time": "2022-04-21T12:55:08.987Z"
   },
   {
    "duration": 2,
    "start_time": "2022-04-21T12:55:09.012Z"
   },
   {
    "duration": 8,
    "start_time": "2022-04-21T12:55:09.016Z"
   },
   {
    "duration": 2297,
    "start_time": "2022-04-21T12:55:09.026Z"
   },
   {
    "duration": 377,
    "start_time": "2022-04-21T12:55:11.325Z"
   },
   {
    "duration": 66,
    "start_time": "2022-04-21T12:55:11.705Z"
   },
   {
    "duration": 511,
    "start_time": "2022-04-21T12:55:11.772Z"
   },
   {
    "duration": 112,
    "start_time": "2022-04-21T12:55:12.285Z"
   },
   {
    "duration": 4,
    "start_time": "2022-04-21T12:55:12.399Z"
   },
   {
    "duration": 304,
    "start_time": "2022-04-21T12:55:12.404Z"
   },
   {
    "duration": 2,
    "start_time": "2022-04-21T12:55:12.710Z"
   },
   {
    "duration": 26,
    "start_time": "2022-04-21T12:55:12.714Z"
   },
   {
    "duration": 66513,
    "start_time": "2022-04-21T12:55:12.742Z"
   },
   {
    "duration": 1456,
    "start_time": "2022-04-21T12:57:05.162Z"
   },
   {
    "duration": 1029,
    "start_time": "2022-04-21T12:57:06.619Z"
   },
   {
    "duration": 6,
    "start_time": "2022-04-21T12:57:07.649Z"
   },
   {
    "duration": 649,
    "start_time": "2022-04-21T12:57:07.657Z"
   },
   {
    "duration": 27,
    "start_time": "2022-04-21T12:57:08.307Z"
   },
   {
    "duration": 23,
    "start_time": "2022-04-21T12:57:08.336Z"
   },
   {
    "duration": 42,
    "start_time": "2022-04-21T12:57:08.361Z"
   },
   {
    "duration": 2202,
    "start_time": "2022-04-21T12:57:08.404Z"
   },
   {
    "duration": 254,
    "start_time": "2022-04-21T12:57:10.608Z"
   },
   {
    "duration": 48,
    "start_time": "2022-04-21T12:57:10.865Z"
   },
   {
    "duration": 499,
    "start_time": "2022-04-21T12:57:10.914Z"
   },
   {
    "duration": 117,
    "start_time": "2022-04-21T12:57:11.415Z"
   },
   {
    "duration": 3,
    "start_time": "2022-04-21T12:57:11.534Z"
   },
   {
    "duration": 281,
    "start_time": "2022-04-21T12:57:11.539Z"
   },
   {
    "duration": 3,
    "start_time": "2022-04-21T12:57:11.822Z"
   },
   {
    "duration": 21,
    "start_time": "2022-04-21T12:57:11.826Z"
   },
   {
    "duration": 297439,
    "start_time": "2022-04-21T12:57:11.848Z"
   },
   {
    "duration": 141820,
    "start_time": "2022-04-21T13:02:19.536Z"
   },
   {
    "duration": 81,
    "start_time": "2022-04-21T14:14:52.700Z"
   },
   {
    "duration": 4,
    "start_time": "2022-04-21T14:14:54.722Z"
   },
   {
    "duration": 208,
    "start_time": "2022-04-21T14:14:56.642Z"
   },
   {
    "duration": 213,
    "start_time": "2022-04-21T14:16:38.929Z"
   },
   {
    "duration": 45,
    "start_time": "2022-04-21T14:16:55.583Z"
   },
   {
    "duration": 844,
    "start_time": "2022-04-21T14:16:55.630Z"
   },
   {
    "duration": 3,
    "start_time": "2022-04-21T14:16:56.476Z"
   },
   {
    "duration": 516,
    "start_time": "2022-04-21T14:16:56.481Z"
   },
   {
    "duration": 22,
    "start_time": "2022-04-21T14:16:56.999Z"
   },
   {
    "duration": 2,
    "start_time": "2022-04-21T14:16:57.023Z"
   },
   {
    "duration": 7,
    "start_time": "2022-04-21T14:16:57.027Z"
   },
   {
    "duration": 2029,
    "start_time": "2022-04-21T14:16:57.035Z"
   },
   {
    "duration": 239,
    "start_time": "2022-04-21T14:16:59.066Z"
   },
   {
    "duration": 46,
    "start_time": "2022-04-21T14:16:59.308Z"
   },
   {
    "duration": 811,
    "start_time": "2022-04-21T14:16:59.357Z"
   },
   {
    "duration": 131,
    "start_time": "2022-04-21T14:17:00.170Z"
   },
   {
    "duration": 4,
    "start_time": "2022-04-21T14:17:00.303Z"
   },
   {
    "duration": 196,
    "start_time": "2022-04-21T14:17:00.309Z"
   },
   {
    "duration": 35,
    "start_time": "2022-04-21T14:18:37.654Z"
   },
   {
    "duration": 20,
    "start_time": "2022-04-21T14:20:10.764Z"
   },
   {
    "duration": 17,
    "start_time": "2022-04-21T14:21:11.749Z"
   },
   {
    "duration": 205,
    "start_time": "2022-04-21T14:21:52.267Z"
   },
   {
    "duration": 25,
    "start_time": "2022-04-21T14:22:00.878Z"
   },
   {
    "duration": 1075,
    "start_time": "2022-04-21T14:24:38.640Z"
   },
   {
    "duration": 649,
    "start_time": "2022-04-21T14:25:05.264Z"
   },
   {
    "duration": 199,
    "start_time": "2022-04-21T14:25:16.537Z"
   },
   {
    "duration": 36,
    "start_time": "2022-04-21T14:25:18.730Z"
   },
   {
    "duration": 388980,
    "start_time": "2022-04-21T14:25:24.000Z"
   },
   {
    "duration": 118,
    "start_time": "2022-04-21T14:51:13.878Z"
   },
   {
    "duration": 6,
    "start_time": "2022-04-21T14:51:48.541Z"
   },
   {
    "duration": 119,
    "start_time": "2022-04-21T14:51:58.219Z"
   },
   {
    "duration": 6,
    "start_time": "2022-04-21T14:52:34.572Z"
   },
   {
    "duration": 90224,
    "start_time": "2022-04-21T14:52:45.332Z"
   },
   {
    "duration": 115,
    "start_time": "2022-04-21T14:54:40.299Z"
   },
   {
    "duration": 1523,
    "start_time": "2022-04-21T14:59:39.440Z"
   },
   {
    "duration": 913,
    "start_time": "2022-04-21T14:59:40.966Z"
   },
   {
    "duration": 3,
    "start_time": "2022-04-21T14:59:41.881Z"
   },
   {
    "duration": 586,
    "start_time": "2022-04-21T14:59:41.887Z"
   },
   {
    "duration": 25,
    "start_time": "2022-04-21T14:59:42.475Z"
   },
   {
    "duration": 3,
    "start_time": "2022-04-21T14:59:42.501Z"
   },
   {
    "duration": 8,
    "start_time": "2022-04-21T14:59:42.505Z"
   },
   {
    "duration": 2118,
    "start_time": "2022-04-21T14:59:42.514Z"
   },
   {
    "duration": 248,
    "start_time": "2022-04-21T14:59:44.634Z"
   },
   {
    "duration": 48,
    "start_time": "2022-04-21T14:59:44.884Z"
   },
   {
    "duration": 973,
    "start_time": "2022-04-21T14:59:44.934Z"
   },
   {
    "duration": 674,
    "start_time": "2022-04-21T14:59:45.909Z"
   },
   {
    "duration": 220,
    "start_time": "2022-04-21T14:59:46.585Z"
   },
   {
    "duration": 47,
    "start_time": "2022-04-21T14:59:46.807Z"
   },
   {
    "duration": 211,
    "start_time": "2022-04-21T14:59:46.856Z"
   },
   {
    "duration": 4858,
    "start_time": "2022-04-21T15:00:25.885Z"
   },
   {
    "duration": 999,
    "start_time": "2022-04-21T15:00:30.745Z"
   },
   {
    "duration": 9,
    "start_time": "2022-04-21T15:00:31.745Z"
   },
   {
    "duration": 656,
    "start_time": "2022-04-21T15:00:31.757Z"
   },
   {
    "duration": 39,
    "start_time": "2022-04-21T15:00:32.416Z"
   },
   {
    "duration": 3,
    "start_time": "2022-04-21T15:00:32.456Z"
   },
   {
    "duration": 40,
    "start_time": "2022-04-21T15:00:32.461Z"
   },
   {
    "duration": 2301,
    "start_time": "2022-04-21T15:00:32.503Z"
   },
   {
    "duration": 260,
    "start_time": "2022-04-21T15:00:34.806Z"
   },
   {
    "duration": 3771,
    "start_time": "2022-04-21T15:00:35.068Z"
   },
   {
    "duration": 5010,
    "start_time": "2022-04-21T15:00:38.841Z"
   },
   {
    "duration": 4722,
    "start_time": "2022-04-21T15:00:43.855Z"
   },
   {
    "duration": 4362,
    "start_time": "2022-04-21T15:00:48.578Z"
   },
   {
    "duration": 5235,
    "start_time": "2022-04-21T15:00:52.943Z"
   },
   {
    "duration": 842281,
    "start_time": "2022-04-21T15:00:58.180Z"
   },
   {
    "duration": 390155,
    "start_time": "2022-04-21T15:15:00.463Z"
   },
   {
    "duration": 130047,
    "start_time": "2022-04-21T15:21:30.620Z"
   },
   {
    "duration": 10,
    "start_time": "2022-04-21T15:45:16.393Z"
   },
   {
    "duration": 1665,
    "start_time": "2022-04-21T16:40:03.209Z"
   },
   {
    "duration": 1045,
    "start_time": "2022-04-21T16:40:04.876Z"
   },
   {
    "duration": 4,
    "start_time": "2022-04-21T16:40:05.923Z"
   },
   {
    "duration": 682,
    "start_time": "2022-04-21T16:40:05.929Z"
   },
   {
    "duration": 23,
    "start_time": "2022-04-21T16:40:06.614Z"
   },
   {
    "duration": 18,
    "start_time": "2022-04-21T16:40:06.639Z"
   },
   {
    "duration": 26,
    "start_time": "2022-04-21T16:40:06.659Z"
   },
   {
    "duration": 2607,
    "start_time": "2022-04-21T16:40:06.687Z"
   },
   {
    "duration": 275,
    "start_time": "2022-04-21T16:40:09.296Z"
   },
   {
    "duration": 56,
    "start_time": "2022-04-21T16:40:09.573Z"
   },
   {
    "duration": 1233,
    "start_time": "2022-04-21T16:40:09.631Z"
   },
   {
    "duration": 788,
    "start_time": "2022-04-21T16:40:10.866Z"
   },
   {
    "duration": 302,
    "start_time": "2022-04-21T16:40:11.657Z"
   },
   {
    "duration": 39,
    "start_time": "2022-04-21T16:40:11.961Z"
   },
   {
    "duration": 484860,
    "start_time": "2022-04-21T16:40:12.002Z"
   },
   {
    "duration": 397147,
    "start_time": "2022-04-21T16:48:16.864Z"
   },
   {
    "duration": 1450,
    "start_time": "2022-04-22T06:48:20.919Z"
   },
   {
    "duration": 924,
    "start_time": "2022-04-22T06:48:22.371Z"
   },
   {
    "duration": 12,
    "start_time": "2022-04-22T06:48:23.297Z"
   },
   {
    "duration": 547,
    "start_time": "2022-04-22T06:48:23.311Z"
   },
   {
    "duration": 22,
    "start_time": "2022-04-22T06:48:23.860Z"
   },
   {
    "duration": 2,
    "start_time": "2022-04-22T06:48:23.884Z"
   },
   {
    "duration": 21,
    "start_time": "2022-04-22T06:48:23.887Z"
   },
   {
    "duration": 1989,
    "start_time": "2022-04-22T06:48:23.910Z"
   },
   {
    "duration": 253,
    "start_time": "2022-04-22T06:48:25.900Z"
   },
   {
    "duration": 45,
    "start_time": "2022-04-22T06:48:26.154Z"
   },
   {
    "duration": 765,
    "start_time": "2022-04-22T06:48:26.201Z"
   },
   {
    "duration": 660,
    "start_time": "2022-04-22T06:48:26.967Z"
   },
   {
    "duration": 192,
    "start_time": "2022-04-22T06:48:27.629Z"
   },
   {
    "duration": 37,
    "start_time": "2022-04-22T06:48:27.825Z"
   },
   {
    "duration": 1672762,
    "start_time": "2022-04-22T06:48:27.864Z"
   },
   {
    "duration": 417404,
    "start_time": "2022-04-22T07:16:20.627Z"
   },
   {
    "duration": 5649964,
    "start_time": "2022-04-22T07:23:18.032Z"
   },
   {
    "duration": 105,
    "start_time": "2022-04-22T08:57:27.997Z"
   },
   {
    "duration": 1472,
    "start_time": "2022-04-22T09:11:32.166Z"
   },
   {
    "duration": 945,
    "start_time": "2022-04-22T09:11:33.640Z"
   },
   {
    "duration": 4,
    "start_time": "2022-04-22T09:11:34.586Z"
   },
   {
    "duration": 608,
    "start_time": "2022-04-22T09:11:34.592Z"
   },
   {
    "duration": 26,
    "start_time": "2022-04-22T09:11:35.207Z"
   },
   {
    "duration": 2,
    "start_time": "2022-04-22T09:11:35.235Z"
   },
   {
    "duration": 5,
    "start_time": "2022-04-22T09:11:35.239Z"
   },
   {
    "duration": 2211,
    "start_time": "2022-04-22T09:11:35.246Z"
   },
   {
    "duration": 265,
    "start_time": "2022-04-22T09:11:37.458Z"
   },
   {
    "duration": 49,
    "start_time": "2022-04-22T09:11:37.727Z"
   },
   {
    "duration": 864,
    "start_time": "2022-04-22T09:11:37.778Z"
   },
   {
    "duration": 696,
    "start_time": "2022-04-22T09:11:38.644Z"
   },
   {
    "duration": 223,
    "start_time": "2022-04-22T09:11:39.342Z"
   },
   {
    "duration": 3,
    "start_time": "2022-04-22T09:11:39.567Z"
   },
   {
    "duration": 9,
    "start_time": "2022-04-22T09:11:39.572Z"
   },
   {
    "duration": 5,
    "start_time": "2022-04-22T09:11:39.583Z"
   },
   {
    "duration": 108,
    "start_time": "2022-04-22T09:11:39.590Z"
   },
   {
    "duration": 0,
    "start_time": "2022-04-22T09:11:39.700Z"
   },
   {
    "duration": 0,
    "start_time": "2022-04-22T09:11:39.702Z"
   },
   {
    "duration": 0,
    "start_time": "2022-04-22T09:11:39.704Z"
   },
   {
    "duration": 0,
    "start_time": "2022-04-22T09:11:39.706Z"
   },
   {
    "duration": 0,
    "start_time": "2022-04-22T09:11:39.708Z"
   },
   {
    "duration": 0,
    "start_time": "2022-04-22T09:11:39.709Z"
   },
   {
    "duration": 1406,
    "start_time": "2022-04-22T09:12:01.934Z"
   },
   {
    "duration": 982,
    "start_time": "2022-04-22T09:12:03.342Z"
   },
   {
    "duration": 4,
    "start_time": "2022-04-22T09:12:04.326Z"
   },
   {
    "duration": 603,
    "start_time": "2022-04-22T09:12:04.331Z"
   },
   {
    "duration": 22,
    "start_time": "2022-04-22T09:12:04.937Z"
   },
   {
    "duration": 2,
    "start_time": "2022-04-22T09:12:04.961Z"
   },
   {
    "duration": 7,
    "start_time": "2022-04-22T09:12:04.965Z"
   },
   {
    "duration": 2205,
    "start_time": "2022-04-22T09:12:04.974Z"
   },
   {
    "duration": 262,
    "start_time": "2022-04-22T09:12:07.181Z"
   },
   {
    "duration": 48,
    "start_time": "2022-04-22T09:12:07.445Z"
   },
   {
    "duration": 900,
    "start_time": "2022-04-22T09:12:07.508Z"
   },
   {
    "duration": 671,
    "start_time": "2022-04-22T09:12:08.410Z"
   },
   {
    "duration": 217,
    "start_time": "2022-04-22T09:12:09.083Z"
   },
   {
    "duration": 2,
    "start_time": "2022-04-22T09:12:09.307Z"
   },
   {
    "duration": 5,
    "start_time": "2022-04-22T09:12:09.311Z"
   },
   {
    "duration": 6,
    "start_time": "2022-04-22T09:12:09.317Z"
   },
   {
    "duration": 6,
    "start_time": "2022-04-22T09:12:09.325Z"
   },
   {
    "duration": 166979,
    "start_time": "2022-04-22T09:12:09.333Z"
   },
   {
    "duration": 1207,
    "start_time": "2022-04-22T09:14:56.314Z"
   },
   {
    "duration": 207,
    "start_time": "2022-04-22T09:14:57.523Z"
   },
   {
    "duration": 136,
    "start_time": "2022-04-22T09:14:57.732Z"
   },
   {
    "duration": 105,
    "start_time": "2022-04-22T09:14:57.870Z"
   },
   {
    "duration": 109,
    "start_time": "2022-04-22T09:14:57.976Z"
   },
   {
    "duration": 5,
    "start_time": "2022-04-22T09:17:39.628Z"
   },
   {
    "duration": 835,
    "start_time": "2022-04-22T09:17:39.635Z"
   },
   {
    "duration": 4,
    "start_time": "2022-04-22T09:17:40.471Z"
   },
   {
    "duration": 504,
    "start_time": "2022-04-22T09:17:40.477Z"
   },
   {
    "duration": 25,
    "start_time": "2022-04-22T09:17:40.984Z"
   },
   {
    "duration": 2,
    "start_time": "2022-04-22T09:17:41.011Z"
   },
   {
    "duration": 6,
    "start_time": "2022-04-22T09:17:41.015Z"
   },
   {
    "duration": 1969,
    "start_time": "2022-04-22T09:17:41.022Z"
   },
   {
    "duration": 238,
    "start_time": "2022-04-22T09:17:42.993Z"
   },
   {
    "duration": 35,
    "start_time": "2022-04-22T09:17:43.233Z"
   },
   {
    "duration": 791,
    "start_time": "2022-04-22T09:17:43.270Z"
   },
   {
    "duration": 641,
    "start_time": "2022-04-22T09:17:44.063Z"
   },
   {
    "duration": 182,
    "start_time": "2022-04-22T09:17:44.706Z"
   },
   {
    "duration": 3,
    "start_time": "2022-04-22T09:17:44.891Z"
   },
   {
    "duration": 12,
    "start_time": "2022-04-22T09:17:44.895Z"
   },
   {
    "duration": 8,
    "start_time": "2022-04-22T09:17:44.908Z"
   },
   {
    "duration": 8,
    "start_time": "2022-04-22T09:17:44.918Z"
   },
   {
    "duration": 14787,
    "start_time": "2022-04-22T09:17:44.927Z"
   },
   {
    "duration": 1205,
    "start_time": "2022-04-22T09:17:59.716Z"
   },
   {
    "duration": 28675,
    "start_time": "2022-04-22T09:18:00.923Z"
   },
   {
    "duration": 147,
    "start_time": "2022-04-22T09:18:29.599Z"
   },
   {
    "duration": 2278,
    "start_time": "2022-04-22T09:18:29.747Z"
   },
   {
    "duration": 14,
    "start_time": "2022-04-22T09:18:32.026Z"
   },
   {
    "duration": 16771,
    "start_time": "2022-04-22T09:24:07.450Z"
   },
   {
    "duration": 13913,
    "start_time": "2022-04-22T09:25:23.202Z"
   },
   {
    "duration": 4,
    "start_time": "2022-04-22T09:26:21.312Z"
   },
   {
    "duration": 13927,
    "start_time": "2022-04-22T09:26:37.185Z"
   },
   {
    "duration": 4,
    "start_time": "2022-04-22T09:28:12.786Z"
   },
   {
    "duration": 863,
    "start_time": "2022-04-22T09:28:12.793Z"
   },
   {
    "duration": 4,
    "start_time": "2022-04-22T09:28:13.658Z"
   },
   {
    "duration": 543,
    "start_time": "2022-04-22T09:28:13.664Z"
   },
   {
    "duration": 22,
    "start_time": "2022-04-22T09:28:14.209Z"
   },
   {
    "duration": 3,
    "start_time": "2022-04-22T09:28:14.233Z"
   },
   {
    "duration": 7,
    "start_time": "2022-04-22T09:28:14.237Z"
   },
   {
    "duration": 2084,
    "start_time": "2022-04-22T09:28:14.245Z"
   },
   {
    "duration": 248,
    "start_time": "2022-04-22T09:28:16.331Z"
   },
   {
    "duration": 42,
    "start_time": "2022-04-22T09:28:16.582Z"
   },
   {
    "duration": 952,
    "start_time": "2022-04-22T09:28:16.625Z"
   },
   {
    "duration": 646,
    "start_time": "2022-04-22T09:28:17.579Z"
   },
   {
    "duration": 204,
    "start_time": "2022-04-22T09:28:18.226Z"
   },
   {
    "duration": 2,
    "start_time": "2022-04-22T09:28:18.432Z"
   },
   {
    "duration": 6,
    "start_time": "2022-04-22T09:28:18.435Z"
   },
   {
    "duration": 5,
    "start_time": "2022-04-22T09:28:18.442Z"
   },
   {
    "duration": 10,
    "start_time": "2022-04-22T09:28:18.448Z"
   },
   {
    "duration": 15351,
    "start_time": "2022-04-22T09:28:18.459Z"
   },
   {
    "duration": 1214,
    "start_time": "2022-04-22T09:28:33.811Z"
   },
   {
    "duration": 4,
    "start_time": "2022-04-22T09:28:35.027Z"
   },
   {
    "duration": 27809,
    "start_time": "2022-04-22T09:28:35.032Z"
   },
   {
    "duration": 150,
    "start_time": "2022-04-22T09:29:02.842Z"
   },
   {
    "duration": 3,
    "start_time": "2022-04-22T09:29:02.994Z"
   },
   {
    "duration": 2275,
    "start_time": "2022-04-22T09:29:02.999Z"
   },
   {
    "duration": 15,
    "start_time": "2022-04-22T09:29:05.276Z"
   },
   {
    "duration": 3,
    "start_time": "2022-04-22T09:29:05.293Z"
   },
   {
    "duration": 1425,
    "start_time": "2022-04-22T09:58:48.785Z"
   },
   {
    "duration": 930,
    "start_time": "2022-04-22T09:58:50.212Z"
   },
   {
    "duration": 3,
    "start_time": "2022-04-22T09:58:51.144Z"
   },
   {
    "duration": 572,
    "start_time": "2022-04-22T09:58:51.148Z"
   },
   {
    "duration": 25,
    "start_time": "2022-04-22T09:58:51.722Z"
   },
   {
    "duration": 2,
    "start_time": "2022-04-22T09:58:51.748Z"
   },
   {
    "duration": 4,
    "start_time": "2022-04-22T09:58:51.752Z"
   },
   {
    "duration": 2076,
    "start_time": "2022-04-22T09:58:51.758Z"
   },
   {
    "duration": 239,
    "start_time": "2022-04-22T09:58:53.836Z"
   },
   {
    "duration": 51,
    "start_time": "2022-04-22T09:58:54.077Z"
   },
   {
    "duration": 820,
    "start_time": "2022-04-22T09:58:54.130Z"
   },
   {
    "duration": 654,
    "start_time": "2022-04-22T09:58:54.951Z"
   },
   {
    "duration": 195,
    "start_time": "2022-04-22T09:58:55.606Z"
   },
   {
    "duration": 2,
    "start_time": "2022-04-22T09:58:55.808Z"
   },
   {
    "duration": 462602,
    "start_time": "2022-04-22T09:58:55.811Z"
   },
   {
    "duration": 380529,
    "start_time": "2022-04-22T10:06:38.415Z"
   },
   {
    "duration": 4788605,
    "start_time": "2022-04-22T10:12:58.945Z"
   },
   {
    "duration": 15156,
    "start_time": "2022-04-22T11:32:47.552Z"
   },
   {
    "duration": 1214,
    "start_time": "2022-04-22T11:33:02.710Z"
   },
   {
    "duration": 4,
    "start_time": "2022-04-22T11:33:03.926Z"
   },
   {
    "duration": 28629,
    "start_time": "2022-04-22T11:33:03.931Z"
   },
   {
    "duration": 198,
    "start_time": "2022-04-22T11:33:32.561Z"
   },
   {
    "duration": 4,
    "start_time": "2022-04-22T11:33:32.760Z"
   },
   {
    "duration": 28484,
    "start_time": "2022-04-22T11:33:32.765Z"
   },
   {
    "duration": 149,
    "start_time": "2022-04-22T11:34:01.251Z"
   },
   {
    "duration": 7,
    "start_time": "2022-04-22T11:34:01.402Z"
   },
   {
    "duration": 18,
    "start_time": "2022-04-22T11:34:01.411Z"
   },
   {
    "duration": 12,
    "start_time": "2022-04-22T11:36:07.227Z"
   },
   {
    "duration": 1573,
    "start_time": "2022-04-22T16:46:28.462Z"
   },
   {
    "duration": 972,
    "start_time": "2022-04-22T16:46:30.037Z"
   },
   {
    "duration": 3,
    "start_time": "2022-04-22T16:46:31.011Z"
   },
   {
    "duration": 777,
    "start_time": "2022-04-22T16:46:31.023Z"
   },
   {
    "duration": 36,
    "start_time": "2022-04-22T16:46:31.804Z"
   },
   {
    "duration": 2,
    "start_time": "2022-04-22T16:46:31.844Z"
   },
   {
    "duration": 6,
    "start_time": "2022-04-22T16:46:31.848Z"
   },
   {
    "duration": 2085,
    "start_time": "2022-04-22T16:46:31.856Z"
   },
   {
    "duration": 204,
    "start_time": "2022-04-22T16:46:33.943Z"
   },
   {
    "duration": 42,
    "start_time": "2022-04-22T16:46:34.149Z"
   },
   {
    "duration": 800,
    "start_time": "2022-04-22T16:46:34.194Z"
   },
   {
    "duration": 623,
    "start_time": "2022-04-22T16:46:34.996Z"
   },
   {
    "duration": 192,
    "start_time": "2022-04-22T16:46:35.623Z"
   },
   {
    "duration": 5,
    "start_time": "2022-04-22T16:46:35.819Z"
   },
   {
    "duration": 1668,
    "start_time": "2022-04-22T16:56:07.339Z"
   },
   {
    "duration": 898,
    "start_time": "2022-04-22T16:56:09.009Z"
   },
   {
    "duration": 3,
    "start_time": "2022-04-22T16:56:09.908Z"
   },
   {
    "duration": 587,
    "start_time": "2022-04-22T16:56:09.913Z"
   },
   {
    "duration": 29,
    "start_time": "2022-04-22T16:56:10.502Z"
   },
   {
    "duration": 8,
    "start_time": "2022-04-22T16:56:10.534Z"
   },
   {
    "duration": 7,
    "start_time": "2022-04-22T16:56:10.543Z"
   },
   {
    "duration": 2068,
    "start_time": "2022-04-22T16:56:10.551Z"
   },
   {
    "duration": 288,
    "start_time": "2022-04-22T16:56:12.623Z"
   },
   {
    "duration": 51,
    "start_time": "2022-04-22T16:56:12.913Z"
   },
   {
    "duration": 974,
    "start_time": "2022-04-22T16:56:12.966Z"
   },
   {
    "duration": 647,
    "start_time": "2022-04-22T16:56:13.941Z"
   },
   {
    "duration": 206,
    "start_time": "2022-04-22T16:56:14.590Z"
   },
   {
    "duration": 3,
    "start_time": "2022-04-22T16:56:14.798Z"
   },
   {
    "duration": 7625223,
    "start_time": "2022-04-22T16:56:14.803Z"
   },
   {
    "duration": 352605,
    "start_time": "2022-04-22T19:03:20.028Z"
   },
   {
    "duration": 5142271,
    "start_time": "2022-04-22T19:09:12.634Z"
   },
   {
    "duration": 14534,
    "start_time": "2022-04-22T20:34:54.907Z"
   },
   {
    "duration": 1202,
    "start_time": "2022-04-22T20:35:09.443Z"
   },
   {
    "duration": 3,
    "start_time": "2022-04-22T20:35:10.647Z"
   },
   {
    "duration": 27698,
    "start_time": "2022-04-22T20:35:10.652Z"
   },
   {
    "duration": 130,
    "start_time": "2022-04-22T20:35:38.351Z"
   },
   {
    "duration": 4,
    "start_time": "2022-04-22T20:35:38.482Z"
   },
   {
    "duration": 27874,
    "start_time": "2022-04-22T20:35:38.487Z"
   },
   {
    "duration": 123,
    "start_time": "2022-04-22T20:36:06.362Z"
   },
   {
    "duration": 4,
    "start_time": "2022-04-22T20:36:06.486Z"
   },
   {
    "duration": 17,
    "start_time": "2022-04-22T20:36:06.491Z"
   },
   {
    "duration": 183,
    "start_time": "2022-04-25T11:33:15.596Z"
   },
   {
    "duration": 82,
    "start_time": "2022-04-25T11:39:18.169Z"
   },
   {
    "duration": 2508,
    "start_time": "2022-04-25T11:39:24.635Z"
   },
   {
    "duration": 1351,
    "start_time": "2022-04-25T11:39:28.499Z"
   },
   {
    "duration": 5,
    "start_time": "2022-04-25T11:39:30.851Z"
   },
   {
    "duration": 1101,
    "start_time": "2022-04-25T11:39:33.413Z"
   },
   {
    "duration": 1618,
    "start_time": "2022-04-25T11:39:38.466Z"
   },
   {
    "duration": 7,
    "start_time": "2022-04-25T11:42:36.136Z"
   },
   {
    "duration": 7818,
    "start_time": "2022-04-25T11:42:37.707Z"
   },
   {
    "duration": 7,
    "start_time": "2022-04-25T11:42:45.528Z"
   },
   {
    "duration": 1187,
    "start_time": "2022-04-25T11:42:45.537Z"
   },
   {
    "duration": 1535,
    "start_time": "2022-04-25T11:42:46.730Z"
   },
   {
    "duration": 129,
    "start_time": "2022-04-25T11:54:16.924Z"
   },
   {
    "duration": 862,
    "start_time": "2022-04-25T11:55:10.472Z"
   },
   {
    "duration": 664,
    "start_time": "2022-04-25T11:56:27.756Z"
   },
   {
    "duration": 37,
    "start_time": "2022-04-25T11:59:55.938Z"
   },
   {
    "duration": 28,
    "start_time": "2022-04-25T12:01:22.828Z"
   },
   {
    "duration": 2069,
    "start_time": "2022-04-25T12:02:20.257Z"
   },
   {
    "duration": 492,
    "start_time": "2022-04-25T12:02:48.321Z"
   },
   {
    "duration": 447,
    "start_time": "2022-04-25T12:03:23.574Z"
   },
   {
    "duration": 539,
    "start_time": "2022-04-25T12:03:40.463Z"
   },
   {
    "duration": 740,
    "start_time": "2022-04-25T12:04:05.574Z"
   },
   {
    "duration": 545,
    "start_time": "2022-04-25T12:04:40.196Z"
   },
   {
    "duration": 308,
    "start_time": "2022-04-25T12:06:38.829Z"
   },
   {
    "duration": 10,
    "start_time": "2022-04-25T12:09:34.848Z"
   },
   {
    "duration": 12,
    "start_time": "2022-04-25T12:13:59.243Z"
   },
   {
    "duration": 8,
    "start_time": "2022-04-25T12:14:46.704Z"
   },
   {
    "duration": 19,
    "start_time": "2022-04-25T12:14:52.449Z"
   },
   {
    "duration": 89,
    "start_time": "2022-04-25T12:15:11.518Z"
   },
   {
    "duration": 11,
    "start_time": "2022-04-25T12:16:12.648Z"
   },
   {
    "duration": 7,
    "start_time": "2022-04-25T12:18:17.712Z"
   },
   {
    "duration": 8,
    "start_time": "2022-04-25T12:18:34.821Z"
   },
   {
    "duration": 5,
    "start_time": "2022-04-25T12:18:59.255Z"
   },
   {
    "duration": 610,
    "start_time": "2022-04-25T12:19:33.902Z"
   },
   {
    "duration": 482,
    "start_time": "2022-04-25T12:19:49.965Z"
   },
   {
    "duration": 2530,
    "start_time": "2022-04-25T12:21:00.119Z"
   },
   {
    "duration": 296,
    "start_time": "2022-04-25T12:21:18.076Z"
   },
   {
    "duration": 264,
    "start_time": "2022-04-25T12:21:25.435Z"
   },
   {
    "duration": 8,
    "start_time": "2022-04-25T12:22:02.442Z"
   },
   {
    "duration": 7,
    "start_time": "2022-04-25T12:22:43.778Z"
   },
   {
    "duration": 15,
    "start_time": "2022-04-25T12:23:00.188Z"
   },
   {
    "duration": 5,
    "start_time": "2022-04-25T12:23:38.082Z"
   },
   {
    "duration": 10,
    "start_time": "2022-04-25T12:23:39.976Z"
   },
   {
    "duration": 14,
    "start_time": "2022-04-25T12:23:44.049Z"
   },
   {
    "duration": 6,
    "start_time": "2022-04-25T12:23:59.520Z"
   },
   {
    "duration": 1537,
    "start_time": "2022-04-25T12:24:00.545Z"
   },
   {
    "duration": 8,
    "start_time": "2022-04-25T12:24:02.086Z"
   },
   {
    "duration": 1221,
    "start_time": "2022-04-25T12:24:02.099Z"
   },
   {
    "duration": 1727,
    "start_time": "2022-04-25T12:24:04.739Z"
   },
   {
    "duration": 21,
    "start_time": "2022-04-25T12:24:25.195Z"
   },
   {
    "duration": 32,
    "start_time": "2022-04-25T12:24:29.967Z"
   },
   {
    "duration": 5,
    "start_time": "2022-04-25T12:24:38.703Z"
   },
   {
    "duration": 1742,
    "start_time": "2022-04-25T12:24:40.111Z"
   },
   {
    "duration": 29,
    "start_time": "2022-04-25T12:24:45.402Z"
   },
   {
    "duration": 22,
    "start_time": "2022-04-25T12:25:35.821Z"
   },
   {
    "duration": 141,
    "start_time": "2022-04-25T12:25:49.310Z"
   },
   {
    "duration": 2476,
    "start_time": "2022-04-25T12:25:50.764Z"
   },
   {
    "duration": 0,
    "start_time": "2022-04-25T12:25:53.245Z"
   },
   {
    "duration": 133,
    "start_time": "2022-04-25T12:27:38.765Z"
   },
   {
    "duration": 31,
    "start_time": "2022-04-25T12:27:47.147Z"
   },
   {
    "duration": 368,
    "start_time": "2022-04-25T12:28:59.862Z"
   },
   {
    "duration": 7,
    "start_time": "2022-04-25T12:30:42.819Z"
   },
   {
    "duration": 4082,
    "start_time": "2022-04-25T12:31:19.955Z"
   },
   {
    "duration": 0,
    "start_time": "2022-04-25T12:31:24.040Z"
   },
   {
    "duration": 3975,
    "start_time": "2022-04-25T12:36:06.135Z"
   },
   {
    "duration": 0,
    "start_time": "2022-04-25T12:36:10.114Z"
   },
   {
    "duration": 7,
    "start_time": "2022-04-25T12:37:54.061Z"
   },
   {
    "duration": 7246,
    "start_time": "2022-04-25T12:37:54.072Z"
   },
   {
    "duration": 6,
    "start_time": "2022-04-25T12:38:01.321Z"
   },
   {
    "duration": 1154,
    "start_time": "2022-04-25T12:38:01.330Z"
   },
   {
    "duration": 2035,
    "start_time": "2022-04-25T12:38:02.487Z"
   },
   {
    "duration": 21,
    "start_time": "2022-04-25T12:38:04.525Z"
   },
   {
    "duration": 178,
    "start_time": "2022-04-25T12:38:04.549Z"
   },
   {
    "duration": 24,
    "start_time": "2022-04-25T12:38:04.730Z"
   },
   {
    "duration": 59,
    "start_time": "2022-04-25T12:38:04.756Z"
   },
   {
    "duration": 5,
    "start_time": "2022-04-25T12:38:04.820Z"
   },
   {
    "duration": 64,
    "start_time": "2022-04-25T12:38:04.827Z"
   },
   {
    "duration": 548,
    "start_time": "2022-04-25T12:38:04.894Z"
   },
   {
    "duration": 55,
    "start_time": "2022-04-25T12:38:05.445Z"
   },
   {
    "duration": 14,
    "start_time": "2022-04-25T12:38:05.503Z"
   },
   {
    "duration": 11,
    "start_time": "2022-04-25T12:38:05.520Z"
   },
   {
    "duration": 3046,
    "start_time": "2022-04-25T12:38:05.533Z"
   },
   {
    "duration": 0,
    "start_time": "2022-04-25T12:38:08.583Z"
   },
   {
    "duration": 0,
    "start_time": "2022-04-25T12:38:08.585Z"
   },
   {
    "duration": 1,
    "start_time": "2022-04-25T12:38:08.587Z"
   },
   {
    "duration": 0,
    "start_time": "2022-04-25T12:38:08.590Z"
   },
   {
    "duration": 0,
    "start_time": "2022-04-25T12:38:08.592Z"
   },
   {
    "duration": 0,
    "start_time": "2022-04-25T12:38:08.595Z"
   },
   {
    "duration": 0,
    "start_time": "2022-04-25T12:38:08.597Z"
   },
   {
    "duration": 0,
    "start_time": "2022-04-25T12:38:08.599Z"
   },
   {
    "duration": 0,
    "start_time": "2022-04-25T12:38:08.602Z"
   },
   {
    "duration": 0,
    "start_time": "2022-04-25T12:38:08.604Z"
   },
   {
    "duration": 0,
    "start_time": "2022-04-25T12:38:08.606Z"
   },
   {
    "duration": 0,
    "start_time": "2022-04-25T12:38:08.607Z"
   },
   {
    "duration": 0,
    "start_time": "2022-04-25T12:38:08.610Z"
   },
   {
    "duration": 0,
    "start_time": "2022-04-25T12:38:08.612Z"
   },
   {
    "duration": 0,
    "start_time": "2022-04-25T12:38:08.613Z"
   },
   {
    "duration": 0,
    "start_time": "2022-04-25T12:38:08.615Z"
   },
   {
    "duration": 0,
    "start_time": "2022-04-25T12:38:08.618Z"
   },
   {
    "duration": 0,
    "start_time": "2022-04-25T12:38:08.620Z"
   },
   {
    "duration": 0,
    "start_time": "2022-04-25T12:38:08.622Z"
   },
   {
    "duration": 11,
    "start_time": "2022-04-25T12:39:29.791Z"
   },
   {
    "duration": 1610,
    "start_time": "2022-04-25T12:39:29.807Z"
   },
   {
    "duration": 5,
    "start_time": "2022-04-25T12:39:31.420Z"
   },
   {
    "duration": 930,
    "start_time": "2022-04-25T12:39:31.427Z"
   },
   {
    "duration": 1526,
    "start_time": "2022-04-25T12:39:32.360Z"
   },
   {
    "duration": 26,
    "start_time": "2022-04-25T12:39:33.890Z"
   },
   {
    "duration": 3,
    "start_time": "2022-04-25T12:39:33.919Z"
   },
   {
    "duration": 25,
    "start_time": "2022-04-25T12:39:33.924Z"
   },
   {
    "duration": 64,
    "start_time": "2022-04-25T12:39:33.952Z"
   },
   {
    "duration": 5,
    "start_time": "2022-04-25T12:39:34.019Z"
   },
   {
    "duration": 59,
    "start_time": "2022-04-25T12:39:34.029Z"
   },
   {
    "duration": 568,
    "start_time": "2022-04-25T12:39:34.091Z"
   },
   {
    "duration": 36,
    "start_time": "2022-04-25T12:39:34.662Z"
   },
   {
    "duration": 7,
    "start_time": "2022-04-25T12:39:34.702Z"
   },
   {
    "duration": 11,
    "start_time": "2022-04-25T12:39:34.711Z"
   },
   {
    "duration": 4383,
    "start_time": "2022-04-25T12:39:34.724Z"
   },
   {
    "duration": 625,
    "start_time": "2022-04-25T12:39:39.110Z"
   },
   {
    "duration": 52,
    "start_time": "2022-04-25T12:39:39.739Z"
   },
   {
    "duration": 1564,
    "start_time": "2022-04-25T12:39:39.794Z"
   },
   {
    "duration": 933,
    "start_time": "2022-04-25T12:39:41.361Z"
   },
   {
    "duration": 316,
    "start_time": "2022-04-25T12:39:42.301Z"
   },
   {
    "duration": 4,
    "start_time": "2022-04-25T12:39:42.619Z"
   },
   {
    "duration": 10,
    "start_time": "2022-04-25T12:39:42.625Z"
   },
   {
    "duration": 6,
    "start_time": "2022-04-25T12:39:42.638Z"
   },
   {
    "duration": 134,
    "start_time": "2022-04-25T12:39:42.646Z"
   },
   {
    "duration": 0,
    "start_time": "2022-04-25T12:39:42.784Z"
   },
   {
    "duration": 0,
    "start_time": "2022-04-25T12:39:42.786Z"
   },
   {
    "duration": 0,
    "start_time": "2022-04-25T12:39:42.789Z"
   },
   {
    "duration": 0,
    "start_time": "2022-04-25T12:39:42.791Z"
   },
   {
    "duration": 0,
    "start_time": "2022-04-25T12:39:42.794Z"
   },
   {
    "duration": 0,
    "start_time": "2022-04-25T12:39:42.797Z"
   },
   {
    "duration": 0,
    "start_time": "2022-04-25T12:39:42.799Z"
   },
   {
    "duration": 0,
    "start_time": "2022-04-25T12:39:42.802Z"
   },
   {
    "duration": 0,
    "start_time": "2022-04-25T12:39:42.804Z"
   },
   {
    "duration": 0,
    "start_time": "2022-04-25T12:39:42.807Z"
   },
   {
    "duration": 4904,
    "start_time": "2022-04-25T12:42:33.156Z"
   },
   {
    "duration": 247,
    "start_time": "2022-04-25T12:42:38.063Z"
   },
   {
    "duration": 2804,
    "start_time": "2022-04-25T12:48:14.088Z"
   },
   {
    "duration": 0,
    "start_time": "2022-04-25T12:48:16.896Z"
   },
   {
    "duration": 3032,
    "start_time": "2022-04-25T12:49:58.848Z"
   },
   {
    "duration": 128,
    "start_time": "2022-04-25T12:51:31.518Z"
   },
   {
    "duration": 8,
    "start_time": "2022-04-25T12:52:01.075Z"
   },
   {
    "duration": 129,
    "start_time": "2022-04-25T12:52:05.033Z"
   },
   {
    "duration": 139,
    "start_time": "2022-04-25T12:52:20.276Z"
   },
   {
    "duration": 3846,
    "start_time": "2022-04-25T12:55:33.910Z"
   },
   {
    "duration": 3330,
    "start_time": "2022-04-25T12:56:37.747Z"
   },
   {
    "duration": 16,
    "start_time": "2022-04-25T13:13:30.399Z"
   },
   {
    "duration": 5906,
    "start_time": "2022-04-25T13:13:53.751Z"
   },
   {
    "duration": 13,
    "start_time": "2022-04-25T13:14:47.406Z"
   },
   {
    "duration": 663,
    "start_time": "2022-04-25T13:15:11.414Z"
   },
   {
    "duration": 15,
    "start_time": "2022-04-25T13:23:44.890Z"
   },
   {
    "duration": 46,
    "start_time": "2022-04-25T13:23:54.371Z"
   },
   {
    "duration": 13,
    "start_time": "2022-04-25T13:23:55.866Z"
   },
   {
    "duration": 495,
    "start_time": "2022-04-25T13:24:10.561Z"
   },
   {
    "duration": 299,
    "start_time": "2022-04-25T13:24:36.993Z"
   },
   {
    "duration": 5047,
    "start_time": "2022-04-25T13:25:10.403Z"
   },
   {
    "duration": 4057,
    "start_time": "2022-04-25T13:26:01.937Z"
   },
   {
    "duration": 288,
    "start_time": "2022-04-25T13:27:36.679Z"
   },
   {
    "duration": 9,
    "start_time": "2022-04-25T13:28:31.542Z"
   },
   {
    "duration": 7057,
    "start_time": "2022-04-25T13:28:31.554Z"
   },
   {
    "duration": 5,
    "start_time": "2022-04-25T13:28:38.616Z"
   },
   {
    "duration": 1272,
    "start_time": "2022-04-25T13:28:38.625Z"
   },
   {
    "duration": 2502,
    "start_time": "2022-04-25T13:28:39.900Z"
   },
   {
    "duration": 25,
    "start_time": "2022-04-25T13:28:42.406Z"
   },
   {
    "duration": 77,
    "start_time": "2022-04-25T13:28:42.434Z"
   },
   {
    "duration": 15,
    "start_time": "2022-04-25T13:28:42.513Z"
   },
   {
    "duration": 460,
    "start_time": "2022-04-25T13:28:42.532Z"
   },
   {
    "duration": 40,
    "start_time": "2022-04-25T13:28:42.997Z"
   },
   {
    "duration": 4,
    "start_time": "2022-04-25T13:28:43.040Z"
   },
   {
    "duration": 42,
    "start_time": "2022-04-25T13:28:43.046Z"
   },
   {
    "duration": 2008,
    "start_time": "2022-04-25T13:28:43.091Z"
   },
   {
    "duration": 40,
    "start_time": "2022-04-25T13:28:45.102Z"
   },
   {
    "duration": 7,
    "start_time": "2022-04-25T13:28:45.145Z"
   },
   {
    "duration": 54,
    "start_time": "2022-04-25T13:28:45.183Z"
   },
   {
    "duration": 50,
    "start_time": "2022-04-25T13:28:45.240Z"
   },
   {
    "duration": 38,
    "start_time": "2022-04-25T13:28:45.292Z"
   },
   {
    "duration": 4,
    "start_time": "2022-04-25T13:28:45.332Z"
   },
   {
    "duration": 11,
    "start_time": "2022-04-25T13:28:45.338Z"
   },
   {
    "duration": 36,
    "start_time": "2022-04-25T13:28:45.351Z"
   },
   {
    "duration": 16,
    "start_time": "2022-04-25T13:28:45.390Z"
   },
   {
    "duration": 2408,
    "start_time": "2022-04-25T13:36:19.826Z"
   },
   {
    "duration": 1628,
    "start_time": "2022-04-25T13:36:22.237Z"
   },
   {
    "duration": 14,
    "start_time": "2022-04-25T13:36:23.868Z"
   },
   {
    "duration": 1042,
    "start_time": "2022-04-25T13:36:23.887Z"
   },
   {
    "duration": 1611,
    "start_time": "2022-04-25T13:36:24.932Z"
   },
   {
    "duration": 21,
    "start_time": "2022-04-25T13:36:26.545Z"
   },
   {
    "duration": 60,
    "start_time": "2022-04-25T13:36:26.568Z"
   },
   {
    "duration": 13,
    "start_time": "2022-04-25T13:36:26.630Z"
   },
   {
    "duration": 252,
    "start_time": "2022-04-25T13:36:26.645Z"
   },
   {
    "duration": 0,
    "start_time": "2022-04-25T13:36:26.903Z"
   },
   {
    "duration": 0,
    "start_time": "2022-04-25T13:36:26.905Z"
   },
   {
    "duration": 0,
    "start_time": "2022-04-25T13:36:26.906Z"
   },
   {
    "duration": 0,
    "start_time": "2022-04-25T13:36:26.908Z"
   },
   {
    "duration": 0,
    "start_time": "2022-04-25T13:36:26.910Z"
   },
   {
    "duration": 0,
    "start_time": "2022-04-25T13:36:26.912Z"
   },
   {
    "duration": 0,
    "start_time": "2022-04-25T13:36:26.914Z"
   },
   {
    "duration": 0,
    "start_time": "2022-04-25T13:36:26.915Z"
   },
   {
    "duration": 0,
    "start_time": "2022-04-25T13:36:26.917Z"
   },
   {
    "duration": 0,
    "start_time": "2022-04-25T13:36:26.918Z"
   },
   {
    "duration": 0,
    "start_time": "2022-04-25T13:36:26.921Z"
   },
   {
    "duration": 0,
    "start_time": "2022-04-25T13:36:26.922Z"
   },
   {
    "duration": 0,
    "start_time": "2022-04-25T13:36:26.924Z"
   },
   {
    "duration": 0,
    "start_time": "2022-04-25T13:36:26.925Z"
   },
   {
    "duration": 0,
    "start_time": "2022-04-25T13:36:26.926Z"
   },
   {
    "duration": 0,
    "start_time": "2022-04-25T13:36:26.927Z"
   },
   {
    "duration": 0,
    "start_time": "2022-04-25T13:36:26.928Z"
   },
   {
    "duration": 0,
    "start_time": "2022-04-25T13:36:26.930Z"
   },
   {
    "duration": 0,
    "start_time": "2022-04-25T13:36:26.931Z"
   },
   {
    "duration": 0,
    "start_time": "2022-04-25T13:36:26.932Z"
   },
   {
    "duration": 0,
    "start_time": "2022-04-25T13:36:26.985Z"
   },
   {
    "duration": 0,
    "start_time": "2022-04-25T13:36:26.987Z"
   },
   {
    "duration": 0,
    "start_time": "2022-04-25T13:36:26.991Z"
   },
   {
    "duration": 0,
    "start_time": "2022-04-25T13:36:26.994Z"
   },
   {
    "duration": 0,
    "start_time": "2022-04-25T13:36:26.998Z"
   },
   {
    "duration": 11,
    "start_time": "2022-04-25T13:36:53.512Z"
   },
   {
    "duration": 22,
    "start_time": "2022-04-25T13:37:02.584Z"
   },
   {
    "duration": 41,
    "start_time": "2022-04-25T13:37:33.597Z"
   },
   {
    "duration": 7,
    "start_time": "2022-04-25T13:37:50.818Z"
   },
   {
    "duration": 1554,
    "start_time": "2022-04-25T13:37:50.829Z"
   },
   {
    "duration": 6,
    "start_time": "2022-04-25T13:37:52.386Z"
   },
   {
    "duration": 1021,
    "start_time": "2022-04-25T13:37:52.394Z"
   },
   {
    "duration": 1760,
    "start_time": "2022-04-25T13:37:53.419Z"
   },
   {
    "duration": 29,
    "start_time": "2022-04-25T13:37:55.183Z"
   },
   {
    "duration": 83,
    "start_time": "2022-04-25T13:37:55.216Z"
   },
   {
    "duration": 14,
    "start_time": "2022-04-25T13:37:55.302Z"
   },
   {
    "duration": 40,
    "start_time": "2022-04-25T13:37:55.319Z"
   },
   {
    "duration": 0,
    "start_time": "2022-04-25T13:37:55.383Z"
   },
   {
    "duration": 0,
    "start_time": "2022-04-25T13:37:55.385Z"
   },
   {
    "duration": 0,
    "start_time": "2022-04-25T13:37:55.387Z"
   },
   {
    "duration": 0,
    "start_time": "2022-04-25T13:37:55.389Z"
   },
   {
    "duration": 0,
    "start_time": "2022-04-25T13:37:55.391Z"
   },
   {
    "duration": 0,
    "start_time": "2022-04-25T13:37:55.393Z"
   },
   {
    "duration": 0,
    "start_time": "2022-04-25T13:37:55.395Z"
   },
   {
    "duration": 0,
    "start_time": "2022-04-25T13:37:55.397Z"
   },
   {
    "duration": 0,
    "start_time": "2022-04-25T13:37:55.399Z"
   },
   {
    "duration": 0,
    "start_time": "2022-04-25T13:37:55.402Z"
   },
   {
    "duration": 0,
    "start_time": "2022-04-25T13:37:55.404Z"
   },
   {
    "duration": 0,
    "start_time": "2022-04-25T13:37:55.406Z"
   },
   {
    "duration": 0,
    "start_time": "2022-04-25T13:37:55.408Z"
   },
   {
    "duration": 0,
    "start_time": "2022-04-25T13:37:55.411Z"
   },
   {
    "duration": 0,
    "start_time": "2022-04-25T13:37:55.413Z"
   },
   {
    "duration": 0,
    "start_time": "2022-04-25T13:37:55.415Z"
   },
   {
    "duration": 0,
    "start_time": "2022-04-25T13:37:55.416Z"
   },
   {
    "duration": 0,
    "start_time": "2022-04-25T13:37:55.417Z"
   },
   {
    "duration": 0,
    "start_time": "2022-04-25T13:37:55.419Z"
   },
   {
    "duration": 0,
    "start_time": "2022-04-25T13:37:55.421Z"
   },
   {
    "duration": 0,
    "start_time": "2022-04-25T13:37:55.422Z"
   },
   {
    "duration": 0,
    "start_time": "2022-04-25T13:37:55.424Z"
   },
   {
    "duration": 0,
    "start_time": "2022-04-25T13:37:55.425Z"
   },
   {
    "duration": 0,
    "start_time": "2022-04-25T13:37:55.426Z"
   },
   {
    "duration": 0,
    "start_time": "2022-04-25T13:37:55.427Z"
   },
   {
    "duration": 638,
    "start_time": "2022-04-25T13:38:43.855Z"
   },
   {
    "duration": 11,
    "start_time": "2022-04-25T13:38:52.324Z"
   },
   {
    "duration": 595,
    "start_time": "2022-04-25T13:38:54.671Z"
   },
   {
    "duration": 15,
    "start_time": "2022-04-25T13:39:35.757Z"
   },
   {
    "duration": 11,
    "start_time": "2022-04-25T13:39:37.140Z"
   },
   {
    "duration": 3,
    "start_time": "2022-04-25T13:40:27.374Z"
   },
   {
    "duration": 8,
    "start_time": "2022-04-25T13:40:33.737Z"
   },
   {
    "duration": 1378,
    "start_time": "2022-04-25T13:40:33.749Z"
   },
   {
    "duration": 6,
    "start_time": "2022-04-25T13:40:35.130Z"
   },
   {
    "duration": 920,
    "start_time": "2022-04-25T13:40:35.139Z"
   },
   {
    "duration": 1384,
    "start_time": "2022-04-25T13:40:36.062Z"
   },
   {
    "duration": 38,
    "start_time": "2022-04-25T13:40:37.449Z"
   },
   {
    "duration": 47,
    "start_time": "2022-04-25T13:40:37.490Z"
   },
   {
    "duration": 14,
    "start_time": "2022-04-25T13:40:37.540Z"
   },
   {
    "duration": 33,
    "start_time": "2022-04-25T13:40:37.556Z"
   },
   {
    "duration": 13,
    "start_time": "2022-04-25T13:40:37.594Z"
   },
   {
    "duration": 439,
    "start_time": "2022-04-25T13:40:37.610Z"
   },
   {
    "duration": 41,
    "start_time": "2022-04-25T13:40:38.052Z"
   },
   {
    "duration": 3,
    "start_time": "2022-04-25T13:40:38.095Z"
   },
   {
    "duration": 13,
    "start_time": "2022-04-25T13:40:38.101Z"
   },
   {
    "duration": 1572,
    "start_time": "2022-04-25T13:40:38.116Z"
   },
   {
    "duration": 33,
    "start_time": "2022-04-25T13:40:39.690Z"
   },
   {
    "duration": 7,
    "start_time": "2022-04-25T13:40:39.725Z"
   },
   {
    "duration": 75,
    "start_time": "2022-04-25T13:40:39.734Z"
   },
   {
    "duration": 19,
    "start_time": "2022-04-25T13:40:39.812Z"
   },
   {
    "duration": 60,
    "start_time": "2022-04-25T13:40:39.834Z"
   },
   {
    "duration": 4,
    "start_time": "2022-04-25T13:40:39.896Z"
   },
   {
    "duration": 6,
    "start_time": "2022-04-25T13:40:39.903Z"
   },
   {
    "duration": 6,
    "start_time": "2022-04-25T13:40:39.911Z"
   },
   {
    "duration": 15,
    "start_time": "2022-04-25T13:40:39.920Z"
   },
   {
    "duration": 2309,
    "start_time": "2022-04-25T13:41:56.197Z"
   },
   {
    "duration": 1286,
    "start_time": "2022-04-25T13:41:58.509Z"
   },
   {
    "duration": 4,
    "start_time": "2022-04-25T13:41:59.798Z"
   },
   {
    "duration": 1298,
    "start_time": "2022-04-25T13:41:59.806Z"
   },
   {
    "duration": 2370,
    "start_time": "2022-04-25T13:42:01.106Z"
   },
   {
    "duration": 23,
    "start_time": "2022-04-25T13:42:03.483Z"
   },
   {
    "duration": 3,
    "start_time": "2022-04-25T13:42:03.509Z"
   },
   {
    "duration": 33,
    "start_time": "2022-04-25T13:42:03.515Z"
   },
   {
    "duration": 35,
    "start_time": "2022-04-25T13:42:03.551Z"
   },
   {
    "duration": 100,
    "start_time": "2022-04-25T13:42:03.591Z"
   },
   {
    "duration": 533,
    "start_time": "2022-04-25T13:42:03.694Z"
   },
   {
    "duration": 809,
    "start_time": "2022-04-25T13:42:04.229Z"
   },
   {
    "duration": 3,
    "start_time": "2022-04-25T13:42:05.041Z"
   },
   {
    "duration": 7,
    "start_time": "2022-04-25T13:42:05.047Z"
   },
   {
    "duration": 4880,
    "start_time": "2022-04-25T13:42:05.057Z"
   },
   {
    "duration": 372,
    "start_time": "2022-04-25T13:42:09.940Z"
   },
   {
    "duration": 49,
    "start_time": "2022-04-25T13:42:10.315Z"
   },
   {
    "duration": 1338,
    "start_time": "2022-04-25T13:42:10.385Z"
   },
   {
    "duration": 1331,
    "start_time": "2022-04-25T13:42:11.726Z"
   },
   {
    "duration": 580,
    "start_time": "2022-04-25T13:42:13.061Z"
   },
   {
    "duration": 4,
    "start_time": "2022-04-25T13:42:13.643Z"
   },
   {
    "duration": 10,
    "start_time": "2022-04-25T13:42:13.650Z"
   },
   {
    "duration": 8,
    "start_time": "2022-04-25T13:42:13.681Z"
   },
   {
    "duration": 16,
    "start_time": "2022-04-25T13:42:13.693Z"
   },
   {
    "duration": 2298,
    "start_time": "2022-04-25T13:43:26.999Z"
   },
   {
    "duration": 1353,
    "start_time": "2022-04-25T13:43:29.301Z"
   },
   {
    "duration": 6,
    "start_time": "2022-04-25T13:43:30.657Z"
   },
   {
    "duration": 894,
    "start_time": "2022-04-25T13:43:30.682Z"
   },
   {
    "duration": 1381,
    "start_time": "2022-04-25T13:43:31.582Z"
   },
   {
    "duration": 31,
    "start_time": "2022-04-25T13:43:32.965Z"
   },
   {
    "duration": 3,
    "start_time": "2022-04-25T13:43:32.998Z"
   },
   {
    "duration": 30,
    "start_time": "2022-04-25T13:43:33.004Z"
   },
   {
    "duration": 897,
    "start_time": "2022-04-25T13:43:33.038Z"
   },
   {
    "duration": 0,
    "start_time": "2022-04-25T13:43:33.942Z"
   },
   {
    "duration": 0,
    "start_time": "2022-04-25T13:43:33.944Z"
   },
   {
    "duration": 0,
    "start_time": "2022-04-25T13:43:33.946Z"
   },
   {
    "duration": 0,
    "start_time": "2022-04-25T13:43:33.949Z"
   },
   {
    "duration": 0,
    "start_time": "2022-04-25T13:43:33.952Z"
   },
   {
    "duration": 0,
    "start_time": "2022-04-25T13:43:33.981Z"
   },
   {
    "duration": 0,
    "start_time": "2022-04-25T13:43:33.984Z"
   },
   {
    "duration": 0,
    "start_time": "2022-04-25T13:43:33.987Z"
   },
   {
    "duration": 0,
    "start_time": "2022-04-25T13:43:33.989Z"
   },
   {
    "duration": 0,
    "start_time": "2022-04-25T13:43:33.992Z"
   },
   {
    "duration": 0,
    "start_time": "2022-04-25T13:43:33.993Z"
   },
   {
    "duration": 0,
    "start_time": "2022-04-25T13:43:33.995Z"
   },
   {
    "duration": 0,
    "start_time": "2022-04-25T13:43:33.996Z"
   },
   {
    "duration": 0,
    "start_time": "2022-04-25T13:43:33.998Z"
   },
   {
    "duration": 0,
    "start_time": "2022-04-25T13:43:33.999Z"
   },
   {
    "duration": 0,
    "start_time": "2022-04-25T13:43:34.000Z"
   },
   {
    "duration": 0,
    "start_time": "2022-04-25T13:43:34.001Z"
   },
   {
    "duration": 0,
    "start_time": "2022-04-25T13:43:34.002Z"
   },
   {
    "duration": 0,
    "start_time": "2022-04-25T13:43:34.004Z"
   },
   {
    "duration": 0,
    "start_time": "2022-04-25T13:43:34.005Z"
   },
   {
    "duration": 0,
    "start_time": "2022-04-25T13:43:34.007Z"
   },
   {
    "duration": 0,
    "start_time": "2022-04-25T13:43:34.008Z"
   },
   {
    "duration": 0,
    "start_time": "2022-04-25T13:43:34.009Z"
   },
   {
    "duration": 0,
    "start_time": "2022-04-25T13:43:34.010Z"
   },
   {
    "duration": 0,
    "start_time": "2022-04-25T13:43:34.012Z"
   },
   {
    "duration": 20,
    "start_time": "2022-04-25T13:44:14.163Z"
   },
   {
    "duration": 16,
    "start_time": "2022-04-25T13:44:15.452Z"
   },
   {
    "duration": 17,
    "start_time": "2022-04-25T13:44:23.157Z"
   },
   {
    "duration": 14,
    "start_time": "2022-04-25T13:44:28.053Z"
   },
   {
    "duration": 17,
    "start_time": "2022-04-25T13:44:41.683Z"
   },
   {
    "duration": 17,
    "start_time": "2022-04-25T13:44:42.611Z"
   },
   {
    "duration": 70,
    "start_time": "2022-04-25T13:52:51.157Z"
   },
   {
    "duration": 68,
    "start_time": "2022-04-25T13:53:01.040Z"
   },
   {
    "duration": 20,
    "start_time": "2022-04-25T13:53:12.621Z"
   },
   {
    "duration": 16,
    "start_time": "2022-04-25T13:53:15.364Z"
   },
   {
    "duration": 664,
    "start_time": "2022-04-25T13:54:39.714Z"
   },
   {
    "duration": 625,
    "start_time": "2022-04-25T13:54:48.057Z"
   },
   {
    "duration": 16,
    "start_time": "2022-04-25T13:55:21.728Z"
   },
   {
    "duration": 29,
    "start_time": "2022-04-25T13:55:31.873Z"
   },
   {
    "duration": 8,
    "start_time": "2022-04-25T13:57:26.441Z"
   },
   {
    "duration": 6,
    "start_time": "2022-04-25T13:57:50.215Z"
   },
   {
    "duration": 3,
    "start_time": "2022-04-25T13:57:51.040Z"
   },
   {
    "duration": 4,
    "start_time": "2022-04-25T13:57:51.705Z"
   },
   {
    "duration": 9,
    "start_time": "2022-04-25T13:57:52.290Z"
   },
   {
    "duration": 16,
    "start_time": "2022-04-25T13:57:56.192Z"
   },
   {
    "duration": 1624,
    "start_time": "2022-04-25T13:57:56.211Z"
   },
   {
    "duration": 6,
    "start_time": "2022-04-25T13:57:57.838Z"
   },
   {
    "duration": 1401,
    "start_time": "2022-04-25T13:57:57.848Z"
   },
   {
    "duration": 2239,
    "start_time": "2022-04-25T13:57:59.253Z"
   },
   {
    "duration": 3,
    "start_time": "2022-04-25T13:58:01.495Z"
   },
   {
    "duration": 24,
    "start_time": "2022-04-25T13:58:01.501Z"
   },
   {
    "duration": 9,
    "start_time": "2022-04-25T13:58:01.527Z"
   },
   {
    "duration": 15,
    "start_time": "2022-04-25T13:58:01.539Z"
   },
   {
    "duration": 661,
    "start_time": "2022-04-25T13:58:01.559Z"
   },
   {
    "duration": 851,
    "start_time": "2022-04-25T13:58:02.222Z"
   },
   {
    "duration": 8,
    "start_time": "2022-04-25T13:58:03.076Z"
   },
   {
    "duration": 20,
    "start_time": "2022-04-25T13:58:03.088Z"
   },
   {
    "duration": 5919,
    "start_time": "2022-04-25T13:58:03.114Z"
   },
   {
    "duration": 484,
    "start_time": "2022-04-25T13:58:09.035Z"
   },
   {
    "duration": 83,
    "start_time": "2022-04-25T13:58:09.522Z"
   },
   {
    "duration": 1741,
    "start_time": "2022-04-25T13:58:09.608Z"
   },
   {
    "duration": 1255,
    "start_time": "2022-04-25T13:58:11.353Z"
   },
   {
    "duration": 582,
    "start_time": "2022-04-25T13:58:12.611Z"
   },
   {
    "duration": 4,
    "start_time": "2022-04-25T13:58:13.198Z"
   },
   {
    "duration": 21,
    "start_time": "2022-04-25T13:58:13.206Z"
   },
   {
    "duration": 6,
    "start_time": "2022-04-25T13:58:13.231Z"
   },
   {
    "duration": 9,
    "start_time": "2022-04-25T13:58:13.241Z"
   },
   {
    "duration": 3372,
    "start_time": "2022-04-25T13:59:38.952Z"
   },
   {
    "duration": 1451,
    "start_time": "2022-04-25T13:59:42.327Z"
   },
   {
    "duration": 5,
    "start_time": "2022-04-25T13:59:43.781Z"
   },
   {
    "duration": 981,
    "start_time": "2022-04-25T13:59:43.789Z"
   },
   {
    "duration": 2303,
    "start_time": "2022-04-25T13:59:44.773Z"
   },
   {
    "duration": 4,
    "start_time": "2022-04-25T13:59:47.082Z"
   },
   {
    "duration": 54,
    "start_time": "2022-04-25T13:59:47.088Z"
   },
   {
    "duration": 3,
    "start_time": "2022-04-25T13:59:47.145Z"
   },
   {
    "duration": 14,
    "start_time": "2022-04-25T13:59:47.150Z"
   },
   {
    "duration": 513,
    "start_time": "2022-04-25T13:59:47.166Z"
   },
   {
    "duration": 34,
    "start_time": "2022-04-25T13:59:47.682Z"
   },
   {
    "duration": 3,
    "start_time": "2022-04-25T13:59:47.719Z"
   },
   {
    "duration": 6,
    "start_time": "2022-04-25T13:59:47.725Z"
   },
   {
    "duration": 2410,
    "start_time": "2022-04-25T13:59:47.738Z"
   },
   {
    "duration": 55,
    "start_time": "2022-04-25T13:59:50.151Z"
   },
   {
    "duration": 11,
    "start_time": "2022-04-25T13:59:50.209Z"
   },
   {
    "duration": 77,
    "start_time": "2022-04-25T13:59:50.222Z"
   },
   {
    "duration": 36,
    "start_time": "2022-04-25T13:59:50.303Z"
   },
   {
    "duration": 77,
    "start_time": "2022-04-25T13:59:50.343Z"
   },
   {
    "duration": 5,
    "start_time": "2022-04-25T13:59:50.424Z"
   },
   {
    "duration": 9,
    "start_time": "2022-04-25T13:59:50.431Z"
   },
   {
    "duration": 6,
    "start_time": "2022-04-25T13:59:50.442Z"
   },
   {
    "duration": 13,
    "start_time": "2022-04-25T13:59:50.450Z"
   },
   {
    "duration": 2187,
    "start_time": "2022-04-25T14:00:51.695Z"
   },
   {
    "duration": 1308,
    "start_time": "2022-04-25T14:00:53.885Z"
   },
   {
    "duration": 5,
    "start_time": "2022-04-25T14:00:55.195Z"
   },
   {
    "duration": 922,
    "start_time": "2022-04-25T14:00:55.204Z"
   },
   {
    "duration": 1437,
    "start_time": "2022-04-25T14:00:56.129Z"
   },
   {
    "duration": 3,
    "start_time": "2022-04-25T14:00:57.569Z"
   },
   {
    "duration": 100,
    "start_time": "2022-04-25T14:00:57.582Z"
   },
   {
    "duration": 87,
    "start_time": "2022-04-25T14:00:57.684Z"
   },
   {
    "duration": 6,
    "start_time": "2022-04-25T14:00:57.782Z"
   },
   {
    "duration": 506,
    "start_time": "2022-04-25T14:00:57.792Z"
   },
   {
    "duration": 673,
    "start_time": "2022-04-25T14:00:58.300Z"
   },
   {
    "duration": 5,
    "start_time": "2022-04-25T14:00:58.976Z"
   },
   {
    "duration": 17,
    "start_time": "2022-04-25T14:00:58.984Z"
   },
   {
    "duration": 3334,
    "start_time": "2022-04-25T14:00:59.003Z"
   },
   {
    "duration": 286,
    "start_time": "2022-04-25T14:01:02.339Z"
   },
   {
    "duration": 65,
    "start_time": "2022-04-25T14:01:02.627Z"
   },
   {
    "duration": 1055,
    "start_time": "2022-04-25T14:01:02.695Z"
   },
   {
    "duration": 701,
    "start_time": "2022-04-25T14:01:03.753Z"
   },
   {
    "duration": 246,
    "start_time": "2022-04-25T14:01:04.457Z"
   },
   {
    "duration": 4,
    "start_time": "2022-04-25T14:01:04.705Z"
   },
   {
    "duration": 11,
    "start_time": "2022-04-25T14:01:04.711Z"
   },
   {
    "duration": 8,
    "start_time": "2022-04-25T14:01:04.725Z"
   },
   {
    "duration": 10,
    "start_time": "2022-04-25T14:01:04.735Z"
   },
   {
    "duration": 2716,
    "start_time": "2022-04-25T14:18:26.666Z"
   },
   {
    "duration": 1534,
    "start_time": "2022-04-25T14:18:29.385Z"
   },
   {
    "duration": 4,
    "start_time": "2022-04-25T14:18:30.922Z"
   },
   {
    "duration": 934,
    "start_time": "2022-04-25T14:18:30.929Z"
   },
   {
    "duration": 1562,
    "start_time": "2022-04-25T14:18:31.865Z"
   },
   {
    "duration": 3,
    "start_time": "2022-04-25T14:18:33.429Z"
   },
   {
    "duration": 112,
    "start_time": "2022-04-25T14:18:33.434Z"
   },
   {
    "duration": 98,
    "start_time": "2022-04-25T14:18:33.549Z"
   },
   {
    "duration": 6,
    "start_time": "2022-04-25T14:18:33.649Z"
   },
   {
    "duration": 626,
    "start_time": "2022-04-25T14:18:33.661Z"
   },
   {
    "duration": 680,
    "start_time": "2022-04-25T14:18:34.289Z"
   },
   {
    "duration": 3,
    "start_time": "2022-04-25T14:18:34.972Z"
   },
   {
    "duration": 5,
    "start_time": "2022-04-25T14:18:34.982Z"
   },
   {
    "duration": 6522,
    "start_time": "2022-04-25T14:18:34.990Z"
   },
   {
    "duration": 4,
    "start_time": "2022-04-25T14:18:41.516Z"
   },
   {
    "duration": 89,
    "start_time": "2022-04-25T14:18:41.522Z"
   },
   {
    "duration": 48,
    "start_time": "2022-04-25T14:18:41.613Z"
   },
   {
    "duration": 1228,
    "start_time": "2022-04-25T14:18:41.664Z"
   },
   {
    "duration": 827,
    "start_time": "2022-04-25T14:18:42.896Z"
   },
   {
    "duration": 281,
    "start_time": "2022-04-25T14:18:43.726Z"
   },
   {
    "duration": 4,
    "start_time": "2022-04-25T14:18:44.009Z"
   },
   {
    "duration": 30,
    "start_time": "2022-04-25T14:18:44.015Z"
   },
   {
    "duration": 14,
    "start_time": "2022-04-25T14:18:44.047Z"
   },
   {
    "duration": 14,
    "start_time": "2022-04-25T14:18:44.063Z"
   },
   {
    "duration": 2597,
    "start_time": "2022-04-25T14:20:59.071Z"
   },
   {
    "duration": 1424,
    "start_time": "2022-04-25T14:21:01.671Z"
   },
   {
    "duration": 5,
    "start_time": "2022-04-25T14:21:03.098Z"
   },
   {
    "duration": 987,
    "start_time": "2022-04-25T14:21:03.106Z"
   },
   {
    "duration": 1541,
    "start_time": "2022-04-25T14:21:04.097Z"
   },
   {
    "duration": 3,
    "start_time": "2022-04-25T14:21:05.640Z"
   },
   {
    "duration": 119,
    "start_time": "2022-04-25T14:21:05.645Z"
   },
   {
    "duration": 101,
    "start_time": "2022-04-25T14:21:05.766Z"
   },
   {
    "duration": 14,
    "start_time": "2022-04-25T14:21:05.870Z"
   },
   {
    "duration": 539,
    "start_time": "2022-04-25T14:21:05.890Z"
   },
   {
    "duration": 720,
    "start_time": "2022-04-25T14:21:06.432Z"
   },
   {
    "duration": 4,
    "start_time": "2022-04-25T14:21:07.155Z"
   },
   {
    "duration": 20,
    "start_time": "2022-04-25T14:21:07.162Z"
   },
   {
    "duration": 4111,
    "start_time": "2022-04-25T14:21:07.185Z"
   },
   {
    "duration": 8,
    "start_time": "2022-04-25T14:21:11.302Z"
   },
   {
    "duration": 898,
    "start_time": "2022-04-25T14:21:11.312Z"
   },
   {
    "duration": 53,
    "start_time": "2022-04-25T14:21:12.212Z"
   },
   {
    "duration": 1333,
    "start_time": "2022-04-25T14:21:12.285Z"
   },
   {
    "duration": 786,
    "start_time": "2022-04-25T14:21:13.621Z"
   },
   {
    "duration": 266,
    "start_time": "2022-04-25T14:21:14.409Z"
   },
   {
    "duration": 4,
    "start_time": "2022-04-25T14:21:14.678Z"
   },
   {
    "duration": 20,
    "start_time": "2022-04-25T14:21:14.685Z"
   },
   {
    "duration": 8,
    "start_time": "2022-04-25T14:21:14.708Z"
   },
   {
    "duration": 10,
    "start_time": "2022-04-25T14:21:14.719Z"
   },
   {
    "duration": 2880,
    "start_time": "2022-04-25T14:23:30.764Z"
   },
   {
    "duration": 2133,
    "start_time": "2022-04-25T14:23:33.649Z"
   },
   {
    "duration": 7,
    "start_time": "2022-04-25T14:23:35.785Z"
   },
   {
    "duration": 1116,
    "start_time": "2022-04-25T14:23:35.797Z"
   },
   {
    "duration": 1658,
    "start_time": "2022-04-25T14:23:36.916Z"
   },
   {
    "duration": 5,
    "start_time": "2022-04-25T14:23:38.577Z"
   },
   {
    "duration": 120,
    "start_time": "2022-04-25T14:23:38.585Z"
   },
   {
    "duration": 108,
    "start_time": "2022-04-25T14:23:38.707Z"
   },
   {
    "duration": 5,
    "start_time": "2022-04-25T14:23:38.818Z"
   },
   {
    "duration": 574,
    "start_time": "2022-04-25T14:23:38.827Z"
   },
   {
    "duration": 819,
    "start_time": "2022-04-25T14:23:39.404Z"
   },
   {
    "duration": 3,
    "start_time": "2022-04-25T14:23:40.226Z"
   },
   {
    "duration": 12,
    "start_time": "2022-04-25T14:23:40.232Z"
   },
   {
    "duration": 3976,
    "start_time": "2022-04-25T14:23:40.247Z"
   },
   {
    "duration": 4,
    "start_time": "2022-04-25T14:23:44.228Z"
   },
   {
    "duration": 785,
    "start_time": "2022-04-25T14:23:44.234Z"
   },
   {
    "duration": 66,
    "start_time": "2022-04-25T14:23:45.022Z"
   },
   {
    "duration": 1650,
    "start_time": "2022-04-25T14:23:45.096Z"
   },
   {
    "duration": 1107,
    "start_time": "2022-04-25T14:23:46.750Z"
   },
   {
    "duration": 436,
    "start_time": "2022-04-25T14:23:47.860Z"
   },
   {
    "duration": 4,
    "start_time": "2022-04-25T14:23:48.300Z"
   },
   {
    "duration": 16,
    "start_time": "2022-04-25T14:23:48.306Z"
   },
   {
    "duration": 11,
    "start_time": "2022-04-25T14:23:48.325Z"
   },
   {
    "duration": 11,
    "start_time": "2022-04-25T14:23:48.338Z"
   },
   {
    "duration": 580435,
    "start_time": "2022-04-25T14:23:48.351Z"
   },
   {
    "duration": 2095,
    "start_time": "2022-04-25T14:33:28.789Z"
   },
   {
    "duration": 7,
    "start_time": "2022-04-25T14:33:30.888Z"
   },
   {
    "duration": 51036,
    "start_time": "2022-04-25T14:33:30.903Z"
   },
   {
    "duration": 225,
    "start_time": "2022-04-25T14:34:21.942Z"
   },
   {
    "duration": 5,
    "start_time": "2022-04-25T14:34:22.169Z"
   },
   {
    "duration": 50968,
    "start_time": "2022-04-25T14:34:22.176Z"
   },
   {
    "duration": 193,
    "start_time": "2022-04-25T14:35:13.147Z"
   },
   {
    "duration": 6,
    "start_time": "2022-04-25T14:35:13.342Z"
   },
   {
    "duration": 207,
    "start_time": "2022-04-25T14:35:13.350Z"
   },
   {
    "duration": 0,
    "start_time": "2022-04-25T14:35:13.561Z"
   },
   {
    "duration": 0,
    "start_time": "2022-04-25T14:35:13.562Z"
   },
   {
    "duration": 39,
    "start_time": "2022-04-25T14:39:44.059Z"
   },
   {
    "duration": 15,
    "start_time": "2022-04-25T14:41:15.400Z"
   },
   {
    "duration": 628,
    "start_time": "2022-04-25T14:55:01.340Z"
   },
   {
    "duration": 682,
    "start_time": "2022-04-25T14:57:02.963Z"
   },
   {
    "duration": 16,
    "start_time": "2022-04-25T14:59:28.014Z"
   },
   {
    "duration": 169,
    "start_time": "2022-04-25T15:00:39.949Z"
   },
   {
    "duration": 2573,
    "start_time": "2022-04-25T15:26:32.847Z"
   },
   {
    "duration": 8006,
    "start_time": "2022-04-25T15:26:35.422Z"
   },
   {
    "duration": 5,
    "start_time": "2022-04-25T15:26:43.431Z"
   },
   {
    "duration": 945,
    "start_time": "2022-04-25T15:26:43.440Z"
   },
   {
    "duration": 1478,
    "start_time": "2022-04-25T15:26:44.388Z"
   },
   {
    "duration": 3,
    "start_time": "2022-04-25T15:26:45.868Z"
   },
   {
    "duration": 109,
    "start_time": "2022-04-25T15:26:45.887Z"
   },
   {
    "duration": 100,
    "start_time": "2022-04-25T15:26:46.000Z"
   },
   {
    "duration": 7,
    "start_time": "2022-04-25T15:26:46.102Z"
   },
   {
    "duration": 602,
    "start_time": "2022-04-25T15:26:46.114Z"
   },
   {
    "duration": 654,
    "start_time": "2022-04-25T15:26:46.719Z"
   },
   {
    "duration": 6,
    "start_time": "2022-04-25T15:26:47.376Z"
   },
   {
    "duration": 16,
    "start_time": "2022-04-25T15:26:47.384Z"
   },
   {
    "duration": 3497,
    "start_time": "2022-04-25T15:26:47.403Z"
   },
   {
    "duration": 3,
    "start_time": "2022-04-25T15:26:50.902Z"
   },
   {
    "duration": 735,
    "start_time": "2022-04-25T15:26:50.907Z"
   },
   {
    "duration": 59,
    "start_time": "2022-04-25T15:26:51.644Z"
   },
   {
    "duration": 926,
    "start_time": "2022-04-25T15:26:51.705Z"
   },
   {
    "duration": 29,
    "start_time": "2022-04-25T15:26:52.633Z"
   },
   {
    "duration": 754,
    "start_time": "2022-04-25T15:26:52.664Z"
   },
   {
    "duration": 248,
    "start_time": "2022-04-25T15:26:53.420Z"
   },
   {
    "duration": 31,
    "start_time": "2022-04-25T15:26:53.671Z"
   },
   {
    "duration": 3063300,
    "start_time": "2022-04-25T15:26:53.704Z"
   },
   {
    "duration": 632829,
    "start_time": "2022-04-25T16:17:57.006Z"
   },
   {
    "duration": 7282388,
    "start_time": "2022-04-25T16:28:29.837Z"
   },
   {
    "duration": 995674,
    "start_time": "2022-04-25T18:29:52.227Z"
   },
   {
    "duration": 2001,
    "start_time": "2022-04-25T18:46:27.903Z"
   },
   {
    "duration": 5,
    "start_time": "2022-04-25T18:46:29.909Z"
   },
   {
    "duration": 50290,
    "start_time": "2022-04-25T18:46:29.916Z"
   },
   {
    "duration": 200,
    "start_time": "2022-04-25T18:47:20.209Z"
   },
   {
    "duration": 6,
    "start_time": "2022-04-25T18:47:20.412Z"
   },
   {
    "duration": 48686,
    "start_time": "2022-04-25T18:47:20.421Z"
   },
   {
    "duration": 168,
    "start_time": "2022-04-25T18:48:09.109Z"
   },
   {
    "duration": 5,
    "start_time": "2022-04-25T18:48:09.281Z"
   },
   {
    "duration": 33,
    "start_time": "2022-04-25T18:48:09.288Z"
   },
   {
    "duration": 7,
    "start_time": "2022-04-25T19:09:25.395Z"
   },
   {
    "duration": 45,
    "start_time": "2022-04-26T07:24:15.871Z"
   },
   {
    "duration": 7,
    "start_time": "2022-04-26T07:24:29.467Z"
   },
   {
    "duration": 2154,
    "start_time": "2022-04-26T07:25:38.231Z"
   },
   {
    "duration": 75,
    "start_time": "2022-04-26T07:25:48.680Z"
   },
   {
    "duration": 9,
    "start_time": "2022-04-26T07:26:53.926Z"
   },
   {
    "duration": 93,
    "start_time": "2022-04-26T07:27:09.638Z"
   },
   {
    "duration": 6,
    "start_time": "2022-04-26T07:27:26.141Z"
   },
   {
    "duration": 882,
    "start_time": "2022-04-26T07:27:26.149Z"
   },
   {
    "duration": 3,
    "start_time": "2022-04-26T07:27:27.033Z"
   },
   {
    "duration": 537,
    "start_time": "2022-04-26T07:27:27.047Z"
   },
   {
    "duration": 962,
    "start_time": "2022-04-26T07:27:27.586Z"
   },
   {
    "duration": 2,
    "start_time": "2022-04-26T07:27:28.550Z"
   },
   {
    "duration": 52,
    "start_time": "2022-04-26T07:27:28.553Z"
   },
   {
    "duration": 63,
    "start_time": "2022-04-26T07:27:28.606Z"
   },
   {
    "duration": 4,
    "start_time": "2022-04-26T07:27:28.671Z"
   },
   {
    "duration": 352,
    "start_time": "2022-04-26T07:27:28.676Z"
   },
   {
    "duration": 385,
    "start_time": "2022-04-26T07:27:29.029Z"
   },
   {
    "duration": 2,
    "start_time": "2022-04-26T07:27:29.416Z"
   },
   {
    "duration": 8,
    "start_time": "2022-04-26T07:27:29.419Z"
   },
   {
    "duration": 1696,
    "start_time": "2022-04-26T07:27:29.428Z"
   },
   {
    "duration": 2,
    "start_time": "2022-04-26T07:27:31.126Z"
   },
   {
    "duration": 528,
    "start_time": "2022-04-26T07:27:31.130Z"
   },
   {
    "duration": 27,
    "start_time": "2022-04-26T07:27:31.660Z"
   },
   {
    "duration": 608,
    "start_time": "2022-04-26T07:27:31.688Z"
   },
   {
    "duration": 17,
    "start_time": "2022-04-26T07:27:32.298Z"
   },
   {
    "duration": 537,
    "start_time": "2022-04-26T07:27:32.316Z"
   },
   {
    "duration": 179,
    "start_time": "2022-04-26T07:27:32.855Z"
   },
   {
    "duration": 21,
    "start_time": "2022-04-26T07:27:33.036Z"
   },
   {
    "duration": 7,
    "start_time": "2022-04-26T07:27:33.059Z"
   },
   {
    "duration": 4,
    "start_time": "2022-04-26T07:27:33.070Z"
   },
   {
    "duration": 7,
    "start_time": "2022-04-26T07:27:33.076Z"
   },
   {
    "duration": 2072672,
    "start_time": "2022-04-26T07:27:33.084Z"
   },
   {
    "duration": 1037,
    "start_time": "2022-04-26T08:02:05.757Z"
   },
   {
    "duration": 54,
    "start_time": "2022-04-26T08:02:06.796Z"
   },
   {
    "duration": 23248,
    "start_time": "2022-04-26T08:02:06.852Z"
   },
   {
    "duration": 123,
    "start_time": "2022-04-26T08:02:30.101Z"
   },
   {
    "duration": 3,
    "start_time": "2022-04-26T08:02:30.226Z"
   },
   {
    "duration": 24627,
    "start_time": "2022-04-26T08:02:30.231Z"
   },
   {
    "duration": 110,
    "start_time": "2022-04-26T08:02:54.860Z"
   },
   {
    "duration": 3,
    "start_time": "2022-04-26T08:02:54.972Z"
   },
   {
    "duration": 15,
    "start_time": "2022-04-26T08:02:54.977Z"
   },
   {
    "duration": 80,
    "start_time": "2022-04-26T08:02:54.995Z"
   },
   {
    "duration": 110,
    "start_time": "2022-04-26T08:40:43.318Z"
   },
   {
    "duration": 110,
    "start_time": "2022-04-26T08:41:34.730Z"
   },
   {
    "duration": 113,
    "start_time": "2022-04-26T08:42:41.914Z"
   },
   {
    "duration": 12,
    "start_time": "2022-04-26T08:43:26.038Z"
   },
   {
    "duration": 278768,
    "start_time": "2022-04-26T08:53:10.308Z"
   },
   {
    "duration": 894,
    "start_time": "2022-04-26T08:57:49.078Z"
   },
   {
    "duration": 23224,
    "start_time": "2022-04-26T08:57:57.738Z"
   },
   {
    "duration": 126,
    "start_time": "2022-04-26T08:58:20.965Z"
   },
   {
    "duration": 4,
    "start_time": "2022-04-26T08:58:21.092Z"
   },
   {
    "duration": 6,
    "start_time": "2022-04-26T09:14:47.156Z"
   },
   {
    "duration": 812,
    "start_time": "2022-04-26T09:14:47.164Z"
   },
   {
    "duration": 4,
    "start_time": "2022-04-26T09:14:47.978Z"
   },
   {
    "duration": 519,
    "start_time": "2022-04-26T09:14:47.984Z"
   },
   {
    "duration": 942,
    "start_time": "2022-04-26T09:14:48.505Z"
   },
   {
    "duration": 2,
    "start_time": "2022-04-26T09:14:49.449Z"
   },
   {
    "duration": 48,
    "start_time": "2022-04-26T09:14:49.452Z"
   },
   {
    "duration": 64,
    "start_time": "2022-04-26T09:14:49.501Z"
   },
   {
    "duration": 3,
    "start_time": "2022-04-26T09:14:49.568Z"
   },
   {
    "duration": 340,
    "start_time": "2022-04-26T09:14:49.572Z"
   },
   {
    "duration": 376,
    "start_time": "2022-04-26T09:14:49.914Z"
   },
   {
    "duration": 2,
    "start_time": "2022-04-26T09:14:50.292Z"
   },
   {
    "duration": 5,
    "start_time": "2022-04-26T09:14:50.296Z"
   },
   {
    "duration": 1678,
    "start_time": "2022-04-26T09:14:50.302Z"
   },
   {
    "duration": 2,
    "start_time": "2022-04-26T09:14:51.982Z"
   },
   {
    "duration": 446,
    "start_time": "2022-04-26T09:14:51.985Z"
   },
   {
    "duration": 31,
    "start_time": "2022-04-26T09:14:52.433Z"
   },
   {
    "duration": 600,
    "start_time": "2022-04-26T09:14:52.465Z"
   },
   {
    "duration": 15,
    "start_time": "2022-04-26T09:14:53.067Z"
   },
   {
    "duration": 534,
    "start_time": "2022-04-26T09:14:53.084Z"
   },
   {
    "duration": 154,
    "start_time": "2022-04-26T09:14:53.620Z"
   },
   {
    "duration": 16,
    "start_time": "2022-04-26T09:14:53.776Z"
   },
   {
    "duration": 6,
    "start_time": "2022-04-26T09:14:53.794Z"
   },
   {
    "duration": 5,
    "start_time": "2022-04-26T09:14:53.803Z"
   },
   {
    "duration": 6,
    "start_time": "2022-04-26T09:14:53.810Z"
   },
   {
    "duration": 11132,
    "start_time": "2022-04-26T09:14:53.817Z"
   },
   {
    "duration": 810,
    "start_time": "2022-04-26T09:15:04.951Z"
   },
   {
    "duration": 4,
    "start_time": "2022-04-26T09:15:05.763Z"
   },
   {
    "duration": 23185,
    "start_time": "2022-04-26T09:15:05.769Z"
   },
   {
    "duration": 128,
    "start_time": "2022-04-26T09:15:28.955Z"
   },
   {
    "duration": 4,
    "start_time": "2022-04-26T09:15:29.084Z"
   },
   {
    "duration": 273619,
    "start_time": "2022-04-26T09:15:29.090Z"
   },
   {
    "duration": 857,
    "start_time": "2022-04-26T09:20:02.711Z"
   },
   {
    "duration": 4,
    "start_time": "2022-04-26T09:20:03.570Z"
   },
   {
    "duration": 17,
    "start_time": "2022-04-26T09:20:03.575Z"
   },
   {
    "duration": 11,
    "start_time": "2022-04-26T09:24:01.359Z"
   },
   {
    "duration": 3070,
    "start_time": "2022-04-26T12:29:17.756Z"
   },
   {
    "duration": 1394,
    "start_time": "2022-04-26T12:29:20.829Z"
   },
   {
    "duration": 6,
    "start_time": "2022-04-26T12:29:22.226Z"
   },
   {
    "duration": 921,
    "start_time": "2022-04-26T12:29:22.234Z"
   },
   {
    "duration": 1465,
    "start_time": "2022-04-26T12:29:23.159Z"
   },
   {
    "duration": 3,
    "start_time": "2022-04-26T12:29:24.626Z"
   },
   {
    "duration": 105,
    "start_time": "2022-04-26T12:29:24.631Z"
   },
   {
    "duration": 98,
    "start_time": "2022-04-26T12:29:24.738Z"
   },
   {
    "duration": 5,
    "start_time": "2022-04-26T12:29:24.839Z"
   },
   {
    "duration": 621,
    "start_time": "2022-04-26T12:29:24.846Z"
   },
   {
    "duration": 678,
    "start_time": "2022-04-26T12:29:25.469Z"
   },
   {
    "duration": 4,
    "start_time": "2022-04-26T12:29:26.149Z"
   },
   {
    "duration": 8,
    "start_time": "2022-04-26T12:29:26.155Z"
   },
   {
    "duration": 3507,
    "start_time": "2022-04-26T12:29:26.166Z"
   },
   {
    "duration": 3,
    "start_time": "2022-04-26T12:29:29.681Z"
   },
   {
    "duration": 755,
    "start_time": "2022-04-26T12:29:29.689Z"
   },
   {
    "duration": 64,
    "start_time": "2022-04-26T12:29:30.447Z"
   },
   {
    "duration": 1213,
    "start_time": "2022-04-26T12:29:30.515Z"
   },
   {
    "duration": 29,
    "start_time": "2022-04-26T12:29:31.730Z"
   },
   {
    "duration": 746,
    "start_time": "2022-04-26T12:29:31.761Z"
   },
   {
    "duration": 260,
    "start_time": "2022-04-26T12:29:32.510Z"
   },
   {
    "duration": 256,
    "start_time": "2022-04-26T12:29:51.325Z"
   },
   {
    "duration": 4,
    "start_time": "2022-04-26T12:55:41.676Z"
   },
   {
    "duration": 1212941,
    "start_time": "2022-04-26T12:57:24.671Z"
   },
   {
    "duration": 1499,
    "start_time": "2022-04-26T13:17:37.617Z"
   },
   {
    "duration": 6,
    "start_time": "2022-04-26T13:17:39.119Z"
   },
   {
    "duration": 6,
    "start_time": "2022-04-26T13:18:07.838Z"
   },
   {
    "duration": 8,
    "start_time": "2022-04-26T13:18:27.951Z"
   },
   {
    "duration": 8,
    "start_time": "2022-04-26T13:18:35.072Z"
   },
   {
    "duration": 7,
    "start_time": "2022-04-26T13:18:43.254Z"
   },
   {
    "duration": 4479,
    "start_time": "2022-04-26T13:20:04.268Z"
   },
   {
    "duration": 4272,
    "start_time": "2022-04-26T13:21:27.049Z"
   },
   {
    "duration": 1504,
    "start_time": "2022-04-26T13:22:03.620Z"
   },
   {
    "duration": 7519,
    "start_time": "2022-04-26T13:23:42.415Z"
   },
   {
    "duration": 7432,
    "start_time": "2022-04-26T13:24:19.328Z"
   },
   {
    "duration": 7213,
    "start_time": "2022-04-26T13:25:17.178Z"
   },
   {
    "duration": 2959,
    "start_time": "2022-04-26T13:30:05.365Z"
   },
   {
    "duration": 57,
    "start_time": "2022-04-26T14:17:57.991Z"
   },
   {
    "duration": 2350,
    "start_time": "2022-04-26T14:18:09.824Z"
   },
   {
    "duration": 1051,
    "start_time": "2022-04-26T14:18:12.176Z"
   },
   {
    "duration": 6,
    "start_time": "2022-04-26T14:18:13.229Z"
   },
   {
    "duration": 684,
    "start_time": "2022-04-26T14:18:15.310Z"
   },
   {
    "duration": 1390,
    "start_time": "2022-04-26T14:18:17.409Z"
   },
   {
    "duration": 2,
    "start_time": "2022-04-26T14:18:19.944Z"
   },
   {
    "duration": 65,
    "start_time": "2022-04-26T14:18:21.071Z"
   },
   {
    "duration": 54,
    "start_time": "2022-04-26T14:18:30.465Z"
   },
   {
    "duration": 4,
    "start_time": "2022-04-26T14:18:32.678Z"
   },
   {
    "duration": 380,
    "start_time": "2022-04-26T14:18:37.294Z"
   },
   {
    "duration": 286,
    "start_time": "2022-04-26T14:18:38.503Z"
   },
   {
    "duration": 339,
    "start_time": "2022-04-26T14:19:10.984Z"
   },
   {
    "duration": 11,
    "start_time": "2022-04-26T14:20:02.133Z"
   },
   {
    "duration": 72,
    "start_time": "2022-04-26T14:24:46.467Z"
   },
   {
    "duration": 4,
    "start_time": "2022-04-26T14:28:12.254Z"
   },
   {
    "duration": 6,
    "start_time": "2022-04-26T14:28:16.422Z"
   },
   {
    "duration": 11,
    "start_time": "2022-04-26T14:28:30.412Z"
   },
   {
    "duration": 11,
    "start_time": "2022-04-26T14:30:12.471Z"
   },
   {
    "duration": 9,
    "start_time": "2022-04-26T14:30:39.500Z"
   },
   {
    "duration": 5,
    "start_time": "2022-04-26T14:32:15.946Z"
   },
   {
    "duration": 9,
    "start_time": "2022-04-26T14:32:21.122Z"
   },
   {
    "duration": 40,
    "start_time": "2022-04-26T14:33:57.464Z"
   },
   {
    "duration": 309,
    "start_time": "2022-04-26T14:33:58.991Z"
   },
   {
    "duration": 314,
    "start_time": "2022-04-26T14:34:17.210Z"
   },
   {
    "duration": 289,
    "start_time": "2022-04-26T14:34:36.472Z"
   },
   {
    "duration": 13,
    "start_time": "2022-04-26T14:37:59.788Z"
   },
   {
    "duration": 11,
    "start_time": "2022-04-26T14:40:14.281Z"
   },
   {
    "duration": 8,
    "start_time": "2022-04-26T14:40:30.199Z"
   },
   {
    "duration": 8,
    "start_time": "2022-04-26T14:42:01.769Z"
   },
   {
    "duration": 12,
    "start_time": "2022-04-26T14:42:05.542Z"
   },
   {
    "duration": 7,
    "start_time": "2022-04-26T14:42:27.496Z"
   },
   {
    "duration": 2,
    "start_time": "2022-04-26T14:43:13.512Z"
   },
   {
    "duration": 47,
    "start_time": "2022-04-26T14:43:22.615Z"
   },
   {
    "duration": 368,
    "start_time": "2022-04-26T14:43:24.677Z"
   },
   {
    "duration": 167,
    "start_time": "2022-04-26T14:44:10.420Z"
   },
   {
    "duration": 3,
    "start_time": "2022-04-26T14:44:33.336Z"
   },
   {
    "duration": 1782,
    "start_time": "2022-04-26T14:44:35.408Z"
   },
   {
    "duration": 2,
    "start_time": "2022-04-26T14:45:29.773Z"
   },
   {
    "duration": 3,
    "start_time": "2022-04-26T14:45:30.234Z"
   },
   {
    "duration": 2,
    "start_time": "2022-04-26T14:45:31.247Z"
   },
   {
    "duration": 4,
    "start_time": "2022-04-26T14:45:41.475Z"
   },
   {
    "duration": 273,
    "start_time": "2022-04-26T14:45:42.987Z"
   },
   {
    "duration": 2,
    "start_time": "2022-04-26T14:45:45.292Z"
   },
   {
    "duration": 39,
    "start_time": "2022-04-26T14:45:46.579Z"
   },
   {
    "duration": 267,
    "start_time": "2022-04-26T14:45:48.266Z"
   },
   {
    "duration": 5,
    "start_time": "2022-04-26T14:45:59.772Z"
   },
   {
    "duration": 1119,
    "start_time": "2022-04-26T14:45:59.779Z"
   },
   {
    "duration": 5,
    "start_time": "2022-04-26T14:46:00.900Z"
   },
   {
    "duration": 1079,
    "start_time": "2022-04-26T14:46:00.907Z"
   },
   {
    "duration": 1141,
    "start_time": "2022-04-26T14:46:01.988Z"
   },
   {
    "duration": 2,
    "start_time": "2022-04-26T14:46:03.131Z"
   },
   {
    "duration": 9,
    "start_time": "2022-04-26T14:46:03.135Z"
   },
   {
    "duration": 15,
    "start_time": "2022-04-26T14:46:03.145Z"
   },
   {
    "duration": 16,
    "start_time": "2022-04-26T14:46:03.163Z"
   },
   {
    "duration": 469,
    "start_time": "2022-04-26T14:46:03.181Z"
   },
   {
    "duration": 3,
    "start_time": "2022-04-26T14:46:03.652Z"
   },
   {
    "duration": 76,
    "start_time": "2022-04-26T14:46:03.656Z"
   },
   {
    "duration": 434,
    "start_time": "2022-04-26T14:46:03.735Z"
   },
   {
    "duration": 722,
    "start_time": "2022-04-26T14:46:04.172Z"
   },
   {
    "duration": 5,
    "start_time": "2022-04-26T14:46:04.896Z"
   },
   {
    "duration": 9,
    "start_time": "2022-04-26T14:46:04.903Z"
   },
   {
    "duration": 3136,
    "start_time": "2022-04-26T14:46:04.914Z"
   },
   {
    "duration": 0,
    "start_time": "2022-04-26T14:46:08.053Z"
   },
   {
    "duration": 0,
    "start_time": "2022-04-26T14:46:08.054Z"
   },
   {
    "duration": 0,
    "start_time": "2022-04-26T14:46:08.055Z"
   },
   {
    "duration": 0,
    "start_time": "2022-04-26T14:46:08.056Z"
   },
   {
    "duration": 0,
    "start_time": "2022-04-26T14:46:08.057Z"
   },
   {
    "duration": 0,
    "start_time": "2022-04-26T14:46:08.059Z"
   },
   {
    "duration": 0,
    "start_time": "2022-04-26T14:46:08.060Z"
   },
   {
    "duration": 0,
    "start_time": "2022-04-26T14:46:08.061Z"
   },
   {
    "duration": 0,
    "start_time": "2022-04-26T14:46:08.062Z"
   },
   {
    "duration": 0,
    "start_time": "2022-04-26T14:46:08.064Z"
   },
   {
    "duration": 0,
    "start_time": "2022-04-26T14:46:08.065Z"
   },
   {
    "duration": 0,
    "start_time": "2022-04-26T14:46:08.066Z"
   },
   {
    "duration": 0,
    "start_time": "2022-04-26T14:46:08.067Z"
   },
   {
    "duration": 0,
    "start_time": "2022-04-26T14:46:08.068Z"
   },
   {
    "duration": 0,
    "start_time": "2022-04-26T14:46:08.070Z"
   },
   {
    "duration": 0,
    "start_time": "2022-04-26T14:46:08.071Z"
   },
   {
    "duration": 0,
    "start_time": "2022-04-26T14:46:08.072Z"
   },
   {
    "duration": 0,
    "start_time": "2022-04-26T14:46:08.074Z"
   },
   {
    "duration": 0,
    "start_time": "2022-04-26T14:46:08.075Z"
   },
   {
    "duration": 0,
    "start_time": "2022-04-26T14:46:08.076Z"
   },
   {
    "duration": 0,
    "start_time": "2022-04-26T14:46:08.077Z"
   },
   {
    "duration": 28,
    "start_time": "2022-04-26T14:49:55.243Z"
   },
   {
    "duration": 2317,
    "start_time": "2022-04-26T14:50:01.951Z"
   },
   {
    "duration": 18,
    "start_time": "2022-04-26T14:50:04.271Z"
   },
   {
    "duration": 5,
    "start_time": "2022-04-26T14:51:19.046Z"
   },
   {
    "duration": 1008,
    "start_time": "2022-04-26T14:51:19.053Z"
   },
   {
    "duration": 4,
    "start_time": "2022-04-26T14:51:20.062Z"
   },
   {
    "duration": 610,
    "start_time": "2022-04-26T14:51:20.067Z"
   },
   {
    "duration": 1086,
    "start_time": "2022-04-26T14:51:20.680Z"
   },
   {
    "duration": 3,
    "start_time": "2022-04-26T14:51:21.768Z"
   },
   {
    "duration": 5,
    "start_time": "2022-04-26T14:51:21.772Z"
   },
   {
    "duration": 6,
    "start_time": "2022-04-26T14:51:21.779Z"
   },
   {
    "duration": 5,
    "start_time": "2022-04-26T14:51:21.787Z"
   },
   {
    "duration": 336,
    "start_time": "2022-04-26T14:51:21.794Z"
   },
   {
    "duration": 2,
    "start_time": "2022-04-26T14:51:22.132Z"
   },
   {
    "duration": 55,
    "start_time": "2022-04-26T14:51:22.136Z"
   },
   {
    "duration": 322,
    "start_time": "2022-04-26T14:51:22.193Z"
   },
   {
    "duration": 541,
    "start_time": "2022-04-26T14:51:22.522Z"
   },
   {
    "duration": 2,
    "start_time": "2022-04-26T14:51:23.065Z"
   },
   {
    "duration": 11,
    "start_time": "2022-04-26T14:51:23.070Z"
   },
   {
    "duration": 1974,
    "start_time": "2022-04-26T14:51:23.083Z"
   },
   {
    "duration": 14,
    "start_time": "2022-04-26T14:51:25.058Z"
   },
   {
    "duration": 2,
    "start_time": "2022-04-26T14:51:25.074Z"
   },
   {
    "duration": 511,
    "start_time": "2022-04-26T14:51:25.078Z"
   },
   {
    "duration": 41,
    "start_time": "2022-04-26T14:51:25.590Z"
   },
   {
    "duration": 695,
    "start_time": "2022-04-26T14:51:25.632Z"
   },
   {
    "duration": 16,
    "start_time": "2022-04-26T14:51:26.329Z"
   },
   {
    "duration": 615,
    "start_time": "2022-04-26T14:51:26.346Z"
   },
   {
    "duration": 197,
    "start_time": "2022-04-26T14:51:26.963Z"
   },
   {
    "duration": 15,
    "start_time": "2022-04-26T14:51:27.162Z"
   },
   {
    "duration": 5,
    "start_time": "2022-04-26T14:51:27.178Z"
   },
   {
    "duration": 6,
    "start_time": "2022-04-26T14:51:27.184Z"
   },
   {
    "duration": 6,
    "start_time": "2022-04-26T14:51:27.191Z"
   },
   {
    "duration": 13526,
    "start_time": "2022-04-26T14:51:27.198Z"
   },
   {
    "duration": 1005,
    "start_time": "2022-04-26T14:51:40.726Z"
   },
   {
    "duration": 15,
    "start_time": "2022-04-26T14:51:41.733Z"
   },
   {
    "duration": 0,
    "start_time": "2022-04-26T14:51:41.750Z"
   },
   {
    "duration": 0,
    "start_time": "2022-04-26T14:51:41.751Z"
   },
   {
    "duration": 0,
    "start_time": "2022-04-26T14:51:41.752Z"
   },
   {
    "duration": 0,
    "start_time": "2022-04-26T14:51:41.752Z"
   },
   {
    "duration": 0,
    "start_time": "2022-04-26T14:51:41.753Z"
   },
   {
    "duration": 0,
    "start_time": "2022-04-26T14:51:41.754Z"
   },
   {
    "duration": 0,
    "start_time": "2022-04-26T14:51:41.755Z"
   },
   {
    "duration": 12,
    "start_time": "2022-04-26T14:52:32.733Z"
   },
   {
    "duration": 12,
    "start_time": "2022-04-26T14:52:37.972Z"
   },
   {
    "duration": 2051,
    "start_time": "2022-04-26T14:58:08.271Z"
   },
   {
    "duration": 2,
    "start_time": "2022-04-26T14:58:24.208Z"
   },
   {
    "duration": 370,
    "start_time": "2022-04-26T14:58:27.682Z"
   },
   {
    "duration": 24,
    "start_time": "2022-04-26T14:59:18.079Z"
   },
   {
    "duration": 24,
    "start_time": "2022-04-26T14:59:18.751Z"
   },
   {
    "duration": 4,
    "start_time": "2022-04-26T14:59:20.255Z"
   },
   {
    "duration": 4,
    "start_time": "2022-04-26T14:59:37.424Z"
   },
   {
    "duration": 24,
    "start_time": "2022-04-26T14:59:51.257Z"
   },
   {
    "duration": 259,
    "start_time": "2022-04-26T14:59:52.143Z"
   },
   {
    "duration": 4,
    "start_time": "2022-04-26T14:59:53.345Z"
   },
   {
    "duration": 401,
    "start_time": "2022-04-26T15:00:52.159Z"
   },
   {
    "duration": 16,
    "start_time": "2022-04-26T15:00:58.055Z"
   },
   {
    "duration": 1972,
    "start_time": "2022-04-26T15:01:12.275Z"
   },
   {
    "duration": 1038,
    "start_time": "2022-04-26T15:01:14.249Z"
   },
   {
    "duration": 4,
    "start_time": "2022-04-26T15:01:15.289Z"
   },
   {
    "duration": 639,
    "start_time": "2022-04-26T15:01:15.294Z"
   },
   {
    "duration": 1058,
    "start_time": "2022-04-26T15:01:15.935Z"
   },
   {
    "duration": 2,
    "start_time": "2022-04-26T15:01:16.996Z"
   },
   {
    "duration": 58,
    "start_time": "2022-04-26T15:01:17.000Z"
   },
   {
    "duration": 66,
    "start_time": "2022-04-26T15:01:17.060Z"
   },
   {
    "duration": 5,
    "start_time": "2022-04-26T15:01:17.127Z"
   },
   {
    "duration": 307,
    "start_time": "2022-04-26T15:01:17.134Z"
   },
   {
    "duration": 2,
    "start_time": "2022-04-26T15:01:17.443Z"
   },
   {
    "duration": 70,
    "start_time": "2022-04-26T15:01:17.447Z"
   },
   {
    "duration": 357,
    "start_time": "2022-04-26T15:01:17.519Z"
   },
   {
    "duration": 414,
    "start_time": "2022-04-26T15:01:17.879Z"
   },
   {
    "duration": 3,
    "start_time": "2022-04-26T15:01:18.295Z"
   },
   {
    "duration": 18,
    "start_time": "2022-04-26T15:01:18.299Z"
   },
   {
    "duration": 1893,
    "start_time": "2022-04-26T15:01:18.319Z"
   },
   {
    "duration": 7,
    "start_time": "2022-04-26T15:01:20.215Z"
   },
   {
    "duration": 505,
    "start_time": "2022-04-26T15:01:20.224Z"
   },
   {
    "duration": 26,
    "start_time": "2022-04-26T15:01:20.730Z"
   },
   {
    "duration": 721,
    "start_time": "2022-04-26T15:01:20.759Z"
   },
   {
    "duration": 16,
    "start_time": "2022-04-26T15:01:21.482Z"
   },
   {
    "duration": 523,
    "start_time": "2022-04-26T15:01:21.499Z"
   },
   {
    "duration": 180,
    "start_time": "2022-04-26T15:01:22.024Z"
   },
   {
    "duration": 22,
    "start_time": "2022-04-26T15:01:22.205Z"
   },
   {
    "duration": 7,
    "start_time": "2022-04-26T15:01:22.229Z"
   },
   {
    "duration": 10,
    "start_time": "2022-04-26T15:01:22.237Z"
   },
   {
    "duration": 8,
    "start_time": "2022-04-26T15:01:22.248Z"
   },
   {
    "duration": 240885,
    "start_time": "2022-04-26T15:01:22.257Z"
   },
   {
    "duration": 897,
    "start_time": "2022-04-26T15:05:23.145Z"
   },
   {
    "duration": 4,
    "start_time": "2022-04-26T15:05:24.047Z"
   },
   {
    "duration": 26747,
    "start_time": "2022-04-26T15:05:24.053Z"
   },
   {
    "duration": 136,
    "start_time": "2022-04-26T15:05:50.802Z"
   },
   {
    "duration": 4,
    "start_time": "2022-04-26T15:05:50.940Z"
   },
   {
    "duration": 331293,
    "start_time": "2022-04-26T15:05:50.946Z"
   },
   {
    "duration": 979,
    "start_time": "2022-04-26T15:11:22.246Z"
   },
   {
    "duration": 3,
    "start_time": "2022-04-26T15:11:23.230Z"
   },
   {
    "duration": 26,
    "start_time": "2022-04-26T15:11:23.235Z"
   },
   {
    "duration": 2058,
    "start_time": "2022-04-27T06:39:55.499Z"
   },
   {
    "duration": 1116,
    "start_time": "2022-04-27T06:39:57.559Z"
   },
   {
    "duration": 4,
    "start_time": "2022-04-27T06:39:58.677Z"
   },
   {
    "duration": 739,
    "start_time": "2022-04-27T06:39:58.684Z"
   },
   {
    "duration": 1149,
    "start_time": "2022-04-27T06:39:59.425Z"
   },
   {
    "duration": 2,
    "start_time": "2022-04-27T06:40:00.576Z"
   },
   {
    "duration": 97,
    "start_time": "2022-04-27T06:40:00.580Z"
   },
   {
    "duration": 61,
    "start_time": "2022-04-27T06:40:00.679Z"
   },
   {
    "duration": 5,
    "start_time": "2022-04-27T06:40:00.741Z"
   },
   {
    "duration": 421,
    "start_time": "2022-04-27T06:40:00.749Z"
   },
   {
    "duration": 3,
    "start_time": "2022-04-27T06:40:01.172Z"
   },
   {
    "duration": 69,
    "start_time": "2022-04-27T06:40:01.176Z"
   },
   {
    "duration": 317,
    "start_time": "2022-04-27T06:40:01.248Z"
   },
   {
    "duration": 583,
    "start_time": "2022-04-27T06:40:01.568Z"
   },
   {
    "duration": 2,
    "start_time": "2022-04-27T06:40:02.153Z"
   },
   {
    "duration": 24,
    "start_time": "2022-04-27T06:40:02.156Z"
   },
   {
    "duration": 1968,
    "start_time": "2022-04-27T06:40:02.181Z"
   },
   {
    "duration": 2,
    "start_time": "2022-04-27T06:40:04.151Z"
   },
   {
    "duration": 521,
    "start_time": "2022-04-27T06:40:04.155Z"
   },
   {
    "duration": 43,
    "start_time": "2022-04-27T06:40:04.678Z"
   },
   {
    "duration": 648,
    "start_time": "2022-04-27T06:40:04.723Z"
   },
   {
    "duration": 30,
    "start_time": "2022-04-27T06:40:05.372Z"
   },
   {
    "duration": 752,
    "start_time": "2022-04-27T06:40:05.406Z"
   },
   {
    "duration": 301,
    "start_time": "2022-04-27T06:40:06.160Z"
   },
   {
    "duration": 25,
    "start_time": "2022-04-27T06:40:06.463Z"
   },
   {
    "duration": 6,
    "start_time": "2022-04-27T06:40:06.501Z"
   },
   {
    "duration": 25,
    "start_time": "2022-04-27T06:40:06.514Z"
   },
   {
    "duration": 5,
    "start_time": "2022-04-27T06:40:06.542Z"
   },
   {
    "duration": 790358,
    "start_time": "2022-04-27T06:40:06.549Z"
   },
   {
    "duration": 798,
    "start_time": "2022-04-27T06:53:16.917Z"
   },
   {
    "duration": 5,
    "start_time": "2022-04-27T06:53:17.720Z"
   },
   {
    "duration": 881,
    "start_time": "2022-04-27T06:53:17.726Z"
   },
   {
    "duration": 24889,
    "start_time": "2022-04-27T06:53:18.609Z"
   },
   {
    "duration": 240,
    "start_time": "2022-04-27T06:53:43.500Z"
   },
   {
    "duration": 3,
    "start_time": "2022-04-27T06:53:43.742Z"
   },
   {
    "duration": 143,
    "start_time": "2022-04-27T06:53:43.747Z"
   },
   {
    "duration": 368208,
    "start_time": "2022-04-27T06:53:43.892Z"
   },
   {
    "duration": 925,
    "start_time": "2022-04-27T06:59:52.103Z"
   },
   {
    "duration": 3,
    "start_time": "2022-04-27T06:59:53.030Z"
   },
   {
    "duration": 983,
    "start_time": "2022-04-27T06:59:53.035Z"
   },
   {
    "duration": 16,
    "start_time": "2022-04-27T06:59:54.019Z"
   },
   {
    "duration": 7,
    "start_time": "2022-04-27T07:12:16.621Z"
   },
   {
    "duration": 882,
    "start_time": "2022-04-27T07:12:16.630Z"
   },
   {
    "duration": 5,
    "start_time": "2022-04-27T07:12:17.513Z"
   },
   {
    "duration": 910,
    "start_time": "2022-04-27T07:12:17.520Z"
   },
   {
    "duration": 1699,
    "start_time": "2022-04-27T07:12:18.432Z"
   },
   {
    "duration": 2,
    "start_time": "2022-04-27T07:12:20.133Z"
   },
   {
    "duration": 74,
    "start_time": "2022-04-27T07:12:20.137Z"
   },
   {
    "duration": 47,
    "start_time": "2022-04-27T07:12:20.213Z"
   },
   {
    "duration": 4,
    "start_time": "2022-04-27T07:12:20.261Z"
   },
   {
    "duration": 295,
    "start_time": "2022-04-27T07:12:20.268Z"
   },
   {
    "duration": 3,
    "start_time": "2022-04-27T07:12:20.564Z"
   },
   {
    "duration": 58,
    "start_time": "2022-04-27T07:12:20.569Z"
   },
   {
    "duration": 390,
    "start_time": "2022-04-27T07:12:20.629Z"
   },
   {
    "duration": 417,
    "start_time": "2022-04-27T07:12:21.021Z"
   },
   {
    "duration": 2,
    "start_time": "2022-04-27T07:12:21.440Z"
   },
   {
    "duration": 8,
    "start_time": "2022-04-27T07:12:21.444Z"
   },
   {
    "duration": 2939,
    "start_time": "2022-04-27T07:12:21.454Z"
   },
   {
    "duration": 5,
    "start_time": "2022-04-27T07:12:24.395Z"
   },
   {
    "duration": 703,
    "start_time": "2022-04-27T07:12:24.401Z"
   },
   {
    "duration": 45,
    "start_time": "2022-04-27T07:12:25.107Z"
   },
   {
    "duration": 634,
    "start_time": "2022-04-27T07:12:25.154Z"
   },
   {
    "duration": 26,
    "start_time": "2022-04-27T07:12:25.789Z"
   },
   {
    "duration": 525,
    "start_time": "2022-04-27T07:12:25.817Z"
   },
   {
    "duration": 164,
    "start_time": "2022-04-27T07:12:26.344Z"
   },
   {
    "duration": 21,
    "start_time": "2022-04-27T07:12:26.510Z"
   },
   {
    "duration": 5,
    "start_time": "2022-04-27T07:12:26.532Z"
   },
   {
    "duration": 11,
    "start_time": "2022-04-27T07:12:26.539Z"
   },
   {
    "duration": 5,
    "start_time": "2022-04-27T07:12:26.553Z"
   },
   {
    "duration": 1472046,
    "start_time": "2022-04-27T07:12:26.559Z"
   },
   {
    "duration": 827,
    "start_time": "2022-04-27T07:36:58.607Z"
   },
   {
    "duration": 4,
    "start_time": "2022-04-27T07:36:59.436Z"
   },
   {
    "duration": 901,
    "start_time": "2022-04-27T07:36:59.442Z"
   },
   {
    "duration": 26288,
    "start_time": "2022-04-27T07:37:00.345Z"
   },
   {
    "duration": 115,
    "start_time": "2022-04-27T07:37:26.635Z"
   },
   {
    "duration": 4,
    "start_time": "2022-04-27T07:37:26.751Z"
   },
   {
    "duration": 122,
    "start_time": "2022-04-27T07:37:26.756Z"
   },
   {
    "duration": 380173,
    "start_time": "2022-04-27T07:37:26.879Z"
   },
   {
    "duration": 857,
    "start_time": "2022-04-27T07:43:47.054Z"
   },
   {
    "duration": 4,
    "start_time": "2022-04-27T07:43:47.912Z"
   },
   {
    "duration": 888,
    "start_time": "2022-04-27T07:43:47.917Z"
   },
   {
    "duration": 13,
    "start_time": "2022-04-27T07:43:48.806Z"
   },
   {
    "duration": 6,
    "start_time": "2022-04-27T07:48:11.541Z"
   },
   {
    "duration": 1276,
    "start_time": "2022-04-27T07:48:11.549Z"
   },
   {
    "duration": 4,
    "start_time": "2022-04-27T07:48:12.827Z"
   },
   {
    "duration": 731,
    "start_time": "2022-04-27T07:48:12.833Z"
   },
   {
    "duration": 1064,
    "start_time": "2022-04-27T07:48:13.565Z"
   },
   {
    "duration": 3,
    "start_time": "2022-04-27T07:48:14.630Z"
   },
   {
    "duration": 76,
    "start_time": "2022-04-27T07:48:14.635Z"
   },
   {
    "duration": 64,
    "start_time": "2022-04-27T07:48:14.713Z"
   },
   {
    "duration": 4,
    "start_time": "2022-04-27T07:48:14.780Z"
   },
   {
    "duration": 420,
    "start_time": "2022-04-27T07:48:14.786Z"
   },
   {
    "duration": 3,
    "start_time": "2022-04-27T07:48:15.208Z"
   },
   {
    "duration": 69,
    "start_time": "2022-04-27T07:48:15.212Z"
   },
   {
    "duration": 283,
    "start_time": "2022-04-27T07:48:15.283Z"
   },
   {
    "duration": 410,
    "start_time": "2022-04-27T07:48:15.567Z"
   },
   {
    "duration": 4,
    "start_time": "2022-04-27T07:48:15.978Z"
   },
   {
    "duration": 20,
    "start_time": "2022-04-27T07:48:15.984Z"
   },
   {
    "duration": 1905,
    "start_time": "2022-04-27T07:48:16.006Z"
   },
   {
    "duration": 2,
    "start_time": "2022-04-27T07:48:17.913Z"
   },
   {
    "duration": 483,
    "start_time": "2022-04-27T07:48:17.917Z"
   },
   {
    "duration": 30,
    "start_time": "2022-04-27T07:48:18.401Z"
   },
   {
    "duration": 558,
    "start_time": "2022-04-27T07:48:18.432Z"
   },
   {
    "duration": 22,
    "start_time": "2022-04-27T07:48:18.992Z"
   },
   {
    "duration": 509,
    "start_time": "2022-04-27T07:48:19.015Z"
   },
   {
    "duration": 158,
    "start_time": "2022-04-27T07:48:19.527Z"
   },
   {
    "duration": 25,
    "start_time": "2022-04-27T07:48:19.687Z"
   },
   {
    "duration": 6,
    "start_time": "2022-04-27T07:48:19.713Z"
   },
   {
    "duration": 9,
    "start_time": "2022-04-27T07:48:19.721Z"
   },
   {
    "duration": 7,
    "start_time": "2022-04-27T07:48:19.732Z"
   },
   {
    "duration": 287575,
    "start_time": "2022-04-27T07:48:19.741Z"
   },
   {
    "duration": 805,
    "start_time": "2022-04-27T07:53:07.318Z"
   },
   {
    "duration": 13,
    "start_time": "2022-04-27T07:53:08.201Z"
   },
   {
    "duration": 806,
    "start_time": "2022-04-27T07:53:08.217Z"
   },
   {
    "duration": 25547,
    "start_time": "2022-04-27T07:53:09.025Z"
   },
   {
    "duration": 119,
    "start_time": "2022-04-27T07:53:34.574Z"
   },
   {
    "duration": 6,
    "start_time": "2022-04-27T07:53:34.695Z"
   },
   {
    "duration": 131,
    "start_time": "2022-04-27T07:53:34.703Z"
   },
   {
    "duration": 354421,
    "start_time": "2022-04-27T07:53:34.836Z"
   },
   {
    "duration": 875,
    "start_time": "2022-04-27T07:59:29.259Z"
   },
   {
    "duration": 3,
    "start_time": "2022-04-27T07:59:30.136Z"
   },
   {
    "duration": 900,
    "start_time": "2022-04-27T07:59:30.200Z"
   },
   {
    "duration": 20,
    "start_time": "2022-04-27T07:59:31.102Z"
   },
   {
    "duration": 208,
    "start_time": "2022-04-27T08:24:14.592Z"
   },
   {
    "duration": 233,
    "start_time": "2022-04-27T08:32:00.636Z"
   },
   {
    "duration": 109,
    "start_time": "2022-04-27T08:32:20.057Z"
   },
   {
    "duration": 7,
    "start_time": "2022-04-27T08:32:27.546Z"
   },
   {
    "duration": 976,
    "start_time": "2022-04-27T08:32:31.036Z"
   },
   {
    "duration": 4,
    "start_time": "2022-04-27T08:32:32.948Z"
   },
   {
    "duration": 837,
    "start_time": "2022-04-27T08:32:36.183Z"
   },
   {
    "duration": 1138,
    "start_time": "2022-04-27T08:32:38.882Z"
   },
   {
    "duration": 3,
    "start_time": "2022-04-27T08:32:40.332Z"
   },
   {
    "duration": 48,
    "start_time": "2022-04-27T08:32:41.256Z"
   },
   {
    "duration": 447,
    "start_time": "2022-04-27T08:32:44.778Z"
   },
   {
    "duration": 291,
    "start_time": "2022-04-27T08:33:08.784Z"
   },
   {
    "duration": 411,
    "start_time": "2022-04-27T08:33:22.746Z"
   },
   {
    "duration": 301,
    "start_time": "2022-04-27T08:33:31.097Z"
   },
   {
    "duration": 286,
    "start_time": "2022-04-27T08:33:44.540Z"
   },
   {
    "duration": 291,
    "start_time": "2022-04-27T08:33:58.232Z"
   },
   {
    "duration": 49,
    "start_time": "2022-04-27T08:34:01.636Z"
   },
   {
    "duration": 4,
    "start_time": "2022-04-27T08:34:02.175Z"
   },
   {
    "duration": 294,
    "start_time": "2022-04-27T08:34:12.558Z"
   },
   {
    "duration": 268,
    "start_time": "2022-04-27T08:34:24.645Z"
   },
   {
    "duration": 3,
    "start_time": "2022-04-27T08:34:35.469Z"
   },
   {
    "duration": 59,
    "start_time": "2022-04-27T08:34:35.974Z"
   },
   {
    "duration": 449,
    "start_time": "2022-04-27T08:34:37.374Z"
   },
   {
    "duration": 300,
    "start_time": "2022-04-27T08:35:04.956Z"
   },
   {
    "duration": 469,
    "start_time": "2022-04-27T08:35:43.965Z"
   },
   {
    "duration": 125,
    "start_time": "2022-04-27T16:17:17.067Z"
   }
  ],
  "kernelspec": {
   "display_name": "Python 3 (ipykernel)",
   "language": "python",
   "name": "python3"
  },
  "language_info": {
   "codemirror_mode": {
    "name": "ipython",
    "version": 3
   },
   "file_extension": ".py",
   "mimetype": "text/x-python",
   "name": "python",
   "nbconvert_exporter": "python",
   "pygments_lexer": "ipython3",
   "version": "3.9.5"
  },
  "toc": {
   "base_numbering": 1,
   "nav_menu": {},
   "number_sections": true,
   "sideBar": true,
   "skip_h1_title": true,
   "title_cell": "Table of Contents",
   "title_sidebar": "Contents",
   "toc_cell": false,
   "toc_position": {
    "height": "calc(100% - 180px)",
    "left": "10px",
    "top": "150px",
    "width": "366.391px"
   },
   "toc_section_display": true,
   "toc_window_display": true
  }
 },
 "nbformat": 4,
 "nbformat_minor": 2
}
