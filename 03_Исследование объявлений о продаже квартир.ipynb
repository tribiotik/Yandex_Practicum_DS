{
 "cells": [
  {
   "cell_type": "markdown",
   "metadata": {},
   "source": [
    "<div style=\"border-radius: 15px; border: 3px solid indigo; padding: 15px;\">\n",
    "<b> Комментарий ревьюера</b>\n",
    "    \n",
    "Привет! Прошу прощения за задержку ревью. Надеюсь, это не принесло тебе слишком много неудобств 🙏\n",
    "    \n",
    "    \n",
    "Меня зовут Светлана Носова, я буду проверять твой проект. Если не против, давай общаться на «ты». Если тебе такой стиль общения не нравится, напиши об этом, будем на «вы».\n",
    "\n",
    "Сразу хочу обратить внимание на цветовую разметку:\n",
    "\n",
    "<div class=\"alert alert-success\" style=\"border-radius: 15px; box-shadow: 4px 4px 4px; border: 1px solid \">\n",
    "\n",
    "Зеленым отмечены отличные решения и идеи, которые можно и нужно использовать в будущем.\n",
    "</div>\n",
    "    \n",
    "<div class=\"alert alert-warning\" style=\"border-radius: 15px; box-shadow: 4px 4px 4px; border: 1px solid \">\n",
    "\n",
    "Желтым отмечено то, что можно или нужно оптимизировать, в зависимости от контекста.</div>    \n",
    "    \n",
    "<div class=\"alert alert-danger\" style=\"border-radius: 15px; box-shadow: 4px 4px 4px; border: 1px solid \">\n",
    "\n",
    "Красным  обозначены пропущенные пункты задания и ошибки, которые обязательно надо будет исправить, чтобы результаты были верные.</div> \n",
    "    \n",
    "**Ответы на мои комментарии или доработки по моим рекомендациям попрошу выделить каким-нибудь цветом, кроме перечисленных.**\n",
    "Также я попрошу тебя **не менять, не передвигать и не удалять мои комментарии**, чтобы при последующей проверке мне было проще ориентироваться.\n",
    "    \n",
    "Кроме того, комментарии у меня обозначены как заголовки. Это сбивает содержание, но при последующей проверке я могу снять с них заголовок, если тебе так будет удобнее. При этом они удобны, поскольку ты сразу можешь перейти к ним.   \n",
    "        \n",
    "<hr>\n",
    "    \n",
    "<font color= 'dodgerblue'>**По проекту:**</font> работа очень объемная и непростая, ты молодец. Структура хорошая, много анализа, графиков и выводов. Хорошо проработаны пропущенные значения и выбросы. У меня остались некоторые вопросы, я все написала в комментариях. Там же я оставила рекомендации по улучшению проекта. Буду ждать работу на повторное ревью.\n",
    "    \n",
    "<hr style=\"border-top: 3px solid purple; \"></hr>\n",
    "Комментарии можешь оставлять с помощью такого кода в Markdown ячейке:\n",
    "    \n",
    "    \n",
    "    <div class=\"alert alert-info\">\n",
    "    <h2> Комментарий студента</h2>\n",
    "\n",
    "    Тут текст.\n",
    "    </div>\n",
    "    \n",
    "    \n",
    "    <font color='red'> Этот код позволяет менять цвет текста. </font>     \n",
    "\n",
    "\n",
    "<font color='red'> Выглядит это так. </font> \n",
    "\n",
    "  \n",
    "   \n",
    "Если не хочешь, чтобы твои комментарии отображались в содержании как заголовки, замени **h2** на **b** или добавь `<a class=\"tocSkip\">` после фразы *Комментарий студента*.\n",
    "\n",
    "\n",
    "\n",
    "О том, как **форматировать текст** в Markdown ячейке или как добавлять ссылки, ты можешь узнать [тут](https://sqlbak.com/blog/jupyter-notebook-markdown-cheatsheet) и [вот тут](https://medium.com/analytics-vidhya/the-ultimate-markdown-guide-for-jupyter-notebook-d5e5abf728fd).\n",
    "</div>    \n"
   ]
  },
  {
   "cell_type": "markdown",
   "metadata": {},
   "source": [
    "<div class=\"alert alert-info\">\n",
    "<h2> Комментарий студента</h2>\n",
    "\n",
    "Привет, Светлана! Конечно можно на ты.\n",
    "</div>"
   ]
  },
  {
   "cell_type": "markdown",
   "metadata": {},
   "source": [
    "<div style=\"border-radius: 15px; border: 3px solid indigo; padding: 15px;\">\n",
    "<b> Комментарий ревьюера 2</b>\n",
    "    \n",
    "Спасибо за корректировки. Я оставила новые комментарии с цифрой 2, а со старых сняла заголовки, чтобы  не мешали. Один вопрос остался. \n",
    "</div>\n",
    "<hr>\n",
    "<div style=\"border-radius: 15px; border: 3px solid indigo; padding: 15px;\">\n",
    "<b> Комментарий ревьюера 3</b>\n",
    "    \n",
    "Теперь все отлично :) Пару новых комментариев оставила. Проект я могу принять, поскольку вопросов больше нет. Желаю успехов в дальнейшем обучении :) </div>"
   ]
  },
  {
   "cell_type": "markdown",
   "metadata": {
    "toc": true
   },
   "source": [
    "<h1>Содержание<span class=\"tocSkip\"></span></h1>\n",
    "<div class=\"toc\"><ul class=\"toc-item\"><li><span><a href=\"#-Комментарий-студента\" data-toc-modified-id=\"-Комментарий-студента-1\"><span class=\"toc-item-num\">1&nbsp;&nbsp;</span> Комментарий студента</a></span></li><li><span><a href=\"#-Комментарий-ревьюера\" data-toc-modified-id=\"-Комментарий-ревьюера-2\"><span class=\"toc-item-num\">2&nbsp;&nbsp;</span> Комментарий ревьюера</a></span></li><li><span><a href=\"#Изучение-данных-из-файла\" data-toc-modified-id=\"Изучение-данных-из-файла-3\"><span class=\"toc-item-num\">3&nbsp;&nbsp;</span>Изучение данных из файла</a></span><ul class=\"toc-item\"><li><span><a href=\"#Вывод\" data-toc-modified-id=\"Вывод-3.1\"><span class=\"toc-item-num\">3.1&nbsp;&nbsp;</span>Вывод</a></span></li></ul></li><li><span><a href=\"#Предобработка-данных\" data-toc-modified-id=\"Предобработка-данных-4\"><span class=\"toc-item-num\">4&nbsp;&nbsp;</span>Предобработка данных</a></span></li><li><span><a href=\"#-Комментарий-студента\" data-toc-modified-id=\"-Комментарий-студента-5\"><span class=\"toc-item-num\">5&nbsp;&nbsp;</span> Комментарий студента</a></span></li><li><span><a href=\"#Расчёты-и-добавление-результатов-в-таблицу\" data-toc-modified-id=\"Расчёты-и-добавление-результатов-в-таблицу-6\"><span class=\"toc-item-num\">6&nbsp;&nbsp;</span>Расчёты и добавление результатов в таблицу</a></span></li><li><span><a href=\"#Исследовательский-анализ-данных\" data-toc-modified-id=\"Исследовательский-анализ-данных-7\"><span class=\"toc-item-num\">7&nbsp;&nbsp;</span>Исследовательский анализ данных</a></span></li><li><span><a href=\"#-Комментарий-студента\" data-toc-modified-id=\"-Комментарий-студента-8\"><span class=\"toc-item-num\">8&nbsp;&nbsp;</span> Комментарий студента</a></span></li><li><span><a href=\"#-Комментарий-студента-2\" data-toc-modified-id=\"-Комментарий-студента-2-9\"><span class=\"toc-item-num\">9&nbsp;&nbsp;</span> Комментарий студента 2</a></span></li><li><span><a href=\"#-Комментарий-студента\" data-toc-modified-id=\"-Комментарий-студента-10\"><span class=\"toc-item-num\">10&nbsp;&nbsp;</span> Комментарий студента</a></span></li><li><span><a href=\"#-Комментарий-студента\" data-toc-modified-id=\"-Комментарий-студента-11\"><span class=\"toc-item-num\">11&nbsp;&nbsp;</span> Комментарий студента</a></span></li><li><span><a href=\"#-Комментарий-студента\" data-toc-modified-id=\"-Комментарий-студента-12\"><span class=\"toc-item-num\">12&nbsp;&nbsp;</span> Комментарий студента</a></span></li><li><span><a href=\"#-Комментарий-студента\" data-toc-modified-id=\"-Комментарий-студента-13\"><span class=\"toc-item-num\">13&nbsp;&nbsp;</span> Комментарий студента</a></span></li><li><span><a href=\"#-Комментарий-студента\" data-toc-modified-id=\"-Комментарий-студента-14\"><span class=\"toc-item-num\">14&nbsp;&nbsp;</span> Комментарий студента</a></span></li><li><span><a href=\"#-Комментарий-студента\" data-toc-modified-id=\"-Комментарий-студента-15\"><span class=\"toc-item-num\">15&nbsp;&nbsp;</span> Комментарий студента</a></span></li><li><span><a href=\"#-Комментарий-студента\" data-toc-modified-id=\"-Комментарий-студента-16\"><span class=\"toc-item-num\">16&nbsp;&nbsp;</span> Комментарий студента</a></span></li><li><span><a href=\"#-Комментарий-ревьюера-3\" data-toc-modified-id=\"-Комментарий-ревьюера-3-17\"><span class=\"toc-item-num\">17&nbsp;&nbsp;</span> Комментарий ревьюера 3</a></span></li><li><span><a href=\"#-Комментарий-ревьюера-3\" data-toc-modified-id=\"-Комментарий-ревьюера-3-18\"><span class=\"toc-item-num\">18&nbsp;&nbsp;</span> Комментарий ревьюера 3</a></span></li><li><span><a href=\"#Общий-вывод\" data-toc-modified-id=\"Общий-вывод-19\"><span class=\"toc-item-num\">19&nbsp;&nbsp;</span>Общий вывод</a></span></li><li><span><a href=\"#Чек-лист-готовности-проекта\" data-toc-modified-id=\"Чек-лист-готовности-проекта-20\"><span class=\"toc-item-num\">20&nbsp;&nbsp;</span>Чек-лист готовности проекта</a></span></li></ul></div>"
   ]
  },
  {
   "cell_type": "markdown",
   "metadata": {},
   "source": [
    "# Исследование объявлений о продаже квартир\n",
    "\n",
    "В вашем распоряжении данные сервиса Яндекс.Недвижимость — архив объявлений о продаже квартир в Санкт-Петербурге и соседних населённых пунктах за несколько лет. Нужно научиться определять рыночную стоимость объектов недвижимости. Ваша задача — установить параметры. Это позволит построить автоматизированную систему: она отследит аномалии и мошенническую деятельность. \n",
    "\n",
    "По каждой квартире на продажу доступны два вида данных. Первые вписаны пользователем, вторые получены автоматически на основе картографических данных. Например, расстояние до центра, аэропорта, ближайшего парка и водоёма. "
   ]
  },
  {
   "cell_type": "markdown",
   "metadata": {},
   "source": [
    "<div class=\"alert alert-success\" style=\"border-radius: 15px; box-shadow: 4px 4px 4px; border: 1px solid \">\n",
    "<h2> Комментарий ревьюера</h2>\n",
    "    \n",
    "Правильно делаешь, что не убираешь краткое описание задачи. Это поможет быстро вспомнить, о чем проект, если ты к нему вернешься спустя какое-то время.\n",
    "</div>"
   ]
  },
  {
   "cell_type": "markdown",
   "metadata": {},
   "source": [
    "## Изучение данных из файла"
   ]
  },
  {
   "cell_type": "code",
   "execution_count": 46,
   "metadata": {},
   "outputs": [
    {
     "name": "stdout",
     "output_type": "stream",
     "text": [
      "<class 'pandas.core.frame.DataFrame'>\n",
      "RangeIndex: 23699 entries, 0 to 23698\n",
      "Data columns (total 22 columns):\n",
      "total_images            23699 non-null int64\n",
      "last_price              23699 non-null float64\n",
      "total_area              23699 non-null float64\n",
      "first_day_exposition    23699 non-null object\n",
      "rooms                   23699 non-null int64\n",
      "ceiling_height          14504 non-null float64\n",
      "floors_total            23613 non-null float64\n",
      "living_area             21796 non-null float64\n",
      "floor                   23699 non-null int64\n",
      "is_apartment            2775 non-null object\n",
      "studio                  23699 non-null bool\n",
      "open_plan               23699 non-null bool\n",
      "kitchen_area            21421 non-null float64\n",
      "balcony                 12180 non-null float64\n",
      "locality_name           23650 non-null object\n",
      "airports_nearest        18157 non-null float64\n",
      "cityCenters_nearest     18180 non-null float64\n",
      "parks_around3000        18181 non-null float64\n",
      "parks_nearest           8079 non-null float64\n",
      "ponds_around3000        18181 non-null float64\n",
      "ponds_nearest           9110 non-null float64\n",
      "days_exposition         20518 non-null float64\n",
      "dtypes: bool(2), float64(14), int64(3), object(3)\n",
      "memory usage: 3.7+ MB\n"
     ]
    },
    {
     "data": {
      "text/plain": [
       "None"
      ]
     },
     "metadata": {},
     "output_type": "display_data"
    },
    {
     "data": {
      "text/plain": [
       "total_images                0\n",
       "last_price                  0\n",
       "total_area                  0\n",
       "first_day_exposition        0\n",
       "rooms                       0\n",
       "ceiling_height           9195\n",
       "floors_total               86\n",
       "living_area              1903\n",
       "floor                       0\n",
       "is_apartment            20924\n",
       "studio                      0\n",
       "open_plan                   0\n",
       "kitchen_area             2278\n",
       "balcony                 11519\n",
       "locality_name              49\n",
       "airports_nearest         5542\n",
       "cityCenters_nearest      5519\n",
       "parks_around3000         5518\n",
       "parks_nearest           15620\n",
       "ponds_around3000         5518\n",
       "ponds_nearest           14589\n",
       "days_exposition          3181\n",
       "dtype: int64"
      ]
     },
     "metadata": {},
     "output_type": "display_data"
    },
    {
     "data": {
      "text/html": [
       "<div>\n",
       "<style scoped>\n",
       "    .dataframe tbody tr th:only-of-type {\n",
       "        vertical-align: middle;\n",
       "    }\n",
       "\n",
       "    .dataframe tbody tr th {\n",
       "        vertical-align: top;\n",
       "    }\n",
       "\n",
       "    .dataframe thead th {\n",
       "        text-align: right;\n",
       "    }\n",
       "</style>\n",
       "<table border=\"1\" class=\"dataframe\">\n",
       "  <thead>\n",
       "    <tr style=\"text-align: right;\">\n",
       "      <th></th>\n",
       "      <th>total_images</th>\n",
       "      <th>last_price</th>\n",
       "      <th>total_area</th>\n",
       "      <th>first_day_exposition</th>\n",
       "      <th>rooms</th>\n",
       "      <th>ceiling_height</th>\n",
       "      <th>floors_total</th>\n",
       "      <th>living_area</th>\n",
       "      <th>floor</th>\n",
       "      <th>is_apartment</th>\n",
       "      <th>...</th>\n",
       "      <th>kitchen_area</th>\n",
       "      <th>balcony</th>\n",
       "      <th>locality_name</th>\n",
       "      <th>airports_nearest</th>\n",
       "      <th>cityCenters_nearest</th>\n",
       "      <th>parks_around3000</th>\n",
       "      <th>parks_nearest</th>\n",
       "      <th>ponds_around3000</th>\n",
       "      <th>ponds_nearest</th>\n",
       "      <th>days_exposition</th>\n",
       "    </tr>\n",
       "  </thead>\n",
       "  <tbody>\n",
       "    <tr>\n",
       "      <td>0</td>\n",
       "      <td>20</td>\n",
       "      <td>13000000.0</td>\n",
       "      <td>108.00</td>\n",
       "      <td>2019-03-07T00:00:00</td>\n",
       "      <td>3</td>\n",
       "      <td>2.70</td>\n",
       "      <td>16.0</td>\n",
       "      <td>51.00</td>\n",
       "      <td>8</td>\n",
       "      <td>NaN</td>\n",
       "      <td>...</td>\n",
       "      <td>25.00</td>\n",
       "      <td>NaN</td>\n",
       "      <td>Санкт-Петербург</td>\n",
       "      <td>18863.0</td>\n",
       "      <td>16028.0</td>\n",
       "      <td>1.0</td>\n",
       "      <td>482.0</td>\n",
       "      <td>2.0</td>\n",
       "      <td>755.0</td>\n",
       "      <td>NaN</td>\n",
       "    </tr>\n",
       "    <tr>\n",
       "      <td>1</td>\n",
       "      <td>7</td>\n",
       "      <td>3350000.0</td>\n",
       "      <td>40.40</td>\n",
       "      <td>2018-12-04T00:00:00</td>\n",
       "      <td>1</td>\n",
       "      <td>NaN</td>\n",
       "      <td>11.0</td>\n",
       "      <td>18.60</td>\n",
       "      <td>1</td>\n",
       "      <td>NaN</td>\n",
       "      <td>...</td>\n",
       "      <td>11.00</td>\n",
       "      <td>2.0</td>\n",
       "      <td>посёлок Шушары</td>\n",
       "      <td>12817.0</td>\n",
       "      <td>18603.0</td>\n",
       "      <td>0.0</td>\n",
       "      <td>NaN</td>\n",
       "      <td>0.0</td>\n",
       "      <td>NaN</td>\n",
       "      <td>81.0</td>\n",
       "    </tr>\n",
       "    <tr>\n",
       "      <td>2</td>\n",
       "      <td>10</td>\n",
       "      <td>5196000.0</td>\n",
       "      <td>56.00</td>\n",
       "      <td>2015-08-20T00:00:00</td>\n",
       "      <td>2</td>\n",
       "      <td>NaN</td>\n",
       "      <td>5.0</td>\n",
       "      <td>34.30</td>\n",
       "      <td>4</td>\n",
       "      <td>NaN</td>\n",
       "      <td>...</td>\n",
       "      <td>8.30</td>\n",
       "      <td>0.0</td>\n",
       "      <td>Санкт-Петербург</td>\n",
       "      <td>21741.0</td>\n",
       "      <td>13933.0</td>\n",
       "      <td>1.0</td>\n",
       "      <td>90.0</td>\n",
       "      <td>2.0</td>\n",
       "      <td>574.0</td>\n",
       "      <td>558.0</td>\n",
       "    </tr>\n",
       "    <tr>\n",
       "      <td>3</td>\n",
       "      <td>0</td>\n",
       "      <td>64900000.0</td>\n",
       "      <td>159.00</td>\n",
       "      <td>2015-07-24T00:00:00</td>\n",
       "      <td>3</td>\n",
       "      <td>NaN</td>\n",
       "      <td>14.0</td>\n",
       "      <td>NaN</td>\n",
       "      <td>9</td>\n",
       "      <td>NaN</td>\n",
       "      <td>...</td>\n",
       "      <td>NaN</td>\n",
       "      <td>0.0</td>\n",
       "      <td>Санкт-Петербург</td>\n",
       "      <td>28098.0</td>\n",
       "      <td>6800.0</td>\n",
       "      <td>2.0</td>\n",
       "      <td>84.0</td>\n",
       "      <td>3.0</td>\n",
       "      <td>234.0</td>\n",
       "      <td>424.0</td>\n",
       "    </tr>\n",
       "    <tr>\n",
       "      <td>4</td>\n",
       "      <td>2</td>\n",
       "      <td>10000000.0</td>\n",
       "      <td>100.00</td>\n",
       "      <td>2018-06-19T00:00:00</td>\n",
       "      <td>2</td>\n",
       "      <td>3.03</td>\n",
       "      <td>14.0</td>\n",
       "      <td>32.00</td>\n",
       "      <td>13</td>\n",
       "      <td>NaN</td>\n",
       "      <td>...</td>\n",
       "      <td>41.00</td>\n",
       "      <td>NaN</td>\n",
       "      <td>Санкт-Петербург</td>\n",
       "      <td>31856.0</td>\n",
       "      <td>8098.0</td>\n",
       "      <td>2.0</td>\n",
       "      <td>112.0</td>\n",
       "      <td>1.0</td>\n",
       "      <td>48.0</td>\n",
       "      <td>121.0</td>\n",
       "    </tr>\n",
       "    <tr>\n",
       "      <td>5</td>\n",
       "      <td>10</td>\n",
       "      <td>2890000.0</td>\n",
       "      <td>30.40</td>\n",
       "      <td>2018-09-10T00:00:00</td>\n",
       "      <td>1</td>\n",
       "      <td>NaN</td>\n",
       "      <td>12.0</td>\n",
       "      <td>14.40</td>\n",
       "      <td>5</td>\n",
       "      <td>NaN</td>\n",
       "      <td>...</td>\n",
       "      <td>9.10</td>\n",
       "      <td>NaN</td>\n",
       "      <td>городской посёлок Янино-1</td>\n",
       "      <td>NaN</td>\n",
       "      <td>NaN</td>\n",
       "      <td>NaN</td>\n",
       "      <td>NaN</td>\n",
       "      <td>NaN</td>\n",
       "      <td>NaN</td>\n",
       "      <td>55.0</td>\n",
       "    </tr>\n",
       "    <tr>\n",
       "      <td>6</td>\n",
       "      <td>6</td>\n",
       "      <td>3700000.0</td>\n",
       "      <td>37.30</td>\n",
       "      <td>2017-11-02T00:00:00</td>\n",
       "      <td>1</td>\n",
       "      <td>NaN</td>\n",
       "      <td>26.0</td>\n",
       "      <td>10.60</td>\n",
       "      <td>6</td>\n",
       "      <td>NaN</td>\n",
       "      <td>...</td>\n",
       "      <td>14.40</td>\n",
       "      <td>1.0</td>\n",
       "      <td>посёлок Парголово</td>\n",
       "      <td>52996.0</td>\n",
       "      <td>19143.0</td>\n",
       "      <td>0.0</td>\n",
       "      <td>NaN</td>\n",
       "      <td>0.0</td>\n",
       "      <td>NaN</td>\n",
       "      <td>155.0</td>\n",
       "    </tr>\n",
       "    <tr>\n",
       "      <td>7</td>\n",
       "      <td>5</td>\n",
       "      <td>7915000.0</td>\n",
       "      <td>71.60</td>\n",
       "      <td>2019-04-18T00:00:00</td>\n",
       "      <td>2</td>\n",
       "      <td>NaN</td>\n",
       "      <td>24.0</td>\n",
       "      <td>NaN</td>\n",
       "      <td>22</td>\n",
       "      <td>NaN</td>\n",
       "      <td>...</td>\n",
       "      <td>18.90</td>\n",
       "      <td>2.0</td>\n",
       "      <td>Санкт-Петербург</td>\n",
       "      <td>23982.0</td>\n",
       "      <td>11634.0</td>\n",
       "      <td>0.0</td>\n",
       "      <td>NaN</td>\n",
       "      <td>0.0</td>\n",
       "      <td>NaN</td>\n",
       "      <td>NaN</td>\n",
       "    </tr>\n",
       "    <tr>\n",
       "      <td>8</td>\n",
       "      <td>20</td>\n",
       "      <td>2900000.0</td>\n",
       "      <td>33.16</td>\n",
       "      <td>2018-05-23T00:00:00</td>\n",
       "      <td>1</td>\n",
       "      <td>NaN</td>\n",
       "      <td>27.0</td>\n",
       "      <td>15.43</td>\n",
       "      <td>26</td>\n",
       "      <td>NaN</td>\n",
       "      <td>...</td>\n",
       "      <td>8.81</td>\n",
       "      <td>NaN</td>\n",
       "      <td>посёлок Мурино</td>\n",
       "      <td>NaN</td>\n",
       "      <td>NaN</td>\n",
       "      <td>NaN</td>\n",
       "      <td>NaN</td>\n",
       "      <td>NaN</td>\n",
       "      <td>NaN</td>\n",
       "      <td>189.0</td>\n",
       "    </tr>\n",
       "    <tr>\n",
       "      <td>9</td>\n",
       "      <td>18</td>\n",
       "      <td>5400000.0</td>\n",
       "      <td>61.00</td>\n",
       "      <td>2017-02-26T00:00:00</td>\n",
       "      <td>3</td>\n",
       "      <td>2.50</td>\n",
       "      <td>9.0</td>\n",
       "      <td>43.60</td>\n",
       "      <td>7</td>\n",
       "      <td>NaN</td>\n",
       "      <td>...</td>\n",
       "      <td>6.50</td>\n",
       "      <td>2.0</td>\n",
       "      <td>Санкт-Петербург</td>\n",
       "      <td>50898.0</td>\n",
       "      <td>15008.0</td>\n",
       "      <td>0.0</td>\n",
       "      <td>NaN</td>\n",
       "      <td>0.0</td>\n",
       "      <td>NaN</td>\n",
       "      <td>289.0</td>\n",
       "    </tr>\n",
       "    <tr>\n",
       "      <td>10</td>\n",
       "      <td>5</td>\n",
       "      <td>5050000.0</td>\n",
       "      <td>39.60</td>\n",
       "      <td>2017-11-16T00:00:00</td>\n",
       "      <td>1</td>\n",
       "      <td>2.67</td>\n",
       "      <td>12.0</td>\n",
       "      <td>20.30</td>\n",
       "      <td>3</td>\n",
       "      <td>NaN</td>\n",
       "      <td>...</td>\n",
       "      <td>8.50</td>\n",
       "      <td>NaN</td>\n",
       "      <td>Санкт-Петербург</td>\n",
       "      <td>38357.0</td>\n",
       "      <td>13878.0</td>\n",
       "      <td>1.0</td>\n",
       "      <td>310.0</td>\n",
       "      <td>2.0</td>\n",
       "      <td>553.0</td>\n",
       "      <td>137.0</td>\n",
       "    </tr>\n",
       "    <tr>\n",
       "      <td>11</td>\n",
       "      <td>9</td>\n",
       "      <td>3300000.0</td>\n",
       "      <td>44.00</td>\n",
       "      <td>2018-08-27T00:00:00</td>\n",
       "      <td>2</td>\n",
       "      <td>NaN</td>\n",
       "      <td>5.0</td>\n",
       "      <td>31.00</td>\n",
       "      <td>4</td>\n",
       "      <td>False</td>\n",
       "      <td>...</td>\n",
       "      <td>6.00</td>\n",
       "      <td>1.0</td>\n",
       "      <td>Ломоносов</td>\n",
       "      <td>48252.0</td>\n",
       "      <td>51677.0</td>\n",
       "      <td>0.0</td>\n",
       "      <td>NaN</td>\n",
       "      <td>0.0</td>\n",
       "      <td>NaN</td>\n",
       "      <td>7.0</td>\n",
       "    </tr>\n",
       "    <tr>\n",
       "      <td>12</td>\n",
       "      <td>10</td>\n",
       "      <td>3890000.0</td>\n",
       "      <td>54.00</td>\n",
       "      <td>2016-06-30T00:00:00</td>\n",
       "      <td>2</td>\n",
       "      <td>NaN</td>\n",
       "      <td>5.0</td>\n",
       "      <td>30.00</td>\n",
       "      <td>5</td>\n",
       "      <td>NaN</td>\n",
       "      <td>...</td>\n",
       "      <td>9.00</td>\n",
       "      <td>0.0</td>\n",
       "      <td>Сертолово</td>\n",
       "      <td>NaN</td>\n",
       "      <td>NaN</td>\n",
       "      <td>NaN</td>\n",
       "      <td>NaN</td>\n",
       "      <td>NaN</td>\n",
       "      <td>NaN</td>\n",
       "      <td>90.0</td>\n",
       "    </tr>\n",
       "    <tr>\n",
       "      <td>13</td>\n",
       "      <td>20</td>\n",
       "      <td>3550000.0</td>\n",
       "      <td>42.80</td>\n",
       "      <td>2017-07-01T00:00:00</td>\n",
       "      <td>2</td>\n",
       "      <td>2.56</td>\n",
       "      <td>5.0</td>\n",
       "      <td>27.00</td>\n",
       "      <td>5</td>\n",
       "      <td>NaN</td>\n",
       "      <td>...</td>\n",
       "      <td>5.20</td>\n",
       "      <td>1.0</td>\n",
       "      <td>Петергоф</td>\n",
       "      <td>37868.0</td>\n",
       "      <td>33058.0</td>\n",
       "      <td>1.0</td>\n",
       "      <td>294.0</td>\n",
       "      <td>3.0</td>\n",
       "      <td>298.0</td>\n",
       "      <td>366.0</td>\n",
       "    </tr>\n",
       "    <tr>\n",
       "      <td>14</td>\n",
       "      <td>1</td>\n",
       "      <td>4400000.0</td>\n",
       "      <td>36.00</td>\n",
       "      <td>2016-06-23T00:00:00</td>\n",
       "      <td>1</td>\n",
       "      <td>NaN</td>\n",
       "      <td>6.0</td>\n",
       "      <td>17.00</td>\n",
       "      <td>1</td>\n",
       "      <td>NaN</td>\n",
       "      <td>...</td>\n",
       "      <td>8.00</td>\n",
       "      <td>0.0</td>\n",
       "      <td>Пушкин</td>\n",
       "      <td>20782.0</td>\n",
       "      <td>30759.0</td>\n",
       "      <td>0.0</td>\n",
       "      <td>NaN</td>\n",
       "      <td>1.0</td>\n",
       "      <td>96.0</td>\n",
       "      <td>203.0</td>\n",
       "    </tr>\n",
       "    <tr>\n",
       "      <td>15</td>\n",
       "      <td>16</td>\n",
       "      <td>4650000.0</td>\n",
       "      <td>39.00</td>\n",
       "      <td>2017-11-18T00:00:00</td>\n",
       "      <td>1</td>\n",
       "      <td>NaN</td>\n",
       "      <td>14.0</td>\n",
       "      <td>20.50</td>\n",
       "      <td>5</td>\n",
       "      <td>NaN</td>\n",
       "      <td>...</td>\n",
       "      <td>7.60</td>\n",
       "      <td>1.0</td>\n",
       "      <td>Санкт-Петербург</td>\n",
       "      <td>12900.0</td>\n",
       "      <td>14259.0</td>\n",
       "      <td>1.0</td>\n",
       "      <td>590.0</td>\n",
       "      <td>1.0</td>\n",
       "      <td>296.0</td>\n",
       "      <td>19.0</td>\n",
       "    </tr>\n",
       "    <tr>\n",
       "      <td>16</td>\n",
       "      <td>11</td>\n",
       "      <td>6700000.0</td>\n",
       "      <td>82.00</td>\n",
       "      <td>2017-11-23T00:00:00</td>\n",
       "      <td>3</td>\n",
       "      <td>3.05</td>\n",
       "      <td>5.0</td>\n",
       "      <td>55.60</td>\n",
       "      <td>1</td>\n",
       "      <td>NaN</td>\n",
       "      <td>...</td>\n",
       "      <td>9.00</td>\n",
       "      <td>NaN</td>\n",
       "      <td>Санкт-Петербург</td>\n",
       "      <td>22108.0</td>\n",
       "      <td>10698.0</td>\n",
       "      <td>3.0</td>\n",
       "      <td>420.0</td>\n",
       "      <td>0.0</td>\n",
       "      <td>NaN</td>\n",
       "      <td>397.0</td>\n",
       "    </tr>\n",
       "    <tr>\n",
       "      <td>17</td>\n",
       "      <td>6</td>\n",
       "      <td>4180000.0</td>\n",
       "      <td>36.00</td>\n",
       "      <td>2016-09-09T00:00:00</td>\n",
       "      <td>1</td>\n",
       "      <td>NaN</td>\n",
       "      <td>17.0</td>\n",
       "      <td>16.50</td>\n",
       "      <td>7</td>\n",
       "      <td>NaN</td>\n",
       "      <td>...</td>\n",
       "      <td>11.00</td>\n",
       "      <td>1.0</td>\n",
       "      <td>Санкт-Петербург</td>\n",
       "      <td>33564.0</td>\n",
       "      <td>14616.0</td>\n",
       "      <td>0.0</td>\n",
       "      <td>NaN</td>\n",
       "      <td>1.0</td>\n",
       "      <td>859.0</td>\n",
       "      <td>571.0</td>\n",
       "    </tr>\n",
       "    <tr>\n",
       "      <td>18</td>\n",
       "      <td>8</td>\n",
       "      <td>3250000.0</td>\n",
       "      <td>31.00</td>\n",
       "      <td>2017-01-27T00:00:00</td>\n",
       "      <td>1</td>\n",
       "      <td>2.50</td>\n",
       "      <td>5.0</td>\n",
       "      <td>19.40</td>\n",
       "      <td>2</td>\n",
       "      <td>NaN</td>\n",
       "      <td>...</td>\n",
       "      <td>5.60</td>\n",
       "      <td>1.0</td>\n",
       "      <td>Санкт-Петербург</td>\n",
       "      <td>44060.0</td>\n",
       "      <td>10842.0</td>\n",
       "      <td>1.0</td>\n",
       "      <td>759.0</td>\n",
       "      <td>0.0</td>\n",
       "      <td>NaN</td>\n",
       "      <td>168.0</td>\n",
       "    </tr>\n",
       "    <tr>\n",
       "      <td>19</td>\n",
       "      <td>16</td>\n",
       "      <td>14200000.0</td>\n",
       "      <td>121.00</td>\n",
       "      <td>2019-01-09T00:00:00</td>\n",
       "      <td>3</td>\n",
       "      <td>2.75</td>\n",
       "      <td>16.0</td>\n",
       "      <td>76.00</td>\n",
       "      <td>8</td>\n",
       "      <td>NaN</td>\n",
       "      <td>...</td>\n",
       "      <td>12.00</td>\n",
       "      <td>NaN</td>\n",
       "      <td>Санкт-Петербург</td>\n",
       "      <td>38900.0</td>\n",
       "      <td>12843.0</td>\n",
       "      <td>0.0</td>\n",
       "      <td>NaN</td>\n",
       "      <td>0.0</td>\n",
       "      <td>NaN</td>\n",
       "      <td>97.0</td>\n",
       "    </tr>\n",
       "    <tr>\n",
       "      <td>20</td>\n",
       "      <td>12</td>\n",
       "      <td>6120000.0</td>\n",
       "      <td>80.00</td>\n",
       "      <td>2017-09-28T00:00:00</td>\n",
       "      <td>3</td>\n",
       "      <td>2.70</td>\n",
       "      <td>27.0</td>\n",
       "      <td>48.00</td>\n",
       "      <td>11</td>\n",
       "      <td>NaN</td>\n",
       "      <td>...</td>\n",
       "      <td>12.00</td>\n",
       "      <td>2.0</td>\n",
       "      <td>посёлок Парголово</td>\n",
       "      <td>53134.0</td>\n",
       "      <td>19311.0</td>\n",
       "      <td>0.0</td>\n",
       "      <td>NaN</td>\n",
       "      <td>0.0</td>\n",
       "      <td>NaN</td>\n",
       "      <td>74.0</td>\n",
       "    </tr>\n",
       "    <tr>\n",
       "      <td>21</td>\n",
       "      <td>13</td>\n",
       "      <td>3200000.0</td>\n",
       "      <td>31.60</td>\n",
       "      <td>2018-03-14T00:00:00</td>\n",
       "      <td>1</td>\n",
       "      <td>NaN</td>\n",
       "      <td>5.0</td>\n",
       "      <td>16.90</td>\n",
       "      <td>2</td>\n",
       "      <td>NaN</td>\n",
       "      <td>...</td>\n",
       "      <td>5.70</td>\n",
       "      <td>1.0</td>\n",
       "      <td>Санкт-Петербург</td>\n",
       "      <td>36064.0</td>\n",
       "      <td>9722.0</td>\n",
       "      <td>1.0</td>\n",
       "      <td>248.0</td>\n",
       "      <td>0.0</td>\n",
       "      <td>NaN</td>\n",
       "      <td>310.0</td>\n",
       "    </tr>\n",
       "    <tr>\n",
       "      <td>22</td>\n",
       "      <td>20</td>\n",
       "      <td>5000000.0</td>\n",
       "      <td>58.00</td>\n",
       "      <td>2017-04-24T00:00:00</td>\n",
       "      <td>2</td>\n",
       "      <td>2.75</td>\n",
       "      <td>25.0</td>\n",
       "      <td>30.00</td>\n",
       "      <td>15</td>\n",
       "      <td>NaN</td>\n",
       "      <td>...</td>\n",
       "      <td>11.00</td>\n",
       "      <td>2.0</td>\n",
       "      <td>деревня Кудрово</td>\n",
       "      <td>NaN</td>\n",
       "      <td>NaN</td>\n",
       "      <td>NaN</td>\n",
       "      <td>NaN</td>\n",
       "      <td>NaN</td>\n",
       "      <td>NaN</td>\n",
       "      <td>60.0</td>\n",
       "    </tr>\n",
       "    <tr>\n",
       "      <td>23</td>\n",
       "      <td>11</td>\n",
       "      <td>2950000.0</td>\n",
       "      <td>32.00</td>\n",
       "      <td>2016-10-29T00:00:00</td>\n",
       "      <td>1</td>\n",
       "      <td>2.60</td>\n",
       "      <td>9.0</td>\n",
       "      <td>17.70</td>\n",
       "      <td>9</td>\n",
       "      <td>NaN</td>\n",
       "      <td>...</td>\n",
       "      <td>6.10</td>\n",
       "      <td>NaN</td>\n",
       "      <td>Санкт-Петербург</td>\n",
       "      <td>15414.0</td>\n",
       "      <td>14211.0</td>\n",
       "      <td>2.0</td>\n",
       "      <td>517.0</td>\n",
       "      <td>1.0</td>\n",
       "      <td>190.0</td>\n",
       "      <td>615.0</td>\n",
       "    </tr>\n",
       "    <tr>\n",
       "      <td>24</td>\n",
       "      <td>8</td>\n",
       "      <td>6500000.0</td>\n",
       "      <td>97.20</td>\n",
       "      <td>2015-10-31T00:00:00</td>\n",
       "      <td>2</td>\n",
       "      <td>NaN</td>\n",
       "      <td>3.0</td>\n",
       "      <td>46.50</td>\n",
       "      <td>1</td>\n",
       "      <td>NaN</td>\n",
       "      <td>...</td>\n",
       "      <td>19.60</td>\n",
       "      <td>0.0</td>\n",
       "      <td>Санкт-Петербург</td>\n",
       "      <td>20052.0</td>\n",
       "      <td>2336.0</td>\n",
       "      <td>3.0</td>\n",
       "      <td>411.0</td>\n",
       "      <td>3.0</td>\n",
       "      <td>124.0</td>\n",
       "      <td>265.0</td>\n",
       "    </tr>\n",
       "    <tr>\n",
       "      <td>25</td>\n",
       "      <td>3</td>\n",
       "      <td>6800000.0</td>\n",
       "      <td>76.00</td>\n",
       "      <td>2015-10-01T00:00:00</td>\n",
       "      <td>2</td>\n",
       "      <td>2.75</td>\n",
       "      <td>23.0</td>\n",
       "      <td>39.00</td>\n",
       "      <td>18</td>\n",
       "      <td>False</td>\n",
       "      <td>...</td>\n",
       "      <td>15.00</td>\n",
       "      <td>2.0</td>\n",
       "      <td>Санкт-Петербург</td>\n",
       "      <td>34967.0</td>\n",
       "      <td>14640.0</td>\n",
       "      <td>0.0</td>\n",
       "      <td>NaN</td>\n",
       "      <td>1.0</td>\n",
       "      <td>564.0</td>\n",
       "      <td>300.0</td>\n",
       "    </tr>\n",
       "    <tr>\n",
       "      <td>26</td>\n",
       "      <td>6</td>\n",
       "      <td>4050000.0</td>\n",
       "      <td>60.00</td>\n",
       "      <td>2017-04-28T00:00:00</td>\n",
       "      <td>4</td>\n",
       "      <td>NaN</td>\n",
       "      <td>5.0</td>\n",
       "      <td>43.00</td>\n",
       "      <td>4</td>\n",
       "      <td>NaN</td>\n",
       "      <td>...</td>\n",
       "      <td>7.00</td>\n",
       "      <td>NaN</td>\n",
       "      <td>Санкт-Петербург</td>\n",
       "      <td>11580.0</td>\n",
       "      <td>10510.0</td>\n",
       "      <td>0.0</td>\n",
       "      <td>NaN</td>\n",
       "      <td>1.0</td>\n",
       "      <td>95.0</td>\n",
       "      <td>265.0</td>\n",
       "    </tr>\n",
       "    <tr>\n",
       "      <td>27</td>\n",
       "      <td>20</td>\n",
       "      <td>7100000.0</td>\n",
       "      <td>70.00</td>\n",
       "      <td>2017-05-12T00:00:00</td>\n",
       "      <td>3</td>\n",
       "      <td>2.60</td>\n",
       "      <td>17.0</td>\n",
       "      <td>49.00</td>\n",
       "      <td>11</td>\n",
       "      <td>NaN</td>\n",
       "      <td>...</td>\n",
       "      <td>9.20</td>\n",
       "      <td>0.0</td>\n",
       "      <td>Санкт-Петербург</td>\n",
       "      <td>29197.0</td>\n",
       "      <td>11456.0</td>\n",
       "      <td>2.0</td>\n",
       "      <td>452.0</td>\n",
       "      <td>1.0</td>\n",
       "      <td>779.0</td>\n",
       "      <td>151.0</td>\n",
       "    </tr>\n",
       "    <tr>\n",
       "      <td>28</td>\n",
       "      <td>8</td>\n",
       "      <td>4170000.0</td>\n",
       "      <td>44.00</td>\n",
       "      <td>2017-12-13T00:00:00</td>\n",
       "      <td>1</td>\n",
       "      <td>2.90</td>\n",
       "      <td>6.0</td>\n",
       "      <td>20.80</td>\n",
       "      <td>1</td>\n",
       "      <td>NaN</td>\n",
       "      <td>...</td>\n",
       "      <td>11.70</td>\n",
       "      <td>1.0</td>\n",
       "      <td>Пушкин</td>\n",
       "      <td>18557.0</td>\n",
       "      <td>30710.0</td>\n",
       "      <td>0.0</td>\n",
       "      <td>NaN</td>\n",
       "      <td>1.0</td>\n",
       "      <td>118.0</td>\n",
       "      <td>74.0</td>\n",
       "    </tr>\n",
       "    <tr>\n",
       "      <td>29</td>\n",
       "      <td>9</td>\n",
       "      <td>8600000.0</td>\n",
       "      <td>100.00</td>\n",
       "      <td>2016-04-09T00:00:00</td>\n",
       "      <td>3</td>\n",
       "      <td>NaN</td>\n",
       "      <td>19.0</td>\n",
       "      <td>52.00</td>\n",
       "      <td>15</td>\n",
       "      <td>False</td>\n",
       "      <td>...</td>\n",
       "      <td>11.00</td>\n",
       "      <td>0.0</td>\n",
       "      <td>Санкт-Петербург</td>\n",
       "      <td>30394.0</td>\n",
       "      <td>11526.0</td>\n",
       "      <td>1.0</td>\n",
       "      <td>532.0</td>\n",
       "      <td>1.0</td>\n",
       "      <td>896.0</td>\n",
       "      <td>125.0</td>\n",
       "    </tr>\n",
       "    <tr>\n",
       "      <td>30</td>\n",
       "      <td>12</td>\n",
       "      <td>2200000.0</td>\n",
       "      <td>32.80</td>\n",
       "      <td>2018-02-19T00:00:00</td>\n",
       "      <td>1</td>\n",
       "      <td>NaN</td>\n",
       "      <td>9.0</td>\n",
       "      <td>NaN</td>\n",
       "      <td>2</td>\n",
       "      <td>NaN</td>\n",
       "      <td>...</td>\n",
       "      <td>NaN</td>\n",
       "      <td>NaN</td>\n",
       "      <td>Коммунар</td>\n",
       "      <td>NaN</td>\n",
       "      <td>NaN</td>\n",
       "      <td>NaN</td>\n",
       "      <td>NaN</td>\n",
       "      <td>NaN</td>\n",
       "      <td>NaN</td>\n",
       "      <td>63.0</td>\n",
       "    </tr>\n",
       "    <tr>\n",
       "      <td>31</td>\n",
       "      <td>8</td>\n",
       "      <td>7200000.0</td>\n",
       "      <td>67.90</td>\n",
       "      <td>2017-10-26T00:00:00</td>\n",
       "      <td>2</td>\n",
       "      <td>2.80</td>\n",
       "      <td>16.0</td>\n",
       "      <td>38.10</td>\n",
       "      <td>4</td>\n",
       "      <td>NaN</td>\n",
       "      <td>...</td>\n",
       "      <td>13.40</td>\n",
       "      <td>2.0</td>\n",
       "      <td>Санкт-Петербург</td>\n",
       "      <td>32888.0</td>\n",
       "      <td>12944.0</td>\n",
       "      <td>0.0</td>\n",
       "      <td>NaN</td>\n",
       "      <td>0.0</td>\n",
       "      <td>NaN</td>\n",
       "      <td>112.0</td>\n",
       "    </tr>\n",
       "    <tr>\n",
       "      <td>32</td>\n",
       "      <td>7</td>\n",
       "      <td>4990000.0</td>\n",
       "      <td>60.00</td>\n",
       "      <td>2016-05-22T00:00:00</td>\n",
       "      <td>3</td>\n",
       "      <td>NaN</td>\n",
       "      <td>5.0</td>\n",
       "      <td>39.00</td>\n",
       "      <td>4</td>\n",
       "      <td>NaN</td>\n",
       "      <td>...</td>\n",
       "      <td>6.00</td>\n",
       "      <td>0.0</td>\n",
       "      <td>Санкт-Петербург</td>\n",
       "      <td>11349.0</td>\n",
       "      <td>12889.0</td>\n",
       "      <td>0.0</td>\n",
       "      <td>NaN</td>\n",
       "      <td>1.0</td>\n",
       "      <td>426.0</td>\n",
       "      <td>224.0</td>\n",
       "    </tr>\n",
       "    <tr>\n",
       "      <td>33</td>\n",
       "      <td>8</td>\n",
       "      <td>4800000.0</td>\n",
       "      <td>73.00</td>\n",
       "      <td>2018-10-15T00:00:00</td>\n",
       "      <td>4</td>\n",
       "      <td>NaN</td>\n",
       "      <td>9.0</td>\n",
       "      <td>51.60</td>\n",
       "      <td>5</td>\n",
       "      <td>NaN</td>\n",
       "      <td>...</td>\n",
       "      <td>6.50</td>\n",
       "      <td>NaN</td>\n",
       "      <td>Колпино</td>\n",
       "      <td>26535.0</td>\n",
       "      <td>32321.0</td>\n",
       "      <td>0.0</td>\n",
       "      <td>NaN</td>\n",
       "      <td>0.0</td>\n",
       "      <td>NaN</td>\n",
       "      <td>92.0</td>\n",
       "    </tr>\n",
       "    <tr>\n",
       "      <td>34</td>\n",
       "      <td>3</td>\n",
       "      <td>3290000.0</td>\n",
       "      <td>33.00</td>\n",
       "      <td>2018-02-04T00:00:00</td>\n",
       "      <td>1</td>\n",
       "      <td>2.55</td>\n",
       "      <td>16.0</td>\n",
       "      <td>14.00</td>\n",
       "      <td>3</td>\n",
       "      <td>NaN</td>\n",
       "      <td>...</td>\n",
       "      <td>8.00</td>\n",
       "      <td>NaN</td>\n",
       "      <td>Санкт-Петербург</td>\n",
       "      <td>13943.0</td>\n",
       "      <td>12739.0</td>\n",
       "      <td>0.0</td>\n",
       "      <td>NaN</td>\n",
       "      <td>0.0</td>\n",
       "      <td>NaN</td>\n",
       "      <td>15.0</td>\n",
       "    </tr>\n",
       "    <tr>\n",
       "      <td>35</td>\n",
       "      <td>6</td>\n",
       "      <td>15500000.0</td>\n",
       "      <td>149.00</td>\n",
       "      <td>2017-06-26T00:00:00</td>\n",
       "      <td>5</td>\n",
       "      <td>NaN</td>\n",
       "      <td>5.0</td>\n",
       "      <td>104.00</td>\n",
       "      <td>4</td>\n",
       "      <td>NaN</td>\n",
       "      <td>...</td>\n",
       "      <td>17.00</td>\n",
       "      <td>NaN</td>\n",
       "      <td>Санкт-Петербург</td>\n",
       "      <td>23670.0</td>\n",
       "      <td>3502.0</td>\n",
       "      <td>0.0</td>\n",
       "      <td>NaN</td>\n",
       "      <td>1.0</td>\n",
       "      <td>779.0</td>\n",
       "      <td>644.0</td>\n",
       "    </tr>\n",
       "    <tr>\n",
       "      <td>36</td>\n",
       "      <td>13</td>\n",
       "      <td>3790000.0</td>\n",
       "      <td>45.00</td>\n",
       "      <td>2017-01-25T00:00:00</td>\n",
       "      <td>2</td>\n",
       "      <td>NaN</td>\n",
       "      <td>9.0</td>\n",
       "      <td>27.00</td>\n",
       "      <td>9</td>\n",
       "      <td>False</td>\n",
       "      <td>...</td>\n",
       "      <td>6.30</td>\n",
       "      <td>2.0</td>\n",
       "      <td>Санкт-Петербург</td>\n",
       "      <td>49574.0</td>\n",
       "      <td>16461.0</td>\n",
       "      <td>1.0</td>\n",
       "      <td>459.0</td>\n",
       "      <td>0.0</td>\n",
       "      <td>NaN</td>\n",
       "      <td>139.0</td>\n",
       "    </tr>\n",
       "    <tr>\n",
       "      <td>37</td>\n",
       "      <td>10</td>\n",
       "      <td>1990000.0</td>\n",
       "      <td>45.80</td>\n",
       "      <td>2017-10-28T00:00:00</td>\n",
       "      <td>2</td>\n",
       "      <td>2.50</td>\n",
       "      <td>5.0</td>\n",
       "      <td>NaN</td>\n",
       "      <td>1</td>\n",
       "      <td>NaN</td>\n",
       "      <td>...</td>\n",
       "      <td>NaN</td>\n",
       "      <td>NaN</td>\n",
       "      <td>поселок городского типа Красный Бор</td>\n",
       "      <td>NaN</td>\n",
       "      <td>NaN</td>\n",
       "      <td>NaN</td>\n",
       "      <td>NaN</td>\n",
       "      <td>NaN</td>\n",
       "      <td>NaN</td>\n",
       "      <td>196.0</td>\n",
       "    </tr>\n",
       "    <tr>\n",
       "      <td>38</td>\n",
       "      <td>10</td>\n",
       "      <td>3150000.0</td>\n",
       "      <td>40.00</td>\n",
       "      <td>2018-03-29T00:00:00</td>\n",
       "      <td>1</td>\n",
       "      <td>2.75</td>\n",
       "      <td>18.0</td>\n",
       "      <td>16.30</td>\n",
       "      <td>9</td>\n",
       "      <td>NaN</td>\n",
       "      <td>...</td>\n",
       "      <td>11.60</td>\n",
       "      <td>NaN</td>\n",
       "      <td>посёлок Мурино</td>\n",
       "      <td>NaN</td>\n",
       "      <td>NaN</td>\n",
       "      <td>NaN</td>\n",
       "      <td>NaN</td>\n",
       "      <td>NaN</td>\n",
       "      <td>NaN</td>\n",
       "      <td>103.0</td>\n",
       "    </tr>\n",
       "    <tr>\n",
       "      <td>39</td>\n",
       "      <td>15</td>\n",
       "      <td>5200000.0</td>\n",
       "      <td>54.40</td>\n",
       "      <td>2018-11-29T00:00:00</td>\n",
       "      <td>2</td>\n",
       "      <td>2.75</td>\n",
       "      <td>9.0</td>\n",
       "      <td>29.70</td>\n",
       "      <td>2</td>\n",
       "      <td>NaN</td>\n",
       "      <td>...</td>\n",
       "      <td>8.80</td>\n",
       "      <td>2.0</td>\n",
       "      <td>Санкт-Петербург</td>\n",
       "      <td>13413.0</td>\n",
       "      <td>12209.0</td>\n",
       "      <td>0.0</td>\n",
       "      <td>NaN</td>\n",
       "      <td>1.0</td>\n",
       "      <td>1175.0</td>\n",
       "      <td>29.0</td>\n",
       "    </tr>\n",
       "    <tr>\n",
       "      <td>40</td>\n",
       "      <td>9</td>\n",
       "      <td>3590000.0</td>\n",
       "      <td>36.00</td>\n",
       "      <td>2017-03-15T00:00:00</td>\n",
       "      <td>1</td>\n",
       "      <td>2.60</td>\n",
       "      <td>26.0</td>\n",
       "      <td>15.00</td>\n",
       "      <td>22</td>\n",
       "      <td>NaN</td>\n",
       "      <td>...</td>\n",
       "      <td>10.00</td>\n",
       "      <td>2.0</td>\n",
       "      <td>посёлок Парголово</td>\n",
       "      <td>52996.0</td>\n",
       "      <td>19143.0</td>\n",
       "      <td>0.0</td>\n",
       "      <td>NaN</td>\n",
       "      <td>0.0</td>\n",
       "      <td>NaN</td>\n",
       "      <td>430.0</td>\n",
       "    </tr>\n",
       "    <tr>\n",
       "      <td>41</td>\n",
       "      <td>16</td>\n",
       "      <td>7900000.0</td>\n",
       "      <td>74.00</td>\n",
       "      <td>2016-05-04T00:00:00</td>\n",
       "      <td>3</td>\n",
       "      <td>NaN</td>\n",
       "      <td>14.0</td>\n",
       "      <td>59.00</td>\n",
       "      <td>8</td>\n",
       "      <td>False</td>\n",
       "      <td>...</td>\n",
       "      <td>12.00</td>\n",
       "      <td>5.0</td>\n",
       "      <td>Санкт-Петербург</td>\n",
       "      <td>37715.0</td>\n",
       "      <td>12612.0</td>\n",
       "      <td>1.0</td>\n",
       "      <td>725.0</td>\n",
       "      <td>1.0</td>\n",
       "      <td>759.0</td>\n",
       "      <td>179.0</td>\n",
       "    </tr>\n",
       "    <tr>\n",
       "      <td>42</td>\n",
       "      <td>13</td>\n",
       "      <td>22000000.0</td>\n",
       "      <td>161.80</td>\n",
       "      <td>2015-07-08T00:00:00</td>\n",
       "      <td>4</td>\n",
       "      <td>2.80</td>\n",
       "      <td>4.0</td>\n",
       "      <td>80.90</td>\n",
       "      <td>2</td>\n",
       "      <td>False</td>\n",
       "      <td>...</td>\n",
       "      <td>17.60</td>\n",
       "      <td>5.0</td>\n",
       "      <td>Петергоф</td>\n",
       "      <td>35416.0</td>\n",
       "      <td>30605.0</td>\n",
       "      <td>2.0</td>\n",
       "      <td>47.0</td>\n",
       "      <td>1.0</td>\n",
       "      <td>907.0</td>\n",
       "      <td>987.0</td>\n",
       "    </tr>\n",
       "    <tr>\n",
       "      <td>43</td>\n",
       "      <td>13</td>\n",
       "      <td>9330000.0</td>\n",
       "      <td>48.00</td>\n",
       "      <td>2017-01-10T00:00:00</td>\n",
       "      <td>2</td>\n",
       "      <td>3.00</td>\n",
       "      <td>4.0</td>\n",
       "      <td>28.00</td>\n",
       "      <td>4</td>\n",
       "      <td>NaN</td>\n",
       "      <td>...</td>\n",
       "      <td>7.50</td>\n",
       "      <td>NaN</td>\n",
       "      <td>Санкт-Петербург</td>\n",
       "      <td>15016.0</td>\n",
       "      <td>10822.0</td>\n",
       "      <td>0.0</td>\n",
       "      <td>NaN</td>\n",
       "      <td>1.0</td>\n",
       "      <td>492.0</td>\n",
       "      <td>763.0</td>\n",
       "    </tr>\n",
       "    <tr>\n",
       "      <td>44</td>\n",
       "      <td>13</td>\n",
       "      <td>5350000.0</td>\n",
       "      <td>40.00</td>\n",
       "      <td>2018-11-18T00:00:00</td>\n",
       "      <td>1</td>\n",
       "      <td>NaN</td>\n",
       "      <td>22.0</td>\n",
       "      <td>NaN</td>\n",
       "      <td>3</td>\n",
       "      <td>NaN</td>\n",
       "      <td>...</td>\n",
       "      <td>NaN</td>\n",
       "      <td>1.0</td>\n",
       "      <td>Санкт-Петербург</td>\n",
       "      <td>30471.0</td>\n",
       "      <td>11603.0</td>\n",
       "      <td>1.0</td>\n",
       "      <td>620.0</td>\n",
       "      <td>1.0</td>\n",
       "      <td>1152.0</td>\n",
       "      <td>NaN</td>\n",
       "    </tr>\n",
       "    <tr>\n",
       "      <td>45</td>\n",
       "      <td>17</td>\n",
       "      <td>5200000.0</td>\n",
       "      <td>50.60</td>\n",
       "      <td>2018-12-02T00:00:00</td>\n",
       "      <td>2</td>\n",
       "      <td>2.65</td>\n",
       "      <td>9.0</td>\n",
       "      <td>30.30</td>\n",
       "      <td>7</td>\n",
       "      <td>NaN</td>\n",
       "      <td>...</td>\n",
       "      <td>7.00</td>\n",
       "      <td>NaN</td>\n",
       "      <td>Санкт-Петербург</td>\n",
       "      <td>30011.0</td>\n",
       "      <td>12872.0</td>\n",
       "      <td>0.0</td>\n",
       "      <td>NaN</td>\n",
       "      <td>0.0</td>\n",
       "      <td>NaN</td>\n",
       "      <td>NaN</td>\n",
       "    </tr>\n",
       "    <tr>\n",
       "      <td>46</td>\n",
       "      <td>17</td>\n",
       "      <td>6600000.0</td>\n",
       "      <td>52.10</td>\n",
       "      <td>2019-01-31T00:00:00</td>\n",
       "      <td>2</td>\n",
       "      <td>2.60</td>\n",
       "      <td>24.0</td>\n",
       "      <td>29.70</td>\n",
       "      <td>9</td>\n",
       "      <td>NaN</td>\n",
       "      <td>...</td>\n",
       "      <td>8.30</td>\n",
       "      <td>2.0</td>\n",
       "      <td>Санкт-Петербург</td>\n",
       "      <td>15114.0</td>\n",
       "      <td>12702.0</td>\n",
       "      <td>0.0</td>\n",
       "      <td>NaN</td>\n",
       "      <td>0.0</td>\n",
       "      <td>NaN</td>\n",
       "      <td>NaN</td>\n",
       "    </tr>\n",
       "    <tr>\n",
       "      <td>47</td>\n",
       "      <td>17</td>\n",
       "      <td>3600000.0</td>\n",
       "      <td>56.10</td>\n",
       "      <td>2018-10-18T00:00:00</td>\n",
       "      <td>3</td>\n",
       "      <td>NaN</td>\n",
       "      <td>4.0</td>\n",
       "      <td>42.50</td>\n",
       "      <td>3</td>\n",
       "      <td>NaN</td>\n",
       "      <td>...</td>\n",
       "      <td>5.70</td>\n",
       "      <td>1.0</td>\n",
       "      <td>Гатчина</td>\n",
       "      <td>NaN</td>\n",
       "      <td>NaN</td>\n",
       "      <td>NaN</td>\n",
       "      <td>NaN</td>\n",
       "      <td>NaN</td>\n",
       "      <td>NaN</td>\n",
       "      <td>179.0</td>\n",
       "    </tr>\n",
       "    <tr>\n",
       "      <td>48</td>\n",
       "      <td>10</td>\n",
       "      <td>3600000.0</td>\n",
       "      <td>33.83</td>\n",
       "      <td>2017-10-03T00:00:00</td>\n",
       "      <td>1</td>\n",
       "      <td>NaN</td>\n",
       "      <td>24.0</td>\n",
       "      <td>15.35</td>\n",
       "      <td>6</td>\n",
       "      <td>NaN</td>\n",
       "      <td>...</td>\n",
       "      <td>9.50</td>\n",
       "      <td>NaN</td>\n",
       "      <td>Санкт-Петербург</td>\n",
       "      <td>21460.0</td>\n",
       "      <td>16788.0</td>\n",
       "      <td>0.0</td>\n",
       "      <td>NaN</td>\n",
       "      <td>1.0</td>\n",
       "      <td>170.0</td>\n",
       "      <td>322.0</td>\n",
       "    </tr>\n",
       "    <tr>\n",
       "      <td>49</td>\n",
       "      <td>1</td>\n",
       "      <td>3050000.0</td>\n",
       "      <td>30.80</td>\n",
       "      <td>2018-11-22T00:00:00</td>\n",
       "      <td>1</td>\n",
       "      <td>2.50</td>\n",
       "      <td>9.0</td>\n",
       "      <td>18.00</td>\n",
       "      <td>7</td>\n",
       "      <td>NaN</td>\n",
       "      <td>...</td>\n",
       "      <td>6.00</td>\n",
       "      <td>NaN</td>\n",
       "      <td>Санкт-Петербург</td>\n",
       "      <td>45341.0</td>\n",
       "      <td>16603.0</td>\n",
       "      <td>1.0</td>\n",
       "      <td>675.0</td>\n",
       "      <td>0.0</td>\n",
       "      <td>NaN</td>\n",
       "      <td>NaN</td>\n",
       "    </tr>\n",
       "  </tbody>\n",
       "</table>\n",
       "<p>50 rows × 22 columns</p>\n",
       "</div>"
      ],
      "text/plain": [
       "    total_images  last_price  total_area first_day_exposition  rooms  \\\n",
       "0             20  13000000.0      108.00  2019-03-07T00:00:00      3   \n",
       "1              7   3350000.0       40.40  2018-12-04T00:00:00      1   \n",
       "2             10   5196000.0       56.00  2015-08-20T00:00:00      2   \n",
       "3              0  64900000.0      159.00  2015-07-24T00:00:00      3   \n",
       "4              2  10000000.0      100.00  2018-06-19T00:00:00      2   \n",
       "5             10   2890000.0       30.40  2018-09-10T00:00:00      1   \n",
       "6              6   3700000.0       37.30  2017-11-02T00:00:00      1   \n",
       "7              5   7915000.0       71.60  2019-04-18T00:00:00      2   \n",
       "8             20   2900000.0       33.16  2018-05-23T00:00:00      1   \n",
       "9             18   5400000.0       61.00  2017-02-26T00:00:00      3   \n",
       "10             5   5050000.0       39.60  2017-11-16T00:00:00      1   \n",
       "11             9   3300000.0       44.00  2018-08-27T00:00:00      2   \n",
       "12            10   3890000.0       54.00  2016-06-30T00:00:00      2   \n",
       "13            20   3550000.0       42.80  2017-07-01T00:00:00      2   \n",
       "14             1   4400000.0       36.00  2016-06-23T00:00:00      1   \n",
       "15            16   4650000.0       39.00  2017-11-18T00:00:00      1   \n",
       "16            11   6700000.0       82.00  2017-11-23T00:00:00      3   \n",
       "17             6   4180000.0       36.00  2016-09-09T00:00:00      1   \n",
       "18             8   3250000.0       31.00  2017-01-27T00:00:00      1   \n",
       "19            16  14200000.0      121.00  2019-01-09T00:00:00      3   \n",
       "20            12   6120000.0       80.00  2017-09-28T00:00:00      3   \n",
       "21            13   3200000.0       31.60  2018-03-14T00:00:00      1   \n",
       "22            20   5000000.0       58.00  2017-04-24T00:00:00      2   \n",
       "23            11   2950000.0       32.00  2016-10-29T00:00:00      1   \n",
       "24             8   6500000.0       97.20  2015-10-31T00:00:00      2   \n",
       "25             3   6800000.0       76.00  2015-10-01T00:00:00      2   \n",
       "26             6   4050000.0       60.00  2017-04-28T00:00:00      4   \n",
       "27            20   7100000.0       70.00  2017-05-12T00:00:00      3   \n",
       "28             8   4170000.0       44.00  2017-12-13T00:00:00      1   \n",
       "29             9   8600000.0      100.00  2016-04-09T00:00:00      3   \n",
       "30            12   2200000.0       32.80  2018-02-19T00:00:00      1   \n",
       "31             8   7200000.0       67.90  2017-10-26T00:00:00      2   \n",
       "32             7   4990000.0       60.00  2016-05-22T00:00:00      3   \n",
       "33             8   4800000.0       73.00  2018-10-15T00:00:00      4   \n",
       "34             3   3290000.0       33.00  2018-02-04T00:00:00      1   \n",
       "35             6  15500000.0      149.00  2017-06-26T00:00:00      5   \n",
       "36            13   3790000.0       45.00  2017-01-25T00:00:00      2   \n",
       "37            10   1990000.0       45.80  2017-10-28T00:00:00      2   \n",
       "38            10   3150000.0       40.00  2018-03-29T00:00:00      1   \n",
       "39            15   5200000.0       54.40  2018-11-29T00:00:00      2   \n",
       "40             9   3590000.0       36.00  2017-03-15T00:00:00      1   \n",
       "41            16   7900000.0       74.00  2016-05-04T00:00:00      3   \n",
       "42            13  22000000.0      161.80  2015-07-08T00:00:00      4   \n",
       "43            13   9330000.0       48.00  2017-01-10T00:00:00      2   \n",
       "44            13   5350000.0       40.00  2018-11-18T00:00:00      1   \n",
       "45            17   5200000.0       50.60  2018-12-02T00:00:00      2   \n",
       "46            17   6600000.0       52.10  2019-01-31T00:00:00      2   \n",
       "47            17   3600000.0       56.10  2018-10-18T00:00:00      3   \n",
       "48            10   3600000.0       33.83  2017-10-03T00:00:00      1   \n",
       "49             1   3050000.0       30.80  2018-11-22T00:00:00      1   \n",
       "\n",
       "    ceiling_height  floors_total  living_area  floor is_apartment  ...  \\\n",
       "0             2.70          16.0        51.00      8          NaN  ...   \n",
       "1              NaN          11.0        18.60      1          NaN  ...   \n",
       "2              NaN           5.0        34.30      4          NaN  ...   \n",
       "3              NaN          14.0          NaN      9          NaN  ...   \n",
       "4             3.03          14.0        32.00     13          NaN  ...   \n",
       "5              NaN          12.0        14.40      5          NaN  ...   \n",
       "6              NaN          26.0        10.60      6          NaN  ...   \n",
       "7              NaN          24.0          NaN     22          NaN  ...   \n",
       "8              NaN          27.0        15.43     26          NaN  ...   \n",
       "9             2.50           9.0        43.60      7          NaN  ...   \n",
       "10            2.67          12.0        20.30      3          NaN  ...   \n",
       "11             NaN           5.0        31.00      4        False  ...   \n",
       "12             NaN           5.0        30.00      5          NaN  ...   \n",
       "13            2.56           5.0        27.00      5          NaN  ...   \n",
       "14             NaN           6.0        17.00      1          NaN  ...   \n",
       "15             NaN          14.0        20.50      5          NaN  ...   \n",
       "16            3.05           5.0        55.60      1          NaN  ...   \n",
       "17             NaN          17.0        16.50      7          NaN  ...   \n",
       "18            2.50           5.0        19.40      2          NaN  ...   \n",
       "19            2.75          16.0        76.00      8          NaN  ...   \n",
       "20            2.70          27.0        48.00     11          NaN  ...   \n",
       "21             NaN           5.0        16.90      2          NaN  ...   \n",
       "22            2.75          25.0        30.00     15          NaN  ...   \n",
       "23            2.60           9.0        17.70      9          NaN  ...   \n",
       "24             NaN           3.0        46.50      1          NaN  ...   \n",
       "25            2.75          23.0        39.00     18        False  ...   \n",
       "26             NaN           5.0        43.00      4          NaN  ...   \n",
       "27            2.60          17.0        49.00     11          NaN  ...   \n",
       "28            2.90           6.0        20.80      1          NaN  ...   \n",
       "29             NaN          19.0        52.00     15        False  ...   \n",
       "30             NaN           9.0          NaN      2          NaN  ...   \n",
       "31            2.80          16.0        38.10      4          NaN  ...   \n",
       "32             NaN           5.0        39.00      4          NaN  ...   \n",
       "33             NaN           9.0        51.60      5          NaN  ...   \n",
       "34            2.55          16.0        14.00      3          NaN  ...   \n",
       "35             NaN           5.0       104.00      4          NaN  ...   \n",
       "36             NaN           9.0        27.00      9        False  ...   \n",
       "37            2.50           5.0          NaN      1          NaN  ...   \n",
       "38            2.75          18.0        16.30      9          NaN  ...   \n",
       "39            2.75           9.0        29.70      2          NaN  ...   \n",
       "40            2.60          26.0        15.00     22          NaN  ...   \n",
       "41             NaN          14.0        59.00      8        False  ...   \n",
       "42            2.80           4.0        80.90      2        False  ...   \n",
       "43            3.00           4.0        28.00      4          NaN  ...   \n",
       "44             NaN          22.0          NaN      3          NaN  ...   \n",
       "45            2.65           9.0        30.30      7          NaN  ...   \n",
       "46            2.60          24.0        29.70      9          NaN  ...   \n",
       "47             NaN           4.0        42.50      3          NaN  ...   \n",
       "48             NaN          24.0        15.35      6          NaN  ...   \n",
       "49            2.50           9.0        18.00      7          NaN  ...   \n",
       "\n",
       "    kitchen_area  balcony                        locality_name  \\\n",
       "0          25.00      NaN                      Санкт-Петербург   \n",
       "1          11.00      2.0                       посёлок Шушары   \n",
       "2           8.30      0.0                      Санкт-Петербург   \n",
       "3            NaN      0.0                      Санкт-Петербург   \n",
       "4          41.00      NaN                      Санкт-Петербург   \n",
       "5           9.10      NaN            городской посёлок Янино-1   \n",
       "6          14.40      1.0                    посёлок Парголово   \n",
       "7          18.90      2.0                      Санкт-Петербург   \n",
       "8           8.81      NaN                       посёлок Мурино   \n",
       "9           6.50      2.0                      Санкт-Петербург   \n",
       "10          8.50      NaN                      Санкт-Петербург   \n",
       "11          6.00      1.0                            Ломоносов   \n",
       "12          9.00      0.0                            Сертолово   \n",
       "13          5.20      1.0                             Петергоф   \n",
       "14          8.00      0.0                               Пушкин   \n",
       "15          7.60      1.0                      Санкт-Петербург   \n",
       "16          9.00      NaN                      Санкт-Петербург   \n",
       "17         11.00      1.0                      Санкт-Петербург   \n",
       "18          5.60      1.0                      Санкт-Петербург   \n",
       "19         12.00      NaN                      Санкт-Петербург   \n",
       "20         12.00      2.0                    посёлок Парголово   \n",
       "21          5.70      1.0                      Санкт-Петербург   \n",
       "22         11.00      2.0                      деревня Кудрово   \n",
       "23          6.10      NaN                      Санкт-Петербург   \n",
       "24         19.60      0.0                      Санкт-Петербург   \n",
       "25         15.00      2.0                      Санкт-Петербург   \n",
       "26          7.00      NaN                      Санкт-Петербург   \n",
       "27          9.20      0.0                      Санкт-Петербург   \n",
       "28         11.70      1.0                               Пушкин   \n",
       "29         11.00      0.0                      Санкт-Петербург   \n",
       "30           NaN      NaN                             Коммунар   \n",
       "31         13.40      2.0                      Санкт-Петербург   \n",
       "32          6.00      0.0                      Санкт-Петербург   \n",
       "33          6.50      NaN                              Колпино   \n",
       "34          8.00      NaN                      Санкт-Петербург   \n",
       "35         17.00      NaN                      Санкт-Петербург   \n",
       "36          6.30      2.0                      Санкт-Петербург   \n",
       "37           NaN      NaN  поселок городского типа Красный Бор   \n",
       "38         11.60      NaN                       посёлок Мурино   \n",
       "39          8.80      2.0                      Санкт-Петербург   \n",
       "40         10.00      2.0                    посёлок Парголово   \n",
       "41         12.00      5.0                      Санкт-Петербург   \n",
       "42         17.60      5.0                             Петергоф   \n",
       "43          7.50      NaN                      Санкт-Петербург   \n",
       "44           NaN      1.0                      Санкт-Петербург   \n",
       "45          7.00      NaN                      Санкт-Петербург   \n",
       "46          8.30      2.0                      Санкт-Петербург   \n",
       "47          5.70      1.0                              Гатчина   \n",
       "48          9.50      NaN                      Санкт-Петербург   \n",
       "49          6.00      NaN                      Санкт-Петербург   \n",
       "\n",
       "    airports_nearest cityCenters_nearest  parks_around3000  parks_nearest  \\\n",
       "0            18863.0             16028.0               1.0          482.0   \n",
       "1            12817.0             18603.0               0.0            NaN   \n",
       "2            21741.0             13933.0               1.0           90.0   \n",
       "3            28098.0              6800.0               2.0           84.0   \n",
       "4            31856.0              8098.0               2.0          112.0   \n",
       "5                NaN                 NaN               NaN            NaN   \n",
       "6            52996.0             19143.0               0.0            NaN   \n",
       "7            23982.0             11634.0               0.0            NaN   \n",
       "8                NaN                 NaN               NaN            NaN   \n",
       "9            50898.0             15008.0               0.0            NaN   \n",
       "10           38357.0             13878.0               1.0          310.0   \n",
       "11           48252.0             51677.0               0.0            NaN   \n",
       "12               NaN                 NaN               NaN            NaN   \n",
       "13           37868.0             33058.0               1.0          294.0   \n",
       "14           20782.0             30759.0               0.0            NaN   \n",
       "15           12900.0             14259.0               1.0          590.0   \n",
       "16           22108.0             10698.0               3.0          420.0   \n",
       "17           33564.0             14616.0               0.0            NaN   \n",
       "18           44060.0             10842.0               1.0          759.0   \n",
       "19           38900.0             12843.0               0.0            NaN   \n",
       "20           53134.0             19311.0               0.0            NaN   \n",
       "21           36064.0              9722.0               1.0          248.0   \n",
       "22               NaN                 NaN               NaN            NaN   \n",
       "23           15414.0             14211.0               2.0          517.0   \n",
       "24           20052.0              2336.0               3.0          411.0   \n",
       "25           34967.0             14640.0               0.0            NaN   \n",
       "26           11580.0             10510.0               0.0            NaN   \n",
       "27           29197.0             11456.0               2.0          452.0   \n",
       "28           18557.0             30710.0               0.0            NaN   \n",
       "29           30394.0             11526.0               1.0          532.0   \n",
       "30               NaN                 NaN               NaN            NaN   \n",
       "31           32888.0             12944.0               0.0            NaN   \n",
       "32           11349.0             12889.0               0.0            NaN   \n",
       "33           26535.0             32321.0               0.0            NaN   \n",
       "34           13943.0             12739.0               0.0            NaN   \n",
       "35           23670.0              3502.0               0.0            NaN   \n",
       "36           49574.0             16461.0               1.0          459.0   \n",
       "37               NaN                 NaN               NaN            NaN   \n",
       "38               NaN                 NaN               NaN            NaN   \n",
       "39           13413.0             12209.0               0.0            NaN   \n",
       "40           52996.0             19143.0               0.0            NaN   \n",
       "41           37715.0             12612.0               1.0          725.0   \n",
       "42           35416.0             30605.0               2.0           47.0   \n",
       "43           15016.0             10822.0               0.0            NaN   \n",
       "44           30471.0             11603.0               1.0          620.0   \n",
       "45           30011.0             12872.0               0.0            NaN   \n",
       "46           15114.0             12702.0               0.0            NaN   \n",
       "47               NaN                 NaN               NaN            NaN   \n",
       "48           21460.0             16788.0               0.0            NaN   \n",
       "49           45341.0             16603.0               1.0          675.0   \n",
       "\n",
       "    ponds_around3000  ponds_nearest  days_exposition  \n",
       "0                2.0          755.0              NaN  \n",
       "1                0.0            NaN             81.0  \n",
       "2                2.0          574.0            558.0  \n",
       "3                3.0          234.0            424.0  \n",
       "4                1.0           48.0            121.0  \n",
       "5                NaN            NaN             55.0  \n",
       "6                0.0            NaN            155.0  \n",
       "7                0.0            NaN              NaN  \n",
       "8                NaN            NaN            189.0  \n",
       "9                0.0            NaN            289.0  \n",
       "10               2.0          553.0            137.0  \n",
       "11               0.0            NaN              7.0  \n",
       "12               NaN            NaN             90.0  \n",
       "13               3.0          298.0            366.0  \n",
       "14               1.0           96.0            203.0  \n",
       "15               1.0          296.0             19.0  \n",
       "16               0.0            NaN            397.0  \n",
       "17               1.0          859.0            571.0  \n",
       "18               0.0            NaN            168.0  \n",
       "19               0.0            NaN             97.0  \n",
       "20               0.0            NaN             74.0  \n",
       "21               0.0            NaN            310.0  \n",
       "22               NaN            NaN             60.0  \n",
       "23               1.0          190.0            615.0  \n",
       "24               3.0          124.0            265.0  \n",
       "25               1.0          564.0            300.0  \n",
       "26               1.0           95.0            265.0  \n",
       "27               1.0          779.0            151.0  \n",
       "28               1.0          118.0             74.0  \n",
       "29               1.0          896.0            125.0  \n",
       "30               NaN            NaN             63.0  \n",
       "31               0.0            NaN            112.0  \n",
       "32               1.0          426.0            224.0  \n",
       "33               0.0            NaN             92.0  \n",
       "34               0.0            NaN             15.0  \n",
       "35               1.0          779.0            644.0  \n",
       "36               0.0            NaN            139.0  \n",
       "37               NaN            NaN            196.0  \n",
       "38               NaN            NaN            103.0  \n",
       "39               1.0         1175.0             29.0  \n",
       "40               0.0            NaN            430.0  \n",
       "41               1.0          759.0            179.0  \n",
       "42               1.0          907.0            987.0  \n",
       "43               1.0          492.0            763.0  \n",
       "44               1.0         1152.0              NaN  \n",
       "45               0.0            NaN              NaN  \n",
       "46               0.0            NaN              NaN  \n",
       "47               NaN            NaN            179.0  \n",
       "48               1.0          170.0            322.0  \n",
       "49               0.0            NaN              NaN  \n",
       "\n",
       "[50 rows x 22 columns]"
      ]
     },
     "execution_count": 46,
     "metadata": {},
     "output_type": "execute_result"
    }
   ],
   "source": [
    "import pandas as pd\n",
    "import numpy as np\n",
    "import matplotlib.pyplot as plt\n",
    "\n",
    "\n",
    "df = pd.read_csv('/datasets/real_estate_data.csv', sep = '\\t') \n",
    "display(df.info())\n",
    "display(df.isna().sum())\n",
    "df.head(50)"
   ]
  },
  {
   "cell_type": "markdown",
   "metadata": {},
   "source": [
    "### Вывод"
   ]
  },
  {
   "cell_type": "markdown",
   "metadata": {},
   "source": [
    "Первоначальный анализ паказал, что данные в таблице разделены не запятой, а \"\\t\" поэтому пришлось  к read_csv пприменить параметр sep=. После чего датафрейм отобразился коректно.\n",
    "\n",
    "В таблице 22 столбца. 2 столбца имеют тип данных bool, 14 столбцов имеют тип данных float64, 3 столбца имеют тип данных int64, 3 столбца имеют тип данных object.\n",
    "Для некоторых столбцов на мой взгляд тип данных неверный. Например для столбца:\n",
    "\"first_day_exposition\" необходимо установить тип данных datetime64\n",
    "#\"floors_total\" необходимо уставить тип данных int64 так как количество этажей не может быть не целым\n",
    "\"is_apartment\" необходимо уставить тип данных bool так как в этом столбце может быть два значения true false, а все Nan заменить на True\n",
    "\"balcony\" необходимо уставить тип данных int64 так как число балконов не может быть дробным. Так же Nan в этой таблице скорее всего означает отсутствие балкона. Nan необходимо заменить на 0\n",
    "\"airports_nearest\", \"cityCenters_nearest\", parks_around3000, \"parks_nearest\", ponds_nearest, days_exposition необходимо уставить тип данных int64\n",
    "\n"
   ]
  },
  {
   "cell_type": "markdown",
   "metadata": {},
   "source": [
    "## Предобработка данных"
   ]
  },
  {
   "cell_type": "code",
   "execution_count": 47,
   "metadata": {},
   "outputs": [
    {
     "name": "stdout",
     "output_type": "stream",
     "text": [
      "<class 'pandas.core.frame.DataFrame'>\n",
      "RangeIndex: 23148 entries, 0 to 23147\n",
      "Data columns (total 22 columns):\n",
      "total_images            23148 non-null int64\n",
      "last_price              23148 non-null float64\n",
      "total_area              23148 non-null float64\n",
      "first_day_exposition    23148 non-null datetime64[ns]\n",
      "rooms                   23148 non-null int64\n",
      "ceiling_height          23148 non-null float64\n",
      "floors_total            23066 non-null float64\n",
      "living_area             21308 non-null float64\n",
      "floor                   23148 non-null int64\n",
      "is_apartment            23148 non-null bool\n",
      "studio                  23148 non-null bool\n",
      "open_plan               23148 non-null bool\n",
      "kitchen_area            21131 non-null float64\n",
      "balcony                 23148 non-null int64\n",
      "locality_name           23099 non-null object\n",
      "airports_nearest        17740 non-null float64\n",
      "city_centers_nearest    17760 non-null float64\n",
      "parks_around_3000       23148 non-null int64\n",
      "parks_nearest           7850 non-null float64\n",
      "ponds_around_3000       23148 non-null int64\n",
      "ponds_nearest           8830 non-null float64\n",
      "days_exposition         20058 non-null float64\n",
      "dtypes: bool(3), datetime64[ns](1), float64(11), int64(6), object(1)\n",
      "memory usage: 3.4+ MB\n"
     ]
    },
    {
     "data": {
      "text/plain": [
       "None"
      ]
     },
     "metadata": {},
     "output_type": "display_data"
    }
   ],
   "source": [
    "#переведем столбец с датой в формат даты без времени, т.к. время не указано\n",
    "df['first_day_exposition'] = pd.to_datetime(df['first_day_exposition'], format='%Y.%m.%d')\n",
    "\n",
    "#в столбе апартаменты  пропуски заменим на 0 так так аппартаменты не сильно распространениы по\n",
    "#сравнению с классическими кварттирами и приведем стобец к булеву типу донных.\n",
    "df['is_apartment'] = df['is_apartment'].fillna(0).astype('bool')\n",
    "\n",
    "#предположим что в столбце с  количеством балконов пропуски означают отсутствие балкона\n",
    "#заменим оттуствующие значения на 0 и приведем столбец к цельночисленному типу данных\n",
    "df['balcony'] = df['balcony'].fillna(0).astype('int64')\n",
    "\n",
    "#предположим что в столбцах с  количеством парков в радиусе 3км и количеством водоемов в радиусе 3км пропуски означают отсутствие парка\n",
    "#заменим оттуствующие значения на 0 и приведем столбец к цельночисленному типу данных\n",
    "df['parks_around3000'] = df['parks_around3000'].fillna(0).astype('int64')\n",
    "df['ponds_around3000'] = df['ponds_around3000'].fillna(0).astype('int64')\n",
    "#приведем названия столбцов к змеиному регистру\n",
    "df.rename(columns={'parks_around3000':'parks_around_3000','ponds_around3000':'ponds_around_3000','cityCenters_nearest':'city_centers_nearest'}, inplace=True)\n",
    "#df['days_exposition'] = df['days_exposition'].fillna(0).astype('int64')\n",
    "#заменяю прощеные значения в столбце высота потолка на медианные\n",
    "df['ceiling_height'] = df['ceiling_height'].fillna(df['ceiling_height'].median())\n",
    "\n",
    "#df[['last_price', 'total_area','rooms', 'ceiling_height' ]].describe().loc[['min', 'max']]\n",
    "\n",
    "#избавлюсь от выбросов в столбце цена. Исходя из реалий рынка буду считать, что квартира не может стоить дешевле 500 т.р. \n",
    "#и дороже 100 млн.р. дороже конечно может, но эти данные сильно искажают иследование\n",
    "df = df.loc[(df['last_price']>500000) & (df['last_price']<100000000)]\n",
    "df.reset_index(inplace=True, drop=True)\n",
    "\n",
    "\n",
    "#избавлюсь от выбросов в столбце общей площади минимальным порогом я бы поставил 30 метров, но учитывая что данных есть студии\n",
    "#поставлю фильтр на 20, а верхней границей 150\n",
    "df = df.loc[(df['total_area']>20) & (df['total_area']<200)]\n",
    "df.reset_index(inplace=True, drop=True)\n",
    "\n",
    "#избавлюсь от выбросов в столбце количество комнат. По скольку к предобработке я вернулся после анализа мне известно, \n",
    "#что присутствуют значения колво комнат 0 можно сделать выборку и посмотреть какие площади в этих квартирах разбить их на \n",
    "#условно на категории по колву комнат, но мне кажется это будет излишним попробую просто избавиться от этих значений\n",
    "df = df.loc[(df['rooms']>=1) & (df['rooms']<7)]\n",
    "df.reset_index(inplace=True, drop=True)\n",
    "\n",
    "#избавлюсь от выбросов в столбце высота потолка\n",
    "df = df.loc[(df['ceiling_height']>2.3) & (df['ceiling_height']<5)]\n",
    "df.reset_index(inplace=True, drop=True)\n",
    "\n",
    "\n",
    "display(df.info())"
   ]
  },
  {
   "cell_type": "markdown",
   "metadata": {},
   "source": [
    "<div class=\"alert alert-success\" style=\"border-radius: 15px; box-shadow: 4px 4px 4px; border: 1px solid \">\n",
    "<b> Комментарий ревьюера</b>\n",
    "    \n",
    "При чтении файла можно указать параметр **parse_dates**: `parse_dates=['first_day_exposition']`. Тогда пандас автоматически переведет список столбцов в даты.\n",
    "\n",
    "</div>"
   ]
  },
  {
   "cell_type": "markdown",
   "metadata": {},
   "source": [
    "<div class=\"alert alert-danger\" style=\"border-radius: 15px; box-shadow: 4px 4px 4px; border: 1px solid \">\n",
    "<b> Комментарий ревьюера</b>\n",
    "    \n",
    "Что с остальными пропусками?\n",
    "</div>"
   ]
  },
  {
   "cell_type": "markdown",
   "metadata": {},
   "source": [
    "<div class=\"alert alert-info\">\n",
    "<h2> Комментарий студента</h2>\n",
    "В следующих столбцах (airports_nearest 5542, cityCenters_nearest 5519, parks_around3000 5518, parks_nearest 15620, ponds_around3000 5518, ponds_nearest 14589) речь идет о растоянии и я не уверен насколько уместно заменять пропуски какими либо значениями ведь условные парк или пруд могут быть под боком, а может быть их вообще нет в населенном пункте. Да и в иследовании из них учавствует только один столбец растояние до центра.\n",
    "\n",
    "    \n",
    "Можно попробовать заменить пропущенные значения в столбце высота потолка. Но пропущенных значений 10 000 штук считай половина датафрейма. Посмотрим что из этого получится.\n",
    "</div>\n",
    "\n",
    "\n",
    " "
   ]
  },
  {
   "cell_type": "markdown",
   "metadata": {},
   "source": [
    "<div class=\"alert alert-success\" style=\"border-radius: 15px; box-shadow: 4px 4px 4px; border: 1px solid \">\n",
    "<b> Комментарий ревьюера 2</b>\n",
    "    \n",
    "В целом, все верно. Я согласна с тобой. Некоторые столбцы нам вообще не нужны в этом исследовании. Однако я на всякий случай оставлю пару вариантов:\n",
    "    \n",
    "    \n",
    "    \n",
    "- Пропуски в населенных пунктах можно даже удалить. Мы не можем быть уверены, что эти квартиры принадлежат Лен. области.\n",
    "\n",
    "\n",
    "- По жилой площади и кухням можно попробовать такой вариант:\n",
    "    \n",
    "    \n",
    "    1. Группируем по комнатам. \n",
    "    2. Для каждой группы вычисляем отношение медианы жилой площади к медиане общей. С кухней то же самое.\n",
    "    3. Заполняем жилую также в группировке по комнатам, умножая общую площадь на полученный ранее коэффициент отношения. Кухню заполняем так же.\n",
    "    \n",
    " </div>"
   ]
  },
  {
   "cell_type": "markdown",
   "metadata": {},
   "source": [
    "## Расчёты и добавление результатов в таблицу"
   ]
  },
  {
   "cell_type": "code",
   "execution_count": 48,
   "metadata": {},
   "outputs": [
    {
     "data": {
      "text/html": [
       "<div>\n",
       "<style scoped>\n",
       "    .dataframe tbody tr th:only-of-type {\n",
       "        vertical-align: middle;\n",
       "    }\n",
       "\n",
       "    .dataframe tbody tr th {\n",
       "        vertical-align: top;\n",
       "    }\n",
       "\n",
       "    .dataframe thead th {\n",
       "        text-align: right;\n",
       "    }\n",
       "</style>\n",
       "<table border=\"1\" class=\"dataframe\">\n",
       "  <thead>\n",
       "    <tr style=\"text-align: right;\">\n",
       "      <th></th>\n",
       "      <th>total_images</th>\n",
       "      <th>last_price</th>\n",
       "      <th>total_area</th>\n",
       "      <th>first_day_exposition</th>\n",
       "      <th>rooms</th>\n",
       "      <th>ceiling_height</th>\n",
       "      <th>floors_total</th>\n",
       "      <th>living_area</th>\n",
       "      <th>floor</th>\n",
       "      <th>is_apartment</th>\n",
       "      <th>...</th>\n",
       "      <th>ponds_around_3000</th>\n",
       "      <th>ponds_nearest</th>\n",
       "      <th>days_exposition</th>\n",
       "      <th>price_square_meter</th>\n",
       "      <th>weekday_exposition</th>\n",
       "      <th>month_exposition</th>\n",
       "      <th>year_exposition</th>\n",
       "      <th>living_to_total_area</th>\n",
       "      <th>kitchen_to_total_area</th>\n",
       "      <th>floor_category</th>\n",
       "    </tr>\n",
       "  </thead>\n",
       "  <tbody>\n",
       "    <tr>\n",
       "      <td>0</td>\n",
       "      <td>20</td>\n",
       "      <td>13000000.0</td>\n",
       "      <td>108.0</td>\n",
       "      <td>2019-03-07</td>\n",
       "      <td>3</td>\n",
       "      <td>2.70</td>\n",
       "      <td>16.0</td>\n",
       "      <td>51.0</td>\n",
       "      <td>8</td>\n",
       "      <td>False</td>\n",
       "      <td>...</td>\n",
       "      <td>2</td>\n",
       "      <td>755.0</td>\n",
       "      <td>NaN</td>\n",
       "      <td>120370</td>\n",
       "      <td>3</td>\n",
       "      <td>3</td>\n",
       "      <td>2019</td>\n",
       "      <td>0.47</td>\n",
       "      <td>0.23</td>\n",
       "      <td>другой</td>\n",
       "    </tr>\n",
       "    <tr>\n",
       "      <td>1</td>\n",
       "      <td>7</td>\n",
       "      <td>3350000.0</td>\n",
       "      <td>40.4</td>\n",
       "      <td>2018-12-04</td>\n",
       "      <td>1</td>\n",
       "      <td>2.65</td>\n",
       "      <td>11.0</td>\n",
       "      <td>18.6</td>\n",
       "      <td>1</td>\n",
       "      <td>False</td>\n",
       "      <td>...</td>\n",
       "      <td>0</td>\n",
       "      <td>NaN</td>\n",
       "      <td>81.0</td>\n",
       "      <td>82920</td>\n",
       "      <td>1</td>\n",
       "      <td>12</td>\n",
       "      <td>2018</td>\n",
       "      <td>0.46</td>\n",
       "      <td>0.27</td>\n",
       "      <td>первый</td>\n",
       "    </tr>\n",
       "    <tr>\n",
       "      <td>2</td>\n",
       "      <td>10</td>\n",
       "      <td>5196000.0</td>\n",
       "      <td>56.0</td>\n",
       "      <td>2015-08-20</td>\n",
       "      <td>2</td>\n",
       "      <td>2.65</td>\n",
       "      <td>5.0</td>\n",
       "      <td>34.3</td>\n",
       "      <td>4</td>\n",
       "      <td>False</td>\n",
       "      <td>...</td>\n",
       "      <td>2</td>\n",
       "      <td>574.0</td>\n",
       "      <td>558.0</td>\n",
       "      <td>92785</td>\n",
       "      <td>3</td>\n",
       "      <td>8</td>\n",
       "      <td>2015</td>\n",
       "      <td>0.61</td>\n",
       "      <td>0.15</td>\n",
       "      <td>другой</td>\n",
       "    </tr>\n",
       "    <tr>\n",
       "      <td>3</td>\n",
       "      <td>0</td>\n",
       "      <td>64900000.0</td>\n",
       "      <td>159.0</td>\n",
       "      <td>2015-07-24</td>\n",
       "      <td>3</td>\n",
       "      <td>2.65</td>\n",
       "      <td>14.0</td>\n",
       "      <td>NaN</td>\n",
       "      <td>9</td>\n",
       "      <td>False</td>\n",
       "      <td>...</td>\n",
       "      <td>3</td>\n",
       "      <td>234.0</td>\n",
       "      <td>424.0</td>\n",
       "      <td>408176</td>\n",
       "      <td>4</td>\n",
       "      <td>7</td>\n",
       "      <td>2015</td>\n",
       "      <td>NaN</td>\n",
       "      <td>NaN</td>\n",
       "      <td>другой</td>\n",
       "    </tr>\n",
       "    <tr>\n",
       "      <td>4</td>\n",
       "      <td>2</td>\n",
       "      <td>10000000.0</td>\n",
       "      <td>100.0</td>\n",
       "      <td>2018-06-19</td>\n",
       "      <td>2</td>\n",
       "      <td>3.03</td>\n",
       "      <td>14.0</td>\n",
       "      <td>32.0</td>\n",
       "      <td>13</td>\n",
       "      <td>False</td>\n",
       "      <td>...</td>\n",
       "      <td>1</td>\n",
       "      <td>48.0</td>\n",
       "      <td>121.0</td>\n",
       "      <td>100000</td>\n",
       "      <td>1</td>\n",
       "      <td>6</td>\n",
       "      <td>2018</td>\n",
       "      <td>0.32</td>\n",
       "      <td>0.41</td>\n",
       "      <td>другой</td>\n",
       "    </tr>\n",
       "  </tbody>\n",
       "</table>\n",
       "<p>5 rows × 29 columns</p>\n",
       "</div>"
      ],
      "text/plain": [
       "   total_images  last_price  total_area first_day_exposition  rooms  \\\n",
       "0            20  13000000.0       108.0           2019-03-07      3   \n",
       "1             7   3350000.0        40.4           2018-12-04      1   \n",
       "2            10   5196000.0        56.0           2015-08-20      2   \n",
       "3             0  64900000.0       159.0           2015-07-24      3   \n",
       "4             2  10000000.0       100.0           2018-06-19      2   \n",
       "\n",
       "   ceiling_height  floors_total  living_area  floor  is_apartment  ...  \\\n",
       "0            2.70          16.0         51.0      8         False  ...   \n",
       "1            2.65          11.0         18.6      1         False  ...   \n",
       "2            2.65           5.0         34.3      4         False  ...   \n",
       "3            2.65          14.0          NaN      9         False  ...   \n",
       "4            3.03          14.0         32.0     13         False  ...   \n",
       "\n",
       "   ponds_around_3000  ponds_nearest  days_exposition  price_square_meter  \\\n",
       "0                  2          755.0              NaN              120370   \n",
       "1                  0            NaN             81.0               82920   \n",
       "2                  2          574.0            558.0               92785   \n",
       "3                  3          234.0            424.0              408176   \n",
       "4                  1           48.0            121.0              100000   \n",
       "\n",
       "  weekday_exposition  month_exposition  year_exposition  living_to_total_area  \\\n",
       "0                  3                 3             2019                  0.47   \n",
       "1                  1                12             2018                  0.46   \n",
       "2                  3                 8             2015                  0.61   \n",
       "3                  4                 7             2015                   NaN   \n",
       "4                  1                 6             2018                  0.32   \n",
       "\n",
       "   kitchen_to_total_area  floor_category  \n",
       "0                   0.23          другой  \n",
       "1                   0.27          первый  \n",
       "2                   0.15          другой  \n",
       "3                    NaN          другой  \n",
       "4                   0.41          другой  \n",
       "\n",
       "[5 rows x 29 columns]"
      ]
     },
     "execution_count": 48,
     "metadata": {},
     "output_type": "execute_result"
    }
   ],
   "source": [
    "# добляю столбец стоимость квадратного метра\n",
    "df['price_square_meter'] = df['last_price'] / df['total_area']\n",
    "#для удобства округляю стоимость кв метра до целого числа\n",
    "df['price_square_meter'] = df['price_square_meter'].astype('int64')\n",
    "\n",
    "#создаю столбец день недели\n",
    "df['weekday_exposition'] = df['first_day_exposition'].dt.weekday\n",
    "\n",
    "#создаю столбец месяца\n",
    "df['month_exposition'] = df['first_day_exposition'].dt.month\n",
    "\n",
    "#создаю столбец года\n",
    "df['year_exposition'] = df['first_day_exposition'].dt.year\n",
    "\n",
    "# добляю столбец отношение жилой площади к общей\n",
    "df['living_to_total_area'] = df['living_area'] / df['total_area']\n",
    "#округляю значения столбца до сотых\n",
    "df['living_to_total_area'] = np.round(df['living_to_total_area'], decimals = 2)\n",
    "\n",
    "# добляю столбец отношение жилой площади к общей\n",
    "df['kitchen_to_total_area'] = df['kitchen_area'] / df['total_area']\n",
    "#округляю значения столбца до сотых\n",
    "df['kitchen_to_total_area'] = np.round(df['kitchen_to_total_area'], decimals = 2)\n",
    "\n",
    "#функция категоризации по этажам\n",
    "def floor_category(row):\n",
    "    floors_total = row['floors_total']\n",
    "    floor = row['floor']\n",
    "    if floor == 1:\n",
    "        return 'первый'\n",
    "    elif floor == floors_total:\n",
    "        return 'последний'\n",
    "    else:\n",
    "        return 'другой'\n",
    "    \n",
    "#категоризуем этажи с помощью функции  \n",
    "df['floor_category'] = df.apply(floor_category, axis = 1)\n",
    "\n",
    "\n",
    "df.head(5)"
   ]
  },
  {
   "cell_type": "markdown",
   "metadata": {},
   "source": [
    "## Исследовательский анализ данных"
   ]
  },
  {
   "cell_type": "code",
   "execution_count": 49,
   "metadata": {
    "scrolled": false
   },
   "outputs": [
    {
     "data": {
      "image/png": "[encoded data removed]",
      "text/plain": [
       "<Figure size 432x360 with 1 Axes>"
      ]
     },
     "metadata": {
      "needs_background": "light"
     },
     "output_type": "display_data"
    }
   ],
   "source": [
    "#построю гистограмму общей площади\n",
    "df['total_area'].hist(range = (0, 300), bins = 150, figsize = (6,5),)\n",
    "plt.title('Гистограмма общей площади ')\n",
    "plt.xlabel('Общая площать')\n",
    "plt.ylabel('Частота появлений')\n",
    "plt.show()\n"
   ]
  },
  {
   "cell_type": "markdown",
   "metadata": {},
   "source": [
    "<div class=\"alert alert-warning\" style=\"border-radius: 15px; box-shadow: 4px 4px 4px;border: 1px solid \">\n",
    "<b> Комментарий ревьюера</b>\n",
    "    \n",
    "Графики желательно подписывать (оси + заголовок).</div>"
   ]
  },
  {
   "cell_type": "markdown",
   "metadata": {},
   "source": [
    "Основная масса продаваемых квартир имеет площадь от 30 до 70 кв метров это соответствует стандартным 1 2х 3х комнатным квартирам. Пик приходится примерно на 45 кв метров это большая однушка или маленькая двушка(самые ходовые квартиры на рынке). Однако есть и значения до 300 кв метров, сложно оченить правда это или опечатка."
   ]
  },
  {
   "cell_type": "code",
   "execution_count": 50,
   "metadata": {
    "scrolled": false
   },
   "outputs": [
    {
     "data": {
      "image/png": "[encoded data removed]",
      "text/plain": [
       "<Figure size 432x360 with 1 Axes>"
      ]
     },
     "metadata": {
      "needs_background": "light"
     },
     "output_type": "display_data"
    }
   ],
   "source": [
    "#пострю гистограмму стоимости\n",
    "df['last_price'].hist(range = (0, 15000000), bins = 150, figsize = (6,5))\n",
    "plt.title('Гистограмма стоимости')\n",
    "plt.xlabel('Стоимость')\n",
    "plt.ylabel('Частота появлений')\n",
    "plt.show()"
   ]
  },
  {
   "cell_type": "markdown",
   "metadata": {},
   "source": [
    "Гистограмма стоимости в принципе повторяет гистограмму площади. Видимо 300 метровые квартиры все же существуют"
   ]
  },
  {
   "cell_type": "code",
   "execution_count": 51,
   "metadata": {
    "scrolled": false
   },
   "outputs": [
    {
     "data": {
      "text/plain": [
       "<matplotlib.axes._subplots.AxesSubplot at 0x7f81d2a8a850>"
      ]
     },
     "execution_count": 51,
     "metadata": {},
     "output_type": "execute_result"
    },
    {
     "data": {
      "image/png": "[encoded data removed]",
      "text/plain": [
       "<Figure size 432x360 with 1 Axes>"
      ]
     },
     "metadata": {
      "needs_background": "light"
     },
     "output_type": "display_data"
    }
   ],
   "source": [
    "df['rooms'].hist(range = (0, 8), bins = 150, figsize = (6,5))\n",
    "\n",
    "#df['rooms'].value_counts()"
   ]
  },
  {
   "cell_type": "markdown",
   "metadata": {},
   "source": [
    "<div class=\"alert alert-warning\" style=\"border-radius: 15px; box-shadow: 4px 4px 4px;border: 1px solid \">\n",
    "<b> Комментарий ревьюера</b>\n",
    "    \n",
    "Есть ли смысл для комнат строить гистограмму? Значения на оси Х можно по пальцам пересчитать. Гистограмма хороша, когда значений слишком много. Тут достаточно столбчатую вызвать. </div>"
   ]
  },
  {
   "cell_type": "markdown",
   "metadata": {},
   "source": [
    "<div class=\"alert alert-info\">\n",
    "<h2> Комментарий студента</h2>\n",
    "\n",
    "Не могу разобраться как построить столбчатую диаграмму по значениям только одного столбца. Но по сути ведь график будет таким же. В слаке предложили построить зависимость от цены, но здесь она нам ни к чему т.к. смотрим на частоту появлений. \n",
    "Буду признателен если подскажешь как сделать\n",
    "</div>"
   ]
  },
  {
   "cell_type": "markdown",
   "metadata": {},
   "source": [
    "<div class=\"alert alert-success\" style=\"border-radius: 15px; box-shadow: 4px 4px 4px; border: 1px solid \">\n",
    "<b> Комментарий ревьюера 2</b>\n",
    "    \n",
    "Понимаю вопрос. На самом деле, тут все довольно просто. Что показывает гистограмма? Она показывает лишь частоту появления того или иного значения. Она удобна тогда, когда значений на оси Х у нас слишком много. Например, потолки 2.61б 2.62, 2.63, ..., 3.99. \n",
    "    \n",
    "    \n",
    "    \n",
    "А вот комнат уже не так много, как высот, поэтому тут можно обойтись столбчатой, которую можно построить по **value_counts()**:\n",
    "    \n",
    " </div>"
   ]
  },
  {
   "cell_type": "markdown",
   "metadata": {},
   "source": [
    "<div class=\"alert alert-info\">\n",
    "<h2> Комментарий студента 2</h2>\n",
    "\n",
    "Большое спасибо. Беру на вооружение\n",
    "</div>"
   ]
  },
  {
   "cell_type": "code",
   "execution_count": 52,
   "metadata": {},
   "outputs": [
    {
     "data": {
      "text/plain": [
       "<matplotlib.axes._subplots.AxesSubplot at 0x7f81d2936050>"
      ]
     },
     "execution_count": 52,
     "metadata": {},
     "output_type": "execute_result"
    },
    {
     "data": {
      "image/png": "[encoded data removed]",
      "text/plain": [
       "<Figure size 432x288 with 1 Axes>"
      ]
     },
     "metadata": {
      "needs_background": "light"
     },
     "output_type": "display_data"
    }
   ],
   "source": [
    "# КОД РЕВЬЮЕРА\n",
    "\n",
    "\n",
    "df.rooms.value_counts().plot(kind='bar')"
   ]
  },
  {
   "cell_type": "markdown",
   "metadata": {},
   "source": [
    "Из этого графика видно, что как и предполагал выше больше всего продается 1 2х и 3х комнатных квартир, однако, есть\n",
    "аномальные значения количества комнат например 0 или значения больше 10ти. Трудно представить 19ти комнатную квартиру. А вот \n",
    "0 достаточно много трудно сказать с чем это связано."
   ]
  },
  {
   "cell_type": "code",
   "execution_count": 53,
   "metadata": {
    "scrolled": true
   },
   "outputs": [
    {
     "data": {
      "image/png": "[encoded data removed]",
      "text/plain": [
       "<Figure size 432x360 with 1 Axes>"
      ]
     },
     "metadata": {
      "needs_background": "light"
     },
     "output_type": "display_data"
    }
   ],
   "source": [
    "df['ceiling_height'].hist(range = (2.35, 4), bins = 150, figsize = (6,5))\n",
    "plt.title('Гистограмма высоты потолка')\n",
    "plt.xlabel('Высота потолка')\n",
    "plt.ylabel('Частота появлений')\n",
    "plt.show()"
   ]
  },
  {
   "cell_type": "markdown",
   "metadata": {},
   "source": [
    "График высоты потолка так же довольно предсказуем, хотя встречются очень высокие значения. Например 100.\n",
    "\n",
    "<font color='red'> Из-за замены пропущенных значений медианным наблюдаем пик на высоте потолка 2.65м </font>"
   ]
  },
  {
   "cell_type": "code",
   "execution_count": 54,
   "metadata": {},
   "outputs": [
    {
     "data": {
      "image/png": "[encoded data removed]",
      "text/plain": [
       "<Figure size 432x360 with 1 Axes>"
      ]
     },
     "metadata": {
      "needs_background": "light"
     },
     "output_type": "display_data"
    },
    {
     "name": "stdout",
     "output_type": "stream",
     "text": [
      "count    20058.000000\n",
      "mean       180.450095\n",
      "std        218.806825\n",
      "min          1.000000\n",
      "25%         45.000000\n",
      "50%         96.000000\n",
      "75%        231.000000\n",
      "max       1580.000000\n",
      "Name: days_exposition, dtype: float64\n"
     ]
    }
   ],
   "source": [
    "df['days_exposition'].hist(range = (0, 1000), bins = 150, figsize = (6,5))\n",
    "plt.title('Гистограмма длительности продижи')\n",
    "plt.xlabel('Длительность продажи')\n",
    "plt.ylabel('Частота появлений')\n",
    "plt.show()\n",
    "print(df['days_exposition'].describe())\n"
   ]
  },
  {
   "cell_type": "markdown",
   "metadata": {},
   "source": [
    "Гистограмма очень сильно расплылась. Значения колеблятся от 1 дня до невероятных 1580. Основная масса квартир продаются в пределах 200 дней, хотя и от 200 до 400 дней квартир так же много. Быстрой продажей можно считать квартиры проданные за 30 дней. На мой взгляд продажа квартиры после 200 дней это очень долго, хотя некоторые квартиры продаются годами. Также на графике винды выбросы на 45 и 60 дней не знаю с чем это связано, но чувствую от этих данных нужно избавится."
   ]
  },
  {
   "cell_type": "markdown",
   "metadata": {},
   "source": [
    "<div class=\"alert alert-success\" style=\"border-radius: 15px; box-shadow: 4px 4px 4px;border: 1px solid \">\n",
    "<b> Комментарий ревьюера</b>\n",
    "    \n",
    "Соглашусь. </div>"
   ]
  },
  {
   "cell_type": "code",
   "execution_count": 55,
   "metadata": {
    "scrolled": false
   },
   "outputs": [
    {
     "data": {
      "image/png": "[encoded data removed]",
      "text/plain": [
       "<Figure size 432x360 with 1 Axes>"
      ]
     },
     "metadata": {
      "needs_background": "light"
     },
     "output_type": "display_data"
    }
   ],
   "source": [
    "df['days_exposition']=round(df['days_exposition'], 0).astype('Int64')\n",
    "df = df.query('days_exposition != 45.0 and days_exposition != 60 and days_exposition != 90')\n",
    "df['days_exposition'].hist(range = (0, 800), bins = 150, figsize = (6,5)) \n",
    "plt.title('Гистограмма длительности продижи')\n",
    "plt.xlabel('Длительность продажи')\n",
    "plt.ylabel('Частота появлений')\n",
    "plt.show()\n",
    "\n",
    "#df['days_exposition'].value_counts()\n"
   ]
  },
  {
   "cell_type": "markdown",
   "metadata": {},
   "source": [
    "<div class=\"alert alert-danger\" style=\"border-radius: 15px; box-shadow: 4px 4px 4px;border: 1px solid \">\n",
    "<b> Комментарий ревьюера</b>\n",
    "    \n",
    "Что делаем с  выбросами? Они искажают результаты. Тем более, если речь про коэфф-ты корреляции. Обрати внимание на минимумы и максимумы: </div>"
   ]
  },
  {
   "cell_type": "markdown",
   "metadata": {},
   "source": [
    "<div class=\"alert alert-info\">\n",
    "<h2> Комментарий студента</h2>\n",
    "\n",
    "Очевидно от выбросов необходимо избавиться. Сделаю это в предобработке данных.\n",
    "</div>"
   ]
  },
  {
   "cell_type": "code",
   "execution_count": 56,
   "metadata": {},
   "outputs": [
    {
     "data": {
      "text/html": [
       "<div>\n",
       "<style scoped>\n",
       "    .dataframe tbody tr th:only-of-type {\n",
       "        vertical-align: middle;\n",
       "    }\n",
       "\n",
       "    .dataframe tbody tr th {\n",
       "        vertical-align: top;\n",
       "    }\n",
       "\n",
       "    .dataframe thead th {\n",
       "        text-align: right;\n",
       "    }\n",
       "</style>\n",
       "<table border=\"1\" class=\"dataframe\">\n",
       "  <thead>\n",
       "    <tr style=\"text-align: right;\">\n",
       "      <th></th>\n",
       "      <th>last_price</th>\n",
       "      <th>total_area</th>\n",
       "      <th>rooms</th>\n",
       "      <th>ceiling_height</th>\n",
       "    </tr>\n",
       "  </thead>\n",
       "  <tbody>\n",
       "    <tr>\n",
       "      <td>min</td>\n",
       "      <td>520000.0</td>\n",
       "      <td>20.1</td>\n",
       "      <td>1.0</td>\n",
       "      <td>2.4</td>\n",
       "    </tr>\n",
       "    <tr>\n",
       "      <td>max</td>\n",
       "      <td>95000000.0</td>\n",
       "      <td>199.2</td>\n",
       "      <td>6.0</td>\n",
       "      <td>4.8</td>\n",
       "    </tr>\n",
       "  </tbody>\n",
       "</table>\n",
       "</div>"
      ],
      "text/plain": [
       "     last_price  total_area  rooms  ceiling_height\n",
       "min    520000.0        20.1    1.0             2.4\n",
       "max  95000000.0       199.2    6.0             4.8"
      ]
     },
     "execution_count": 56,
     "metadata": {},
     "output_type": "execute_result"
    }
   ],
   "source": [
    "# КОД РЕВЬЮЕРА\n",
    "\n",
    "df[['last_price', 'total_area','rooms', 'ceiling_height' ]].describe().loc[['min', 'max']]"
   ]
  },
  {
   "cell_type": "markdown",
   "metadata": {},
   "source": [
    "<div class=\"alert alert-info\">\n",
    "<h2> Комментарий студента</h2>\n",
    "\n",
    "После удаления выбросов коэффициэнты корреляци увеличились в среднем на 0,1. Но в целом картина не изменилась. Выводы остаются прежними\n",
    "</div>"
   ]
  },
  {
   "cell_type": "markdown",
   "metadata": {},
   "source": [
    "<div class=\"alert alert-success\" style=\"border-radius: 15px; box-shadow: 4px 4px 4px; border: 1px solid \">\n",
    "<b> Комментарий ревьюера 2</b>\n",
    "    \n",
    "Да, общая картина не изменится, т.к. человеческий глаз способен уловить связь по графикам. Но коэфф-ты поменяются. Это важно, ведь многие методы машинного обучения весьма чувствительны к выбросам. \n",
    " </div>"
   ]
  },
  {
   "cell_type": "code",
   "execution_count": 57,
   "metadata": {
    "scrolled": true
   },
   "outputs": [
    {
     "data": {
      "text/plain": [
       "0.7341386449447991"
      ]
     },
     "execution_count": 57,
     "metadata": {},
     "output_type": "execute_result"
    },
    {
     "data": {
      "image/png": "[encoded data removed]",
      "text/plain": [
       "<Figure size 432x288 with 1 Axes>"
      ]
     },
     "metadata": {
      "needs_background": "light"
     },
     "output_type": "display_data"
    }
   ],
   "source": [
    "#иследую зависит ли цена от площади квартиры. Для анализиза построю график корреляции и использую функцию нахождения \n",
    "#попарной корреляции Пирсона\n",
    "df.plot(x = 'total_area', y = 'last_price', kind = 'scatter',grid=True,  xlim=(0, 300),  ylim=(0, 40000000), alpha = 0.3, title='зависимость стоимости от общей площади')\n",
    "\n",
    "df['total_area'].corr(df['last_price'])"
   ]
  },
  {
   "cell_type": "markdown",
   "metadata": {},
   "source": [
    "Из графика видно, что с увеличением площади увеличиватся и стоимость объекта, что в свою очередь очень логично. Корреляция Пирсона составила 0.65 что говорит о заметной силе корреляционной связи. "
   ]
  },
  {
   "cell_type": "markdown",
   "metadata": {},
   "source": [
    "<div class=\"alert alert-success\" style=\"border-radius: 15px; box-shadow: 4px 4px 4px;border: 1px solid \">\n",
    "<b> Комментарий ревьюера</b>\n",
    "    \n",
    "Коэфф-т корреляции Пирсона это коэфф-т линейной связи. Ее отсутствие не влечет отсутствие связи как таковой, поскольку последняя может быть нелинейной. Молодец, что еще и на графики смотришь. \n",
    "</div>"
   ]
  },
  {
   "cell_type": "code",
   "execution_count": 58,
   "metadata": {
    "scrolled": true
   },
   "outputs": [
    {
     "data": {
      "text/plain": [
       "0.4306403467283314"
      ]
     },
     "execution_count": 58,
     "metadata": {},
     "output_type": "execute_result"
    },
    {
     "data": {
      "image/png": "[encoded data removed]",
      "text/plain": [
       "<Figure size 432x288 with 1 Axes>"
      ]
     },
     "metadata": {
      "needs_background": "light"
     },
     "output_type": "display_data"
    }
   ],
   "source": [
    "#иследую зависит ли цена от количества комнат. Для анализиза построю график корреляции и использую функцию нахождения \n",
    "#попарной корреляции Пирсона\n",
    "df.plot(x = 'rooms', y = 'last_price', kind = 'scatter', grid=True,  xlim=(0, 7),  ylim=(0, 50000000),alpha = 0.3, title = 'зависимость стоимости от кол-ва комнат')\n",
    "\n",
    "\n",
    "df['rooms'].corr(df['last_price'])"
   ]
  },
  {
   "cell_type": "markdown",
   "metadata": {},
   "source": [
    "Из графика видно, что зависимость стоимости объекта от количества комнат существует но не столь очевидна как от площади объкта, об этом так же говорит коэффициент корреляция Пирсона который составил 0.36 что свидетельствует от умеренной силе корреляционной связи"
   ]
  },
  {
   "cell_type": "markdown",
   "metadata": {},
   "source": [
    "<div class=\"alert alert-warning\" style=\"border-radius: 15px; box-shadow: 4px 4px 4px;border: 1px solid \">\n",
    "<b> Комментарий ревьюера</b>\n",
    "    \n",
    "Точечная диаграмма хороша, когда надо увидеть количество и разброс. Например, для комнат  нам нужна зависимость и лучше всего ее покажет кривая, потому что точек у зависимой переменной (комант) немного. \n",
    "\n",
    "</div>"
   ]
  },
  {
   "cell_type": "code",
   "execution_count": 59,
   "metadata": {
    "scrolled": true
   },
   "outputs": [
    {
     "data": {
      "image/png": "[encoded data removed]",
      "text/plain": [
       "<Figure size 432x288 with 1 Axes>"
      ]
     },
     "metadata": {
      "needs_background": "light"
     },
     "output_type": "display_data"
    }
   ],
   "source": [
    "# КОД РЕВЬЮЕРА\n",
    "\n",
    "import matplotlib.pyplot as plt\n",
    "\n",
    "df[df.rooms<8].groupby('rooms')['last_price'].median().plot()\n",
    "\n",
    "\n",
    "plt.title('График зависимости цены от кол-ва комнат')\n",
    "plt.xlabel('Кол-во комнат')\n",
    "plt.ylabel('Стоимость')\n",
    "plt.show()"
   ]
  },
  {
   "cell_type": "markdown",
   "metadata": {},
   "source": [
    "<div class=\"alert alert-info\">\n",
    "<h2> Комментарий студента</h2>\n",
    "\n",
    "Полностью с тобой согласен медианный кривяк более информативен!Особенно когда подписаны оси). Благодарю за наводку.\n",
    "</div>"
   ]
  },
  {
   "cell_type": "code",
   "execution_count": 60,
   "metadata": {
    "scrolled": true
   },
   "outputs": [
    {
     "data": {
      "text/plain": [
       "-0.3141207092709022"
      ]
     },
     "execution_count": 60,
     "metadata": {},
     "output_type": "execute_result"
    },
    {
     "data": {
      "image/png": "[encoded data removed]",
      "text/plain": [
       "<Figure size 432x288 with 1 Axes>"
      ]
     },
     "metadata": {
      "needs_background": "light"
     },
     "output_type": "display_data"
    }
   ],
   "source": [
    "#иследую зависит ли цена от удаленности от центра населенного пункта. Для анализиза построю график корреляции и использую \n",
    "#функцию нахождения попарной корреляции Пирсона\n",
    "df.plot(x = 'city_centers_nearest', y = 'last_price', kind = 'scatter', grid=True,  xlim=(0, 60000),  ylim=(0, 50000000), alpha = 0.3, title='зависимость стоимости от растояния до центра')\n",
    "df['last_price'].corr(df['city_centers_nearest'])\n",
    "\n"
   ]
  },
  {
   "cell_type": "markdown",
   "metadata": {},
   "source": [
    "Из графика видно, что в 15 км от центра большое количество объектов стоят дороже чем за 15 км зоной, однако, на достаточное большое количество объектов растояние до центра не влияет на цену. Это подтверждается коэфициентом корреляции Пирсона равным -0.2, что говорит об умеренном влиянии растояния от объекта до центра на стоимость."
   ]
  },
  {
   "cell_type": "code",
   "execution_count": 61,
   "metadata": {
    "scrolled": false
   },
   "outputs": [
    {
     "data": {
      "image/png": "[encoded data removed]",
      "text/plain": [
       "<Figure size 432x360 with 1 Axes>"
      ]
     },
     "metadata": {
      "needs_background": "light"
     },
     "output_type": "display_data"
    }
   ],
   "source": [
    "#построю график зависимости стоимости от этажа расположения квартиры\n",
    "df.groupby('floor_category')['last_price'].mean().plot(kind='bar', grid=True, figsize=(6,5))\n",
    "\n",
    "plt.title('График зависимости медианной стоимости от этажа')\n",
    "plt.xlabel('этаж')\n",
    "plt.ylabel('Стоимость')\n",
    "plt.show()"
   ]
  },
  {
   "cell_type": "markdown",
   "metadata": {},
   "source": [
    "Из графика видно, что квартиры на первом этаже дешевле."
   ]
  },
  {
   "cell_type": "code",
   "execution_count": 62,
   "metadata": {},
   "outputs": [
    {
     "data": {
      "text/plain": [
       "<matplotlib.axes._subplots.AxesSubplot at 0x7f81d8191750>"
      ]
     },
     "execution_count": 62,
     "metadata": {},
     "output_type": "execute_result"
    },
    {
     "data": {
      "image/png": "[encoded data removed]",
      "text/plain": [
       "<Figure size 432x288 with 1 Axes>"
      ]
     },
     "metadata": {
      "needs_background": "light"
     },
     "output_type": "display_data"
    }
   ],
   "source": [
    "#строю график зависимости стоимости жилья от дня размещения объявления\n",
    "df.plot(x = 'weekday_exposition', y = 'last_price', kind = 'scatter', grid=True,  xlim=(-1, 7),  ylim=(0, 50000000), alpha = 0.3, title='зависимость стоимости  от дня размещения')\n",
    "\n",
    "\n"
   ]
  },
  {
   "cell_type": "markdown",
   "metadata": {},
   "source": [
    "Из графика видно, что в объявлениях размещенных к концу недели стоимость объектов немного ниже.\n"
   ]
  },
  {
   "cell_type": "code",
   "execution_count": 63,
   "metadata": {},
   "outputs": [
    {
     "data": {
      "text/plain": [
       "<matplotlib.axes._subplots.AxesSubplot at 0x7f81e2004290>"
      ]
     },
     "execution_count": 63,
     "metadata": {},
     "output_type": "execute_result"
    },
    {
     "data": {
      "image/png": "[encoded data removed]",
      "text/plain": [
       "<Figure size 432x288 with 1 Axes>"
      ]
     },
     "metadata": {
      "needs_background": "light"
     },
     "output_type": "display_data"
    }
   ],
   "source": [
    "#строю график зависимости стоимости жилья от месяца размещения объявления\n",
    "df.plot(x = 'month_exposition', y = 'last_price', kind = 'scatter', grid=True,  xlim=(0, 13),  ylim=(0, 50000000), alpha = 0.3, title='зависимость стоимости  от месяца размещения')\n",
    "df.groupby('month_exposition')['last_price'].median().plot(grid=True, xlim=(0, 13), ylim=(0, 50000000))\n"
   ]
  },
  {
   "cell_type": "markdown",
   "metadata": {},
   "source": [
    "Из графика видно, что корреляция зависимости от месяцам размещения объявления очень не значительная.\n",
    "\n",
    "<font color='red'> Добавил на график кривую медианной стоимости вывод подтверждается месяц размещения объявления практически не влияет на стоимость </font>"
   ]
  },
  {
   "cell_type": "code",
   "execution_count": 64,
   "metadata": {
    "scrolled": true
   },
   "outputs": [
    {
     "data": {
      "image/png": "[encoded data removed]",
      "text/plain": [
       "<Figure size 432x288 with 1 Axes>"
      ]
     },
     "metadata": {
      "needs_background": "light"
     },
     "output_type": "display_data"
    }
   ],
   "source": [
    "#строю график зависимости стоимости жилья от года размещения объявления\n",
    "#df.plot(x = 'year_exposition', y = 'last_price', kind = 'scatter', grid=True,  xlim=(2013, 2020),  ylim=(0, 50000000), alpha = 0.3)\n",
    "\n",
    "df.groupby('year_exposition')['last_price'].median().plot(grid=True)\n",
    "\n",
    "\n",
    "plt.title('График зависимости цены от года продажи')\n",
    "plt.xlabel('Год продажи')\n",
    "plt.ylabel('Стоимость')\n",
    "plt.show()"
   ]
  },
  {
   "cell_type": "markdown",
   "metadata": {},
   "source": [
    "Чем больше год размещения объявления тем выше цена это обуславливается повышением цен на жилье"
   ]
  },
  {
   "cell_type": "markdown",
   "metadata": {},
   "source": [
    "<div class=\"alert alert-danger\" style=\"border-radius: 15px; box-shadow: 4px 4px 4px;border: 1px solid \">\n",
    "<b> Комментарий ревьюера</b>\n",
    "\n",
    "Не факт. Тут видно количество, но не видны медианы. Попробуй кривую изобразить. Цена в 15 может быть выше, чем в 16.</div>"
   ]
  },
  {
   "cell_type": "markdown",
   "metadata": {},
   "source": [
    "<div class=\"alert alert-info\">\n",
    "<h2> Комментарий студента</h2>\n",
    "\n",
    "Как обычно ты права. Стоимомость квартир в 2015 выше даже чем в 2019. В 2014 году какие то аномальные значения.\n",
    "</div>"
   ]
  },
  {
   "cell_type": "markdown",
   "metadata": {},
   "source": [
    "<div class=\"alert alert-success\" style=\"border-radius: 15px; box-shadow: 4px 4px 4px; border: 1px solid \">\n",
    "<b> Комментарий ревьюера 2</b>\n",
    "    \n",
    "В общем, стоит в первое время пробовать разные графики. Потом ты уже будешь интуитивно понимать, где что лучше отобразит действительность. \n",
    "    \n",
    " </div>"
   ]
  },
  {
   "cell_type": "markdown",
   "metadata": {},
   "source": [
    "# Выберите 10 населённых пунктов с наибольшим числом объявлений. Посчитайте среднюю цену квадратного метра в этих населённых пунктах. Выделите населённые пункты с самой высокой и низкой стоимостью жилья. Эти данные можно найти по имени в столбце 'locality_name'."
   ]
  },
  {
   "cell_type": "code",
   "execution_count": 65,
   "metadata": {
    "scrolled": true
   },
   "outputs": [
    {
     "name": "stdout",
     "output_type": "stream",
     "text": [
      "                   number_of_ads  price_square_meter\n",
      "locality_name                                       \n",
      "Санкт-Петербург            14449       113020.246453\n",
      "посёлок Мурино               460        84891.413043\n",
      "посёлок Шушары               400        78597.125000\n",
      "Всеволожск                   360        68677.969444\n",
      "Пушкин                       347       103422.726225\n",
      "Колпино                      305        75620.301639\n",
      "посёлок Парголово            287        90769.048780\n",
      "Гатчина                      283        68418.300353\n",
      "деревня Кудрово              253        91869.758893\n",
      "Выборг                       207        58222.381643\n"
     ]
    }
   ],
   "source": [
    "#Выбираю топ 10 населенных пунктов по кол-ву объявлений\n",
    "top_10_ads = df.groupby('locality_name')['price_square_meter'].agg(['count', 'mean']).sort_values(by='count', ascending=False).head(10)\n",
    "top_10_ads.columns = ['number_of_ads', 'price_square_meter']\n",
    "\n",
    "print(top_10_ads)"
   ]
  },
  {
   "cell_type": "markdown",
   "metadata": {},
   "source": [
    "В Санкт Петербурге ожидаемо самая высокая цена квадратного метра. В Выборге самая низкая пологаю из-за удаленности от областного центра."
   ]
  },
  {
   "cell_type": "code",
   "execution_count": 66,
   "metadata": {
    "scrolled": false
   },
   "outputs": [
    {
     "data": {
      "text/plain": [
       "<matplotlib.axes._subplots.AxesSubplot at 0x7f81e1f91050>"
      ]
     },
     "execution_count": 66,
     "metadata": {},
     "output_type": "execute_result"
    },
    {
     "data": {
      "image/png": "[encoded data removed]",
      "text/plain": [
       "<Figure size 1008x360 with 1 Axes>"
      ]
     },
     "metadata": {
      "needs_background": "light"
     },
     "output_type": "display_data"
    }
   ],
   "source": [
    "#определение границы центра\n",
    "df.dropna(subset = ['city_centers_nearest'], inplace = True)\n",
    "df['city_centers_nearest'] = df['city_centers_nearest'].astype('int64')\n",
    "df['city_centers_nearest_km'] = df['city_centers_nearest'] /1000\n",
    "df['city_centers_nearest_km'] = df['city_centers_nearest_km'].astype('int64')\n",
    "spb = df.loc[df['locality_name']=='Санкт-Петербург',['last_price', 'city_centers_nearest_km']].reset_index(drop=True)\n",
    "spb.groupby('city_centers_nearest_km')['last_price'].mean().plot(kind='bar', grid=True, figsize=(14,5))\n",
    "#print(spb.sample(10))\n",
    "\n"
   ]
  },
  {
   "cell_type": "markdown",
   "metadata": {},
   "source": [
    "Исходя из графика можно сделать вывод что центральная зона 7 км."
   ]
  },
  {
   "cell_type": "markdown",
   "metadata": {},
   "source": [
    "<div class=\"alert alert-warning\" style=\"border-radius: 15px; box-shadow: 4px 4px 4px; border: 1px solid\">\n",
    "<b> Комментарий ревьюера</b>\n",
    "    \n",
    "Город не такой большой. 7 км захватит еще два района, помимо центра. Предлагаю 3 км. Подъем после 3 можно объяснить тем, что тут появляются особые квартиры с большей площадью, например, или с хорошим видом. И это действительно так и есть. Если взять 5-7 км от центра на север, то попадем на очень и очень дорогую недвижимость с чуть ли не лучшим видом в городе. Хотя это не будет центральным районом. Я тебе предлагаю брать меньший радиус, руководствуясь здравым смыслом: диаметр 14 км это как-то многовато.  Как ты считаешь? Понимаю, что формулировка сбивает, но все же :) \n",
    "</div>"
   ]
  },
  {
   "cell_type": "markdown",
   "metadata": {},
   "source": [
    "<div class=\"alert alert-info\">\n",
    "<h2> Комментарий студента</h2>\n",
    "\n",
    "Открыл карту СПБ и измерил линейкой. Действительно 7 км от центра это очень много. Возьму на вооружение что необходимо пользоватся всеми доступными источниками.\n",
    "\n",
    "Переделаю фильтр ниже.\n",
    "</div>"
   ]
  },
  {
   "cell_type": "markdown",
   "metadata": {},
   "source": [
    "<div class=\"alert alert-success\" style=\"border-radius: 15px; box-shadow: 4px 4px 4px; border: 1px solid \">\n",
    "<b> Комментарий ревьюера 2</b>\n",
    "    \n",
    "Да, я тоже по карте проверяла :)  Но я отталкиваюсь от другого. Я думаю так: а если мы не знаем, что это за город? Тогда остается прикинуть радиус, который подойдет любому городу. Это 3-4 км. Если речь будет идти об очень маленьком городе, то спал мы увидим уже на 1-2 км и скорректируем вывод. \n",
    " </div>"
   ]
  },
  {
   "cell_type": "code",
   "execution_count": 67,
   "metadata": {
    "scrolled": false
   },
   "outputs": [
    {
     "data": {
      "text/html": [
       "<div>\n",
       "<style scoped>\n",
       "    .dataframe tbody tr th:only-of-type {\n",
       "        vertical-align: middle;\n",
       "    }\n",
       "\n",
       "    .dataframe tbody tr th {\n",
       "        vertical-align: top;\n",
       "    }\n",
       "\n",
       "    .dataframe thead th {\n",
       "        text-align: right;\n",
       "    }\n",
       "</style>\n",
       "<table border=\"1\" class=\"dataframe\">\n",
       "  <thead>\n",
       "    <tr style=\"text-align: right;\">\n",
       "      <th></th>\n",
       "      <th>last_price</th>\n",
       "      <th>total_area</th>\n",
       "      <th>rooms</th>\n",
       "      <th>ceiling_height</th>\n",
       "    </tr>\n",
       "  </thead>\n",
       "  <tbody>\n",
       "    <tr>\n",
       "      <td>min</td>\n",
       "      <td>2645000.0</td>\n",
       "      <td>24.4</td>\n",
       "      <td>1.0</td>\n",
       "      <td>2.5</td>\n",
       "    </tr>\n",
       "    <tr>\n",
       "      <td>max</td>\n",
       "      <td>95000000.0</td>\n",
       "      <td>190.0</td>\n",
       "      <td>6.0</td>\n",
       "      <td>4.8</td>\n",
       "    </tr>\n",
       "  </tbody>\n",
       "</table>\n",
       "</div>"
      ],
      "text/plain": [
       "     last_price  total_area  rooms  ceiling_height\n",
       "min   2645000.0        24.4    1.0             2.5\n",
       "max  95000000.0       190.0    6.0             4.8"
      ]
     },
     "metadata": {},
     "output_type": "display_data"
    },
    {
     "data": {
      "text/html": [
       "<div>\n",
       "<style scoped>\n",
       "    .dataframe tbody tr th:only-of-type {\n",
       "        vertical-align: middle;\n",
       "    }\n",
       "\n",
       "    .dataframe tbody tr th {\n",
       "        vertical-align: top;\n",
       "    }\n",
       "\n",
       "    .dataframe thead th {\n",
       "        text-align: right;\n",
       "    }\n",
       "</style>\n",
       "<table border=\"1\" class=\"dataframe\">\n",
       "  <thead>\n",
       "    <tr style=\"text-align: right;\">\n",
       "      <th></th>\n",
       "      <th>last_price</th>\n",
       "      <th>total_area</th>\n",
       "      <th>rooms</th>\n",
       "      <th>ceiling_height</th>\n",
       "    </tr>\n",
       "  </thead>\n",
       "  <tbody>\n",
       "    <tr>\n",
       "      <td>min</td>\n",
       "      <td>1200000.0</td>\n",
       "      <td>20.1</td>\n",
       "      <td>1.0</td>\n",
       "      <td>2.4</td>\n",
       "    </tr>\n",
       "    <tr>\n",
       "      <td>max</td>\n",
       "      <td>95000000.0</td>\n",
       "      <td>199.2</td>\n",
       "      <td>6.0</td>\n",
       "      <td>4.8</td>\n",
       "    </tr>\n",
       "  </tbody>\n",
       "</table>\n",
       "</div>"
      ],
      "text/plain": [
       "     last_price  total_area  rooms  ceiling_height\n",
       "min   1200000.0        20.1    1.0             2.4\n",
       "max  95000000.0       199.2    6.0             4.8"
      ]
     },
     "execution_count": 67,
     "metadata": {},
     "output_type": "execute_result"
    }
   ],
   "source": [
    "#Создаю таблицу по фильтру < 3000м от центра\n",
    "center_of_spb = df.query('city_centers_nearest < 3000 ')\n",
    "#display(center_of_spb.head(5))\n",
    "#Создаю таблицу по фильтру только Санкт-Петербург\n",
    "all_spb = df.query('locality_name == \"Санкт-Петербург\"')\n",
    "#all_spb.head(5)\n",
    "display(center_of_spb[['last_price', 'total_area','rooms', 'ceiling_height' ]].describe().loc[['min', 'max']])\n",
    "all_spb[['last_price', 'total_area','rooms', 'ceiling_height' ]].describe().loc[['min', 'max']]"
   ]
  },
  {
   "cell_type": "code",
   "execution_count": 68,
   "metadata": {
    "scrolled": false
   },
   "outputs": [
    {
     "data": {
      "image/png": "[encoded data removed]",
      "text/plain": [
       "<Figure size 720x288 with 1 Axes>"
      ]
     },
     "metadata": {
      "needs_background": "light"
     },
     "output_type": "display_data"
    },
    {
     "data": {
      "image/png": "[encoded data removed]",
      "text/plain": [
       "<Figure size 720x288 with 1 Axes>"
      ]
     },
     "metadata": {
      "needs_background": "light"
     },
     "output_type": "display_data"
    },
    {
     "data": {
      "image/png": "[encoded data removed]",
      "text/plain": [
       "<Figure size 720x288 with 1 Axes>"
      ]
     },
     "metadata": {
      "needs_background": "light"
     },
     "output_type": "display_data"
    },
    {
     "data": {
      "image/png": "[encoded data removed]",
      "text/plain": [
       "<Figure size 720x288 with 1 Axes>"
      ]
     },
     "metadata": {
      "needs_background": "light"
     },
     "output_type": "display_data"
    },
    {
     "data": {
      "image/png": "[encoded data removed]",
      "text/plain": [
       "<Figure size 720x288 with 1 Axes>"
      ]
     },
     "metadata": {
      "needs_background": "light"
     },
     "output_type": "display_data"
    },
    {
     "data": {
      "image/png": "[encoded data removed]",
      "text/plain": [
       "<Figure size 720x288 with 1 Axes>"
      ]
     },
     "metadata": {
      "needs_background": "light"
     },
     "output_type": "display_data"
    },
    {
     "data": {
      "image/png": "[encoded data removed]",
      "text/plain": [
       "<Figure size 720x288 with 1 Axes>"
      ]
     },
     "metadata": {
      "needs_background": "light"
     },
     "output_type": "display_data"
    },
    {
     "data": {
      "image/png": "[encoded data removed]",
      "text/plain": [
       "<Figure size 720x288 with 1 Axes>"
      ]
     },
     "metadata": {
      "needs_background": "light"
     },
     "output_type": "display_data"
    }
   ],
   "source": [
    "#Надоело рисовать графики по одному. И подумал по чему бы не соорудить цикл. Оказалось так можно. \n",
    "#Графики выше переделывать не буду)\n",
    "\n",
    "for col in ['total_area', 'price_square_meter', 'rooms', 'ceiling_height']:\n",
    "    center_of_spb.plot(y=col, kind='hist', grid=True, figsize=(10,4), bins=75, alpha=1, legend=True, label='center of spb - '+col);\n",
    "    all_spb.plot(y=col, kind='hist', grid=True, figsize=(10,4), bins=75, alpha=0.5, legend=True, label='all spb - '+col);\n",
    "    #plt.show()\n",
    "    \n",
    "    "
   ]
  },
  {
   "cell_type": "markdown",
   "metadata": {},
   "source": [
    "1. в центре продается больше квартир с большой площадью чем по всему Городу\n",
    "2. в центре цена квадратного мертра выше и это очень логично\n",
    "3. в центре продается больше 2х и 3х комнатных квартир, а в городу  1о и 2х комнатных, но и 3х комнатные не сильно отстают\n",
    "4. в центре  квартиры с высотой потолка - 3м продаются чаще(это может быть связано со старой застройкой раньше потолки высокими строили), а в городе с высотой 2,5м(стандарт для современных человейников)"
   ]
  },
  {
   "cell_type": "markdown",
   "metadata": {},
   "source": [
    "<div class=\"alert alert-success\" style=\"border-radius: 15px; box-shadow: 4px 4px 4px; border: 1px solid\">\n",
    "<b> Комментарий ревьюера</b>\n",
    "    \n",
    "Похоже, что в центре квартиры не только дороже, но и просторнее :)</div>\n",
    "<div class=\"alert alert-danger\" style=\"border-radius: 15px; box-shadow: 4px 4px 4px; border: 1px solid\">\n",
    "<b> Комментарий ревьюера</b>\n",
    "\n",
    "Отлично, гистограммы выведены, распределения проанализированы. Но покажут ли они нам зависимость?</div>"
   ]
  },
  {
   "cell_type": "markdown",
   "metadata": {},
   "source": [
    "<div class=\"alert alert-info\">\n",
    "<h2> Комментарий студента</h2>\n",
    "\n",
    "Не совсем понял зависимость от чего нужно посмотреть?\n",
    "</div>"
   ]
  },
  {
   "cell_type": "markdown",
   "metadata": {},
   "source": [
    "<div class=\"alert alert-danger\" style=\"border-radius: 15px; box-shadow: 4px 4px 4px; border: 1px solid \">\n",
    "<b> Комментарий ревьюера 2</b>\n",
    "    \n",
    "Вот, о чем нас спрашивают в ТЗ:\n",
    "    \n",
    "    \n",
    "    \n",
    "> Выделите сегмент квартир в центре. Проанализируйте эту территорию и изучите следующие параметры: площадь, цена, число комнат, высота потолков. Также выделите факторы, которые влияют на стоимость квартиры (число комнат, этаж, удалённость от центра, дата размещения объявления). Сделайте выводы. Отличаются ли они от общих выводов по всему городу?\n",
    "    \n",
    "    \n",
    "    \n",
    "Т.е. нам надо проанализировать влияние комнта, категорий этажей, времени размещения и удаленности от центра для центральной области. Т.к. на коэфф-т корреляции полагаться не стоит, лучше рассмотреть еще и графики зависимости. Те же кривые или точечные. \n",
    "    \n",
    " </div>"
   ]
  },
  {
   "cell_type": "markdown",
   "metadata": {},
   "source": [
    "<div class=\"alert alert-info\">\n",
    "<h2> Комментарий студента</h2>\n",
    "\n",
    "Благодарю за разьяснения. Теперь все понял. Графики построил ниже. Единственно не смог разобратся как построить график по столбцу first_day_exposition поэтому построил по отдельности год, месяц и день недели.\n",
    "</div>"
   ]
  },
  {
   "cell_type": "markdown",
   "metadata": {},
   "source": [
    "<div class=\"alert alert-success\" style=\"border-radius: 15px; box-shadow: 4px 4px 4px; border: 1px solid \">\n",
    "<h2> Комментарий ревьюера 3</h2>\n",
    "    \n",
    "Все правильно, эти столбцы и надо рассмотреть. По first_day можно разве что точечную изобразить, но ее тяжело будет анализировать.\n",
    "    \n",
    " </div>"
   ]
  },
  {
   "cell_type": "code",
   "execution_count": 69,
   "metadata": {},
   "outputs": [
    {
     "data": {
      "image/png": "[encoded data removed]",
      "text/plain": [
       "<Figure size 432x288 with 1 Axes>"
      ]
     },
     "metadata": {
      "needs_background": "light"
     },
     "output_type": "display_data"
    }
   ],
   "source": [
    "center_of_spb.groupby('rooms')['last_price'].median().plot(grid=True, legend=True, label='Центр города')\n",
    "all_spb.groupby('rooms')['last_price'].median().plot(grid=True, legend=True, label='Весь город')\n",
    "plt.title('График зависимости цены от кол-ва комнат')\n",
    "plt.xlabel('Количество комнат')\n",
    "plt.ylabel('Стоимость')\n",
    "plt.show()   "
   ]
  },
  {
   "cell_type": "markdown",
   "metadata": {},
   "source": [
    "В целом линии поторяют друг друга за исключением 3х комнатных квартир по какой-то причине их стоимость во всем городе просела."
   ]
  },
  {
   "cell_type": "code",
   "execution_count": 70,
   "metadata": {},
   "outputs": [
    {
     "data": {
      "image/png": "[encoded data removed]",
      "text/plain": [
       "<Figure size 432x288 with 1 Axes>"
      ]
     },
     "metadata": {
      "needs_background": "light"
     },
     "output_type": "display_data"
    }
   ],
   "source": [
    "center_of_spb.groupby('floor_category')['last_price'].median().plot(grid=True, legend=True, label='Центр города')\n",
    "all_spb.groupby('floor_category')['last_price'].median().plot(grid=True, legend=True, label='Весь город')\n",
    "plt.title('График зависимости цены от этажа')\n",
    "plt.xlabel('Категория этажа')\n",
    "plt.ylabel('Стоимость')\n",
    "plt.show()   "
   ]
  },
  {
   "cell_type": "markdown",
   "metadata": {},
   "source": [
    "Предсказуемо первый этаж не любят даже не смотря на то, что он в центре города. Квартиры на первом этаже дешевле и там и там. Однако, в центре разница стоимости между первым этажем и остальными категориями ярче выражена."
   ]
  },
  {
   "cell_type": "code",
   "execution_count": 71,
   "metadata": {
    "scrolled": true
   },
   "outputs": [
    {
     "data": {
      "text/plain": [
       "<matplotlib.axes._subplots.AxesSubplot at 0x7f81d8270450>"
      ]
     },
     "execution_count": 71,
     "metadata": {},
     "output_type": "execute_result"
    },
    {
     "data": {
      "image/png": "[encoded data removed]",
      "text/plain": [
       "<Figure size 432x288 with 1 Axes>"
      ]
     },
     "metadata": {
      "needs_background": "light"
     },
     "output_type": "display_data"
    },
    {
     "data": {
      "image/png": "[encoded data removed]",
      "text/plain": [
       "<Figure size 432x288 with 1 Axes>"
      ]
     },
     "metadata": {
      "needs_background": "light"
     },
     "output_type": "display_data"
    }
   ],
   "source": [
    "center_of_spb.plot(x = 'city_centers_nearest', y = 'last_price', kind='scatter', grid=True, legend=True, label='Центр города', title='График зависимости цены от растояния до центра')\n",
    "all_spb.plot(x = 'city_centers_nearest', y = 'last_price', kind='scatter', grid=True, legend=True, label='Весь город', title='График зависимости цены от растояния до центра')\n"
   ]
  },
  {
   "cell_type": "markdown",
   "metadata": {},
   "source": [
    "Из графиков видно, что в центральном районе города нет зависимости цены от растояния до центра, а во всем городе небольшая зависимость присутствует."
   ]
  },
  {
   "cell_type": "code",
   "execution_count": 75,
   "metadata": {},
   "outputs": [
    {
     "data": {
      "image/png": "[encoded data removed]",
      "text/plain": [
       "<Figure size 432x288 with 1 Axes>"
      ]
     },
     "metadata": {
      "needs_background": "light"
     },
     "output_type": "display_data"
    }
   ],
   "source": [
    "center_of_spb.groupby('year_exposition')['last_price'].median().plot(grid=True, legend=True, label='Центр города')\n",
    "all_spb.groupby('year_exposition')['last_price'].median().plot(grid=True, legend=True, label='Весь город')\n",
    "\n",
    "plt.title('График зависимости цены от года продажи')\n",
    "plt.xlabel('Год продажи')\n",
    "plt.ylabel('Стоимость')\n",
    "plt.show()"
   ]
  },
  {
   "cell_type": "markdown",
   "metadata": {},
   "source": [
    "По графику видно что в 2014 году квартиры и в центре и во всем городе стоили дороже чем в остальные года, однако, в центре города очень большая разница в стоимости."
   ]
  },
  {
   "cell_type": "code",
   "execution_count": 73,
   "metadata": {},
   "outputs": [
    {
     "data": {
      "image/png": "[encoded data removed]",
      "text/plain": [
       "<Figure size 432x288 with 1 Axes>"
      ]
     },
     "metadata": {
      "needs_background": "light"
     },
     "output_type": "display_data"
    }
   ],
   "source": [
    "center_of_spb.groupby('month_exposition')['last_price'].median().plot(grid=True, legend=True, label='Центр города')\n",
    "all_spb.groupby('month_exposition')['last_price'].median().plot(grid=True, legend=True, label='Весь город')\n",
    "\n",
    "plt.title('График зависимости цены от месяца продажи')\n",
    "plt.xlabel('Месяц продажи')\n",
    "plt.ylabel('Стоимость')\n",
    "plt.show()"
   ]
  },
  {
   "cell_type": "markdown",
   "metadata": {},
   "source": [
    "Весь город имеет не значительную динамику зависимости изменения цены от месяца продажи в то время как в цетре города мы видим ярко выраженый пик в апреле со спадом к июню."
   ]
  },
  {
   "cell_type": "code",
   "execution_count": 76,
   "metadata": {},
   "outputs": [
    {
     "data": {
      "image/png": "[encoded data removed]",
      "text/plain": [
       "<Figure size 432x288 with 1 Axes>"
      ]
     },
     "metadata": {
      "needs_background": "light"
     },
     "output_type": "display_data"
    }
   ],
   "source": [
    "center_of_spb.groupby('weekday_exposition')['last_price'].median().plot(grid=True, legend=True, label='Центр города')\n",
    "all_spb.groupby('weekday_exposition')['last_price'].median().plot(grid=True, legend=True, label='Весь город')\n",
    "\n",
    "plt.title('График зависимости цены от дня продажи')\n",
    "plt.xlabel('День продажи')\n",
    "plt.ylabel('Стоимость')\n",
    "plt.show()"
   ]
  },
  {
   "cell_type": "markdown",
   "metadata": {},
   "source": [
    "Для всего города получаем практически прямую линию, зависимости нет. В центре города к концу недели идет спад."
   ]
  },
  {
   "cell_type": "markdown",
   "metadata": {},
   "source": [
    "<div class=\"alert alert-success\" style=\"border-radius: 15px; box-shadow: 4px 4px 4px; border: 1px solid\">\n",
    "<h2> Комментарий ревьюера 3</h2>\n",
    "    \n",
    "Картина с месяцем и днем недели тянет на случайность. Ведь речь идет о дате размещения и о цене продажи. Разместить можно во вторник в мае, а продать в пятницу в ноябре, по более низкой цене. Это можно даже проверить, построив точно такие же графики для разных лет. Наверняка ситуация будет меняться. А вот год - да, вполне может влиять. Из года в год экономическая ситуация меняется, а вместе с ней и покупательская способность.\n",
    "</div>"
   ]
  },
  {
   "cell_type": "markdown",
   "metadata": {},
   "source": [
    "## Общий вывод"
   ]
  },
  {
   "cell_type": "markdown",
   "metadata": {},
   "source": [
    "Для анализа был предоставлен датафрейм от сервиса яндекс.недвижимость.\n",
    "Первоначальный анализ паказал, что данные в таблице разделены не запятой, а \"\\t\" поэтому пришлось к read_csv пприменить параметр sep=. После чего датафрейм отобразился коректно.\n",
    "В таблице 22 столбца. 2 столбца имеют тип данных bool, 14 столбцов имеют тип данных float64, 3 столбца имеют тип данных int64, 3 столбца имеют тип данных object. Для некоторых столбцов на мой взгляд тип данных неверный. Например для столбца: \"first_day_exposition\" необходимо установить тип данных datetime64 #\"floors_total\" необходимо уставить тип данных int64 так как количество этажей не может быть не целым \"is_apartment\" необходимо уставить тип данных bool так как в этом столбце может быть два значения true false, а все Nan заменить на True \"balcony\" необходимо уставить тип данных int64 так как число балконов не может быть дробным. Так же Nan в этой таблице скорее всего означает отсутствие балкона. Nan необходимо заменить на 0 \"airports_nearest\", \"cityCenters_nearest\", parks_around3000, \"parks_nearest\", ponds_nearest, days_exposition необходимо уставить тип данных int64\n",
    "\n",
    "По заданию было добавлено 7 столбцов и расчитаны дополнительные параметры:\n",
    "цена квадратного метра;\n",
    "день недели, месяц и год публикации объявления;\n",
    "этаж квартиры; варианты — первый, последний, другой;\n",
    "соотношение жилой и общей площади, а также отношение площади кухни к общей.\n",
    "\n",
    "Далее был проведен исследовательский анализ данных в ходе которого было установленно:\n",
    "\n",
    "1. Основная масса продаваемых квартир имеет площадь от 30 до 70 кв метров это соответствует стандартным 1 2х 3х комнатным квартирам. Пик приходится примерно на 45 кв метров это большая однушка или маленькая двушка(самые ходовые квартиры на рынке) в дальнейшем будет выявлено что это характерно для всего города, а в центре предпочитают покупать большие квартиры.\n",
    "\n",
    "2. Подавляющее большинство квартир имеют высоту потолка около 3х метров солидный пик приходится на квартиры с высотой потолка 2.5 метра.\n",
    "\n",
    "3. Основная масса квартир продаются в пределах 200 дней, хотя и от 200 до 400 дней квартир так же много. Быстрой продажей можно считать квартиры проданные за 30 дней. На мой взгляд продажа квартиры после 200 дней это очень долго, хотя некоторые квартиры продаются годами. \n",
    "\n",
    "4. С увеличением площади увеличиватся и стоимость объекта, что в свою очередь очень логично. Корреляция Пирсона составила 0.65 что говорит о заметной силе корреляционной связи.\n",
    "\n",
    "5. Зависимость стоимости объекта от количества комнат существует но не столь очевидна как от площади объкта, об этом так же говорит коэффициент корреляция Пирсона который составил 0.36 что свидетельствует об умеренной силе корреляционной связи\n",
    "\n",
    "6. В 15 км от центра большое количество объектов стоят дороже чем за 15 км зоной, однако, на достаточное большое количество объектов растояние до центра не влияет на цену. Это подтверждается коэфициентом корреляции Пирсона равным -0.2, что говорит об умеренном влиянии растояния от объекта до центра на стоимость. Позже выяснилось, что центром можно считать 7км зону именно за ее пределами стоимоть жилья начинает резко снижаться.\n",
    "\n",
    "7. Квартиры на первом этаже дешевле\n"
   ]
  },
  {
   "cell_type": "markdown",
   "metadata": {},
   "source": [
    "<div class=\"alert alert-warning\" style=\"border-radius: 15px; box-shadow: 4px 4px 4px; border: 1px solid\">\n",
    "<b> Комментарий ревьюера</b>\n",
    "    \n",
    "Вывод хороший. В идеале стоит добавить медианы основных характеристик квартир для центра и для всей выборки, чтобы заказчику было понятно не только то, что квартиры в центре больше и дороже, но и насколько они больше и насколько дороже.\n",
    "</div>"
   ]
  },
  {
   "cell_type": "markdown",
   "metadata": {},
   "source": [
    "## Чек-лист готовности проекта\n",
    "\n",
    "Поставьте 'x' в выполненных пунктах. Далее нажмите Shift+Enter."
   ]
  },
  {
   "cell_type": "markdown",
   "metadata": {},
   "source": [
    "- [x]  открыт файл\n",
    "- [x]  файлы изучены (выведены первые строки, метод info())\n",
    "- [x]  определены пропущенные значения\n",
    "- [x]  заполнены пропущенные значения\n",
    "- [x]  есть пояснение, какие пропущенные значения обнаружены\n",
    "- [x]  изменены типы данных\n",
    "- [x]  есть пояснение, в каких столбцах изменены типы и почему\n",
    "- [x]  посчитано и добавлено в таблицу: цена квадратного метра\n",
    "- [x]  посчитано и добавлено в таблицу: день недели, месяц и год публикации объявления\n",
    "- [x]  посчитано и добавлено в таблицу: этаж квартиры; варианты — первый, последний, другой\n",
    "- [x]  посчитано и добавлено в таблицу: соотношение жилой и общей площади, а также отношение площади кухни к общей\n",
    "- [x]  изучены следующие параметры: площадь, цена, число комнат, высота потолков\n",
    "- [x]  построены гистограммы для каждого параметра\n",
    "- [x]  выполнено задание: \"Изучите время продажи квартиры. Постройте гистограмму. Посчитайте среднее и медиану. Опишите, сколько обычно занимает продажа. Когда можно считать, что продажи прошли очень быстро, а когда необычно долго?\"\n",
    "- [x]  выполнено задание: \"Уберите редкие и выбивающиеся значения. Опишите, какие особенности обнаружили.\"\n",
    "- []  выполнено задание: \"Какие факторы больше всего влияют на стоимость квартиры? Изучите, зависит ли цена от квадратного метра, числа комнат, этажа (первого или последнего), удалённости от центра. Также изучите зависимость от даты размещения: дня недели, месяца и года. \"Выберите 10 населённых пунктов с наибольшим числом объявлений. Посчитайте среднюю цену квадратного метра в этих населённых пунктах. Выделите населённые пункты с самой высокой и низкой стоимостью жилья. Эти данные можно найти по имени в столбце '*locality_name'*. \"\n",
    "- [ ]  выполнено задание: \"Изучите предложения квартир: для каждой квартиры есть информация о расстоянии до центра. Выделите квартиры в Санкт-Петербурге (*'locality_name'*). Ваша задача — выяснить, какая область входит в центр. Создайте столбец с расстоянием до центра в километрах: округлите до целых значений. После этого посчитайте среднюю цену для каждого километра. Постройте график: он должен показывать, как цена зависит от удалённости от центра. Определите границу, где график сильно меняется — это и будет центральная зона. \"\n",
    "- [ ]  выполнено задание: \"Выделите сегмент квартир в центре. Проанализируйте эту территорию и изучите следующие параметры: площадь, цена, число комнат, высота потолков. Также выделите факторы, которые влияют на стоимость квартиры (число комнат, этаж, удалённость от центра, дата размещения объявления). Сделайте выводы. Отличаются ли они от общих выводов по всему городу?\"\n",
    "- [ ]  в каждом этапе есть выводы\n",
    "- [ ]  есть общий вывод"
   ]
  }
 ],
 "metadata": {
  "ExecuteTimeLog": [
   {
    "duration": 850,
    "start_time": "2022-01-10T11:38:42.493Z"
   },
   {
    "duration": 129,
    "start_time": "2022-01-10T11:39:01.664Z"
   },
   {
    "duration": 124,
    "start_time": "2022-01-10T11:39:25.449Z"
   },
   {
    "duration": 106,
    "start_time": "2022-01-10T11:51:57.959Z"
   },
   {
    "duration": 95,
    "start_time": "2022-01-10T11:53:58.840Z"
   },
   {
    "duration": 212,
    "start_time": "2022-01-10T11:55:53.392Z"
   },
   {
    "duration": 106,
    "start_time": "2022-01-10T11:56:57.494Z"
   },
   {
    "duration": 134,
    "start_time": "2022-01-10T12:02:38.416Z"
   },
   {
    "duration": 151,
    "start_time": "2022-01-10T12:05:46.611Z"
   },
   {
    "duration": 201,
    "start_time": "2022-01-10T13:28:12.197Z"
   },
   {
    "duration": 2301,
    "start_time": "2022-01-10T13:51:43.973Z"
   },
   {
    "duration": 43,
    "start_time": "2022-01-10T13:53:26.371Z"
   },
   {
    "duration": 323,
    "start_time": "2022-01-10T13:54:53.986Z"
   },
   {
    "duration": 43,
    "start_time": "2022-01-10T14:04:17.611Z"
   },
   {
    "duration": 74,
    "start_time": "2022-01-10T14:04:37.935Z"
   },
   {
    "duration": 74,
    "start_time": "2022-01-10T14:05:41.681Z"
   },
   {
    "duration": 85,
    "start_time": "2022-01-10T14:06:36.519Z"
   },
   {
    "duration": 79,
    "start_time": "2022-01-10T14:09:17.553Z"
   },
   {
    "duration": 314,
    "start_time": "2022-01-10T14:14:22.051Z"
   },
   {
    "duration": 336,
    "start_time": "2022-01-10T14:16:12.050Z"
   },
   {
    "duration": 73,
    "start_time": "2022-01-10T14:16:29.056Z"
   },
   {
    "duration": 72,
    "start_time": "2022-01-10T14:17:41.564Z"
   },
   {
    "duration": 93,
    "start_time": "2022-01-10T14:20:59.833Z"
   },
   {
    "duration": 115,
    "start_time": "2022-01-10T14:52:26.825Z"
   },
   {
    "duration": 72,
    "start_time": "2022-01-10T14:54:58.517Z"
   },
   {
    "duration": 78,
    "start_time": "2022-01-10T14:55:55.812Z"
   },
   {
    "duration": 325,
    "start_time": "2022-01-10T15:00:04.095Z"
   },
   {
    "duration": 320,
    "start_time": "2022-01-10T15:04:31.760Z"
   },
   {
    "duration": 308,
    "start_time": "2022-01-10T15:04:49.222Z"
   },
   {
    "duration": 180,
    "start_time": "2022-01-10T15:06:01.048Z"
   },
   {
    "duration": 104,
    "start_time": "2022-01-10T15:06:01.231Z"
   },
   {
    "duration": 77,
    "start_time": "2022-01-10T15:07:30.352Z"
   },
   {
    "duration": 321,
    "start_time": "2022-01-10T15:08:02.703Z"
   },
   {
    "duration": 479,
    "start_time": "2022-01-10T15:24:29.737Z"
   },
   {
    "duration": 288,
    "start_time": "2022-01-10T15:24:58.865Z"
   },
   {
    "duration": 282,
    "start_time": "2022-01-10T15:25:40.414Z"
   },
   {
    "duration": 90,
    "start_time": "2022-01-10T15:26:28.425Z"
   },
   {
    "duration": 968,
    "start_time": "2022-01-12T11:03:27.174Z"
   },
   {
    "duration": 80,
    "start_time": "2022-01-12T11:03:28.145Z"
   },
   {
    "duration": 8368,
    "start_time": "2022-01-12T11:08:19.813Z"
   },
   {
    "duration": 187,
    "start_time": "2022-01-12T11:08:31.864Z"
   },
   {
    "duration": 67,
    "start_time": "2022-01-12T11:08:32.054Z"
   },
   {
    "duration": 39,
    "start_time": "2022-01-12T11:10:44.345Z"
   },
   {
    "duration": 47,
    "start_time": "2022-01-12T11:12:47.412Z"
   },
   {
    "duration": 174,
    "start_time": "2022-01-12T11:32:41.343Z"
   },
   {
    "duration": 131,
    "start_time": "2022-01-12T11:32:41.520Z"
   },
   {
    "duration": -125,
    "start_time": "2022-01-12T11:32:41.778Z"
   },
   {
    "duration": 164,
    "start_time": "2022-01-12T11:32:54.369Z"
   },
   {
    "duration": 330,
    "start_time": "2022-01-12T11:32:54.535Z"
   },
   {
    "duration": -46,
    "start_time": "2022-01-12T11:32:54.913Z"
   },
   {
    "duration": 194,
    "start_time": "2022-01-12T11:33:11.584Z"
   },
   {
    "duration": 99,
    "start_time": "2022-01-12T11:33:11.780Z"
   },
   {
    "duration": 74,
    "start_time": "2022-01-12T11:33:11.883Z"
   },
   {
    "duration": 42,
    "start_time": "2022-01-12T11:36:50.459Z"
   },
   {
    "duration": 231,
    "start_time": "2022-01-12T15:32:42.625Z"
   },
   {
    "duration": 723,
    "start_time": "2022-01-12T15:32:47.907Z"
   },
   {
    "duration": 44,
    "start_time": "2022-01-12T15:32:48.632Z"
   },
   {
    "duration": 26,
    "start_time": "2022-01-12T15:32:48.678Z"
   },
   {
    "duration": 117,
    "start_time": "2022-01-12T15:41:42.560Z"
   },
   {
    "duration": 38,
    "start_time": "2022-01-12T15:41:42.679Z"
   },
   {
    "duration": 44,
    "start_time": "2022-01-12T15:41:42.719Z"
   },
   {
    "duration": 28,
    "start_time": "2022-01-12T15:43:20.515Z"
   },
   {
    "duration": 51,
    "start_time": "2022-01-12T15:52:52.965Z"
   },
   {
    "duration": 495,
    "start_time": "2022-01-12T15:56:50.354Z"
   },
   {
    "duration": 201,
    "start_time": "2022-01-12T16:03:15.996Z"
   },
   {
    "duration": 453,
    "start_time": "2022-01-12T16:03:25.188Z"
   },
   {
    "duration": 296,
    "start_time": "2022-01-12T16:03:38.946Z"
   },
   {
    "duration": 180,
    "start_time": "2022-01-12T16:03:47.426Z"
   },
   {
    "duration": 243,
    "start_time": "2022-01-12T16:04:06.129Z"
   },
   {
    "duration": 393,
    "start_time": "2022-01-12T16:04:20.633Z"
   },
   {
    "duration": 704,
    "start_time": "2022-01-12T16:04:57.729Z"
   },
   {
    "duration": 595,
    "start_time": "2022-01-12T16:05:50.680Z"
   },
   {
    "duration": 377,
    "start_time": "2022-01-12T16:06:18.249Z"
   },
   {
    "duration": 86,
    "start_time": "2022-01-12T16:06:37.967Z"
   },
   {
    "duration": 431,
    "start_time": "2022-01-12T16:06:46.921Z"
   },
   {
    "duration": 375,
    "start_time": "2022-01-12T16:07:03.159Z"
   },
   {
    "duration": 488,
    "start_time": "2022-01-12T16:08:03.230Z"
   },
   {
    "duration": 446,
    "start_time": "2022-01-12T16:08:33.389Z"
   },
   {
    "duration": 386,
    "start_time": "2022-01-12T16:08:41.712Z"
   },
   {
    "duration": 450,
    "start_time": "2022-01-12T16:09:31.901Z"
   },
   {
    "duration": 465,
    "start_time": "2022-01-12T16:09:45.895Z"
   },
   {
    "duration": 492,
    "start_time": "2022-01-12T16:09:54.037Z"
   },
   {
    "duration": 384,
    "start_time": "2022-01-12T16:10:07.493Z"
   },
   {
    "duration": 449,
    "start_time": "2022-01-12T16:10:17.637Z"
   },
   {
    "duration": 438,
    "start_time": "2022-01-12T16:10:26.958Z"
   },
   {
    "duration": 456,
    "start_time": "2022-01-12T16:10:54.821Z"
   },
   {
    "duration": 846,
    "start_time": "2022-01-12T16:11:03.837Z"
   },
   {
    "duration": 310,
    "start_time": "2022-01-12T16:11:10.533Z"
   },
   {
    "duration": 390,
    "start_time": "2022-01-12T16:11:19.445Z"
   },
   {
    "duration": 398,
    "start_time": "2022-01-12T16:12:08.701Z"
   },
   {
    "duration": 387,
    "start_time": "2022-01-12T16:12:25.957Z"
   },
   {
    "duration": 568,
    "start_time": "2022-01-12T16:13:31.354Z"
   },
   {
    "duration": 383,
    "start_time": "2022-01-12T16:13:45.403Z"
   },
   {
    "duration": 413,
    "start_time": "2022-01-12T16:16:27.346Z"
   },
   {
    "duration": 378,
    "start_time": "2022-01-12T16:16:49.536Z"
   },
   {
    "duration": 387,
    "start_time": "2022-01-12T16:17:22.148Z"
   },
   {
    "duration": 390,
    "start_time": "2022-01-12T16:17:40.880Z"
   },
   {
    "duration": 382,
    "start_time": "2022-01-12T16:17:55.205Z"
   },
   {
    "duration": 591,
    "start_time": "2022-01-12T16:18:06.423Z"
   },
   {
    "duration": 383,
    "start_time": "2022-01-12T16:22:49.410Z"
   },
   {
    "duration": 603,
    "start_time": "2022-01-12T16:24:12.130Z"
   },
   {
    "duration": 404,
    "start_time": "2022-01-12T16:24:23.696Z"
   },
   {
    "duration": 437,
    "start_time": "2022-01-12T16:25:03.937Z"
   },
   {
    "duration": 395,
    "start_time": "2022-01-12T16:29:13.589Z"
   },
   {
    "duration": 392,
    "start_time": "2022-01-12T16:29:37.411Z"
   },
   {
    "duration": 391,
    "start_time": "2022-01-12T16:39:15.029Z"
   },
   {
    "duration": 671,
    "start_time": "2022-01-12T16:40:09.482Z"
   },
   {
    "duration": 438,
    "start_time": "2022-01-12T16:40:35.011Z"
   },
   {
    "duration": 390,
    "start_time": "2022-01-12T16:41:54.168Z"
   },
   {
    "duration": 447,
    "start_time": "2022-01-12T16:44:34.108Z"
   },
   {
    "duration": 373,
    "start_time": "2022-01-12T16:45:28.668Z"
   },
   {
    "duration": 397,
    "start_time": "2022-01-12T16:47:34.618Z"
   },
   {
    "duration": 401,
    "start_time": "2022-01-12T16:51:51.336Z"
   },
   {
    "duration": 372,
    "start_time": "2022-01-12T16:53:16.276Z"
   },
   {
    "duration": 375,
    "start_time": "2022-01-12T16:53:28.343Z"
   },
   {
    "duration": 670,
    "start_time": "2022-01-12T16:53:33.685Z"
   },
   {
    "duration": 369,
    "start_time": "2022-01-12T16:53:44.861Z"
   },
   {
    "duration": 375,
    "start_time": "2022-01-12T16:53:52.555Z"
   },
   {
    "duration": 397,
    "start_time": "2022-01-12T16:57:15.935Z"
   },
   {
    "duration": 437,
    "start_time": "2022-01-12T16:59:13.151Z"
   },
   {
    "duration": 450,
    "start_time": "2022-01-12T16:59:24.509Z"
   },
   {
    "duration": 436,
    "start_time": "2022-01-12T16:59:42.487Z"
   },
   {
    "duration": 491,
    "start_time": "2022-01-12T17:01:03.310Z"
   },
   {
    "duration": 543,
    "start_time": "2022-01-12T17:01:16.054Z"
   },
   {
    "duration": 822,
    "start_time": "2022-01-12T17:01:47.295Z"
   },
   {
    "duration": 383,
    "start_time": "2022-01-12T17:03:22.402Z"
   },
   {
    "duration": 411,
    "start_time": "2022-01-12T17:03:31.771Z"
   },
   {
    "duration": 444,
    "start_time": "2022-01-12T17:04:22.946Z"
   },
   {
    "duration": 428,
    "start_time": "2022-01-12T17:08:57.261Z"
   },
   {
    "duration": 378,
    "start_time": "2022-01-12T17:10:14.611Z"
   },
   {
    "duration": 426,
    "start_time": "2022-01-12T17:10:27.004Z"
   },
   {
    "duration": 414,
    "start_time": "2022-01-12T17:10:33.353Z"
   },
   {
    "duration": 392,
    "start_time": "2022-01-12T17:20:02.199Z"
   },
   {
    "duration": 667,
    "start_time": "2022-01-12T17:20:13.422Z"
   },
   {
    "duration": 742,
    "start_time": "2022-01-12T17:20:56.336Z"
   },
   {
    "duration": 77,
    "start_time": "2022-01-12T17:30:34.524Z"
   },
   {
    "duration": 71,
    "start_time": "2022-01-12T17:32:45.300Z"
   },
   {
    "duration": 334,
    "start_time": "2022-01-13T11:12:42.939Z"
   },
   {
    "duration": 962,
    "start_time": "2022-01-13T11:12:49.039Z"
   },
   {
    "duration": 65,
    "start_time": "2022-01-13T11:12:50.016Z"
   },
   {
    "duration": 913,
    "start_time": "2022-01-13T11:12:50.084Z"
   },
   {
    "duration": 912,
    "start_time": "2022-01-13T11:12:51.001Z"
   },
   {
    "duration": 787,
    "start_time": "2022-01-13T11:12:51.915Z"
   },
   {
    "duration": 823,
    "start_time": "2022-01-13T11:12:52.705Z"
   },
   {
    "duration": 920,
    "start_time": "2022-01-13T11:12:53.532Z"
   },
   {
    "duration": 758,
    "start_time": "2022-01-13T11:12:54.456Z"
   },
   {
    "duration": 112,
    "start_time": "2022-01-13T11:12:55.217Z"
   },
   {
    "duration": 13,
    "start_time": "2022-01-13T11:16:12.087Z"
   },
   {
    "duration": 16680,
    "start_time": "2022-01-13T11:16:34.505Z"
   },
   {
    "duration": 16504,
    "start_time": "2022-01-13T11:20:47.334Z"
   },
   {
    "duration": 7333,
    "start_time": "2022-01-13T11:21:52.965Z"
   },
   {
    "duration": 96,
    "start_time": "2022-01-13T11:23:00.764Z"
   },
   {
    "duration": 107,
    "start_time": "2022-01-13T11:24:28.712Z"
   },
   {
    "duration": 9,
    "start_time": "2022-01-13T11:24:48.346Z"
   },
   {
    "duration": 345,
    "start_time": "2022-01-13T11:25:13.024Z"
   },
   {
    "duration": 28,
    "start_time": "2022-01-13T11:25:24.369Z"
   },
   {
    "duration": 422,
    "start_time": "2022-01-13T11:25:53.427Z"
   },
   {
    "duration": 742,
    "start_time": "2022-01-13T11:32:03.002Z"
   },
   {
    "duration": 743,
    "start_time": "2022-01-13T11:46:04.415Z"
   },
   {
    "duration": 698,
    "start_time": "2022-01-13T11:46:35.038Z"
   },
   {
    "duration": 683,
    "start_time": "2022-01-13T11:51:50.828Z"
   },
   {
    "duration": 679,
    "start_time": "2022-01-13T11:52:02.570Z"
   },
   {
    "duration": 1174,
    "start_time": "2022-01-13T11:59:22.164Z"
   },
   {
    "duration": 29,
    "start_time": "2022-01-13T12:06:57.698Z"
   },
   {
    "duration": 181,
    "start_time": "2022-01-13T12:07:15.115Z"
   },
   {
    "duration": 65,
    "start_time": "2022-01-13T12:07:15.318Z"
   },
   {
    "duration": 919,
    "start_time": "2022-01-13T12:07:15.387Z"
   },
   {
    "duration": 734,
    "start_time": "2022-01-13T12:07:16.309Z"
   },
   {
    "duration": 740,
    "start_time": "2022-01-13T12:07:17.046Z"
   },
   {
    "duration": 743,
    "start_time": "2022-01-13T12:07:17.788Z"
   },
   {
    "duration": 895,
    "start_time": "2022-01-13T12:07:18.533Z"
   },
   {
    "duration": 822,
    "start_time": "2022-01-13T12:07:19.432Z"
   },
   {
    "duration": 730,
    "start_time": "2022-01-13T12:07:20.258Z"
   },
   {
    "duration": 54,
    "start_time": "2022-01-13T12:07:20.991Z"
   },
   {
    "duration": 745,
    "start_time": "2022-01-13T12:09:10.136Z"
   },
   {
    "duration": 880,
    "start_time": "2022-01-13T12:15:56.095Z"
   },
   {
    "duration": 747,
    "start_time": "2022-01-13T12:17:03.150Z"
   },
   {
    "duration": 724,
    "start_time": "2022-01-13T12:23:42.303Z"
   },
   {
    "duration": 721,
    "start_time": "2022-01-13T12:23:51.296Z"
   },
   {
    "duration": 1187,
    "start_time": "2022-01-13T12:24:22.096Z"
   },
   {
    "duration": 766,
    "start_time": "2022-01-13T12:24:57.886Z"
   },
   {
    "duration": 767,
    "start_time": "2022-01-13T12:25:29.773Z"
   },
   {
    "duration": 178,
    "start_time": "2022-01-13T12:38:43.340Z"
   },
   {
    "duration": 58,
    "start_time": "2022-01-13T12:38:43.521Z"
   },
   {
    "duration": 962,
    "start_time": "2022-01-13T12:38:43.583Z"
   },
   {
    "duration": 694,
    "start_time": "2022-01-13T12:38:44.549Z"
   },
   {
    "duration": 792,
    "start_time": "2022-01-13T12:38:45.246Z"
   },
   {
    "duration": 703,
    "start_time": "2022-01-13T12:38:46.040Z"
   },
   {
    "duration": 797,
    "start_time": "2022-01-13T12:38:46.745Z"
   },
   {
    "duration": 717,
    "start_time": "2022-01-13T12:38:47.545Z"
   },
   {
    "duration": 695,
    "start_time": "2022-01-13T12:38:48.267Z"
   },
   {
    "duration": 735,
    "start_time": "2022-01-13T12:38:48.964Z"
   },
   {
    "duration": 717,
    "start_time": "2022-01-13T12:40:03.711Z"
   },
   {
    "duration": 732,
    "start_time": "2022-01-13T12:47:30.930Z"
   },
   {
    "duration": 180,
    "start_time": "2022-01-13T12:57:40.394Z"
   },
   {
    "duration": 75,
    "start_time": "2022-01-13T12:57:40.577Z"
   },
   {
    "duration": 962,
    "start_time": "2022-01-13T12:57:40.655Z"
   },
   {
    "duration": 756,
    "start_time": "2022-01-13T12:57:41.620Z"
   },
   {
    "duration": 786,
    "start_time": "2022-01-13T12:57:42.379Z"
   },
   {
    "duration": 697,
    "start_time": "2022-01-13T12:57:43.168Z"
   },
   {
    "duration": 704,
    "start_time": "2022-01-13T12:57:43.867Z"
   },
   {
    "duration": 705,
    "start_time": "2022-01-13T12:57:44.574Z"
   },
   {
    "duration": 1217,
    "start_time": "2022-01-13T12:57:45.282Z"
   },
   {
    "duration": 782,
    "start_time": "2022-01-13T12:57:46.502Z"
   },
   {
    "duration": 780,
    "start_time": "2022-01-13T12:57:47.286Z"
   },
   {
    "duration": 723,
    "start_time": "2022-01-13T13:01:17.496Z"
   },
   {
    "duration": 723,
    "start_time": "2022-01-13T13:03:43.440Z"
   },
   {
    "duration": 741,
    "start_time": "2022-01-13T13:04:13.229Z"
   },
   {
    "duration": 1024,
    "start_time": "2022-01-13T13:04:34.822Z"
   },
   {
    "duration": 763,
    "start_time": "2022-01-13T13:04:54.212Z"
   },
   {
    "duration": 709,
    "start_time": "2022-01-13T14:21:57.001Z"
   },
   {
    "duration": 177,
    "start_time": "2022-01-13T14:22:15.819Z"
   },
   {
    "duration": 60,
    "start_time": "2022-01-13T14:22:16.019Z"
   },
   {
    "duration": 882,
    "start_time": "2022-01-13T14:22:16.083Z"
   },
   {
    "duration": 677,
    "start_time": "2022-01-13T14:22:16.968Z"
   },
   {
    "duration": 707,
    "start_time": "2022-01-13T14:22:17.647Z"
   },
   {
    "duration": 699,
    "start_time": "2022-01-13T14:22:18.357Z"
   },
   {
    "duration": 684,
    "start_time": "2022-01-13T14:22:19.059Z"
   },
   {
    "duration": 688,
    "start_time": "2022-01-13T14:22:19.746Z"
   },
   {
    "duration": 729,
    "start_time": "2022-01-13T14:22:20.437Z"
   },
   {
    "duration": 761,
    "start_time": "2022-01-13T14:22:21.169Z"
   },
   {
    "duration": 776,
    "start_time": "2022-01-13T14:22:21.932Z"
   },
   {
    "duration": 163,
    "start_time": "2022-01-13T14:23:29.073Z"
   },
   {
    "duration": 53,
    "start_time": "2022-01-13T14:23:29.238Z"
   },
   {
    "duration": 860,
    "start_time": "2022-01-13T14:23:29.294Z"
   },
   {
    "duration": 690,
    "start_time": "2022-01-13T14:23:30.157Z"
   },
   {
    "duration": 709,
    "start_time": "2022-01-13T14:23:30.850Z"
   },
   {
    "duration": 701,
    "start_time": "2022-01-13T14:23:31.562Z"
   },
   {
    "duration": 710,
    "start_time": "2022-01-13T14:23:32.266Z"
   },
   {
    "duration": 708,
    "start_time": "2022-01-13T14:23:32.979Z"
   },
   {
    "duration": 1306,
    "start_time": "2022-01-13T14:23:33.690Z"
   },
   {
    "duration": 788,
    "start_time": "2022-01-13T14:23:34.999Z"
   },
   {
    "duration": 751,
    "start_time": "2022-01-13T14:23:35.789Z"
   },
   {
    "duration": 689,
    "start_time": "2022-01-13T14:24:56.749Z"
   },
   {
    "duration": 711,
    "start_time": "2022-01-13T14:26:47.346Z"
   },
   {
    "duration": 701,
    "start_time": "2022-01-13T14:27:02.202Z"
   },
   {
    "duration": 7074,
    "start_time": "2022-01-13T14:39:20.915Z"
   },
   {
    "duration": 165,
    "start_time": "2022-01-13T14:39:39.566Z"
   },
   {
    "duration": 56,
    "start_time": "2022-01-13T14:39:39.734Z"
   },
   {
    "duration": 917,
    "start_time": "2022-01-13T14:39:39.817Z"
   },
   {
    "duration": 691,
    "start_time": "2022-01-13T14:39:40.737Z"
   },
   {
    "duration": 724,
    "start_time": "2022-01-13T14:39:41.431Z"
   },
   {
    "duration": 749,
    "start_time": "2022-01-13T14:39:42.158Z"
   },
   {
    "duration": 702,
    "start_time": "2022-01-13T14:39:42.910Z"
   },
   {
    "duration": 731,
    "start_time": "2022-01-13T14:39:43.618Z"
   },
   {
    "duration": 4,
    "start_time": "2022-01-13T14:39:44.352Z"
   },
   {
    "duration": 751,
    "start_time": "2022-01-13T14:39:44.358Z"
   },
   {
    "duration": 769,
    "start_time": "2022-01-13T14:39:45.116Z"
   },
   {
    "duration": 7206,
    "start_time": "2022-01-13T14:44:09.238Z"
   },
   {
    "duration": 157,
    "start_time": "2022-01-13T14:44:19.542Z"
   },
   {
    "duration": 80,
    "start_time": "2022-01-13T14:44:19.701Z"
   },
   {
    "duration": 838,
    "start_time": "2022-01-13T14:44:19.784Z"
   },
   {
    "duration": 693,
    "start_time": "2022-01-13T14:44:20.625Z"
   },
   {
    "duration": 681,
    "start_time": "2022-01-13T14:44:21.321Z"
   },
   {
    "duration": 725,
    "start_time": "2022-01-13T14:44:22.004Z"
   },
   {
    "duration": 692,
    "start_time": "2022-01-13T14:44:22.731Z"
   },
   {
    "duration": 698,
    "start_time": "2022-01-13T14:44:23.428Z"
   },
   {
    "duration": 3,
    "start_time": "2022-01-13T14:44:24.130Z"
   },
   {
    "duration": 760,
    "start_time": "2022-01-13T14:44:24.136Z"
   },
   {
    "duration": 818,
    "start_time": "2022-01-13T14:44:24.899Z"
   },
   {
    "duration": 736,
    "start_time": "2022-01-13T14:45:55.801Z"
   },
   {
    "duration": 631,
    "start_time": "2022-01-13T14:49:12.452Z"
   },
   {
    "duration": 610,
    "start_time": "2022-01-13T14:49:34.779Z"
   },
   {
    "duration": 710,
    "start_time": "2022-01-13T14:49:42.650Z"
   },
   {
    "duration": 707,
    "start_time": "2022-01-13T14:50:00.442Z"
   },
   {
    "duration": 661,
    "start_time": "2022-01-13T14:50:08.964Z"
   },
   {
    "duration": 699,
    "start_time": "2022-01-13T14:50:19.523Z"
   },
   {
    "duration": 706,
    "start_time": "2022-01-13T14:52:34.649Z"
   },
   {
    "duration": 714,
    "start_time": "2022-01-13T14:52:43.432Z"
   },
   {
    "duration": 274,
    "start_time": "2022-01-13T15:06:33.170Z"
   },
   {
    "duration": 243,
    "start_time": "2022-01-13T15:08:18.687Z"
   },
   {
    "duration": 1324,
    "start_time": "2022-01-13T15:09:06.020Z"
   },
   {
    "duration": 655,
    "start_time": "2022-01-13T15:09:16.614Z"
   },
   {
    "duration": 670,
    "start_time": "2022-01-13T15:09:26.383Z"
   },
   {
    "duration": 690,
    "start_time": "2022-01-13T15:09:36.798Z"
   },
   {
    "duration": 433,
    "start_time": "2022-01-13T15:12:32.307Z"
   },
   {
    "duration": 246,
    "start_time": "2022-01-13T15:14:49.048Z"
   },
   {
    "duration": 255,
    "start_time": "2022-01-13T15:14:59.712Z"
   },
   {
    "duration": 248,
    "start_time": "2022-01-13T15:15:04.296Z"
   },
   {
    "duration": 681,
    "start_time": "2022-01-13T15:16:10.592Z"
   },
   {
    "duration": 764,
    "start_time": "2022-01-13T15:16:29.598Z"
   },
   {
    "duration": 747,
    "start_time": "2022-01-13T15:17:00.830Z"
   },
   {
    "duration": 35,
    "start_time": "2022-01-13T15:30:23.138Z"
   },
   {
    "duration": 2157,
    "start_time": "2022-01-13T15:32:10.314Z"
   },
   {
    "duration": 1938,
    "start_time": "2022-01-13T15:33:06.584Z"
   },
   {
    "duration": 2096,
    "start_time": "2022-01-13T15:34:04.021Z"
   },
   {
    "duration": 2101,
    "start_time": "2022-01-13T15:34:34.940Z"
   },
   {
    "duration": 2117,
    "start_time": "2022-01-13T15:35:05.406Z"
   },
   {
    "duration": 2066,
    "start_time": "2022-01-13T15:35:24.051Z"
   },
   {
    "duration": 2079,
    "start_time": "2022-01-13T15:35:42.971Z"
   },
   {
    "duration": 2065,
    "start_time": "2022-01-13T15:35:59.290Z"
   },
   {
    "duration": 98,
    "start_time": "2022-01-13T15:37:25.600Z"
   },
   {
    "duration": 8,
    "start_time": "2022-01-13T15:37:33.568Z"
   },
   {
    "duration": 9,
    "start_time": "2022-01-13T15:37:55.144Z"
   },
   {
    "duration": 950,
    "start_time": "2022-01-13T15:39:33.294Z"
   },
   {
    "duration": 846,
    "start_time": "2022-01-13T15:39:52.112Z"
   },
   {
    "duration": 673,
    "start_time": "2022-01-13T15:41:36.292Z"
   },
   {
    "duration": 686,
    "start_time": "2022-01-13T15:48:35.070Z"
   },
   {
    "duration": 716,
    "start_time": "2022-01-13T15:49:22.045Z"
   },
   {
    "duration": 677,
    "start_time": "2022-01-13T15:49:32.588Z"
   },
   {
    "duration": 195,
    "start_time": "2022-01-13T15:49:38.697Z"
   },
   {
    "duration": 87,
    "start_time": "2022-01-13T15:49:38.895Z"
   },
   {
    "duration": 903,
    "start_time": "2022-01-13T15:49:38.986Z"
   },
   {
    "duration": 713,
    "start_time": "2022-01-13T15:49:39.892Z"
   },
   {
    "duration": 716,
    "start_time": "2022-01-13T15:49:40.608Z"
   },
   {
    "duration": 697,
    "start_time": "2022-01-13T15:49:41.326Z"
   },
   {
    "duration": 689,
    "start_time": "2022-01-13T15:49:42.026Z"
   },
   {
    "duration": 683,
    "start_time": "2022-01-13T15:49:42.719Z"
   },
   {
    "duration": 1456,
    "start_time": "2022-01-13T15:49:43.404Z"
   },
   {
    "duration": 736,
    "start_time": "2022-01-13T15:49:44.862Z"
   },
   {
    "duration": 831,
    "start_time": "2022-01-13T15:49:45.600Z"
   },
   {
    "duration": 722,
    "start_time": "2022-01-13T15:49:46.434Z"
   },
   {
    "duration": 264,
    "start_time": "2022-01-13T15:49:47.159Z"
   },
   {
    "duration": 2092,
    "start_time": "2022-01-13T15:49:47.425Z"
   },
   {
    "duration": 8,
    "start_time": "2022-01-13T15:49:49.519Z"
   },
   {
    "duration": 828,
    "start_time": "2022-01-13T15:52:11.001Z"
   },
   {
    "duration": 178,
    "start_time": "2022-01-13T15:52:20.342Z"
   },
   {
    "duration": 69,
    "start_time": "2022-01-13T15:52:20.524Z"
   },
   {
    "duration": 898,
    "start_time": "2022-01-13T15:52:20.619Z"
   },
   {
    "duration": 733,
    "start_time": "2022-01-13T15:52:21.522Z"
   },
   {
    "duration": 915,
    "start_time": "2022-01-13T15:52:22.259Z"
   },
   {
    "duration": 746,
    "start_time": "2022-01-13T15:52:23.176Z"
   },
   {
    "duration": 723,
    "start_time": "2022-01-13T15:52:23.926Z"
   },
   {
    "duration": 728,
    "start_time": "2022-01-13T15:52:24.653Z"
   },
   {
    "duration": 741,
    "start_time": "2022-01-13T15:52:25.385Z"
   },
   {
    "duration": 804,
    "start_time": "2022-01-13T15:52:26.129Z"
   },
   {
    "duration": 777,
    "start_time": "2022-01-13T15:52:26.935Z"
   },
   {
    "duration": 753,
    "start_time": "2022-01-13T15:52:27.714Z"
   },
   {
    "duration": 271,
    "start_time": "2022-01-13T15:52:28.470Z"
   },
   {
    "duration": 2163,
    "start_time": "2022-01-13T15:52:28.743Z"
   },
   {
    "duration": 18,
    "start_time": "2022-01-13T15:52:30.910Z"
   },
   {
    "duration": 7363,
    "start_time": "2022-01-13T15:54:53.580Z"
   },
   {
    "duration": 7280,
    "start_time": "2022-01-13T15:55:17.824Z"
   },
   {
    "duration": 202,
    "start_time": "2022-01-13T15:55:28.580Z"
   },
   {
    "duration": 88,
    "start_time": "2022-01-13T15:55:28.785Z"
   },
   {
    "duration": 989,
    "start_time": "2022-01-13T15:55:28.876Z"
   },
   {
    "duration": 761,
    "start_time": "2022-01-13T15:55:29.868Z"
   },
   {
    "duration": 845,
    "start_time": "2022-01-13T15:55:30.632Z"
   },
   {
    "duration": 766,
    "start_time": "2022-01-13T15:55:31.480Z"
   },
   {
    "duration": 762,
    "start_time": "2022-01-13T15:55:32.249Z"
   },
   {
    "duration": 735,
    "start_time": "2022-01-13T15:55:33.020Z"
   },
   {
    "duration": 755,
    "start_time": "2022-01-13T15:55:33.758Z"
   },
   {
    "duration": 816,
    "start_time": "2022-01-13T15:55:34.517Z"
   },
   {
    "duration": 896,
    "start_time": "2022-01-13T15:55:35.337Z"
   },
   {
    "duration": 801,
    "start_time": "2022-01-13T15:55:36.236Z"
   },
   {
    "duration": 289,
    "start_time": "2022-01-13T15:55:37.040Z"
   },
   {
    "duration": 2392,
    "start_time": "2022-01-13T15:55:37.332Z"
   },
   {
    "duration": 11,
    "start_time": "2022-01-13T15:55:39.727Z"
   },
   {
    "duration": 180,
    "start_time": "2022-01-13T15:57:17.158Z"
   },
   {
    "duration": 94,
    "start_time": "2022-01-13T15:57:17.341Z"
   },
   {
    "duration": 890,
    "start_time": "2022-01-13T15:57:17.439Z"
   },
   {
    "duration": 749,
    "start_time": "2022-01-13T15:57:18.332Z"
   },
   {
    "duration": 760,
    "start_time": "2022-01-13T15:57:19.083Z"
   },
   {
    "duration": 1752,
    "start_time": "2022-01-13T15:57:19.845Z"
   },
   {
    "duration": 766,
    "start_time": "2022-01-13T15:57:21.599Z"
   },
   {
    "duration": 782,
    "start_time": "2022-01-13T15:57:22.369Z"
   },
   {
    "duration": 793,
    "start_time": "2022-01-13T15:57:23.153Z"
   },
   {
    "duration": 811,
    "start_time": "2022-01-13T15:57:23.948Z"
   },
   {
    "duration": 742,
    "start_time": "2022-01-13T15:57:24.762Z"
   },
   {
    "duration": 767,
    "start_time": "2022-01-13T15:57:25.507Z"
   },
   {
    "duration": 318,
    "start_time": "2022-01-13T15:57:26.277Z"
   },
   {
    "duration": 2335,
    "start_time": "2022-01-13T15:57:26.598Z"
   },
   {
    "duration": 10,
    "start_time": "2022-01-13T15:57:28.936Z"
   },
   {
    "duration": 1293,
    "start_time": "2022-01-13T15:58:53.916Z"
   },
   {
    "duration": 1292,
    "start_time": "2022-01-13T15:58:53.919Z"
   },
   {
    "duration": 1287,
    "start_time": "2022-01-13T15:58:53.926Z"
   },
   {
    "duration": 1286,
    "start_time": "2022-01-13T15:58:53.928Z"
   },
   {
    "duration": 1286,
    "start_time": "2022-01-13T15:58:53.930Z"
   },
   {
    "duration": 1285,
    "start_time": "2022-01-13T15:58:53.933Z"
   },
   {
    "duration": 1278,
    "start_time": "2022-01-13T15:58:53.941Z"
   },
   {
    "duration": 1278,
    "start_time": "2022-01-13T15:58:53.943Z"
   },
   {
    "duration": 1277,
    "start_time": "2022-01-13T15:58:53.945Z"
   },
   {
    "duration": 1277,
    "start_time": "2022-01-13T15:58:53.947Z"
   },
   {
    "duration": 1277,
    "start_time": "2022-01-13T15:58:53.949Z"
   },
   {
    "duration": 1274,
    "start_time": "2022-01-13T15:58:53.953Z"
   },
   {
    "duration": 1269,
    "start_time": "2022-01-13T15:58:53.960Z"
   },
   {
    "duration": 1269,
    "start_time": "2022-01-13T15:58:53.962Z"
   },
   {
    "duration": 1268,
    "start_time": "2022-01-13T15:58:53.964Z"
   },
   {
    "duration": 162,
    "start_time": "2022-01-13T15:59:13.339Z"
   },
   {
    "duration": 66,
    "start_time": "2022-01-13T15:59:13.516Z"
   },
   {
    "duration": 846,
    "start_time": "2022-01-13T15:59:13.585Z"
   },
   {
    "duration": 688,
    "start_time": "2022-01-13T15:59:14.433Z"
   },
   {
    "duration": 697,
    "start_time": "2022-01-13T15:59:15.124Z"
   },
   {
    "duration": 699,
    "start_time": "2022-01-13T15:59:15.824Z"
   },
   {
    "duration": 691,
    "start_time": "2022-01-13T15:59:16.526Z"
   },
   {
    "duration": 690,
    "start_time": "2022-01-13T15:59:17.220Z"
   },
   {
    "duration": 699,
    "start_time": "2022-01-13T15:59:17.913Z"
   },
   {
    "duration": 971,
    "start_time": "2022-01-13T15:59:18.618Z"
   },
   {
    "duration": 736,
    "start_time": "2022-01-13T15:59:19.592Z"
   },
   {
    "duration": 718,
    "start_time": "2022-01-13T15:59:20.331Z"
   },
   {
    "duration": 265,
    "start_time": "2022-01-13T15:59:21.052Z"
   },
   {
    "duration": 2283,
    "start_time": "2022-01-13T15:59:21.320Z"
   },
   {
    "duration": 16,
    "start_time": "2022-01-13T15:59:23.605Z"
   },
   {
    "duration": 1296,
    "start_time": "2022-01-13T16:00:22.153Z"
   },
   {
    "duration": 166,
    "start_time": "2022-01-13T16:00:29.643Z"
   },
   {
    "duration": 977,
    "start_time": "2022-01-13T16:00:29.818Z"
   },
   {
    "duration": 1322,
    "start_time": "2022-01-13T16:00:29.476Z"
   },
   {
    "duration": 1306,
    "start_time": "2022-01-13T16:00:29.493Z"
   },
   {
    "duration": 1300,
    "start_time": "2022-01-13T16:00:29.501Z"
   },
   {
    "duration": 1300,
    "start_time": "2022-01-13T16:00:29.503Z"
   },
   {
    "duration": 1298,
    "start_time": "2022-01-13T16:00:29.506Z"
   },
   {
    "duration": 1297,
    "start_time": "2022-01-13T16:00:29.508Z"
   },
   {
    "duration": 1297,
    "start_time": "2022-01-13T16:00:29.510Z"
   },
   {
    "duration": 1295,
    "start_time": "2022-01-13T16:00:29.513Z"
   },
   {
    "duration": 1295,
    "start_time": "2022-01-13T16:00:29.515Z"
   },
   {
    "duration": 1294,
    "start_time": "2022-01-13T16:00:29.517Z"
   },
   {
    "duration": 1293,
    "start_time": "2022-01-13T16:00:29.520Z"
   },
   {
    "duration": 1292,
    "start_time": "2022-01-13T16:00:29.522Z"
   },
   {
    "duration": 1290,
    "start_time": "2022-01-13T16:00:29.525Z"
   },
   {
    "duration": 1289,
    "start_time": "2022-01-13T16:00:56.622Z"
   },
   {
    "duration": 1285,
    "start_time": "2022-01-13T16:00:56.628Z"
   },
   {
    "duration": 1282,
    "start_time": "2022-01-13T16:00:56.632Z"
   },
   {
    "duration": 1282,
    "start_time": "2022-01-13T16:00:56.634Z"
   },
   {
    "duration": 1280,
    "start_time": "2022-01-13T16:00:56.637Z"
   },
   {
    "duration": 1279,
    "start_time": "2022-01-13T16:00:56.639Z"
   },
   {
    "duration": 1278,
    "start_time": "2022-01-13T16:00:56.641Z"
   },
   {
    "duration": 1277,
    "start_time": "2022-01-13T16:00:56.644Z"
   },
   {
    "duration": 1275,
    "start_time": "2022-01-13T16:00:56.647Z"
   },
   {
    "duration": 1274,
    "start_time": "2022-01-13T16:00:56.649Z"
   },
   {
    "duration": 1273,
    "start_time": "2022-01-13T16:00:56.651Z"
   },
   {
    "duration": 1266,
    "start_time": "2022-01-13T16:00:56.659Z"
   },
   {
    "duration": 1265,
    "start_time": "2022-01-13T16:00:56.662Z"
   },
   {
    "duration": 1263,
    "start_time": "2022-01-13T16:00:56.665Z"
   },
   {
    "duration": 1261,
    "start_time": "2022-01-13T16:00:56.668Z"
   },
   {
    "duration": 171,
    "start_time": "2022-01-13T16:01:11.420Z"
   },
   {
    "duration": 86,
    "start_time": "2022-01-13T16:01:11.594Z"
   },
   {
    "duration": 851,
    "start_time": "2022-01-13T16:01:11.682Z"
   },
   {
    "duration": 681,
    "start_time": "2022-01-13T16:01:12.536Z"
   },
   {
    "duration": 704,
    "start_time": "2022-01-13T16:01:13.220Z"
   },
   {
    "duration": 696,
    "start_time": "2022-01-13T16:01:13.927Z"
   },
   {
    "duration": 701,
    "start_time": "2022-01-13T16:01:14.626Z"
   },
   {
    "duration": 701,
    "start_time": "2022-01-13T16:01:15.329Z"
   },
   {
    "duration": 702,
    "start_time": "2022-01-13T16:01:16.034Z"
   },
   {
    "duration": 746,
    "start_time": "2022-01-13T16:01:16.739Z"
   },
   {
    "duration": 703,
    "start_time": "2022-01-13T16:01:17.488Z"
   },
   {
    "duration": 685,
    "start_time": "2022-01-13T16:01:18.193Z"
   },
   {
    "duration": 259,
    "start_time": "2022-01-13T16:01:18.881Z"
   },
   {
    "duration": 2063,
    "start_time": "2022-01-13T16:01:19.143Z"
   },
   {
    "duration": 9,
    "start_time": "2022-01-13T16:01:21.216Z"
   },
   {
    "duration": 1295,
    "start_time": "2022-01-13T16:02:03.298Z"
   },
   {
    "duration": 1294,
    "start_time": "2022-01-13T16:02:03.301Z"
   },
   {
    "duration": 1293,
    "start_time": "2022-01-13T16:02:03.304Z"
   },
   {
    "duration": 1292,
    "start_time": "2022-01-13T16:02:03.306Z"
   },
   {
    "duration": 1288,
    "start_time": "2022-01-13T16:02:03.312Z"
   },
   {
    "duration": 1287,
    "start_time": "2022-01-13T16:02:03.314Z"
   },
   {
    "duration": 1286,
    "start_time": "2022-01-13T16:02:03.316Z"
   },
   {
    "duration": 1286,
    "start_time": "2022-01-13T16:02:03.318Z"
   },
   {
    "duration": 1285,
    "start_time": "2022-01-13T16:02:03.320Z"
   },
   {
    "duration": 1284,
    "start_time": "2022-01-13T16:02:03.322Z"
   },
   {
    "duration": 1283,
    "start_time": "2022-01-13T16:02:03.325Z"
   },
   {
    "duration": 1282,
    "start_time": "2022-01-13T16:02:03.327Z"
   },
   {
    "duration": 1280,
    "start_time": "2022-01-13T16:02:03.330Z"
   },
   {
    "duration": 1281,
    "start_time": "2022-01-13T16:02:03.331Z"
   },
   {
    "duration": 1274,
    "start_time": "2022-01-13T16:02:03.339Z"
   },
   {
    "duration": 165,
    "start_time": "2022-01-13T16:02:11.782Z"
   },
   {
    "duration": 40,
    "start_time": "2022-01-13T16:02:11.951Z"
   },
   {
    "duration": 877,
    "start_time": "2022-01-13T16:02:11.994Z"
   },
   {
    "duration": 695,
    "start_time": "2022-01-13T16:02:12.874Z"
   },
   {
    "duration": 1602,
    "start_time": "2022-01-13T16:02:13.572Z"
   },
   {
    "duration": 703,
    "start_time": "2022-01-13T16:02:15.177Z"
   },
   {
    "duration": 707,
    "start_time": "2022-01-13T16:02:15.883Z"
   },
   {
    "duration": 696,
    "start_time": "2022-01-13T16:02:16.592Z"
   },
   {
    "duration": 705,
    "start_time": "2022-01-13T16:02:17.292Z"
   },
   {
    "duration": 775,
    "start_time": "2022-01-13T16:02:18.000Z"
   },
   {
    "duration": 706,
    "start_time": "2022-01-13T16:02:18.777Z"
   },
   {
    "duration": 698,
    "start_time": "2022-01-13T16:02:19.485Z"
   },
   {
    "duration": 263,
    "start_time": "2022-01-13T16:02:20.186Z"
   },
   {
    "duration": 2078,
    "start_time": "2022-01-13T16:02:20.452Z"
   },
   {
    "duration": 8,
    "start_time": "2022-01-13T16:02:22.533Z"
   },
   {
    "duration": 158,
    "start_time": "2022-01-13T16:02:51.431Z"
   },
   {
    "duration": 49,
    "start_time": "2022-01-13T16:02:51.592Z"
   },
   {
    "duration": 869,
    "start_time": "2022-01-13T16:02:51.644Z"
   },
   {
    "duration": 772,
    "start_time": "2022-01-13T16:02:52.515Z"
   },
   {
    "duration": 715,
    "start_time": "2022-01-13T16:02:53.289Z"
   },
   {
    "duration": 714,
    "start_time": "2022-01-13T16:02:54.006Z"
   },
   {
    "duration": 689,
    "start_time": "2022-01-13T16:02:54.723Z"
   },
   {
    "duration": 698,
    "start_time": "2022-01-13T16:02:55.416Z"
   },
   {
    "duration": 789,
    "start_time": "2022-01-13T16:02:56.118Z"
   },
   {
    "duration": 760,
    "start_time": "2022-01-13T16:02:56.917Z"
   },
   {
    "duration": 703,
    "start_time": "2022-01-13T16:02:57.680Z"
   },
   {
    "duration": 807,
    "start_time": "2022-01-13T16:02:58.386Z"
   },
   {
    "duration": 270,
    "start_time": "2022-01-13T16:02:59.195Z"
   },
   {
    "duration": 2155,
    "start_time": "2022-01-13T16:02:59.468Z"
   },
   {
    "duration": 9,
    "start_time": "2022-01-13T16:03:01.626Z"
   },
   {
    "duration": 168,
    "start_time": "2022-01-13T16:08:54.310Z"
   },
   {
    "duration": 84,
    "start_time": "2022-01-13T16:08:54.481Z"
   },
   {
    "duration": 835,
    "start_time": "2022-01-13T16:08:54.568Z"
   },
   {
    "duration": 691,
    "start_time": "2022-01-13T16:08:55.406Z"
   },
   {
    "duration": 707,
    "start_time": "2022-01-13T16:08:56.099Z"
   },
   {
    "duration": 699,
    "start_time": "2022-01-13T16:08:56.808Z"
   },
   {
    "duration": 712,
    "start_time": "2022-01-13T16:08:57.510Z"
   },
   {
    "duration": 708,
    "start_time": "2022-01-13T16:08:58.225Z"
   },
   {
    "duration": 694,
    "start_time": "2022-01-13T16:08:58.937Z"
   },
   {
    "duration": 767,
    "start_time": "2022-01-13T16:08:59.634Z"
   },
   {
    "duration": 750,
    "start_time": "2022-01-13T16:09:00.404Z"
   },
   {
    "duration": 692,
    "start_time": "2022-01-13T16:09:01.157Z"
   },
   {
    "duration": 267,
    "start_time": "2022-01-13T16:09:01.852Z"
   },
   {
    "duration": 2105,
    "start_time": "2022-01-13T16:09:02.122Z"
   },
   {
    "duration": 8,
    "start_time": "2022-01-13T16:09:04.229Z"
   },
   {
    "duration": 2202,
    "start_time": "2022-01-13T16:15:04.211Z"
   },
   {
    "duration": 22,
    "start_time": "2022-01-13T16:22:06.883Z"
   },
   {
    "duration": 299,
    "start_time": "2022-01-13T16:22:39.888Z"
   },
   {
    "duration": 335,
    "start_time": "2022-01-13T16:23:01.761Z"
   },
   {
    "duration": 172,
    "start_time": "2022-01-13T16:23:13.223Z"
   },
   {
    "duration": 81,
    "start_time": "2022-01-13T16:23:13.398Z"
   },
   {
    "duration": 835,
    "start_time": "2022-01-13T16:23:13.482Z"
   },
   {
    "duration": 697,
    "start_time": "2022-01-13T16:23:14.320Z"
   },
   {
    "duration": 716,
    "start_time": "2022-01-13T16:23:15.019Z"
   },
   {
    "duration": 705,
    "start_time": "2022-01-13T16:23:15.737Z"
   },
   {
    "duration": 1627,
    "start_time": "2022-01-13T16:23:16.444Z"
   },
   {
    "duration": 727,
    "start_time": "2022-01-13T16:23:18.075Z"
   },
   {
    "duration": 698,
    "start_time": "2022-01-13T16:23:18.804Z"
   },
   {
    "duration": 751,
    "start_time": "2022-01-13T16:23:19.505Z"
   },
   {
    "duration": 708,
    "start_time": "2022-01-13T16:23:20.259Z"
   },
   {
    "duration": 668,
    "start_time": "2022-01-13T16:23:20.970Z"
   },
   {
    "duration": 266,
    "start_time": "2022-01-13T16:23:21.641Z"
   },
   {
    "duration": 2321,
    "start_time": "2022-01-13T16:23:21.910Z"
   },
   {
    "duration": 9,
    "start_time": "2022-01-13T16:23:24.235Z"
   },
   {
    "duration": 281,
    "start_time": "2022-01-13T16:25:52.798Z"
   },
   {
    "duration": 258,
    "start_time": "2022-01-13T16:25:57.309Z"
   },
   {
    "duration": 126,
    "start_time": "2022-01-13T16:25:57.571Z"
   },
   {
    "duration": 1398,
    "start_time": "2022-01-13T16:25:57.701Z"
   },
   {
    "duration": 690,
    "start_time": "2022-01-13T16:25:59.102Z"
   },
   {
    "duration": 710,
    "start_time": "2022-01-13T16:25:59.795Z"
   },
   {
    "duration": 694,
    "start_time": "2022-01-13T16:26:00.507Z"
   },
   {
    "duration": 713,
    "start_time": "2022-01-13T16:26:01.204Z"
   },
   {
    "duration": 701,
    "start_time": "2022-01-13T16:26:01.921Z"
   },
   {
    "duration": 730,
    "start_time": "2022-01-13T16:26:02.626Z"
   },
   {
    "duration": 731,
    "start_time": "2022-01-13T16:26:03.358Z"
   },
   {
    "duration": 720,
    "start_time": "2022-01-13T16:26:04.092Z"
   },
   {
    "duration": 707,
    "start_time": "2022-01-13T16:26:04.817Z"
   },
   {
    "duration": 269,
    "start_time": "2022-01-13T16:26:05.527Z"
   },
   {
    "duration": 2198,
    "start_time": "2022-01-13T16:26:05.799Z"
   },
   {
    "duration": 18,
    "start_time": "2022-01-13T16:26:08.000Z"
   },
   {
    "duration": 287,
    "start_time": "2022-01-13T16:26:36.159Z"
   },
   {
    "duration": 172,
    "start_time": "2022-01-13T16:26:40.360Z"
   },
   {
    "duration": 85,
    "start_time": "2022-01-13T16:26:40.534Z"
   },
   {
    "duration": 844,
    "start_time": "2022-01-13T16:26:40.622Z"
   },
   {
    "duration": 747,
    "start_time": "2022-01-13T16:26:41.470Z"
   },
   {
    "duration": 731,
    "start_time": "2022-01-13T16:26:42.220Z"
   },
   {
    "duration": 695,
    "start_time": "2022-01-13T16:26:42.954Z"
   },
   {
    "duration": 683,
    "start_time": "2022-01-13T16:26:43.652Z"
   },
   {
    "duration": 700,
    "start_time": "2022-01-13T16:26:44.340Z"
   },
   {
    "duration": 736,
    "start_time": "2022-01-13T16:26:45.043Z"
   },
   {
    "duration": 737,
    "start_time": "2022-01-13T16:26:45.781Z"
   },
   {
    "duration": 723,
    "start_time": "2022-01-13T16:26:46.521Z"
   },
   {
    "duration": 686,
    "start_time": "2022-01-13T16:26:47.246Z"
   },
   {
    "duration": 268,
    "start_time": "2022-01-13T16:26:47.935Z"
   },
   {
    "duration": 2101,
    "start_time": "2022-01-13T16:26:48.206Z"
   },
   {
    "duration": 8,
    "start_time": "2022-01-13T16:26:50.317Z"
   },
   {
    "duration": 2085,
    "start_time": "2022-01-13T16:29:09.021Z"
   },
   {
    "duration": 676,
    "start_time": "2022-01-13T16:41:57.643Z"
   },
   {
    "duration": 722,
    "start_time": "2022-01-13T16:42:18.931Z"
   },
   {
    "duration": 698,
    "start_time": "2022-01-13T16:44:20.976Z"
   },
   {
    "duration": 14,
    "start_time": "2022-01-13T17:10:12.303Z"
   },
   {
    "duration": 17,
    "start_time": "2022-01-13T17:10:45.598Z"
   },
   {
    "duration": 20,
    "start_time": "2022-01-13T17:12:12.934Z"
   },
   {
    "duration": 16,
    "start_time": "2022-01-13T17:13:42.222Z"
   },
   {
    "duration": 15,
    "start_time": "2022-01-13T17:14:38.476Z"
   },
   {
    "duration": 15,
    "start_time": "2022-01-13T17:17:30.911Z"
   },
   {
    "duration": 299,
    "start_time": "2022-01-14T12:13:19.604Z"
   },
   {
    "duration": 1036,
    "start_time": "2022-01-14T12:13:23.995Z"
   },
   {
    "duration": 93,
    "start_time": "2022-01-14T12:13:25.035Z"
   },
   {
    "duration": 1001,
    "start_time": "2022-01-14T12:13:25.131Z"
   },
   {
    "duration": 944,
    "start_time": "2022-01-14T12:13:26.135Z"
   },
   {
    "duration": 742,
    "start_time": "2022-01-14T12:13:27.083Z"
   },
   {
    "duration": 748,
    "start_time": "2022-01-14T12:13:27.828Z"
   },
   {
    "duration": 734,
    "start_time": "2022-01-14T12:13:28.579Z"
   },
   {
    "duration": 723,
    "start_time": "2022-01-14T12:13:29.318Z"
   },
   {
    "duration": 866,
    "start_time": "2022-01-14T12:13:30.044Z"
   },
   {
    "duration": 785,
    "start_time": "2022-01-14T12:13:30.912Z"
   },
   {
    "duration": 707,
    "start_time": "2022-01-14T12:13:31.700Z"
   },
   {
    "duration": 691,
    "start_time": "2022-01-14T12:13:32.410Z"
   },
   {
    "duration": 261,
    "start_time": "2022-01-14T12:13:33.104Z"
   },
   {
    "duration": 745,
    "start_time": "2022-01-14T12:13:33.368Z"
   },
   {
    "duration": 716,
    "start_time": "2022-01-14T12:13:34.116Z"
   },
   {
    "duration": 830,
    "start_time": "2022-01-14T12:13:34.835Z"
   },
   {
    "duration": 17,
    "start_time": "2022-01-14T12:13:35.668Z"
   },
   {
    "duration": 16,
    "start_time": "2022-01-14T12:13:35.688Z"
   },
   {
    "duration": 338,
    "start_time": "2022-01-14T12:15:14.276Z"
   },
   {
    "duration": 176,
    "start_time": "2022-01-14T12:15:22.216Z"
   },
   {
    "duration": 84,
    "start_time": "2022-01-14T12:15:22.395Z"
   },
   {
    "duration": 898,
    "start_time": "2022-01-14T12:15:22.483Z"
   },
   {
    "duration": 814,
    "start_time": "2022-01-14T12:15:23.384Z"
   },
   {
    "duration": 749,
    "start_time": "2022-01-14T12:15:24.200Z"
   },
   {
    "duration": 845,
    "start_time": "2022-01-14T12:15:24.952Z"
   },
   {
    "duration": 896,
    "start_time": "2022-01-14T12:15:25.800Z"
   },
   {
    "duration": 735,
    "start_time": "2022-01-14T12:15:26.699Z"
   },
   {
    "duration": 1018,
    "start_time": "2022-01-14T12:15:27.437Z"
   },
   {
    "duration": 793,
    "start_time": "2022-01-14T12:15:28.462Z"
   },
   {
    "duration": 768,
    "start_time": "2022-01-14T12:15:29.257Z"
   },
   {
    "duration": 728,
    "start_time": "2022-01-14T12:15:30.028Z"
   },
   {
    "duration": 274,
    "start_time": "2022-01-14T12:15:30.762Z"
   },
   {
    "duration": 769,
    "start_time": "2022-01-14T12:15:31.039Z"
   },
   {
    "duration": 701,
    "start_time": "2022-01-14T12:15:31.811Z"
   },
   {
    "duration": 702,
    "start_time": "2022-01-14T12:15:32.514Z"
   },
   {
    "duration": 18,
    "start_time": "2022-01-14T12:15:33.220Z"
   },
   {
    "duration": 316,
    "start_time": "2022-01-14T12:15:33.241Z"
   },
   {
    "duration": 16,
    "start_time": "2022-01-14T12:16:05.982Z"
   },
   {
    "duration": 267,
    "start_time": "2022-01-14T12:17:35.967Z"
   },
   {
    "duration": 363,
    "start_time": "2022-01-14T12:19:32.369Z"
   },
   {
    "duration": 203,
    "start_time": "2022-01-14T12:19:40.460Z"
   },
   {
    "duration": 75,
    "start_time": "2022-01-14T12:19:40.665Z"
   },
   {
    "duration": 938,
    "start_time": "2022-01-14T12:19:40.763Z"
   },
   {
    "duration": 1214,
    "start_time": "2022-01-14T12:19:41.704Z"
   },
   {
    "duration": 875,
    "start_time": "2022-01-14T12:19:42.921Z"
   },
   {
    "duration": 740,
    "start_time": "2022-01-14T12:19:43.799Z"
   },
   {
    "duration": 780,
    "start_time": "2022-01-14T12:19:44.541Z"
   },
   {
    "duration": 749,
    "start_time": "2022-01-14T12:19:45.326Z"
   },
   {
    "duration": 835,
    "start_time": "2022-01-14T12:19:46.077Z"
   },
   {
    "duration": 767,
    "start_time": "2022-01-14T12:19:46.914Z"
   },
   {
    "duration": 967,
    "start_time": "2022-01-14T12:19:47.684Z"
   },
   {
    "duration": 733,
    "start_time": "2022-01-14T12:19:48.654Z"
   },
   {
    "duration": 276,
    "start_time": "2022-01-14T12:19:49.390Z"
   },
   {
    "duration": 707,
    "start_time": "2022-01-14T12:19:49.669Z"
   },
   {
    "duration": 845,
    "start_time": "2022-01-14T12:19:50.379Z"
   },
   {
    "duration": 822,
    "start_time": "2022-01-14T12:19:51.227Z"
   },
   {
    "duration": 25,
    "start_time": "2022-01-14T12:19:52.052Z"
   },
   {
    "duration": 416,
    "start_time": "2022-01-14T12:19:52.079Z"
   },
   {
    "duration": 262,
    "start_time": "2022-01-14T12:21:03.716Z"
   },
   {
    "duration": 89,
    "start_time": "2022-01-14T12:22:57.058Z"
   },
   {
    "duration": 332,
    "start_time": "2022-01-14T12:23:50.875Z"
   },
   {
    "duration": 283,
    "start_time": "2022-01-14T12:25:23.842Z"
   },
   {
    "duration": 92,
    "start_time": "2022-01-14T12:26:46.856Z"
   },
   {
    "duration": 23,
    "start_time": "2022-01-14T12:26:52.125Z"
   },
   {
    "duration": 23,
    "start_time": "2022-01-14T12:27:30.660Z"
   },
   {
    "duration": 262,
    "start_time": "2022-01-14T12:28:09.252Z"
   },
   {
    "duration": 24,
    "start_time": "2022-01-14T12:28:52.027Z"
   },
   {
    "duration": 26,
    "start_time": "2022-01-14T12:29:01.246Z"
   },
   {
    "duration": 28,
    "start_time": "2022-01-14T12:29:34.193Z"
   },
   {
    "duration": 273,
    "start_time": "2022-01-14T12:30:10.841Z"
   },
   {
    "duration": 297,
    "start_time": "2022-01-14T12:30:21.955Z"
   },
   {
    "duration": 25,
    "start_time": "2022-01-14T12:30:32.344Z"
   },
   {
    "duration": 25,
    "start_time": "2022-01-14T12:31:50.767Z"
   },
   {
    "duration": 23,
    "start_time": "2022-01-14T12:33:28.734Z"
   },
   {
    "duration": 25,
    "start_time": "2022-01-14T12:37:07.450Z"
   },
   {
    "duration": 6240,
    "start_time": "2022-01-14T12:38:57.329Z"
   },
   {
    "duration": 19,
    "start_time": "2022-01-14T12:39:51.730Z"
   },
   {
    "duration": 18,
    "start_time": "2022-01-14T12:40:29.215Z"
   },
   {
    "duration": 16,
    "start_time": "2022-01-14T12:41:13.958Z"
   },
   {
    "duration": 16,
    "start_time": "2022-01-14T12:41:28.550Z"
   },
   {
    "duration": 9,
    "start_time": "2022-01-14T12:41:35.629Z"
   },
   {
    "duration": 110,
    "start_time": "2022-01-14T12:43:19.150Z"
   },
   {
    "duration": 78,
    "start_time": "2022-01-14T12:43:49.582Z"
   },
   {
    "duration": 163,
    "start_time": "2022-01-14T12:45:05.421Z"
   },
   {
    "duration": 240,
    "start_time": "2022-01-14T12:45:58.906Z"
   },
   {
    "duration": 15,
    "start_time": "2022-01-14T12:46:06.682Z"
   },
   {
    "duration": 187,
    "start_time": "2022-01-14T12:46:37.776Z"
   },
   {
    "duration": 68,
    "start_time": "2022-01-14T12:46:37.966Z"
   },
   {
    "duration": 880,
    "start_time": "2022-01-14T12:46:38.037Z"
   },
   {
    "duration": 750,
    "start_time": "2022-01-14T12:46:38.920Z"
   },
   {
    "duration": 794,
    "start_time": "2022-01-14T12:46:39.673Z"
   },
   {
    "duration": 906,
    "start_time": "2022-01-14T12:46:40.470Z"
   },
   {
    "duration": 714,
    "start_time": "2022-01-14T12:46:41.378Z"
   },
   {
    "duration": 725,
    "start_time": "2022-01-14T12:46:42.096Z"
   },
   {
    "duration": 770,
    "start_time": "2022-01-14T12:46:42.823Z"
   },
   {
    "duration": 738,
    "start_time": "2022-01-14T12:46:43.595Z"
   },
   {
    "duration": 750,
    "start_time": "2022-01-14T12:46:44.335Z"
   },
   {
    "duration": 713,
    "start_time": "2022-01-14T12:46:45.088Z"
   },
   {
    "duration": 264,
    "start_time": "2022-01-14T12:46:45.803Z"
   },
   {
    "duration": 732,
    "start_time": "2022-01-14T12:46:46.070Z"
   },
   {
    "duration": 844,
    "start_time": "2022-01-14T12:46:46.804Z"
   },
   {
    "duration": 1050,
    "start_time": "2022-01-14T12:46:47.650Z"
   },
   {
    "duration": 17,
    "start_time": "2022-01-14T12:46:48.702Z"
   },
   {
    "duration": 374,
    "start_time": "2022-01-14T12:46:48.721Z"
   },
   {
    "duration": 26,
    "start_time": "2022-01-14T12:47:10.508Z"
   },
   {
    "duration": 176,
    "start_time": "2022-01-14T12:47:41.962Z"
   },
   {
    "duration": 80,
    "start_time": "2022-01-14T12:47:42.140Z"
   },
   {
    "duration": 892,
    "start_time": "2022-01-14T12:47:42.223Z"
   },
   {
    "duration": 729,
    "start_time": "2022-01-14T12:47:43.119Z"
   },
   {
    "duration": 835,
    "start_time": "2022-01-14T12:47:43.851Z"
   },
   {
    "duration": 720,
    "start_time": "2022-01-14T12:47:44.689Z"
   },
   {
    "duration": 737,
    "start_time": "2022-01-14T12:47:45.413Z"
   },
   {
    "duration": 926,
    "start_time": "2022-01-14T12:47:46.154Z"
   },
   {
    "duration": 856,
    "start_time": "2022-01-14T12:47:47.083Z"
   },
   {
    "duration": 781,
    "start_time": "2022-01-14T12:47:47.942Z"
   },
   {
    "duration": 726,
    "start_time": "2022-01-14T12:47:48.726Z"
   },
   {
    "duration": 737,
    "start_time": "2022-01-14T12:47:49.462Z"
   },
   {
    "duration": 273,
    "start_time": "2022-01-14T12:47:50.202Z"
   },
   {
    "duration": 728,
    "start_time": "2022-01-14T12:47:50.477Z"
   },
   {
    "duration": 713,
    "start_time": "2022-01-14T12:47:51.207Z"
   },
   {
    "duration": 734,
    "start_time": "2022-01-14T12:47:51.923Z"
   },
   {
    "duration": 18,
    "start_time": "2022-01-14T12:47:52.664Z"
   },
   {
    "duration": 24,
    "start_time": "2022-01-14T12:47:52.685Z"
   },
   {
    "duration": 33,
    "start_time": "2022-01-14T12:48:24.391Z"
   },
   {
    "duration": 189,
    "start_time": "2022-01-14T13:00:11.160Z"
   },
   {
    "duration": 77,
    "start_time": "2022-01-14T13:00:11.351Z"
   },
   {
    "duration": 891,
    "start_time": "2022-01-14T13:00:11.431Z"
   },
   {
    "duration": 754,
    "start_time": "2022-01-14T13:00:12.325Z"
   },
   {
    "duration": 743,
    "start_time": "2022-01-14T13:00:13.082Z"
   },
   {
    "duration": 744,
    "start_time": "2022-01-14T13:00:13.827Z"
   },
   {
    "duration": 761,
    "start_time": "2022-01-14T13:00:14.574Z"
   },
   {
    "duration": 754,
    "start_time": "2022-01-14T13:00:15.339Z"
   },
   {
    "duration": 784,
    "start_time": "2022-01-14T13:00:16.096Z"
   },
   {
    "duration": 751,
    "start_time": "2022-01-14T13:00:16.883Z"
   },
   {
    "duration": 759,
    "start_time": "2022-01-14T13:00:17.637Z"
   },
   {
    "duration": 718,
    "start_time": "2022-01-14T13:00:18.398Z"
   },
   {
    "duration": 271,
    "start_time": "2022-01-14T13:00:19.118Z"
   },
   {
    "duration": 726,
    "start_time": "2022-01-14T13:00:19.392Z"
   },
   {
    "duration": 742,
    "start_time": "2022-01-14T13:00:20.121Z"
   },
   {
    "duration": 769,
    "start_time": "2022-01-14T13:00:20.865Z"
   },
   {
    "duration": 32,
    "start_time": "2022-01-14T13:00:21.637Z"
   },
   {
    "duration": 504,
    "start_time": "2022-01-14T13:05:57.105Z"
   },
   {
    "duration": 635,
    "start_time": "2022-01-14T13:14:12.728Z"
   },
   {
    "duration": 54067,
    "start_time": "2022-01-14T13:19:11.501Z"
   },
   {
    "duration": 559,
    "start_time": "2022-01-14T13:20:25.692Z"
   },
   {
    "duration": 41,
    "start_time": "2022-01-14T13:28:10.030Z"
   },
   {
    "duration": 40,
    "start_time": "2022-01-14T13:29:17.807Z"
   },
   {
    "duration": 48,
    "start_time": "2022-01-14T13:32:59.097Z"
   },
   {
    "duration": 63,
    "start_time": "2022-01-14T13:34:03.304Z"
   },
   {
    "duration": 118,
    "start_time": "2022-01-14T13:34:19.146Z"
   },
   {
    "duration": 1379,
    "start_time": "2022-01-14T13:42:05.187Z"
   },
   {
    "duration": 7205,
    "start_time": "2022-01-14T13:42:35.012Z"
   },
   {
    "duration": 5000,
    "start_time": "2022-01-14T13:45:05.046Z"
   },
   {
    "duration": 5307,
    "start_time": "2022-01-14T13:45:24.671Z"
   },
   {
    "duration": 5053,
    "start_time": "2022-01-14T13:46:41.774Z"
   },
   {
    "duration": 5331,
    "start_time": "2022-01-14T13:46:54.142Z"
   },
   {
    "duration": 4836,
    "start_time": "2022-01-14T13:50:47.876Z"
   },
   {
    "duration": 5262,
    "start_time": "2022-01-14T13:58:44.084Z"
   },
   {
    "duration": 1389,
    "start_time": "2022-01-16T15:35:42.229Z"
   },
   {
    "duration": 70,
    "start_time": "2022-01-16T15:35:43.624Z"
   },
   {
    "duration": 845,
    "start_time": "2022-01-16T15:35:43.697Z"
   },
   {
    "duration": 838,
    "start_time": "2022-01-16T15:35:44.545Z"
   },
   {
    "duration": 715,
    "start_time": "2022-01-16T15:35:45.385Z"
   },
   {
    "duration": 727,
    "start_time": "2022-01-16T15:35:46.102Z"
   },
   {
    "duration": 787,
    "start_time": "2022-01-16T15:35:46.831Z"
   },
   {
    "duration": 741,
    "start_time": "2022-01-16T15:35:47.624Z"
   },
   {
    "duration": 836,
    "start_time": "2022-01-16T15:35:48.368Z"
   },
   {
    "duration": 810,
    "start_time": "2022-01-16T15:35:49.207Z"
   },
   {
    "duration": 726,
    "start_time": "2022-01-16T15:35:50.024Z"
   },
   {
    "duration": 679,
    "start_time": "2022-01-16T15:35:50.753Z"
   },
   {
    "duration": 255,
    "start_time": "2022-01-16T15:35:51.434Z"
   },
   {
    "duration": 684,
    "start_time": "2022-01-16T15:35:51.692Z"
   },
   {
    "duration": 663,
    "start_time": "2022-01-16T15:35:52.378Z"
   },
   {
    "duration": 700,
    "start_time": "2022-01-16T15:35:53.043Z"
   },
   {
    "duration": 16,
    "start_time": "2022-01-16T15:35:53.746Z"
   },
   {
    "duration": 563,
    "start_time": "2022-01-16T15:35:53.764Z"
   },
   {
    "duration": 73,
    "start_time": "2022-01-16T15:35:54.329Z"
   },
   {
    "duration": 4662,
    "start_time": "2022-01-16T15:35:54.424Z"
   },
   {
    "duration": 469,
    "start_time": "2022-01-16T15:38:38.578Z"
   },
   {
    "duration": 300,
    "start_time": "2022-01-16T15:38:42.416Z"
   },
   {
    "duration": 34,
    "start_time": "2022-01-16T15:39:48.670Z"
   },
   {
    "duration": 641,
    "start_time": "2022-01-16T15:40:29.140Z"
   },
   {
    "duration": 265,
    "start_time": "2022-01-16T15:40:37.241Z"
   },
   {
    "duration": 360,
    "start_time": "2022-01-16T15:40:44.610Z"
   },
   {
    "duration": 265,
    "start_time": "2022-01-16T15:42:55.595Z"
   },
   {
    "duration": 298,
    "start_time": "2022-01-17T11:22:44.544Z"
   },
   {
    "duration": 932,
    "start_time": "2022-01-17T11:23:09.195Z"
   },
   {
    "duration": 87,
    "start_time": "2022-01-17T11:23:10.130Z"
   },
   {
    "duration": 834,
    "start_time": "2022-01-17T11:23:10.220Z"
   },
   {
    "duration": 856,
    "start_time": "2022-01-17T11:23:11.062Z"
   },
   {
    "duration": 742,
    "start_time": "2022-01-17T11:23:11.921Z"
   },
   {
    "duration": 734,
    "start_time": "2022-01-17T11:23:12.665Z"
   },
   {
    "duration": 694,
    "start_time": "2022-01-17T11:23:13.402Z"
   },
   {
    "duration": 832,
    "start_time": "2022-01-17T11:23:14.100Z"
   },
   {
    "duration": 836,
    "start_time": "2022-01-17T11:23:14.935Z"
   },
   {
    "duration": 35,
    "start_time": "2022-01-17T11:23:15.773Z"
   },
   {
    "duration": 788,
    "start_time": "2022-01-17T11:23:15.810Z"
   },
   {
    "duration": 722,
    "start_time": "2022-01-17T11:23:16.600Z"
   },
   {
    "duration": 282,
    "start_time": "2022-01-17T11:23:17.324Z"
   },
   {
    "duration": 710,
    "start_time": "2022-01-17T11:23:17.609Z"
   },
   {
    "duration": 269,
    "start_time": "2022-01-17T11:23:18.321Z"
   },
   {
    "duration": 784,
    "start_time": "2022-01-17T11:23:18.594Z"
   },
   {
    "duration": 744,
    "start_time": "2022-01-17T11:23:19.381Z"
   },
   {
    "duration": 761,
    "start_time": "2022-01-17T11:23:20.127Z"
   },
   {
    "duration": 17,
    "start_time": "2022-01-17T11:23:20.891Z"
   },
   {
    "duration": 566,
    "start_time": "2022-01-17T11:23:20.911Z"
   },
   {
    "duration": 92,
    "start_time": "2022-01-17T11:23:21.480Z"
   },
   {
    "duration": 4836,
    "start_time": "2022-01-17T11:23:21.575Z"
   },
   {
    "duration": 6886,
    "start_time": "2022-01-17T11:23:45.245Z"
   },
   {
    "duration": 206,
    "start_time": "2022-01-17T11:24:05.657Z"
   },
   {
    "duration": 75,
    "start_time": "2022-01-17T11:24:05.866Z"
   },
   {
    "duration": 1097,
    "start_time": "2022-01-17T11:24:05.944Z"
   },
   {
    "duration": 820,
    "start_time": "2022-01-17T11:24:07.043Z"
   },
   {
    "duration": 840,
    "start_time": "2022-01-17T11:24:07.865Z"
   },
   {
    "duration": 825,
    "start_time": "2022-01-17T11:24:08.708Z"
   },
   {
    "duration": 730,
    "start_time": "2022-01-17T11:24:09.536Z"
   },
   {
    "duration": 814,
    "start_time": "2022-01-17T11:24:10.270Z"
   },
   {
    "duration": 869,
    "start_time": "2022-01-17T11:24:11.087Z"
   },
   {
    "duration": 35,
    "start_time": "2022-01-17T11:24:11.963Z"
   },
   {
    "duration": 750,
    "start_time": "2022-01-17T11:24:12.000Z"
   },
   {
    "duration": 760,
    "start_time": "2022-01-17T11:24:12.753Z"
   },
   {
    "duration": 279,
    "start_time": "2022-01-17T11:24:13.515Z"
   },
   {
    "duration": 836,
    "start_time": "2022-01-17T11:24:13.796Z"
   },
   {
    "duration": 271,
    "start_time": "2022-01-17T11:24:14.635Z"
   },
   {
    "duration": 707,
    "start_time": "2022-01-17T11:24:14.908Z"
   },
   {
    "duration": 746,
    "start_time": "2022-01-17T11:24:15.617Z"
   },
   {
    "duration": 739,
    "start_time": "2022-01-17T11:24:16.366Z"
   },
   {
    "duration": 19,
    "start_time": "2022-01-17T11:24:17.108Z"
   },
   {
    "duration": 585,
    "start_time": "2022-01-17T11:24:17.131Z"
   },
   {
    "duration": 85,
    "start_time": "2022-01-17T11:24:17.719Z"
   },
   {
    "duration": 5034,
    "start_time": "2022-01-17T11:24:17.807Z"
   },
   {
    "duration": 1024,
    "start_time": "2022-01-17T11:58:49.279Z"
   },
   {
    "duration": 1175,
    "start_time": "2022-01-17T12:11:55.602Z"
   },
   {
    "duration": 947,
    "start_time": "2022-01-17T12:15:31.437Z"
   },
   {
    "duration": 183,
    "start_time": "2022-01-17T12:15:41.203Z"
   },
   {
    "duration": 89,
    "start_time": "2022-01-17T12:15:41.389Z"
   },
   {
    "duration": 837,
    "start_time": "2022-01-17T12:15:41.482Z"
   },
   {
    "duration": 1137,
    "start_time": "2022-01-17T12:15:42.322Z"
   },
   {
    "duration": -93,
    "start_time": "2022-01-17T12:15:43.556Z"
   },
   {
    "duration": -95,
    "start_time": "2022-01-17T12:15:43.559Z"
   },
   {
    "duration": -97,
    "start_time": "2022-01-17T12:15:43.563Z"
   },
   {
    "duration": -99,
    "start_time": "2022-01-17T12:15:43.567Z"
   },
   {
    "duration": -101,
    "start_time": "2022-01-17T12:15:43.570Z"
   },
   {
    "duration": -102,
    "start_time": "2022-01-17T12:15:43.573Z"
   },
   {
    "duration": -103,
    "start_time": "2022-01-17T12:15:43.576Z"
   },
   {
    "duration": -106,
    "start_time": "2022-01-17T12:15:43.580Z"
   },
   {
    "duration": -107,
    "start_time": "2022-01-17T12:15:43.583Z"
   },
   {
    "duration": -108,
    "start_time": "2022-01-17T12:15:43.586Z"
   },
   {
    "duration": -116,
    "start_time": "2022-01-17T12:15:43.596Z"
   },
   {
    "duration": -119,
    "start_time": "2022-01-17T12:15:43.600Z"
   },
   {
    "duration": -120,
    "start_time": "2022-01-17T12:15:43.603Z"
   },
   {
    "duration": -122,
    "start_time": "2022-01-17T12:15:43.606Z"
   },
   {
    "duration": -123,
    "start_time": "2022-01-17T12:15:43.609Z"
   },
   {
    "duration": -126,
    "start_time": "2022-01-17T12:15:43.613Z"
   },
   {
    "duration": -128,
    "start_time": "2022-01-17T12:15:43.616Z"
   },
   {
    "duration": -130,
    "start_time": "2022-01-17T12:15:43.620Z"
   },
   {
    "duration": 705,
    "start_time": "2022-01-17T12:17:20.716Z"
   },
   {
    "duration": 188,
    "start_time": "2022-01-17T12:20:55.214Z"
   },
   {
    "duration": 91,
    "start_time": "2022-01-17T12:20:55.405Z"
   },
   {
    "duration": 1005,
    "start_time": "2022-01-17T12:20:55.499Z"
   },
   {
    "duration": 722,
    "start_time": "2022-01-17T12:20:56.507Z"
   },
   {
    "duration": 752,
    "start_time": "2022-01-17T12:20:57.232Z"
   },
   {
    "duration": 744,
    "start_time": "2022-01-17T12:20:57.986Z"
   },
   {
    "duration": 704,
    "start_time": "2022-01-17T12:20:58.733Z"
   },
   {
    "duration": 879,
    "start_time": "2022-01-17T12:20:59.441Z"
   },
   {
    "duration": 777,
    "start_time": "2022-01-17T12:21:00.325Z"
   },
   {
    "duration": 38,
    "start_time": "2022-01-17T12:21:01.105Z"
   },
   {
    "duration": 786,
    "start_time": "2022-01-17T12:21:01.146Z"
   },
   {
    "duration": 780,
    "start_time": "2022-01-17T12:21:01.935Z"
   },
   {
    "duration": 278,
    "start_time": "2022-01-17T12:21:02.718Z"
   },
   {
    "duration": 1108,
    "start_time": "2022-01-17T12:21:02.999Z"
   },
   {
    "duration": 404,
    "start_time": "2022-01-17T12:21:04.110Z"
   },
   {
    "duration": 749,
    "start_time": "2022-01-17T12:21:04.516Z"
   },
   {
    "duration": 773,
    "start_time": "2022-01-17T12:21:05.268Z"
   },
   {
    "duration": 786,
    "start_time": "2022-01-17T12:21:06.044Z"
   },
   {
    "duration": 30,
    "start_time": "2022-01-17T12:21:06.834Z"
   },
   {
    "duration": 554,
    "start_time": "2022-01-17T12:21:06.866Z"
   },
   {
    "duration": 89,
    "start_time": "2022-01-17T12:21:07.422Z"
   },
   {
    "duration": 6160,
    "start_time": "2022-01-17T12:21:07.514Z"
   },
   {
    "duration": 658,
    "start_time": "2022-01-17T12:24:46.420Z"
   },
   {
    "duration": 786,
    "start_time": "2022-01-17T12:26:54.785Z"
   },
   {
    "duration": 288,
    "start_time": "2022-01-17T12:29:11.664Z"
   },
   {
    "duration": 398,
    "start_time": "2022-01-17T12:29:32.623Z"
   },
   {
    "duration": 183,
    "start_time": "2022-01-17T12:31:08.427Z"
   },
   {
    "duration": 93,
    "start_time": "2022-01-17T12:31:08.613Z"
   },
   {
    "duration": 861,
    "start_time": "2022-01-17T12:31:08.710Z"
   },
   {
    "duration": 822,
    "start_time": "2022-01-17T12:31:09.574Z"
   },
   {
    "duration": 956,
    "start_time": "2022-01-17T12:31:10.399Z"
   },
   {
    "duration": 732,
    "start_time": "2022-01-17T12:31:11.362Z"
   },
   {
    "duration": 701,
    "start_time": "2022-01-17T12:31:12.097Z"
   },
   {
    "duration": 706,
    "start_time": "2022-01-17T12:31:12.802Z"
   },
   {
    "duration": 782,
    "start_time": "2022-01-17T12:31:13.512Z"
   },
   {
    "duration": 36,
    "start_time": "2022-01-17T12:31:14.297Z"
   },
   {
    "duration": 789,
    "start_time": "2022-01-17T12:31:14.336Z"
   },
   {
    "duration": 735,
    "start_time": "2022-01-17T12:31:15.127Z"
   },
   {
    "duration": 301,
    "start_time": "2022-01-17T12:31:15.865Z"
   },
   {
    "duration": 935,
    "start_time": "2022-01-17T12:31:16.169Z"
   },
   {
    "duration": 269,
    "start_time": "2022-01-17T12:31:17.107Z"
   },
   {
    "duration": 729,
    "start_time": "2022-01-17T12:31:17.379Z"
   },
   {
    "duration": 716,
    "start_time": "2022-01-17T12:31:18.110Z"
   },
   {
    "duration": 903,
    "start_time": "2022-01-17T12:31:18.829Z"
   },
   {
    "duration": 33,
    "start_time": "2022-01-17T12:31:19.735Z"
   },
   {
    "duration": 660,
    "start_time": "2022-01-17T12:31:19.772Z"
   },
   {
    "duration": 95,
    "start_time": "2022-01-17T12:31:20.434Z"
   },
   {
    "duration": 5104,
    "start_time": "2022-01-17T12:31:20.532Z"
   },
   {
    "duration": 269,
    "start_time": "2022-01-17T12:38:26.714Z"
   },
   {
    "duration": 538,
    "start_time": "2022-01-17T12:40:12.404Z"
   },
   {
    "duration": 691,
    "start_time": "2022-01-17T12:41:17.092Z"
   },
   {
    "duration": 329,
    "start_time": "2022-01-17T12:42:08.746Z"
   },
   {
    "duration": 321,
    "start_time": "2022-01-17T12:42:30.169Z"
   },
   {
    "duration": 323,
    "start_time": "2022-01-17T12:42:36.139Z"
   },
   {
    "duration": 777,
    "start_time": "2022-01-17T12:43:13.547Z"
   },
   {
    "duration": 274,
    "start_time": "2022-01-17T12:45:30.105Z"
   },
   {
    "duration": 276,
    "start_time": "2022-01-17T12:46:39.808Z"
   },
   {
    "duration": 376,
    "start_time": "2022-01-17T12:47:03.661Z"
   },
   {
    "duration": 273,
    "start_time": "2022-01-17T12:47:13.820Z"
   },
   {
    "duration": 373,
    "start_time": "2022-01-17T12:47:54.220Z"
   },
   {
    "duration": 81,
    "start_time": "2022-01-17T12:58:56.916Z"
   },
   {
    "duration": 304,
    "start_time": "2022-01-17T12:59:09.144Z"
   },
   {
    "duration": 141,
    "start_time": "2022-01-17T12:59:09.452Z"
   },
   {
    "duration": 933,
    "start_time": "2022-01-17T12:59:09.596Z"
   },
   {
    "duration": 738,
    "start_time": "2022-01-17T12:59:10.534Z"
   },
   {
    "duration": 866,
    "start_time": "2022-01-17T12:59:11.274Z"
   },
   {
    "duration": 1239,
    "start_time": "2022-01-17T12:59:12.143Z"
   },
   {
    "duration": 1516,
    "start_time": "2022-01-17T12:59:13.385Z"
   },
   {
    "duration": 1257,
    "start_time": "2022-01-17T12:59:14.906Z"
   },
   {
    "duration": 1306,
    "start_time": "2022-01-17T12:59:16.167Z"
   },
   {
    "duration": 52,
    "start_time": "2022-01-17T12:59:17.476Z"
   },
   {
    "duration": 838,
    "start_time": "2022-01-17T12:59:17.532Z"
   },
   {
    "duration": 744,
    "start_time": "2022-01-17T12:59:18.373Z"
   },
   {
    "duration": 308,
    "start_time": "2022-01-17T12:59:19.120Z"
   },
   {
    "duration": 740,
    "start_time": "2022-01-17T12:59:19.431Z"
   },
   {
    "duration": 273,
    "start_time": "2022-01-17T12:59:20.174Z"
   },
   {
    "duration": 763,
    "start_time": "2022-01-17T12:59:20.449Z"
   },
   {
    "duration": 819,
    "start_time": "2022-01-17T12:59:21.215Z"
   },
   {
    "duration": 309,
    "start_time": "2022-01-17T12:59:22.036Z"
   },
   {
    "duration": 27,
    "start_time": "2022-01-17T12:59:22.347Z"
   },
   {
    "duration": 586,
    "start_time": "2022-01-17T12:59:22.377Z"
   },
   {
    "duration": 86,
    "start_time": "2022-01-17T12:59:22.966Z"
   },
   {
    "duration": -131,
    "start_time": "2022-01-17T12:59:23.185Z"
   },
   {
    "duration": -136,
    "start_time": "2022-01-17T12:59:23.192Z"
   },
   {
    "duration": 77,
    "start_time": "2022-01-17T12:59:57.586Z"
   },
   {
    "duration": 5163,
    "start_time": "2022-01-17T13:00:11.464Z"
   },
   {
    "duration": 529,
    "start_time": "2022-01-17T13:07:59.664Z"
   },
   {
    "duration": 4910,
    "start_time": "2022-01-17T13:08:19.553Z"
   },
   {
    "duration": 1300,
    "start_time": "2022-01-17T13:38:05.619Z"
   },
   {
    "duration": 972,
    "start_time": "2022-01-17T13:43:07.518Z"
   },
   {
    "duration": 101,
    "start_time": "2022-01-17T13:43:08.494Z"
   },
   {
    "duration": 949,
    "start_time": "2022-01-17T13:43:08.600Z"
   },
   {
    "duration": 1066,
    "start_time": "2022-01-17T13:43:09.552Z"
   },
   {
    "duration": 752,
    "start_time": "2022-01-17T13:43:10.620Z"
   },
   {
    "duration": 823,
    "start_time": "2022-01-17T13:43:11.375Z"
   },
   {
    "duration": 418977,
    "start_time": "2022-01-17T13:43:12.200Z"
   },
   {
    "duration": 715,
    "start_time": "2022-01-17T13:50:11.183Z"
   },
   {
    "duration": 795,
    "start_time": "2022-01-17T13:50:11.902Z"
   },
   {
    "duration": 777,
    "start_time": "2022-01-17T13:50:12.700Z"
   },
   {
    "duration": 38,
    "start_time": "2022-01-17T13:50:13.481Z"
   },
   {
    "duration": 798,
    "start_time": "2022-01-17T13:50:13.522Z"
   },
   {
    "duration": 1108,
    "start_time": "2022-01-17T13:50:14.324Z"
   },
   {
    "duration": 401,
    "start_time": "2022-01-17T13:50:15.434Z"
   },
   {
    "duration": 682,
    "start_time": "2022-01-17T13:50:15.838Z"
   },
   {
    "duration": 276,
    "start_time": "2022-01-17T13:50:16.522Z"
   },
   {
    "duration": 723,
    "start_time": "2022-01-17T13:50:16.801Z"
   },
   {
    "duration": 723,
    "start_time": "2022-01-17T13:50:17.527Z"
   },
   {
    "duration": 296,
    "start_time": "2022-01-17T13:50:18.253Z"
   },
   {
    "duration": 25,
    "start_time": "2022-01-17T13:50:18.551Z"
   },
   {
    "duration": 552,
    "start_time": "2022-01-17T13:50:18.578Z"
   },
   {
    "duration": 90,
    "start_time": "2022-01-17T13:50:19.132Z"
   },
   {
    "duration": 4969,
    "start_time": "2022-01-17T13:50:19.226Z"
   },
   {
    "duration": 186,
    "start_time": "2022-01-17T13:58:34.731Z"
   },
   {
    "duration": 96,
    "start_time": "2022-01-17T13:58:34.921Z"
   },
   {
    "duration": 890,
    "start_time": "2022-01-17T13:58:35.020Z"
   },
   {
    "duration": 732,
    "start_time": "2022-01-17T13:58:35.912Z"
   },
   {
    "duration": 842,
    "start_time": "2022-01-17T13:58:36.646Z"
   },
   {
    "duration": 745,
    "start_time": "2022-01-17T13:58:37.490Z"
   },
   {
    "duration": 421415,
    "start_time": "2022-01-17T13:58:38.241Z"
   },
   {
    "duration": 744,
    "start_time": "2022-01-17T14:05:39.662Z"
   },
   {
    "duration": 5481,
    "start_time": "2022-01-17T14:05:40.409Z"
   },
   {
    "duration": 784,
    "start_time": "2022-01-17T14:05:45.893Z"
   },
   {
    "duration": 36,
    "start_time": "2022-01-17T14:05:46.680Z"
   },
   {
    "duration": 765,
    "start_time": "2022-01-17T14:05:46.719Z"
   },
   {
    "duration": 716,
    "start_time": "2022-01-17T14:05:47.487Z"
   },
   {
    "duration": 302,
    "start_time": "2022-01-17T14:05:48.206Z"
   },
   {
    "duration": 686,
    "start_time": "2022-01-17T14:05:48.511Z"
   },
   {
    "duration": 278,
    "start_time": "2022-01-17T14:05:49.200Z"
   },
   {
    "duration": 702,
    "start_time": "2022-01-17T14:05:49.482Z"
   },
   {
    "duration": 706,
    "start_time": "2022-01-17T14:05:50.187Z"
   },
   {
    "duration": 305,
    "start_time": "2022-01-17T14:05:50.896Z"
   },
   {
    "duration": 17,
    "start_time": "2022-01-17T14:05:51.204Z"
   },
   {
    "duration": 572,
    "start_time": "2022-01-17T14:05:51.223Z"
   },
   {
    "duration": 98,
    "start_time": "2022-01-17T14:05:51.800Z"
   },
   {
    "duration": 4912,
    "start_time": "2022-01-17T14:05:51.901Z"
   },
   {
    "duration": 996,
    "start_time": "2022-01-17T14:15:53.644Z"
   },
   {
    "duration": 282,
    "start_time": "2022-01-17T14:24:58.013Z"
   },
   {
    "duration": 191,
    "start_time": "2022-01-17T14:25:10.240Z"
   },
   {
    "duration": 88,
    "start_time": "2022-01-17T14:25:10.433Z"
   },
   {
    "duration": 893,
    "start_time": "2022-01-17T14:25:10.525Z"
   },
   {
    "duration": 735,
    "start_time": "2022-01-17T14:25:11.421Z"
   },
   {
    "duration": 1277,
    "start_time": "2022-01-17T14:25:12.159Z"
   },
   {
    "duration": 755,
    "start_time": "2022-01-17T14:25:13.439Z"
   },
   {
    "duration": 725,
    "start_time": "2022-01-17T14:25:14.197Z"
   },
   {
    "duration": 738,
    "start_time": "2022-01-17T14:25:14.925Z"
   },
   {
    "duration": 754,
    "start_time": "2022-01-17T14:25:15.666Z"
   },
   {
    "duration": 48,
    "start_time": "2022-01-17T14:25:16.423Z"
   },
   {
    "duration": 760,
    "start_time": "2022-01-17T14:25:16.474Z"
   },
   {
    "duration": 1031,
    "start_time": "2022-01-17T14:25:17.236Z"
   },
   {
    "duration": 303,
    "start_time": "2022-01-17T14:25:18.271Z"
   },
   {
    "duration": 739,
    "start_time": "2022-01-17T14:25:18.577Z"
   },
   {
    "duration": 283,
    "start_time": "2022-01-17T14:25:19.320Z"
   },
   {
    "duration": 695,
    "start_time": "2022-01-17T14:25:19.605Z"
   },
   {
    "duration": 705,
    "start_time": "2022-01-17T14:25:20.302Z"
   },
   {
    "duration": 309,
    "start_time": "2022-01-17T14:25:21.009Z"
   },
   {
    "duration": 17,
    "start_time": "2022-01-17T14:25:21.321Z"
   },
   {
    "duration": 573,
    "start_time": "2022-01-17T14:25:21.340Z"
   },
   {
    "duration": 95,
    "start_time": "2022-01-17T14:25:21.916Z"
   },
   {
    "duration": 5330,
    "start_time": "2022-01-17T14:25:22.015Z"
   },
   {
    "duration": 7059,
    "start_time": "2022-01-17T14:45:54.090Z"
   },
   {
    "duration": 6733,
    "start_time": "2022-01-17T14:46:33.623Z"
   },
   {
    "duration": 192,
    "start_time": "2022-01-17T14:46:45.539Z"
   },
   {
    "duration": 101,
    "start_time": "2022-01-17T14:46:45.735Z"
   },
   {
    "duration": 899,
    "start_time": "2022-01-17T14:46:45.840Z"
   },
   {
    "duration": 812,
    "start_time": "2022-01-17T14:46:46.742Z"
   },
   {
    "duration": 743,
    "start_time": "2022-01-17T14:46:47.557Z"
   },
   {
    "duration": 740,
    "start_time": "2022-01-17T14:46:48.303Z"
   },
   {
    "duration": 885,
    "start_time": "2022-01-17T14:46:49.046Z"
   },
   {
    "duration": 731,
    "start_time": "2022-01-17T14:46:49.935Z"
   },
   {
    "duration": 779,
    "start_time": "2022-01-17T14:46:50.669Z"
   },
   {
    "duration": 45,
    "start_time": "2022-01-17T14:46:51.450Z"
   },
   {
    "duration": 777,
    "start_time": "2022-01-17T14:46:51.498Z"
   },
   {
    "duration": 889,
    "start_time": "2022-01-17T14:46:52.278Z"
   },
   {
    "duration": 305,
    "start_time": "2022-01-17T14:46:53.169Z"
   },
   {
    "duration": 720,
    "start_time": "2022-01-17T14:46:53.476Z"
   },
   {
    "duration": 290,
    "start_time": "2022-01-17T14:46:54.199Z"
   },
   {
    "duration": 717,
    "start_time": "2022-01-17T14:46:54.492Z"
   },
   {
    "duration": 706,
    "start_time": "2022-01-17T14:46:55.212Z"
   },
   {
    "duration": 315,
    "start_time": "2022-01-17T14:46:55.921Z"
   },
   {
    "duration": 29,
    "start_time": "2022-01-17T14:46:56.239Z"
   },
   {
    "duration": 611,
    "start_time": "2022-01-17T14:46:56.270Z"
   },
   {
    "duration": 134,
    "start_time": "2022-01-17T14:46:56.884Z"
   },
   {
    "duration": 4893,
    "start_time": "2022-01-17T14:46:57.022Z"
   },
   {
    "duration": 6193,
    "start_time": "2022-01-17T14:48:28.920Z"
   },
   {
    "duration": 192,
    "start_time": "2022-01-17T14:48:42.573Z"
   },
   {
    "duration": 55,
    "start_time": "2022-01-17T14:48:42.768Z"
   },
   {
    "duration": 911,
    "start_time": "2022-01-17T14:48:42.826Z"
   },
   {
    "duration": 734,
    "start_time": "2022-01-17T14:48:43.740Z"
   },
   {
    "duration": 831,
    "start_time": "2022-01-17T14:48:44.477Z"
   },
   {
    "duration": 741,
    "start_time": "2022-01-17T14:48:45.311Z"
   },
   {
    "duration": 699,
    "start_time": "2022-01-17T14:48:46.063Z"
   },
   {
    "duration": 723,
    "start_time": "2022-01-17T14:48:46.767Z"
   },
   {
    "duration": 893,
    "start_time": "2022-01-17T14:48:47.495Z"
   },
   {
    "duration": 36,
    "start_time": "2022-01-17T14:48:48.391Z"
   },
   {
    "duration": 790,
    "start_time": "2022-01-17T14:48:48.430Z"
   },
   {
    "duration": 740,
    "start_time": "2022-01-17T14:48:49.223Z"
   },
   {
    "duration": 294,
    "start_time": "2022-01-17T14:48:49.965Z"
   },
   {
    "duration": 711,
    "start_time": "2022-01-17T14:48:50.262Z"
   },
   {
    "duration": 267,
    "start_time": "2022-01-17T14:48:50.976Z"
   },
   {
    "duration": 763,
    "start_time": "2022-01-17T14:48:51.246Z"
   },
   {
    "duration": 717,
    "start_time": "2022-01-17T14:48:52.011Z"
   },
   {
    "duration": 380,
    "start_time": "2022-01-17T14:48:52.730Z"
   },
   {
    "duration": 17,
    "start_time": "2022-01-17T14:48:53.113Z"
   },
   {
    "duration": 752,
    "start_time": "2022-01-17T14:48:53.133Z"
   },
   {
    "duration": 99,
    "start_time": "2022-01-17T14:48:53.888Z"
   },
   {
    "duration": 4911,
    "start_time": "2022-01-17T14:48:53.990Z"
   },
   {
    "duration": 7523,
    "start_time": "2022-01-17T14:56:17.849Z"
   },
   {
    "duration": 196,
    "start_time": "2022-01-17T14:56:28.287Z"
   },
   {
    "duration": 78,
    "start_time": "2022-01-17T14:56:28.486Z"
   },
   {
    "duration": 869,
    "start_time": "2022-01-17T14:56:28.567Z"
   },
   {
    "duration": 766,
    "start_time": "2022-01-17T14:56:29.440Z"
   },
   {
    "duration": 754,
    "start_time": "2022-01-17T14:56:30.209Z"
   },
   {
    "duration": 742,
    "start_time": "2022-01-17T14:56:30.965Z"
   },
   {
    "duration": 728,
    "start_time": "2022-01-17T14:56:31.709Z"
   },
   {
    "duration": 731,
    "start_time": "2022-01-17T14:56:32.441Z"
   },
   {
    "duration": 754,
    "start_time": "2022-01-17T14:56:33.175Z"
   },
   {
    "duration": 44,
    "start_time": "2022-01-17T14:56:33.931Z"
   },
   {
    "duration": 739,
    "start_time": "2022-01-17T14:56:33.978Z"
   },
   {
    "duration": 742,
    "start_time": "2022-01-17T14:56:34.720Z"
   },
   {
    "duration": 306,
    "start_time": "2022-01-17T14:56:35.465Z"
   },
   {
    "duration": 692,
    "start_time": "2022-01-17T14:56:35.775Z"
   },
   {
    "duration": 272,
    "start_time": "2022-01-17T14:56:36.471Z"
   },
   {
    "duration": 719,
    "start_time": "2022-01-17T14:56:36.746Z"
   },
   {
    "duration": 742,
    "start_time": "2022-01-17T14:56:37.467Z"
   },
   {
    "duration": 298,
    "start_time": "2022-01-17T14:56:38.212Z"
   },
   {
    "duration": 18,
    "start_time": "2022-01-17T14:56:38.512Z"
   },
   {
    "duration": 586,
    "start_time": "2022-01-17T14:56:38.533Z"
   },
   {
    "duration": 93,
    "start_time": "2022-01-17T14:56:39.121Z"
   },
   {
    "duration": 4731,
    "start_time": "2022-01-17T14:56:39.217Z"
   },
   {
    "duration": 201,
    "start_time": "2022-01-17T14:57:10.321Z"
   },
   {
    "duration": 81,
    "start_time": "2022-01-17T14:57:10.525Z"
   },
   {
    "duration": 884,
    "start_time": "2022-01-17T14:57:10.609Z"
   },
   {
    "duration": 747,
    "start_time": "2022-01-17T14:57:11.496Z"
   },
   {
    "duration": 745,
    "start_time": "2022-01-17T14:57:12.246Z"
   },
   {
    "duration": 737,
    "start_time": "2022-01-17T14:57:12.994Z"
   },
   {
    "duration": 733,
    "start_time": "2022-01-17T14:57:13.734Z"
   },
   {
    "duration": 719,
    "start_time": "2022-01-17T14:57:14.471Z"
   },
   {
    "duration": 747,
    "start_time": "2022-01-17T14:57:15.193Z"
   },
   {
    "duration": 46,
    "start_time": "2022-01-17T14:57:15.943Z"
   },
   {
    "duration": 745,
    "start_time": "2022-01-17T14:57:15.992Z"
   },
   {
    "duration": 728,
    "start_time": "2022-01-17T14:57:16.739Z"
   },
   {
    "duration": 311,
    "start_time": "2022-01-17T14:57:17.470Z"
   },
   {
    "duration": 698,
    "start_time": "2022-01-17T14:57:17.783Z"
   },
   {
    "duration": 273,
    "start_time": "2022-01-17T14:57:18.484Z"
   },
   {
    "duration": 863,
    "start_time": "2022-01-17T14:57:18.760Z"
   },
   {
    "duration": 716,
    "start_time": "2022-01-17T14:57:19.626Z"
   },
   {
    "duration": 308,
    "start_time": "2022-01-17T14:57:20.344Z"
   },
   {
    "duration": 20,
    "start_time": "2022-01-17T14:57:20.655Z"
   },
   {
    "duration": 601,
    "start_time": "2022-01-17T14:57:20.678Z"
   },
   {
    "duration": 107,
    "start_time": "2022-01-17T14:57:21.282Z"
   },
   {
    "duration": 4723,
    "start_time": "2022-01-17T14:57:21.392Z"
   },
   {
    "duration": 193,
    "start_time": "2022-01-17T14:57:45.087Z"
   },
   {
    "duration": 61,
    "start_time": "2022-01-17T14:57:45.282Z"
   },
   {
    "duration": 899,
    "start_time": "2022-01-17T14:57:45.363Z"
   },
   {
    "duration": 716,
    "start_time": "2022-01-17T14:57:46.265Z"
   },
   {
    "duration": 829,
    "start_time": "2022-01-17T14:57:46.984Z"
   },
   {
    "duration": 717,
    "start_time": "2022-01-17T14:57:47.815Z"
   },
   {
    "duration": 719,
    "start_time": "2022-01-17T14:57:48.535Z"
   },
   {
    "duration": 727,
    "start_time": "2022-01-17T14:57:49.263Z"
   },
   {
    "duration": 775,
    "start_time": "2022-01-17T14:57:49.994Z"
   },
   {
    "duration": 47,
    "start_time": "2022-01-17T14:57:50.771Z"
   },
   {
    "duration": 1096,
    "start_time": "2022-01-17T14:57:50.821Z"
   },
   {
    "duration": 713,
    "start_time": "2022-01-17T14:57:51.920Z"
   },
   {
    "duration": 311,
    "start_time": "2022-01-17T14:57:52.637Z"
   },
   {
    "duration": 715,
    "start_time": "2022-01-17T14:57:52.951Z"
   },
   {
    "duration": 263,
    "start_time": "2022-01-17T14:57:53.669Z"
   },
   {
    "duration": 729,
    "start_time": "2022-01-17T14:57:53.936Z"
   },
   {
    "duration": 755,
    "start_time": "2022-01-17T14:57:54.668Z"
   },
   {
    "duration": 304,
    "start_time": "2022-01-17T14:57:55.425Z"
   },
   {
    "duration": 33,
    "start_time": "2022-01-17T14:57:55.731Z"
   },
   {
    "duration": 582,
    "start_time": "2022-01-17T14:57:55.766Z"
   },
   {
    "duration": 83,
    "start_time": "2022-01-17T14:57:56.351Z"
   },
   {
    "duration": 4603,
    "start_time": "2022-01-17T14:57:56.437Z"
   },
   {
    "duration": 85,
    "start_time": "2022-01-17T15:06:28.311Z"
   },
   {
    "duration": -314,
    "start_time": "2022-01-17T15:06:45.180Z"
   },
   {
    "duration": -322,
    "start_time": "2022-01-17T15:06:45.189Z"
   },
   {
    "duration": -324,
    "start_time": "2022-01-17T15:06:45.193Z"
   },
   {
    "duration": -326,
    "start_time": "2022-01-17T15:06:45.197Z"
   },
   {
    "duration": -329,
    "start_time": "2022-01-17T15:06:45.201Z"
   },
   {
    "duration": -332,
    "start_time": "2022-01-17T15:06:45.205Z"
   },
   {
    "duration": -341,
    "start_time": "2022-01-17T15:06:45.216Z"
   },
   {
    "duration": -343,
    "start_time": "2022-01-17T15:06:45.219Z"
   },
   {
    "duration": -346,
    "start_time": "2022-01-17T15:06:45.224Z"
   },
   {
    "duration": -349,
    "start_time": "2022-01-17T15:06:45.228Z"
   },
   {
    "duration": -352,
    "start_time": "2022-01-17T15:06:45.232Z"
   },
   {
    "duration": -353,
    "start_time": "2022-01-17T15:06:45.235Z"
   },
   {
    "duration": -356,
    "start_time": "2022-01-17T15:06:45.239Z"
   },
   {
    "duration": -358,
    "start_time": "2022-01-17T15:06:45.243Z"
   },
   {
    "duration": -360,
    "start_time": "2022-01-17T15:06:45.246Z"
   },
   {
    "duration": -361,
    "start_time": "2022-01-17T15:06:45.249Z"
   },
   {
    "duration": -364,
    "start_time": "2022-01-17T15:06:45.253Z"
   },
   {
    "duration": -367,
    "start_time": "2022-01-17T15:06:45.257Z"
   },
   {
    "duration": -368,
    "start_time": "2022-01-17T15:06:45.260Z"
   },
   {
    "duration": -371,
    "start_time": "2022-01-17T15:06:45.264Z"
   },
   {
    "duration": -381,
    "start_time": "2022-01-17T15:06:45.275Z"
   },
   {
    "duration": -382,
    "start_time": "2022-01-17T15:06:45.278Z"
   },
   {
    "duration": 199,
    "start_time": "2022-01-17T15:07:07.338Z"
   },
   {
    "duration": 92,
    "start_time": "2022-01-17T15:07:07.540Z"
   },
   {
    "duration": 863,
    "start_time": "2022-01-17T15:07:07.636Z"
   },
   {
    "duration": 730,
    "start_time": "2022-01-17T15:07:08.503Z"
   },
   {
    "duration": 843,
    "start_time": "2022-01-17T15:07:09.236Z"
   },
   {
    "duration": 744,
    "start_time": "2022-01-17T15:07:10.081Z"
   },
   {
    "duration": 746,
    "start_time": "2022-01-17T15:07:10.828Z"
   },
   {
    "duration": 720,
    "start_time": "2022-01-17T15:07:11.577Z"
   },
   {
    "duration": 768,
    "start_time": "2022-01-17T15:07:12.300Z"
   },
   {
    "duration": 43,
    "start_time": "2022-01-17T15:07:13.070Z"
   },
   {
    "duration": 776,
    "start_time": "2022-01-17T15:07:13.115Z"
   },
   {
    "duration": 716,
    "start_time": "2022-01-17T15:07:13.894Z"
   },
   {
    "duration": 397,
    "start_time": "2022-01-17T15:07:14.612Z"
   },
   {
    "duration": 677,
    "start_time": "2022-01-17T15:07:15.012Z"
   },
   {
    "duration": 275,
    "start_time": "2022-01-17T15:07:15.692Z"
   },
   {
    "duration": 696,
    "start_time": "2022-01-17T15:07:15.969Z"
   },
   {
    "duration": 711,
    "start_time": "2022-01-17T15:07:16.668Z"
   },
   {
    "duration": 299,
    "start_time": "2022-01-17T15:07:17.381Z"
   },
   {
    "duration": 17,
    "start_time": "2022-01-17T15:07:17.683Z"
   },
   {
    "duration": 600,
    "start_time": "2022-01-17T15:07:17.702Z"
   },
   {
    "duration": 96,
    "start_time": "2022-01-17T15:07:18.304Z"
   },
   {
    "duration": 4846,
    "start_time": "2022-01-17T15:07:18.403Z"
   },
   {
    "duration": 300,
    "start_time": "2022-01-17T15:10:18.544Z"
   },
   {
    "duration": 131,
    "start_time": "2022-01-17T15:10:18.848Z"
   },
   {
    "duration": 1551,
    "start_time": "2022-01-17T15:10:18.983Z"
   },
   {
    "duration": 1087,
    "start_time": "2022-01-17T15:10:20.538Z"
   },
   {
    "duration": 1144,
    "start_time": "2022-01-17T15:10:21.628Z"
   },
   {
    "duration": 917,
    "start_time": "2022-01-17T15:10:22.775Z"
   },
   {
    "duration": 868,
    "start_time": "2022-01-17T15:10:23.695Z"
   },
   {
    "duration": 1153,
    "start_time": "2022-01-17T15:10:24.567Z"
   },
   {
    "duration": 833,
    "start_time": "2022-01-17T15:10:25.725Z"
   },
   {
    "duration": 37,
    "start_time": "2022-01-17T15:10:26.564Z"
   },
   {
    "duration": 745,
    "start_time": "2022-01-17T15:10:26.604Z"
   },
   {
    "duration": 725,
    "start_time": "2022-01-17T15:10:27.352Z"
   },
   {
    "duration": 285,
    "start_time": "2022-01-17T15:10:28.080Z"
   },
   {
    "duration": 705,
    "start_time": "2022-01-17T15:10:28.367Z"
   },
   {
    "duration": 265,
    "start_time": "2022-01-17T15:10:29.074Z"
   },
   {
    "duration": 789,
    "start_time": "2022-01-17T15:10:29.342Z"
   },
   {
    "duration": 724,
    "start_time": "2022-01-17T15:10:30.134Z"
   },
   {
    "duration": 303,
    "start_time": "2022-01-17T15:10:30.863Z"
   },
   {
    "duration": 16,
    "start_time": "2022-01-17T15:10:31.168Z"
   },
   {
    "duration": 718,
    "start_time": "2022-01-17T15:10:31.187Z"
   },
   {
    "duration": 143,
    "start_time": "2022-01-17T15:10:31.909Z"
   },
   {
    "duration": 7508,
    "start_time": "2022-01-17T15:10:32.055Z"
   },
   {
    "duration": 654,
    "start_time": "2022-01-17T15:19:57.813Z"
   },
   {
    "duration": 1007,
    "start_time": "2022-01-18T02:54:52.395Z"
   },
   {
    "duration": 87,
    "start_time": "2022-01-18T02:54:53.405Z"
   },
   {
    "duration": 825,
    "start_time": "2022-01-18T02:54:53.495Z"
   },
   {
    "duration": 747,
    "start_time": "2022-01-18T02:54:54.323Z"
   },
   {
    "duration": 698,
    "start_time": "2022-01-18T02:54:55.073Z"
   },
   {
    "duration": 867,
    "start_time": "2022-01-18T02:54:55.775Z"
   },
   {
    "duration": 700,
    "start_time": "2022-01-18T02:54:56.644Z"
   },
   {
    "duration": 697,
    "start_time": "2022-01-18T02:54:57.348Z"
   },
   {
    "duration": 898,
    "start_time": "2022-01-18T02:54:58.050Z"
   },
   {
    "duration": 42,
    "start_time": "2022-01-18T02:54:58.951Z"
   },
   {
    "duration": 724,
    "start_time": "2022-01-18T02:54:58.996Z"
   },
   {
    "duration": 681,
    "start_time": "2022-01-18T02:54:59.722Z"
   },
   {
    "duration": 387,
    "start_time": "2022-01-18T02:55:00.406Z"
   },
   {
    "duration": 682,
    "start_time": "2022-01-18T02:55:00.795Z"
   },
   {
    "duration": 256,
    "start_time": "2022-01-18T02:55:01.479Z"
   },
   {
    "duration": 704,
    "start_time": "2022-01-18T02:55:01.737Z"
   },
   {
    "duration": 717,
    "start_time": "2022-01-18T02:55:02.443Z"
   },
   {
    "duration": 282,
    "start_time": "2022-01-18T02:55:03.162Z"
   },
   {
    "duration": 24,
    "start_time": "2022-01-18T02:55:03.446Z"
   },
   {
    "duration": 598,
    "start_time": "2022-01-18T02:55:03.472Z"
   },
   {
    "duration": 95,
    "start_time": "2022-01-18T02:55:04.072Z"
   },
   {
    "duration": 4503,
    "start_time": "2022-01-18T02:55:04.169Z"
   },
   {
    "duration": 670,
    "start_time": "2022-01-18T03:01:55.771Z"
   },
   {
    "duration": 261,
    "start_time": "2022-01-18T03:02:46.775Z"
   },
   {
    "duration": 375,
    "start_time": "2022-01-18T03:03:02.744Z"
   },
   {
    "duration": 638,
    "start_time": "2022-01-18T03:05:36.492Z"
   },
   {
    "duration": 398,
    "start_time": "2022-01-18T03:11:43.494Z"
   },
   {
    "duration": 666,
    "start_time": "2022-01-18T03:12:01.078Z"
   },
   {
    "duration": 621,
    "start_time": "2022-01-18T03:12:32.830Z"
   },
   {
    "duration": 748,
    "start_time": "2022-01-18T03:13:44.407Z"
   },
   {
    "duration": 618,
    "start_time": "2022-01-18T03:14:39.732Z"
   },
   {
    "duration": 367,
    "start_time": "2022-01-18T03:17:17.048Z"
   },
   {
    "duration": 646,
    "start_time": "2022-01-18T03:18:33.880Z"
   },
   {
    "duration": 628,
    "start_time": "2022-01-18T03:18:41.687Z"
   },
   {
    "duration": 666,
    "start_time": "2022-01-18T03:19:09.758Z"
   },
   {
    "duration": 354,
    "start_time": "2022-01-18T03:21:41.256Z"
   },
   {
    "duration": 330,
    "start_time": "2022-01-18T03:22:23.868Z"
   },
   {
    "duration": 177,
    "start_time": "2022-01-18T03:22:34.238Z"
   },
   {
    "duration": 89,
    "start_time": "2022-01-18T03:22:34.418Z"
   },
   {
    "duration": 927,
    "start_time": "2022-01-18T03:22:34.510Z"
   },
   {
    "duration": 770,
    "start_time": "2022-01-18T03:22:35.440Z"
   },
   {
    "duration": 733,
    "start_time": "2022-01-18T03:22:36.214Z"
   },
   {
    "duration": 679,
    "start_time": "2022-01-18T03:22:36.950Z"
   },
   {
    "duration": 691,
    "start_time": "2022-01-18T03:22:37.631Z"
   },
   {
    "duration": 688,
    "start_time": "2022-01-18T03:22:38.326Z"
   },
   {
    "duration": 837,
    "start_time": "2022-01-18T03:22:39.017Z"
   },
   {
    "duration": 32,
    "start_time": "2022-01-18T03:22:39.860Z"
   },
   {
    "duration": 715,
    "start_time": "2022-01-18T03:22:39.894Z"
   },
   {
    "duration": 676,
    "start_time": "2022-01-18T03:22:40.611Z"
   },
   {
    "duration": 274,
    "start_time": "2022-01-18T03:22:41.289Z"
   },
   {
    "duration": 688,
    "start_time": "2022-01-18T03:22:41.566Z"
   },
   {
    "duration": 259,
    "start_time": "2022-01-18T03:22:42.259Z"
   },
   {
    "duration": 679,
    "start_time": "2022-01-18T03:22:42.520Z"
   },
   {
    "duration": 677,
    "start_time": "2022-01-18T03:22:43.202Z"
   },
   {
    "duration": 293,
    "start_time": "2022-01-18T03:22:43.882Z"
   },
   {
    "duration": 18,
    "start_time": "2022-01-18T03:22:44.178Z"
   },
   {
    "duration": 571,
    "start_time": "2022-01-18T03:22:44.199Z"
   },
   {
    "duration": 95,
    "start_time": "2022-01-18T03:22:44.773Z"
   },
   {
    "duration": 4502,
    "start_time": "2022-01-18T03:22:44.872Z"
   },
   {
    "duration": 337,
    "start_time": "2022-01-18T03:26:17.943Z"
   },
   {
    "duration": 195,
    "start_time": "2022-01-18T03:28:02.084Z"
   },
   {
    "duration": 83,
    "start_time": "2022-01-18T03:28:02.281Z"
   },
   {
    "duration": 826,
    "start_time": "2022-01-18T03:28:02.367Z"
   },
   {
    "duration": 918,
    "start_time": "2022-01-18T03:28:03.196Z"
   },
   {
    "duration": 697,
    "start_time": "2022-01-18T03:28:04.116Z"
   },
   {
    "duration": 693,
    "start_time": "2022-01-18T03:28:04.815Z"
   },
   {
    "duration": 696,
    "start_time": "2022-01-18T03:28:05.510Z"
   },
   {
    "duration": 708,
    "start_time": "2022-01-18T03:28:06.212Z"
   },
   {
    "duration": 893,
    "start_time": "2022-01-18T03:28:06.924Z"
   },
   {
    "duration": 51,
    "start_time": "2022-01-18T03:28:07.820Z"
   },
   {
    "duration": 728,
    "start_time": "2022-01-18T03:28:07.874Z"
   },
   {
    "duration": 773,
    "start_time": "2022-01-18T03:28:08.605Z"
   },
   {
    "duration": 298,
    "start_time": "2022-01-18T03:28:09.382Z"
   },
   {
    "duration": 692,
    "start_time": "2022-01-18T03:28:09.682Z"
   },
   {
    "duration": 256,
    "start_time": "2022-01-18T03:28:10.376Z"
   },
   {
    "duration": 798,
    "start_time": "2022-01-18T03:28:10.635Z"
   },
   {
    "duration": 710,
    "start_time": "2022-01-18T03:28:11.435Z"
   },
   {
    "duration": 293,
    "start_time": "2022-01-18T03:28:12.149Z"
   },
   {
    "duration": 27,
    "start_time": "2022-01-18T03:28:12.445Z"
   },
   {
    "duration": 582,
    "start_time": "2022-01-18T03:28:12.475Z"
   },
   {
    "duration": 77,
    "start_time": "2022-01-18T03:28:13.061Z"
   },
   {
    "duration": 4842,
    "start_time": "2022-01-18T03:28:13.159Z"
   },
   {
    "duration": 670,
    "start_time": "2022-01-18T03:30:58.075Z"
   },
   {
    "duration": 690,
    "start_time": "2022-01-18T03:32:56.408Z"
   },
   {
    "duration": 703,
    "start_time": "2022-01-18T03:35:46.766Z"
   },
   {
    "duration": 951,
    "start_time": "2022-01-18T03:36:51.477Z"
   },
   {
    "duration": 392,
    "start_time": "2022-01-18T03:37:24.796Z"
   },
   {
    "duration": 344,
    "start_time": "2022-01-18T03:37:50.634Z"
   },
   {
    "duration": 187,
    "start_time": "2022-01-18T03:37:55.345Z"
   },
   {
    "duration": 82,
    "start_time": "2022-01-18T03:37:55.535Z"
   },
   {
    "duration": 1085,
    "start_time": "2022-01-18T03:37:55.620Z"
   },
   {
    "duration": 709,
    "start_time": "2022-01-18T03:37:56.708Z"
   },
   {
    "duration": 700,
    "start_time": "2022-01-18T03:37:57.420Z"
   },
   {
    "duration": 711,
    "start_time": "2022-01-18T03:37:58.122Z"
   },
   {
    "duration": 692,
    "start_time": "2022-01-18T03:37:58.837Z"
   },
   {
    "duration": 928,
    "start_time": "2022-01-18T03:37:59.534Z"
   },
   {
    "duration": 745,
    "start_time": "2022-01-18T03:38:00.466Z"
   },
   {
    "duration": 54,
    "start_time": "2022-01-18T03:38:01.215Z"
   },
   {
    "duration": 764,
    "start_time": "2022-01-18T03:38:01.272Z"
   },
   {
    "duration": 727,
    "start_time": "2022-01-18T03:38:02.039Z"
   },
   {
    "duration": 278,
    "start_time": "2022-01-18T03:38:02.768Z"
   },
   {
    "duration": 729,
    "start_time": "2022-01-18T03:38:03.048Z"
   },
   {
    "duration": 260,
    "start_time": "2022-01-18T03:38:03.780Z"
   },
   {
    "duration": 701,
    "start_time": "2022-01-18T03:38:04.043Z"
   },
   {
    "duration": 730,
    "start_time": "2022-01-18T03:38:04.746Z"
   },
   {
    "duration": 288,
    "start_time": "2022-01-18T03:38:05.478Z"
   },
   {
    "duration": 17,
    "start_time": "2022-01-18T03:38:05.768Z"
   },
   {
    "duration": 692,
    "start_time": "2022-01-18T03:38:05.788Z"
   },
   {
    "duration": 85,
    "start_time": "2022-01-18T03:38:06.483Z"
   },
   {
    "duration": 4630,
    "start_time": "2022-01-18T03:38:06.571Z"
   },
   {
    "duration": 261,
    "start_time": "2022-01-18T03:47:05.665Z"
   },
   {
    "duration": 645,
    "start_time": "2022-01-18T03:48:05.929Z"
   },
   {
    "duration": 667,
    "start_time": "2022-01-18T03:51:03.335Z"
   },
   {
    "duration": 659,
    "start_time": "2022-01-18T03:51:33.334Z"
   },
   {
    "duration": 664,
    "start_time": "2022-01-18T03:51:49.151Z"
   },
   {
    "duration": 673,
    "start_time": "2022-01-18T03:52:37.780Z"
   },
   {
    "duration": 127,
    "start_time": "2022-01-18T04:03:18.625Z"
   },
   {
    "duration": 438,
    "start_time": "2022-01-18T19:29:12.570Z"
   },
   {
    "duration": 1056,
    "start_time": "2022-01-18T19:29:16.825Z"
   },
   {
    "duration": 90,
    "start_time": "2022-01-18T19:29:17.883Z"
   },
   {
    "duration": 859,
    "start_time": "2022-01-18T19:29:17.977Z"
   },
   {
    "duration": 865,
    "start_time": "2022-01-18T19:29:18.839Z"
   },
   {
    "duration": 751,
    "start_time": "2022-01-18T19:29:19.706Z"
   },
   {
    "duration": 730,
    "start_time": "2022-01-18T19:29:20.459Z"
   },
   {
    "duration": 286,
    "start_time": "2022-01-18T19:29:21.192Z"
   },
   {
    "duration": 242,
    "start_time": "2022-01-18T19:29:29.785Z"
   },
   {
    "duration": 66,
    "start_time": "2022-01-19T04:50:11.821Z"
   },
   {
    "duration": 74,
    "start_time": "2022-01-19T04:50:50.312Z"
   },
   {
    "duration": 803,
    "start_time": "2022-01-19T04:51:06.627Z"
   },
   {
    "duration": 57,
    "start_time": "2022-01-19T04:51:07.432Z"
   },
   {
    "duration": 502,
    "start_time": "2022-01-19T04:51:07.492Z"
   },
   {
    "duration": 463,
    "start_time": "2022-01-19T04:51:07.996Z"
   },
   {
    "duration": 427,
    "start_time": "2022-01-19T04:51:08.461Z"
   },
   {
    "duration": 411,
    "start_time": "2022-01-19T04:51:08.889Z"
   },
   {
    "duration": 166,
    "start_time": "2022-01-19T04:51:09.301Z"
   },
   {
    "duration": 421,
    "start_time": "2022-01-19T04:51:09.470Z"
   },
   {
    "duration": 428,
    "start_time": "2022-01-19T04:51:09.893Z"
   },
   {
    "duration": 537,
    "start_time": "2022-01-19T04:51:10.323Z"
   },
   {
    "duration": 22,
    "start_time": "2022-01-19T04:51:10.862Z"
   },
   {
    "duration": 536,
    "start_time": "2022-01-19T04:51:10.886Z"
   },
   {
    "duration": 499,
    "start_time": "2022-01-19T04:51:11.424Z"
   },
   {
    "duration": 170,
    "start_time": "2022-01-19T04:51:11.925Z"
   },
   {
    "duration": 505,
    "start_time": "2022-01-19T04:51:12.096Z"
   },
   {
    "duration": 166,
    "start_time": "2022-01-19T04:51:12.603Z"
   },
   {
    "duration": 484,
    "start_time": "2022-01-19T04:51:12.771Z"
   },
   {
    "duration": 477,
    "start_time": "2022-01-19T04:51:13.260Z"
   },
   {
    "duration": 174,
    "start_time": "2022-01-19T04:51:13.738Z"
   },
   {
    "duration": 10,
    "start_time": "2022-01-19T04:51:13.914Z"
   },
   {
    "duration": 351,
    "start_time": "2022-01-19T04:51:13.926Z"
   },
   {
    "duration": 129,
    "start_time": "2022-01-19T04:51:14.279Z"
   },
   {
    "duration": 2580,
    "start_time": "2022-01-19T04:51:14.411Z"
   },
   {
    "duration": 66,
    "start_time": "2022-01-19T04:51:16.993Z"
   },
   {
    "duration": 87,
    "start_time": "2022-01-19T04:52:58.725Z"
   },
   {
    "duration": 447,
    "start_time": "2022-01-19T04:53:42.236Z"
   },
   {
    "duration": 277,
    "start_time": "2022-01-19T04:54:42.676Z"
   },
   {
    "duration": 182,
    "start_time": "2022-01-19T04:56:39.509Z"
   },
   {
    "duration": 206,
    "start_time": "2022-01-19T04:58:16.354Z"
   },
   {
    "duration": 192,
    "start_time": "2022-01-19T04:58:26.951Z"
   },
   {
    "duration": 182,
    "start_time": "2022-01-19T04:59:49.000Z"
   },
   {
    "duration": 211,
    "start_time": "2022-01-19T05:02:19.411Z"
   },
   {
    "duration": 247,
    "start_time": "2022-01-19T11:03:45.985Z"
   },
   {
    "duration": 881,
    "start_time": "2022-01-19T11:03:54.419Z"
   },
   {
    "duration": 80,
    "start_time": "2022-01-19T11:03:55.302Z"
   },
   {
    "duration": 708,
    "start_time": "2022-01-19T11:03:55.385Z"
   },
   {
    "duration": 523,
    "start_time": "2022-01-19T11:03:56.095Z"
   },
   {
    "duration": 449,
    "start_time": "2022-01-19T11:03:56.620Z"
   },
   {
    "duration": 433,
    "start_time": "2022-01-19T11:03:57.071Z"
   },
   {
    "duration": 167,
    "start_time": "2022-01-19T11:03:57.505Z"
   },
   {
    "duration": 428,
    "start_time": "2022-01-19T11:03:57.675Z"
   },
   {
    "duration": 442,
    "start_time": "2022-01-19T11:03:58.105Z"
   },
   {
    "duration": 539,
    "start_time": "2022-01-19T11:03:58.548Z"
   },
   {
    "duration": 25,
    "start_time": "2022-01-19T11:03:59.088Z"
   },
   {
    "duration": 535,
    "start_time": "2022-01-19T11:03:59.115Z"
   },
   {
    "duration": 508,
    "start_time": "2022-01-19T11:03:59.652Z"
   },
   {
    "duration": 183,
    "start_time": "2022-01-19T11:04:00.162Z"
   },
   {
    "duration": 496,
    "start_time": "2022-01-19T11:04:00.348Z"
   },
   {
    "duration": 167,
    "start_time": "2022-01-19T11:04:00.846Z"
   },
   {
    "duration": 525,
    "start_time": "2022-01-19T11:04:01.015Z"
   },
   {
    "duration": 587,
    "start_time": "2022-01-19T11:04:01.543Z"
   },
   {
    "duration": 199,
    "start_time": "2022-01-19T11:04:02.133Z"
   },
   {
    "duration": 27,
    "start_time": "2022-01-19T11:04:02.334Z"
   },
   {
    "duration": 418,
    "start_time": "2022-01-19T11:04:02.363Z"
   },
   {
    "duration": 145,
    "start_time": "2022-01-19T11:04:02.783Z"
   },
   {
    "duration": 4037,
    "start_time": "2022-01-19T11:04:02.933Z"
   },
   {
    "duration": 336,
    "start_time": "2022-01-19T11:04:06.972Z"
   },
   {
    "duration": 426,
    "start_time": "2022-01-19T11:04:07.310Z"
   },
   {
    "duration": 69889,
    "start_time": "2022-01-19T11:04:07.738Z"
   },
   {
    "duration": 258,
    "start_time": "2022-01-19T11:06:00.818Z"
   },
   {
    "duration": 208,
    "start_time": "2022-01-19T11:10:28.157Z"
   },
   {
    "duration": 981,
    "start_time": "2022-01-19T11:10:51.730Z"
   },
   {
    "duration": 823,
    "start_time": "2022-01-19T11:13:03.508Z"
   },
   {
    "duration": 39,
    "start_time": "2022-01-19T11:15:39.913Z"
   },
   {
    "duration": 47,
    "start_time": "2022-01-19T11:15:55.486Z"
   },
   {
    "duration": 346,
    "start_time": "2022-01-19T11:19:53.396Z"
   },
   {
    "duration": 324,
    "start_time": "2022-01-19T11:25:51.053Z"
   },
   {
    "duration": 192,
    "start_time": "2022-01-19T11:26:58.044Z"
   },
   {
    "duration": 307,
    "start_time": "2022-01-19T11:28:42.811Z"
   },
   {
    "duration": 210,
    "start_time": "2022-01-19T11:32:28.300Z"
   },
   {
    "duration": 248,
    "start_time": "2022-01-19T11:33:31.422Z"
   },
   {
    "duration": 185,
    "start_time": "2022-01-19T11:37:22.603Z"
   },
   {
    "duration": 233,
    "start_time": "2022-01-19T11:44:50.804Z"
   },
   {
    "duration": 217,
    "start_time": "2022-01-19T11:45:20.073Z"
   },
   {
    "duration": 187,
    "start_time": "2022-01-19T11:45:28.302Z"
   },
   {
    "duration": 310,
    "start_time": "2022-01-19T11:49:51.436Z"
   },
   {
    "duration": 315,
    "start_time": "2022-01-19T11:50:05.849Z"
   },
   {
    "duration": 133,
    "start_time": "2022-01-19T11:50:09.494Z"
   },
   {
    "duration": 71,
    "start_time": "2022-01-19T11:50:09.629Z"
   },
   {
    "duration": 518,
    "start_time": "2022-01-19T11:50:09.703Z"
   },
   {
    "duration": 506,
    "start_time": "2022-01-19T11:50:10.223Z"
   },
   {
    "duration": 553,
    "start_time": "2022-01-19T11:50:10.732Z"
   },
   {
    "duration": 654,
    "start_time": "2022-01-19T11:50:11.287Z"
   },
   {
    "duration": 244,
    "start_time": "2022-01-19T11:50:11.944Z"
   },
   {
    "duration": 2139,
    "start_time": "2022-01-19T11:50:12.192Z"
   },
   {
    "duration": 729,
    "start_time": "2022-01-19T11:50:14.334Z"
   },
   {
    "duration": 607,
    "start_time": "2022-01-19T11:50:15.065Z"
   },
   {
    "duration": 26,
    "start_time": "2022-01-19T11:50:15.675Z"
   },
   {
    "duration": 574,
    "start_time": "2022-01-19T11:50:15.702Z"
   },
   {
    "duration": 515,
    "start_time": "2022-01-19T11:50:16.278Z"
   },
   {
    "duration": 209,
    "start_time": "2022-01-19T11:50:16.795Z"
   },
   {
    "duration": 554,
    "start_time": "2022-01-19T11:50:17.006Z"
   },
   {
    "duration": 166,
    "start_time": "2022-01-19T11:50:17.562Z"
   },
   {
    "duration": 499,
    "start_time": "2022-01-19T11:50:17.730Z"
   },
   {
    "duration": 629,
    "start_time": "2022-01-19T11:50:18.231Z"
   },
   {
    "duration": 193,
    "start_time": "2022-01-19T11:50:18.862Z"
   },
   {
    "duration": 12,
    "start_time": "2022-01-19T11:50:19.057Z"
   },
   {
    "duration": 379,
    "start_time": "2022-01-19T11:50:19.071Z"
   },
   {
    "duration": 52,
    "start_time": "2022-01-19T11:50:19.460Z"
   },
   {
    "duration": 2965,
    "start_time": "2022-01-19T11:50:19.515Z"
   },
   {
    "duration": 223,
    "start_time": "2022-01-19T11:50:22.482Z"
   },
   {
    "duration": 209,
    "start_time": "2022-01-19T11:50:22.708Z"
   },
   {
    "duration": 823,
    "start_time": "2022-01-19T11:50:22.919Z"
   },
   {
    "duration": 207,
    "start_time": "2022-01-19T11:50:23.744Z"
   },
   {
    "duration": 276,
    "start_time": "2022-01-19T11:50:23.953Z"
   },
   {
    "duration": 234,
    "start_time": "2022-01-19T11:50:24.231Z"
   },
   {
    "duration": 210,
    "start_time": "2022-01-19T11:51:28.350Z"
   },
   {
    "duration": 209,
    "start_time": "2022-01-19T11:51:32.745Z"
   },
   {
    "duration": 92,
    "start_time": "2022-01-19T12:08:33.966Z"
   }
  ],
  "kernelspec": {
   "display_name": "Python 3 (ipykernel)",
   "language": "python",
   "name": "python3"
  },
  "language_info": {
   "codemirror_mode": {
    "name": "ipython",
    "version": 3
   },
   "file_extension": ".py",
   "mimetype": "text/x-python",
   "name": "python",
   "nbconvert_exporter": "python",
   "pygments_lexer": "ipython3",
   "version": "3.9.5"
  },
  "toc": {
   "base_numbering": 1,
   "nav_menu": {},
   "number_sections": true,
   "sideBar": true,
   "skip_h1_title": true,
   "title_cell": "Содержание",
   "title_sidebar": "Contents",
   "toc_cell": true,
   "toc_position": {
    "height": "calc(100% - 180px)",
    "left": "10px",
    "top": "150px",
    "width": "292px"
   },
   "toc_section_display": true,
   "toc_window_display": true
  }
 },
 "nbformat": 4,
 "nbformat_minor": 2
}
