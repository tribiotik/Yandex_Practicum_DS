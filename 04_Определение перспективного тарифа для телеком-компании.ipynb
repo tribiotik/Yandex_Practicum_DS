{
 "cells": [
  {
   "cell_type": "markdown",
   "metadata": {},
   "source": [
    "<div class=\"alert alert-success\">\n",
    "<font size=\"5\"><b>✔️ Комментарий ревьюера V3</b></font>\n",
    "    <br /> \n",
    "    <font size=\"4\", color = \"black\">\n",
    "<br />\n",
    "    Привет еще раз. Спасибо, что исправил комментарии. Третья итерация\n",
    "    <br />\n",
    "    </font>\n",
    "\n",
    "</div>"
   ]
  },
  {
   "cell_type": "markdown",
   "metadata": {},
   "source": [
    "<div class=\"alert alert-success\">\n",
    "<font size=\"4\"><b>✔️ Комментарий ревьюера V2</b></font>\n",
    "    <br /> \n",
    "    <font size=\"3\", color = \"black\">\n",
    "<br />\n",
    "    Привет еще раз. Спасибо, что исправил комментарии. Оформление сохраняется. Обозначим, что это вторая итерация.\n",
    "    <br />\n",
    "    </font>\n",
    "\n",
    "</div>"
   ]
  },
  {
   "cell_type": "markdown",
   "metadata": {},
   "source": [
    "<div class=\"alert alert-success\">\n",
    "<font size=\"4\"><b>Комментарий ревьюера</b></font>\n",
    "    <br /> \n",
    "    <font size=\"3\", color = \"black\">\n",
    "<br />\n",
    "    Привет, Андрей :) Спасибо, что прислал задание :) Меня зовут Ринат Хисамов и я буду проверять твой проект. Ты проделал серьезную работу над проектом, и осталось не так много задач, чтобы его можно улучшить. Предлагаю обращаться друг к другу на ты. Так нам будет гораздо проще и удобней общаться).\n",
    "\n",
    "Мои комментарии обозначены пометкой <b>Комментарий ревьюера</b>. Далее в файле ты сможешь найти их в похожих ячейках (если фон комментария зелёный — всё сделано правильно (✔️), рекомендации «крашу» таким же цветом. Отдельным цветом — блок ссылок (примеры ниже, 🍕). Оранжевый — некритичные заметки, если их кол-во меньше трех — проект может быть принят без их отработки (⚠️); <u> красный комментарий</u> этот: код, визуализацию (график) или вывод стоит переделать (❌)). \n",
    "\n",
    "Не удаляй все эти комментарии и постарайся учесть их в ходе выполнения данного проекта. \n",
    "Будет замечательно, если добавишь свои комментарии и пояснения✍\n",
    "        \n",
    "Поехали 🚀\n",
    "    <br />\n",
    "    </font>\n",
    "\n",
    "</div>"
   ]
  },
  {
   "cell_type": "markdown",
   "metadata": {},
   "source": [
    "<font size=\"4\"><p style=\"text-align:center\"><b>Примеры комментариев </b></p></font> "
   ]
  },
  {
   "cell_type": "markdown",
   "metadata": {},
   "source": [
    "<div class=\"alert alert-info\">\n",
    "<font size=\"4\"><b>🍕 Пример комментария - совета, здесь м.б. просто ссылка</b></font>\n",
    "    <br /> \n",
    "        <font size=\"3\", color = \"black\">\n",
    "<br />\n",
    "    Тут всего такого разного и вкусного :), есть способы прокачать проект визуализациями (ценит большинство \"боссов\")  <br /><br />\n",
    "        <a href=\"https://pyprog.pro/mpl/mpl_short_guide.html\">Краткое руководство по Matplotlib</a>\n",
    "        мне самому очень помогло в свое время, до сих пор подсматриваю :)\n",
    "    <br />\n",
    "    </font>\n",
    "\n",
    "</div>"
   ]
  },
  {
   "cell_type": "markdown",
   "metadata": {},
   "source": [
    "<div class=\"alert alert-warning\">\n",
    "    <font size=\"4\"><b>⚠️ Пример оформления некритичного комментария</b>\n",
    "    <br /> \n",
    "    <font size=\"3\", color = \"black\">\n",
    "<br />\n",
    "    Некритичные заметки, если таких комментариев  больше 3-х, то необходимо исправить. Если меньше 3-х, то проект можно принять )\n",
    "    <br />\n",
    "    </font>\n",
    "\n",
    "</div>"
   ]
  },
  {
   "cell_type": "markdown",
   "metadata": {},
   "source": [
    "<div class=\"alert alert-danger\">\n",
    "<font size=\"4\"><b>❌ Пример оформления комментария к блоку(строке) программного кода (или выводу), который стоит переделать</b></font>\n",
    "    <br /> \n",
    "    <font size=\"3\", color = \"black\">\n",
    "<br />\n",
    "    Отправлен не тот проект, напиши в своих комментариях, что случилось? жду — <b>это пример</b>\n",
    "    <br />\n",
    "    </font>\n",
    "\n",
    "</div>"
   ]
  },
  {
   "cell_type": "markdown",
   "metadata": {},
   "source": [
    "<div class=\"alert alert-success\">\n",
    "<font size=\"4\"><b>✔️ Пример оформления комментария, который нравится большинству студентов</b></font>\n",
    "    <br /> \n",
    "    <font size=\"3\", color = \"black\">\n",
    "<br />\n",
    "    Круто, молодец, отлично, логично, или — 👌, 👍 или — выводы отвечают на все вопросы к данным и проекту\n",
    "    <br />\n",
    "    </font>\n",
    "\n",
    "</div>"
   ]
  },
  {
   "cell_type": "markdown",
   "metadata": {},
   "source": [
    "# Начинаем исследовать твой проект 🧐\n",
    "(если смайлики раздражают - выключим)"
   ]
  },
  {
   "cell_type": "markdown",
   "metadata": {},
   "source": [
    "# Определение перспективного тарифа для телеком-компании"
   ]
  },
  {
   "cell_type": "markdown",
   "metadata": {},
   "source": [
    "# Описание проекта"
   ]
  },
  {
   "cell_type": "markdown",
   "metadata": {},
   "source": [
    "Вы аналитик компании «Мегалайн» — федерального оператора сотовой связи. Клиентам предлагают два тарифных плана:\n",
    "«Смарт» и «Ультра». Чтобы скорректировать рекламный бюджет, коммерческий департамент хочет понять, \n",
    "какой тариф приносит больше денег.\n",
    "\n",
    "Вам предстоит сделать предварительный анализ тарифов на небольшой выборке клиентов. \n",
    "В вашем распоряжении данные 500 пользователей «Мегалайна»: кто они, откуда, каким тарифом пользуются, \n",
    "сколько звонков и сообщений каждый отправил за 2018 год. Нужно проанализировать поведение клиентов и \n",
    "сделать вывод — какой тариф лучше.\n",
    "Описание тарифов\n",
    "Тариф «Смарт»\n",
    "1.Ежемесячная плата: 550 рублей\n",
    "2.Включено 500 минут разговора, 50 сообщений и 15 Гб интернет-трафика\n",
    "3.Стоимость услуг сверх тарифного пакета: \n",
    "    1. минута разговора: 3 рубля («Мегалайн» всегда округляет вверх значения минут и мегабайтов.\n",
    "    Если пользователь проговорил всего 1 секунду, в тарифе засчитывается целая минута); \n",
    "    2. сообщение: 3 рубля; \n",
    "    3. 1 Гб интернет-трафика: 200 рублей.\n",
    "Тариф «Ультра»\n",
    "1.Ежемесячная плата: 1950 рублей\n",
    "2.Включено 3000 минут разговора, 1000 сообщений и 30 Гб интернет-трафика\n",
    "3.Стоимость услуг сверх тарифного пакета: \n",
    "    1. минута разговора: 1 рубль; \n",
    "    2. сообщение: 1 рубль; \n",
    "    3. 1 Гб интернет-трафика: 150 рублей.\n",
    "Примечание:\n",
    "«Мегалайн» всегда округляет секунды до минут, а мегабайты — до гигабайт. Каждый звонок округляется отдельно: \n",
    "даже если он длился всего 1 секунду, будет засчитан как 1 минута.\n",
    "Для веб-трафика отдельные сессии не считаются. Вместо этого общая сумма за месяц округляется в бо́льшую сторону. \n",
    "Если абонент использует 1025 мегабайт в этом месяце, с него возьмут плату за 2 гигабайта.\n"
   ]
  },
  {
   "cell_type": "markdown",
   "metadata": {},
   "source": [
    "# Задачи"
   ]
  },
  {
   "cell_type": "markdown",
   "metadata": {},
   "source": [
    "Шаг 2. Подготовьте данные\n",
    "•\tПриведите данные к нужным типам;\n",
    "•\tНайдите и исправьте ошибки в данных, если они есть.\n",
    "Поясните, какие ошибки вы нашли и как их исправили. В данных вы найдёте звонки с нулевой продолжительностью. Это не ошибка: нулями обозначены пропущенные звонки, поэтому их не нужно удалять.\n",
    "Посчитайте для каждого пользователя:\n",
    "•\tколичество сделанных звонков и израсходованных минут разговора по месяцам;\n",
    "•\tколичество отправленных сообщений по месяцам;\n",
    "•\tобъем израсходованного интернет-трафика по месяцам;\n",
    "•\tпомесячную выручку с каждого пользователя (вычтите бесплатный лимит из суммарного количества звонков, сообщений и интернет-трафика; остаток умножьте на значение из тарифного плана; прибавьте абонентскую плату, соответствующую тарифному плану).\n",
    "Шаг 3. Проанализируйте данные\n",
    "Опишите поведение клиентов оператора, исходя из выборки. Сколько минут разговора, сколько сообщений и какой объём интернет-трафика требуется пользователям каждого тарифа в месяц? Посчитайте среднее количество, дисперсию и стандартное отклонение. Постройте гистограммы. Опишите распределения.\n",
    "Шаг 4. Проверьте гипотезы\n",
    "•\tсредняя выручка пользователей тарифов «Ультра» и «Смарт» различаются;\n",
    "•\tсредняя выручка пользователей из Москвы отличается от выручки пользователей из других регионов.\n",
    "Пороговое значение alpha задайте самостоятельно.\n",
    "Поясните:\n",
    "•\tкак вы формулировали нулевую и альтернативную гипотезы;\n",
    "•\tкакой критерий использовали для проверки гипотез и почему.\n",
    "Шаг 5. Напишите общий вывод\n",
    "Оформление: Задание выполните в Jupyter Notebook. Программный код заполните в ячейках типа code, текстовые пояснения — в ячейках типа markdown. Примените форматирование и заголовки.\n"
   ]
  },
  {
   "cell_type": "markdown",
   "metadata": {},
   "source": [
    "# Описание данных "
   ]
  },
  {
   "cell_type": "markdown",
   "metadata": {},
   "source": [
    "Таблица users (информация о пользователях):\n",
    "•\tuser_id — уникальный идентификатор пользователя\n",
    "•\tfirst_name — имя пользователя\n",
    "•\tlast_name — фамилия пользователя\n",
    "•\tage — возраст пользователя (годы)\n",
    "•\treg_date — дата подключения тарифа (день, месяц, год)\n",
    "•\tchurn_date — дата прекращения пользования тарифом (если значение пропущено, то тариф ещё действовал на момент выгрузки данных)\n",
    "•\tcity — город проживания пользователя\n",
    "•\ttarif — название тарифного плана\n",
    "Таблица calls (информация о звонках):\n",
    "•\tid — уникальный номер звонка\n",
    "•\tcall_date — дата звонка\n",
    "•\tduration — длительность звонка в минутах\n",
    "•\tuser_id — идентификатор пользователя, сделавшего звонок\n",
    "Таблица messages (информация о сообщениях):\n",
    "•\tid — уникальный номер сообщения\n",
    "•\tmessage_date — дата сообщения\n",
    "•\tuser_id — идентификатор пользователя, отправившего сообщение\n",
    "Таблица internet (информация об интернет-сессиях):\n",
    "•\tid — уникальный номер сессии\n",
    "•\tmb_used — объём потраченного за сессию интернет-трафика (в мегабайтах)\n",
    "•\tsession_date — дата интернет-сессии\n",
    "•\tuser_id — идентификатор пользователя\n",
    "Таблица tariffs (информация о тарифах):\n",
    "•\ttariff_name — название тарифа\n",
    "•\trub_monthly_fee — ежемесячная абонентская плата в рублях\n",
    "•\tminutes_included — количество минут разговора в месяц, включённых в абонентскую плату\n",
    "•\tmessages_included — количество сообщений в месяц, включённых в абонентскую плату\n",
    "•\tmb_per_month_included — объём интернет-трафика, включённого в абонентскую плату (в мегабайтах)\n",
    "•\trub_per_minute — стоимость минуты разговора сверх тарифного пакета (например, если в тарифе 100 минут разговора в месяц, то со 101 минуты будет взиматься плата)\n",
    "•\trub_per_message — стоимость отправки сообщения сверх тарифного пакета\n",
    "•\trub_per_gb — стоимость дополнительного гигабайта интернет-трафика сверх тарифного пакета (1 гигабайт = 1024 мегабайта)\n"
   ]
  },
  {
   "cell_type": "markdown",
   "metadata": {},
   "source": [
    "## Загрузка данных и изучение общей информации"
   ]
  },
  {
   "cell_type": "markdown",
   "metadata": {},
   "source": [
    "<div class=\"alert alert-info\">\n",
    "<font size=\"4\"><b>🍕 Комментарий ревьюера</b></font>\n",
    "    <br /> \n",
    "        <font size=\"3\", color = \"black\">\n",
    "            <br />\n",
    "Про <b>краткое вступление в работу</b>. Например — кто-то открывает твой проект, а у него в подчинении человек 20 (и он уже не может вспомнить что за проект он рассматривает), и видит первые строчки «Определение перспективного тарифа для телеком-компании» и «1  Загрузка данных и изучение общей информации». \n",
    "            \n",
    "Как ты помнишь — на курсе «Введение в профессию Аналитик данных» есть тема «Навыки успешного аналитика», и траектория успешного аналитика данных начинается с правильного понимания запроса от бизнеса, уточнения задачи и ... . И это еще не все, самое главное, чтобы его правильно понимал и сам Заказчик — т.е. тот, кто будет изучать цели и твои выводы по проекту. А как ему это понять без вводной информации?\n",
    "\n",
    "Если же это pet-проект («проект для души»), то открыв его через полгода, трудно будет вспомнить все предпосылки задачи и то, что ты с ним собирался сделать)\n",
    "\n",
    "</font>\n",
    "</div>"
   ]
  },
  {
   "cell_type": "markdown",
   "metadata": {},
   "source": [
    "<div class=\"alert alert\">\n",
    "<font size=\"4\"><b>❌ Комментарий ревьюера</b></font>\n",
    "    <br /> \n",
    "    <font size=\"3\", color = \"black\">\n",
    "<br />\n",
    "   Стоит делать <b>краткое вступление в работу</b>, описание того, что надо делать, приводить содержание задачи, что требуется найти, по какому алгоритму, в какую сторону округлять и т.д. В проекте желательна информацию о входных данных: какие столбцы есть в таблицах, их названия и какую информацию они несут — при использовании метода .info() даст понимание с какими данными мы работаем, есть ли отклонения\n",
    "    </font>\n",
    "</div>"
   ]
  },
  {
   "cell_type": "markdown",
   "metadata": {},
   "source": [
    "<div class=\"alert alert-info\">\n",
    "<h1> Комментарий студента</h1>\n",
    "\n",
    "Описание проекта добавил\n",
    "</div>"
   ]
  },
  {
   "cell_type": "markdown",
   "metadata": {},
   "source": [
    "<div class=\"alert alert-success\">\n",
    "<font size=\"5\"><b>✔️ Комментарий ревьюера V2</b></font>\n",
    "    <br /> \n",
    "    <font size=\"3\", color = \"black\">\n",
    "<br />\n",
    "    Спасибо за комментарий и за описание проекта\n",
    "    <br />\n",
    "    </font>\n",
    "\n",
    "</div>"
   ]
  },
  {
   "cell_type": "code",
   "execution_count": 1,
   "metadata": {
    "scrolled": false
   },
   "outputs": [],
   "source": [
    "# Импорт необходимых библиотек\n",
    "import pandas as pd\n",
    "import numpy as np\n",
    "import seaborn as sns\n",
    "import matplotlib.pyplot as plt \n",
    "import scipy.stats as st"
   ]
  },
  {
   "cell_type": "code",
   "execution_count": 2,
   "metadata": {},
   "outputs": [],
   "source": [
    "# Загрузка таблиц\n",
    "df_calls = pd.read_csv('/datasets/calls.csv')\n",
    "df_internet = pd.read_csv('/datasets/internet.csv')\n",
    "df_messages = pd.read_csv('/datasets/messages.csv')\n",
    "df_tariffs = pd.read_csv('/datasets/tariffs.csv')\n",
    "df_users = pd.read_csv('/datasets/users.csv')"
   ]
  },
  {
   "cell_type": "code",
   "execution_count": 3,
   "metadata": {},
   "outputs": [
    {
     "data": {
      "text/html": [
       "<div>\n",
       "<style scoped>\n",
       "    .dataframe tbody tr th:only-of-type {\n",
       "        vertical-align: middle;\n",
       "    }\n",
       "\n",
       "    .dataframe tbody tr th {\n",
       "        vertical-align: top;\n",
       "    }\n",
       "\n",
       "    .dataframe thead th {\n",
       "        text-align: right;\n",
       "    }\n",
       "</style>\n",
       "<table border=\"1\" class=\"dataframe\">\n",
       "  <thead>\n",
       "    <tr style=\"text-align: right;\">\n",
       "      <th></th>\n",
       "      <th>id</th>\n",
       "      <th>call_date</th>\n",
       "      <th>duration</th>\n",
       "      <th>user_id</th>\n",
       "    </tr>\n",
       "  </thead>\n",
       "  <tbody>\n",
       "    <tr>\n",
       "      <td>0</td>\n",
       "      <td>1000_0</td>\n",
       "      <td>2018-07-25</td>\n",
       "      <td>0.00</td>\n",
       "      <td>1000</td>\n",
       "    </tr>\n",
       "    <tr>\n",
       "      <td>1</td>\n",
       "      <td>1000_1</td>\n",
       "      <td>2018-08-17</td>\n",
       "      <td>0.00</td>\n",
       "      <td>1000</td>\n",
       "    </tr>\n",
       "    <tr>\n",
       "      <td>2</td>\n",
       "      <td>1000_2</td>\n",
       "      <td>2018-06-11</td>\n",
       "      <td>2.85</td>\n",
       "      <td>1000</td>\n",
       "    </tr>\n",
       "    <tr>\n",
       "      <td>3</td>\n",
       "      <td>1000_3</td>\n",
       "      <td>2018-09-21</td>\n",
       "      <td>13.80</td>\n",
       "      <td>1000</td>\n",
       "    </tr>\n",
       "    <tr>\n",
       "      <td>4</td>\n",
       "      <td>1000_4</td>\n",
       "      <td>2018-12-15</td>\n",
       "      <td>5.18</td>\n",
       "      <td>1000</td>\n",
       "    </tr>\n",
       "  </tbody>\n",
       "</table>\n",
       "</div>"
      ],
      "text/plain": [
       "       id   call_date  duration  user_id\n",
       "0  1000_0  2018-07-25      0.00     1000\n",
       "1  1000_1  2018-08-17      0.00     1000\n",
       "2  1000_2  2018-06-11      2.85     1000\n",
       "3  1000_3  2018-09-21     13.80     1000\n",
       "4  1000_4  2018-12-15      5.18     1000"
      ]
     },
     "metadata": {},
     "output_type": "display_data"
    },
    {
     "name": "stdout",
     "output_type": "stream",
     "text": [
      "<class 'pandas.core.frame.DataFrame'>\n",
      "RangeIndex: 202607 entries, 0 to 202606\n",
      "Data columns (total 4 columns):\n",
      "id           202607 non-null object\n",
      "call_date    202607 non-null object\n",
      "duration     202607 non-null float64\n",
      "user_id      202607 non-null int64\n",
      "dtypes: float64(1), int64(1), object(2)\n",
      "memory usage: 6.2+ MB\n"
     ]
    },
    {
     "data": {
      "text/plain": [
       "None"
      ]
     },
     "metadata": {},
     "output_type": "display_data"
    },
    {
     "data": {
      "text/plain": [
       "1377    1760\n",
       "1168    1692\n",
       "1375    1560\n",
       "1453    1440\n",
       "1196    1240\n",
       "        ... \n",
       "1397      33\n",
       "1442      28\n",
       "1373      24\n",
       "1016      20\n",
       "1257      14\n",
       "Name: user_id, Length: 492, dtype: int64"
      ]
     },
     "metadata": {},
     "output_type": "display_data"
    },
    {
     "data": {
      "text/plain": [
       "id           0\n",
       "call_date    0\n",
       "duration     0\n",
       "user_id      0\n",
       "dtype: int64"
      ]
     },
     "metadata": {},
     "output_type": "display_data"
    }
   ],
   "source": [
    "#анализ таблицы звонки\n",
    "display(df_calls.head(5))\n",
    "display(df_calls.info())\n",
    "display(df_calls['user_id'].value_counts())\n",
    "#df_calls['user_id'].unique()\n",
    "display(df_calls.isna().sum())\n",
    "#df_cals.dtypes"
   ]
  },
  {
   "cell_type": "markdown",
   "metadata": {},
   "source": [
    "Анализ показал что в таблице звонки 202 607 строк. 492 уникальных user id. Пропуски отсутствуют. Столбец дата звонка имеет тип данных object необходимо преобразовать в тип данных datetime64. Столбец продолжительность звонка необходимо округлить в большую сторону(т.к.«Мегалайн» всегда округляет секунды до минут) и преобразовать в тип данных int64."
   ]
  },
  {
   "cell_type": "markdown",
   "metadata": {},
   "source": [
    "<div class=\"alert alert-success\">\n",
    "<font size=\"4\"><b>✔️ Комментарий ревьюера</b></font>\n",
    "    <br /> \n",
    "    <font size=\"3\", color = \"black\">\n",
    "<br />\n",
    "    Первый промежуточный вывод, тебе + за формирование промежуточного вывода, за использование метода .info() и display(), поиск пропусков, за формирование кода с блоком бибилотек.\n",
    "        \n",
    "Возможно данные стоит проверить на дубликаты\n",
    "    <br /> \n",
    "    </font>\n",
    "\n",
    "</div>"
   ]
  },
  {
   "cell_type": "code",
   "execution_count": 4,
   "metadata": {},
   "outputs": [
    {
     "data": {
      "text/plain": [
       "0"
      ]
     },
     "execution_count": 4,
     "metadata": {},
     "output_type": "execute_result"
    }
   ],
   "source": [
    "df_calls.duplicated().sum()"
   ]
  },
  {
   "cell_type": "markdown",
   "metadata": {},
   "source": [
    "<div class=\"alert alert-info\">\n",
    "<h1> Комментарий студента</h1>\n",
    "\n",
    "Проверка на дубликаты показала, что их нет)\n",
    "</div>"
   ]
  },
  {
   "cell_type": "markdown",
   "metadata": {},
   "source": [
    "<div class=\"alert alert-success\">\n",
    "<font size=\"5\"><b>✔️ Комментарий ревьюера V2</b></font>\n",
    "    <br /> \n",
    "    <font size=\"3\", color = \"black\">\n",
    "<br />\n",
    "    Очень важно проверять данные на дубликаты, так мы будем уверены в своих выводах :)\n",
    "    <br />\n",
    "    </font>\n",
    "\n",
    "</div>"
   ]
  },
  {
   "cell_type": "markdown",
   "metadata": {},
   "source": [
    "<div class=\"alert alert-success\">\n",
    "<font size=\"4\"><b>✔️ Комментарий ревьюера</b></font>\n",
    "    <br /> \n",
    "    <font size=\"3\", color = \"black\">\n",
    "<br />\n",
    "    Оптимально разделять код по важным блокам, например загрузку пакетов библиотек в одной строчке, загрузку данных во второй, изучение данных в третьей. Если выскочит ошибка — придется тратить время на расшифровку сообщения об этом — библиотека не установлена или с загрузкой данных что-то произошло ... :)\n",
    "    <br /> \n",
    "    </font>\n",
    "\n",
    "</div>"
   ]
  },
  {
   "cell_type": "markdown",
   "metadata": {},
   "source": [
    "<div class=\"alert alert-info\">\n",
    "<h1> Комментарий студента</h1>\n",
    "\n",
    "Учел этот момент\n",
    "</div>"
   ]
  },
  {
   "cell_type": "markdown",
   "metadata": {},
   "source": [
    "<div class=\"alert alert-success\">\n",
    "<font size=\"5\"><b>✔️ Комментарий ревьюера V2</b></font>\n",
    "    <br /> \n",
    "    <font size=\"3\", color = \"black\">\n",
    "<br />\n",
    "    +\n",
    "    <br />\n",
    "    </font>\n",
    "\n",
    "</div>"
   ]
  },
  {
   "cell_type": "code",
   "execution_count": 5,
   "metadata": {},
   "outputs": [
    {
     "data": {
      "text/html": [
       "<div>\n",
       "<style scoped>\n",
       "    .dataframe tbody tr th:only-of-type {\n",
       "        vertical-align: middle;\n",
       "    }\n",
       "\n",
       "    .dataframe tbody tr th {\n",
       "        vertical-align: top;\n",
       "    }\n",
       "\n",
       "    .dataframe thead th {\n",
       "        text-align: right;\n",
       "    }\n",
       "</style>\n",
       "<table border=\"1\" class=\"dataframe\">\n",
       "  <thead>\n",
       "    <tr style=\"text-align: right;\">\n",
       "      <th></th>\n",
       "      <th>Unnamed: 0</th>\n",
       "      <th>id</th>\n",
       "      <th>mb_used</th>\n",
       "      <th>session_date</th>\n",
       "      <th>user_id</th>\n",
       "    </tr>\n",
       "  </thead>\n",
       "  <tbody>\n",
       "    <tr>\n",
       "      <td>0</td>\n",
       "      <td>0</td>\n",
       "      <td>1000_0</td>\n",
       "      <td>112.95</td>\n",
       "      <td>2018-11-25</td>\n",
       "      <td>1000</td>\n",
       "    </tr>\n",
       "    <tr>\n",
       "      <td>1</td>\n",
       "      <td>1</td>\n",
       "      <td>1000_1</td>\n",
       "      <td>1052.81</td>\n",
       "      <td>2018-09-07</td>\n",
       "      <td>1000</td>\n",
       "    </tr>\n",
       "    <tr>\n",
       "      <td>2</td>\n",
       "      <td>2</td>\n",
       "      <td>1000_2</td>\n",
       "      <td>1197.26</td>\n",
       "      <td>2018-06-25</td>\n",
       "      <td>1000</td>\n",
       "    </tr>\n",
       "    <tr>\n",
       "      <td>3</td>\n",
       "      <td>3</td>\n",
       "      <td>1000_3</td>\n",
       "      <td>550.27</td>\n",
       "      <td>2018-08-22</td>\n",
       "      <td>1000</td>\n",
       "    </tr>\n",
       "    <tr>\n",
       "      <td>4</td>\n",
       "      <td>4</td>\n",
       "      <td>1000_4</td>\n",
       "      <td>302.56</td>\n",
       "      <td>2018-09-24</td>\n",
       "      <td>1000</td>\n",
       "    </tr>\n",
       "  </tbody>\n",
       "</table>\n",
       "</div>"
      ],
      "text/plain": [
       "   Unnamed: 0      id  mb_used session_date  user_id\n",
       "0           0  1000_0   112.95   2018-11-25     1000\n",
       "1           1  1000_1  1052.81   2018-09-07     1000\n",
       "2           2  1000_2  1197.26   2018-06-25     1000\n",
       "3           3  1000_3   550.27   2018-08-22     1000\n",
       "4           4  1000_4   302.56   2018-09-24     1000"
      ]
     },
     "metadata": {},
     "output_type": "display_data"
    },
    {
     "name": "stdout",
     "output_type": "stream",
     "text": [
      "<class 'pandas.core.frame.DataFrame'>\n",
      "RangeIndex: 149396 entries, 0 to 149395\n",
      "Data columns (total 5 columns):\n",
      "Unnamed: 0      149396 non-null int64\n",
      "id              149396 non-null object\n",
      "mb_used         149396 non-null float64\n",
      "session_date    149396 non-null object\n",
      "user_id         149396 non-null int64\n",
      "dtypes: float64(1), int64(2), object(2)\n",
      "memory usage: 5.7+ MB\n"
     ]
    },
    {
     "data": {
      "text/plain": [
       "None"
      ]
     },
     "metadata": {},
     "output_type": "display_data"
    },
    {
     "data": {
      "text/plain": [
       "1496    834\n",
       "1227    812\n",
       "1204    789\n",
       "1240    764\n",
       "1251    759\n",
       "       ... \n",
       "1151     35\n",
       "1467     27\n",
       "1343     26\n",
       "1192     22\n",
       "1399      8\n",
       "Name: user_id, Length: 497, dtype: int64"
      ]
     },
     "metadata": {},
     "output_type": "display_data"
    },
    {
     "data": {
      "text/plain": [
       "Unnamed: 0      0\n",
       "id              0\n",
       "mb_used         0\n",
       "session_date    0\n",
       "user_id         0\n",
       "dtype: int64"
      ]
     },
     "metadata": {},
     "output_type": "display_data"
    }
   ],
   "source": [
    "#Анализ таблицы интернет трафика\n",
    "df_internet.drop(['Unnamed: 0'], axis = 1)\n",
    "display(df_internet.head(5))\n",
    "display(df_internet.info())\n",
    "display(df_internet['user_id'].value_counts())\n",
    "#df_cals['user_id'].unique()\n",
    "display(df_internet.isna().sum())\n",
    "#df_internet['Unnamed: 0'].duplicated().sum()\n"
   ]
  },
  {
   "cell_type": "markdown",
   "metadata": {},
   "source": [
    "Анализ показал, что в таблице учета трафика 149396 строки. 497 уникальных user id. Пропуски отсутствуют. Столбец session_date необходимо преобразовать в тип данных datetime64. Для подсчета использованного трафика в столбе mb_used необходимо будет групировать помесячно суммировать и округлять трафик в бОльшую сторону (т.к.Для веб-трафика отдельные сессии не считаются. Вместо этого общая сумма за месяц округляется в бо́льшую сторону.) Столбец Unnamed: 0 по сути дублирует индексацию для удобста удалю его."
   ]
  },
  {
   "cell_type": "markdown",
   "metadata": {},
   "source": [
    "<div class=\"alert alert-warning\">\n",
    "    <font size=\"4\"><b>⚠️  Комментарий ревьюера</b></font>\n",
    "    <br /> \n",
    "    <font size=\"3\", color = \"black\">\n",
    "<br />\n",
    "   Странное название для столбца в базе данных «Unnamed: 0». Первое, что мы как аналитики делаем — сообщаем в отдел администрирования баз данных (который может называться по-другому) о том, что в таблице ...  появилась лишняя информация... (целесообразно добавлять в проект примечания о всех технических проблемах с данными)\n",
    "        \n",
    "А чтобы это показать «коллегам из отдела ...», стоит проверить все 149 396 строчки из индекса датафрейма на дублирование с информацией в столбце «Unnamed: 0» \n",
    "\n",
    "</font>\n",
    "</div>"
   ]
  },
  {
   "cell_type": "markdown",
   "metadata": {},
   "source": [
    "<div class=\"alert alert-info\">\n",
    "<h1> Комментарий студента</h1>\n",
    "\n",
    "Дубликатов нет как и коллег из отдела \"n\").\n",
    "</div>"
   ]
  },
  {
   "cell_type": "markdown",
   "metadata": {},
   "source": [
    "<div class=\"alert alert-success\">\n",
    "<font size=\"5\"><b>✔️ Комментарий ревьюера V2</b></font>\n",
    "    <br /> \n",
    "    <font size=\"3\", color = \"black\">\n",
    "<br />\n",
    "    Когда будет время — посмотри себя на след. задаче: \n",
    "        \n",
    "у нас есть два столбца — индексы таблицы и столбец «Unnamed: 0», с первого взгляда они совпадают, но чтобы быть уверенным нам надо бы сравнить две серии, которые мы создаем — одну из индексов таблицы, а одну из значений столбца «Unnamed: 0», и вот этим числом можно доказывать, что ребята у нас тут дублирование информации в столбце «Unnamed: 0» и индексах на 147 500 строк (для примера) — коллеги, прошу проверить откуда дубли :)\n",
    "    <br />\n",
    "    </font>\n",
    "\n",
    "</div>"
   ]
  },
  {
   "cell_type": "code",
   "execution_count": 6,
   "metadata": {},
   "outputs": [
    {
     "data": {
      "text/html": [
       "<div>\n",
       "<style scoped>\n",
       "    .dataframe tbody tr th:only-of-type {\n",
       "        vertical-align: middle;\n",
       "    }\n",
       "\n",
       "    .dataframe tbody tr th {\n",
       "        vertical-align: top;\n",
       "    }\n",
       "\n",
       "    .dataframe thead th {\n",
       "        text-align: right;\n",
       "    }\n",
       "</style>\n",
       "<table border=\"1\" class=\"dataframe\">\n",
       "  <thead>\n",
       "    <tr style=\"text-align: right;\">\n",
       "      <th></th>\n",
       "      <th>id</th>\n",
       "      <th>message_date</th>\n",
       "      <th>user_id</th>\n",
       "    </tr>\n",
       "  </thead>\n",
       "  <tbody>\n",
       "    <tr>\n",
       "      <td>0</td>\n",
       "      <td>1000_0</td>\n",
       "      <td>2018-06-27</td>\n",
       "      <td>1000</td>\n",
       "    </tr>\n",
       "    <tr>\n",
       "      <td>1</td>\n",
       "      <td>1000_1</td>\n",
       "      <td>2018-10-08</td>\n",
       "      <td>1000</td>\n",
       "    </tr>\n",
       "    <tr>\n",
       "      <td>2</td>\n",
       "      <td>1000_2</td>\n",
       "      <td>2018-08-04</td>\n",
       "      <td>1000</td>\n",
       "    </tr>\n",
       "    <tr>\n",
       "      <td>3</td>\n",
       "      <td>1000_3</td>\n",
       "      <td>2018-06-16</td>\n",
       "      <td>1000</td>\n",
       "    </tr>\n",
       "    <tr>\n",
       "      <td>4</td>\n",
       "      <td>1000_4</td>\n",
       "      <td>2018-12-05</td>\n",
       "      <td>1000</td>\n",
       "    </tr>\n",
       "  </tbody>\n",
       "</table>\n",
       "</div>"
      ],
      "text/plain": [
       "       id message_date  user_id\n",
       "0  1000_0   2018-06-27     1000\n",
       "1  1000_1   2018-10-08     1000\n",
       "2  1000_2   2018-08-04     1000\n",
       "3  1000_3   2018-06-16     1000\n",
       "4  1000_4   2018-12-05     1000"
      ]
     },
     "metadata": {},
     "output_type": "display_data"
    },
    {
     "name": "stdout",
     "output_type": "stream",
     "text": [
      "<class 'pandas.core.frame.DataFrame'>\n",
      "RangeIndex: 123036 entries, 0 to 123035\n",
      "Data columns (total 3 columns):\n",
      "id              123036 non-null object\n",
      "message_date    123036 non-null object\n",
      "user_id         123036 non-null int64\n",
      "dtypes: int64(1), object(2)\n",
      "memory usage: 2.8+ MB\n"
     ]
    },
    {
     "data": {
      "text/plain": [
       "None"
      ]
     },
     "metadata": {},
     "output_type": "display_data"
    },
    {
     "data": {
      "text/plain": [
       "1277    1463\n",
       "1089    1408\n",
       "1231    1384\n",
       "1385    1380\n",
       "1356    1224\n",
       "        ... \n",
       "1389       6\n",
       "1279       5\n",
       "1074       3\n",
       "1159       2\n",
       "1141       1\n",
       "Name: user_id, Length: 426, dtype: int64"
      ]
     },
     "metadata": {},
     "output_type": "display_data"
    },
    {
     "data": {
      "text/plain": [
       "id              0\n",
       "message_date    0\n",
       "user_id         0\n",
       "dtype: int64"
      ]
     },
     "metadata": {},
     "output_type": "display_data"
    }
   ],
   "source": [
    "#Анализ таблицы сообщения\n",
    "display(df_messages.head(5))\n",
    "display(df_messages.info())\n",
    "display(df_messages['user_id'].value_counts())\n",
    "#df_cals['user_id'].unique()\n",
    "display(df_messages.isna().sum())\n"
   ]
  },
  {
   "cell_type": "markdown",
   "metadata": {},
   "source": [
    "Анализ показал, что в таблице сообщения 123036 строки. 426 уникальных user id. Пропуски отсутствуют. Столбец message_date необходимо преобразовать в тип данных datetime64. Для подсчета сообщений в столбе mb_used необходимо будет групировать по user_id и считать количество уникальных совпадений."
   ]
  },
  {
   "cell_type": "markdown",
   "metadata": {},
   "source": [
    "<div class=\"alert alert-success\">\n",
    "<font size=\"4\"><b>✔️ Комментарий ревьюера</b></font>\n",
    "    <br /> \n",
    "    <font size=\"3\", color = \"black\">\n",
    "<br />\n",
    "    Для подсчета сообщений в столбе mb_used -- > ... в столбце message_date\n",
    "    <br /> \n",
    "    </font>\n",
    "\n",
    "</div>"
   ]
  },
  {
   "cell_type": "markdown",
   "metadata": {},
   "source": [
    "<div class=\"alert alert-info\">\n",
    "<font size=\"5\"><b>🍕 Комментарий ревьюера V2</b></font>\n",
    "    <br /> \n",
    "    <font size=\"3\", color = \"black\">\n",
    "<br />\n",
    " Если будешь формировать портфолио, то оптимально изменить это: <b>в столбе mb_used</b> -- > ... в столбце message_date\n",
    "\n",
    "<p> <font size=\"2\", color = \"black\">\n",
    "Анализ показал, что в таблице сообщения 123036 строки. 426 уникальных user id. Пропуски отсутствуют. Столбец message_date необходимо преобразовать в тип данных datetime64. Для подсчета сообщений в столбе mb_used необходимо будет групировать по user_id и считать количество уникальных совпадений.</p>        \n",
    "    <br />\n",
    "    </font>\n",
    "\n",
    "</div>"
   ]
  },
  {
   "cell_type": "code",
   "execution_count": 7,
   "metadata": {},
   "outputs": [
    {
     "name": "stdout",
     "output_type": "stream",
     "text": [
      "<class 'pandas.core.frame.DataFrame'>\n",
      "RangeIndex: 2 entries, 0 to 1\n",
      "Data columns (total 8 columns):\n",
      "messages_included        2 non-null int64\n",
      "mb_per_month_included    2 non-null int64\n",
      "minutes_included         2 non-null int64\n",
      "rub_monthly_fee          2 non-null int64\n",
      "rub_per_gb               2 non-null int64\n",
      "rub_per_message          2 non-null int64\n",
      "rub_per_minute           2 non-null int64\n",
      "tariff_name              2 non-null object\n",
      "dtypes: int64(7), object(1)\n",
      "memory usage: 256.0+ bytes\n"
     ]
    },
    {
     "data": {
      "text/plain": [
       "None"
      ]
     },
     "metadata": {},
     "output_type": "display_data"
    },
    {
     "data": {
      "text/html": [
       "<div>\n",
       "<style scoped>\n",
       "    .dataframe tbody tr th:only-of-type {\n",
       "        vertical-align: middle;\n",
       "    }\n",
       "\n",
       "    .dataframe tbody tr th {\n",
       "        vertical-align: top;\n",
       "    }\n",
       "\n",
       "    .dataframe thead th {\n",
       "        text-align: right;\n",
       "    }\n",
       "</style>\n",
       "<table border=\"1\" class=\"dataframe\">\n",
       "  <thead>\n",
       "    <tr style=\"text-align: right;\">\n",
       "      <th></th>\n",
       "      <th>messages_included</th>\n",
       "      <th>mb_per_month_included</th>\n",
       "      <th>minutes_included</th>\n",
       "      <th>rub_monthly_fee</th>\n",
       "      <th>rub_per_gb</th>\n",
       "      <th>rub_per_message</th>\n",
       "      <th>rub_per_minute</th>\n",
       "      <th>tariff_name</th>\n",
       "    </tr>\n",
       "  </thead>\n",
       "  <tbody>\n",
       "    <tr>\n",
       "      <td>0</td>\n",
       "      <td>50</td>\n",
       "      <td>15.0</td>\n",
       "      <td>500</td>\n",
       "      <td>550</td>\n",
       "      <td>200</td>\n",
       "      <td>3</td>\n",
       "      <td>3</td>\n",
       "      <td>smart</td>\n",
       "    </tr>\n",
       "    <tr>\n",
       "      <td>1</td>\n",
       "      <td>1000</td>\n",
       "      <td>30.0</td>\n",
       "      <td>3000</td>\n",
       "      <td>1950</td>\n",
       "      <td>150</td>\n",
       "      <td>1</td>\n",
       "      <td>1</td>\n",
       "      <td>ultra</td>\n",
       "    </tr>\n",
       "  </tbody>\n",
       "</table>\n",
       "</div>"
      ],
      "text/plain": [
       "   messages_included  mb_per_month_included  minutes_included  \\\n",
       "0                 50                   15.0               500   \n",
       "1               1000                   30.0              3000   \n",
       "\n",
       "   rub_monthly_fee  rub_per_gb  rub_per_message  rub_per_minute tariff_name  \n",
       "0              550         200                3               3       smart  \n",
       "1             1950         150                1               1       ultra  "
      ]
     },
     "execution_count": 7,
     "metadata": {},
     "output_type": "execute_result"
    }
   ],
   "source": [
    "#Анализ таблицы тарифы\n",
    "display(df_tariffs.info())\n",
    "df_tariffs['mb_per_month_included'] = df_tariffs['mb_per_month_included']/1024\n",
    "df_tariffs.head(10)\n"
   ]
  },
  {
   "cell_type": "markdown",
   "metadata": {},
   "source": [
    "Имеем два тарифа."
   ]
  },
  {
   "cell_type": "code",
   "execution_count": 8,
   "metadata": {},
   "outputs": [
    {
     "data": {
      "text/html": [
       "<div>\n",
       "<style scoped>\n",
       "    .dataframe tbody tr th:only-of-type {\n",
       "        vertical-align: middle;\n",
       "    }\n",
       "\n",
       "    .dataframe tbody tr th {\n",
       "        vertical-align: top;\n",
       "    }\n",
       "\n",
       "    .dataframe thead th {\n",
       "        text-align: right;\n",
       "    }\n",
       "</style>\n",
       "<table border=\"1\" class=\"dataframe\">\n",
       "  <thead>\n",
       "    <tr style=\"text-align: right;\">\n",
       "      <th></th>\n",
       "      <th>user_id</th>\n",
       "      <th>age</th>\n",
       "      <th>churn_date</th>\n",
       "      <th>city</th>\n",
       "      <th>first_name</th>\n",
       "      <th>last_name</th>\n",
       "      <th>reg_date</th>\n",
       "      <th>tariff</th>\n",
       "    </tr>\n",
       "  </thead>\n",
       "  <tbody>\n",
       "    <tr>\n",
       "      <td>0</td>\n",
       "      <td>1000</td>\n",
       "      <td>52</td>\n",
       "      <td>NaN</td>\n",
       "      <td>Краснодар</td>\n",
       "      <td>Рафаил</td>\n",
       "      <td>Верещагин</td>\n",
       "      <td>2018-05-25</td>\n",
       "      <td>ultra</td>\n",
       "    </tr>\n",
       "    <tr>\n",
       "      <td>1</td>\n",
       "      <td>1001</td>\n",
       "      <td>41</td>\n",
       "      <td>NaN</td>\n",
       "      <td>Москва</td>\n",
       "      <td>Иван</td>\n",
       "      <td>Ежов</td>\n",
       "      <td>2018-11-01</td>\n",
       "      <td>smart</td>\n",
       "    </tr>\n",
       "    <tr>\n",
       "      <td>2</td>\n",
       "      <td>1002</td>\n",
       "      <td>59</td>\n",
       "      <td>NaN</td>\n",
       "      <td>Стерлитамак</td>\n",
       "      <td>Евгений</td>\n",
       "      <td>Абрамович</td>\n",
       "      <td>2018-06-17</td>\n",
       "      <td>smart</td>\n",
       "    </tr>\n",
       "    <tr>\n",
       "      <td>3</td>\n",
       "      <td>1003</td>\n",
       "      <td>23</td>\n",
       "      <td>NaN</td>\n",
       "      <td>Москва</td>\n",
       "      <td>Белла</td>\n",
       "      <td>Белякова</td>\n",
       "      <td>2018-08-17</td>\n",
       "      <td>ultra</td>\n",
       "    </tr>\n",
       "    <tr>\n",
       "      <td>4</td>\n",
       "      <td>1004</td>\n",
       "      <td>68</td>\n",
       "      <td>NaN</td>\n",
       "      <td>Новокузнецк</td>\n",
       "      <td>Татьяна</td>\n",
       "      <td>Авдеенко</td>\n",
       "      <td>2018-05-14</td>\n",
       "      <td>ultra</td>\n",
       "    </tr>\n",
       "  </tbody>\n",
       "</table>\n",
       "</div>"
      ],
      "text/plain": [
       "   user_id  age churn_date         city first_name  last_name    reg_date  \\\n",
       "0     1000   52        NaN    Краснодар     Рафаил  Верещагин  2018-05-25   \n",
       "1     1001   41        NaN       Москва       Иван       Ежов  2018-11-01   \n",
       "2     1002   59        NaN  Стерлитамак    Евгений  Абрамович  2018-06-17   \n",
       "3     1003   23        NaN       Москва      Белла   Белякова  2018-08-17   \n",
       "4     1004   68        NaN  Новокузнецк    Татьяна   Авдеенко  2018-05-14   \n",
       "\n",
       "  tariff  \n",
       "0  ultra  \n",
       "1  smart  \n",
       "2  smart  \n",
       "3  ultra  \n",
       "4  ultra  "
      ]
     },
     "metadata": {},
     "output_type": "display_data"
    },
    {
     "name": "stdout",
     "output_type": "stream",
     "text": [
      "<class 'pandas.core.frame.DataFrame'>\n",
      "RangeIndex: 500 entries, 0 to 499\n",
      "Data columns (total 8 columns):\n",
      "user_id       500 non-null int64\n",
      "age           500 non-null int64\n",
      "churn_date    38 non-null object\n",
      "city          500 non-null object\n",
      "first_name    500 non-null object\n",
      "last_name     500 non-null object\n",
      "reg_date      500 non-null object\n",
      "tariff        500 non-null object\n",
      "dtypes: int64(2), object(6)\n",
      "memory usage: 31.4+ KB\n"
     ]
    },
    {
     "data": {
      "text/plain": [
       "None"
      ]
     },
     "metadata": {},
     "output_type": "display_data"
    },
    {
     "data": {
      "text/plain": [
       "1023    1\n",
       "1194    1\n",
       "1181    1\n",
       "1182    1\n",
       "1183    1\n",
       "       ..\n",
       "1362    1\n",
       "1363    1\n",
       "1364    1\n",
       "1365    1\n",
       "1024    1\n",
       "Name: user_id, Length: 500, dtype: int64"
      ]
     },
     "metadata": {},
     "output_type": "display_data"
    },
    {
     "data": {
      "text/plain": [
       "user_id         0\n",
       "age             0\n",
       "churn_date    462\n",
       "city            0\n",
       "first_name      0\n",
       "last_name       0\n",
       "reg_date        0\n",
       "tariff          0\n",
       "dtype: int64"
      ]
     },
     "metadata": {},
     "output_type": "display_data"
    }
   ],
   "source": [
    "#Анализ таблицы абоненты\n",
    "display(df_users.head(5))\n",
    "display(df_users.info())\n",
    "display(df_users['user_id'].value_counts())\n",
    "#df_cals['user_id'].unique()\n",
    "display(df_users.isna().sum())\n",
    "#df_users.dtypes"
   ]
  },
  {
   "cell_type": "markdown",
   "metadata": {},
   "source": [
    "Анализ таблицы показал, что в таблице 500 строк. В столбце churn_date 462 пропуска, пропуски говорят о том что на момент выгрузке тариф еще действовал. Столбец reg_date необходимо преобразовать в тип данных datetime64."
   ]
  },
  {
   "cell_type": "markdown",
   "metadata": {},
   "source": [
    "<div class=\"alert alert-success\">\n",
    "<font size=\"4\"><b>✔️ Комментарий ревьюера</b></font>\n",
    "    <br /> \n",
    "    <font size=\"3\", color = \"black\">\n",
    "<br />\n",
    "    Перед следующим большим этапом работ оптимально сформировать короткий вывод, целей для этого м.б. несколько, одна из них — зафиксировать результаты своей работы\n",
    "        \n",
    "(из практики, что люди ждут от аналитика? — очень много «открытий» и выводов, ну просто очень, а мы все наши инструменты, методы и визуализации используем для того, чтобы убедить, что вывод, который мы напишем — имеет право на существование, как точка зрения :)\n",
    "      \n",
    "</div>"
   ]
  },
  {
   "cell_type": "markdown",
   "metadata": {},
   "source": [
    "## Подготовка данных"
   ]
  },
  {
   "cell_type": "markdown",
   "metadata": {},
   "source": [
    "### Таблица учета звонков"
   ]
  },
  {
   "cell_type": "markdown",
   "metadata": {},
   "source": [
    "<div class=\"alert alert-success\">\n",
    "<font size=\"4\"><b>✔️ Комментарий ревьюера</b></font>\n",
    "    <br /> \n",
    "    <font size=\"3\", color = \"black\">\n",
    "<br />\n",
    "    тебе + за структуру проекта\n",
    "      \n",
    "</div>"
   ]
  },
  {
   "cell_type": "markdown",
   "metadata": {},
   "source": [
    "<div class=\"alert alert-info\">\n",
    "<font size=\"4\"><b>🍕 Комментарий ревьюера</b></font>\n",
    "    <br /> \n",
    "        <font size=\"3\", color = \"black\">\n",
    "            <br />\n",
    "В помощь — как реализовать интерактивный план проекта вручную, смотри по <a href=\"https://stackoverflow.com/questions/49535664/how-to-hyperlink-in-a-jupyter-notebook/49717704\">ссылке</a>, без плагина TOC (оглавление которое автоматически собирает структуру проекта настроено/установлено не у всех)\n",
    "    \n",
    "пара ссылок и по разделам проекта можно будет переходить без пролистывания всего кода, особенно актуально на проектах длина которых >  10 страниц\n",
    "\n",
    "</font>\n",
    "</div>"
   ]
  },
  {
   "cell_type": "markdown",
   "metadata": {},
   "source": [
    "<div class=\"alert alert-info\">\n",
    "<h1> Комментарий студента</h1>\n",
    "\n",
    "Согласен без содержания не удобно, но сейчас временной ресурс очень ограничен чисто физически не могу с этим разобраться.\n",
    "</div>"
   ]
  },
  {
   "cell_type": "markdown",
   "metadata": {},
   "source": [
    "<div class=\"alert alert-success\">\n",
    "<font size=\"5\"><b>✔️ Комментарий ревьюера V2</b></font>\n",
    "    <br /> \n",
    "    <font size=\"3\", color = \"black\">\n",
    "<br />\n",
    "Возможно не на этом проекте, на будущее\n",
    "        \n",
    "когда будешь формировать проекты для портфолио, обязательно посмотри на оформление, («по одежке встречают ...»), а главное самому будет удобно :)\n",
    "\n",
    "</div>"
   ]
  },
  {
   "cell_type": "code",
   "execution_count": 9,
   "metadata": {},
   "outputs": [
    {
     "data": {
      "text/html": [
       "<div>\n",
       "<style scoped>\n",
       "    .dataframe tbody tr th:only-of-type {\n",
       "        vertical-align: middle;\n",
       "    }\n",
       "\n",
       "    .dataframe tbody tr th {\n",
       "        vertical-align: top;\n",
       "    }\n",
       "\n",
       "    .dataframe thead th {\n",
       "        text-align: right;\n",
       "    }\n",
       "</style>\n",
       "<table border=\"1\" class=\"dataframe\">\n",
       "  <thead>\n",
       "    <tr style=\"text-align: right;\">\n",
       "      <th></th>\n",
       "      <th>id</th>\n",
       "      <th>call_date</th>\n",
       "      <th>duration</th>\n",
       "      <th>user_id</th>\n",
       "      <th>month</th>\n",
       "    </tr>\n",
       "  </thead>\n",
       "  <tbody>\n",
       "    <tr>\n",
       "      <td>0</td>\n",
       "      <td>1000_0</td>\n",
       "      <td>2018-07-25</td>\n",
       "      <td>0.0</td>\n",
       "      <td>1000</td>\n",
       "      <td>7</td>\n",
       "    </tr>\n",
       "    <tr>\n",
       "      <td>1</td>\n",
       "      <td>1000_1</td>\n",
       "      <td>2018-08-17</td>\n",
       "      <td>0.0</td>\n",
       "      <td>1000</td>\n",
       "      <td>8</td>\n",
       "    </tr>\n",
       "    <tr>\n",
       "      <td>2</td>\n",
       "      <td>1000_2</td>\n",
       "      <td>2018-06-11</td>\n",
       "      <td>3.0</td>\n",
       "      <td>1000</td>\n",
       "      <td>6</td>\n",
       "    </tr>\n",
       "    <tr>\n",
       "      <td>3</td>\n",
       "      <td>1000_3</td>\n",
       "      <td>2018-09-21</td>\n",
       "      <td>14.0</td>\n",
       "      <td>1000</td>\n",
       "      <td>9</td>\n",
       "    </tr>\n",
       "    <tr>\n",
       "      <td>4</td>\n",
       "      <td>1000_4</td>\n",
       "      <td>2018-12-15</td>\n",
       "      <td>6.0</td>\n",
       "      <td>1000</td>\n",
       "      <td>12</td>\n",
       "    </tr>\n",
       "  </tbody>\n",
       "</table>\n",
       "</div>"
      ],
      "text/plain": [
       "       id  call_date  duration  user_id  month\n",
       "0  1000_0 2018-07-25       0.0     1000      7\n",
       "1  1000_1 2018-08-17       0.0     1000      8\n",
       "2  1000_2 2018-06-11       3.0     1000      6\n",
       "3  1000_3 2018-09-21      14.0     1000      9\n",
       "4  1000_4 2018-12-15       6.0     1000     12"
      ]
     },
     "execution_count": 9,
     "metadata": {},
     "output_type": "execute_result"
    }
   ],
   "source": [
    "\n",
    "#преобразую тип данных столбца call_date в datetime64\n",
    "df_calls['call_date'] = pd.to_datetime(df_calls['call_date'], format='%Y-%m-%d')\n",
    "\n",
    "#округление времени вызова (поминутная тарификация)\n",
    "df_calls['duration'] = np.ceil(df_calls['duration'])\n",
    "\n",
    "#добавлю стоолбец месяц \n",
    "df_calls['month'] = df_calls['call_date'].dt.month \n",
    "\n",
    "df_calls.head(5)"
   ]
  },
  {
   "cell_type": "markdown",
   "metadata": {},
   "source": [
    "<div class=\"alert alert-success\">\n",
    "<font size=\"4\"><b>✔️ Комментарий ревьюера</b></font>\n",
    "    <br /> \n",
    "    <font size=\"3\", color = \"black\">\n",
    "<br />\n",
    "    Можно прокомментировать для себя, что дата в «амер.формате», поэтому (... format='%Y-%m-%d'). \n",
    "    \n",
    "Представим ситуацию, что в нашем датафрейме данные и за 2018 г., и за 2019 г. В таком датафрейме после выполнения кода «... = pd.to_datetime(df_calls['call_date'], format='%Y-%m-%d')» мы получим столбец с номером месяца, но какого года?\n",
    "      \n",
    "</div>"
   ]
  },
  {
   "cell_type": "markdown",
   "metadata": {},
   "source": [
    "<div class=\"alert alert-info\">\n",
    "<h1> Комментарий студента</h1>\n",
    "\n",
    "Честно говоря не задавался вопросом как быть в ситуации если данные не за один год. Наверное в таком случае этот метод не подойдет\n",
    "</div>"
   ]
  },
  {
   "cell_type": "markdown",
   "metadata": {},
   "source": [
    "<div class=\"alert alert-success\">\n",
    "<font size=\"5\"><b>✔️ Комментарий ревьюера V2</b></font>\n",
    "    <br /> \n",
    "    <font size=\"3\", color = \"black\">\n",
    "<br />\n",
    "как вариант, добавить отд. столбцом год, для будущих группировок \n",
    "</div>"
   ]
  },
  {
   "cell_type": "markdown",
   "metadata": {},
   "source": [
    "<div class=\"alert alert-warning\">\n",
    "    <font size=\"4\"><b>⚠️  Комментарий ревьюера</b></font>\n",
    "    <br /> \n",
    "    <font size=\"3\", color = \"black\">\n",
    "<br />\n",
    "Оптимально применять метод np.ceil без apply (на больших данных это может сократить многие часы обработки)\n",
    "        \n",
    "</font>\n",
    "</div>"
   ]
  },
  {
   "cell_type": "markdown",
   "metadata": {},
   "source": [
    "<div class=\"alert alert-info\">\n",
    "<h1> Комментарий студента</h1>\n",
    "\n",
    "Исправил.\n",
    "</div>"
   ]
  },
  {
   "cell_type": "markdown",
   "metadata": {},
   "source": [
    "<div class=\"alert alert-success\">\n",
    "<font size=\"5\"><b>✔️ Комментарий ревьюера V2</b></font>\n",
    "    <br /> \n",
    "    <font size=\"3\", color = \"black\">\n",
    "<br />\n",
    "+\n",
    "\n",
    "</div>"
   ]
  },
  {
   "cell_type": "markdown",
   "metadata": {},
   "source": [
    "### Таблица учета трафика"
   ]
  },
  {
   "cell_type": "code",
   "execution_count": 10,
   "metadata": {},
   "outputs": [
    {
     "data": {
      "text/html": [
       "<div>\n",
       "<style scoped>\n",
       "    .dataframe tbody tr th:only-of-type {\n",
       "        vertical-align: middle;\n",
       "    }\n",
       "\n",
       "    .dataframe tbody tr th {\n",
       "        vertical-align: top;\n",
       "    }\n",
       "\n",
       "    .dataframe thead th {\n",
       "        text-align: right;\n",
       "    }\n",
       "</style>\n",
       "<table border=\"1\" class=\"dataframe\">\n",
       "  <thead>\n",
       "    <tr style=\"text-align: right;\">\n",
       "      <th></th>\n",
       "      <th>Unnamed: 0</th>\n",
       "      <th>id</th>\n",
       "      <th>mb_used</th>\n",
       "      <th>session_date</th>\n",
       "      <th>user_id</th>\n",
       "      <th>month</th>\n",
       "    </tr>\n",
       "  </thead>\n",
       "  <tbody>\n",
       "    <tr>\n",
       "      <td>0</td>\n",
       "      <td>0</td>\n",
       "      <td>1000_0</td>\n",
       "      <td>112.95</td>\n",
       "      <td>2018-11-25</td>\n",
       "      <td>1000</td>\n",
       "      <td>11</td>\n",
       "    </tr>\n",
       "    <tr>\n",
       "      <td>1</td>\n",
       "      <td>1</td>\n",
       "      <td>1000_1</td>\n",
       "      <td>1052.81</td>\n",
       "      <td>2018-09-07</td>\n",
       "      <td>1000</td>\n",
       "      <td>9</td>\n",
       "    </tr>\n",
       "    <tr>\n",
       "      <td>2</td>\n",
       "      <td>2</td>\n",
       "      <td>1000_2</td>\n",
       "      <td>1197.26</td>\n",
       "      <td>2018-06-25</td>\n",
       "      <td>1000</td>\n",
       "      <td>6</td>\n",
       "    </tr>\n",
       "    <tr>\n",
       "      <td>3</td>\n",
       "      <td>3</td>\n",
       "      <td>1000_3</td>\n",
       "      <td>550.27</td>\n",
       "      <td>2018-08-22</td>\n",
       "      <td>1000</td>\n",
       "      <td>8</td>\n",
       "    </tr>\n",
       "    <tr>\n",
       "      <td>4</td>\n",
       "      <td>4</td>\n",
       "      <td>1000_4</td>\n",
       "      <td>302.56</td>\n",
       "      <td>2018-09-24</td>\n",
       "      <td>1000</td>\n",
       "      <td>9</td>\n",
       "    </tr>\n",
       "  </tbody>\n",
       "</table>\n",
       "</div>"
      ],
      "text/plain": [
       "   Unnamed: 0      id  mb_used session_date  user_id  month\n",
       "0           0  1000_0   112.95   2018-11-25     1000     11\n",
       "1           1  1000_1  1052.81   2018-09-07     1000      9\n",
       "2           2  1000_2  1197.26   2018-06-25     1000      6\n",
       "3           3  1000_3   550.27   2018-08-22     1000      8\n",
       "4           4  1000_4   302.56   2018-09-24     1000      9"
      ]
     },
     "execution_count": 10,
     "metadata": {},
     "output_type": "execute_result"
    }
   ],
   "source": [
    "#преобразую тип данных столбца session_date в datetime64\n",
    "df_internet['session_date'] = pd.to_datetime(df_internet['session_date'], format='%Y-%m-%d')\n",
    "#добавлю столбец месяц \n",
    "df_internet['month'] = df_internet['session_date'].dt.month \n",
    "df_internet.head(5)"
   ]
  },
  {
   "cell_type": "markdown",
   "metadata": {},
   "source": [
    "### Таблица учета смс сообщений"
   ]
  },
  {
   "cell_type": "code",
   "execution_count": 11,
   "metadata": {},
   "outputs": [
    {
     "data": {
      "text/html": [
       "<div>\n",
       "<style scoped>\n",
       "    .dataframe tbody tr th:only-of-type {\n",
       "        vertical-align: middle;\n",
       "    }\n",
       "\n",
       "    .dataframe tbody tr th {\n",
       "        vertical-align: top;\n",
       "    }\n",
       "\n",
       "    .dataframe thead th {\n",
       "        text-align: right;\n",
       "    }\n",
       "</style>\n",
       "<table border=\"1\" class=\"dataframe\">\n",
       "  <thead>\n",
       "    <tr style=\"text-align: right;\">\n",
       "      <th></th>\n",
       "      <th>id</th>\n",
       "      <th>message_date</th>\n",
       "      <th>user_id</th>\n",
       "      <th>month</th>\n",
       "    </tr>\n",
       "  </thead>\n",
       "  <tbody>\n",
       "    <tr>\n",
       "      <td>0</td>\n",
       "      <td>1000_0</td>\n",
       "      <td>2018-06-27</td>\n",
       "      <td>1000</td>\n",
       "      <td>6</td>\n",
       "    </tr>\n",
       "    <tr>\n",
       "      <td>1</td>\n",
       "      <td>1000_1</td>\n",
       "      <td>2018-10-08</td>\n",
       "      <td>1000</td>\n",
       "      <td>10</td>\n",
       "    </tr>\n",
       "    <tr>\n",
       "      <td>2</td>\n",
       "      <td>1000_2</td>\n",
       "      <td>2018-08-04</td>\n",
       "      <td>1000</td>\n",
       "      <td>8</td>\n",
       "    </tr>\n",
       "    <tr>\n",
       "      <td>3</td>\n",
       "      <td>1000_3</td>\n",
       "      <td>2018-06-16</td>\n",
       "      <td>1000</td>\n",
       "      <td>6</td>\n",
       "    </tr>\n",
       "    <tr>\n",
       "      <td>4</td>\n",
       "      <td>1000_4</td>\n",
       "      <td>2018-12-05</td>\n",
       "      <td>1000</td>\n",
       "      <td>12</td>\n",
       "    </tr>\n",
       "  </tbody>\n",
       "</table>\n",
       "</div>"
      ],
      "text/plain": [
       "       id message_date  user_id  month\n",
       "0  1000_0   2018-06-27     1000      6\n",
       "1  1000_1   2018-10-08     1000     10\n",
       "2  1000_2   2018-08-04     1000      8\n",
       "3  1000_3   2018-06-16     1000      6\n",
       "4  1000_4   2018-12-05     1000     12"
      ]
     },
     "execution_count": 11,
     "metadata": {},
     "output_type": "execute_result"
    }
   ],
   "source": [
    "#преобразую тип данных столбца message_date в datetime64\n",
    "df_messages['message_date'] = pd.to_datetime(df_messages['message_date'], format='%Y-%m-%d')\n",
    "#добавлю столбец месяц \n",
    "df_messages['month'] = df_messages['message_date'].dt.month \n",
    "df_messages.head(5)"
   ]
  },
  {
   "cell_type": "markdown",
   "metadata": {},
   "source": [
    "### Таблица абоненты"
   ]
  },
  {
   "cell_type": "code",
   "execution_count": 12,
   "metadata": {},
   "outputs": [
    {
     "data": {
      "text/html": [
       "<div>\n",
       "<style scoped>\n",
       "    .dataframe tbody tr th:only-of-type {\n",
       "        vertical-align: middle;\n",
       "    }\n",
       "\n",
       "    .dataframe tbody tr th {\n",
       "        vertical-align: top;\n",
       "    }\n",
       "\n",
       "    .dataframe thead th {\n",
       "        text-align: right;\n",
       "    }\n",
       "</style>\n",
       "<table border=\"1\" class=\"dataframe\">\n",
       "  <thead>\n",
       "    <tr style=\"text-align: right;\">\n",
       "      <th></th>\n",
       "      <th>user_id</th>\n",
       "      <th>age</th>\n",
       "      <th>churn_date</th>\n",
       "      <th>city</th>\n",
       "      <th>first_name</th>\n",
       "      <th>last_name</th>\n",
       "      <th>reg_date</th>\n",
       "      <th>tariff</th>\n",
       "    </tr>\n",
       "  </thead>\n",
       "  <tbody>\n",
       "    <tr>\n",
       "      <td>0</td>\n",
       "      <td>1000</td>\n",
       "      <td>52</td>\n",
       "      <td>NaT</td>\n",
       "      <td>Краснодар</td>\n",
       "      <td>Рафаил</td>\n",
       "      <td>Верещагин</td>\n",
       "      <td>2018-05-25</td>\n",
       "      <td>ultra</td>\n",
       "    </tr>\n",
       "    <tr>\n",
       "      <td>1</td>\n",
       "      <td>1001</td>\n",
       "      <td>41</td>\n",
       "      <td>NaT</td>\n",
       "      <td>Москва</td>\n",
       "      <td>Иван</td>\n",
       "      <td>Ежов</td>\n",
       "      <td>2018-11-01</td>\n",
       "      <td>smart</td>\n",
       "    </tr>\n",
       "    <tr>\n",
       "      <td>2</td>\n",
       "      <td>1002</td>\n",
       "      <td>59</td>\n",
       "      <td>NaT</td>\n",
       "      <td>Стерлитамак</td>\n",
       "      <td>Евгений</td>\n",
       "      <td>Абрамович</td>\n",
       "      <td>2018-06-17</td>\n",
       "      <td>smart</td>\n",
       "    </tr>\n",
       "    <tr>\n",
       "      <td>3</td>\n",
       "      <td>1003</td>\n",
       "      <td>23</td>\n",
       "      <td>NaT</td>\n",
       "      <td>Москва</td>\n",
       "      <td>Белла</td>\n",
       "      <td>Белякова</td>\n",
       "      <td>2018-08-17</td>\n",
       "      <td>ultra</td>\n",
       "    </tr>\n",
       "    <tr>\n",
       "      <td>4</td>\n",
       "      <td>1004</td>\n",
       "      <td>68</td>\n",
       "      <td>NaT</td>\n",
       "      <td>Новокузнецк</td>\n",
       "      <td>Татьяна</td>\n",
       "      <td>Авдеенко</td>\n",
       "      <td>2018-05-14</td>\n",
       "      <td>ultra</td>\n",
       "    </tr>\n",
       "  </tbody>\n",
       "</table>\n",
       "</div>"
      ],
      "text/plain": [
       "   user_id  age churn_date         city first_name  last_name   reg_date  \\\n",
       "0     1000   52        NaT    Краснодар     Рафаил  Верещагин 2018-05-25   \n",
       "1     1001   41        NaT       Москва       Иван       Ежов 2018-11-01   \n",
       "2     1002   59        NaT  Стерлитамак    Евгений  Абрамович 2018-06-17   \n",
       "3     1003   23        NaT       Москва      Белла   Белякова 2018-08-17   \n",
       "4     1004   68        NaT  Новокузнецк    Татьяна   Авдеенко 2018-05-14   \n",
       "\n",
       "  tariff  \n",
       "0  ultra  \n",
       "1  smart  \n",
       "2  smart  \n",
       "3  ultra  \n",
       "4  ultra  "
      ]
     },
     "execution_count": 12,
     "metadata": {},
     "output_type": "execute_result"
    }
   ],
   "source": [
    "#преобразую тип данных столбцов reg_date и churn_date  в datetime64\n",
    "df_users['reg_date'] = pd.to_datetime(df_users['reg_date'], format='%Y-%m-%d')\n",
    "df_users['churn_date'] = pd.to_datetime(df_users['churn_date'], format='%Y-%m-%d')\n",
    "df_users.head(5)"
   ]
  },
  {
   "cell_type": "markdown",
   "metadata": {},
   "source": [
    "Поясните, какие ошибки вы нашли и как их исправили. В данных вы найдёте звонки с нулевой продолжительностью. Это не ошибка: нулями обозначены пропущенные звонки, поэтому их не нужно удалять."
   ]
  },
  {
   "cell_type": "markdown",
   "metadata": {},
   "source": [
    "## Произведем расчет для каждого пользователя:"
   ]
  },
  {
   "cell_type": "markdown",
   "metadata": {},
   "source": [
    "### Расчет количества совершенных вызовом и израсходованных минут  по месяцам"
   ]
  },
  {
   "cell_type": "code",
   "execution_count": 13,
   "metadata": {},
   "outputs": [
    {
     "data": {
      "text/html": [
       "<div>\n",
       "<style scoped>\n",
       "    .dataframe tbody tr th:only-of-type {\n",
       "        vertical-align: middle;\n",
       "    }\n",
       "\n",
       "    .dataframe tbody tr th {\n",
       "        vertical-align: top;\n",
       "    }\n",
       "\n",
       "    .dataframe thead th {\n",
       "        text-align: right;\n",
       "    }\n",
       "</style>\n",
       "<table border=\"1\" class=\"dataframe\">\n",
       "  <thead>\n",
       "    <tr style=\"text-align: right;\">\n",
       "      <th></th>\n",
       "      <th></th>\n",
       "      <th>calls</th>\n",
       "      <th>duration</th>\n",
       "    </tr>\n",
       "    <tr>\n",
       "      <th>user_id</th>\n",
       "      <th>month</th>\n",
       "      <th></th>\n",
       "      <th></th>\n",
       "    </tr>\n",
       "  </thead>\n",
       "  <tbody>\n",
       "    <tr>\n",
       "      <td rowspan=\"5\" valign=\"top\">1000</td>\n",
       "      <td>5</td>\n",
       "      <td>22</td>\n",
       "      <td>159.0</td>\n",
       "    </tr>\n",
       "    <tr>\n",
       "      <td>6</td>\n",
       "      <td>43</td>\n",
       "      <td>172.0</td>\n",
       "    </tr>\n",
       "    <tr>\n",
       "      <td>7</td>\n",
       "      <td>47</td>\n",
       "      <td>340.0</td>\n",
       "    </tr>\n",
       "    <tr>\n",
       "      <td>8</td>\n",
       "      <td>52</td>\n",
       "      <td>408.0</td>\n",
       "    </tr>\n",
       "    <tr>\n",
       "      <td>9</td>\n",
       "      <td>58</td>\n",
       "      <td>466.0</td>\n",
       "    </tr>\n",
       "    <tr>\n",
       "      <td>...</td>\n",
       "      <td>...</td>\n",
       "      <td>...</td>\n",
       "      <td>...</td>\n",
       "    </tr>\n",
       "    <tr>\n",
       "      <td>1498</td>\n",
       "      <td>10</td>\n",
       "      <td>41</td>\n",
       "      <td>247.0</td>\n",
       "    </tr>\n",
       "    <tr>\n",
       "      <td rowspan=\"4\" valign=\"top\">1499</td>\n",
       "      <td>9</td>\n",
       "      <td>9</td>\n",
       "      <td>70.0</td>\n",
       "    </tr>\n",
       "    <tr>\n",
       "      <td>10</td>\n",
       "      <td>68</td>\n",
       "      <td>449.0</td>\n",
       "    </tr>\n",
       "    <tr>\n",
       "      <td>11</td>\n",
       "      <td>74</td>\n",
       "      <td>612.0</td>\n",
       "    </tr>\n",
       "    <tr>\n",
       "      <td>12</td>\n",
       "      <td>69</td>\n",
       "      <td>492.0</td>\n",
       "    </tr>\n",
       "  </tbody>\n",
       "</table>\n",
       "<p>3174 rows × 2 columns</p>\n",
       "</div>"
      ],
      "text/plain": [
       "               calls  duration\n",
       "user_id month                 \n",
       "1000    5         22     159.0\n",
       "        6         43     172.0\n",
       "        7         47     340.0\n",
       "        8         52     408.0\n",
       "        9         58     466.0\n",
       "...              ...       ...\n",
       "1498    10        41     247.0\n",
       "1499    9          9      70.0\n",
       "        10        68     449.0\n",
       "        11        74     612.0\n",
       "        12        69     492.0\n",
       "\n",
       "[3174 rows x 2 columns]"
      ]
     },
     "execution_count": 13,
     "metadata": {},
     "output_type": "execute_result"
    }
   ],
   "source": [
    "calls_in_month = df_calls.pivot_table(\n",
    "    index=('user_id', 'month'),\n",
    "    values='duration',\n",
    "    aggfunc=('count', 'sum')\n",
    ")\n",
    "#calls_in_month.columns = ['calls', 'duration']\n",
    "calls_in_month.rename(columns={'count':'calls','sum':'duration'}, inplace=True)\n",
    "#calls_in_month = calls_in_month.reset_index(drop=True, inplace=True)\n",
    "\n",
    "calls_in_month"
   ]
  },
  {
   "cell_type": "markdown",
   "metadata": {},
   "source": [
    "<div class=\"alert alert-success\">\n",
    "<font size=\"4\"><b>✔️ Комментарий ревьюера</b></font>\n",
    "    <br /> \n",
    "    <font size=\"3\", color = \"black\">\n",
    "<br />\n",
    "    Молодец, что используешь скобки для переноса кода, коллегам будет удобно читать код проекта\n",
    "      \n",
    "</div>"
   ]
  },
  {
   "cell_type": "markdown",
   "metadata": {},
   "source": [
    "<div class=\"alert alert-warning\">\n",
    "    <font size=\"4\"><b>⚠️  Комментарий ревьюера</b></font>\n",
    "    <br /> \n",
    "    <font size=\"3\", color = \"black\">\n",
    "<br />\n",
    "Не оптимально переименовывать столбцы через атрибут columns, потому что так неявно учитывается порядок столбцов. Если порядок столбцов поменяется, код перестанет работать. Используй вместо этого метод rename(). \n",
    "        \n",
    "При повторе такого комментария буду писать: .columns -- >  .rename()\n",
    "        \n",
    "</font>\n",
    "</div>"
   ]
  },
  {
   "cell_type": "markdown",
   "metadata": {},
   "source": [
    "<div class=\"alert alert-info\">\n",
    "<h1> Комментарий студента</h1>\n",
    "\n",
    "Пришлось повозиться с пивоттайбл. С квадратными скобками создаются двух этажные названия столбцов. Исправил.\n",
    "</div>"
   ]
  },
  {
   "cell_type": "markdown",
   "metadata": {},
   "source": [
    "<div class=\"alert alert-success\">\n",
    "<font size=\"5\"><b>✔️ Комментарий ревьюера V2</b></font>\n",
    "    <br /> \n",
    "    <font size=\"3\", color = \"black\">\n",
    "<br />\n",
    "молодец, что разобрался 💎\n",
    "\n",
    "</div>"
   ]
  },
  {
   "cell_type": "markdown",
   "metadata": {},
   "source": [
    "### Расчет количества отправленных сообщений по месяцам"
   ]
  },
  {
   "cell_type": "code",
   "execution_count": 14,
   "metadata": {},
   "outputs": [
    {
     "data": {
      "text/html": [
       "<div>\n",
       "<style scoped>\n",
       "    .dataframe tbody tr th:only-of-type {\n",
       "        vertical-align: middle;\n",
       "    }\n",
       "\n",
       "    .dataframe tbody tr th {\n",
       "        vertical-align: top;\n",
       "    }\n",
       "\n",
       "    .dataframe thead th {\n",
       "        text-align: right;\n",
       "    }\n",
       "</style>\n",
       "<table border=\"1\" class=\"dataframe\">\n",
       "  <thead>\n",
       "    <tr style=\"text-align: right;\">\n",
       "      <th></th>\n",
       "      <th></th>\n",
       "      <th>num_messages</th>\n",
       "    </tr>\n",
       "    <tr>\n",
       "      <th>user_id</th>\n",
       "      <th>month</th>\n",
       "      <th></th>\n",
       "    </tr>\n",
       "  </thead>\n",
       "  <tbody>\n",
       "    <tr>\n",
       "      <td rowspan=\"5\" valign=\"top\">1000</td>\n",
       "      <td>5</td>\n",
       "      <td>22</td>\n",
       "    </tr>\n",
       "    <tr>\n",
       "      <td>6</td>\n",
       "      <td>60</td>\n",
       "    </tr>\n",
       "    <tr>\n",
       "      <td>7</td>\n",
       "      <td>75</td>\n",
       "    </tr>\n",
       "    <tr>\n",
       "      <td>8</td>\n",
       "      <td>81</td>\n",
       "    </tr>\n",
       "    <tr>\n",
       "      <td>9</td>\n",
       "      <td>57</td>\n",
       "    </tr>\n",
       "    <tr>\n",
       "      <td>...</td>\n",
       "      <td>...</td>\n",
       "      <td>...</td>\n",
       "    </tr>\n",
       "    <tr>\n",
       "      <td>1498</td>\n",
       "      <td>10</td>\n",
       "      <td>42</td>\n",
       "    </tr>\n",
       "    <tr>\n",
       "      <td rowspan=\"4\" valign=\"top\">1499</td>\n",
       "      <td>9</td>\n",
       "      <td>11</td>\n",
       "    </tr>\n",
       "    <tr>\n",
       "      <td>10</td>\n",
       "      <td>48</td>\n",
       "    </tr>\n",
       "    <tr>\n",
       "      <td>11</td>\n",
       "      <td>59</td>\n",
       "    </tr>\n",
       "    <tr>\n",
       "      <td>12</td>\n",
       "      <td>66</td>\n",
       "    </tr>\n",
       "  </tbody>\n",
       "</table>\n",
       "<p>2717 rows × 1 columns</p>\n",
       "</div>"
      ],
      "text/plain": [
       "               num_messages\n",
       "user_id month              \n",
       "1000    5                22\n",
       "        6                60\n",
       "        7                75\n",
       "        8                81\n",
       "        9                57\n",
       "...                     ...\n",
       "1498    10               42\n",
       "1499    9                11\n",
       "        10               48\n",
       "        11               59\n",
       "        12               66\n",
       "\n",
       "[2717 rows x 1 columns]"
      ]
     },
     "execution_count": 14,
     "metadata": {},
     "output_type": "execute_result"
    }
   ],
   "source": [
    "messages_in_month = df_messages.pivot_table(\n",
    "    index=['user_id', 'month'],\n",
    "    values='id',\n",
    "    aggfunc='count'\n",
    ")\n",
    "#messages_in_month.columns = ['num_messages']\n",
    "messages_in_month.rename(columns={'id':'num_messages'}, inplace=True)\n",
    "messages_in_month"
   ]
  },
  {
   "cell_type": "markdown",
   "metadata": {},
   "source": [
    "<div class=\"alert alert-warning\">\n",
    "    <font size=\"4\"><b>⚠️  Комментарий ревьюера</b></font>\n",
    "    <br /> \n",
    "    <font size=\"3\", color = \"black\">\n",
    "<br />\n",
    ".columns -- > .rename()\n",
    "        \n",
    "</font>\n",
    "</div>"
   ]
  },
  {
   "cell_type": "markdown",
   "metadata": {},
   "source": [
    "<div class=\"alert alert-info\">\n",
    "<h1> Комментарий студента</h1>\n",
    "\n",
    "Исправил.\n",
    "</div>"
   ]
  },
  {
   "cell_type": "markdown",
   "metadata": {},
   "source": [
    "<div class=\"alert alert-success\">\n",
    "<font size=\"5\"><b>✔️ Комментарий ревьюера V2</b></font>\n",
    "    <br /> \n",
    "    <font size=\"3\", color = \"black\">\n",
    "<br />\n",
    "+\n",
    "\n",
    "</div>"
   ]
  },
  {
   "cell_type": "markdown",
   "metadata": {},
   "source": [
    "### Расчет объема израсходованного интернет-трафика по месяцам"
   ]
  },
  {
   "cell_type": "code",
   "execution_count": 15,
   "metadata": {},
   "outputs": [
    {
     "data": {
      "text/html": [
       "<div>\n",
       "<style scoped>\n",
       "    .dataframe tbody tr th:only-of-type {\n",
       "        vertical-align: middle;\n",
       "    }\n",
       "\n",
       "    .dataframe tbody tr th {\n",
       "        vertical-align: top;\n",
       "    }\n",
       "\n",
       "    .dataframe thead th {\n",
       "        text-align: right;\n",
       "    }\n",
       "</style>\n",
       "<table border=\"1\" class=\"dataframe\">\n",
       "  <thead>\n",
       "    <tr style=\"text-align: right;\">\n",
       "      <th></th>\n",
       "      <th></th>\n",
       "      <th>Gb</th>\n",
       "    </tr>\n",
       "    <tr>\n",
       "      <th>user_id</th>\n",
       "      <th>month</th>\n",
       "      <th></th>\n",
       "    </tr>\n",
       "  </thead>\n",
       "  <tbody>\n",
       "    <tr>\n",
       "      <td rowspan=\"5\" valign=\"top\">1000</td>\n",
       "      <td>5</td>\n",
       "      <td>3.0</td>\n",
       "    </tr>\n",
       "    <tr>\n",
       "      <td>6</td>\n",
       "      <td>23.0</td>\n",
       "    </tr>\n",
       "    <tr>\n",
       "      <td>7</td>\n",
       "      <td>14.0</td>\n",
       "    </tr>\n",
       "    <tr>\n",
       "      <td>8</td>\n",
       "      <td>14.0</td>\n",
       "    </tr>\n",
       "    <tr>\n",
       "      <td>9</td>\n",
       "      <td>15.0</td>\n",
       "    </tr>\n",
       "    <tr>\n",
       "      <td>...</td>\n",
       "      <td>...</td>\n",
       "      <td>...</td>\n",
       "    </tr>\n",
       "    <tr>\n",
       "      <td>1498</td>\n",
       "      <td>10</td>\n",
       "      <td>21.0</td>\n",
       "    </tr>\n",
       "    <tr>\n",
       "      <td rowspan=\"4\" valign=\"top\">1499</td>\n",
       "      <td>9</td>\n",
       "      <td>2.0</td>\n",
       "    </tr>\n",
       "    <tr>\n",
       "      <td>10</td>\n",
       "      <td>18.0</td>\n",
       "    </tr>\n",
       "    <tr>\n",
       "      <td>11</td>\n",
       "      <td>18.0</td>\n",
       "    </tr>\n",
       "    <tr>\n",
       "      <td>12</td>\n",
       "      <td>13.0</td>\n",
       "    </tr>\n",
       "  </tbody>\n",
       "</table>\n",
       "<p>3203 rows × 1 columns</p>\n",
       "</div>"
      ],
      "text/plain": [
       "                 Gb\n",
       "user_id month      \n",
       "1000    5       3.0\n",
       "        6      23.0\n",
       "        7      14.0\n",
       "        8      14.0\n",
       "        9      15.0\n",
       "...             ...\n",
       "1498    10     21.0\n",
       "1499    9       2.0\n",
       "        10     18.0\n",
       "        11     18.0\n",
       "        12     13.0\n",
       "\n",
       "[3203 rows x 1 columns]"
      ]
     },
     "execution_count": 15,
     "metadata": {},
     "output_type": "execute_result"
    }
   ],
   "source": [
    "internet_in_month = df_internet.pivot_table(\n",
    "    index=['user_id', 'month'],\n",
    "    values='mb_used',\n",
    "    aggfunc='sum'\n",
    ")\n",
    "#internet_in_month.columns = ['mb']\n",
    "internet_in_month.rename(columns={'mb_used':'mb'}, inplace=True)\n",
    "\n",
    "# Добавление столбца объема трафика в Гб и округление по правилам тарифа\n",
    "internet_in_month['Gb'] = internet_in_month['mb']/1024\n",
    "internet_in_month['Gb'] = np.ceil(internet_in_month['Gb']) \n",
    "# удаляю столбец mb за ненадобностью\n",
    "internet_in_month.pop('mb')\n",
    "\n",
    "internet_in_month\n",
    "\n"
   ]
  },
  {
   "cell_type": "markdown",
   "metadata": {},
   "source": [
    "<div class=\"alert alert-warning\">\n",
    "    <font size=\"4\"><b>⚠️  Комментарий ревьюера</b></font>\n",
    "    <br /> \n",
    "    <font size=\"3\", color = \"black\">\n",
    "<br />\n",
    "... .columns -- > ... .rename()\n",
    "        \n",
    "... .apply(np.ceil) -- > ... .np.ceil()\n",
    "        \n",
    "</font>\n",
    "</div>"
   ]
  },
  {
   "cell_type": "markdown",
   "metadata": {},
   "source": [
    "<div class=\"alert alert-info\">\n",
    "<h1> Комментарий студента</h1>\n",
    "\n",
    "Исправил.\n",
    "</div>"
   ]
  },
  {
   "cell_type": "markdown",
   "metadata": {},
   "source": [
    "<div class=\"alert alert-success\">\n",
    "<font size=\"5\"><b>✔️ Комментарий ревьюера V2</b></font>\n",
    "    <br /> \n",
    "    <font size=\"3\", color = \"black\">\n",
    "<br />\n",
    "+\n",
    "\n",
    "</div>"
   ]
  },
  {
   "cell_type": "markdown",
   "metadata": {},
   "source": [
    "<div class=\"alert alert\">\n",
    "<font size=\"4\"><b>❌ Комментарий ревьюера</b></font>\n",
    "    <br /> \n",
    "    <font size=\"3\", color = \"black\">\n",
    "<br />\n",
    "   Хорошо, когда нулевые значения в датафрейме попадаются в начале столбца и при помощи метода .head() мы легко можем их заметить (пример с пропущенными звонками). Но не все так очевидно с потреблением интернета, на первый взгляд 2 таблицы: первая - df_internet.head(5) и вторая при группировке  - internet_in_month — показывают нам, что все хорошо (относительно). А если проблемы в данных существуют, мы их не увидим...\n",
    "        \n",
    "А хотелось бы убедиться, что с нашими данными все в порядке, допустим, нет сессий с аномальным потреблением трафика? \n",
    "        \n",
    "Возможно нам поможет 📊\n",
    "        \n",
    "Красный цвет ❌ снят, т.к. перефразировал свой вопрос        \n",
    "    </font>\n",
    "</div>"
   ]
  },
  {
   "cell_type": "code",
   "execution_count": 16,
   "metadata": {},
   "outputs": [
    {
     "data": {
      "text/html": [
       "<div>\n",
       "<style scoped>\n",
       "    .dataframe tbody tr th:only-of-type {\n",
       "        vertical-align: middle;\n",
       "    }\n",
       "\n",
       "    .dataframe tbody tr th {\n",
       "        vertical-align: top;\n",
       "    }\n",
       "\n",
       "    .dataframe thead th {\n",
       "        text-align: right;\n",
       "    }\n",
       "</style>\n",
       "<table border=\"1\" class=\"dataframe\">\n",
       "  <thead>\n",
       "    <tr style=\"text-align: right;\">\n",
       "      <th></th>\n",
       "      <th></th>\n",
       "      <th>Gb</th>\n",
       "    </tr>\n",
       "    <tr>\n",
       "      <th>user_id</th>\n",
       "      <th>month</th>\n",
       "      <th></th>\n",
       "    </tr>\n",
       "  </thead>\n",
       "  <tbody>\n",
       "    <tr>\n",
       "      <td>1094</td>\n",
       "      <td>5</td>\n",
       "      <td>0.0</td>\n",
       "    </tr>\n",
       "    <tr>\n",
       "      <td>1365</td>\n",
       "      <td>10</td>\n",
       "      <td>0.0</td>\n",
       "    </tr>\n",
       "  </tbody>\n",
       "</table>\n",
       "</div>"
      ],
      "text/plain": [
       "                Gb\n",
       "user_id month     \n",
       "1094    5      0.0\n",
       "1365    10     0.0"
      ]
     },
     "execution_count": 16,
     "metadata": {},
     "output_type": "execute_result"
    }
   ],
   "source": [
    "internet_in_month[internet_in_month['Gb'] == 0]"
   ]
  },
  {
   "cell_type": "markdown",
   "metadata": {},
   "source": [
    "<div class=\"alert alert-success\">\n",
    "<font size=\"5\"><b>✔️ Комментарий ревьюера V2</b></font>\n",
    "    <br /> \n",
    "    <font size=\"3\", color = \"black\">\n",
    "<br />\n",
    "выборка ?, объяснение ниже через 3 строки кода\n",
    "\n",
    "</div>"
   ]
  },
  {
   "cell_type": "code",
   "execution_count": 17,
   "metadata": {},
   "outputs": [
    {
     "data": {
      "image/png": "[encoded data removed]",
      "text/plain": [
       "<Figure size 432x288 with 1 Axes>"
      ]
     },
     "metadata": {
      "needs_background": "light"
     },
     "output_type": "display_data"
    }
   ],
   "source": [
    "internet_in_month.groupby('month')['Gb'].median().plot()\n",
    "\n",
    "\n",
    "plt.title('График потребления трафика от месяца')\n",
    "plt.xlabel('Месяц')\n",
    "plt.ylabel('Кол-во трафика')\n",
    "plt.show()"
   ]
  },
  {
   "cell_type": "code",
   "execution_count": 18,
   "metadata": {},
   "outputs": [
    {
     "data": {
      "image/png": "[encoded data removed]",
      "text/plain": [
       "<Figure size 432x288 with 1 Axes>"
      ]
     },
     "metadata": {
      "needs_background": "light"
     },
     "output_type": "display_data"
    }
   ],
   "source": [
    "df_internet.groupby('month')['mb_used'].median().plot()\n",
    "\n",
    "\n",
    "plt.title('График потребления трафика от месяца')\n",
    "plt.xlabel('Месяц')\n",
    "plt.ylabel('Кол-во трафика')\n",
    "plt.show()"
   ]
  },
  {
   "cell_type": "markdown",
   "metadata": {},
   "source": [
    "<div class=\"alert alert-info\">\n",
    "<h1> Комментарий студента</h1>\n",
    "\n",
    "Из графика видно, что аномального потребления трафика нет\n",
    "</div>"
   ]
  },
  {
   "cell_type": "markdown",
   "metadata": {},
   "source": [
    "<div class=\"alert alert-info\">\n",
    "<font size=\"5\"><b>🍕 Комментарий ревьюера V2</b></font>\n",
    "    <br /> \n",
    "        <font size=\"4\", color = \"black\">\n",
    "            <br />\n",
    "            \n",
    "    internet_in_month.groupby('month')['Gb'].median()\n",
    "            \n",
    "Аномалий (как звонки с нулевой длительностью разговора) мы здесь не найдем, потому что мы берем не ту таблицу и уменьшаем нашу выборку до 12 значений \n",
    "            \n",
    "            internet_in_month.groupby('month')...\n",
    "\n",
    "</font>\n",
    "</div>"
   ]
  },
  {
   "cell_type": "markdown",
   "metadata": {},
   "source": [
    "<div class=\"alert alert\">\n",
    "<font size=\"5\"><b>❌ Комментарий ревьюера V2</b></font>\n",
    "    <br /> \n",
    "        <font size=\"4\", color = \"black\">\n",
    "            <br />\n",
    "Для того чтобы найти выбросы в «серии», мы должны рассматривать всю выборку df_internet, например -->  \n",
    "            \n",
    "            df_internet[df_internet['mb_used'] < 0.9]\n",
    "\n",
    "Оптимально, можно построить гистограмму, уже без фильтра ['mb_used'] \\< 0.9, с числом корзин около 100, на твой выбор\n",
    "\n",
    "</div>"
   ]
  },
  {
   "cell_type": "code",
   "execution_count": 19,
   "metadata": {},
   "outputs": [
    {
     "data": {
      "image/png": "[encoded data removed]",
      "text/plain": [
       "<Figure size 1080x360 with 1 Axes>"
      ]
     },
     "metadata": {
      "needs_background": "light"
     },
     "output_type": "display_data"
    }
   ],
   "source": [
    "df_internet['mb_used'].hist(range = (0, 1300), bins = 150, figsize = (15,5),)\n",
    "plt.title('Гистограмма потребления трафика ')\n",
    "plt.xlabel('Кол-во трафика, mb')\n",
    "plt.ylabel('Частота появлений')\n",
    "plt.show()"
   ]
  },
  {
   "cell_type": "markdown",
   "metadata": {},
   "source": [
    "<div class=\"alert alert-info\">\n",
    "<h1> Комментарий студента 2 </h1>\n",
    "\n",
    "Гистограмма показала, что \"около нулевых\" сессий очень много. Трудно оценить что это. Возможно выброс, а возможно так работают приложения на телефонах, которые в фононовом режиме отправляют какую либо информацию на сервер. Если бы была информация о трафике делилась на входящий и исходящий трафик. Можно было бы точнее сформулировать предположение. \n",
    "В остальном анамолий не вижу.\n",
    "</div>"
   ]
  },
  {
   "cell_type": "markdown",
   "metadata": {},
   "source": [
    "<div class=\"alert alert-success\">\n",
    "<font size=\"5\"><b>✔️ Комментарий ревьюера V3</b></font>\n",
    "    <br /> \n",
    "    <font size=\"4\", color = \"black\">\n",
    "<br />\n",
    "    💎\n",
    "    <br />\n",
    "    </font>\n",
    "\n",
    "</div>"
   ]
  },
  {
   "cell_type": "markdown",
   "metadata": {},
   "source": [
    "### Расчет помесячной выручки с каждого пользователя "
   ]
  },
  {
   "cell_type": "code",
   "execution_count": 20,
   "metadata": {
    "scrolled": true
   },
   "outputs": [
    {
     "data": {
      "text/html": [
       "<div>\n",
       "<style scoped>\n",
       "    .dataframe tbody tr th:only-of-type {\n",
       "        vertical-align: middle;\n",
       "    }\n",
       "\n",
       "    .dataframe tbody tr th {\n",
       "        vertical-align: top;\n",
       "    }\n",
       "\n",
       "    .dataframe thead th {\n",
       "        text-align: right;\n",
       "    }\n",
       "</style>\n",
       "<table border=\"1\" class=\"dataframe\">\n",
       "  <thead>\n",
       "    <tr style=\"text-align: right;\">\n",
       "      <th></th>\n",
       "      <th>user_id</th>\n",
       "      <th>month</th>\n",
       "      <th>calls</th>\n",
       "      <th>duration</th>\n",
       "      <th>num_messages</th>\n",
       "      <th>Gb</th>\n",
       "      <th>tariff</th>\n",
       "    </tr>\n",
       "  </thead>\n",
       "  <tbody>\n",
       "    <tr>\n",
       "      <td>0</td>\n",
       "      <td>1000</td>\n",
       "      <td>5</td>\n",
       "      <td>22.0</td>\n",
       "      <td>159.0</td>\n",
       "      <td>22.0</td>\n",
       "      <td>3.0</td>\n",
       "      <td>ultra</td>\n",
       "    </tr>\n",
       "    <tr>\n",
       "      <td>1</td>\n",
       "      <td>1000</td>\n",
       "      <td>6</td>\n",
       "      <td>43.0</td>\n",
       "      <td>172.0</td>\n",
       "      <td>60.0</td>\n",
       "      <td>23.0</td>\n",
       "      <td>ultra</td>\n",
       "    </tr>\n",
       "    <tr>\n",
       "      <td>2</td>\n",
       "      <td>1000</td>\n",
       "      <td>7</td>\n",
       "      <td>47.0</td>\n",
       "      <td>340.0</td>\n",
       "      <td>75.0</td>\n",
       "      <td>14.0</td>\n",
       "      <td>ultra</td>\n",
       "    </tr>\n",
       "    <tr>\n",
       "      <td>3</td>\n",
       "      <td>1000</td>\n",
       "      <td>8</td>\n",
       "      <td>52.0</td>\n",
       "      <td>408.0</td>\n",
       "      <td>81.0</td>\n",
       "      <td>14.0</td>\n",
       "      <td>ultra</td>\n",
       "    </tr>\n",
       "    <tr>\n",
       "      <td>4</td>\n",
       "      <td>1000</td>\n",
       "      <td>9</td>\n",
       "      <td>58.0</td>\n",
       "      <td>466.0</td>\n",
       "      <td>57.0</td>\n",
       "      <td>15.0</td>\n",
       "      <td>ultra</td>\n",
       "    </tr>\n",
       "    <tr>\n",
       "      <td>...</td>\n",
       "      <td>...</td>\n",
       "      <td>...</td>\n",
       "      <td>...</td>\n",
       "      <td>...</td>\n",
       "      <td>...</td>\n",
       "      <td>...</td>\n",
       "      <td>...</td>\n",
       "    </tr>\n",
       "    <tr>\n",
       "      <td>3209</td>\n",
       "      <td>1489</td>\n",
       "      <td>9</td>\n",
       "      <td>NaN</td>\n",
       "      <td>NaN</td>\n",
       "      <td>32.0</td>\n",
       "      <td>17.0</td>\n",
       "      <td>smart</td>\n",
       "    </tr>\n",
       "    <tr>\n",
       "      <td>3210</td>\n",
       "      <td>1489</td>\n",
       "      <td>10</td>\n",
       "      <td>NaN</td>\n",
       "      <td>NaN</td>\n",
       "      <td>21.0</td>\n",
       "      <td>20.0</td>\n",
       "      <td>smart</td>\n",
       "    </tr>\n",
       "    <tr>\n",
       "      <td>3211</td>\n",
       "      <td>1489</td>\n",
       "      <td>11</td>\n",
       "      <td>NaN</td>\n",
       "      <td>NaN</td>\n",
       "      <td>20.0</td>\n",
       "      <td>18.0</td>\n",
       "      <td>smart</td>\n",
       "    </tr>\n",
       "    <tr>\n",
       "      <td>3212</td>\n",
       "      <td>1489</td>\n",
       "      <td>12</td>\n",
       "      <td>NaN</td>\n",
       "      <td>NaN</td>\n",
       "      <td>35.0</td>\n",
       "      <td>17.0</td>\n",
       "      <td>smart</td>\n",
       "    </tr>\n",
       "    <tr>\n",
       "      <td>3213</td>\n",
       "      <td>1476</td>\n",
       "      <td>4</td>\n",
       "      <td>NaN</td>\n",
       "      <td>NaN</td>\n",
       "      <td>NaN</td>\n",
       "      <td>1.0</td>\n",
       "      <td>ultra</td>\n",
       "    </tr>\n",
       "  </tbody>\n",
       "</table>\n",
       "<p>3214 rows × 7 columns</p>\n",
       "</div>"
      ],
      "text/plain": [
       "      user_id  month  calls  duration  num_messages    Gb tariff\n",
       "0        1000      5   22.0     159.0          22.0   3.0  ultra\n",
       "1        1000      6   43.0     172.0          60.0  23.0  ultra\n",
       "2        1000      7   47.0     340.0          75.0  14.0  ultra\n",
       "3        1000      8   52.0     408.0          81.0  14.0  ultra\n",
       "4        1000      9   58.0     466.0          57.0  15.0  ultra\n",
       "...       ...    ...    ...       ...           ...   ...    ...\n",
       "3209     1489      9    NaN       NaN          32.0  17.0  smart\n",
       "3210     1489     10    NaN       NaN          21.0  20.0  smart\n",
       "3211     1489     11    NaN       NaN          20.0  18.0  smart\n",
       "3212     1489     12    NaN       NaN          35.0  17.0  smart\n",
       "3213     1476      4    NaN       NaN           NaN   1.0  ultra\n",
       "\n",
       "[3214 rows x 7 columns]"
      ]
     },
     "execution_count": 20,
     "metadata": {},
     "output_type": "execute_result"
    }
   ],
   "source": [
    "# Сделаю сводную таблицу (количество звонков, израсходованные минуты, количество смс, израходованный трафик в Гб \n",
    "#и тарифный план)\n",
    "users = calls_in_month.merge(\n",
    "    messages_in_month,  \n",
    "    on=['user_id', 'month'], \n",
    "    how='outer'\n",
    ")\n",
    "users = users.merge(\n",
    "    internet_in_month,  \n",
    "    on=['user_id', 'month'], \n",
    "    how='outer'\n",
    ")\n",
    "users = users.reset_index(drop=False)\n",
    "users = users.merge(\n",
    "    df_users[['user_id', 'tariff']], \n",
    "    on='user_id', \n",
    "    how='left'\n",
    ")\n",
    "users"
   ]
  },
  {
   "cell_type": "markdown",
   "metadata": {},
   "source": [
    "<div class=\"alert alert-success\">\n",
    "<font size=\"4\"><b>✔️ Комментарий ревьюера</b></font>\n",
    "    <br /> \n",
    "    <font size=\"3\", color = \"black\">\n",
    "<br />\n",
    "    Первое применение объединения таблиц на самостоятельном проекте, круто 👍\n",
    "        \n",
    "Отлично, что использовано в качестве ключа объединения название двух столбцов, + в копилку\n",
    "      \n",
    "</div>"
   ]
  },
  {
   "cell_type": "markdown",
   "metadata": {},
   "source": [
    "<div class=\"alert alert-warning\">\n",
    "    <font size=\"4\"><b>⚠️  Комментарий ревьюера</b></font>\n",
    "    <br /> \n",
    "    <font size=\"3\", color = \"black\">\n",
    "<br />\n",
    "Для красоты («продаваемости») всего проекта не стоит выходить за видимую ширину тетради юпитер ноутбука, коллеги ценят удобство прочтения кода. Широкие строки кода рекомендуется — делить <a href=\"https://ru.stackoverflow.com/questions/1011167/%D0%9F%D0%B5%D1%80%D0%B5%D0%BD%D0%BE%D1%81-%D0%B4%D0%BB%D0%B8%D0%BD%D0%BD%D1%8B%D1%85-%D1%81%D1%82%D1%80%D0%BE%D0%BA-%D0%BA%D0%BE%D0%B4%D0%B0-%D1%81-%D1%82%D0%BE%D1%87%D0%BA%D0%BE%D0%B9-%D0%BA%D0%B0%D0%BA-%D0%BF%D1%80%D0%B0%D0%B2%D0%B8%D0%BB%D1%8C%D0%BD%D0%BE-%D0%BF%D0%BE-pep8\">Перенос длинных строк кода</a>. Ты уже применял такие методы\n",
    "        \n",
    "Данный комментарий относится ко всем подобным блокам проекта: при повторе буду писать   -   <br />« --> ширина кода»\n",
    "    <br />\n",
    "    </font>\n",
    "\n",
    "</div>"
   ]
  },
  {
   "cell_type": "markdown",
   "metadata": {},
   "source": [
    "<div class=\"alert alert-info\">\n",
    "<h1> Комментарий студента</h1>\n",
    "\n",
    "Иcправил\n",
    "</div>"
   ]
  },
  {
   "cell_type": "markdown",
   "metadata": {},
   "source": [
    "<div class=\"alert alert-success\">\n",
    "<font size=\"5\"><b>✔️ Комментарий ревьюера V2</b></font>\n",
    "    <br /> \n",
    "    <font size=\"3\", color = \"black\">\n",
    "<br />\n",
    "+\n",
    "\n",
    "</div>"
   ]
  },
  {
   "cell_type": "markdown",
   "metadata": {},
   "source": [
    "<div class=\"alert alert-success\">\n",
    "<font size=\"4\"><b>✔️ Комментарий ревьюера</b></font>\n",
    "    <br /> \n",
    "    <font size=\"3\", color = \"black\">\n",
    "<br />\n",
    "    При объединении мы потеряли двух клиентов, сможешь найти как и где это произошло, исправить код и добавить свои комментарии?\n",
    "        \n",
    "Несмотря на то, что комментарий в виде совета, это очень важно для будущей работы\n",
    "      \n",
    "</div>"
   ]
  },
  {
   "cell_type": "markdown",
   "metadata": {},
   "source": [
    "<div class=\"alert alert-info\">\n",
    "<h1> Комментарий студента</h1>\n",
    "\n",
    "Если честно я сразу заметил что потерял их. Но не смог разобраться как их вернуть.\n",
    "</div>"
   ]
  },
  {
   "cell_type": "markdown",
   "metadata": {},
   "source": [
    "<div class=\"alert alert-success\">\n",
    "<font size=\"5\"><b>✔️  Комментарий ревьюера V2</b></font>\n",
    "    <br /> \n",
    "    <font size=\"4\", color = \"black\">\n",
    "<br />\n",
    "Если сталкиваешься со сложным вопросом на проекте — можешь прямо в проекте задать вопрос ревьюеру (лучше оформить комментарием, а то можем пропустить 🔎), мы постараемся помочь :), хотя бы советом \n",
    "\n",
    "совет по потеряшкам, где-то  -- ... merge ... (... how='left') ... \n",
    "\n",
    "</div>"
   ]
  },
  {
   "cell_type": "markdown",
   "metadata": {},
   "source": [
    "<div class=\"alert alert-warning\">\n",
    "<font size=\"5\"><b>⚠️  Комментарий ревьюера V3</b></font>\n",
    "    <br /> \n",
    "    <font size=\"4\", color = \"black\">\n",
    "<br />\n",
    "Потеряшки здесь:\n",
    "        \n",
    "    users = users.reset_index(drop=False)\n",
    "    users = users.merge(\n",
    "        df_users[['user_id', 'tariff']], \n",
    "        on='user_id', \n",
    "        how='left'\n",
    "    ) \n",
    "\n",
    "</div>"
   ]
  },
  {
   "cell_type": "markdown",
   "metadata": {},
   "source": [
    "<div class=\"alert alert-success\">\n",
    "<font size=\"4\"><b>✔️ Комментарий ревьюера</b></font>\n",
    "    <br /> \n",
    "    <font size=\"3\", color = \"black\">\n",
    "<br />\n",
    "    Другой вид самопроверки (он не поможет найти наших потеряшек, но один из важных), можно сравнить полученные суммы из объединенной таблицы и изначальных таблиц.\n",
    "        \n",
    "        \n",
    "Например — по общей длительности звонков, объему интернет-трафика и кол-ву сообщений\n",
    "      \n",
    "</div>"
   ]
  },
  {
   "cell_type": "code",
   "execution_count": 21,
   "metadata": {},
   "outputs": [
    {
     "name": "stdout",
     "output_type": "stream",
     "text": [
      "<class 'pandas.core.frame.DataFrame'>\n",
      "Int64Index: 3214 entries, 0 to 3213\n",
      "Data columns (total 7 columns):\n",
      "user_id         3214 non-null int64\n",
      "month           3214 non-null int64\n",
      "calls           3214 non-null float64\n",
      "duration        3214 non-null float64\n",
      "num_messages    3214 non-null float64\n",
      "Gb              3214 non-null float64\n",
      "tariff          3214 non-null object\n",
      "dtypes: float64(4), int64(2), object(1)\n",
      "memory usage: 200.9+ KB\n"
     ]
    },
    {
     "data": {
      "text/html": [
       "<div>\n",
       "<style scoped>\n",
       "    .dataframe tbody tr th:only-of-type {\n",
       "        vertical-align: middle;\n",
       "    }\n",
       "\n",
       "    .dataframe tbody tr th {\n",
       "        vertical-align: top;\n",
       "    }\n",
       "\n",
       "    .dataframe thead th {\n",
       "        text-align: right;\n",
       "    }\n",
       "</style>\n",
       "<table border=\"1\" class=\"dataframe\">\n",
       "  <thead>\n",
       "    <tr style=\"text-align: right;\">\n",
       "      <th></th>\n",
       "      <th>user_id</th>\n",
       "      <th>month</th>\n",
       "      <th>calls</th>\n",
       "      <th>duration</th>\n",
       "      <th>num_messages</th>\n",
       "      <th>Gb</th>\n",
       "      <th>tariff</th>\n",
       "    </tr>\n",
       "  </thead>\n",
       "  <tbody>\n",
       "    <tr>\n",
       "      <td>0</td>\n",
       "      <td>1000</td>\n",
       "      <td>5</td>\n",
       "      <td>22.0</td>\n",
       "      <td>159.0</td>\n",
       "      <td>22.0</td>\n",
       "      <td>3.0</td>\n",
       "      <td>ultra</td>\n",
       "    </tr>\n",
       "    <tr>\n",
       "      <td>1</td>\n",
       "      <td>1000</td>\n",
       "      <td>6</td>\n",
       "      <td>43.0</td>\n",
       "      <td>172.0</td>\n",
       "      <td>60.0</td>\n",
       "      <td>23.0</td>\n",
       "      <td>ultra</td>\n",
       "    </tr>\n",
       "    <tr>\n",
       "      <td>2</td>\n",
       "      <td>1000</td>\n",
       "      <td>7</td>\n",
       "      <td>47.0</td>\n",
       "      <td>340.0</td>\n",
       "      <td>75.0</td>\n",
       "      <td>14.0</td>\n",
       "      <td>ultra</td>\n",
       "    </tr>\n",
       "    <tr>\n",
       "      <td>3</td>\n",
       "      <td>1000</td>\n",
       "      <td>8</td>\n",
       "      <td>52.0</td>\n",
       "      <td>408.0</td>\n",
       "      <td>81.0</td>\n",
       "      <td>14.0</td>\n",
       "      <td>ultra</td>\n",
       "    </tr>\n",
       "    <tr>\n",
       "      <td>4</td>\n",
       "      <td>1000</td>\n",
       "      <td>9</td>\n",
       "      <td>58.0</td>\n",
       "      <td>466.0</td>\n",
       "      <td>57.0</td>\n",
       "      <td>15.0</td>\n",
       "      <td>ultra</td>\n",
       "    </tr>\n",
       "    <tr>\n",
       "      <td>...</td>\n",
       "      <td>...</td>\n",
       "      <td>...</td>\n",
       "      <td>...</td>\n",
       "      <td>...</td>\n",
       "      <td>...</td>\n",
       "      <td>...</td>\n",
       "      <td>...</td>\n",
       "    </tr>\n",
       "    <tr>\n",
       "      <td>3209</td>\n",
       "      <td>1489</td>\n",
       "      <td>9</td>\n",
       "      <td>0.0</td>\n",
       "      <td>0.0</td>\n",
       "      <td>32.0</td>\n",
       "      <td>17.0</td>\n",
       "      <td>smart</td>\n",
       "    </tr>\n",
       "    <tr>\n",
       "      <td>3210</td>\n",
       "      <td>1489</td>\n",
       "      <td>10</td>\n",
       "      <td>0.0</td>\n",
       "      <td>0.0</td>\n",
       "      <td>21.0</td>\n",
       "      <td>20.0</td>\n",
       "      <td>smart</td>\n",
       "    </tr>\n",
       "    <tr>\n",
       "      <td>3211</td>\n",
       "      <td>1489</td>\n",
       "      <td>11</td>\n",
       "      <td>0.0</td>\n",
       "      <td>0.0</td>\n",
       "      <td>20.0</td>\n",
       "      <td>18.0</td>\n",
       "      <td>smart</td>\n",
       "    </tr>\n",
       "    <tr>\n",
       "      <td>3212</td>\n",
       "      <td>1489</td>\n",
       "      <td>12</td>\n",
       "      <td>0.0</td>\n",
       "      <td>0.0</td>\n",
       "      <td>35.0</td>\n",
       "      <td>17.0</td>\n",
       "      <td>smart</td>\n",
       "    </tr>\n",
       "    <tr>\n",
       "      <td>3213</td>\n",
       "      <td>1476</td>\n",
       "      <td>4</td>\n",
       "      <td>0.0</td>\n",
       "      <td>0.0</td>\n",
       "      <td>0.0</td>\n",
       "      <td>1.0</td>\n",
       "      <td>ultra</td>\n",
       "    </tr>\n",
       "  </tbody>\n",
       "</table>\n",
       "<p>3214 rows × 7 columns</p>\n",
       "</div>"
      ],
      "text/plain": [
       "      user_id  month  calls  duration  num_messages    Gb tariff\n",
       "0        1000      5   22.0     159.0          22.0   3.0  ultra\n",
       "1        1000      6   43.0     172.0          60.0  23.0  ultra\n",
       "2        1000      7   47.0     340.0          75.0  14.0  ultra\n",
       "3        1000      8   52.0     408.0          81.0  14.0  ultra\n",
       "4        1000      9   58.0     466.0          57.0  15.0  ultra\n",
       "...       ...    ...    ...       ...           ...   ...    ...\n",
       "3209     1489      9    0.0       0.0          32.0  17.0  smart\n",
       "3210     1489     10    0.0       0.0          21.0  20.0  smart\n",
       "3211     1489     11    0.0       0.0          20.0  18.0  smart\n",
       "3212     1489     12    0.0       0.0          35.0  17.0  smart\n",
       "3213     1476      4    0.0       0.0           0.0   1.0  ultra\n",
       "\n",
       "[3214 rows x 7 columns]"
      ]
     },
     "execution_count": 21,
     "metadata": {},
     "output_type": "execute_result"
    }
   ],
   "source": [
    "#Заменю пропуски в таблице на 0\n",
    "users = users.fillna(0)\n",
    "users.info()\n",
    "users"
   ]
  },
  {
   "cell_type": "markdown",
   "metadata": {},
   "source": [
    "<div class=\"alert alert-success\">\n",
    "<font size=\"4\"><b>✔️ Комментарий ревьюера</b></font>\n",
    "    <br /> \n",
    "    <font size=\"3\", color = \"black\">\n",
    "<br />\n",
    "    Как думаешь, откуда появились NaN? И какой вывод из этого можно будет сделать \n",
    "      \n",
    "</div>"
   ]
  },
  {
   "cell_type": "markdown",
   "metadata": {},
   "source": [
    "<div class=\"alert alert-info\">\n",
    "<h1> Комментарий студента</h1>\n",
    "\n",
    "Возможно из-за того, что абонет не пользовался услугами в этот период. Или например в случае со звонками можно предположить, что сим карта используется на условном планшете только для интернета\n",
    "</div>"
   ]
  },
  {
   "cell_type": "markdown",
   "metadata": {},
   "source": [
    "<div class=\"alert alert-success\">\n",
    "<font size=\"5\"><b>✔️ Комментарий ревьюера V2</b></font>\n",
    "    <br /> \n",
    "    <font size=\"3\", color = \"black\">\n",
    "<br />\n",
    "+\n",
    "\n",
    "</div>"
   ]
  },
  {
   "cell_type": "markdown",
   "metadata": {},
   "source": [
    "### Вычтитаю бесплатный лимит из суммарного количества звонков, сообщений и интернет-трафика, остаток умножаю на значение из тарифного плана, прибавляю абонентскую плату, соответствующую тарифному плану"
   ]
  },
  {
   "cell_type": "code",
   "execution_count": 22,
   "metadata": {
    "scrolled": true
   },
   "outputs": [
    {
     "data": {
      "text/html": [
       "<div>\n",
       "<style scoped>\n",
       "    .dataframe tbody tr th:only-of-type {\n",
       "        vertical-align: middle;\n",
       "    }\n",
       "\n",
       "    .dataframe tbody tr th {\n",
       "        vertical-align: top;\n",
       "    }\n",
       "\n",
       "    .dataframe thead th {\n",
       "        text-align: right;\n",
       "    }\n",
       "</style>\n",
       "<table border=\"1\" class=\"dataframe\">\n",
       "  <thead>\n",
       "    <tr style=\"text-align: right;\">\n",
       "      <th></th>\n",
       "      <th>user_id</th>\n",
       "      <th>month</th>\n",
       "      <th>calls</th>\n",
       "      <th>duration</th>\n",
       "      <th>num_messages</th>\n",
       "      <th>Gb</th>\n",
       "      <th>tariff</th>\n",
       "      <th>revenue</th>\n",
       "    </tr>\n",
       "  </thead>\n",
       "  <tbody>\n",
       "    <tr>\n",
       "      <td>0</td>\n",
       "      <td>1000</td>\n",
       "      <td>5</td>\n",
       "      <td>22.0</td>\n",
       "      <td>159.0</td>\n",
       "      <td>22.0</td>\n",
       "      <td>3.0</td>\n",
       "      <td>ultra</td>\n",
       "      <td>1950.0</td>\n",
       "    </tr>\n",
       "    <tr>\n",
       "      <td>1</td>\n",
       "      <td>1000</td>\n",
       "      <td>6</td>\n",
       "      <td>43.0</td>\n",
       "      <td>172.0</td>\n",
       "      <td>60.0</td>\n",
       "      <td>23.0</td>\n",
       "      <td>ultra</td>\n",
       "      <td>1950.0</td>\n",
       "    </tr>\n",
       "    <tr>\n",
       "      <td>2</td>\n",
       "      <td>1000</td>\n",
       "      <td>7</td>\n",
       "      <td>47.0</td>\n",
       "      <td>340.0</td>\n",
       "      <td>75.0</td>\n",
       "      <td>14.0</td>\n",
       "      <td>ultra</td>\n",
       "      <td>1950.0</td>\n",
       "    </tr>\n",
       "    <tr>\n",
       "      <td>3</td>\n",
       "      <td>1000</td>\n",
       "      <td>8</td>\n",
       "      <td>52.0</td>\n",
       "      <td>408.0</td>\n",
       "      <td>81.0</td>\n",
       "      <td>14.0</td>\n",
       "      <td>ultra</td>\n",
       "      <td>1950.0</td>\n",
       "    </tr>\n",
       "    <tr>\n",
       "      <td>4</td>\n",
       "      <td>1000</td>\n",
       "      <td>9</td>\n",
       "      <td>58.0</td>\n",
       "      <td>466.0</td>\n",
       "      <td>57.0</td>\n",
       "      <td>15.0</td>\n",
       "      <td>ultra</td>\n",
       "      <td>1950.0</td>\n",
       "    </tr>\n",
       "    <tr>\n",
       "      <td>5</td>\n",
       "      <td>1000</td>\n",
       "      <td>10</td>\n",
       "      <td>57.0</td>\n",
       "      <td>350.0</td>\n",
       "      <td>73.0</td>\n",
       "      <td>15.0</td>\n",
       "      <td>ultra</td>\n",
       "      <td>1950.0</td>\n",
       "    </tr>\n",
       "    <tr>\n",
       "      <td>6</td>\n",
       "      <td>1000</td>\n",
       "      <td>11</td>\n",
       "      <td>43.0</td>\n",
       "      <td>338.0</td>\n",
       "      <td>58.0</td>\n",
       "      <td>15.0</td>\n",
       "      <td>ultra</td>\n",
       "      <td>1950.0</td>\n",
       "    </tr>\n",
       "    <tr>\n",
       "      <td>7</td>\n",
       "      <td>1000</td>\n",
       "      <td>12</td>\n",
       "      <td>46.0</td>\n",
       "      <td>333.0</td>\n",
       "      <td>70.0</td>\n",
       "      <td>10.0</td>\n",
       "      <td>ultra</td>\n",
       "      <td>1950.0</td>\n",
       "    </tr>\n",
       "    <tr>\n",
       "      <td>8</td>\n",
       "      <td>1001</td>\n",
       "      <td>11</td>\n",
       "      <td>59.0</td>\n",
       "      <td>430.0</td>\n",
       "      <td>0.0</td>\n",
       "      <td>18.0</td>\n",
       "      <td>smart</td>\n",
       "      <td>1150.0</td>\n",
       "    </tr>\n",
       "    <tr>\n",
       "      <td>9</td>\n",
       "      <td>1001</td>\n",
       "      <td>12</td>\n",
       "      <td>63.0</td>\n",
       "      <td>414.0</td>\n",
       "      <td>0.0</td>\n",
       "      <td>14.0</td>\n",
       "      <td>smart</td>\n",
       "      <td>550.0</td>\n",
       "    </tr>\n",
       "    <tr>\n",
       "      <td>10</td>\n",
       "      <td>1002</td>\n",
       "      <td>6</td>\n",
       "      <td>15.0</td>\n",
       "      <td>117.0</td>\n",
       "      <td>4.0</td>\n",
       "      <td>11.0</td>\n",
       "      <td>smart</td>\n",
       "      <td>550.0</td>\n",
       "    </tr>\n",
       "    <tr>\n",
       "      <td>11</td>\n",
       "      <td>1002</td>\n",
       "      <td>7</td>\n",
       "      <td>26.0</td>\n",
       "      <td>214.0</td>\n",
       "      <td>11.0</td>\n",
       "      <td>18.0</td>\n",
       "      <td>smart</td>\n",
       "      <td>1150.0</td>\n",
       "    </tr>\n",
       "    <tr>\n",
       "      <td>12</td>\n",
       "      <td>1002</td>\n",
       "      <td>8</td>\n",
       "      <td>42.0</td>\n",
       "      <td>289.0</td>\n",
       "      <td>13.0</td>\n",
       "      <td>20.0</td>\n",
       "      <td>smart</td>\n",
       "      <td>1550.0</td>\n",
       "    </tr>\n",
       "    <tr>\n",
       "      <td>13</td>\n",
       "      <td>1002</td>\n",
       "      <td>9</td>\n",
       "      <td>36.0</td>\n",
       "      <td>206.0</td>\n",
       "      <td>4.0</td>\n",
       "      <td>17.0</td>\n",
       "      <td>smart</td>\n",
       "      <td>950.0</td>\n",
       "    </tr>\n",
       "    <tr>\n",
       "      <td>14</td>\n",
       "      <td>1002</td>\n",
       "      <td>10</td>\n",
       "      <td>33.0</td>\n",
       "      <td>212.0</td>\n",
       "      <td>10.0</td>\n",
       "      <td>14.0</td>\n",
       "      <td>smart</td>\n",
       "      <td>550.0</td>\n",
       "    </tr>\n",
       "  </tbody>\n",
       "</table>\n",
       "</div>"
      ],
      "text/plain": [
       "    user_id  month  calls  duration  num_messages    Gb tariff  revenue\n",
       "0      1000      5   22.0     159.0          22.0   3.0  ultra   1950.0\n",
       "1      1000      6   43.0     172.0          60.0  23.0  ultra   1950.0\n",
       "2      1000      7   47.0     340.0          75.0  14.0  ultra   1950.0\n",
       "3      1000      8   52.0     408.0          81.0  14.0  ultra   1950.0\n",
       "4      1000      9   58.0     466.0          57.0  15.0  ultra   1950.0\n",
       "5      1000     10   57.0     350.0          73.0  15.0  ultra   1950.0\n",
       "6      1000     11   43.0     338.0          58.0  15.0  ultra   1950.0\n",
       "7      1000     12   46.0     333.0          70.0  10.0  ultra   1950.0\n",
       "8      1001     11   59.0     430.0           0.0  18.0  smart   1150.0\n",
       "9      1001     12   63.0     414.0           0.0  14.0  smart    550.0\n",
       "10     1002      6   15.0     117.0           4.0  11.0  smart    550.0\n",
       "11     1002      7   26.0     214.0          11.0  18.0  smart   1150.0\n",
       "12     1002      8   42.0     289.0          13.0  20.0  smart   1550.0\n",
       "13     1002      9   36.0     206.0           4.0  17.0  smart    950.0\n",
       "14     1002     10   33.0     212.0          10.0  14.0  smart    550.0"
      ]
     },
     "execution_count": 22,
     "metadata": {},
     "output_type": "execute_result"
    }
   ],
   "source": [
    " \n",
    "def revenue_calc(row):\n",
    "    duration = row['duration']\n",
    "    calls = row['calls']\n",
    "    num_messages = row['num_messages']\n",
    "    gb = row['Gb']\n",
    "    tariff = row['tariff']\n",
    "    \n",
    "    if tariff == 'smart':\n",
    "        over_duration = duration - df_tariffs.loc[0, 'minutes_included']\n",
    "        over_gb = gb - df_tariffs.loc[0, 'mb_per_month_included']\n",
    "        over_messages = num_messages - df_tariffs.loc[0, 'messages_included']\n",
    "        \n",
    "        if over_duration < 0:\n",
    "            over_duration = 0\n",
    "        if over_gb < 0:\n",
    "            over_gb = 0\n",
    "        if over_messages < 0:\n",
    "            over_messages = 0\n",
    "        \n",
    "        return (df_tariffs.loc[0, 'rub_per_message'] * over_messages + \n",
    "                   df_tariffs.loc[0, 'rub_per_gb'] * over_gb + \n",
    "                   df_tariffs.loc[0, 'rub_per_minute'] * over_duration + \n",
    "                   df_tariffs.loc[0, 'rub_monthly_fee']\n",
    "                  ) \n",
    "    else:\n",
    "        over_duration = duration - df_tariffs.loc[1, 'minutes_included']\n",
    "        over_gb = gb - df_tariffs.loc[1, 'mb_per_month_included']\n",
    "        over_messages = num_messages - df_tariffs.loc[1, 'messages_included']\n",
    "        \n",
    "        if over_duration < 0:\n",
    "            over_duration = 0\n",
    "        if over_gb < 0:\n",
    "            over_gb = 0\n",
    "        if over_messages < 0:\n",
    "            over_messages = 0\n",
    "        \n",
    "        return (df_tariffs.loc[1, 'rub_per_message'] * over_messages + \n",
    "                   df_tariffs.loc[1, 'rub_per_gb'] * over_gb + \n",
    "                   df_tariffs.loc[1, 'rub_per_minute'] * over_duration + \n",
    "                   df_tariffs.loc[1, 'rub_monthly_fee']\n",
    "                  )\n",
    "users['revenue'] = users.apply(revenue_calc, axis=1)\n",
    "users.head(15)"
   ]
  },
  {
   "cell_type": "markdown",
   "metadata": {},
   "source": [
    "<div class=\"alert alert-success\">\n",
    "<font size=\"4\"><b>✔️ Комментарий ревьюера</b></font>\n",
    "    <br /> \n",
    "    <font size=\"3\", color = \"black\">\n",
    "<br />\n",
    "    Здоровская функция, хорошо что, ты перевел Мб в Гб в таблице  df_tariffs заранее, а в функции можно оставить пару слов комментария или изменить название столбца  df_tariffs.mb_per_month_included\n",
    "        \n",
    "Оптимально делить код на блоки: функция в одной строчке, применение функции в другой.\n",
    "      \n",
    "Отлично, ты собрал данные о сумме выручки по каждому клиенту компании в разрезе месяцев, +\n",
    "</div>"
   ]
  },
  {
   "cell_type": "markdown",
   "metadata": {},
   "source": [
    "## Анализ данных"
   ]
  },
  {
   "cell_type": "markdown",
   "metadata": {},
   "source": [
    "Опишите поведение клиентов оператора, исходя из выборки. Сколько минут разговора, сколько сообщений и какой объём интернет-трафика требуется пользователям каждого тарифа в месяц? Посчитайте среднее количество, дисперсию и стандартное отклонение. Постройте гистограммы. Опишите распределения."
   ]
  },
  {
   "cell_type": "markdown",
   "metadata": {},
   "source": [
    "### Расчет количества минут разговора, сообщений и объема интернет трафика которые требуется каждому абоненту тарифа в месяц"
   ]
  },
  {
   "cell_type": "code",
   "execution_count": 23,
   "metadata": {},
   "outputs": [
    {
     "data": {
      "text/html": [
       "<div>\n",
       "<style scoped>\n",
       "    .dataframe tbody tr th:only-of-type {\n",
       "        vertical-align: middle;\n",
       "    }\n",
       "\n",
       "    .dataframe tbody tr th {\n",
       "        vertical-align: top;\n",
       "    }\n",
       "\n",
       "    .dataframe thead th {\n",
       "        text-align: right;\n",
       "    }\n",
       "</style>\n",
       "<table border=\"1\" class=\"dataframe\">\n",
       "  <thead>\n",
       "    <tr style=\"text-align: right;\">\n",
       "      <th></th>\n",
       "      <th>user_id</th>\n",
       "      <th>Gb</th>\n",
       "      <th>duration</th>\n",
       "      <th>num_messages</th>\n",
       "      <th>revenue</th>\n",
       "      <th>tariff</th>\n",
       "    </tr>\n",
       "  </thead>\n",
       "  <tbody>\n",
       "    <tr>\n",
       "      <td>0</td>\n",
       "      <td>1000</td>\n",
       "      <td>13.625000</td>\n",
       "      <td>320.750000</td>\n",
       "      <td>62.0</td>\n",
       "      <td>1950.000000</td>\n",
       "      <td>ultra</td>\n",
       "    </tr>\n",
       "    <tr>\n",
       "      <td>1</td>\n",
       "      <td>1001</td>\n",
       "      <td>16.000000</td>\n",
       "      <td>422.000000</td>\n",
       "      <td>0.0</td>\n",
       "      <td>850.000000</td>\n",
       "      <td>smart</td>\n",
       "    </tr>\n",
       "    <tr>\n",
       "      <td>2</td>\n",
       "      <td>1002</td>\n",
       "      <td>16.714286</td>\n",
       "      <td>216.714286</td>\n",
       "      <td>10.0</td>\n",
       "      <td>1035.714286</td>\n",
       "      <td>smart</td>\n",
       "    </tr>\n",
       "    <tr>\n",
       "      <td>3</td>\n",
       "      <td>1003</td>\n",
       "      <td>11.800000</td>\n",
       "      <td>764.400000</td>\n",
       "      <td>76.0</td>\n",
       "      <td>1950.000000</td>\n",
       "      <td>ultra</td>\n",
       "    </tr>\n",
       "    <tr>\n",
       "      <td>4</td>\n",
       "      <td>1004</td>\n",
       "      <td>18.750000</td>\n",
       "      <td>123.375000</td>\n",
       "      <td>149.0</td>\n",
       "      <td>1950.000000</td>\n",
       "      <td>ultra</td>\n",
       "    </tr>\n",
       "    <tr>\n",
       "      <td>...</td>\n",
       "      <td>...</td>\n",
       "      <td>...</td>\n",
       "      <td>...</td>\n",
       "      <td>...</td>\n",
       "      <td>...</td>\n",
       "      <td>...</td>\n",
       "    </tr>\n",
       "    <tr>\n",
       "      <td>493</td>\n",
       "      <td>1495</td>\n",
       "      <td>25.400000</td>\n",
       "      <td>784.000000</td>\n",
       "      <td>68.0</td>\n",
       "      <td>2310.000000</td>\n",
       "      <td>ultra</td>\n",
       "    </tr>\n",
       "    <tr>\n",
       "      <td>494</td>\n",
       "      <td>1496</td>\n",
       "      <td>22.500000</td>\n",
       "      <td>498.666667</td>\n",
       "      <td>39.0</td>\n",
       "      <td>2362.583333</td>\n",
       "      <td>smart</td>\n",
       "    </tr>\n",
       "    <tr>\n",
       "      <td>495</td>\n",
       "      <td>1497</td>\n",
       "      <td>15.333333</td>\n",
       "      <td>468.666667</td>\n",
       "      <td>17.0</td>\n",
       "      <td>928.333333</td>\n",
       "      <td>smart</td>\n",
       "    </tr>\n",
       "    <tr>\n",
       "      <td>496</td>\n",
       "      <td>1498</td>\n",
       "      <td>18.750000</td>\n",
       "      <td>323.250000</td>\n",
       "      <td>42.0</td>\n",
       "      <td>1659.000000</td>\n",
       "      <td>smart</td>\n",
       "    </tr>\n",
       "    <tr>\n",
       "      <td>497</td>\n",
       "      <td>1499</td>\n",
       "      <td>12.750000</td>\n",
       "      <td>405.750000</td>\n",
       "      <td>46.0</td>\n",
       "      <td>952.750000</td>\n",
       "      <td>smart</td>\n",
       "    </tr>\n",
       "  </tbody>\n",
       "</table>\n",
       "<p>498 rows × 6 columns</p>\n",
       "</div>"
      ],
      "text/plain": [
       "     user_id         Gb    duration  num_messages      revenue tariff\n",
       "0       1000  13.625000  320.750000          62.0  1950.000000  ultra\n",
       "1       1001  16.000000  422.000000           0.0   850.000000  smart\n",
       "2       1002  16.714286  216.714286          10.0  1035.714286  smart\n",
       "3       1003  11.800000  764.400000          76.0  1950.000000  ultra\n",
       "4       1004  18.750000  123.375000         149.0  1950.000000  ultra\n",
       "..       ...        ...         ...           ...          ...    ...\n",
       "493     1495  25.400000  784.000000          68.0  2310.000000  ultra\n",
       "494     1496  22.500000  498.666667          39.0  2362.583333  smart\n",
       "495     1497  15.333333  468.666667          17.0   928.333333  smart\n",
       "496     1498  18.750000  323.250000          42.0  1659.000000  smart\n",
       "497     1499  12.750000  405.750000          46.0   952.750000  smart\n",
       "\n",
       "[498 rows x 6 columns]"
      ]
     },
     "execution_count": 23,
     "metadata": {},
     "output_type": "execute_result"
    }
   ],
   "source": [
    "average_demand = users.pivot_table(\n",
    "    index='user_id', \n",
    "    values=['duration', 'num_messages', 'Gb', 'revenue', 'tariff'], \n",
    "    aggfunc='mean'\n",
    ")\n",
    "average_demand = average_demand.merge(\n",
    "    df_users[['user_id', 'tariff',]], \n",
    "    on='user_id', \n",
    "    how='left'\n",
    ")\n",
    "average_demand"
   ]
  },
  {
   "cell_type": "markdown",
   "metadata": {},
   "source": [
    "<div class=\"alert alert-warning\">\n",
    "    <font size=\"4\"><b>⚠️  Комментарий ревьюера</b></font>\n",
    "    <br /> \n",
    "    <font size=\"3\", color = \"black\">\n",
    "<br />\n",
    " --> ширина кода\n",
    "    <br />\n",
    "    </font>\n",
    "\n",
    "</div>"
   ]
  },
  {
   "cell_type": "markdown",
   "metadata": {},
   "source": [
    "<div class=\"alert alert-info\">\n",
    "<h1> Комментарий студента</h1>\n",
    "\n",
    "Иcправил\n",
    "</div>"
   ]
  },
  {
   "cell_type": "markdown",
   "metadata": {},
   "source": [
    "<div class=\"alert alert-success\">\n",
    "<font size=\"5\"><b>✔️ Комментарий ревьюера V2</b></font>\n",
    "    <br /> \n",
    "    <font size=\"3\", color = \"black\">\n",
    "<br />\n",
    "+\n",
    "\n",
    "</div>"
   ]
  },
  {
   "cell_type": "markdown",
   "metadata": {},
   "source": [
    "<div class=\"alert alert\">\n",
    "    <font size=\"4\"><b>❌ Комментарий ревьюера</b></font>\n",
    "    <br /> \n",
    "    <font size=\"3\", color = \"black\">\n",
    "<br />\n",
    "        \n",
    "... aggfunc='median') -- > ... aggfunc='mean'), если думаешь по другому, напиши свой комментарий\n",
    "        \n",
    "Так как расчет влияет на остальную часть проекта, в т.ч. на проверку гипотез, комментарий красный\n",
    "            \n",
    "Комментарий в целом про average_demand:\n",
    "        \n",
    "Что важно в статистике? Кол-во наблюдений — усредняя температуру  больного за 2010 год можно сделать вывод, что в 2010 году больной не болел, так как средняя температура за год у него была близка к нормальной)\n",
    "        \n",
    "Чтобы избежать подобного мы должны сохранить все наблюдения за больным в течение года, т.е. у нас по этому человеку должно быть 365 наблюдений, а м.б. и 730 если мы хотим отследить утренние и вечерние тренды.\n",
    "        \n",
    "В нашем случае, хотя он немного отличается от температуры человека, но условия для подготовки выборки сохраняются.\n",
    "\n",
    "        \n",
    "Какие значения в датафрейме average_demand нам нужны (подсказка в условиях проекта — шаг 3)\n",
    "\n",
    "Красный цвет ❌ снят, т.к. перефразировал свой вопрос        \n",
    "</font>\n",
    "</div>"
   ]
  },
  {
   "cell_type": "markdown",
   "metadata": {},
   "source": [
    "<div class=\"alert alert-info\">\n",
    "<h1> Комментарий студента</h1>\n",
    "\n",
    "Полностью с тобой согласен. Иcправил\n",
    "</div>"
   ]
  },
  {
   "cell_type": "markdown",
   "metadata": {},
   "source": [
    "<div class=\"alert alert\">\n",
    "<font size=\"5\"><b>❌ Комментарий ревьюера V2</b></font>\n",
    "    <br /> \n",
    "        <font size=\"4\", color = \"black\">\n",
    "            <br />\n",
    "Только теперь получилось, что мы с тобой рассчитали сколько в среднем клиент потребляет мин, Гб, и смс в <b>год</b>\n",
    "            \n",
    "а в задании мы с тобой говорим о другом --> Расчет количества минут разговора, сообщений и объема интернет трафика которые требуется каждому абоненту тарифа <b>в месяц</b>¶            \n",
    "\n",
    "</div>"
   ]
  },
  {
   "cell_type": "markdown",
   "metadata": {},
   "source": [
    "<div class=\"alert alert-info\">\n",
    "<h1> Комментарий студента 2 </h1>\n",
    "Нет не в год, а средннее по абоненту в месяц. К примеру простая проверка по трафику абонента с user_id 1000 таблица users\n",
    "    \n",
    "    \n",
    "\n",
    "</div>"
   ]
  },
  {
   "cell_type": "code",
   "execution_count": 24,
   "metadata": {},
   "outputs": [
    {
     "data": {
      "text/plain": [
       "13.625"
      ]
     },
     "execution_count": 24,
     "metadata": {},
     "output_type": "execute_result"
    }
   ],
   "source": [
    "q = (3+23+14+14+15+15+15+10)/8\n",
    "q"
   ]
  },
  {
   "cell_type": "markdown",
   "metadata": {},
   "source": [
    "<div class=\"alert alert-info\">\n",
    "<h1> Комментарий студента 2 </h1>\n",
    "\n",
    "13.625 Гб абонент в среднем потребляет в месяц. Это значение и стоит в таблице average_demand напротив id 1000\n",
    "</div>"
   ]
  },
  {
   "cell_type": "markdown",
   "metadata": {},
   "source": [
    "<div class=\"alert alert-info\">\n",
    "<font size=\"5\"><b>🍕 Комментарий ревьюера V3</b></font>\n",
    "    <br /> \n",
    "    <font size=\"3\", color = \"black\">\n",
    "<br />\n",
    "Три аналитика — четыре мнения, принимается твое объяснение ...,  молодец :)\n",
    "        \n",
    "У меня в голове было число — сколько <b>средний</b> абонент компании на каждом тарифе тратит в месяц (янв, фев, ... дек) — т.е. подход бизнесовый — ищу ответ на вопрос, а растет ли потребление услуг по году от января к декабрю у среднего абонента тарифа? \n",
    "\n",
    "</div>"
   ]
  },
  {
   "cell_type": "markdown",
   "metadata": {},
   "source": [
    "### Вычислю среднее количество ресурсов по тарифам"
   ]
  },
  {
   "cell_type": "code",
   "execution_count": 25,
   "metadata": {},
   "outputs": [
    {
     "data": {
      "text/html": [
       "<div>\n",
       "<style scoped>\n",
       "    .dataframe tbody tr th:only-of-type {\n",
       "        vertical-align: middle;\n",
       "    }\n",
       "\n",
       "    .dataframe tbody tr th {\n",
       "        vertical-align: top;\n",
       "    }\n",
       "\n",
       "    .dataframe thead th {\n",
       "        text-align: right;\n",
       "    }\n",
       "</style>\n",
       "<table border=\"1\" class=\"dataframe\">\n",
       "  <thead>\n",
       "    <tr style=\"text-align: right;\">\n",
       "      <th></th>\n",
       "      <th>tariff</th>\n",
       "      <th>Gb</th>\n",
       "      <th>duration</th>\n",
       "      <th>num_messages</th>\n",
       "      <th>revenue</th>\n",
       "      <th>rub_monthly_fee</th>\n",
       "    </tr>\n",
       "  </thead>\n",
       "  <tbody>\n",
       "    <tr>\n",
       "      <td>0</td>\n",
       "      <td>smart</td>\n",
       "      <td>17</td>\n",
       "      <td>420</td>\n",
       "      <td>33</td>\n",
       "      <td>1325</td>\n",
       "      <td>550</td>\n",
       "    </tr>\n",
       "    <tr>\n",
       "      <td>1</td>\n",
       "      <td>ultra</td>\n",
       "      <td>20</td>\n",
       "      <td>528</td>\n",
       "      <td>55</td>\n",
       "      <td>2087</td>\n",
       "      <td>1950</td>\n",
       "    </tr>\n",
       "  </tbody>\n",
       "</table>\n",
       "</div>"
      ],
      "text/plain": [
       "  tariff  Gb  duration  num_messages  revenue  rub_monthly_fee\n",
       "0  smart  17       420            33     1325              550\n",
       "1  ultra  20       528            55     2087             1950"
      ]
     },
     "execution_count": 25,
     "metadata": {},
     "output_type": "execute_result"
    }
   ],
   "source": [
    "tariff_consumption = average_demand.pivot_table(index='tariff', values=['duration', 'Gb', 'num_messages', 'revenue'])\n",
    "tariff_consumption['rub_monthly_fee'] = [550, 1950]\n",
    "tariff_consumption = tariff_consumption.reset_index(drop=False)\n",
    "\n",
    "#для красоты округляю начения и привожу к типу данных int\n",
    "tariff_consumption['Gb'] = np.ceil(tariff_consumption['Gb']).astype(int)\n",
    "tariff_consumption['duration'] = np.ceil(tariff_consumption['duration']).astype(int)\n",
    "tariff_consumption['num_messages'] = np.ceil(tariff_consumption['num_messages']).astype(int)\n",
    "tariff_consumption['revenue'] = np.ceil(tariff_consumption['revenue']).astype(int)\n",
    "#tariff_consumption.pop('tariff')\n",
    "#tariff_consumption.loc['difference'] =  tariff_consumption.iloc[1]/tariff_consumption.iloc[0]\n",
    "tariff_consumption"
   ]
  },
  {
   "cell_type": "markdown",
   "metadata": {},
   "source": [
    "<div class=\"alert alert-success\">\n",
    "<font size=\"4\"><b>✔️ Комментарий ревьюера</b></font>\n",
    "    <br /> \n",
    "    <font size=\"3\", color = \"black\">\n",
    "<br />\n",
    "    Красивая таблица, легко сделать выводы о потреблении услуг (превышают лимиты или нет), +\n",
    "        \n",
    "Возможно числа изменятся, после правки алгоритма расчета в п.4.1\n",
    "</div>"
   ]
  },
  {
   "cell_type": "markdown",
   "metadata": {},
   "source": [
    "<div class=\"alert alert-warning\">\n",
    "    <font size=\"4\"><b>⚠️  Комментарий ревьюера</b></font>\n",
    "    <br /> \n",
    "    <font size=\"3\", color = \"black\">\n",
    "<br />\n",
    "        \n",
    "... .apply(np.ceil) -- > ... .np.ceil()\n",
    "        \n",
    "</font>\n",
    "</div>"
   ]
  },
  {
   "cell_type": "markdown",
   "metadata": {},
   "source": [
    "<div class=\"alert alert-info\">\n",
    "<h1> Комментарий студента</h1>\n",
    "\n",
    "Иcправил\n",
    "</div>"
   ]
  },
  {
   "cell_type": "markdown",
   "metadata": {},
   "source": [
    "<div class=\"alert alert-success\">\n",
    "<font size=\"5\"><b>✔️ Комментарий ревьюера V2</b></font>\n",
    "    <br /> \n",
    "    <font size=\"3\", color = \"black\">\n",
    "<br />\n",
    "+\n",
    "\n",
    "</div>"
   ]
  },
  {
   "cell_type": "markdown",
   "metadata": {},
   "source": [
    "Из таблицы видно что абоненты тарифа ультра потребляют больше ресурсов и практически не докупают дополнительные ресурсы, в то время как абонентам тарифа смарт приходится докупать доп трафик. Абоненты тарифа смарт в среднем докупают ресурсов на 750 рублей, а абоненты тарифа ультра всего на 100 рублей. "
   ]
  },
  {
   "cell_type": "markdown",
   "metadata": {},
   "source": [
    "### Вычисляю дисперсию и стандартное отклонение"
   ]
  },
  {
   "cell_type": "code",
   "execution_count": null,
   "metadata": {},
   "outputs": [],
   "source": []
  },
  {
   "cell_type": "code",
   "execution_count": 26,
   "metadata": {},
   "outputs": [
    {
     "data": {
      "image/png": "[encoded data removed]",
      "text/plain": [
       "<Figure size 360x360 with 1 Axes>"
      ]
     },
     "metadata": {
      "needs_background": "light"
     },
     "output_type": "display_data"
    },
    {
     "data": {
      "image/png": "[encoded data removed]",
      "text/plain": [
       "<Figure size 360x360 with 1 Axes>"
      ]
     },
     "metadata": {
      "needs_background": "light"
     },
     "output_type": "display_data"
    },
    {
     "data": {
      "image/png": "[encoded data removed]",
      "text/plain": [
       "<Figure size 360x360 with 1 Axes>"
      ]
     },
     "metadata": {
      "needs_background": "light"
     },
     "output_type": "display_data"
    }
   ],
   "source": [
    "\n",
    "for column in ['duration', 'Gb', 'num_messages']:    \n",
    "    sns.catplot(x='tariff', y=column, kind=\"box\", data=average_demand, orient='v')"
   ]
  },
  {
   "cell_type": "markdown",
   "metadata": {},
   "source": [
    "Дисперсия тарифа Ультра бошльше, и медиана смещена в большую сторону."
   ]
  },
  {
   "cell_type": "code",
   "execution_count": 27,
   "metadata": {},
   "outputs": [
    {
     "data": {
      "image/png": "[encoded data removed]",
      "text/plain": [
       "<Figure size 360x360 with 1 Axes>"
      ]
     },
     "metadata": {
      "needs_background": "light"
     },
     "output_type": "display_data"
    },
    {
     "data": {
      "image/png": "[encoded data removed]",
      "text/plain": [
       "<Figure size 360x360 with 1 Axes>"
      ]
     },
     "metadata": {
      "needs_background": "light"
     },
     "output_type": "display_data"
    },
    {
     "data": {
      "image/png": "[encoded data removed]",
      "text/plain": [
       "<Figure size 360x360 with 1 Axes>"
      ]
     },
     "metadata": {
      "needs_background": "light"
     },
     "output_type": "display_data"
    }
   ],
   "source": [
    "\n",
    "for column in ['duration', 'Gb', 'num_messages']:    \n",
    "    sns.catplot(x='tariff', y=column, kind=\"box\", data=users, orient='v')"
   ]
  },
  {
   "cell_type": "markdown",
   "metadata": {},
   "source": [
    "<div class=\"alert alert-success\">\n",
    "<font size=\"4\"><b>✔️ Комментарий ревьюера</b></font>\n",
    "    <br /> \n",
    "    <font size=\"3\", color = \"black\">\n",
    "<br />\n",
    "Молодец, что применяешь циклы при построении графиков и опять сиборн — круто, но наблюдений мало и выбросов мало 💭 (average_demand?)\n",
    "</div>"
   ]
  },
  {
   "cell_type": "markdown",
   "metadata": {},
   "source": [
    "<div class=\"alert alert-info\">\n",
    "<h1> Комментарий студента</h1>\n",
    "\n",
    "Построил по таблице users, выбросов стало больше, но на мой взгляд смысл не изменился\n",
    "</div>"
   ]
  },
  {
   "cell_type": "markdown",
   "metadata": {},
   "source": [
    "<div class=\"alert alert-success\">\n",
    "<font size=\"5\"><b>✔️ Комментарий ревьюера V2</b></font>\n",
    "    <br /> \n",
    "    <font size=\"3\", color = \"black\">\n",
    "<br />\n",
    "Если посмотреть на графики потребления интернета, мы заметим значительное увеличение выбросов, а если сравнить тарифы: у смарта выбросы есть, а ультры нет?\n",
    "\n",
    "А как раз за выбросами аналитики и охотятся в данном случае\n",
    "        \n",
    "Почему некоторые клиенты потребляют интернета больше, а кто звонит дольше, это очень важно для компании, а вдруг клиенты с большими значениями потребления убегут к конкурентам или если клиенты минимально используют тариф, может они через месяц покинут компанию, целый сборник вопросов для аналитика могут скрывать выбросы :)\n",
    "\n",
    "</div>"
   ]
  },
  {
   "cell_type": "markdown",
   "metadata": {},
   "source": [
    "<div class=\"alert alert-info\">\n",
    "<h1> Комментарий студента</h1>\n",
    "\n",
    "Подскажи, пожалуйста, можно ли как-то отобразить графики по двум выборкам рядом(как бы в два столбца), что бы легче анализировать?\n",
    "</div>"
   ]
  },
  {
   "cell_type": "markdown",
   "metadata": {},
   "source": [
    "<div class=\"alert alert-success\">\n",
    "<font size=\"5\"><b>✔️ Комментарий ревьюера V3</b></font>\n",
    "    <br /> \n",
    "    <font size=\"4\", color = \"black\">\n",
    "<br />\n",
    "    📊 — примеры после вывода по проекту\n",
    "    <br />\n",
    "    </font>\n",
    "\n",
    "</div>"
   ]
  },
  {
   "cell_type": "code",
   "execution_count": 28,
   "metadata": {},
   "outputs": [],
   "source": [
    "tariff_smart = average_demand.query(\"tariff == 'smart'\")\n",
    "tariff_ultra = average_demand.query(\"tariff == 'ultra'\")\n",
    "\n",
    "\n",
    "_tariff_smart = users.query(\"tariff == 'smart'\")\n",
    "_tariff_ultra = users.query(\"tariff == 'ultra'\")\n",
    "\n"
   ]
  },
  {
   "cell_type": "code",
   "execution_count": 29,
   "metadata": {},
   "outputs": [
    {
     "data": {
      "text/plain": [
       "'Гистограмма звонков'"
      ]
     },
     "execution_count": 29,
     "metadata": {},
     "output_type": "execute_result"
    },
    {
     "data": {
      "image/png": "[encoded data removed]",
      "text/plain": [
       "<Figure size 720x432 with 1 Axes>"
      ]
     },
     "metadata": {
      "needs_background": "light"
     },
     "output_type": "display_data"
    }
   ],
   "source": [
    "plt.figure(figsize=(10, 6))\n",
    "sns.distplot(tariff_smart['duration'], kde=False)\n",
    "sns.distplot(tariff_ultra['duration'], kde=False)\n",
    "plt.legend(['smart', 'ultra'])\n",
    "plt.xlabel('количество израсходованных минут')\n",
    "plt.ylabel('количество абонентов')\n",
    "plt.title;('Гистограмма звонков')"
   ]
  },
  {
   "cell_type": "markdown",
   "metadata": {},
   "source": [
    "Гистограмма по таблице users"
   ]
  },
  {
   "cell_type": "code",
   "execution_count": 30,
   "metadata": {},
   "outputs": [
    {
     "data": {
      "text/plain": [
       "'Гистограмма звонков  таблице users'"
      ]
     },
     "execution_count": 30,
     "metadata": {},
     "output_type": "execute_result"
    },
    {
     "data": {
      "image/png": "[encoded data removed]",
      "text/plain": [
       "<Figure size 720x432 with 1 Axes>"
      ]
     },
     "metadata": {
      "needs_background": "light"
     },
     "output_type": "display_data"
    }
   ],
   "source": [
    "plt.figure(figsize=(10, 6))\n",
    "sns.distplot(_tariff_smart['duration'], kde=False)\n",
    "sns.distplot(_tariff_ultra['duration'], kde=False)\n",
    "plt.legend(['smart', 'ultra'])\n",
    "plt.xlabel('количество израсходованных минут')\n",
    "plt.ylabel('количество абонентов')\n",
    "plt.title;('Гистограмма звонков  таблице users')"
   ]
  },
  {
   "cell_type": "markdown",
   "metadata": {},
   "source": [
    "<div class=\"alert alert-success\">\n",
    "<font size=\"5\"><b>✔️ Комментарий ревьюера V3</b></font>\n",
    "    <br /> \n",
    "    <font size=\"4\", color = \"black\">\n",
    "<br />\n",
    "    У нас есть клиенты, которые в отдельные месяцы разговаривают более 1500 мин., сравни с предыдущей гистограммой\n",
    "    <br />\n",
    "    </font>\n",
    "\n",
    "</div>"
   ]
  },
  {
   "cell_type": "code",
   "execution_count": 31,
   "metadata": {
    "scrolled": false
   },
   "outputs": [
    {
     "data": {
      "text/plain": [
       "'Гистограмма интернет траффика'"
      ]
     },
     "execution_count": 31,
     "metadata": {},
     "output_type": "execute_result"
    },
    {
     "data": {
      "image/png": "[encoded data removed]",
      "text/plain": [
       "<Figure size 720x432 with 1 Axes>"
      ]
     },
     "metadata": {
      "needs_background": "light"
     },
     "output_type": "display_data"
    }
   ],
   "source": [
    "plt.figure(figsize=(10, 6))\n",
    "sns.distplot(tariff_smart['Gb'], kde=False)\n",
    "sns.distplot(tariff_ultra['Gb'], kde=False)\n",
    "plt.legend(['smart', 'ultra'])\n",
    "plt.xlabel('количество израсходованных гигабайт')\n",
    "plt.ylabel('количество абонентов')\n",
    "plt.title;('Гистограмма интернет траффика')\n"
   ]
  },
  {
   "cell_type": "markdown",
   "metadata": {},
   "source": [
    "Гистограмма по таблице users"
   ]
  },
  {
   "cell_type": "code",
   "execution_count": 32,
   "metadata": {},
   "outputs": [
    {
     "data": {
      "text/plain": [
       "'Гистограмма интернет траффика  таблице users'"
      ]
     },
     "execution_count": 32,
     "metadata": {},
     "output_type": "execute_result"
    },
    {
     "data": {
      "image/png": "[encoded data removed]",
      "text/plain": [
       "<Figure size 720x432 with 1 Axes>"
      ]
     },
     "metadata": {
      "needs_background": "light"
     },
     "output_type": "display_data"
    }
   ],
   "source": [
    "plt.figure(figsize=(10, 6))\n",
    "sns.distplot(_tariff_smart['Gb'], kde=False)\n",
    "sns.distplot(_tariff_ultra['Gb'], kde=False)\n",
    "plt.legend(['smart', 'ultra'])\n",
    "plt.xlabel('количество израсходованных гигабайт')\n",
    "plt.ylabel('количество абонентов')\n",
    "plt.title;('Гистограмма интернет траффика  таблице users')"
   ]
  },
  {
   "cell_type": "code",
   "execution_count": 33,
   "metadata": {},
   "outputs": [
    {
     "data": {
      "text/plain": [
       "'Гистограмма смс сообщений'"
      ]
     },
     "execution_count": 33,
     "metadata": {},
     "output_type": "execute_result"
    },
    {
     "data": {
      "image/png": "[encoded data removed]",
      "text/plain": [
       "<Figure size 720x432 with 1 Axes>"
      ]
     },
     "metadata": {
      "needs_background": "light"
     },
     "output_type": "display_data"
    }
   ],
   "source": [
    "plt.figure(figsize=(10, 6))\n",
    "sns.distplot(tariff_smart['num_messages'], kde=False)\n",
    "sns.distplot(tariff_ultra['num_messages'], kde=False)\n",
    "plt.legend(['smart', 'ultra'])\n",
    "plt.xlabel('количество израсходованных смс')\n",
    "plt.ylabel('количество абонентов')\n",
    "plt.title;('Гистограмма смс сообщений')"
   ]
  },
  {
   "cell_type": "markdown",
   "metadata": {},
   "source": [
    "Гистограмма  таблице users"
   ]
  },
  {
   "cell_type": "code",
   "execution_count": 34,
   "metadata": {},
   "outputs": [
    {
     "data": {
      "text/plain": [
       "'Гистограмма смс сообщений таблице users'"
      ]
     },
     "execution_count": 34,
     "metadata": {},
     "output_type": "execute_result"
    },
    {
     "data": {
      "image/png": "[encoded data removed]",
      "text/plain": [
       "<Figure size 720x432 with 1 Axes>"
      ]
     },
     "metadata": {
      "needs_background": "light"
     },
     "output_type": "display_data"
    }
   ],
   "source": [
    "plt.figure(figsize=(10, 6))\n",
    "sns.distplot(_tariff_smart['num_messages'], kde=False)\n",
    "sns.distplot(_tariff_ultra['num_messages'], kde=False)\n",
    "plt.legend(['smart', 'ultra'])\n",
    "plt.xlabel('количество израсходованных смс')\n",
    "plt.ylabel('количество абонентов')\n",
    "plt.title;('Гистограмма смс сообщений таблице users')"
   ]
  },
  {
   "cell_type": "markdown",
   "metadata": {},
   "source": [
    "<div class=\"alert alert-info\">\n",
    "<h1> Комментарий студента 2 </h1>\n",
    "\n",
    "После перестройки, в целом форма гистограм не изменилась, сделать другие не получиться. Но информативность явно увеличилась.\n",
    "И наверное по осу Y теперь наверное не кол-во абонентов, а кол-во сесий.\n",
    "\n",
    "</div>"
   ]
  },
  {
   "cell_type": "markdown",
   "metadata": {},
   "source": [
    "<div class=\"alert alert-success\">\n",
    "<font size=\"5\"><b>✔️ Комментарий ревьюера V3</b></font>\n",
    "    <br /> \n",
    "    <font size=\"4\", color = \"black\">\n",
    "<br />\n",
    "Молодец, основные изменения - разброс значений стал больше, и это кол-во событий (мес.) в год с одинаковыми показателями (мин., Гб, кол-во сообщений), мы пытаемся понять разнообразие потребления услуг, есть ли какие-то тренды 💭\n",
    "        \n",
    "Насколько часто клиенты выходят за пределы своих лимитов ...\n",
    "        \n",
    "Расчет ниже — сколько раз (месяцев) в году Клиенты отправляли меньше 7 сообщений, и всего кол-во таких уник. клиентов, т.е. из 350 клиентов компании на тарифе ультра 132 клиента (на самом деле 351 на 133 кл.) хотя бы раз в год отправили меньше 7 сообщений...\n",
    "        \n",
    "\n",
    "\n",
    "</div>"
   ]
  },
  {
   "cell_type": "code",
   "execution_count": 35,
   "metadata": {},
   "outputs": [
    {
     "data": {
      "text/plain": [
       "(463, 132)"
      ]
     },
     "execution_count": 35,
     "metadata": {},
     "output_type": "execute_result"
    }
   ],
   "source": [
    "# ✔️ Комментарий ревьюера V3\n",
    "# ответ на твой вопрос\n",
    "\n",
    "# сколько раз (месяцев) в году Клиенты отправляли меньше 7 сообщений,  кол-во клиентов уник.\n",
    "\n",
    "(_tariff_smart[_tariff_smart['num_messages'] < 7]['user_id'].count(),\n",
    "len (_tariff_smart[_tariff_smart['num_messages'] < 7]['user_id'].unique()))"
   ]
  },
  {
   "cell_type": "markdown",
   "metadata": {},
   "source": [
    "<div class=\"alert alert-success\">\n",
    "<font size=\"4\"><b>✔️ Комментарий ревьюера</b></font>\n",
    "    <br /> \n",
    "    <font size=\"3\", color = \"black\">\n",
    "<br />\n",
    "    \n",
    "За гистограммы +, \n",
    "        \n",
    "+ увеличить размер вывода можно командой plt.figure(figsize=(10, 6)) - прописывать в начале блока, чем боьше визуализация, тем больше нюансов можно заметить,\n",
    "+ Out [22]: Text(0.5, 1.0, 'Гистограмма смс сообщений') — чтобы его скрыть — после plt.title('Гистограмма смс сообщений') поставить точку с запятой - <b>;</b>\n",
    "        \n",
    "Вопрос: «Можно ли сказать, что кол-во клиентов не использующих смс в два раза больше на тарифе smart, чем на тарифе ultra?\n",
    "        \n",
    "</div>"
   ]
  },
  {
   "cell_type": "markdown",
   "metadata": {},
   "source": [
    "<div class=\"alert alert-info\">\n",
    "<h1> Комментарий студента</h1>\n",
    "\n",
    "Гистораммы подкорректировал. Благодарю за наводку.\n",
    "Из графика видно, что на тарифе смарт 75 абонентов не использую смс, а на тарифе ультра 45.Получается почти 2 раза.\n",
    "\n",
    "</div>"
   ]
  },
  {
   "cell_type": "markdown",
   "metadata": {},
   "source": [
    "<div class=\"alert alert-success\">\n",
    "<font size=\"5\"><b>✔️ Комментарий ревьюера V2</b></font>\n",
    "    <br /> \n",
    "    <font size=\"3\", color = \"black\">\n",
    "<br />\n",
    "75 и 45 -- > 48 и 24\n",
    "        \n",
    "48 и 24, т.к. когда мы строим гистограмму в корзину рядом с нулем попадают и другие значения, по оси х от 0 до 25 попадают записи и тяжело сказать какое кол-во с нулем, а какое с 1-2-мя смсками — из графика мы делаем вывод, что нулевые значения есть или\n",
    "        \n",
    "(масштаб надо увеличить, например так sns.distplot(tariff_smart['num_messages'], kde=False, bins = 400)), но мелковато становится :)\n",
    "        \n",
    "или старым добрым способом, фильтруем по количеству смс < 0.1\n",
    "        \n",
    "и можно дополнить, что NaN появляются из-за того, что клиенты не используют какой-либо вид связи, твое предположение доказано, +\n",
    "\n",
    "</div>"
   ]
  },
  {
   "cell_type": "markdown",
   "metadata": {},
   "source": [
    "Из графиков видно, что дисперсия тарифа ультра больше."
   ]
  },
  {
   "cell_type": "code",
   "execution_count": 36,
   "metadata": {},
   "outputs": [
    {
     "name": "stdout",
     "output_type": "stream",
     "text": [
      "Тариф СМАРТ, в среднем за месяц:\n",
      "Стандартное отклонение минут разговора: 191\n",
      "Стандартное отклонение сообщений: 29\n",
      "Стандартное отклонение гигабайт интернета: 6\n",
      "\n",
      "Дисперсия минут разговора: 36220\n",
      "Дисперсия сообщений: 797\n",
      "Дисперсия гигабайт интернета: 34\n",
      "\n",
      "\n",
      "Тариф УЛЬТРА, в среднем за месяц:\n",
      "Стандартное отклонение минут разговора: 318\n",
      "Стандартное отклонение сообщений: 48\n",
      "Стандартное отклонение гигабайт интернета: 10\n",
      "\n",
      "Дисперсия минут разговора: 100874\n",
      "Дисперсия сообщений: 2286\n",
      "Дисперсия гигабайт интернета: 98\n"
     ]
    }
   ],
   "source": [
    "# Проверка выводов\n",
    "smart = users[users['tariff'] == 'smart']#было по average_demand\n",
    "ultra = users[users['tariff'] == 'ultra']#было по average_demand\n",
    "\n",
    "print('Тариф СМАРТ, в среднем за месяц:')\n",
    "print('Стандартное отклонение минут разговора:', np.ceil(smart['duration'].describe()['std']).astype(int))\n",
    "print('Стандартное отклонение сообщений:', np.ceil(smart['num_messages'].describe()['std']).astype(int))\n",
    "print('Стандартное отклонение гигабайт интернета:', np.ceil(smart['Gb'].describe()['std']).astype(int))\n",
    "print('')\n",
    "print('Дисперсия минут разговора:', np.ceil(smart['duration'].describe()['std'] ** 2).astype(int))\n",
    "print('Дисперсия сообщений:', np.ceil(smart['num_messages'].describe()['std'] ** 2).astype(int))\n",
    "print('Дисперсия гигабайт интернета:', np.ceil(smart['Gb'].describe()['std'] ** 2).astype(int))\n",
    "print('')\n",
    "print('')\n",
    "print('Тариф УЛЬТРА, в среднем за месяц:')\n",
    "print('Стандартное отклонение минут разговора:', np.ceil(ultra['duration'].describe()['std']).astype(int))\n",
    "print('Стандартное отклонение сообщений:', np.ceil(ultra['num_messages'].describe()['std']).astype(int))\n",
    "print('Стандартное отклонение гигабайт интернета:', np.ceil(ultra['Gb'].describe()['std']).astype(int))\n",
    "print('')\n",
    "print('Дисперсия минут разговора:', np.ceil(ultra['duration'].describe()['std'] ** 2).astype(int))\n",
    "print('Дисперсия сообщений:', np.ceil(ultra['num_messages'].describe()['std'] ** 2).astype(int))\n",
    "print('Дисперсия гигабайт интернета:', np.ceil(ultra['Gb'].describe()['std'] ** 2).astype(int))"
   ]
  },
  {
   "cell_type": "markdown",
   "metadata": {},
   "source": [
    "<div class=\"alert alert-success\">\n",
    "<font size=\"5\"><b>✔️ Комментарий ревьюера V3</b></font>\n",
    "    <br /> \n",
    "    <font size=\"4\", color = \"black\">\n",
    "<br />\n",
    "   💎\n",
    "    <br />\n",
    "    </font>\n",
    "\n",
    "</div>"
   ]
  },
  {
   "cell_type": "markdown",
   "metadata": {},
   "source": [
    "<div class=\"alert alert\">\n",
    "<font size=\"5\"><b>❌ Комментарий ревьюера V2</b></font>\n",
    "    <br /> \n",
    "        <font size=\"4\", color = \"black\">\n",
    "            <br />\n",
    "Мы с тобой используем для расчетов две основные отредактированные таблицы: \n",
    "            \n",
    "            users и average_demand  (tariff_smart/ultra). \n",
    "            \n",
    "Для выполнения шага №4 и 5 мы должны использовать несгруппированные данные, т.е. таблицу users \n",
    "            \n",
    "<i>подсказка - на шаге 5.1 ты используешь правильные выборки _tariff_smart /ultra</i>\n",
    "            \n",
    "Поэтому три гистограммы и расчет стандартного отклонения и дисперсии стоит переделать\n",
    "\n",
    "</div>"
   ]
  },
  {
   "cell_type": "markdown",
   "metadata": {},
   "source": [
    "<div class=\"alert alert-info\">\n",
    "<h1> Комментарий студента 2 </h1>\n",
    "\n",
    "Принял,Понял, осознал и переделал) Старые графики решил оставить, что бы можно было сравнить\n",
    "\n",
    "</div>"
   ]
  },
  {
   "cell_type": "markdown",
   "metadata": {},
   "source": [
    "<div class=\"alert alert-success\">\n",
    "<font size=\"4\"><b>✔️ Комментарий ревьюера</b></font>\n",
    "    <br /> \n",
    "    <font size=\"3\", color = \"black\">\n",
    "<br />\n",
    "    \n",
    "Браво за вывод подробной информации, числа изменятся после корректировки average_demand, \n",
    "        \n",
    ".describe() удобный метод, тебе +\n",
    "        \n",
    "с числами можно поработать — 160.26662199875918 \n",
    "        \n",
    "x = np.ceil(160.26662199875918) # или другой вид округления\n",
    "<br /> x \n",
    "<br /> Out [1] : 161.0\n",
    "        \n",
    "        \n",
    "</div>"
   ]
  },
  {
   "cell_type": "markdown",
   "metadata": {},
   "source": [
    "<div class=\"alert alert-info\">\n",
    "<h1> Комментарий студента</h1>\n",
    "\n",
    "Почему-то np.ceil не стал применяться( \n",
    "\n",
    "</div>"
   ]
  },
  {
   "cell_type": "markdown",
   "metadata": {},
   "source": [
    "<div class=\"alert alert-info\">\n",
    "<font size=\"5\"><b>🍕 Комментарий ревьюера V2</b></font>\n",
    "    <br /> \n",
    "    <font size=\"3\", color = \"black\">\n",
    "<br />\n",
    "Скобку подправить\n",
    "        \n",
    "np.ceil (smart['duration']<b> )</b>.describe()['std'])\n",
    "        \n",
    "-->        \n",
    "        \n",
    "np.ceil(smart['duration'].describe()['std'])<b> )</b>        \n",
    "\n",
    "</div>"
   ]
  },
  {
   "cell_type": "markdown",
   "metadata": {},
   "source": [
    "<div class=\"alert alert-info\">\n",
    "<font size=\"4\"><b>🍕 Комментарий ревьюера</b></font>\n",
    "    <br /> \n",
    "        <font size=\"3\", color = \"black\">\n",
    "<br />\n",
    "            Удобно пользоваться математическими функциями библиотеки Numpy, примеры <a href=\"https://pyprog.pro/mathematical_functions/mathematical_functions.html#mathematical_functions_ch3\">Математические функции Numpy\n",
    "    <br />\n",
    "    </font>\n",
    "\n",
    "</div>"
   ]
  },
  {
   "cell_type": "markdown",
   "metadata": {},
   "source": [
    "<div class=\"alert alert-success\">\n",
    "<font size=\"4\"><b>✔️ Комментарий ревьюера</b></font>\n",
    "    <br /> \n",
    "    <font size=\"3\", color = \"black\">\n",
    "<br />\n",
    "    \n",
    "Основной этап анализа пройден, целесообразно зафиксировать свои наблюдения\n",
    "        \n",
    "</div>"
   ]
  },
  {
   "cell_type": "markdown",
   "metadata": {},
   "source": [
    "## Проверка гипотез"
   ]
  },
  {
   "cell_type": "markdown",
   "metadata": {},
   "source": [
    "Средняя выручка пользователей тарифов «Ультра» и «Смарт» различается;\n",
    "Средняя выручка пользователей из Москвы отличается от выручки пользователей из других регионов;"
   ]
  },
  {
   "cell_type": "markdown",
   "metadata": {},
   "source": [
    "средняя выручка пользователей тарифов «Ультра» и «Смарт» различаются;\n",
    "средняя выручка пользователей из Москвы отличается от выручки пользователей из других регионов.\n",
    "Пороговое значение alpha задайте самостоятельно.\n",
    "Поясните:\n",
    "как вы формулировали нулевую и альтернативную гипотезы;\n",
    "какой критерий использовали для проверки гипотез и почему"
   ]
  },
  {
   "cell_type": "markdown",
   "metadata": {},
   "source": [
    "### Проверка гипотезы. Средняя выручка пользователей тарифов «Ультра» и «Смарт» различается."
   ]
  },
  {
   "cell_type": "markdown",
   "metadata": {},
   "source": [
    "\n",
    "H0 — Средняя выручка пользователей тарифов \"Ультра\" и \"Смарт\" равна\n",
    "\n",
    "H1 — Средняя выручка пользователей тарифов \"Ультра\" и \"Смарт\" различается\n",
    "\n",
    "Критический уровень статистической значимости 5%, чтобы вероятность правильности вывода была 95% и больше.."
   ]
  },
  {
   "cell_type": "code",
   "execution_count": 37,
   "metadata": {},
   "outputs": [
    {
     "name": "stdout",
     "output_type": "stream",
     "text": [
      "p-value: 2.983728825353049e-40\n",
      "Отвергаем нулевую гипотезу\n"
     ]
    }
   ],
   "source": [
    "alpha = 0.05 \n",
    "results = st.ttest_ind(\n",
    "    tariff_smart['revenue'], \n",
    "    tariff_ultra['revenue'])\n",
    "\n",
    "print('p-value:', results.pvalue)\n",
    "\n",
    "if (results.pvalue < alpha):\n",
    "    print(\"Отвергаем нулевую гипотезу\")\n",
    "else:\n",
    "    print(\"Не получилось отвергнуть нулевую гипотезу\")"
   ]
  },
  {
   "cell_type": "markdown",
   "metadata": {},
   "source": [
    "<div class=\"alert alert\">\n",
    "<font size=\"4\"><b>❌ Комментарий ревьюера</b></font>\n",
    "    <br /> \n",
    "    <font size=\"3\", color = \"black\">\n",
    "<br />\n",
    "    Подготовка 2-х выборок для проверки гипотез нуждается в корректировке (даже если результат не поменяется), тебя не должна вводить в заблуждение фраза «Средняя выручка пользователей тарифов...», стоит вспомнить учебные материалы и примеры из тренажера\n",
    "    <br />\n",
    "    </font>\n",
    "\n",
    "Красный цвет ❌ снят, т.к. перефразировал свой вопрос    \n",
    "</div>"
   ]
  },
  {
   "cell_type": "markdown",
   "metadata": {},
   "source": [
    "Вероятность очень близкая к нулю говорит нам что H0 гипотеза не подтвердилась, средняя выручка пользователей тарифов «Ультра» и «Смарт» различаются. "
   ]
  },
  {
   "cell_type": "code",
   "execution_count": 38,
   "metadata": {},
   "outputs": [
    {
     "name": "stdout",
     "output_type": "stream",
     "text": [
      "p-value: 1.4229814360764067e-160\n",
      "Отвергаем нулевую гипотезу\n"
     ]
    }
   ],
   "source": [
    "#users['revenue']\n",
    "_tariff_smart = users.query(\"tariff == 'smart'\")\n",
    "_tariff_ultra = users.query(\"tariff == 'ultra'\")\n",
    "#users.info()\n",
    "#_tariff_ultra\n",
    "alpha = 0.05 \n",
    "results = st.ttest_ind(\n",
    "    _tariff_smart['revenue'], \n",
    "    _tariff_ultra['revenue'])\n",
    "\n",
    "print('p-value:', results.pvalue)\n",
    "\n",
    "if (results.pvalue < alpha):\n",
    "    print(\"Отвергаем нулевую гипотезу\")\n",
    "else:\n",
    "    print(\"Не получилось отвергнуть нулевую гипотезу\")"
   ]
  },
  {
   "cell_type": "markdown",
   "metadata": {},
   "source": [
    "<div class=\"alert alert-info\">\n",
    "<h1> Комментарий студента</h1>\n",
    "\n",
    "Может быть так правильнее будет.\n",
    "\n",
    "</div>"
   ]
  },
  {
   "cell_type": "markdown",
   "metadata": {},
   "source": [
    "<div class=\"alert alert-success\">\n",
    "<font size=\"5\"><b>✔️  Комментарий ревьюера V2</b></font>\n",
    "    <br /> \n",
    "    <font size=\"3\", color = \"black\">\n",
    "<br />\n",
    "Принимается, +\n",
    "        \n",
    "Методы, которые мы применяем для подтверждения или отвержения гипотез, самостоятельно производят массу рассчетов с данными (в т.ч. находят и средние значения), поэтому мы не сокращаем выборку перед проведением теста, а <b>делим</b> ее согласно условиям задачи\n",
    "        \n",
    "    _tariff_smart = users.query(\"tariff == 'smart'\")\n",
    "    _tariff_ultra = users.query(\"tariff == 'ultra'\")\n",
    "\n",
    "</div>"
   ]
  },
  {
   "cell_type": "markdown",
   "metadata": {},
   "source": [
    "<div class=\"alert alert-success\">\n",
    "<font size=\"5\"><b>✔️  Комментарий ревьюера V2</b></font>\n",
    "    <br /> \n",
    "    <font size=\"3\", color = \"black\">\n",
    "<br />\n",
    "Подобная проверка гипотез называется по другому: проведение A/B теста.\n",
    "        \n",
    "И таких тестов компании, занимающиеся особенно e-commerse, проводят все больше и больше :)\n",
    "</div>"
   ]
  },
  {
   "cell_type": "markdown",
   "metadata": {},
   "source": [
    "### Проверка гипотезы.Средняя выручка пользователей из Москвы отличается от выручки пользователей из других регионов"
   ]
  },
  {
   "cell_type": "markdown",
   "metadata": {},
   "source": [
    "H0 — средняя выручка пользователей из Москвы равна средней выручке пользователей из других регионов.\n",
    "\n",
    "H1 — средняя выручка пользователей из Москвы отличается от средней выручке пользователей из других регионов."
   ]
  },
  {
   "cell_type": "code",
   "execution_count": 39,
   "metadata": {},
   "outputs": [
    {
     "name": "stdout",
     "output_type": "stream",
     "text": [
      "p-value: 0.36094633224451433\n",
      "Не получилось отвергнуть нулевую гипотезу\n"
     ]
    }
   ],
   "source": [
    "average_demand = average_demand.merge(df_users[['user_id', 'city',]], on='user_id', how='left')\n",
    "moscow = average_demand.query('city == \"Москва\"')['revenue']\n",
    "other_regions = average_demand.query('city != \"Москва\"')['revenue']\n",
    "alpha = 0.05 \n",
    "results = st.ttest_ind(moscow, other_regions)\n",
    "\n",
    "print('p-value:', results.pvalue)\n",
    "\n",
    "if (results.pvalue < alpha):\n",
    "    print(\"Отвергаем нулевую гипотезу\")\n",
    "else:\n",
    "    print(\"Не получилось отвергнуть нулевую гипотезу\")"
   ]
  },
  {
   "cell_type": "code",
   "execution_count": 40,
   "metadata": {},
   "outputs": [
    {
     "name": "stdout",
     "output_type": "stream",
     "text": [
      "p-value: 0.5440152911670224\n",
      "Не получилось отвергнуть нулевую гипотезу\n"
     ]
    }
   ],
   "source": [
    "users = users.merge(df_users[['user_id', 'city',]], on='user_id', how='left')\n",
    "moscow = users.query('city == \"Москва\"')['revenue']\n",
    "other_regions = users.query('city != \"Москва\"')['revenue']\n",
    "alpha = 0.05 \n",
    "results = st.ttest_ind(moscow, other_regions)\n",
    "\n",
    "print('p-value:', results.pvalue)\n",
    "\n",
    "if (results.pvalue < alpha):\n",
    "    print(\"Отвергаем нулевую гипотезу\")\n",
    "else:\n",
    "    print(\"Не получилось отвергнуть нулевую гипотезу\")"
   ]
  },
  {
   "cell_type": "markdown",
   "metadata": {},
   "source": [
    "<div class=\"alert alert\">\n",
    "<font size=\"5\"><b>❌ Комментарий ревьюера V2</b></font>\n",
    "    <br /> \n",
    "        <font size=\"4\", color = \"black\">\n",
    "            <br />\n",
    "Осталось исправить второй расчет\n",
    "\n",
    "</div>"
   ]
  },
  {
   "cell_type": "markdown",
   "metadata": {},
   "source": [
    "<div class=\"alert alert-info\">\n",
    "<h1> Комментарий студента 2</h1>\n",
    "Сделал фильтр по таблице user. Может быть так правильнее будет.\n",
    "    p-value сильно изменилось, но это ни как не повлияло на проверку гипотезы, так как в обоих случаях p-value очень далеко от установленного значения.\n",
    "\n",
    "</div>"
   ]
  },
  {
   "cell_type": "markdown",
   "metadata": {},
   "source": [
    "<div class=\"alert alert-success\">\n",
    "<font size=\"4\"><b>✔️ Комментарий ревьюера</b></font>\n",
    "    <br /> \n",
    "    <font size=\"3\", color = \"black\">\n",
    "<br />    \n",
    "    Как перевести на язык статистики, полученный результат = 0.3235977865687646 (в тренажере есть информация)\n",
    "\n",
    "        \n",
    "</div>"
   ]
  },
  {
   "cell_type": "markdown",
   "metadata": {},
   "source": [
    "<div class=\"alert alert-info\">\n",
    "<h1> Комментарий студента 2</h1>\n",
    "величина этого значения говорит о том, что вероятность отвергнуть 0 гипотезу очень мала.\n",
    "\n",
    "</div>"
   ]
  },
  {
   "cell_type": "markdown",
   "metadata": {},
   "source": [
    "<div class=\"alert alert-success\">\n",
    "<font size=\"6\"><b>✔️ Комментарий ревьюера V3</b></font>\n",
    "    <br /> \n",
    "    <font size=\"5\", color = \"black\">\n",
    "<br />\n",
    "     величина этого значения говорит о том, что вероятность отвергнуть 0 гипотезу очень мала.\n",
    "        \n",
    "💎💎💎💎💎\n",
    "    <br />\n",
    "    </font>\n",
    "\n",
    "</div>"
   ]
  },
  {
   "cell_type": "code",
   "execution_count": 41,
   "metadata": {},
   "outputs": [
    {
     "data": {
      "text/plain": [
       "2.36"
      ]
     },
     "execution_count": 41,
     "metadata": {},
     "output_type": "execute_result"
    }
   ],
   "source": [
    "round(df_users['tariff'].value_counts()[0]/ df_users['tariff'].value_counts()[1], 2)\n"
   ]
  },
  {
   "cell_type": "markdown",
   "metadata": {},
   "source": [
    "<div class=\"alert alert-info\">\n",
    "<font size=\"5\"><b>🍕 Комментарий ревьюера V2</b></font>\n",
    "    <br /> \n",
    "    <font size=\"3\", color = \"black\">\n",
    "<br />\n",
    "Для справки\n",
    "        \n",
    "        df_users['tariff'].value_counts()[0] / df_users['tariff'].value_counts()[1]\n",
    "\n",
    "</div>"
   ]
  },
  {
   "cell_type": "code",
   "execution_count": 42,
   "metadata": {},
   "outputs": [
    {
     "data": {
      "text/plain": [
       "2.3557046979865772"
      ]
     },
     "execution_count": 42,
     "metadata": {},
     "output_type": "execute_result"
    }
   ],
   "source": [
    "x = 351/149\n",
    "x"
   ]
  },
  {
   "cell_type": "markdown",
   "metadata": {},
   "source": [
    "<div class=\"alert alert-warning\">\n",
    "    <font size=\"4\"><b>⚠️  Комментарий ревьюера</b></font>\n",
    "    <br /> \n",
    "    <font size=\"3\", color = \"black\">\n",
    "<br />\n",
    "        \n",
    "оптимально переменные получать из кода проекта -- > df_users['tariff'].value_counts()[0]\n",
    "        \n",
    "результат можно округлить\n",
    "        \n",
    "</font>\n",
    "</div>"
   ]
  },
  {
   "cell_type": "markdown",
   "metadata": {},
   "source": [
    "## Общий вывод"
   ]
  },
  {
   "cell_type": "markdown",
   "metadata": {},
   "source": [
    "1. В результате произведенных расчетов видно, что средние доходы от тарифа «Ультра»(2062р.) больше, чем от тарифа «Смарт»(1329р.)\n",
    "    \n",
    "2. Исходя из расчетов и построенных гистограмм можно сделать вывод, что не все абоненты тарифа «Ультра» выробатывают весь доступный ресурс. В то время как абоненты тарифа смарт расходуют ресурс практически полностью.\n",
    "    \n",
    "3. Колличество абонентов таррифа «Смарт» больше на 235%, что  объясняется более выгодными условиями не смотря на необходимость докупать доп. ресурсы.\n",
    "    \n",
    "4. Абоненты тарифа «Ультра» практически не докупают доп ресурс, абоненты тарифа «Смарт» часто прибегают к практике покупки доп трафика.\n",
    "    \n",
    "5. Средние доходы от пользователей в Москве не отличаются от доходов в других региионах.\n"
   ]
  },
  {
   "cell_type": "markdown",
   "metadata": {},
   "source": [
    "<div class=\"alert alert-info\">\n",
    "<font size=\"4\"><b>🍕 Комментарий ревьюера</b></font>\n",
    "    <br /> \n",
    "        <font size=\"3\", color = \"black\">\n",
    "<br />\n",
    "Общие рекомендации для формирования целей бизнес-исследований и выводов, для бизнеса м.б. полезна подобная информация:\n",
    "\n",
    "+ Расчет ср. длительности пользования тарифом, ultra vs smart по различным когортам\n",
    "\n",
    "+ Скорость присоединения новых пользователей (кл. в мес.) по разным тарифам, а отток пользователей связан с тарифом\n",
    "\n",
    "+ Скорость подключения клиентов по городам (кл. в мес./ в нед.)\n",
    "\n",
    "+ Кто чем больше пользуется — распределение по возрастным группам (молодежь интернетом, более старшее поколение - звонками)\n",
    "\n",
    "И это не весь перечень возможных бизнес задач. В середине второго модуля нас ждет 📖 курс «Анализ бизнес-показателей», на котором мы научимся решать подобные и чуть более сложные, но интересные задачи. Умение и навыки решения которых востребованы на рынке труда 💰\n",
    "    <br />\n",
    "    </font>\n",
    "\n",
    "</div>"
   ]
  },
  {
   "cell_type": "markdown",
   "metadata": {},
   "source": [
    "<div class=\"alert alert-info\">\n",
    "<font size=\"4\"><b>🍕 Комментарий ревьюера</b></font>\n",
    "    <br /> \n",
    "        <font size=\"3\", color = \"black\">\n",
    "<br />\n",
    "Интересные методы группировки и расчета суммы, средних и т.д.\n",
    "        \n",
    "[Подробное руководство по группировке и агрегированию с помощью pandas](https://dfedorov.spb.ru/pandas/%D0%9F%D0%BE%D0%B4%D1%80%D0%BE%D0%B1%D0%BD%D0%BE%D0%B5%20%D1%80%D1%83%D0%BA%D0%BE%D0%B2%D0%BE%D0%B4%D1%81%D1%82%D0%B2%D0%BE%20%D0%BF%D0%BE%20%D0%B3%D1%80%D1%83%D0%BF%D0%BF%D0%B8%D1%80%D0%BE%D0%B2%D0%BA%D0%B5%20%D0%B8%20%D0%B0%D0%B3%D1%80%D0%B5%D0%B3%D0%B8%D1%80%D0%BE%D0%B2%D0%B0%D0%BD%D0%B8%D1%8E%20%D1%81%20%D0%BF%D0%BE%D0%BC%D0%BE%D1%89%D1%8C%D1%8E%20pandas.html)\n",
    "    <br />\n",
    "    </font>\n",
    "\n",
    "</div>"
   ]
  },
  {
   "cell_type": "markdown",
   "metadata": {},
   "source": [
    "<div class=\"alert alert-success\">\n",
    "<font size=\"4\"><b>✔️ Комментарий ревьюера</b></font>\n",
    "    <br /> \n",
    "    <font size=\"3\", color = \"black\">\n",
    "<br />    \n",
    "Ты выполнил практически все пункты работы, молодец! В первом модуле Я.П. тобою были изучены очень важные темы, и ты показал, что успешно можешь: как проводить предварительный анализ данных, так и объединение данных и их агрегацию разными способами, строить визуализации и находить показатели описательной статистики, создавать функции\n",
    "\n",
    "Критических ❌ комментариев немного. С ними важно поработать и их исправить\n",
    "\n",
    "Еще есть ⚠️ желтые комментарии, которые стоит поправить\n",
    "        \n",
    "Светло-синие комментарии 🍕 - ссылки, размышления и советы\n",
    "\n",
    "Если будут вопросы про мои комментарии - задавай, если какой-то формат взаимодействия не устраивает или есть какие-то другие пожелания - пиши :)\n",
    "\n",
    "<div class=\"alert alert-success\">\n",
    "    <font size=\"3\"><b>Жду твой проект и твои комментарии 🤝</b></font><br />"
   ]
  },
  {
   "cell_type": "markdown",
   "metadata": {},
   "source": [
    "<div class=\"alert alert\">\n",
    "<font size=\"4\"><b>⚠️ Комментарий ревьюера V2</b></font>\n",
    "    <br /> \n",
    "    <font size=\"3\", color = \"black\">\n",
    "<br />\n",
    "Спасибо за оставленные комментарии по исправлениям \n",
    "        \n",
    "Осталось подправить\n",
    "        \n",
    "+ поиск аномалий в трафике на шаге 3.3\n",
    "+ расчет количества минут разговора, сообщений и объема интернет трафика которые требуется каждому абоненту тарифа в месяц на шаге 4.1\n",
    "+ три гистограммы и расчет стандартного отклонения и дисперсии на шаге 4.3        \n",
    "+ подготовка выборки для проверки второй гипотезы на шаге 5.2\n",
    "                \n",
    "<b>Жду твой проект и твои комментарии 🤝</b>\n",
    "</div>"
   ]
  },
  {
   "cell_type": "markdown",
   "metadata": {},
   "source": [
    "<div class=\"alert alert-success\">\n",
    "<font size=\"6\"><b>✔️ Комментарий ревьюера V3</b></font>\n",
    "    <br /> \n",
    "    <font size=\"4\", color = \"black\">\n",
    "<br />    \n",
    "Ты выполнил проект по стат. анализу данных\n",
    "        \n",
    "решил вопросы:\n",
    "\n",
    "* как размер выборки влияет на оценку и выводы\n",
    "* как агрегация данных может помочь, а может привести к неожиданным результатам, 😉\n",
    "* что значит p-value при проверке результатов гипотез, это очень важный навык, т.к. большая часть работы e-commerse связана с проведением таких экпериментов и проверкой нулевой и альтернативной гипотезы, \n",
    "* надеюсь, узнал новые методы и способы анализа данных\n",
    "\n",
    "Молодец, спасибо за вопросы, постарался на них ответить 😀\n",
    "\n",
    "<div class=\"alert alert-success\">\n",
    "    <font size=\"6\"><b>Успехов  🤝</b></font><br />"
   ]
  },
  {
   "cell_type": "code",
   "execution_count": null,
   "metadata": {},
   "outputs": [],
   "source": []
  },
  {
   "cell_type": "markdown",
   "metadata": {},
   "source": [
    "# ответ на твой вопрос: 2 способа"
   ]
  },
  {
   "cell_type": "code",
   "execution_count": 43,
   "metadata": {},
   "outputs": [
    {
     "data": {
      "image/png": "[encoded data removed]",
      "text/plain": [
       "<Figure size 864x432 with 1 Axes>"
      ]
     },
     "metadata": {},
     "output_type": "display_data"
    }
   ],
   "source": [
    "# наши выборки\n",
    "\n",
    "# задавая значения х мы смещаем по горизонтали наши выборки\n",
    "x1 = np.arange(1, 8) - 0.2\n",
    "x2 = np.arange(1, 8) + 0.2\n",
    "\n",
    "\n",
    "y1 = np.random.randint(1, 5, size = 7)\n",
    "y2 = np.random.randint(1, 30, size = 7)\n",
    "\n",
    "# «Раб. пространство»\n",
    "fig, ax = plt.subplots()\n",
    "\n",
    "#  Задаем смещение равное половине ширины прямоугольника:\n",
    "ax.bar(x1, y1, width = 0.4)\n",
    "ax.bar(x2, y2, width = 0.4)\n",
    "\n",
    "# посмотри на изменение этого параметра — width = 0.4\n",
    "\n",
    "ax.set_facecolor('seashell')\n",
    "fig.set_figwidth(12)    #  ширина Figure\n",
    "fig.set_figheight(6)    #  высота Figure\n",
    "fig.set_facecolor('floralwhite')\n",
    "\n",
    "plt.show()"
   ]
  },
  {
   "cell_type": "code",
   "execution_count": 44,
   "metadata": {},
   "outputs": [
    {
     "data": {
      "text/plain": [
       "array([0.8, 1.8, 2.8, 3.8, 4.8, 5.8, 6.8])"
      ]
     },
     "execution_count": 44,
     "metadata": {},
     "output_type": "execute_result"
    }
   ],
   "source": [
    "x1"
   ]
  },
  {
   "cell_type": "markdown",
   "metadata": {},
   "source": [
    "# II способ"
   ]
  },
  {
   "cell_type": "code",
   "execution_count": 45,
   "metadata": {},
   "outputs": [
    {
     "data": {
      "text/html": [
       "<div>\n",
       "<style scoped>\n",
       "    .dataframe tbody tr th:only-of-type {\n",
       "        vertical-align: middle;\n",
       "    }\n",
       "\n",
       "    .dataframe tbody tr th {\n",
       "        vertical-align: top;\n",
       "    }\n",
       "\n",
       "    .dataframe thead th {\n",
       "        text-align: right;\n",
       "    }\n",
       "</style>\n",
       "<table border=\"1\" class=\"dataframe\">\n",
       "  <thead>\n",
       "    <tr style=\"text-align: right;\">\n",
       "      <th></th>\n",
       "      <th>user_id</th>\n",
       "      <th>month</th>\n",
       "      <th>calls</th>\n",
       "      <th>duration</th>\n",
       "      <th>num_messages</th>\n",
       "      <th>Gb</th>\n",
       "      <th>tariff</th>\n",
       "      <th>revenue</th>\n",
       "      <th>city</th>\n",
       "    </tr>\n",
       "  </thead>\n",
       "  <tbody>\n",
       "    <tr>\n",
       "      <td>1</td>\n",
       "      <td>1000</td>\n",
       "      <td>6</td>\n",
       "      <td>43.0</td>\n",
       "      <td>172.0</td>\n",
       "      <td>60.0</td>\n",
       "      <td>23.0</td>\n",
       "      <td>ultra</td>\n",
       "      <td>1950.0</td>\n",
       "      <td>Краснодар</td>\n",
       "    </tr>\n",
       "    <tr>\n",
       "      <td>4</td>\n",
       "      <td>1000</td>\n",
       "      <td>9</td>\n",
       "      <td>58.0</td>\n",
       "      <td>466.0</td>\n",
       "      <td>57.0</td>\n",
       "      <td>15.0</td>\n",
       "      <td>ultra</td>\n",
       "      <td>1950.0</td>\n",
       "      <td>Краснодар</td>\n",
       "    </tr>\n",
       "    <tr>\n",
       "      <td>5</td>\n",
       "      <td>1000</td>\n",
       "      <td>10</td>\n",
       "      <td>57.0</td>\n",
       "      <td>350.0</td>\n",
       "      <td>73.0</td>\n",
       "      <td>15.0</td>\n",
       "      <td>ultra</td>\n",
       "      <td>1950.0</td>\n",
       "      <td>Краснодар</td>\n",
       "    </tr>\n",
       "    <tr>\n",
       "      <td>6</td>\n",
       "      <td>1000</td>\n",
       "      <td>11</td>\n",
       "      <td>43.0</td>\n",
       "      <td>338.0</td>\n",
       "      <td>58.0</td>\n",
       "      <td>15.0</td>\n",
       "      <td>ultra</td>\n",
       "      <td>1950.0</td>\n",
       "      <td>Краснодар</td>\n",
       "    </tr>\n",
       "    <tr>\n",
       "      <td>19</td>\n",
       "      <td>1003</td>\n",
       "      <td>10</td>\n",
       "      <td>108.0</td>\n",
       "      <td>855.0</td>\n",
       "      <td>83.0</td>\n",
       "      <td>15.0</td>\n",
       "      <td>ultra</td>\n",
       "      <td>1950.0</td>\n",
       "      <td>Москва</td>\n",
       "    </tr>\n",
       "    <tr>\n",
       "      <td>...</td>\n",
       "      <td>...</td>\n",
       "      <td>...</td>\n",
       "      <td>...</td>\n",
       "      <td>...</td>\n",
       "      <td>...</td>\n",
       "      <td>...</td>\n",
       "      <td>...</td>\n",
       "      <td>...</td>\n",
       "      <td>...</td>\n",
       "    </tr>\n",
       "    <tr>\n",
       "      <td>3032</td>\n",
       "      <td>1476</td>\n",
       "      <td>7</td>\n",
       "      <td>65.0</td>\n",
       "      <td>492.0</td>\n",
       "      <td>3.0</td>\n",
       "      <td>16.0</td>\n",
       "      <td>ultra</td>\n",
       "      <td>1950.0</td>\n",
       "      <td>Москва</td>\n",
       "    </tr>\n",
       "    <tr>\n",
       "      <td>3033</td>\n",
       "      <td>1476</td>\n",
       "      <td>8</td>\n",
       "      <td>59.0</td>\n",
       "      <td>456.0</td>\n",
       "      <td>5.0</td>\n",
       "      <td>25.0</td>\n",
       "      <td>ultra</td>\n",
       "      <td>1950.0</td>\n",
       "      <td>Москва</td>\n",
       "    </tr>\n",
       "    <tr>\n",
       "      <td>3034</td>\n",
       "      <td>1476</td>\n",
       "      <td>9</td>\n",
       "      <td>72.0</td>\n",
       "      <td>622.0</td>\n",
       "      <td>5.0</td>\n",
       "      <td>19.0</td>\n",
       "      <td>ultra</td>\n",
       "      <td>1950.0</td>\n",
       "      <td>Москва</td>\n",
       "    </tr>\n",
       "    <tr>\n",
       "      <td>3035</td>\n",
       "      <td>1476</td>\n",
       "      <td>10</td>\n",
       "      <td>68.0</td>\n",
       "      <td>540.0</td>\n",
       "      <td>4.0</td>\n",
       "      <td>25.0</td>\n",
       "      <td>ultra</td>\n",
       "      <td>1950.0</td>\n",
       "      <td>Москва</td>\n",
       "    </tr>\n",
       "    <tr>\n",
       "      <td>3036</td>\n",
       "      <td>1476</td>\n",
       "      <td>11</td>\n",
       "      <td>71.0</td>\n",
       "      <td>556.0</td>\n",
       "      <td>6.0</td>\n",
       "      <td>15.0</td>\n",
       "      <td>ultra</td>\n",
       "      <td>1950.0</td>\n",
       "      <td>Москва</td>\n",
       "    </tr>\n",
       "  </tbody>\n",
       "</table>\n",
       "<p>223 rows × 9 columns</p>\n",
       "</div>"
      ],
      "text/plain": [
       "      user_id  month  calls  duration  num_messages    Gb tariff  revenue  \\\n",
       "1        1000      6   43.0     172.0          60.0  23.0  ultra   1950.0   \n",
       "4        1000      9   58.0     466.0          57.0  15.0  ultra   1950.0   \n",
       "5        1000     10   57.0     350.0          73.0  15.0  ultra   1950.0   \n",
       "6        1000     11   43.0     338.0          58.0  15.0  ultra   1950.0   \n",
       "19       1003     10  108.0     855.0          83.0  15.0  ultra   1950.0   \n",
       "...       ...    ...    ...       ...           ...   ...    ...      ...   \n",
       "3032     1476      7   65.0     492.0           3.0  16.0  ultra   1950.0   \n",
       "3033     1476      8   59.0     456.0           5.0  25.0  ultra   1950.0   \n",
       "3034     1476      9   72.0     622.0           5.0  19.0  ultra   1950.0   \n",
       "3035     1476     10   68.0     540.0           4.0  25.0  ultra   1950.0   \n",
       "3036     1476     11   71.0     556.0           6.0  15.0  ultra   1950.0   \n",
       "\n",
       "           city  \n",
       "1     Краснодар  \n",
       "4     Краснодар  \n",
       "5     Краснодар  \n",
       "6     Краснодар  \n",
       "19       Москва  \n",
       "...         ...  \n",
       "3032     Москва  \n",
       "3033     Москва  \n",
       "3034     Москва  \n",
       "3035     Москва  \n",
       "3036     Москва  \n",
       "\n",
       "[223 rows x 9 columns]"
      ]
     },
     "execution_count": 45,
     "metadata": {},
     "output_type": "execute_result"
    }
   ],
   "source": [
    "# сформируем нашу выборку\n",
    "\n",
    "x_ul = (users[\n",
    "    (users['tariff'] == 'ultra') \n",
    "             & (\n",
    "    (users['city'] == 'Краснодар') \n",
    "             | (users['city'] == 'Москва')\n",
    "            | (users['city'] == 'Санкт-Петербург')\n",
    "             )\n",
    "    & ( users['Gb'] >= 15.0\n",
    "    )\n",
    "            ]\n",
    "       )\n",
    "\n",
    "x_ul"
   ]
  },
  {
   "cell_type": "code",
   "execution_count": 46,
   "metadata": {},
   "outputs": [
    {
     "data": {
      "image/png": "[encoded data removed]",
      "text/plain": [
       "<Figure size 968.775x595.44 with 1 Axes>"
      ]
     },
     "metadata": {
      "needs_background": "light"
     },
     "output_type": "display_data"
    }
   ],
   "source": [
    "# сколько клиентов потребляют Гб, из жителей трех городов, на тарифе ультра при минимальном потреблении 15,0 Гб\n",
    "\n",
    "sns.catplot(x='Gb', \n",
    "            hue='city',\n",
    "            kind='count',\n",
    "            data=x_ul,\n",
    "            height=8.27, aspect=11.7/8.27 # размер графика в дюймах\n",
    "           );"
   ]
  }
 ],
 "metadata": {
  "ExecuteTimeLog": [
   {
    "duration": 922,
    "start_time": "2022-01-21T07:58:37.807Z"
   },
   {
    "duration": 194,
    "start_time": "2022-01-21T07:58:57.016Z"
   },
   {
    "duration": 458,
    "start_time": "2022-01-21T08:02:55.007Z"
   },
   {
    "duration": 444,
    "start_time": "2022-01-21T08:04:02.573Z"
   },
   {
    "duration": 12,
    "start_time": "2022-01-21T08:04:03.019Z"
   },
   {
    "duration": 8,
    "start_time": "2022-01-21T08:04:03.034Z"
   },
   {
    "duration": 12,
    "start_time": "2022-01-21T08:04:03.044Z"
   },
   {
    "duration": 14,
    "start_time": "2022-01-21T08:04:03.058Z"
   },
   {
    "duration": 16,
    "start_time": "2022-01-21T08:05:54.607Z"
   },
   {
    "duration": 11,
    "start_time": "2022-01-21T08:06:21.111Z"
   },
   {
    "duration": 11,
    "start_time": "2022-01-21T08:06:47.773Z"
   },
   {
    "duration": 475,
    "start_time": "2022-01-21T08:08:00.604Z"
   },
   {
    "duration": 466,
    "start_time": "2022-01-21T08:08:37.246Z"
   },
   {
    "duration": 487,
    "start_time": "2022-01-21T08:09:26.922Z"
   },
   {
    "duration": 467,
    "start_time": "2022-01-21T09:25:23.352Z"
   },
   {
    "duration": 516,
    "start_time": "2022-01-21T09:25:52.095Z"
   },
   {
    "duration": 915,
    "start_time": "2022-01-21T09:26:27.081Z"
   },
   {
    "duration": 970,
    "start_time": "2022-01-21T09:26:34.384Z"
   },
   {
    "duration": 516,
    "start_time": "2022-01-21T09:38:39.552Z"
   },
   {
    "duration": 493,
    "start_time": "2022-01-21T09:44:39.016Z"
   },
   {
    "duration": 461,
    "start_time": "2022-01-21T09:46:37.541Z"
   },
   {
    "duration": 1385,
    "start_time": "2022-01-21T09:47:33.331Z"
   },
   {
    "duration": 516,
    "start_time": "2022-01-21T09:47:52.833Z"
   },
   {
    "duration": 503,
    "start_time": "2022-01-21T09:48:38.890Z"
   },
   {
    "duration": 687,
    "start_time": "2022-01-21T09:49:16.430Z"
   },
   {
    "duration": 854,
    "start_time": "2022-01-21T09:54:01.852Z"
   },
   {
    "duration": 500,
    "start_time": "2022-01-21T09:54:44.090Z"
   },
   {
    "duration": 488,
    "start_time": "2022-01-21T09:55:32.097Z"
   },
   {
    "duration": 56,
    "start_time": "2022-01-21T10:04:15.692Z"
   },
   {
    "duration": 59,
    "start_time": "2022-01-21T10:04:46.625Z"
   },
   {
    "duration": 42,
    "start_time": "2022-01-21T10:27:14.357Z"
   },
   {
    "duration": 39,
    "start_time": "2022-01-21T10:34:26.164Z"
   },
   {
    "duration": 23,
    "start_time": "2022-01-21T10:48:02.958Z"
   },
   {
    "duration": 698,
    "start_time": "2022-01-21T10:48:12.789Z"
   },
   {
    "duration": 91,
    "start_time": "2022-01-21T10:48:13.489Z"
   },
   {
    "duration": 140,
    "start_time": "2022-01-21T10:48:13.583Z"
   },
   {
    "duration": 21,
    "start_time": "2022-01-21T10:48:13.727Z"
   },
   {
    "duration": 88,
    "start_time": "2022-01-21T10:48:13.751Z"
   },
   {
    "duration": 676,
    "start_time": "2022-01-21T10:49:11.619Z"
   },
   {
    "duration": 79,
    "start_time": "2022-01-21T10:49:12.298Z"
   },
   {
    "duration": 92,
    "start_time": "2022-01-21T10:49:12.382Z"
   },
   {
    "duration": 57,
    "start_time": "2022-01-21T10:49:12.477Z"
   },
   {
    "duration": 32,
    "start_time": "2022-01-21T10:49:12.537Z"
   },
   {
    "duration": 372,
    "start_time": "2022-01-21T13:01:49.739Z"
   },
   {
    "duration": 90,
    "start_time": "2022-01-21T13:02:08.482Z"
   },
   {
    "duration": 601,
    "start_time": "2022-01-21T13:02:24.144Z"
   },
   {
    "duration": 86,
    "start_time": "2022-01-21T13:02:24.747Z"
   },
   {
    "duration": 92,
    "start_time": "2022-01-21T13:02:24.836Z"
   },
   {
    "duration": 24,
    "start_time": "2022-01-21T13:02:24.931Z"
   },
   {
    "duration": 71,
    "start_time": "2022-01-21T13:02:24.958Z"
   },
   {
    "duration": 28,
    "start_time": "2022-01-21T13:10:59.242Z"
   },
   {
    "duration": 44,
    "start_time": "2022-01-21T13:11:46.010Z"
   },
   {
    "duration": 30,
    "start_time": "2022-01-21T13:12:28.011Z"
   },
   {
    "duration": 378,
    "start_time": "2022-01-21T13:19:40.100Z"
   },
   {
    "duration": 1275,
    "start_time": "2022-01-24T07:34:50.166Z"
   },
   {
    "duration": 74,
    "start_time": "2022-01-24T07:34:51.444Z"
   },
   {
    "duration": 77,
    "start_time": "2022-01-24T07:34:51.521Z"
   },
   {
    "duration": 17,
    "start_time": "2022-01-24T07:34:51.600Z"
   },
   {
    "duration": 62,
    "start_time": "2022-01-24T07:34:51.620Z"
   },
   {
    "duration": 3,
    "start_time": "2022-01-24T07:34:51.684Z"
   },
   {
    "duration": 333,
    "start_time": "2022-01-24T08:16:44.868Z"
   },
   {
    "duration": 248,
    "start_time": "2022-01-24T08:17:32.028Z"
   },
   {
    "duration": 599,
    "start_time": "2022-01-24T08:17:36.927Z"
   },
   {
    "duration": 88,
    "start_time": "2022-01-24T08:17:37.529Z"
   },
   {
    "duration": 80,
    "start_time": "2022-01-24T08:17:37.620Z"
   },
   {
    "duration": 19,
    "start_time": "2022-01-24T08:17:37.702Z"
   },
   {
    "duration": 68,
    "start_time": "2022-01-24T08:17:37.724Z"
   },
   {
    "duration": 317,
    "start_time": "2022-01-24T08:17:37.794Z"
   },
   {
    "duration": -44,
    "start_time": "2022-01-24T08:17:38.159Z"
   },
   {
    "duration": 627,
    "start_time": "2022-01-24T08:18:01.734Z"
   },
   {
    "duration": 109,
    "start_time": "2022-01-24T08:18:02.365Z"
   },
   {
    "duration": 101,
    "start_time": "2022-01-24T08:18:02.478Z"
   },
   {
    "duration": 26,
    "start_time": "2022-01-24T08:18:02.583Z"
   },
   {
    "duration": 66,
    "start_time": "2022-01-24T08:18:02.611Z"
   },
   {
    "duration": 115,
    "start_time": "2022-01-24T08:18:02.680Z"
   },
   {
    "duration": 4,
    "start_time": "2022-01-24T08:18:02.798Z"
   },
   {
    "duration": 61,
    "start_time": "2022-01-24T09:33:38.483Z"
   },
   {
    "duration": 51,
    "start_time": "2022-01-24T09:37:21.757Z"
   },
   {
    "duration": 20,
    "start_time": "2022-01-24T09:40:42.161Z"
   },
   {
    "duration": 244,
    "start_time": "2022-01-24T09:45:51.208Z"
   },
   {
    "duration": 88,
    "start_time": "2022-01-24T09:46:04.217Z"
   },
   {
    "duration": 45,
    "start_time": "2022-01-24T09:47:27.639Z"
   },
   {
    "duration": 50,
    "start_time": "2022-01-24T09:48:32.966Z"
   },
   {
    "duration": 7496,
    "start_time": "2022-01-24T09:52:39.507Z"
   },
   {
    "duration": 563,
    "start_time": "2022-01-24T09:53:15.937Z"
   },
   {
    "duration": 88,
    "start_time": "2022-01-24T09:53:16.503Z"
   },
   {
    "duration": 84,
    "start_time": "2022-01-24T09:53:16.594Z"
   },
   {
    "duration": 18,
    "start_time": "2022-01-24T09:53:16.681Z"
   },
   {
    "duration": 71,
    "start_time": "2022-01-24T09:53:16.701Z"
   },
   {
    "duration": 115,
    "start_time": "2022-01-24T09:53:16.776Z"
   },
   {
    "duration": 82,
    "start_time": "2022-01-24T09:53:16.894Z"
   },
   {
    "duration": 51,
    "start_time": "2022-01-24T09:53:16.982Z"
   },
   {
    "duration": 43,
    "start_time": "2022-01-24T09:53:17.036Z"
   },
   {
    "duration": 121,
    "start_time": "2022-01-24T09:53:17.083Z"
   },
   {
    "duration": 70,
    "start_time": "2022-01-24T09:53:17.208Z"
   },
   {
    "duration": 7700,
    "start_time": "2022-01-24T09:53:17.281Z"
   },
   {
    "duration": 36,
    "start_time": "2022-01-24T09:53:36.186Z"
   },
   {
    "duration": 47,
    "start_time": "2022-01-24T09:54:05.696Z"
   },
   {
    "duration": 44,
    "start_time": "2022-01-24T09:55:11.671Z"
   },
   {
    "duration": 448,
    "start_time": "2022-01-24T10:02:40.626Z"
   },
   {
    "duration": 42,
    "start_time": "2022-01-24T10:03:01.304Z"
   },
   {
    "duration": 43,
    "start_time": "2022-01-24T10:05:00.205Z"
   },
   {
    "duration": 44,
    "start_time": "2022-01-24T10:05:49.142Z"
   },
   {
    "duration": 289,
    "start_time": "2022-01-24T10:06:23.044Z"
   },
   {
    "duration": 567,
    "start_time": "2022-01-24T10:17:10.397Z"
   },
   {
    "duration": 62,
    "start_time": "2022-01-24T10:17:10.967Z"
   },
   {
    "duration": 75,
    "start_time": "2022-01-24T10:17:11.032Z"
   },
   {
    "duration": 57,
    "start_time": "2022-01-24T10:17:11.110Z"
   },
   {
    "duration": 30,
    "start_time": "2022-01-24T10:17:11.169Z"
   },
   {
    "duration": 122,
    "start_time": "2022-01-24T10:17:11.202Z"
   },
   {
    "duration": 74,
    "start_time": "2022-01-24T10:17:11.327Z"
   },
   {
    "duration": 68,
    "start_time": "2022-01-24T10:17:11.404Z"
   },
   {
    "duration": 22,
    "start_time": "2022-01-24T10:17:11.477Z"
   },
   {
    "duration": 119,
    "start_time": "2022-01-24T10:17:11.502Z"
   },
   {
    "duration": 68,
    "start_time": "2022-01-24T10:17:11.625Z"
   },
   {
    "duration": 67,
    "start_time": "2022-01-24T10:17:11.697Z"
   },
   {
    "duration": 52,
    "start_time": "2022-01-24T10:17:11.768Z"
   },
   {
    "duration": 329,
    "start_time": "2022-01-24T10:29:44.964Z"
   },
   {
    "duration": 243,
    "start_time": "2022-01-24T10:30:45.849Z"
   },
   {
    "duration": 373,
    "start_time": "2022-01-24T10:31:17.049Z"
   },
   {
    "duration": 11,
    "start_time": "2022-01-24T10:32:18.834Z"
   },
   {
    "duration": 25,
    "start_time": "2022-01-24T10:32:33.696Z"
   },
   {
    "duration": 21,
    "start_time": "2022-01-24T12:22:35.953Z"
   },
   {
    "duration": 441,
    "start_time": "2022-01-24T12:26:11.583Z"
   },
   {
    "duration": 604,
    "start_time": "2022-01-24T12:26:25.071Z"
   },
   {
    "duration": 101,
    "start_time": "2022-01-24T12:26:25.678Z"
   },
   {
    "duration": 87,
    "start_time": "2022-01-24T12:26:25.783Z"
   },
   {
    "duration": 27,
    "start_time": "2022-01-24T12:26:25.874Z"
   },
   {
    "duration": 80,
    "start_time": "2022-01-24T12:26:25.904Z"
   },
   {
    "duration": 112,
    "start_time": "2022-01-24T12:26:25.986Z"
   },
   {
    "duration": 86,
    "start_time": "2022-01-24T12:26:26.100Z"
   },
   {
    "duration": 53,
    "start_time": "2022-01-24T12:26:26.190Z"
   },
   {
    "duration": 22,
    "start_time": "2022-01-24T12:26:26.265Z"
   },
   {
    "duration": 114,
    "start_time": "2022-01-24T12:26:26.290Z"
   },
   {
    "duration": 61,
    "start_time": "2022-01-24T12:26:26.406Z"
   },
   {
    "duration": 53,
    "start_time": "2022-01-24T12:26:26.470Z"
   },
   {
    "duration": 75,
    "start_time": "2022-01-24T12:26:26.526Z"
   },
   {
    "duration": 25,
    "start_time": "2022-01-24T12:26:26.604Z"
   },
   {
    "duration": 644,
    "start_time": "2022-01-24T12:26:26.632Z"
   },
   {
    "duration": 574,
    "start_time": "2022-01-24T12:27:56.802Z"
   },
   {
    "duration": 1222,
    "start_time": "2022-01-24T14:54:02.881Z"
   },
   {
    "duration": 607,
    "start_time": "2022-01-24T14:54:33.442Z"
   },
   {
    "duration": 559,
    "start_time": "2022-01-24T14:54:40.927Z"
   },
   {
    "duration": 567,
    "start_time": "2022-01-24T14:54:50.281Z"
   },
   {
    "duration": 627,
    "start_time": "2022-01-24T14:55:17.216Z"
   },
   {
    "duration": 564,
    "start_time": "2022-01-24T14:55:28.183Z"
   },
   {
    "duration": 621,
    "start_time": "2022-01-24T15:00:02.720Z"
   },
   {
    "duration": 36,
    "start_time": "2022-01-24T15:08:35.168Z"
   },
   {
    "duration": 34,
    "start_time": "2022-01-24T15:11:02.980Z"
   },
   {
    "duration": 27,
    "start_time": "2022-01-24T15:13:18.329Z"
   },
   {
    "duration": 500,
    "start_time": "2022-01-24T15:15:46.062Z"
   },
   {
    "duration": 335,
    "start_time": "2022-01-24T15:16:54.190Z"
   },
   {
    "duration": 424,
    "start_time": "2022-01-24T15:17:41.996Z"
   },
   {
    "duration": 262,
    "start_time": "2022-01-24T15:20:28.666Z"
   },
   {
    "duration": 40,
    "start_time": "2022-01-24T15:20:33.627Z"
   },
   {
    "duration": 30,
    "start_time": "2022-01-24T15:23:37.399Z"
   },
   {
    "duration": 29,
    "start_time": "2022-01-24T15:23:57.415Z"
   },
   {
    "duration": 32,
    "start_time": "2022-01-24T15:24:06.853Z"
   },
   {
    "duration": 305,
    "start_time": "2022-01-24T16:10:28.083Z"
   },
   {
    "duration": 55,
    "start_time": "2022-01-24T16:11:37.028Z"
   },
   {
    "duration": 271,
    "start_time": "2022-01-24T16:13:03.704Z"
   },
   {
    "duration": 38,
    "start_time": "2022-01-24T16:13:35.471Z"
   },
   {
    "duration": 32,
    "start_time": "2022-01-24T16:16:35.260Z"
   },
   {
    "duration": 1365,
    "start_time": "2022-01-25T07:26:33.471Z"
   },
   {
    "duration": 83,
    "start_time": "2022-01-25T07:26:34.839Z"
   },
   {
    "duration": 73,
    "start_time": "2022-01-25T07:26:34.925Z"
   },
   {
    "duration": 26,
    "start_time": "2022-01-25T07:26:35.000Z"
   },
   {
    "duration": 60,
    "start_time": "2022-01-25T07:26:35.029Z"
   },
   {
    "duration": 113,
    "start_time": "2022-01-25T07:26:35.092Z"
   },
   {
    "duration": 80,
    "start_time": "2022-01-25T07:26:35.208Z"
   },
   {
    "duration": 71,
    "start_time": "2022-01-25T07:26:35.293Z"
   },
   {
    "duration": 23,
    "start_time": "2022-01-25T07:26:35.367Z"
   },
   {
    "duration": 114,
    "start_time": "2022-01-25T07:26:35.392Z"
   },
   {
    "duration": 60,
    "start_time": "2022-01-25T07:26:35.509Z"
   },
   {
    "duration": 55,
    "start_time": "2022-01-25T07:26:35.571Z"
   },
   {
    "duration": 78,
    "start_time": "2022-01-25T07:26:35.628Z"
   },
   {
    "duration": 26,
    "start_time": "2022-01-25T07:26:35.708Z"
   },
   {
    "duration": 588,
    "start_time": "2022-01-25T07:26:35.737Z"
   },
   {
    "duration": 54,
    "start_time": "2022-01-25T07:26:36.327Z"
   },
   {
    "duration": 32,
    "start_time": "2022-01-25T07:26:36.384Z"
   },
   {
    "duration": 6564,
    "start_time": "2022-01-25T07:29:29.088Z"
   },
   {
    "duration": 20,
    "start_time": "2022-01-25T07:29:53.950Z"
   },
   {
    "duration": 21,
    "start_time": "2022-01-25T07:30:19.972Z"
   },
   {
    "duration": 472,
    "start_time": "2022-01-25T07:45:02.677Z"
   },
   {
    "duration": 1307,
    "start_time": "2022-01-25T07:45:09.116Z"
   },
   {
    "duration": 120,
    "start_time": "2022-01-25T07:45:10.426Z"
   },
   {
    "duration": 54,
    "start_time": "2022-01-25T07:45:10.567Z"
   },
   {
    "duration": 50,
    "start_time": "2022-01-25T07:45:10.623Z"
   },
   {
    "duration": 45,
    "start_time": "2022-01-25T07:45:10.675Z"
   },
   {
    "duration": 113,
    "start_time": "2022-01-25T07:45:10.723Z"
   },
   {
    "duration": 80,
    "start_time": "2022-01-25T07:45:10.839Z"
   },
   {
    "duration": 69,
    "start_time": "2022-01-25T07:45:10.925Z"
   },
   {
    "duration": 21,
    "start_time": "2022-01-25T07:45:10.997Z"
   },
   {
    "duration": 117,
    "start_time": "2022-01-25T07:45:11.020Z"
   },
   {
    "duration": 59,
    "start_time": "2022-01-25T07:45:11.140Z"
   },
   {
    "duration": 63,
    "start_time": "2022-01-25T07:45:11.202Z"
   },
   {
    "duration": 50,
    "start_time": "2022-01-25T07:45:11.267Z"
   },
   {
    "duration": 52,
    "start_time": "2022-01-25T07:45:11.319Z"
   },
   {
    "duration": 576,
    "start_time": "2022-01-25T07:45:11.374Z"
   },
   {
    "duration": 44,
    "start_time": "2022-01-25T07:45:11.954Z"
   },
   {
    "duration": 34,
    "start_time": "2022-01-25T07:45:12.001Z"
   },
   {
    "duration": 25,
    "start_time": "2022-01-25T07:45:12.065Z"
   },
   {
    "duration": 778,
    "start_time": "2022-01-25T07:45:12.094Z"
   },
   {
    "duration": 1408,
    "start_time": "2022-01-25T07:45:23.839Z"
   },
   {
    "duration": 494,
    "start_time": "2022-01-25T07:53:57.263Z"
   },
   {
    "duration": 612,
    "start_time": "2022-01-25T07:55:06.690Z"
   },
   {
    "duration": 95,
    "start_time": "2022-01-25T07:55:07.305Z"
   },
   {
    "duration": 72,
    "start_time": "2022-01-25T07:55:07.403Z"
   },
   {
    "duration": 23,
    "start_time": "2022-01-25T07:55:07.478Z"
   },
   {
    "duration": 63,
    "start_time": "2022-01-25T07:55:07.504Z"
   },
   {
    "duration": 95,
    "start_time": "2022-01-25T07:55:07.570Z"
   },
   {
    "duration": 58,
    "start_time": "2022-01-25T07:55:07.668Z"
   },
   {
    "duration": 75,
    "start_time": "2022-01-25T07:55:07.730Z"
   },
   {
    "duration": 20,
    "start_time": "2022-01-25T07:55:07.808Z"
   },
   {
    "duration": 105,
    "start_time": "2022-01-25T07:55:07.831Z"
   },
   {
    "duration": 61,
    "start_time": "2022-01-25T07:55:07.938Z"
   },
   {
    "duration": 45,
    "start_time": "2022-01-25T07:55:08.001Z"
   },
   {
    "duration": 48,
    "start_time": "2022-01-25T07:55:08.064Z"
   },
   {
    "duration": 25,
    "start_time": "2022-01-25T07:55:08.114Z"
   },
   {
    "duration": 563,
    "start_time": "2022-01-25T07:55:08.165Z"
   },
   {
    "duration": 47,
    "start_time": "2022-01-25T07:55:08.731Z"
   },
   {
    "duration": 29,
    "start_time": "2022-01-25T07:55:08.781Z"
   },
   {
    "duration": 36,
    "start_time": "2022-01-25T07:55:08.813Z"
   },
   {
    "duration": 1421,
    "start_time": "2022-01-25T07:55:08.852Z"
   },
   {
    "duration": 331,
    "start_time": "2022-01-25T07:55:10.276Z"
   },
   {
    "duration": 9,
    "start_time": "2022-01-25T07:57:15.267Z"
   },
   {
    "duration": 369,
    "start_time": "2022-01-25T07:57:24.291Z"
   },
   {
    "duration": 424,
    "start_time": "2022-01-25T08:11:31.413Z"
   },
   {
    "duration": 464,
    "start_time": "2022-01-25T08:12:59.613Z"
   },
   {
    "duration": 20,
    "start_time": "2022-01-25T08:15:27.678Z"
   },
   {
    "duration": 1546,
    "start_time": "2022-01-25T08:19:57.945Z"
   },
   {
    "duration": 1540,
    "start_time": "2022-01-25T08:19:57.953Z"
   },
   {
    "duration": 1538,
    "start_time": "2022-01-25T08:19:57.957Z"
   },
   {
    "duration": 1538,
    "start_time": "2022-01-25T08:19:57.960Z"
   },
   {
    "duration": 1536,
    "start_time": "2022-01-25T08:19:57.964Z"
   },
   {
    "duration": 1536,
    "start_time": "2022-01-25T08:19:57.966Z"
   },
   {
    "duration": 1529,
    "start_time": "2022-01-25T08:19:57.975Z"
   },
   {
    "duration": 1528,
    "start_time": "2022-01-25T08:19:57.978Z"
   },
   {
    "duration": 1527,
    "start_time": "2022-01-25T08:19:57.981Z"
   },
   {
    "duration": 1505,
    "start_time": "2022-01-25T08:19:58.005Z"
   },
   {
    "duration": 1499,
    "start_time": "2022-01-25T08:19:58.013Z"
   },
   {
    "duration": 1499,
    "start_time": "2022-01-25T08:19:58.016Z"
   },
   {
    "duration": 1497,
    "start_time": "2022-01-25T08:19:58.020Z"
   },
   {
    "duration": 1496,
    "start_time": "2022-01-25T08:19:58.023Z"
   },
   {
    "duration": 1495,
    "start_time": "2022-01-25T08:19:58.026Z"
   },
   {
    "duration": 1492,
    "start_time": "2022-01-25T08:19:58.031Z"
   },
   {
    "duration": 1479,
    "start_time": "2022-01-25T08:19:58.046Z"
   },
   {
    "duration": 1475,
    "start_time": "2022-01-25T08:19:58.052Z"
   },
   {
    "duration": 1509,
    "start_time": "2022-01-25T08:19:58.056Z"
   },
   {
    "duration": 1508,
    "start_time": "2022-01-25T08:19:58.060Z"
   },
   {
    "duration": 1505,
    "start_time": "2022-01-25T08:19:58.065Z"
   },
   {
    "duration": 1504,
    "start_time": "2022-01-25T08:19:58.069Z"
   },
   {
    "duration": 1502,
    "start_time": "2022-01-25T08:19:58.073Z"
   },
   {
    "duration": 1501,
    "start_time": "2022-01-25T08:19:58.076Z"
   },
   {
    "duration": 7422,
    "start_time": "2022-01-25T08:20:32.289Z"
   },
   {
    "duration": 7794,
    "start_time": "2022-01-25T08:20:49.796Z"
   },
   {
    "duration": 21,
    "start_time": "2022-01-25T08:21:11.563Z"
   },
   {
    "duration": 50,
    "start_time": "2022-01-25T08:21:29.722Z"
   },
   {
    "duration": 562,
    "start_time": "2022-01-25T08:24:53.357Z"
   },
   {
    "duration": 81,
    "start_time": "2022-01-25T08:24:53.922Z"
   },
   {
    "duration": 76,
    "start_time": "2022-01-25T08:24:54.006Z"
   },
   {
    "duration": 21,
    "start_time": "2022-01-25T08:24:54.085Z"
   },
   {
    "duration": 63,
    "start_time": "2022-01-25T08:24:54.109Z"
   },
   {
    "duration": 91,
    "start_time": "2022-01-25T08:24:54.175Z"
   },
   {
    "duration": 58,
    "start_time": "2022-01-25T08:24:54.268Z"
   },
   {
    "duration": 67,
    "start_time": "2022-01-25T08:24:54.328Z"
   },
   {
    "duration": 20,
    "start_time": "2022-01-25T08:24:54.399Z"
   },
   {
    "duration": 100,
    "start_time": "2022-01-25T08:24:54.422Z"
   },
   {
    "duration": 59,
    "start_time": "2022-01-25T08:24:54.524Z"
   },
   {
    "duration": 45,
    "start_time": "2022-01-25T08:24:54.585Z"
   },
   {
    "duration": 69,
    "start_time": "2022-01-25T08:24:54.633Z"
   },
   {
    "duration": 25,
    "start_time": "2022-01-25T08:24:54.705Z"
   },
   {
    "duration": 598,
    "start_time": "2022-01-25T08:24:54.733Z"
   },
   {
    "duration": 49,
    "start_time": "2022-01-25T08:24:55.334Z"
   },
   {
    "duration": 29,
    "start_time": "2022-01-25T08:24:55.386Z"
   },
   {
    "duration": 9,
    "start_time": "2022-01-25T08:24:55.418Z"
   },
   {
    "duration": 1383,
    "start_time": "2022-01-25T08:24:55.429Z"
   },
   {
    "duration": 413,
    "start_time": "2022-01-25T08:24:56.814Z"
   },
   {
    "duration": 424,
    "start_time": "2022-01-25T08:24:57.229Z"
   },
   {
    "duration": 455,
    "start_time": "2022-01-25T08:24:57.656Z"
   },
   {
    "duration": 19,
    "start_time": "2022-01-25T08:24:58.115Z"
   },
   {
    "duration": 60,
    "start_time": "2022-01-25T08:24:58.137Z"
   },
   {
    "duration": 71,
    "start_time": "2022-01-25T08:29:10.796Z"
   },
   {
    "duration": 63,
    "start_time": "2022-01-25T08:29:39.464Z"
   },
   {
    "duration": 64,
    "start_time": "2022-01-25T08:30:22.539Z"
   },
   {
    "duration": 62,
    "start_time": "2022-01-25T08:30:39.567Z"
   },
   {
    "duration": 62,
    "start_time": "2022-01-25T08:34:34.476Z"
   },
   {
    "duration": 275,
    "start_time": "2022-01-25T08:38:46.239Z"
   },
   {
    "duration": 834,
    "start_time": "2022-01-25T08:39:17.877Z"
   },
   {
    "duration": 121,
    "start_time": "2022-01-25T08:39:18.715Z"
   },
   {
    "duration": 73,
    "start_time": "2022-01-25T08:39:18.840Z"
   },
   {
    "duration": 60,
    "start_time": "2022-01-25T08:39:18.916Z"
   },
   {
    "duration": 33,
    "start_time": "2022-01-25T08:39:18.979Z"
   },
   {
    "duration": 123,
    "start_time": "2022-01-25T08:39:19.015Z"
   },
   {
    "duration": 77,
    "start_time": "2022-01-25T08:39:19.141Z"
   },
   {
    "duration": 76,
    "start_time": "2022-01-25T08:39:19.220Z"
   },
   {
    "duration": 21,
    "start_time": "2022-01-25T08:39:19.300Z"
   },
   {
    "duration": 109,
    "start_time": "2022-01-25T08:39:19.324Z"
   },
   {
    "duration": 66,
    "start_time": "2022-01-25T08:39:19.435Z"
   },
   {
    "duration": 62,
    "start_time": "2022-01-25T08:39:19.504Z"
   },
   {
    "duration": 52,
    "start_time": "2022-01-25T08:39:19.569Z"
   },
   {
    "duration": 52,
    "start_time": "2022-01-25T08:39:19.623Z"
   },
   {
    "duration": 719,
    "start_time": "2022-01-25T08:39:19.678Z"
   },
   {
    "duration": 39,
    "start_time": "2022-01-25T08:39:20.400Z"
   },
   {
    "duration": 34,
    "start_time": "2022-01-25T08:39:20.466Z"
   },
   {
    "duration": 20,
    "start_time": "2022-01-25T08:39:20.504Z"
   },
   {
    "duration": 1466,
    "start_time": "2022-01-25T08:39:20.526Z"
   },
   {
    "duration": 406,
    "start_time": "2022-01-25T08:39:21.995Z"
   },
   {
    "duration": 446,
    "start_time": "2022-01-25T08:39:22.404Z"
   },
   {
    "duration": 421,
    "start_time": "2022-01-25T08:39:22.854Z"
   },
   {
    "duration": 94,
    "start_time": "2022-01-25T08:39:23.278Z"
   },
   {
    "duration": 87,
    "start_time": "2022-01-25T08:39:23.375Z"
   },
   {
    "duration": 1530,
    "start_time": "2022-01-25T08:39:21.935Z"
   },
   {
    "duration": 8,
    "start_time": "2022-01-25T08:39:37.853Z"
   },
   {
    "duration": 7,
    "start_time": "2022-01-25T08:40:35.229Z"
   },
   {
    "duration": 21,
    "start_time": "2022-01-25T08:48:47.950Z"
   },
   {
    "duration": 9,
    "start_time": "2022-01-25T08:51:24.219Z"
   },
   {
    "duration": 9,
    "start_time": "2022-01-25T08:51:52.883Z"
   },
   {
    "duration": 6,
    "start_time": "2022-01-25T08:55:51.155Z"
   },
   {
    "duration": 7,
    "start_time": "2022-01-25T08:55:58.217Z"
   },
   {
    "duration": 9,
    "start_time": "2022-01-25T08:56:24.600Z"
   },
   {
    "duration": 6,
    "start_time": "2022-01-25T08:56:32.351Z"
   },
   {
    "duration": 2132,
    "start_time": "2022-01-27T13:26:35.757Z"
   },
   {
    "duration": 452,
    "start_time": "2022-01-27T13:26:37.891Z"
   },
   {
    "duration": 1232,
    "start_time": "2022-01-27T13:26:37.115Z"
   },
   {
    "duration": 1224,
    "start_time": "2022-01-27T13:26:37.124Z"
   },
   {
    "duration": 1220,
    "start_time": "2022-01-27T13:26:37.129Z"
   },
   {
    "duration": 1210,
    "start_time": "2022-01-27T13:26:37.140Z"
   },
   {
    "duration": 1208,
    "start_time": "2022-01-27T13:26:37.144Z"
   },
   {
    "duration": 1199,
    "start_time": "2022-01-27T13:26:37.154Z"
   },
   {
    "duration": 1195,
    "start_time": "2022-01-27T13:26:37.159Z"
   },
   {
    "duration": 1192,
    "start_time": "2022-01-27T13:26:37.164Z"
   },
   {
    "duration": 1182,
    "start_time": "2022-01-27T13:26:37.175Z"
   },
   {
    "duration": 1178,
    "start_time": "2022-01-27T13:26:37.180Z"
   },
   {
    "duration": 1171,
    "start_time": "2022-01-27T13:26:37.189Z"
   },
   {
    "duration": 1167,
    "start_time": "2022-01-27T13:26:37.194Z"
   },
   {
    "duration": 1159,
    "start_time": "2022-01-27T13:26:37.204Z"
   },
   {
    "duration": 1155,
    "start_time": "2022-01-27T13:26:37.209Z"
   },
   {
    "duration": 1152,
    "start_time": "2022-01-27T13:26:37.214Z"
   },
   {
    "duration": 1140,
    "start_time": "2022-01-27T13:26:37.227Z"
   },
   {
    "duration": 1131,
    "start_time": "2022-01-27T13:26:37.238Z"
   },
   {
    "duration": 1127,
    "start_time": "2022-01-27T13:26:37.243Z"
   },
   {
    "duration": 1123,
    "start_time": "2022-01-27T13:26:37.248Z"
   },
   {
    "duration": 1114,
    "start_time": "2022-01-27T13:26:37.259Z"
   },
   {
    "duration": 1110,
    "start_time": "2022-01-27T13:26:37.264Z"
   },
   {
    "duration": 1102,
    "start_time": "2022-01-27T13:26:37.274Z"
   },
   {
    "duration": 1100,
    "start_time": "2022-01-27T13:26:37.278Z"
   },
   {
    "duration": 1090,
    "start_time": "2022-01-27T13:26:37.289Z"
   },
   {
    "duration": 1088,
    "start_time": "2022-01-27T13:26:37.293Z"
   },
   {
    "duration": 1078,
    "start_time": "2022-01-27T13:26:37.304Z"
   },
   {
    "duration": 325,
    "start_time": "2022-01-27T13:27:14.686Z"
   },
   {
    "duration": 143,
    "start_time": "2022-01-27T13:27:35.536Z"
   },
   {
    "duration": 107,
    "start_time": "2022-01-27T13:29:22.755Z"
   },
   {
    "duration": 110,
    "start_time": "2022-01-27T13:34:54.820Z"
   },
   {
    "duration": 315,
    "start_time": "2022-01-27T13:37:31.600Z"
   },
   {
    "duration": 107,
    "start_time": "2022-01-27T13:40:14.076Z"
   },
   {
    "duration": 4,
    "start_time": "2022-01-27T14:14:42.129Z"
   },
   {
    "duration": 524,
    "start_time": "2022-01-27T14:15:19.932Z"
   },
   {
    "duration": 554,
    "start_time": "2022-01-27T14:15:24.854Z"
   },
   {
    "duration": 4,
    "start_time": "2022-01-27T14:15:30.758Z"
   },
   {
    "duration": 204,
    "start_time": "2022-01-27T14:16:27.072Z"
   },
   {
    "duration": 128,
    "start_time": "2022-01-27T14:17:56.179Z"
   },
   {
    "duration": 93,
    "start_time": "2022-01-27T14:18:13.593Z"
   },
   {
    "duration": 96,
    "start_time": "2022-01-27T14:18:40.138Z"
   },
   {
    "duration": 81,
    "start_time": "2022-01-27T14:18:52.988Z"
   },
   {
    "duration": 29,
    "start_time": "2022-01-27T14:21:55.089Z"
   },
   {
    "duration": 48,
    "start_time": "2022-01-27T14:26:27.092Z"
   },
   {
    "duration": 81,
    "start_time": "2022-01-27T14:34:10.181Z"
   },
   {
    "duration": 132,
    "start_time": "2022-01-27T14:34:45.048Z"
   },
   {
    "duration": 384,
    "start_time": "2022-01-27T14:38:48.503Z"
   },
   {
    "duration": 69,
    "start_time": "2022-01-27T14:39:46.450Z"
   },
   {
    "duration": 68,
    "start_time": "2022-01-27T14:40:45.917Z"
   },
   {
    "duration": 340,
    "start_time": "2022-01-27T14:47:38.580Z"
   },
   {
    "duration": 66,
    "start_time": "2022-01-27T14:48:51.269Z"
   },
   {
    "duration": 65,
    "start_time": "2022-01-27T14:49:14.314Z"
   },
   {
    "duration": 74,
    "start_time": "2022-01-27T14:50:57.498Z"
   },
   {
    "duration": 85,
    "start_time": "2022-01-27T14:51:56.066Z"
   },
   {
    "duration": 76,
    "start_time": "2022-01-27T14:52:25.507Z"
   },
   {
    "duration": 70,
    "start_time": "2022-01-27T14:53:32.065Z"
   },
   {
    "duration": 103,
    "start_time": "2022-01-27T14:54:19.678Z"
   },
   {
    "duration": 68,
    "start_time": "2022-01-27T14:55:37.230Z"
   },
   {
    "duration": 77,
    "start_time": "2022-01-27T14:55:44.893Z"
   },
   {
    "duration": 402,
    "start_time": "2022-01-27T14:57:07.777Z"
   },
   {
    "duration": 100,
    "start_time": "2022-01-27T14:57:32.839Z"
   },
   {
    "duration": 66,
    "start_time": "2022-01-27T15:00:46.295Z"
   },
   {
    "duration": 65,
    "start_time": "2022-01-27T15:01:02.464Z"
   },
   {
    "duration": 75,
    "start_time": "2022-01-27T15:02:30.887Z"
   },
   {
    "duration": 69,
    "start_time": "2022-01-27T15:04:59.844Z"
   },
   {
    "duration": 97,
    "start_time": "2022-01-27T15:08:44.858Z"
   },
   {
    "duration": 70,
    "start_time": "2022-01-27T15:08:57.030Z"
   },
   {
    "duration": 67,
    "start_time": "2022-01-27T15:10:45.926Z"
   },
   {
    "duration": 52,
    "start_time": "2022-01-27T15:11:24.843Z"
   },
   {
    "duration": 71,
    "start_time": "2022-01-27T15:11:41.300Z"
   },
   {
    "duration": 51,
    "start_time": "2022-01-27T15:11:52.347Z"
   },
   {
    "duration": 51,
    "start_time": "2022-01-27T15:13:03.956Z"
   },
   {
    "duration": 385,
    "start_time": "2022-01-27T15:13:11.331Z"
   },
   {
    "duration": 410,
    "start_time": "2022-01-27T15:13:36.118Z"
   },
   {
    "duration": 4,
    "start_time": "2022-01-27T15:13:41.150Z"
   },
   {
    "duration": 547,
    "start_time": "2022-01-27T15:13:41.156Z"
   },
   {
    "duration": 78,
    "start_time": "2022-01-27T15:13:41.706Z"
   },
   {
    "duration": 146,
    "start_time": "2022-01-27T15:13:41.787Z"
   },
   {
    "duration": 82,
    "start_time": "2022-01-27T15:13:41.936Z"
   },
   {
    "duration": 90,
    "start_time": "2022-01-27T15:13:42.021Z"
   },
   {
    "duration": 54,
    "start_time": "2022-01-27T15:13:42.117Z"
   },
   {
    "duration": 38,
    "start_time": "2022-01-27T15:13:42.174Z"
   },
   {
    "duration": 112,
    "start_time": "2022-01-27T15:13:42.214Z"
   },
   {
    "duration": 78,
    "start_time": "2022-01-27T15:13:42.329Z"
   },
   {
    "duration": 63,
    "start_time": "2022-01-27T15:13:42.410Z"
   },
   {
    "duration": 30,
    "start_time": "2022-01-27T15:13:42.476Z"
   },
   {
    "duration": 105,
    "start_time": "2022-01-27T15:13:42.509Z"
   },
   {
    "duration": 66,
    "start_time": "2022-01-27T15:13:42.616Z"
   },
   {
    "duration": 54,
    "start_time": "2022-01-27T15:13:42.684Z"
   },
   {
    "duration": 88,
    "start_time": "2022-01-27T15:13:42.741Z"
   },
   {
    "duration": 45,
    "start_time": "2022-01-27T15:13:42.831Z"
   },
   {
    "duration": 656,
    "start_time": "2022-01-27T15:13:42.879Z"
   },
   {
    "duration": 49,
    "start_time": "2022-01-27T15:13:43.541Z"
   },
   {
    "duration": 32,
    "start_time": "2022-01-27T15:13:43.594Z"
   },
   {
    "duration": 10,
    "start_time": "2022-01-27T15:13:43.629Z"
   },
   {
    "duration": 1501,
    "start_time": "2022-01-27T15:13:43.641Z"
   },
   {
    "duration": 418,
    "start_time": "2022-01-27T15:13:45.144Z"
   },
   {
    "duration": 459,
    "start_time": "2022-01-27T15:13:45.568Z"
   },
   {
    "duration": 469,
    "start_time": "2022-01-27T15:13:46.030Z"
   },
   {
    "duration": 149,
    "start_time": "2022-01-27T15:13:46.501Z"
   },
   {
    "duration": 22,
    "start_time": "2022-01-27T15:13:46.653Z"
   },
   {
    "duration": 23,
    "start_time": "2022-01-27T15:13:46.677Z"
   },
   {
    "duration": 12,
    "start_time": "2022-01-27T15:13:46.704Z"
   },
   {
    "duration": 11,
    "start_time": "2022-01-27T15:13:46.719Z"
   },
   {
    "duration": 51,
    "start_time": "2022-01-27T15:14:48.688Z"
   },
   {
    "duration": 45,
    "start_time": "2022-01-27T15:17:20.162Z"
   },
   {
    "duration": 67,
    "start_time": "2022-01-27T15:17:30.957Z"
   },
   {
    "duration": 45,
    "start_time": "2022-01-27T15:18:14.277Z"
   },
   {
    "duration": 39,
    "start_time": "2022-01-27T15:23:11.439Z"
   },
   {
    "duration": 50,
    "start_time": "2022-01-27T15:23:55.875Z"
   },
   {
    "duration": 46,
    "start_time": "2022-01-27T15:24:32.176Z"
   },
   {
    "duration": 46,
    "start_time": "2022-01-27T15:25:30.296Z"
   },
   {
    "duration": 42,
    "start_time": "2022-01-27T15:25:34.533Z"
   },
   {
    "duration": 266,
    "start_time": "2022-01-27T15:30:04.465Z"
   },
   {
    "duration": 274,
    "start_time": "2022-01-27T15:31:33.383Z"
   },
   {
    "duration": 470,
    "start_time": "2022-01-27T15:31:53.593Z"
   },
   {
    "duration": 272,
    "start_time": "2022-01-27T15:32:01.861Z"
   },
   {
    "duration": 287,
    "start_time": "2022-01-27T15:33:18.528Z"
   },
   {
    "duration": 51,
    "start_time": "2022-01-27T15:38:05.184Z"
   },
   {
    "duration": 102,
    "start_time": "2022-01-27T15:40:48.548Z"
   },
   {
    "duration": 108,
    "start_time": "2022-01-27T15:43:59.402Z"
   },
   {
    "duration": 385,
    "start_time": "2022-01-27T15:44:50.777Z"
   },
   {
    "duration": 4,
    "start_time": "2022-01-27T15:45:08.110Z"
   },
   {
    "duration": 520,
    "start_time": "2022-01-27T15:45:08.117Z"
   },
   {
    "duration": 67,
    "start_time": "2022-01-27T15:45:08.640Z"
   },
   {
    "duration": 138,
    "start_time": "2022-01-27T15:45:08.709Z"
   },
   {
    "duration": 69,
    "start_time": "2022-01-27T15:45:08.850Z"
   },
   {
    "duration": 75,
    "start_time": "2022-01-27T15:45:08.922Z"
   },
   {
    "duration": 21,
    "start_time": "2022-01-27T15:45:08.999Z"
   },
   {
    "duration": 58,
    "start_time": "2022-01-27T15:45:09.023Z"
   },
   {
    "duration": 107,
    "start_time": "2022-01-27T15:45:09.085Z"
   },
   {
    "duration": 75,
    "start_time": "2022-01-27T15:45:09.196Z"
   },
   {
    "duration": 50,
    "start_time": "2022-01-27T15:45:09.273Z"
   },
   {
    "duration": 21,
    "start_time": "2022-01-27T15:45:09.325Z"
   },
   {
    "duration": 80,
    "start_time": "2022-01-27T15:45:09.348Z"
   },
   {
    "duration": 67,
    "start_time": "2022-01-27T15:45:09.430Z"
   },
   {
    "duration": 45,
    "start_time": "2022-01-27T15:45:09.500Z"
   },
   {
    "duration": 301,
    "start_time": "2022-01-27T15:45:09.548Z"
   },
   {
    "duration": 315,
    "start_time": "2022-01-27T15:45:09.851Z"
   },
   {
    "duration": 52,
    "start_time": "2022-01-27T15:45:10.169Z"
   },
   {
    "duration": 48,
    "start_time": "2022-01-27T15:45:10.223Z"
   },
   {
    "duration": 614,
    "start_time": "2022-01-27T15:45:10.273Z"
   },
   {
    "duration": 38,
    "start_time": "2022-01-27T15:45:10.889Z"
   },
   {
    "duration": 60,
    "start_time": "2022-01-27T15:45:10.930Z"
   },
   {
    "duration": 15,
    "start_time": "2022-01-27T15:45:10.993Z"
   },
   {
    "duration": 1362,
    "start_time": "2022-01-27T15:45:11.010Z"
   },
   {
    "duration": 404,
    "start_time": "2022-01-27T15:45:12.376Z"
   },
   {
    "duration": 457,
    "start_time": "2022-01-27T15:45:12.783Z"
   },
   {
    "duration": 664,
    "start_time": "2022-01-27T15:45:13.245Z"
   },
   {
    "duration": 98,
    "start_time": "2022-01-27T15:45:13.912Z"
   },
   {
    "duration": 7,
    "start_time": "2022-01-27T15:45:14.012Z"
   },
   {
    "duration": 24,
    "start_time": "2022-01-27T15:45:14.022Z"
   },
   {
    "duration": 9,
    "start_time": "2022-01-27T15:45:14.070Z"
   },
   {
    "duration": 6,
    "start_time": "2022-01-27T15:45:14.082Z"
   },
   {
    "duration": 127,
    "start_time": "2022-01-27T15:45:30.835Z"
   },
   {
    "duration": 6,
    "start_time": "2022-01-27T15:51:30.187Z"
   },
   {
    "duration": 529,
    "start_time": "2022-01-27T15:51:30.195Z"
   },
   {
    "duration": 71,
    "start_time": "2022-01-27T15:51:30.726Z"
   },
   {
    "duration": 136,
    "start_time": "2022-01-27T15:51:30.800Z"
   },
   {
    "duration": 135,
    "start_time": "2022-01-27T15:51:30.939Z"
   },
   {
    "duration": 53,
    "start_time": "2022-01-27T15:51:31.077Z"
   },
   {
    "duration": 55,
    "start_time": "2022-01-27T15:51:31.133Z"
   },
   {
    "duration": 32,
    "start_time": "2022-01-27T15:51:31.190Z"
   },
   {
    "duration": 132,
    "start_time": "2022-01-27T15:51:31.224Z"
   },
   {
    "duration": 72,
    "start_time": "2022-01-27T15:51:31.358Z"
   },
   {
    "duration": 74,
    "start_time": "2022-01-27T15:51:31.432Z"
   },
   {
    "duration": 23,
    "start_time": "2022-01-27T15:51:31.509Z"
   },
   {
    "duration": 123,
    "start_time": "2022-01-27T15:51:31.535Z"
   },
   {
    "duration": 48,
    "start_time": "2022-01-27T15:51:31.668Z"
   },
   {
    "duration": 66,
    "start_time": "2022-01-27T15:51:31.719Z"
   },
   {
    "duration": 274,
    "start_time": "2022-01-27T15:51:31.788Z"
   },
   {
    "duration": 301,
    "start_time": "2022-01-27T15:51:32.069Z"
   },
   {
    "duration": 51,
    "start_time": "2022-01-27T15:51:32.372Z"
   },
   {
    "duration": 48,
    "start_time": "2022-01-27T15:51:32.426Z"
   },
   {
    "duration": 621,
    "start_time": "2022-01-27T15:51:32.476Z"
   },
   {
    "duration": 34,
    "start_time": "2022-01-27T15:51:33.100Z"
   },
   {
    "duration": 53,
    "start_time": "2022-01-27T15:51:33.136Z"
   },
   {
    "duration": 10,
    "start_time": "2022-01-27T15:51:33.192Z"
   },
   {
    "duration": 1344,
    "start_time": "2022-01-27T15:51:33.205Z"
   },
   {
    "duration": 421,
    "start_time": "2022-01-27T15:51:34.551Z"
   },
   {
    "duration": 440,
    "start_time": "2022-01-27T15:51:34.974Z"
   },
   {
    "duration": 419,
    "start_time": "2022-01-27T15:51:35.416Z"
   },
   {
    "duration": 82,
    "start_time": "2022-01-27T15:51:35.838Z"
   },
   {
    "duration": 9,
    "start_time": "2022-01-27T15:51:35.923Z"
   },
   {
    "duration": 51,
    "start_time": "2022-01-27T15:51:35.934Z"
   },
   {
    "duration": 11,
    "start_time": "2022-01-27T15:51:36.014Z"
   },
   {
    "duration": 7,
    "start_time": "2022-01-27T15:51:36.028Z"
   },
   {
    "duration": 33,
    "start_time": "2022-01-27T15:54:54.986Z"
   },
   {
    "duration": 1598,
    "start_time": "2022-01-27T16:00:33.054Z"
   },
   {
    "duration": 107,
    "start_time": "2022-01-27T16:04:42.154Z"
   },
   {
    "duration": 116,
    "start_time": "2022-01-27T16:04:54.185Z"
   },
   {
    "duration": 424,
    "start_time": "2022-01-27T16:05:03.113Z"
   },
   {
    "duration": 101,
    "start_time": "2022-01-27T16:05:15.257Z"
   },
   {
    "duration": 398,
    "start_time": "2022-01-27T16:05:37.315Z"
   },
   {
    "duration": 610,
    "start_time": "2022-01-27T16:05:55.909Z"
   },
   {
    "duration": 422,
    "start_time": "2022-01-27T16:06:10.615Z"
   },
   {
    "duration": 423,
    "start_time": "2022-01-27T16:06:17.820Z"
   },
   {
    "duration": 859,
    "start_time": "2022-01-27T16:06:31.055Z"
   },
   {
    "duration": 685,
    "start_time": "2022-01-27T16:06:46.130Z"
   },
   {
    "duration": 977,
    "start_time": "2022-01-27T16:06:56.392Z"
   },
   {
    "duration": 445,
    "start_time": "2022-01-27T16:07:22.607Z"
   },
   {
    "duration": 442,
    "start_time": "2022-01-27T16:07:35.327Z"
   },
   {
    "duration": 474,
    "start_time": "2022-01-27T16:07:50.408Z"
   },
   {
    "duration": 471,
    "start_time": "2022-01-27T16:07:55.237Z"
   },
   {
    "duration": 563,
    "start_time": "2022-01-27T16:08:14.311Z"
   },
   {
    "duration": 97,
    "start_time": "2022-01-27T16:12:40.620Z"
   },
   {
    "duration": 59,
    "start_time": "2022-01-27T16:13:19.627Z"
   },
   {
    "duration": 61,
    "start_time": "2022-01-27T16:15:12.968Z"
   },
   {
    "duration": 62,
    "start_time": "2022-01-27T16:15:25.438Z"
   },
   {
    "duration": 19,
    "start_time": "2022-01-27T16:30:15.519Z"
   },
   {
    "duration": 35,
    "start_time": "2022-01-27T16:47:19.157Z"
   },
   {
    "duration": 1533,
    "start_time": "2022-01-27T20:31:15.008Z"
   },
   {
    "duration": 551,
    "start_time": "2022-01-27T20:31:16.544Z"
   },
   {
    "duration": 76,
    "start_time": "2022-01-27T20:31:17.098Z"
   },
   {
    "duration": 142,
    "start_time": "2022-01-27T20:31:17.176Z"
   },
   {
    "duration": 75,
    "start_time": "2022-01-27T20:31:17.321Z"
   },
   {
    "duration": 62,
    "start_time": "2022-01-27T20:31:17.399Z"
   },
   {
    "duration": 32,
    "start_time": "2022-01-27T20:31:17.464Z"
   },
   {
    "duration": 29,
    "start_time": "2022-01-27T20:31:17.500Z"
   },
   {
    "duration": 85,
    "start_time": "2022-01-27T20:31:17.532Z"
   },
   {
    "duration": 68,
    "start_time": "2022-01-27T20:31:17.619Z"
   },
   {
    "duration": 84,
    "start_time": "2022-01-27T20:31:17.689Z"
   },
   {
    "duration": 21,
    "start_time": "2022-01-27T20:31:17.775Z"
   },
   {
    "duration": 177,
    "start_time": "2022-01-27T20:31:17.798Z"
   },
   {
    "duration": 51,
    "start_time": "2022-01-27T20:31:17.978Z"
   },
   {
    "duration": 58,
    "start_time": "2022-01-27T20:31:18.031Z"
   },
   {
    "duration": 411,
    "start_time": "2022-01-27T20:31:18.091Z"
   },
   {
    "duration": 302,
    "start_time": "2022-01-27T20:31:18.559Z"
   },
   {
    "duration": 49,
    "start_time": "2022-01-27T20:31:18.864Z"
   },
   {
    "duration": 52,
    "start_time": "2022-01-27T20:31:18.915Z"
   },
   {
    "duration": 635,
    "start_time": "2022-01-27T20:31:18.969Z"
   },
   {
    "duration": 34,
    "start_time": "2022-01-27T20:31:19.606Z"
   },
   {
    "duration": 42,
    "start_time": "2022-01-27T20:31:19.642Z"
   },
   {
    "duration": 10,
    "start_time": "2022-01-27T20:31:19.690Z"
   },
   {
    "duration": 1402,
    "start_time": "2022-01-27T20:31:19.703Z"
   },
   {
    "duration": 1452,
    "start_time": "2022-01-27T20:31:21.107Z"
   },
   {
    "duration": 469,
    "start_time": "2022-01-27T20:31:22.561Z"
   },
   {
    "duration": 745,
    "start_time": "2022-01-27T20:31:23.044Z"
   },
   {
    "duration": 469,
    "start_time": "2022-01-27T20:31:23.792Z"
   },
   {
    "duration": 60,
    "start_time": "2022-01-27T20:31:24.264Z"
   },
   {
    "duration": 35,
    "start_time": "2022-01-27T20:31:24.326Z"
   },
   {
    "duration": 34,
    "start_time": "2022-01-27T20:31:24.363Z"
   },
   {
    "duration": 19,
    "start_time": "2022-01-27T20:31:24.400Z"
   },
   {
    "duration": 39,
    "start_time": "2022-01-27T20:31:24.421Z"
   },
   {
    "duration": 5,
    "start_time": "2022-01-27T20:31:24.462Z"
   },
   {
    "duration": 3,
    "start_time": "2022-01-28T07:29:55.815Z"
   },
   {
    "duration": 442,
    "start_time": "2022-01-28T07:29:55.820Z"
   },
   {
    "duration": 48,
    "start_time": "2022-01-28T07:29:56.265Z"
   },
   {
    "duration": 104,
    "start_time": "2022-01-28T07:29:56.315Z"
   },
   {
    "duration": 48,
    "start_time": "2022-01-28T07:29:56.420Z"
   },
   {
    "duration": 61,
    "start_time": "2022-01-28T07:29:56.470Z"
   },
   {
    "duration": 15,
    "start_time": "2022-01-28T07:29:56.533Z"
   },
   {
    "duration": 63,
    "start_time": "2022-01-28T07:29:56.550Z"
   },
   {
    "duration": 56,
    "start_time": "2022-01-28T07:29:56.614Z"
   },
   {
    "duration": 64,
    "start_time": "2022-01-28T07:29:56.672Z"
   },
   {
    "duration": 37,
    "start_time": "2022-01-28T07:29:56.738Z"
   },
   {
    "duration": 15,
    "start_time": "2022-01-28T07:29:56.798Z"
   },
   {
    "duration": 48,
    "start_time": "2022-01-28T07:29:56.814Z"
   },
   {
    "duration": 63,
    "start_time": "2022-01-28T07:29:56.863Z"
   },
   {
    "duration": 38,
    "start_time": "2022-01-28T07:29:56.927Z"
   },
   {
    "duration": 211,
    "start_time": "2022-01-28T07:29:56.967Z"
   },
   {
    "duration": 205,
    "start_time": "2022-01-28T07:29:57.180Z"
   },
   {
    "duration": 146,
    "start_time": "2022-01-28T07:29:57.387Z"
   },
   {
    "duration": 243,
    "start_time": "2022-01-28T07:29:57.292Z"
   },
   {
    "duration": 239,
    "start_time": "2022-01-28T07:29:57.297Z"
   },
   {
    "duration": 235,
    "start_time": "2022-01-28T07:29:57.303Z"
   },
   {
    "duration": 231,
    "start_time": "2022-01-28T07:29:57.308Z"
   },
   {
    "duration": 226,
    "start_time": "2022-01-28T07:29:57.314Z"
   },
   {
    "duration": 222,
    "start_time": "2022-01-28T07:29:57.320Z"
   },
   {
    "duration": 217,
    "start_time": "2022-01-28T07:29:57.326Z"
   },
   {
    "duration": 212,
    "start_time": "2022-01-28T07:29:57.332Z"
   },
   {
    "duration": 207,
    "start_time": "2022-01-28T07:29:57.338Z"
   },
   {
    "duration": 204,
    "start_time": "2022-01-28T07:29:57.343Z"
   },
   {
    "duration": 199,
    "start_time": "2022-01-28T07:29:57.349Z"
   },
   {
    "duration": 164,
    "start_time": "2022-01-28T07:29:57.385Z"
   },
   {
    "duration": 158,
    "start_time": "2022-01-28T07:29:57.392Z"
   },
   {
    "duration": 153,
    "start_time": "2022-01-28T07:29:57.398Z"
   },
   {
    "duration": 148,
    "start_time": "2022-01-28T07:29:57.404Z"
   },
   {
    "duration": 144,
    "start_time": "2022-01-28T07:29:57.409Z"
   },
   {
    "duration": 44,
    "start_time": "2022-01-28T07:31:03.140Z"
   },
   {
    "duration": 34,
    "start_time": "2022-01-28T07:31:12.438Z"
   },
   {
    "duration": 28,
    "start_time": "2022-01-28T07:31:36.027Z"
   },
   {
    "duration": 28,
    "start_time": "2022-01-28T07:31:42.280Z"
   },
   {
    "duration": 4,
    "start_time": "2022-01-28T07:32:10.053Z"
   },
   {
    "duration": 434,
    "start_time": "2022-01-28T07:32:10.059Z"
   },
   {
    "duration": 50,
    "start_time": "2022-01-28T07:32:10.495Z"
   },
   {
    "duration": 119,
    "start_time": "2022-01-28T07:32:10.547Z"
   },
   {
    "duration": 55,
    "start_time": "2022-01-28T07:32:10.668Z"
   },
   {
    "duration": 34,
    "start_time": "2022-01-28T07:32:10.725Z"
   },
   {
    "duration": 49,
    "start_time": "2022-01-28T07:32:10.761Z"
   },
   {
    "duration": 19,
    "start_time": "2022-01-28T07:32:10.811Z"
   },
   {
    "duration": 95,
    "start_time": "2022-01-28T07:32:10.832Z"
   },
   {
    "duration": 41,
    "start_time": "2022-01-28T07:32:10.929Z"
   },
   {
    "duration": 48,
    "start_time": "2022-01-28T07:32:10.972Z"
   },
   {
    "duration": 14,
    "start_time": "2022-01-28T07:32:11.021Z"
   },
   {
    "duration": 61,
    "start_time": "2022-01-28T07:32:11.036Z"
   },
   {
    "duration": 34,
    "start_time": "2022-01-28T07:32:11.099Z"
   },
   {
    "duration": 34,
    "start_time": "2022-01-28T07:32:11.135Z"
   },
   {
    "duration": 213,
    "start_time": "2022-01-28T07:32:11.171Z"
   },
   {
    "duration": 203,
    "start_time": "2022-01-28T07:32:11.387Z"
   },
   {
    "duration": 139,
    "start_time": "2022-01-28T07:32:11.592Z"
   },
   {
    "duration": 243,
    "start_time": "2022-01-28T07:32:11.491Z"
   },
   {
    "duration": 238,
    "start_time": "2022-01-28T07:32:11.498Z"
   },
   {
    "duration": 234,
    "start_time": "2022-01-28T07:32:11.503Z"
   },
   {
    "duration": 230,
    "start_time": "2022-01-28T07:32:11.509Z"
   },
   {
    "duration": 225,
    "start_time": "2022-01-28T07:32:11.515Z"
   },
   {
    "duration": 221,
    "start_time": "2022-01-28T07:32:11.521Z"
   },
   {
    "duration": 218,
    "start_time": "2022-01-28T07:32:11.526Z"
   },
   {
    "duration": 213,
    "start_time": "2022-01-28T07:32:11.532Z"
   },
   {
    "duration": 210,
    "start_time": "2022-01-28T07:32:11.537Z"
   },
   {
    "duration": 206,
    "start_time": "2022-01-28T07:32:11.543Z"
   },
   {
    "duration": 200,
    "start_time": "2022-01-28T07:32:11.550Z"
   },
   {
    "duration": 196,
    "start_time": "2022-01-28T07:32:11.556Z"
   },
   {
    "duration": 192,
    "start_time": "2022-01-28T07:32:11.561Z"
   },
   {
    "duration": 188,
    "start_time": "2022-01-28T07:32:11.567Z"
   },
   {
    "duration": 184,
    "start_time": "2022-01-28T07:32:11.572Z"
   },
   {
    "duration": 179,
    "start_time": "2022-01-28T07:32:11.578Z"
   },
   {
    "duration": 35,
    "start_time": "2022-01-28T07:32:41.274Z"
   },
   {
    "duration": 6,
    "start_time": "2022-01-28T07:33:28.822Z"
   },
   {
    "duration": 5,
    "start_time": "2022-01-28T07:55:01.080Z"
   },
   {
    "duration": 131,
    "start_time": "2022-01-28T08:02:08.789Z"
   },
   {
    "duration": 3,
    "start_time": "2022-01-28T08:02:17.227Z"
   },
   {
    "duration": 432,
    "start_time": "2022-01-28T08:02:17.233Z"
   },
   {
    "duration": 52,
    "start_time": "2022-01-28T08:02:17.667Z"
   },
   {
    "duration": 107,
    "start_time": "2022-01-28T08:02:17.721Z"
   },
   {
    "duration": 70,
    "start_time": "2022-01-28T08:02:17.830Z"
   },
   {
    "duration": 120,
    "start_time": "2022-01-28T08:02:17.902Z"
   },
   {
    "duration": 14,
    "start_time": "2022-01-28T08:02:18.025Z"
   },
   {
    "duration": 65,
    "start_time": "2022-01-28T08:02:18.041Z"
   },
   {
    "duration": 57,
    "start_time": "2022-01-28T08:02:18.108Z"
   },
   {
    "duration": 68,
    "start_time": "2022-01-28T08:02:18.166Z"
   },
   {
    "duration": 36,
    "start_time": "2022-01-28T08:02:18.235Z"
   },
   {
    "duration": 31,
    "start_time": "2022-01-28T08:02:18.273Z"
   },
   {
    "duration": 47,
    "start_time": "2022-01-28T08:02:18.306Z"
   },
   {
    "duration": 54,
    "start_time": "2022-01-28T08:02:18.355Z"
   },
   {
    "duration": 32,
    "start_time": "2022-01-28T08:02:18.410Z"
   },
   {
    "duration": 194,
    "start_time": "2022-01-28T08:02:18.444Z"
   },
   {
    "duration": 192,
    "start_time": "2022-01-28T08:02:18.639Z"
   },
   {
    "duration": 33,
    "start_time": "2022-01-28T08:02:18.833Z"
   },
   {
    "duration": 44,
    "start_time": "2022-01-28T08:02:18.868Z"
   },
   {
    "duration": 344,
    "start_time": "2022-01-28T08:02:18.915Z"
   },
   {
    "duration": 37,
    "start_time": "2022-01-28T08:02:19.261Z"
   },
   {
    "duration": 22,
    "start_time": "2022-01-28T08:02:19.300Z"
   },
   {
    "duration": 8,
    "start_time": "2022-01-28T08:02:19.324Z"
   },
   {
    "duration": 1034,
    "start_time": "2022-01-28T08:02:19.334Z"
   },
   {
    "duration": 966,
    "start_time": "2022-01-28T08:02:20.370Z"
   },
   {
    "duration": 299,
    "start_time": "2022-01-28T08:02:21.338Z"
   },
   {
    "duration": 316,
    "start_time": "2022-01-28T08:02:21.639Z"
   },
   {
    "duration": 311,
    "start_time": "2022-01-28T08:02:21.957Z"
   },
   {
    "duration": 54,
    "start_time": "2022-01-28T08:02:22.270Z"
   },
   {
    "duration": 4,
    "start_time": "2022-01-28T08:02:22.326Z"
   },
   {
    "duration": 27,
    "start_time": "2022-01-28T08:02:22.332Z"
   },
   {
    "duration": 43,
    "start_time": "2022-01-28T08:02:22.360Z"
   },
   {
    "duration": 5,
    "start_time": "2022-01-28T08:02:22.405Z"
   },
   {
    "duration": 12,
    "start_time": "2022-01-28T08:02:22.411Z"
   },
   {
    "duration": 4,
    "start_time": "2022-01-28T08:48:23.197Z"
   },
   {
    "duration": 446,
    "start_time": "2022-01-28T08:48:23.203Z"
   },
   {
    "duration": 55,
    "start_time": "2022-01-28T08:48:23.650Z"
   },
   {
    "duration": 106,
    "start_time": "2022-01-28T08:48:23.708Z"
   },
   {
    "duration": 86,
    "start_time": "2022-01-28T08:48:23.817Z"
   },
   {
    "duration": 39,
    "start_time": "2022-01-28T08:48:23.905Z"
   },
   {
    "duration": 57,
    "start_time": "2022-01-28T08:48:23.947Z"
   },
   {
    "duration": 23,
    "start_time": "2022-01-28T08:48:24.006Z"
   },
   {
    "duration": 89,
    "start_time": "2022-01-28T08:48:24.031Z"
   },
   {
    "duration": 45,
    "start_time": "2022-01-28T08:48:24.122Z"
   },
   {
    "duration": 64,
    "start_time": "2022-01-28T08:48:24.170Z"
   },
   {
    "duration": 16,
    "start_time": "2022-01-28T08:48:24.236Z"
   },
   {
    "duration": 82,
    "start_time": "2022-01-28T08:48:24.254Z"
   },
   {
    "duration": 38,
    "start_time": "2022-01-28T08:48:24.338Z"
   },
   {
    "duration": 53,
    "start_time": "2022-01-28T08:48:24.378Z"
   },
   {
    "duration": 203,
    "start_time": "2022-01-28T08:48:24.434Z"
   },
   {
    "duration": 210,
    "start_time": "2022-01-28T08:48:24.639Z"
   },
   {
    "duration": 46,
    "start_time": "2022-01-28T08:48:24.852Z"
   },
   {
    "duration": 19,
    "start_time": "2022-01-28T08:48:24.902Z"
   },
   {
    "duration": 442,
    "start_time": "2022-01-28T08:48:24.923Z"
   },
   {
    "duration": 38,
    "start_time": "2022-01-28T08:48:25.366Z"
   },
   {
    "duration": 22,
    "start_time": "2022-01-28T08:48:25.405Z"
   },
   {
    "duration": 10,
    "start_time": "2022-01-28T08:48:25.429Z"
   },
   {
    "duration": 1044,
    "start_time": "2022-01-28T08:48:25.441Z"
   },
   {
    "duration": 972,
    "start_time": "2022-01-28T08:48:26.486Z"
   },
   {
    "duration": 300,
    "start_time": "2022-01-28T08:48:27.459Z"
   },
   {
    "duration": 316,
    "start_time": "2022-01-28T08:48:27.761Z"
   },
   {
    "duration": 314,
    "start_time": "2022-01-28T08:48:28.079Z"
   },
   {
    "duration": 43,
    "start_time": "2022-01-28T08:48:28.397Z"
   },
   {
    "duration": 5,
    "start_time": "2022-01-28T08:48:28.441Z"
   },
   {
    "duration": 51,
    "start_time": "2022-01-28T08:48:28.447Z"
   },
   {
    "duration": 15,
    "start_time": "2022-01-28T08:48:28.499Z"
   },
   {
    "duration": 5,
    "start_time": "2022-01-28T08:48:28.515Z"
   },
   {
    "duration": 7,
    "start_time": "2022-01-28T08:48:28.522Z"
   },
   {
    "duration": 10,
    "start_time": "2022-01-28T08:52:09.522Z"
   },
   {
    "duration": 45,
    "start_time": "2022-01-28T08:53:05.694Z"
   },
   {
    "duration": 8,
    "start_time": "2022-01-28T08:53:29.331Z"
   },
   {
    "duration": 18,
    "start_time": "2022-01-28T08:53:37.962Z"
   },
   {
    "duration": 26,
    "start_time": "2022-01-28T08:53:52.380Z"
   },
   {
    "duration": 12,
    "start_time": "2022-01-28T08:55:59.320Z"
   },
   {
    "duration": 472,
    "start_time": "2022-01-28T10:43:34.191Z"
   },
   {
    "duration": 1542,
    "start_time": "2022-01-28T11:37:54.515Z"
   },
   {
    "duration": 501,
    "start_time": "2022-01-28T11:37:56.059Z"
   },
   {
    "duration": 77,
    "start_time": "2022-01-28T11:37:56.563Z"
   },
   {
    "duration": 137,
    "start_time": "2022-01-28T11:37:56.643Z"
   },
   {
    "duration": 80,
    "start_time": "2022-01-28T11:37:56.783Z"
   },
   {
    "duration": 79,
    "start_time": "2022-01-28T11:37:56.867Z"
   },
   {
    "duration": 27,
    "start_time": "2022-01-28T11:37:56.948Z"
   },
   {
    "duration": 56,
    "start_time": "2022-01-28T11:37:56.977Z"
   },
   {
    "duration": 111,
    "start_time": "2022-01-28T11:37:57.037Z"
   },
   {
    "duration": 75,
    "start_time": "2022-01-28T11:37:57.151Z"
   },
   {
    "duration": 74,
    "start_time": "2022-01-28T11:37:57.229Z"
   },
   {
    "duration": 30,
    "start_time": "2022-01-28T11:37:57.322Z"
   },
   {
    "duration": 81,
    "start_time": "2022-01-28T11:37:57.354Z"
   },
   {
    "duration": 47,
    "start_time": "2022-01-28T11:37:57.438Z"
   },
   {
    "duration": 66,
    "start_time": "2022-01-28T11:37:57.487Z"
   },
   {
    "duration": 384,
    "start_time": "2022-01-28T11:37:57.556Z"
   },
   {
    "duration": 309,
    "start_time": "2022-01-28T11:37:57.942Z"
   },
   {
    "duration": 86,
    "start_time": "2022-01-28T11:37:58.253Z"
   },
   {
    "duration": 37,
    "start_time": "2022-01-28T11:37:58.342Z"
   },
   {
    "duration": 612,
    "start_time": "2022-01-28T11:37:58.383Z"
   },
   {
    "duration": 52,
    "start_time": "2022-01-28T11:37:58.998Z"
   },
   {
    "duration": 30,
    "start_time": "2022-01-28T11:37:59.053Z"
   },
   {
    "duration": 10,
    "start_time": "2022-01-28T11:37:59.085Z"
   },
   {
    "duration": 1819,
    "start_time": "2022-01-28T11:37:59.097Z"
   },
   {
    "duration": 1862,
    "start_time": "2022-01-28T11:38:00.923Z"
   },
   {
    "duration": 661,
    "start_time": "2022-01-28T11:38:02.788Z"
   },
   {
    "duration": 494,
    "start_time": "2022-01-28T11:38:03.455Z"
   },
   {
    "duration": 474,
    "start_time": "2022-01-28T11:38:03.952Z"
   },
   {
    "duration": 100,
    "start_time": "2022-01-28T11:38:04.429Z"
   },
   {
    "duration": 17,
    "start_time": "2022-01-28T11:38:04.532Z"
   },
   {
    "duration": 31,
    "start_time": "2022-01-28T11:38:04.552Z"
   },
   {
    "duration": 37,
    "start_time": "2022-01-28T11:38:04.586Z"
   },
   {
    "duration": 10,
    "start_time": "2022-01-28T11:38:04.626Z"
   },
   {
    "duration": 10,
    "start_time": "2022-01-28T11:38:04.638Z"
   },
   {
    "duration": 12,
    "start_time": "2022-01-28T11:44:19.545Z"
   },
   {
    "duration": 770,
    "start_time": "2022-01-28T11:50:50.384Z"
   },
   {
    "duration": 27,
    "start_time": "2022-01-28T11:51:15.608Z"
   },
   {
    "duration": 781,
    "start_time": "2022-01-28T11:51:49.600Z"
   },
   {
    "duration": 303,
    "start_time": "2022-01-28T11:52:08.683Z"
   },
   {
    "duration": 464,
    "start_time": "2022-01-28T11:52:17.899Z"
   },
   {
    "duration": 885,
    "start_time": "2022-01-28T11:52:44.267Z"
   },
   {
    "duration": 406,
    "start_time": "2022-01-28T11:53:21.613Z"
   },
   {
    "duration": 552,
    "start_time": "2022-01-28T11:53:46.350Z"
   },
   {
    "duration": 12,
    "start_time": "2022-01-28T11:53:57.118Z"
   },
   {
    "duration": 254,
    "start_time": "2022-01-28T11:54:15.320Z"
   },
   {
    "duration": 135,
    "start_time": "2022-01-28T11:54:30.120Z"
   },
   {
    "duration": 12,
    "start_time": "2022-01-28T11:54:40.280Z"
   },
   {
    "duration": 131,
    "start_time": "2022-01-28T11:55:00.609Z"
   },
   {
    "duration": 13,
    "start_time": "2022-01-28T11:55:07.138Z"
   },
   {
    "duration": 13,
    "start_time": "2022-01-28T11:55:36.673Z"
   },
   {
    "duration": 13,
    "start_time": "2022-01-28T11:55:45.258Z"
   },
   {
    "duration": 367,
    "start_time": "2022-01-28T11:55:53.499Z"
   },
   {
    "duration": 17,
    "start_time": "2022-01-28T11:56:34.548Z"
   },
   {
    "duration": 285,
    "start_time": "2022-01-28T11:58:45.641Z"
   },
   {
    "duration": 20,
    "start_time": "2022-01-28T11:58:58.354Z"
   },
   {
    "duration": 13,
    "start_time": "2022-01-28T11:59:20.915Z"
   },
   {
    "duration": 16,
    "start_time": "2022-01-28T11:59:26.241Z"
   },
   {
    "duration": 272,
    "start_time": "2022-01-28T11:59:34.170Z"
   },
   {
    "duration": 295,
    "start_time": "2022-01-28T11:59:39.964Z"
   },
   {
    "duration": 317,
    "start_time": "2022-01-28T11:59:54.627Z"
   },
   {
    "duration": 14,
    "start_time": "2022-01-28T12:00:02.748Z"
   },
   {
    "duration": 297,
    "start_time": "2022-01-28T12:02:11.200Z"
   },
   {
    "duration": 14,
    "start_time": "2022-01-28T12:03:14.595Z"
   },
   {
    "duration": 13,
    "start_time": "2022-01-28T12:03:48.853Z"
   },
   {
    "duration": 294,
    "start_time": "2022-01-28T12:04:13.916Z"
   },
   {
    "duration": 313,
    "start_time": "2022-01-28T12:04:57.797Z"
   },
   {
    "duration": 309,
    "start_time": "2022-01-28T12:05:18.959Z"
   },
   {
    "duration": 990,
    "start_time": "2022-01-28T12:05:40.777Z"
   },
   {
    "duration": 381,
    "start_time": "2022-01-28T12:08:39.552Z"
   },
   {
    "duration": 661,
    "start_time": "2022-01-28T12:08:44.254Z"
   },
   {
    "duration": 892,
    "start_time": "2022-01-28T12:09:06.200Z"
   },
   {
    "duration": 1922,
    "start_time": "2022-01-28T12:09:13.071Z"
   },
   {
    "duration": 762,
    "start_time": "2022-01-28T12:09:22.065Z"
   },
   {
    "duration": 590,
    "start_time": "2022-01-28T12:09:56.369Z"
   },
   {
    "duration": 622,
    "start_time": "2022-01-28T12:10:14.259Z"
   },
   {
    "duration": 610,
    "start_time": "2022-01-28T12:11:53.183Z"
   },
   {
    "duration": 10,
    "start_time": "2022-01-28T12:12:50.776Z"
   },
   {
    "duration": 21,
    "start_time": "2022-01-28T12:16:12.839Z"
   },
   {
    "duration": 131,
    "start_time": "2022-01-28T12:16:36.676Z"
   },
   {
    "duration": 579,
    "start_time": "2022-01-28T12:16:39.983Z"
   },
   {
    "duration": 570,
    "start_time": "2022-01-28T12:16:57.467Z"
   },
   {
    "duration": 25,
    "start_time": "2022-01-28T12:17:17.418Z"
   },
   {
    "duration": 25,
    "start_time": "2022-01-28T12:19:42.480Z"
   },
   {
    "duration": 22,
    "start_time": "2022-01-28T12:39:35.617Z"
   },
   {
    "duration": 772,
    "start_time": "2022-01-28T12:47:34.020Z"
   },
   {
    "duration": 26,
    "start_time": "2022-01-28T12:48:10.654Z"
   },
   {
    "duration": 24,
    "start_time": "2022-01-28T12:48:34.516Z"
   },
   {
    "duration": 12,
    "start_time": "2022-01-28T12:48:46.168Z"
   },
   {
    "duration": 13,
    "start_time": "2022-01-28T12:48:52.663Z"
   },
   {
    "duration": 10,
    "start_time": "2022-01-28T12:49:09.783Z"
   },
   {
    "duration": 9,
    "start_time": "2022-01-28T12:49:29.232Z"
   },
   {
    "duration": 622,
    "start_time": "2022-01-28T12:50:19.232Z"
   },
   {
    "duration": 1749,
    "start_time": "2022-01-28T12:50:43.924Z"
   },
   {
    "duration": 3201,
    "start_time": "2022-01-28T12:51:03.611Z"
   },
   {
    "duration": 478,
    "start_time": "2022-01-28T12:53:02.655Z"
   },
   {
    "duration": 20,
    "start_time": "2022-01-28T13:00:22.647Z"
   },
   {
    "duration": 6,
    "start_time": "2022-01-28T13:06:06.620Z"
   },
   {
    "duration": 22,
    "start_time": "2022-01-28T13:29:46.064Z"
   },
   {
    "duration": 5,
    "start_time": "2022-01-28T13:48:18.899Z"
   },
   {
    "duration": 10,
    "start_time": "2022-01-28T13:48:20.036Z"
   },
   {
    "duration": 1758,
    "start_time": "2022-01-28T14:00:42.103Z"
   },
   {
    "duration": 511,
    "start_time": "2022-01-28T14:00:43.864Z"
   },
   {
    "duration": 85,
    "start_time": "2022-01-28T14:00:44.378Z"
   },
   {
    "duration": 149,
    "start_time": "2022-01-28T14:00:44.467Z"
   },
   {
    "duration": 70,
    "start_time": "2022-01-28T14:00:44.618Z"
   },
   {
    "duration": 99,
    "start_time": "2022-01-28T14:00:44.691Z"
   },
   {
    "duration": 63,
    "start_time": "2022-01-28T14:00:44.793Z"
   },
   {
    "duration": 31,
    "start_time": "2022-01-28T14:00:44.860Z"
   },
   {
    "duration": 107,
    "start_time": "2022-01-28T14:00:44.894Z"
   },
   {
    "duration": 79,
    "start_time": "2022-01-28T14:00:45.004Z"
   },
   {
    "duration": 69,
    "start_time": "2022-01-28T14:00:45.086Z"
   },
   {
    "duration": 22,
    "start_time": "2022-01-28T14:00:45.157Z"
   },
   {
    "duration": 88,
    "start_time": "2022-01-28T14:00:45.181Z"
   },
   {
    "duration": 65,
    "start_time": "2022-01-28T14:00:45.271Z"
   },
   {
    "duration": 47,
    "start_time": "2022-01-28T14:00:45.339Z"
   },
   {
    "duration": 37,
    "start_time": "2022-01-28T14:00:45.389Z"
   },
   {
    "duration": 296,
    "start_time": "2022-01-28T14:00:45.429Z"
   },
   {
    "duration": 304,
    "start_time": "2022-01-28T14:00:45.728Z"
   },
   {
    "duration": 51,
    "start_time": "2022-01-28T14:00:46.034Z"
   },
   {
    "duration": 53,
    "start_time": "2022-01-28T14:00:46.088Z"
   },
   {
    "duration": 589,
    "start_time": "2022-01-28T14:00:46.143Z"
   },
   {
    "duration": 34,
    "start_time": "2022-01-28T14:00:46.734Z"
   },
   {
    "duration": 55,
    "start_time": "2022-01-28T14:00:46.772Z"
   },
   {
    "duration": 28,
    "start_time": "2022-01-28T14:00:46.830Z"
   },
   {
    "duration": 1544,
    "start_time": "2022-01-28T14:00:46.860Z"
   },
   {
    "duration": 1740,
    "start_time": "2022-01-28T14:00:48.406Z"
   },
   {
    "duration": 463,
    "start_time": "2022-01-28T14:00:50.148Z"
   },
   {
    "duration": 513,
    "start_time": "2022-01-28T14:00:50.614Z"
   },
   {
    "duration": 462,
    "start_time": "2022-01-28T14:00:51.130Z"
   },
   {
    "duration": 455,
    "start_time": "2022-01-28T14:00:51.594Z"
   },
   {
    "duration": 78,
    "start_time": "2022-01-28T14:00:52.055Z"
   },
   {
    "duration": 7,
    "start_time": "2022-01-28T14:00:52.135Z"
   },
   {
    "duration": 14,
    "start_time": "2022-01-28T14:00:52.145Z"
   },
   {
    "duration": 22,
    "start_time": "2022-01-28T14:00:52.161Z"
   },
   {
    "duration": 40,
    "start_time": "2022-01-28T14:00:52.186Z"
   },
   {
    "duration": 7,
    "start_time": "2022-01-28T14:00:52.229Z"
   },
   {
    "duration": 275,
    "start_time": "2022-01-31T08:51:35.722Z"
   },
   {
    "duration": 1260,
    "start_time": "2022-01-31T08:51:41.438Z"
   },
   {
    "duration": 450,
    "start_time": "2022-01-31T08:51:42.700Z"
   },
   {
    "duration": 64,
    "start_time": "2022-01-31T08:51:43.152Z"
   },
   {
    "duration": 112,
    "start_time": "2022-01-31T08:51:43.219Z"
   },
   {
    "duration": 52,
    "start_time": "2022-01-31T08:51:43.332Z"
   },
   {
    "duration": 66,
    "start_time": "2022-01-31T08:51:43.386Z"
   },
   {
    "duration": 15,
    "start_time": "2022-01-31T08:51:43.454Z"
   },
   {
    "duration": 62,
    "start_time": "2022-01-31T08:51:43.472Z"
   },
   {
    "duration": 87,
    "start_time": "2022-01-31T08:51:43.536Z"
   },
   {
    "duration": 47,
    "start_time": "2022-01-31T08:51:43.625Z"
   },
   {
    "duration": 65,
    "start_time": "2022-01-31T08:51:43.674Z"
   },
   {
    "duration": 16,
    "start_time": "2022-01-31T08:51:43.741Z"
   },
   {
    "duration": 72,
    "start_time": "2022-01-31T08:51:43.759Z"
   },
   {
    "duration": 37,
    "start_time": "2022-01-31T08:51:43.834Z"
   },
   {
    "duration": 59,
    "start_time": "2022-01-31T08:51:43.873Z"
   },
   {
    "duration": 9,
    "start_time": "2022-01-31T08:51:43.935Z"
   },
   {
    "duration": 211,
    "start_time": "2022-01-31T08:51:43.946Z"
   },
   {
    "duration": 210,
    "start_time": "2022-01-31T08:51:44.159Z"
   },
   {
    "duration": 1740,
    "start_time": "2022-01-31T08:51:44.371Z"
   },
   {
    "duration": 38,
    "start_time": "2022-01-31T08:51:46.114Z"
   },
   {
    "duration": 20,
    "start_time": "2022-01-31T08:51:46.154Z"
   },
   {
    "duration": 453,
    "start_time": "2022-01-31T08:51:46.176Z"
   },
   {
    "duration": 27,
    "start_time": "2022-01-31T08:51:46.633Z"
   },
   {
    "duration": 22,
    "start_time": "2022-01-31T08:51:46.662Z"
   },
   {
    "duration": 40,
    "start_time": "2022-01-31T08:51:46.686Z"
   },
   {
    "duration": 1111,
    "start_time": "2022-01-31T08:51:46.728Z"
   },
   {
    "duration": 1047,
    "start_time": "2022-01-31T08:51:47.841Z"
   },
   {
    "duration": 312,
    "start_time": "2022-01-31T08:51:48.890Z"
   },
   {
    "duration": 338,
    "start_time": "2022-01-31T08:51:49.203Z"
   },
   {
    "duration": 323,
    "start_time": "2022-01-31T08:51:49.543Z"
   },
   {
    "duration": 782,
    "start_time": "2022-01-31T08:51:49.869Z"
   },
   {
    "duration": 58,
    "start_time": "2022-01-31T08:51:50.653Z"
   },
   {
    "duration": 8,
    "start_time": "2022-01-31T08:51:50.714Z"
   },
   {
    "duration": 27,
    "start_time": "2022-01-31T08:51:50.725Z"
   },
   {
    "duration": 32,
    "start_time": "2022-01-31T08:51:50.753Z"
   },
   {
    "duration": 16,
    "start_time": "2022-01-31T08:51:50.787Z"
   },
   {
    "duration": 17,
    "start_time": "2022-01-31T08:51:50.805Z"
   },
   {
    "duration": 454,
    "start_time": "2022-01-31T08:52:27.714Z"
   },
   {
    "duration": 450,
    "start_time": "2022-01-31T08:53:29.489Z"
   },
   {
    "duration": 454,
    "start_time": "2022-01-31T08:53:38.505Z"
   },
   {
    "duration": 444,
    "start_time": "2022-01-31T08:53:45.078Z"
   },
   {
    "duration": 584,
    "start_time": "2022-01-31T08:53:51.465Z"
   },
   {
    "duration": 453,
    "start_time": "2022-01-31T08:53:58.401Z"
   },
   {
    "duration": 472,
    "start_time": "2022-01-31T08:54:05.711Z"
   },
   {
    "duration": 509,
    "start_time": "2022-01-31T08:54:10.871Z"
   },
   {
    "duration": 839,
    "start_time": "2022-01-31T08:54:18.093Z"
   },
   {
    "duration": 545,
    "start_time": "2022-01-31T08:54:30.120Z"
   },
   {
    "duration": 275,
    "start_time": "2022-01-31T08:54:40.447Z"
   },
   {
    "duration": 500,
    "start_time": "2022-01-31T08:54:51.751Z"
   },
   {
    "duration": 508,
    "start_time": "2022-01-31T09:01:25.378Z"
   },
   {
    "duration": 16,
    "start_time": "2022-01-31T09:09:58.402Z"
   },
   {
    "duration": 26,
    "start_time": "2022-01-31T09:12:50.140Z"
   },
   {
    "duration": 252,
    "start_time": "2022-01-31T09:13:49.572Z"
   },
   {
    "duration": 32,
    "start_time": "2022-01-31T09:14:06.499Z"
   },
   {
    "duration": 4,
    "start_time": "2022-01-31T09:15:13.285Z"
   },
   {
    "duration": 493,
    "start_time": "2022-01-31T09:15:13.291Z"
   },
   {
    "duration": 57,
    "start_time": "2022-01-31T09:15:13.788Z"
   },
   {
    "duration": 109,
    "start_time": "2022-01-31T09:15:13.847Z"
   },
   {
    "duration": 76,
    "start_time": "2022-01-31T09:15:13.958Z"
   },
   {
    "duration": 42,
    "start_time": "2022-01-31T09:15:14.036Z"
   },
   {
    "duration": 16,
    "start_time": "2022-01-31T09:15:14.109Z"
   },
   {
    "duration": 25,
    "start_time": "2022-01-31T09:15:14.127Z"
   },
   {
    "duration": 116,
    "start_time": "2022-01-31T09:15:14.154Z"
   },
   {
    "duration": 59,
    "start_time": "2022-01-31T09:15:14.272Z"
   },
   {
    "duration": 46,
    "start_time": "2022-01-31T09:15:14.334Z"
   },
   {
    "duration": 35,
    "start_time": "2022-01-31T09:15:14.382Z"
   },
   {
    "duration": 49,
    "start_time": "2022-01-31T09:15:14.419Z"
   },
   {
    "duration": 69,
    "start_time": "2022-01-31T09:15:14.469Z"
   },
   {
    "duration": 35,
    "start_time": "2022-01-31T09:15:14.540Z"
   },
   {
    "duration": 9,
    "start_time": "2022-01-31T09:15:14.577Z"
   },
   {
    "duration": 200,
    "start_time": "2022-01-31T09:15:14.608Z"
   },
   {
    "duration": 237,
    "start_time": "2022-01-31T09:15:14.810Z"
   },
   {
    "duration": 623,
    "start_time": "2022-01-31T09:15:15.051Z"
   },
   {
    "duration": 56,
    "start_time": "2022-01-31T09:15:15.677Z"
   },
   {
    "duration": 19,
    "start_time": "2022-01-31T09:15:15.734Z"
   },
   {
    "duration": 591,
    "start_time": "2022-01-31T09:15:15.756Z"
   },
   {
    "duration": 26,
    "start_time": "2022-01-31T09:15:16.349Z"
   },
   {
    "duration": 43,
    "start_time": "2022-01-31T09:15:16.377Z"
   },
   {
    "duration": 22,
    "start_time": "2022-01-31T09:15:16.422Z"
   },
   {
    "duration": 1398,
    "start_time": "2022-01-31T09:15:16.446Z"
   },
   {
    "duration": 1091,
    "start_time": "2022-01-31T09:15:17.846Z"
   },
   {
    "duration": 328,
    "start_time": "2022-01-31T09:15:18.939Z"
   },
   {
    "duration": 424,
    "start_time": "2022-01-31T09:15:19.269Z"
   },
   {
    "duration": 516,
    "start_time": "2022-01-31T09:15:19.696Z"
   },
   {
    "duration": 496,
    "start_time": "2022-01-31T09:15:20.214Z"
   },
   {
    "duration": 53,
    "start_time": "2022-01-31T09:15:20.712Z"
   },
   {
    "duration": 5,
    "start_time": "2022-01-31T09:15:20.768Z"
   },
   {
    "duration": 48,
    "start_time": "2022-01-31T09:15:20.775Z"
   },
   {
    "duration": 20,
    "start_time": "2022-01-31T09:15:20.825Z"
   },
   {
    "duration": 7,
    "start_time": "2022-01-31T09:15:20.847Z"
   },
   {
    "duration": 11,
    "start_time": "2022-01-31T09:15:20.856Z"
   },
   {
    "duration": 5,
    "start_time": "2022-01-31T09:24:17.210Z"
   },
   {
    "duration": 64,
    "start_time": "2022-01-31T09:26:45.567Z"
   },
   {
    "duration": 51,
    "start_time": "2022-01-31T09:33:28.787Z"
   },
   {
    "duration": 46,
    "start_time": "2022-01-31T09:34:44.834Z"
   },
   {
    "duration": 215,
    "start_time": "2022-01-31T09:36:50.342Z"
   },
   {
    "duration": 44,
    "start_time": "2022-01-31T09:37:14.630Z"
   },
   {
    "duration": 46,
    "start_time": "2022-01-31T09:37:38.318Z"
   },
   {
    "duration": 80,
    "start_time": "2022-01-31T09:48:59.269Z"
   },
   {
    "duration": -106,
    "start_time": "2022-01-31T09:48:59.457Z"
   },
   {
    "duration": 359,
    "start_time": "2022-01-31T09:49:28.227Z"
   },
   {
    "duration": 348,
    "start_time": "2022-01-31T09:51:03.007Z"
   },
   {
    "duration": 80,
    "start_time": "2022-01-31T09:55:45.564Z"
   },
   {
    "duration": 416,
    "start_time": "2022-01-31T09:56:25.490Z"
   },
   {
    "duration": 393,
    "start_time": "2022-01-31T09:57:32.200Z"
   },
   {
    "duration": 314,
    "start_time": "2022-01-31T09:58:47.645Z"
   },
   {
    "duration": 46,
    "start_time": "2022-01-31T10:07:53.313Z"
   },
   {
    "duration": 16,
    "start_time": "2022-01-31T10:13:03.058Z"
   },
   {
    "duration": 6,
    "start_time": "2022-01-31T10:13:12.489Z"
   },
   {
    "duration": 7,
    "start_time": "2022-01-31T10:18:44.339Z"
   },
   {
    "duration": 7,
    "start_time": "2022-01-31T10:19:35.443Z"
   },
   {
    "duration": 233,
    "start_time": "2022-01-31T10:23:32.911Z"
   },
   {
    "duration": 4,
    "start_time": "2022-01-31T10:23:46.856Z"
   },
   {
    "duration": 456,
    "start_time": "2022-01-31T10:23:46.862Z"
   },
   {
    "duration": 57,
    "start_time": "2022-01-31T10:23:47.321Z"
   },
   {
    "duration": 140,
    "start_time": "2022-01-31T10:23:47.381Z"
   },
   {
    "duration": 53,
    "start_time": "2022-01-31T10:23:47.524Z"
   },
   {
    "duration": 65,
    "start_time": "2022-01-31T10:23:47.579Z"
   },
   {
    "duration": 18,
    "start_time": "2022-01-31T10:23:47.646Z"
   },
   {
    "duration": 59,
    "start_time": "2022-01-31T10:23:47.668Z"
   },
   {
    "duration": 86,
    "start_time": "2022-01-31T10:23:47.730Z"
   },
   {
    "duration": 46,
    "start_time": "2022-01-31T10:23:47.818Z"
   },
   {
    "duration": 54,
    "start_time": "2022-01-31T10:23:47.866Z"
   },
   {
    "duration": 15,
    "start_time": "2022-01-31T10:23:47.922Z"
   },
   {
    "duration": 50,
    "start_time": "2022-01-31T10:23:47.939Z"
   },
   {
    "duration": 38,
    "start_time": "2022-01-31T10:23:48.007Z"
   },
   {
    "duration": 37,
    "start_time": "2022-01-31T10:23:48.047Z"
   },
   {
    "duration": 30,
    "start_time": "2022-01-31T10:23:48.085Z"
   },
   {
    "duration": 193,
    "start_time": "2022-01-31T10:23:48.117Z"
   },
   {
    "duration": 198,
    "start_time": "2022-01-31T10:23:48.312Z"
   },
   {
    "duration": 517,
    "start_time": "2022-01-31T10:23:48.512Z"
   },
   {
    "duration": 39,
    "start_time": "2022-01-31T10:23:49.032Z"
   },
   {
    "duration": 36,
    "start_time": "2022-01-31T10:23:49.073Z"
   },
   {
    "duration": 406,
    "start_time": "2022-01-31T10:23:49.110Z"
   },
   {
    "duration": 28,
    "start_time": "2022-01-31T10:23:49.519Z"
   },
   {
    "duration": 5,
    "start_time": "2022-01-31T10:23:49.550Z"
   },
   {
    "duration": 25,
    "start_time": "2022-01-31T10:23:49.557Z"
   },
   {
    "duration": 1193,
    "start_time": "2022-01-31T10:23:49.584Z"
   },
   {
    "duration": 1102,
    "start_time": "2022-01-31T10:23:50.779Z"
   },
   {
    "duration": 13,
    "start_time": "2022-01-31T10:23:51.883Z"
   },
   {
    "duration": 304,
    "start_time": "2022-01-31T10:23:51.907Z"
   },
   {
    "duration": 380,
    "start_time": "2022-01-31T10:23:52.213Z"
   },
   {
    "duration": 321,
    "start_time": "2022-01-31T10:23:52.595Z"
   },
   {
    "duration": 376,
    "start_time": "2022-01-31T10:23:52.918Z"
   },
   {
    "duration": 363,
    "start_time": "2022-01-31T10:23:53.297Z"
   },
   {
    "duration": 387,
    "start_time": "2022-01-31T10:23:53.662Z"
   },
   {
    "duration": 71,
    "start_time": "2022-01-31T10:23:54.052Z"
   },
   {
    "duration": 13,
    "start_time": "2022-01-31T10:23:54.126Z"
   },
   {
    "duration": 20,
    "start_time": "2022-01-31T10:23:54.141Z"
   },
   {
    "duration": 16,
    "start_time": "2022-01-31T10:23:54.163Z"
   },
   {
    "duration": 35,
    "start_time": "2022-01-31T10:23:54.181Z"
   },
   {
    "duration": 14,
    "start_time": "2022-01-31T10:23:54.219Z"
   },
   {
    "duration": 6,
    "start_time": "2022-01-31T10:23:54.235Z"
   },
   {
    "duration": 8,
    "start_time": "2022-01-31T10:29:40.887Z"
   },
   {
    "duration": 8,
    "start_time": "2022-01-31T10:31:01.646Z"
   },
   {
    "duration": 299,
    "start_time": "2022-01-31T10:31:26.904Z"
   },
   {
    "duration": 7,
    "start_time": "2022-01-31T10:31:32.924Z"
   },
   {
    "duration": 2432,
    "start_time": "2022-01-31T14:40:38.401Z"
   },
   {
    "duration": 1185,
    "start_time": "2022-01-31T14:41:50.273Z"
   },
   {
    "duration": 409,
    "start_time": "2022-01-31T14:41:51.460Z"
   },
   {
    "duration": 56,
    "start_time": "2022-01-31T14:41:51.872Z"
   },
   {
    "duration": 118,
    "start_time": "2022-01-31T14:41:51.930Z"
   },
   {
    "duration": 66,
    "start_time": "2022-01-31T14:41:52.050Z"
   },
   {
    "duration": 38,
    "start_time": "2022-01-31T14:41:52.118Z"
   },
   {
    "duration": 46,
    "start_time": "2022-01-31T14:41:52.158Z"
   },
   {
    "duration": 21,
    "start_time": "2022-01-31T14:41:52.206Z"
   },
   {
    "duration": 88,
    "start_time": "2022-01-31T14:41:52.230Z"
   },
   {
    "duration": 47,
    "start_time": "2022-01-31T14:41:52.321Z"
   },
   {
    "duration": 54,
    "start_time": "2022-01-31T14:41:52.370Z"
   },
   {
    "duration": 15,
    "start_time": "2022-01-31T14:41:52.426Z"
   },
   {
    "duration": 69,
    "start_time": "2022-01-31T14:41:52.443Z"
   },
   {
    "duration": 36,
    "start_time": "2022-01-31T14:41:52.514Z"
   },
   {
    "duration": 53,
    "start_time": "2022-01-31T14:41:52.552Z"
   },
   {
    "duration": 9,
    "start_time": "2022-01-31T14:41:52.607Z"
   },
   {
    "duration": 221,
    "start_time": "2022-01-31T14:41:52.618Z"
   },
   {
    "duration": 224,
    "start_time": "2022-01-31T14:41:52.841Z"
   },
   {
    "duration": 591,
    "start_time": "2022-01-31T14:41:53.067Z"
   },
   {
    "duration": 46,
    "start_time": "2022-01-31T14:41:53.660Z"
   },
   {
    "duration": 20,
    "start_time": "2022-01-31T14:41:53.708Z"
   },
   {
    "duration": 374,
    "start_time": "2022-01-31T14:41:53.730Z"
   },
   {
    "duration": 24,
    "start_time": "2022-01-31T14:41:54.106Z"
   },
   {
    "duration": 3,
    "start_time": "2022-01-31T14:41:54.132Z"
   },
   {
    "duration": 18,
    "start_time": "2022-01-31T14:41:54.137Z"
   },
   {
    "duration": 46,
    "start_time": "2022-01-31T14:41:54.156Z"
   },
   {
    "duration": 1089,
    "start_time": "2022-01-31T14:41:54.206Z"
   },
   {
    "duration": 989,
    "start_time": "2022-01-31T14:41:55.299Z"
   },
   {
    "duration": 17,
    "start_time": "2022-01-31T14:41:56.290Z"
   },
   {
    "duration": 335,
    "start_time": "2022-01-31T14:41:56.309Z"
   },
   {
    "duration": 432,
    "start_time": "2022-01-31T14:41:56.646Z"
   },
   {
    "duration": 364,
    "start_time": "2022-01-31T14:41:57.080Z"
   },
   {
    "duration": 409,
    "start_time": "2022-01-31T14:41:57.446Z"
   },
   {
    "duration": 349,
    "start_time": "2022-01-31T14:41:57.857Z"
   },
   {
    "duration": 362,
    "start_time": "2022-01-31T14:41:58.209Z"
   },
   {
    "duration": 225,
    "start_time": "2022-01-31T14:41:58.573Z"
   },
   {
    "duration": 5,
    "start_time": "2022-01-31T14:41:58.800Z"
   },
   {
    "duration": 25,
    "start_time": "2022-01-31T14:41:58.807Z"
   },
   {
    "duration": 68,
    "start_time": "2022-01-31T14:41:58.833Z"
   },
   {
    "duration": 17,
    "start_time": "2022-01-31T14:41:58.902Z"
   },
   {
    "duration": 7,
    "start_time": "2022-01-31T14:41:58.921Z"
   },
   {
    "duration": 11,
    "start_time": "2022-01-31T14:41:58.929Z"
   },
   {
    "duration": 73,
    "start_time": "2022-01-31T14:42:51.329Z"
   },
   {
    "duration": 556,
    "start_time": "2022-01-31T14:43:32.594Z"
   },
   {
    "duration": 60,
    "start_time": "2022-01-31T14:43:43.883Z"
   },
   {
    "duration": 28,
    "start_time": "2022-01-31T14:43:51.530Z"
   },
   {
    "duration": 1111,
    "start_time": "2022-01-31T15:31:41.455Z"
   },
   {
    "duration": 444,
    "start_time": "2022-01-31T15:31:42.568Z"
   },
   {
    "duration": 60,
    "start_time": "2022-01-31T15:31:43.014Z"
   },
   {
    "duration": 115,
    "start_time": "2022-01-31T15:31:43.076Z"
   },
   {
    "duration": 52,
    "start_time": "2022-01-31T15:31:43.199Z"
   },
   {
    "duration": 64,
    "start_time": "2022-01-31T15:31:43.253Z"
   },
   {
    "duration": 16,
    "start_time": "2022-01-31T15:31:43.319Z"
   },
   {
    "duration": 20,
    "start_time": "2022-01-31T15:31:43.337Z"
   },
   {
    "duration": 93,
    "start_time": "2022-01-31T15:31:43.359Z"
   },
   {
    "duration": 58,
    "start_time": "2022-01-31T15:31:43.453Z"
   },
   {
    "duration": 39,
    "start_time": "2022-01-31T15:31:43.513Z"
   },
   {
    "duration": 15,
    "start_time": "2022-01-31T15:31:43.553Z"
   },
   {
    "duration": 71,
    "start_time": "2022-01-31T15:31:43.569Z"
   },
   {
    "duration": 36,
    "start_time": "2022-01-31T15:31:43.642Z"
   },
   {
    "duration": 49,
    "start_time": "2022-01-31T15:31:43.679Z"
   },
   {
    "duration": 8,
    "start_time": "2022-01-31T15:31:43.730Z"
   },
   {
    "duration": 207,
    "start_time": "2022-01-31T15:31:43.740Z"
   },
   {
    "duration": 212,
    "start_time": "2022-01-31T15:31:43.949Z"
   },
   {
    "duration": 566,
    "start_time": "2022-01-31T15:31:44.163Z"
   },
   {
    "duration": 35,
    "start_time": "2022-01-31T15:31:44.731Z"
   },
   {
    "duration": 33,
    "start_time": "2022-01-31T15:31:44.767Z"
   },
   {
    "duration": 363,
    "start_time": "2022-01-31T15:31:44.801Z"
   },
   {
    "duration": 31,
    "start_time": "2022-01-31T15:31:45.168Z"
   },
   {
    "duration": 4,
    "start_time": "2022-01-31T15:31:45.201Z"
   },
   {
    "duration": 23,
    "start_time": "2022-01-31T15:31:45.207Z"
   },
   {
    "duration": 1100,
    "start_time": "2022-01-31T15:31:45.232Z"
   },
   {
    "duration": 1184,
    "start_time": "2022-01-31T15:31:46.334Z"
   },
   {
    "duration": 11,
    "start_time": "2022-01-31T15:31:47.520Z"
   },
   {
    "duration": 337,
    "start_time": "2022-01-31T15:31:47.533Z"
   },
   {
    "duration": 434,
    "start_time": "2022-01-31T15:31:47.873Z"
   },
   {
    "duration": 361,
    "start_time": "2022-01-31T15:31:48.310Z"
   },
   {
    "duration": 392,
    "start_time": "2022-01-31T15:31:48.673Z"
   },
   {
    "duration": 353,
    "start_time": "2022-01-31T15:31:49.067Z"
   },
   {
    "duration": 368,
    "start_time": "2022-01-31T15:31:49.422Z"
   },
   {
    "duration": 53,
    "start_time": "2022-01-31T15:31:49.792Z"
   },
   {
    "duration": 5,
    "start_time": "2022-01-31T15:31:49.846Z"
   },
   {
    "duration": 16,
    "start_time": "2022-01-31T15:31:49.852Z"
   },
   {
    "duration": 39,
    "start_time": "2022-01-31T15:31:49.870Z"
   },
   {
    "duration": 19,
    "start_time": "2022-01-31T15:31:49.912Z"
   },
   {
    "duration": 7,
    "start_time": "2022-01-31T15:31:49.933Z"
   },
   {
    "duration": 6,
    "start_time": "2022-01-31T15:31:49.942Z"
   },
   {
    "duration": 311,
    "start_time": "2022-01-31T15:31:49.950Z"
   },
   {
    "duration": 363,
    "start_time": "2022-01-31T15:33:16.785Z"
   },
   {
    "duration": 285,
    "start_time": "2022-01-31T15:33:24.089Z"
   },
   {
    "duration": 4,
    "start_time": "2022-01-31T15:33:38.394Z"
   },
   {
    "duration": 255,
    "start_time": "2022-01-31T15:34:17.340Z"
   },
   {
    "duration": 18,
    "start_time": "2022-01-31T15:38:10.179Z"
   },
   {
    "duration": 21,
    "start_time": "2022-01-31T15:39:17.679Z"
   },
   {
    "duration": 827,
    "start_time": "2022-01-31T15:39:41.431Z"
   },
   {
    "duration": 635,
    "start_time": "2022-01-31T15:39:59.950Z"
   },
   {
    "duration": 804,
    "start_time": "2022-01-31T15:40:29.674Z"
   },
   {
    "duration": 777,
    "start_time": "2022-01-31T15:40:39.674Z"
   },
   {
    "duration": 904,
    "start_time": "2022-01-31T15:40:47.738Z"
   },
   {
    "duration": 11173,
    "start_time": "2022-01-31T15:41:50.607Z"
   },
   {
    "duration": 22,
    "start_time": "2022-01-31T15:43:01.649Z"
   },
   {
    "duration": 19,
    "start_time": "2022-01-31T15:43:10.737Z"
   },
   {
    "duration": 18,
    "start_time": "2022-01-31T15:44:52.509Z"
   },
   {
    "duration": 187,
    "start_time": "2022-01-31T15:44:59.132Z"
   },
   {
    "duration": 29,
    "start_time": "2022-01-31T15:45:04.788Z"
   },
   {
    "duration": 30,
    "start_time": "2022-01-31T15:45:25.789Z"
   },
   {
    "duration": 26,
    "start_time": "2022-01-31T15:46:04.815Z"
   },
   {
    "duration": 1573,
    "start_time": "2022-01-31T15:46:11.023Z"
   },
   {
    "duration": 28,
    "start_time": "2022-01-31T15:47:40.610Z"
   },
   {
    "duration": 932,
    "start_time": "2022-01-31T15:47:43.554Z"
   },
   {
    "duration": 1054,
    "start_time": "2022-01-31T15:49:06.253Z"
   },
   {
    "duration": 1186,
    "start_time": "2022-01-31T15:49:20.692Z"
   },
   {
    "duration": 4,
    "start_time": "2022-01-31T15:49:30.614Z"
   },
   {
    "duration": 1166,
    "start_time": "2022-01-31T15:49:33.134Z"
   },
   {
    "duration": 3,
    "start_time": "2022-01-31T15:51:55.323Z"
   },
   {
    "duration": 1035,
    "start_time": "2022-01-31T15:51:57.365Z"
   },
   {
    "duration": 1188,
    "start_time": "2022-01-31T15:52:10.499Z"
   },
   {
    "duration": 1303,
    "start_time": "2022-01-31T15:53:03.382Z"
   },
   {
    "duration": 32,
    "start_time": "2022-01-31T15:55:03.201Z"
   },
   {
    "duration": 67,
    "start_time": "2022-01-31T15:55:09.697Z"
   },
   {
    "duration": 69,
    "start_time": "2022-01-31T15:55:18.576Z"
   },
   {
    "duration": 62,
    "start_time": "2022-01-31T15:55:24.889Z"
   },
   {
    "duration": 194,
    "start_time": "2022-01-31T15:55:30.273Z"
   },
   {
    "duration": 209,
    "start_time": "2022-01-31T15:56:01.003Z"
   },
   {
    "duration": 37,
    "start_time": "2022-01-31T15:56:23.891Z"
   },
   {
    "duration": 3429,
    "start_time": "2022-01-31T15:57:42.646Z"
   },
   {
    "duration": 59,
    "start_time": "2022-01-31T15:57:53.231Z"
   },
   {
    "duration": 37,
    "start_time": "2022-01-31T15:57:56.281Z"
   },
   {
    "duration": 29,
    "start_time": "2022-01-31T15:58:08.000Z"
   },
   {
    "duration": 27,
    "start_time": "2022-01-31T15:58:26.320Z"
   },
   {
    "duration": 26,
    "start_time": "2022-01-31T15:59:13.729Z"
   },
   {
    "duration": 25,
    "start_time": "2022-01-31T15:59:31.202Z"
   },
   {
    "duration": 3,
    "start_time": "2022-01-31T15:59:54.186Z"
   },
   {
    "duration": 369,
    "start_time": "2022-01-31T16:09:06.279Z"
   },
   {
    "duration": 371,
    "start_time": "2022-01-31T16:09:13.127Z"
   },
   {
    "duration": 321,
    "start_time": "2022-01-31T16:09:55.848Z"
   },
   {
    "duration": 401,
    "start_time": "2022-01-31T16:10:01.097Z"
   },
   {
    "duration": 389,
    "start_time": "2022-01-31T16:10:07.393Z"
   },
   {
    "duration": 379,
    "start_time": "2022-01-31T16:10:15.257Z"
   },
   {
    "duration": 392,
    "start_time": "2022-01-31T16:10:23.162Z"
   },
   {
    "duration": 468,
    "start_time": "2022-01-31T16:10:52.419Z"
   },
   {
    "duration": 367,
    "start_time": "2022-01-31T16:10:59.315Z"
   },
   {
    "duration": 384,
    "start_time": "2022-01-31T16:11:18.780Z"
   },
   {
    "duration": 25,
    "start_time": "2022-01-31T16:12:51.143Z"
   },
   {
    "duration": 1160,
    "start_time": "2022-01-31T16:12:58.527Z"
   },
   {
    "duration": 24,
    "start_time": "2022-01-31T16:16:23.887Z"
   },
   {
    "duration": 1195,
    "start_time": "2022-01-31T16:16:29.167Z"
   },
   {
    "duration": 11,
    "start_time": "2022-01-31T16:22:00.883Z"
   },
   {
    "duration": 10,
    "start_time": "2022-01-31T16:22:05.659Z"
   },
   {
    "duration": 12,
    "start_time": "2022-01-31T16:22:08.899Z"
   },
   {
    "duration": 17,
    "start_time": "2022-01-31T16:29:47.148Z"
   },
   {
    "duration": 8,
    "start_time": "2022-01-31T16:29:53.812Z"
   },
   {
    "duration": 6,
    "start_time": "2022-01-31T16:30:14.261Z"
   },
   {
    "duration": 6,
    "start_time": "2022-01-31T16:30:32.117Z"
   },
   {
    "duration": 7,
    "start_time": "2022-01-31T16:30:36.981Z"
   },
   {
    "duration": 7,
    "start_time": "2022-01-31T16:31:00.121Z"
   },
   {
    "duration": 19,
    "start_time": "2022-01-31T16:31:01.896Z"
   },
   {
    "duration": 175,
    "start_time": "2022-01-31T16:31:50.768Z"
   },
   {
    "duration": 9,
    "start_time": "2022-01-31T16:31:56.472Z"
   },
   {
    "duration": 5,
    "start_time": "2022-01-31T16:32:11.521Z"
   },
   {
    "duration": 7,
    "start_time": "2022-01-31T16:32:46.723Z"
   },
   {
    "duration": 6,
    "start_time": "2022-01-31T16:33:02.699Z"
   },
   {
    "duration": 8,
    "start_time": "2022-01-31T16:33:37.587Z"
   },
   {
    "duration": 9,
    "start_time": "2022-01-31T16:33:50.037Z"
   },
   {
    "duration": 9,
    "start_time": "2022-01-31T16:33:55.380Z"
   },
   {
    "duration": 9,
    "start_time": "2022-01-31T16:34:02.852Z"
   },
   {
    "duration": 9,
    "start_time": "2022-01-31T16:34:06.349Z"
   },
   {
    "duration": 238,
    "start_time": "2022-01-31T16:38:24.055Z"
   },
   {
    "duration": 642,
    "start_time": "2022-01-31T16:38:29.191Z"
   },
   {
    "duration": 8,
    "start_time": "2022-01-31T16:39:23.050Z"
   },
   {
    "duration": 18,
    "start_time": "2022-01-31T16:39:29.409Z"
   },
   {
    "duration": 8,
    "start_time": "2022-01-31T16:48:37.520Z"
   },
   {
    "duration": 7,
    "start_time": "2022-01-31T16:48:43.237Z"
   },
   {
    "duration": 179,
    "start_time": "2022-01-31T16:49:59.303Z"
   },
   {
    "duration": 20,
    "start_time": "2022-01-31T16:50:05.417Z"
   },
   {
    "duration": 7,
    "start_time": "2022-01-31T16:50:16.129Z"
   },
   {
    "duration": 6,
    "start_time": "2022-01-31T16:50:24.394Z"
   },
   {
    "duration": 8,
    "start_time": "2022-01-31T16:52:25.996Z"
   },
   {
    "duration": 65,
    "start_time": "2022-01-31T16:53:47.835Z"
   },
   {
    "duration": 8,
    "start_time": "2022-01-31T16:53:52.552Z"
   },
   {
    "duration": 445,
    "start_time": "2022-01-31T16:56:27.381Z"
   },
   {
    "duration": 540,
    "start_time": "2022-01-31T16:57:59.761Z"
   },
   {
    "duration": 486,
    "start_time": "2022-01-31T16:58:09.978Z"
   },
   {
    "duration": 1233,
    "start_time": "2022-01-31T16:59:02.216Z"
   },
   {
    "duration": 430,
    "start_time": "2022-01-31T16:59:03.451Z"
   },
   {
    "duration": 59,
    "start_time": "2022-01-31T16:59:03.884Z"
   },
   {
    "duration": 124,
    "start_time": "2022-01-31T16:59:03.945Z"
   },
   {
    "duration": 63,
    "start_time": "2022-01-31T16:59:04.071Z"
   },
   {
    "duration": 67,
    "start_time": "2022-01-31T16:59:04.138Z"
   },
   {
    "duration": 17,
    "start_time": "2022-01-31T16:59:04.207Z"
   },
   {
    "duration": 20,
    "start_time": "2022-01-31T16:59:04.226Z"
   },
   {
    "duration": 97,
    "start_time": "2022-01-31T16:59:04.249Z"
   },
   {
    "duration": 57,
    "start_time": "2022-01-31T16:59:04.348Z"
   },
   {
    "duration": 41,
    "start_time": "2022-01-31T16:59:04.406Z"
   },
   {
    "duration": 15,
    "start_time": "2022-01-31T16:59:04.449Z"
   },
   {
    "duration": 74,
    "start_time": "2022-01-31T16:59:04.466Z"
   },
   {
    "duration": 37,
    "start_time": "2022-01-31T16:59:04.541Z"
   },
   {
    "duration": 49,
    "start_time": "2022-01-31T16:59:04.580Z"
   },
   {
    "duration": 8,
    "start_time": "2022-01-31T16:59:04.631Z"
   },
   {
    "duration": 216,
    "start_time": "2022-01-31T16:59:04.641Z"
   },
   {
    "duration": 230,
    "start_time": "2022-01-31T16:59:04.859Z"
   },
   {
    "duration": 592,
    "start_time": "2022-01-31T16:59:05.091Z"
   },
   {
    "duration": 42,
    "start_time": "2022-01-31T16:59:05.686Z"
   },
   {
    "duration": 20,
    "start_time": "2022-01-31T16:59:05.731Z"
   },
   {
    "duration": 396,
    "start_time": "2022-01-31T16:59:05.754Z"
   },
   {
    "duration": 28,
    "start_time": "2022-01-31T16:59:06.153Z"
   },
   {
    "duration": 20,
    "start_time": "2022-01-31T16:59:06.183Z"
   },
   {
    "duration": 23,
    "start_time": "2022-01-31T16:59:06.205Z"
   },
   {
    "duration": 1087,
    "start_time": "2022-01-31T16:59:06.231Z"
   },
   {
    "duration": 1058,
    "start_time": "2022-01-31T16:59:07.322Z"
   },
   {
    "duration": 18,
    "start_time": "2022-01-31T16:59:08.383Z"
   },
   {
    "duration": 337,
    "start_time": "2022-01-31T16:59:08.402Z"
   },
   {
    "duration": 421,
    "start_time": "2022-01-31T16:59:08.741Z"
   },
   {
    "duration": 344,
    "start_time": "2022-01-31T16:59:09.164Z"
   },
   {
    "duration": 379,
    "start_time": "2022-01-31T16:59:09.510Z"
   },
   {
    "duration": 332,
    "start_time": "2022-01-31T16:59:09.891Z"
   },
   {
    "duration": 348,
    "start_time": "2022-01-31T16:59:10.226Z"
   },
   {
    "duration": 8,
    "start_time": "2022-01-31T16:59:10.577Z"
   },
   {
    "duration": 48,
    "start_time": "2022-01-31T16:59:10.598Z"
   },
   {
    "duration": 5,
    "start_time": "2022-01-31T16:59:10.647Z"
   },
   {
    "duration": 14,
    "start_time": "2022-01-31T16:59:10.654Z"
   },
   {
    "duration": 43,
    "start_time": "2022-01-31T16:59:10.670Z"
   },
   {
    "duration": 18,
    "start_time": "2022-01-31T16:59:10.715Z"
   },
   {
    "duration": 7,
    "start_time": "2022-01-31T16:59:10.736Z"
   },
   {
    "duration": 7,
    "start_time": "2022-01-31T16:59:10.746Z"
   },
   {
    "duration": 306,
    "start_time": "2022-01-31T16:59:10.755Z"
   },
   {
    "duration": 4,
    "start_time": "2022-01-31T16:59:11.062Z"
   },
   {
    "duration": 38,
    "start_time": "2022-01-31T16:59:11.068Z"
   },
   {
    "duration": 1019,
    "start_time": "2022-01-31T16:59:11.108Z"
   },
   {
    "duration": 300,
    "start_time": "2022-01-31T17:03:26.579Z"
   },
   {
    "duration": 8,
    "start_time": "2022-01-31T17:03:41.364Z"
   },
   {
    "duration": 191,
    "start_time": "2022-01-31T17:03:47.308Z"
   },
   {
    "duration": 177,
    "start_time": "2022-01-31T17:03:53.539Z"
   },
   {
    "duration": 9,
    "start_time": "2022-01-31T17:03:58.891Z"
   },
   {
    "duration": -272,
    "start_time": "2022-01-31T17:04:29.866Z"
   },
   {
    "duration": 32,
    "start_time": "2022-01-31T17:04:32.043Z"
   },
   {
    "duration": 22,
    "start_time": "2022-01-31T17:05:15.350Z"
   },
   {
    "duration": 186,
    "start_time": "2022-01-31T17:05:36.672Z"
   },
   {
    "duration": 4570,
    "start_time": "2022-01-31T17:05:41.135Z"
   },
   {
    "duration": 20,
    "start_time": "2022-01-31T17:05:51.160Z"
   },
   {
    "duration": 1236,
    "start_time": "2022-01-31T17:32:14.022Z"
   },
   {
    "duration": 423,
    "start_time": "2022-01-31T17:32:15.260Z"
   },
   {
    "duration": 64,
    "start_time": "2022-01-31T17:32:15.689Z"
   },
   {
    "duration": 141,
    "start_time": "2022-01-31T17:32:15.755Z"
   },
   {
    "duration": 53,
    "start_time": "2022-01-31T17:32:15.898Z"
   },
   {
    "duration": 64,
    "start_time": "2022-01-31T17:32:15.953Z"
   },
   {
    "duration": 17,
    "start_time": "2022-01-31T17:32:16.020Z"
   },
   {
    "duration": 63,
    "start_time": "2022-01-31T17:32:16.039Z"
   },
   {
    "duration": 66,
    "start_time": "2022-01-31T17:32:16.106Z"
   },
   {
    "duration": 62,
    "start_time": "2022-01-31T17:32:16.174Z"
   },
   {
    "duration": 39,
    "start_time": "2022-01-31T17:32:16.238Z"
   },
   {
    "duration": 32,
    "start_time": "2022-01-31T17:32:16.279Z"
   },
   {
    "duration": 50,
    "start_time": "2022-01-31T17:32:16.313Z"
   },
   {
    "duration": 54,
    "start_time": "2022-01-31T17:32:16.365Z"
   },
   {
    "duration": 35,
    "start_time": "2022-01-31T17:32:16.421Z"
   },
   {
    "duration": 8,
    "start_time": "2022-01-31T17:32:16.458Z"
   },
   {
    "duration": 214,
    "start_time": "2022-01-31T17:32:16.468Z"
   },
   {
    "duration": 208,
    "start_time": "2022-01-31T17:32:16.684Z"
   },
   {
    "duration": 575,
    "start_time": "2022-01-31T17:32:16.898Z"
   },
   {
    "duration": 43,
    "start_time": "2022-01-31T17:32:17.474Z"
   },
   {
    "duration": 19,
    "start_time": "2022-01-31T17:32:17.519Z"
   },
   {
    "duration": 373,
    "start_time": "2022-01-31T17:32:17.541Z"
   },
   {
    "duration": 26,
    "start_time": "2022-01-31T17:32:17.917Z"
   },
   {
    "duration": 5,
    "start_time": "2022-01-31T17:32:17.945Z"
   },
   {
    "duration": 47,
    "start_time": "2022-01-31T17:32:17.952Z"
   },
   {
    "duration": 1021,
    "start_time": "2022-01-31T17:32:18.001Z"
   },
   {
    "duration": 1059,
    "start_time": "2022-01-31T17:32:19.025Z"
   },
   {
    "duration": 16,
    "start_time": "2022-01-31T17:32:20.086Z"
   },
   {
    "duration": 317,
    "start_time": "2022-01-31T17:32:20.104Z"
   },
   {
    "duration": 415,
    "start_time": "2022-01-31T17:32:20.423Z"
   },
   {
    "duration": 337,
    "start_time": "2022-01-31T17:32:20.840Z"
   },
   {
    "duration": 398,
    "start_time": "2022-01-31T17:32:21.178Z"
   },
   {
    "duration": 341,
    "start_time": "2022-01-31T17:32:21.578Z"
   },
   {
    "duration": 355,
    "start_time": "2022-01-31T17:32:21.921Z"
   },
   {
    "duration": 8,
    "start_time": "2022-01-31T17:32:22.278Z"
   },
   {
    "duration": 48,
    "start_time": "2022-01-31T17:32:22.298Z"
   },
   {
    "duration": 5,
    "start_time": "2022-01-31T17:32:22.348Z"
   },
   {
    "duration": 18,
    "start_time": "2022-01-31T17:32:22.354Z"
   },
   {
    "duration": 37,
    "start_time": "2022-01-31T17:32:22.374Z"
   },
   {
    "duration": 25,
    "start_time": "2022-01-31T17:32:22.413Z"
   },
   {
    "duration": 7,
    "start_time": "2022-01-31T17:32:22.440Z"
   },
   {
    "duration": 7,
    "start_time": "2022-01-31T17:32:22.448Z"
   },
   {
    "duration": 278,
    "start_time": "2022-01-31T17:32:22.456Z"
   },
   {
    "duration": 4,
    "start_time": "2022-01-31T17:32:22.736Z"
   },
   {
    "duration": 32,
    "start_time": "2022-01-31T17:32:22.742Z"
   },
   {
    "duration": 1033,
    "start_time": "2022-01-31T17:32:22.775Z"
   }
  ],
  "kernelspec": {
   "display_name": "Python 3 (ipykernel)",
   "language": "python",
   "name": "python3"
  },
  "language_info": {
   "codemirror_mode": {
    "name": "ipython",
    "version": 3
   },
   "file_extension": ".py",
   "mimetype": "text/x-python",
   "name": "python",
   "nbconvert_exporter": "python",
   "pygments_lexer": "ipython3",
   "version": "3.9.5"
  },
  "toc": {
   "base_numbering": 1,
   "nav_menu": {},
   "number_sections": true,
   "sideBar": true,
   "skip_h1_title": true,
   "title_cell": "Table of Contents",
   "title_sidebar": "Contents",
   "toc_cell": false,
   "toc_position": {
    "height": "calc(100% - 180px)",
    "left": "10px",
    "top": "150px",
    "width": "272.261px"
   },
   "toc_section_display": true,
   "toc_window_display": true
  }
 },
 "nbformat": 4,
 "nbformat_minor": 2
}
