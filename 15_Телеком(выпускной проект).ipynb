{
 "cells": [
  {
   "cell_type": "markdown",
   "metadata": {},
   "source": [
    "👋 **Приветствую, Андрей!** \n",
    "\n",
    "✨ Вот ты и дошел до финального проекта, поздравляю!\n",
    "\n",
    "Вспомни, какие задачи ты решал в начале обучения, писал первые циклы и вот ты уже делаешь большую работу, приближенную к реальным условиям. Я думаю это заслуживает похвалы =)\n",
    "\n",
    "Меня зовут Арсен Абдулин, и я буду твоим ревьювером по проекту. Предлагаю общаться на «ты», если не против =) Моя цель — не поиск ошибок в твоей работе, а поделиться опытом и помочь успешно завершить проект.\n",
    "\n",
    "Видно, что ты проделал большую работу — у меня сложилось положительное впечатление 😊 Ты получил необходимый результат, но есть несколько замечаний и рекомендаций. \n",
    "\n",
    "При проверке работ я делаю следующие комментарии:\n",
    "\n",
    "<div class=\"alert alert-success\">\n",
    "<b>✔️ Зеленым цветом</b> отмечены удачные решения.</div>\n",
    "\n",
    "<div class=\"alert alert-warning\">\n",
    "<b>⚠️ Желтым цветом</b> я отметил пункты, которые в следующий раз можно сделать по-другому. Одно-два таких замечания в проекте допускается, но если их много — проект следует доработать. </div>\n",
    "\n",
    "<div class=\"alert alert-danger\">\n",
    "<b>🚫 Красным цветом</b> отмечены критические замечания, которые необходимо поправить, чтобы принять проект. </div>\n",
    "\n",
    "Если какие-то моменты в задании для тебя были непонятны и у тебя есть ко мне вопросы — смело спрашивай 😊 Также ты можешь доработать места, где есть желтые комментарии в этом проекте (однако, это не обязательно).\n",
    "\n",
    "Предлагаю работать над проектом в диалоге: если ты решишь что-то поменять по моим рекомендациям — пиши об этом (выбери для своих комментариев определенный цвет - так мне будет легче увидеть изменения). Пожалуйста не перемещай, не изменяй и не удаляй мои комментарии. Все это поможет сделать проверку твоего проекта оперативнее.\n",
    "\n",
    "<div class=\"alert alert-info\"> <b>ℹ️ Комментарий студента: </b> Пример комментария. </div>"
   ]
  },
  {
   "cell_type": "markdown",
   "metadata": {},
   "source": [
    "### Описание проекта\n",
    "\n",
    "# Телеком — задача проекта\n",
    "\n",
    "Оператор связи «Ниединогоразрыва.ком» хочет научиться прогнозировать отток клиентов. Если выяснится, что пользователь планирует уйти, ему будут предложены промокоды и специальные условия. Команда оператора собрала персональные данные о некоторых клиентах, информацию об их тарифах и договорах.\n",
    "\n",
    " Описание услуг\n",
    "\n",
    "Оператор предоставляет два основных типа услуг: \n",
    "\n",
    "1. Стационарную телефонную связь. Возможно подключение телефонного аппарата к нескольким линиям одновременно.\n",
    "2. Интернет. Подключение может быть двух типов: через телефонную линию (DSL*,* от англ. *digital subscriber line*, «цифровая абонентская линия») или оптоволоконный кабель (*Fiber optic*).  \n",
    "\n",
    "Также доступны такие услуги:\n",
    "\n",
    "- Интернет-безопасность: антивирус (*DeviceProtection*) и блокировка небезопасных сайтов (*OnlineSecurity*);\n",
    "- Выделенная линия технической поддержки (*TechSupport*);\n",
    "- Облачное хранилище файлов для резервного копирования данных (*OnlineBackup*);\n",
    "- Стриминговое телевидение (*StreamingTV*) и каталог фильмов (*StreamingMovies*).\n",
    "\n",
    "За услуги клиенты могут платить каждый месяц или заключить договор на 1–2 года. Доступны различные способы расчёта и возможность получения электронного чека.\n",
    "\n",
    "Описание данных\n",
    "\n",
    "Данные состоят из файлов, полученных из разных источников:\n",
    "\n",
    "- `contract.csv` — информация о договоре;\n",
    "- `personal.csv` — персональные данные клиента;\n",
    "- `internet.csv` — информация об интернет-услугах;\n",
    "- `phone.csv` — информация об услугах телефонии.\n",
    "\n",
    "Во всех файлах столбец `customerID` содержит код клиента.\n",
    "\n",
    "Информация о договорах актуальна на 1 февраля 2020.\n",
    "\n",
    "Данные\n",
    "\n",
    "[final_provider.zip](https://s3-us-west-2.amazonaws.com/secure.notion-static.com/ac39c23b-718e-4cd6-bdaa-85b3a127a457/final_provider.zip)\n",
    "\n",
    "Данные также находятся в тренажёре, в папке `/datasets/final_provider/`."
   ]
  },
  {
   "cell_type": "markdown",
   "metadata": {},
   "source": [
    "### План работы\n",
    "- Изучение задачи.\n",
    "- Изучение полученных данных.\n",
    "- Подготовка данных к анализу.\n",
    "- Анализ данных.\n",
    "- Подготовка данных к анализу модели. (Определение признаков и цели, разбиение на выборки, кодирование категориальных переменных, борьба с дисбалансом данных, удаление не влияющих на результат признаков)\n",
    "- Анализ моделей (определение исследуемых моделей, подбор гиперпараметров, оценка эффективности моделей)\n",
    "- Тестирование наилучшей модели. \n",
    "- Вывод.\n",
    "- Отчет."
   ]
  },
  {
   "cell_type": "markdown",
   "metadata": {},
   "source": [
    "<div class=\"alert alert-success\">\n",
    "<b>✔️ Комментарий ревьювера:</b> Хорошо, что добавил описание проекта и план работы! Так постороннему человеку будет проще разобраться.\n",
    "    \n",
    "</div>"
   ]
  },
  {
   "cell_type": "markdown",
   "metadata": {},
   "source": [
    "### Импорт библиотек"
   ]
  },
  {
   "cell_type": "code",
   "execution_count": 108,
   "metadata": {},
   "outputs": [],
   "source": [
    "import pandas as pd\n",
    "import matplotlib.pyplot as plt\n",
    "import numpy as np\n",
    "from sklearn.dummy import DummyClassifier\n",
    "from sklearn.model_selection import train_test_split\n",
    "from sklearn.model_selection import GridSearchCV\n",
    "from sklearn.ensemble import RandomForestClassifier\n",
    "from sklearn.tree import DecisionTreeClassifier\n",
    "from catboost import CatBoostClassifier, Pool\n",
    "from xgboost import XGBClassifier\n",
    "from lightgbm import LGBMClassifier\n",
    "from sklearn.linear_model import LogisticRegression\n",
    "from sklearn.metrics import accuracy_score, f1_score, roc_auc_score, roc_curve, precision_score, recall_score, classification_report\n",
    "\n",
    "from sklearn.feature_selection import f_classif, mutual_info_classif\n",
    "\n",
    "import warnings\n",
    "warnings.filterwarnings(\"ignore\")"
   ]
  },
  {
   "cell_type": "markdown",
   "metadata": {},
   "source": [
    "<div class=\"alert alert-success\">\n",
    "<b>✔️ Комментарий ревьювера:</b> Необходимые библиотеки импортированы, ничего лишнего.\n",
    "    \n",
    "</div>"
   ]
  },
  {
   "cell_type": "markdown",
   "metadata": {},
   "source": [
    "### Обзор данных"
   ]
  },
  {
   "cell_type": "code",
   "execution_count": 63,
   "metadata": {},
   "outputs": [],
   "source": [
    "contract = pd.read_csv('/datasets/final_provider/contract.csv')\n",
    "personal = pd.read_csv('/datasets/final_provider/personal.csv')\n",
    "internet = pd.read_csv('/datasets/final_provider/internet.csv')\n",
    "phone = pd.read_csv('/datasets/final_provider/phone.csv')\n",
    "data = [contract, personal, internet, phone]"
   ]
  },
  {
   "cell_type": "code",
   "execution_count": 64,
   "metadata": {},
   "outputs": [
    {
     "name": "stdout",
     "output_type": "stream",
     "text": [
      "<class 'pandas.core.frame.DataFrame'>\n",
      "RangeIndex: 7043 entries, 0 to 7042\n",
      "Data columns (total 8 columns):\n",
      " #   Column            Non-Null Count  Dtype  \n",
      "---  ------            --------------  -----  \n",
      " 0   customerID        7043 non-null   object \n",
      " 1   BeginDate         7043 non-null   object \n",
      " 2   EndDate           7043 non-null   object \n",
      " 3   Type              7043 non-null   object \n",
      " 4   PaperlessBilling  7043 non-null   object \n",
      " 5   PaymentMethod     7043 non-null   object \n",
      " 6   MonthlyCharges    7043 non-null   float64\n",
      " 7   TotalCharges      7043 non-null   object \n",
      "dtypes: float64(1), object(7)\n",
      "memory usage: 440.3+ KB\n"
     ]
    },
    {
     "data": {
      "text/plain": [
       "None"
      ]
     },
     "metadata": {},
     "output_type": "display_data"
    },
    {
     "data": {
      "text/html": [
       "<div>\n",
       "<style scoped>\n",
       "    .dataframe tbody tr th:only-of-type {\n",
       "        vertical-align: middle;\n",
       "    }\n",
       "\n",
       "    .dataframe tbody tr th {\n",
       "        vertical-align: top;\n",
       "    }\n",
       "\n",
       "    .dataframe thead th {\n",
       "        text-align: right;\n",
       "    }\n",
       "</style>\n",
       "<table border=\"1\" class=\"dataframe\">\n",
       "  <thead>\n",
       "    <tr style=\"text-align: right;\">\n",
       "      <th></th>\n",
       "      <th>customerID</th>\n",
       "      <th>BeginDate</th>\n",
       "      <th>EndDate</th>\n",
       "      <th>Type</th>\n",
       "      <th>PaperlessBilling</th>\n",
       "      <th>PaymentMethod</th>\n",
       "      <th>MonthlyCharges</th>\n",
       "      <th>TotalCharges</th>\n",
       "    </tr>\n",
       "  </thead>\n",
       "  <tbody>\n",
       "    <tr>\n",
       "      <th>0</th>\n",
       "      <td>7590-VHVEG</td>\n",
       "      <td>2020-01-01</td>\n",
       "      <td>No</td>\n",
       "      <td>Month-to-month</td>\n",
       "      <td>Yes</td>\n",
       "      <td>Electronic check</td>\n",
       "      <td>29.85</td>\n",
       "      <td>29.85</td>\n",
       "    </tr>\n",
       "    <tr>\n",
       "      <th>1</th>\n",
       "      <td>5575-GNVDE</td>\n",
       "      <td>2017-04-01</td>\n",
       "      <td>No</td>\n",
       "      <td>One year</td>\n",
       "      <td>No</td>\n",
       "      <td>Mailed check</td>\n",
       "      <td>56.95</td>\n",
       "      <td>1889.5</td>\n",
       "    </tr>\n",
       "    <tr>\n",
       "      <th>2</th>\n",
       "      <td>3668-QPYBK</td>\n",
       "      <td>2019-10-01</td>\n",
       "      <td>2019-12-01 00:00:00</td>\n",
       "      <td>Month-to-month</td>\n",
       "      <td>Yes</td>\n",
       "      <td>Mailed check</td>\n",
       "      <td>53.85</td>\n",
       "      <td>108.15</td>\n",
       "    </tr>\n",
       "    <tr>\n",
       "      <th>3</th>\n",
       "      <td>7795-CFOCW</td>\n",
       "      <td>2016-05-01</td>\n",
       "      <td>No</td>\n",
       "      <td>One year</td>\n",
       "      <td>No</td>\n",
       "      <td>Bank transfer (automatic)</td>\n",
       "      <td>42.30</td>\n",
       "      <td>1840.75</td>\n",
       "    </tr>\n",
       "    <tr>\n",
       "      <th>4</th>\n",
       "      <td>9237-HQITU</td>\n",
       "      <td>2019-09-01</td>\n",
       "      <td>2019-11-01 00:00:00</td>\n",
       "      <td>Month-to-month</td>\n",
       "      <td>Yes</td>\n",
       "      <td>Electronic check</td>\n",
       "      <td>70.70</td>\n",
       "      <td>151.65</td>\n",
       "    </tr>\n",
       "  </tbody>\n",
       "</table>\n",
       "</div>"
      ],
      "text/plain": [
       "   customerID   BeginDate              EndDate            Type  \\\n",
       "0  7590-VHVEG  2020-01-01                   No  Month-to-month   \n",
       "1  5575-GNVDE  2017-04-01                   No        One year   \n",
       "2  3668-QPYBK  2019-10-01  2019-12-01 00:00:00  Month-to-month   \n",
       "3  7795-CFOCW  2016-05-01                   No        One year   \n",
       "4  9237-HQITU  2019-09-01  2019-11-01 00:00:00  Month-to-month   \n",
       "\n",
       "  PaperlessBilling              PaymentMethod  MonthlyCharges TotalCharges  \n",
       "0              Yes           Electronic check           29.85        29.85  \n",
       "1               No               Mailed check           56.95       1889.5  \n",
       "2              Yes               Mailed check           53.85       108.15  \n",
       "3               No  Bank transfer (automatic)           42.30      1840.75  \n",
       "4              Yes           Electronic check           70.70       151.65  "
      ]
     },
     "metadata": {},
     "output_type": "display_data"
    },
    {
     "name": "stdout",
     "output_type": "stream",
     "text": [
      "Количество пропусков \n",
      "customerID          0\n",
      "BeginDate           0\n",
      "EndDate             0\n",
      "Type                0\n",
      "PaperlessBilling    0\n",
      "PaymentMethod       0\n",
      "MonthlyCharges      0\n",
      "TotalCharges        0\n",
      "dtype: int64\n",
      "Количество дубликатов \n",
      "0\n",
      "<class 'pandas.core.frame.DataFrame'>\n",
      "RangeIndex: 7043 entries, 0 to 7042\n",
      "Data columns (total 5 columns):\n",
      " #   Column         Non-Null Count  Dtype \n",
      "---  ------         --------------  ----- \n",
      " 0   customerID     7043 non-null   object\n",
      " 1   gender         7043 non-null   object\n",
      " 2   SeniorCitizen  7043 non-null   int64 \n",
      " 3   Partner        7043 non-null   object\n",
      " 4   Dependents     7043 non-null   object\n",
      "dtypes: int64(1), object(4)\n",
      "memory usage: 275.2+ KB\n"
     ]
    },
    {
     "data": {
      "text/plain": [
       "None"
      ]
     },
     "metadata": {},
     "output_type": "display_data"
    },
    {
     "data": {
      "text/html": [
       "<div>\n",
       "<style scoped>\n",
       "    .dataframe tbody tr th:only-of-type {\n",
       "        vertical-align: middle;\n",
       "    }\n",
       "\n",
       "    .dataframe tbody tr th {\n",
       "        vertical-align: top;\n",
       "    }\n",
       "\n",
       "    .dataframe thead th {\n",
       "        text-align: right;\n",
       "    }\n",
       "</style>\n",
       "<table border=\"1\" class=\"dataframe\">\n",
       "  <thead>\n",
       "    <tr style=\"text-align: right;\">\n",
       "      <th></th>\n",
       "      <th>customerID</th>\n",
       "      <th>gender</th>\n",
       "      <th>SeniorCitizen</th>\n",
       "      <th>Partner</th>\n",
       "      <th>Dependents</th>\n",
       "    </tr>\n",
       "  </thead>\n",
       "  <tbody>\n",
       "    <tr>\n",
       "      <th>0</th>\n",
       "      <td>7590-VHVEG</td>\n",
       "      <td>Female</td>\n",
       "      <td>0</td>\n",
       "      <td>Yes</td>\n",
       "      <td>No</td>\n",
       "    </tr>\n",
       "    <tr>\n",
       "      <th>1</th>\n",
       "      <td>5575-GNVDE</td>\n",
       "      <td>Male</td>\n",
       "      <td>0</td>\n",
       "      <td>No</td>\n",
       "      <td>No</td>\n",
       "    </tr>\n",
       "    <tr>\n",
       "      <th>2</th>\n",
       "      <td>3668-QPYBK</td>\n",
       "      <td>Male</td>\n",
       "      <td>0</td>\n",
       "      <td>No</td>\n",
       "      <td>No</td>\n",
       "    </tr>\n",
       "    <tr>\n",
       "      <th>3</th>\n",
       "      <td>7795-CFOCW</td>\n",
       "      <td>Male</td>\n",
       "      <td>0</td>\n",
       "      <td>No</td>\n",
       "      <td>No</td>\n",
       "    </tr>\n",
       "    <tr>\n",
       "      <th>4</th>\n",
       "      <td>9237-HQITU</td>\n",
       "      <td>Female</td>\n",
       "      <td>0</td>\n",
       "      <td>No</td>\n",
       "      <td>No</td>\n",
       "    </tr>\n",
       "  </tbody>\n",
       "</table>\n",
       "</div>"
      ],
      "text/plain": [
       "   customerID  gender  SeniorCitizen Partner Dependents\n",
       "0  7590-VHVEG  Female              0     Yes         No\n",
       "1  5575-GNVDE    Male              0      No         No\n",
       "2  3668-QPYBK    Male              0      No         No\n",
       "3  7795-CFOCW    Male              0      No         No\n",
       "4  9237-HQITU  Female              0      No         No"
      ]
     },
     "metadata": {},
     "output_type": "display_data"
    },
    {
     "name": "stdout",
     "output_type": "stream",
     "text": [
      "Количество пропусков \n",
      "customerID       0\n",
      "gender           0\n",
      "SeniorCitizen    0\n",
      "Partner          0\n",
      "Dependents       0\n",
      "dtype: int64\n",
      "Количество дубликатов \n",
      "0\n",
      "<class 'pandas.core.frame.DataFrame'>\n",
      "RangeIndex: 5517 entries, 0 to 5516\n",
      "Data columns (total 8 columns):\n",
      " #   Column            Non-Null Count  Dtype \n",
      "---  ------            --------------  ----- \n",
      " 0   customerID        5517 non-null   object\n",
      " 1   InternetService   5517 non-null   object\n",
      " 2   OnlineSecurity    5517 non-null   object\n",
      " 3   OnlineBackup      5517 non-null   object\n",
      " 4   DeviceProtection  5517 non-null   object\n",
      " 5   TechSupport       5517 non-null   object\n",
      " 6   StreamingTV       5517 non-null   object\n",
      " 7   StreamingMovies   5517 non-null   object\n",
      "dtypes: object(8)\n",
      "memory usage: 344.9+ KB\n"
     ]
    },
    {
     "data": {
      "text/plain": [
       "None"
      ]
     },
     "metadata": {},
     "output_type": "display_data"
    },
    {
     "data": {
      "text/html": [
       "<div>\n",
       "<style scoped>\n",
       "    .dataframe tbody tr th:only-of-type {\n",
       "        vertical-align: middle;\n",
       "    }\n",
       "\n",
       "    .dataframe tbody tr th {\n",
       "        vertical-align: top;\n",
       "    }\n",
       "\n",
       "    .dataframe thead th {\n",
       "        text-align: right;\n",
       "    }\n",
       "</style>\n",
       "<table border=\"1\" class=\"dataframe\">\n",
       "  <thead>\n",
       "    <tr style=\"text-align: right;\">\n",
       "      <th></th>\n",
       "      <th>customerID</th>\n",
       "      <th>InternetService</th>\n",
       "      <th>OnlineSecurity</th>\n",
       "      <th>OnlineBackup</th>\n",
       "      <th>DeviceProtection</th>\n",
       "      <th>TechSupport</th>\n",
       "      <th>StreamingTV</th>\n",
       "      <th>StreamingMovies</th>\n",
       "    </tr>\n",
       "  </thead>\n",
       "  <tbody>\n",
       "    <tr>\n",
       "      <th>0</th>\n",
       "      <td>7590-VHVEG</td>\n",
       "      <td>DSL</td>\n",
       "      <td>No</td>\n",
       "      <td>Yes</td>\n",
       "      <td>No</td>\n",
       "      <td>No</td>\n",
       "      <td>No</td>\n",
       "      <td>No</td>\n",
       "    </tr>\n",
       "    <tr>\n",
       "      <th>1</th>\n",
       "      <td>5575-GNVDE</td>\n",
       "      <td>DSL</td>\n",
       "      <td>Yes</td>\n",
       "      <td>No</td>\n",
       "      <td>Yes</td>\n",
       "      <td>No</td>\n",
       "      <td>No</td>\n",
       "      <td>No</td>\n",
       "    </tr>\n",
       "    <tr>\n",
       "      <th>2</th>\n",
       "      <td>3668-QPYBK</td>\n",
       "      <td>DSL</td>\n",
       "      <td>Yes</td>\n",
       "      <td>Yes</td>\n",
       "      <td>No</td>\n",
       "      <td>No</td>\n",
       "      <td>No</td>\n",
       "      <td>No</td>\n",
       "    </tr>\n",
       "    <tr>\n",
       "      <th>3</th>\n",
       "      <td>7795-CFOCW</td>\n",
       "      <td>DSL</td>\n",
       "      <td>Yes</td>\n",
       "      <td>No</td>\n",
       "      <td>Yes</td>\n",
       "      <td>Yes</td>\n",
       "      <td>No</td>\n",
       "      <td>No</td>\n",
       "    </tr>\n",
       "    <tr>\n",
       "      <th>4</th>\n",
       "      <td>9237-HQITU</td>\n",
       "      <td>Fiber optic</td>\n",
       "      <td>No</td>\n",
       "      <td>No</td>\n",
       "      <td>No</td>\n",
       "      <td>No</td>\n",
       "      <td>No</td>\n",
       "      <td>No</td>\n",
       "    </tr>\n",
       "  </tbody>\n",
       "</table>\n",
       "</div>"
      ],
      "text/plain": [
       "   customerID InternetService OnlineSecurity OnlineBackup DeviceProtection  \\\n",
       "0  7590-VHVEG             DSL             No          Yes               No   \n",
       "1  5575-GNVDE             DSL            Yes           No              Yes   \n",
       "2  3668-QPYBK             DSL            Yes          Yes               No   \n",
       "3  7795-CFOCW             DSL            Yes           No              Yes   \n",
       "4  9237-HQITU     Fiber optic             No           No               No   \n",
       "\n",
       "  TechSupport StreamingTV StreamingMovies  \n",
       "0          No          No              No  \n",
       "1          No          No              No  \n",
       "2          No          No              No  \n",
       "3         Yes          No              No  \n",
       "4          No          No              No  "
      ]
     },
     "metadata": {},
     "output_type": "display_data"
    },
    {
     "name": "stdout",
     "output_type": "stream",
     "text": [
      "Количество пропусков \n",
      "customerID          0\n",
      "InternetService     0\n",
      "OnlineSecurity      0\n",
      "OnlineBackup        0\n",
      "DeviceProtection    0\n",
      "TechSupport         0\n",
      "StreamingTV         0\n",
      "StreamingMovies     0\n",
      "dtype: int64\n",
      "Количество дубликатов \n",
      "0\n",
      "<class 'pandas.core.frame.DataFrame'>\n",
      "RangeIndex: 6361 entries, 0 to 6360\n",
      "Data columns (total 2 columns):\n",
      " #   Column         Non-Null Count  Dtype \n",
      "---  ------         --------------  ----- \n",
      " 0   customerID     6361 non-null   object\n",
      " 1   MultipleLines  6361 non-null   object\n",
      "dtypes: object(2)\n",
      "memory usage: 99.5+ KB\n"
     ]
    },
    {
     "data": {
      "text/plain": [
       "None"
      ]
     },
     "metadata": {},
     "output_type": "display_data"
    },
    {
     "data": {
      "text/html": [
       "<div>\n",
       "<style scoped>\n",
       "    .dataframe tbody tr th:only-of-type {\n",
       "        vertical-align: middle;\n",
       "    }\n",
       "\n",
       "    .dataframe tbody tr th {\n",
       "        vertical-align: top;\n",
       "    }\n",
       "\n",
       "    .dataframe thead th {\n",
       "        text-align: right;\n",
       "    }\n",
       "</style>\n",
       "<table border=\"1\" class=\"dataframe\">\n",
       "  <thead>\n",
       "    <tr style=\"text-align: right;\">\n",
       "      <th></th>\n",
       "      <th>customerID</th>\n",
       "      <th>MultipleLines</th>\n",
       "    </tr>\n",
       "  </thead>\n",
       "  <tbody>\n",
       "    <tr>\n",
       "      <th>0</th>\n",
       "      <td>5575-GNVDE</td>\n",
       "      <td>No</td>\n",
       "    </tr>\n",
       "    <tr>\n",
       "      <th>1</th>\n",
       "      <td>3668-QPYBK</td>\n",
       "      <td>No</td>\n",
       "    </tr>\n",
       "    <tr>\n",
       "      <th>2</th>\n",
       "      <td>9237-HQITU</td>\n",
       "      <td>No</td>\n",
       "    </tr>\n",
       "    <tr>\n",
       "      <th>3</th>\n",
       "      <td>9305-CDSKC</td>\n",
       "      <td>Yes</td>\n",
       "    </tr>\n",
       "    <tr>\n",
       "      <th>4</th>\n",
       "      <td>1452-KIOVK</td>\n",
       "      <td>Yes</td>\n",
       "    </tr>\n",
       "  </tbody>\n",
       "</table>\n",
       "</div>"
      ],
      "text/plain": [
       "   customerID MultipleLines\n",
       "0  5575-GNVDE            No\n",
       "1  3668-QPYBK            No\n",
       "2  9237-HQITU            No\n",
       "3  9305-CDSKC           Yes\n",
       "4  1452-KIOVK           Yes"
      ]
     },
     "metadata": {},
     "output_type": "display_data"
    },
    {
     "name": "stdout",
     "output_type": "stream",
     "text": [
      "Количество пропусков \n",
      "customerID       0\n",
      "MultipleLines    0\n",
      "dtype: int64\n",
      "Количество дубликатов \n",
      "0\n"
     ]
    }
   ],
   "source": [
    "for i in data:\n",
    "    display(i.info())\n",
    "    display(i.head(5))\n",
    "    print('Количество пропусков ', i.isna().sum(), sep='\\n')\n",
    "    print('Количество дубликатов ', i.duplicated().sum(), sep='\\n')"
   ]
  },
  {
   "cell_type": "markdown",
   "metadata": {},
   "source": [
    "<div class=\"alert alert-success\">\n",
    "<b>✔️ Комментарий ревьювера:</b> Данные успешно загружены! Хорошо, что проверил пропуски и дубликаты.\n",
    "    \n",
    "</div>"
   ]
  },
  {
   "cell_type": "markdown",
   "metadata": {},
   "source": [
    "#### Вывод + описание данных\n",
    "\n",
    "Для проекта предоставленно 4 датасета дубликатов и пропусков нет.\n",
    "- 2 таблицы имеют 7043 строки это таблицы с данными о контракте и персональными данными клиентов.\n",
    "- 2 содержат информацию о том какими услугами пользуются клиенты компании. эти таблицы содержат меньшее количество строк. соответственно можно сделать вывод не все клиенты приобрели и услуги телефонии и услуги интернет.\n",
    "- Для проведения анализа необходимо объеденить все таблицы в один датасет.\n",
    "\n",
    "Для удобства приведу описание данных в таблицах.\n",
    "\n",
    "contract\n",
    "- customerID - идентификационный номер клиента\n",
    "- BeginDate - дата начала пользования услугами \n",
    "- EndDate - дата окончания пользования услугами\n",
    "- Type - тип оплаты: ежемесячно, раз в год или раз год\n",
    "- PaperlessBilling - электронный счет(возможно имеется ввиду оплата через личный кабинет)\n",
    "- PaymentMethod - способ оплаты\n",
    "- MonthlyCharges - сумма ежемесячного платёжа \n",
    "- TotalCharges - сумма всех платежей\n",
    "\n",
    "personal\n",
    "- customerID - идентификационный номер клиента\n",
    "- gender - пол клиента\n",
    "- SeniorCitizen - является ли клиент пожилым (возможно имеется ввиду пенсионер)\n",
    "- Partner - возможно имеется ввиду семейное положение, но тогда необходимо назвать столбец married\n",
    "- Dependents - есть ли у клиента еждевенцы\n",
    "\n",
    "internet\n",
    "- customerID - идентификационный номер клиента\n",
    "- Internet Service - тип подключения\n",
    "- Online Security -  безопасность\n",
    "- Online Backup - резервное копирование\n",
    "- Device Protection - защита устройств\n",
    "- Tech Support - линия технической поддержки\n",
    "- Streaming TV - Стриминговое телевидение  каталог фильмов\n",
    "- Streaming Movies - каталог фильмов\n",
    "\n",
    "phone\n",
    "- customerID - идентификационный номер клиента\n",
    "- Multiple Lines - возможность использовать несколько телефонный линий одновременно(колцентр)\n"
   ]
  },
  {
   "cell_type": "markdown",
   "metadata": {},
   "source": [
    "<div class=\"alert alert-success\">\n",
    "<b>✔️ Комментарий ревьювера:</b> Здорово, что добавил обозначения признаков в датасетах!\n",
    "    \n",
    "</div>"
   ]
  },
  {
   "cell_type": "markdown",
   "metadata": {},
   "source": [
    "### Предобработка данных"
   ]
  },
  {
   "cell_type": "markdown",
   "metadata": {},
   "source": [
    "<div class=\"alert alert-warning\">\n",
    "<b>⚠️ Комментарий ревьювера:</b> Желательно комментарии к действиям по ходу проекта писать в ячейках Markdown.\n",
    "    \n",
    "</div>"
   ]
  },
  {
   "cell_type": "markdown",
   "metadata": {},
   "source": [
    "#### Объединение таблиц"
   ]
  },
  {
   "cell_type": "code",
   "execution_count": 65,
   "metadata": {},
   "outputs": [],
   "source": [
    "#для того что бы в будущем можно было выделидь пользователей только телефоном добавил столбец\n",
    "phone['phone'] = 'Yes'\n",
    "# с таблицей internet поступлю аналогично\n",
    "internet.insert(1,'internet', 'Yes')     #internet['internet'] = 'Yes'\n"
   ]
  },
  {
   "cell_type": "code",
   "execution_count": 66,
   "metadata": {},
   "outputs": [],
   "source": [
    "# Объединение таблиц\n",
    "\n",
    "all_data = personal.merge(phone, how ='outer', on='customerID').merge(internet,how ='outer', on='customerID').merge(contract,how ='outer', on='customerID')\n",
    "\n",
    "#display(all_data.head(45))\n"
   ]
  },
  {
   "cell_type": "markdown",
   "metadata": {},
   "source": [
    "#### Заполнение пропусков"
   ]
  },
  {
   "cell_type": "code",
   "execution_count": 67,
   "metadata": {},
   "outputs": [
    {
     "name": "stdout",
     "output_type": "stream",
     "text": [
      "Количество пропусков \n",
      "customerID             0\n",
      "gender                 0\n",
      "SeniorCitizen          0\n",
      "Partner                0\n",
      "Dependents             0\n",
      "MultipleLines        682\n",
      "phone                682\n",
      "internet            1526\n",
      "InternetService     1526\n",
      "OnlineSecurity      1526\n",
      "OnlineBackup        1526\n",
      "DeviceProtection    1526\n",
      "TechSupport         1526\n",
      "StreamingTV         1526\n",
      "StreamingMovies     1526\n",
      "BeginDate              0\n",
      "EndDate                0\n",
      "Type                   0\n",
      "PaperlessBilling       0\n",
      "PaymentMethod          0\n",
      "MonthlyCharges         0\n",
      "TotalCharges           0\n",
      "dtype: int64\n"
     ]
    }
   ],
   "source": [
    "#проверка на пропуски\n",
    "print('Количество пропусков ', all_data.isna().sum(), sep='\\n')"
   ]
  },
  {
   "cell_type": "markdown",
   "metadata": {},
   "source": [
    "Как и говорил выше пропуски связаны с тем, что клиенты пользуются не всеми услугами. Поэтому пропуски заменю на No (что означает не исползуется)"
   ]
  },
  {
   "cell_type": "code",
   "execution_count": 68,
   "metadata": {},
   "outputs": [],
   "source": [
    "# заполнение пропусков\n",
    "all_data = all_data.fillna('No')\n",
    "#print('Количество пропусков ', all_data.isna().sum(), sep='\\n')"
   ]
  },
  {
   "cell_type": "markdown",
   "metadata": {},
   "source": [
    "#### Добавление целевого признака"
   ]
  },
  {
   "cell_type": "code",
   "execution_count": 69,
   "metadata": {},
   "outputs": [],
   "source": [
    "#добавление целевого признака по столбцу EndDate: если leave = 1 то клиент  ушел, если leave = 0 то клиент активен.\n",
    "all_data['leave'] = 1\n",
    "all_data.loc[all_data['EndDate'] == 'No', 'leave'] = 0\n",
    "#all_data"
   ]
  },
  {
   "cell_type": "markdown",
   "metadata": {},
   "source": [
    "<div class=\"alert alert-success\">\n",
    "<b>✔️ Комментарий ревьювера:</b> Объединение таблиц выполнено успешно, пропуски заполнены, добавлен новый признак!\n",
    "    \n",
    "</div>"
   ]
  },
  {
   "cell_type": "markdown",
   "metadata": {},
   "source": [
    "### Анализ данных"
   ]
  },
  {
   "cell_type": "markdown",
   "metadata": {},
   "source": [
    "####  Сравнение распределения величин ежемесячных платежей"
   ]
  },
  {
   "cell_type": "markdown",
   "metadata": {},
   "source": [
    "#####  Распределение величин ежемесячных платежей всех клиентов"
   ]
  },
  {
   "cell_type": "code",
   "execution_count": 70,
   "metadata": {},
   "outputs": [
    {
     "data": {
      "text/plain": [
       "count    7043.000000\n",
       "mean       64.761692\n",
       "std        30.090047\n",
       "min        18.250000\n",
       "25%        35.500000\n",
       "50%        70.350000\n",
       "75%        89.850000\n",
       "max       118.750000\n",
       "Name: MonthlyCharges, dtype: float64"
      ]
     },
     "execution_count": 70,
     "metadata": {},
     "output_type": "execute_result"
    }
   ],
   "source": [
    "all_data['MonthlyCharges'].describe()"
   ]
  },
  {
   "cell_type": "markdown",
   "metadata": {},
   "source": [
    "#####  Распределение величин ежемесячных платежей ушедших клиентов"
   ]
  },
  {
   "cell_type": "code",
   "execution_count": 71,
   "metadata": {},
   "outputs": [
    {
     "data": {
      "text/plain": [
       "count    1869.000000\n",
       "mean       74.441332\n",
       "std        24.666053\n",
       "min        18.850000\n",
       "25%        56.150000\n",
       "50%        79.650000\n",
       "75%        94.200000\n",
       "max       118.350000\n",
       "Name: MonthlyCharges, dtype: float64"
      ]
     },
     "execution_count": 71,
     "metadata": {},
     "output_type": "execute_result"
    }
   ],
   "source": [
    "all_data.query('leave == 1')['MonthlyCharges'].describe()"
   ]
  },
  {
   "cell_type": "markdown",
   "metadata": {},
   "source": [
    "#####  Распределение величин ежемесячных платежей действующих клиентов"
   ]
  },
  {
   "cell_type": "code",
   "execution_count": 72,
   "metadata": {},
   "outputs": [
    {
     "data": {
      "text/plain": [
       "count    5174.000000\n",
       "mean       61.265124\n",
       "std        31.092648\n",
       "min        18.250000\n",
       "25%        25.100000\n",
       "50%        64.425000\n",
       "75%        88.400000\n",
       "max       118.750000\n",
       "Name: MonthlyCharges, dtype: float64"
      ]
     },
     "execution_count": 72,
     "metadata": {},
     "output_type": "execute_result"
    }
   ],
   "source": [
    "all_data.query('leave == 0')['MonthlyCharges'].describe()"
   ]
  },
  {
   "cell_type": "markdown",
   "metadata": {},
   "source": [
    "#####  Гистограмма распределения ежемесячных платежей"
   ]
  },
  {
   "cell_type": "code",
   "execution_count": 73,
   "metadata": {
    "scrolled": true
   },
   "outputs": [
    {
     "data": {
      "text/plain": [
       "'Гистограмма распределения ежемесячного платежа'"
      ]
     },
     "execution_count": 73,
     "metadata": {},
     "output_type": "execute_result"
    },
    {
     "data": {
      "image/png": "[encoded data removed]",
      "text/plain": [
       "<Figure size 1152x360 with 1 Axes>"
      ]
     },
     "metadata": {
      "needs_background": "light"
     },
     "output_type": "display_data"
    }
   ],
   "source": [
    "all_data.query('leave == 0')['MonthlyCharges'].hist(bins=50,grid=True, figsize=(16,5), label='Действующие клиенты')\n",
    "\n",
    "all_data.query('leave == 1')['MonthlyCharges'].hist(bins=50,grid=True, figsize=(16,5), label='Ушедшие клиенты')\n",
    "plt.xlabel('Размер ежемесячного платежа')\n",
    "plt.ylabel('Количество клиентов ')\n",
    "plt.legend()\n",
    "plt.title;('Гистограмма распределения ежемесячного платежа')\n",
    "\n"
   ]
  },
  {
   "cell_type": "markdown",
   "metadata": {},
   "source": [
    "<div class=\"alert alert-success\">\n",
    "<b>✔️ Комментарий ревьювера:</b> Интересное замечание! Значительную долю оттока составили клиенты, которые тратили выше среднего.\n",
    "    \n",
    "</div>"
   ]
  },
  {
   "cell_type": "markdown",
   "metadata": {},
   "source": [
    "##### Вывод \n",
    "Сравнение распределения величин ежемесячных платежей показало, что у ушедших пользователей показатели среднего, минимального и максимальнго значения а также медиана и величины 25%- и 75%-квартилей намного ВЫШЕ чем у действующих пользователей.\n",
    "\n",
    "Например:\n",
    "\n",
    "- среднее 74 к 61\n",
    "- медиана 79 к 64\n",
    "- 25%-квартиль 56 к 25\n",
    "- 75%-квартиль 94 к 88\n",
    "\n",
    "Можно предположить, что клиенты ушли из - за высокой ежемесячной платы. Возможно если бы им были предложены лучшие условия они бы остались\n"
   ]
  },
  {
   "cell_type": "markdown",
   "metadata": {},
   "source": [
    "#### Сравнение поведения клиентов разных групп"
   ]
  },
  {
   "cell_type": "markdown",
   "metadata": {},
   "source": [
    "#####  Доля использования интернета(действующие клиенты)"
   ]
  },
  {
   "cell_type": "code",
   "execution_count": 74,
   "metadata": {},
   "outputs": [
    {
     "name": "stdout",
     "output_type": "stream",
     "text": [
      "Доля использования интернета(действующие клиенты) \n",
      "Yes    0.726904\n",
      "No     0.273096\n",
      "Name: internet, dtype: float64\n"
     ]
    },
    {
     "data": {
      "image/png": "[encoded data removed]",
      "text/plain": [
       "<Figure size 432x288 with 1 Axes>"
      ]
     },
     "metadata": {
      "needs_background": "light"
     },
     "output_type": "display_data"
    }
   ],
   "source": [
    "all_data.query('leave == 0')['internet'].value_counts(normalize = (0,1)).plot(kind = 'bar', grid = True)\n",
    "plt.xlabel('Пользуется интернетом?')\n",
    "plt.ylabel('Количество пользователей ')\n",
    "plt.title;('График распределения доли действующих пользователей интернетом ')\n",
    "\n",
    "print('Доля использования интернета(действующие клиенты) ', all_data.query('leave == 0')['internet'].value_counts(normalize = (0,1)), sep='\\n')"
   ]
  },
  {
   "cell_type": "markdown",
   "metadata": {},
   "source": [
    "##### Доля использования интернета(ушедшие клиенты)"
   ]
  },
  {
   "cell_type": "code",
   "execution_count": 75,
   "metadata": {},
   "outputs": [
    {
     "name": "stdout",
     "output_type": "stream",
     "text": [
      "Доля использования интернета(ушедшие клиенты) \n",
      "Yes    0.93954\n",
      "No     0.06046\n",
      "Name: internet, dtype: float64\n"
     ]
    },
    {
     "data": {
      "image/png": "[encoded data removed]",
      "text/plain": [
       "<Figure size 432x288 with 1 Axes>"
      ]
     },
     "metadata": {
      "needs_background": "light"
     },
     "output_type": "display_data"
    }
   ],
   "source": [
    "all_data.query('leave == 1')['internet'].value_counts(normalize = (0,1)).plot(kind = 'bar', grid = True)\n",
    "plt.xlabel('Пользуется интернетом?')\n",
    "plt.ylabel('Количество пользователей ')\n",
    "plt.title;('График распределения доли ушедших пользователей интернетом ')\n",
    "\n",
    "print('Доля использования интернета(ушедшие клиенты) ', all_data.query('leave == 1')['internet'].value_counts(normalize = (0,1)), sep='\\n')"
   ]
  },
  {
   "cell_type": "markdown",
   "metadata": {},
   "source": [
    "#####  Доля использования телефонии(действующие клиенты)"
   ]
  },
  {
   "cell_type": "code",
   "execution_count": 76,
   "metadata": {},
   "outputs": [
    {
     "name": "stdout",
     "output_type": "stream",
     "text": [
      "Доля использования телефонии (действующие клиенты) \n",
      "Yes    0.901044\n",
      "No     0.098956\n",
      "Name: phone, dtype: float64\n"
     ]
    },
    {
     "data": {
      "image/png": "[encoded data removed]",
      "text/plain": [
       "<Figure size 432x288 with 1 Axes>"
      ]
     },
     "metadata": {
      "needs_background": "light"
     },
     "output_type": "display_data"
    }
   ],
   "source": [
    "all_data.query('leave == 0')['phone'].value_counts(normalize = (0,1)).plot(kind = 'bar', grid = True)\n",
    "plt.xlabel('Пользуется телефоном?')\n",
    "plt.ylabel('Количество пользователей ')\n",
    "plt.title;('График распределения доли действующих пользователей интернетом ')\n",
    "\n",
    "print('Доля использования телефонии (действующие клиенты) ', all_data.query('leave == 0')['phone'].value_counts(normalize = (0,1)), sep='\\n')"
   ]
  },
  {
   "cell_type": "markdown",
   "metadata": {},
   "source": [
    "#####  Доля использования телефонии(ушедшие клиенты)"
   ]
  },
  {
   "cell_type": "code",
   "execution_count": 77,
   "metadata": {},
   "outputs": [
    {
     "name": "stdout",
     "output_type": "stream",
     "text": [
      "Доля использования телефонии (ушедшие клиенты) \n",
      "Yes    0.909042\n",
      "No     0.090958\n",
      "Name: phone, dtype: float64\n"
     ]
    },
    {
     "data": {
      "image/png": "[encoded data removed]",
      "text/plain": [
       "<Figure size 432x288 with 1 Axes>"
      ]
     },
     "metadata": {
      "needs_background": "light"
     },
     "output_type": "display_data"
    }
   ],
   "source": [
    "all_data.query('leave == 1')['phone'].value_counts(normalize = (0,1)).plot(kind = 'bar', grid = True)\n",
    "plt.xlabel('Пользуется телефоном?')\n",
    "plt.ylabel('Количество пользователей ')\n",
    "plt.title;('График распределения доли ушедших пользователей интернетом ')\n",
    "\n",
    "print('Доля использования телефонии (ушедшие клиенты) ', all_data.query('leave == 1')['phone'].value_counts(normalize = (0,1)), sep='\\n')"
   ]
  },
  {
   "cell_type": "markdown",
   "metadata": {},
   "source": [
    "##### Вывод\n",
    "Доля использования интернета среди ушедших клиентов равна 93%\n",
    "\n",
    "Доля использования телефона среди ушедших клиентов равна 90%\n",
    "\n",
    "Из чего можно сделать вывод, что используемая услуга не влияет на уход клиентов т.к. значительное большинство клиентов пользовались одновременно обоими услугами.\n",
    "\n",
    "Так же можно заметить, что доля использования интернета среди действующих клиентов равна 30%, что говорит о том что менеджерам компании есть к чему стремиться"
   ]
  },
  {
   "cell_type": "markdown",
   "metadata": {},
   "source": [
    "#### Анализ зависимости признаков от целевого признака"
   ]
  },
  {
   "cell_type": "code",
   "execution_count": 78,
   "metadata": {},
   "outputs": [],
   "source": [
    "#plt.figure(figsize=(10,6))\n",
    "#ax = sns.barplot(x=\"MonthlyCharges\", y=\"PaymentMethod\", hue=\"leave\",  data=all_data)\n",
    "#plt.title(\"Распределение общей суммы платежей по услугам  (0- все сервисы, 1 - только интернет, 2- только телефон)\")\n",
    "#plt.show()"
   ]
  },
  {
   "cell_type": "markdown",
   "metadata": {},
   "source": [
    "##### Гистограмма распределения метода платежа"
   ]
  },
  {
   "cell_type": "code",
   "execution_count": 79,
   "metadata": {},
   "outputs": [
    {
     "data": {
      "text/plain": [
       "'Гистограмма распределения по методу платежа'"
      ]
     },
     "execution_count": 79,
     "metadata": {},
     "output_type": "execute_result"
    },
    {
     "data": {
      "image/png": "[encoded data removed]",
      "text/plain": [
       "<Figure size 432x360 with 1 Axes>"
      ]
     },
     "metadata": {
      "needs_background": "light"
     },
     "output_type": "display_data"
    }
   ],
   "source": [
    "#Проверю есть ли зависимость ухода клиентов в зависимости от метода платежа\n",
    "all_data.query('leave == 0')['PaymentMethod'].hist(grid=True, figsize=(6,5), label='Действующие клиенты')\n",
    "all_data.query('leave == 1')['PaymentMethod'].hist(grid=True, figsize=(6,5), label='Ушедшие клиенты')\n",
    "plt.xlabel('Метод платежа')\n",
    "plt.ylabel('Количество клиентов ')\n",
    "plt.legend()\n",
    "plt.xticks(rotation = 25)\n",
    "plt.title;('Гистограмма распределения по методу платежа')"
   ]
  },
  {
   "cell_type": "markdown",
   "metadata": {},
   "source": [
    "##### Гистограмма распределения по гендерному признаку"
   ]
  },
  {
   "cell_type": "code",
   "execution_count": 80,
   "metadata": {},
   "outputs": [
    {
     "data": {
      "text/plain": [
       "'Гистограмма распределения по гендерному признаку'"
      ]
     },
     "execution_count": 80,
     "metadata": {},
     "output_type": "execute_result"
    },
    {
     "data": {
      "image/png": "[encoded data removed]",
      "text/plain": [
       "<Figure size 432x360 with 1 Axes>"
      ]
     },
     "metadata": {
      "needs_background": "light"
     },
     "output_type": "display_data"
    }
   ],
   "source": [
    "all_data.query('leave == 0')['gender'].hist(grid=True, figsize=(6,5), label='Действующие клиенты')\n",
    "all_data.query('leave == 1')['gender'].hist(grid=True, figsize=(6,5), label='Ушедшие клиенты')\n",
    "plt.xlabel('Пол')\n",
    "plt.ylabel('Количество клиентов ')\n",
    "plt.legend()\n",
    "plt.xticks(rotation = 25)\n",
    "plt.title;('Гистограмма распределения по гендерному признаку')"
   ]
  },
  {
   "cell_type": "markdown",
   "metadata": {},
   "source": [
    "##### Гистограмма распределения по возрастному признаку"
   ]
  },
  {
   "cell_type": "code",
   "execution_count": 81,
   "metadata": {},
   "outputs": [
    {
     "data": {
      "text/plain": [
       "'Гистограмма распределения по возрастному признаку'"
      ]
     },
     "execution_count": 81,
     "metadata": {},
     "output_type": "execute_result"
    },
    {
     "data": {
      "image/png": "[encoded data removed]",
      "text/plain": [
       "<Figure size 432x360 with 1 Axes>"
      ]
     },
     "metadata": {
      "needs_background": "light"
     },
     "output_type": "display_data"
    }
   ],
   "source": [
    "all_data.query('leave == 0')['SeniorCitizen'].hist(grid=True, figsize=(6,5), label='Действующие клиенты')\n",
    "all_data.query('leave == 1')['SeniorCitizen'].hist(grid=True, figsize=(6,5), label='Ушедшие клиенты')\n",
    "plt.xlabel('0-не пенсионер 1-пенсионер')\n",
    "plt.ylabel('Количество клиентов ')\n",
    "plt.legend()\n",
    "plt.xticks(rotation = 25)\n",
    "plt.title;('Гистограмма распределения по возрастному признаку')"
   ]
  },
  {
   "cell_type": "markdown",
   "metadata": {},
   "source": [
    "##### Гистограмма распределения по семейному положению"
   ]
  },
  {
   "cell_type": "code",
   "execution_count": 82,
   "metadata": {},
   "outputs": [
    {
     "data": {
      "text/plain": [
       "'Гистограмма распределения по семейному положению'"
      ]
     },
     "execution_count": 82,
     "metadata": {},
     "output_type": "execute_result"
    },
    {
     "data": {
      "image/png": "[encoded data removed]",
      "text/plain": [
       "<Figure size 432x360 with 1 Axes>"
      ]
     },
     "metadata": {
      "needs_background": "light"
     },
     "output_type": "display_data"
    }
   ],
   "source": [
    "all_data.query('leave == 0')['Partner'].hist(grid=True, figsize=(6,5), label='Действующие клиенты')\n",
    "all_data.query('leave == 1')['Partner'].hist(grid=True, figsize=(6,5), label='Ушедшие клиенты')\n",
    "plt.xlabel('Семейное положение')\n",
    "plt.ylabel('Количество клиентов ')\n",
    "plt.legend()\n",
    "plt.xticks(rotation = 25)\n",
    "plt.title;('Гистограмма распределения по семейному положению')"
   ]
  },
  {
   "cell_type": "markdown",
   "metadata": {},
   "source": [
    "##### Гистограмма распределения по наличию еждевенцев"
   ]
  },
  {
   "cell_type": "code",
   "execution_count": 83,
   "metadata": {},
   "outputs": [
    {
     "data": {
      "text/plain": [
       "'Гистограмма распределения по наличию еждевенцев'"
      ]
     },
     "execution_count": 83,
     "metadata": {},
     "output_type": "execute_result"
    },
    {
     "data": {
      "image/png": "[encoded data removed]",
      "text/plain": [
       "<Figure size 432x360 with 1 Axes>"
      ]
     },
     "metadata": {
      "needs_background": "light"
     },
     "output_type": "display_data"
    }
   ],
   "source": [
    "all_data.query('leave == 0')['Dependents'].hist(grid=True, figsize=(6,5), label='Действующие клиенты')\n",
    "all_data.query('leave == 1')['Dependents'].hist(grid=True, figsize=(6,5), label='Ушедшие клиенты')\n",
    "plt.xlabel('Наличие еждевенцев')\n",
    "plt.ylabel('Количество клиентов ')\n",
    "plt.legend()\n",
    "plt.xticks(rotation = 25)\n",
    "plt.title;('Гистограмма распределения по наличию еждевенцев')"
   ]
  },
  {
   "cell_type": "code",
   "execution_count": 84,
   "metadata": {},
   "outputs": [
    {
     "data": {
      "text/plain": [
       "'Гистограмма распределения по типу платежа'"
      ]
     },
     "execution_count": 84,
     "metadata": {},
     "output_type": "execute_result"
    },
    {
     "data": {
      "image/png": "[encoded data removed]",
      "text/plain": [
       "<Figure size 432x360 with 1 Axes>"
      ]
     },
     "metadata": {
      "needs_background": "light"
     },
     "output_type": "display_data"
    }
   ],
   "source": [
    "all_data.query('leave == 0')['Type'].hist(grid=True, figsize=(6,5), label='Действующие клиенты')\n",
    "all_data.query('leave == 1')['Type'].hist(grid=True, figsize=(6,5), label='Ушедшие клиенты')\n",
    "plt.xlabel('тип платежа')\n",
    "plt.ylabel('Количество клиентов ')\n",
    "plt.legend()\n",
    "plt.xticks(rotation = 25)\n",
    "plt.title;('Гистограмма распределения по типу платежа')"
   ]
  },
  {
   "cell_type": "code",
   "execution_count": 85,
   "metadata": {},
   "outputs": [
    {
     "data": {
      "text/plain": [
       "Month-to-month    0.429068\n",
       "Two year          0.318322\n",
       "One year          0.252609\n",
       "Name: Type, dtype: float64"
      ]
     },
     "execution_count": 85,
     "metadata": {},
     "output_type": "execute_result"
    }
   ],
   "source": [
    "all_data.query('leave == 0')['Type'].value_counts(normalize = (0,1))"
   ]
  },
  {
   "cell_type": "code",
   "execution_count": 86,
   "metadata": {},
   "outputs": [
    {
     "data": {
      "text/plain": [
       "Month-to-month    0.885500\n",
       "One year          0.088818\n",
       "Two year          0.025682\n",
       "Name: Type, dtype: float64"
      ]
     },
     "execution_count": 86,
     "metadata": {},
     "output_type": "execute_result"
    }
   ],
   "source": [
    "all_data.query('leave == 1')['Type'].value_counts(normalize = (0,1))"
   ]
  },
  {
   "cell_type": "markdown",
   "metadata": {},
   "source": []
  },
  {
   "cell_type": "markdown",
   "metadata": {},
   "source": [
    "##### Вывод\n",
    "\n",
    "Анализирую Гистограмму распределения по методу платежа можно сделать вывод, что среди клиентов используюших электронный метов оплаты большая часть ушедших клиентов. Возможно у компании не удобный интерфейс оплаты и над ним нужно поработать. Возможно клиенты не оплачивают услуги заранее, а например как я вспоминаю об оплате когда интернет отключился и соответственно если нет интернета я не могу провести онлайн платеж и это реально раздражает(так с горяча я поменял не одного провайдера).\n",
    "В таком случае компании стоит расмотреть инструмент информирования клиентов о сроке очередного платежа за условные 3-5 дней. Или предусмотреть техническую возможность для проведения платежа при отключенной услуге.\n",
    "\n",
    "\n",
    "Гистограмма распределения по гендерному признаку показала, что пол клиента ни как не влияет на отток.\n",
    "\n",
    "Гистограмма распределения по семейному положению показала, что при наличие партнера клиенты реже уходят чем холостые.\n",
    "\n",
    "Гистограмма распределения по наличию еждевенцев показала, что при отсутствии еждевенца клиенты чаще покидают компанию.\n",
    "\n",
    "Гистограмма распределения по типу платежа показала, что 90% доля ушедших клиентов приходится на ежемесячный тип платежа. \n",
    "Тут сотрудникам компании нужно серьезно задуматься как угодоворить клиентов перейти на более длительные подписки.\n",
    "Возможно компании необходимо продумать программу предоставления скидок с целью мотивации клиентов для приобретения долгосрочных подписок. \n",
    "Так же необходимо попробовать связать ежемесячный платеж с електронным типом платежа."
   ]
  },
  {
   "cell_type": "markdown",
   "metadata": {},
   "source": [
    "<div class=\"alert alert-success\">\n",
    "<b>✔️ Комментарий ревьювера:</b> Очень понравился твой анализ данных! Все понятно и очень подробно.\n",
    "    \n",
    "Нужно только помнить, что влияние различных факторов на целевую переменную, это гипотеза, и нужно использовать методы проверки гипотез. Но это уже отдельная работа =)\n",
    "    \n",
    "</div>"
   ]
  },
  {
   "cell_type": "markdown",
   "metadata": {},
   "source": [
    "### Подготовка данных"
   ]
  },
  {
   "cell_type": "markdown",
   "metadata": {},
   "source": [
    "<div class=\"alert alert-warning\">\n",
    "<b>⚠️ Комментарий ревьювера:</b> Здесь настоятельно рекомендую использовать кодирование One-hot-encoding. Ты конечно сделал все правильно, но это лишняя работа и легко запутаться.\n",
    "    \n",
    "Нужно стремиться использовать известные методы.\n",
    "    \n",
    "</div>"
   ]
  },
  {
   "cell_type": "markdown",
   "metadata": {},
   "source": [
    "<div class=\"alert alert-success\">\n",
    "<b>✔️ Комментарий студента:</b> Ячейку с кодом закоментил. \n",
    "    \n",
    "</div>"
   ]
  },
  {
   "cell_type": "markdown",
   "metadata": {},
   "source": [
    "<div class=\"alert alert-success\">\n",
    "<b>✔️ Комментарий ревьювера (v2):</b> Хорошо!\n",
    "    \n",
    "</div>"
   ]
  },
  {
   "cell_type": "code",
   "execution_count": 87,
   "metadata": {},
   "outputs": [],
   "source": [
    "#all_data['gender'] = pd.Series(np.where(all_data['gender'].values == 'Female', 1, 0),all_data.index)\n",
    "#all_data['Partner'] = pd.Series(np.where(all_data['Partner'].values == 'Yes', 1, 0),all_data.index)\n",
    "#all_data['Dependents'] = pd.Series(np.where(all_data['Dependents'].values == 'Yes', 1, 0),all_data.index)\n",
    "#all_data['MultipleLines'] = pd.Series(np.where(all_data['MultipleLines'].values == 'Yes', 1, 0),all_data.index)\n",
    "#all_data['phone'] = pd.Series(np.where(all_data['phone'].values == 'Yes',1,0),all_data.index)\n",
    "#all_data['internet'] = pd.Series(np.where(all_data['internet'].values == 'Yes',1,0),all_data.index)\n",
    "#all_data['OnlineSecurity'] = pd.Series(np.where(all_data['OnlineSecurity'].values == 'Yes', 1, 0),all_data.index)\n",
    "#all_data['StreamingTV'] = pd.Series(np.where(all_data['StreamingTV'].values == 'Yes', 1, 0),all_data.index)\n",
    "#all_data['StreamingMovies'] = pd.Series(np.where(all_data['StreamingMovies'].values == 'Yes', 1, 0),all_data.index)\n",
    "#all_data['PaperlessBilling'] = pd.Series(np.where(all_data['PaperlessBilling'].values == 'Yes',1,0),all_data.index)\n",
    "#all_data['OnlineBackup'] = pd.Series(np.where(all_data['OnlineBackup'].values == 'Yes', 1, 0),all_data.index)\n",
    "#all_data['DeviceProtection'] = pd.Series(np.where(all_data['DeviceProtection'].values == 'Yes', 1, 0),all_data.index)\n",
    "#all_data['TechSupport'] = pd.Series(np.where(all_data['TechSupport'].values == 'Yes', 1, 0),all_data.index)\n",
    "\n"
   ]
  },
  {
   "cell_type": "markdown",
   "metadata": {},
   "source": [
    "<div class=\"alert alert-success\">\n",
    "<b>✔️ Комментарий ревьювера:</b> Увидел ниже, что ты используешь OHE кодирование, в таком случае ячейка выше не нужна.\n",
    "    \n",
    "</div>"
   ]
  },
  {
   "cell_type": "markdown",
   "metadata": {},
   "source": [
    "#### Создание доп признака \"время пользования сервисом\""
   ]
  },
  {
   "cell_type": "code",
   "execution_count": 88,
   "metadata": {},
   "outputs": [],
   "source": [
    "#форматирую столбцы с датой\n",
    "all_data['EndDate']= all_data['EndDate'].replace('No', '2020-02-01')\n",
    "all_data['BeginDate']= pd.to_datetime(all_data['BeginDate'], format='%Y-%m-%d')\n",
    "all_data['EndDate']= pd.to_datetime(all_data['EndDate'], format='%Y-%m-%dT%H:%M:%S',errors='coerce')\n",
    "\n",
    "# создаю столбцы для вычисления\n",
    "#all_data['begin_year'] = pd.DatetimeIndex(all_data['BeginDate']).year\n",
    "#all_data['end_year'] = pd.DatetimeIndex(all_data['EndDate']).year\n",
    "#all_data['begin_month'] = pd.DatetimeIndex(all_data['BeginDate']).month\n",
    "#all_data['end_month'] = pd.DatetimeIndex(all_data['EndDate']).month\n",
    "\n",
    "#добавляю признак время пользования сервисом в месяцах\n",
    "#all_data['num_of_months'] = ((all_data['end_year']- all_data['begin_year']) * 12 + (all_data['end_month'] - all_data['begin_month']))\n",
    "\n",
    "# удаляю столбцы для расчетов и столбцы с датой так же по твоей рекомендации удалю столбец customer ID\n",
    "#all_data = all_data.drop(['begin_year','end_year','begin_month','end_month','BeginDate','EndDate','customerID'], axis=1)\n",
    "\n",
    "#c_df['IntTime'] = (c_df['EndDate'] - c_df['BeginDate']).dt.days\n",
    "#c_df.head()"
   ]
  },
  {
   "cell_type": "code",
   "execution_count": 89,
   "metadata": {},
   "outputs": [],
   "source": [
    "all_data['total_days'] = (all_data['EndDate'] - all_data['BeginDate']).dt.days\n",
    "all_data = all_data.drop(['BeginDate','EndDate','customerID'], axis=1)\n",
    "#all_data.head(5)"
   ]
  },
  {
   "cell_type": "markdown",
   "metadata": {},
   "source": [
    "<div class=\"alert alert-warning\">\n",
    "<b>⚠️ Комментарий ревьювера (v3):</b> Да, код можно упростить. Тебе по сути не нужны колонки отдельно с годами и месяцами. Например, можно сразу посчитать количество дней:\n",
    "        \n",
    "    all_data['total_days'] = (all_data['EndDate'] - all_data['BeginDate']).dt.days\n",
    "\n",
    "</div>"
   ]
  },
  {
   "cell_type": "markdown",
   "metadata": {},
   "source": [
    "#### Оценка важности категориальных признаков"
   ]
  },
  {
   "cell_type": "markdown",
   "metadata": {},
   "source": [
    "<div class=\"alert alert-danger\">\n",
    "<b>🚫 Комментарий ревьювера (v2):</b> В ячейке ниже опечатка. Ты пропустил all_data_ohe['leave'].\n",
    "    \n",
    "</div>"
   ]
  },
  {
   "cell_type": "markdown",
   "metadata": {},
   "source": [
    "<div class=\"alert alert-success\">\n",
    "<b>✔️ Комментарий студента 2:</b> Странно что код паботал. Опечатку исправил, спасибо! \n",
    "    \n",
    "</div>"
   ]
  },
  {
   "cell_type": "markdown",
   "metadata": {},
   "source": [
    "<div class=\"alert alert-success\">\n",
    "<b>✔️ Комментарий ревьювера (v3):</b> Хорошо!\n",
    "    \n",
    "</div>"
   ]
  },
  {
   "cell_type": "code",
   "execution_count": 91,
   "metadata": {},
   "outputs": [
    {
     "data": {
      "image/png": "[encoded data removed]",
      "text/plain": [
       "<Figure size 432x288 with 1 Axes>"
      ]
     },
     "metadata": {
      "needs_background": "light"
     },
     "output_type": "display_data"
    }
   ],
   "source": [
    "#Создаю доп датасет(что бы не запутаться) и удаляю из него количественные переменные\n",
    "all_data1 = all_data.drop(['MonthlyCharges','TotalCharges','total_days'], axis=1)\n",
    "#ОНЕ кодировка\n",
    "all_data_ohe1 = pd.get_dummies(all_data1, drop_first = True)\n",
    "# строю бар плот\n",
    "cat_barplot = pd.Series(mutual_info_classif(all_data_ohe1.drop(['leave'], axis = 1), all_data_ohe1['leave'],\n",
    "                                        discrete_features=True), index=all_data_ohe1.drop(['leave'], axis = 1).columns)\n",
    "cat_barplot.sort_values(inplace=True, ascending=False)\n",
    "cat_barplot.plot(kind=\"bar\");"
   ]
  },
  {
   "cell_type": "markdown",
   "metadata": {},
   "source": [
    "<div class=\"alert alert-success\">\n",
    "<b>✔️ Комментарий ревьювера (v2):</b> Хорошо, что попробовал данный способ для отбора признаков.\n",
    "    \n",
    "</div>"
   ]
  },
  {
   "cell_type": "markdown",
   "metadata": {},
   "source": [
    "Из графика видно, что признаки после PaymentMethod_mailed не оказываю влияния на таргет. в связи с чем считаю целесообразным их удалить"
   ]
  },
  {
   "cell_type": "code",
   "execution_count": 92,
   "metadata": {},
   "outputs": [],
   "source": [
    "all_data = all_data.drop(['gender','phone','MultipleLines','StreamingMovies','StreamingTV','DeviceProtection','OnlineBackup'], axis=1)"
   ]
  },
  {
   "cell_type": "markdown",
   "metadata": {},
   "source": [
    "#### ОНЕ кодирование"
   ]
  },
  {
   "cell_type": "markdown",
   "metadata": {},
   "source": [
    "<div class=\"alert alert-danger\">\n",
    "<b>🚫 Комментарий ревьювера (v2):</b> К сожалению OHE кодирование выполнена неверно :(\n",
    "    \n",
    "Советую обращать внимание на количество получившихся столбцов, здесь очень большая матрица, как можно увидеть ниже.\n",
    "    \n",
    "Все потому, что функция get_dummies кодирует колонки, в которых тип данных category, object.\n",
    "    \n",
    "https://pandas.pydata.org/docs/reference/api/pandas.get_dummies.html\n",
    "    \n",
    "У тебя закодировалась колонка TotalCharges, которая поидее должна иметь числовой тип данных. Поправь пожалуйста.\n",
    "    \n",
    "</div>"
   ]
  },
  {
   "cell_type": "markdown",
   "metadata": {},
   "source": [
    "<div class=\"alert alert-success\">\n",
    "<b>✔️ Комментарий студента 2:</b> Все исправил, большое спасибо за подсказку! \n",
    "    \n",
    "</div>"
   ]
  },
  {
   "cell_type": "markdown",
   "metadata": {},
   "source": [
    "<div class=\"alert alert-success\">\n",
    "<b>✔️ Комментарий ревьювера (v3):</b> Теперь все правильно!\n",
    "    \n",
    "</div>"
   ]
  },
  {
   "cell_type": "code",
   "execution_count": 93,
   "metadata": {},
   "outputs": [],
   "source": [
    "# преобразую столбец TotalCharges в float что бы избежать его кодирования\n",
    "all_data['TotalCharges'] = all_data['TotalCharges'].apply(lambda col:pd.to_numeric(col, errors='coerce'))\n",
    "# удаляю пропуски\n",
    "all_data.dropna(subset=['TotalCharges'], inplace=True)\n",
    "#all_data.isna().sum()\n"
   ]
  },
  {
   "cell_type": "code",
   "execution_count": 94,
   "metadata": {
    "scrolled": true
   },
   "outputs": [],
   "source": [
    "\n",
    "#Создадаю датафрейм методом прямого кодирования с защитой от дамми-ловушки.\n",
    "all_data_ohe = pd.get_dummies(all_data, drop_first = True)\n",
    "#all_data_ohe.info()"
   ]
  },
  {
   "cell_type": "markdown",
   "metadata": {},
   "source": [
    "<div class=\"alert alert-danger\">\n",
    "<b>🚫 Комментарий ревьювера:</b> У тебя остался столбец id и он был закодирован. Нужно удалить данный столбец перед кодированием признаков.\n",
    "    \n",
    "</div>"
   ]
  },
  {
   "cell_type": "markdown",
   "metadata": {},
   "source": [
    "<div class=\"alert alert-success\">\n",
    "<b>✔️ Комментарий студента:</b> Столбец с ID клиента удалил\n",
    "    \n",
    "</div>"
   ]
  },
  {
   "cell_type": "markdown",
   "metadata": {},
   "source": [
    "<div class=\"alert alert-success\">\n",
    "<b>✔️ Комментарий ревьювера (v2):</b> Хорошо, что удалил id. \n",
    "    \n",
    "</div>"
   ]
  },
  {
   "cell_type": "code",
   "execution_count": 95,
   "metadata": {},
   "outputs": [
    {
     "data": {
      "image/png": "[encoded data removed]",
      "text/plain": [
       "<Figure size 432x288 with 1 Axes>"
      ]
     },
     "metadata": {
      "needs_background": "light"
     },
     "output_type": "display_data"
    },
    {
     "name": "stdout",
     "output_type": "stream",
     "text": [
      "Баланс классов \n",
      "0    0.734215\n",
      "1    0.265785\n",
      "Name: leave, dtype: float64\n"
     ]
    }
   ],
   "source": [
    "# Изучу баланс классов\n",
    "all_data_ohe['leave'].value_counts(normalize = (0,1)).plot(kind = 'bar', grid = True)\n",
    "plt.show()\n",
    "print('Баланс классов ', all_data_ohe['leave'].value_counts(normalize = (0,1)), sep='\\n')"
   ]
  },
  {
   "cell_type": "markdown",
   "metadata": {},
   "source": [
    "Имеется дисбаланс целевого признака. Далее буду с ним бороться. Попробую несколько вариантов."
   ]
  },
  {
   "cell_type": "markdown",
   "metadata": {},
   "source": [
    "#### Разделение на выборки"
   ]
  },
  {
   "cell_type": "code",
   "execution_count": 96,
   "metadata": {},
   "outputs": [
    {
     "name": "stdout",
     "output_type": "stream",
     "text": [
      "(4219, 17) (1406, 17) (1407, 17)\n",
      "(4219,) (1406,) (1407,)\n"
     ]
    }
   ],
   "source": [
    "# Определяю признаки и цель\n",
    "features = all_data_ohe.drop(['leave'], axis = 1)\n",
    "target = all_data_ohe['leave']\n",
    "\n",
    "# Выполняю разделение выборки на обучающу валидационную и тестовую в пропорции 60:20:20\n",
    "features_train, features_valid, target_train, target_valid = train_test_split(features, target, test_size=0.4, \n",
    "                                                                              random_state=12345)\n",
    "features_valid, features_test, target_valid, target_test = train_test_split(features_valid, target_valid, test_size=0.5, \n",
    "                                                                              random_state=12345 )\n",
    "print(features_train.shape, features_valid.shape, features_test.shape)\n",
    "print(target_train.shape, target_valid.shape, target_test.shape)"
   ]
  },
  {
   "cell_type": "markdown",
   "metadata": {},
   "source": [
    "<div class=\"alert alert-danger\">\n",
    "<b>🚫 Комментарий ревьювера:</b> Есть важный момент в выборе признаков для обучения. Поскольку у нас проект не временные ряды, то факторы, связанные с датой и временем нужно удалить. Иначе метрика сильно вырастет и модель переобучится. А на реальных данных результаты будут неправильные.\n",
    "    \n",
    "Но можно посчитать время, пока клиент пользовался сервисом (например в днях или месяцах). Вот этот фактор будет хорошо влиять на предсказания.\n",
    "    \n",
    "</div>"
   ]
  },
  {
   "cell_type": "markdown",
   "metadata": {},
   "source": [
    "<div class=\"alert alert-success\">\n",
    "<b>✔️ Комментарий студента:</b> Благодарю за подсказку. Я чувствовал, что что-то не так, но не мог понять в чем дело.\n",
    "    Все исправил. Код перед кодированием ОНЕ. Код для вычисления получился громоздким, может быть есть способ поизящнее?\n",
    "    \n",
    "</div>"
   ]
  },
  {
   "cell_type": "markdown",
   "metadata": {},
   "source": [
    "<div class=\"alert alert-success\">\n",
    "<b>✔️ Комментарий ревьювера (v2):</b> Ты про какой код, который для обучения моделей и предсказаний?\n",
    "    \n",
    "Например, можно сделать функцию, куда будут передаваться нужная модель и гиперпараметры.\n",
    "    \n",
    "А в самой функции написать GridSearch и вывод лучших параметров.\n",
    "    \n",
    "</div>"
   ]
  },
  {
   "cell_type": "markdown",
   "metadata": {},
   "source": [
    "<div class=\"alert alert-success\">\n",
    "<b>✔️ Комментарий студента 2:</b> Про то как достать количество месяцев.\n",
    "    \n",
    "</div>"
   ]
  },
  {
   "cell_type": "markdown",
   "metadata": {},
   "source": [
    "### Иследование задачи"
   ]
  },
  {
   "cell_type": "code",
   "execution_count": 97,
   "metadata": {},
   "outputs": [],
   "source": [
    "def line():\n",
    "    print('______________________________________________')"
   ]
  },
  {
   "cell_type": "markdown",
   "metadata": {},
   "source": [
    "#### DecisionTreeClassifier"
   ]
  },
  {
   "cell_type": "markdown",
   "metadata": {},
   "source": [
    "<div class=\"alert alert-warning\">\n",
    "<b>⚠️ Комментарий ревьювера:</b> Желательно исходить от параметров по умолчанию в модели, чтобы не перебирать лишние значения.\n",
    "    \n",
    "</div>"
   ]
  },
  {
   "cell_type": "markdown",
   "metadata": {},
   "source": [
    "<div class=\"alert alert-success\">\n",
    "<b>✔️ Комментарий студента:</b> Исправил\n",
    "    \n",
    "</div>"
   ]
  },
  {
   "cell_type": "markdown",
   "metadata": {},
   "source": [
    "<div class=\"alert alert-success\">\n",
    "<b>✔️ Комментарий ревьювера (v2):</b> Хорошо.\n",
    "    \n",
    "</div>"
   ]
  },
  {
   "cell_type": "code",
   "execution_count": 114,
   "metadata": {},
   "outputs": [],
   "source": [
    "#regressor = DecisionTreeClassifier(class_weight='balanced',random_state=12345) \n",
    "#hyperparams = [{'max_depth':range(1,160,5)}]\n",
    "\n",
    "#print('# Подбор гиперпараметров для получения лучшей метрики')\n",
    "#line()\n",
    "#clf = GridSearchCV(regressor, hyperparams, scoring='roc_auc')\n",
    "#clf.fit(features_train, target_train)\n",
    "#print(\"Лучший лучший показатель получается при следуюших параметрах:\")\n",
    "#print(clf.best_params_)\n",
    "#line()\n",
    "#print(\"Лучший roc_auc_score:\")\n",
    "#print(clf.best_score_)\n",
    "#line()\n",
    "#predictions = clf.predict(features_test)\n",
    "#print(classification_report(target_test, predictions))\n"
   ]
  },
  {
   "cell_type": "markdown",
   "metadata": {},
   "source": [
    "Лучший лучший показатель получается при следуюших параметрах:\n",
    "{'max_depth': 6}\n",
    "______________________________________________\n",
    "Лучший roc_auc_score:\n",
    "0.8392889906181782\n",
    "______________________________________________\n"
   ]
  },
  {
   "cell_type": "markdown",
   "metadata": {},
   "source": [
    "#### LogisticRegression"
   ]
  },
  {
   "cell_type": "markdown",
   "metadata": {},
   "source": [
    "<div class=\"alert alert-success\">\n",
    "<b>✔️ Комментарий ревьювера:</b> Хорошо, что в линейной регрессии используешь GridSearchCV!\n",
    "    \n",
    "Правильно, что смотришь лучший результат на кросс-валидации.\n",
    "    \n",
    "</div>"
   ]
  },
  {
   "cell_type": "code",
   "execution_count": 116,
   "metadata": {
    "scrolled": true
   },
   "outputs": [],
   "source": [
    "#regressor = LogisticRegression(class_weight='balanced', random_state=12345) \n",
    "#hyperparams = [{\n",
    "#        'C': range(1,5,1),\n",
    "#        'penalty': ['l1','l2','elasticnet'],\n",
    "#        'solver': ['lbfgs', 'liblinear', 'sag', 'saga']\n",
    "#        }]\n",
    "\n",
    "#print('# Подбор гиперпараметров для получения лучшей метрики')\n",
    "#line()\n",
    "#clf = GridSearchCV(regressor, hyperparams, scoring='roc_auc')\n",
    "#clf.fit(features_train, target_train)\n",
    "#print(\"Лучший лучший показатель получается при следуюших параметрах:\")\n",
    "#print(clf.best_params_)\n",
    "#line()\n",
    "#print(clf.best_score_)\n"
   ]
  },
  {
   "cell_type": "markdown",
   "metadata": {},
   "source": [
    "Лучший лучший показатель получается при следуюших параметрах:\n",
    "{'C': 1, 'penalty': 'l1', 'solver': 'liblinear'}\n",
    "______________________________________________\n",
    "0.8413419315443619"
   ]
  },
  {
   "cell_type": "markdown",
   "metadata": {},
   "source": [
    "#### LGBMClassifier"
   ]
  },
  {
   "cell_type": "code",
   "execution_count": 105,
   "metadata": {},
   "outputs": [],
   "source": [
    "\n",
    "#regressor = LGBMClassifier() \n",
    "#hyperparams = [{'num_leaves':[31, 100, 200], \n",
    "#                'learning_rate':[0.1, 0.3, 0.5],\n",
    "#                'random_state':[RND]}]\n",
    "\n",
    "#print('# Подбор гиперпараметров для получения лучшей метрики')\n",
    "#line()\n",
    "#clf = GridSearchCV(regressor, hyperparams, scoring='roc_auc')\n",
    "#clf.fit(features_train, target_train)\n",
    "#print(\"Лучший лучший показатель получается при следуюших параметрах:\")\n",
    "#print(clf.best_params_)\n",
    "#line()\n",
    "#print(clf.best_score_)"
   ]
  },
  {
   "cell_type": "markdown",
   "metadata": {},
   "source": [
    "Лучший лучший показатель получается при следуюших параметрах:\n",
    "{'learning_rate': 0.3, 'num_leaves': 31, 'random_state': 12345}\n",
    "______________________________________________\n",
    "0.8796707607574445"
   ]
  },
  {
   "cell_type": "markdown",
   "metadata": {},
   "source": [
    "#### RandomForestClassifier"
   ]
  },
  {
   "cell_type": "code",
   "execution_count": 119,
   "metadata": {},
   "outputs": [],
   "source": [
    "#regressor = RandomForestClassifier(class_weight='balanced',random_state=12345) \n",
    "#hyperparams = [{'n_estimators':  range(10,150,10), \n",
    "#                'max_depth':range(10,60,10),\n",
    "#                }]\n",
    "\n",
    "#print('# Подбор гиперпараметров для получения лучшей метрики')\n",
    "#line()\n",
    "#clf = GridSearchCV(regressor, hyperparams, scoring='roc_auc')\n",
    "#clf.fit(features_train, target_train)\n",
    "#print(\"Лучший лучший показатель получается при следуюших параметрах:\")\n",
    "#print(clf.best_params_)\n",
    "#line()\n",
    "#print(clf.best_score_)\n",
    "#line()\n",
    "#predictions = clf.predict(features_test)\n",
    "#print(classification_report(target_test, predictions))"
   ]
  },
  {
   "cell_type": "markdown",
   "metadata": {},
   "source": [
    "Лучший лучший показатель получается при следуюших параметрах:\n",
    "{'max_depth': 10, 'n_estimators': 140}\n",
    "______________________________________________\n",
    "0.8583791464624657"
   ]
  },
  {
   "cell_type": "markdown",
   "metadata": {},
   "source": [
    "#### CatBoostClassifier"
   ]
  },
  {
   "cell_type": "code",
   "execution_count": 102,
   "metadata": {},
   "outputs": [],
   "source": [
    "#RND=12345\n",
    "#regressor = CatBoostClassifier(loss_function = 'CrossEntropy') \n",
    "#hyperparams = [{'learning_rate':[0.01, 0.05, 0.1, 0.3, 0.5],\n",
    "#                'random_state':[RND],\n",
    "#                'verbose':[False]}]\n",
    "\n",
    "#print('# Подбор гиперпараметров для получения лучшей метрики')\n",
    "#line()\n",
    "#clf = GridSearchCV(regressor, hyperparams, scoring='roc_auc')\n",
    "#clf.fit(features_train, target_train)\n",
    "#print(\"Лучший roc_auc_score получается при следуюших параметрах:\")\n",
    "#print(clf.best_params_)\n",
    "#print(clf.best_score_)\n",
    "\n"
   ]
  },
  {
   "cell_type": "markdown",
   "metadata": {},
   "source": [
    "\n",
    "Лучший roc_auc_score получается при следуюших параметрах:\n",
    "\n",
    "{'learning_rate': 0.05, 'random_state': 12345, 'verbose': False}\n",
    "\n",
    "0.9030840075735768"
   ]
  },
  {
   "cell_type": "markdown",
   "metadata": {},
   "source": [
    "<div class=\"alert alert-warning\">\n",
    "<b>⚠️ Комментарий ревьювера:</b> Рекомендую посмотреть важность признаков хотя бы для одной модели, например для CatBoost. \n",
    "    \n",
    "Будет здорово, если построишь график, например барплот по признакам.\n",
    "    \n",
    "Так мы сможем увидеть, какие признаки слабо влияют на отток, и в принципе их можно вообще исключить из обучения, и сделать новую модель, отобрав только самые важные признаки. (Пересчитывать с новыми признаками не нужно).\n",
    "\n",
    "</div>"
   ]
  },
  {
   "cell_type": "markdown",
   "metadata": {},
   "source": [
    "<div class=\"alert alert-success\">\n",
    "<b>✔️ Комментарий студента:</b> Важность признаков посмотрел в п.7.2 Подготовка данных. По итогу решил убрать несколько признаков\n",
    "    \n",
    "</div>"
   ]
  },
  {
   "cell_type": "markdown",
   "metadata": {},
   "source": [
    "<div class=\"alert alert-success\">\n",
    "<b>✔️ Комментарий ревьювера (v2):</b> Хорошо.\n",
    "    \n",
    "</div>"
   ]
  },
  {
   "cell_type": "markdown",
   "metadata": {},
   "source": [
    "#### ROC-кривая"
   ]
  },
  {
   "cell_type": "markdown",
   "metadata": {},
   "source": [
    "<div class=\"alert alert-warning\">\n",
    "<b>⚠️ Комментарий ревьювера:</b> Желательно построить график ROC-кривой, можно хотя бы для одной модели.\n",
    "\n",
    "</div>"
   ]
  },
  {
   "cell_type": "code",
   "execution_count": 122,
   "metadata": {},
   "outputs": [
    {
     "name": "stdout",
     "output_type": "stream",
     "text": [
      "AUC-ROC DecisionTreeClassifier 0.840325772807238\n",
      "AUC-ROC RandomForestClassifier 0.8480603899639775\n",
      "AUC-ROC LogisticRegression 0.8487894780933232\n",
      "AUC-ROC LGBMClassifier 0.906125649241853\n",
      "AUC-ROC CatBoostClassifier 0.9246617659378403\n"
     ]
    },
    {
     "data": {
      "image/png": "[encoded data removed]",
      "text/plain": [
       "<Figure size 864x648 with 1 Axes>"
      ]
     },
     "metadata": {
      "needs_background": "light"
     },
     "output_type": "display_data"
    }
   ],
   "source": [
    "# Для наглядности построю кривую\n",
    "plt.figure(figsize=[12,9])\n",
    "\n",
    "plt.plot([0, 1], [0, 1], linestyle='--', label='RandomModel')\n",
    "\n",
    "\n",
    "model = DecisionTreeClassifier(class_weight='balanced',random_state=12345, max_depth=6)\n",
    "model.fit(features_train, target_train)\n",
    "probabilities_valid = model.predict_proba(features_valid)\n",
    "probabilities_one_valid = probabilities_valid[:, 1]\n",
    "fpr, tpr, thresholds = roc_curve(target_valid, probabilities_one_valid)\n",
    "auc_roc = roc_auc_score(target_valid, probabilities_one_valid)\n",
    "print('AUC-ROC DecisionTreeClassifier',auc_roc)\n",
    "plt.plot(fpr, tpr, label='DecisionTreeClassifier')\n",
    "\n",
    "model = RandomForestClassifier(class_weight='balanced',random_state=12345, n_estimators=130, max_depth=40)\n",
    "model.fit(features_train, target_train)\n",
    "probabilities_valid = model.predict_proba(features_valid)\n",
    "probabilities_one_valid = probabilities_valid[:, 1]\n",
    "fpr, tpr, thresholds = roc_curve(target_valid, probabilities_one_valid)\n",
    "auc_roc = roc_auc_score(target_valid, probabilities_one_valid)\n",
    "print('AUC-ROC RandomForestClassifier',auc_roc)\n",
    "plt.plot(fpr, tpr, label='RandomForestClassifier')\n",
    "\n",
    "model = LogisticRegression(class_weight='balanced',random_state=12345, C = 1, penalty = 'l2', solver='liblinear')\n",
    "model.fit(features_train, target_train)\n",
    "probabilities_valid = model.predict_proba(features_valid)\n",
    "probabilities_one_valid = probabilities_valid[:, 1]\n",
    "fpr, tpr, thresholds = roc_curve(target_valid, probabilities_one_valid)\n",
    "auc_roc = roc_auc_score(target_valid, probabilities_one_valid)\n",
    "print('AUC-ROC LogisticRegression',auc_roc)\n",
    "plt.plot(fpr, tpr, label='LogisticRegression')\n",
    "\n",
    "model = LGBMClassifier(random_state=12345,  num_leaves = 31, learning_rate=0.3,)\n",
    "model.fit(features_train, target_train)\n",
    "probabilities_one_valid = model.predict_proba(features_valid)[:,1]\n",
    "fpr, tpr, thresholds = roc_curve(target_valid, probabilities_one_valid)\n",
    "auc_roc = roc_auc_score(target_valid, probabilities_one_valid)\n",
    "print('AUC-ROC LGBMClassifier',auc_roc)\n",
    "plt.plot(fpr, tpr, label='LGBMClassifier')\n",
    "\n",
    "model = CatBoostClassifier(random_state=12345, learning_rate=0.05, verbose = False)\n",
    "model.fit(features_train, target_train)\n",
    "probabilities_one_valid = model.predict_proba(features_valid)[:,1]\n",
    "fpr, tpr, thresholds = roc_curve(target_valid, probabilities_one_valid)\n",
    "auc_roc = roc_auc_score(target_valid, probabilities_one_valid)\n",
    "print('AUC-ROC CatBoostClassifier',auc_roc)\n",
    "plt.plot(fpr, tpr, label='CatBoostClassifier')\n",
    "\n",
    "plt.xlim([0,1])\n",
    "plt.ylim([0,1])\n",
    "\n",
    "plt.xlabel(\"False Positive Rate\")\n",
    "plt.ylabel(\"True Positive Rate\")\n",
    "\n",
    "plt.legend(loc='lower right', fontsize='x-large')\n",
    "\n",
    "plt.title(\"ROC-кривая\")\n",
    "plt.show()"
   ]
  },
  {
   "cell_type": "markdown",
   "metadata": {},
   "source": [
    "<div class=\"alert alert-success\">\n",
    "<b>✔️ Комментарий ревьювера (v2):</b> Здорово, что построил ROC-кривые для разных моделей!\n",
    "    \n",
    "</div>"
   ]
  },
  {
   "cell_type": "markdown",
   "metadata": {},
   "source": [
    "### Тестирование модели"
   ]
  },
  {
   "cell_type": "markdown",
   "metadata": {},
   "source": [
    "<div class=\"alert alert-warning\">\n",
    "<b>⚠️ Комментарий ревьювера (v2):</b> Ты все-таки остановился на модели логистической регрессии?\n",
    "    \n",
    "\n",
    "</div>"
   ]
  },
  {
   "cell_type": "markdown",
   "metadata": {},
   "source": [
    "<div class=\"alert alert-success\">\n",
    "<b>✔️ Комментарий студента 2:</b> Да, так как CatBoostRegressor не работает.\n",
    "    \n",
    "</div>"
   ]
  },
  {
   "cell_type": "markdown",
   "metadata": {},
   "source": [
    "<div class=\"alert alert-warning\">\n",
    "<b>⚠️ Комментарий ревьювера (v3):</b> Странно, у меня все заработало локально.\n",
    "    \n",
    "Только сейчас заметил, у нас задача классификации и нужно использовать  CatBoostClassifier. Также и другие соответствующие модели, поправь пожалуйста.\n",
    "    \n",
    "</div>"
   ]
  },
  {
   "cell_type": "markdown",
   "metadata": {},
   "source": [
    "<div class=\"alert alert-danger\">\n",
    "<b>🚫 Комментарий ревьювера:</b> При тестировании мы считаем метрику roc_auc.\n",
    "    \n",
    "Обрати внимание, когда будешь делать предсказания на тестовой выборке. По умолчанию модели считают принадлежность к классу, а для roc-auc нужны вероятности.\n",
    "    \n",
    "</div>"
   ]
  },
  {
   "cell_type": "markdown",
   "metadata": {},
   "source": [
    "<div class=\"alert alert-success\">\n",
    "<b>✔️ Комментарий студента:</b> Учел\n",
    "    \n",
    "</div>"
   ]
  },
  {
   "cell_type": "code",
   "execution_count": 120,
   "metadata": {},
   "outputs": [
    {
     "name": "stdout",
     "output_type": "stream",
     "text": [
      "______________________________________________\n",
      "Валидационная выборка f1_score =  0.7514792899408284\n",
      "Тестовая выборка f1_score =  0.6906906906906907\n",
      "______________________________________________\n",
      "Валидационная выборка Точность попадания по классам 0.8805120910384068\n",
      "Тестовая выборка Точность попадания по классам 0.853589196872779\n",
      "______________________________________________\n",
      "Валидационная выборка Precision 0.8246753246753247\n",
      "Тестовая выборка Precision 0.8013937282229965\n",
      "______________________________________________\n",
      "Валидационная выборка Recall 0.6902173913043478\n",
      "Тестовая выборка Recall 0.6068601583113457\n",
      "______________________________________________\n",
      "Валидационная выборка roc_auc_score = 0.9246617659378403\n",
      "Тестовая выборка roc_auc_score = 0.905029875876513\n"
     ]
    }
   ],
   "source": [
    "#Провожу тестирование на лучших гиперпараметрах\n",
    "\n",
    "model = CatBoostClassifier(random_state=12345, learning_rate=0.05, verbose = False) \n",
    "model.fit(features_train, target_train)\n",
    "\n",
    "predicted_valid = model.predict(features_valid)\n",
    "predicted_test = model.predict(features_test)\n",
    "\n",
    "probabilities_one_valid = model.predict_proba(features_valid)[:,1]\n",
    "probabilities_one_test = model.predict_proba(features_test)[:,1]\n",
    "\n",
    "\n",
    "line()\n",
    "print('Валидационная выборка f1_score = ', f1_score(target_valid, predicted_valid))\n",
    "print('Тестовая выборка f1_score = ', f1_score(target_test, predicted_test))\n",
    "\n",
    "line()\n",
    "print('Валидационная выборка Точность попадания по классам', accuracy_score(target_valid, predicted_valid))\n",
    "print('Тестовая выборка Точность попадания по классам', accuracy_score(target_test, predicted_test))\n",
    "\n",
    "line()\n",
    "print('Валидационная выборка Precision', precision_score(target_valid, predicted_valid))\n",
    "print('Тестовая выборка Precision', precision_score(target_test, predicted_test))\n",
    "\n",
    "line()\n",
    "print('Валидационная выборка Recall', recall_score(target_valid, predicted_valid))\n",
    "print('Тестовая выборка Recall', recall_score(target_test, predicted_test))\n",
    "\n",
    "line()\n",
    "print('Валидационная выборка roc_auc_score =', roc_auc_score(target_valid,probabilities_one_valid )) \n",
    "print('Тестовая выборка roc_auc_score =', roc_auc_score(target_test, probabilities_one_test))\n"
   ]
  },
  {
   "cell_type": "markdown",
   "metadata": {},
   "source": [
    "<div class=\"alert alert-success\">\n",
    "<b>✔️ Комментарий студента:</b> Вроде бы все исправил, но все равно не получается высокая roc_auc_score и f1_score совсем маленькая.  Подскажи, пожалуйста, что исправить? также не могу понять почему модель CatBoostRegressor выдает ошибку на probabilities_test = model.predict_proba(features_test)?\n",
    "    \n",
    "</div>"
   ]
  },
  {
   "cell_type": "markdown",
   "metadata": {},
   "source": [
    "<div class=\"alert alert-success\">\n",
    "<b>✔️ Комментарий ревьювера (v2):</b> Есть подозрение, что модели выдают ошибку из-за неправильного кодирования категориальных признаков.\n",
    "    \n",
    "Скорее всего низкое значение метрики из-за неправильного OHE-кодирования. \n",
    "    \n",
    "Нужно признак TotalCharges перевести в числовой тип, чтобы он не был закодирован.\n",
    "    \n",
    "Желательно проверить пропуски в признаке TotalCharges.\n",
    "    \n",
    "</div>"
   ]
  },
  {
   "cell_type": "markdown",
   "metadata": {},
   "source": [
    "<div class=\"alert alert-success\">\n",
    "<b>✔️ Комментарий студента 2:</b> Все исправил но метрика так и не подросла(. Не знаю что с этим делать\n",
    "    \n",
    "</div>"
   ]
  },
  {
   "cell_type": "markdown",
   "metadata": {},
   "source": [
    "<div class=\"alert alert-success\">\n",
    "<b>✔️ Комментарий ревьювера (v3):</b> Можно попробовать оставить больше признаков, которые ты удалил. Еще считать срок жизни абонента не в месяцах а днях.\n",
    "    \n",
    "CatBoostRegressor, LGBMRegressor нужно заменить на Classifier.\n",
    "    \n",
    "</div>"
   ]
  },
  {
   "cell_type": "markdown",
   "metadata": {},
   "source": [
    "<div class=\"alert alert-success\">\n",
    "<b>✔️ Комментарий студента 3:</b> Ура ура ура))) Все получилось!!! \n",
    "    Перевел срок жизни клиента в дни и Regressor заменил на Classifier. Огромное спасибо за подсказки.\n",
    "    Кстати говоря сам по себе срок жизни клиента в днях дал небольшой прирост почти по всем моделям. Объясни, пожалуйста, по чему так произошло? Ведь по сути изменился только порядок цифр соотнощение то осталось прежним.\n",
    "</div>"
   ]
  },
  {
   "cell_type": "markdown",
   "metadata": {},
   "source": [
    "<div class=\"alert alert-success\">\n",
    "<b>✔️ Комментарий ревьювера (v4):</b> Тебе удалось справиться с выпускным проектом, поздравляю! Данные из разных таблиц собраны в один датафрейм, удалены аномалии, заполнены пропуски, получены новые признаки, а ненужные признаки удалены. Рассмотрено несколько моделей и сделан перебор параметров. Могу отметить самостоятельность и аналитический подход в выполнении проекта! \n",
    "    \n",
    "Значение метрики ROC-AUC > 0.88, это значит что по работе максимальный балл =) Поздравляю!\n",
    "    \n",
    "</div>"
   ]
  },
  {
   "cell_type": "markdown",
   "metadata": {},
   "source": [
    "<div class=\"alert alert-success\">\n",
    "<b>✔️ Комментарий ревьювера (v4):</b> Так получилось, потому что измерение в днях более точное, чем в месяцах или годах.\n",
    "    \n",
    "Например, клиент мог пользоваться 5 дней и уйти, а мог 30 дней. И все это условно 1 месяц, хотя разница большая. Вполне возможно, что это влияет.\n",
    "    \n",
    "</div>"
   ]
  },
  {
   "cell_type": "markdown",
   "metadata": {},
   "source": [
    "<div class=\"alert alert-success\">\n",
    "<b>✔️ Комментарий ревьювера (v4):</b> Проект принят, итоговая оценка 6 sp.\n",
    "    \n",
    "Андрей, на этом мы прощаемся. Было приятно поработать с тобой над финальным проектом 👍\n",
    "    \n",
    "Желаю удачи в дальнейшем пути Data Scientist'а!\n",
    "</div>"
   ]
  },
  {
   "cell_type": "markdown",
   "metadata": {},
   "source": [
    "### Общий вывод"
   ]
  },
  {
   "cell_type": "markdown",
   "metadata": {},
   "source": [
    "1. Для проекта предоставленно 4 датасета дубликатов и пропусков нет.\n",
    "\n",
    "- 2 таблицы имеют 7043 строки это таблицы с данными о контракте и персональными данными клиентов.\n",
    "- 2 содержат информацию о том какими услугами пользуются клиенты компании. эти таблицы содержат меньшее количество строк. соответственно можно сделать вывод не все клиенты приобрели и услуги телефонии и услуги интернет.\n",
    "- Для проведения анализа  объеденил все таблицы в один датасет.\n",
    "\n",
    "2. Сравнение распределения величин ежемесячных платежей показало, что у ушедших пользователей показатели среднего, минимального и максимальнго значения а также медиана и величины 25%- и 75%-квартилей намного ВЫШЕ чем у действующих пользователей.\n",
    "\n",
    "- Например:\n",
    "\n",
    "- среднее 74 к 61\n",
    "- медиана 79 к 64\n",
    "- 25%-квартиль 56 к 25\n",
    "- 75%-квартиль 94 к 88\n",
    "- Можно предположить, что клиенты ушли из - за высокой ежемесячной платы. Возможно если бы им были предложены лучшие условия они бы остались\n",
    "\n",
    "3. Доля использования интернета среди ушедших клиентов равна 93%\n",
    "\n",
    "- Доля использования телефона среди ушедших клиентов равна 90%\n",
    "\n",
    "Из чего можно сделать вывод, что используемая услуга не влияет на уход клиентов т.к. значительное большинство клиентов пользовались одновременно обоими услугами.\n",
    "\n",
    "Так же можно заметить, что доля использования интернета среди действующих клиентов равна 30%, что говорит о том что менеджерам компании есть к чему стремиться\n",
    "\n",
    "4. Анализируя Гистограмму распределения по методу платежа можно сделать вывод, что среди клиентов используюших электронный метов оплаты большая часть ушедших клиентов. Возможно у компании не удобный интерфейс оплаты и над ним нужно поработать. Возможно клиенты не оплачивают услуги заранее, а например как я вспоминаю об оплате когда интернет отключился и соответственно если нет интернета я не могу провести онлайн платеж и это реально раздражает(так с горяча я поменял не одного провайдера). В таком случае компании стоит расмотреть инструмент информирования клиентов о сроке очередного платежа за условные 3-5 дней. Или предусмотреть техническую возможность для проведения платежа при отключенной услуге.\n",
    "\n",
    "- Гистограмма распределения по гендерному признаку показала, что пол клиента ни как не влияет на отток.\n",
    "\n",
    "- Гистограмма распределения по семейному положению показала, что при наличие партнера клиенты реже уходят чем холостые.\n",
    "\n",
    "- Гистограмма распределения по наличию еждевенцев показала, что при отсутствии еждевенца клиенты чаще покидают компанию.\n",
    "\n",
    "- Гистограмма распределения по типу платежа показала, что 90% доля ушедших клиентов приходится на ежемесячный тип платежа. Тут сотрудникам компании нужно серьезно задуматься как угодоворить клиентов перейти на более длительные подписки. Возможно компании необходимо продумать программу предоставления скидок с целью мотивации клиентов для приобретения долгосрочных подписок. \n",
    "5. Для выбора наилучшей модели было проверено несколько моделей. \n",
    "- Модель CatBoostClassifier показала лучший результат.\n",
    "- Модель LGBMClassifier так же проявила себя не плохо\n",
    "6. Тестирование решил провести на модели CatBoostClassifier.  на тестовой выборке удалось достичь roc_auc_score = 0.9."
   ]
  },
  {
   "cell_type": "markdown",
   "metadata": {},
   "source": [
    "<div class=\"alert alert-success\">\n",
    "<b>✔️ Комментарий ревьювера (v4):</b> Вот небольшие статьи по метрикам в машинном обучении, может пригодиться на будущее:\n",
    "\n",
    "https://habr.com/ru/company/ods/blog/328372/ \n",
    "    \n",
    "https://habr.com/ru/company/jetinfosystems/blog/420261/\n",
    "\n",
    "</div>"
   ]
  },
  {
   "cell_type": "markdown",
   "metadata": {},
   "source": [
    "<font color=blue>\n",
    "<b> ✔️ 👍Заключение ревьювера:</b> Андрей, было приятно проверять твою работу, она выполнена на хорошем уровне и практически завершена! \n",
    "    \n",
    "Положительные моменты: \n",
    "    \n",
    "- грамотное и понятное оформление кода;\n",
    "    \n",
    "- аналитический подход — при удалении признаков и формировании новых написано соответствующее обоснование;\n",
    "    \n",
    "- рассмотрено несколько моделей для обучения, сделан перебор гиперпараметров, использован GridSearchCV.\n",
    "    \n",
    "Сейчас по проекту есть несколько важных замечаний, которые не трудно поправить. Кроме того, ты быстро подготовил проект, поэтому у нас есть запас по времени, чтобы его улучшить — можешь поработать над рекомендациями, чтобы улучшить проект и получить максимальную оценку =)\n",
    "\n",
    "Будет также интересно также посчитать метрику accuracy.\n",
    "\n",
    "Из основных рекомендаций: \n",
    "\n",
    "- удалить столбец id из датасета, переделать кодирование ohe;\n",
    "    \n",
    "- сгенерировать признак срок жизни клиента, удалить факторы даты/времени.\n",
    "    \n",
    "- пересчитать результат, проверить что модели не переобучились. Если метрика ROC-AUC получилась высокая на валидации а на тесте сильно упала, значит модель переобучилась.\n",
    " \n",
    "- на тестовой выборке посчитать roc-auc метрику;\n",
    "    \n",
    "- добавить важность признаков хотя бы для одной модели (feature_importances_).\n",
    "            \n",
    "На будущее стоит иметь ввиду, что метрика ROC-AUC является не единственной, всегда нужно прислушиваться к требованиями бизнеса. Обычно одной метрикой не ограничиваются, смотрят также Precision, Recall, и выбирают те, которые наиболее подходят для конкретных задач.\n",
    "    \n",
    "Также нужно смотреть на важность признаков в модели, чтобы понимать, а какие параметры влияют на отток? Может быть нужно подключить клиентам интернет со скидкой ?)\n",
    "    \n",
    "Проверка важности признаков по модели это только один из способов (корреляция в том числе). Используют также методы проверки гипотез.\n",
    "    \n",
    "Если есть какие-то трудности, или нужны пояснения по проекту — смело пиши! Я постараюсь тебе помочь 😊\n",
    "\n",
    "Жду твоего ответа!\n",
    "    \n",
    "</font>"
   ]
  },
  {
   "cell_type": "code",
   "execution_count": null,
   "metadata": {},
   "outputs": [],
   "source": []
  }
 ],
 "metadata": {
  "ExecuteTimeLog": [
   {
    "duration": 891,
    "start_time": "2022-07-15T07:26:09.552Z"
   },
   {
    "duration": 338,
    "start_time": "2022-07-15T07:26:29.267Z"
   },
   {
    "duration": 114,
    "start_time": "2022-07-15T07:26:39.364Z"
   },
   {
    "duration": 93,
    "start_time": "2022-07-15T07:26:58.225Z"
   },
   {
    "duration": 5,
    "start_time": "2022-07-15T07:27:41.660Z"
   },
   {
    "duration": 27,
    "start_time": "2022-07-15T07:27:54.474Z"
   },
   {
    "duration": 10,
    "start_time": "2022-07-15T07:28:27.972Z"
   },
   {
    "duration": 13,
    "start_time": "2022-07-15T07:28:51.019Z"
   },
   {
    "duration": 7,
    "start_time": "2022-07-15T07:29:20.722Z"
   },
   {
    "duration": 5,
    "start_time": "2022-07-15T07:29:31.449Z"
   },
   {
    "duration": 8,
    "start_time": "2022-07-15T07:30:23.498Z"
   },
   {
    "duration": 14,
    "start_time": "2022-07-15T07:30:44.185Z"
   },
   {
    "duration": 12,
    "start_time": "2022-07-15T07:31:09.609Z"
   },
   {
    "duration": 369,
    "start_time": "2022-07-15T07:32:03.850Z"
   },
   {
    "duration": 124,
    "start_time": "2022-07-15T07:33:07.224Z"
   },
   {
    "duration": 139,
    "start_time": "2022-07-15T07:33:46.200Z"
   },
   {
    "duration": 180,
    "start_time": "2022-07-15T07:34:26.095Z"
   },
   {
    "duration": 105,
    "start_time": "2022-07-15T07:35:48.269Z"
   },
   {
    "duration": 116,
    "start_time": "2022-07-15T07:36:30.167Z"
   },
   {
    "duration": 37,
    "start_time": "2022-07-15T07:37:32.893Z"
   },
   {
    "duration": 140,
    "start_time": "2022-07-15T07:59:49.885Z"
   },
   {
    "duration": 133,
    "start_time": "2022-07-15T08:00:14.908Z"
   },
   {
    "duration": 129,
    "start_time": "2022-07-15T08:01:31.612Z"
   },
   {
    "duration": 131,
    "start_time": "2022-07-15T08:01:36.572Z"
   },
   {
    "duration": 180,
    "start_time": "2022-07-15T08:02:05.946Z"
   },
   {
    "duration": 316,
    "start_time": "2022-07-15T08:03:22.752Z"
   },
   {
    "duration": 188,
    "start_time": "2022-07-15T08:03:49.520Z"
   },
   {
    "duration": 200,
    "start_time": "2022-07-15T08:04:07.130Z"
   },
   {
    "duration": 138,
    "start_time": "2022-07-15T08:04:30.993Z"
   },
   {
    "duration": 142,
    "start_time": "2022-07-15T08:05:10.822Z"
   },
   {
    "duration": 191,
    "start_time": "2022-07-15T08:06:43.222Z"
   },
   {
    "duration": 125,
    "start_time": "2022-07-15T08:07:53.806Z"
   },
   {
    "duration": 73,
    "start_time": "2022-07-15T08:16:25.868Z"
   },
   {
    "duration": 506,
    "start_time": "2022-07-15T08:16:53.724Z"
   },
   {
    "duration": 43,
    "start_time": "2022-07-15T08:17:01.762Z"
   },
   {
    "duration": 410,
    "start_time": "2022-07-15T08:19:30.026Z"
   },
   {
    "duration": 373,
    "start_time": "2022-07-15T08:21:05.256Z"
   },
   {
    "duration": 20,
    "start_time": "2022-07-15T08:21:33.879Z"
   },
   {
    "duration": 392,
    "start_time": "2022-07-15T08:21:38.639Z"
   },
   {
    "duration": 3,
    "start_time": "2022-07-15T08:22:00.774Z"
   },
   {
    "duration": 172,
    "start_time": "2022-07-15T08:22:44.214Z"
   },
   {
    "duration": 169,
    "start_time": "2022-07-15T08:23:04.812Z"
   },
   {
    "duration": 243,
    "start_time": "2022-07-15T08:28:04.994Z"
   },
   {
    "duration": 212,
    "start_time": "2022-07-15T08:28:21.176Z"
   },
   {
    "duration": 194,
    "start_time": "2022-07-15T08:28:27.490Z"
   },
   {
    "duration": 270,
    "start_time": "2022-07-15T08:29:07.674Z"
   },
   {
    "duration": 196,
    "start_time": "2022-07-15T08:33:25.198Z"
   },
   {
    "duration": 156,
    "start_time": "2022-07-15T08:34:46.788Z"
   },
   {
    "duration": 148,
    "start_time": "2022-07-15T08:35:57.521Z"
   },
   {
    "duration": 183,
    "start_time": "2022-07-15T08:36:34.728Z"
   },
   {
    "duration": 148,
    "start_time": "2022-07-15T08:37:22.290Z"
   },
   {
    "duration": 150,
    "start_time": "2022-07-15T08:38:26.335Z"
   },
   {
    "duration": 179,
    "start_time": "2022-07-15T08:38:46.335Z"
   },
   {
    "duration": 1046,
    "start_time": "2022-07-15T08:41:57.386Z"
   },
   {
    "duration": 103,
    "start_time": "2022-07-15T08:41:58.434Z"
   },
   {
    "duration": 114,
    "start_time": "2022-07-15T08:41:58.539Z"
   },
   {
    "duration": 5,
    "start_time": "2022-07-15T08:41:58.656Z"
   },
   {
    "duration": 32,
    "start_time": "2022-07-15T08:41:58.663Z"
   },
   {
    "duration": 14,
    "start_time": "2022-07-15T08:41:58.697Z"
   },
   {
    "duration": 44,
    "start_time": "2022-07-15T08:41:58.712Z"
   },
   {
    "duration": 7,
    "start_time": "2022-07-15T08:41:58.758Z"
   },
   {
    "duration": 11,
    "start_time": "2022-07-15T08:41:58.768Z"
   },
   {
    "duration": 18,
    "start_time": "2022-07-15T08:41:58.782Z"
   },
   {
    "duration": 10,
    "start_time": "2022-07-15T08:41:58.801Z"
   },
   {
    "duration": 357,
    "start_time": "2022-07-15T08:41:58.813Z"
   },
   {
    "duration": 150,
    "start_time": "2022-07-15T08:41:59.172Z"
   },
   {
    "duration": 117,
    "start_time": "2022-07-15T08:41:59.324Z"
   },
   {
    "duration": 119,
    "start_time": "2022-07-15T08:41:59.443Z"
   },
   {
    "duration": 134,
    "start_time": "2022-07-15T08:41:59.564Z"
   },
   {
    "duration": 3,
    "start_time": "2022-07-15T08:41:59.700Z"
   },
   {
    "duration": 216,
    "start_time": "2022-07-15T08:41:59.705Z"
   },
   {
    "duration": 162,
    "start_time": "2022-07-15T08:41:59.923Z"
   },
   {
    "duration": 256,
    "start_time": "2022-07-15T08:42:00.086Z"
   },
   {
    "duration": 161,
    "start_time": "2022-07-15T08:42:00.343Z"
   },
   {
    "duration": 27,
    "start_time": "2022-07-15T08:42:00.506Z"
   },
   {
    "duration": 119,
    "start_time": "2022-07-15T08:42:00.535Z"
   },
   {
    "duration": 148,
    "start_time": "2022-07-15T08:42:46.877Z"
   },
   {
    "duration": 168,
    "start_time": "2022-07-15T08:42:59.303Z"
   },
   {
    "duration": 36256,
    "start_time": "2022-07-15T08:43:37.734Z"
   },
   {
    "duration": 182,
    "start_time": "2022-07-15T08:44:30.233Z"
   },
   {
    "duration": 223,
    "start_time": "2022-07-15T08:45:21.238Z"
   },
   {
    "duration": 184,
    "start_time": "2022-07-15T08:46:03.876Z"
   },
   {
    "duration": 145,
    "start_time": "2022-07-15T08:46:34.274Z"
   },
   {
    "duration": 170,
    "start_time": "2022-07-15T08:48:54.250Z"
   },
   {
    "duration": 2,
    "start_time": "2022-07-15T08:53:26.891Z"
   },
   {
    "duration": 168,
    "start_time": "2022-07-15T08:55:13.586Z"
   },
   {
    "duration": 180,
    "start_time": "2022-07-15T08:56:29.994Z"
   },
   {
    "duration": 154,
    "start_time": "2022-07-15T08:58:45.857Z"
   },
   {
    "duration": 165,
    "start_time": "2022-07-15T08:59:36.539Z"
   },
   {
    "duration": 11,
    "start_time": "2022-07-15T09:02:41.026Z"
   },
   {
    "duration": 10,
    "start_time": "2022-07-15T09:03:02.889Z"
   },
   {
    "duration": 104,
    "start_time": "2022-07-15T09:10:17.700Z"
   },
   {
    "duration": 111,
    "start_time": "2022-07-15T09:10:29.381Z"
   },
   {
    "duration": 114,
    "start_time": "2022-07-15T09:12:32.378Z"
   },
   {
    "duration": 8,
    "start_time": "2022-07-15T09:45:09.110Z"
   },
   {
    "duration": 390,
    "start_time": "2022-07-15T09:48:03.323Z"
   },
   {
    "duration": 271,
    "start_time": "2022-07-15T11:59:57.085Z"
   },
   {
    "duration": 945,
    "start_time": "2022-07-15T12:00:45.691Z"
   },
   {
    "duration": 126,
    "start_time": "2022-07-15T12:01:11.797Z"
   },
   {
    "duration": 213,
    "start_time": "2022-07-15T12:04:52.683Z"
   },
   {
    "duration": 29,
    "start_time": "2022-07-15T12:05:32.735Z"
   },
   {
    "duration": 489,
    "start_time": "2022-07-15T12:05:41.272Z"
   },
   {
    "duration": 0,
    "start_time": "2022-07-15T12:31:17.684Z"
   },
   {
    "duration": 0,
    "start_time": "2022-07-15T12:31:17.686Z"
   },
   {
    "duration": 0,
    "start_time": "2022-07-15T12:31:17.687Z"
   },
   {
    "duration": 0,
    "start_time": "2022-07-15T12:31:17.688Z"
   },
   {
    "duration": 0,
    "start_time": "2022-07-15T12:31:17.690Z"
   },
   {
    "duration": 0,
    "start_time": "2022-07-15T12:31:17.691Z"
   },
   {
    "duration": 0,
    "start_time": "2022-07-15T12:31:17.692Z"
   },
   {
    "duration": 0,
    "start_time": "2022-07-15T12:31:17.692Z"
   },
   {
    "duration": 0,
    "start_time": "2022-07-15T12:31:17.694Z"
   },
   {
    "duration": 0,
    "start_time": "2022-07-15T12:31:17.695Z"
   },
   {
    "duration": 0,
    "start_time": "2022-07-15T12:31:17.695Z"
   },
   {
    "duration": 0,
    "start_time": "2022-07-15T12:31:17.697Z"
   },
   {
    "duration": 0,
    "start_time": "2022-07-15T12:31:17.698Z"
   },
   {
    "duration": 0,
    "start_time": "2022-07-15T12:31:17.699Z"
   },
   {
    "duration": 0,
    "start_time": "2022-07-15T12:31:17.700Z"
   },
   {
    "duration": 0,
    "start_time": "2022-07-15T12:31:17.701Z"
   },
   {
    "duration": 0,
    "start_time": "2022-07-15T12:31:17.702Z"
   },
   {
    "duration": 0,
    "start_time": "2022-07-15T12:31:17.703Z"
   },
   {
    "duration": 0,
    "start_time": "2022-07-15T12:31:17.704Z"
   },
   {
    "duration": 0,
    "start_time": "2022-07-15T12:31:17.705Z"
   },
   {
    "duration": 0,
    "start_time": "2022-07-15T12:31:17.706Z"
   },
   {
    "duration": 0,
    "start_time": "2022-07-15T12:31:17.707Z"
   },
   {
    "duration": 0,
    "start_time": "2022-07-15T12:31:17.708Z"
   },
   {
    "duration": 0,
    "start_time": "2022-07-15T12:31:17.709Z"
   },
   {
    "duration": 0,
    "start_time": "2022-07-15T12:31:17.710Z"
   },
   {
    "duration": 0,
    "start_time": "2022-07-15T12:31:17.711Z"
   },
   {
    "duration": 0,
    "start_time": "2022-07-15T12:31:17.713Z"
   },
   {
    "duration": 0,
    "start_time": "2022-07-15T12:31:17.752Z"
   },
   {
    "duration": 1520,
    "start_time": "2022-07-15T12:31:17.862Z"
   },
   {
    "duration": 126,
    "start_time": "2022-07-15T12:31:19.384Z"
   },
   {
    "duration": 4,
    "start_time": "2022-07-15T12:31:19.624Z"
   },
   {
    "duration": 51,
    "start_time": "2022-07-15T12:31:19.630Z"
   },
   {
    "duration": 11,
    "start_time": "2022-07-15T12:31:19.684Z"
   },
   {
    "duration": 25,
    "start_time": "2022-07-15T12:31:19.697Z"
   },
   {
    "duration": 6,
    "start_time": "2022-07-15T12:31:19.724Z"
   },
   {
    "duration": 35,
    "start_time": "2022-07-15T12:31:19.731Z"
   },
   {
    "duration": 34,
    "start_time": "2022-07-15T12:31:19.768Z"
   },
   {
    "duration": 12,
    "start_time": "2022-07-15T12:31:19.803Z"
   },
   {
    "duration": 392,
    "start_time": "2022-07-15T12:31:19.816Z"
   },
   {
    "duration": 149,
    "start_time": "2022-07-15T12:31:20.210Z"
   },
   {
    "duration": 133,
    "start_time": "2022-07-15T12:31:20.362Z"
   },
   {
    "duration": 173,
    "start_time": "2022-07-15T12:31:20.498Z"
   },
   {
    "duration": 135,
    "start_time": "2022-07-15T12:31:20.673Z"
   },
   {
    "duration": 2,
    "start_time": "2022-07-15T12:31:20.810Z"
   },
   {
    "duration": 310,
    "start_time": "2022-07-15T12:31:20.814Z"
   },
   {
    "duration": 188,
    "start_time": "2022-07-15T12:31:21.125Z"
   },
   {
    "duration": 218,
    "start_time": "2022-07-15T12:31:21.314Z"
   },
   {
    "duration": 200,
    "start_time": "2022-07-15T12:31:21.534Z"
   },
   {
    "duration": 196,
    "start_time": "2022-07-15T12:31:21.736Z"
   },
   {
    "duration": 200,
    "start_time": "2022-07-15T12:31:21.934Z"
   },
   {
    "duration": 36,
    "start_time": "2022-07-15T12:31:22.135Z"
   },
   {
    "duration": 11,
    "start_time": "2022-07-15T12:31:22.182Z"
   },
   {
    "duration": 914,
    "start_time": "2022-07-15T12:31:22.194Z"
   },
   {
    "duration": 128,
    "start_time": "2022-07-15T12:31:23.109Z"
   },
   {
    "duration": 520,
    "start_time": "2022-07-15T12:31:23.239Z"
   },
   {
    "duration": 909,
    "start_time": "2022-07-15T12:42:33.839Z"
   },
   {
    "duration": 83,
    "start_time": "2022-07-15T12:44:22.141Z"
   },
   {
    "duration": 57,
    "start_time": "2022-07-15T12:45:24.214Z"
   },
   {
    "duration": 123,
    "start_time": "2022-07-15T12:45:27.482Z"
   },
   {
    "duration": 159,
    "start_time": "2022-07-15T12:45:31.342Z"
   },
   {
    "duration": 1696,
    "start_time": "2022-07-15T12:49:31.510Z"
   },
   {
    "duration": 131,
    "start_time": "2022-07-15T12:49:33.210Z"
   },
   {
    "duration": 142,
    "start_time": "2022-07-15T12:49:33.343Z"
   },
   {
    "duration": 5,
    "start_time": "2022-07-15T12:49:33.488Z"
   },
   {
    "duration": 35,
    "start_time": "2022-07-15T12:49:33.495Z"
   },
   {
    "duration": 26,
    "start_time": "2022-07-15T12:49:33.532Z"
   },
   {
    "duration": 18,
    "start_time": "2022-07-15T12:49:33.560Z"
   },
   {
    "duration": 25,
    "start_time": "2022-07-15T12:49:33.580Z"
   },
   {
    "duration": 14,
    "start_time": "2022-07-15T12:49:33.606Z"
   },
   {
    "duration": 19,
    "start_time": "2022-07-15T12:49:33.623Z"
   },
   {
    "duration": 23,
    "start_time": "2022-07-15T12:49:33.644Z"
   },
   {
    "duration": 462,
    "start_time": "2022-07-15T12:49:33.669Z"
   },
   {
    "duration": 174,
    "start_time": "2022-07-15T12:49:34.133Z"
   },
   {
    "duration": 129,
    "start_time": "2022-07-15T12:49:34.309Z"
   },
   {
    "duration": 165,
    "start_time": "2022-07-15T12:49:34.440Z"
   },
   {
    "duration": 225,
    "start_time": "2022-07-15T12:49:34.614Z"
   },
   {
    "duration": 2,
    "start_time": "2022-07-15T12:49:34.841Z"
   },
   {
    "duration": 298,
    "start_time": "2022-07-15T12:49:34.845Z"
   },
   {
    "duration": 202,
    "start_time": "2022-07-15T12:49:35.144Z"
   },
   {
    "duration": 229,
    "start_time": "2022-07-15T12:49:35.349Z"
   },
   {
    "duration": 213,
    "start_time": "2022-07-15T12:49:35.580Z"
   },
   {
    "duration": 216,
    "start_time": "2022-07-15T12:49:35.798Z"
   },
   {
    "duration": 242,
    "start_time": "2022-07-15T12:49:36.017Z"
   },
   {
    "duration": 20,
    "start_time": "2022-07-15T12:49:36.260Z"
   },
   {
    "duration": 63,
    "start_time": "2022-07-15T12:49:36.283Z"
   },
   {
    "duration": 1046,
    "start_time": "2022-07-15T12:49:36.348Z"
   },
   {
    "duration": 141,
    "start_time": "2022-07-15T12:49:37.395Z"
   },
   {
    "duration": 583,
    "start_time": "2022-07-15T12:49:37.539Z"
   },
   {
    "duration": 129,
    "start_time": "2022-07-15T12:50:36.616Z"
   },
   {
    "duration": 10,
    "start_time": "2022-07-15T12:51:00.484Z"
   },
   {
    "duration": 976,
    "start_time": "2022-07-15T12:51:05.934Z"
   },
   {
    "duration": 3,
    "start_time": "2022-07-15T12:51:44.101Z"
   },
   {
    "duration": 1000,
    "start_time": "2022-07-15T12:51:45.582Z"
   },
   {
    "duration": 4,
    "start_time": "2022-07-15T12:52:10.109Z"
   },
   {
    "duration": 4795,
    "start_time": "2022-07-15T12:52:11.542Z"
   },
   {
    "duration": 50903,
    "start_time": "2022-07-15T12:53:04.275Z"
   },
   {
    "duration": 12,
    "start_time": "2022-07-15T12:58:20.711Z"
   },
   {
    "duration": 4,
    "start_time": "2022-07-15T12:58:42.719Z"
   },
   {
    "duration": 207757,
    "start_time": "2022-07-15T12:58:48.127Z"
   },
   {
    "duration": 1241,
    "start_time": "2022-07-15T13:07:12.788Z"
   },
   {
    "duration": 18,
    "start_time": "2022-07-15T13:13:18.506Z"
   },
   {
    "duration": 5,
    "start_time": "2022-07-15T13:13:41.836Z"
   },
   {
    "duration": 19,
    "start_time": "2022-07-15T13:13:47.588Z"
   },
   {
    "duration": 54,
    "start_time": "2022-07-15T13:13:57.781Z"
   },
   {
    "duration": 34,
    "start_time": "2022-07-15T13:16:21.542Z"
   },
   {
    "duration": 5,
    "start_time": "2022-07-15T13:18:15.141Z"
   },
   {
    "duration": 157,
    "start_time": "2022-07-15T13:18:15.149Z"
   },
   {
    "duration": 114,
    "start_time": "2022-07-15T13:18:15.308Z"
   },
   {
    "duration": 4,
    "start_time": "2022-07-15T13:18:15.425Z"
   },
   {
    "duration": 42,
    "start_time": "2022-07-15T13:18:15.453Z"
   },
   {
    "duration": 15,
    "start_time": "2022-07-15T13:18:15.497Z"
   },
   {
    "duration": 13,
    "start_time": "2022-07-15T13:18:15.515Z"
   },
   {
    "duration": 27,
    "start_time": "2022-07-15T13:18:15.530Z"
   },
   {
    "duration": 19,
    "start_time": "2022-07-15T13:18:15.571Z"
   },
   {
    "duration": 14,
    "start_time": "2022-07-15T13:18:15.592Z"
   },
   {
    "duration": 14,
    "start_time": "2022-07-15T13:18:15.608Z"
   },
   {
    "duration": 422,
    "start_time": "2022-07-15T13:18:15.624Z"
   },
   {
    "duration": 176,
    "start_time": "2022-07-15T13:18:16.053Z"
   },
   {
    "duration": 183,
    "start_time": "2022-07-15T13:18:16.232Z"
   },
   {
    "duration": 146,
    "start_time": "2022-07-15T13:18:16.418Z"
   },
   {
    "duration": 140,
    "start_time": "2022-07-15T13:18:16.568Z"
   },
   {
    "duration": 3,
    "start_time": "2022-07-15T13:18:16.710Z"
   },
   {
    "duration": 228,
    "start_time": "2022-07-15T13:18:16.715Z"
   },
   {
    "duration": 199,
    "start_time": "2022-07-15T13:18:16.945Z"
   },
   {
    "duration": 224,
    "start_time": "2022-07-15T13:18:17.152Z"
   },
   {
    "duration": 182,
    "start_time": "2022-07-15T13:18:17.379Z"
   },
   {
    "duration": 308,
    "start_time": "2022-07-15T13:18:17.564Z"
   },
   {
    "duration": 196,
    "start_time": "2022-07-15T13:18:17.874Z"
   },
   {
    "duration": 15,
    "start_time": "2022-07-15T13:18:18.074Z"
   },
   {
    "duration": 10,
    "start_time": "2022-07-15T13:18:18.090Z"
   },
   {
    "duration": 32,
    "start_time": "2022-07-15T13:18:18.101Z"
   },
   {
    "duration": 58,
    "start_time": "2022-07-15T13:18:18.134Z"
   },
   {
    "duration": 916,
    "start_time": "2022-07-15T13:18:18.194Z"
   },
   {
    "duration": 129,
    "start_time": "2022-07-15T13:18:19.112Z"
   },
   {
    "duration": 545,
    "start_time": "2022-07-15T13:18:19.243Z"
   },
   {
    "duration": 3,
    "start_time": "2022-07-15T13:18:19.790Z"
   },
   {
    "duration": 46828,
    "start_time": "2022-07-15T13:18:19.795Z"
   },
   {
    "duration": 1303,
    "start_time": "2022-07-15T13:19:06.625Z"
   },
   {
    "duration": 39,
    "start_time": "2022-07-15T13:19:07.931Z"
   },
   {
    "duration": 59,
    "start_time": "2022-07-15T13:25:31.137Z"
   },
   {
    "duration": 938,
    "start_time": "2022-07-15T13:25:45.012Z"
   },
   {
    "duration": 118,
    "start_time": "2022-07-15T13:26:03.293Z"
   },
   {
    "duration": 961,
    "start_time": "2022-07-15T13:26:10.550Z"
   },
   {
    "duration": 17,
    "start_time": "2022-07-15T13:26:15.597Z"
   },
   {
    "duration": 20,
    "start_time": "2022-07-15T13:26:22.902Z"
   },
   {
    "duration": 4,
    "start_time": "2022-07-15T13:27:02.275Z"
   },
   {
    "duration": 13,
    "start_time": "2022-07-15T13:27:11.682Z"
   },
   {
    "duration": 525,
    "start_time": "2022-07-15T13:27:17.985Z"
   },
   {
    "duration": 4,
    "start_time": "2022-07-15T13:27:20.079Z"
   },
   {
    "duration": 45369,
    "start_time": "2022-07-15T13:27:20.928Z"
   },
   {
    "duration": 1388,
    "start_time": "2022-07-15T13:28:10.242Z"
   },
   {
    "duration": 69,
    "start_time": "2022-07-15T13:36:00.334Z"
   },
   {
    "duration": 1430,
    "start_time": "2022-07-15T13:36:07.520Z"
   },
   {
    "duration": 17,
    "start_time": "2022-07-15T13:36:13.215Z"
   },
   {
    "duration": 28,
    "start_time": "2022-07-15T13:36:32.077Z"
   },
   {
    "duration": 25,
    "start_time": "2022-07-15T13:37:17.079Z"
   },
   {
    "duration": 415863,
    "start_time": "2022-07-15T13:37:54.342Z"
   },
   {
    "duration": 101805,
    "start_time": "2022-07-15T13:52:03.539Z"
   },
   {
    "duration": 359906,
    "start_time": "2022-07-15T13:54:43.994Z"
   },
   {
    "duration": 4,
    "start_time": "2022-07-15T14:06:39.639Z"
   },
   {
    "duration": 1618,
    "start_time": "2022-07-15T14:09:29.116Z"
   },
   {
    "duration": 124,
    "start_time": "2022-07-15T14:09:30.737Z"
   },
   {
    "duration": 133,
    "start_time": "2022-07-15T14:09:30.867Z"
   },
   {
    "duration": 7,
    "start_time": "2022-07-15T14:09:31.002Z"
   },
   {
    "duration": 60,
    "start_time": "2022-07-15T14:09:31.013Z"
   },
   {
    "duration": 16,
    "start_time": "2022-07-15T14:09:31.075Z"
   },
   {
    "duration": 30,
    "start_time": "2022-07-15T14:09:31.094Z"
   },
   {
    "duration": 7,
    "start_time": "2022-07-15T14:09:31.127Z"
   },
   {
    "duration": 41,
    "start_time": "2022-07-15T14:09:31.135Z"
   },
   {
    "duration": 48,
    "start_time": "2022-07-15T14:09:31.180Z"
   },
   {
    "duration": 21,
    "start_time": "2022-07-15T14:09:31.230Z"
   },
   {
    "duration": 434,
    "start_time": "2022-07-15T14:09:31.252Z"
   },
   {
    "duration": 162,
    "start_time": "2022-07-15T14:09:31.688Z"
   },
   {
    "duration": 228,
    "start_time": "2022-07-15T14:09:31.856Z"
   },
   {
    "duration": 143,
    "start_time": "2022-07-15T14:09:32.086Z"
   },
   {
    "duration": 150,
    "start_time": "2022-07-15T14:09:32.231Z"
   },
   {
    "duration": 4,
    "start_time": "2022-07-15T14:09:32.383Z"
   },
   {
    "duration": 240,
    "start_time": "2022-07-15T14:09:32.389Z"
   },
   {
    "duration": 204,
    "start_time": "2022-07-15T14:09:32.631Z"
   },
   {
    "duration": 251,
    "start_time": "2022-07-15T14:09:32.837Z"
   },
   {
    "duration": 188,
    "start_time": "2022-07-15T14:09:33.091Z"
   },
   {
    "duration": 208,
    "start_time": "2022-07-15T14:09:33.281Z"
   },
   {
    "duration": 188,
    "start_time": "2022-07-15T14:09:33.491Z"
   },
   {
    "duration": 10,
    "start_time": "2022-07-15T14:09:33.681Z"
   },
   {
    "duration": 9,
    "start_time": "2022-07-15T14:09:33.693Z"
   },
   {
    "duration": 37,
    "start_time": "2022-07-15T14:09:33.704Z"
   },
   {
    "duration": 874,
    "start_time": "2022-07-15T14:09:33.743Z"
   },
   {
    "duration": 184,
    "start_time": "2022-07-15T14:09:34.620Z"
   },
   {
    "duration": 545,
    "start_time": "2022-07-15T14:09:34.806Z"
   },
   {
    "duration": 8,
    "start_time": "2022-07-15T14:09:35.353Z"
   },
   {
    "duration": 45441,
    "start_time": "2022-07-15T14:09:35.367Z"
   },
   {
    "duration": 348414,
    "start_time": "2022-07-15T14:10:20.810Z"
   },
   {
    "duration": 590826,
    "start_time": "2022-07-15T14:16:09.226Z"
   },
   {
    "duration": 0,
    "start_time": "2022-07-15T14:26:00.055Z"
   },
   {
    "duration": 0,
    "start_time": "2022-07-15T14:26:00.056Z"
   },
   {
    "duration": 110,
    "start_time": "2022-07-15T14:26:30.646Z"
   },
   {
    "duration": 11,
    "start_time": "2022-07-15T14:27:54.291Z"
   },
   {
    "duration": 18,
    "start_time": "2022-07-15T14:29:16.350Z"
   },
   {
    "duration": 353231,
    "start_time": "2022-07-15T14:29:40.168Z"
   },
   {
    "duration": 0,
    "start_time": "2022-07-15T14:35:33.401Z"
   },
   {
    "duration": 12,
    "start_time": "2022-07-15T14:35:43.169Z"
   },
   {
    "duration": 136,
    "start_time": "2022-07-15T14:36:05.130Z"
   },
   {
    "duration": 35804,
    "start_time": "2022-07-15T14:36:09.770Z"
   },
   {
    "duration": 12,
    "start_time": "2022-07-15T14:38:46.180Z"
   },
   {
    "duration": 4,
    "start_time": "2022-07-15T14:38:52.391Z"
   },
   {
    "duration": 12,
    "start_time": "2022-07-15T14:39:37.778Z"
   },
   {
    "duration": 459,
    "start_time": "2022-07-15T14:40:16.320Z"
   },
   {
    "duration": 16,
    "start_time": "2022-07-15T14:40:21.728Z"
   },
   {
    "duration": 6,
    "start_time": "2022-07-15T14:40:34.582Z"
   },
   {
    "duration": 15,
    "start_time": "2022-07-15T14:40:40.375Z"
   },
   {
    "duration": 0,
    "start_time": "2022-07-15T14:43:13.535Z"
   },
   {
    "duration": 0,
    "start_time": "2022-07-15T14:43:13.539Z"
   },
   {
    "duration": 4411406,
    "start_time": "2022-07-15T14:44:48.690Z"
   },
   {
    "duration": 47,
    "start_time": "2022-07-18T08:16:11.727Z"
   },
   {
    "duration": 1667,
    "start_time": "2022-07-18T08:16:50.067Z"
   },
   {
    "duration": 305,
    "start_time": "2022-07-18T08:16:51.736Z"
   },
   {
    "duration": 107,
    "start_time": "2022-07-18T08:16:52.043Z"
   },
   {
    "duration": 5,
    "start_time": "2022-07-18T08:16:52.152Z"
   },
   {
    "duration": 31,
    "start_time": "2022-07-18T08:16:52.158Z"
   },
   {
    "duration": 13,
    "start_time": "2022-07-18T08:16:52.210Z"
   },
   {
    "duration": 16,
    "start_time": "2022-07-18T08:16:52.225Z"
   },
   {
    "duration": 6,
    "start_time": "2022-07-18T08:16:52.242Z"
   },
   {
    "duration": 12,
    "start_time": "2022-07-18T08:16:52.249Z"
   },
   {
    "duration": 17,
    "start_time": "2022-07-18T08:16:52.263Z"
   },
   {
    "duration": 35,
    "start_time": "2022-07-18T08:16:52.282Z"
   },
   {
    "duration": 409,
    "start_time": "2022-07-18T08:16:52.319Z"
   },
   {
    "duration": 124,
    "start_time": "2022-07-18T08:16:52.730Z"
   },
   {
    "duration": 116,
    "start_time": "2022-07-18T08:16:52.856Z"
   },
   {
    "duration": 119,
    "start_time": "2022-07-18T08:16:52.974Z"
   },
   {
    "duration": 120,
    "start_time": "2022-07-18T08:16:53.095Z"
   },
   {
    "duration": 2,
    "start_time": "2022-07-18T08:16:53.217Z"
   },
   {
    "duration": 191,
    "start_time": "2022-07-18T08:16:53.221Z"
   },
   {
    "duration": 160,
    "start_time": "2022-07-18T08:16:53.414Z"
   },
   {
    "duration": 176,
    "start_time": "2022-07-18T08:16:53.576Z"
   },
   {
    "duration": 157,
    "start_time": "2022-07-18T08:16:53.754Z"
   },
   {
    "duration": 167,
    "start_time": "2022-07-18T08:16:53.913Z"
   },
   {
    "duration": 174,
    "start_time": "2022-07-18T08:16:54.082Z"
   },
   {
    "duration": 11,
    "start_time": "2022-07-18T08:16:54.257Z"
   },
   {
    "duration": 8,
    "start_time": "2022-07-18T08:16:54.269Z"
   },
   {
    "duration": 39,
    "start_time": "2022-07-18T08:16:54.279Z"
   },
   {
    "duration": 848,
    "start_time": "2022-07-18T08:16:54.320Z"
   },
   {
    "duration": 116,
    "start_time": "2022-07-18T08:16:55.171Z"
   },
   {
    "duration": 525,
    "start_time": "2022-07-18T08:16:55.289Z"
   },
   {
    "duration": 2,
    "start_time": "2022-07-18T08:16:55.816Z"
   },
   {
    "duration": 3787133,
    "start_time": "2022-07-18T08:16:55.820Z"
   },
   {
    "duration": 6,
    "start_time": "2022-07-18T09:20:02.955Z"
   },
   {
    "duration": 19,
    "start_time": "2022-07-18T09:20:02.962Z"
   },
   {
    "duration": 17,
    "start_time": "2022-07-18T09:20:02.982Z"
   },
   {
    "duration": 42665,
    "start_time": "2022-07-18T09:20:03.001Z"
   },
   {
    "duration": 3,
    "start_time": "2022-07-18T09:20:45.668Z"
   },
   {
    "duration": 1231221,
    "start_time": "2022-07-18T09:20:45.673Z"
   },
   {
    "duration": 0,
    "start_time": "2022-07-18T09:41:16.896Z"
   },
   {
    "duration": 3,
    "start_time": "2022-07-18T09:43:56.610Z"
   },
   {
    "duration": 3846879,
    "start_time": "2022-07-18T09:45:27.607Z"
   },
   {
    "duration": 3,
    "start_time": "2022-07-18T12:48:42.738Z"
   },
   {
    "duration": 4,
    "start_time": "2022-07-18T12:53:32.439Z"
   },
   {
    "duration": 142,
    "start_time": "2022-07-18T12:53:32.445Z"
   },
   {
    "duration": 95,
    "start_time": "2022-07-18T12:53:32.589Z"
   },
   {
    "duration": 23,
    "start_time": "2022-07-18T12:53:32.686Z"
   },
   {
    "duration": 28,
    "start_time": "2022-07-18T12:53:32.714Z"
   },
   {
    "duration": 24,
    "start_time": "2022-07-18T12:53:32.744Z"
   },
   {
    "duration": 14,
    "start_time": "2022-07-18T12:53:32.769Z"
   },
   {
    "duration": 39,
    "start_time": "2022-07-18T12:53:32.785Z"
   },
   {
    "duration": 40,
    "start_time": "2022-07-18T12:53:32.826Z"
   },
   {
    "duration": 21,
    "start_time": "2022-07-18T12:53:32.868Z"
   },
   {
    "duration": 27,
    "start_time": "2022-07-18T12:53:32.891Z"
   },
   {
    "duration": 362,
    "start_time": "2022-07-18T12:53:32.923Z"
   },
   {
    "duration": 142,
    "start_time": "2022-07-18T12:53:33.287Z"
   },
   {
    "duration": 119,
    "start_time": "2022-07-18T12:53:33.432Z"
   },
   {
    "duration": 124,
    "start_time": "2022-07-18T12:53:33.553Z"
   },
   {
    "duration": 139,
    "start_time": "2022-07-18T12:53:33.680Z"
   },
   {
    "duration": 2,
    "start_time": "2022-07-18T12:53:33.821Z"
   },
   {
    "duration": 201,
    "start_time": "2022-07-18T12:53:33.825Z"
   },
   {
    "duration": 159,
    "start_time": "2022-07-18T12:53:34.028Z"
   },
   {
    "duration": 272,
    "start_time": "2022-07-18T12:53:34.188Z"
   },
   {
    "duration": 175,
    "start_time": "2022-07-18T12:53:34.461Z"
   },
   {
    "duration": 177,
    "start_time": "2022-07-18T12:53:34.638Z"
   },
   {
    "duration": 165,
    "start_time": "2022-07-18T12:53:34.824Z"
   },
   {
    "duration": 10,
    "start_time": "2022-07-18T12:53:34.990Z"
   },
   {
    "duration": 21,
    "start_time": "2022-07-18T12:53:35.010Z"
   },
   {
    "duration": 10,
    "start_time": "2022-07-18T12:53:35.033Z"
   },
   {
    "duration": 884,
    "start_time": "2022-07-18T12:53:35.045Z"
   },
   {
    "duration": 116,
    "start_time": "2022-07-18T12:53:35.930Z"
   },
   {
    "duration": 533,
    "start_time": "2022-07-18T12:53:36.048Z"
   },
   {
    "duration": 2,
    "start_time": "2022-07-18T12:53:36.582Z"
   },
   {
    "duration": 12,
    "start_time": "2022-07-18T12:53:36.586Z"
   },
   {
    "duration": 32,
    "start_time": "2022-07-18T12:53:36.600Z"
   },
   {
    "duration": 27,
    "start_time": "2022-07-18T12:53:36.633Z"
   },
   {
    "duration": 23,
    "start_time": "2022-07-18T12:53:36.662Z"
   },
   {
    "duration": 0,
    "start_time": "2022-07-18T12:53:36.687Z"
   },
   {
    "duration": 0,
    "start_time": "2022-07-18T12:53:36.688Z"
   },
   {
    "duration": 0,
    "start_time": "2022-07-18T12:53:36.690Z"
   },
   {
    "duration": 20,
    "start_time": "2022-07-18T12:54:14.746Z"
   },
   {
    "duration": 20,
    "start_time": "2022-07-18T12:54:23.242Z"
   },
   {
    "duration": 3,
    "start_time": "2022-07-18T12:55:09.941Z"
   },
   {
    "duration": 21,
    "start_time": "2022-07-18T12:55:10.845Z"
   },
   {
    "duration": 5,
    "start_time": "2022-07-18T12:55:15.246Z"
   },
   {
    "duration": 121,
    "start_time": "2022-07-18T12:55:15.253Z"
   },
   {
    "duration": 89,
    "start_time": "2022-07-18T12:55:15.376Z"
   },
   {
    "duration": 5,
    "start_time": "2022-07-18T12:55:15.466Z"
   },
   {
    "duration": 49,
    "start_time": "2022-07-18T12:55:15.474Z"
   },
   {
    "duration": 12,
    "start_time": "2022-07-18T12:55:15.525Z"
   },
   {
    "duration": 13,
    "start_time": "2022-07-18T12:55:15.539Z"
   },
   {
    "duration": 5,
    "start_time": "2022-07-18T12:55:15.554Z"
   },
   {
    "duration": 14,
    "start_time": "2022-07-18T12:55:15.561Z"
   },
   {
    "duration": 33,
    "start_time": "2022-07-18T12:55:15.577Z"
   },
   {
    "duration": 11,
    "start_time": "2022-07-18T12:55:15.612Z"
   },
   {
    "duration": 343,
    "start_time": "2022-07-18T12:55:15.624Z"
   },
   {
    "duration": 147,
    "start_time": "2022-07-18T12:55:15.969Z"
   },
   {
    "duration": 147,
    "start_time": "2022-07-18T12:55:16.120Z"
   },
   {
    "duration": 128,
    "start_time": "2022-07-18T12:55:16.269Z"
   },
   {
    "duration": 130,
    "start_time": "2022-07-18T12:55:16.398Z"
   },
   {
    "duration": 3,
    "start_time": "2022-07-18T12:55:16.531Z"
   },
   {
    "duration": 380,
    "start_time": "2022-07-18T12:55:16.535Z"
   },
   {
    "duration": 175,
    "start_time": "2022-07-18T12:55:16.917Z"
   },
   {
    "duration": 210,
    "start_time": "2022-07-18T12:55:17.094Z"
   },
   {
    "duration": 168,
    "start_time": "2022-07-18T12:55:17.306Z"
   },
   {
    "duration": 182,
    "start_time": "2022-07-18T12:55:17.476Z"
   },
   {
    "duration": 174,
    "start_time": "2022-07-18T12:55:17.660Z"
   },
   {
    "duration": 10,
    "start_time": "2022-07-18T12:55:17.836Z"
   },
   {
    "duration": 9,
    "start_time": "2022-07-18T12:55:17.848Z"
   },
   {
    "duration": 23,
    "start_time": "2022-07-18T12:55:17.858Z"
   },
   {
    "duration": 894,
    "start_time": "2022-07-18T12:55:17.883Z"
   },
   {
    "duration": 129,
    "start_time": "2022-07-18T12:55:18.780Z"
   },
   {
    "duration": 502,
    "start_time": "2022-07-18T12:55:18.911Z"
   },
   {
    "duration": 3,
    "start_time": "2022-07-18T12:55:19.414Z"
   },
   {
    "duration": 10,
    "start_time": "2022-07-18T12:55:19.419Z"
   },
   {
    "duration": 14,
    "start_time": "2022-07-18T12:55:19.430Z"
   },
   {
    "duration": 47259,
    "start_time": "2022-07-18T12:55:19.446Z"
   },
   {
    "duration": 3,
    "start_time": "2022-07-18T12:56:06.709Z"
   },
   {
    "duration": 24,
    "start_time": "2022-07-18T12:56:06.713Z"
   },
   {
    "duration": 2497,
    "start_time": "2022-07-18T12:56:06.739Z"
   },
   {
    "duration": 12,
    "start_time": "2022-07-18T12:57:42.748Z"
   },
   {
    "duration": 6,
    "start_time": "2022-07-18T12:58:44.487Z"
   },
   {
    "duration": 16316,
    "start_time": "2022-07-18T12:58:50.768Z"
   },
   {
    "duration": 1090852,
    "start_time": "2022-07-18T13:04:29.267Z"
   },
   {
    "duration": 3,
    "start_time": "2022-07-18T13:24:25.593Z"
   },
   {
    "duration": 3,
    "start_time": "2022-07-18T13:25:12.349Z"
   },
   {
    "duration": 11296,
    "start_time": "2022-07-18T13:25:43.770Z"
   },
   {
    "duration": 84,
    "start_time": "2022-07-18T13:26:45.385Z"
   },
   {
    "duration": 11166,
    "start_time": "2022-07-18T13:27:00.106Z"
   },
   {
    "duration": 10615,
    "start_time": "2022-07-18T13:28:57.182Z"
   },
   {
    "duration": 4,
    "start_time": "2022-07-19T09:50:26.761Z"
   },
   {
    "duration": 46,
    "start_time": "2022-07-19T09:51:11.891Z"
   },
   {
    "duration": 1758,
    "start_time": "2022-07-19T09:51:20.690Z"
   },
   {
    "duration": 349,
    "start_time": "2022-07-19T09:51:22.451Z"
   },
   {
    "duration": 103,
    "start_time": "2022-07-19T09:51:22.802Z"
   },
   {
    "duration": 4,
    "start_time": "2022-07-19T09:51:22.907Z"
   },
   {
    "duration": 78,
    "start_time": "2022-07-19T09:51:22.913Z"
   },
   {
    "duration": 12,
    "start_time": "2022-07-19T09:51:22.994Z"
   },
   {
    "duration": 17,
    "start_time": "2022-07-19T09:51:23.007Z"
   },
   {
    "duration": 6,
    "start_time": "2022-07-19T09:51:23.026Z"
   },
   {
    "duration": 15,
    "start_time": "2022-07-19T09:51:23.033Z"
   },
   {
    "duration": 37,
    "start_time": "2022-07-19T09:51:23.051Z"
   },
   {
    "duration": 12,
    "start_time": "2022-07-19T09:51:23.089Z"
   },
   {
    "duration": 412,
    "start_time": "2022-07-19T09:51:23.103Z"
   },
   {
    "duration": 246,
    "start_time": "2022-07-19T09:51:23.516Z"
   },
   {
    "duration": 144,
    "start_time": "2022-07-19T09:51:23.771Z"
   },
   {
    "duration": 164,
    "start_time": "2022-07-19T09:51:23.917Z"
   },
   {
    "duration": 132,
    "start_time": "2022-07-19T09:51:24.083Z"
   },
   {
    "duration": 2,
    "start_time": "2022-07-19T09:51:24.217Z"
   },
   {
    "duration": 255,
    "start_time": "2022-07-19T09:51:24.220Z"
   },
   {
    "duration": 209,
    "start_time": "2022-07-19T09:51:24.476Z"
   },
   {
    "duration": 240,
    "start_time": "2022-07-19T09:51:24.687Z"
   },
   {
    "duration": 247,
    "start_time": "2022-07-19T09:51:24.929Z"
   },
   {
    "duration": 228,
    "start_time": "2022-07-19T09:51:25.178Z"
   },
   {
    "duration": 203,
    "start_time": "2022-07-19T09:51:25.408Z"
   },
   {
    "duration": 11,
    "start_time": "2022-07-19T09:51:25.613Z"
   },
   {
    "duration": 49,
    "start_time": "2022-07-19T09:51:25.626Z"
   },
   {
    "duration": 3,
    "start_time": "2022-07-19T09:51:25.676Z"
   },
   {
    "duration": 490,
    "start_time": "2022-07-19T09:51:25.680Z"
   },
   {
    "duration": 138,
    "start_time": "2022-07-19T09:51:26.173Z"
   },
   {
    "duration": 286,
    "start_time": "2022-07-19T09:51:26.312Z"
   },
   {
    "duration": 2,
    "start_time": "2022-07-19T09:51:26.600Z"
   },
   {
    "duration": 17,
    "start_time": "2022-07-19T09:51:26.603Z"
   },
   {
    "duration": 12,
    "start_time": "2022-07-19T09:51:26.622Z"
   },
   {
    "duration": 43,
    "start_time": "2022-07-19T09:51:26.636Z"
   },
   {
    "duration": 31,
    "start_time": "2022-07-19T09:51:26.681Z"
   },
   {
    "duration": 13,
    "start_time": "2022-07-19T09:51:26.713Z"
   },
   {
    "duration": 8858,
    "start_time": "2022-07-19T09:51:26.727Z"
   },
   {
    "duration": 3,
    "start_time": "2022-07-19T09:53:45.681Z"
   },
   {
    "duration": 6901,
    "start_time": "2022-07-19T09:54:02.804Z"
   },
   {
    "duration": 12,
    "start_time": "2022-07-19T10:07:08.115Z"
   },
   {
    "duration": 34,
    "start_time": "2022-07-19T10:07:33.717Z"
   },
   {
    "duration": 14,
    "start_time": "2022-07-19T11:28:24.513Z"
   },
   {
    "duration": 25,
    "start_time": "2022-07-19T11:28:27.785Z"
   },
   {
    "duration": 4,
    "start_time": "2022-07-19T11:28:50.252Z"
   },
   {
    "duration": 100,
    "start_time": "2022-07-19T11:28:50.258Z"
   },
   {
    "duration": 119,
    "start_time": "2022-07-19T11:28:50.360Z"
   },
   {
    "duration": 4,
    "start_time": "2022-07-19T11:28:50.482Z"
   },
   {
    "duration": 56,
    "start_time": "2022-07-19T11:28:50.488Z"
   },
   {
    "duration": 11,
    "start_time": "2022-07-19T11:28:50.545Z"
   },
   {
    "duration": 16,
    "start_time": "2022-07-19T11:28:50.558Z"
   },
   {
    "duration": 6,
    "start_time": "2022-07-19T11:28:50.576Z"
   },
   {
    "duration": 28,
    "start_time": "2022-07-19T11:28:50.584Z"
   },
   {
    "duration": 31,
    "start_time": "2022-07-19T11:28:50.614Z"
   },
   {
    "duration": 17,
    "start_time": "2022-07-19T11:28:50.648Z"
   },
   {
    "duration": 386,
    "start_time": "2022-07-19T11:28:50.668Z"
   },
   {
    "duration": 141,
    "start_time": "2022-07-19T11:28:51.055Z"
   },
   {
    "duration": 135,
    "start_time": "2022-07-19T11:28:51.198Z"
   },
   {
    "duration": 123,
    "start_time": "2022-07-19T11:28:51.341Z"
   },
   {
    "duration": 127,
    "start_time": "2022-07-19T11:28:51.466Z"
   },
   {
    "duration": 2,
    "start_time": "2022-07-19T11:28:51.595Z"
   },
   {
    "duration": 263,
    "start_time": "2022-07-19T11:28:51.599Z"
   },
   {
    "duration": 203,
    "start_time": "2022-07-19T11:28:51.863Z"
   },
   {
    "duration": 203,
    "start_time": "2022-07-19T11:28:52.067Z"
   },
   {
    "duration": 184,
    "start_time": "2022-07-19T11:28:52.271Z"
   },
   {
    "duration": 289,
    "start_time": "2022-07-19T11:28:52.456Z"
   },
   {
    "duration": 193,
    "start_time": "2022-07-19T11:28:52.747Z"
   },
   {
    "duration": 13,
    "start_time": "2022-07-19T11:28:52.941Z"
   },
   {
    "duration": 10,
    "start_time": "2022-07-19T11:28:52.956Z"
   },
   {
    "duration": 5,
    "start_time": "2022-07-19T11:28:52.968Z"
   },
   {
    "duration": 13,
    "start_time": "2022-07-19T11:28:52.975Z"
   },
   {
    "duration": 51,
    "start_time": "2022-07-19T11:28:52.990Z"
   },
   {
    "duration": 472,
    "start_time": "2022-07-19T11:28:53.045Z"
   },
   {
    "duration": 145,
    "start_time": "2022-07-19T11:28:53.519Z"
   },
   {
    "duration": 254,
    "start_time": "2022-07-19T11:28:53.667Z"
   },
   {
    "duration": 3,
    "start_time": "2022-07-19T11:28:53.923Z"
   },
   {
    "duration": 12,
    "start_time": "2022-07-19T11:28:53.928Z"
   },
   {
    "duration": 7,
    "start_time": "2022-07-19T11:28:53.942Z"
   },
   {
    "duration": 9,
    "start_time": "2022-07-19T11:28:53.950Z"
   },
   {
    "duration": 7,
    "start_time": "2022-07-19T11:28:53.961Z"
   },
   {
    "duration": 6,
    "start_time": "2022-07-19T11:28:53.969Z"
   },
   {
    "duration": 6,
    "start_time": "2022-07-19T11:28:53.977Z"
   },
   {
    "duration": 146,
    "start_time": "2022-07-19T11:28:53.985Z"
   },
   {
    "duration": 19,
    "start_time": "2022-07-19T11:30:05.529Z"
   },
   {
    "duration": 26,
    "start_time": "2022-07-19T11:30:07.222Z"
   },
   {
    "duration": 5,
    "start_time": "2022-07-19T11:30:28.881Z"
   },
   {
    "duration": 103,
    "start_time": "2022-07-19T11:30:28.888Z"
   },
   {
    "duration": 160,
    "start_time": "2022-07-19T11:30:28.994Z"
   },
   {
    "duration": 8,
    "start_time": "2022-07-19T11:30:29.156Z"
   },
   {
    "duration": 31,
    "start_time": "2022-07-19T11:30:29.166Z"
   },
   {
    "duration": 12,
    "start_time": "2022-07-19T11:30:29.199Z"
   },
   {
    "duration": 46,
    "start_time": "2022-07-19T11:30:29.212Z"
   },
   {
    "duration": 8,
    "start_time": "2022-07-19T11:30:29.261Z"
   },
   {
    "duration": 13,
    "start_time": "2022-07-19T11:30:29.270Z"
   },
   {
    "duration": 13,
    "start_time": "2022-07-19T11:30:29.285Z"
   },
   {
    "duration": 51,
    "start_time": "2022-07-19T11:30:29.302Z"
   },
   {
    "duration": 413,
    "start_time": "2022-07-19T11:30:29.355Z"
   },
   {
    "duration": 150,
    "start_time": "2022-07-19T11:30:29.770Z"
   },
   {
    "duration": 149,
    "start_time": "2022-07-19T11:30:29.922Z"
   },
   {
    "duration": 147,
    "start_time": "2022-07-19T11:30:30.073Z"
   },
   {
    "duration": 158,
    "start_time": "2022-07-19T11:30:30.221Z"
   },
   {
    "duration": 3,
    "start_time": "2022-07-19T11:30:30.381Z"
   },
   {
    "duration": 248,
    "start_time": "2022-07-19T11:30:30.386Z"
   },
   {
    "duration": 329,
    "start_time": "2022-07-19T11:30:30.640Z"
   },
   {
    "duration": 234,
    "start_time": "2022-07-19T11:30:30.970Z"
   },
   {
    "duration": 228,
    "start_time": "2022-07-19T11:30:31.206Z"
   },
   {
    "duration": 232,
    "start_time": "2022-07-19T11:30:31.435Z"
   },
   {
    "duration": 212,
    "start_time": "2022-07-19T11:30:31.669Z"
   },
   {
    "duration": 13,
    "start_time": "2022-07-19T11:30:31.883Z"
   },
   {
    "duration": 17,
    "start_time": "2022-07-19T11:30:31.898Z"
   },
   {
    "duration": 24,
    "start_time": "2022-07-19T11:30:31.917Z"
   },
   {
    "duration": 25,
    "start_time": "2022-07-19T11:30:31.943Z"
   },
   {
    "duration": 33,
    "start_time": "2022-07-19T11:30:31.970Z"
   },
   {
    "duration": 512,
    "start_time": "2022-07-19T11:30:32.007Z"
   },
   {
    "duration": 125,
    "start_time": "2022-07-19T11:30:32.520Z"
   },
   {
    "duration": 263,
    "start_time": "2022-07-19T11:30:32.647Z"
   },
   {
    "duration": 3,
    "start_time": "2022-07-19T11:30:32.912Z"
   },
   {
    "duration": 11,
    "start_time": "2022-07-19T11:30:32.916Z"
   },
   {
    "duration": 9,
    "start_time": "2022-07-19T11:30:32.929Z"
   },
   {
    "duration": 20,
    "start_time": "2022-07-19T11:30:32.941Z"
   },
   {
    "duration": 7,
    "start_time": "2022-07-19T11:30:32.963Z"
   },
   {
    "duration": 10,
    "start_time": "2022-07-19T11:30:32.972Z"
   },
   {
    "duration": 9,
    "start_time": "2022-07-19T11:30:32.984Z"
   },
   {
    "duration": 144,
    "start_time": "2022-07-19T11:30:32.995Z"
   },
   {
    "duration": 5,
    "start_time": "2022-07-19T11:31:22.728Z"
   },
   {
    "duration": 101,
    "start_time": "2022-07-19T11:31:22.735Z"
   },
   {
    "duration": 149,
    "start_time": "2022-07-19T11:31:22.838Z"
   },
   {
    "duration": 4,
    "start_time": "2022-07-19T11:31:22.989Z"
   },
   {
    "duration": 59,
    "start_time": "2022-07-19T11:31:22.995Z"
   },
   {
    "duration": 14,
    "start_time": "2022-07-19T11:31:23.056Z"
   },
   {
    "duration": 16,
    "start_time": "2022-07-19T11:31:23.072Z"
   },
   {
    "duration": 8,
    "start_time": "2022-07-19T11:31:23.090Z"
   },
   {
    "duration": 12,
    "start_time": "2022-07-19T11:31:23.102Z"
   },
   {
    "duration": 39,
    "start_time": "2022-07-19T11:31:23.116Z"
   },
   {
    "duration": 15,
    "start_time": "2022-07-19T11:31:23.156Z"
   },
   {
    "duration": 530,
    "start_time": "2022-07-19T11:31:23.174Z"
   },
   {
    "duration": 182,
    "start_time": "2022-07-19T11:31:23.706Z"
   },
   {
    "duration": 165,
    "start_time": "2022-07-19T11:31:23.890Z"
   },
   {
    "duration": 143,
    "start_time": "2022-07-19T11:31:24.058Z"
   },
   {
    "duration": 251,
    "start_time": "2022-07-19T11:31:24.204Z"
   },
   {
    "duration": 6,
    "start_time": "2022-07-19T11:31:24.457Z"
   },
   {
    "duration": 234,
    "start_time": "2022-07-19T11:31:24.465Z"
   },
   {
    "duration": 202,
    "start_time": "2022-07-19T11:31:24.701Z"
   },
   {
    "duration": 273,
    "start_time": "2022-07-19T11:31:24.905Z"
   },
   {
    "duration": 218,
    "start_time": "2022-07-19T11:31:25.181Z"
   },
   {
    "duration": 209,
    "start_time": "2022-07-19T11:31:25.401Z"
   },
   {
    "duration": 215,
    "start_time": "2022-07-19T11:31:25.612Z"
   },
   {
    "duration": 15,
    "start_time": "2022-07-19T11:31:25.831Z"
   },
   {
    "duration": 23,
    "start_time": "2022-07-19T11:31:25.848Z"
   },
   {
    "duration": 7,
    "start_time": "2022-07-19T11:31:25.873Z"
   },
   {
    "duration": 23,
    "start_time": "2022-07-19T11:31:25.881Z"
   },
   {
    "duration": 59,
    "start_time": "2022-07-19T11:31:25.905Z"
   },
   {
    "duration": 495,
    "start_time": "2022-07-19T11:31:25.966Z"
   },
   {
    "duration": 132,
    "start_time": "2022-07-19T11:31:26.464Z"
   },
   {
    "duration": 245,
    "start_time": "2022-07-19T11:31:26.598Z"
   },
   {
    "duration": 5,
    "start_time": "2022-07-19T11:31:26.845Z"
   },
   {
    "duration": 6,
    "start_time": "2022-07-19T11:31:26.852Z"
   },
   {
    "duration": 15,
    "start_time": "2022-07-19T11:31:26.860Z"
   },
   {
    "duration": 18,
    "start_time": "2022-07-19T11:31:26.877Z"
   },
   {
    "duration": 6,
    "start_time": "2022-07-19T11:31:26.897Z"
   },
   {
    "duration": 12,
    "start_time": "2022-07-19T11:31:26.906Z"
   },
   {
    "duration": 9,
    "start_time": "2022-07-19T11:31:26.920Z"
   },
   {
    "duration": 153,
    "start_time": "2022-07-19T11:31:26.931Z"
   },
   {
    "duration": 62,
    "start_time": "2022-07-19T11:31:54.094Z"
   },
   {
    "duration": 4,
    "start_time": "2022-07-19T11:39:54.485Z"
   },
   {
    "duration": 99,
    "start_time": "2022-07-19T11:39:54.491Z"
   },
   {
    "duration": 104,
    "start_time": "2022-07-19T11:39:54.591Z"
   },
   {
    "duration": 5,
    "start_time": "2022-07-19T11:39:54.697Z"
   },
   {
    "duration": 25,
    "start_time": "2022-07-19T11:39:54.739Z"
   },
   {
    "duration": 12,
    "start_time": "2022-07-19T11:39:54.766Z"
   },
   {
    "duration": 18,
    "start_time": "2022-07-19T11:39:54.780Z"
   },
   {
    "duration": 12,
    "start_time": "2022-07-19T11:39:54.800Z"
   },
   {
    "duration": 27,
    "start_time": "2022-07-19T11:39:54.814Z"
   },
   {
    "duration": 14,
    "start_time": "2022-07-19T11:39:54.843Z"
   },
   {
    "duration": 12,
    "start_time": "2022-07-19T11:39:54.860Z"
   },
   {
    "duration": 432,
    "start_time": "2022-07-19T11:39:54.874Z"
   },
   {
    "duration": 175,
    "start_time": "2022-07-19T11:39:55.308Z"
   },
   {
    "duration": 250,
    "start_time": "2022-07-19T11:39:55.485Z"
   },
   {
    "duration": 138,
    "start_time": "2022-07-19T11:39:55.740Z"
   },
   {
    "duration": 132,
    "start_time": "2022-07-19T11:39:55.880Z"
   },
   {
    "duration": 3,
    "start_time": "2022-07-19T11:39:56.013Z"
   },
   {
    "duration": 223,
    "start_time": "2022-07-19T11:39:56.017Z"
   },
   {
    "duration": 203,
    "start_time": "2022-07-19T11:39:56.242Z"
   },
   {
    "duration": 219,
    "start_time": "2022-07-19T11:39:56.447Z"
   },
   {
    "duration": 195,
    "start_time": "2022-07-19T11:39:56.668Z"
   },
   {
    "duration": 196,
    "start_time": "2022-07-19T11:39:56.865Z"
   },
   {
    "duration": 185,
    "start_time": "2022-07-19T11:39:57.063Z"
   },
   {
    "duration": 11,
    "start_time": "2022-07-19T11:39:57.250Z"
   },
   {
    "duration": 18,
    "start_time": "2022-07-19T11:39:57.263Z"
   },
   {
    "duration": 4,
    "start_time": "2022-07-19T11:39:57.283Z"
   },
   {
    "duration": 38,
    "start_time": "2022-07-19T11:39:57.289Z"
   },
   {
    "duration": 58,
    "start_time": "2022-07-19T11:39:57.329Z"
   },
   {
    "duration": 478,
    "start_time": "2022-07-19T11:39:57.391Z"
   },
   {
    "duration": 160,
    "start_time": "2022-07-19T11:39:57.872Z"
   },
   {
    "duration": 251,
    "start_time": "2022-07-19T11:39:58.040Z"
   },
   {
    "duration": 3,
    "start_time": "2022-07-19T11:39:58.293Z"
   },
   {
    "duration": 8,
    "start_time": "2022-07-19T11:39:58.297Z"
   },
   {
    "duration": 7,
    "start_time": "2022-07-19T11:39:58.307Z"
   },
   {
    "duration": 7,
    "start_time": "2022-07-19T11:39:58.316Z"
   },
   {
    "duration": 5,
    "start_time": "2022-07-19T11:39:58.325Z"
   },
   {
    "duration": 13,
    "start_time": "2022-07-19T11:39:58.331Z"
   },
   {
    "duration": 11,
    "start_time": "2022-07-19T11:39:58.346Z"
   },
   {
    "duration": 132,
    "start_time": "2022-07-19T11:39:58.359Z"
   },
   {
    "duration": 4,
    "start_time": "2022-07-19T11:45:03.501Z"
   },
   {
    "duration": 98,
    "start_time": "2022-07-19T11:45:03.507Z"
   },
   {
    "duration": 102,
    "start_time": "2022-07-19T11:45:03.607Z"
   },
   {
    "duration": 4,
    "start_time": "2022-07-19T11:45:03.740Z"
   },
   {
    "duration": 36,
    "start_time": "2022-07-19T11:45:03.746Z"
   },
   {
    "duration": 13,
    "start_time": "2022-07-19T11:45:03.783Z"
   },
   {
    "duration": 42,
    "start_time": "2022-07-19T11:45:03.798Z"
   },
   {
    "duration": 27,
    "start_time": "2022-07-19T11:45:03.843Z"
   },
   {
    "duration": 46,
    "start_time": "2022-07-19T11:45:03.873Z"
   },
   {
    "duration": 26,
    "start_time": "2022-07-19T11:45:03.921Z"
   },
   {
    "duration": 14,
    "start_time": "2022-07-19T11:45:03.950Z"
   },
   {
    "duration": 482,
    "start_time": "2022-07-19T11:45:03.966Z"
   },
   {
    "duration": 163,
    "start_time": "2022-07-19T11:45:04.450Z"
   },
   {
    "duration": 151,
    "start_time": "2022-07-19T11:45:04.614Z"
   },
   {
    "duration": 149,
    "start_time": "2022-07-19T11:45:04.768Z"
   },
   {
    "duration": 155,
    "start_time": "2022-07-19T11:45:04.919Z"
   },
   {
    "duration": 3,
    "start_time": "2022-07-19T11:45:05.076Z"
   },
   {
    "duration": 251,
    "start_time": "2022-07-19T11:45:05.082Z"
   },
   {
    "duration": 188,
    "start_time": "2022-07-19T11:45:05.335Z"
   },
   {
    "duration": 212,
    "start_time": "2022-07-19T11:45:05.524Z"
   },
   {
    "duration": 205,
    "start_time": "2022-07-19T11:45:05.740Z"
   },
   {
    "duration": 216,
    "start_time": "2022-07-19T11:45:05.947Z"
   },
   {
    "duration": 205,
    "start_time": "2022-07-19T11:45:06.165Z"
   },
   {
    "duration": 12,
    "start_time": "2022-07-19T11:45:06.372Z"
   },
   {
    "duration": 13,
    "start_time": "2022-07-19T11:45:06.386Z"
   },
   {
    "duration": 5,
    "start_time": "2022-07-19T11:45:06.401Z"
   },
   {
    "duration": 54,
    "start_time": "2022-07-19T11:45:06.408Z"
   },
   {
    "duration": 48,
    "start_time": "2022-07-19T11:45:06.465Z"
   },
   {
    "duration": 512,
    "start_time": "2022-07-19T11:45:06.517Z"
   },
   {
    "duration": 273,
    "start_time": "2022-07-19T11:45:07.032Z"
   },
   {
    "duration": 322,
    "start_time": "2022-07-19T11:45:07.308Z"
   },
   {
    "duration": 8,
    "start_time": "2022-07-19T11:45:07.632Z"
   },
   {
    "duration": 13,
    "start_time": "2022-07-19T11:45:07.643Z"
   },
   {
    "duration": 16,
    "start_time": "2022-07-19T11:45:07.659Z"
   },
   {
    "duration": 11,
    "start_time": "2022-07-19T11:45:07.678Z"
   },
   {
    "duration": 15,
    "start_time": "2022-07-19T11:45:07.691Z"
   },
   {
    "duration": 6,
    "start_time": "2022-07-19T11:45:07.708Z"
   },
   {
    "duration": 16,
    "start_time": "2022-07-19T11:45:07.716Z"
   },
   {
    "duration": 222,
    "start_time": "2022-07-19T11:45:07.734Z"
   },
   {
    "duration": 4,
    "start_time": "2022-07-19T11:52:53.103Z"
   },
   {
    "duration": 110,
    "start_time": "2022-07-19T11:52:53.109Z"
   },
   {
    "duration": 124,
    "start_time": "2022-07-19T11:52:53.221Z"
   },
   {
    "duration": 9,
    "start_time": "2022-07-19T11:52:53.346Z"
   },
   {
    "duration": 31,
    "start_time": "2022-07-19T11:52:53.357Z"
   },
   {
    "duration": 12,
    "start_time": "2022-07-19T11:52:53.389Z"
   },
   {
    "duration": 16,
    "start_time": "2022-07-19T11:52:53.403Z"
   },
   {
    "duration": 24,
    "start_time": "2022-07-19T11:52:53.421Z"
   },
   {
    "duration": 11,
    "start_time": "2022-07-19T11:52:53.446Z"
   },
   {
    "duration": 14,
    "start_time": "2022-07-19T11:52:53.459Z"
   },
   {
    "duration": 11,
    "start_time": "2022-07-19T11:52:53.475Z"
   },
   {
    "duration": 393,
    "start_time": "2022-07-19T11:52:53.488Z"
   },
   {
    "duration": 140,
    "start_time": "2022-07-19T11:52:53.883Z"
   },
   {
    "duration": 141,
    "start_time": "2022-07-19T11:52:54.024Z"
   },
   {
    "duration": 129,
    "start_time": "2022-07-19T11:52:54.166Z"
   },
   {
    "duration": 128,
    "start_time": "2022-07-19T11:52:54.297Z"
   },
   {
    "duration": 2,
    "start_time": "2022-07-19T11:52:54.427Z"
   },
   {
    "duration": 226,
    "start_time": "2022-07-19T11:52:54.430Z"
   },
   {
    "duration": 206,
    "start_time": "2022-07-19T11:52:54.659Z"
   },
   {
    "duration": 216,
    "start_time": "2022-07-19T11:52:54.868Z"
   },
   {
    "duration": 204,
    "start_time": "2022-07-19T11:52:55.086Z"
   },
   {
    "duration": 293,
    "start_time": "2022-07-19T11:52:55.292Z"
   },
   {
    "duration": 195,
    "start_time": "2022-07-19T11:52:55.587Z"
   },
   {
    "duration": 11,
    "start_time": "2022-07-19T11:52:55.784Z"
   },
   {
    "duration": 11,
    "start_time": "2022-07-19T11:52:55.796Z"
   },
   {
    "duration": 5,
    "start_time": "2022-07-19T11:52:55.808Z"
   },
   {
    "duration": 53,
    "start_time": "2022-07-19T11:52:55.815Z"
   },
   {
    "duration": 0,
    "start_time": "2022-07-19T11:52:55.870Z"
   },
   {
    "duration": 0,
    "start_time": "2022-07-19T11:52:55.872Z"
   },
   {
    "duration": 0,
    "start_time": "2022-07-19T11:52:55.873Z"
   },
   {
    "duration": 0,
    "start_time": "2022-07-19T11:52:55.874Z"
   },
   {
    "duration": 0,
    "start_time": "2022-07-19T11:52:55.875Z"
   },
   {
    "duration": 0,
    "start_time": "2022-07-19T11:52:55.876Z"
   },
   {
    "duration": 0,
    "start_time": "2022-07-19T11:52:55.877Z"
   },
   {
    "duration": 0,
    "start_time": "2022-07-19T11:52:55.878Z"
   },
   {
    "duration": 0,
    "start_time": "2022-07-19T11:52:55.879Z"
   },
   {
    "duration": 0,
    "start_time": "2022-07-19T11:52:55.881Z"
   },
   {
    "duration": 0,
    "start_time": "2022-07-19T11:52:55.881Z"
   },
   {
    "duration": 0,
    "start_time": "2022-07-19T11:52:55.882Z"
   },
   {
    "duration": 26,
    "start_time": "2022-07-19T11:54:40.501Z"
   },
   {
    "duration": 42,
    "start_time": "2022-07-19T11:54:44.772Z"
   },
   {
    "duration": 1305,
    "start_time": "2022-07-19T11:56:47.011Z"
   },
   {
    "duration": 40,
    "start_time": "2022-07-19T11:56:48.598Z"
   },
   {
    "duration": 4,
    "start_time": "2022-07-19T11:57:07.507Z"
   },
   {
    "duration": 99,
    "start_time": "2022-07-19T11:57:07.513Z"
   },
   {
    "duration": 100,
    "start_time": "2022-07-19T11:57:07.614Z"
   },
   {
    "duration": 6,
    "start_time": "2022-07-19T11:57:07.740Z"
   },
   {
    "duration": 29,
    "start_time": "2022-07-19T11:57:07.750Z"
   },
   {
    "duration": 11,
    "start_time": "2022-07-19T11:57:07.781Z"
   },
   {
    "duration": 19,
    "start_time": "2022-07-19T11:57:07.794Z"
   },
   {
    "duration": 8,
    "start_time": "2022-07-19T11:57:07.815Z"
   },
   {
    "duration": 26,
    "start_time": "2022-07-19T11:57:07.825Z"
   },
   {
    "duration": 22,
    "start_time": "2022-07-19T11:57:07.853Z"
   },
   {
    "duration": 14,
    "start_time": "2022-07-19T11:57:07.878Z"
   },
   {
    "duration": 500,
    "start_time": "2022-07-19T11:57:07.894Z"
   },
   {
    "duration": 146,
    "start_time": "2022-07-19T11:57:08.395Z"
   },
   {
    "duration": 132,
    "start_time": "2022-07-19T11:57:08.543Z"
   },
   {
    "duration": 150,
    "start_time": "2022-07-19T11:57:08.677Z"
   },
   {
    "duration": 153,
    "start_time": "2022-07-19T11:57:08.828Z"
   },
   {
    "duration": 3,
    "start_time": "2022-07-19T11:57:08.982Z"
   },
   {
    "duration": 225,
    "start_time": "2022-07-19T11:57:08.986Z"
   },
   {
    "duration": 209,
    "start_time": "2022-07-19T11:57:09.212Z"
   },
   {
    "duration": 333,
    "start_time": "2022-07-19T11:57:09.423Z"
   },
   {
    "duration": 177,
    "start_time": "2022-07-19T11:57:09.758Z"
   },
   {
    "duration": 198,
    "start_time": "2022-07-19T11:57:09.937Z"
   },
   {
    "duration": 183,
    "start_time": "2022-07-19T11:57:10.138Z"
   },
   {
    "duration": 10,
    "start_time": "2022-07-19T11:57:10.322Z"
   },
   {
    "duration": 24,
    "start_time": "2022-07-19T11:57:10.340Z"
   },
   {
    "duration": 5,
    "start_time": "2022-07-19T11:57:10.366Z"
   },
   {
    "duration": 27,
    "start_time": "2022-07-19T11:57:10.372Z"
   },
   {
    "duration": 52,
    "start_time": "2022-07-19T11:57:10.401Z"
   },
   {
    "duration": 14,
    "start_time": "2022-07-19T11:57:10.456Z"
   },
   {
    "duration": 0,
    "start_time": "2022-07-19T11:57:10.472Z"
   },
   {
    "duration": 0,
    "start_time": "2022-07-19T11:57:10.473Z"
   },
   {
    "duration": 0,
    "start_time": "2022-07-19T11:57:10.475Z"
   },
   {
    "duration": 0,
    "start_time": "2022-07-19T11:57:10.476Z"
   },
   {
    "duration": 0,
    "start_time": "2022-07-19T11:57:10.477Z"
   },
   {
    "duration": 0,
    "start_time": "2022-07-19T11:57:10.478Z"
   },
   {
    "duration": 0,
    "start_time": "2022-07-19T11:57:10.479Z"
   },
   {
    "duration": 0,
    "start_time": "2022-07-19T11:57:10.480Z"
   },
   {
    "duration": 0,
    "start_time": "2022-07-19T11:57:10.481Z"
   },
   {
    "duration": 0,
    "start_time": "2022-07-19T11:57:10.482Z"
   },
   {
    "duration": 447,
    "start_time": "2022-07-19T11:57:49.540Z"
   },
   {
    "duration": 2,
    "start_time": "2022-07-19T12:02:35.241Z"
   },
   {
    "duration": 122,
    "start_time": "2022-07-19T12:02:39.711Z"
   },
   {
    "duration": 236,
    "start_time": "2022-07-19T12:02:49.006Z"
   },
   {
    "duration": 13189,
    "start_time": "2022-07-19T12:03:23.294Z"
   },
   {
    "duration": 76913,
    "start_time": "2022-07-19T12:11:51.623Z"
   },
   {
    "duration": 75896,
    "start_time": "2022-07-19T12:13:26.788Z"
   },
   {
    "duration": 3,
    "start_time": "2022-07-19T12:16:25.632Z"
   },
   {
    "duration": 76727,
    "start_time": "2022-07-19T12:17:49.304Z"
   },
   {
    "duration": 28798,
    "start_time": "2022-07-19T12:21:09.389Z"
   },
   {
    "duration": 4,
    "start_time": "2022-07-19T12:21:54.171Z"
   },
   {
    "duration": 94,
    "start_time": "2022-07-19T12:21:58.802Z"
   },
   {
    "duration": 93,
    "start_time": "2022-07-19T12:21:59.182Z"
   },
   {
    "duration": 4,
    "start_time": "2022-07-19T12:22:01.499Z"
   },
   {
    "duration": 26,
    "start_time": "2022-07-19T12:22:01.842Z"
   },
   {
    "duration": 11,
    "start_time": "2022-07-19T12:22:02.507Z"
   },
   {
    "duration": 13,
    "start_time": "2022-07-19T12:22:03.289Z"
   },
   {
    "duration": 6,
    "start_time": "2022-07-19T12:22:04.762Z"
   },
   {
    "duration": 9,
    "start_time": "2022-07-19T12:22:07.100Z"
   },
   {
    "duration": 15,
    "start_time": "2022-07-19T12:22:07.801Z"
   },
   {
    "duration": 14,
    "start_time": "2022-07-19T12:22:08.361Z"
   },
   {
    "duration": 368,
    "start_time": "2022-07-19T12:22:08.946Z"
   },
   {
    "duration": 128,
    "start_time": "2022-07-19T12:22:10.682Z"
   },
   {
    "duration": 125,
    "start_time": "2022-07-19T12:22:11.329Z"
   },
   {
    "duration": 117,
    "start_time": "2022-07-19T12:22:12.009Z"
   },
   {
    "duration": 214,
    "start_time": "2022-07-19T12:22:12.715Z"
   },
   {
    "duration": 3,
    "start_time": "2022-07-19T12:22:13.721Z"
   },
   {
    "duration": 203,
    "start_time": "2022-07-19T12:22:14.386Z"
   },
   {
    "duration": 179,
    "start_time": "2022-07-19T12:22:15.514Z"
   },
   {
    "duration": 201,
    "start_time": "2022-07-19T12:22:16.385Z"
   },
   {
    "duration": 178,
    "start_time": "2022-07-19T12:22:16.969Z"
   },
   {
    "duration": 179,
    "start_time": "2022-07-19T12:22:17.530Z"
   },
   {
    "duration": 183,
    "start_time": "2022-07-19T12:22:18.179Z"
   },
   {
    "duration": 11,
    "start_time": "2022-07-19T12:22:18.682Z"
   },
   {
    "duration": 10,
    "start_time": "2022-07-19T12:22:19.164Z"
   },
   {
    "duration": 2,
    "start_time": "2022-07-19T12:22:23.251Z"
   },
   {
    "duration": 21,
    "start_time": "2022-07-19T12:22:24.682Z"
   },
   {
    "duration": 4,
    "start_time": "2022-07-19T12:22:25.161Z"
   },
   {
    "duration": 435,
    "start_time": "2022-07-19T12:22:25.665Z"
   },
   {
    "duration": 110,
    "start_time": "2022-07-19T12:22:27.657Z"
   },
   {
    "duration": 226,
    "start_time": "2022-07-19T12:22:28.770Z"
   },
   {
    "duration": 3,
    "start_time": "2022-07-19T12:22:30.561Z"
   },
   {
    "duration": 3,
    "start_time": "2022-07-19T12:22:32.539Z"
   },
   {
    "duration": 76491,
    "start_time": "2022-07-19T12:22:35.724Z"
   },
   {
    "duration": 4,
    "start_time": "2022-07-19T12:31:04.277Z"
   },
   {
    "duration": 100,
    "start_time": "2022-07-19T12:31:04.283Z"
   },
   {
    "duration": 103,
    "start_time": "2022-07-19T12:31:04.385Z"
   },
   {
    "duration": 5,
    "start_time": "2022-07-19T12:31:04.489Z"
   },
   {
    "duration": 54,
    "start_time": "2022-07-19T12:31:04.496Z"
   },
   {
    "duration": 11,
    "start_time": "2022-07-19T12:31:04.552Z"
   },
   {
    "duration": 17,
    "start_time": "2022-07-19T12:31:04.565Z"
   },
   {
    "duration": 6,
    "start_time": "2022-07-19T12:31:04.584Z"
   },
   {
    "duration": 12,
    "start_time": "2022-07-19T12:31:04.591Z"
   },
   {
    "duration": 37,
    "start_time": "2022-07-19T12:31:04.604Z"
   },
   {
    "duration": 14,
    "start_time": "2022-07-19T12:31:04.644Z"
   },
   {
    "duration": 397,
    "start_time": "2022-07-19T12:31:04.660Z"
   },
   {
    "duration": 163,
    "start_time": "2022-07-19T12:31:05.059Z"
   },
   {
    "duration": 256,
    "start_time": "2022-07-19T12:31:05.224Z"
   },
   {
    "duration": 135,
    "start_time": "2022-07-19T12:31:05.481Z"
   },
   {
    "duration": 136,
    "start_time": "2022-07-19T12:31:05.618Z"
   },
   {
    "duration": 2,
    "start_time": "2022-07-19T12:31:05.755Z"
   },
   {
    "duration": 226,
    "start_time": "2022-07-19T12:31:05.759Z"
   },
   {
    "duration": 195,
    "start_time": "2022-07-19T12:31:05.987Z"
   },
   {
    "duration": 218,
    "start_time": "2022-07-19T12:31:06.184Z"
   },
   {
    "duration": 184,
    "start_time": "2022-07-19T12:31:06.403Z"
   },
   {
    "duration": 207,
    "start_time": "2022-07-19T12:31:06.589Z"
   },
   {
    "duration": 199,
    "start_time": "2022-07-19T12:31:06.799Z"
   },
   {
    "duration": 11,
    "start_time": "2022-07-19T12:31:07.001Z"
   },
   {
    "duration": 27,
    "start_time": "2022-07-19T12:31:07.014Z"
   },
   {
    "duration": 3,
    "start_time": "2022-07-19T12:31:07.043Z"
   },
   {
    "duration": 23,
    "start_time": "2022-07-19T12:31:07.048Z"
   },
   {
    "duration": 2,
    "start_time": "2022-07-19T12:31:07.073Z"
   },
   {
    "duration": 472,
    "start_time": "2022-07-19T12:31:07.080Z"
   },
   {
    "duration": 119,
    "start_time": "2022-07-19T12:31:07.554Z"
   },
   {
    "duration": 261,
    "start_time": "2022-07-19T12:31:07.675Z"
   },
   {
    "duration": 4,
    "start_time": "2022-07-19T12:31:07.938Z"
   },
   {
    "duration": 18,
    "start_time": "2022-07-19T12:31:07.944Z"
   },
   {
    "duration": 78025,
    "start_time": "2022-07-19T12:31:07.965Z"
   },
   {
    "duration": 1903254,
    "start_time": "2022-07-19T12:32:25.992Z"
   },
   {
    "duration": 6,
    "start_time": "2022-07-19T13:04:09.248Z"
   },
   {
    "duration": 1038172,
    "start_time": "2022-07-19T13:04:09.262Z"
   },
   {
    "duration": 14,
    "start_time": "2022-07-19T13:21:27.435Z"
   },
   {
    "duration": 0,
    "start_time": "2022-07-19T13:21:27.450Z"
   },
   {
    "duration": 0,
    "start_time": "2022-07-19T13:21:27.451Z"
   },
   {
    "duration": 207601,
    "start_time": "2022-07-19T13:22:04.134Z"
   },
   {
    "duration": 3,
    "start_time": "2022-07-19T13:25:35.989Z"
   },
   {
    "duration": 3,
    "start_time": "2022-07-19T13:25:40.371Z"
   },
   {
    "duration": 3,
    "start_time": "2022-07-19T13:28:31.698Z"
   },
   {
    "duration": 12285,
    "start_time": "2022-07-19T13:44:21.420Z"
   },
   {
    "duration": 28600,
    "start_time": "2022-07-19T13:46:48.970Z"
   },
   {
    "duration": 3,
    "start_time": "2022-07-19T13:47:53.137Z"
   },
   {
    "duration": 490,
    "start_time": "2022-07-19T13:58:05.109Z"
   },
   {
    "duration": 10,
    "start_time": "2022-07-19T14:02:57.625Z"
   },
   {
    "duration": 12,
    "start_time": "2022-07-19T14:03:36.049Z"
   },
   {
    "duration": 1321,
    "start_time": "2022-07-19T14:03:43.320Z"
   },
   {
    "duration": 12770,
    "start_time": "2022-07-19T14:03:56.892Z"
   },
   {
    "duration": 149529,
    "start_time": "2022-07-19T14:04:32.194Z"
   },
   {
    "duration": 320002,
    "start_time": "2022-07-19T14:15:18.279Z"
   },
   {
    "duration": 11873,
    "start_time": "2022-07-19T14:21:54.746Z"
   },
   {
    "duration": 0,
    "start_time": "2022-07-19T14:26:23.271Z"
   },
   {
    "duration": 318375,
    "start_time": "2022-07-19T14:26:38.661Z"
   },
   {
    "duration": 20,
    "start_time": "2022-07-19T14:36:36.776Z"
   },
   {
    "duration": 4090,
    "start_time": "2022-07-19T14:40:07.821Z"
   },
   {
    "duration": 18,
    "start_time": "2022-07-19T14:40:41.377Z"
   },
   {
    "duration": 504,
    "start_time": "2022-07-19T14:41:28.874Z"
   },
   {
    "duration": 694,
    "start_time": "2022-07-19T14:42:15.609Z"
   },
   {
    "duration": 562,
    "start_time": "2022-07-19T14:43:47.573Z"
   },
   {
    "duration": 443,
    "start_time": "2022-07-19T14:44:33.044Z"
   },
   {
    "duration": 76,
    "start_time": "2022-07-19T14:45:28.979Z"
   },
   {
    "duration": 2,
    "start_time": "2022-07-19T14:45:34.442Z"
   },
   {
    "duration": 219,
    "start_time": "2022-07-19T14:47:10.512Z"
   },
   {
    "duration": 186,
    "start_time": "2022-07-19T14:47:58.857Z"
   },
   {
    "duration": 112630,
    "start_time": "2022-07-19T14:48:17.921Z"
   },
   {
    "duration": 40,
    "start_time": "2022-07-19T15:15:54.089Z"
   },
   {
    "duration": 1328,
    "start_time": "2022-07-19T15:18:11.478Z"
   },
   {
    "duration": 4,
    "start_time": "2022-07-19T15:18:32.972Z"
   },
   {
    "duration": 105,
    "start_time": "2022-07-19T15:18:34.325Z"
   },
   {
    "duration": 158,
    "start_time": "2022-07-19T15:18:35.012Z"
   },
   {
    "duration": 6,
    "start_time": "2022-07-19T15:18:44.765Z"
   },
   {
    "duration": 45,
    "start_time": "2022-07-19T15:18:45.509Z"
   },
   {
    "duration": 17,
    "start_time": "2022-07-19T15:18:46.833Z"
   },
   {
    "duration": 12,
    "start_time": "2022-07-19T15:18:47.482Z"
   },
   {
    "duration": 6,
    "start_time": "2022-07-19T15:18:47.981Z"
   },
   {
    "duration": 9,
    "start_time": "2022-07-19T15:18:48.828Z"
   },
   {
    "duration": 21,
    "start_time": "2022-07-19T15:18:49.131Z"
   },
   {
    "duration": 20,
    "start_time": "2022-07-19T15:18:49.475Z"
   },
   {
    "duration": 421,
    "start_time": "2022-07-19T15:18:49.795Z"
   },
   {
    "duration": 158,
    "start_time": "2022-07-19T15:18:51.124Z"
   },
   {
    "duration": 134,
    "start_time": "2022-07-19T15:18:52.862Z"
   },
   {
    "duration": 147,
    "start_time": "2022-07-19T15:18:53.348Z"
   },
   {
    "duration": 151,
    "start_time": "2022-07-19T15:18:53.763Z"
   },
   {
    "duration": 3,
    "start_time": "2022-07-19T15:18:54.408Z"
   },
   {
    "duration": 277,
    "start_time": "2022-07-19T15:18:54.887Z"
   },
   {
    "duration": 193,
    "start_time": "2022-07-19T15:18:55.924Z"
   },
   {
    "duration": 214,
    "start_time": "2022-07-19T15:18:56.788Z"
   },
   {
    "duration": 186,
    "start_time": "2022-07-19T15:18:57.570Z"
   },
   {
    "duration": 202,
    "start_time": "2022-07-19T15:18:58.421Z"
   },
   {
    "duration": 197,
    "start_time": "2022-07-19T15:18:59.006Z"
   },
   {
    "duration": 11,
    "start_time": "2022-07-19T15:18:59.426Z"
   },
   {
    "duration": 15,
    "start_time": "2022-07-19T15:19:02.148Z"
   },
   {
    "duration": 3,
    "start_time": "2022-07-19T15:19:09.725Z"
   },
   {
    "duration": 25,
    "start_time": "2022-07-19T15:19:11.915Z"
   },
   {
    "duration": 35,
    "start_time": "2022-07-19T15:19:17.992Z"
   },
   {
    "duration": 4549,
    "start_time": "2022-07-19T15:20:12.812Z"
   },
   {
    "duration": 0,
    "start_time": "2022-07-19T15:20:17.365Z"
   },
   {
    "duration": 4,
    "start_time": "2022-07-19T15:20:24.788Z"
   },
   {
    "duration": 105,
    "start_time": "2022-07-19T15:20:25.267Z"
   },
   {
    "duration": 138,
    "start_time": "2022-07-19T15:20:25.435Z"
   },
   {
    "duration": 5,
    "start_time": "2022-07-19T15:20:26.618Z"
   },
   {
    "duration": 26,
    "start_time": "2022-07-19T15:20:26.803Z"
   },
   {
    "duration": 12,
    "start_time": "2022-07-19T15:20:27.186Z"
   },
   {
    "duration": 21,
    "start_time": "2022-07-19T15:20:27.523Z"
   },
   {
    "duration": 7,
    "start_time": "2022-07-19T15:20:28.169Z"
   },
   {
    "duration": 9,
    "start_time": "2022-07-19T15:20:29.600Z"
   },
   {
    "duration": 16,
    "start_time": "2022-07-19T15:20:30.427Z"
   },
   {
    "duration": 14,
    "start_time": "2022-07-19T15:20:30.771Z"
   },
   {
    "duration": 417,
    "start_time": "2022-07-19T15:20:31.115Z"
   },
   {
    "duration": 459,
    "start_time": "2022-07-19T15:20:31.939Z"
   },
   {
    "duration": 160,
    "start_time": "2022-07-19T15:20:32.400Z"
   },
   {
    "duration": 145,
    "start_time": "2022-07-19T15:20:32.644Z"
   },
   {
    "duration": 138,
    "start_time": "2022-07-19T15:20:32.987Z"
   },
   {
    "duration": 3,
    "start_time": "2022-07-19T15:20:33.531Z"
   },
   {
    "duration": 229,
    "start_time": "2022-07-19T15:20:33.866Z"
   },
   {
    "duration": 194,
    "start_time": "2022-07-19T15:20:34.274Z"
   },
   {
    "duration": 216,
    "start_time": "2022-07-19T15:20:34.677Z"
   },
   {
    "duration": 263,
    "start_time": "2022-07-19T15:20:35.059Z"
   },
   {
    "duration": 220,
    "start_time": "2022-07-19T15:20:35.420Z"
   },
   {
    "duration": 223,
    "start_time": "2022-07-19T15:20:35.644Z"
   },
   {
    "duration": 12,
    "start_time": "2022-07-19T15:20:35.869Z"
   },
   {
    "duration": 10,
    "start_time": "2022-07-19T15:20:36.001Z"
   },
   {
    "duration": 5,
    "start_time": "2022-07-19T15:20:38.550Z"
   },
   {
    "duration": 26,
    "start_time": "2022-07-19T15:20:40.220Z"
   },
   {
    "duration": 30,
    "start_time": "2022-07-19T15:20:45.212Z"
   },
   {
    "duration": 3,
    "start_time": "2022-07-19T15:21:11.517Z"
   },
   {
    "duration": 509,
    "start_time": "2022-07-19T15:21:15.019Z"
   },
   {
    "duration": 119,
    "start_time": "2022-07-19T15:21:19.115Z"
   },
   {
    "duration": 238,
    "start_time": "2022-07-19T15:21:23.258Z"
   },
   {
    "duration": 227,
    "start_time": "2022-07-19T15:21:33.740Z"
   },
   {
    "duration": 86469,
    "start_time": "2022-07-19T15:21:43.832Z"
   },
   {
    "duration": 526,
    "start_time": "2022-07-19T15:26:08.014Z"
   },
   {
    "duration": 1181,
    "start_time": "2022-07-19T15:26:49.824Z"
   },
   {
    "duration": 6,
    "start_time": "2022-07-19T15:26:55.661Z"
   },
   {
    "duration": 109,
    "start_time": "2022-07-19T15:26:56.204Z"
   },
   {
    "duration": 116,
    "start_time": "2022-07-19T15:26:56.371Z"
   },
   {
    "duration": 5,
    "start_time": "2022-07-19T15:26:57.510Z"
   },
   {
    "duration": 27,
    "start_time": "2022-07-19T15:26:57.670Z"
   },
   {
    "duration": 11,
    "start_time": "2022-07-19T15:26:57.997Z"
   },
   {
    "duration": 21,
    "start_time": "2022-07-19T15:26:58.345Z"
   },
   {
    "duration": 6,
    "start_time": "2022-07-19T15:26:58.700Z"
   },
   {
    "duration": 14,
    "start_time": "2022-07-19T15:26:59.648Z"
   },
   {
    "duration": 16,
    "start_time": "2022-07-19T15:26:59.963Z"
   },
   {
    "duration": 15,
    "start_time": "2022-07-19T15:27:00.291Z"
   },
   {
    "duration": 414,
    "start_time": "2022-07-19T15:27:00.614Z"
   },
   {
    "duration": 166,
    "start_time": "2022-07-19T15:27:01.399Z"
   },
   {
    "duration": 155,
    "start_time": "2022-07-19T15:27:01.767Z"
   },
   {
    "duration": 142,
    "start_time": "2022-07-19T15:27:02.587Z"
   },
   {
    "duration": 159,
    "start_time": "2022-07-19T15:27:03.836Z"
   },
   {
    "duration": 3,
    "start_time": "2022-07-19T15:27:05.563Z"
   },
   {
    "duration": 231,
    "start_time": "2022-07-19T15:27:06.614Z"
   },
   {
    "duration": 232,
    "start_time": "2022-07-19T15:27:08.067Z"
   },
   {
    "duration": 233,
    "start_time": "2022-07-19T15:27:08.551Z"
   },
   {
    "duration": 203,
    "start_time": "2022-07-19T15:27:09.016Z"
   },
   {
    "duration": 212,
    "start_time": "2022-07-19T15:27:09.333Z"
   },
   {
    "duration": 341,
    "start_time": "2022-07-19T15:27:09.550Z"
   },
   {
    "duration": 17,
    "start_time": "2022-07-19T15:27:09.893Z"
   },
   {
    "duration": 12,
    "start_time": "2022-07-19T15:27:09.958Z"
   },
   {
    "duration": 4,
    "start_time": "2022-07-19T15:27:12.867Z"
   },
   {
    "duration": 26,
    "start_time": "2022-07-19T15:27:15.702Z"
   },
   {
    "duration": 3,
    "start_time": "2022-07-19T15:27:18.414Z"
   },
   {
    "duration": 527,
    "start_time": "2022-07-19T15:27:19.838Z"
   },
   {
    "duration": 14,
    "start_time": "2022-07-19T15:29:53.597Z"
   },
   {
    "duration": 5,
    "start_time": "2022-07-19T15:30:54.316Z"
   },
   {
    "duration": 39,
    "start_time": "2022-07-19T15:31:05.099Z"
   },
   {
    "duration": 6,
    "start_time": "2022-07-19T15:31:41.683Z"
   },
   {
    "duration": 39,
    "start_time": "2022-07-19T15:32:03.713Z"
   },
   {
    "duration": 318,
    "start_time": "2022-07-19T15:33:01.074Z"
   },
   {
    "duration": 522,
    "start_time": "2022-07-19T15:34:46.987Z"
   },
   {
    "duration": 506,
    "start_time": "2022-07-19T15:34:59.528Z"
   },
   {
    "duration": 57,
    "start_time": "2022-07-19T15:35:10.449Z"
   },
   {
    "duration": 321,
    "start_time": "2022-07-19T15:35:38.512Z"
   },
   {
    "duration": 26,
    "start_time": "2022-07-19T15:39:37.980Z"
   },
   {
    "duration": 347,
    "start_time": "2022-07-19T15:39:50.426Z"
   },
   {
    "duration": 331,
    "start_time": "2022-07-19T15:45:25.956Z"
   },
   {
    "duration": 5,
    "start_time": "2022-07-19T15:51:19.268Z"
   },
   {
    "duration": 508,
    "start_time": "2022-07-19T15:51:26.806Z"
   },
   {
    "duration": 294,
    "start_time": "2022-07-19T15:52:08.808Z"
   },
   {
    "duration": 5,
    "start_time": "2022-07-19T15:53:04.293Z"
   },
   {
    "duration": 116,
    "start_time": "2022-07-19T15:53:04.994Z"
   },
   {
    "duration": 137,
    "start_time": "2022-07-19T15:53:05.236Z"
   },
   {
    "duration": 4,
    "start_time": "2022-07-19T15:53:06.827Z"
   },
   {
    "duration": 28,
    "start_time": "2022-07-19T15:53:07.059Z"
   },
   {
    "duration": 14,
    "start_time": "2022-07-19T15:53:07.560Z"
   },
   {
    "duration": 15,
    "start_time": "2022-07-19T15:53:07.999Z"
   },
   {
    "duration": 8,
    "start_time": "2022-07-19T15:53:08.440Z"
   },
   {
    "duration": 9,
    "start_time": "2022-07-19T15:53:09.379Z"
   },
   {
    "duration": 14,
    "start_time": "2022-07-19T15:53:09.721Z"
   },
   {
    "duration": 14,
    "start_time": "2022-07-19T15:53:10.067Z"
   },
   {
    "duration": 383,
    "start_time": "2022-07-19T15:53:10.411Z"
   },
   {
    "duration": 144,
    "start_time": "2022-07-19T15:53:12.563Z"
   },
   {
    "duration": 134,
    "start_time": "2022-07-19T15:53:13.058Z"
   },
   {
    "duration": 130,
    "start_time": "2022-07-19T15:53:13.502Z"
   },
   {
    "duration": 235,
    "start_time": "2022-07-19T15:53:13.875Z"
   },
   {
    "duration": 3,
    "start_time": "2022-07-19T15:53:14.522Z"
   },
   {
    "duration": 256,
    "start_time": "2022-07-19T15:53:14.924Z"
   },
   {
    "duration": 189,
    "start_time": "2022-07-19T15:53:15.760Z"
   },
   {
    "duration": 222,
    "start_time": "2022-07-19T15:53:16.898Z"
   },
   {
    "duration": 226,
    "start_time": "2022-07-19T15:53:17.700Z"
   },
   {
    "duration": 226,
    "start_time": "2022-07-19T15:53:22.941Z"
   },
   {
    "duration": 204,
    "start_time": "2022-07-19T15:53:23.405Z"
   },
   {
    "duration": 13,
    "start_time": "2022-07-19T15:53:24.108Z"
   },
   {
    "duration": 10,
    "start_time": "2022-07-19T15:53:25.582Z"
   },
   {
    "duration": 3,
    "start_time": "2022-07-19T15:53:29.723Z"
   },
   {
    "duration": 23,
    "start_time": "2022-07-19T15:53:32.308Z"
   },
   {
    "duration": 380,
    "start_time": "2022-07-19T15:53:35.306Z"
   },
   {
    "duration": 5,
    "start_time": "2022-07-19T15:53:42.492Z"
   },
   {
    "duration": 520,
    "start_time": "2022-07-19T15:53:43.918Z"
   },
   {
    "duration": 135,
    "start_time": "2022-07-19T15:53:49.870Z"
   },
   {
    "duration": 239,
    "start_time": "2022-07-19T15:53:57.494Z"
   },
   {
    "duration": 99,
    "start_time": "2022-07-19T15:54:29.101Z"
   },
   {
    "duration": 5,
    "start_time": "2022-07-19T15:55:48.763Z"
   },
   {
    "duration": 103,
    "start_time": "2022-07-19T15:55:48.770Z"
   },
   {
    "duration": 117,
    "start_time": "2022-07-19T15:55:48.875Z"
   },
   {
    "duration": 5,
    "start_time": "2022-07-19T15:55:48.994Z"
   },
   {
    "duration": 59,
    "start_time": "2022-07-19T15:55:49.001Z"
   },
   {
    "duration": 14,
    "start_time": "2022-07-19T15:55:49.061Z"
   },
   {
    "duration": 13,
    "start_time": "2022-07-19T15:55:49.078Z"
   },
   {
    "duration": 6,
    "start_time": "2022-07-19T15:55:49.093Z"
   },
   {
    "duration": 41,
    "start_time": "2022-07-19T15:55:49.101Z"
   },
   {
    "duration": 20,
    "start_time": "2022-07-19T15:55:49.144Z"
   },
   {
    "duration": 15,
    "start_time": "2022-07-19T15:55:49.168Z"
   },
   {
    "duration": 398,
    "start_time": "2022-07-19T15:55:49.185Z"
   },
   {
    "duration": 260,
    "start_time": "2022-07-19T15:55:49.586Z"
   },
   {
    "duration": 142,
    "start_time": "2022-07-19T15:55:49.849Z"
   },
   {
    "duration": 149,
    "start_time": "2022-07-19T15:55:49.993Z"
   },
   {
    "duration": 146,
    "start_time": "2022-07-19T15:55:50.144Z"
   },
   {
    "duration": 2,
    "start_time": "2022-07-19T15:55:50.293Z"
   },
   {
    "duration": 229,
    "start_time": "2022-07-19T15:55:50.297Z"
   },
   {
    "duration": 191,
    "start_time": "2022-07-19T15:55:50.528Z"
   },
   {
    "duration": 208,
    "start_time": "2022-07-19T15:55:50.721Z"
   },
   {
    "duration": 184,
    "start_time": "2022-07-19T15:55:50.931Z"
   },
   {
    "duration": 203,
    "start_time": "2022-07-19T15:55:51.116Z"
   },
   {
    "duration": 187,
    "start_time": "2022-07-19T15:55:51.321Z"
   },
   {
    "duration": 10,
    "start_time": "2022-07-19T15:55:51.510Z"
   },
   {
    "duration": 28,
    "start_time": "2022-07-19T15:55:51.522Z"
   },
   {
    "duration": 3,
    "start_time": "2022-07-19T15:55:51.552Z"
   },
   {
    "duration": 25,
    "start_time": "2022-07-19T15:55:51.557Z"
   },
   {
    "duration": 335,
    "start_time": "2022-07-19T15:55:51.584Z"
   },
   {
    "duration": 5,
    "start_time": "2022-07-19T15:55:51.922Z"
   },
   {
    "duration": 465,
    "start_time": "2022-07-19T15:55:51.929Z"
   },
   {
    "duration": 2,
    "start_time": "2022-07-19T15:55:52.396Z"
   },
   {
    "duration": 228,
    "start_time": "2022-07-19T15:55:52.400Z"
   },
   {
    "duration": 250,
    "start_time": "2022-07-19T15:55:52.629Z"
   },
   {
    "duration": 3,
    "start_time": "2022-07-19T15:55:52.881Z"
   },
   {
    "duration": 79428,
    "start_time": "2022-07-19T15:55:52.886Z"
   },
   {
    "duration": 2093350,
    "start_time": "2022-07-19T15:57:12.316Z"
   },
   {
    "duration": 3,
    "start_time": "2022-07-19T16:32:05.669Z"
   },
   {
    "duration": 1016127,
    "start_time": "2022-07-19T16:32:05.675Z"
   },
   {
    "duration": 374815,
    "start_time": "2022-07-19T16:49:01.804Z"
   },
   {
    "duration": 3,
    "start_time": "2022-07-19T16:55:16.620Z"
   },
   {
    "duration": 11428,
    "start_time": "2022-07-19T16:55:16.625Z"
   },
   {
    "duration": 7,
    "start_time": "2022-07-19T17:11:37.741Z"
   },
   {
    "duration": 118,
    "start_time": "2022-07-19T17:12:30.862Z"
   },
   {
    "duration": 8,
    "start_time": "2022-07-19T17:12:38.462Z"
   },
   {
    "duration": 1073960,
    "start_time": "2022-07-19T17:13:36.678Z"
   },
   {
    "duration": 13,
    "start_time": "2022-07-19T17:31:30.640Z"
   },
   {
    "duration": 3,
    "start_time": "2022-07-19T17:49:53.372Z"
   },
   {
    "duration": 3,
    "start_time": "2022-07-19T17:49:57.113Z"
   },
   {
    "duration": 6807,
    "start_time": "2022-07-19T17:50:42.931Z"
   },
   {
    "duration": 24135,
    "start_time": "2022-07-19T17:51:02.293Z"
   },
   {
    "duration": 22615,
    "start_time": "2022-07-19T17:56:59.499Z"
   },
   {
    "duration": 22779,
    "start_time": "2022-07-19T17:57:52.844Z"
   },
   {
    "duration": 8857,
    "start_time": "2022-07-19T17:58:33.723Z"
   },
   {
    "duration": 1347,
    "start_time": "2022-07-19T17:59:33.407Z"
   },
   {
    "duration": 15167,
    "start_time": "2022-07-19T18:01:33.485Z"
   },
   {
    "duration": 1506,
    "start_time": "2022-07-19T18:05:12.662Z"
   },
   {
    "duration": 62,
    "start_time": "2022-07-20T10:56:43.424Z"
   },
   {
    "duration": 2199,
    "start_time": "2022-07-20T10:56:48.629Z"
   },
   {
    "duration": 111,
    "start_time": "2022-07-20T10:56:50.830Z"
   },
   {
    "duration": 107,
    "start_time": "2022-07-20T10:56:50.942Z"
   },
   {
    "duration": 4,
    "start_time": "2022-07-20T10:56:51.051Z"
   },
   {
    "duration": 51,
    "start_time": "2022-07-20T10:56:51.057Z"
   },
   {
    "duration": 33,
    "start_time": "2022-07-20T10:56:51.110Z"
   },
   {
    "duration": 37,
    "start_time": "2022-07-20T10:56:51.145Z"
   },
   {
    "duration": 5,
    "start_time": "2022-07-20T10:56:51.228Z"
   },
   {
    "duration": 8,
    "start_time": "2022-07-20T10:56:52.015Z"
   },
   {
    "duration": 16,
    "start_time": "2022-07-20T10:56:52.318Z"
   },
   {
    "duration": 13,
    "start_time": "2022-07-20T10:56:52.629Z"
   },
   {
    "duration": 397,
    "start_time": "2022-07-20T10:56:52.942Z"
   },
   {
    "duration": 118,
    "start_time": "2022-07-20T10:56:53.740Z"
   },
   {
    "duration": 103,
    "start_time": "2022-07-20T10:56:54.061Z"
   },
   {
    "duration": 123,
    "start_time": "2022-07-20T10:56:54.373Z"
   },
   {
    "duration": 109,
    "start_time": "2022-07-20T10:56:54.711Z"
   },
   {
    "duration": 7,
    "start_time": "2022-07-20T10:56:55.511Z"
   },
   {
    "duration": 198,
    "start_time": "2022-07-20T10:56:55.797Z"
   },
   {
    "duration": 176,
    "start_time": "2022-07-20T10:56:56.121Z"
   },
   {
    "duration": 171,
    "start_time": "2022-07-20T10:56:56.419Z"
   },
   {
    "duration": 146,
    "start_time": "2022-07-20T10:56:56.718Z"
   },
   {
    "duration": 285,
    "start_time": "2022-07-20T10:56:57.038Z"
   },
   {
    "duration": 204,
    "start_time": "2022-07-20T10:56:57.327Z"
   },
   {
    "duration": 11,
    "start_time": "2022-07-20T10:56:57.533Z"
   },
   {
    "duration": 13,
    "start_time": "2022-07-20T10:56:57.669Z"
   },
   {
    "duration": 3,
    "start_time": "2022-07-20T10:57:00.573Z"
   },
   {
    "duration": 30,
    "start_time": "2022-07-20T10:57:01.799Z"
   },
   {
    "duration": 110,
    "start_time": "2022-07-20T10:57:02.853Z"
   },
   {
    "duration": 284,
    "start_time": "2022-07-20T10:57:08.462Z"
   },
   {
    "duration": 5,
    "start_time": "2022-07-20T10:57:14.996Z"
   },
   {
    "duration": 17,
    "start_time": "2022-07-20T10:57:15.518Z"
   },
   {
    "duration": 230,
    "start_time": "2022-07-20T11:00:04.132Z"
   },
   {
    "duration": 10,
    "start_time": "2022-07-20T11:00:18.563Z"
   },
   {
    "duration": 15,
    "start_time": "2022-07-20T11:00:39.280Z"
   },
   {
    "duration": 15,
    "start_time": "2022-07-20T11:07:41.926Z"
   },
   {
    "duration": 75,
    "start_time": "2022-07-20T12:54:30.383Z"
   },
   {
    "duration": 1740,
    "start_time": "2022-07-20T12:54:35.527Z"
   },
   {
    "duration": 296,
    "start_time": "2022-07-20T12:54:37.269Z"
   },
   {
    "duration": 99,
    "start_time": "2022-07-20T12:54:37.567Z"
   },
   {
    "duration": 4,
    "start_time": "2022-07-20T12:54:37.668Z"
   },
   {
    "duration": 36,
    "start_time": "2022-07-20T12:54:37.750Z"
   },
   {
    "duration": 16,
    "start_time": "2022-07-20T12:54:38.126Z"
   },
   {
    "duration": 16,
    "start_time": "2022-07-20T12:54:38.486Z"
   },
   {
    "duration": 7,
    "start_time": "2022-07-20T12:54:38.846Z"
   },
   {
    "duration": 12,
    "start_time": "2022-07-20T12:54:39.773Z"
   },
   {
    "duration": 27,
    "start_time": "2022-07-20T12:54:40.173Z"
   },
   {
    "duration": 14,
    "start_time": "2022-07-20T12:54:40.621Z"
   },
   {
    "duration": 469,
    "start_time": "2022-07-20T12:54:41.047Z"
   },
   {
    "duration": 138,
    "start_time": "2022-07-20T12:54:42.110Z"
   },
   {
    "duration": 124,
    "start_time": "2022-07-20T12:54:42.937Z"
   },
   {
    "duration": 134,
    "start_time": "2022-07-20T12:54:43.464Z"
   },
   {
    "duration": 119,
    "start_time": "2022-07-20T12:54:43.967Z"
   },
   {
    "duration": 3,
    "start_time": "2022-07-20T12:54:44.669Z"
   },
   {
    "duration": 202,
    "start_time": "2022-07-20T12:54:45.140Z"
   },
   {
    "duration": 250,
    "start_time": "2022-07-20T12:54:45.693Z"
   },
   {
    "duration": 186,
    "start_time": "2022-07-20T12:54:46.199Z"
   },
   {
    "duration": 182,
    "start_time": "2022-07-20T12:54:46.646Z"
   },
   {
    "duration": 186,
    "start_time": "2022-07-20T12:54:47.125Z"
   },
   {
    "duration": 229,
    "start_time": "2022-07-20T12:54:47.391Z"
   },
   {
    "duration": 13,
    "start_time": "2022-07-20T12:54:47.631Z"
   },
   {
    "duration": 14,
    "start_time": "2022-07-20T12:54:47.910Z"
   },
   {
    "duration": 4,
    "start_time": "2022-07-20T12:54:51.518Z"
   },
   {
    "duration": 31,
    "start_time": "2022-07-20T12:54:57.201Z"
   },
   {
    "duration": 130,
    "start_time": "2022-07-20T12:55:00.953Z"
   },
   {
    "duration": 346,
    "start_time": "2022-07-20T12:55:10.782Z"
   },
   {
    "duration": 23,
    "start_time": "2022-07-20T12:57:38.620Z"
   },
   {
    "duration": 16,
    "start_time": "2022-07-20T12:57:55.550Z"
   },
   {
    "duration": 21,
    "start_time": "2022-07-20T12:59:57.467Z"
   },
   {
    "duration": 15,
    "start_time": "2022-07-20T13:01:28.343Z"
   },
   {
    "duration": 519,
    "start_time": "2022-07-20T13:03:57.374Z"
   },
   {
    "duration": 15,
    "start_time": "2022-07-20T13:06:24.062Z"
   },
   {
    "duration": 15,
    "start_time": "2022-07-20T13:09:01.548Z"
   },
   {
    "duration": 165,
    "start_time": "2022-07-20T13:10:01.594Z"
   },
   {
    "duration": 93,
    "start_time": "2022-07-20T13:11:11.642Z"
   },
   {
    "duration": 23,
    "start_time": "2022-07-20T13:11:16.332Z"
   },
   {
    "duration": 50,
    "start_time": "2022-07-20T13:11:43.017Z"
   },
   {
    "duration": 36,
    "start_time": "2022-07-20T13:12:02.545Z"
   },
   {
    "duration": 39,
    "start_time": "2022-07-20T13:15:03.822Z"
   },
   {
    "duration": 34,
    "start_time": "2022-07-20T13:15:28.256Z"
   },
   {
    "duration": 6,
    "start_time": "2022-07-20T13:16:04.195Z"
   },
   {
    "duration": 24,
    "start_time": "2022-07-20T13:16:07.993Z"
   },
   {
    "duration": 25,
    "start_time": "2022-07-20T13:16:09.681Z"
   },
   {
    "duration": 156,
    "start_time": "2022-07-20T13:17:05.155Z"
   },
   {
    "duration": 12,
    "start_time": "2022-07-20T13:17:14.983Z"
   },
   {
    "duration": 27,
    "start_time": "2022-07-20T13:19:50.576Z"
   },
   {
    "duration": 18,
    "start_time": "2022-07-20T13:20:01.089Z"
   },
   {
    "duration": 24,
    "start_time": "2022-07-20T13:20:52.918Z"
   },
   {
    "duration": 32,
    "start_time": "2022-07-20T13:24:05.405Z"
   },
   {
    "duration": 31,
    "start_time": "2022-07-20T13:24:20.688Z"
   },
   {
    "duration": 17,
    "start_time": "2022-07-20T13:26:40.454Z"
   },
   {
    "duration": 6,
    "start_time": "2022-07-20T13:28:23.221Z"
   },
   {
    "duration": 105,
    "start_time": "2022-07-20T13:28:23.256Z"
   },
   {
    "duration": 103,
    "start_time": "2022-07-20T13:28:23.363Z"
   },
   {
    "duration": 5,
    "start_time": "2022-07-20T13:28:23.468Z"
   },
   {
    "duration": 49,
    "start_time": "2022-07-20T13:28:23.474Z"
   },
   {
    "duration": 13,
    "start_time": "2022-07-20T13:28:23.526Z"
   },
   {
    "duration": 25,
    "start_time": "2022-07-20T13:28:23.541Z"
   },
   {
    "duration": 7,
    "start_time": "2022-07-20T13:28:23.568Z"
   },
   {
    "duration": 34,
    "start_time": "2022-07-20T13:28:23.577Z"
   },
   {
    "duration": 16,
    "start_time": "2022-07-20T13:28:23.613Z"
   },
   {
    "duration": 16,
    "start_time": "2022-07-20T13:28:23.631Z"
   },
   {
    "duration": 350,
    "start_time": "2022-07-20T13:28:23.649Z"
   },
   {
    "duration": 137,
    "start_time": "2022-07-20T13:28:24.001Z"
   },
   {
    "duration": 118,
    "start_time": "2022-07-20T13:28:24.140Z"
   },
   {
    "duration": 126,
    "start_time": "2022-07-20T13:28:24.261Z"
   },
   {
    "duration": 122,
    "start_time": "2022-07-20T13:28:24.389Z"
   },
   {
    "duration": 2,
    "start_time": "2022-07-20T13:28:24.513Z"
   },
   {
    "duration": 206,
    "start_time": "2022-07-20T13:28:24.517Z"
   },
   {
    "duration": 172,
    "start_time": "2022-07-20T13:28:24.725Z"
   },
   {
    "duration": 191,
    "start_time": "2022-07-20T13:28:24.899Z"
   },
   {
    "duration": 169,
    "start_time": "2022-07-20T13:28:25.093Z"
   },
   {
    "duration": 277,
    "start_time": "2022-07-20T13:28:25.264Z"
   },
   {
    "duration": 175,
    "start_time": "2022-07-20T13:28:25.543Z"
   },
   {
    "duration": 12,
    "start_time": "2022-07-20T13:28:25.720Z"
   },
   {
    "duration": 11,
    "start_time": "2022-07-20T13:28:25.734Z"
   },
   {
    "duration": 4,
    "start_time": "2022-07-20T13:28:25.747Z"
   },
   {
    "duration": 32,
    "start_time": "2022-07-20T13:28:25.753Z"
   },
   {
    "duration": 316,
    "start_time": "2022-07-20T13:28:25.787Z"
   },
   {
    "duration": 8,
    "start_time": "2022-07-20T13:28:26.104Z"
   },
   {
    "duration": 86,
    "start_time": "2022-07-20T13:28:26.113Z"
   },
   {
    "duration": 16,
    "start_time": "2022-07-20T13:28:26.201Z"
   },
   {
    "duration": 118,
    "start_time": "2022-07-20T13:28:26.218Z"
   },
   {
    "duration": 11,
    "start_time": "2022-07-20T13:28:26.338Z"
   },
   {
    "duration": 11,
    "start_time": "2022-07-20T13:28:26.351Z"
   },
   {
    "duration": 3356,
    "start_time": "2022-07-20T13:28:26.364Z"
   },
   {
    "duration": 34792,
    "start_time": "2022-07-20T13:28:29.722Z"
   },
   {
    "duration": 4,
    "start_time": "2022-07-20T13:29:04.515Z"
   },
   {
    "duration": 98697,
    "start_time": "2022-07-20T13:29:04.521Z"
   },
   {
    "duration": 64910,
    "start_time": "2022-07-20T13:30:43.220Z"
   },
   {
    "duration": 0,
    "start_time": "2022-07-20T13:31:48.131Z"
   },
   {
    "duration": 0,
    "start_time": "2022-07-20T13:31:48.133Z"
   },
   {
    "duration": 0,
    "start_time": "2022-07-20T13:31:48.134Z"
   },
   {
    "duration": 4056,
    "start_time": "2022-07-20T14:13:48.379Z"
   },
   {
    "duration": 3,
    "start_time": "2022-07-20T14:17:40.151Z"
   },
   {
    "duration": 4,
    "start_time": "2022-07-20T14:18:38.289Z"
   },
   {
    "duration": 3,
    "start_time": "2022-07-20T14:19:30.867Z"
   },
   {
    "duration": 3,
    "start_time": "2022-07-20T14:19:36.976Z"
   },
   {
    "duration": 4119,
    "start_time": "2022-07-20T14:19:47.321Z"
   },
   {
    "duration": 1038,
    "start_time": "2022-07-20T14:20:56.666Z"
   },
   {
    "duration": 308,
    "start_time": "2022-07-20T14:21:05.512Z"
   },
   {
    "duration": 3112,
    "start_time": "2022-07-20T14:21:37.489Z"
   },
   {
    "duration": 211,
    "start_time": "2022-07-20T14:22:29.599Z"
   },
   {
    "duration": 23675,
    "start_time": "2022-07-20T14:23:08.262Z"
   },
   {
    "duration": 32165,
    "start_time": "2022-07-20T14:31:56.375Z"
   },
   {
    "duration": 21,
    "start_time": "2022-07-20T14:33:57.214Z"
   },
   {
    "duration": 14,
    "start_time": "2022-07-20T15:21:32.964Z"
   },
   {
    "duration": 15,
    "start_time": "2022-07-20T15:22:19.758Z"
   },
   {
    "duration": 0,
    "start_time": "2022-07-20T15:27:37.625Z"
   },
   {
    "duration": 0,
    "start_time": "2022-07-20T15:31:55.539Z"
   },
   {
    "duration": 19,
    "start_time": "2022-07-20T15:32:00.086Z"
   },
   {
    "duration": 11479035,
    "start_time": "2022-07-20T15:32:39.131Z"
   },
   {
    "duration": 8238,
    "start_time": "2022-07-20T18:44:12.840Z"
   },
   {
    "duration": 1031,
    "start_time": "2022-07-20T18:44:30.829Z"
   },
   {
    "duration": 1650,
    "start_time": "2022-07-20T18:49:40.633Z"
   },
   {
    "duration": 109,
    "start_time": "2022-07-20T18:49:42.285Z"
   },
   {
    "duration": 149,
    "start_time": "2022-07-20T18:49:42.396Z"
   },
   {
    "duration": 4,
    "start_time": "2022-07-20T18:49:42.546Z"
   },
   {
    "duration": 50,
    "start_time": "2022-07-20T18:49:42.552Z"
   },
   {
    "duration": 28,
    "start_time": "2022-07-20T18:49:42.604Z"
   },
   {
    "duration": 18,
    "start_time": "2022-07-20T18:49:42.635Z"
   },
   {
    "duration": 12,
    "start_time": "2022-07-20T18:49:42.654Z"
   },
   {
    "duration": 12,
    "start_time": "2022-07-20T18:49:42.669Z"
   },
   {
    "duration": 36,
    "start_time": "2022-07-20T18:49:42.683Z"
   },
   {
    "duration": 13,
    "start_time": "2022-07-20T18:49:42.722Z"
   },
   {
    "duration": 410,
    "start_time": "2022-07-20T18:49:42.737Z"
   },
   {
    "duration": 216,
    "start_time": "2022-07-20T18:49:43.148Z"
   },
   {
    "duration": 132,
    "start_time": "2022-07-20T18:49:43.367Z"
   },
   {
    "duration": 148,
    "start_time": "2022-07-20T18:49:43.509Z"
   },
   {
    "duration": 169,
    "start_time": "2022-07-20T18:49:43.659Z"
   },
   {
    "duration": 7,
    "start_time": "2022-07-20T18:49:43.831Z"
   },
   {
    "duration": 232,
    "start_time": "2022-07-20T18:49:43.844Z"
   },
   {
    "duration": 196,
    "start_time": "2022-07-20T18:49:44.078Z"
   },
   {
    "duration": 208,
    "start_time": "2022-07-20T18:49:44.276Z"
   },
   {
    "duration": 214,
    "start_time": "2022-07-20T18:49:44.485Z"
   },
   {
    "duration": 191,
    "start_time": "2022-07-20T18:49:44.700Z"
   },
   {
    "duration": 197,
    "start_time": "2022-07-20T18:49:44.893Z"
   },
   {
    "duration": 11,
    "start_time": "2022-07-20T18:49:45.092Z"
   },
   {
    "duration": 41,
    "start_time": "2022-07-20T18:49:45.109Z"
   },
   {
    "duration": 10,
    "start_time": "2022-07-20T18:49:45.151Z"
   },
   {
    "duration": 33,
    "start_time": "2022-07-20T18:49:45.162Z"
   },
   {
    "duration": 352,
    "start_time": "2022-07-20T18:49:45.197Z"
   },
   {
    "duration": 5,
    "start_time": "2022-07-20T18:49:45.550Z"
   },
   {
    "duration": 117,
    "start_time": "2022-07-20T18:49:45.556Z"
   },
   {
    "duration": 16,
    "start_time": "2022-07-20T18:49:45.674Z"
   },
   {
    "duration": 236,
    "start_time": "2022-07-20T18:49:45.692Z"
   },
   {
    "duration": 16,
    "start_time": "2022-07-20T18:49:45.931Z"
   },
   {
    "duration": 6,
    "start_time": "2022-07-20T18:49:45.949Z"
   },
   {
    "duration": 9,
    "start_time": "2022-07-20T18:49:45.957Z"
   },
   {
    "duration": 24,
    "start_time": "2022-07-20T18:49:45.967Z"
   },
   {
    "duration": 14,
    "start_time": "2022-07-20T18:49:45.992Z"
   },
   {
    "duration": 54,
    "start_time": "2022-07-20T18:49:46.008Z"
   },
   {
    "duration": 18,
    "start_time": "2022-07-20T18:49:46.064Z"
   },
   {
    "duration": 13,
    "start_time": "2022-07-20T18:49:46.083Z"
   },
   {
    "duration": 1147,
    "start_time": "2022-07-20T18:49:46.101Z"
   },
   {
    "duration": 182,
    "start_time": "2022-07-20T18:49:47.252Z"
   },
   {
    "duration": 216,
    "start_time": "2022-07-20T18:49:47.438Z"
   },
   {
    "duration": 20,
    "start_time": "2022-07-20T18:50:43.281Z"
   },
   {
    "duration": 149,
    "start_time": "2022-07-20T18:50:49.870Z"
   },
   {
    "duration": 24,
    "start_time": "2022-07-20T18:50:52.908Z"
   },
   {
    "duration": 1729,
    "start_time": "2022-07-20T18:51:00.147Z"
   },
   {
    "duration": 150,
    "start_time": "2022-07-20T18:51:01.879Z"
   },
   {
    "duration": 125,
    "start_time": "2022-07-20T18:51:02.031Z"
   },
   {
    "duration": 5,
    "start_time": "2022-07-20T18:51:02.158Z"
   },
   {
    "duration": 38,
    "start_time": "2022-07-20T18:51:02.166Z"
   },
   {
    "duration": 28,
    "start_time": "2022-07-20T18:51:02.210Z"
   },
   {
    "duration": 25,
    "start_time": "2022-07-20T18:51:02.244Z"
   },
   {
    "duration": 13,
    "start_time": "2022-07-20T18:51:02.271Z"
   },
   {
    "duration": 16,
    "start_time": "2022-07-20T18:51:02.286Z"
   },
   {
    "duration": 30,
    "start_time": "2022-07-20T18:51:02.304Z"
   },
   {
    "duration": 29,
    "start_time": "2022-07-20T18:51:02.336Z"
   },
   {
    "duration": 419,
    "start_time": "2022-07-20T18:51:02.367Z"
   },
   {
    "duration": 248,
    "start_time": "2022-07-20T18:51:02.787Z"
   },
   {
    "duration": 138,
    "start_time": "2022-07-20T18:51:03.046Z"
   },
   {
    "duration": 149,
    "start_time": "2022-07-20T18:51:03.187Z"
   },
   {
    "duration": 124,
    "start_time": "2022-07-20T18:51:03.337Z"
   },
   {
    "duration": 3,
    "start_time": "2022-07-20T18:51:03.463Z"
   },
   {
    "duration": 234,
    "start_time": "2022-07-20T18:51:03.468Z"
   },
   {
    "duration": 193,
    "start_time": "2022-07-20T18:51:03.704Z"
   },
   {
    "duration": 251,
    "start_time": "2022-07-20T18:51:03.899Z"
   },
   {
    "duration": 205,
    "start_time": "2022-07-20T18:51:04.152Z"
   },
   {
    "duration": 194,
    "start_time": "2022-07-20T18:51:04.359Z"
   },
   {
    "duration": 202,
    "start_time": "2022-07-20T18:51:04.555Z"
   },
   {
    "duration": 11,
    "start_time": "2022-07-20T18:51:04.760Z"
   },
   {
    "duration": 9,
    "start_time": "2022-07-20T18:51:04.773Z"
   },
   {
    "duration": 3,
    "start_time": "2022-07-20T18:51:04.784Z"
   },
   {
    "duration": 50,
    "start_time": "2022-07-20T18:51:04.812Z"
   },
   {
    "duration": 330,
    "start_time": "2022-07-20T18:51:04.863Z"
   },
   {
    "duration": 5,
    "start_time": "2022-07-20T18:51:05.194Z"
   },
   {
    "duration": 121,
    "start_time": "2022-07-20T18:51:05.201Z"
   },
   {
    "duration": 28,
    "start_time": "2022-07-20T18:51:05.328Z"
   },
   {
    "duration": 216,
    "start_time": "2022-07-20T18:51:05.358Z"
   },
   {
    "duration": 10,
    "start_time": "2022-07-20T18:51:05.576Z"
   },
   {
    "duration": 18,
    "start_time": "2022-07-20T18:51:05.588Z"
   },
   {
    "duration": 33,
    "start_time": "2022-07-20T18:51:05.611Z"
   },
   {
    "duration": 8,
    "start_time": "2022-07-20T18:51:05.646Z"
   },
   {
    "duration": 10,
    "start_time": "2022-07-20T18:51:05.656Z"
   },
   {
    "duration": 7,
    "start_time": "2022-07-20T18:51:05.667Z"
   },
   {
    "duration": 5,
    "start_time": "2022-07-20T18:51:05.676Z"
   },
   {
    "duration": 5,
    "start_time": "2022-07-20T18:51:05.683Z"
   },
   {
    "duration": 1139,
    "start_time": "2022-07-20T18:51:05.691Z"
   },
   {
    "duration": 106,
    "start_time": "2022-07-20T18:51:06.836Z"
   },
   {
    "duration": 200,
    "start_time": "2022-07-20T18:51:06.944Z"
   },
   {
    "duration": 1604,
    "start_time": "2022-07-20T18:51:25.237Z"
   },
   {
    "duration": 120,
    "start_time": "2022-07-20T18:51:26.843Z"
   },
   {
    "duration": 120,
    "start_time": "2022-07-20T18:51:26.965Z"
   },
   {
    "duration": 25,
    "start_time": "2022-07-20T18:51:27.088Z"
   },
   {
    "duration": 63,
    "start_time": "2022-07-20T18:51:27.117Z"
   },
   {
    "duration": 13,
    "start_time": "2022-07-20T18:51:27.182Z"
   },
   {
    "duration": 20,
    "start_time": "2022-07-20T18:51:27.197Z"
   },
   {
    "duration": 35,
    "start_time": "2022-07-20T18:51:27.219Z"
   },
   {
    "duration": 11,
    "start_time": "2022-07-20T18:51:27.256Z"
   },
   {
    "duration": 17,
    "start_time": "2022-07-20T18:51:27.270Z"
   },
   {
    "duration": 15,
    "start_time": "2022-07-20T18:51:27.289Z"
   },
   {
    "duration": 392,
    "start_time": "2022-07-20T18:51:27.305Z"
   },
   {
    "duration": 253,
    "start_time": "2022-07-20T18:51:27.699Z"
   },
   {
    "duration": 129,
    "start_time": "2022-07-20T18:51:27.953Z"
   },
   {
    "duration": 156,
    "start_time": "2022-07-20T18:51:28.084Z"
   },
   {
    "duration": 118,
    "start_time": "2022-07-20T18:51:28.243Z"
   },
   {
    "duration": 2,
    "start_time": "2022-07-20T18:51:28.363Z"
   },
   {
    "duration": 230,
    "start_time": "2022-07-20T18:51:28.367Z"
   },
   {
    "duration": 183,
    "start_time": "2022-07-20T18:51:28.599Z"
   },
   {
    "duration": 210,
    "start_time": "2022-07-20T18:51:28.784Z"
   },
   {
    "duration": 197,
    "start_time": "2022-07-20T18:51:28.995Z"
   },
   {
    "duration": 190,
    "start_time": "2022-07-20T18:51:29.193Z"
   },
   {
    "duration": 182,
    "start_time": "2022-07-20T18:51:29.385Z"
   },
   {
    "duration": 10,
    "start_time": "2022-07-20T18:51:29.569Z"
   },
   {
    "duration": 12,
    "start_time": "2022-07-20T18:51:29.580Z"
   },
   {
    "duration": 3,
    "start_time": "2022-07-20T18:51:29.593Z"
   },
   {
    "duration": 63,
    "start_time": "2022-07-20T18:51:29.597Z"
   },
   {
    "duration": 308,
    "start_time": "2022-07-20T18:51:29.664Z"
   },
   {
    "duration": 5,
    "start_time": "2022-07-20T18:51:29.974Z"
   },
   {
    "duration": 104,
    "start_time": "2022-07-20T18:51:29.981Z"
   },
   {
    "duration": 17,
    "start_time": "2022-07-20T18:51:30.086Z"
   },
   {
    "duration": 237,
    "start_time": "2022-07-20T18:51:30.105Z"
   },
   {
    "duration": 9,
    "start_time": "2022-07-20T18:51:30.344Z"
   },
   {
    "duration": 12,
    "start_time": "2022-07-20T18:51:30.355Z"
   },
   {
    "duration": 11,
    "start_time": "2022-07-20T18:51:30.368Z"
   },
   {
    "duration": 17,
    "start_time": "2022-07-20T18:51:30.380Z"
   },
   {
    "duration": 49,
    "start_time": "2022-07-20T18:51:30.399Z"
   },
   {
    "duration": 19,
    "start_time": "2022-07-20T18:51:30.450Z"
   },
   {
    "duration": 19,
    "start_time": "2022-07-20T18:51:30.470Z"
   },
   {
    "duration": 8,
    "start_time": "2022-07-20T18:51:30.491Z"
   },
   {
    "duration": 1134,
    "start_time": "2022-07-20T18:51:30.501Z"
   },
   {
    "duration": 196,
    "start_time": "2022-07-20T18:51:31.639Z"
   },
   {
    "duration": 144,
    "start_time": "2022-07-20T18:51:31.911Z"
   },
   {
    "duration": 3,
    "start_time": "2022-07-20T18:54:49.580Z"
   },
   {
    "duration": 2177,
    "start_time": "2022-07-21T09:41:44.390Z"
   },
   {
    "duration": 373,
    "start_time": "2022-07-21T09:41:46.570Z"
   },
   {
    "duration": 118,
    "start_time": "2022-07-21T09:41:46.950Z"
   },
   {
    "duration": 5,
    "start_time": "2022-07-21T09:41:47.069Z"
   },
   {
    "duration": 35,
    "start_time": "2022-07-21T09:41:47.075Z"
   },
   {
    "duration": 10,
    "start_time": "2022-07-21T09:41:47.112Z"
   },
   {
    "duration": 14,
    "start_time": "2022-07-21T09:41:47.151Z"
   },
   {
    "duration": 6,
    "start_time": "2022-07-21T09:41:47.455Z"
   },
   {
    "duration": 9,
    "start_time": "2022-07-21T09:41:48.252Z"
   },
   {
    "duration": 19,
    "start_time": "2022-07-21T09:41:48.559Z"
   },
   {
    "duration": 12,
    "start_time": "2022-07-21T09:41:48.879Z"
   },
   {
    "duration": 390,
    "start_time": "2022-07-21T09:41:49.223Z"
   },
   {
    "duration": 218,
    "start_time": "2022-07-21T09:41:50.209Z"
   },
   {
    "duration": 121,
    "start_time": "2022-07-21T09:41:50.559Z"
   },
   {
    "duration": 127,
    "start_time": "2022-07-21T09:41:50.871Z"
   },
   {
    "duration": 125,
    "start_time": "2022-07-21T09:41:51.199Z"
   },
   {
    "duration": 2,
    "start_time": "2022-07-21T09:41:51.655Z"
   },
   {
    "duration": 212,
    "start_time": "2022-07-21T09:41:51.967Z"
   },
   {
    "duration": 186,
    "start_time": "2022-07-21T09:41:52.295Z"
   },
   {
    "duration": 201,
    "start_time": "2022-07-21T09:41:52.624Z"
   },
   {
    "duration": 189,
    "start_time": "2022-07-21T09:41:52.936Z"
   },
   {
    "duration": 193,
    "start_time": "2022-07-21T09:41:53.253Z"
   },
   {
    "duration": 186,
    "start_time": "2022-07-21T09:41:53.448Z"
   },
   {
    "duration": 14,
    "start_time": "2022-07-21T09:41:53.636Z"
   },
   {
    "duration": 10,
    "start_time": "2022-07-21T09:41:53.761Z"
   },
   {
    "duration": 3,
    "start_time": "2022-07-21T09:41:55.023Z"
   },
   {
    "duration": 23,
    "start_time": "2022-07-21T09:41:55.823Z"
   },
   {
    "duration": 307,
    "start_time": "2022-07-21T09:41:57.495Z"
   },
   {
    "duration": 5,
    "start_time": "2022-07-21T09:41:58.528Z"
   },
   {
    "duration": 80,
    "start_time": "2022-07-21T09:42:00.599Z"
   },
   {
    "duration": 17,
    "start_time": "2022-07-21T09:42:01.015Z"
   },
   {
    "duration": 230,
    "start_time": "2022-07-21T09:42:04.992Z"
   },
   {
    "duration": 13,
    "start_time": "2022-07-21T09:42:21.935Z"
   },
   {
    "duration": 15,
    "start_time": "2022-07-21T09:42:29.991Z"
   },
   {
    "duration": 12,
    "start_time": "2022-07-21T09:42:34.215Z"
   },
   {
    "duration": 1632,
    "start_time": "2022-07-21T10:51:44.380Z"
   },
   {
    "duration": 386,
    "start_time": "2022-07-21T10:51:46.014Z"
   },
   {
    "duration": 135,
    "start_time": "2022-07-21T10:51:46.402Z"
   },
   {
    "duration": 4,
    "start_time": "2022-07-21T10:51:48.345Z"
   },
   {
    "duration": 31,
    "start_time": "2022-07-21T10:51:49.132Z"
   },
   {
    "duration": 11,
    "start_time": "2022-07-21T10:51:52.433Z"
   },
   {
    "duration": 14,
    "start_time": "2022-07-21T10:51:54.065Z"
   },
   {
    "duration": 7,
    "start_time": "2022-07-21T10:51:56.106Z"
   },
   {
    "duration": 10,
    "start_time": "2022-07-21T10:51:58.111Z"
   },
   {
    "duration": 19,
    "start_time": "2022-07-21T10:51:58.522Z"
   },
   {
    "duration": 16,
    "start_time": "2022-07-21T10:51:58.881Z"
   },
   {
    "duration": 393,
    "start_time": "2022-07-21T10:51:59.224Z"
   },
   {
    "duration": 202,
    "start_time": "2022-07-21T10:52:00.130Z"
   },
   {
    "duration": 149,
    "start_time": "2022-07-21T10:52:00.488Z"
   },
   {
    "duration": 131,
    "start_time": "2022-07-21T10:52:00.855Z"
   },
   {
    "duration": 135,
    "start_time": "2022-07-21T10:52:01.240Z"
   },
   {
    "duration": 2,
    "start_time": "2022-07-21T10:52:01.799Z"
   },
   {
    "duration": 195,
    "start_time": "2022-07-21T10:52:02.185Z"
   },
   {
    "duration": 166,
    "start_time": "2022-07-21T10:52:02.586Z"
   },
   {
    "duration": 178,
    "start_time": "2022-07-21T10:52:02.991Z"
   },
   {
    "duration": 164,
    "start_time": "2022-07-21T10:52:03.392Z"
   },
   {
    "duration": 173,
    "start_time": "2022-07-21T10:52:03.872Z"
   },
   {
    "duration": 163,
    "start_time": "2022-07-21T10:52:04.305Z"
   },
   {
    "duration": 10,
    "start_time": "2022-07-21T10:52:04.607Z"
   },
   {
    "duration": 10,
    "start_time": "2022-07-21T10:52:05.529Z"
   },
   {
    "duration": 4,
    "start_time": "2022-07-21T10:52:11.167Z"
   },
   {
    "duration": 2,
    "start_time": "2022-07-21T10:52:13.810Z"
   },
   {
    "duration": 116,
    "start_time": "2022-07-21T10:52:15.443Z"
   },
   {
    "duration": 13,
    "start_time": "2022-07-21T10:52:40.329Z"
   },
   {
    "duration": 8,
    "start_time": "2022-07-21T10:52:42.401Z"
   },
   {
    "duration": 862,
    "start_time": "2022-07-21T10:53:05.113Z"
   },
   {
    "duration": 6,
    "start_time": "2022-07-21T10:53:13.177Z"
   },
   {
    "duration": 104,
    "start_time": "2022-07-21T10:53:13.719Z"
   },
   {
    "duration": 113,
    "start_time": "2022-07-21T10:53:13.920Z"
   },
   {
    "duration": 4,
    "start_time": "2022-07-21T10:53:15.911Z"
   },
   {
    "duration": 25,
    "start_time": "2022-07-21T10:53:16.094Z"
   },
   {
    "duration": 12,
    "start_time": "2022-07-21T10:53:16.495Z"
   },
   {
    "duration": 14,
    "start_time": "2022-07-21T10:53:16.863Z"
   },
   {
    "duration": 6,
    "start_time": "2022-07-21T10:53:17.181Z"
   },
   {
    "duration": 10,
    "start_time": "2022-07-21T10:53:18.069Z"
   },
   {
    "duration": 19,
    "start_time": "2022-07-21T10:53:18.390Z"
   },
   {
    "duration": 12,
    "start_time": "2022-07-21T10:53:18.750Z"
   },
   {
    "duration": 482,
    "start_time": "2022-07-21T10:53:19.096Z"
   },
   {
    "duration": 129,
    "start_time": "2022-07-21T10:53:19.957Z"
   },
   {
    "duration": 116,
    "start_time": "2022-07-21T10:53:20.327Z"
   },
   {
    "duration": 109,
    "start_time": "2022-07-21T10:53:20.662Z"
   },
   {
    "duration": 113,
    "start_time": "2022-07-21T10:53:21.030Z"
   },
   {
    "duration": 3,
    "start_time": "2022-07-21T10:53:21.870Z"
   },
   {
    "duration": 199,
    "start_time": "2022-07-21T10:53:22.664Z"
   },
   {
    "duration": 161,
    "start_time": "2022-07-21T10:53:23.806Z"
   },
   {
    "duration": 178,
    "start_time": "2022-07-21T10:53:24.256Z"
   },
   {
    "duration": 160,
    "start_time": "2022-07-21T10:53:24.697Z"
   },
   {
    "duration": 171,
    "start_time": "2022-07-21T10:53:25.081Z"
   },
   {
    "duration": 181,
    "start_time": "2022-07-21T10:53:25.294Z"
   },
   {
    "duration": 10,
    "start_time": "2022-07-21T10:53:25.742Z"
   },
   {
    "duration": 10,
    "start_time": "2022-07-21T10:53:26.183Z"
   },
   {
    "duration": 3,
    "start_time": "2022-07-21T10:53:33.232Z"
   },
   {
    "duration": 11,
    "start_time": "2022-07-21T10:53:36.376Z"
   },
   {
    "duration": 25,
    "start_time": "2022-07-21T10:53:38.327Z"
   },
   {
    "duration": 4,
    "start_time": "2022-07-21T10:58:33.449Z"
   },
   {
    "duration": 14,
    "start_time": "2022-07-21T10:59:29.801Z"
   },
   {
    "duration": 5,
    "start_time": "2022-07-21T10:59:46.967Z"
   },
   {
    "duration": 111,
    "start_time": "2022-07-21T10:59:46.974Z"
   },
   {
    "duration": 204,
    "start_time": "2022-07-21T10:59:47.086Z"
   },
   {
    "duration": 5,
    "start_time": "2022-07-21T10:59:47.292Z"
   },
   {
    "duration": 45,
    "start_time": "2022-07-21T10:59:47.299Z"
   },
   {
    "duration": 10,
    "start_time": "2022-07-21T10:59:47.346Z"
   },
   {
    "duration": 18,
    "start_time": "2022-07-21T10:59:47.357Z"
   },
   {
    "duration": 5,
    "start_time": "2022-07-21T10:59:47.376Z"
   },
   {
    "duration": 11,
    "start_time": "2022-07-21T10:59:47.383Z"
   },
   {
    "duration": 32,
    "start_time": "2022-07-21T10:59:47.396Z"
   },
   {
    "duration": 11,
    "start_time": "2022-07-21T10:59:47.430Z"
   },
   {
    "duration": 359,
    "start_time": "2022-07-21T10:59:47.442Z"
   },
   {
    "duration": 168,
    "start_time": "2022-07-21T10:59:47.803Z"
   },
   {
    "duration": 130,
    "start_time": "2022-07-21T10:59:47.974Z"
   },
   {
    "duration": 120,
    "start_time": "2022-07-21T10:59:48.106Z"
   },
   {
    "duration": 125,
    "start_time": "2022-07-21T10:59:48.228Z"
   },
   {
    "duration": 2,
    "start_time": "2022-07-21T10:59:48.355Z"
   },
   {
    "duration": 195,
    "start_time": "2022-07-21T10:59:48.359Z"
   },
   {
    "duration": 180,
    "start_time": "2022-07-21T10:59:48.556Z"
   },
   {
    "duration": 214,
    "start_time": "2022-07-21T10:59:48.738Z"
   },
   {
    "duration": 219,
    "start_time": "2022-07-21T10:59:48.954Z"
   },
   {
    "duration": 192,
    "start_time": "2022-07-21T10:59:49.175Z"
   },
   {
    "duration": 271,
    "start_time": "2022-07-21T10:59:49.369Z"
   },
   {
    "duration": 11,
    "start_time": "2022-07-21T10:59:49.642Z"
   },
   {
    "duration": 15,
    "start_time": "2022-07-21T10:59:49.654Z"
   },
   {
    "duration": 3,
    "start_time": "2022-07-21T10:59:49.671Z"
   },
   {
    "duration": 19,
    "start_time": "2022-07-21T10:59:49.676Z"
   },
   {
    "duration": 29,
    "start_time": "2022-07-21T10:59:49.697Z"
   },
   {
    "duration": 26,
    "start_time": "2022-07-21T10:59:49.731Z"
   },
   {
    "duration": 0,
    "start_time": "2022-07-21T10:59:49.759Z"
   },
   {
    "duration": 0,
    "start_time": "2022-07-21T10:59:49.760Z"
   },
   {
    "duration": 0,
    "start_time": "2022-07-21T10:59:49.762Z"
   },
   {
    "duration": 0,
    "start_time": "2022-07-21T10:59:49.763Z"
   },
   {
    "duration": 0,
    "start_time": "2022-07-21T10:59:49.765Z"
   },
   {
    "duration": 0,
    "start_time": "2022-07-21T10:59:49.766Z"
   },
   {
    "duration": 0,
    "start_time": "2022-07-21T10:59:49.768Z"
   },
   {
    "duration": 0,
    "start_time": "2022-07-21T10:59:49.769Z"
   },
   {
    "duration": 0,
    "start_time": "2022-07-21T10:59:49.770Z"
   },
   {
    "duration": 0,
    "start_time": "2022-07-21T10:59:49.772Z"
   },
   {
    "duration": 0,
    "start_time": "2022-07-21T10:59:49.773Z"
   },
   {
    "duration": 0,
    "start_time": "2022-07-21T10:59:49.774Z"
   },
   {
    "duration": 0,
    "start_time": "2022-07-21T10:59:49.776Z"
   },
   {
    "duration": 0,
    "start_time": "2022-07-21T10:59:49.777Z"
   },
   {
    "duration": 0,
    "start_time": "2022-07-21T10:59:49.778Z"
   },
   {
    "duration": 0,
    "start_time": "2022-07-21T10:59:49.824Z"
   },
   {
    "duration": 287,
    "start_time": "2022-07-21T11:00:45.217Z"
   },
   {
    "duration": 5,
    "start_time": "2022-07-21T11:00:56.471Z"
   },
   {
    "duration": 75,
    "start_time": "2022-07-21T11:01:02.433Z"
   },
   {
    "duration": 17,
    "start_time": "2022-07-21T11:01:03.344Z"
   },
   {
    "duration": 123,
    "start_time": "2022-07-21T11:01:05.981Z"
   },
   {
    "duration": 13,
    "start_time": "2022-07-21T11:01:07.053Z"
   },
   {
    "duration": 3,
    "start_time": "2022-07-21T11:01:09.125Z"
   },
   {
    "duration": 3,
    "start_time": "2022-07-21T11:01:11.501Z"
   },
   {
    "duration": 3,
    "start_time": "2022-07-21T11:01:14.525Z"
   },
   {
    "duration": 2,
    "start_time": "2022-07-21T11:01:43.929Z"
   },
   {
    "duration": 77391,
    "start_time": "2022-07-21T11:01:45.770Z"
   },
   {
    "duration": 2,
    "start_time": "2022-07-21T11:14:18.914Z"
   },
   {
    "duration": 4,
    "start_time": "2022-07-21T11:15:05.725Z"
   },
   {
    "duration": 819999,
    "start_time": "2022-07-21T11:15:28.833Z"
   },
   {
    "duration": 3,
    "start_time": "2022-07-21T11:32:36.960Z"
   },
   {
    "duration": 11,
    "start_time": "2022-07-21T11:34:19.312Z"
   },
   {
    "duration": 11,
    "start_time": "2022-07-21T11:35:10.405Z"
   },
   {
    "duration": 4,
    "start_time": "2022-07-21T11:35:52.357Z"
   },
   {
    "duration": 3354,
    "start_time": "2022-07-21T11:35:56.327Z"
   },
   {
    "duration": 2886,
    "start_time": "2022-07-21T11:36:39.788Z"
   },
   {
    "duration": 2310,
    "start_time": "2022-07-21T11:45:48.438Z"
   },
   {
    "duration": 3294,
    "start_time": "2022-07-21T11:54:09.510Z"
   },
   {
    "duration": 3016,
    "start_time": "2022-07-21T11:57:36.681Z"
   },
   {
    "duration": 3,
    "start_time": "2022-07-21T11:58:53.104Z"
   },
   {
    "duration": 35456,
    "start_time": "2022-07-21T11:59:38.529Z"
   },
   {
    "duration": 3,
    "start_time": "2022-07-21T12:01:20.555Z"
   },
   {
    "duration": 98261,
    "start_time": "2022-07-21T12:01:31.869Z"
   },
   {
    "duration": 61,
    "start_time": "2022-07-21T12:06:14.221Z"
   },
   {
    "duration": 2,
    "start_time": "2022-07-21T12:06:20.519Z"
   },
   {
    "duration": 3115,
    "start_time": "2022-07-21T12:10:34.979Z"
   },
   {
    "duration": 4106,
    "start_time": "2022-07-21T12:13:22.090Z"
   },
   {
    "duration": 42672,
    "start_time": "2022-07-21T12:16:01.834Z"
   }
  ],
  "kernelspec": {
   "display_name": "Python 3 (ipykernel)",
   "language": "python",
   "name": "python3"
  },
  "language_info": {
   "codemirror_mode": {
    "name": "ipython",
    "version": 3
   },
   "file_extension": ".py",
   "mimetype": "text/x-python",
   "name": "python",
   "nbconvert_exporter": "python",
   "pygments_lexer": "ipython3",
   "version": "3.9.5"
  },
  "toc": {
   "base_numbering": 1,
   "nav_menu": {},
   "number_sections": true,
   "sideBar": true,
   "skip_h1_title": true,
   "title_cell": "Table of Contents",
   "title_sidebar": "Contents",
   "toc_cell": false,
   "toc_position": {
    "height": "calc(100% - 180px)",
    "left": "10px",
    "top": "150px",
    "width": "299.891px"
   },
   "toc_section_display": true,
   "toc_window_display": true
  }
 },
 "nbformat": 4,
 "nbformat_minor": 2
}
