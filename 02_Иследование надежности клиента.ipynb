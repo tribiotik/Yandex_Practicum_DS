{
 "cells": [
  {
   "cell_type": "markdown",
   "metadata": {},
   "source": [
    "<font color='blue' size=5><b>Комментарий ревьюера</b></font>\n",
    "\n",
    "<font color='blue'>Привет! Меня зовут Тимофей Вилков, и я буду проверять твой проект. Спасибо за проделанную работу! Предлагаю общаться на «ты».</font>\n",
    "\n",
    "<font color='blue'>Я буду использовать различные цвета, чтобы было удобнее воспринимать мои комментарии:</font>\n",
    "\n",
    "\n",
    "\n",
    "<div class=\"alert alert-block alert-success\">\n",
    "✔️ <b>Зеленый текст</b> - все отлично\n",
    "</div>\n",
    "\n",
    "<div class=\"alert alert-block alert-warning\">\n",
    "⚠️ <b>Желтый текст</b> - сделано все правильно, однако есть рекомендации, на что стоит обратить внимание\n",
    "</div>\n",
    "\n",
    "<div class=\"alert alert-block alert-danger\">\n",
    "❌ <b>Красный текст</b> - красный текст - есть недочеты\n",
    "</div>\n",
    "\n",
    "---\n",
    "\n",
    "<font color='blue'>Пожалуйста, не удаляй мои комментарии в случае возврата работы, так будет проще разобраться, какие были недочеты, а также сразу увидеть исправленное. </font>\n",
    "\n",
    "Ответы на мои комментарии лучше тоже помечать.\n",
    "Например:\n",
    "\n",
    "<div class=\"alert alert-block alert-info\">\n",
    "<b>Комментарий студента:</b> \n",
    "Текст комментария, вопроса, объяснения\n",
    "</div>\n",
    "\n",
    "<font color='blue'><b>Давай смотреть, что получилось!</b></font>"
   ]
  },
  {
   "cell_type": "markdown",
   "metadata": {},
   "source": [
    "<div class=\"alert alert-block alert-success\">\n",
    "✔️ Привет ещё раз! Новые комментарии я отметил так: Ревью №2\n",
    "</div>"
   ]
  },
  {
   "cell_type": "markdown",
   "metadata": {},
   "source": [
    "# Исследование надёжности заёмщиков\n",
    "\n",
    "Заказчик — кредитный отдел банка. Нужно разобраться, влияет ли семейное положение и количество детей клиента на факт погашения кредита в срок. Входные данные от банка — статистика о платёжеспособности клиентов.\n",
    "\n",
    "Результаты исследования будут учтены при построении модели **кредитного скоринга** — специальной системы, которая оценивает способность потенциального заёмщика вернуть кредит банку."
   ]
  },
  {
   "cell_type": "markdown",
   "metadata": {},
   "source": [
    "## Шаг 1. Откройте файл с данными и изучите общую информацию"
   ]
  },
  {
   "cell_type": "code",
   "execution_count": 37,
   "metadata": {},
   "outputs": [
    {
     "name": "stdout",
     "output_type": "stream",
     "text": [
      "<class 'pandas.core.frame.DataFrame'>\n",
      "RangeIndex: 21525 entries, 0 to 21524\n",
      "Data columns (total 12 columns):\n",
      "children            21525 non-null int64\n",
      "days_employed       19351 non-null float64\n",
      "dob_years           21525 non-null int64\n",
      "education           21525 non-null object\n",
      "education_id        21525 non-null int64\n",
      "family_status       21525 non-null object\n",
      "family_status_id    21525 non-null int64\n",
      "gender              21525 non-null object\n",
      "income_type         21525 non-null object\n",
      "debt                21525 non-null int64\n",
      "total_income        19351 non-null float64\n",
      "purpose             21525 non-null object\n",
      "dtypes: float64(2), int64(5), object(5)\n",
      "memory usage: 2.0+ MB\n"
     ]
    },
    {
     "data": {
      "text/html": [
       "<div>\n",
       "<style scoped>\n",
       "    .dataframe tbody tr th:only-of-type {\n",
       "        vertical-align: middle;\n",
       "    }\n",
       "\n",
       "    .dataframe tbody tr th {\n",
       "        vertical-align: top;\n",
       "    }\n",
       "\n",
       "    .dataframe thead th {\n",
       "        text-align: right;\n",
       "    }\n",
       "</style>\n",
       "<table border=\"1\" class=\"dataframe\">\n",
       "  <thead>\n",
       "    <tr style=\"text-align: right;\">\n",
       "      <th></th>\n",
       "      <th>children</th>\n",
       "      <th>days_employed</th>\n",
       "      <th>dob_years</th>\n",
       "      <th>education</th>\n",
       "      <th>education_id</th>\n",
       "      <th>family_status</th>\n",
       "      <th>family_status_id</th>\n",
       "      <th>gender</th>\n",
       "      <th>income_type</th>\n",
       "      <th>debt</th>\n",
       "      <th>total_income</th>\n",
       "      <th>purpose</th>\n",
       "    </tr>\n",
       "  </thead>\n",
       "  <tbody>\n",
       "    <tr>\n",
       "      <td>0</td>\n",
       "      <td>1</td>\n",
       "      <td>-8437.673028</td>\n",
       "      <td>42</td>\n",
       "      <td>высшее</td>\n",
       "      <td>0</td>\n",
       "      <td>женат / замужем</td>\n",
       "      <td>0</td>\n",
       "      <td>F</td>\n",
       "      <td>сотрудник</td>\n",
       "      <td>0</td>\n",
       "      <td>253875.639453</td>\n",
       "      <td>покупка жилья</td>\n",
       "    </tr>\n",
       "    <tr>\n",
       "      <td>1</td>\n",
       "      <td>1</td>\n",
       "      <td>-4024.803754</td>\n",
       "      <td>36</td>\n",
       "      <td>среднее</td>\n",
       "      <td>1</td>\n",
       "      <td>женат / замужем</td>\n",
       "      <td>0</td>\n",
       "      <td>F</td>\n",
       "      <td>сотрудник</td>\n",
       "      <td>0</td>\n",
       "      <td>112080.014102</td>\n",
       "      <td>приобретение автомобиля</td>\n",
       "    </tr>\n",
       "    <tr>\n",
       "      <td>2</td>\n",
       "      <td>0</td>\n",
       "      <td>-5623.422610</td>\n",
       "      <td>33</td>\n",
       "      <td>Среднее</td>\n",
       "      <td>1</td>\n",
       "      <td>женат / замужем</td>\n",
       "      <td>0</td>\n",
       "      <td>M</td>\n",
       "      <td>сотрудник</td>\n",
       "      <td>0</td>\n",
       "      <td>145885.952297</td>\n",
       "      <td>покупка жилья</td>\n",
       "    </tr>\n",
       "    <tr>\n",
       "      <td>3</td>\n",
       "      <td>3</td>\n",
       "      <td>-4124.747207</td>\n",
       "      <td>32</td>\n",
       "      <td>среднее</td>\n",
       "      <td>1</td>\n",
       "      <td>женат / замужем</td>\n",
       "      <td>0</td>\n",
       "      <td>M</td>\n",
       "      <td>сотрудник</td>\n",
       "      <td>0</td>\n",
       "      <td>267628.550329</td>\n",
       "      <td>дополнительное образование</td>\n",
       "    </tr>\n",
       "    <tr>\n",
       "      <td>4</td>\n",
       "      <td>0</td>\n",
       "      <td>340266.072047</td>\n",
       "      <td>53</td>\n",
       "      <td>среднее</td>\n",
       "      <td>1</td>\n",
       "      <td>гражданский брак</td>\n",
       "      <td>1</td>\n",
       "      <td>F</td>\n",
       "      <td>пенсионер</td>\n",
       "      <td>0</td>\n",
       "      <td>158616.077870</td>\n",
       "      <td>сыграть свадьбу</td>\n",
       "    </tr>\n",
       "    <tr>\n",
       "      <td>5</td>\n",
       "      <td>0</td>\n",
       "      <td>-926.185831</td>\n",
       "      <td>27</td>\n",
       "      <td>высшее</td>\n",
       "      <td>0</td>\n",
       "      <td>гражданский брак</td>\n",
       "      <td>1</td>\n",
       "      <td>M</td>\n",
       "      <td>компаньон</td>\n",
       "      <td>0</td>\n",
       "      <td>255763.565419</td>\n",
       "      <td>покупка жилья</td>\n",
       "    </tr>\n",
       "    <tr>\n",
       "      <td>6</td>\n",
       "      <td>0</td>\n",
       "      <td>-2879.202052</td>\n",
       "      <td>43</td>\n",
       "      <td>высшее</td>\n",
       "      <td>0</td>\n",
       "      <td>женат / замужем</td>\n",
       "      <td>0</td>\n",
       "      <td>F</td>\n",
       "      <td>компаньон</td>\n",
       "      <td>0</td>\n",
       "      <td>240525.971920</td>\n",
       "      <td>операции с жильем</td>\n",
       "    </tr>\n",
       "    <tr>\n",
       "      <td>7</td>\n",
       "      <td>0</td>\n",
       "      <td>-152.779569</td>\n",
       "      <td>50</td>\n",
       "      <td>СРЕДНЕЕ</td>\n",
       "      <td>1</td>\n",
       "      <td>женат / замужем</td>\n",
       "      <td>0</td>\n",
       "      <td>M</td>\n",
       "      <td>сотрудник</td>\n",
       "      <td>0</td>\n",
       "      <td>135823.934197</td>\n",
       "      <td>образование</td>\n",
       "    </tr>\n",
       "    <tr>\n",
       "      <td>8</td>\n",
       "      <td>2</td>\n",
       "      <td>-6929.865299</td>\n",
       "      <td>35</td>\n",
       "      <td>ВЫСШЕЕ</td>\n",
       "      <td>0</td>\n",
       "      <td>гражданский брак</td>\n",
       "      <td>1</td>\n",
       "      <td>F</td>\n",
       "      <td>сотрудник</td>\n",
       "      <td>0</td>\n",
       "      <td>95856.832424</td>\n",
       "      <td>на проведение свадьбы</td>\n",
       "    </tr>\n",
       "    <tr>\n",
       "      <td>9</td>\n",
       "      <td>0</td>\n",
       "      <td>-2188.756445</td>\n",
       "      <td>41</td>\n",
       "      <td>среднее</td>\n",
       "      <td>1</td>\n",
       "      <td>женат / замужем</td>\n",
       "      <td>0</td>\n",
       "      <td>M</td>\n",
       "      <td>сотрудник</td>\n",
       "      <td>0</td>\n",
       "      <td>144425.938277</td>\n",
       "      <td>покупка жилья для семьи</td>\n",
       "    </tr>\n",
       "    <tr>\n",
       "      <td>10</td>\n",
       "      <td>2</td>\n",
       "      <td>-4171.483647</td>\n",
       "      <td>36</td>\n",
       "      <td>высшее</td>\n",
       "      <td>0</td>\n",
       "      <td>женат / замужем</td>\n",
       "      <td>0</td>\n",
       "      <td>M</td>\n",
       "      <td>компаньон</td>\n",
       "      <td>0</td>\n",
       "      <td>113943.491460</td>\n",
       "      <td>покупка недвижимости</td>\n",
       "    </tr>\n",
       "    <tr>\n",
       "      <td>11</td>\n",
       "      <td>0</td>\n",
       "      <td>-792.701887</td>\n",
       "      <td>40</td>\n",
       "      <td>среднее</td>\n",
       "      <td>1</td>\n",
       "      <td>женат / замужем</td>\n",
       "      <td>0</td>\n",
       "      <td>F</td>\n",
       "      <td>сотрудник</td>\n",
       "      <td>0</td>\n",
       "      <td>77069.234271</td>\n",
       "      <td>покупка коммерческой недвижимости</td>\n",
       "    </tr>\n",
       "    <tr>\n",
       "      <td>12</td>\n",
       "      <td>0</td>\n",
       "      <td>NaN</td>\n",
       "      <td>65</td>\n",
       "      <td>среднее</td>\n",
       "      <td>1</td>\n",
       "      <td>гражданский брак</td>\n",
       "      <td>1</td>\n",
       "      <td>M</td>\n",
       "      <td>пенсионер</td>\n",
       "      <td>0</td>\n",
       "      <td>NaN</td>\n",
       "      <td>сыграть свадьбу</td>\n",
       "    </tr>\n",
       "    <tr>\n",
       "      <td>13</td>\n",
       "      <td>0</td>\n",
       "      <td>-1846.641941</td>\n",
       "      <td>54</td>\n",
       "      <td>неоконченное высшее</td>\n",
       "      <td>2</td>\n",
       "      <td>женат / замужем</td>\n",
       "      <td>0</td>\n",
       "      <td>F</td>\n",
       "      <td>сотрудник</td>\n",
       "      <td>0</td>\n",
       "      <td>130458.228857</td>\n",
       "      <td>приобретение автомобиля</td>\n",
       "    </tr>\n",
       "    <tr>\n",
       "      <td>14</td>\n",
       "      <td>0</td>\n",
       "      <td>-1844.956182</td>\n",
       "      <td>56</td>\n",
       "      <td>высшее</td>\n",
       "      <td>0</td>\n",
       "      <td>гражданский брак</td>\n",
       "      <td>1</td>\n",
       "      <td>F</td>\n",
       "      <td>компаньон</td>\n",
       "      <td>1</td>\n",
       "      <td>165127.911772</td>\n",
       "      <td>покупка жилой недвижимости</td>\n",
       "    </tr>\n",
       "    <tr>\n",
       "      <td>15</td>\n",
       "      <td>1</td>\n",
       "      <td>-972.364419</td>\n",
       "      <td>26</td>\n",
       "      <td>среднее</td>\n",
       "      <td>1</td>\n",
       "      <td>женат / замужем</td>\n",
       "      <td>0</td>\n",
       "      <td>F</td>\n",
       "      <td>сотрудник</td>\n",
       "      <td>0</td>\n",
       "      <td>116820.904450</td>\n",
       "      <td>строительство собственной недвижимости</td>\n",
       "    </tr>\n",
       "    <tr>\n",
       "      <td>16</td>\n",
       "      <td>0</td>\n",
       "      <td>-1719.934226</td>\n",
       "      <td>35</td>\n",
       "      <td>среднее</td>\n",
       "      <td>1</td>\n",
       "      <td>женат / замужем</td>\n",
       "      <td>0</td>\n",
       "      <td>F</td>\n",
       "      <td>сотрудник</td>\n",
       "      <td>0</td>\n",
       "      <td>289202.704229</td>\n",
       "      <td>недвижимость</td>\n",
       "    </tr>\n",
       "    <tr>\n",
       "      <td>17</td>\n",
       "      <td>0</td>\n",
       "      <td>-2369.999720</td>\n",
       "      <td>33</td>\n",
       "      <td>высшее</td>\n",
       "      <td>0</td>\n",
       "      <td>гражданский брак</td>\n",
       "      <td>1</td>\n",
       "      <td>M</td>\n",
       "      <td>сотрудник</td>\n",
       "      <td>0</td>\n",
       "      <td>90410.586745</td>\n",
       "      <td>строительство недвижимости</td>\n",
       "    </tr>\n",
       "    <tr>\n",
       "      <td>18</td>\n",
       "      <td>0</td>\n",
       "      <td>400281.136913</td>\n",
       "      <td>53</td>\n",
       "      <td>среднее</td>\n",
       "      <td>1</td>\n",
       "      <td>вдовец / вдова</td>\n",
       "      <td>2</td>\n",
       "      <td>F</td>\n",
       "      <td>пенсионер</td>\n",
       "      <td>0</td>\n",
       "      <td>56823.777243</td>\n",
       "      <td>на покупку подержанного автомобиля</td>\n",
       "    </tr>\n",
       "    <tr>\n",
       "      <td>19</td>\n",
       "      <td>0</td>\n",
       "      <td>-10038.818549</td>\n",
       "      <td>48</td>\n",
       "      <td>СРЕДНЕЕ</td>\n",
       "      <td>1</td>\n",
       "      <td>в разводе</td>\n",
       "      <td>3</td>\n",
       "      <td>F</td>\n",
       "      <td>сотрудник</td>\n",
       "      <td>0</td>\n",
       "      <td>242831.107982</td>\n",
       "      <td>на покупку своего автомобиля</td>\n",
       "    </tr>\n",
       "  </tbody>\n",
       "</table>\n",
       "</div>"
      ],
      "text/plain": [
       "    children  days_employed  dob_years            education  education_id  \\\n",
       "0          1   -8437.673028         42               высшее             0   \n",
       "1          1   -4024.803754         36              среднее             1   \n",
       "2          0   -5623.422610         33              Среднее             1   \n",
       "3          3   -4124.747207         32              среднее             1   \n",
       "4          0  340266.072047         53              среднее             1   \n",
       "5          0    -926.185831         27               высшее             0   \n",
       "6          0   -2879.202052         43               высшее             0   \n",
       "7          0    -152.779569         50              СРЕДНЕЕ             1   \n",
       "8          2   -6929.865299         35               ВЫСШЕЕ             0   \n",
       "9          0   -2188.756445         41              среднее             1   \n",
       "10         2   -4171.483647         36               высшее             0   \n",
       "11         0    -792.701887         40              среднее             1   \n",
       "12         0            NaN         65              среднее             1   \n",
       "13         0   -1846.641941         54  неоконченное высшее             2   \n",
       "14         0   -1844.956182         56               высшее             0   \n",
       "15         1    -972.364419         26              среднее             1   \n",
       "16         0   -1719.934226         35              среднее             1   \n",
       "17         0   -2369.999720         33               высшее             0   \n",
       "18         0  400281.136913         53              среднее             1   \n",
       "19         0  -10038.818549         48              СРЕДНЕЕ             1   \n",
       "\n",
       "       family_status  family_status_id gender income_type  debt  \\\n",
       "0    женат / замужем                 0      F   сотрудник     0   \n",
       "1    женат / замужем                 0      F   сотрудник     0   \n",
       "2    женат / замужем                 0      M   сотрудник     0   \n",
       "3    женат / замужем                 0      M   сотрудник     0   \n",
       "4   гражданский брак                 1      F   пенсионер     0   \n",
       "5   гражданский брак                 1      M   компаньон     0   \n",
       "6    женат / замужем                 0      F   компаньон     0   \n",
       "7    женат / замужем                 0      M   сотрудник     0   \n",
       "8   гражданский брак                 1      F   сотрудник     0   \n",
       "9    женат / замужем                 0      M   сотрудник     0   \n",
       "10   женат / замужем                 0      M   компаньон     0   \n",
       "11   женат / замужем                 0      F   сотрудник     0   \n",
       "12  гражданский брак                 1      M   пенсионер     0   \n",
       "13   женат / замужем                 0      F   сотрудник     0   \n",
       "14  гражданский брак                 1      F   компаньон     1   \n",
       "15   женат / замужем                 0      F   сотрудник     0   \n",
       "16   женат / замужем                 0      F   сотрудник     0   \n",
       "17  гражданский брак                 1      M   сотрудник     0   \n",
       "18    вдовец / вдова                 2      F   пенсионер     0   \n",
       "19         в разводе                 3      F   сотрудник     0   \n",
       "\n",
       "     total_income                                 purpose  \n",
       "0   253875.639453                           покупка жилья  \n",
       "1   112080.014102                 приобретение автомобиля  \n",
       "2   145885.952297                           покупка жилья  \n",
       "3   267628.550329              дополнительное образование  \n",
       "4   158616.077870                         сыграть свадьбу  \n",
       "5   255763.565419                           покупка жилья  \n",
       "6   240525.971920                       операции с жильем  \n",
       "7   135823.934197                             образование  \n",
       "8    95856.832424                   на проведение свадьбы  \n",
       "9   144425.938277                 покупка жилья для семьи  \n",
       "10  113943.491460                    покупка недвижимости  \n",
       "11   77069.234271       покупка коммерческой недвижимости  \n",
       "12            NaN                         сыграть свадьбу  \n",
       "13  130458.228857                 приобретение автомобиля  \n",
       "14  165127.911772              покупка жилой недвижимости  \n",
       "15  116820.904450  строительство собственной недвижимости  \n",
       "16  289202.704229                            недвижимость  \n",
       "17   90410.586745              строительство недвижимости  \n",
       "18   56823.777243      на покупку подержанного автомобиля  \n",
       "19  242831.107982            на покупку своего автомобиля  "
      ]
     },
     "execution_count": 37,
     "metadata": {},
     "output_type": "execute_result"
    }
   ],
   "source": [
    "import pandas as pd\n",
    "from collections import Counter\n",
    "\n",
    "df = pd.read_csv('/datasets/data.csv')\n",
    "# смотрю общую информацию по датасету\n",
    "df.info()\n",
    "# анализирую таблицу\n",
    "df.head(20)"
   ]
  },
  {
   "cell_type": "markdown",
   "metadata": {},
   "source": [
    "**Вывод**"
   ]
  },
  {
   "cell_type": "markdown",
   "metadata": {},
   "source": [
    "Таблица содержит 12 столбцов и 21525 строк. В таблице присутствуют  3 типа данных.\n",
    "В столбцах days_employed(трудовой стаж) и total_income(ежемесячный доход) по 2174 пропуска. Пропуски находятся в одних строках. Так же тип данных в этих столбцах вещественные числа.\n",
    "С данными в столбце с трудовым стажем какая то беда произошла. Имеются отрицательные значения и очень большие значения стажа у пенстонеров.\n",
    "В столбце education записи не в змеином регистре. нужно исправить"
   ]
  },
  {
   "cell_type": "markdown",
   "metadata": {},
   "source": [
    "<div class=\"alert alert-block alert-success\">\n",
    "✔️ Отличная работа с первичным выводом! Все главные \"недостатки\" в данных обнаружены\n",
    " </div>"
   ]
  },
  {
   "cell_type": "markdown",
   "metadata": {},
   "source": [
    "<div class=\"alert alert-block alert-success\">\n",
    "✔️ Здорово, что обнаружил аномальные значения\n",
    "</div>"
   ]
  },
  {
   "cell_type": "markdown",
   "metadata": {},
   "source": [
    "## Шаг 2. Предобработка данных\n"
   ]
  },
  {
   "cell_type": "markdown",
   "metadata": {},
   "source": [
    "### Обработка пропусков"
   ]
  },
  {
   "cell_type": "code",
   "execution_count": 38,
   "metadata": {
    "scrolled": true
   },
   "outputs": [
    {
     "data": {
      "text/plain": [
       "children            0\n",
       "days_employed       0\n",
       "dob_years           0\n",
       "education           0\n",
       "education_id        0\n",
       "family_status       0\n",
       "family_status_id    0\n",
       "gender              0\n",
       "income_type         0\n",
       "debt                0\n",
       "total_income        0\n",
       "purpose             0\n",
       "dtype: int64"
      ]
     },
     "execution_count": 38,
     "metadata": {},
     "output_type": "execute_result"
    }
   ],
   "source": [
    "#нахожу медиану дохода и стажа соотв.\n",
    "total_income_m = df['total_income'].median()\n",
    "days_employed_m = df['days_employed'].median()\n",
    "\n",
    "# заменяю пропуски медианным значением\n",
    "df['days_employed'] = df['days_employed'].fillna(days_employed_m)\n",
    "df['total_income'] = df['total_income'].fillna(total_income_m)\n",
    "\n",
    "#проверяю что все работает\n",
    "df.isna().sum()\n"
   ]
  },
  {
   "cell_type": "markdown",
   "metadata": {},
   "source": [
    "<div class=\"alert alert-block alert-success\">\n",
    "✔️ Молоде, что заполняешь пропуски медианой. Но если это делать групппируя по типу занятости, сможем заполнить пропуски точнее. Покажу как можно сделать тоже самое в одну строчку:\n",
    "<code>df['total_income'].fillna(df.groupby('income_type')['total_income'].transform('median'))</code>\n",
    "</div>"
   ]
  },
  {
   "cell_type": "markdown",
   "metadata": {},
   "source": [
    "**Вывод**"
   ]
  },
  {
   "cell_type": "markdown",
   "metadata": {},
   "source": [
    "Пропуски решил заменить медианным значением т.к. эти столбцы не участвуют в иследовании и по хорошему их можно было удалить."
   ]
  },
  {
   "cell_type": "markdown",
   "metadata": {},
   "source": [
    "### Замена типа данных"
   ]
  },
  {
   "cell_type": "code",
   "execution_count": 39,
   "metadata": {},
   "outputs": [],
   "source": [
    "# замена вещественного типа данных на цельночисленный\n",
    "df['days_employed'] = df['days_employed'].astype('int')\n",
    "df['total_income'] = df['total_income'].astype('int')\n",
    "\n",
    "# привожу столбец education к нижнему регистру\n",
    "df['education']= df['education'].str.lower()"
   ]
  },
  {
   "cell_type": "markdown",
   "metadata": {},
   "source": [
    "**Вывод**"
   ]
  },
  {
   "cell_type": "markdown",
   "metadata": {},
   "source": [
    "Применил метод astype т.к. to_numeric  не подходит, а другого не знаю"
   ]
  },
  {
   "cell_type": "markdown",
   "metadata": {},
   "source": [
    "<div class=\"alert alert-block alert-success\">\n",
    "✔️ С типами порядок!\n",
    "</div>"
   ]
  },
  {
   "cell_type": "markdown",
   "metadata": {},
   "source": [
    "### Обработка дубликатов"
   ]
  },
  {
   "cell_type": "code",
   "execution_count": 40,
   "metadata": {},
   "outputs": [
    {
     "name": "stdout",
     "output_type": "stream",
     "text": [
      "дубликатов в таблице 71\n",
      "145017    2175\n",
      "126262       3\n",
      "160905       3\n",
      "150684       3\n",
      "154199       3\n",
      "          ... \n",
      "109583       1\n",
      "101387       1\n",
      "138249       1\n",
      "280240       1\n",
      "264193       1\n",
      "Name: total_income, Length: 18606, dtype: int64\n"
     ]
    },
    {
     "data": {
      "text/plain": [
       "2919"
      ]
     },
     "execution_count": 40,
     "metadata": {},
     "output_type": "execute_result"
    }
   ],
   "source": [
    "\n",
    "\n",
    "# проблемы со столбцом образование нашел на глаз и перевел в нормальный вид ранее, но на всякий случай посмотрим еще раз\n",
    "Counter(df['education'])\n",
    "\n",
    "# проверяю столбец семейное положение\n",
    "Counter(df['family_status'])\n",
    "# буду перфикционистом \"Не женат\" исправлю на \"не женат\"\n",
    "df['family_status']= df['family_status'].str.lower()\n",
    "\n",
    "# проверяю столбец тип занятости\n",
    "Counter(df['income_type'])\n",
    "\n",
    "#проверяю столбец цель кредита\n",
    "Counter(df['purpose'])\n",
    "\n",
    "#смотрю количество детей\n",
    "df['children'].value_counts()\n",
    "\n",
    "\n",
    "# минус исправлю на плюс, вместо 20 подставлю медианное значение \n",
    "df['children'] = df['children'].replace(-1, 1)\n",
    "children_median = df.loc[df.loc[:, 'children'] != 20]['children'].median()\n",
    "df['children'] = df['children'].replace(20, children_median)\n",
    "\n",
    "# проверяю что столбец кол-во детей без ошибок\n",
    "pd.DataFrame({'Кол-во заёмщиков по кол-ву детей':df['children'].value_counts()})\n",
    "\n",
    "print('дубликатов в таблице', df.duplicated().sum())\n",
    "print(df['total_income'].value_counts())\n",
    "df.duplicated(subset = 'total_income').sum()\n"
   ]
  },
  {
   "cell_type": "markdown",
   "metadata": {},
   "source": [
    "<div class=\"alert alert-block alert-danger\">\n",
    "❌ Проверь, пожалуйста, наличие полных дубликатов\n",
    "</div>"
   ]
  },
  {
   "cell_type": "markdown",
   "metadata": {},
   "source": [
    "Произвел проверку дубликатов. В таблице их много. Например столбец цель кредита полон дубликатов и это логично ведь целей не так много, а желающих взять кредит достаточно. "
   ]
  },
  {
   "cell_type": "markdown",
   "metadata": {},
   "source": [
    "<div class=\"alert alert-block alert-success\">\n",
    "✔️ Ревью №2: Отлично!\n",
    "</div>"
   ]
  },
  {
   "cell_type": "markdown",
   "metadata": {},
   "source": [
    "<div class=\"alert alert-block alert-warning\">\n",
    "⚠️ Импорты стоит собирать в одну ячейку в начале проекта\n",
    "</div>"
   ]
  },
  {
   "cell_type": "markdown",
   "metadata": {},
   "source": [
    "Импорты перенес в первую ячейку"
   ]
  },
  {
   "cell_type": "markdown",
   "metadata": {},
   "source": [
    "<div class=\"alert alert-block alert-warning\">\n",
    "⚠️ Все выводы не поясняющие работу кода стоит писать markdown\n",
    "</div>"
   ]
  },
  {
   "cell_type": "markdown",
   "metadata": {},
   "source": [
    "Выводы убрал из кода"
   ]
  },
  {
   "cell_type": "markdown",
   "metadata": {},
   "source": [
    "**Вывод**"
   ]
  },
  {
   "cell_type": "markdown",
   "metadata": {},
   "source": [
    "В дата фрейме были обнаружены ошибки. Ошибки с регистром исправлены. Так же исправлены ошибки с количеством детей. Наверное по хорошему нужно исправить столбец со стажем, но я не понимаю как.#здесь есть ошибки. есть значение -1  детей не может быть меньше 0.  также имеем значение 20 тут либо лишний ноль либо лишняя 2, т.к. наличие у 76 человек по 20 детей маловероятно."
   ]
  },
  {
   "cell_type": "markdown",
   "metadata": {},
   "source": [
    "### Лемматизация"
   ]
  },
  {
   "cell_type": "code",
   "execution_count": 41,
   "metadata": {},
   "outputs": [
    {
     "name": "stdout",
     "output_type": "stream",
     "text": [
      "<class 'pandas.core.frame.DataFrame'>\n",
      "RangeIndex: 21525 entries, 0 to 21524\n",
      "Data columns (total 13 columns):\n",
      "children            21525 non-null int64\n",
      "days_employed       21525 non-null int64\n",
      "dob_years           21525 non-null int64\n",
      "education           21525 non-null object\n",
      "education_id        21525 non-null int64\n",
      "family_status       21525 non-null object\n",
      "family_status_id    21525 non-null int64\n",
      "gender              21525 non-null object\n",
      "income_type         21525 non-null object\n",
      "debt                21525 non-null int64\n",
      "total_income        21525 non-null int64\n",
      "purpose             21525 non-null object\n",
      "purpose_category    21525 non-null object\n",
      "dtypes: int64(7), object(6)\n",
      "memory usage: 2.1+ MB\n"
     ]
    }
   ],
   "source": [
    "'''from pymystem3 import Mystem\n",
    "m = Mystem()\n",
    "for i in range(df.shape[0]):\n",
    "    lemmas = m.lemmatize(df['purpose'][i])\n",
    "    df.loc[i, 'purpose_lemmas'] = ','.join(lemmas) \n",
    "Counter(df['purpose_lemmas'])'''\n",
    "\n",
    "estate = ['недвижим', 'жиль']\n",
    "wedding = ['свадьб']\n",
    "auto = ['автомоб']\n",
    "education = ['образова']\n",
    "\n",
    "df['purpose_category'] = 0\n",
    "def categoryzer(list_of_words, category):\n",
    "  join = '|'.join(list_of_words)\n",
    "  index = df[df['purpose'].str.lower().str.contains(join)].index.to_list()\n",
    "  for i in index:\n",
    "    df.loc[i, 'purpose_category'] = category\n",
    "  return df\n",
    "\n",
    "\n",
    "categoryzer(wedding, 'свадьба')\n",
    "categoryzer(estate, 'недвижимость')\n",
    "categoryzer(auto, 'авто')\n",
    "categoryzer(education, 'образование')\n",
    "\n",
    "#проверка результата\n",
    "Counter(df['purpose_category'])\n",
    "df.info()"
   ]
  },
  {
   "cell_type": "markdown",
   "metadata": {},
   "source": [
    "**Вывод**"
   ]
  },
  {
   "cell_type": "markdown",
   "metadata": {},
   "source": [
    "Видно что одинаковые цели кредита названы по разному. Выделю 4 категории( образование, недвижимость, свадьба, авто) и добаляю столбец категория цели кредита."
   ]
  },
  {
   "cell_type": "markdown",
   "metadata": {},
   "source": [
    "<div class=\"alert alert-block alert-success\">\n",
    "✔️ Лемматизация проведена успешно. \n",
    "</div>"
   ]
  },
  {
   "cell_type": "markdown",
   "metadata": {},
   "source": [
    "### Категоризация данных"
   ]
  },
  {
   "cell_type": "code",
   "execution_count": null,
   "metadata": {},
   "outputs": [],
   "source": []
  },
  {
   "cell_type": "markdown",
   "metadata": {},
   "source": [
    "**Вывод**"
   ]
  },
  {
   "cell_type": "markdown",
   "metadata": {},
   "source": []
  },
  {
   "cell_type": "markdown",
   "metadata": {},
   "source": [
    "## Шаг 3. Ответьте на вопросы"
   ]
  },
  {
   "cell_type": "markdown",
   "metadata": {},
   "source": [
    "- Есть ли зависимость между наличием детей и возвратом кредита в срок?"
   ]
  },
  {
   "cell_type": "code",
   "execution_count": 42,
   "metadata": {},
   "outputs": [
    {
     "data": {
      "text/html": [
       "<div>\n",
       "<style scoped>\n",
       "    .dataframe tbody tr th:only-of-type {\n",
       "        vertical-align: middle;\n",
       "    }\n",
       "\n",
       "    .dataframe tbody tr th {\n",
       "        vertical-align: top;\n",
       "    }\n",
       "\n",
       "    .dataframe thead th {\n",
       "        text-align: right;\n",
       "    }\n",
       "</style>\n",
       "<table border=\"1\" class=\"dataframe\">\n",
       "  <thead>\n",
       "    <tr style=\"text-align: right;\">\n",
       "      <th></th>\n",
       "      <th>count_children</th>\n",
       "      <th>sum_children</th>\n",
       "      <th>result_children</th>\n",
       "    </tr>\n",
       "    <tr>\n",
       "      <th>children</th>\n",
       "      <th></th>\n",
       "      <th></th>\n",
       "      <th></th>\n",
       "    </tr>\n",
       "  </thead>\n",
       "  <tbody>\n",
       "    <tr>\n",
       "      <td>0</td>\n",
       "      <td>14225</td>\n",
       "      <td>1071</td>\n",
       "      <td>0.075290</td>\n",
       "    </tr>\n",
       "    <tr>\n",
       "      <td>1</td>\n",
       "      <td>4865</td>\n",
       "      <td>445</td>\n",
       "      <td>0.091470</td>\n",
       "    </tr>\n",
       "    <tr>\n",
       "      <td>2</td>\n",
       "      <td>2055</td>\n",
       "      <td>194</td>\n",
       "      <td>0.094404</td>\n",
       "    </tr>\n",
       "    <tr>\n",
       "      <td>3</td>\n",
       "      <td>330</td>\n",
       "      <td>27</td>\n",
       "      <td>0.081818</td>\n",
       "    </tr>\n",
       "    <tr>\n",
       "      <td>4</td>\n",
       "      <td>41</td>\n",
       "      <td>4</td>\n",
       "      <td>0.097561</td>\n",
       "    </tr>\n",
       "    <tr>\n",
       "      <td>5</td>\n",
       "      <td>9</td>\n",
       "      <td>0</td>\n",
       "      <td>0.000000</td>\n",
       "    </tr>\n",
       "  </tbody>\n",
       "</table>\n",
       "</div>"
      ],
      "text/plain": [
       "          count_children  sum_children  result_children\n",
       "children                                               \n",
       "0                  14225          1071         0.075290\n",
       "1                   4865           445         0.091470\n",
       "2                   2055           194         0.094404\n",
       "3                    330            27         0.081818\n",
       "4                     41             4         0.097561\n",
       "5                      9             0         0.000000"
      ]
     },
     "execution_count": 42,
     "metadata": {},
     "output_type": "execute_result"
    }
   ],
   "source": [
    "debt_from_children = pd.DataFrame()\n",
    "debt_from_children['count_children'] = df.groupby('children')['debt'].count()\n",
    "debt_from_children['sum_children'] = df.groupby('children')['debt'].sum()\n",
    "debt_from_children['result_children'] = debt_from_children['sum_children'] / debt_from_children['count_children'] \n",
    "debt_from_children.sort_values('result_children', ascending = False)\n",
    "debt_from_children"
   ]
  },
  {
   "cell_type": "markdown",
   "metadata": {},
   "source": [
    "**Вывод**"
   ]
  },
  {
   "cell_type": "markdown",
   "metadata": {},
   "source": [
    "Поскольку в проекте изучается влияние семейного положения и наличие детей на погашение кредита в срок не буду разбивать возраст на категории, так как они нам не понадобятся.категоризация была применена вместе с лемматизацией выше в одной функции. Категоризовать количество детей нет необходимости, категориями будет их количество, так как всего 6 вариантов."
   ]
  },
  {
   "cell_type": "markdown",
   "metadata": {},
   "source": [
    "<div class=\"alert alert-block alert-danger\">\n",
    "❌ В выводе нет вывода о зависимости между наличием долга и количеством детей) Добавь, пожалуйста\n",
    "</div>"
   ]
  },
  {
   "cell_type": "markdown",
   "metadata": {},
   "source": [
    "С увеличением количества детей увеличивается и количество просроченных задолженностей, хотя люди с 3 детьми чаще платят в \n",
    "срок чем люди с 1 ребенком. Бездетные реже просрачивают оплату по кредиту."
   ]
  },
  {
   "cell_type": "markdown",
   "metadata": {},
   "source": [
    "<div class=\"alert alert-block alert-success\">\n",
    "✔️ Ревью №2: Огонь!\n",
    "</div>"
   ]
  },
  {
   "cell_type": "code",
   "execution_count": 1,
   "metadata": {},
   "outputs": [
    {
     "name": "stdout",
     "output_type": "stream",
     "text": [
      "Object `срок` not found.\n"
     ]
    }
   ],
   "source": [
    "- Есть ли зависимость между семейным положением и возвратом кредита в срок?"
   ]
  },
  {
   "cell_type": "code",
   "execution_count": null,
   "metadata": {},
   "outputs": [],
   "source": [
    "- Есть ли зависимость между семейным положением и возвратом кредита в срок"
   ]
  },
  {
   "cell_type": "code",
   "execution_count": 43,
   "metadata": {},
   "outputs": [
    {
     "data": {
      "text/html": [
       "<div>\n",
       "<style scoped>\n",
       "    .dataframe tbody tr th:only-of-type {\n",
       "        vertical-align: middle;\n",
       "    }\n",
       "\n",
       "    .dataframe tbody tr th {\n",
       "        vertical-align: top;\n",
       "    }\n",
       "\n",
       "    .dataframe thead th {\n",
       "        text-align: right;\n",
       "    }\n",
       "</style>\n",
       "<table border=\"1\" class=\"dataframe\">\n",
       "  <thead>\n",
       "    <tr style=\"text-align: right;\">\n",
       "      <th></th>\n",
       "      <th>sum_family_status</th>\n",
       "      <th>count_family_status</th>\n",
       "      <th>result_family_status</th>\n",
       "    </tr>\n",
       "    <tr>\n",
       "      <th>family_status</th>\n",
       "      <th></th>\n",
       "      <th></th>\n",
       "      <th></th>\n",
       "    </tr>\n",
       "  </thead>\n",
       "  <tbody>\n",
       "    <tr>\n",
       "      <td>не женат / не замужем</td>\n",
       "      <td>274</td>\n",
       "      <td>2813</td>\n",
       "      <td>0.097405</td>\n",
       "    </tr>\n",
       "    <tr>\n",
       "      <td>гражданский брак</td>\n",
       "      <td>388</td>\n",
       "      <td>4177</td>\n",
       "      <td>0.092890</td>\n",
       "    </tr>\n",
       "    <tr>\n",
       "      <td>женат / замужем</td>\n",
       "      <td>931</td>\n",
       "      <td>12380</td>\n",
       "      <td>0.075202</td>\n",
       "    </tr>\n",
       "    <tr>\n",
       "      <td>в разводе</td>\n",
       "      <td>85</td>\n",
       "      <td>1195</td>\n",
       "      <td>0.071130</td>\n",
       "    </tr>\n",
       "    <tr>\n",
       "      <td>вдовец / вдова</td>\n",
       "      <td>63</td>\n",
       "      <td>960</td>\n",
       "      <td>0.065625</td>\n",
       "    </tr>\n",
       "  </tbody>\n",
       "</table>\n",
       "</div>"
      ],
      "text/plain": [
       "                       sum_family_status  count_family_status  \\\n",
       "family_status                                                   \n",
       "не женат / не замужем                274                 2813   \n",
       "гражданский брак                     388                 4177   \n",
       "женат / замужем                      931                12380   \n",
       "в разводе                             85                 1195   \n",
       "вдовец / вдова                        63                  960   \n",
       "\n",
       "                       result_family_status  \n",
       "family_status                                \n",
       "не женат / не замужем              0.097405  \n",
       "гражданский брак                   0.092890  \n",
       "женат / замужем                    0.075202  \n",
       "в разводе                          0.071130  \n",
       "вдовец / вдова                     0.065625  "
      ]
     },
     "execution_count": 43,
     "metadata": {},
     "output_type": "execute_result"
    }
   ],
   "source": [
    "debt_from_family_status = pd.DataFrame()\n",
    "debt_from_family_status['sum_family_status'] = df.groupby('family_status')['debt'].sum()\n",
    "debt_from_family_status['count_family_status'] = df.groupby('family_status')['debt'].count()\n",
    "debt_from_family_status['result_family_status'] = debt_from_family_status['sum_family_status'] / debt_from_family_status['count_family_status'] \n",
    "debt_from_family_status.sort_values('result_family_status', ascending = False)"
   ]
  },
  {
   "cell_type": "markdown",
   "metadata": {},
   "source": [
    "**Вывод**"
   ]
  },
  {
   "cell_type": "markdown",
   "metadata": {},
   "source": [
    "Зависимость существует. Люди не в браке имеют больший процент невозвратов в срок. Разведенные и овдовевшие чаще платят в срок, чем люди в браке."
   ]
  },
  {
   "cell_type": "markdown",
   "metadata": {},
   "source": [
    "<div class=\"alert alert-block alert-success\">\n",
    "✔️ Есть идеи с чем может быть связано?\n",
    "</div>"
   ]
  },
  {
   "cell_type": "markdown",
   "metadata": {},
   "source": [
    "Пологаю что люди которые не в браке менее опытны и способны на спонтанные необдуманные поступки. \n",
    "т.к. не несут финансовой ответственности перед семьей(жена, дети) Наверное по большей части это люди молодые. \n",
    "Разведенные и овдовевщие скорее всего люди с определенным жизненным багажом и опытом и умеют строить бюджет."
   ]
  },
  {
   "cell_type": "markdown",
   "metadata": {},
   "source": [
    "- Есть ли зависимость между уровнем дохода и возвратом кредита в срок?"
   ]
  },
  {
   "cell_type": "code",
   "execution_count": 49,
   "metadata": {},
   "outputs": [
    {
     "name": "stdout",
     "output_type": "stream",
     "text": [
      "                  sum  count  conversion\n",
      "total_income_id                         \n",
      "от 100 до 200    1029  11996    0.085779\n",
      "от 0 до 100       354   4463    0.079319\n",
      "от 300 до 400      75    954    0.078616\n",
      "от 200 до 300     252   3584    0.070312\n",
      "больше 400         31    528    0.058712\n"
     ]
    },
    {
     "data": {
      "text/html": [
       "<div>\n",
       "<style scoped>\n",
       "    .dataframe tbody tr th:only-of-type {\n",
       "        vertical-align: middle;\n",
       "    }\n",
       "\n",
       "    .dataframe tbody tr th {\n",
       "        vertical-align: top;\n",
       "    }\n",
       "\n",
       "    .dataframe thead th {\n",
       "        text-align: right;\n",
       "    }\n",
       "</style>\n",
       "<table border=\"1\" class=\"dataframe\">\n",
       "  <thead>\n",
       "    <tr style=\"text-align: right;\">\n",
       "      <th></th>\n",
       "      <th>total_income</th>\n",
       "      <th>debt</th>\n",
       "    </tr>\n",
       "  </thead>\n",
       "  <tbody>\n",
       "    <tr>\n",
       "      <td>total_income</td>\n",
       "      <td>1.000000</td>\n",
       "      <td>-0.011592</td>\n",
       "    </tr>\n",
       "    <tr>\n",
       "      <td>debt</td>\n",
       "      <td>-0.011592</td>\n",
       "      <td>1.000000</td>\n",
       "    </tr>\n",
       "  </tbody>\n",
       "</table>\n",
       "</div>"
      ],
      "text/plain": [
       "              total_income      debt\n",
       "total_income      1.000000 -0.011592\n",
       "debt             -0.011592  1.000000"
      ]
     },
     "execution_count": 49,
     "metadata": {},
     "output_type": "execute_result"
    }
   ],
   "source": [
    "#категоризировали уровень дохода создав доп столбец total_income_id. \n",
    "def total_income_category(value):\n",
    "    if value <= 100000:\n",
    "        return 'от 0 до 100'\n",
    "    elif value > 100000 and value <= 200000:\n",
    "        return 'от 100 до 200'\n",
    "    elif value > 200000 and value <= 300000:\n",
    "        return 'от 200 до 300'\n",
    "    elif value > 300000 and value <= 400000:\n",
    "        return 'от 300 до 400'\n",
    "    else:\n",
    "        return 'больше 400'\n",
    "df['total_income_id'] = df['total_income'].apply(total_income_category)\n",
    "df['total_income_id'].value_counts()\n",
    "\n",
    "debt_from_total_income = pd.DataFrame()\n",
    "debt_from_total_income['sum'] = df.groupby('total_income_id')['debt'].sum()\n",
    "debt_from_total_income['count'] = df.groupby('total_income_id')['debt'].count()\n",
    "debt_from_total_income['conversion'] = debt_from_total_income['sum'] / debt_from_total_income['count']\n",
    "print(debt_from_total_income.sort_values('conversion', ascending = False))\n",
    "\n",
    "\n",
    "\n",
    "\n",
    "#видим что зависимости долга от доходов кажется нет, на всякий случай посмотрим корреляцию между столбцами дохода и долгом\n",
    "verification_through_correlation = pd.DataFrame()\n",
    "verification_through_correlation['total_income'] = df['total_income']\n",
    "verification_through_correlation['debt'] = df['debt']\n",
    "verification_through_correlation.corr()\n",
    "#видим, что корреляции нет, теперь вывод очевиден"
   ]
  },
  {
   "cell_type": "markdown",
   "metadata": {},
   "source": [
    "**Вывод**"
   ]
  },
  {
   "cell_type": "markdown",
   "metadata": {},
   "source": [
    "<div class=\"alert alert-block alert-danger\">\n",
    "❌ Категоризируй доход на несколько категорий и проверь наличие зависимости ещё раз \n",
    "</div>"
   ]
  },
  {
   "cell_type": "markdown",
   "metadata": {},
   "source": [
    "<div class=\"alert alert-block alert-success\">\n",
    "✔️ Ревью №2: Теперь порядок!\n",
    "</div>"
   ]
  },
  {
   "cell_type": "markdown",
   "metadata": {},
   "source": [
    "Разделил доход на 5 категорий, похоже что зависимость уровня дохода и возврата кредита в срок не очевидна."
   ]
  },
  {
   "cell_type": "markdown",
   "metadata": {},
   "source": [
    "- Как разные цели кредита влияют на его возврат в срок?"
   ]
  },
  {
   "cell_type": "code",
   "execution_count": 46,
   "metadata": {},
   "outputs": [
    {
     "data": {
      "text/html": [
       "<div>\n",
       "<style scoped>\n",
       "    .dataframe tbody tr th:only-of-type {\n",
       "        vertical-align: middle;\n",
       "    }\n",
       "\n",
       "    .dataframe tbody tr th {\n",
       "        vertical-align: top;\n",
       "    }\n",
       "\n",
       "    .dataframe thead th {\n",
       "        text-align: right;\n",
       "    }\n",
       "</style>\n",
       "<table border=\"1\" class=\"dataframe\">\n",
       "  <thead>\n",
       "    <tr style=\"text-align: right;\">\n",
       "      <th></th>\n",
       "      <th>sum_purpose_category</th>\n",
       "      <th>count_purpose_category</th>\n",
       "      <th>result_purpose_category</th>\n",
       "    </tr>\n",
       "    <tr>\n",
       "      <th>purpose_category</th>\n",
       "      <th></th>\n",
       "      <th></th>\n",
       "      <th></th>\n",
       "    </tr>\n",
       "  </thead>\n",
       "  <tbody>\n",
       "    <tr>\n",
       "      <td>авто</td>\n",
       "      <td>403</td>\n",
       "      <td>4315</td>\n",
       "      <td>0.093395</td>\n",
       "    </tr>\n",
       "    <tr>\n",
       "      <td>образование</td>\n",
       "      <td>370</td>\n",
       "      <td>4022</td>\n",
       "      <td>0.091994</td>\n",
       "    </tr>\n",
       "    <tr>\n",
       "      <td>свадьба</td>\n",
       "      <td>186</td>\n",
       "      <td>2348</td>\n",
       "      <td>0.079216</td>\n",
       "    </tr>\n",
       "    <tr>\n",
       "      <td>недвижимость</td>\n",
       "      <td>782</td>\n",
       "      <td>10840</td>\n",
       "      <td>0.072140</td>\n",
       "    </tr>\n",
       "  </tbody>\n",
       "</table>\n",
       "</div>"
      ],
      "text/plain": [
       "                  sum_purpose_category  count_purpose_category  \\\n",
       "purpose_category                                                 \n",
       "авто                               403                    4315   \n",
       "образование                        370                    4022   \n",
       "свадьба                            186                    2348   \n",
       "недвижимость                       782                   10840   \n",
       "\n",
       "                  result_purpose_category  \n",
       "purpose_category                           \n",
       "авто                             0.093395  \n",
       "образование                      0.091994  \n",
       "свадьба                          0.079216  \n",
       "недвижимость                     0.072140  "
      ]
     },
     "execution_count": 46,
     "metadata": {},
     "output_type": "execute_result"
    }
   ],
   "source": [
    "debt_from_purpose_category = pd.DataFrame()\n",
    "debt_from_purpose_category['sum_purpose_category'] = df.groupby('purpose_category')['debt'].sum()\n",
    "debt_from_purpose_category['count_purpose_category'] = df.groupby('purpose_category')['debt'].count()\n",
    "debt_from_purpose_category['result_purpose_category'] = debt_from_purpose_category['sum_purpose_category'] / debt_from_purpose_category['count_purpose_category'] \n",
    "debt_from_purpose_category.sort_values('result_purpose_category', ascending = False)"
   ]
  },
  {
   "cell_type": "markdown",
   "metadata": {},
   "source": [
    "**Вывод**"
   ]
  },
  {
   "cell_type": "markdown",
   "metadata": {},
   "source": [
    "среди 4  категорий, чаще всего платят в срок с целью кредита недвижимость, чаще просрочка у тех кому нужен кредит на авто и образование. Кредиты на свадьбу просрачивают реже - примерно как и в случае недвижимости."
   ]
  },
  {
   "cell_type": "markdown",
   "metadata": {},
   "source": [
    "## Шаг 4. Общий вывод"
   ]
  },
  {
   "cell_type": "markdown",
   "metadata": {},
   "source": [
    "Cемейный статус влияет на вероятность платежей по кредиту в срок - люди в браке чаще плятят в срок чем те, кто не браке. Разведенные и овдовевшие платят в срок чаще, чем люди в браке. Чем больше детей, тем чаще платят не в срок, бездетные реже просрачивают оплату."
   ]
  },
  {
   "cell_type": "markdown",
   "metadata": {},
   "source": [
    "## Чек-лист готовности проекта\n",
    "\n",
    "Поставьте 'x' в выполненных пунктах. Далее нажмите Shift+Enter."
   ]
  },
  {
   "cell_type": "markdown",
   "metadata": {},
   "source": [
    "- [x]  открыт файл;\n",
    "- [x]  файл изучен;\n",
    "- [x]  определены пропущенные значения;\n",
    "- [x]  заполнены пропущенные значения;\n",
    "- [x]  есть пояснение, какие пропущенные значения обнаружены;\n",
    "- [x]  описаны возможные причины появления пропусков в данных;\n",
    "- [x]  объяснено, по какому принципу заполнены пропуски;\n",
    "- [x]  заменен вещественный тип данных на целочисленный;\n",
    "- [x]  есть пояснение, какой метод используется для изменения типа данных и почему;\n",
    "- [x]  удалены дубликаты;\n",
    "- [x]  есть пояснение, какой метод используется для поиска и удаления дубликатов;\n",
    "- [x]  описаны возможные причины появления дубликатов в данных;\n",
    "- [x]  выделены леммы в значениях столбца с целями получения кредита;\n",
    "- [x]  описан процесс лемматизации;\n",
    "- [x]  данные категоризированы;\n",
    "- [x]  есть объяснение принципа категоризации данных;\n",
    "- [x]  есть ответ на вопрос: \"Есть ли зависимость между наличием детей и возвратом кредита в срок?\";\n",
    "- [x]  есть ответ на вопрос: \"Есть ли зависимость между семейным положением и возвратом кредита в срок?\";\n",
    "- [x]  есть ответ на вопрос: \"Есть ли зависимость между уровнем дохода и возвратом кредита в срок?\";\n",
    "- [x]  есть ответ на вопрос: \"Как разные цели кредита влияют на его возврат в срок?\";\n",
    "- [x]  в каждом этапе есть выводы;\n",
    "- [x]  есть общий вывод."
   ]
  },
  {
   "cell_type": "markdown",
   "metadata": {},
   "source": [
    "<font color='blue'><b>Итоговый комментарий ревьюера</b></font>\\\n",
    "<font color='green'>Андрей, хороший проект, видно, что ты можешь много показать, нужно исправить лишь пару нюансов:)\n",
    "   \n",
    "\n",
    "<font color='blue'>Что можно сделать лучше:</font>\n",
    "<ul><font color='red'>1) Проверить полные дубликаты </font></ul>\n",
    "<ul><font color='red'>2) Добавить гипотезы в ответы на вопросы там, где их нет</font></ul>\n",
    "<ul><font color='red'>3) Категоризировать доход</font></ul>\n",
    "    \n",
    "<font color='blue'><b>Спасибо, жду твоих исправлений и комментариев!</b></font>"
   ]
  },
  {
   "cell_type": "markdown",
   "metadata": {},
   "source": [
    "<div class=\"alert alert-block alert-success\">\n",
    "✔️ Ревью №2: Андрей, спасибо за внесённые правки, работа стала ещё лучше! Перевожу твой проект в статус \"зачтено\" и желаю дальнейших успехов в освоении курса\n",
    "</div>"
   ]
  },
  {
   "cell_type": "code",
   "execution_count": null,
   "metadata": {},
   "outputs": [],
   "source": []
  }
 ],
 "metadata": {
  "ExecuteTimeLog": [
   {
    "duration": -71,
    "start_time": "2021-12-12T16:16:16.907Z"
   },
   {
    "duration": 3861,
    "start_time": "2021-12-12T16:16:50.704Z"
   },
   {
    "duration": 73,
    "start_time": "2021-12-12T16:19:56.228Z"
   },
   {
    "duration": 61,
    "start_time": "2021-12-12T16:22:51.178Z"
   },
   {
    "duration": 13,
    "start_time": "2021-12-12T16:24:33.480Z"
   },
   {
    "duration": 10342,
    "start_time": "2021-12-12T16:43:08.285Z"
   },
   {
    "duration": 9198,
    "start_time": "2021-12-12T16:43:47.737Z"
   },
   {
    "duration": 9783,
    "start_time": "2021-12-12T16:48:14.851Z"
   },
   {
    "duration": 8988,
    "start_time": "2021-12-12T16:49:16.560Z"
   },
   {
    "duration": 9115,
    "start_time": "2021-12-12T16:49:34.814Z"
   },
   {
    "duration": 266,
    "start_time": "2021-12-14T17:48:47.362Z"
   },
   {
    "duration": 653,
    "start_time": "2021-12-14T17:49:08.429Z"
   },
   {
    "duration": 5587,
    "start_time": "2021-12-14T17:49:09.084Z"
   },
   {
    "duration": 303,
    "start_time": "2021-12-14T17:49:14.673Z"
   },
   {
    "duration": 247,
    "start_time": "2021-12-14T17:49:57.195Z"
   },
   {
    "duration": 16,
    "start_time": "2021-12-14T17:55:37.678Z"
   },
   {
    "duration": 64,
    "start_time": "2021-12-14T18:07:33.635Z"
   },
   {
    "duration": 79,
    "start_time": "2021-12-14T18:07:54.293Z"
   },
   {
    "duration": 7,
    "start_time": "2021-12-14T18:17:32.301Z"
   },
   {
    "duration": 14,
    "start_time": "2021-12-14T18:36:34.379Z"
   },
   {
    "duration": 7,
    "start_time": "2021-12-14T18:42:57.167Z"
   },
   {
    "duration": 4,
    "start_time": "2021-12-14T18:43:27.481Z"
   },
   {
    "duration": 6,
    "start_time": "2021-12-14T18:43:29.921Z"
   },
   {
    "duration": 76,
    "start_time": "2021-12-14T18:43:35.293Z"
   },
   {
    "duration": 6,
    "start_time": "2021-12-14T18:43:35.371Z"
   },
   {
    "duration": 6,
    "start_time": "2021-12-14T18:43:35.379Z"
   },
   {
    "duration": 9,
    "start_time": "2021-12-14T18:43:35.388Z"
   },
   {
    "duration": 72,
    "start_time": "2021-12-14T18:50:55.197Z"
   },
   {
    "duration": 6,
    "start_time": "2021-12-14T18:50:55.271Z"
   },
   {
    "duration": 14,
    "start_time": "2021-12-14T18:50:55.278Z"
   },
   {
    "duration": 7,
    "start_time": "2021-12-14T18:50:55.293Z"
   },
   {
    "duration": 11,
    "start_time": "2021-12-14T18:52:53.568Z"
   },
   {
    "duration": 18,
    "start_time": "2021-12-14T18:53:38.135Z"
   },
   {
    "duration": 9,
    "start_time": "2021-12-14T18:54:04.080Z"
   },
   {
    "duration": 47,
    "start_time": "2021-12-14T18:58:08.463Z"
   },
   {
    "duration": 23,
    "start_time": "2021-12-14T19:05:28.127Z"
   },
   {
    "duration": 26,
    "start_time": "2021-12-14T19:06:19.858Z"
   },
   {
    "duration": 27,
    "start_time": "2021-12-14T19:22:00.803Z"
   },
   {
    "duration": 29,
    "start_time": "2021-12-14T19:29:25.040Z"
   },
   {
    "duration": 29,
    "start_time": "2021-12-14T19:29:50.055Z"
   },
   {
    "duration": 30,
    "start_time": "2021-12-14T19:30:08.026Z"
   },
   {
    "duration": 600,
    "start_time": "2021-12-14T19:49:05.636Z"
   },
   {
    "duration": 617,
    "start_time": "2021-12-14T19:49:27.602Z"
   },
   {
    "duration": 617,
    "start_time": "2021-12-14T19:49:39.202Z"
   },
   {
    "duration": 324,
    "start_time": "2021-12-14T19:49:47.469Z"
   },
   {
    "duration": 235,
    "start_time": "2021-12-14T19:53:54.803Z"
   },
   {
    "duration": 3,
    "start_time": "2021-12-14T19:55:16.640Z"
   },
   {
    "duration": 3,
    "start_time": "2021-12-14T19:55:26.599Z"
   },
   {
    "duration": 74,
    "start_time": "2021-12-14T19:55:29.545Z"
   },
   {
    "duration": 7,
    "start_time": "2021-12-14T19:55:29.621Z"
   },
   {
    "duration": 13,
    "start_time": "2021-12-14T19:55:29.630Z"
   },
   {
    "duration": 47,
    "start_time": "2021-12-14T19:55:29.644Z"
   },
   {
    "duration": 4,
    "start_time": "2021-12-14T19:55:29.692Z"
   },
   {
    "duration": 17,
    "start_time": "2021-12-14T19:55:47.279Z"
   },
   {
    "duration": 236,
    "start_time": "2021-12-14T19:56:20.150Z"
   },
   {
    "duration": 320,
    "start_time": "2021-12-17T11:48:26.840Z"
   },
   {
    "duration": 266,
    "start_time": "2021-12-17T11:55:06.650Z"
   },
   {
    "duration": 853,
    "start_time": "2021-12-17T11:55:20.580Z"
   },
   {
    "duration": 8,
    "start_time": "2021-12-17T11:55:21.436Z"
   },
   {
    "duration": 41,
    "start_time": "2021-12-17T11:55:21.447Z"
   },
   {
    "duration": 48,
    "start_time": "2021-12-17T11:55:21.491Z"
   },
   {
    "duration": 917,
    "start_time": "2021-12-17T12:16:14.692Z"
   },
   {
    "duration": 8,
    "start_time": "2021-12-17T12:16:15.612Z"
   },
   {
    "duration": 52,
    "start_time": "2021-12-17T12:16:15.623Z"
   },
   {
    "duration": 52,
    "start_time": "2021-12-17T12:16:15.677Z"
   },
   {
    "duration": 840,
    "start_time": "2021-12-17T12:16:39.399Z"
   },
   {
    "duration": 8,
    "start_time": "2021-12-17T12:16:40.242Z"
   },
   {
    "duration": 41,
    "start_time": "2021-12-17T12:16:40.253Z"
   },
   {
    "duration": 106,
    "start_time": "2021-12-17T12:16:40.299Z"
   },
   {
    "duration": 20331,
    "start_time": "2021-12-17T12:16:40.409Z"
   },
   {
    "duration": 122,
    "start_time": "2021-12-17T12:17:00.743Z"
   },
   {
    "duration": 51447,
    "start_time": "2021-12-17T12:19:08.441Z"
   },
   {
    "duration": 39,
    "start_time": "2021-12-17T12:45:31.543Z"
   },
   {
    "duration": 88,
    "start_time": "2021-12-17T13:26:43.517Z"
   },
   {
    "duration": 19,
    "start_time": "2021-12-17T13:27:01.358Z"
   },
   {
    "duration": 109,
    "start_time": "2021-12-17T13:27:07.192Z"
   },
   {
    "duration": 8,
    "start_time": "2021-12-17T13:27:07.303Z"
   },
   {
    "duration": 20,
    "start_time": "2021-12-17T13:27:07.314Z"
   },
   {
    "duration": 71,
    "start_time": "2021-12-17T13:27:07.336Z"
   },
   {
    "duration": 56065,
    "start_time": "2021-12-17T13:27:07.409Z"
   },
   {
    "duration": 29,
    "start_time": "2021-12-17T13:28:03.478Z"
   },
   {
    "duration": 7575,
    "start_time": "2021-12-17T13:34:29.381Z"
   },
   {
    "duration": -598,
    "start_time": "2021-12-17T13:35:35.174Z"
   },
   {
    "duration": -603,
    "start_time": "2021-12-17T13:35:35.180Z"
   },
   {
    "duration": -604,
    "start_time": "2021-12-17T13:35:35.182Z"
   },
   {
    "duration": -605,
    "start_time": "2021-12-17T13:35:35.185Z"
   },
   {
    "duration": -605,
    "start_time": "2021-12-17T13:35:35.187Z"
   },
   {
    "duration": -606,
    "start_time": "2021-12-17T13:35:35.190Z"
   },
   {
    "duration": 109,
    "start_time": "2021-12-17T13:35:50.856Z"
   },
   {
    "duration": 11,
    "start_time": "2021-12-17T13:35:50.968Z"
   },
   {
    "duration": 28,
    "start_time": "2021-12-17T13:35:50.984Z"
   },
   {
    "duration": 118,
    "start_time": "2021-12-17T13:35:51.015Z"
   },
   {
    "duration": -589,
    "start_time": "2021-12-17T13:36:56.389Z"
   },
   {
    "duration": -592,
    "start_time": "2021-12-17T13:36:56.393Z"
   },
   {
    "duration": -592,
    "start_time": "2021-12-17T13:36:56.395Z"
   },
   {
    "duration": -593,
    "start_time": "2021-12-17T13:36:56.397Z"
   },
   {
    "duration": -594,
    "start_time": "2021-12-17T13:36:56.400Z"
   },
   {
    "duration": -595,
    "start_time": "2021-12-17T13:36:56.403Z"
   },
   {
    "duration": 122,
    "start_time": "2021-12-17T13:40:12.698Z"
   },
   {
    "duration": 15,
    "start_time": "2021-12-17T13:40:17.372Z"
   },
   {
    "duration": 23,
    "start_time": "2021-12-17T13:41:25.167Z"
   },
   {
    "duration": 17,
    "start_time": "2021-12-17T13:43:18.836Z"
   },
   {
    "duration": 23,
    "start_time": "2021-12-17T13:51:12.282Z"
   },
   {
    "duration": 86,
    "start_time": "2021-12-17T13:51:17.117Z"
   },
   {
    "duration": 64918,
    "start_time": "2021-12-17T13:52:33.796Z"
   },
   {
    "duration": 59666,
    "start_time": "2021-12-17T13:55:45.625Z"
   },
   {
    "duration": 16,
    "start_time": "2021-12-17T14:09:43.054Z"
   },
   {
    "duration": 19,
    "start_time": "2021-12-17T14:10:02.595Z"
   },
   {
    "duration": 53835,
    "start_time": "2021-12-17T14:10:47.161Z"
   },
   {
    "duration": 1372,
    "start_time": "2021-12-17T14:14:39.701Z"
   },
   {
    "duration": 511,
    "start_time": "2021-12-17T14:15:42.025Z"
   },
   {
    "duration": 30628,
    "start_time": "2021-12-17T14:22:41.660Z"
   },
   {
    "duration": 23,
    "start_time": "2021-12-17T14:44:54.367Z"
   },
   {
    "duration": 31,
    "start_time": "2021-12-17T14:45:34.166Z"
   },
   {
    "duration": 360,
    "start_time": "2021-12-19T15:05:56.063Z"
   },
   {
    "duration": 953,
    "start_time": "2021-12-19T15:06:06.146Z"
   },
   {
    "duration": 29,
    "start_time": "2021-12-19T15:06:07.102Z"
   },
   {
    "duration": 20,
    "start_time": "2021-12-19T15:06:07.134Z"
   },
   {
    "duration": 81,
    "start_time": "2021-12-19T15:06:07.157Z"
   },
   {
    "duration": 49297,
    "start_time": "2021-12-19T15:06:07.241Z"
   },
   {
    "duration": 22254,
    "start_time": "2021-12-19T15:06:56.540Z"
   },
   {
    "duration": 46,
    "start_time": "2021-12-19T15:07:18.798Z"
   },
   {
    "duration": 32,
    "start_time": "2021-12-19T15:07:18.848Z"
   },
   {
    "duration": 24656,
    "start_time": "2021-12-19T15:11:14.256Z"
   },
   {
    "duration": 105,
    "start_time": "2021-12-19T15:17:43.372Z"
   },
   {
    "duration": 17,
    "start_time": "2021-12-19T15:17:43.480Z"
   },
   {
    "duration": 40,
    "start_time": "2021-12-19T15:17:43.500Z"
   },
   {
    "duration": 51,
    "start_time": "2021-12-19T15:17:43.543Z"
   },
   {
    "duration": 105,
    "start_time": "2021-12-19T15:18:55.455Z"
   },
   {
    "duration": 19,
    "start_time": "2021-12-19T15:18:55.564Z"
   },
   {
    "duration": 47,
    "start_time": "2021-12-19T15:18:55.586Z"
   },
   {
    "duration": 55,
    "start_time": "2021-12-19T15:18:55.636Z"
   },
   {
    "duration": 48829,
    "start_time": "2021-12-19T15:18:55.694Z"
   },
   {
    "duration": 23633,
    "start_time": "2021-12-19T15:19:44.526Z"
   },
   {
    "duration": 23,
    "start_time": "2021-12-19T15:20:08.162Z"
   },
   {
    "duration": 57,
    "start_time": "2021-12-19T15:20:08.188Z"
   },
   {
    "duration": 104,
    "start_time": "2021-12-19T16:20:19.753Z"
   },
   {
    "duration": 100,
    "start_time": "2021-12-19T16:22:18.665Z"
   },
   {
    "duration": 116,
    "start_time": "2021-12-19T16:34:23.103Z"
   },
   {
    "duration": 247,
    "start_time": "2021-12-19T16:34:34.271Z"
   },
   {
    "duration": 367,
    "start_time": "2021-12-19T16:35:02.874Z"
   },
   {
    "duration": 15,
    "start_time": "2021-12-19T16:37:50.708Z"
   },
   {
    "duration": 17,
    "start_time": "2021-12-19T16:38:14.737Z"
   },
   {
    "duration": 548,
    "start_time": "2021-12-19T17:00:52.048Z"
   },
   {
    "duration": 270,
    "start_time": "2021-12-28T15:28:28.781Z"
   },
   {
    "duration": 283,
    "start_time": "2021-12-28T15:28:54.936Z"
   },
   {
    "duration": 211,
    "start_time": "2021-12-28T15:30:11.207Z"
   },
   {
    "duration": 702,
    "start_time": "2021-12-28T15:30:20.484Z"
   },
   {
    "duration": 13,
    "start_time": "2021-12-28T15:30:21.188Z"
   },
   {
    "duration": 14,
    "start_time": "2021-12-28T15:30:21.203Z"
   },
   {
    "duration": 60,
    "start_time": "2021-12-28T15:30:21.219Z"
   },
   {
    "duration": 40870,
    "start_time": "2021-12-28T15:30:21.281Z"
   },
   {
    "duration": 274,
    "start_time": "2021-12-28T15:31:02.153Z"
   },
   {
    "duration": 1182,
    "start_time": "2021-12-28T15:31:01.247Z"
   },
   {
    "duration": 1181,
    "start_time": "2021-12-28T15:31:01.249Z"
   },
   {
    "duration": 230,
    "start_time": "2021-12-28T15:31:39.149Z"
   },
   {
    "duration": 36,
    "start_time": "2021-12-28T15:31:48.687Z"
   },
   {
    "duration": 13908,
    "start_time": "2021-12-28T15:38:01.120Z"
   },
   {
    "duration": 14143,
    "start_time": "2021-12-28T15:39:18.757Z"
   },
   {
    "duration": 30,
    "start_time": "2021-12-28T15:51:58.529Z"
   },
   {
    "duration": 16,
    "start_time": "2021-12-28T15:56:23.239Z"
   },
   {
    "duration": 29,
    "start_time": "2021-12-28T16:03:05.311Z"
   },
   {
    "duration": 15,
    "start_time": "2021-12-28T17:05:04.691Z"
   },
   {
    "duration": 1046,
    "start_time": "2021-12-29T16:17:19.616Z"
   },
   {
    "duration": 16,
    "start_time": "2021-12-29T16:17:20.665Z"
   },
   {
    "duration": 24,
    "start_time": "2021-12-29T16:17:20.684Z"
   },
   {
    "duration": 69,
    "start_time": "2021-12-29T16:17:20.711Z"
   },
   {
    "duration": 22570,
    "start_time": "2021-12-29T16:17:20.782Z"
   },
   {
    "duration": 25,
    "start_time": "2021-12-29T16:17:43.355Z"
   },
   {
    "duration": 41,
    "start_time": "2021-12-29T16:17:43.383Z"
   },
   {
    "duration": 41,
    "start_time": "2021-12-29T16:17:43.427Z"
   },
   {
    "duration": 20,
    "start_time": "2021-12-29T16:17:43.471Z"
   },
   {
    "duration": 15,
    "start_time": "2021-12-29T16:19:38.629Z"
   },
   {
    "duration": 7,
    "start_time": "2021-12-29T16:21:23.443Z"
   },
   {
    "duration": 8,
    "start_time": "2021-12-29T16:21:27.244Z"
   },
   {
    "duration": 10,
    "start_time": "2021-12-29T16:23:53.066Z"
   },
   {
    "duration": 380,
    "start_time": "2021-12-30T11:29:22.433Z"
   },
   {
    "duration": 844,
    "start_time": "2021-12-30T11:29:32.855Z"
   },
   {
    "duration": 21,
    "start_time": "2021-12-30T11:29:33.701Z"
   },
   {
    "duration": 17,
    "start_time": "2021-12-30T11:29:33.725Z"
   },
   {
    "duration": 393,
    "start_time": "2021-12-30T11:29:33.744Z"
   },
   {
    "duration": 1596,
    "start_time": "2021-12-30T11:29:32.543Z"
   },
   {
    "duration": 1593,
    "start_time": "2021-12-30T11:29:32.547Z"
   },
   {
    "duration": 1592,
    "start_time": "2021-12-30T11:29:32.550Z"
   },
   {
    "duration": 1590,
    "start_time": "2021-12-30T11:29:32.553Z"
   },
   {
    "duration": 1581,
    "start_time": "2021-12-30T11:29:32.563Z"
   },
   {
    "duration": 73,
    "start_time": "2021-12-30T11:29:59.291Z"
   },
   {
    "duration": 73,
    "start_time": "2021-12-30T11:34:08.604Z"
   },
   {
    "duration": 30,
    "start_time": "2021-12-30T11:43:56.899Z"
   },
   {
    "duration": 71,
    "start_time": "2021-12-30T11:49:32.636Z"
   },
   {
    "duration": 71,
    "start_time": "2021-12-30T11:50:34.212Z"
   },
   {
    "duration": 404,
    "start_time": "2021-12-30T11:52:23.218Z"
   },
   {
    "duration": 93,
    "start_time": "2021-12-30T11:52:33.098Z"
   },
   {
    "duration": 78,
    "start_time": "2021-12-30T12:22:10.127Z"
   },
   {
    "duration": 76,
    "start_time": "2021-12-30T12:23:15.195Z"
   },
   {
    "duration": 81,
    "start_time": "2021-12-30T12:29:55.023Z"
   },
   {
    "duration": 80,
    "start_time": "2021-12-30T12:33:15.476Z"
   },
   {
    "duration": 44,
    "start_time": "2021-12-30T12:35:12.394Z"
   },
   {
    "duration": 37,
    "start_time": "2021-12-30T12:36:29.905Z"
   },
   {
    "duration": 36,
    "start_time": "2021-12-30T12:48:36.815Z"
   },
   {
    "duration": 140,
    "start_time": "2021-12-30T12:51:18.754Z"
   },
   {
    "duration": 40,
    "start_time": "2021-12-30T12:51:32.935Z"
   },
   {
    "duration": 35,
    "start_time": "2021-12-30T12:52:49.702Z"
   },
   {
    "duration": 41,
    "start_time": "2021-12-30T12:55:23.403Z"
   },
   {
    "duration": 363,
    "start_time": "2021-12-30T12:57:52.979Z"
   },
   {
    "duration": 108,
    "start_time": "2021-12-30T12:58:29.671Z"
   },
   {
    "duration": 39,
    "start_time": "2021-12-30T12:58:29.782Z"
   },
   {
    "duration": 18,
    "start_time": "2021-12-30T12:58:29.824Z"
   },
   {
    "duration": 118,
    "start_time": "2021-12-30T12:58:29.845Z"
   },
   {
    "duration": 904,
    "start_time": "2021-12-30T12:58:29.966Z"
   },
   {
    "duration": 1499,
    "start_time": "2021-12-30T12:58:29.375Z"
   },
   {
    "duration": 1498,
    "start_time": "2021-12-30T12:58:29.378Z"
   },
   {
    "duration": 1499,
    "start_time": "2021-12-30T12:58:29.381Z"
   },
   {
    "duration": 1499,
    "start_time": "2021-12-30T12:58:29.384Z"
   },
   {
    "duration": 1496,
    "start_time": "2021-12-30T12:58:29.389Z"
   },
   {
    "duration": 1492,
    "start_time": "2021-12-30T12:58:29.396Z"
   },
   {
    "duration": 1492,
    "start_time": "2021-12-30T12:58:29.399Z"
   },
   {
    "duration": 110,
    "start_time": "2021-12-30T12:59:22.460Z"
   },
   {
    "duration": 45,
    "start_time": "2021-12-30T12:59:22.574Z"
   },
   {
    "duration": 20,
    "start_time": "2021-12-30T12:59:22.622Z"
   },
   {
    "duration": 101,
    "start_time": "2021-12-30T12:59:22.645Z"
   },
   {
    "duration": 21983,
    "start_time": "2021-12-30T12:59:22.749Z"
   },
   {
    "duration": 19,
    "start_time": "2021-12-30T12:59:44.734Z"
   },
   {
    "duration": 107,
    "start_time": "2021-12-30T12:59:44.755Z"
   },
   {
    "duration": 1516,
    "start_time": "2021-12-30T12:59:43.349Z"
   },
   {
    "duration": 1515,
    "start_time": "2021-12-30T12:59:43.351Z"
   },
   {
    "duration": 1513,
    "start_time": "2021-12-30T12:59:43.354Z"
   },
   {
    "duration": 1511,
    "start_time": "2021-12-30T12:59:43.357Z"
   },
   {
    "duration": 89,
    "start_time": "2021-12-30T13:10:26.260Z"
   },
   {
    "duration": 18,
    "start_time": "2021-12-30T13:10:26.352Z"
   },
   {
    "duration": 19,
    "start_time": "2021-12-30T13:10:26.373Z"
   },
   {
    "duration": 85,
    "start_time": "2021-12-30T13:10:26.417Z"
   },
   {
    "duration": 22687,
    "start_time": "2021-12-30T13:10:26.505Z"
   },
   {
    "duration": 32,
    "start_time": "2021-12-30T13:10:49.195Z"
   },
   {
    "duration": 22,
    "start_time": "2021-12-30T13:10:49.230Z"
   },
   {
    "duration": 106,
    "start_time": "2021-12-30T13:10:49.255Z"
   },
   {
    "duration": 1487,
    "start_time": "2021-12-30T13:10:47.876Z"
   },
   {
    "duration": 1486,
    "start_time": "2021-12-30T13:10:47.879Z"
   },
   {
    "duration": 53,
    "start_time": "2021-12-30T13:12:04.698Z"
   },
   {
    "duration": 21,
    "start_time": "2021-12-30T13:13:10.777Z"
   },
   {
    "duration": 32,
    "start_time": "2021-12-30T13:15:55.048Z"
   },
   {
    "duration": 32,
    "start_time": "2021-12-30T13:16:30.060Z"
   },
   {
    "duration": 56,
    "start_time": "2021-12-30T13:19:31.213Z"
   },
   {
    "duration": 7,
    "start_time": "2021-12-31T11:19:45.590Z"
   }
  ],
  "kernelspec": {
   "display_name": "Python 3 (ipykernel)",
   "language": "python",
   "name": "python3"
  },
  "language_info": {
   "codemirror_mode": {
    "name": "ipython",
    "version": 3
   },
   "file_extension": ".py",
   "mimetype": "text/x-python",
   "name": "python",
   "nbconvert_exporter": "python",
   "pygments_lexer": "ipython3",
   "version": "3.9.5"
  },
  "toc": {
   "base_numbering": 1,
   "nav_menu": {},
   "number_sections": true,
   "sideBar": true,
   "skip_h1_title": true,
   "title_cell": "Table of Contents",
   "title_sidebar": "Contents",
   "toc_cell": false,
   "toc_position": {},
   "toc_section_display": true,
   "toc_window_display": false
  }
 },
 "nbformat": 4,
 "nbformat_minor": 2
}
