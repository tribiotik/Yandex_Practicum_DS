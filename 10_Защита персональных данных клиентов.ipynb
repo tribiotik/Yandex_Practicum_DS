{
 "cells": [
  {
   "cell_type": "markdown",
   "metadata": {},
   "source": [
    "<div style=\"background: #cceeaa; padding: 5px; border: 1px solid green; border-radius: 5px;\">\n",
    "    <font color='green'> <b><u>КОММЕНТАРИЙ РЕВЬЮЕРА</u></b>\n",
    "\n",
    "Андрей, доброго дня! рад приветствовать тебя вновь) <br />\n",
    "(А дальше - шаблонная часть, как ты заметил по другим спринтам)<br>\n",
    "<br />\n",
    "Меня зовут Николай Шавлюго. <br />И на этом этапе твоего движения к новой профессии от меня будут комментарии по написанному коду. <br />Чтобы меньше \"мусорить эфир\" и чтобы максимально наглядно отделяться от основного кода, есть предложение условиться в некоторых обозначениях:<br /> <br />\n",
    "<u><b>ТАКОЙ ШРИФТ</b></u> - всегда начало комментария <br />\n",
    "<font color='green'>такой шрифт</font> - комментарии о том, что всё ОК <br/>\n",
    "<font color='orange'>такой шрифт</font> - комментарии о том, что всё ОК по результату,<br> однако есть на что обратить внимание в плане применения техник, или есть способы сделать более короткий или быстрый код <br/>\n",
    "<font color='red'>такой шрифт</font> - комментарии о том, что есть критичный момент, влияющий на бизнес-результат проекта.<br/>\n",
    "</font><br /><br />\n",
    "<font color='green'>Моей целью является не \"уличить\" в не знании, а просто высказать сверху твоих знаний - свой опыт, что бы ты мог использовать его для своего дальнейшего успеха) И очень здорово будет, если тебе удастся задавать вопросы, да и вообще - всячески доставать меня, если я по каким-то причинам не приму проект:) При этом, из своего опыта скажу, хорошо и важно, когда переписка ревьюера и студента - сохраняется на следующие проекты и даже на будущую практическую деятельность.<br>\n",
    "<BR> В ПУТЬ!<br>"
   ]
  },
  {
   "cell_type": "markdown",
   "metadata": {
    "toc": true
   },
   "source": [
    "<h1>Содержание<span class=\"tocSkip\"></span></h1>\n",
    "<div class=\"toc\"><ul class=\"toc-item\"><li><span><a href=\"#Импорт-библиотек\" data-toc-modified-id=\"Импорт-библиотек-1\"><span class=\"toc-item-num\">1&nbsp;&nbsp;</span>Импорт библиотек</a></span></li><li><span><a href=\"#Загрузка-и-проверка-данных\" data-toc-modified-id=\"Загрузка-и-проверка-данных-2\"><span class=\"toc-item-num\">2&nbsp;&nbsp;</span>Загрузка и проверка данных</a></span><ul class=\"toc-item\"><li><span><a href=\"#Вывод\" data-toc-modified-id=\"Вывод-2.1\"><span class=\"toc-item-num\">2.1&nbsp;&nbsp;</span>Вывод</a></span></li></ul></li><li><span><a href=\"#Умножение-матриц\" data-toc-modified-id=\"Умножение-матриц-3\"><span class=\"toc-item-num\">3&nbsp;&nbsp;</span>Умножение матриц</a></span></li><li><span><a href=\"#Алгоритм-преобразования\" data-toc-modified-id=\"Алгоритм-преобразования-4\"><span class=\"toc-item-num\">4&nbsp;&nbsp;</span>Алгоритм преобразования</a></span></li><li><span><a href=\"#Проверка-алгоритма\" data-toc-modified-id=\"Проверка-алгоритма-5\"><span class=\"toc-item-num\">5&nbsp;&nbsp;</span>Проверка алгоритма</a></span><ul class=\"toc-item\"><li><span><a href=\"#Вывод\" data-toc-modified-id=\"Вывод-5.1\"><span class=\"toc-item-num\">5.1&nbsp;&nbsp;</span>Вывод</a></span></li></ul></li><li><span><a href=\"#Чек-лист-проверки\" data-toc-modified-id=\"Чек-лист-проверки-6\"><span class=\"toc-item-num\">6&nbsp;&nbsp;</span>Чек-лист проверки</a></span></li></ul></div>"
   ]
  },
  {
   "cell_type": "markdown",
   "metadata": {},
   "source": [
    "# Защита персональных данных клиентов"
   ]
  },
  {
   "cell_type": "markdown",
   "metadata": {},
   "source": [
    "Вам нужно защитить данные клиентов страховой компании «Хоть потоп». Разработайте такой метод преобразования данных, чтобы по ним было сложно восстановить персональную информацию. Обоснуйте корректность его работы.\n",
    "\n",
    "Нужно защитить данные, чтобы при преобразовании качество моделей машинного обучения не ухудшилось. Подбирать наилучшую модель не требуется."
   ]
  },
  {
   "cell_type": "markdown",
   "metadata": {},
   "source": [
    "## Импорт библиотек"
   ]
  },
  {
   "cell_type": "code",
   "execution_count": 1,
   "metadata": {},
   "outputs": [],
   "source": [
    "import pandas as pd\n",
    "import numpy as np\n",
    "from sklearn.linear_model import LinearRegression\n",
    "from sklearn.model_selection import train_test_split\n",
    "from sklearn.metrics import r2_score"
   ]
  },
  {
   "cell_type": "markdown",
   "metadata": {},
   "source": [
    "## Загрузка и проверка данных"
   ]
  },
  {
   "cell_type": "code",
   "execution_count": 2,
   "metadata": {},
   "outputs": [],
   "source": [
    "data = pd.read_csv('/datasets/insurance.csv')\n",
    "def line():\n",
    "    print()\n",
    "    print('_________________________________')"
   ]
  },
  {
   "cell_type": "code",
   "execution_count": 3,
   "metadata": {},
   "outputs": [
    {
     "data": {
      "text/html": [
       "<div>\n",
       "<style scoped>\n",
       "    .dataframe tbody tr th:only-of-type {\n",
       "        vertical-align: middle;\n",
       "    }\n",
       "\n",
       "    .dataframe tbody tr th {\n",
       "        vertical-align: top;\n",
       "    }\n",
       "\n",
       "    .dataframe thead th {\n",
       "        text-align: right;\n",
       "    }\n",
       "</style>\n",
       "<table border=\"1\" class=\"dataframe\">\n",
       "  <thead>\n",
       "    <tr style=\"text-align: right;\">\n",
       "      <th></th>\n",
       "      <th>Пол</th>\n",
       "      <th>Возраст</th>\n",
       "      <th>Зарплата</th>\n",
       "      <th>Члены семьи</th>\n",
       "      <th>Страховые выплаты</th>\n",
       "    </tr>\n",
       "  </thead>\n",
       "  <tbody>\n",
       "    <tr>\n",
       "      <th>0</th>\n",
       "      <td>1</td>\n",
       "      <td>41.0</td>\n",
       "      <td>49600.0</td>\n",
       "      <td>1</td>\n",
       "      <td>0</td>\n",
       "    </tr>\n",
       "    <tr>\n",
       "      <th>1</th>\n",
       "      <td>0</td>\n",
       "      <td>46.0</td>\n",
       "      <td>38000.0</td>\n",
       "      <td>1</td>\n",
       "      <td>1</td>\n",
       "    </tr>\n",
       "    <tr>\n",
       "      <th>2</th>\n",
       "      <td>0</td>\n",
       "      <td>29.0</td>\n",
       "      <td>21000.0</td>\n",
       "      <td>0</td>\n",
       "      <td>0</td>\n",
       "    </tr>\n",
       "    <tr>\n",
       "      <th>3</th>\n",
       "      <td>0</td>\n",
       "      <td>21.0</td>\n",
       "      <td>41700.0</td>\n",
       "      <td>2</td>\n",
       "      <td>0</td>\n",
       "    </tr>\n",
       "    <tr>\n",
       "      <th>4</th>\n",
       "      <td>1</td>\n",
       "      <td>28.0</td>\n",
       "      <td>26100.0</td>\n",
       "      <td>0</td>\n",
       "      <td>0</td>\n",
       "    </tr>\n",
       "  </tbody>\n",
       "</table>\n",
       "</div>"
      ],
      "text/plain": [
       "   Пол  Возраст  Зарплата  Члены семьи  Страховые выплаты\n",
       "0    1     41.0   49600.0            1                  0\n",
       "1    0     46.0   38000.0            1                  1\n",
       "2    0     29.0   21000.0            0                  0\n",
       "3    0     21.0   41700.0            2                  0\n",
       "4    1     28.0   26100.0            0                  0"
      ]
     },
     "execution_count": 3,
     "metadata": {},
     "output_type": "execute_result"
    }
   ],
   "source": [
    "data.head(5)"
   ]
  },
  {
   "cell_type": "code",
   "execution_count": 24,
   "metadata": {
    "scrolled": true
   },
   "outputs": [
    {
     "data": {
      "text/plain": [
       "<bound method DataFrame.info of       Пол  Возраст  Зарплата  Члены семьи  Страховые выплаты\n",
       "0       1     41.0   49600.0            1                  0\n",
       "1       0     46.0   38000.0            1                  1\n",
       "2       0     29.0   21000.0            0                  0\n",
       "3       0     21.0   41700.0            2                  0\n",
       "4       1     28.0   26100.0            0                  0\n",
       "...   ...      ...       ...          ...                ...\n",
       "4995    0     28.0   35700.0            2                  0\n",
       "4996    0     34.0   52400.0            1                  0\n",
       "4997    0     20.0   33900.0            2                  0\n",
       "4998    1     22.0   32700.0            3                  0\n",
       "4999    1     28.0   40600.0            1                  0\n",
       "\n",
       "[5000 rows x 5 columns]>"
      ]
     },
     "metadata": {},
     "output_type": "display_data"
    },
    {
     "name": "stdout",
     "output_type": "stream",
     "text": [
      "\n",
      "_________________________________\n"
     ]
    },
    {
     "data": {
      "text/plain": [
       "'Количество пропусков'"
      ]
     },
     "metadata": {},
     "output_type": "display_data"
    },
    {
     "data": {
      "text/plain": [
       "Пол                  0\n",
       "Возраст              0\n",
       "Зарплата             0\n",
       "Члены семьи          0\n",
       "Страховые выплаты    0\n",
       "dtype: int64"
      ]
     },
     "metadata": {},
     "output_type": "display_data"
    },
    {
     "name": "stdout",
     "output_type": "stream",
     "text": [
      "\n",
      "_________________________________\n"
     ]
    },
    {
     "data": {
      "text/plain": [
       "'Количество дубликатов '"
      ]
     },
     "metadata": {},
     "output_type": "display_data"
    },
    {
     "data": {
      "text/plain": [
       "153"
      ]
     },
     "metadata": {},
     "output_type": "display_data"
    },
    {
     "name": "stdout",
     "output_type": "stream",
     "text": [
      "\n",
      "_________________________________\n"
     ]
    },
    {
     "data": {
      "text/html": [
       "<div>\n",
       "<style scoped>\n",
       "    .dataframe tbody tr th:only-of-type {\n",
       "        vertical-align: middle;\n",
       "    }\n",
       "\n",
       "    .dataframe tbody tr th {\n",
       "        vertical-align: top;\n",
       "    }\n",
       "\n",
       "    .dataframe thead th {\n",
       "        text-align: right;\n",
       "    }\n",
       "</style>\n",
       "<table border=\"1\" class=\"dataframe\">\n",
       "  <thead>\n",
       "    <tr style=\"text-align: right;\">\n",
       "      <th></th>\n",
       "      <th>Пол</th>\n",
       "      <th>Возраст</th>\n",
       "      <th>Зарплата</th>\n",
       "      <th>Члены семьи</th>\n",
       "      <th>Страховые выплаты</th>\n",
       "    </tr>\n",
       "  </thead>\n",
       "  <tbody>\n",
       "    <tr>\n",
       "      <th>count</th>\n",
       "      <td>5000.000000</td>\n",
       "      <td>5000.000000</td>\n",
       "      <td>5000.000000</td>\n",
       "      <td>5000.000000</td>\n",
       "      <td>5000.000000</td>\n",
       "    </tr>\n",
       "    <tr>\n",
       "      <th>mean</th>\n",
       "      <td>0.499000</td>\n",
       "      <td>30.952800</td>\n",
       "      <td>39916.360000</td>\n",
       "      <td>1.194200</td>\n",
       "      <td>0.148000</td>\n",
       "    </tr>\n",
       "    <tr>\n",
       "      <th>std</th>\n",
       "      <td>0.500049</td>\n",
       "      <td>8.440807</td>\n",
       "      <td>9900.083569</td>\n",
       "      <td>1.091387</td>\n",
       "      <td>0.463183</td>\n",
       "    </tr>\n",
       "    <tr>\n",
       "      <th>min</th>\n",
       "      <td>0.000000</td>\n",
       "      <td>18.000000</td>\n",
       "      <td>5300.000000</td>\n",
       "      <td>0.000000</td>\n",
       "      <td>0.000000</td>\n",
       "    </tr>\n",
       "    <tr>\n",
       "      <th>25%</th>\n",
       "      <td>0.000000</td>\n",
       "      <td>24.000000</td>\n",
       "      <td>33300.000000</td>\n",
       "      <td>0.000000</td>\n",
       "      <td>0.000000</td>\n",
       "    </tr>\n",
       "    <tr>\n",
       "      <th>50%</th>\n",
       "      <td>0.000000</td>\n",
       "      <td>30.000000</td>\n",
       "      <td>40200.000000</td>\n",
       "      <td>1.000000</td>\n",
       "      <td>0.000000</td>\n",
       "    </tr>\n",
       "    <tr>\n",
       "      <th>75%</th>\n",
       "      <td>1.000000</td>\n",
       "      <td>37.000000</td>\n",
       "      <td>46600.000000</td>\n",
       "      <td>2.000000</td>\n",
       "      <td>0.000000</td>\n",
       "    </tr>\n",
       "    <tr>\n",
       "      <th>max</th>\n",
       "      <td>1.000000</td>\n",
       "      <td>65.000000</td>\n",
       "      <td>79000.000000</td>\n",
       "      <td>6.000000</td>\n",
       "      <td>5.000000</td>\n",
       "    </tr>\n",
       "  </tbody>\n",
       "</table>\n",
       "</div>"
      ],
      "text/plain": [
       "               Пол      Возраст      Зарплата  Члены семьи  Страховые выплаты\n",
       "count  5000.000000  5000.000000   5000.000000  5000.000000        5000.000000\n",
       "mean      0.499000    30.952800  39916.360000     1.194200           0.148000\n",
       "std       0.500049     8.440807   9900.083569     1.091387           0.463183\n",
       "min       0.000000    18.000000   5300.000000     0.000000           0.000000\n",
       "25%       0.000000    24.000000  33300.000000     0.000000           0.000000\n",
       "50%       0.000000    30.000000  40200.000000     1.000000           0.000000\n",
       "75%       1.000000    37.000000  46600.000000     2.000000           0.000000\n",
       "max       1.000000    65.000000  79000.000000     6.000000           5.000000"
      ]
     },
     "metadata": {},
     "output_type": "display_data"
    },
    {
     "name": "stdout",
     "output_type": "stream",
     "text": [
      "\n",
      "_________________________________\n"
     ]
    },
    {
     "data": {
      "text/plain": [
       "Страховые выплаты\n",
       "0    4436\n",
       "1     423\n",
       "2     115\n",
       "3      18\n",
       "4       7\n",
       "5       1\n",
       "dtype: int64"
      ]
     },
     "metadata": {},
     "output_type": "display_data"
    }
   ],
   "source": [
    "display(data.info)\n",
    "line()\n",
    "display('Количество пропусков', data.isnull().sum())\n",
    "line()\n",
    "display('Количество дубликатов ', data.duplicated().sum())\n",
    "line()\n",
    "display(data.describe())\n",
    "line()\n"
   ]
  },
  {
   "cell_type": "markdown",
   "metadata": {},
   "source": [
    "<div style=\"background: #cceeaa; padding: 5px; border: 1px solid green; border-radius: 5px;\">\n",
    "    <font color='green'> <b><u>КОММЕНТАРИЙ РЕВЬЮЕРА</u></b>\n",
    "</font>\n",
    "<font color='green'><br>\n",
    "Данные на базе) ОК, хорошо, когда есть аналитическая культура - обязательно делать первичный анализ данных, не смотря на проект)"
   ]
  },
  {
   "cell_type": "code",
   "execution_count": null,
   "metadata": {},
   "outputs": [],
   "source": []
  },
  {
   "cell_type": "markdown",
   "metadata": {},
   "source": [
    "### Вывод"
   ]
  },
  {
   "cell_type": "markdown",
   "metadata": {},
   "source": [
    "- Имеем датасет из 5000 строк и 5 столбцов\n",
    "- Пропуски отсутствуют\n",
    "- Дубликаты 153 штуки. Дубликаты решил пока не удалять. считаю что они не повлияют на результат иследования \n",
    "- Целевой признак: Страховые выплаты\n",
    "- Признаки: Пол, Возраст, Зарплата, Члены семьи\n",
    "- Похоже, что данные предварительно обработаны"
   ]
  },
  {
   "cell_type": "markdown",
   "metadata": {},
   "source": [
    "## Умножение матриц"
   ]
  },
  {
   "cell_type": "markdown",
   "metadata": {},
   "source": [
    "В этом задании вы можете записывать формулы в *Jupyter Notebook.*\n",
    "\n",
    "Чтобы записать формулу внутри текста, окружите её символами доллара \\\\$; если снаружи —  двойными символами \\\\$\\\\$. Эти формулы записываются на языке вёрстки *LaTeX.* \n",
    "\n",
    "Для примера мы записали формулы линейной регрессии. Можете их скопировать и отредактировать, чтобы решить задачу.\n",
    "\n",
    "Работать в *LaTeX* необязательно."
   ]
  },
  {
   "cell_type": "markdown",
   "metadata": {},
   "source": [
    "Обозначения:\n",
    "\n",
    "- $X$ — матрица признаков (нулевой столбец состоит из единиц)\n",
    "\n",
    "- $y$ — вектор целевого признака\n",
    "\n",
    "- $P$ — матрица, на которую умножаются признаки\n",
    "\n",
    "- $w$ — вектор весов линейной регрессии (нулевой элемент равен сдвигу)"
   ]
  },
  {
   "cell_type": "markdown",
   "metadata": {},
   "source": [
    "Предсказания:\n",
    "\n",
    "$$\n",
    "a = Xw\n",
    "$$\n",
    "\n",
    "Задача обучения:\n",
    "\n",
    "$$\n",
    "w = \\arg\\min_w MSE(Xw, y)\n",
    "$$\n",
    "\n",
    "Формула обучения:\n",
    "\n",
    "$$\n",
    "w = (X^T X)^{-1} X^T y\n",
    "$$"
   ]
  },
  {
   "cell_type": "markdown",
   "metadata": {},
   "source": [
    "**Ответ:** Не изменится\n",
    "\n",
    "**Обоснование:** \n",
    "- Обозначим новую матрицу признаков X1 как произведение старой X на матрицу P(обратимую):\n",
    "\n",
    "$$\n",
    "X1 = X*P\n",
    "$$ \n",
    "\n",
    "- Подставим новое значение X1 в формулу w1:\n",
    "\n",
    "$$\n",
    "w1 = ((XP)^T XP)^{-1} (XP)^T y\n",
    "$$\n",
    "\n",
    "- Раскроем первое произведение (XP)^T: \n",
    "\n",
    "$$\n",
    "w1 = (X^TP^T XP)^{-1} X^TP^T y\n",
    "$$\n",
    "\n",
    "- Раскроем скобки\n",
    "\n",
    "$$\n",
    "w1 = P^{-1}(X^TX)^{-1}(P^T)^{-1} P^T X^T y\n",
    "$$\n",
    "            \n",
    "- Поусловию $ Р $ обратима поэтому произведение $ (P^T)^{-1}P^T $ равно единичной матрице $E$\n",
    "\n",
    "$$\n",
    "w1 = P^{-1}(X^TX)^{-1} EX^T y =  P^{-1}(X^TX)^{-1} X^T y \n",
    "$$\n",
    "\n",
    "- Справа получилась формула ля $w$\n",
    "\n",
    "$$\n",
    "w1 = P^{-1}(X^TX)^{-1} EX^T y =  P^{-1}w\n",
    "$$\n",
    "\n",
    "- В формулу для предсказаний подставим $X1$ и $w1$ что бы вычислить предсказания модели $a1$\n",
    "\n",
    "$$\n",
    "a1 = X1w1=XPP^{-1}w\n",
    "$$\n",
    "\n",
    "- По скольку по условию $ Р $ обратима поэтому произведение $PP^{-1}$ равно единичной матрице $E$\n",
    "\n",
    "$$\n",
    "a1 = X1w1=XPP^{-1}w = XEw=Xw=a\n",
    "$$\n",
    "\n",
    "\n",
    "Было доказано, что предсказания $а1$ для матрицы признаков, умноженных на обратимую матрицу $ Р $ равны предсказаниям $а$"
   ]
  },
  {
   "cell_type": "markdown",
   "metadata": {},
   "source": [
    "<div style=\"background: #cceeaa; padding: 5px; border: 1px solid green; border-radius: 5px;\">\n",
    "    <font color='green'> <b><u>КОММЕНТАРИЙ РЕВЬЮЕРА</u></b>\n",
    "</font>\n",
    "<font color='green'><br>\n",
    "в точку!"
   ]
  },
  {
   "cell_type": "markdown",
   "metadata": {},
   "source": [
    "## Алгоритм преобразования"
   ]
  },
  {
   "cell_type": "markdown",
   "metadata": {},
   "source": [
    "**Алгоритм**\n",
    "\n",
    "Для того чтобы закодировать данные пользователя, можно создать рандомно генирирующуюся матрицу которая имеет обратную себе матрицу. Таким образом домножая матрицу признаков на рандомную матрицу матрицу мы получим матрицу с закодированными значениями а для того чтобы получить обратно данные мы должны будем умножить закодированные данные на обратную рандомную матрицу"
   ]
  },
  {
   "cell_type": "markdown",
   "metadata": {},
   "source": [
    "**Обоснование**\n",
    "\n",
    "$$\n",
    "a1 = X1w1=XPP^{-1}w = XEw=Xw=a\n",
    "$$\n"
   ]
  },
  {
   "cell_type": "code",
   "execution_count": 5,
   "metadata": {},
   "outputs": [],
   "source": [
    "#data.drop_duplicates(inplace = True)"
   ]
  },
  {
   "cell_type": "code",
   "execution_count": 6,
   "metadata": {},
   "outputs": [],
   "source": [
    "# разделение признаков\n",
    "target = data.loc[:, 'Страховые выплаты']\n",
    "features = data.drop(['Страховые выплаты'], axis=1)"
   ]
  },
  {
   "cell_type": "code",
   "execution_count": 7,
   "metadata": {},
   "outputs": [],
   "source": [
    "# разделение выборок\n",
    "features_train, features_test, target_train, target_test = train_test_split(features, target, test_size=0.2, random_state=12345)"
   ]
  },
  {
   "cell_type": "code",
   "execution_count": 8,
   "metadata": {},
   "outputs": [
    {
     "name": "stdout",
     "output_type": "stream",
     "text": [
      "(4000, 4)\n",
      "(1000, 4)\n"
     ]
    }
   ],
   "source": [
    "# преобразование выборок в матрицы\n",
    "matrix_features_train = features_train.values\n",
    "matrix_features_test = features_test.values\n",
    "# проверка размерности матрицы\n",
    "print(matrix_features_train.shape)\n",
    "print(matrix_features_test.shape)"
   ]
  },
  {
   "cell_type": "code",
   "execution_count": 9,
   "metadata": {},
   "outputs": [],
   "source": [
    "# создание рандомной матрицы в соответствии с кол-вом признаков исходной матрицы\n",
    "random_matrix = np.random.randn(4, 4)\n",
    "# умножение исходных матриц на рандомную\n",
    "encoded_matrix_features_train = matrix_features_train.dot(random_matrix)\n",
    "encoded_matrix_features_test = matrix_features_test.dot(random_matrix)"
   ]
  },
  {
   "cell_type": "markdown",
   "metadata": {},
   "source": []
  },
  {
   "cell_type": "code",
   "execution_count": 10,
   "metadata": {},
   "outputs": [
    {
     "data": {
      "text/plain": [
       "(   Пол  Возраст  Зарплата  Члены семьи\n",
       " 0 -0.0     20.0   39800.0          2.0\n",
       " 1  1.0     40.0   34200.0         -0.0\n",
       " 2  1.0     45.0   50800.0          1.0\n",
       " 3 -0.0     28.0   39100.0          2.0\n",
       " 4  0.0     28.0   39000.0          1.0,\n",
       "       Пол  Возраст  Зарплата  Члены семьи\n",
       " 317     0     20.0   39800.0            2\n",
       " 4143    1     40.0   34200.0            0\n",
       " 4252    1     45.0   50800.0            1\n",
       " 710     0     28.0   39100.0            2\n",
       " 148     0     28.0   39000.0            1)"
      ]
     },
     "execution_count": 10,
     "metadata": {},
     "output_type": "execute_result"
    }
   ],
   "source": [
    "# проверка\n",
    "decoded_matrix_features_train = encoded_matrix_features_train.dot(np.linalg.inv(random_matrix))\n",
    "features_train_check = pd.DataFrame(decoded_matrix_features_train, columns=features_train.columns)\n",
    "features_train_check = np.round(features_train_check)\n",
    "features_train_check.head(5), features_train.head(5)"
   ]
  },
  {
   "cell_type": "markdown",
   "metadata": {},
   "source": [
    "<div style=\"background: #cceeaa; padding: 5px; border: 1px solid green; border-radius: 5px;\">\n",
    "    <font color='green'> <b><u>КОММЕНТАРИЙ РЕВЬЮЕРА</u></b>\n",
    "</font>\n",
    "<font color='green'><br>\n",
    "ок, это важно - проверять на обратимость) Можно это дело в такую функцию одеть:"
   ]
  },
  {
   "cell_type": "raw",
   "metadata": {},
   "source": [
    "def generate_invertible_matrix(size):\n",
    "    try:\n",
    "        matrix = np.random.normal(size=(size, size))\n",
    "        # проверим матрицу на обратимость, если нет, пробуем сгенерировать еще раз\n",
    "        # таким образом гарантируем, что матрица стопроцентно будет обратимой\n",
    "        np.linalg.inv(matrix)\n",
    "    except np.linalg.LinAlgError:\n",
    "        matrix = generate_invertible_matrix()\n",
    "    \n",
    "    return matrix"
   ]
  },
  {
   "cell_type": "markdown",
   "metadata": {},
   "source": [
    "<div class=\"alert alert-info\"> <b>Комментарий студента:</b> Большое спасибо за подсказку в будущем обязательно буду пользоваться таким методом </div>"
   ]
  },
  {
   "cell_type": "markdown",
   "metadata": {},
   "source": [
    "Данные идентичны. только с индексами какая-то беда случилась."
   ]
  },
  {
   "cell_type": "markdown",
   "metadata": {},
   "source": [
    "## Проверка алгоритма"
   ]
  },
  {
   "cell_type": "code",
   "execution_count": 11,
   "metadata": {},
   "outputs": [],
   "source": [
    "model = LinearRegression()\n",
    "model.fit(matrix_features_train, target_train)\n",
    "predicted_norm = model.predict(features_test)\n",
    "norm_r2 = model.score(features_test, target_test)"
   ]
  },
  {
   "cell_type": "code",
   "execution_count": 12,
   "metadata": {},
   "outputs": [],
   "source": [
    "model.fit(encoded_matrix_features_train, target_train)\n",
    "predicted_encoded = model.predict(encoded_matrix_features_test)\n",
    "encoded_r2 = model.score(encoded_matrix_features_test, target_test)"
   ]
  },
  {
   "cell_type": "code",
   "execution_count": 13,
   "metadata": {},
   "outputs": [
    {
     "name": "stdout",
     "output_type": "stream",
     "text": [
      "R2 score of not encoded matrix:  0.4117683956770434\n",
      "R2 score of encoded matrix:  0.4117683956769309\n"
     ]
    }
   ],
   "source": [
    "print('R2 score of not encoded matrix: ', norm_r2)\n",
    "print('R2 score of encoded matrix: ', encoded_r2)"
   ]
  },
  {
   "cell_type": "markdown",
   "metadata": {},
   "source": [
    "<div style=\"background: #cceeaa; padding: 5px; border: 1px solid green; border-radius: 5px;\">\n",
    "    <font color='green'> <b><u>КОММЕНТАРИЙ РЕВЬЮЕРА</u></b>\n",
    "</font>\n",
    "<font color='green'><br>\n",
    "ОК, Андрей, и с линейной алгеброй ты справился)<br>\n",
    "Всё, на мой взгляд, по делу, со смыслом. Доказательство в п.2 - понятно)<br>\n",
    "Да и весь проект - на уровне.<br>\n",
    "И важно, что не забыл про проверку на обратимость! ОК<br>\n",
    "    \n",
    "В общем-то, вопросов у меня и нет особых)<br>\n",
    "Возможно, что у тебя остались/появились?"
   ]
  },
  {
   "cell_type": "markdown",
   "metadata": {},
   "source": [
    "<div class=\"alert alert-info\"> <b>Комментарий студента:</b> Добрый день! Хотел бы задать прару вопросов.<br> \n",
    "1. При востановлении матрицы  индексы меняются. В текущей задаче это не вожно, но в принцыпе в индекс могли быть заложены какие то данные по которым возможна идентификация субъекта при работе с персональными данными это очень важно. Есть ли способ избежать изменения индексов или способ их востановить?<br>\n",
    "2. Вопрос про дубликаты. Подскажи, пожалуйста, какие именно дубликаты считает этот код data.duplicated().sum())? ведь например если посчитать дубликаты по каждому столбцу их будет намного больше. И почему дубликаты так страшны в иследованиях. Может быть есть какая-то толковая статья (на русском языке) на этот счет?  </div>"
   ]
  },
  {
   "cell_type": "markdown",
   "metadata": {},
   "source": [
    "<div style=\"background: #cceeaa; padding: 5px; border: 1px solid green; border-radius: 5px;\">\n",
    "    <font color='green'> <b><u>КОММЕНТАРИЙ РЕВЬЮЕРА 2</u></b>\n",
    "</font>\n",
    "<font color='green'><br>\n",
    "Андрей,  доброго дня!<br>\n",
    "    \n",
    "1) Тут надо от данных будет смотреть. Ведь всегда можно одним из столбцов сделать id клиента. (но не включать его в модель). И по этому столбцу отслеживать качество данных.<br>    \n",
    "2) Дубликаты: тут надо исходить из определения дубликатов. Строка исходных данных - это описание одного клиента (например). И нам надо удостовериться, что нет одинаковых строк. Условно Иванова учтём один раз, а не двадцать. Со статьями - тут надо к наставнику - у них формируеътся список при подготовке к лекции, который они раздают студентам.<br>\n",
    "    \n",
    "Ещё несколько идей в целом по теме: если рассматривать передачу данных третьим лицам, то к преимуществам данного подхода можно отнести, в первую очередь, ощутимую экономию ресурсов по сравнению с некоторыми известными алгоритмами шифрования, в особенности это касается ассиметричных алгоритмов с достаточно длинными ключами (AES, RSA), которые требуют много процессорного времени.<br><br>\n",
    "    \n",
    "К главному недостатку подхода можно отнести увеличение сложности проверки на вырожденность преобразования с ростом количества признаков в выборке. В рассмотренном случае необходимо подобрать подходящую матрицу размера  4×4 . Однако, если признаки будут исчисляться тысячами, что в теории всегда надо положить, то расчет соответствующих определителей может быть крайне ресурсозатратным. Но и эту проблему можно будет решить)<br><br>\n",
    "    \n",
    "Если есть время и желание, то можно воту этот маткриал просмотреть:<br>\n",
    "Обзоры по применению криптографии в машинном обучении: https://arxiv.org/pdf/1902.04109.pdf, https://www.researchgate.net/publication/342746786_Some_Applications_of_Machine_Learning_in_Cryptography\n",
    "Подробнее про аналогичный алгоритм: https://www.cs.cmu.edu/~rjhall/JOS_revised_May_31a.pdf<br><br>\n",
    "<font color='green'><font color='green'>\n",
    "Спасибо за проект и за диалог)<br>\n",
    "Успешного дальнейшего обучения!"
   ]
  },
  {
   "cell_type": "code",
   "execution_count": null,
   "metadata": {},
   "outputs": [],
   "source": []
  },
  {
   "cell_type": "markdown",
   "metadata": {},
   "source": [
    "### Вывод"
   ]
  },
  {
   "cell_type": "markdown",
   "metadata": {},
   "source": [
    "При проверке качества моделей Линейной регрессии с помощью метрики R2 на данных показатели метрики совпали. Из чего можно сделать вывод, что алгоритм работает. Данный алгоритм можно использовать для шифрования данных."
   ]
  },
  {
   "cell_type": "markdown",
   "metadata": {},
   "source": [
    "\n",
    "Значение метрики при удалении дубликатов\n",
    "- R2 score of not encoded matrix:  0.41605492161510915\n",
    "- R2 score of encoded matrix:  0.4160549216152173\n",
    "- На мой взгляд в данном случае удаление дубликатов не влияет на конечный результат"
   ]
  },
  {
   "cell_type": "markdown",
   "metadata": {},
   "source": [
    "## Чек-лист проверки"
   ]
  },
  {
   "cell_type": "markdown",
   "metadata": {},
   "source": [
    "Поставьте 'x' в выполненных пунктах. Далее нажмите Shift+Enter."
   ]
  },
  {
   "cell_type": "markdown",
   "metadata": {},
   "source": [
    "- [x]  Jupyter Notebook открыт\n",
    "- [x]  Весь код выполняется без ошибок\n",
    "- [x]  Ячейки с кодом расположены в порядке исполнения\n",
    "- [x]  Выполнен шаг 1: данные загружены\n",
    "- [x]  Выполнен шаг 2: получен ответ на вопрос об умножении матриц\n",
    "    - [x]  Указан правильный вариант ответа\n",
    "    - [x]  Вариант обоснован\n",
    "- [x]  Выполнен шаг 3: предложен алгоритм преобразования\n",
    "    - [x]  Алгоритм описан\n",
    "    - [x]  Алгоритм обоснован\n",
    "- [x]  Выполнен шаг 4: алгоритм проверен\n",
    "    - [x]  Алгоритм реализован\n",
    "    - [x]  Проведено сравнение качества моделей до и после преобразования"
   ]
  },
  {
   "cell_type": "code",
   "execution_count": null,
   "metadata": {},
   "outputs": [],
   "source": []
  }
 ],
 "metadata": {
  "ExecuteTimeLog": [
   {
    "duration": 371,
    "start_time": "2022-04-08T09:27:58.996Z"
   },
   {
    "duration": 19,
    "start_time": "2022-04-08T09:28:14.481Z"
   },
   {
    "duration": 70,
    "start_time": "2022-04-08T09:31:23.319Z"
   },
   {
    "duration": 19,
    "start_time": "2022-04-08T09:31:48.992Z"
   },
   {
    "duration": 15,
    "start_time": "2022-04-08T09:31:50.589Z"
   },
   {
    "duration": 19,
    "start_time": "2022-04-08T09:32:03.300Z"
   },
   {
    "duration": 13,
    "start_time": "2022-04-08T09:32:04.116Z"
   },
   {
    "duration": 2,
    "start_time": "2022-04-08T09:32:31.521Z"
   },
   {
    "duration": 21,
    "start_time": "2022-04-08T09:32:31.526Z"
   },
   {
    "duration": 14,
    "start_time": "2022-04-08T09:32:31.549Z"
   },
   {
    "duration": 18,
    "start_time": "2022-04-08T09:33:01.765Z"
   },
   {
    "duration": 15,
    "start_time": "2022-04-08T09:33:29.356Z"
   },
   {
    "duration": 15,
    "start_time": "2022-04-08T09:34:26.450Z"
   },
   {
    "duration": 20,
    "start_time": "2022-04-08T09:35:30.322Z"
   },
   {
    "duration": 33,
    "start_time": "2022-04-08T09:35:48.706Z"
   },
   {
    "duration": 31,
    "start_time": "2022-04-08T09:37:07.259Z"
   },
   {
    "duration": 34,
    "start_time": "2022-04-08T09:37:25.192Z"
   },
   {
    "duration": 8,
    "start_time": "2022-04-08T09:40:07.461Z"
   },
   {
    "duration": 8,
    "start_time": "2022-04-08T09:40:28.887Z"
   },
   {
    "duration": 34,
    "start_time": "2022-04-08T09:41:00.691Z"
   },
   {
    "duration": 31,
    "start_time": "2022-04-08T09:42:00.653Z"
   },
   {
    "duration": 31,
    "start_time": "2022-04-08T09:42:31.875Z"
   },
   {
    "duration": 33,
    "start_time": "2022-04-08T09:42:39.995Z"
   },
   {
    "duration": 9,
    "start_time": "2022-04-08T10:48:55.046Z"
   },
   {
    "duration": 2,
    "start_time": "2022-04-08T10:48:59.972Z"
   },
   {
    "duration": 1119,
    "start_time": "2022-04-08T10:48:59.976Z"
   },
   {
    "duration": 9,
    "start_time": "2022-04-08T10:49:01.096Z"
   },
   {
    "duration": 48,
    "start_time": "2022-04-08T10:49:01.107Z"
   },
   {
    "duration": 8,
    "start_time": "2022-04-08T10:49:01.156Z"
   },
   {
    "duration": 4,
    "start_time": "2022-04-08T10:49:30.672Z"
   },
   {
    "duration": 3,
    "start_time": "2022-04-08T11:11:14.215Z"
   },
   {
    "duration": 20,
    "start_time": "2022-04-08T11:11:14.219Z"
   },
   {
    "duration": 8,
    "start_time": "2022-04-08T11:11:14.240Z"
   },
   {
    "duration": 35,
    "start_time": "2022-04-08T11:11:14.250Z"
   },
   {
    "duration": 4,
    "start_time": "2022-04-08T11:11:14.286Z"
   },
   {
    "duration": 9,
    "start_time": "2022-04-08T11:11:14.291Z"
   },
   {
    "duration": 0,
    "start_time": "2022-04-08T11:11:14.301Z"
   },
   {
    "duration": 0,
    "start_time": "2022-04-08T11:11:14.302Z"
   },
   {
    "duration": 844,
    "start_time": "2022-04-08T11:11:56.934Z"
   },
   {
    "duration": 16,
    "start_time": "2022-04-08T11:11:57.780Z"
   },
   {
    "duration": 8,
    "start_time": "2022-04-08T11:11:57.797Z"
   },
   {
    "duration": 49,
    "start_time": "2022-04-08T11:11:57.806Z"
   },
   {
    "duration": 28,
    "start_time": "2022-04-08T11:11:57.857Z"
   },
   {
    "duration": 13,
    "start_time": "2022-04-08T11:11:57.887Z"
   },
   {
    "duration": 6,
    "start_time": "2022-04-08T11:11:57.902Z"
   },
   {
    "duration": 5,
    "start_time": "2022-04-08T11:11:57.909Z"
   },
   {
    "duration": 9,
    "start_time": "2022-04-08T11:12:45.542Z"
   },
   {
    "duration": 39,
    "start_time": "2022-04-08T11:13:02.207Z"
   },
   {
    "duration": 3,
    "start_time": "2022-04-08T11:15:41.451Z"
   },
   {
    "duration": 654,
    "start_time": "2022-04-08T11:15:41.456Z"
   },
   {
    "duration": 8,
    "start_time": "2022-04-08T11:15:42.112Z"
   },
   {
    "duration": 58,
    "start_time": "2022-04-08T11:15:42.122Z"
   },
   {
    "duration": 4,
    "start_time": "2022-04-08T11:15:42.182Z"
   },
   {
    "duration": 139,
    "start_time": "2022-04-08T11:15:42.188Z"
   },
   {
    "duration": 6,
    "start_time": "2022-04-08T11:15:42.329Z"
   },
   {
    "duration": 6,
    "start_time": "2022-04-08T11:15:42.337Z"
   },
   {
    "duration": 10,
    "start_time": "2022-04-08T11:15:42.345Z"
   },
   {
    "duration": 4,
    "start_time": "2022-04-08T11:15:42.357Z"
   },
   {
    "duration": 8,
    "start_time": "2022-04-08T11:15:42.364Z"
   },
   {
    "duration": 18,
    "start_time": "2022-04-08T11:15:42.374Z"
   },
   {
    "duration": 8,
    "start_time": "2022-04-08T11:15:42.394Z"
   },
   {
    "duration": 4,
    "start_time": "2022-04-08T11:16:01.650Z"
   },
   {
    "duration": 2,
    "start_time": "2022-04-08T11:18:23.494Z"
   },
   {
    "duration": 22,
    "start_time": "2022-04-08T11:18:23.499Z"
   },
   {
    "duration": 8,
    "start_time": "2022-04-08T11:18:23.523Z"
   },
   {
    "duration": 49,
    "start_time": "2022-04-08T11:18:23.533Z"
   },
   {
    "duration": 5,
    "start_time": "2022-04-08T11:18:23.584Z"
   },
   {
    "duration": 5,
    "start_time": "2022-04-08T11:18:23.591Z"
   },
   {
    "duration": 7,
    "start_time": "2022-04-08T11:18:23.598Z"
   },
   {
    "duration": 6,
    "start_time": "2022-04-08T11:18:23.607Z"
   },
   {
    "duration": 116,
    "start_time": "2022-04-08T11:18:23.615Z"
   },
   {
    "duration": 7,
    "start_time": "2022-04-08T11:18:23.733Z"
   },
   {
    "duration": 7,
    "start_time": "2022-04-08T11:18:23.741Z"
   },
   {
    "duration": 11,
    "start_time": "2022-04-08T11:18:23.749Z"
   },
   {
    "duration": 21,
    "start_time": "2022-04-08T11:18:23.761Z"
   },
   {
    "duration": 5,
    "start_time": "2022-04-08T11:18:23.784Z"
   },
   {
    "duration": 7,
    "start_time": "2022-04-08T11:18:23.791Z"
   },
   {
    "duration": 4,
    "start_time": "2022-04-08T11:22:39.445Z"
   },
   {
    "duration": 4,
    "start_time": "2022-04-08T11:22:56.639Z"
   },
   {
    "duration": 28,
    "start_time": "2022-04-08T11:22:56.645Z"
   },
   {
    "duration": 8,
    "start_time": "2022-04-08T11:22:56.674Z"
   },
   {
    "duration": 37,
    "start_time": "2022-04-08T11:22:56.684Z"
   },
   {
    "duration": 4,
    "start_time": "2022-04-08T11:22:56.724Z"
   },
   {
    "duration": 7,
    "start_time": "2022-04-08T11:22:56.729Z"
   },
   {
    "duration": 6,
    "start_time": "2022-04-08T11:22:56.738Z"
   },
   {
    "duration": 35,
    "start_time": "2022-04-08T11:22:56.746Z"
   },
   {
    "duration": 5,
    "start_time": "2022-04-08T11:22:56.783Z"
   },
   {
    "duration": 5,
    "start_time": "2022-04-08T11:22:56.790Z"
   },
   {
    "duration": 6,
    "start_time": "2022-04-08T11:22:56.797Z"
   },
   {
    "duration": 11,
    "start_time": "2022-04-08T11:22:56.804Z"
   },
   {
    "duration": 8,
    "start_time": "2022-04-08T11:22:56.817Z"
   },
   {
    "duration": 11,
    "start_time": "2022-04-08T11:22:56.827Z"
   },
   {
    "duration": 2,
    "start_time": "2022-04-08T11:24:31.669Z"
   },
   {
    "duration": 3,
    "start_time": "2022-04-08T11:27:24.568Z"
   },
   {
    "duration": 12,
    "start_time": "2022-04-08T11:30:00.422Z"
   },
   {
    "duration": 6,
    "start_time": "2022-04-08T11:30:08.879Z"
   },
   {
    "duration": 14,
    "start_time": "2022-04-08T11:30:09.598Z"
   },
   {
    "duration": 12,
    "start_time": "2022-04-08T11:31:11.558Z"
   },
   {
    "duration": 3,
    "start_time": "2022-04-08T11:34:28.048Z"
   },
   {
    "duration": 18,
    "start_time": "2022-04-08T11:34:28.053Z"
   },
   {
    "duration": 8,
    "start_time": "2022-04-08T11:34:28.072Z"
   },
   {
    "duration": 54,
    "start_time": "2022-04-08T11:34:28.083Z"
   },
   {
    "duration": 4,
    "start_time": "2022-04-08T11:34:28.139Z"
   },
   {
    "duration": 9,
    "start_time": "2022-04-08T11:34:28.145Z"
   },
   {
    "duration": 35,
    "start_time": "2022-04-08T11:34:28.155Z"
   },
   {
    "duration": 10,
    "start_time": "2022-04-08T11:34:28.192Z"
   },
   {
    "duration": 18,
    "start_time": "2022-04-08T11:34:28.204Z"
   },
   {
    "duration": 7,
    "start_time": "2022-04-08T11:34:28.282Z"
   },
   {
    "duration": 95,
    "start_time": "2022-04-08T11:34:28.291Z"
   },
   {
    "duration": 7,
    "start_time": "2022-04-08T11:34:28.388Z"
   },
   {
    "duration": 5,
    "start_time": "2022-04-08T11:34:28.397Z"
   },
   {
    "duration": 3,
    "start_time": "2022-04-08T11:34:41.446Z"
   },
   {
    "duration": 18,
    "start_time": "2022-04-08T11:34:41.451Z"
   },
   {
    "duration": 8,
    "start_time": "2022-04-08T11:34:41.471Z"
   },
   {
    "duration": 38,
    "start_time": "2022-04-08T11:34:41.480Z"
   },
   {
    "duration": 4,
    "start_time": "2022-04-08T11:34:41.520Z"
   },
   {
    "duration": 8,
    "start_time": "2022-04-08T11:34:41.525Z"
   },
   {
    "duration": 6,
    "start_time": "2022-04-08T11:34:41.534Z"
   },
   {
    "duration": 4,
    "start_time": "2022-04-08T11:34:41.542Z"
   },
   {
    "duration": 47,
    "start_time": "2022-04-08T11:34:41.548Z"
   },
   {
    "duration": 3,
    "start_time": "2022-04-08T11:34:41.597Z"
   },
   {
    "duration": 10,
    "start_time": "2022-04-08T11:34:41.682Z"
   },
   {
    "duration": 7,
    "start_time": "2022-04-08T11:34:41.695Z"
   },
   {
    "duration": 76,
    "start_time": "2022-04-08T11:34:41.705Z"
   },
   {
    "duration": 3,
    "start_time": "2022-04-08T11:35:06.079Z"
   },
   {
    "duration": 22,
    "start_time": "2022-04-08T11:35:06.084Z"
   },
   {
    "duration": 8,
    "start_time": "2022-04-08T11:35:06.108Z"
   },
   {
    "duration": 37,
    "start_time": "2022-04-08T11:35:06.119Z"
   },
   {
    "duration": 6,
    "start_time": "2022-04-08T11:35:06.181Z"
   },
   {
    "duration": 5,
    "start_time": "2022-04-08T11:35:06.189Z"
   },
   {
    "duration": 20,
    "start_time": "2022-04-08T11:35:06.195Z"
   },
   {
    "duration": 7,
    "start_time": "2022-04-08T11:35:06.217Z"
   },
   {
    "duration": 3,
    "start_time": "2022-04-08T11:35:06.227Z"
   },
   {
    "duration": 50,
    "start_time": "2022-04-08T11:35:06.232Z"
   },
   {
    "duration": 11,
    "start_time": "2022-04-08T11:35:06.284Z"
   },
   {
    "duration": 92,
    "start_time": "2022-04-08T11:35:06.297Z"
   },
   {
    "duration": 4,
    "start_time": "2022-04-08T11:35:06.391Z"
   },
   {
    "duration": 3,
    "start_time": "2022-04-08T11:35:21.763Z"
   },
   {
    "duration": 23,
    "start_time": "2022-04-08T11:35:21.769Z"
   },
   {
    "duration": 10,
    "start_time": "2022-04-08T11:35:21.794Z"
   },
   {
    "duration": 37,
    "start_time": "2022-04-08T11:35:21.805Z"
   },
   {
    "duration": 2,
    "start_time": "2022-04-08T11:35:21.844Z"
   },
   {
    "duration": 35,
    "start_time": "2022-04-08T11:35:21.847Z"
   },
   {
    "duration": 13,
    "start_time": "2022-04-08T11:35:21.883Z"
   },
   {
    "duration": 10,
    "start_time": "2022-04-08T11:35:21.898Z"
   },
   {
    "duration": 6,
    "start_time": "2022-04-08T11:35:21.909Z"
   },
   {
    "duration": 68,
    "start_time": "2022-04-08T11:35:21.917Z"
   },
   {
    "duration": 94,
    "start_time": "2022-04-08T11:35:21.987Z"
   },
   {
    "duration": 6,
    "start_time": "2022-04-08T11:35:22.083Z"
   },
   {
    "duration": 4,
    "start_time": "2022-04-08T11:35:22.092Z"
   },
   {
    "duration": 4,
    "start_time": "2022-04-08T11:35:41.166Z"
   },
   {
    "duration": 22,
    "start_time": "2022-04-08T11:35:41.171Z"
   },
   {
    "duration": 7,
    "start_time": "2022-04-08T11:35:41.195Z"
   },
   {
    "duration": 34,
    "start_time": "2022-04-08T11:35:41.204Z"
   },
   {
    "duration": 4,
    "start_time": "2022-04-08T11:35:41.240Z"
   },
   {
    "duration": 8,
    "start_time": "2022-04-08T11:35:41.246Z"
   },
   {
    "duration": 26,
    "start_time": "2022-04-08T11:35:41.256Z"
   },
   {
    "duration": 4,
    "start_time": "2022-04-08T11:35:41.284Z"
   },
   {
    "duration": 4,
    "start_time": "2022-04-08T11:35:41.290Z"
   },
   {
    "duration": 18,
    "start_time": "2022-04-08T11:35:41.295Z"
   },
   {
    "duration": 75,
    "start_time": "2022-04-08T11:35:41.315Z"
   },
   {
    "duration": 9,
    "start_time": "2022-04-08T11:35:41.392Z"
   },
   {
    "duration": 4,
    "start_time": "2022-04-08T11:35:41.483Z"
   },
   {
    "duration": 3,
    "start_time": "2022-04-08T11:37:12.671Z"
   },
   {
    "duration": 4,
    "start_time": "2022-04-08T11:37:14.785Z"
   },
   {
    "duration": 22,
    "start_time": "2022-04-08T11:37:14.791Z"
   },
   {
    "duration": 11,
    "start_time": "2022-04-08T11:37:14.815Z"
   },
   {
    "duration": 59,
    "start_time": "2022-04-08T11:37:14.828Z"
   },
   {
    "duration": 2,
    "start_time": "2022-04-08T11:37:14.889Z"
   },
   {
    "duration": 8,
    "start_time": "2022-04-08T11:37:14.893Z"
   },
   {
    "duration": 14,
    "start_time": "2022-04-08T11:37:14.902Z"
   },
   {
    "duration": 8,
    "start_time": "2022-04-08T11:37:14.917Z"
   },
   {
    "duration": 4,
    "start_time": "2022-04-08T11:37:14.927Z"
   },
   {
    "duration": 52,
    "start_time": "2022-04-08T11:37:14.933Z"
   },
   {
    "duration": 10,
    "start_time": "2022-04-08T11:37:14.987Z"
   },
   {
    "duration": 84,
    "start_time": "2022-04-08T11:37:15.000Z"
   },
   {
    "duration": 7,
    "start_time": "2022-04-08T11:37:15.085Z"
   },
   {
    "duration": 2,
    "start_time": "2022-04-08T11:37:30.037Z"
   },
   {
    "duration": 32,
    "start_time": "2022-04-08T11:37:30.042Z"
   },
   {
    "duration": 8,
    "start_time": "2022-04-08T11:37:30.075Z"
   },
   {
    "duration": 35,
    "start_time": "2022-04-08T11:37:30.084Z"
   },
   {
    "duration": 2,
    "start_time": "2022-04-08T11:37:30.120Z"
   },
   {
    "duration": 9,
    "start_time": "2022-04-08T11:37:30.124Z"
   },
   {
    "duration": 8,
    "start_time": "2022-04-08T11:37:30.135Z"
   },
   {
    "duration": 7,
    "start_time": "2022-04-08T11:37:30.145Z"
   },
   {
    "duration": 28,
    "start_time": "2022-04-08T11:37:30.154Z"
   },
   {
    "duration": 24,
    "start_time": "2022-04-08T11:37:30.184Z"
   },
   {
    "duration": 77,
    "start_time": "2022-04-08T11:37:30.210Z"
   },
   {
    "duration": 92,
    "start_time": "2022-04-08T11:37:30.291Z"
   },
   {
    "duration": 4,
    "start_time": "2022-04-08T11:37:30.385Z"
   },
   {
    "duration": 3,
    "start_time": "2022-04-08T11:37:42.398Z"
   },
   {
    "duration": 19,
    "start_time": "2022-04-08T11:37:42.402Z"
   },
   {
    "duration": 7,
    "start_time": "2022-04-08T11:37:42.423Z"
   },
   {
    "duration": 34,
    "start_time": "2022-04-08T11:37:42.432Z"
   },
   {
    "duration": 13,
    "start_time": "2022-04-08T11:37:42.468Z"
   },
   {
    "duration": 3,
    "start_time": "2022-04-08T11:37:42.482Z"
   },
   {
    "duration": 8,
    "start_time": "2022-04-08T11:37:42.487Z"
   },
   {
    "duration": 5,
    "start_time": "2022-04-08T11:37:42.497Z"
   },
   {
    "duration": 5,
    "start_time": "2022-04-08T11:37:42.503Z"
   },
   {
    "duration": 15,
    "start_time": "2022-04-08T11:37:42.509Z"
   },
   {
    "duration": 61,
    "start_time": "2022-04-08T11:37:42.525Z"
   },
   {
    "duration": 5,
    "start_time": "2022-04-08T11:37:42.589Z"
   },
   {
    "duration": 10,
    "start_time": "2022-04-08T11:37:42.596Z"
   },
   {
    "duration": 3,
    "start_time": "2022-04-08T11:38:08.298Z"
   },
   {
    "duration": 19,
    "start_time": "2022-04-08T11:38:08.302Z"
   },
   {
    "duration": 8,
    "start_time": "2022-04-08T11:38:08.322Z"
   },
   {
    "duration": 34,
    "start_time": "2022-04-08T11:38:08.331Z"
   },
   {
    "duration": 2,
    "start_time": "2022-04-08T11:38:08.367Z"
   },
   {
    "duration": 11,
    "start_time": "2022-04-08T11:38:08.370Z"
   },
   {
    "duration": 5,
    "start_time": "2022-04-08T11:38:08.382Z"
   },
   {
    "duration": 8,
    "start_time": "2022-04-08T11:38:08.388Z"
   },
   {
    "duration": 6,
    "start_time": "2022-04-08T11:38:08.397Z"
   },
   {
    "duration": 12,
    "start_time": "2022-04-08T11:38:08.404Z"
   },
   {
    "duration": 67,
    "start_time": "2022-04-08T11:38:08.418Z"
   },
   {
    "duration": 5,
    "start_time": "2022-04-08T11:38:08.487Z"
   },
   {
    "duration": 5,
    "start_time": "2022-04-08T11:38:08.495Z"
   },
   {
    "duration": 3,
    "start_time": "2022-04-08T11:47:47.036Z"
   },
   {
    "duration": 20,
    "start_time": "2022-04-08T11:47:47.041Z"
   },
   {
    "duration": 8,
    "start_time": "2022-04-08T11:47:47.062Z"
   },
   {
    "duration": 37,
    "start_time": "2022-04-08T11:47:47.073Z"
   },
   {
    "duration": 3,
    "start_time": "2022-04-08T11:47:47.111Z"
   },
   {
    "duration": 7,
    "start_time": "2022-04-08T11:47:47.115Z"
   },
   {
    "duration": 10,
    "start_time": "2022-04-08T11:47:47.123Z"
   },
   {
    "duration": 7,
    "start_time": "2022-04-08T11:47:47.135Z"
   },
   {
    "duration": 7,
    "start_time": "2022-04-08T11:47:47.144Z"
   },
   {
    "duration": 33,
    "start_time": "2022-04-08T11:47:47.152Z"
   },
   {
    "duration": 10,
    "start_time": "2022-04-08T11:47:47.188Z"
   },
   {
    "duration": 81,
    "start_time": "2022-04-08T11:47:47.200Z"
   },
   {
    "duration": 6,
    "start_time": "2022-04-08T11:47:47.283Z"
   },
   {
    "duration": 4,
    "start_time": "2022-04-08T11:48:10.153Z"
   },
   {
    "duration": 40,
    "start_time": "2022-04-08T11:48:10.160Z"
   },
   {
    "duration": 9,
    "start_time": "2022-04-08T11:48:10.202Z"
   },
   {
    "duration": 42,
    "start_time": "2022-04-08T11:48:10.213Z"
   },
   {
    "duration": 2,
    "start_time": "2022-04-08T11:48:10.257Z"
   },
   {
    "duration": 20,
    "start_time": "2022-04-08T11:48:10.261Z"
   },
   {
    "duration": 6,
    "start_time": "2022-04-08T11:48:10.283Z"
   },
   {
    "duration": 5,
    "start_time": "2022-04-08T11:48:10.291Z"
   },
   {
    "duration": 5,
    "start_time": "2022-04-08T11:48:10.297Z"
   },
   {
    "duration": 15,
    "start_time": "2022-04-08T11:48:10.303Z"
   },
   {
    "duration": 67,
    "start_time": "2022-04-08T11:48:10.319Z"
   },
   {
    "duration": 5,
    "start_time": "2022-04-08T11:48:10.387Z"
   },
   {
    "duration": 5,
    "start_time": "2022-04-08T11:48:10.393Z"
   },
   {
    "duration": 1263,
    "start_time": "2022-04-08T18:25:38.055Z"
   },
   {
    "duration": 44,
    "start_time": "2022-04-08T18:25:39.320Z"
   },
   {
    "duration": 17,
    "start_time": "2022-04-08T18:25:39.366Z"
   },
   {
    "duration": 41,
    "start_time": "2022-04-08T18:25:39.385Z"
   },
   {
    "duration": 3,
    "start_time": "2022-04-08T18:28:30.811Z"
   },
   {
    "duration": 4,
    "start_time": "2022-04-08T18:28:31.235Z"
   },
   {
    "duration": 6,
    "start_time": "2022-04-08T18:28:31.549Z"
   },
   {
    "duration": 5,
    "start_time": "2022-04-08T18:28:31.747Z"
   },
   {
    "duration": 4,
    "start_time": "2022-04-08T18:28:31.961Z"
   },
   {
    "duration": 18,
    "start_time": "2022-04-08T18:28:32.199Z"
   },
   {
    "duration": 10,
    "start_time": "2022-04-08T18:28:42.733Z"
   },
   {
    "duration": 6,
    "start_time": "2022-04-08T18:28:43.151Z"
   },
   {
    "duration": 4,
    "start_time": "2022-04-08T18:28:43.532Z"
   },
   {
    "duration": 123,
    "start_time": "2022-04-11T08:21:14.379Z"
   },
   {
    "duration": 214,
    "start_time": "2022-04-11T08:21:31.797Z"
   },
   {
    "duration": 1288,
    "start_time": "2022-04-11T08:21:35.220Z"
   },
   {
    "duration": 17,
    "start_time": "2022-04-11T08:21:36.510Z"
   },
   {
    "duration": 16,
    "start_time": "2022-04-11T08:21:36.528Z"
   },
   {
    "duration": 48,
    "start_time": "2022-04-11T08:21:36.546Z"
   },
   {
    "duration": 2,
    "start_time": "2022-04-11T08:21:36.596Z"
   },
   {
    "duration": 31,
    "start_time": "2022-04-11T08:21:36.599Z"
   },
   {
    "duration": 20,
    "start_time": "2022-04-11T08:21:36.632Z"
   },
   {
    "duration": 14,
    "start_time": "2022-04-11T08:21:36.654Z"
   },
   {
    "duration": 7,
    "start_time": "2022-04-11T08:21:36.670Z"
   },
   {
    "duration": 21,
    "start_time": "2022-04-11T08:21:36.680Z"
   },
   {
    "duration": 169,
    "start_time": "2022-04-11T08:21:36.702Z"
   },
   {
    "duration": 0,
    "start_time": "2022-04-11T08:21:36.873Z"
   },
   {
    "duration": 0,
    "start_time": "2022-04-11T08:21:36.874Z"
   },
   {
    "duration": 0,
    "start_time": "2022-04-11T08:21:36.875Z"
   },
   {
    "duration": 3,
    "start_time": "2022-04-11T08:22:09.109Z"
   },
   {
    "duration": 15,
    "start_time": "2022-04-11T08:22:09.113Z"
   },
   {
    "duration": 8,
    "start_time": "2022-04-11T08:22:09.129Z"
   },
   {
    "duration": 35,
    "start_time": "2022-04-11T08:22:09.139Z"
   },
   {
    "duration": 2,
    "start_time": "2022-04-11T08:22:09.176Z"
   },
   {
    "duration": 6,
    "start_time": "2022-04-11T08:22:09.180Z"
   },
   {
    "duration": 7,
    "start_time": "2022-04-11T08:22:09.187Z"
   },
   {
    "duration": 4,
    "start_time": "2022-04-11T08:22:09.196Z"
   },
   {
    "duration": 4,
    "start_time": "2022-04-11T08:22:09.203Z"
   },
   {
    "duration": 13,
    "start_time": "2022-04-11T08:22:09.208Z"
   },
   {
    "duration": 54,
    "start_time": "2022-04-11T08:22:09.223Z"
   },
   {
    "duration": 6,
    "start_time": "2022-04-11T08:22:09.279Z"
   },
   {
    "duration": 3,
    "start_time": "2022-04-11T08:22:09.287Z"
   },
   {
    "duration": 205,
    "start_time": "2022-04-11T08:24:31.282Z"
   },
   {
    "duration": 1195,
    "start_time": "2022-04-11T08:24:40.353Z"
   },
   {
    "duration": 16,
    "start_time": "2022-04-11T08:24:41.550Z"
   },
   {
    "duration": 13,
    "start_time": "2022-04-11T08:24:41.567Z"
   },
   {
    "duration": 31,
    "start_time": "2022-04-11T08:24:41.582Z"
   },
   {
    "duration": 2,
    "start_time": "2022-04-11T08:24:41.614Z"
   },
   {
    "duration": 6,
    "start_time": "2022-04-11T08:24:41.617Z"
   },
   {
    "duration": 9,
    "start_time": "2022-04-11T08:24:41.624Z"
   },
   {
    "duration": 6,
    "start_time": "2022-04-11T08:24:41.635Z"
   },
   {
    "duration": 28,
    "start_time": "2022-04-11T08:24:41.642Z"
   },
   {
    "duration": 11,
    "start_time": "2022-04-11T08:24:41.673Z"
   },
   {
    "duration": 11,
    "start_time": "2022-04-11T08:24:41.686Z"
   },
   {
    "duration": 75,
    "start_time": "2022-04-11T08:24:41.699Z"
   },
   {
    "duration": 3,
    "start_time": "2022-04-11T08:24:41.776Z"
   },
   {
    "duration": 135,
    "start_time": "2022-04-11T08:24:41.780Z"
   },
   {
    "duration": 40,
    "start_time": "2022-04-11T09:38:10.417Z"
   },
   {
    "duration": 37,
    "start_time": "2022-04-11T09:38:35.738Z"
   },
   {
    "duration": 41,
    "start_time": "2022-04-11T09:39:00.458Z"
   },
   {
    "duration": 123,
    "start_time": "2022-04-11T09:40:28.977Z"
   },
   {
    "duration": 36,
    "start_time": "2022-04-11T09:40:38.601Z"
   },
   {
    "duration": 39,
    "start_time": "2022-04-11T09:41:01.865Z"
   },
   {
    "duration": 36,
    "start_time": "2022-04-11T09:41:11.207Z"
   },
   {
    "duration": 35,
    "start_time": "2022-04-11T09:41:30.895Z"
   },
   {
    "duration": 36,
    "start_time": "2022-04-11T09:41:44.120Z"
   },
   {
    "duration": 36,
    "start_time": "2022-04-11T09:41:58.641Z"
   }
  ],
  "kernelspec": {
   "display_name": "Python 3 (ipykernel)",
   "language": "python",
   "name": "python3"
  },
  "language_info": {
   "codemirror_mode": {
    "name": "ipython",
    "version": 3
   },
   "file_extension": ".py",
   "mimetype": "text/x-python",
   "name": "python",
   "nbconvert_exporter": "python",
   "pygments_lexer": "ipython3",
   "version": "3.9.5"
  },
  "toc": {
   "base_numbering": 1,
   "nav_menu": {},
   "number_sections": true,
   "sideBar": true,
   "skip_h1_title": true,
   "title_cell": "Содержание",
   "title_sidebar": "Contents",
   "toc_cell": true,
   "toc_position": {},
   "toc_section_display": true,
   "toc_window_display": true
  }
 },
 "nbformat": 4,
 "nbformat_minor": 2
}
