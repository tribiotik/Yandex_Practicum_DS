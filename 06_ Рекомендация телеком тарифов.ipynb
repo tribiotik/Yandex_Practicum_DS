{
 "cells": [
  {
   "cell_type": "markdown",
   "metadata": {},
   "source": [
    "Привет, меня зовут Люман Аблаев. Сегодня я проверю твой проект.\n",
    "<br> Дальнейшее общение будет происходить на \"ты\" если это не вызывает никаких проблем.\n",
    "<br> Желательно реагировать на каждый мой комментарий ('исправил', 'не понятно как исправить ошибку', ...)\n",
    "<br> Пожалуйста, не удаляй комментарии ревьюера, так как они повышают качество повторного ревью.\n",
    "\n",
    "Комментарии будут в <font color='green'>зеленой</font>, <font color='blue'>синей</font> или <font color='red'>красной</font> рамках:\n",
    "\n",
    "<div class=\"alert alert-block alert-success\">\n",
    "<b>Успех:</b> Если все сделано отлично\n",
    "</div>\n",
    "\n",
    "<div class=\"alert alert-block alert-info\">\n",
    "<b>Совет: </b> Если можно немного улучшить\n",
    "</div>\n",
    "\n",
    "<div class=\"alert alert-block alert-danger\">\n",
    "<b>Ошибка:</b> Если требуются исправления. Работа не может быть принята с красными комментариями.\n",
    "</div>\n",
    "\n",
    "\n",
    "<font color='orange' style='font-size:24px; font-weight:bold'>Общее впечатление</font>\n",
    "* Спасибо за то, что прислал такую хорошую работу, мне она очень понравилась\n",
    "- Я оставил некоторые советы, надеюсь они будут полезными или интересными.\n",
    "* Радует, что код написан довольно чисто, читабельно и аккуратно. Приятно проверять такие работы.\n",
    "* Тебе удалось успешно справиться с текущей задачей. Поздравляю!\n",
    "* Но есть маленький недочет - отсутствие итогового вывода и я думаю у тебя не займет много времени дополнить свою работу.\n",
    "\n",
    "<font color='orange' style='font-size:24px; font-weight:bold'>Общее впечатление[2]</font>\n",
    "* Спасибо за оперативность.\n",
    "- Недочет исправлен - работа полностью корректна.\n",
    "- Удачи в дальнейшем обучении."
   ]
  },
  {
   "cell_type": "markdown",
   "metadata": {},
   "source": [
    "# Рекомендация тарифов"
   ]
  },
  {
   "cell_type": "markdown",
   "metadata": {},
   "source": [
    "В вашем распоряжении данные о поведении клиентов, которые уже перешли на эти тарифы (из проекта курса «Статистический анализ данных»). Нужно построить модель для задачи классификации, которая выберет подходящий тариф. Предобработка данных не понадобится — вы её уже сделали.\n",
    "\n",
    "Постройте модель с максимально большим значением *accuracy*. Чтобы сдать проект успешно, нужно довести долю правильных ответов по крайней мере до 0.75. Проверьте *accuracy* на тестовой выборке самостоятельно."
   ]
  },
  {
   "cell_type": "markdown",
   "metadata": {},
   "source": [
    "<div class=\"alert alert-block alert-success\">\n",
    "<b>Успех:</b> Спасибо за описание проекта\n",
    "</div>\n"
   ]
  },
  {
   "cell_type": "markdown",
   "metadata": {},
   "source": [
    "## Откройте и изучите файл"
   ]
  },
  {
   "cell_type": "markdown",
   "metadata": {},
   "source": [
    "<div class=\"alert alert-block alert-success\">\n",
    "<b>Успех:</b> Отлично, что все импорты собраны в верхней части ноутбука! Если у того, кто будет запускать твой ноутбук будут отсутствовать некоторые библиотеки, то он это увидит сразу, а не в процессе!\n",
    "  \n",
    "</div>"
   ]
  },
  {
   "cell_type": "code",
   "execution_count": 39,
   "metadata": {},
   "outputs": [
    {
     "name": "stdout",
     "output_type": "stream",
     "text": [
      "<class 'pandas.core.frame.DataFrame'>\n",
      "RangeIndex: 3214 entries, 0 to 3213\n",
      "Data columns (total 5 columns):\n",
      "calls       3214 non-null float64\n",
      "minutes     3214 non-null float64\n",
      "messages    3214 non-null float64\n",
      "mb_used     3214 non-null float64\n",
      "is_ultra    3214 non-null int64\n",
      "dtypes: float64(4), int64(1)\n",
      "memory usage: 125.7 KB\n"
     ]
    }
   ],
   "source": [
    "import pandas as pd\n",
    "from pathlib import Path\n",
    "from sklearn.metrics import accuracy_score\n",
    "from sklearn.model_selection import train_test_split\n",
    "\n",
    "from sklearn.tree import DecisionTreeClassifier\n",
    "from sklearn.linear_model import LogisticRegression\n",
    "from sklearn.ensemble import RandomForestClassifier\n",
    "from sklearn.dummy import DummyClassifier\n",
    "from sklearn.model_selection import GridSearchCV\n",
    "\n",
    "import seaborn as sbn \n",
    "\n",
    "df = pd.read_csv('/datasets/users_behavior.csv')\n",
    "df.head(5)\n",
    "df.info()"
   ]
  },
  {
   "cell_type": "markdown",
   "metadata": {},
   "source": [
    "<div class=\"alert alert-info\">\n",
    "    \n",
    "<b>Совет</b>\n",
    "Также важно изучить корреляции в данных. Так мы можем оценить взаимосвязи в данных и влияние параметров на целевой признак. Рекомендую посмотреть метод `sns.pairplot` с параметром hue, в который мы передаем целевой признак. Будет здорово, если ты сможешь это реализовать в текущем или последующих проектах. \n"
   ]
  },
  {
   "cell_type": "code",
   "execution_count": 40,
   "metadata": {},
   "outputs": [],
   "source": [
    "#sbn.pairplot(df, hue = df['is_ultra'], kind = 'scatter')  \n",
    "    \n"
   ]
  },
  {
   "cell_type": "markdown",
   "metadata": {},
   "source": [
    "## Разбейте данные на выборки"
   ]
  },
  {
   "cell_type": "code",
   "execution_count": 50,
   "metadata": {},
   "outputs": [
    {
     "name": "stdout",
     "output_type": "stream",
     "text": [
      "<class 'pandas.core.frame.DataFrame'>\n",
      "Int64Index: 1607 entries, 2731 to 482\n",
      "Data columns (total 5 columns):\n",
      "calls       1607 non-null float64\n",
      "minutes     1607 non-null float64\n",
      "messages    1607 non-null float64\n",
      "mb_used     1607 non-null float64\n",
      "is_ultra    1607 non-null int64\n",
      "dtypes: float64(4), int64(1)\n",
      "memory usage: 75.3 KB\n"
     ]
    },
    {
     "data": {
      "text/plain": [
       "None"
      ]
     },
     "metadata": {},
     "output_type": "display_data"
    },
    {
     "name": "stdout",
     "output_type": "stream",
     "text": [
      "<class 'pandas.core.frame.DataFrame'>\n",
      "Int64Index: 803 entries, 274 to 3197\n",
      "Data columns (total 5 columns):\n",
      "calls       803 non-null float64\n",
      "minutes     803 non-null float64\n",
      "messages    803 non-null float64\n",
      "mb_used     803 non-null float64\n",
      "is_ultra    803 non-null int64\n",
      "dtypes: float64(4), int64(1)\n",
      "memory usage: 37.6 KB\n"
     ]
    },
    {
     "data": {
      "text/plain": [
       "None"
      ]
     },
     "metadata": {},
     "output_type": "display_data"
    },
    {
     "name": "stdout",
     "output_type": "stream",
     "text": [
      "<class 'pandas.core.frame.DataFrame'>\n",
      "Int64Index: 804 entries, 2499 to 677\n",
      "Data columns (total 5 columns):\n",
      "calls       804 non-null float64\n",
      "minutes     804 non-null float64\n",
      "messages    804 non-null float64\n",
      "mb_used     804 non-null float64\n",
      "is_ultra    804 non-null int64\n",
      "dtypes: float64(4), int64(1)\n",
      "memory usage: 37.7 KB\n"
     ]
    }
   ],
   "source": [
    "df_train, df_valid = train_test_split(df, test_size=0.5, random_state=12345)\n",
    "df_valid, df_test = train_test_split(df_valid, test_size=0.5, random_state=12345)\n",
    "display(df_train.info())\n",
    "display(df_valid.info())\n",
    "df_test.info()"
   ]
  },
  {
   "cell_type": "markdown",
   "metadata": {},
   "source": [
    "<div class=\"alert alert-block alert-success\">\n",
    "    \n",
    "<b>Успех:</b> С разбиением все ок.\n",
    "  </div>  \n",
    "<div class=\"alert alert-block alert-info\">\n",
    "    \n",
    "<b>Совет:</b> Не забывай проверять размеры полученных выборки,  это иной раз может предостеречь тебя от глупых ошибок.\n",
    "  </div>  \n"
   ]
  },
  {
   "cell_type": "markdown",
   "metadata": {},
   "source": [
    "<div class=\"alert alert-block alert-info\">\n",
    "    \n",
    "<b>Комментарий студента:</b> Не нашел способа лучше чем вызвать инфо. С размером выборок все хорошо. Может быть есть сбособ лучше?\n",
    "  </div>  "
   ]
  },
  {
   "cell_type": "markdown",
   "metadata": {},
   "source": [
    "<div class=\"alert alert-block alert-success\">\n",
    "<b>Ответ[2]:</b> Нет тут достаточно info, или shape\n",
    "</div>"
   ]
  },
  {
   "cell_type": "markdown",
   "metadata": {},
   "source": [
    "## Исследуйте модели"
   ]
  },
  {
   "cell_type": "code",
   "execution_count": 42,
   "metadata": {},
   "outputs": [],
   "source": [
    "#создаю переменные для признаков и целевого признака\n",
    "features_train = df_train.drop(['is_ultra'], axis=1)\n",
    "target_train = df_train['is_ultra']\n",
    "\n",
    "features_valid = df_valid.drop(['is_ultra'], axis=1)\n",
    "target_valid = df_valid['is_ultra']\n",
    "\n",
    "features_test = df_test.drop(['is_ultra'], axis=1)\n",
    "target_test = df_test['is_ultra']"
   ]
  },
  {
   "cell_type": "markdown",
   "metadata": {},
   "source": [
    "### Модель Decision Tree (Дерево решений)"
   ]
  },
  {
   "cell_type": "code",
   "execution_count": 43,
   "metadata": {},
   "outputs": [
    {
     "name": "stdout",
     "output_type": "stream",
     "text": [
      "max_depth = 4 : 0.7820672478206725\n",
      "max_depth = 5 : 0.7820672478206725\n",
      "max_depth = 6 : 0.788293897882939\n",
      "max_depth = 7 : 0.788293897882939\n",
      "max_depth = 8 : 0.7858032378580324\n",
      "max_depth = 9 : 0.7795765877957659\n",
      "max_depth = 10 : 0.7808219178082192\n"
     ]
    }
   ],
   "source": [
    "# Цикл для выбора лучшего значения параметра max_depth\n",
    "for depth in range(4, 11,):\n",
    "    model = DecisionTreeClassifier(random_state=12345, max_depth=depth) \n",
    "    model.fit(features_train, target_train) \n",
    "    predictions_valid = model.predict(features_valid) \n",
    "    print(\"max_depth =\", depth, \": \", end='')\n",
    "    print(accuracy_score(target_valid, predictions_valid))"
   ]
  },
  {
   "cell_type": "markdown",
   "metadata": {},
   "source": [
    "сперва сделал проверку на глубине дерева от 1 до 30 с шагом 3. По результатам лучший результат получился в диапазоне от 4 до 10. Перепроверил с новыми параметрами. Лучший результат вышел при max_depth = 6"
   ]
  },
  {
   "cell_type": "markdown",
   "metadata": {},
   "source": [
    "### Модель Random Forest (Случайный лес)"
   ]
  },
  {
   "cell_type": "code",
   "execution_count": 44,
   "metadata": {},
   "outputs": [
    {
     "name": "stdout",
     "output_type": "stream",
     "text": [
      "n_estimators = 80 : 0.7920298879202988\n",
      "n_estimators = 81 : 0.7907845579078456\n",
      "n_estimators = 82 : 0.7920298879202988\n",
      "n_estimators = 83 : 0.7907845579078456\n",
      "n_estimators = 84 : 0.7920298879202988\n",
      "n_estimators = 85 : 0.7907845579078456\n",
      "n_estimators = 86 : 0.7932752179327521\n",
      "n_estimators = 87 : 0.7920298879202988\n",
      "n_estimators = 88 : 0.7920298879202988\n",
      "n_estimators = 89 : 0.7907845579078456\n",
      "n_estimators = 90 : 0.7907845579078456\n",
      "n_estimators = 91 : 0.7920298879202988\n",
      "n_estimators = 92 : 0.7932752179327521\n",
      "n_estimators = 93 : 0.7920298879202988\n",
      "n_estimators = 94 : 0.7932752179327521\n",
      "n_estimators = 95 : 0.7920298879202988\n",
      "n_estimators = 96 : 0.7932752179327521\n",
      "n_estimators = 97 : 0.7907845579078456\n",
      "n_estimators = 98 : 0.7907845579078456\n",
      "n_estimators = 99 : 0.7907845579078456\n",
      "n_estimators = 100 : 0.7895392278953923\n"
     ]
    }
   ],
   "source": [
    "# Цикл для выбора лучшего значения параметра n_estimators\n",
    "for est in range(80, 101):\n",
    "    model = RandomForestClassifier(random_state=12345, n_estimators= est, max_depth=6) \n",
    "    model.fit(features_train, target_train) \n",
    "    predictions_valid = model.predict(features_valid)\n",
    "    print(\"n_estimators =\", est, \": \", end='')\n",
    "    print(accuracy_score(target_valid, predictions_valid))\n"
   ]
  },
  {
   "cell_type": "markdown",
   "metadata": {},
   "source": [
    "Сперва прогнал выборку с количеством деревьев от 1 до 300 с шагом 10 и сделал вывод, что оптимально прогнать выборку от 80 до 100 с шагом 1. Так же  для достижения наилучшего результата установил max_depth=6 из предыдущего иследования. Лучший результат получился при n_estimators= 86"
   ]
  },
  {
   "cell_type": "markdown",
   "metadata": {},
   "source": [
    "### Модель Logistic Regression (Логическая регрессия)"
   ]
  },
  {
   "cell_type": "code",
   "execution_count": 45,
   "metadata": {},
   "outputs": [
    {
     "name": "stdout",
     "output_type": "stream",
     "text": [
      "solvers = newton-cg : 0.7471980074719801\n",
      "solvers = lbfgs : 0.7471980074719801\n",
      "solvers = liblinear : 0.7484433374844334\n",
      "solvers = sag : 0.7110834371108343\n",
      "solvers = saga : 0.709838107098381\n"
     ]
    },
    {
     "name": "stderr",
     "output_type": "stream",
     "text": [
      "/opt/conda/lib/python3.7/site-packages/sklearn/linear_model/sag.py:337: ConvergenceWarning: The max_iter was reached which means the coef_ did not converge\n",
      "  \"the coef_ did not converge\", ConvergenceWarning)\n",
      "/opt/conda/lib/python3.7/site-packages/sklearn/linear_model/sag.py:337: ConvergenceWarning: The max_iter was reached which means the coef_ did not converge\n",
      "  \"the coef_ did not converge\", ConvergenceWarning)\n"
     ]
    }
   ],
   "source": [
    "# Цикл для выбора лучшего значения параметра solver\n",
    "solvers = ['newton-cg', 'lbfgs', 'liblinear', 'sag', 'saga']\n",
    "for i in solvers:\n",
    "    model = LogisticRegression(solver= i, random_state=12345)\n",
    "    model.fit(features_train, target_train) \n",
    "    predictions_valid = model.predict(features_valid)\n",
    "    print(\"solvers =\", i, \": \", end='')\n",
    "    print(accuracy_score(target_valid, predictions_valid))"
   ]
  },
  {
   "cell_type": "markdown",
   "metadata": {},
   "source": [
    "Лучший результат показан при solvers = liblinear. Не смог разобраться что за предупреждение выдает."
   ]
  },
  {
   "cell_type": "markdown",
   "metadata": {},
   "source": [
    "\n",
    "<div class=\"alert alert-block alert-info\">\n",
    "\n",
    "<b>Совет:</b> При каком-то из solver-ов,  смог алгоритм оптимизации не сошелся, это не критично, но говорит о том, что можно результат может быть посредственный, можно попробовать решить путем масштабирования или увеличив параметр `x_iter`\n",
    "</div>"
   ]
  },
  {
   "cell_type": "markdown",
   "metadata": {},
   "source": [
    "<div class=\"alert alert-block alert-info\">\n",
    "    \n",
    "<b>Комментарий студента:</b> Что значит путем маштабирования? Нужно уменьшить выборки?\n",
    "  </div>  "
   ]
  },
  {
   "cell_type": "markdown",
   "metadata": {},
   "source": [
    "<div class=\"alert alert-block alert-success\">\n",
    "    \n",
    "    \n",
    "<b>Ответ[2]:</b> Изучите в дальнейших спринтах, можешь сам почитать пока об этом https://www.machinelearningmastery.ru/scale-standardize-or-normalize-with-scikit-learn-6ccc7d176a02/\n",
    "</div> "
   ]
  },
  {
   "cell_type": "markdown",
   "metadata": {},
   "source": [
    "### Вывод\n",
    "Модели со следущими параметрами дали лучший результат среди других параметров:\n",
    "\n",
    "Decision Tree при max_depth = 6 accuracy = 0.788293897882939\n",
    "Random Forest при depth = 6 и n_estimators = 86 accuracy = 0.7932752179327521\n",
    "Logistic Regression при solver= liblinear accuracy = 0.7484433374844334"
   ]
  },
  {
   "cell_type": "markdown",
   "metadata": {},
   "source": [
    "<div class=\"alert alert-block alert-success\">\n",
    "\n",
    "<b>Успех:</b> Хорошо проделан шаг. Радует корректное использование валидационной выборки \n",
    "</div>\n",
    "<div class=\"alert alert-block alert-info\">\n",
    "\n",
    "<b>Совет:</b> Обрати также внимание на GridSearchCv и RandomizedSearchCV, эти инструменты могут быть удобными, когда большое количество параметров, уменьшает количество необходимых выборок, и делает код более лаконичным.\n",
    "</div>"
   ]
  },
  {
   "cell_type": "markdown",
   "metadata": {},
   "source": [
    "<div class=\"alert alert-block alert-info\">\n",
    "    \n",
    "<b>Комментарий студента:</b> Спасибо за наводку. Прикольный метод только очень долгий. Возьму на вооружение.\n",
    "  </div>  "
   ]
  },
  {
   "cell_type": "markdown",
   "metadata": {},
   "source": [
    "<div class=\"alert alert-block alert-success\">\n",
    "    \n",
    "    \n",
    "<b>Ответ[2]:</b> Randomized -  быстрее\n",
    "    \n",
    "</div> "
   ]
  },
  {
   "cell_type": "code",
   "execution_count": 54,
   "metadata": {},
   "outputs": [
    {
     "data": {
      "text/plain": [
       "{'max_depth': 8, 'n_estimators': 96}"
      ]
     },
     "execution_count": 54,
     "metadata": {},
     "output_type": "execute_result"
    }
   ],
   "source": [
    "# нахожу наилучшие параметры методом GridSearchCV\n",
    "clf = RandomForestClassifier()\n",
    "parametrs = { 'n_estimators': range (80, 100), 'max_depth': range (1,10)}\n",
    "\n",
    "grid = GridSearchCV(clf, parametrs, cv=5)\n",
    "grid.fit(features_train, target_train)\n",
    "grid.best_params_"
   ]
  },
  {
   "cell_type": "markdown",
   "metadata": {},
   "source": [
    "<div class=\"alert alert-block alert-info\">\n",
    "    \n",
    "<b>Комментарий студента:</b> А почему результаты отличаются от моих выводов?\n",
    "  </div>  "
   ]
  },
  {
   "cell_type": "markdown",
   "metadata": {},
   "source": [
    "<div class=\"alert alert-block alert-success\">\n",
    "    \n",
    "    \n",
    "<b>Ответ[2]:</b> Потому что здесь трейн внутри разбивается на трейн_вадидацию 5 раз, за счет чего метрики другие и оценка более стабильная и объективная\n",
    "</div> "
   ]
  },
  {
   "cell_type": "markdown",
   "metadata": {},
   "source": [
    "## Проверьте модель на тестовой выборке"
   ]
  },
  {
   "cell_type": "code",
   "execution_count": 47,
   "metadata": {},
   "outputs": [
    {
     "data": {
      "text/plain": [
       "0.8171641791044776"
      ]
     },
     "execution_count": 47,
     "metadata": {},
     "output_type": "execute_result"
    }
   ],
   "source": [
    "# Для проверки тестовой выборки применю модель лучше всего себя проявившую в иследовании\n",
    "model = RandomForestClassifier(max_depth=6, random_state=12345, n_estimators= 86)\n",
    "model.fit(features_train, target_train)\n",
    "predictions_test = model.predict(features_test)\n",
    "accuracy_score(target_test, predictions_test)"
   ]
  },
  {
   "cell_type": "markdown",
   "metadata": {},
   "source": [
    "Проверка на тестовой выборке показала результат выше заданного проектом значения(0,75)"
   ]
  },
  {
   "cell_type": "markdown",
   "metadata": {},
   "source": [
    "<div class=\"alert alert-block alert-success\">\n",
    "\n",
    "<b>Успех:</b> С тестированием тоже все в порядке, ты получил хорошее качество\n",
    "</div>\n",
    "<div class=\"alert alert-block alert-info\">\n",
    "\n",
    "<b>Совет:</b> Перед тестированием можно объединять валидационную и тренировочную выборку в одну обучающую, это может дать нам немного качества"
   ]
  },
  {
   "cell_type": "markdown",
   "metadata": {},
   "source": [
    "<div class=\"alert alert-block alert-info\">\n",
    "    \n",
    "<b>Комментарий студента:</b> Не совсем понял для чего это нужно делать. Ведь в начале специально датасет был поделен.\n",
    "  </div>  "
   ]
  },
  {
   "cell_type": "markdown",
   "metadata": {},
   "source": [
    "<div class=\"alert alert-block alert-success\">\n",
    "    \n",
    "    \n",
    "<b>Ответ[2]:</b> Он был поделен, чтобы настроить модели на валидационной выборке. А для итоговой оценки на тестовой выборке мы можем использовать остальные данные (тренировочную и валдиационную выборку)\n",
    "</div> "
   ]
  },
  {
   "cell_type": "markdown",
   "metadata": {},
   "source": [
    "## (бонус) Проверьте модели на адекватность"
   ]
  },
  {
   "cell_type": "code",
   "execution_count": 48,
   "metadata": {
    "scrolled": true
   },
   "outputs": [
    {
     "name": "stdout",
     "output_type": "stream",
     "text": [
      "0.709838107098381\n"
     ]
    }
   ],
   "source": [
    "model = DummyClassifier(strategy=\"most_frequent\", random_state = 0) \n",
    "model.fit(features_train, target_train) \n",
    "predictions_valid = model.predict(features_valid)\n",
    "print(accuracy_score(target_valid, predictions_valid))"
   ]
  },
  {
   "cell_type": "markdown",
   "metadata": {},
   "source": [
    "<div class=\"alert alert-block alert-success\">\n",
    "\n",
    "<b>Успех:</b> Задание выполнено корректно, лайк за DummyClassifier - была выбрана правильная стратегия\n",
    "</div>\n"
   ]
  },
  {
   "cell_type": "markdown",
   "metadata": {},
   "source": [
    "<div class=\"alert alert-block alert-danger\">\n",
    "\n",
    "<b>Ошибка:</b> Не забывай про итоговый вывод - это важная важная часть любого проекта и заказчик обратит сюда особое внимание, здесь важно описать, что было сделано, рассмотренно, использовано, какаие результаты были достигнуты и т.п. <br> Вывод также важно структурировать и выделять ключевые. моменты"
   ]
  },
  {
   "cell_type": "markdown",
   "metadata": {},
   "source": [
    "<div class=\"alert alert-block alert-info\">\n",
    "    \n",
    "<b>Комментарий студента:</b> Торопился и упустил этот момент. Все исправлено вывод написан\n",
    "  </div>  "
   ]
  },
  {
   "cell_type": "markdown",
   "metadata": {},
   "source": [
    "## Общий вывод"
   ]
  },
  {
   "cell_type": "markdown",
   "metadata": {},
   "source": [
    "1. Для работы были предоставленны данные оператора сотовой связи о поведении клиентов.\n",
    "2. Данный представленны в виде таблицы состоящей и 5 столбцов и 3214 строк.\n",
    "3. Предобработка данных не проводилась т.к. были предоставленны \"чистые данные\".\n",
    "4. Для проведения исследования данные были разбиты на 3 выборки. Обучающую, валидную и тестовую в соотношении 50% 25% 25%.\n",
    "5. Целевым признаком выбран столбец is_ultra.\n",
    "6. Иследование было проведено со следующими гиперпараметрами:\n",
    "       1. Модель Decision Tree (Дерево решений). сперва сделал проверку на глубине дерева от 1 до 30 с шагом 3. По результатам лучший результат получился в диапазоне от 4 до 10. Перепроверил с новыми параметрами. Лучший результат вышел при max_depth = 6\n",
    "       2. Модель Random Forest (Случайный лес). Сперва прогнал выборку с количеством деревьев от 1 до 300 с шагом 10 и сделал вывод, что оптимально прогнать выборку от 80 до 100 с шагом 1. Так же для достижения наилучшего результата установил max_depth=6 из предыдущего иследования. Лучший результат получился при n_estimators= 86\n",
    "       3. Модель Logistic Regression (Логическая регрессия). Лучший результат показан при solvers = liblinear.\n",
    "7. Модели со следущими параметрами дали лучший результат среди других параметров:\n",
    "       1. Decision Tree при max_depth = 6 accuracy = 0.788293897882939 \n",
    "       2. Random Forest при depth = 6 и n_estimators = 86 accuracy = 0.7932752179327521 \n",
    "       3. Logistic Regression при solver= liblinear accuracy = 0.7484433374844334\n",
    "Для обучения лучше использовать модель Random Forest с гиперпараметрами depth = 6 и n_estimators = 86 accuracy = 0.7932752179327521\n",
    "8. Проверка модели Random Forest, с лучшими гиперпараметрами, на тестовой выборке показала accuracy = 0.8171641791044776. Это хороший результат.\n",
    "9. Проверка моделью  DummyClassifier дала accuracy = 0.709838107098381, а Random Forest accuracy = 0.7932752179327521 таким образом модель можно считать пригодной для использования.\n"
   ]
  },
  {
   "cell_type": "markdown",
   "metadata": {},
   "source": [
    "<div class=\"alert alert-block alert-success\">\n",
    "    \n",
    "    \n",
    "<b>Успех[2]:</b> Всегда приятно наблюдать подробнный и структурированный итоговый вывод в конце работы!\n",
    "</div> "
   ]
  },
  {
   "cell_type": "markdown",
   "metadata": {},
   "source": [
    "## Чек-лист готовности проекта"
   ]
  },
  {
   "cell_type": "markdown",
   "metadata": {},
   "source": [
    "Поставьте 'x' в выполненных пунктах. Далее нажмите Shift+Enter."
   ]
  },
  {
   "cell_type": "markdown",
   "metadata": {},
   "source": [
    "- [x] Jupyter Notebook открыт\n",
    "- [ ] Весь код исполняется без ошибок\n",
    "- [ ] Ячейки с кодом расположены в порядке исполнения\n",
    "- [ ] Выполнено задание 1: данные загружены и изучены\n",
    "- [ ] Выполнено задание 2: данные разбиты на три выборки\n",
    "- [ ] Выполнено задание 3: проведено исследование моделей\n",
    "    - [ ] Рассмотрено больше одной модели\n",
    "    - [ ] Рассмотрено хотя бы 3 значения гипепараметров для какой-нибудь модели\n",
    "    - [ ] Написаны выводы по результатам исследования\n",
    "- [ ] Выполнено задание 3: Проведено тестирование\n",
    "- [ ] Удалось достичь accuracy не меньше 0.75\n"
   ]
  },
  {
   "cell_type": "code",
   "execution_count": null,
   "metadata": {},
   "outputs": [],
   "source": []
  }
 ],
 "metadata": {
  "ExecuteTimeLog": [
   {
    "duration": 895,
    "start_time": "2022-02-15T12:00:56.609Z"
   },
   {
    "duration": 374,
    "start_time": "2022-02-15T12:04:36.115Z"
   },
   {
    "duration": 734,
    "start_time": "2022-02-15T12:05:05.741Z"
   },
   {
    "duration": 7,
    "start_time": "2022-02-15T12:05:16.193Z"
   },
   {
    "duration": 332,
    "start_time": "2022-02-15T12:41:22.912Z"
   },
   {
    "duration": 31,
    "start_time": "2022-02-15T12:41:31.215Z"
   },
   {
    "duration": 844,
    "start_time": "2022-02-15T12:41:31.249Z"
   },
   {
    "duration": 134,
    "start_time": "2022-02-15T12:41:31.962Z"
   },
   {
    "duration": 37,
    "start_time": "2022-02-15T12:42:38.650Z"
   },
   {
    "duration": 253,
    "start_time": "2022-02-15T12:42:38.690Z"
   },
   {
    "duration": 133,
    "start_time": "2022-02-15T12:42:38.812Z"
   },
   {
    "duration": 9,
    "start_time": "2022-02-15T12:43:05.532Z"
   },
   {
    "duration": 9,
    "start_time": "2022-02-15T12:43:08.636Z"
   },
   {
    "duration": 9,
    "start_time": "2022-02-15T12:43:28.186Z"
   },
   {
    "duration": 8,
    "start_time": "2022-02-15T12:43:30.115Z"
   },
   {
    "duration": 186,
    "start_time": "2022-02-15T14:25:09.911Z"
   },
   {
    "duration": 1052,
    "start_time": "2022-02-15T14:25:19.223Z"
   },
   {
    "duration": 6,
    "start_time": "2022-02-15T14:25:20.276Z"
   },
   {
    "duration": 12,
    "start_time": "2022-02-15T14:25:20.284Z"
   },
   {
    "duration": 198,
    "start_time": "2022-02-15T14:25:20.298Z"
   },
   {
    "duration": 3,
    "start_time": "2022-02-15T14:26:10.786Z"
   },
   {
    "duration": 267,
    "start_time": "2022-02-15T14:26:12.363Z"
   },
   {
    "duration": 155,
    "start_time": "2022-02-15T14:28:38.921Z"
   },
   {
    "duration": 183,
    "start_time": "2022-02-15T14:29:21.337Z"
   },
   {
    "duration": 146,
    "start_time": "2022-02-15T14:30:53.320Z"
   },
   {
    "duration": 146,
    "start_time": "2022-02-15T14:35:31.789Z"
   },
   {
    "duration": 152,
    "start_time": "2022-02-15T14:35:46.328Z"
   },
   {
    "duration": 31,
    "start_time": "2022-02-15T14:35:49.039Z"
   },
   {
    "duration": 15,
    "start_time": "2022-02-15T14:35:49.072Z"
   },
   {
    "duration": 19,
    "start_time": "2022-02-15T14:35:49.090Z"
   },
   {
    "duration": 9,
    "start_time": "2022-02-15T14:35:49.111Z"
   },
   {
    "duration": 81,
    "start_time": "2022-02-15T14:35:49.122Z"
   },
   {
    "duration": 70,
    "start_time": "2022-02-15T14:36:46.512Z"
   },
   {
    "duration": 39,
    "start_time": "2022-02-15T14:39:16.717Z"
   },
   {
    "duration": 45,
    "start_time": "2022-02-15T14:39:29.516Z"
   },
   {
    "duration": 165,
    "start_time": "2022-02-15T14:43:39.681Z"
   },
   {
    "duration": 1262,
    "start_time": "2022-02-15T14:47:19.847Z"
   },
   {
    "duration": 1300,
    "start_time": "2022-02-15T14:49:23.189Z"
   },
   {
    "duration": 11905,
    "start_time": "2022-02-15T14:49:46.593Z"
   },
   {
    "duration": 1291,
    "start_time": "2022-02-15T14:50:21.953Z"
   },
   {
    "duration": 1658,
    "start_time": "2022-02-15T14:50:54.811Z"
   },
   {
    "duration": 48,
    "start_time": "2022-02-15T14:51:06.745Z"
   },
   {
    "duration": 1293,
    "start_time": "2022-02-15T14:51:16.801Z"
   },
   {
    "duration": 1121,
    "start_time": "2022-02-15T14:51:34.386Z"
   },
   {
    "duration": 811,
    "start_time": "2022-02-15T14:54:44.461Z"
   },
   {
    "duration": 44,
    "start_time": "2022-02-15T14:55:18.979Z"
   },
   {
    "duration": 147,
    "start_time": "2022-02-15T14:55:33.462Z"
   },
   {
    "duration": 3,
    "start_time": "2022-02-15T14:58:25.122Z"
   },
   {
    "duration": 151,
    "start_time": "2022-02-15T14:58:26.880Z"
   },
   {
    "duration": 134,
    "start_time": "2022-02-15T15:01:22.525Z"
   },
   {
    "duration": 139,
    "start_time": "2022-02-15T15:02:29.219Z"
   },
   {
    "duration": 153,
    "start_time": "2022-02-15T15:20:38.959Z"
   },
   {
    "duration": 145,
    "start_time": "2022-02-15T15:25:20.766Z"
   },
   {
    "duration": 393,
    "start_time": "2022-02-15T15:25:40.246Z"
   },
   {
    "duration": 45,
    "start_time": "2022-02-15T15:26:09.348Z"
   },
   {
    "duration": 46,
    "start_time": "2022-02-15T15:26:29.427Z"
   },
   {
    "duration": 132,
    "start_time": "2022-02-15T15:27:21.046Z"
   },
   {
    "duration": 10,
    "start_time": "2022-02-15T15:28:24.725Z"
   },
   {
    "duration": 131,
    "start_time": "2022-02-15T15:32:25.077Z"
   },
   {
    "duration": 24,
    "start_time": "2022-02-15T15:33:24.519Z"
   },
   {
    "duration": 26,
    "start_time": "2022-02-15T15:33:30.641Z"
   },
   {
    "duration": 8,
    "start_time": "2022-02-15T15:33:30.669Z"
   },
   {
    "duration": 7,
    "start_time": "2022-02-15T15:33:30.680Z"
   },
   {
    "duration": 9,
    "start_time": "2022-02-15T15:33:30.689Z"
   },
   {
    "duration": 74,
    "start_time": "2022-02-15T15:33:30.700Z"
   },
   {
    "duration": 163,
    "start_time": "2022-02-15T15:33:30.776Z"
   },
   {
    "duration": 156,
    "start_time": "2022-02-15T15:33:30.941Z"
   },
   {
    "duration": 163,
    "start_time": "2022-02-15T15:33:31.099Z"
   },
   {
    "duration": 10,
    "start_time": "2022-02-15T15:33:31.264Z"
   },
   {
    "duration": 8,
    "start_time": "2022-02-15T15:33:31.275Z"
   },
   {
    "duration": 241,
    "start_time": "2022-02-16T07:59:27.751Z"
   },
   {
    "duration": 1113,
    "start_time": "2022-02-16T07:59:32.886Z"
   },
   {
    "duration": 7,
    "start_time": "2022-02-16T07:59:34.000Z"
   },
   {
    "duration": 27,
    "start_time": "2022-02-16T07:59:34.009Z"
   },
   {
    "duration": 31,
    "start_time": "2022-02-16T07:59:34.038Z"
   },
   {
    "duration": 69,
    "start_time": "2022-02-16T07:59:34.071Z"
   },
   {
    "duration": 329,
    "start_time": "2022-02-16T07:59:34.142Z"
   },
   {
    "duration": 1647,
    "start_time": "2022-02-16T07:59:32.826Z"
   },
   {
    "duration": 1643,
    "start_time": "2022-02-16T07:59:32.831Z"
   },
   {
    "duration": 1642,
    "start_time": "2022-02-16T07:59:32.833Z"
   },
   {
    "duration": 1641,
    "start_time": "2022-02-16T07:59:32.835Z"
   },
   {
    "duration": 189,
    "start_time": "2022-02-16T08:01:15.089Z"
   },
   {
    "duration": 1041,
    "start_time": "2022-02-16T08:02:15.910Z"
   },
   {
    "duration": 4186,
    "start_time": "2022-02-16T08:03:22.605Z"
   },
   {
    "duration": 10004,
    "start_time": "2022-02-16T08:04:06.148Z"
   },
   {
    "duration": 1040,
    "start_time": "2022-02-16T08:12:38.070Z"
   },
   {
    "duration": 4443,
    "start_time": "2022-02-16T08:12:58.276Z"
   },
   {
    "duration": 11778,
    "start_time": "2022-02-16T08:13:20.796Z"
   },
   {
    "duration": 4263,
    "start_time": "2022-02-16T08:15:52.808Z"
   },
   {
    "duration": 157,
    "start_time": "2022-02-16T08:16:53.104Z"
   },
   {
    "duration": 219,
    "start_time": "2022-02-16T08:17:53.941Z"
   },
   {
    "duration": 221,
    "start_time": "2022-02-16T08:18:30.526Z"
   },
   {
    "duration": 159,
    "start_time": "2022-02-16T08:18:42.005Z"
   },
   {
    "duration": 6,
    "start_time": "2022-02-16T08:20:34.427Z"
   },
   {
    "duration": 2618,
    "start_time": "2022-02-16T08:25:30.656Z"
   },
   {
    "duration": 4338,
    "start_time": "2022-02-16T08:25:41.598Z"
   },
   {
    "duration": 165,
    "start_time": "2022-02-16T08:27:40.830Z"
   },
   {
    "duration": 11,
    "start_time": "2022-02-16T08:27:51.716Z"
   },
   {
    "duration": 211,
    "start_time": "2022-02-16T10:38:48.346Z"
   },
   {
    "duration": 7,
    "start_time": "2022-02-16T11:00:04.729Z"
   },
   {
    "duration": 7,
    "start_time": "2022-02-16T11:01:09.769Z"
   },
   {
    "duration": 6,
    "start_time": "2022-02-16T11:01:27.921Z"
   },
   {
    "duration": 6,
    "start_time": "2022-02-16T11:02:09.824Z"
   },
   {
    "duration": 8,
    "start_time": "2022-02-16T11:02:15.102Z"
   },
   {
    "duration": 213,
    "start_time": "2022-02-16T11:10:03.242Z"
   },
   {
    "duration": 199,
    "start_time": "2022-02-16T11:10:53.550Z"
   },
   {
    "duration": 268,
    "start_time": "2022-02-16T14:29:00.333Z"
   },
   {
    "duration": 1187,
    "start_time": "2022-02-16T14:29:04.714Z"
   },
   {
    "duration": 17,
    "start_time": "2022-02-16T14:29:05.903Z"
   },
   {
    "duration": 6,
    "start_time": "2022-02-16T14:29:05.922Z"
   },
   {
    "duration": 51,
    "start_time": "2022-02-16T14:29:05.931Z"
   },
   {
    "duration": 4372,
    "start_time": "2022-02-16T14:29:05.984Z"
   },
   {
    "duration": 275,
    "start_time": "2022-02-16T14:29:10.358Z"
   },
   {
    "duration": 1821,
    "start_time": "2022-02-16T14:29:08.814Z"
   },
   {
    "duration": 1816,
    "start_time": "2022-02-16T14:29:08.820Z"
   },
   {
    "duration": 168,
    "start_time": "2022-02-16T14:29:44.114Z"
   },
   {
    "duration": 158,
    "start_time": "2022-02-16T14:33:58.384Z"
   },
   {
    "duration": 67,
    "start_time": "2022-02-16T14:33:58.544Z"
   },
   {
    "duration": 1815,
    "start_time": "2022-02-16T14:33:56.798Z"
   },
   {
    "duration": 1813,
    "start_time": "2022-02-16T14:33:56.801Z"
   },
   {
    "duration": 1805,
    "start_time": "2022-02-16T14:33:56.810Z"
   },
   {
    "duration": 1804,
    "start_time": "2022-02-16T14:33:56.813Z"
   },
   {
    "duration": 1803,
    "start_time": "2022-02-16T14:33:56.815Z"
   },
   {
    "duration": 1801,
    "start_time": "2022-02-16T14:33:56.818Z"
   },
   {
    "duration": 1800,
    "start_time": "2022-02-16T14:33:56.820Z"
   },
   {
    "duration": 202,
    "start_time": "2022-02-16T14:34:13.951Z"
   },
   {
    "duration": 4296,
    "start_time": "2022-02-16T14:34:28.780Z"
   },
   {
    "duration": 3988,
    "start_time": "2022-02-16T14:37:01.378Z"
   },
   {
    "duration": 16,
    "start_time": "2022-02-16T14:38:17.304Z"
   },
   {
    "duration": 2,
    "start_time": "2022-02-16T14:39:23.632Z"
   },
   {
    "duration": 203,
    "start_time": "2022-02-16T14:55:53.920Z"
   },
   {
    "duration": 26,
    "start_time": "2022-02-16T14:58:00.052Z"
   },
   {
    "duration": 206,
    "start_time": "2022-02-16T15:07:09.779Z"
   },
   {
    "duration": 17,
    "start_time": "2022-02-16T15:07:17.859Z"
   },
   {
    "duration": 2,
    "start_time": "2022-02-16T15:07:17.878Z"
   },
   {
    "duration": 20,
    "start_time": "2022-02-16T15:07:17.883Z"
   },
   {
    "duration": 8,
    "start_time": "2022-02-16T15:07:17.905Z"
   },
   {
    "duration": 48,
    "start_time": "2022-02-16T15:07:17.915Z"
   },
   {
    "duration": 4285,
    "start_time": "2022-02-16T15:07:17.965Z"
   },
   {
    "duration": 174,
    "start_time": "2022-02-16T15:07:22.252Z"
   },
   {
    "duration": 196,
    "start_time": "2022-02-16T15:07:22.427Z"
   },
   {
    "duration": 1778,
    "start_time": "2022-02-16T15:07:20.847Z"
   },
   {
    "duration": 1775,
    "start_time": "2022-02-16T15:07:20.850Z"
   },
   {
    "duration": 24,
    "start_time": "2022-02-16T15:12:21.894Z"
   },
   {
    "duration": 2,
    "start_time": "2022-02-16T15:12:21.921Z"
   },
   {
    "duration": 10,
    "start_time": "2022-02-16T15:12:21.925Z"
   },
   {
    "duration": 8,
    "start_time": "2022-02-16T15:12:21.937Z"
   },
   {
    "duration": 74,
    "start_time": "2022-02-16T15:12:21.947Z"
   },
   {
    "duration": 4337,
    "start_time": "2022-02-16T15:12:22.025Z"
   },
   {
    "duration": 156,
    "start_time": "2022-02-16T15:12:26.364Z"
   },
   {
    "duration": 275854,
    "start_time": "2022-02-16T15:12:26.522Z"
   },
   {
    "duration": 33,
    "start_time": "2022-02-16T15:17:02.692Z"
   },
   {
    "duration": 2,
    "start_time": "2022-02-16T15:17:02.727Z"
   },
   {
    "duration": 21,
    "start_time": "2022-02-16T15:17:02.731Z"
   },
   {
    "duration": 12,
    "start_time": "2022-02-16T15:17:02.754Z"
   },
   {
    "duration": 65,
    "start_time": "2022-02-16T15:17:02.768Z"
   },
   {
    "duration": 4307,
    "start_time": "2022-02-16T15:17:02.835Z"
   },
   {
    "duration": 160,
    "start_time": "2022-02-16T15:17:07.144Z"
   },
   {
    "duration": 12,
    "start_time": "2022-02-16T15:17:07.306Z"
   },
   {
    "duration": 201,
    "start_time": "2022-02-16T15:17:07.321Z"
   },
   {
    "duration": 6,
    "start_time": "2022-02-16T15:17:07.523Z"
   },
   {
    "duration": 27,
    "start_time": "2022-02-16T15:17:30.255Z"
   },
   {
    "duration": 24,
    "start_time": "2022-02-16T15:17:44.224Z"
   },
   {
    "duration": 9889,
    "start_time": "2022-02-16T15:34:34.136Z"
   },
   {
    "duration": 162125,
    "start_time": "2022-02-16T15:37:12.532Z"
   },
   {
    "duration": 74,
    "start_time": "2022-02-16T15:41:46.201Z"
   }
  ],
  "kernelspec": {
   "display_name": "Python 3 (ipykernel)",
   "language": "python",
   "name": "python3"
  },
  "language_info": {
   "codemirror_mode": {
    "name": "ipython",
    "version": 3
   },
   "file_extension": ".py",
   "mimetype": "text/x-python",
   "name": "python",
   "nbconvert_exporter": "python",
   "pygments_lexer": "ipython3",
   "version": "3.9.5"
  },
  "toc": {
   "base_numbering": 1,
   "nav_menu": {},
   "number_sections": true,
   "sideBar": true,
   "skip_h1_title": true,
   "title_cell": "Table of Contents",
   "title_sidebar": "Contents",
   "toc_cell": false,
   "toc_position": {},
   "toc_section_display": true,
   "toc_window_display": true
  }
 },
 "nbformat": 4,
 "nbformat_minor": 2
}
