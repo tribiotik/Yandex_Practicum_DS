{
 "cells": [
  {
   "cell_type": "markdown",
   "metadata": {},
   "source": [
    "Привет, меня зовут Артем Хуршудов. Сегодня я проверю твой проект.\n",
    "<br> Дальнейшее общение будет происходить на \"ты\" если это не вызывает никаких проблем.\n",
    "<br> Желательно реагировать на каждый мой комментарий ('исправил', 'не понятно как исправить ошибку', ...)\n",
    "<br> Пожалуйста, не удаляй комментарии ревьюера, так как они повышают качество повторного ревью.\n",
    "\n",
    "Комментарии будут в <font color='green'>зеленой</font>, <font color='blue'>синей</font> или <font color='red'>красной</font> рамках:\n",
    "\n",
    "<div class=\"alert alert-block alert-success\">\n",
    "<b>Успех:</b> Если все сделано отлично\n",
    "</div>\n",
    "\n",
    "<div class=\"alert alert-block alert-info\">\n",
    "<b>Совет: </b> Если можно немного улучшить\n",
    "</div>\n",
    "\n",
    "<div class=\"alert alert-block alert-danger\">\n",
    "<b>Ошибка:</b> Если требуются исправления. Работа не может быть принята с красными комментариями.\n",
    "</div>\n",
    "\n",
    "-------------------\n",
    "\n",
    "Будет очень хорошо, если ты будешь помечать свои действия следующим образом:\n",
    "<div class=\"alert alert-block alert-warning\">\n",
    "<b>Комментарий студента:</b> ...\n",
    "</div>\n",
    "\n",
    "<div class=\"alert alert-block alert-warning\">\n",
    "<b>Изменения:</b> Были внесены следующие изменения ...\n",
    "</div>\n",
    "\n",
    "#### <font color='orange'>Полезные ссылки:</font>\n",
    "* Полезная лекция про временные ряды: https://www.youtube.com/watch?v=u433nrxdf5k .\n",
    "\n",
    "### <font color='orange'>Общее впечатление</font>\n",
    "* Большое спасибо за проделанную работу. Видно, что приложено много усилий.\n",
    "* Отлично, что ноутбук хорошо структурирован. Приятно проверять такие работы.\n",
    "* Я оставил несколько советов, надеюсь, что они будут учтены в будущих проектах.\n",
    "* Тебе удалось добиться очень хорошего качества, поздравляю!\n",
    "* Проект может быть зачтен, но я его отправлю назад, чтобы у тебя была возможность задать вопросы и внести правки, при желании. Однако, ты можешь просто вернуть проект в таком же виде и я его зачту."
   ]
  },
  {
   "cell_type": "markdown",
   "metadata": {},
   "source": [
    "### <font color='orange'>Общее впечатление (ревью 2)</font>\n",
    "* Проект зачтен!\n",
    "* Для удобства все новые комментарии обозначены фразой \"ревью 2\".\n",
    "* Удачи в дальнейшем обучении и следующих работах!"
   ]
  },
  {
   "cell_type": "markdown",
   "metadata": {
    "toc": true
   },
   "source": [
    "<h1>Содержание<span class=\"tocSkip\"></span></h1>\n",
    "<div class=\"toc\"><ul class=\"toc-item\"><li><ul class=\"toc-item\"><li><ul class=\"toc-item\"><li><span><a href=\"#Полезные-ссылки:\" data-toc-modified-id=\"Полезные-ссылки:-0.0.1\"><span class=\"toc-item-num\">0.0.1&nbsp;&nbsp;</span><font color=\"orange\">Полезные ссылки:</font></a></span></li></ul></li><li><span><a href=\"#Общее-впечатление\" data-toc-modified-id=\"Общее-впечатление-0.1\"><span class=\"toc-item-num\">0.1&nbsp;&nbsp;</span><font color=\"orange\">Общее впечатление</font></a></span></li><li><span><a href=\"#Общее-впечатление-(ревью-2)\" data-toc-modified-id=\"Общее-впечатление-(ревью-2)-0.2\"><span class=\"toc-item-num\">0.2&nbsp;&nbsp;</span><font color=\"orange\">Общее впечатление (ревью 2)</font></a></span></li></ul></li><li><span><a href=\"#Импорт-Библиотек\" data-toc-modified-id=\"Импорт-Библиотек-1\"><span class=\"toc-item-num\">1&nbsp;&nbsp;</span>Импорт Библиотек</a></span></li><li><span><a href=\"#Подготовка\" data-toc-modified-id=\"Подготовка-2\"><span class=\"toc-item-num\">2&nbsp;&nbsp;</span>Подготовка</a></span><ul class=\"toc-item\"><li><span><a href=\"#Вывод\" data-toc-modified-id=\"Вывод-2.1\"><span class=\"toc-item-num\">2.1&nbsp;&nbsp;</span>Вывод</a></span></li></ul></li><li><span><a href=\"#Анализ\" data-toc-modified-id=\"Анализ-3\"><span class=\"toc-item-num\">3&nbsp;&nbsp;</span>Анализ</a></span><ul class=\"toc-item\"><li><span><a href=\"#Вывод\" data-toc-modified-id=\"Вывод-3.1\"><span class=\"toc-item-num\">3.1&nbsp;&nbsp;</span>Вывод</a></span></li></ul></li><li><span><a href=\"#Обучение\" data-toc-modified-id=\"Обучение-4\"><span class=\"toc-item-num\">4&nbsp;&nbsp;</span>Обучение</a></span><ul class=\"toc-item\"><li><span><a href=\"#Вывод\" data-toc-modified-id=\"Вывод-4.1\"><span class=\"toc-item-num\">4.1&nbsp;&nbsp;</span>Вывод</a></span></li></ul></li><li><span><a href=\"#Тестирование\" data-toc-modified-id=\"Тестирование-5\"><span class=\"toc-item-num\">5&nbsp;&nbsp;</span>Тестирование</a></span><ul class=\"toc-item\"><li><span><a href=\"#Линейная-регресия\" data-toc-modified-id=\"Линейная-регресия-5.1\"><span class=\"toc-item-num\">5.1&nbsp;&nbsp;</span>Линейная регресия</a></span></li><li><span><a href=\"#Случайный-лес\" data-toc-modified-id=\"Случайный-лес-5.2\"><span class=\"toc-item-num\">5.2&nbsp;&nbsp;</span>Случайный лес</a></span></li><li><span><a href=\"#LGBMRegressor\" data-toc-modified-id=\"LGBMRegressor-5.3\"><span class=\"toc-item-num\">5.3&nbsp;&nbsp;</span>LGBMRegressor</a></span></li><li><span><a href=\"#Вывод\" data-toc-modified-id=\"Вывод-5.4\"><span class=\"toc-item-num\">5.4&nbsp;&nbsp;</span>Вывод</a></span></li></ul></li><li><span><a href=\"#Чек-лист-проверки\" data-toc-modified-id=\"Чек-лист-проверки-6\"><span class=\"toc-item-num\">6&nbsp;&nbsp;</span>Чек-лист проверки</a></span></li></ul></div>"
   ]
  },
  {
   "cell_type": "markdown",
   "metadata": {},
   "source": [
    "#  Прогнозирование заказов такси"
   ]
  },
  {
   "cell_type": "markdown",
   "metadata": {},
   "source": [
    "Компания «Чётенькое такси» собрала исторические данные о заказах такси в аэропортах. Чтобы привлекать больше водителей в период пиковой нагрузки, нужно спрогнозировать количество заказов такси на следующий час. Постройте модель для такого предсказания.\n",
    "\n",
    "Значение метрики *RMSE* на тестовой выборке должно быть не больше 48.\n",
    "\n",
    "\n",
    "\n",
    "Вам нужно:\n",
    "\n",
    "1. Загрузить данные и выполнить их ресемплирование по одному часу.\n",
    "2. Проанализировать данные.\n",
    "3. Обучить разные модели с различными гиперпараметрами. Сделать тестовую выборку размером 10% от исходных данных.\n",
    "4. Проверить данные на тестовой выборке и сделать выводы.\n",
    "\n",
    "\n",
    "Данные лежат в файле `taxi.csv`. Количество заказов находится в столбце `num_orders` (от англ. *number of orders*, «число заказов»)."
   ]
  },
  {
   "cell_type": "markdown",
   "metadata": {},
   "source": [
    "## Импорт Библиотек"
   ]
  },
  {
   "cell_type": "code",
   "execution_count": 2,
   "metadata": {},
   "outputs": [],
   "source": [
    "import pandas as pd \n",
    "import numpy as np \n",
    "import seaborn as sn \n",
    "import matplotlib.pyplot as plt \n",
    "\n",
    "\n",
    "import warnings\n",
    "warnings.filterwarnings('ignore')\n",
    "\n",
    "from statsmodels.tsa.seasonal import seasonal_decompose\n",
    "\n",
    "from sklearn.metrics import mean_squared_error\n",
    "from sklearn.model_selection import train_test_split, TimeSeriesSplit, GridSearchCV\n",
    "\n",
    "from sklearn.linear_model import LinearRegression\n",
    "from sklearn.ensemble import RandomForestRegressor\n",
    "from lightgbm import LGBMRegressor\n",
    "\n",
    "RND = 12345\n",
    "def line():\n",
    "    print('_________________________________')"
   ]
  },
  {
   "cell_type": "markdown",
   "metadata": {},
   "source": [
    "<div class=\"alert alert-block alert-success\">\n",
    "<b>Успех:</b> Отлично, что все импорты собраны в первой ячейке ноутбука! Если у того, кто будет запускать твой ноутбук будут отсутствовать некоторые библиотеки, то он это увидит сразу, а не в процессе!\n",
    "</div>"
   ]
  },
  {
   "cell_type": "markdown",
   "metadata": {},
   "source": [
    "## Подготовка"
   ]
  },
  {
   "cell_type": "code",
   "execution_count": 3,
   "metadata": {},
   "outputs": [
    {
     "name": "stdout",
     "output_type": "stream",
     "text": [
      "                     num_orders\n",
      "datetime                       \n",
      "2018-03-01 00:00:00           9\n",
      "2018-03-01 00:10:00          14\n",
      "2018-03-01 00:20:00          28\n",
      "2018-03-01 00:30:00          20\n",
      "2018-03-01 00:40:00          32\n",
      "...                         ...\n",
      "2018-08-31 23:10:00          32\n",
      "2018-08-31 23:20:00          24\n",
      "2018-08-31 23:30:00          27\n",
      "2018-08-31 23:40:00          39\n",
      "2018-08-31 23:50:00          53\n",
      "\n",
      "[26496 rows x 1 columns]\n",
      "<class 'pandas.core.frame.DataFrame'>\n",
      "DatetimeIndex: 26496 entries, 2018-03-01 00:00:00 to 2018-08-31 23:50:00\n",
      "Data columns (total 1 columns):\n",
      " #   Column      Non-Null Count  Dtype\n",
      "---  ------      --------------  -----\n",
      " 0   num_orders  26496 non-null  int64\n",
      "dtypes: int64(1)\n",
      "memory usage: 414.0 KB\n"
     ]
    }
   ],
   "source": [
    "df = pd.read_csv('/datasets/taxi.csv', parse_dates=[0],index_col=[0]) \n",
    "df.sort_index(inplace=True)\n",
    "\n",
    "print(df)\n",
    "df.info()"
   ]
  },
  {
   "cell_type": "code",
   "execution_count": 4,
   "metadata": {},
   "outputs": [
    {
     "name": "stdout",
     "output_type": "stream",
     "text": [
      "<class 'pandas.core.frame.DataFrame'>\n",
      "DatetimeIndex: 4416 entries, 2018-03-01 00:00:00 to 2018-08-31 23:00:00\n",
      "Freq: H\n",
      "Data columns (total 1 columns):\n",
      " #   Column      Non-Null Count  Dtype\n",
      "---  ------      --------------  -----\n",
      " 0   num_orders  4416 non-null   int64\n",
      "dtypes: int64(1)\n",
      "memory usage: 69.0 KB\n",
      "Количество пропусков : num_orders    0\n",
      "dtype: int64\n"
     ]
    },
    {
     "data": {
      "text/plain": [
       "True"
      ]
     },
     "execution_count": 4,
     "metadata": {},
     "output_type": "execute_result"
    }
   ],
   "source": [
    "df = df.resample('1H').sum()\n",
    "df.info()\n",
    "decomposed_df = seasonal_decompose(df)\n",
    "print('Количество пропусков :', df.isnull().sum())\n",
    "df.index.is_monotonic"
   ]
  },
  {
   "cell_type": "markdown",
   "metadata": {},
   "source": [
    "### Вывод"
   ]
  },
  {
   "cell_type": "markdown",
   "metadata": {},
   "source": [
    "В датасете 2 столбца и 26496 строк.\n",
    "\n",
    "Пропуски отсутствуют.\n",
    "\n",
    "Данные ресемплированы, расположены в хронологическом порядке."
   ]
  },
  {
   "cell_type": "markdown",
   "metadata": {},
   "source": [
    "<div class=\"alert alert-block alert-success\">\n",
    "<b>Успех:</b> Данные загружены корректно, первичный осмотр проведен. Ресемплинг был сделан верно.\n",
    "</div>"
   ]
  },
  {
   "cell_type": "markdown",
   "metadata": {},
   "source": [
    "## Анализ"
   ]
  },
  {
   "cell_type": "code",
   "execution_count": 5,
   "metadata": {
    "scrolled": true
   },
   "outputs": [
    {
     "data": {
      "image/png": "[encoded data removed]",
      "text/plain": [
       "<Figure size 1080x504 with 1 Axes>"
      ]
     },
     "metadata": {
      "needs_background": "light"
     },
     "output_type": "display_data"
    }
   ],
   "source": [
    "df['num_orders'].plot(figsize=(15,7))\n",
    "plt.title('Зависимость количества заказов от даты')\n",
    "plt.xlabel('Дата')\n",
    "plt.ylabel('Кол-во заказов')\n",
    "plt.grid()\n",
    "plt.show()"
   ]
  },
  {
   "cell_type": "markdown",
   "metadata": {},
   "source": [
    "<div class=\"alert alert-block alert-success\">\n",
    "<b>Успех:</b> Радует, что сам ряд был визуализирован!\n",
    "</div>"
   ]
  },
  {
   "cell_type": "code",
   "execution_count": 6,
   "metadata": {},
   "outputs": [],
   "source": [
    "\n",
    "df = df.resample('1H').sum()\n",
    "df['rolling_mean'] = df['num_orders'].shift().rolling(12).mean()\n",
    "df['std'] = df['num_orders'].rolling(12).std()\n",
    "df = df.dropna()"
   ]
  },
  {
   "cell_type": "code",
   "execution_count": 7,
   "metadata": {},
   "outputs": [
    {
     "data": {
      "image/png": "[encoded data removed]",
      "text/plain": [
       "<Figure size 1080x504 with 1 Axes>"
      ]
     },
     "metadata": {
      "needs_background": "light"
     },
     "output_type": "display_data"
    }
   ],
   "source": [
    "df[['num_orders', 'rolling_mean', 'std']].plot(figsize=(15,7))\n",
    "plt.legend(['Кол-во заказов', 'Среднее значение', 'Стандартное отклонение'])\n",
    "plt.title('Зависимость количества заказов от даты')\n",
    "plt.xlabel('Дата')\n",
    "plt.ylabel('Кол-во заказов')\n",
    "plt.grid()\n",
    "plt.show()"
   ]
  },
  {
   "cell_type": "code",
   "execution_count": 8,
   "metadata": {},
   "outputs": [
    {
     "data": {
      "image/png": "[encoded data removed]",
      "text/plain": [
       "<Figure size 1152x1152 with 3 Axes>"
      ]
     },
     "metadata": {
      "needs_background": "light"
     },
     "output_type": "display_data"
    }
   ],
   "source": [
    "\n",
    "plt.figure(figsize=(16, 16))\n",
    "plt.subplot(311)\n",
    "decomposed_df.trend.plot(ax=plt.gca())\n",
    "plt.title('Trend')\n",
    "plt.grid(True)\n",
    "\n",
    "plt.subplot(312)\n",
    "decomposed_df.seasonal.tail(24*7).plot(ax=plt.gca())\n",
    "plt.title('Seasonality')\n",
    "plt.grid(True)\n",
    "\n",
    "plt.subplot(313)\n",
    "decomposed_df.resid.plot(ax=plt.gca())\n",
    "plt.title('Residuals')\n",
    "plt.tight_layout()\n",
    "plt.grid(True)\n",
    "plt.show()"
   ]
  },
  {
   "cell_type": "markdown",
   "metadata": {},
   "source": [
    "### Вывод"
   ]
  },
  {
   "cell_type": "markdown",
   "metadata": {},
   "source": [
    "Из графиков можно сделать вывод , что тред на пользование услугами сервиса растет. Сезонность по данным за пол года опредетелить трудно, но точно можно сказать что имеется суточная сезонность т.е. примерно с полуночи и до утра идет резкий спад после чего насптупает рост.\n",
    "\n",
    "Среднее значение и стандартное отклонение со временем увеличиваются."
   ]
  },
  {
   "cell_type": "markdown",
   "metadata": {},
   "source": [
    "<div class=\"alert alert-block alert-success\">\n",
    "<b>Успех:</b> Декомпозиция была сделана верно. Хорошо, что сезонность визуализирована на более коротком интервале.\n",
    "</div>"
   ]
  },
  {
   "cell_type": "markdown",
   "metadata": {},
   "source": [
    "## Обучение"
   ]
  },
  {
   "cell_type": "markdown",
   "metadata": {},
   "source": [
    "Создадим новые признаки:\n",
    "\n",
    "месяц\n",
    "\n",
    "день\n",
    "\n",
    "день недели\n",
    "\n",
    "час\n",
    "\n",
    "лаги(отставания)\n",
    "\n",
    "скользящее среднее"
   ]
  },
  {
   "cell_type": "code",
   "execution_count": 9,
   "metadata": {},
   "outputs": [],
   "source": [
    "# функция для создания признаков\n",
    "def make_features(data, max_lag, rolling_mean_size):\n",
    "    data['month'] = data.index.month\n",
    "    data['day'] = data.index.day\n",
    "    data['dayofweek'] = data.index.dayofweek\n",
    "    data['hour'] = data.index.hour\n",
    "    \n",
    "    for lag in range(1, max_lag + 1):\n",
    "        data['lag_{}'.format(lag)] = data['num_orders'].shift(lag)\n",
    "\n",
    "    data['rolling_mean'] = data['num_orders'].shift().rolling(rolling_mean_size).mean()\n",
    "    data.dropna(inplace=True)"
   ]
  },
  {
   "cell_type": "markdown",
   "metadata": {},
   "source": [
    "<div class=\"alert alert-block alert-info\">\n",
    "<b>Совет: </b> Желательно было написать функцию таким образом, чтобы она возвращала новый датафрейм, а не изменяла глобальную переменную.\n",
    "</div>"
   ]
  },
  {
   "cell_type": "markdown",
   "metadata": {},
   "source": [
    "<div class=\"alert alert-block alert-warning\">\n",
    "<b>Комментарий студента:</b> А для чего это нужно делать?\n",
    "</div>"
   ]
  },
  {
   "cell_type": "markdown",
   "metadata": {},
   "source": [
    "<div class=\"alert alert-block alert-info\">\n",
    "<b>Совет (ревью 2): </b> Во-первых – это хорошая практика (делать функции независимыми от глобальных переменных). Во-вторых, это будет использовано, если ты захочешь подобрать параметр max_lag, например.\n",
    "</div>"
   ]
  },
  {
   "cell_type": "code",
   "execution_count": 10,
   "metadata": {},
   "outputs": [
    {
     "data": {
      "text/html": [
       "<div>\n",
       "<style scoped>\n",
       "    .dataframe tbody tr th:only-of-type {\n",
       "        vertical-align: middle;\n",
       "    }\n",
       "\n",
       "    .dataframe tbody tr th {\n",
       "        vertical-align: top;\n",
       "    }\n",
       "\n",
       "    .dataframe thead th {\n",
       "        text-align: right;\n",
       "    }\n",
       "</style>\n",
       "<table border=\"1\" class=\"dataframe\">\n",
       "  <thead>\n",
       "    <tr style=\"text-align: right;\">\n",
       "      <th></th>\n",
       "      <th>num_orders</th>\n",
       "      <th>rolling_mean</th>\n",
       "      <th>std</th>\n",
       "      <th>month</th>\n",
       "      <th>day</th>\n",
       "      <th>dayofweek</th>\n",
       "      <th>hour</th>\n",
       "      <th>lag_1</th>\n",
       "      <th>lag_2</th>\n",
       "      <th>lag_3</th>\n",
       "      <th>lag_4</th>\n",
       "      <th>lag_5</th>\n",
       "      <th>lag_6</th>\n",
       "      <th>lag_7</th>\n",
       "      <th>lag_8</th>\n",
       "      <th>lag_9</th>\n",
       "      <th>lag_10</th>\n",
       "    </tr>\n",
       "    <tr>\n",
       "      <th>datetime</th>\n",
       "      <th></th>\n",
       "      <th></th>\n",
       "      <th></th>\n",
       "      <th></th>\n",
       "      <th></th>\n",
       "      <th></th>\n",
       "      <th></th>\n",
       "      <th></th>\n",
       "      <th></th>\n",
       "      <th></th>\n",
       "      <th></th>\n",
       "      <th></th>\n",
       "      <th></th>\n",
       "      <th></th>\n",
       "      <th></th>\n",
       "      <th></th>\n",
       "      <th></th>\n",
       "    </tr>\n",
       "  </thead>\n",
       "  <tbody>\n",
       "    <tr>\n",
       "      <th>2018-03-01 22:00:00</th>\n",
       "      <td>113</td>\n",
       "      <td>50.8</td>\n",
       "      <td>25.125594</td>\n",
       "      <td>3</td>\n",
       "      <td>1</td>\n",
       "      <td>3</td>\n",
       "      <td>22</td>\n",
       "      <td>66.0</td>\n",
       "      <td>61.0</td>\n",
       "      <td>45.0</td>\n",
       "      <td>73.0</td>\n",
       "      <td>44.0</td>\n",
       "      <td>43.0</td>\n",
       "      <td>66.0</td>\n",
       "      <td>48.0</td>\n",
       "      <td>32.0</td>\n",
       "      <td>30.0</td>\n",
       "    </tr>\n",
       "    <tr>\n",
       "      <th>2018-03-01 23:00:00</th>\n",
       "      <td>58</td>\n",
       "      <td>59.1</td>\n",
       "      <td>22.386921</td>\n",
       "      <td>3</td>\n",
       "      <td>1</td>\n",
       "      <td>3</td>\n",
       "      <td>23</td>\n",
       "      <td>113.0</td>\n",
       "      <td>66.0</td>\n",
       "      <td>61.0</td>\n",
       "      <td>45.0</td>\n",
       "      <td>73.0</td>\n",
       "      <td>44.0</td>\n",
       "      <td>43.0</td>\n",
       "      <td>66.0</td>\n",
       "      <td>48.0</td>\n",
       "      <td>32.0</td>\n",
       "    </tr>\n",
       "    <tr>\n",
       "      <th>2018-03-02 00:00:00</th>\n",
       "      <td>90</td>\n",
       "      <td>61.7</td>\n",
       "      <td>22.609163</td>\n",
       "      <td>3</td>\n",
       "      <td>2</td>\n",
       "      <td>4</td>\n",
       "      <td>0</td>\n",
       "      <td>58.0</td>\n",
       "      <td>113.0</td>\n",
       "      <td>66.0</td>\n",
       "      <td>61.0</td>\n",
       "      <td>45.0</td>\n",
       "      <td>73.0</td>\n",
       "      <td>44.0</td>\n",
       "      <td>43.0</td>\n",
       "      <td>66.0</td>\n",
       "      <td>48.0</td>\n",
       "    </tr>\n",
       "    <tr>\n",
       "      <th>2018-03-02 01:00:00</th>\n",
       "      <td>120</td>\n",
       "      <td>65.9</td>\n",
       "      <td>26.137602</td>\n",
       "      <td>3</td>\n",
       "      <td>2</td>\n",
       "      <td>4</td>\n",
       "      <td>1</td>\n",
       "      <td>90.0</td>\n",
       "      <td>58.0</td>\n",
       "      <td>113.0</td>\n",
       "      <td>66.0</td>\n",
       "      <td>61.0</td>\n",
       "      <td>45.0</td>\n",
       "      <td>73.0</td>\n",
       "      <td>44.0</td>\n",
       "      <td>43.0</td>\n",
       "      <td>66.0</td>\n",
       "    </tr>\n",
       "    <tr>\n",
       "      <th>2018-03-02 02:00:00</th>\n",
       "      <td>75</td>\n",
       "      <td>71.3</td>\n",
       "      <td>25.322765</td>\n",
       "      <td>3</td>\n",
       "      <td>2</td>\n",
       "      <td>4</td>\n",
       "      <td>2</td>\n",
       "      <td>120.0</td>\n",
       "      <td>90.0</td>\n",
       "      <td>58.0</td>\n",
       "      <td>113.0</td>\n",
       "      <td>66.0</td>\n",
       "      <td>61.0</td>\n",
       "      <td>45.0</td>\n",
       "      <td>73.0</td>\n",
       "      <td>44.0</td>\n",
       "      <td>43.0</td>\n",
       "    </tr>\n",
       "    <tr>\n",
       "      <th>...</th>\n",
       "      <td>...</td>\n",
       "      <td>...</td>\n",
       "      <td>...</td>\n",
       "      <td>...</td>\n",
       "      <td>...</td>\n",
       "      <td>...</td>\n",
       "      <td>...</td>\n",
       "      <td>...</td>\n",
       "      <td>...</td>\n",
       "      <td>...</td>\n",
       "      <td>...</td>\n",
       "      <td>...</td>\n",
       "      <td>...</td>\n",
       "      <td>...</td>\n",
       "      <td>...</td>\n",
       "      <td>...</td>\n",
       "      <td>...</td>\n",
       "    </tr>\n",
       "    <tr>\n",
       "      <th>2018-08-31 19:00:00</th>\n",
       "      <td>136</td>\n",
       "      <td>173.3</td>\n",
       "      <td>33.835050</td>\n",
       "      <td>8</td>\n",
       "      <td>31</td>\n",
       "      <td>4</td>\n",
       "      <td>19</td>\n",
       "      <td>207.0</td>\n",
       "      <td>217.0</td>\n",
       "      <td>197.0</td>\n",
       "      <td>116.0</td>\n",
       "      <td>133.0</td>\n",
       "      <td>166.0</td>\n",
       "      <td>136.0</td>\n",
       "      <td>167.0</td>\n",
       "      <td>191.0</td>\n",
       "      <td>203.0</td>\n",
       "    </tr>\n",
       "    <tr>\n",
       "      <th>2018-08-31 20:00:00</th>\n",
       "      <td>154</td>\n",
       "      <td>166.6</td>\n",
       "      <td>33.966450</td>\n",
       "      <td>8</td>\n",
       "      <td>31</td>\n",
       "      <td>4</td>\n",
       "      <td>20</td>\n",
       "      <td>136.0</td>\n",
       "      <td>207.0</td>\n",
       "      <td>217.0</td>\n",
       "      <td>197.0</td>\n",
       "      <td>116.0</td>\n",
       "      <td>133.0</td>\n",
       "      <td>166.0</td>\n",
       "      <td>136.0</td>\n",
       "      <td>167.0</td>\n",
       "      <td>191.0</td>\n",
       "    </tr>\n",
       "    <tr>\n",
       "      <th>2018-08-31 21:00:00</th>\n",
       "      <td>159</td>\n",
       "      <td>162.9</td>\n",
       "      <td>32.244685</td>\n",
       "      <td>8</td>\n",
       "      <td>31</td>\n",
       "      <td>4</td>\n",
       "      <td>21</td>\n",
       "      <td>154.0</td>\n",
       "      <td>136.0</td>\n",
       "      <td>207.0</td>\n",
       "      <td>217.0</td>\n",
       "      <td>197.0</td>\n",
       "      <td>116.0</td>\n",
       "      <td>133.0</td>\n",
       "      <td>166.0</td>\n",
       "      <td>136.0</td>\n",
       "      <td>167.0</td>\n",
       "    </tr>\n",
       "    <tr>\n",
       "      <th>2018-08-31 22:00:00</th>\n",
       "      <td>223</td>\n",
       "      <td>162.1</td>\n",
       "      <td>35.732487</td>\n",
       "      <td>8</td>\n",
       "      <td>31</td>\n",
       "      <td>4</td>\n",
       "      <td>22</td>\n",
       "      <td>159.0</td>\n",
       "      <td>154.0</td>\n",
       "      <td>136.0</td>\n",
       "      <td>207.0</td>\n",
       "      <td>217.0</td>\n",
       "      <td>197.0</td>\n",
       "      <td>116.0</td>\n",
       "      <td>133.0</td>\n",
       "      <td>166.0</td>\n",
       "      <td>136.0</td>\n",
       "    </tr>\n",
       "    <tr>\n",
       "      <th>2018-08-31 23:00:00</th>\n",
       "      <td>205</td>\n",
       "      <td>170.8</td>\n",
       "      <td>37.324438</td>\n",
       "      <td>8</td>\n",
       "      <td>31</td>\n",
       "      <td>4</td>\n",
       "      <td>23</td>\n",
       "      <td>223.0</td>\n",
       "      <td>159.0</td>\n",
       "      <td>154.0</td>\n",
       "      <td>136.0</td>\n",
       "      <td>207.0</td>\n",
       "      <td>217.0</td>\n",
       "      <td>197.0</td>\n",
       "      <td>116.0</td>\n",
       "      <td>133.0</td>\n",
       "      <td>166.0</td>\n",
       "    </tr>\n",
       "  </tbody>\n",
       "</table>\n",
       "<p>4394 rows × 17 columns</p>\n",
       "</div>"
      ],
      "text/plain": [
       "                     num_orders  rolling_mean        std  month  day  \\\n",
       "datetime                                                               \n",
       "2018-03-01 22:00:00         113          50.8  25.125594      3    1   \n",
       "2018-03-01 23:00:00          58          59.1  22.386921      3    1   \n",
       "2018-03-02 00:00:00          90          61.7  22.609163      3    2   \n",
       "2018-03-02 01:00:00         120          65.9  26.137602      3    2   \n",
       "2018-03-02 02:00:00          75          71.3  25.322765      3    2   \n",
       "...                         ...           ...        ...    ...  ...   \n",
       "2018-08-31 19:00:00         136         173.3  33.835050      8   31   \n",
       "2018-08-31 20:00:00         154         166.6  33.966450      8   31   \n",
       "2018-08-31 21:00:00         159         162.9  32.244685      8   31   \n",
       "2018-08-31 22:00:00         223         162.1  35.732487      8   31   \n",
       "2018-08-31 23:00:00         205         170.8  37.324438      8   31   \n",
       "\n",
       "                     dayofweek  hour  lag_1  lag_2  lag_3  lag_4  lag_5  \\\n",
       "datetime                                                                  \n",
       "2018-03-01 22:00:00          3    22   66.0   61.0   45.0   73.0   44.0   \n",
       "2018-03-01 23:00:00          3    23  113.0   66.0   61.0   45.0   73.0   \n",
       "2018-03-02 00:00:00          4     0   58.0  113.0   66.0   61.0   45.0   \n",
       "2018-03-02 01:00:00          4     1   90.0   58.0  113.0   66.0   61.0   \n",
       "2018-03-02 02:00:00          4     2  120.0   90.0   58.0  113.0   66.0   \n",
       "...                        ...   ...    ...    ...    ...    ...    ...   \n",
       "2018-08-31 19:00:00          4    19  207.0  217.0  197.0  116.0  133.0   \n",
       "2018-08-31 20:00:00          4    20  136.0  207.0  217.0  197.0  116.0   \n",
       "2018-08-31 21:00:00          4    21  154.0  136.0  207.0  217.0  197.0   \n",
       "2018-08-31 22:00:00          4    22  159.0  154.0  136.0  207.0  217.0   \n",
       "2018-08-31 23:00:00          4    23  223.0  159.0  154.0  136.0  207.0   \n",
       "\n",
       "                     lag_6  lag_7  lag_8  lag_9  lag_10  \n",
       "datetime                                                 \n",
       "2018-03-01 22:00:00   43.0   66.0   48.0   32.0    30.0  \n",
       "2018-03-01 23:00:00   44.0   43.0   66.0   48.0    32.0  \n",
       "2018-03-02 00:00:00   73.0   44.0   43.0   66.0    48.0  \n",
       "2018-03-02 01:00:00   45.0   73.0   44.0   43.0    66.0  \n",
       "2018-03-02 02:00:00   61.0   45.0   73.0   44.0    43.0  \n",
       "...                    ...    ...    ...    ...     ...  \n",
       "2018-08-31 19:00:00  166.0  136.0  167.0  191.0   203.0  \n",
       "2018-08-31 20:00:00  133.0  166.0  136.0  167.0   191.0  \n",
       "2018-08-31 21:00:00  116.0  133.0  166.0  136.0   167.0  \n",
       "2018-08-31 22:00:00  197.0  116.0  133.0  166.0   136.0  \n",
       "2018-08-31 23:00:00  217.0  197.0  116.0  133.0   166.0  \n",
       "\n",
       "[4394 rows x 17 columns]"
      ]
     },
     "execution_count": 10,
     "metadata": {},
     "output_type": "execute_result"
    }
   ],
   "source": [
    "make_features(df, 10, 10)\n",
    "df"
   ]
  },
  {
   "cell_type": "code",
   "execution_count": 11,
   "metadata": {},
   "outputs": [],
   "source": [
    "#разделение выборок\n",
    "train, test = train_test_split(df, shuffle=False, test_size=0.1)\n",
    "train = train.dropna()\n",
    "test = test.dropna()\n",
    "#определение признаков и цели\n",
    "features_train = train.drop(['num_orders'], axis=1)\n",
    "target_train = train['num_orders']\n",
    "features_test = test.drop(['num_orders'], axis=1)\n",
    "target_test = test['num_orders']"
   ]
  },
  {
   "cell_type": "code",
   "execution_count": 12,
   "metadata": {},
   "outputs": [
    {
     "name": "stdout",
     "output_type": "stream",
     "text": [
      "(3954, 17) 2018-03-01 22:00:00 2018-08-13 15:00:00\n",
      "(440, 17) 2018-08-13 16:00:00 2018-08-31 23:00:00\n"
     ]
    }
   ],
   "source": [
    "#проверка размерности и последовательности выборок\n",
    "print(train.shape, train.index.min(), train.index.max())\n",
    "print(test.shape, test.index.min(), test.index.max())"
   ]
  },
  {
   "cell_type": "markdown",
   "metadata": {},
   "source": [
    "<div class=\"alert alert-block alert-success\">\n",
    "<b>Успех:</b> разбиение было сделано верно.\n",
    "</div>"
   ]
  },
  {
   "cell_type": "code",
   "execution_count": 13,
   "metadata": {},
   "outputs": [],
   "source": [
    "def train_and_show_rmse(model, title):\n",
    "    model = model\n",
    "    model.fit(features_train, target_train)\n",
    "    train_pred = model.predict(features_train)\n",
    "    test_pred = model.predict(features_test)\n",
    "    print(title)\n",
    "    print(\"RMSE обучающей выборки:\", mean_squared_error(target_train, train_pred)**0.5)\n",
    "    print(\"RMSE тестовой выборки: \", mean_squared_error(target_test, test_pred)**0.5)"
   ]
  },
  {
   "cell_type": "markdown",
   "metadata": {},
   "source": [
    "### Вывод"
   ]
  },
  {
   "cell_type": "markdown",
   "metadata": {},
   "source": [
    "Были добавлены признаки. Проведено разделение выборок и проверена размерность выборок. "
   ]
  },
  {
   "cell_type": "markdown",
   "metadata": {},
   "source": [
    "## Тестирование"
   ]
  },
  {
   "cell_type": "code",
   "execution_count": 14,
   "metadata": {},
   "outputs": [
    {
     "name": "stdout",
     "output_type": "stream",
     "text": [
      "LinearRegression\n",
      "RMSE обучающей выборки: 30.251016334230222\n",
      "RMSE тестовой выборки:  53.155187822111635\n"
     ]
    }
   ],
   "source": [
    "\n",
    "train_and_show_rmse(LinearRegression(), 'LinearRegression')"
   ]
  },
  {
   "cell_type": "code",
   "execution_count": 15,
   "metadata": {},
   "outputs": [
    {
     "name": "stdout",
     "output_type": "stream",
     "text": [
      "RandomForestRegressor\n",
      "RMSE обучающей выборки: 7.974715285810015\n",
      "RMSE тестовой выборки:  41.262614781862325\n"
     ]
    }
   ],
   "source": [
    "\n",
    "train_and_show_rmse(RandomForestRegressor(), 'RandomForestRegressor')"
   ]
  },
  {
   "cell_type": "code",
   "execution_count": 16,
   "metadata": {},
   "outputs": [
    {
     "name": "stdout",
     "output_type": "stream",
     "text": [
      "LGBMRegressor\n",
      "RMSE обучающей выборки: 12.780307175515087\n",
      "RMSE тестовой выборки:  41.19112266844903\n"
     ]
    }
   ],
   "source": [
    "\n",
    "train_and_show_rmse(LGBMRegressor(), 'LGBMRegressor')"
   ]
  },
  {
   "cell_type": "code",
   "execution_count": 17,
   "metadata": {},
   "outputs": [],
   "source": [
    "# Подбор параметров\n",
    "tscv = TimeSeriesSplit(n_splits=5)"
   ]
  },
  {
   "cell_type": "markdown",
   "metadata": {},
   "source": [
    "### Линейная регресия"
   ]
  },
  {
   "cell_type": "code",
   "execution_count": 18,
   "metadata": {},
   "outputs": [],
   "source": [
    "lr_params = {'fit_intercept':[True,False], 'normalize':[True,False], 'copy_X':[True, False], 'n_jobs' : [None, -1]}"
   ]
  },
  {
   "cell_type": "code",
   "execution_count": 23,
   "metadata": {},
   "outputs": [
    {
     "name": "stdout",
     "output_type": "stream",
     "text": [
      "Лучшие гиперпараметры:  {'copy_X': True, 'fit_intercept': False, 'n_jobs': None, 'normalize': True}\n",
      "RMSE тестовой выборки:  52.60849845074792\n"
     ]
    }
   ],
   "source": [
    "\n",
    "#lr_grid = GridSearchCV(LinearRegression(), param_grid = lr_params, refit=False, scoring='neg_mean_squared_error', cv=tscv)\n",
    "#lr_grid.fit(features_train, target_train)\n",
    "\n",
    "#lr_best_params = lr_grid.best_params_\n",
    "#lr_m = LinearRegression(**lr_best_params)\n",
    "#lr_m.fit(features_train, target_train)\n",
    "    \n",
    "#lr_test_pred = lr_m.predict(features_test)\n",
    "\n",
    "#print('Лучшие гиперпараметры: ', lr_best_params)\n",
    "#print(\"RMSE тестовой выборки: \", mean_squared_error(target_test, lr_test_pred)**0.5)\n",
    "\n"
   ]
  },
  {
   "cell_type": "markdown",
   "metadata": {},
   "source": [
    "Лучшие гиперпараметры:  {'copy_X': True, 'fit_intercept': False, 'n_jobs': None, 'normalize': True}\n",
    "\n",
    "RMSE тестовой выборки:  52.60849845074792"
   ]
  },
  {
   "cell_type": "markdown",
   "metadata": {},
   "source": [
    "<div class=\"alert alert-block alert-success\">\n",
    "<b>Успех:</b> Отлично, что для подбора параметров использовался метод основанный на кросс-валидации с подходящим под данные сплитеттером!\n",
    "</div>"
   ]
  },
  {
   "cell_type": "markdown",
   "metadata": {},
   "source": [
    "### Случайный лес"
   ]
  },
  {
   "cell_type": "code",
   "execution_count": 19,
   "metadata": {},
   "outputs": [],
   "source": [
    "#rf_params = {\n",
    "#        'n_estimators' : range(50, 101, 10),\n",
    "#        'max_depth' : range(5, 15, 2),\n",
    "#        'verbose' : [0],\n",
    "#        'random_state' : [RND] \n",
    "#        }"
   ]
  },
  {
   "cell_type": "code",
   "execution_count": 20,
   "metadata": {},
   "outputs": [
    {
     "name": "stdout",
     "output_type": "stream",
     "text": [
      "Лучшие гиперпараметры:  {'max_depth': 13, 'n_estimators': 100, 'random_state': 12345, 'verbose': 0}\n",
      "RMSE тестовой выборки:  42.20939727039785\n"
     ]
    }
   ],
   "source": [
    "\n",
    "#rf_grid = GridSearchCV(RandomForestRegressor(), param_grid = rf_params, refit=False, scoring='neg_mean_squared_error', cv=tscv)\n",
    "#rf_grid.fit(features_train, target_train)\n",
    "\n",
    "#rf_best_params = rf_grid.best_params_\n",
    "#rf_m = RandomForestRegressor(**rf_best_params)\n",
    "#rf_m.fit(features_train, target_train)\n",
    "    \n",
    "#rf_test_pred = rf_m.predict(features_test)\n",
    "\n",
    "#print('Лучшие гиперпараметры: ', rf_best_params)\n",
    "#print(\"RMSE тестовой выборки: \", mean_squared_error(target_test, rf_test_pred)**0.5)"
   ]
  },
  {
   "cell_type": "markdown",
   "metadata": {},
   "source": [
    "Лучшие гиперпараметры:  {'max_depth': 13, 'n_estimators': 100, 'random_state': 12345, 'verbose': 0}\n",
    "\n",
    "RMSE тестовой выборки:  42.20939727039785"
   ]
  },
  {
   "cell_type": "markdown",
   "metadata": {},
   "source": [
    "### LGBMRegressor"
   ]
  },
  {
   "cell_type": "code",
   "execution_count": 21,
   "metadata": {},
   "outputs": [],
   "source": [
    "#lgb_params = {\n",
    "#        'num_leaves' : range(10, 101, 20),\n",
    "#        'learning_rate' : [0.1, 0.3, 0.5],\n",
    "#        'random_state' : [RND] \n",
    "#        }\n"
   ]
  },
  {
   "cell_type": "code",
   "execution_count": 22,
   "metadata": {},
   "outputs": [
    {
     "name": "stdout",
     "output_type": "stream",
     "text": [
      "Лучшие гиперпараметры:  {'learning_rate': 0.1, 'num_leaves': 30, 'random_state': 12345}\n",
      "RMSE тестовой выборки:  40.394144369512595\n"
     ]
    }
   ],
   "source": [
    "\n",
    "#lgb_grid = GridSearchCV(LGBMRegressor(), param_grid = lgb_params, refit=False, scoring='neg_mean_squared_error', cv=tscv)\n",
    "#lgb_grid.fit(features_train, target_train)\n",
    "\n",
    "#lgb_best_params = lgb_grid.best_params_\n",
    "#lgb_m = LGBMRegressor(**lgb_best_params)\n",
    "#lgb_m.fit(features_train, target_train)\n",
    "    \n",
    "#lgb_test_pred = lgb_m.predict(features_test)\n",
    "\n",
    "#print('Лучшие гиперпараметры: ', lgb_best_params)\n",
    "#print(\"RMSE тестовой выборки: \", mean_squared_error(target_test, lgb_test_pred)**0.5)"
   ]
  },
  {
   "cell_type": "markdown",
   "metadata": {},
   "source": [
    "Лучшие гиперпараметры:  {'learning_rate': 0.1, 'num_leaves': 30, 'random_state': 12345}\n",
    "\n",
    "RMSE тестовой выборки:  40.394144369512595"
   ]
  },
  {
   "cell_type": "markdown",
   "metadata": {},
   "source": [
    "<div class=\"alert alert-block alert-success\">\n",
    "<b>Успех:</b> Молодец, что попробовал разные модели в этом шаге!\n",
    "</div>"
   ]
  },
  {
   "cell_type": "markdown",
   "metadata": {},
   "source": [
    "<div class=\"alert alert-block alert-success\">\n",
    "<b>Успех:</b> Тестирование было сделано верно.\n",
    "</div>"
   ]
  },
  {
   "cell_type": "markdown",
   "metadata": {},
   "source": [
    "<div class=\"alert alert-block alert-info\">\n",
    "<b>Совет: </b> Финальные предсказания можно было визуализирвоать: графики исходного и предсказанных рядов.\n",
    "</div>"
   ]
  },
  {
   "cell_type": "markdown",
   "metadata": {},
   "source": [
    "<div class=\"alert alert-block alert-warning\">\n",
    "<b>Комментарий студента:</b> Я не знаю как это сделать. Подскажи, пожалуйста.\n",
    "</div>"
   ]
  },
  {
   "cell_type": "markdown",
   "metadata": {},
   "source": [
    "<div class=\"alert alert-block alert-info\">\n",
    "<b>Совет (ревью 2): </b> Через plt.plot(). В самом начала ты строил графики. Вот тут надо такие же, только настоящий и предсказанный.\n",
    "</div>"
   ]
  },
  {
   "cell_type": "markdown",
   "metadata": {},
   "source": [
    "# подбор параметров закоментил для сокрашения времени проверки"
   ]
  },
  {
   "cell_type": "markdown",
   "metadata": {},
   "source": [
    "### Вывод"
   ]
  },
  {
   "cell_type": "markdown",
   "metadata": {},
   "source": [
    "Было проведено тестирование с подбором лучших гиперпараметров. Лучше всего себя проявила модель LGBMRegressor при гиперпараметрах: {'learning_rate': 0.1, 'num_leaves': 30, 'random_state': 12345}  RMSE тестовой выборки = 40.39. \n",
    "\n",
    "Немногим хуже оказалась модель Случайный лес RMSE тестовой выборки: 42.20. \n",
    "\n",
    "Модель линейная регресия в аутсайдерах RMSE тестовой выборки: 52.60"
   ]
  },
  {
   "cell_type": "markdown",
   "metadata": {},
   "source": [
    "<div class=\"alert alert-block alert-success\">\n",
    "<b>Успех:</b> Приятно видеть вывод в конце проекта!\n",
    "</div>"
   ]
  },
  {
   "cell_type": "markdown",
   "metadata": {},
   "source": [
    "## Чек-лист проверки"
   ]
  },
  {
   "cell_type": "markdown",
   "metadata": {},
   "source": [
    "- [x]  Jupyter Notebook открыт\n",
    "- [ ]  Весь код выполняется без ошибок\n",
    "- [ ]  Ячейки с кодом расположены в порядке исполнения\n",
    "- [ ]  Данные загружены и подготовлены\n",
    "- [ ]  Данные проанализированы\n",
    "- [ ]  Модель обучена, гиперпараметры подобраны\n",
    "- [ ]  Качество моделей проверено, выводы сделаны\n",
    "- [ ]  Значение *RMSE* на тестовой выборке не больше 48"
   ]
  }
 ],
 "metadata": {
  "ExecuteTimeLog": [
   {
    "duration": 2305,
    "start_time": "2022-05-04T11:42:29.521Z"
   },
   {
    "duration": 58,
    "start_time": "2022-05-04T11:44:48.705Z"
   },
   {
    "duration": 93,
    "start_time": "2022-05-04T11:53:10.516Z"
   },
   {
    "duration": 59,
    "start_time": "2022-05-04T11:53:14.609Z"
   },
   {
    "duration": 57,
    "start_time": "2022-05-04T11:53:28.938Z"
   },
   {
    "duration": 59,
    "start_time": "2022-05-04T11:54:18.913Z"
   },
   {
    "duration": 53,
    "start_time": "2022-05-04T11:54:27.265Z"
   },
   {
    "duration": 50,
    "start_time": "2022-05-04T11:54:52.545Z"
   },
   {
    "duration": 54,
    "start_time": "2022-05-04T11:55:46.943Z"
   },
   {
    "duration": 4,
    "start_time": "2022-05-04T12:05:31.146Z"
   },
   {
    "duration": 61,
    "start_time": "2022-05-04T12:05:31.153Z"
   },
   {
    "duration": 316,
    "start_time": "2022-05-04T12:05:31.216Z"
   },
   {
    "duration": 294,
    "start_time": "2022-05-04T12:13:07.117Z"
   },
   {
    "duration": 61,
    "start_time": "2022-05-04T12:14:23.731Z"
   },
   {
    "duration": 136,
    "start_time": "2022-05-04T12:14:47.552Z"
   },
   {
    "duration": 348,
    "start_time": "2022-05-04T12:15:16.766Z"
   },
   {
    "duration": 266,
    "start_time": "2022-05-04T12:15:31.511Z"
   },
   {
    "duration": 13,
    "start_time": "2022-05-04T12:18:37.045Z"
   },
   {
    "duration": 11,
    "start_time": "2022-05-04T12:19:09.298Z"
   },
   {
    "duration": 277,
    "start_time": "2022-05-04T12:19:18.889Z"
   },
   {
    "duration": 21,
    "start_time": "2022-05-04T12:21:57.607Z"
   },
   {
    "duration": 10,
    "start_time": "2022-05-04T12:22:34.852Z"
   },
   {
    "duration": 363,
    "start_time": "2022-05-04T12:22:38.357Z"
   },
   {
    "duration": 460,
    "start_time": "2022-05-04T12:25:47.714Z"
   },
   {
    "duration": 370,
    "start_time": "2022-05-04T12:26:13.831Z"
   },
   {
    "duration": 11,
    "start_time": "2022-05-04T12:27:13.678Z"
   },
   {
    "duration": 32,
    "start_time": "2022-05-04T12:27:23.366Z"
   },
   {
    "duration": 34,
    "start_time": "2022-05-04T13:26:08.483Z"
   },
   {
    "duration": 28,
    "start_time": "2022-05-04T13:26:18.303Z"
   },
   {
    "duration": 389,
    "start_time": "2022-05-04T13:28:07.163Z"
   },
   {
    "duration": 5,
    "start_time": "2022-05-04T13:28:46.176Z"
   },
   {
    "duration": 69,
    "start_time": "2022-05-04T13:28:46.184Z"
   },
   {
    "duration": 306,
    "start_time": "2022-05-04T13:28:46.255Z"
   },
   {
    "duration": 12,
    "start_time": "2022-05-04T13:28:46.563Z"
   },
   {
    "duration": 497,
    "start_time": "2022-05-04T13:28:46.577Z"
   },
   {
    "duration": 39,
    "start_time": "2022-05-04T13:28:47.077Z"
   },
   {
    "duration": 30,
    "start_time": "2022-05-04T13:29:02.990Z"
   },
   {
    "duration": 1735,
    "start_time": "2022-05-04T13:31:18.943Z"
   },
   {
    "duration": 71,
    "start_time": "2022-05-04T13:31:20.681Z"
   },
   {
    "duration": 345,
    "start_time": "2022-05-04T13:31:20.755Z"
   },
   {
    "duration": 16,
    "start_time": "2022-05-04T13:31:21.102Z"
   },
   {
    "duration": 466,
    "start_time": "2022-05-04T13:31:21.120Z"
   },
   {
    "duration": 167,
    "start_time": "2022-05-04T13:31:21.587Z"
   },
   {
    "duration": 20,
    "start_time": "2022-05-04T13:32:57.586Z"
   },
   {
    "duration": 11,
    "start_time": "2022-05-04T13:36:15.046Z"
   },
   {
    "duration": 371,
    "start_time": "2022-05-04T13:36:16.598Z"
   },
   {
    "duration": 9,
    "start_time": "2022-05-04T13:36:59.462Z"
   },
   {
    "duration": 355,
    "start_time": "2022-05-04T13:36:59.949Z"
   },
   {
    "duration": 9,
    "start_time": "2022-05-04T13:37:13.054Z"
   },
   {
    "duration": 374,
    "start_time": "2022-05-04T13:37:14.375Z"
   },
   {
    "duration": 25,
    "start_time": "2022-05-04T13:37:22.710Z"
   },
   {
    "duration": 21,
    "start_time": "2022-05-04T13:38:01.031Z"
   },
   {
    "duration": 57,
    "start_time": "2022-05-04T13:38:43.285Z"
   },
   {
    "duration": 4,
    "start_time": "2022-05-04T13:40:37.257Z"
   },
   {
    "duration": 64,
    "start_time": "2022-05-04T13:40:56.919Z"
   },
   {
    "duration": 12,
    "start_time": "2022-05-04T13:41:28.066Z"
   },
   {
    "duration": 4,
    "start_time": "2022-05-04T13:41:37.857Z"
   },
   {
    "duration": 7,
    "start_time": "2022-05-04T13:52:28.109Z"
   },
   {
    "duration": 64,
    "start_time": "2022-05-04T13:52:28.122Z"
   },
   {
    "duration": 396,
    "start_time": "2022-05-04T13:52:28.188Z"
   },
   {
    "duration": 24,
    "start_time": "2022-05-04T13:52:28.586Z"
   },
   {
    "duration": 504,
    "start_time": "2022-05-04T13:52:28.614Z"
   },
   {
    "duration": 3,
    "start_time": "2022-05-04T13:52:29.120Z"
   },
   {
    "duration": 7,
    "start_time": "2022-05-04T13:52:29.125Z"
   },
   {
    "duration": 79,
    "start_time": "2022-05-04T13:52:29.135Z"
   },
   {
    "duration": 20,
    "start_time": "2022-05-04T13:52:29.217Z"
   },
   {
    "duration": 6,
    "start_time": "2022-05-04T13:52:29.242Z"
   },
   {
    "duration": 5,
    "start_time": "2022-05-04T13:52:41.486Z"
   },
   {
    "duration": 6,
    "start_time": "2022-05-04T13:52:48.653Z"
   },
   {
    "duration": 67,
    "start_time": "2022-05-04T13:52:48.662Z"
   },
   {
    "duration": 407,
    "start_time": "2022-05-04T13:52:48.731Z"
   },
   {
    "duration": 12,
    "start_time": "2022-05-04T13:52:49.142Z"
   },
   {
    "duration": 624,
    "start_time": "2022-05-04T13:52:49.157Z"
   },
   {
    "duration": 3,
    "start_time": "2022-05-04T13:52:49.783Z"
   },
   {
    "duration": 29,
    "start_time": "2022-05-04T13:52:49.788Z"
   },
   {
    "duration": 59,
    "start_time": "2022-05-04T13:52:49.819Z"
   },
   {
    "duration": 14,
    "start_time": "2022-05-04T13:52:49.879Z"
   },
   {
    "duration": 12,
    "start_time": "2022-05-04T13:52:49.907Z"
   },
   {
    "duration": 8,
    "start_time": "2022-05-04T13:52:49.924Z"
   },
   {
    "duration": 5,
    "start_time": "2022-05-04T14:18:34.435Z"
   },
   {
    "duration": 53,
    "start_time": "2022-05-04T14:18:34.442Z"
   },
   {
    "duration": 262,
    "start_time": "2022-05-04T14:18:34.497Z"
   },
   {
    "duration": 9,
    "start_time": "2022-05-04T14:18:34.761Z"
   },
   {
    "duration": 368,
    "start_time": "2022-05-04T14:18:34.772Z"
   },
   {
    "duration": 3,
    "start_time": "2022-05-04T14:18:35.141Z"
   },
   {
    "duration": 8,
    "start_time": "2022-05-04T14:18:35.146Z"
   },
   {
    "duration": 64,
    "start_time": "2022-05-04T14:18:35.155Z"
   },
   {
    "duration": 12,
    "start_time": "2022-05-04T14:18:35.221Z"
   },
   {
    "duration": 4,
    "start_time": "2022-05-04T14:18:35.235Z"
   },
   {
    "duration": 9,
    "start_time": "2022-05-04T14:18:35.241Z"
   },
   {
    "duration": 69,
    "start_time": "2022-05-04T14:23:22.241Z"
   },
   {
    "duration": 3147,
    "start_time": "2022-05-04T14:23:30.511Z"
   },
   {
    "duration": 96,
    "start_time": "2022-05-04T14:28:35.212Z"
   },
   {
    "duration": 50,
    "start_time": "2022-05-04T14:28:35.310Z"
   },
   {
    "duration": 271,
    "start_time": "2022-05-04T14:28:35.362Z"
   },
   {
    "duration": 9,
    "start_time": "2022-05-04T14:28:35.634Z"
   },
   {
    "duration": 489,
    "start_time": "2022-05-04T14:28:35.645Z"
   },
   {
    "duration": 3,
    "start_time": "2022-05-04T14:28:36.137Z"
   },
   {
    "duration": 10,
    "start_time": "2022-05-04T14:28:36.141Z"
   },
   {
    "duration": 42,
    "start_time": "2022-05-04T14:28:36.153Z"
   },
   {
    "duration": 11,
    "start_time": "2022-05-04T14:28:36.208Z"
   },
   {
    "duration": 4,
    "start_time": "2022-05-04T14:28:36.221Z"
   },
   {
    "duration": 5,
    "start_time": "2022-05-04T14:28:36.226Z"
   },
   {
    "duration": 79,
    "start_time": "2022-05-04T14:28:36.232Z"
   },
   {
    "duration": 3230,
    "start_time": "2022-05-04T14:28:36.315Z"
   },
   {
    "duration": 322066,
    "start_time": "2022-05-04T14:28:39.547Z"
   },
   {
    "duration": 3,
    "start_time": "2022-05-04T14:34:01.616Z"
   },
   {
    "duration": 11,
    "start_time": "2022-05-04T14:34:01.620Z"
   },
   {
    "duration": 3878,
    "start_time": "2022-05-04T14:34:01.633Z"
   },
   {
    "duration": 5,
    "start_time": "2022-05-04T14:34:05.513Z"
   },
   {
    "duration": 114309,
    "start_time": "2022-05-04T14:34:05.520Z"
   },
   {
    "duration": 4,
    "start_time": "2022-05-04T14:35:59.831Z"
   },
   {
    "duration": 1648,
    "start_time": "2022-05-04T15:15:59.377Z"
   },
   {
    "duration": 112,
    "start_time": "2022-05-04T15:16:01.027Z"
   },
   {
    "duration": 290,
    "start_time": "2022-05-04T15:16:01.141Z"
   },
   {
    "duration": 10,
    "start_time": "2022-05-04T15:16:01.433Z"
   },
   {
    "duration": 417,
    "start_time": "2022-05-04T15:16:01.446Z"
   },
   {
    "duration": 3,
    "start_time": "2022-05-04T15:16:01.865Z"
   },
   {
    "duration": 9,
    "start_time": "2022-05-04T15:16:01.869Z"
   },
   {
    "duration": 55,
    "start_time": "2022-05-04T15:16:01.879Z"
   },
   {
    "duration": 12,
    "start_time": "2022-05-04T15:16:01.935Z"
   },
   {
    "duration": 8,
    "start_time": "2022-05-04T15:16:01.949Z"
   },
   {
    "duration": 5,
    "start_time": "2022-05-04T15:16:01.959Z"
   },
   {
    "duration": 50,
    "start_time": "2022-05-04T15:16:01.966Z"
   },
   {
    "duration": 3325,
    "start_time": "2022-05-04T15:16:02.017Z"
   },
   {
    "duration": 395068,
    "start_time": "2022-05-04T15:16:05.345Z"
   },
   {
    "duration": 2,
    "start_time": "2022-05-04T15:22:40.415Z"
   },
   {
    "duration": 5,
    "start_time": "2022-05-04T15:22:40.419Z"
   },
   {
    "duration": 3791,
    "start_time": "2022-05-04T15:22:40.425Z"
   },
   {
    "duration": 7,
    "start_time": "2022-05-04T15:22:44.218Z"
   },
   {
    "duration": 116109,
    "start_time": "2022-05-04T15:22:44.310Z"
   },
   {
    "duration": 133,
    "start_time": "2022-05-04T15:24:40.422Z"
   },
   {
    "duration": 0,
    "start_time": "2022-05-04T15:24:40.557Z"
   },
   {
    "duration": 3,
    "start_time": "2022-05-04T15:38:02.746Z"
   },
   {
    "duration": 499206,
    "start_time": "2022-05-04T15:38:06.012Z"
   },
   {
    "duration": 93,
    "start_time": "2022-05-04T16:37:02.842Z"
   },
   {
    "duration": 3,
    "start_time": "2022-05-04T16:37:18.971Z"
   },
   {
    "duration": 4284,
    "start_time": "2022-05-04T16:37:19.834Z"
   },
   {
    "duration": 6,
    "start_time": "2022-05-04T16:52:27.218Z"
   },
   {
    "duration": 5,
    "start_time": "2022-05-04T16:52:32.523Z"
   },
   {
    "duration": 68,
    "start_time": "2022-05-04T16:52:32.531Z"
   },
   {
    "duration": 269,
    "start_time": "2022-05-04T16:52:32.601Z"
   },
   {
    "duration": 10,
    "start_time": "2022-05-04T16:52:32.873Z"
   },
   {
    "duration": 360,
    "start_time": "2022-05-04T16:52:32.884Z"
   },
   {
    "duration": 2,
    "start_time": "2022-05-04T16:52:33.246Z"
   },
   {
    "duration": 6,
    "start_time": "2022-05-04T16:52:33.251Z"
   },
   {
    "duration": 84,
    "start_time": "2022-05-04T16:52:33.259Z"
   },
   {
    "duration": 13,
    "start_time": "2022-05-04T16:52:33.345Z"
   },
   {
    "duration": 4,
    "start_time": "2022-05-04T16:52:33.361Z"
   },
   {
    "duration": 8,
    "start_time": "2022-05-04T16:52:33.367Z"
   },
   {
    "duration": 234,
    "start_time": "2022-05-04T16:52:33.377Z"
   },
   {
    "duration": 3213,
    "start_time": "2022-05-04T16:52:33.613Z"
   },
   {
    "duration": 309681,
    "start_time": "2022-05-04T16:52:36.828Z"
   },
   {
    "duration": 3,
    "start_time": "2022-05-04T16:57:46.511Z"
   },
   {
    "duration": 4,
    "start_time": "2022-05-04T16:57:46.516Z"
   },
   {
    "duration": 7088,
    "start_time": "2022-05-04T16:57:46.522Z"
   },
   {
    "duration": 3,
    "start_time": "2022-05-04T16:57:53.613Z"
   },
   {
    "duration": 114802,
    "start_time": "2022-05-04T16:57:53.618Z"
   },
   {
    "duration": 3,
    "start_time": "2022-05-04T16:59:48.422Z"
   },
   {
    "duration": 56,
    "start_time": "2022-05-05T06:57:19.447Z"
   },
   {
    "duration": 2250,
    "start_time": "2022-05-05T06:57:25.630Z"
   },
   {
    "duration": 3038,
    "start_time": "2022-05-05T06:57:27.883Z"
   },
   {
    "duration": 5,
    "start_time": "2022-05-05T06:59:14.987Z"
   },
   {
    "duration": 2917,
    "start_time": "2022-05-05T06:59:14.995Z"
   },
   {
    "duration": 0,
    "start_time": "2022-05-05T06:59:17.914Z"
   },
   {
    "duration": 0,
    "start_time": "2022-05-05T06:59:17.915Z"
   },
   {
    "duration": 0,
    "start_time": "2022-05-05T06:59:17.916Z"
   },
   {
    "duration": 0,
    "start_time": "2022-05-05T06:59:17.918Z"
   },
   {
    "duration": 0,
    "start_time": "2022-05-05T06:59:17.919Z"
   },
   {
    "duration": 0,
    "start_time": "2022-05-05T06:59:17.920Z"
   },
   {
    "duration": 0,
    "start_time": "2022-05-05T06:59:17.921Z"
   },
   {
    "duration": 0,
    "start_time": "2022-05-05T06:59:17.926Z"
   },
   {
    "duration": 1,
    "start_time": "2022-05-05T06:59:17.929Z"
   },
   {
    "duration": 0,
    "start_time": "2022-05-05T06:59:17.932Z"
   },
   {
    "duration": 0,
    "start_time": "2022-05-05T06:59:17.933Z"
   },
   {
    "duration": 0,
    "start_time": "2022-05-05T06:59:17.935Z"
   },
   {
    "duration": 0,
    "start_time": "2022-05-05T06:59:17.937Z"
   },
   {
    "duration": 0,
    "start_time": "2022-05-05T06:59:17.938Z"
   },
   {
    "duration": 0,
    "start_time": "2022-05-05T06:59:17.939Z"
   },
   {
    "duration": 0,
    "start_time": "2022-05-05T06:59:17.941Z"
   },
   {
    "duration": 0,
    "start_time": "2022-05-05T06:59:17.942Z"
   },
   {
    "duration": 0,
    "start_time": "2022-05-05T06:59:17.948Z"
   },
   {
    "duration": 0,
    "start_time": "2022-05-05T06:59:17.949Z"
   },
   {
    "duration": 47,
    "start_time": "2022-05-05T06:59:41.027Z"
   },
   {
    "duration": 5194,
    "start_time": "2022-05-05T07:00:05.308Z"
   },
   {
    "duration": 54,
    "start_time": "2022-05-05T07:00:39.807Z"
   },
   {
    "duration": 4104,
    "start_time": "2022-05-05T07:01:18.050Z"
   },
   {
    "duration": 46,
    "start_time": "2022-05-05T07:02:01.762Z"
   },
   {
    "duration": 52,
    "start_time": "2022-05-05T07:02:28.215Z"
   },
   {
    "duration": 44,
    "start_time": "2022-05-05T07:02:59.155Z"
   },
   {
    "duration": 46,
    "start_time": "2022-05-05T07:04:00.859Z"
   },
   {
    "duration": 35,
    "start_time": "2022-05-05T07:04:24.707Z"
   },
   {
    "duration": 302,
    "start_time": "2022-05-05T07:04:39.833Z"
   },
   {
    "duration": 12,
    "start_time": "2022-05-05T07:04:40.538Z"
   },
   {
    "duration": 433,
    "start_time": "2022-05-05T07:04:41.929Z"
   },
   {
    "duration": 3,
    "start_time": "2022-05-05T07:04:42.818Z"
   },
   {
    "duration": 26,
    "start_time": "2022-05-05T07:04:49.933Z"
   },
   {
    "duration": 11,
    "start_time": "2022-05-05T07:06:46.271Z"
   },
   {
    "duration": 352,
    "start_time": "2022-05-05T07:06:47.544Z"
   },
   {
    "duration": 30,
    "start_time": "2022-05-05T07:07:17.768Z"
   },
   {
    "duration": 12,
    "start_time": "2022-05-05T07:10:13.349Z"
   },
   {
    "duration": 402,
    "start_time": "2022-05-05T07:10:18.557Z"
   },
   {
    "duration": 21,
    "start_time": "2022-05-05T07:10:20.246Z"
   },
   {
    "duration": 76,
    "start_time": "2022-05-05T07:13:43.755Z"
   },
   {
    "duration": 791,
    "start_time": "2022-05-05T07:14:12.591Z"
   },
   {
    "duration": 136,
    "start_time": "2022-05-05T07:14:33.825Z"
   },
   {
    "duration": 70,
    "start_time": "2022-05-05T07:15:09.673Z"
   },
   {
    "duration": 61,
    "start_time": "2022-05-05T07:16:00.942Z"
   },
   {
    "duration": 72,
    "start_time": "2022-05-05T07:18:24.076Z"
   },
   {
    "duration": 57,
    "start_time": "2022-05-05T07:19:01.470Z"
   },
   {
    "duration": 68,
    "start_time": "2022-05-05T07:19:25.700Z"
   },
   {
    "duration": 52,
    "start_time": "2022-05-05T07:23:30.154Z"
   },
   {
    "duration": 23,
    "start_time": "2022-05-05T07:27:34.029Z"
   },
   {
    "duration": 259,
    "start_time": "2022-05-05T07:28:01.572Z"
   },
   {
    "duration": 15,
    "start_time": "2022-05-05T07:28:07.052Z"
   },
   {
    "duration": 374,
    "start_time": "2022-05-05T07:28:08.907Z"
   },
   {
    "duration": 242,
    "start_time": "2022-05-05T07:28:14.980Z"
   },
   {
    "duration": 251,
    "start_time": "2022-05-05T07:28:25.490Z"
   },
   {
    "duration": 29,
    "start_time": "2022-05-05T07:29:43.947Z"
   },
   {
    "duration": 288,
    "start_time": "2022-05-05T07:29:54.747Z"
   },
   {
    "duration": 211,
    "start_time": "2022-05-05T07:30:47.966Z"
   },
   {
    "duration": 767,
    "start_time": "2022-05-05T07:31:25.800Z"
   },
   {
    "duration": 912,
    "start_time": "2022-05-05T07:31:49.017Z"
   },
   {
    "duration": 1244,
    "start_time": "2022-05-05T07:31:59.198Z"
   },
   {
    "duration": 333,
    "start_time": "2022-05-05T08:32:09.565Z"
   },
   {
    "duration": 11,
    "start_time": "2022-05-05T08:33:43.369Z"
   },
   {
    "duration": 339,
    "start_time": "2022-05-05T08:33:45.439Z"
   },
   {
    "duration": 15,
    "start_time": "2022-05-05T08:33:59.832Z"
   },
   {
    "duration": 489,
    "start_time": "2022-05-05T08:34:00.625Z"
   },
   {
    "duration": 3,
    "start_time": "2022-05-05T08:35:26.677Z"
   },
   {
    "duration": 15,
    "start_time": "2022-05-05T08:36:29.302Z"
   },
   {
    "duration": 351,
    "start_time": "2022-05-05T08:38:04.516Z"
   },
   {
    "duration": 1089,
    "start_time": "2022-05-05T08:38:25.970Z"
   },
   {
    "duration": 960,
    "start_time": "2022-05-05T08:38:41.644Z"
   },
   {
    "duration": 19,
    "start_time": "2022-05-05T08:39:45.736Z"
   },
   {
    "duration": 953,
    "start_time": "2022-05-05T08:39:55.130Z"
   },
   {
    "duration": 1073,
    "start_time": "2022-05-05T08:41:01.592Z"
   },
   {
    "duration": 988,
    "start_time": "2022-05-05T08:42:19.903Z"
   },
   {
    "duration": 1050,
    "start_time": "2022-05-05T08:42:46.576Z"
   },
   {
    "duration": 872,
    "start_time": "2022-05-05T08:43:12.061Z"
   },
   {
    "duration": 983,
    "start_time": "2022-05-05T08:44:20.244Z"
   },
   {
    "duration": 351,
    "start_time": "2022-05-05T08:44:57.365Z"
   },
   {
    "duration": 365,
    "start_time": "2022-05-05T08:46:32.522Z"
   },
   {
    "duration": 878,
    "start_time": "2022-05-05T08:48:11.442Z"
   },
   {
    "duration": 311,
    "start_time": "2022-05-05T08:56:41.362Z"
   },
   {
    "duration": 5,
    "start_time": "2022-05-05T09:02:54.015Z"
   },
   {
    "duration": 45,
    "start_time": "2022-05-05T09:02:54.022Z"
   },
   {
    "duration": 22,
    "start_time": "2022-05-05T09:02:54.069Z"
   },
   {
    "duration": 282,
    "start_time": "2022-05-05T09:02:54.092Z"
   },
   {
    "duration": 14,
    "start_time": "2022-05-05T09:02:54.377Z"
   },
   {
    "duration": 445,
    "start_time": "2022-05-05T09:02:54.393Z"
   },
   {
    "duration": 1214,
    "start_time": "2022-05-05T09:02:54.841Z"
   },
   {
    "duration": 6,
    "start_time": "2022-05-05T09:02:56.057Z"
   },
   {
    "duration": 77,
    "start_time": "2022-05-05T09:02:56.065Z"
   },
   {
    "duration": 15,
    "start_time": "2022-05-05T09:02:56.144Z"
   },
   {
    "duration": 5,
    "start_time": "2022-05-05T09:02:56.162Z"
   },
   {
    "duration": 6,
    "start_time": "2022-05-05T09:02:56.169Z"
   },
   {
    "duration": 244,
    "start_time": "2022-05-05T09:02:56.179Z"
   },
   {
    "duration": 4152,
    "start_time": "2022-05-05T09:02:56.425Z"
   },
   {
    "duration": 165465,
    "start_time": "2022-05-05T09:03:00.579Z"
   },
   {
    "duration": 76,
    "start_time": "2022-05-05T09:05:46.047Z"
   },
   {
    "duration": 7,
    "start_time": "2022-05-05T09:05:46.126Z"
   },
   {
    "duration": 5988,
    "start_time": "2022-05-05T09:05:46.136Z"
   },
   {
    "duration": 5,
    "start_time": "2022-05-05T09:05:52.126Z"
   },
   {
    "duration": 122422,
    "start_time": "2022-05-05T09:05:52.134Z"
   },
   {
    "duration": 3,
    "start_time": "2022-05-05T09:07:54.558Z"
   },
   {
    "duration": 2080,
    "start_time": "2022-05-05T09:19:27.513Z"
   },
   {
    "duration": 54,
    "start_time": "2022-05-05T09:19:29.597Z"
   },
   {
    "duration": 25,
    "start_time": "2022-05-05T09:19:29.653Z"
   },
   {
    "duration": 331,
    "start_time": "2022-05-05T09:19:29.680Z"
   },
   {
    "duration": 205,
    "start_time": "2022-05-05T09:19:30.015Z"
   },
   {
    "duration": 0,
    "start_time": "2022-05-05T09:19:30.222Z"
   },
   {
    "duration": 0,
    "start_time": "2022-05-05T09:19:30.224Z"
   },
   {
    "duration": 0,
    "start_time": "2022-05-05T09:19:30.226Z"
   },
   {
    "duration": 0,
    "start_time": "2022-05-05T09:19:30.228Z"
   },
   {
    "duration": 0,
    "start_time": "2022-05-05T09:19:30.230Z"
   },
   {
    "duration": 0,
    "start_time": "2022-05-05T09:19:30.231Z"
   },
   {
    "duration": 0,
    "start_time": "2022-05-05T09:19:30.233Z"
   },
   {
    "duration": 0,
    "start_time": "2022-05-05T09:19:30.235Z"
   },
   {
    "duration": 0,
    "start_time": "2022-05-05T09:19:30.236Z"
   },
   {
    "duration": 0,
    "start_time": "2022-05-05T09:19:30.238Z"
   },
   {
    "duration": 0,
    "start_time": "2022-05-05T09:19:30.239Z"
   },
   {
    "duration": 0,
    "start_time": "2022-05-05T09:19:30.241Z"
   },
   {
    "duration": 0,
    "start_time": "2022-05-05T09:19:30.243Z"
   },
   {
    "duration": 0,
    "start_time": "2022-05-05T09:19:30.244Z"
   },
   {
    "duration": 0,
    "start_time": "2022-05-05T09:19:30.246Z"
   },
   {
    "duration": 0,
    "start_time": "2022-05-05T09:19:30.248Z"
   },
   {
    "duration": 0,
    "start_time": "2022-05-05T09:19:30.249Z"
   },
   {
    "duration": 7,
    "start_time": "2022-05-05T09:19:50.287Z"
   },
   {
    "duration": 65,
    "start_time": "2022-05-05T09:19:50.296Z"
   },
   {
    "duration": 31,
    "start_time": "2022-05-05T09:19:50.363Z"
   },
   {
    "duration": 526,
    "start_time": "2022-05-05T09:19:50.396Z"
   },
   {
    "duration": 13,
    "start_time": "2022-05-05T09:19:50.926Z"
   },
   {
    "duration": 375,
    "start_time": "2022-05-05T09:19:50.941Z"
   },
   {
    "duration": 849,
    "start_time": "2022-05-05T09:19:51.318Z"
   },
   {
    "duration": 4,
    "start_time": "2022-05-05T09:19:52.169Z"
   },
   {
    "duration": 55,
    "start_time": "2022-05-05T09:19:52.175Z"
   },
   {
    "duration": 13,
    "start_time": "2022-05-05T09:19:52.232Z"
   },
   {
    "duration": 10,
    "start_time": "2022-05-05T09:19:52.247Z"
   },
   {
    "duration": 5,
    "start_time": "2022-05-05T09:19:52.259Z"
   },
   {
    "duration": 160,
    "start_time": "2022-05-05T09:19:52.266Z"
   },
   {
    "duration": 4307,
    "start_time": "2022-05-05T09:19:52.430Z"
   },
   {
    "duration": 136500,
    "start_time": "2022-05-05T09:19:56.739Z"
   },
   {
    "duration": 3,
    "start_time": "2022-05-05T09:22:13.240Z"
   },
   {
    "duration": 80,
    "start_time": "2022-05-05T09:22:13.245Z"
   },
   {
    "duration": 9611,
    "start_time": "2022-05-05T09:22:13.327Z"
   },
   {
    "duration": 4,
    "start_time": "2022-05-05T09:22:23.022Z"
   },
   {
    "duration": 1860,
    "start_time": "2022-05-05T09:32:47.180Z"
   },
   {
    "duration": 64,
    "start_time": "2022-05-05T09:32:49.043Z"
   },
   {
    "duration": 36,
    "start_time": "2022-05-05T09:32:49.109Z"
   },
   {
    "duration": 324,
    "start_time": "2022-05-05T09:32:49.147Z"
   },
   {
    "duration": 14,
    "start_time": "2022-05-05T09:32:49.474Z"
   },
   {
    "duration": 411,
    "start_time": "2022-05-05T09:32:49.490Z"
   },
   {
    "duration": 891,
    "start_time": "2022-05-05T09:32:49.903Z"
   },
   {
    "duration": 4,
    "start_time": "2022-05-05T09:32:50.796Z"
   },
   {
    "duration": 60,
    "start_time": "2022-05-05T09:32:50.802Z"
   },
   {
    "duration": 12,
    "start_time": "2022-05-05T09:32:50.864Z"
   },
   {
    "duration": 19,
    "start_time": "2022-05-05T09:32:50.878Z"
   },
   {
    "duration": 6,
    "start_time": "2022-05-05T09:32:50.899Z"
   },
   {
    "duration": 122,
    "start_time": "2022-05-05T09:32:50.907Z"
   },
   {
    "duration": 4253,
    "start_time": "2022-05-05T09:32:51.033Z"
   },
   {
    "duration": 203038,
    "start_time": "2022-05-05T09:32:55.288Z"
   },
   {
    "duration": 3,
    "start_time": "2022-05-05T09:36:18.328Z"
   },
   {
    "duration": 5,
    "start_time": "2022-05-05T09:36:18.333Z"
   },
   {
    "duration": 10084,
    "start_time": "2022-05-05T09:36:18.340Z"
   },
   {
    "duration": 4,
    "start_time": "2022-05-05T09:36:28.427Z"
   },
   {
    "duration": 121054,
    "start_time": "2022-05-05T09:36:28.434Z"
   },
   {
    "duration": 3,
    "start_time": "2022-05-05T09:38:29.490Z"
   },
   {
    "duration": 957437,
    "start_time": "2022-05-05T09:38:29.495Z"
   },
   {
    "duration": 78,
    "start_time": "2022-05-06T07:19:31.507Z"
   },
   {
    "duration": 2480,
    "start_time": "2022-05-06T07:19:45.407Z"
   },
   {
    "duration": 155,
    "start_time": "2022-05-06T07:19:47.890Z"
   },
   {
    "duration": 33,
    "start_time": "2022-05-06T07:19:48.047Z"
   },
   {
    "duration": 451,
    "start_time": "2022-05-06T07:19:50.708Z"
   },
   {
    "duration": 16,
    "start_time": "2022-05-06T07:19:52.203Z"
   },
   {
    "duration": 621,
    "start_time": "2022-05-06T07:19:52.867Z"
   },
   {
    "duration": 1236,
    "start_time": "2022-05-06T07:19:53.747Z"
   },
   {
    "duration": 6,
    "start_time": "2022-05-06T07:19:58.893Z"
   },
   {
    "duration": 41,
    "start_time": "2022-05-06T07:20:09.145Z"
   },
   {
    "duration": 12,
    "start_time": "2022-05-06T07:20:10.442Z"
   },
   {
    "duration": 4,
    "start_time": "2022-05-06T07:20:11.770Z"
   },
   {
    "duration": 3,
    "start_time": "2022-05-06T07:20:13.954Z"
   },
   {
    "duration": 71,
    "start_time": "2022-05-06T07:20:16.252Z"
   },
   {
    "duration": 3326,
    "start_time": "2022-05-06T07:20:16.673Z"
   },
   {
    "duration": 13646,
    "start_time": "2022-05-06T07:20:20.001Z"
   },
   {
    "duration": 3,
    "start_time": "2022-05-06T07:20:33.651Z"
   },
   {
    "duration": 3,
    "start_time": "2022-05-06T07:20:36.447Z"
   },
   {
    "duration": 85,
    "start_time": "2022-05-06T07:20:40.212Z"
   },
   {
    "duration": 13,
    "start_time": "2022-05-06T07:21:22.934Z"
   },
   {
    "duration": 11450,
    "start_time": "2022-05-06T07:21:47.180Z"
   },
   {
    "duration": 15362,
    "start_time": "2022-05-06T07:24:25.184Z"
   },
   {
    "duration": 11202,
    "start_time": "2022-05-06T07:36:38.834Z"
   }
  ],
  "kernelspec": {
   "display_name": "Python 3 (ipykernel)",
   "language": "python",
   "name": "python3"
  },
  "language_info": {
   "codemirror_mode": {
    "name": "ipython",
    "version": 3
   },
   "file_extension": ".py",
   "mimetype": "text/x-python",
   "name": "python",
   "nbconvert_exporter": "python",
   "pygments_lexer": "ipython3",
   "version": "3.9.5"
  },
  "toc": {
   "base_numbering": 1,
   "nav_menu": {},
   "number_sections": true,
   "sideBar": true,
   "skip_h1_title": true,
   "title_cell": "Содержание",
   "title_sidebar": "Contents",
   "toc_cell": true,
   "toc_position": {},
   "toc_section_display": true,
   "toc_window_display": true
  }
 },
 "nbformat": 4,
 "nbformat_minor": 2
}
